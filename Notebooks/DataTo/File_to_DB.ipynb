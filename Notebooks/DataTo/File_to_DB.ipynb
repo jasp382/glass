{
 "cells": [
  {
   "cell_type": "markdown",
   "metadata": {},
   "source": [
    "### Table to Database Table ###"
   ]
  },
  {
   "cell_type": "code",
   "execution_count": null,
   "metadata": {},
   "outputs": [],
   "source": [
    "from gasp.sql.to import tbl_to_db\n",
    "\n",
    "TABLE_FILE = '/mnt/d/gpto/osm2lulc_imgcls/osm_tags'\n",
    "\n",
    "DB = '/mnt/d/gpto/osm2lulc_imgcls/osm_tags/osmtolulc.sqlite'\n",
    "\n",
    "SHEET = 0\n",
    "\n",
    "mapCols = None\n",
    "OUT_TBL = None\n",
    "\n",
    "API = 'sqlite'\n",
    "\n",
    "tbl_to_db(\n",
    "    TABLE_FILE, DB, OUT_TBL, delimiter=None, encoding_='utf-8',\n",
    "    sheet=SHEET, isAppend=True, api_db=API, colsMap=mapCols\n",
    ")"
   ]
  },
  {
   "cell_type": "markdown",
   "metadata": {},
   "source": [
    "### Feature Class to Database ###"
   ]
  },
  {
   "cell_type": "code",
   "execution_count": null,
   "metadata": {},
   "outputs": [],
   "source": [
    "from gasp.gql.to import shp_to_psql\n",
    "from gasp.gt.prop.prj import get_epsg_shp\n",
    "\n",
    "in_shp = '/home/jasp/mrgis/lgeoserver/polygons_coimbra.shp'\n",
    "dbname = 'lgeoserver'\n",
    "\n",
    "EPSG = get_epsg_shp(in_shp)\n",
    "\n",
    "#COLS_MAP = {'id_lyr' : 'lyrid', 'cat' : 'cat', 'idf' : 'fid'}\n",
    "\n",
    "PG_TABLE=\"ply_coimbra\"\n",
    "\n",
    "shp_to_psql(dbname, in_shp, srsEpsgCode=EPSG, pgTable=PG_TABLE, api=\"shp2pgsql\", mapCols=None, dbset='default')"
   ]
  },
  {
   "cell_type": "markdown",
   "metadata": {},
   "source": [
    "### Raster to PostgreSQL Table ###\n",
    "\n",
    "Este método tem um problema específico: num GeoTiff, os dados estão comprimidos, assim, um ficheiro \n",
    "com 6GB pode ter poucos MB porque está compactado; quando convertido para tabela PSQL, esses dados, em princípio, ocuparão 6GB.\n",
    "Há forma de compactar os dados dentro do PostgreSQL?"
   ]
  },
  {
   "cell_type": "code",
   "execution_count": null,
   "metadata": {},
   "outputs": [],
   "source": [
    "import os\n",
    "from gasp.pyt.oss import fprop\n",
    "from gasp.to.psql  import rst_to_psql\n",
    "\n",
    "IN_RASTER = r'D:\\path\\to\\rst.tif'\n",
    "CON_PARAM = {\n",
    "    'HOST': 'localhost', 'PORT': '5432',\n",
    "    'PASSWORD': 'admin', 'USER': 'postgres',\n",
    "    'DATABASE': 'db_name'\n",
    "}\n",
    "EPSG = 3763\n",
    "\n",
    "rst_to_psql(IN_RASTER, EPSG, lnk=CON_PARAM, sql_script=os.path.join(\n",
    "    os.path.dirname(IN_RASTER), fprop(IN_RASTER, 'fn') + '.sql'\n",
    "))"
   ]
  },
  {
   "cell_type": "markdown",
   "metadata": {},
   "source": [
    "### Folder with TXT Files to PostgreSQL Database ###\n",
    "\n",
    "Create a new database and add each TXT in Folder as PSQL Table. "
   ]
  },
  {
   "cell_type": "code",
   "execution_count": null,
   "metadata": {},
   "outputs": [],
   "source": [
    "from gasp.topsql import txts_to_newdb\n",
    "\n",
    "CON_PARAM = {\n",
    "    \"HOST\"     : \"localhost\", \"PORT\" : \"5432\", \"USER\" : \"postgres\",\n",
    "    \"PASSWORD\" : \"admin\", \"TEMPLATE\" : \"postgis_template\"\n",
    "}\n",
    "\n",
    "TXT_FOLDER = r'D:\\gis\\TRENMO_WEBAPP\\GTFS'\n",
    "\n",
    "NEW_DB = \"trenmogtfs\"\n",
    "\n",
    "DELIMITER = \",\"\n",
    "\n",
    "txts_to_newdb(CON_PARAM, TXT_FOLDER, NEW_DB, DELIMITER, rewrite=True)"
   ]
  },
  {
   "cell_type": "markdown",
   "metadata": {},
   "source": [
    "### Restore Table Dumps ###"
   ]
  },
  {
   "cell_type": "code",
   "execution_count": null,
   "metadata": {},
   "outputs": [],
   "source": [
    "from gasp.sql.to import restore_tbls\n",
    "from gasp.sql.db import create_db\n",
    "\n",
    "db = 'osm_centro_tst'\n",
    "sql = '/mnt/d/gwork/osm_flainar/osmflainar_centropt.sql'\n",
    "\n",
    "create_db(db)\n",
    "restore_tbls(db, sql, tablenames=None)"
   ]
  },
  {
   "cell_type": "code",
   "execution_count": null,
   "metadata": {},
   "outputs": [],
   "source": []
  }
 ],
 "metadata": {
  "kernelspec": {
   "display_name": "Python 3",
   "language": "python",
   "name": "python3"
  },
  "language_info": {
   "codemirror_mode": {
    "name": "ipython",
    "version": 3
   },
   "file_extension": ".py",
   "mimetype": "text/x-python",
   "name": "python",
   "nbconvert_exporter": "python",
   "pygments_lexer": "ipython3",
   "version": "3.6.9"
  }
 },
 "nbformat": 4,
 "nbformat_minor": 2
}
