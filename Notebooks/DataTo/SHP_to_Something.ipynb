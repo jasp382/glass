{
 "cells": [
  {
   "cell_type": "markdown",
   "metadata": {},
   "source": [
    "### Folder with SHP to SHP with other formats  ###"
   ]
  },
  {
   "cell_type": "code",
   "execution_count": 2,
   "metadata": {},
   "outputs": [],
   "source": [
    "import os\n",
    "from gasp.gt.toshp.cff import shp_to_shp\n",
    "from gasp.pyt.oss import lst_ff, fprop\n",
    "\n",
    "IN_FOLDER      = '/mnt/d/gwork/prog_webgis/meteo'\n",
    "OUT_FOLDER     = '/mnt/d/gwork/prog_webgis/meteo'\n",
    "IN_SHP_FORMAT  = '.json'\n",
    "OUT_SHP_FORMAT = '.shp'\n",
    "\n",
    "inShps = lst_ff(IN_FOLDER, file_format=IN_SHP_FORMAT)\n",
    "\n",
    "for shp in inShps:\n",
    "    shp_to_shp(shp, os.path.join(OUT_FOLDER, fprop(shp, 'fn') + OUT_SHP_FORMAT))"
   ]
  },
  {
   "cell_type": "markdown",
   "metadata": {},
   "source": [
    "### SHP in Folder to GeoPackage File ###"
   ]
  },
  {
   "cell_type": "code",
   "execution_count": null,
   "metadata": {},
   "outputs": [],
   "source": [
    "import os\n",
    "from gasp.gt.toshp.cff import shps_to_gpkg\n",
    "\n",
    "gpkg = {\n",
    "    \"clc18_l2_10x10.gpkg\" : '/home/jasp/fireloc/leg_clc18_l2.dbf',\n",
    "    \"clc18_l3_10x10.gpkg\" : '/home/jasp/fireloc/leg_clc18.dbf',\n",
    "    \"cos15_l3_10x10.gpkg\" : '/home/jasp/fireloc/leg_cos15_l3.dbf',\n",
    "    \"cos15_l5_10x10.gpkg\" : '/home/jasp/fireloc/leg_cos15_l5.dbf',\n",
    "    \"cos18_l2_10x10.gpkg\" : '/home/jasp/fireloc/leg_cos18_l2.dbf',\n",
    "    \"cos18_l3_10x10.gpkg\" : '/home/jasp/fireloc/leg_cos18_l3.dbf',\n",
    "    \"cos18_l4_10x10.gpkg\" : '/home/jasp/fireloc/leg_cos18_l4.dbf',\n",
    "    \"forestype15_10x10.gpkg\" : '/home/jasp/fireloc/leg_forestype15.dbf',\n",
    "    \"imd15_10x10.gpkg\" : '/home/jasp/fireloc/leg_imd15.dbf',\n",
    "    \"ual2_l2_10x10.gpkg\" : '/home/jasp/fireloc/leg_ua12_l2.dbf',\n",
    "    \"ua12_l3_10x10.gpkg\" : '/home/jasp/fireloc/leg_ua12_l3.dbf',\n",
    "    \"ua12_l4_10x10.gpkg\" : '/home/jasp/fireloc/leg_ua12_l4.dbf',\n",
    "    \"waw15_10x10.gpkg\" : \"/home/jasp/fireloc/leg_waw15.dbf\",\n",
    "    \"tct15_10x10.gpkg\" : \"/home/jasp/fireloc/leg_tcd15.dbf\"\n",
    "}\n",
    "\n",
    "#inshps = '/home/jasp/mrgis/cos_15_l5'\n",
    "#outfile = '/home/jasp/mrgis/cos15_l5_shp.gpkg'\n",
    "\n",
    "for g in gpkg:\n",
    "    shps_to_gpkg(gpkg[g], os.path.join(os.path.dirname(gpkg[g]), g), tbl_name='legend')"
   ]
  },
  {
   "cell_type": "markdown",
   "metadata": {},
   "source": [
    "### Data Extent to Boundary or Raster"
   ]
  },
  {
   "cell_type": "code",
   "execution_count": null,
   "metadata": {},
   "outputs": [],
   "source": [
    "from gasp.gt.to import fext_to_geof\n",
    "\n",
    "in_geo  = '/mnt/d/gwork/osm2lulc_imgcls/lmt/lmt_lisboa_v2.shp'\n",
    "out_geo = '/mnt/d/gwork/osm2lulc_imgcls/lmt/lmt_lisboa_v3.shp'\n",
    "cellsize= None\n",
    "\n",
    "fext_to_geof(in_geo, out_geo, ocellsize=cellsize)"
   ]
  },
  {
   "cell_type": "code",
   "execution_count": null,
   "metadata": {},
   "outputs": [],
   "source": [
    "\"\"\"\n",
    "Merge\n",
    "\"\"\"\n",
    "\n",
    "from gasp.gt.toshp.mtos import shps_to_shp\n",
    "\n",
    "inshps = r'D:\\gisbrary\\Terrain\\AltimPT_1-25000\\525-612'\n",
    "outShp = r'D:\\gisbrary\\Terrain\\AltimPT_1-25000\\alt_525_612.shp'\n",
    "\n",
    "shps_to_shp(inshps, outShp, api=\"ogr2ogr\", fformat='.shp')"
   ]
  },
  {
   "cell_type": "code",
   "execution_count": null,
   "metadata": {},
   "outputs": [],
   "source": [
    "\"\"\"\n",
    "Merge Feature Classes using GRASS GIS\n",
    "\"\"\"\n",
    "\n",
    "import datetime\n",
    "from gasp.gt.wenv.grs import run_grass\n",
    "from gasp.pyt.oss import fprop, lst_ff\n",
    "from gasp.gt.prop.prj import get_epsg_shp\n",
    "\n",
    "GRS_WORKSPACE = '/home/jasp/mrgis/landsense'\n",
    "SHPS          = '/home/jasp/mrgis/landsense/r_lisboa'\n",
    "OUT_SHP       = '/home/jasp/mrgis/landsense/tst_merge.shp'\n",
    "\n",
    "SHPS = lst_ff(SHPS, file_format='.shp')\n",
    "epsg = get_epsg_shp(SHPS[0])\n",
    "\n",
    "grsbase = run_grass(GRS_WORKSPACE, location='merge_loc', srs=epsg)\n",
    "import grass.script.setup as gsetup\n",
    "gsetup.init(grsbase, GRS_WORKSPACE, 'merge_loc', 'PERMANENT')\n",
    "\n",
    "# Import data\n",
    "from gasp.gt.toshp.cff import shp_to_grs, grs_to_shp\n",
    "from gasp.gt.toshp.mtos import shps_to_shp\n",
    "\n",
    "grs_shps = [shp_to_grs(s, fprop(s, 'fn'), asCMD=True) for s in SHPS]\n",
    "\n",
    "time_a = datetime.datetime.now().replace(microsecond=0)\n",
    "\n",
    "grs_merge = shps_to_shp(grs_shps, fprop(OUT_SHP, 'fn'), api=\"grass\")\n",
    "\n",
    "time_b = datetime.datetime.now().replace(microsecond=0)\n",
    "\n",
    "print(time_b - time_a)\n",
    "\n",
    "# Export data\n",
    "result = grs_to_shp(grs_merge, OUT_SHP, \"area\")"
   ]
  },
  {
   "cell_type": "code",
   "execution_count": null,
   "metadata": {},
   "outputs": [],
   "source": [
    "from gasp3.gt.to.shp import pointXls_to_shp\n",
    "\n",
    "inXls = r'D:\\GoogleDrive\\mywork\\undersee\\srm_netcdf_exerc\\backup_MAC40_50_59_31_3F_41.xlsx'\n",
    "outShp = r'D:\\xyz\\obs_29nov.shp'\n",
    "inSheet = '29nov'\n",
    "xCol = 'GPS_LONG'\n",
    "yCol = 'GPS_LAT'\n",
    "\n",
    "pointXls_to_shp(inXls, outShp, xCol, yCol, 4326, sheet=inSheet)"
   ]
  },
  {
   "cell_type": "code",
   "execution_count": null,
   "metadata": {},
   "outputs": [],
   "source": [
    "\"\"\"\n",
    "Features to New File\n",
    "\"\"\"\n",
    "\n",
    "from gasp.gt.toshp import eachfeat_to_newshp\n",
    "\n",
    "IN_SHP     = '/mnt/c/gwork/osmtolulc_imp/lmt_shp/lmt_brussels_parts.shp'\n",
    "OUT_FOLDER = '/mnt/c/gwork/osmtolulc_imp/lmt_shp'\n",
    "\n",
    "eachfeat_to_newshp(IN_SHP, OUT_FOLDER, idCol=None)"
   ]
  },
  {
   "cell_type": "code",
   "execution_count": null,
   "metadata": {},
   "outputs": [],
   "source": [
    "\"\"\"\n",
    "Feature Class to Raster\n",
    "\"\"\"\n",
    "\n",
    "in_shp = '/home/jasp/datasets/mdt_m888/ref_lmt.shp'\n",
    "out_rst = '/home/jasp/datasets/mdt_m888/rst_ref50m.tif'\n",
    "cellsize = 50\n",
    "\n",
    "import os\n",
    "from gasp.pyt.oss import fprop\n",
    "from gasp.gt.wenv.grs import run_grass\n",
    "from gasp.gt.prop.prj import get_epsg\n",
    "\n",
    "# Create GRASS GIS Session\n",
    "ws = os.path.dirname(out_rst)\n",
    "loc = fprop(out_rst, 'fn')\n",
    "epsg = get_epsg(in_shp)\n",
    "grsbase = run_grass(ws, grassBIN='grass78', location=loc, srs=epsg)\n",
    "\n",
    "import grass.script as grass\n",
    "import grass.script.setup as gsetup\n",
    "gsetup.init(grsbase, ws, loc, 'PERMANENT')\n",
    "\n",
    "# Import Packages\n",
    "from gasp.gt.to.shp import shp_to_grs\n",
    "from gasp.gt.torst import grs_to_rst, shp_to_rst\n",
    "from gasp.gt.wenv.grs import shp_to_region\n",
    "\n",
    "# Shape to GRASS\n",
    "grs_shp = shp_to_grs(in_shp, fprop(in_shp, 'fn'), asCMD=True)\n",
    "\n",
    "# Set Region\n",
    "shp_to_region(grs_shp, cellsize)\n",
    "\n",
    "# Convert\n",
    "grs_rst = shp_to_rst(grs_shp, 0, None, None, 'conv_rst', api='grass')\n",
    "\n",
    "# GRASS To RST\n",
    "grs_to_rst(grs_rst, out_rst, as_cmd=True)"
   ]
  },
  {
   "cell_type": "code",
   "execution_count": null,
   "metadata": {},
   "outputs": [],
   "source": [
    "\"\"\"\n",
    "GRASS Vector in existing location to other format\n",
    "\"\"\"\n",
    "\n",
    "import os\n",
    "from gasp.gt.wenv.grs import run_grass\n",
    "\n",
    "path_to_location = '/mnt/c/gwork/osm2lulc_imgcls/r_osm2lulc/run_lisboa_v12/grloc'\n",
    "grs_vector = ['sel_rule']\n",
    "out_folder = '/mnt/c/gwork/osm2lulc_imgcls/r_osm2lulc/'\n",
    "\n",
    "# Start GRASS GIS Session\n",
    "workspace = os.path.dirname(path_to_location)\n",
    "location_ = os.path.basename(path_to_location)\n",
    "\n",
    "grsbase = run_grass(workspace, grassBIN='grass78', location=location_)\n",
    "\n",
    "import grass.script as grass\n",
    "import grass.script.setup as gsetup\n",
    "gsetup.init(grsbase, workspace, location_, 'PERMANENT')\n",
    "\n",
    "from gasp.gt.toshp.cff import grs_to_shp\n",
    "from gasp.gt.tbl.fld import del_cols\n",
    "\n",
    "# Export data\n",
    "for v in grs_vector:\n",
    "    #del_cols(v, 't_area_lower')\n",
    "    grs_to_shp(v, os.path.join(out_folder, v + '.shp'), 'area')"
   ]
  },
  {
   "cell_type": "code",
   "execution_count": null,
   "metadata": {},
   "outputs": [],
   "source": []
  }
 ],
 "metadata": {
  "kernelspec": {
   "display_name": "Python 3",
   "language": "python",
   "name": "python3"
  },
  "language_info": {
   "codemirror_mode": {
    "name": "ipython",
    "version": 3
   },
   "file_extension": ".py",
   "mimetype": "text/x-python",
   "name": "python",
   "nbconvert_exporter": "python",
   "pygments_lexer": "ipython3",
   "version": "3.6.9"
  }
 },
 "nbformat": 4,
 "nbformat_minor": 2
}
