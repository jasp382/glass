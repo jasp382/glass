{
 "cells": [
  {
   "cell_type": "markdown",
   "metadata": {},
   "source": [
    "### PostgreSQL Table to Feature Class with OGR Driver ###"
   ]
  },
  {
   "cell_type": "code",
   "execution_count": null,
   "metadata": {},
   "outputs": [],
   "source": [
    "from gasp.gt.toshp.db import dbtbl_to_shp\n",
    "\n",
    "DB = 'osm_pt'\n",
    "TABLE = 'multipolygons'\n",
    "\n",
    "OUTPUT = '/mnt/d/gpto/osm2lulc_imgcls/shp_pt/pt_polygons.shp'\n",
    "SRS_CODE = 4326\n",
    "GEOMETRY_COLUMN = \"wkb_geometry\"\n",
    "\n",
    "dbtbl_to_shp(\n",
    "    DB, TABLE, GEOMETRY_COLUMN, OUTPUT,\n",
    "    tableIsQuery=None, api='pgsql2shp',\n",
    "    epsg=SRS_CODE\n",
    ")"
   ]
  },
  {
   "cell_type": "markdown",
   "metadata": {},
   "source": [
    "### Dump database to sql script ###"
   ]
  },
  {
   "cell_type": "code",
   "execution_count": null,
   "metadata": {},
   "outputs": [],
   "source": [
    "from gasp.sql.fm import dump_db\n",
    "\"\"\"\n",
    "conParam = {\n",
    "    \"HOST\" : \"localhost\", \"USER\" : \"jasp\", \"PORT\" : \"3306\",\n",
    "    \"PASSWORD\" : \"admin\", \"DATABASE\" : \"undersee\"\n",
    "}\"\"\"\n",
    "\n",
    "conParam = {\n",
    "    \"HOST\" : \"localhost\", \"USER\" : \"postgres\", \"PORT\" : \"5432\",\n",
    "    \"PASSWORD\" : \"admin\"\n",
    "}\n",
    "\n",
    "dbs = ['viewtofire_5', 'viewtofire_6', 'viewtofire_7',\n",
    "       'viewtofire_8', 'viewtofire_9',\n",
    "      'viewtofire_10', 'viewtofire_11', 'viewtofire_12']\n",
    "\n",
    "out = '/home/jasp/mrgis/{}.sql'\n",
    "\n",
    "for db in dbs:\n",
    "    conParam[\"DATABASE\"] = db\n",
    "    dump_db(conParam, out.format(db), api='psql')\n",
    "    del conParam[\"DATABASE\"]"
   ]
  },
  {
   "cell_type": "markdown",
   "metadata": {},
   "source": [
    "### Dump PostgreSQL Table(s) to SQL Script ###"
   ]
  },
  {
   "cell_type": "code",
   "execution_count": null,
   "metadata": {},
   "outputs": [],
   "source": [
    "from gasp.sql.fm import dump_tbls\n",
    "\n",
    "conParam = {\n",
    "    \"HOST\" : \"localhost\", \"USER\" : \"postgres\", \"PORT\" : \"5432\",\n",
    "    \"PASSWORD\" : \"admin\", \"DATABASE\" : \"expvgi_apii\"\n",
    "}\n",
    "\n",
    "tbls = ['osmapi_osmcountries']\n",
    "\n",
    "out_sql = '/home/osmtolulc/jpto/expvgi-inescc/api/dbs/api_osmapi.sql'\n",
    "\n",
    "dump_tbls(conParam, tbls, out_sql, startWith=None)"
   ]
  },
  {
   "cell_type": "markdown",
   "metadata": {},
   "source": [
    "### One or more tables in DB to Excel ###"
   ]
  },
  {
   "cell_type": "code",
   "execution_count": null,
   "metadata": {},
   "outputs": [],
   "source": [
    "from gasp.to import db_to_tbl\n",
    "\n",
    "DB = '/mnt/d/gpto/gasp/gasp/sds/osm2lulc/osmtolulc.sqlite'\n",
    "TABLES = \"ALL\"\n",
    "outFld = '/mnt/d/gpto/osm2lulc_imgcls/osm_tags'\n",
    "API = 'sqlite'\n",
    "outformat = '.xlsx'\n",
    "\n",
    "db_to_tbl(\n",
    "    DB, TABLES, outFld, dbAPI=API, outTblF=outformat\n",
    ")"
   ]
  },
  {
   "cell_type": "markdown",
   "metadata": {},
   "source": [
    "### All tables in PostgreSQL Database to TXT File ###\n",
    "\n",
    "Each table in one database is converted to a single TXT File."
   ]
  },
  {
   "cell_type": "code",
   "execution_count": null,
   "metadata": {},
   "outputs": [],
   "source": [
    "from gasp3.to import db_to_tbl\n",
    "\n",
    "SPLITTER   = '\\t'\n",
    "OUT_FOLDER = r'C:\\xpto\\jside-atlas\\db'\n",
    "conParam   = {\n",
    "    \"HOST\" : \"localhost\", \"USER\" : \"postgres\", \"PORT\" : \"5432\",\n",
    "    \"PASSWORD\" : \"admin\", \"DATABASE\" : \"jside_db_tmp\"\n",
    "}\n",
    "\n",
    "db_to_tbl(conParam, \"ALL\", OUT_FOLDER, txtDelimiter=SPLITTER, outTblF='txt')"
   ]
  }
 ],
 "metadata": {
  "kernelspec": {
   "display_name": "Python 3",
   "language": "python",
   "name": "python3"
  },
  "language_info": {
   "codemirror_mode": {
    "name": "ipython",
    "version": 3
   },
   "file_extension": ".py",
   "mimetype": "text/x-python",
   "name": "python",
   "nbconvert_exporter": "python",
   "pygments_lexer": "ipython3",
   "version": "3.6.9"
  }
 },
 "nbformat": 4,
 "nbformat_minor": 2
}
