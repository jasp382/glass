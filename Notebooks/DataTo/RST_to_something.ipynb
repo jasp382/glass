{
 "cells": [
  {
   "cell_type": "code",
   "execution_count": 1,
   "metadata": {},
   "outputs": [],
   "source": [
    "import os\n",
    "from glass.geo.gt.torst import rsts_to_gpkg\n",
    "\n",
    "gpkg = {\n",
    "    \"dstfire_clc18_10x.gpkg\"  : '/mnt/d/gwork/geodb_gpkg/rstfire_clc18',\n",
    "    \"dstfire_cos18_10x.gpkg\"  : '/mnt/d/gwork/geodb_gpkg/rstfire_cos18',\n",
    "    \"dstfire_fty15_10x.gpkg\"  : '/mnt/d/gwork/geodb_gpkg/rstfire_fty15',\n",
    "    \"dstfire_ua12_10x.gpkg\"   : '/mnt/d/gwork/geodb_gpkg/rstfire_ua12',\n",
    "    \"dstflood_clc18_10x.gpkg\" : '/mnt/d/gwork/geodb_gpkg/rstflood_clc18',\n",
    "    \"dstflood_cos18_10x.gpkg\" : '/mnt/d/gwork/geodb_gpkg/rstflood_cos18',\n",
    "    \"dstflood_ua12_10x.gpkg\"  : '/mnt/d/gwork/geodb_gpkg/rstflood_ua12',\n",
    "    \"dstflood_waw15_10x.gpkg\" : '/mnt/d/gwork/geodb_gpkg/rstflood_waw15',\n",
    "    \"dsttrans_clc18_10x.gpkg\" : '/mnt/d/gwork/geodb_gpkg/rsttrans_clc18',\n",
    "    \"dsttrans_cos18_10x.gpkg\" : '/mnt/d/gwork/geodb_gpkg/rsttrans_cos18',\n",
    "    \"dsttrans_ua12_10x.gpkg\"  : '/mnt/d/gwork/geodb_gpkg/rsttrans_ua12',\n",
    "    \"dsturban_clc18_10x.gpkg\" : '/mnt/d/gwork/geodb_gpkg/rsturban_clc18',\n",
    "    \"dsturban_cos18_10x.gpkg\" : \"/mnt/d/gwork/geodb_gpkg/rsturban_cos18\",\n",
    "    \"dsturban_imd15_10x.gpkg\" : \"/mnt/d/gwork/geodb_gpkg/rsturban_imd15\",\n",
    "    \"dsturban_ua12_10x.gpkg\"  : \"/mnt/d/gwork/geodb_gpkg/rsturban_ua12\"\n",
    "}\n",
    "\n",
    "out_folder = '/mnt/d/gwork/geodb_gpkg'\n",
    "new_name = 'cell_' \n",
    "\n",
    "for g in gpkg:\n",
    "    rsts_to_gpkg(gpkg[g], os.path.join(out_folder, g), rst_ff='.tif', basename=new_name)"
   ]
  },
  {
   "cell_type": "code",
   "execution_count": null,
   "metadata": {},
   "outputs": [],
   "source": [
    "import os\n",
    "from glass.pyt.oss import lst_ff\n",
    "from glass.geo.gt.torst import conv_rst_dtype\n",
    "\n",
    "rst_folder = '/mnt/f/gwork/fireloc_db/dist_lulc_cls/rsturban_imd15'\n",
    "out_folder = '/mnt/d/gwork/geodb_gpkg/rsturban_imd15'\n",
    "otype      = 'uint16'\n",
    "\n",
    "rsts = lst_ff(rst_folder, file_format='.tif')\n",
    "\n",
    "for rst in rsts:\n",
    "    conv_rst_dtype(rst, os.path.join(out_folder, os.path.basename(rst)), otype)"
   ]
  },
  {
   "cell_type": "markdown",
   "metadata": {},
   "source": [
    "### Convert All Rasters in Folder to Shapefile ###"
   ]
  },
  {
   "cell_type": "code",
   "execution_count": null,
   "metadata": {},
   "outputs": [],
   "source": [
    "# Convert using GRASS GIS\n",
    "\n",
    "import os\n",
    "from gasp.to.shp  import rst_to_polyg\n",
    "from gasp.oss     import lst_ff\n",
    "from gasp.cpu.grs import run_grass\n",
    "from gasp.oss import fprop\n",
    "\n",
    "GRASS_WORKSPACE = r'D:\\indev\\xyz'\n",
    "GRASS_LOCATION  = 'conv_viena'\n",
    "RST_FOLDER = r'D:\\indev\\OSM2LULC\\WEB_Via\\results_fev19\\viena'\n",
    "OUT_FOLDER = r'D:\\indev\\OSM2LULC\\WEB_Via\\results_fev19\\viena'\n",
    "SRS = 3857\n",
    "RST_TEMPLATE = r'D:\\indev\\OSM2LULC\\WEB_Via\\results_fev19\\viena\\v14_viena_2x2.tif'\n",
    "\n",
    "# List Raster Files\n",
    "rstFiles = lst_ff(RST_FOLDER, file_format='tif')\n",
    "\n",
    "# Start GRASS GIS Session\n",
    "grsbase = run_grass(\n",
    "    GRASS_WORKSPACE, location=GRASS_LOCATION, srs=SRS)\n",
    "\n",
    "import grass.script.setup as gsetup\n",
    "gsetup.init(grsbase, GRASS_WORKSPACE, GRASS_LOCATION, 'PERMANENT')\n",
    "\n",
    "from gasp.to.rst.grs import rst_to_grs\n",
    "from gasp.cpu.grs.conf import rst_to_region\n",
    "from gasp.to.shp.grs import grs_to_shp\n",
    "\n",
    "# Set region\n",
    "tmpRst = rst_to_grs(RST_TEMPLATE, fprop(RST_TEMPLATE, 'fn'), as_cmd=True)\n",
    "rst_to_region(tmpRst)\n",
    "\n",
    "for rst in rstFiles:\n",
    "    # Add data to GRASS GIS\n",
    "    grsRst = rst_to_grs(rst, fprop(rst, 'fn'), as_cmd=True)\n",
    "    \n",
    "    # Convert to Polygon\n",
    "    shpGrs = rst_to_polyg(\n",
    "        grsRst, grsRst + \"_shp\",\n",
    "        rstColumn=\"value\", gisApi='grasscmd'\n",
    "    )\n",
    "    \n",
    "    # Export to File\n",
    "    grs_to_shp(shpGrs, os.path.join(OUT_FOLDER, grsRst + '.shp'), 'area')"
   ]
  }
 ],
 "metadata": {
  "kernelspec": {
   "display_name": "Python 3",
   "language": "python",
   "name": "python3"
  },
  "language_info": {
   "codemirror_mode": {
    "name": "ipython",
    "version": 3
   },
   "file_extension": ".py",
   "mimetype": "text/x-python",
   "name": "python",
   "nbconvert_exporter": "python",
   "pygments_lexer": "ipython3",
   "version": "3.6.9"
  }
 },
 "nbformat": 4,
 "nbformat_minor": 4
}
