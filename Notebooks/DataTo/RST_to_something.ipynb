{
 "cells": [
  {
   "cell_type": "code",
   "execution_count": null,
   "metadata": {},
   "outputs": [],
   "source": [
    "import os\n",
    "from gasp.gt.torst import rsts_to_gpkg\n",
    "\n",
    "gpkg = {\n",
    "    \"clc18_l2_10x10.gpkg\" : '/home/jasp/fireloc/clc_18_l2_rst',\n",
    "    \"clc18_l3_10x10.gpkg\" : '/home/jasp/fireloc/clc_18_l3_rst',\n",
    "    \"cos15_l3_10x10.gpkg\" : '/home/jasp/fireloc/cos_15_l3_rst',\n",
    "    \"cos15_l5_10x10.gpkg\" : '/home/jasp/fireloc/cos_15_l5_rst',\n",
    "    \"cos18_l2_10x10.gpkg\" : '/home/jasp/fireloc/cos_18_l2_rst',\n",
    "    \"cos18_l3_10x10.gpkg\" : '/home/jasp/fireloc/cos_18_l3_rst',\n",
    "    \"cos18_l4_10x10.gpkg\" : '/home/jasp/fireloc/cos_18_l4_rst',\n",
    "    \"forestype15_10x10.gpkg\" : '/home/jasp/fireloc/rst_forestype15',\n",
    "    \"imd15_10x10.gpkg\" : '/home/jasp/fireloc/rst_imd15',\n",
    "    \"ual2_l2_10x10.gpkg\" : '/home/jasp/fireloc/rst_ua12l2',\n",
    "    \"ua12_l3_10x10.gpkg\" : '/home/jasp/fireloc/rst_ua12l3',\n",
    "    \"ua12_l4_10x10.gpkg\" : '/home/jasp/fireloc/rst_ua12l4',\n",
    "    \"waw15_10x10.gpkg\" : \"/home/jasp/fireloc/rst_waw15\",\n",
    "    \"tct15_10x10.gpkg\" : \"/home/jasp/fireloc/tcd15_rst\"\n",
    "}\n",
    "\n",
    "#inrst    = '/home/jasp/mrgis/srtm_bspline_v2'\n",
    "#out      = '/home/jasp/mrgis/srtm_v2_10x10.gpkg'\n",
    "new_name = 'cell_' \n",
    "\n",
    "for g in gpkg:\n",
    "    rsts_to_gpkg(gpkg[g], os.path.join(\n",
    "        os.path.dirname(gpkg[g]), g\n",
    "    ), rst_ff='.tif', basename=new_name)"
   ]
  },
  {
   "cell_type": "markdown",
   "metadata": {},
   "source": [
    "### Convert All Rasters in Folder to Shapefile ###"
   ]
  },
  {
   "cell_type": "code",
   "execution_count": null,
   "metadata": {},
   "outputs": [],
   "source": [
    "# Convert using GRASS GIS\n",
    "\n",
    "import os\n",
    "from gasp.to.shp  import rst_to_polyg\n",
    "from gasp.oss     import lst_ff\n",
    "from gasp.cpu.grs import run_grass\n",
    "from gasp.oss import fprop\n",
    "\n",
    "GRASS_WORKSPACE = r'D:\\indev\\xyz'\n",
    "GRASS_LOCATION  = 'conv_viena'\n",
    "RST_FOLDER = r'D:\\indev\\OSM2LULC\\WEB_Via\\results_fev19\\viena'\n",
    "OUT_FOLDER = r'D:\\indev\\OSM2LULC\\WEB_Via\\results_fev19\\viena'\n",
    "SRS = 3857\n",
    "RST_TEMPLATE = r'D:\\indev\\OSM2LULC\\WEB_Via\\results_fev19\\viena\\v14_viena_2x2.tif'\n",
    "\n",
    "# List Raster Files\n",
    "rstFiles = lst_ff(RST_FOLDER, file_format='tif')\n",
    "\n",
    "# Start GRASS GIS Session\n",
    "grsbase = run_grass(\n",
    "    GRASS_WORKSPACE, location=GRASS_LOCATION, srs=SRS)\n",
    "\n",
    "import grass.script.setup as gsetup\n",
    "gsetup.init(grsbase, GRASS_WORKSPACE, GRASS_LOCATION, 'PERMANENT')\n",
    "\n",
    "from gasp.to.rst.grs import rst_to_grs\n",
    "from gasp.cpu.grs.conf import rst_to_region\n",
    "from gasp.to.shp.grs import grs_to_shp\n",
    "\n",
    "# Set region\n",
    "tmpRst = rst_to_grs(RST_TEMPLATE, fprop(RST_TEMPLATE, 'fn'), as_cmd=True)\n",
    "rst_to_region(tmpRst)\n",
    "\n",
    "for rst in rstFiles:\n",
    "    # Add data to GRASS GIS\n",
    "    grsRst = rst_to_grs(rst, fprop(rst, 'fn'), as_cmd=True)\n",
    "    \n",
    "    # Convert to Polygon\n",
    "    shpGrs = rst_to_polyg(\n",
    "        grsRst, grsRst + \"_shp\",\n",
    "        rstColumn=\"value\", gisApi='grasscmd'\n",
    "    )\n",
    "    \n",
    "    # Export to File\n",
    "    grs_to_shp(shpGrs, os.path.join(OUT_FOLDER, grsRst + '.shp'), 'area')"
   ]
  }
 ],
 "metadata": {
  "kernelspec": {
   "display_name": "Python 3",
   "language": "python",
   "name": "python3"
  },
  "language_info": {
   "codemirror_mode": {
    "name": "ipython",
    "version": 3
   },
   "file_extension": ".py",
   "mimetype": "text/x-python",
   "name": "python",
   "nbconvert_exporter": "python",
   "pygments_lexer": "ipython3",
   "version": "3.6.9"
  }
 },
 "nbformat": 4,
 "nbformat_minor": 4
}
