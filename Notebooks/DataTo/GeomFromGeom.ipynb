{
 "cells": [
  {
   "cell_type": "code",
   "execution_count": null,
   "metadata": {},
   "outputs": [],
   "source": [
    "\"\"\"\n",
    "Polylines from Points\n",
    "\"\"\"\n",
    "\n",
    "from gasp3.gt.gop.cnv import polylines_from_points\n",
    "\n",
    "POINTS = '/home/jasp/tejo_markers2.shp'\n",
    "POLYLI = '/home/jasp/tejo_lnh_markers.shp'\n",
    "EPSG   = 4326\n",
    "\n",
    "polylines_from_points(POINTS, POLYLI, 'LNH_ID', ORDER_FIELD=None, epsg=EPSG)"
   ]
  },
  {
   "cell_type": "code",
   "execution_count": null,
   "metadata": {},
   "outputs": [],
   "source": []
  }
 ],
 "metadata": {
  "kernelspec": {
   "display_name": "Python 3",
   "language": "python",
   "name": "python3"
  },
  "language_info": {
   "codemirror_mode": {
    "name": "ipython",
    "version": 3
   },
   "file_extension": ".py",
   "mimetype": "text/x-python",
   "name": "python",
   "nbconvert_exporter": "python",
   "pygments_lexer": "ipython3",
   "version": "3.7.3"
  }
 },
 "nbformat": 4,
 "nbformat_minor": 2
}
