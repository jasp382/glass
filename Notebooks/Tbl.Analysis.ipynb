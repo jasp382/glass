{
 "cells": [
  {
   "cell_type": "code",
   "execution_count": null,
   "metadata": {},
   "outputs": [],
   "source": [
    "from gasp3.gt.anls.tblstats import tbl_to_areamtx\n",
    "\n",
    "in_shp = r'D:\\xyz\\inter_ocup_solo77_15.shp'\n",
    "cola = 'cos_15'\n",
    "colb = 'cos_77'\n",
    "out_xls = r'D:\\xyz\\cosdif_15emlinhas.xlsx'\n",
    "\n",
    "tbl_to_areamtx(in_shp, cola, colb, out_xls)"
   ]
  },
  {
   "cell_type": "code",
   "execution_count": null,
   "metadata": {},
   "outputs": [],
   "source": []
  }
 ],
 "metadata": {
  "kernelspec": {
   "display_name": "Python 3",
   "language": "python",
   "name": "python3"
  },
  "language_info": {
   "codemirror_mode": {
    "name": "ipython",
    "version": 3
   },
   "file_extension": ".py",
   "mimetype": "text/x-python",
   "name": "python",
   "nbconvert_exporter": "python",
   "pygments_lexer": "ipython3",
   "version": "3.7.3"
  }
 },
 "nbformat": 4,
 "nbformat_minor": 2
}
