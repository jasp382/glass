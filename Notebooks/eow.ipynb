{
 "cells": [
  {
   "cell_type": "code",
   "execution_count": 1,
   "metadata": {},
   "outputs": [],
   "source": [
    "\"\"\"\n",
    "Create EOW Services for Web Mapping\n",
    "\"\"\"\n",
    "\n",
    "# Map Services Extent\n",
    "ext_shp = '/home/jasp/mrgis/flainar_serv/lmt_pt.shp'\n",
    "\n",
    "# Tiles width and height\n",
    "width  = 50000\n",
    "height = 50000\n",
    "\n",
    "# Output EPSG\n",
    "oepsg = 3763\n",
    "\n",
    "# Layers Definition\n",
    "layers = {\n",
    "    'osm_polygons' : (\n",
    "        \"SELECT polygonid, ST_Transform(geom, 3763) AS geom FROM (\"\n",
    "            \"SELECT op.polygonid, op.geom, \"\n",
    "            \"array_agg(osmcat.key) AS okey, array_agg(osmcat.value) AS ovalue \"\n",
    "            \"FROM osm_polygons AS op \"\n",
    "            \"INNER JOIN polygons_osmcat AS ocat \"\n",
    "            \"ON op.polygonid = ocat.polygoncatid \"\n",
    "            \"INNER JOIN osmcategory AS osmcat \"\n",
    "            \"ON ocat.osmcategoryid = osmcat.osmcategoryid \"\n",
    "            \"GROUP BY op.polygonid, op.geom\"\n",
    "        \") AS foo \"\n",
    "        \"WHERE NOT('boundary' = ANY(ovalue))\"\n",
    "    ),\n",
    "    'osm_points' : (\n",
    "        \"SELECT positionid, name, ST_Transform(geom, 3763) AS geom \"\n",
    "        \"FROM osm_position \"\n",
    "        \"WHERE osm_id IS NOT NULL\"\n",
    "    )\n",
    "}\n",
    "\n",
    "# RefGRID name\n",
    "refgrid = 'refgrid'\n",
    "\n",
    "# DB Name\n",
    "db = 'flainar_gh'"
   ]
  },
  {
   "cell_type": "code",
   "execution_count": 2,
   "metadata": {},
   "outputs": [],
   "source": [
    "import os\n",
    "from shapely.wkt import loads\n",
    "from glass.geo.gt.sample import create_fishnet\n",
    "from glass.geo.gt.fmshp import shp_to_obj\n",
    "from glass.sql.to import df_to_db"
   ]
  },
  {
   "cell_type": "code",
   "execution_count": 3,
   "metadata": {},
   "outputs": [
    {
     "name": "stderr",
     "output_type": "stream",
     "text": [
      "/home/jasp/.virtualenvs/gaspenv/lib/python3.6/site-packages/pyproj/crs/crs.py:55: FutureWarning: '+init=<authority>:<code>' syntax is deprecated. '<authority>:<code>' is the preferred initialization method. When making the change, be mindful of axis order changes: https://pyproj4.github.io/pyproj/stable/gotchas.html#axis-order-changes-in-proj-6\n",
      "  return _prepare_from_string(\" \".join(pjargs))\n",
      "/home/jasp/.virtualenvs/gaspenv/lib/python3.6/site-packages/pyproj/crs/crs.py:55: FutureWarning: '+init=<authority>:<code>' syntax is deprecated. '<authority>:<code>' is the preferred initialization method. When making the change, be mindful of axis order changes: https://pyproj4.github.io/pyproj/stable/gotchas.html#axis-order-changes-in-proj-6\n",
      "  return _prepare_from_string(\" \".join(pjargs))\n"
     ]
    }
   ],
   "source": [
    "# Create reference GRID\n",
    "refgrid_shp = create_fishnet(ext_shp, os.path.join(\n",
    "    os.path.dirname(ext_shp),\n",
    "    refgrid + '.shp'\n",
    "), width, height)\n",
    "\n",
    "# Remove cells not intersecting with ext_shp\n",
    "df_grid = shp_to_obj(refgrid_shp, srs_to=oepsg)\n",
    "df_ref  = shp_to_obj(ext_shp, srs_to=oepsg)\n",
    "\n",
    "geom = loads(df_ref.loc[0, 'geometry'].wkt)\n",
    "\n",
    "df_grid['is_int'] = df_grid.geometry.intersects(geom)\n",
    "df_grid = df_grid[df_grid.is_int == True]\n",
    "\n",
    "df_grid.reset_index(inplace=True)\n",
    "\n",
    "df_grid.drop(['index', 'FID', 'is_int'], axis=1, inplace=True)\n",
    "\n",
    "df_grid['cell_id'] = df_grid.index + 1\n",
    "\n",
    "# Reference GRID to PostgreSQL\n",
    "refgrid = df_to_db(db, df_grid, refgrid, colGeom='geometry', epsg=oepsg, geomType='Polygon')"
   ]
  },
  {
   "cell_type": "code",
   "execution_count": null,
   "metadata": {},
   "outputs": [],
   "source": [
    "# Geometries simplification"
   ]
  },
  {
   "cell_type": "code",
   "execution_count": null,
   "metadata": {},
   "outputs": [],
   "source": [
    "base = df_ref.plot(color='white', edgecolor='black')\n",
    "\n",
    "df_grid.plot(ax=base, color=None, edgecolor='red')"
   ]
  },
  {
   "cell_type": "code",
   "execution_count": null,
   "metadata": {},
   "outputs": [],
   "source": []
  }
 ],
 "metadata": {
  "kernelspec": {
   "display_name": "Python 3.6.9 64-bit ('gaspenv': venv)",
   "language": "python",
   "name": "python36964bitgaspenvvenve111cbcdfb83435383c7ca85dfccaa72"
  },
  "language_info": {
   "codemirror_mode": {
    "name": "ipython",
    "version": 3
   },
   "file_extension": ".py",
   "mimetype": "text/x-python",
   "name": "python",
   "nbconvert_exporter": "python",
   "pygments_lexer": "ipython3",
   "version": "3.6.9"
  }
 },
 "nbformat": 4,
 "nbformat_minor": 4
}
