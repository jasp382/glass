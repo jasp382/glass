{
 "cells": [
  {
   "cell_type": "markdown",
   "metadata": {},
   "source": [
    "### NDVI ###"
   ]
  },
  {
   "cell_type": "code",
   "execution_count": null,
   "metadata": {},
   "outputs": [],
   "source": [
    "from gasp3.gt.spnlst.sat.idx import ndvi\n",
    "\n",
    "NIR = r'D:\\indev\\legal\\img_10m_20190525\\T29TNE_20190525T112121_B08_10m.tif'\n",
    "RED = r'D:\\indev\\legal\\img_10m_20190525\\T29TNE_20190525T112121_B04_10m.tif'\n",
    "OUT = r'D:\\indev\\legal\\idx\\ndvi_20190525.tif'\n",
    "\n",
    "ndvi(NIR, RED, OUT)"
   ]
  },
  {
   "cell_type": "code",
   "execution_count": null,
   "metadata": {},
   "outputs": [],
   "source": [
    "\"\"\"\n",
    "Calculate Normalized Burn Ratio\n",
    "\"\"\"\n",
    "\n",
    "from gasp3.gt.spnlst.sat.idx import nbr\n",
    "\n",
    "nbr(\n",
    "    '/home/jasp/xpto/rmp_20190917/T29TNE_20190917T112119_B08_10m.tif',\n",
    "    '/home/jasp/xpto/rmp_20190917/T29TNE_20190917T112119_B12_20m.tif',\n",
    "    '/home/jasp/xpto/nbr_20190917_v2.tif',\n",
    ")"
   ]
  }
 ],
 "metadata": {
  "kernelspec": {
   "display_name": "Python 3",
   "language": "python",
   "name": "python3"
  },
  "language_info": {
   "codemirror_mode": {
    "name": "ipython",
    "version": 3
   },
   "file_extension": ".py",
   "mimetype": "text/x-python",
   "name": "python",
   "nbconvert_exporter": "python",
   "pygments_lexer": "ipython3",
   "version": "3.7.3"
  }
 },
 "nbformat": 4,
 "nbformat_minor": 2
}
