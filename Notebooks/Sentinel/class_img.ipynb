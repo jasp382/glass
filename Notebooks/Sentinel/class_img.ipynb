{
 "cells": [
  {
   "cell_type": "code",
   "execution_count": null,
   "metadata": {},
   "outputs": [],
   "source": [
    "from gasp.gt.nop.cls import k_means\n",
    "\n",
    "k_means(\n",
    "    '/mnt/d/gpto/caplivro_landscape/carta_clip.tif',\n",
    "    '/mnt/d/gpto/caplivro_landscape/carta_kmeans.tif', 12\n",
    ")"
   ]
  },
  {
   "cell_type": "code",
   "execution_count": null,
   "metadata": {},
   "outputs": [],
   "source": [
    "\"\"\"\n",
    "Random forest - Procude model file\n",
    "\"\"\"\n",
    "\n",
    "train_ref = '/home/jasp/mrgis/clsimg/lsb_train_f2/rst_train_f2.tif'\n",
    "\n",
    "train_var = [\n",
    "    '/home/jasp/mrgis/clsimg/lsb_imgcls/b02_20180321.tif',\n",
    "    '/home/jasp/mrgis/clsimg/lsb_imgcls/b02_20180619.tif',\n",
    "    '/home/jasp/mrgis/clsimg/lsb_imgcls/b02_20181022.tif',\n",
    "    '/home/jasp/mrgis/clsimg/lsb_imgcls/b03_20180321.tif',\n",
    "    '/home/jasp/mrgis/clsimg/lsb_imgcls/b03_20180619.tif',\n",
    "    '/home/jasp/mrgis/clsimg/lsb_imgcls/b03_20181022.tif',\n",
    "    '/home/jasp/mrgis/clsimg/lsb_imgcls/b04_20180321.tif',\n",
    "    '/home/jasp/mrgis/clsimg/lsb_imgcls/b04_20180619.tif',\n",
    "    '/home/jasp/mrgis/clsimg/lsb_imgcls/b04_20181022.tif',\n",
    "    '/home/jasp/mrgis/clsimg/lsb_imgcls/b08_20180321.tif',\n",
    "    '/home/jasp/mrgis/clsimg/lsb_imgcls/b08_20180619.tif',\n",
    "    '/home/jasp/mrgis/clsimg/lsb_imgcls/b08_20181022.tif',\n",
    "]\n",
    "\n",
    "outfile = '/home/jasp/mrgis/clsimg/mdl_trainfilter2.bz2'\n",
    "outtbl = '/home/jasp/mrgis/clsimg/separability_lsb_osmdt_1.xlsx'"
   ]
  },
  {
   "cell_type": "code",
   "execution_count": null,
   "metadata": {},
   "outputs": [],
   "source": [
    "from osgeo import gdal, gdal_array\n",
    "import numpy as np\n",
    "import joblib\n",
    "from sklearn.ensemble import RandomForestClassifier\n",
    "import datetime\n",
    "\n",
    "img_ref = gdal.Open(train_ref, gdal.GA_ReadOnly)\n",
    "img_var = [gdal.Open(i, gdal.GA_ReadOnly) for i in train_var]\n",
    "\n",
    "nd_val = img_ref.GetRasterBand(1).GetNoDataValue()\n",
    "\n",
    "nvar = len(img_var)\n",
    "\n",
    "# Convert imgs to Array, remove nodata values and reshape\n",
    "num_ref = img_ref.GetRasterBand(1).ReadAsArray()\n",
    "num_ref = num_ref.reshape((-1, 1))\n",
    "Y = num_ref[num_ref != nd_val]"
   ]
  },
  {
   "cell_type": "code",
   "execution_count": null,
   "metadata": {},
   "outputs": [],
   "source": [
    "X = np.zeros(\n",
    "    (Y.shape[0], nvar),\n",
    "    gdal_array.GDALTypeCodeToNumericTypeCode(\n",
    "        img_var[0].GetRasterBand(1).DataType\n",
    "    )\n",
    ")\n",
    "for b in range(X.shape[1]):\n",
    "    a = img_var[b].GetRasterBand(1).ReadAsArray()\n",
    "    a = a.reshape((-1, 1))\n",
    "    a = a[num_ref != nd_val]\n",
    "    \n",
    "    X[:, b] = a"
   ]
  },
  {
   "cell_type": "code",
   "execution_count": null,
   "metadata": {},
   "outputs": [],
   "source": [
    "val  = list(np.unique(Y))\n",
    "freq = np.bincount(Y)\n",
    "freq = freq[freq != 0]\n",
    "ncells = freq.sum()\n",
    "\n",
    "perc = [i / ncells * 100 for i in freq]"
   ]
  },
  {
   "cell_type": "code",
   "execution_count": null,
   "metadata": {},
   "outputs": [],
   "source": [
    "ncells_by_class = [int(round(c * 1000000 /100, 0)) for c in perc]"
   ]
  },
  {
   "cell_type": "code",
   "execution_count": null,
   "metadata": {},
   "outputs": [],
   "source": [
    "print(val)\n",
    "print(freq)\n",
    "print(perc)\n",
    "print(ncells_by_class)"
   ]
  },
  {
   "cell_type": "code",
   "execution_count": null,
   "metadata": {},
   "outputs": [],
   "source": [
    "# Get Y sub-array for each value in val\n",
    "\n",
    "ny = [Y[Y == v] for v in val]\n",
    "ry = [np.random.choice(\n",
    "    np.arange(ny[i].size), size=ncells_by_class[i],\n",
    "    replace=False\n",
    ") for i in range(len(ncells_by_class))]\n",
    "\n",
    "print(ny[0].shape)\n",
    "for i in range(len(ry)):\n",
    "    ny[i][ry[i]] = 0\n",
    "\n",
    "print(ny[0].shape)"
   ]
  },
  {
   "cell_type": "code",
   "execution_count": null,
   "metadata": {},
   "outputs": [],
   "source": [
    "# Get random X\n",
    "\n",
    "nx = [X[Y == v] for v in val]\n",
    "sy = [i[i == 0] for i in ny]\n",
    "for i in range(len(sy)):\n",
    "    sy[i][:] = val[i]\n",
    "rx = [nx[v][ny[v] == 0] for v in range(len(val))]"
   ]
  },
  {
   "cell_type": "code",
   "execution_count": null,
   "metadata": {},
   "outputs": [],
   "source": [
    "# Concatenate array's\n",
    "\n",
    "new_y = sy[0]\n",
    "new_x = rx[0]\n",
    "for i in range(1, len(sy)):\n",
    "    new_y = np.concatenate((new_y, sy[i]), axis=0)\n",
    "    new_x = np.concatenate((new_x, rx[i]), axis=0)"
   ]
  },
  {
   "cell_type": "code",
   "execution_count": null,
   "metadata": {},
   "outputs": [],
   "source": [
    "print(nx[0].shape)\n",
    "print(sy[0].shape)\n",
    "print(rx[0].shape)"
   ]
  },
  {
   "cell_type": "code",
   "execution_count": null,
   "metadata": {},
   "outputs": [],
   "source": [
    "print(new_y.shape)\n",
    "print(new_x.shape)"
   ]
  },
  {
   "cell_type": "code",
   "execution_count": null,
   "metadata": {},
   "outputs": [],
   "source": [
    "print(new_x)"
   ]
  },
  {
   "cell_type": "code",
   "execution_count": null,
   "metadata": {},
   "outputs": [],
   "source": [
    "print(new_y)"
   ]
  },
  {
   "cell_type": "code",
   "execution_count": null,
   "metadata": {},
   "outputs": [],
   "source": [
    "# Fit Model\n",
    "time_a = datetime.datetime.now().replace(microsecond=0)\n",
    "\n",
    "clf = RandomForestClassifier(\n",
    "    n_estimators=1000, random_state=0, n_jobs=-1\n",
    ")\n",
    "clf.fit(new_x, new_y)\n",
    "\n",
    "time_b = datetime.datetime.now().replace(microsecond=0)\n",
    "\n",
    "print(time_b - time_a)"
   ]
  },
  {
   "cell_type": "code",
   "execution_count": null,
   "metadata": {},
   "outputs": [],
   "source": [
    "# Save model file\n",
    "joblib.dump(clf, outfile)"
   ]
  },
  {
   "cell_type": "code",
   "execution_count": null,
   "metadata": {},
   "outputs": [],
   "source": [
    "mdlfile = '/home/jasp/mrgis/clsimg/mdl_trainfilter2.bz2'\n",
    "\n",
    "var = [\n",
    "    '/home/jasp/mrgis/clsimg/lsb_imgcls/b02_20180321.tif',\n",
    "    '/home/jasp/mrgis/clsimg/lsb_imgcls/b02_20180619.tif',\n",
    "    '/home/jasp/mrgis/clsimg/lsb_imgcls/b02_20181022.tif',\n",
    "    '/home/jasp/mrgis/clsimg/lsb_imgcls/b03_20180321.tif',\n",
    "    '/home/jasp/mrgis/clsimg/lsb_imgcls/b03_20180619.tif',\n",
    "    '/home/jasp/mrgis/clsimg/lsb_imgcls/b03_20181022.tif',\n",
    "    '/home/jasp/mrgis/clsimg/lsb_imgcls/b04_20180321.tif',\n",
    "    '/home/jasp/mrgis/clsimg/lsb_imgcls/b04_20180619.tif',\n",
    "    '/home/jasp/mrgis/clsimg/lsb_imgcls/b04_20181022.tif',\n",
    "    '/home/jasp/mrgis/clsimg/lsb_imgcls/b08_20180321.tif',\n",
    "    '/home/jasp/mrgis/clsimg/lsb_imgcls/b08_20180619.tif',\n",
    "    '/home/jasp/mrgis/clsimg/lsb_imgcls/b08_20181022.tif',\n",
    "]\n",
    "\n",
    "outfile = '/home/jasp/mrgis/clsimg/tst_lisboa.tif'"
   ]
  },
  {
   "cell_type": "code",
   "execution_count": null,
   "metadata": {},
   "outputs": [],
   "source": [
    "from joblib import load\n",
    "\n",
    "rf = load(mdlfile)\n",
    "\n",
    "from osgeo import gdal, gdal_array\n",
    "import numpy as np\n",
    "import datetime\n",
    "\n",
    "img_var = [gdal.Open(i, gdal.GA_ReadOnly) for i in var]\n",
    "\n",
    "nd_val = img_var[0].GetRasterBand(1).GetNoDataValue()\n",
    "\n",
    "nvar = len(img_var)\n",
    "\n",
    "# Convert imgs to Array, remove nodata values and reshape\n",
    "X = np.zeros(\n",
    "    (img_var[0].RasterYSize, img_var[0].RasterXSize, nvar),\n",
    "    gdal_array.GDALTypeCodeToNumericTypeCode(\n",
    "        img_var[0].GetRasterBand(1).DataType\n",
    "    )\n",
    ")\n",
    "for b in range(X.shape[2]):\n",
    "    X[:, :, b] = img_var[b].GetRasterBand(1).ReadAsArray()\n",
    "\n",
    "# Reshape\n",
    "nshp = (X.shape[0] * X.shape[1], X.shape[2])\n",
    "n_x = X[:, :, :nvar].reshape(nshp)\n",
    "\n",
    "y_cls = rf.predict(n_x)"
   ]
  },
  {
   "cell_type": "code",
   "execution_count": null,
   "metadata": {},
   "outputs": [],
   "source": [
    "print(np.unique(y_cls))"
   ]
  },
  {
   "cell_type": "code",
   "execution_count": null,
   "metadata": {},
   "outputs": [],
   "source": [
    "# Reshape again\n",
    "res = y_cls.reshape(X[:, :, 0].shape)\n",
    "\n",
    "# Place nodata values\n",
    "tmp = img_var[0].GetRasterBand(1).ReadAsArray()\n",
    "np.place(res, tmp==nd_val, 255)\n",
    "\n",
    "from glass.geo.gt.torst import obj_to_rst\n",
    "\n",
    "obj_to_rst(res, outfile, var[0], noData=255)"
   ]
  },
  {
   "cell_type": "code",
   "execution_count": null,
   "metadata": {},
   "outputs": [],
   "source": [
    "import rpy2.robjects as robjects\n",
    "from rpy2.robjects import numpy2ri\n",
    "from rpy2.robjects.packages import importr\n",
    "import numpy as np\n",
    "\n",
    "numpy2ri.activate()\n",
    "\n",
    "# Create vector's\n",
    "v1 = np.array([1362,1411,1457,1735,1621,1621,1791,1863,1863,1838])\n",
    "v2 = np.array([1362,1411,1457,10030,1621,1621,1791,1863,1863,1838, 1837, 1836])\n",
    "#v1 = robjects.IntVector([1362,1411,1457,1735,1621,1621,1791,1863,1863,1838])\n",
    "#v2 = robjects.IntVector([1362,1411,1457,10030,1621,1621,1791,1863,1863,1838])\n",
    "#v1 = robjects.IntVector([0,3,4,5,6,7,8,9,90,65])\n",
    "#v2 = robjects.IntVector([1362,1411,13445,1735,1621,1621,1791,1863,1863,1838])\n",
    "\n",
    "\n",
    "\n",
    "# Calling function"
   ]
  },
  {
   "cell_type": "code",
   "execution_count": null,
   "metadata": {},
   "outputs": [],
   "source": [
    "from osgeo import gdal, gdal_array\n",
    "import numpy as np\n",
    "import pandas as pd\n",
    "import os\n",
    "import rpy2.robjects as robjects\n",
    "from rpy2.robjects import numpy2ri\n",
    "from rpy2.robjects.packages import importr\n",
    "from gasp.to import obj_to_tbl\n",
    "\n",
    "# Import package\n",
    "sp = importr('spatialEco')\n",
    "\n",
    "numpy2ri.activate()\n",
    "\n",
    "separability = robjects.r['separability']\n",
    "\n",
    "# Open data\n",
    "img_ref = gdal.Open(train_ref, gdal.GA_ReadOnly)\n",
    "img_var = [gdal.Open(i, gdal.GA_ReadOnly) for i in train_var]\n",
    "\n",
    "# Data To Array\n",
    "num_ref = img_ref.GetRasterBand(1).ReadAsArray()\n",
    "num_ref = num_ref.reshape((-1, 1))\n",
    "img_num = [x.GetRasterBand(1).ReadAsArray() for x in img_var]\n",
    "img_num = [x.reshape((-1, 1)) for x in img_num]\n",
    "\n",
    "# Get Classes codes\n",
    "nd_val = img_ref.GetRasterBand(1).GetNoDataValue()\n",
    "\n",
    "classes = np.unique(num_ref)\n",
    "classes = classes[classes != nd_val]\n",
    "\n",
    "# Create samples for each class\n",
    "cls_samples = {}\n",
    "for cls in classes:\n",
    "    for v in range(len(img_num)):\n",
    "        if not v:\n",
    "            cls_samples[cls] = [img_num[v][num_ref == cls]]\n",
    "        else:\n",
    "            cls_samples[cls].append(img_num[v][num_ref == cls])\n",
    "\n",
    "# Get separability matrix - one for each variable samples\n",
    "mtxs = []\n",
    "for v in range(len(img_num)):\n",
    "    mtx = []\n",
    "    for i in range(classes.shape[0]):\n",
    "        row = []\n",
    "        for e in range(classes.shape[0]):\n",
    "            if i < e:\n",
    "                sep_val = None\n",
    "            else:\n",
    "                b, jm, m, mdif, d, td = separability(\n",
    "                    cls_samples[classes[i]][v],\n",
    "                    cls_samples[classes[e]][v]\n",
    "                )[0]\n",
    "            \n",
    "                sep_val = td\n",
    "        \n",
    "            row.append(sep_val)\n",
    "        mtx.append(row)\n",
    "    mtxs.append(pd.DataFrame(mtx, index=classes, columns=classes))\n",
    "\n",
    "for df in range(len(mtxs)):\n",
    "    mtxs[df]['classe'] = mtxs[df].index\n",
    "\n",
    "# Export result\n",
    "obj_to_tbl(mtxs, outtbl, sheetsName=[os.path.basename(f)for f in train_var])"
   ]
  }
 ],
 "metadata": {
  "kernelspec": {
   "display_name": "Python 3",
   "language": "python",
   "name": "python3"
  },
  "language_info": {
   "codemirror_mode": {
    "name": "ipython",
    "version": 3
   },
   "file_extension": ".py",
   "mimetype": "text/x-python",
   "name": "python",
   "nbconvert_exporter": "python",
   "pygments_lexer": "ipython3",
   "version": "3.6.9"
  }
 },
 "nbformat": 4,
 "nbformat_minor": 2
}
