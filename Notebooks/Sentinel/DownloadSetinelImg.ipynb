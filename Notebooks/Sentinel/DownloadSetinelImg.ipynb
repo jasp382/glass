{
 "cells": [
  {
   "cell_type": "code",
   "execution_count": null,
   "metadata": {},
   "outputs": [],
   "source": [
    "\"\"\"\n",
    "Get Products List\n",
    "\"\"\"\n",
    "\n",
    "# Inputs\n",
    "shpExtent = '/home/jasp/mrgis/sentinel_pt/shp_29tne.shp'\n",
    "start_time = \"20180101\" # Use YYYY-MM-DD Format\n",
    "end_time = \"20180131\"\n",
    "out_results = None\n",
    "platform = \"Sentinel-2\"\n",
    "processingL = 'Level-2Ap'\n",
    "\n",
    "from gasp.gt.fmweb.sentinel import lst_prod\n",
    "\n",
    "r = lst_prod(\n",
    "    shpExtent, start_time, end_time, out_results,\n",
    "    platform, processingL\n",
    ")"
   ]
  },
  {
   "cell_type": "code",
   "execution_count": null,
   "metadata": {},
   "outputs": [],
   "source": [
    "\"\"\"\n",
    "Get a list with one image for each month of one year\n",
    "and each cell in grid_shp\n",
    "\"\"\"\n",
    "\n",
    "from gasp.gt.fmweb.sentinel import lst_prod_by_cell_and_year\n",
    "\n",
    "grid_shp = '/home/jasp/mrgis/sentinel_pt/pt_sentinel_grid.shp'\n",
    "year = 2018\n",
    "id_col = 'Name'\n",
    "platform = \"Sentinel-2\"\n",
    "processingL = 'Level-2A'\n",
    "search_shp = '/home/jasp/mrgis/sentinel_pt/imgs_pt.shp'\n",
    "epsg = 32629\n",
    "\n",
    "lst_prod_by_cell_and_year(\n",
    "    grid_shp, id_col, year, search_shp,\n",
    "    platform=platform, processingl=processingL, epsg=epsg\n",
    ")"
   ]
  },
  {
   "cell_type": "code",
   "execution_count": null,
   "metadata": {},
   "outputs": [],
   "source": [
    "\"\"\"\n",
    "DOWNLOAD Images in Shapefile\n",
    "\"\"\"\n",
    "\n",
    "IN_SHP = '/mnt/c/gwork/osm2lulc_imgcls/sentinel/img_list2.shp'\n",
    "OUT_FOLDER = '/mnt/c/gwork/osm2lulc_imgcls/sentinel'\n",
    "\n",
    "from gasp.gt.fmweb.sentinel import down_imgs\n",
    "\n",
    "down_imgs(IN_SHP, 'uuid', outFolder=OUT_FOLDER)"
   ]
  },
  {
   "cell_type": "code",
   "execution_count": null,
   "metadata": {},
   "outputs": [],
   "source": []
  }
 ],
 "metadata": {
  "kernelspec": {
   "display_name": "Python 3",
   "language": "python",
   "name": "python3"
  },
  "language_info": {
   "codemirror_mode": {
    "name": "ipython",
    "version": 3
   },
   "file_extension": ".py",
   "mimetype": "text/x-python",
   "name": "python",
   "nbconvert_exporter": "python",
   "pygments_lexer": "ipython3",
   "version": "3.6.9"
  }
 },
 "nbformat": 4,
 "nbformat_minor": 2
}
