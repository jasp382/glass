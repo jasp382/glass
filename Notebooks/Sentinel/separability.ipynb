{
 "cells": [
  {
   "cell_type": "code",
   "execution_count": null,
   "metadata": {},
   "outputs": [],
   "source": [
    "ref = '/home/jasp/mrgis/clsimg/lsb_trainf2_rs_500k.tif'\n",
    "\n",
    "# Lisbon\n",
    "var = [\n",
    "    '/home/jasp/mrgis/clsimg/lsb_imgcls/b02_20180321.tif',\n",
    "    '/home/jasp/mrgis/clsimg/lsb_imgcls/b02_20180619.tif',\n",
    "    '/home/jasp/mrgis/clsimg/lsb_imgcls/b02_20181022.tif',\n",
    "    '/home/jasp/mrgis/clsimg/lsb_imgcls/b03_20180321.tif',\n",
    "    '/home/jasp/mrgis/clsimg/lsb_imgcls/b03_20180619.tif',\n",
    "    '/home/jasp/mrgis/clsimg/lsb_imgcls/b03_20181022.tif',\n",
    "    '/home/jasp/mrgis/clsimg/lsb_imgcls/b04_20180321.tif',\n",
    "    '/home/jasp/mrgis/clsimg/lsb_imgcls/b04_20180619.tif',\n",
    "    '/home/jasp/mrgis/clsimg/lsb_imgcls/b04_20181022.tif',\n",
    "    '/home/jasp/mrgis/clsimg/lsb_imgcls/b08_20180321.tif',\n",
    "    '/home/jasp/mrgis/clsimg/lsb_imgcls/b08_20180619.tif',\n",
    "    '/home/jasp/mrgis/clsimg/lsb_imgcls/b08_20181022.tif',\n",
    "]\n",
    "\n",
    "out = '/home/jasp/mrgis/clsimg/teste_sep.xlsx'"
   ]
  },
  {
   "cell_type": "code",
   "execution_count": null,
   "metadata": {},
   "outputs": [],
   "source": [
    "from glass.geo.gt.dcls.sep import clsep_matrix\n",
    "\n",
    "clsep_matrix(ref, var, out)"
   ]
  },
  {
   "cell_type": "code",
   "execution_count": null,
   "metadata": {},
   "outputs": [],
   "source": []
  }
 ],
 "metadata": {
  "kernelspec": {
   "display_name": "Python 3.6.9 64-bit ('glassenv': venv)",
   "language": "python",
   "name": "python36964bitglassenvvenve111cbcdfb83435383c7ca85dfccaa72"
  },
  "language_info": {
   "codemirror_mode": {
    "name": "ipython",
    "version": 3
   },
   "file_extension": ".py",
   "mimetype": "text/x-python",
   "name": "python",
   "nbconvert_exporter": "python",
   "pygments_lexer": "ipython3",
   "version": "3.6.9"
  }
 },
 "nbformat": 4,
 "nbformat_minor": 4
}
