{
 "cells": [
  {
   "cell_type": "code",
   "execution_count": null,
   "metadata": {},
   "outputs": [],
   "source": [
    "\"\"\"\n",
    "Clip Raster using all shapes in one folder\n",
    "\"\"\"\n",
    "\n",
    "in_rst = '/home/jasp/datasets/mdt_m888/rst_ref50m.tif'\n",
    "clip_fld = '/home/jasp/datasets/mdt_m888/rst_masks'\n",
    "out_fld = '/home/jasp/datasets/mdt_m888/mdt50_masks'\n",
    "\n",
    "import os\n",
    "from gasp.pyt.oss import lst_ff, fprop\n",
    "from gasp.gt.nop.exct import clip_rst\n",
    "\n",
    "shps = lst_ff(clip_fld, file_format='.shp')\n",
    "\n",
    "for shp in shps:\n",
    "    clip_rst(in_rst, shp, os.path.join(out_fld, fprop(shp, 'fn') + '.tif'))"
   ]
  },
  {
   "cell_type": "code",
   "execution_count": null,
   "metadata": {},
   "outputs": [],
   "source": []
  }
 ],
 "metadata": {
  "kernelspec": {
   "display_name": "Python 3",
   "language": "python",
   "name": "python3"
  },
  "language_info": {
   "codemirror_mode": {
    "name": "ipython",
    "version": 3
   },
   "file_extension": ".py",
   "mimetype": "text/x-python",
   "name": "python",
   "nbconvert_exporter": "python",
   "pygments_lexer": "ipython3",
   "version": "3.6.8"
  }
 },
 "nbformat": 4,
 "nbformat_minor": 2
}
