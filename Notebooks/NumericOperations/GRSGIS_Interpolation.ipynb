{
 "cells": [
  {
   "cell_type": "code",
   "execution_count": null,
   "metadata": {},
   "outputs": [],
   "source": [
    "\"\"\"\n",
    "Input Parameters\n",
    "\"\"\"\n",
    "\n",
    "IN_SHP    = '/mnt/c/gwork/ex_interpolacao/obs_sample.shp'\n",
    "DATA_COL  = 'grid_code'\n",
    "WORKSPACE = '/mnt/c/gwork/ex_interpolacao'\n",
    "OUT_RST   = '/mnt/c/gwork/ex_interpolacao/rst_temperature.tif'"
   ]
  },
  {
   "cell_type": "code",
   "execution_count": null,
   "metadata": {},
   "outputs": [],
   "source": [
    "\"\"\"\n",
    "Create Reference Raster\n",
    "\"\"\"\n",
    "\n",
    "import os\n",
    "from gasp.gt.torst import shpext_to_rst\n",
    "\n",
    "RASTER_REF = os.path.join(os.path.dirname(IN_SHP), 'rstref.tif')\n",
    "shpext_to_rst(IN_SHP, RASTER_REF, cellsize=10)"
   ]
  },
  {
   "cell_type": "code",
   "execution_count": null,
   "metadata": {},
   "outputs": [],
   "source": [
    "\"\"\"\n",
    "Start GRASS GIS Session\n",
    "\"\"\"\n",
    "\n",
    "from gasp.gt.wenv.grs import run_grass\n",
    "from gasp.gt.prop.prj import get_epsg_shp\n",
    "\n",
    "loc_name = 'intloc'\n",
    "\n",
    "gbase = run_grass(\n",
    "    WORKSPACE, grassBIN='grass78', location=loc_name,\n",
    "    srs=get_epsg_shp(IN_SHP)\n",
    ")\n",
    "\n",
    "import grass.script.setup as gsetup\n",
    "\n",
    "gsetup.init(gbase, WORKSPACE, loc_name, \"PERMANENT\")"
   ]
  },
  {
   "cell_type": "code",
   "execution_count": null,
   "metadata": {},
   "outputs": [],
   "source": [
    "from gasp.gt.torst     import rst_to_grs, grs_to_rst\n",
    "from gasp.gt.toshp.cff import shp_to_grs\n",
    "from gasp.gt.wenv.grs  import rst_to_region\n",
    "from gasp.gt.nop.itp import surfrst\n",
    "from gasp.pyt.oss import fprop"
   ]
  },
  {
   "cell_type": "code",
   "execution_count": null,
   "metadata": {},
   "outputs": [],
   "source": [
    "# Import ref raster\n",
    "\n",
    "grs_ref = rst_to_grs(RASTER_REF, 'rstref')\n",
    "\n",
    "# Set Region\n",
    "rst_to_region(grs_ref)\n",
    "\n",
    "# Import input data\n",
    "grs_shp = shp_to_grs(IN_SHP, fprop(IN_SHP, 'fn'))\n",
    "\n",
    "# Run Interpolation\n",
    "out_grsrst = surfrst(grs_shp, DATA_COL, fprop(OUT_RST, 'fn'), lyrN=1, ascmd=True)\n",
    "\n",
    "# Export result\n",
    "grs_to_rst(out_grsrst, OUT_RST)"
   ]
  },
  {
   "cell_type": "code",
   "execution_count": null,
   "metadata": {},
   "outputs": [],
   "source": []
  }
 ],
 "metadata": {
  "kernelspec": {
   "display_name": "Python 3",
   "language": "python",
   "name": "python3"
  },
  "language_info": {
   "codemirror_mode": {
    "name": "ipython",
    "version": 3
   },
   "file_extension": ".py",
   "mimetype": "text/x-python",
   "name": "python",
   "nbconvert_exporter": "python",
   "pygments_lexer": "ipython3",
   "version": "3.6.9"
  }
 },
 "nbformat": 4,
 "nbformat_minor": 4
}
