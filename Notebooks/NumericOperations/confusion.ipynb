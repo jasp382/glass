{
 "cells": [
  {
   "cell_type": "code",
   "execution_count": null,
   "metadata": {},
   "outputs": [],
   "source": [
    "from glass.geo.gt.nop.confmtx import confmtx_twrst\n",
    "\n",
    "confmtx_twrst(\n",
    "    '/mnt/c/gwork/osm2lulc_imgcls/refdata/lsb_cos18l1.tif',\n",
    "    '/mnt/c/gwork/osm2lulc_imgcls/res_rf_v0206/lsb_f2_500k_4x3_05kt_v206.tif',\n",
    "    '/mnt/c/gwork/osm2lulc_imgcls/res_rf_v0206/lsb_f2_500k_4x3_05kt_v206.xlsx'\n",
    ")"
   ]
  },
  {
   "cell_type": "code",
   "execution_count": 2,
   "metadata": {},
   "outputs": [],
   "source": [
    "from glass.geo.gt.nop.confmtx import confmtx_twrst\n",
    "import os\n",
    "from glass.pyt.oss import fprop\n",
    "\n",
    "rst = {\n",
    "    '/mnt/d/gwork/osm2lulc_imgcls/rs_paper/refdata/lsb_cos18l1_osm.tif' : [\n",
    "        '/mnt/d/gwork/osm2lulc_imgcls/rs_paper/results_randomforest/disk_genze/lsb_f0_500k_4x3_05kt_d4_osm.tif',\n",
    "        '/mnt/d/gwork/osm2lulc_imgcls/rs_paper/results_randomforest/disk_genze/lsb_f1_500k_4x3_05kt_d4_osm.tif',\n",
    "        '/mnt/d/gwork/osm2lulc_imgcls/rs_paper/results_randomforest/disk_genze/lsb_f2_500k_4x3_05kt_d4_osm.tif',\n",
    "    ]\n",
    "}\n",
    "\n",
    "for k in rst:\n",
    "    for r in rst[k]:\n",
    "        fn = fprop(r, 'fn')\n",
    "        confmtx_twrst(k, r, os.path.join(os.path.dirname(r), fn + '.xlsx'))"
   ]
  },
  {
   "cell_type": "code",
   "execution_count": null,
   "metadata": {},
   "outputs": [],
   "source": []
  }
 ],
 "metadata": {
  "kernelspec": {
   "display_name": "Python 3",
   "language": "python",
   "name": "python3"
  },
  "language_info": {
   "codemirror_mode": {
    "name": "ipython",
    "version": 3
   },
   "file_extension": ".py",
   "mimetype": "text/x-python",
   "name": "python",
   "nbconvert_exporter": "python",
   "pygments_lexer": "ipython3",
   "version": "3.6.9"
  }
 },
 "nbformat": 4,
 "nbformat_minor": 4
}
