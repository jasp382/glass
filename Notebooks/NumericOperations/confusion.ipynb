{
 "cells": [
  {
   "cell_type": "code",
   "execution_count": 1,
   "metadata": {},
   "outputs": [
    {
     "data": {
      "text/plain": [
       "'/mnt/c/gwork/osm2lulc_imgcls/res_rf_v0206/lsb_f2_500k_4x3_05kt_v206.xlsx'"
      ]
     },
     "execution_count": 1,
     "metadata": {},
     "output_type": "execute_result"
    }
   ],
   "source": [
    "from glass.geo.gt.nop.confmtx import confmtx_twrst\n",
    "\n",
    "confmtx_twrst(\n",
    "    '/mnt/c/gwork/osm2lulc_imgcls/refdata/lsb_cos18l1.tif',\n",
    "    '/mnt/c/gwork/osm2lulc_imgcls/res_rf_v0206/lsb_f2_500k_4x3_05kt_v206.tif',\n",
    "    '/mnt/c/gwork/osm2lulc_imgcls/res_rf_v0206/lsb_f2_500k_4x3_05kt_v206.xlsx'\n",
    ")"
   ]
  },
  {
   "cell_type": "code",
   "execution_count": null,
   "metadata": {},
   "outputs": [],
   "source": []
  }
 ],
 "metadata": {
  "kernelspec": {
   "display_name": "Python 3",
   "language": "python",
   "name": "python3"
  },
  "language_info": {
   "codemirror_mode": {
    "name": "ipython",
    "version": 3
   },
   "file_extension": ".py",
   "mimetype": "text/x-python",
   "name": "python",
   "nbconvert_exporter": "python",
   "pygments_lexer": "ipython3",
   "version": "3.6.9"
  }
 },
 "nbformat": 4,
 "nbformat_minor": 4
}
