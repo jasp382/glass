{
 "cells": [
  {
   "cell_type": "code",
   "execution_count": null,
   "metadata": {},
   "outputs": [],
   "source": [
    "from gasp.gt.nop.mos import rsts_to_mosaic\n",
    "\n",
    "in_rst = [\n",
    "    '/mnt/c/gwork/fireloc_db/dem_data/rsurfcountour/mdt_igeoe_100.tif',\n",
    "    '/mnt/c/gwork/fireloc_db/dem_data/rsurfcountour/mdt_igeoe_101.tif',\n",
    "    '/mnt/c/gwork/fireloc_db/dem_data/rsurfcountour/mdt_igeoe_102.tif',\n",
    "    '/mnt/c/gwork/fireloc_db/dem_data/rsurfcountour/mdt_igeoe_129.tif',\n",
    "    '/mnt/c/gwork/fireloc_db/dem_data/rsurfcountour/mdt_igeoe_130.tif',\n",
    "    '/mnt/c/gwork/fireloc_db/dem_data/rsurfcountour/mdt_igeoe_131.tif',\n",
    "    '/mnt/c/gwork/fireloc_db/dem_data/rsurfcountour/mdt_igeoe_157.tif',\n",
    "    '/mnt/c/gwork/fireloc_db/dem_data/rsurfcountour/mdt_igeoe_158.tif',\n",
    "    '/mnt/c/gwork/fireloc_db/dem_data/rsurfcountour/mdt_igeoe_159.tif',\n",
    "    '/mnt/c/gwork/fireloc_db/dem_data/rsurfcountour/mdt_igeoe_185.tif',\n",
    "    '/mnt/c/gwork/fireloc_db/dem_data/rsurfcountour/mdt_igeoe_186.tif',\n",
    "    '/mnt/c/gwork/fireloc_db/dem_data/rsurfcountour/mdt_igeoe_187.tif',\n",
    "]\n",
    "\n",
    "out_rst = '/mnt/d/gwork/prog_webgis/meteo/dem.tif'\n",
    "\n",
    "rsts_to_mosaic(in_rst, out_rst, api='rasterio')"
   ]
  },
  {
   "cell_type": "code",
   "execution_count": null,
   "metadata": {},
   "outputs": [],
   "source": []
  }
 ],
 "metadata": {
  "kernelspec": {
   "display_name": "Python 3",
   "language": "python",
   "name": "python3"
  },
  "language_info": {
   "codemirror_mode": {
    "name": "ipython",
    "version": 3
   },
   "file_extension": ".py",
   "mimetype": "text/x-python",
   "name": "python",
   "nbconvert_exporter": "python",
   "pygments_lexer": "ipython3",
   "version": "3.6.9"
  }
 },
 "nbformat": 4,
 "nbformat_minor": 2
}
