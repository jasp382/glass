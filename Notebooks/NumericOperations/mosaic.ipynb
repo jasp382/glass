{
 "cells": [
  {
   "cell_type": "code",
   "execution_count": null,
   "metadata": {},
   "outputs": [],
   "source": [
    "from glass.gt.nop.mos import rsts_to_mosaic\n",
    "\n",
    "in_rst = [\n",
    "    '/mnt/c/gwork/fireloc_db/dem_data/rsurfcountour/mdt_igeoe_100.tif',\n",
    "    '/mnt/c/gwork/fireloc_db/dem_data/rsurfcountour/mdt_igeoe_101.tif',\n",
    "    '/mnt/c/gwork/fireloc_db/dem_data/rsurfcountour/mdt_igeoe_102.tif',\n",
    "    '/mnt/c/gwork/fireloc_db/dem_data/rsurfcountour/mdt_igeoe_129.tif',\n",
    "    '/mnt/c/gwork/fireloc_db/dem_data/rsurfcountour/mdt_igeoe_130.tif',\n",
    "    '/mnt/c/gwork/fireloc_db/dem_data/rsurfcountour/mdt_igeoe_131.tif',\n",
    "    '/mnt/c/gwork/fireloc_db/dem_data/rsurfcountour/mdt_igeoe_157.tif',\n",
    "    '/mnt/c/gwork/fireloc_db/dem_data/rsurfcountour/mdt_igeoe_158.tif',\n",
    "    '/mnt/c/gwork/fireloc_db/dem_data/rsurfcountour/mdt_igeoe_159.tif',\n",
    "    '/mnt/c/gwork/fireloc_db/dem_data/rsurfcountour/mdt_igeoe_185.tif',\n",
    "    '/mnt/c/gwork/fireloc_db/dem_data/rsurfcountour/mdt_igeoe_186.tif',\n",
    "    '/mnt/c/gwork/fireloc_db/dem_data/rsurfcountour/mdt_igeoe_187.tif',\n",
    "]\n",
    "\n",
    "out_rst = '/mnt/d/gwork/prog_webgis/meteo/dem.tif'\n",
    "\n",
    "rsts_to_mosaic(in_rst, out_rst, api='rasterio')"
   ]
  },
  {
   "cell_type": "code",
   "execution_count": null,
   "metadata": {},
   "outputs": [],
   "source": [
    "\"\"\"\n",
    "All raster's in folder to tiles\n",
    "\"\"\"\n",
    "\n",
    "in_folder = '/mnt/d/gwork/osm2lulc_imgcls/lsb_imgcls/'\n",
    "\n",
    "ff = '.tif'\n",
    "\n",
    "out_folder = '/mnt/d/gwork/osm2lulc_imgcls/lsb_imgcls/'\n",
    "\n",
    "from glass.pyt.oss import lst_ff\n",
    "from glass.geo.gt.torst import rst_to_tiles\n",
    "\n",
    "rsts = lst_ff(in_folder, file_format=ff)\n",
    "\n",
    "for r in rsts:\n",
    "    rst_to_tiles(r, 3, 2, out_folder)"
   ]
  },
  {
   "cell_type": "code",
   "execution_count": null,
   "metadata": {},
   "outputs": [],
   "source": []
  }
 ],
 "metadata": {
  "kernelspec": {
   "display_name": "Python 3",
   "language": "python",
   "name": "python3"
  },
  "language_info": {
   "codemirror_mode": {
    "name": "ipython",
    "version": 3
   },
   "file_extension": ".py",
   "mimetype": "text/x-python",
   "name": "python",
   "nbconvert_exporter": "python",
   "pygments_lexer": "ipython3",
   "version": "3.8.2"
  }
 },
 "nbformat": 4,
 "nbformat_minor": 2
}
