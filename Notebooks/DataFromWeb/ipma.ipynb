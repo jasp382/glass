{
 "cells": [
  {
   "cell_type": "markdown",
   "metadata": {},
   "source": [
    "### How to extract data from IPMA using their API ###\n",
    "\n",
    "API address http://api.ipma.pt/"
   ]
  },
  {
   "cell_type": "code",
   "execution_count": null,
   "metadata": {},
   "outputs": [],
   "source": [
    "from gasp.to.web import http_to_json"
   ]
  },
  {
   "cell_type": "markdown",
   "metadata": {},
   "source": [
    "Observação Meteorológica de Estações, últimas 3 horas (formato GeoJSON) "
   ]
  },
  {
   "cell_type": "code",
   "execution_count": null,
   "metadata": {},
   "outputs": [],
   "source": [
    "URL = 'https://api.ipma.pt/open-data/observation/meteorology/stations/obs-surface.geojson'\n",
    "\n",
    "data = http_to_json(URL, '/home/jasp/mrgis/ipma_data/teste.json')"
   ]
  },
  {
   "cell_type": "markdown",
   "metadata": {},
   "source": [
    "Observação Meteorológica de Estações (dados horários, últimas 24 horas) \n",
    "\n",
    "Notas: Taxa de atualização horária. (valor \"-99.0\" = nodata)"
   ]
  },
  {
   "cell_type": "code",
   "execution_count": null,
   "metadata": {},
   "outputs": [],
   "source": [
    "url = 'https://api.ipma.pt/open-data/observation/meteorology/stations/observations.json'\n",
    "\n",
    "data = http_to_json(url, '/home/jasp/mrgis/ipma_data/horario.json')"
   ]
  },
  {
   "cell_type": "markdown",
   "metadata": {},
   "source": [
    "Lista de identificadores das estações meteorológicas\n",
    "\n",
    "Invocação:\n",
    "https://api.ipma.pt/open-data/observation/meteorology/stations/stations.json\n",
    "\n",
    "Resultado (formato json): [ { \"geometry\": { \"type\": \"Point\", \"coordinates\": [-7.821, 37.033] }, \"type\": \"Feature\", \"properties\": { \"idEstacao\": 1210881, \"localEstacao\": \"Olh\\u00e3o, EPPO\" } }, ...]\n",
    "\n",
    "    coordinates: coordenada geográfica da estação [longitude, latitude] (graus decimais)\n",
    "    idEstacao: identificador da estação\n",
    "    localEstacao: nome da estação\n"
   ]
  },
  {
   "cell_type": "code",
   "execution_count": null,
   "metadata": {},
   "outputs": [],
   "source": [
    "URL = 'https://api.ipma.pt/open-data/observation/meteorology/stations/stations.json'\n",
    "\n",
    "data = http_to_json(URL, '/home/jasp/mrgis/ipma_data/estacoes.json')"
   ]
  },
  {
   "cell_type": "markdown",
   "metadata": {},
   "source": [
    "Lista de identificadores para as capitais distrito e ilhas\n",
    "\n",
    "Invocação:\n",
    "https://api.ipma.pt/open-data/distrits-islands.json\n",
    "\n",
    "Resultado (formato json): { \"owner\": \"IPMA\", \"country\": \"PT\", \"data\": [ {\"idRegion\": 1, \"idWarningRegion\": \"AVR\", \"idCounty\": 5, \"globalIdLocal\": 1010500, \"latitude\": \"40.6413\", \"idDistrict\": 1, \"local\": \"Aveiro\", \"longitude\": \"-8.6535\"}]}\n",
    "\n",
    "    globalIdLocal: identificador do local\n",
    "    local: nome do local\n",
    "    idRegion: identificador região [1 \"Continente\", 2 \"Arq. Madeira\", 3 \"Arq. Açores\"]\n",
    "    idCounty: Identificador do concelho (identificador definido no âmbito DICO)\n",
    "    idDistrict: Identificador do distrito (identificador definido no âmbito DICO)\n",
    "    idWarningRegion: Identificador da área dos avisos\n",
    "    latitude: latitude da coordenada geográfica (graus decimais)\n",
    "    longitude: longitude da coordenada geográfica (graus decimais)\n"
   ]
  },
  {
   "cell_type": "code",
   "execution_count": null,
   "metadata": {},
   "outputs": [],
   "source": [
    "URL = 'https://api.ipma.pt/open-data/distrits-islands.json'\n",
    "\n",
    "data = http_to_json(URL, '/home/jasp/mrgis/ipma_data/code_distrits.json')"
   ]
  },
  {
   "cell_type": "code",
   "execution_count": null,
   "metadata": {},
   "outputs": [],
   "source": []
  }
 ],
 "metadata": {
  "kernelspec": {
   "display_name": "Python 3",
   "language": "python",
   "name": "python3"
  },
  "language_info": {
   "codemirror_mode": {
    "name": "ipython",
    "version": 3
   },
   "file_extension": ".py",
   "mimetype": "text/x-python",
   "name": "python",
   "nbconvert_exporter": "python",
   "pygments_lexer": "ipython3",
   "version": "3.6.9"
  }
 },
 "nbformat": 4,
 "nbformat_minor": 4
}
