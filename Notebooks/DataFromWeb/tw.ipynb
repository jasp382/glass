{
 "cells": [
  {
   "cell_type": "code",
   "execution_count": null,
   "metadata": {},
   "outputs": [],
   "source": [
    "from glass.dp.dsn.tw import search_tweets\n",
    "\n",
    "data = search_tweets(\n",
    "    lat=39 + (42/60.0) + (3.41 / 3600), lng=-(8 + (7/60.0) + (37.93 / 3600)),\n",
    "    radius=300000, NR_ITEMS=1000, keyword='incendio', __lang='pt'\n",
    ")"
   ]
  },
  {
   "cell_type": "code",
   "execution_count": null,
   "metadata": {},
   "outputs": [],
   "source": []
  }
 ],
 "metadata": {
  "kernelspec": {
   "display_name": "Python 3.6.9 64-bit ('gaspenv': venv)",
   "language": "python",
   "name": "python36964bitgaspenvvenve111cbcdfb83435383c7ca85dfccaa72"
  },
  "language_info": {
   "codemirror_mode": {
    "name": "ipython",
    "version": 3
   },
   "file_extension": ".py",
   "mimetype": "text/x-python",
   "name": "python",
   "nbconvert_exporter": "python",
   "pygments_lexer": "ipython3",
   "version": "3.6.9"
  }
 },
 "nbformat": 4,
 "nbformat_minor": 4
}
