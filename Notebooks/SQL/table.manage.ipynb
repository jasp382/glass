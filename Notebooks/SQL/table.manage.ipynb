{
 "cells": [
  {
   "cell_type": "code",
   "execution_count": null,
   "metadata": {},
   "outputs": [],
   "source": [
    "\"\"\"\n",
    "List Tables\n",
    "\"\"\"\n",
    "\n",
    "from gasp3.sql.i import lst_tbl\n",
    "\n",
    "conDB = {\n",
    "    'HOST' : 'localhost', 'PORT' : '5433', 'USER' : 'postgres',\n",
    "    'PASSWORD' : 'admin', \"DATABASE\" : 'flainar_db'\n",
    "}\n",
    "\n",
    "tbls = lst_tbl(conDB)\n",
    "\n",
    "print(tbls)"
   ]
  },
  {
   "cell_type": "code",
   "execution_count": null,
   "metadata": {},
   "outputs": [],
   "source": [
    "\"\"\"\n",
    "List columns in table\n",
    "\"\"\"\n",
    "\n",
    "from gasp3.sql.i import cols_name\n",
    "\n",
    "conDB = {\n",
    "    'HOST' : 'localhost', 'PORT' : '5433', 'USER' : 'postgres',\n",
    "    'PASSWORD' : 'admin', \"DATABASE\" : 'flainar_db'\n",
    "}\n",
    "\n",
    "tbl = 'points'\n",
    "\n",
    "cn = cols_name(conDB, tbl, sanitizeSpecialWords=None, api='psql')\n",
    "\n",
    "print(cn)"
   ]
  },
  {
   "cell_type": "code",
   "execution_count": 2,
   "metadata": {},
   "outputs": [],
   "source": [
    "\"\"\"\n",
    "Delete Tables or Views\n",
    "\"\"\"\n",
    "\n",
    "conDB = {\n",
    "    'HOST' : 'localhost', 'PORT' : '5433', 'USER' : 'postgres',\n",
    "    'PASSWORD' : 'admin', \"DATABASE\" : 'flainar_db'\n",
    "}\n",
    "\n",
    "from gasp3.sql.mng.tbl import del_tables\n",
    "\n",
    "del_tables(conDB, ['new_points', 'osmcat'], isViews=None, isBasename=None)"
   ]
  },
  {
   "cell_type": "code",
   "execution_count": null,
   "metadata": {},
   "outputs": [],
   "source": [
    "\"\"\"\n",
    "Drop Columns\n",
    "\"\"\"\n",
    "\n",
    "conDB = {\n",
    "    'HOST' : 'localhost', 'PORT' : '5433', 'USER' : 'postgres',\n",
    "    'PASSWORD' : 'admin', \"DATABASE\" : 'flainar_db'\n",
    "}\n",
    "\n",
    "tbl = \"points\"\n",
    "cols = ['ogc_fid', 'other_tags', 'healthcare2']\n",
    "\n",
    "from gasp3.sql.mng.fld import drop_col\n",
    "\n",
    "drop_col(conDB, tbl, cols)"
   ]
  },
  {
   "cell_type": "code",
   "execution_count": null,
   "metadata": {},
   "outputs": [],
   "source": []
  }
 ],
 "metadata": {
  "kernelspec": {
   "display_name": "Python 3",
   "language": "python",
   "name": "python3"
  },
  "language_info": {
   "codemirror_mode": {
    "name": "ipython",
    "version": 3
   },
   "file_extension": ".py",
   "mimetype": "text/x-python",
   "name": "python",
   "nbconvert_exporter": "python",
   "pygments_lexer": "ipython3",
   "version": "3.6.8"
  }
 },
 "nbformat": 4,
 "nbformat_minor": 2
}
