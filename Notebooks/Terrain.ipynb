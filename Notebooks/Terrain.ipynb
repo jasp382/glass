{
 "cells": [
  {
   "cell_type": "code",
   "execution_count": null,
   "metadata": {},
   "outputs": [],
   "source": [
    "from gasp3.gd.terrain.grs import make_dem\n",
    "\n",
    "GRASS_WORKSPACE  = '/home/jasp/mdt/dems'\n",
    "ELEVATION_DATA   = '/home/jasp/mdt/countours/countours_v2_lmt_dem_1.shp'\n",
    "ELEVATION_COLUMN = 'data'\n",
    "OUT_DEM          = '/home/jasp/mdt/dems/dem_1.tif'\n",
    "EXTENT_TEMPLATE  = '/home/jasp/mdt/lmt_rst/lmt_dem_1.tif'\n",
    "MASK             = '/home/jasp/mdt/rst_masks/masks_1.tif'\n",
    "METHOD           = \"CONTOUR\"\n",
    "\n",
    "import datetime as dt\n",
    "\n",
    "time_a = dt.datetime.now().replace(microsecond=0)\n",
    "\n",
    "make_dem(\n",
    "    GRASS_WORKSPACE, ELEVATION_DATA, ELEVATION_COLUMN,\n",
    "    OUT_DEM, EXTENT_TEMPLATE, method=METHOD, mask=MASK\n",
    ")\n",
    "\n",
    "time_b = dt.datetime.now().replace(microsecond=0)\n",
    "print(time_b - time_a)"
   ]
  },
  {
   "cell_type": "code",
   "execution_count": null,
   "metadata": {},
   "outputs": [],
   "source": [
    "\"\"\"\n",
    "Produce a MDT for each cell in vec frid file\n",
    "\"\"\"\n",
    "\n",
    "alti = r'C:\\gwork\\fireloc\\datasets\\mdt_m888\\alti_pt25k_3763.shp'\n",
    "ref  = r'C:\\gwork\\fireloc\\datasets\\ref\\pt_ref_grid.shp'\n",
    "outFld = r'C:\\gwork\\fireloc\\datasets\\mdt_m888'\n",
    "out_lmt = r'C:\\gwork\\fireloc\\datasets\\ref_parts'\n",
    "out_extra_lmt = r'C:\\gwork\\fireloc\\datasets\\mdt_m888\\lmt_dem'\n",
    "cell_id = 'cellid'\n",
    "\n",
    "cell_width = 3000\n",
    "cell_height= 3000\n",
    "\n",
    "import os; import datetime as dt\n",
    "from gasp3.fm          import tbl_to_obj\n",
    "from gasp3.g.gop.prox  import df_buffer_extent\n",
    "from gasp3.gt.prop.prj import get_epsg_shp\n",
    "from gasp3.gt.to.shp import coords_to_boundary\n",
    "from gasp3.pyt.oss import mkdir\n",
    "from gasp3.gt.gop.ovlay import clip\n",
    "from gasp3.pyt.oss import fld_exists\n",
    "\n",
    "epsg = get_epsg_shp(ref)\n",
    "\n",
    "grid_df = tbl_to_obj(ref)\n",
    "\n",
    "grid_df = df_buffer_extent(grid_df, epsg, cell_width, mantainOriginalGeom=True)"
   ]
  },
  {
   "cell_type": "code",
   "execution_count": null,
   "metadata": {},
   "outputs": [],
   "source": [
    "from gasp3.gt.to.shp import df_to_shp\n",
    "\n",
    "df_to_shp(grid_df, r'C:\\gwork\\fireloc\\datasets\\ref\\pt_ref_grid_bf.shp')"
   ]
  },
  {
   "cell_type": "code",
   "execution_count": null,
   "metadata": {},
   "outputs": [],
   "source": [
    "time_a = dt.datetime.now().replace(microsecond=0)\n",
    "\n",
    "for idx, row in grid_df.iterrows():\n",
    "    # Get Lmt Shape\n",
    "    left, bottom, right, top = row.old_geom.bounds\n",
    "    lmt = coords_to_boundary((left, top), (right, bottom), epsg, os.path.join(\n",
    "        out_lmt, '{}_{}.shp'.format(os.path.basename(out_lmt), row[cell_id])\n",
    "    ))\n",
    "    \n",
    "    # Get Extra Lmt\n",
    "    left, bottom, right, top = row.geometry.bounds\n",
    "    extra_lmt = coords_to_boundary((left, top), (right, bottom), epsg, os.path.join(\n",
    "        out_extra_lmt, '{}_{}.shp'.format(os.path.basename(out_extra_lmt), row[cell_id])\n",
    "    ))\n",
    "\n",
    "time_b = dt.datetime.now().replace(microsecond=0)\n",
    "print(time_b - time_a)"
   ]
  },
  {
   "cell_type": "code",
   "execution_count": null,
   "metadata": {},
   "outputs": [],
   "source": [
    "print(epsg)"
   ]
  },
  {
   "cell_type": "code",
   "execution_count": null,
   "metadata": {},
   "outputs": [],
   "source": [
    "def clip_r(row):\n",
    "    fld_path = os.path.join(outFld, 'data_' + str(row[cell_id]))\n",
    "    \n",
    "    isFld = fld_exists(fld_path)\n",
    "    if not isFld:\n",
    "        fld = mkdir(fld_path)\n",
    "    else:\n",
    "        return row\n",
    "    \n",
    "    # Get Lmt Shape\n",
    "    left, bottom, right, top = row.old_geom.bounds\n",
    "    lmt = coords_to_boundary((left, top), (right, bottom), epsg, os.path.join(\n",
    "        fld, 'lmt_{}.shp'.format(str(row[cell_id]))\n",
    "    ))\n",
    "    \n",
    "    # Get Extra Lmt\n",
    "    left, bottom, right, top = row.geometry.bounds\n",
    "    extra_lmt = coords_to_boundary((left, top), (right, bottom), epsg, os.path.join(\n",
    "        fld, 'extra_lmt_{}.shp'.format(str(row[cell_id]))\n",
    "    ))\n",
    "    \n",
    "    # Clip Altimetry\n",
    "    alti_clp = clip(alti, extra_lmt, os.path.join(\n",
    "        fld, 'alti_{}.shp'.format(str(row[cell_id]))\n",
    "    ), api_gis=\"ogr2ogr\")\n",
    "    \n",
    "    return row\n",
    "\n",
    "time_a = dt.datetime.now().replace(microsecond=0)\n",
    "grid_df.apply(lambda x: clip_r(x), axis=1)\n",
    "time_b = dt.datetime.now().replace(microsecond=0)\n",
    "print(time_b - time_a)"
   ]
  },
  {
   "cell_type": "code",
   "execution_count": null,
   "metadata": {},
   "outputs": [],
   "source": [
    "\"\"\"\n",
    "Run DEM tool using multiprocessing\n",
    "\"\"\"\n",
    "\n",
    "lmt_fld       = '/home/jasp/mdt/lmt_rst'\n",
    "countours_fld = '/home/jasp/mdt/countours'\n",
    "dem_fld       = '/home/jasp/mdt/dems'\n",
    "elv_fld       = 'data'\n",
    "masks         = '/home/jasp/mdt/rst_masks'\n",
    "\n",
    "from gasp3.gd.terrain.grs import thrd_dem\n",
    "\n",
    "thrd_dem(\n",
    "    countours_fld, lmt_fld, dem_fld, elv_fld,\n",
    "    refFormat='.tif', countoursFormat='.shp', demFormat='.tif',\n",
    "    cellsize=10, masksFolder=masks, masksFormat='.tif'\n",
    ")"
   ]
  },
  {
   "cell_type": "code",
   "execution_count": null,
   "metadata": {},
   "outputs": [],
   "source": []
  }
 ],
 "metadata": {
  "kernelspec": {
   "display_name": "Python 3",
   "language": "python",
   "name": "python3"
  },
  "language_info": {
   "codemirror_mode": {
    "name": "ipython",
    "version": 3
   },
   "file_extension": ".py",
   "mimetype": "text/x-python",
   "name": "python",
   "nbconvert_exporter": "python",
   "pygments_lexer": "ipython3",
   "version": "3.6.8"
  }
 },
 "nbformat": 4,
 "nbformat_minor": 2
}
