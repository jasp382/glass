{
 "cells": [
  {
   "cell_type": "code",
   "execution_count": null,
   "metadata": {},
   "outputs": [],
   "source": [
    "\"\"\"\n",
    "Import feature class data to table\n",
    "\"\"\"\n",
    "\n",
    "from gasp.web.djg.mdl.to import shp_to_djg_mdl\n",
    "\n",
    "in_shp = '/home/osmtolulc/jpto/countries.shp'\n",
    "\n",
    "cols = {\n",
    "    'fid' :'FID', 'geom' : 'MULTIPOLYGON',\n",
    "    'continent' : 'continent', 'country' : 'country'\n",
    "}\n",
    "\n",
    "djg_proj = '/home/osmtolulc/jpto/expvgi-inescc/api'\n",
    "\n",
    "shp_to_djg_mdl(in_shp, 'osmapi', 'OsmCountries', cols, djg_proj)"
   ]
  },
  {
   "cell_type": "code",
   "execution_count": null,
   "metadata": {},
   "outputs": [],
   "source": []
  }
 ],
 "metadata": {
  "kernelspec": {
   "display_name": "Python 3",
   "language": "python",
   "name": "python3"
  },
  "language_info": {
   "codemirror_mode": {
    "name": "ipython",
    "version": 3
   },
   "file_extension": ".py",
   "mimetype": "text/x-python",
   "name": "python",
   "nbconvert_exporter": "python",
   "pygments_lexer": "ipython3",
   "version": "3.6.9"
  }
 },
 "nbformat": 4,
 "nbformat_minor": 2
}
