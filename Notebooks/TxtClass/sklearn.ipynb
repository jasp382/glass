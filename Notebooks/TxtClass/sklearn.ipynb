{
 "cells": [
  {
   "cell_type": "markdown",
   "metadata": {},
   "source": [
    "### Get Stop Words ###"
   ]
  },
  {
   "cell_type": "code",
   "execution_count": null,
   "metadata": {},
   "outputs": [],
   "source": [
    "from gasp3.dt.txtcls.san import get_stop_words\n",
    "\n",
    "intbl  = r'D:\\indev\\expvgi\\geotmlnh_text_cls\\tbl_ref\\ref_fire_facebook_2017_2018.xlsx'\n",
    "outtbl = r'D:\\indev\\expvgi\\geotmlnh_text_cls\\tbl_ref\\test_fire_face_1718.xlsx'\n",
    "\n",
    "conParam = {\n",
    "    'HOST': 'localhost', 'PORT' : '5432', 'PASSWORD' : 'admin',\n",
    "    'USER' : 'postgres', 'TEMPLATE' : 'postgis_template'\n",
    "}\n",
    "\n",
    "get_stop_words(\n",
    "    conParam, intbl, 'post_id', 'message', outtbl,\n",
    "    inSheet='test'\n",
    ")"
   ]
  },
  {
   "cell_type": "markdown",
   "metadata": {},
   "source": [
    "### Go Machine Learning ###"
   ]
  },
  {
   "cell_type": "code",
   "execution_count": null,
   "metadata": {},
   "outputs": [],
   "source": [
    "trainData = r'D:\\indev\\expvgi\\geotmlnh_text_cls\\tbl_ref\\train_fire_face_1718.xlsx'\n",
    "classData = r'D:\\indev\\expvgi\\geotmlnh_text_cls\\tbl_ref\\test_fire_face_1718.xlsx'\n",
    "\n",
    "trainSheet = 'train'\n",
    "trainRefCol  = 'e_incendio'\n",
    "trainDataCol = 'clean_message'\n",
    "classDataCol = 'clean_message'\n",
    "\n",
    "lang = None\n",
    "\n",
    "outCorrWords = r'D:\\indev\\expvgi\\geotmlnh_text_cls\\tbl_res\\fire_corr_words.xlsx'\n",
    "outPredict   = r'D:\\indev\\expvgi\\geotmlnh_text_cls\\tbl_res\\fire_predict.xlsx'\n",
    "outEval      = r'D:\\indev\\expvgi\\geotmlnh_text_cls\\tbl_res\\fire_model_eval.xlsx'\n",
    "outMxt       = '/home/jasp/todo/geotm/text_cls/tbl_res/mxt_svm.xlsx'"
   ]
  },
  {
   "cell_type": "code",
   "execution_count": null,
   "metadata": {},
   "outputs": [],
   "source": [
    "from gasp3.dt.txtcls.freq import correlated_words\n",
    "\n",
    "correlated_words(\n",
    "    trainData, trainRefCol, trainDataCol, outCorrWords,\n",
    "    lang=lang, N=3, refSheet=trainSheet\n",
    ")"
   ]
  },
  {
   "cell_type": "code",
   "execution_count": null,
   "metadata": {},
   "outputs": [],
   "source": [
    "from gasp3.dt.txtcls.cls import model_selection\n",
    "\n",
    "model_selection(trainData, trainRefCol, trainDataCol, outEval, lang=lang)"
   ]
  },
  {
   "cell_type": "code",
   "execution_count": null,
   "metadata": {},
   "outputs": [],
   "source": [
    "from gasp3.dt.txtcls.cls import text_prediction\n",
    "import os\n",
    "\n",
    "methods = {\n",
    "    'svm' : 'LinearSupportVectorMachine',\n",
    "    'logistic' : 'LogisticRegression',\n",
    "    'rf'       : 'RandomForest',\n",
    "    'bayes'    : 'NaiveBayes'\n",
    "}\n",
    "\n",
    "for m in methods:\n",
    "    name, ext = os.path.splitext(os.path.basename(outPredict))\n",
    "    out = os.path.join(\n",
    "        os.path.dirname(outPredict), \"{}_{}{}\".format(name, m, ext)\n",
    "    )\n",
    "    text_prediction(\n",
    "        trainData, classData, trainRefCol, trainDataCol,\n",
    "        classDataCol, out, method=methods[m]\n",
    "    )"
   ]
  },
  {
   "cell_type": "markdown",
   "metadata": {},
   "source": [
    "### SQL Based Methodology ###"
   ]
  },
  {
   "cell_type": "code",
   "execution_count": null,
   "metadata": {},
   "outputs": [],
   "source": [
    "conParam = {\n",
    "    \"HOST\" : \"localhost\", \"PORT\" : \"5432\", \"PASSWORD\" : \"admin\",\n",
    "    \"USER\" : \"postgres\" , \"DATABASE\" : \"dsn_collect\"\n",
    "}\n",
    "\n",
    "TBL_SCHEMA = {\n",
    "    \"TNAME\"   : \"facedata\",\n",
    "    \"TEXTCOL\" : \"lower_message\",\n",
    "    \"TIMECOL\" : \"datahora\",\n",
    "    \"SELCOL\"  : ['post_id AS fid', 'type AS tipo', 'message AS mess'],\n",
    "    \"TEXTCASE\" : (\n",
    "        \"CASE WHEN type = 'link' THEN lower(unaccent(description)) \"\n",
    "        \"ELSE lower(unaccent(message)) END\"\n",
    "    )\n",
    "}\n",
    "\n",
    "START = '2017-06-01 00:00:00'\n",
    "END   = '2018-10-31 23:59:59'\n",
    "\n",
    "WORDS   = ['incendi', 'fog']\n",
    "\n",
    "RESULT = r'D:\\indev\\expvgi\\geotmlnh_text_cls\\tbl_res\\sql_incendio1718.xlsx'\n",
    "\n",
    "from gasp3.dt.txtcls.qbase import get_rows_related_with_event\n",
    "\n",
    "get_rows_related_with_event(\n",
    "    conParam, TBL_SCHEMA, WORDS, RESULT,\n",
    "    startTime=START, endTime=END\n",
    ")"
   ]
  },
  {
   "cell_type": "markdown",
   "metadata": {},
   "source": [
    "### Classification Evaluation ###"
   ]
  },
  {
   "cell_type": "markdown",
   "metadata": {},
   "source": [
    "##### Binary classification evaluation ######"
   ]
  },
  {
   "cell_type": "code",
   "execution_count": null,
   "metadata": {
    "scrolled": true
   },
   "outputs": [],
   "source": [
    "from gasp3.dt.txtcls.eval import binary_eval\n",
    "\n",
    "ref_data = r'D:\\indev\\expvgi\\geotmlnh_text_cls\\tbl_res\\fire_predict_bayes.xlsx'\n",
    "tst_data = r'D:\\indev\\expvgi\\geotmlnh_text_cls\\tbl_res\\fire_predict_bayes.xlsx'\n",
    "eval_tbl = r'D:\\indev\\expvgi\\geotmlnh_text_cls\\tbl_res\\fire_bayes_valida.xlsx'\n",
    "\n",
    "refIDCol = 'post_id'\n",
    "refCol   = 'is_incendio_v2'\n",
    "tstIDCol = 'post_id'\n",
    "tstCol   = 'class_bin'\n",
    "\n",
    "a = binary_eval(\n",
    "    ref_data, refIDCol, refCol, tst_data, tstIDCol, eval_tbl, tstCol=tstCol\n",
    ")"
   ]
  },
  {
   "cell_type": "markdown",
   "metadata": {},
   "source": [
    "##### Multi-class classification evaluation #####"
   ]
  },
  {
   "cell_type": "code",
   "execution_count": null,
   "metadata": {},
   "outputs": [],
   "source": [
    "from gasp3.dt.txtcls.eval import model_conf_matrix\n",
    "\n",
    "tst_data = r'D:\\indev\\expvgi\\geotmlnh_text_cls\\tbl_res\\fire_predict_bayes.xlsx'\n",
    "outMxt   = r'D:\\indev\\expvgi\\geotmlnh_text_cls\\tbl_res\\fire_bayes_valida2.xlsx'\n",
    "\n",
    "refCol   = 'e_incendio'\n",
    "tstCol   = 'classification'\n",
    "\n",
    "model_conf_matrix(tst_data, refCol, tstCol, outMxt)"
   ]
  },
  {
   "cell_type": "code",
   "execution_count": null,
   "metadata": {},
   "outputs": [],
   "source": []
  }
 ],
 "metadata": {
  "kernelspec": {
   "display_name": "Python 3",
   "language": "python",
   "name": "python3"
  },
  "language_info": {
   "codemirror_mode": {
    "name": "ipython",
    "version": 3
   },
   "file_extension": ".py",
   "mimetype": "text/x-python",
   "name": "python",
   "nbconvert_exporter": "python",
   "pygments_lexer": "ipython3",
   "version": "3.7.3"
  }
 },
 "nbformat": 4,
 "nbformat_minor": 2
}
