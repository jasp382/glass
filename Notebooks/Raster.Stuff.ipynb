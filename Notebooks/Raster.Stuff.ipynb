{
 "cells": [
  {
   "cell_type": "markdown",
   "metadata": {},
   "source": [
    "### GRASS GIS Raster Calculator in Loop ###"
   ]
  },
  {
   "cell_type": "code",
   "execution_count": null,
   "metadata": {},
   "outputs": [],
   "source": [
    "from gasp3.pyt.oss import lst_ff\n",
    "\n",
    "inFld = r'D:\\indev\\matereo\\all_bands_10m_2006'\n",
    "ouFld = r'D:\\indev\\matereo\\water_bands_2006'\n",
    "water = r'D:\\indev\\matereo\\masks_1805\\main_water.tif'"
   ]
  },
  {
   "cell_type": "code",
   "execution_count": null,
   "metadata": {},
   "outputs": [],
   "source": [
    "bnds = lst_ff(inFld, file_format='.tif')\n",
    "print(bnds)"
   ]
  },
  {
   "cell_type": "code",
   "execution_count": null,
   "metadata": {},
   "outputs": [],
   "source": [
    "import os\n",
    "from gasp3.gt.prop.prj import get_epsg_raster\n",
    "from gasp3.gt.wenv.grs import run_grass\n",
    "\n",
    "# Get EPSG from refRaster\n",
    "epsg = get_epsg_raster(water, returnIsProj=None)\n",
    "    \n",
    "\"\"\"\n",
    "Start GRASS GIS Session\n",
    "\"\"\"\n",
    "grsb = run_grass(\n",
    "    inFld, grassBIN='grass77', location='grs_work',\n",
    "    srs=epsg\n",
    ")\n",
    "    \n",
    "import grass.script as grass\n",
    "import grass.script.setup as gsetup\n",
    "    \n",
    "gsetup.init(grsb, inFld, 'grs_work', 'PERMANENT')\n",
    "\n",
    "from gasp3.pyt.oss       import fprop\n",
    "from gasp3.gt.torst     import rst_to_grs, grs_to_rst\n",
    "from gasp3.gt.wenv.grs   import rst_to_region\n",
    "from gasp3.gt.spnlst.alg import rstcalc\n",
    "\n",
    "main = rst_to_grs(water, fprop(water, 'fn'))\n",
    "rst_to_region(main)\n",
    "\n",
    "# Add bands to GRASS GIS\n",
    "__bnds = [rst_to_grs(i, fprop(i, 'fn')) for i in bnds]\n",
    "\n",
    "# Raster calculator\n",
    "calc_bnd = [rstcalc(\"{} * {}\".format(i, main), 'rsl_{}'.format(i), api='pygrass') for i in __bnds]\n",
    "\n",
    "# Export bands\n",
    "for i in range(len(calc_bnd)):\n",
    "    grs_to_rst(calc_bnd[i], os.path.join(ouFld, __bnds[i] + '.tif'))"
   ]
  },
  {
   "cell_type": "code",
   "execution_count": null,
   "metadata": {},
   "outputs": [],
   "source": [
    "\"\"\"\n",
    "Raster's to Mosaic\n",
    "\"\"\"\n",
    "\n",
    "from gasp.gt.nop.mos import rsts_to_mosaic\n",
    "\n",
    "output = r'C:\\gwork\\fireloc\\tst_windninja\\mdt_wind.tif'\n",
    "\n",
    "rsts_to_mosaic([\n",
    "    r'C:\\gwork\\fireloc\\datasets\\mdt_m888\\dem_f\\dem_75.tif',\n",
    "    r'C:\\gwork\\fireloc\\datasets\\mdt_m888\\dem_f\\dem_76.tif',\n",
    "    r'C:\\gwork\\fireloc\\datasets\\mdt_m888\\dem_f\\dem_77.tif',\n",
    "    r'C:\\gwork\\fireloc\\datasets\\mdt_m888\\dem_f\\dem_104.tif',\n",
    "    r'C:\\gwork\\fireloc\\datasets\\mdt_m888\\dem_f\\dem_105.tif',\n",
    "    r'C:\\gwork\\fireloc\\datasets\\mdt_m888\\dem_f\\dem_106.tif',\n",
    "    r'C:\\gwork\\fireloc\\datasets\\mdt_m888\\dem_f\\dem_133.tif',\n",
    "    r'C:\\gwork\\fireloc\\datasets\\mdt_m888\\dem_f\\dem_134.tif',\n",
    "    r'C:\\gwork\\fireloc\\datasets\\mdt_m888\\dem_f\\dem_135.tif',\n",
    "], output, api=\"rasterio\", fformat='.tif')"
   ]
  },
  {
   "cell_type": "code",
   "execution_count": null,
   "metadata": {},
   "outputs": [],
   "source": [
    "\"\"\"\n",
    "Principal Component Analysis\n",
    "\n",
    "refs:\n",
    "https://towardsdatascience.com/pca-using-python-scikit-learn-e653f8989e60\n",
    "https://towardsdatascience.com/a-step-by-step-explanation-of-principal-component-analysis-b836fb9c97e2\n",
    "\"\"\"\n",
    "\n",
    "bands = [\n",
    "    r'D:\\indev\\matereo\\water_bands_2804\\T33WWR_20190428T104029_B02_10m.tif',\n",
    "    r'D:\\indev\\matereo\\water_bands_2804\\T33WWR_20190428T104029_B03_10m.tif',\n",
    "    r'D:\\indev\\matereo\\water_bands_2804\\T33WWR_20190428T104029_B04_10m.tif',\n",
    "    r'D:\\indev\\matereo\\water_bands_2804\\T33WWR_20190428T104029_B08_10m.tif',\n",
    "    r'D:\\indev\\matereo\\water_bands_1805\\T33WWR_20190518T104029_B02_10m.tif',\n",
    "    r'D:\\indev\\matereo\\water_bands_1805\\T33WWR_20190518T104029_B03_10m.tif',\n",
    "    r'D:\\indev\\matereo\\water_bands_1805\\T33WWR_20190518T104029_B04_10m.tif',\n",
    "    r'D:\\indev\\matereo\\water_bands_1805\\T33WWR_20190518T104029_B08_10m.tif'\n",
    "]"
   ]
  },
  {
   "cell_type": "code",
   "execution_count": null,
   "metadata": {},
   "outputs": [],
   "source": [
    "from osgeo import gdal, gdal_array\n",
    "import numpy as np"
   ]
  },
  {
   "cell_type": "code",
   "execution_count": null,
   "metadata": {},
   "outputs": [],
   "source": [
    "# Open Images\n",
    "\n",
    "img_src = [gdal.Open(i, gdal.GA_ReadOnly) for i in bands]\n",
    "\n",
    "ndVal = img_src[0].GetRasterBand(1).GetNoDataValue()\n",
    "\n",
    "img_x = np.zeros((\n",
    "    img_src[0].RasterYSize, img_src[0].RasterXSize, len(img_src)),\n",
    "    gdal_array.GDALTypeCodeToNumericTypeCode(\n",
    "        img_src[0].GetRasterBand(1).DataType\n",
    "    )\n",
    ")\n",
    "\n",
    "for b in range(img_x.shape[2]):\n",
    "    img_x[:, :, b] = img_src[b].GetRasterBand(1).ReadAsArray()"
   ]
  },
  {
   "cell_type": "code",
   "execution_count": null,
   "metadata": {},
   "outputs": [],
   "source": [
    "new_shape = (img_x.shape[0] * img_x.shape[1], img_x.shape[2])\n",
    "X = img_x[:, :, :8].reshape(new_shape)"
   ]
  },
  {
   "cell_type": "code",
   "execution_count": null,
   "metadata": {},
   "outputs": [],
   "source": [
    "from sklearn.decomposition import PCA\n",
    "\n",
    "pca = PCA(n_components=X.shape[1])\n",
    "\n",
    "X_pca = pca.fit_transform(X)\n",
    "\n",
    "#PCA(copy=True, iterated_power='auto', n_components=2, random_state=None,\n",
    "    #svd_solver='auto', tol=0.0, whiten=False)"
   ]
  },
  {
   "cell_type": "code",
   "execution_count": null,
   "metadata": {},
   "outputs": [],
   "source": [
    "X_pca = X_pca.reshape(img_x[:, :, :].shape)"
   ]
  },
  {
   "cell_type": "code",
   "execution_count": null,
   "metadata": {},
   "outputs": [],
   "source": [
    "pca_array = [np.zeros((X_pca.shape[0], X_pca.shape[1]), X_pca.dtype) for i in range(X_pca.shape[2])]\n",
    "\n",
    "for i in range(X_pca.shape[2]):\n",
    "    pca_array[i][:, :] = X_pca[:, :, i]"
   ]
  },
  {
   "cell_type": "code",
   "execution_count": null,
   "metadata": {},
   "outputs": [],
   "source": [
    "from gasp3.gt.torst import obj_to_rst\n",
    "import os\n",
    "outFolder = r'D:\\indev\\matereo\\pca_tst'\n",
    "tmp = img_src[0].GetRasterBand(1).ReadAsArray()\n",
    "\n",
    "for i in range(len(pca_array)):\n",
    "    nd_nd = np.amin(pca_array[i]) - 1\n",
    "    \n",
    "    np.place(pca_array[i], tmp==ndVal, nd_nd)\n",
    "    \n",
    "    obj_to_rst(\n",
    "        pca_array[i],\n",
    "        os.path.join(outFolder, 'pca_{}.tif'.format(i+1)),\n",
    "        bands[0], noData=nd_nd\n",
    "    )"
   ]
  },
  {
   "cell_type": "code",
   "execution_count": null,
   "metadata": {},
   "outputs": [],
   "source": [
    "print(np.amin(pca_array[0]))"
   ]
  },
  {
   "cell_type": "code",
   "execution_count": null,
   "metadata": {},
   "outputs": [],
   "source": [
    "print(X_pca.shape)\n",
    "print(X_pca)"
   ]
  },
  {
   "cell_type": "code",
   "execution_count": null,
   "metadata": {},
   "outputs": [],
   "source": [
    "print(img_x.shape)\n",
    "print(img_x)"
   ]
  },
  {
   "cell_type": "code",
   "execution_count": null,
   "metadata": {},
   "outputs": [],
   "source": [
    "# IMG to Array\n",
    "\n",
    "from gasp3.gt.fmrst import rst_to_array\n",
    "\n",
    "_arr = [rst_to_array(b) for b in bands]"
   ]
  },
  {
   "cell_type": "code",
   "execution_count": null,
   "metadata": {},
   "outputs": [],
   "source": [
    "from rasterio.crs import CRS\n",
    "\n",
    "crs = CRS.from_epsg(3763)\n",
    "#print(crs.to_proj4())"
   ]
  },
  {
   "cell_type": "code",
   "execution_count": null,
   "metadata": {},
   "outputs": [],
   "source": [
    "print(out_meta)"
   ]
  },
  {
   "cell_type": "code",
   "execution_count": null,
   "metadata": {},
   "outputs": [],
   "source": []
  }
 ],
 "metadata": {
  "kernelspec": {
   "display_name": "Python 3",
   "language": "python",
   "name": "python3"
  },
  "language_info": {
   "codemirror_mode": {
    "name": "ipython",
    "version": 3
   },
   "file_extension": ".py",
   "mimetype": "text/x-python",
   "name": "python",
   "nbconvert_exporter": "python",
   "pygments_lexer": "ipython3",
   "version": "3.6.9"
  }
 },
 "nbformat": 4,
 "nbformat_minor": 2
}
