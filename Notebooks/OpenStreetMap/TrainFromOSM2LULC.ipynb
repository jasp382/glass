{
 "cells": [
  {
   "cell_type": "markdown",
   "metadata": {},
   "source": [
    "# Produce train from OSM2LULC results"
   ]
  },
  {
   "cell_type": "code",
   "execution_count": null,
   "metadata": {},
   "outputs": [],
   "source": [
    "fishnets = '/mnt/d/gwork/osm2lulc_imgcls/lisboa_fishnet/'\n",
    "intersections = '/mnt/d/gwork/osm2lulc_imgcls/r_lisboa_results/'\n",
    "results = '/mnt/d/gwork/osm2lulc_imgcls/lisboa_results/'"
   ]
  },
  {
   "cell_type": "code",
   "execution_count": null,
   "metadata": {},
   "outputs": [],
   "source": [
    "import os\n",
    "import pandas as pd\n",
    "from gasp.pyt.oss import lst_ff, fprop\n",
    "from gasp.gt.fmshp import shp_to_obj\n",
    "from gasp.gt.toshp import df_to_shp"
   ]
  },
  {
   "cell_type": "code",
   "execution_count": null,
   "metadata": {},
   "outputs": [],
   "source": [
    "fish_files = lst_ff(fishnets, file_format='.shp')"
   ]
  },
  {
   "cell_type": "code",
   "execution_count": null,
   "metadata": {},
   "outputs": [],
   "source": [
    "for fishp in fish_files:\n",
    "    # List Intersection files for each fishnet\n",
    "    int_files = lst_ff(os.path.join(\n",
    "        intersections, fprop(fishp, 'fn')\n",
    "    ), file_format='.shp')\n",
    "    \n",
    "    if not len(int_files):\n",
    "        continue\n",
    "    \n",
    "    # Open Fishnet\n",
    "    fish_df = shp_to_obj(fishp)\n",
    "    fish_df.rename(columns={'FID' : 'fid'}, inplace=True)\n",
    "    fish_df['area'] = fish_df.geometry.area\n",
    "    \n",
    "    # Open Other files\n",
    "    for f in int_files:\n",
    "        fn = fprop(f, 'fn')\n",
    "        \n",
    "        df = shp_to_obj(f)\n",
    "        \n",
    "        if fn != 'ovl_union':\n",
    "            df = df[~df.b_lulc.isnull()]\n",
    "        else:\n",
    "            df = df[~df.b_refid.isnull()]\n",
    "        \n",
    "        if fn == 'ovl_union':\n",
    "            df['areav'] = df.geometry.area\n",
    "        \n",
    "        df = pd.DataFrame({'areav' : df.groupby(['a_FID'])['areav'].agg('sum')}).reset_index()\n",
    "        \n",
    "        fish_df = fish_df.merge(df, how='left', left_on='fid', right_on='a_FID')\n",
    "        \n",
    "        if fn != 'ovl_union':\n",
    "            fish_df[fn] = fish_df.areav * 100 / fish_df.area\n",
    "        else:\n",
    "            fish_df['overlay'] = fish_df.areav * 100 / fish_df.area\n",
    "        \n",
    "        fish_df.drop(['areav', 'a_FID'], axis=1, inplace=True)\n",
    "    \n",
    "    # Save file\n",
    "    df_to_shp(fish_df, os.path.join(results, os.path.basename(fishp)))"
   ]
  },
  {
   "cell_type": "code",
   "execution_count": null,
   "metadata": {},
   "outputs": [],
   "source": [
    "rst = '/home/jasp/mrgis/landsense_pp/rst_pnse.tif'\n",
    "fishnets = '/home/jasp/mrgis/landsense_pp/tmp_pnse'\n",
    "\n",
    "from gasp.gt.sample import nfishnet_fm_rst\n",
    "\n",
    "fnet = nfishnet_fm_rst(rst, 500, 500, fishnets)"
   ]
  },
  {
   "cell_type": "code",
   "execution_count": null,
   "metadata": {},
   "outputs": [],
   "source": []
  }
 ],
 "metadata": {
  "kernelspec": {
   "display_name": "Python 3",
   "language": "python",
   "name": "python3"
  },
  "language_info": {
   "codemirror_mode": {
    "name": "ipython",
    "version": 3
   },
   "file_extension": ".py",
   "mimetype": "text/x-python",
   "name": "python",
   "nbconvert_exporter": "python",
   "pygments_lexer": "ipython3",
   "version": "3.6.9"
  }
 },
 "nbformat": 4,
 "nbformat_minor": 4
}
