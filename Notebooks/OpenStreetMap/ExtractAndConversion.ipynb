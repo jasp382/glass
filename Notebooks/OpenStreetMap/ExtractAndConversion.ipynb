{
 "cells": [
  {
   "cell_type": "markdown",
   "metadata": {},
   "source": [
    "# Clip OSMFile using OSMOSIS\n",
    "\n",
    "This method uses OSMOSIS to get an OSM extract from a big OSM File\n",
    "\n",
    "### Parameters: ###\n",
    "\n",
    "**INTEREST_AREA** - Extent of your interest area. Could be a path to a file (e.g. ESRI Shapefile or KML), a wkt string, or a list with wkt strings:\n",
    "\n",
    "```Python\n",
    "# If it is WKT\n",
    "INTEREST_AREA = \"POLYGON ((30 10, 40 40, 20 40, 10 20, 30 10))\"\n",
    "\n",
    "# OR if it is a List of WKT\n",
    "# The list order should be: left; right; bottom; top\n",
    "INTEREST_AREA = [\"POLYGON ((30 10, 40 40, 20 40, 10 20, 30 10))\", \"POLYGON ((15 5, 20 20, 10 20, 5 10, 15 5))\"]\n",
    "\n",
    "# OR if it is a File\n",
    "INTEREST_AREA = '/path/to/yourboundary.shp'\n",
    "```\n",
    "\n",
    "**OSMDATA** - Path to the output file that will have OSM Data available in the Interest Area;\n",
    "\n",
    "**EPSG** - EPSG Code of the Spatial Reference System of INTEREST_AREA."
   ]
  },
  {
   "cell_type": "code",
   "execution_count": null,
   "metadata": {},
   "outputs": [],
   "source": [
    "from gasp.gt.gop.osm.ovly import osm_extraction\n",
    "\n",
    "INTEREST_AREA = '/mnt/d/gwork/prog_webgis/java_ex/dem_coimbra.tif'\n",
    "OSM_FILE      = '/mnt/d/gwork/osm2lulc_imgcls/osmdata/portugal-latest.osm.pbf'\n",
    "OSM_EXTRACT   = '/mnt/d/gwork/prog_webgis/java_ex/osm_coimbra.xml'\n",
    "\n",
    "osm_extraction(INTEREST_AREA, OSM_FILE, OSM_EXTRACT)"
   ]
  },
  {
   "cell_type": "markdown",
   "metadata": {},
   "source": [
    "# Convert OSM data into Feature Class #"
   ]
  },
  {
   "cell_type": "code",
   "execution_count": null,
   "metadata": {},
   "outputs": [],
   "source": [
    "from gasp.gt.toshp.osm import osm_to_featcls\n",
    "\n",
    "osm_to_featcls(\n",
    "    '/mnt/d/gwork/prog_webgis/java_ex/osm_coimbra.xml',\n",
    "    '/mnt/d/gwork/prog_webgis/java_ex', useXmlName=True, outepsg=3763)"
   ]
  },
  {
   "cell_type": "markdown",
   "metadata": {},
   "source": [
    "# OSM File to PSQL DB"
   ]
  },
  {
   "cell_type": "code",
   "execution_count": null,
   "metadata": {},
   "outputs": [],
   "source": [
    "from gasp.gql.to.osm import osm_to_psql\n",
    "\n",
    "inOsm = '/mnt/d/gpto/osm2lulc_imgcls/osmdata/portugal-latest.osm.pbf'\n",
    "out_db = 'osm_pt'\n",
    "\n",
    "osm_to_psql(inOsm, out_db)"
   ]
  },
  {
   "cell_type": "markdown",
   "metadata": {},
   "source": [
    "# OSM File to Relation Sctruture: #"
   ]
  },
  {
   "cell_type": "code",
   "execution_count": null,
   "metadata": {},
   "outputs": [],
   "source": [
    "from gasp.gql.to.osm import osm_to_relationaldb\n",
    "\n",
    "\n",
    "inOsm = '/mnt/d/gwork/osm_flainar/osm_centropt.xml'\n",
    "\n",
    "inSchema = {\n",
    "    \"TBL\" : ['points', 'lines', 'multipolygons'],\n",
    "    'FID' : 'ogc_fid',\n",
    "    \"COLS\" : [\n",
    "        'name', 'osm_id',\n",
    "        #\"ST_X(wkb_geometry) AS longitude\",\n",
    "        #\"ST_Y(wkb_geometry) AS latitude\",\n",
    "        \"wkb_geometry AS geom\",\n",
    "        \"NULL AS featurecategoryid\",\n",
    "        \"NULL AS flainarcategoryid\",\n",
    "        \"NULL AS createdby\",\n",
    "        \"NOW() AS createdon\",\n",
    "        \"NULL AS updatedon\",\n",
    "        \"NULL AS deletedon\"\n",
    "    ],\n",
    "    \"NOT_KEYS\" : [\n",
    "        'ogc_fid', 'osm_id', 'name', \"wkb_geometry\",\n",
    "        'healthcare2', 'other_tags', 'osm_way_id',\n",
    "        'ref', 'sidewalk', 'z_order', 'is_in', 'cuisine',\n",
    "        'barrier', 'busway'\n",
    "    ]\n",
    "}\n",
    "\n",
    "osmGeoTbl = {\n",
    "    \"points\" : {\"TBL\" : 'osm_position', \"FID\" : 'positionid'},\n",
    "    \"multipolygons\" : {\"TBL\" : \"osm_polygons\", \"FID\" : 'polygonid'},\n",
    "    \"lines\" : {\"TBL\" : 'osm_lines', \"FID\" : 'lineid'}\n",
    "}\n",
    "\n",
    "osmCatTbl = {\n",
    "    \"TBL\" : 'osmcategory', \"FID\" : \"osmcategoryid\",\n",
    "    \"KEY_COL\" : \"key\", \"VAL_COL\" : \"value\",\n",
    "    \"COLS\" : [\n",
    "        \"NULL AS createdby\", \"NOW() AS createdon\",\n",
    "        \"NULL AS updatedon\", \"NULL AS deletedon\"\n",
    "    ]\n",
    "}\n",
    "\n",
    "osmRelTbl = {\n",
    "    \"points\" : {\"TBL\" : \"position_osmcat\", \"FID\" : 'pososmcatid'},\n",
    "    \"multipolygons\" : {\"TBL\" : \"polygons_osmcat\", \"FID\" : 'polygoncatid'},\n",
    "    \"lines\" : {\"TBL\" : \"lines_osmcat\", \"FID\" : 'linecatid'},\n",
    "}\n",
    "\n",
    "outsql = '/mnt/d/gwork/osm_flainar/osmflainar_centropt.sql'\n",
    "\n",
    "osm_to_relationaldb(inOsm, inSchema, osmGeoTbl, osmCatTbl, osmRelTbl, outSQL=outsql)"
   ]
  },
  {
   "cell_type": "code",
   "execution_count": null,
   "metadata": {},
   "outputs": [],
   "source": []
  }
 ],
 "metadata": {
  "kernelspec": {
   "display_name": "Python 3",
   "language": "python",
   "name": "python3"
  },
  "language_info": {
   "codemirror_mode": {
    "name": "ipython",
    "version": 3
   },
   "file_extension": ".py",
   "mimetype": "text/x-python",
   "name": "python",
   "nbconvert_exporter": "python",
   "pygments_lexer": "ipython3",
   "version": "3.6.9"
  }
 },
 "nbformat": 4,
 "nbformat_minor": 2
}
