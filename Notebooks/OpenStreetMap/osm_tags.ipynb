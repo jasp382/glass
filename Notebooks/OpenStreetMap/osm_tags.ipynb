{
 "cells": [
  {
   "cell_type": "code",
   "execution_count": null,
   "metadata": {},
   "outputs": [],
   "source": [
    "\"\"\"\n",
    "Get not Used tags\n",
    "\"\"\"\n",
    "\n",
    "from gasp.sds.osm2lulc.utils.tags import get_not_used_tags\n",
    "\n",
    "get_not_used_tags(\n",
    "    '/mnt/d/gpto/osm2lulc_imgcls/osmdata/osm_lisboa.xml',\n",
    "    '/mnt/d/gpto/osm2lulc_imgcls/tags_not_used/not_used_tags.xlsx'\n",
    ")"
   ]
  },
  {
   "cell_type": "code",
   "execution_count": null,
   "metadata": {},
   "outputs": [],
   "source": [
    "\"\"\"\n",
    "Inspect Other Tags\n",
    "\"\"\"\n",
    "\n",
    "from gasp.to import db_to_tbl\n",
    "\n",
    "db = 'osm_europe'\n",
    "\n",
    "db_to_tbl(\n",
    "    db, \"SELECT other_tags FROM multipolygons GROUP BY other_tags\",\n",
    "    '/home/osmtolulc/mrgis/other_tags.xlsx'\n",
    ")"
   ]
  },
  {
   "cell_type": "code",
   "execution_count": null,
   "metadata": {},
   "outputs": [],
   "source": []
  }
 ],
 "metadata": {
  "kernelspec": {
   "display_name": "Python 3",
   "language": "python",
   "name": "python3"
  },
  "language_info": {
   "codemirror_mode": {
    "name": "ipython",
    "version": 3
   },
   "file_extension": ".py",
   "mimetype": "text/x-python",
   "name": "python",
   "nbconvert_exporter": "python",
   "pygments_lexer": "ipython3",
   "version": "3.6.9"
  }
 },
 "nbformat": 4,
 "nbformat_minor": 4
}
