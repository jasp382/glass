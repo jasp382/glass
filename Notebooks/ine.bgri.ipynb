{
 "cells": [
  {
   "cell_type": "code",
   "execution_count": null,
   "metadata": {},
   "outputs": [],
   "source": [
    "from glass.geo.gt.tbl.joins import join_shp_with_csv\n",
    "\n",
    "join_shp_with_csv(\n",
    "    '/mnt/d/MEOCloud/gigs_cmcprj/admin/freg_bgri.shp',\n",
    "    '/mnt/d/MEOCloud/gigs_cmcprj/admin/BGRI11_CENTRO.csv',\n",
    "    '/mnt/d/MEOCloud/gigs_cmcprj/admin/data_bgri2.shp',\n",
    "    shpJoinField=\"BGRI11\",\n",
    "    dataJoinField=\"GEO_COD\",\n",
    "    joinFieldsMantain=[\n",
    "        'N_EDIFICIOS_CLASSICOS',\n",
    "        'N_ALOJAMENTOS',\n",
    "        'N_INDIVIDUOS_RESIDENT'\n",
    "    ],\n",
    "    newNames=['edf', 'aloj', 'popres']\n",
    ")"
   ]
  },
  {
   "cell_type": "code",
   "execution_count": null,
   "metadata": {},
   "outputs": [],
   "source": [
    "from glass.geo.gt.tbl.joins import join_shp_with_csv\n",
    "\n",
    "join_shp_with_csv(\n",
    "    '/mnt/c/gwork/gigs_cmcprj/Censos/grid_cmb.shp',\n",
    "    '/mnt/c/gwork/gigs_cmcprj/Censos/POPGRID_VARIAVEIS_PORTUGAL.csv',\n",
    "    '/mnt/c/gwork/gigs_cmcprj/Censos/data_grid.shp',\n",
    "    shpJoinField=\"GRD1K_INSP\",\n",
    "    dataJoinField=\"GRD1K_INSPIREID\",\n",
    "    joinFieldsMantain=[\n",
    "        'TOT_POP',\n",
    "    ],\n",
    "    newNames=['pop']\n",
    ")"
   ]
  },
  {
   "cell_type": "code",
   "execution_count": null,
   "metadata": {},
   "outputs": [],
   "source": []
  }
 ],
 "metadata": {
  "kernelspec": {
   "display_name": "Python 3",
   "language": "python",
   "name": "python3"
  },
  "language_info": {
   "codemirror_mode": {
    "name": "ipython",
    "version": 3
   },
   "file_extension": ".py",
   "mimetype": "text/x-python",
   "name": "python",
   "nbconvert_exporter": "python",
   "pygments_lexer": "ipython3",
   "version": "3.6.9"
  }
 },
 "nbformat": 4,
 "nbformat_minor": 4
}
