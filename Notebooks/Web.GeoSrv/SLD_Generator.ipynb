{
 "cells": [
  {
   "cell_type": "markdown",
   "metadata": {},
   "source": [
    "### Generate Style Layer Descriptor for a Raster Dataset ###"
   ]
  },
  {
   "cell_type": "code",
   "execution_count": null,
   "metadata": {},
   "outputs": [],
   "source": [
    "SYMBOLOGY_RULES = {\n",
    "    20 : {\"COLOR\" :(175, 240, 233), \"LABEL\" : \"0 - 20\", \"OPACITY\" : 0.95},\n",
    "    50 : {\"COLOR\" :(210, 232, 137), \"LABEL\" : \"20 - 50\", \"OPACITY\" : 0.95},\n",
    "    100 : {\"COLOR\" :(100, 148, 52), \"LABEL\" : \"50 - 100\", \"OPACITY\" : 0.95},\n",
    "    200 : {\"COLOR\" :(189, 70, 2), \"LABEL\" : \"100 - 200\", \"OPACITY\" : 0.95},\n",
    "    300 : {\"COLOR\" :(110, 37, 9), \"LABEL\" : \"200 - 300\", \"OPACITY\" : 0.95},\n",
    "    400 : {\"COLOR\" :(163, 147, 137), \"LABEL\" : \"300 - 400\", \"OPACITY\" : 0.95},\n",
    "    530 : {\"COLOR\" :(255, 252, 255), \"LABEL\" : \"400 - 530\", \"OPACITY\" : 0.95}\n",
    "}\n",
    "\n",
    "DATA_TYPE = \"FLOATING\"\n",
    "\n",
    "OUT_FILE = '/mnt/d/gwork/prog_webgis/java_ex/dem_sld.xml'\n",
    "\n",
    "from gasp.web.geosrv.sld import write_raster_sld\n",
    "\n",
    "write_raster_sld(SYMBOLOGY_RULES, OUT_FILE, dataType=DATA_TYPE)"
   ]
  },
  {
   "cell_type": "markdown",
   "metadata": {},
   "source": [
    "### Table to Style Layer Descriptor for Feature Class ###"
   ]
  },
  {
   "cell_type": "code",
   "execution_count": null,
   "metadata": {},
   "outputs": [],
   "source": [
    "from gasp3.web.geosrv.sld import write_sld\n",
    "\n",
    "SYMBOLOGY_RULES = r'E:\\geotmlnh\\viewer\\cos2015\\cls_lvl2.dbf'\n",
    "\n",
    "#SYMBOLOGY_RULES = [{'cat' : 1, 'color' : '#d9d9d9', 'opacity' : 0.95, 'stroke_h' : '#000000'}]\n",
    "\n",
    "ATTR_NAME = 'cat'\n",
    "Geometry = 'Polygon'\n",
    "DATA = 'CATEGORICAL'\n",
    "ATTR_COLS = {'hex' : 'clr_hex', 'category' : 'codigo'}\n",
    "\n",
    "OUT_SLD = r'E:\\geotmlnh\\viewer\\cos2015\\cos_lvl2.sld'\n",
    "\n",
    "write_sld(ATTR_NAME, SYMBOLOGY_RULES, ATTR_COLS, OUT_SLD,\n",
    "          geometry=Geometry, DATA=DATA)"
   ]
  },
  {
   "cell_type": "code",
   "execution_count": null,
   "metadata": {},
   "outputs": [],
   "source": []
  }
 ],
 "metadata": {
  "kernelspec": {
   "display_name": "Python 3",
   "language": "python",
   "name": "python3"
  },
  "language_info": {
   "codemirror_mode": {
    "name": "ipython",
    "version": 3
   },
   "file_extension": ".py",
   "mimetype": "text/x-python",
   "name": "python",
   "nbconvert_exporter": "python",
   "pygments_lexer": "ipython3",
   "version": "3.6.9"
  }
 },
 "nbformat": 4,
 "nbformat_minor": 2
}
