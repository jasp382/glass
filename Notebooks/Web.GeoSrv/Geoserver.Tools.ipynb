{
 "cells": [
  {
   "cell_type": "code",
   "execution_count": null,
   "metadata": {},
   "outputs": [],
   "source": [
    "\"\"\"\n",
    "List Workspaces in GeoServer\n",
    "\"\"\"\n",
    "\n",
    "from gasp.web.geosrv.ws import lst_ws\n",
    "\n",
    "workspaces = lst_ws()\n",
    "\n",
    "print(workspaces)"
   ]
  },
  {
   "cell_type": "code",
   "execution_count": null,
   "metadata": {},
   "outputs": [],
   "source": [
    "\"\"\"\n",
    "Create new GeoServer Workspace\n",
    "\"\"\"\n",
    "\n",
    "from gasp.web.geosrv.ws import create_ws\n",
    "\n",
    "create_ws('teste', overwrite=None)"
   ]
  },
  {
   "cell_type": "code",
   "execution_count": null,
   "metadata": {},
   "outputs": [],
   "source": [
    "\"\"\"\n",
    "Delete existing GeoServer Workspace\n",
    "\"\"\"\n",
    "\n",
    "from gasp.web.geosrv.ws import del_ws\n",
    "\n",
    "del_ws('teste')"
   ]
  },
  {
   "cell_type": "code",
   "execution_count": null,
   "metadata": {},
   "outputs": [],
   "source": [
    "\"\"\"\n",
    "List Stores in GeoServer\n",
    "\"\"\"\n",
    "\n",
    "from gasp.web.geosrv.stores import lst_stores\n",
    "\n",
    "stores = lst_stores('aulatst')\n",
    "\n",
    "print(stores)"
   ]
  },
  {
   "cell_type": "code",
   "execution_count": null,
   "metadata": {},
   "outputs": [],
   "source": [
    "\"\"\"\n",
    "Delete GeoServer Store\n",
    "\"\"\"\n",
    "\n",
    "from gasp.web.geosrv.stores import del_store\n",
    "\n",
    "del_store('aulatst', 'osm_roads')"
   ]
  },
  {
   "cell_type": "code",
   "execution_count": null,
   "metadata": {},
   "outputs": [],
   "source": [
    "\"\"\"\n",
    "ESRI Shapefile to Store\n",
    "\"\"\"\n",
    "\n",
    "from gasp.web.geosrv.stores import shp_to_store\n",
    "\n",
    "in_shp = '/mnt/d/gwork/tstgsrv/pnt_flainar.shp'\n",
    "store_name = 'pontos_viseu'\n",
    "workspace  = 'tstflainar'\n",
    "\n",
    "r = shp_to_store(in_shp, store_name, workspace)"
   ]
  },
  {
   "cell_type": "code",
   "execution_count": null,
   "metadata": {},
   "outputs": [],
   "source": [
    "\"\"\"\n",
    "Add Raster Layer to GeoServer\n",
    "\"\"\"\n",
    "\n",
    "from gasp3.web.geosrv.ws import create_workspace\n",
    "from gasp.geosrv.stores import add_rst_store\n",
    "from gasp.geosrv.lyrs import pub_rst_lyr\n",
    "\n",
    "WORKSPACE = \"tst_ruru\"\n",
    "STORE_NAME = \"tst_img\"\n",
    "RASTER_FILE = r\"D:\\gis\\cw_data_ruicruz\\multibnd.tif\"\n",
    "\n",
    "create_workspace(WORKSPACE, conf=GEOSRV_CON)\n",
    "add_rst_store(RASTER_FILE, STORE_NAME, WORKSPACE, conf=GEOSRV_CON)\n",
    "pub_rst_lyr(\"multiband\", STORE_NAME, WORKSPACE, 32629, conf=GEOSRV_CON)"
   ]
  },
  {
   "cell_type": "code",
   "execution_count": null,
   "metadata": {},
   "outputs": [],
   "source": []
  }
 ],
 "metadata": {
  "kernelspec": {
   "display_name": "Python 3",
   "language": "python",
   "name": "python3"
  },
  "language_info": {
   "codemirror_mode": {
    "name": "ipython",
    "version": 3
   },
   "file_extension": ".py",
   "mimetype": "text/x-python",
   "name": "python",
   "nbconvert_exporter": "python",
   "pygments_lexer": "ipython3",
   "version": "3.6.9"
  }
 },
 "nbformat": 4,
 "nbformat_minor": 2
}
