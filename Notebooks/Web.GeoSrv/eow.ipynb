{
 "cells": [
  {
   "cell_type": "code",
   "execution_count": 1,
   "metadata": {},
   "outputs": [],
   "source": [
    "\"\"\"\n",
    "Create EOW Services for Web Mapping\n",
    "\"\"\"\n",
    "\n",
    "# Map Services Extent\n",
    "ext_shp = '/home/jasp/mrgis/flainar_serv/lmt_pt.shp'\n",
    "\n",
    "# Tiles width and height\n",
    "width  = 50000\n",
    "height = 50000\n",
    "\n",
    "# Output EPSG\n",
    "oepsg = 3763\n",
    "\n",
    "# Layers Definition\n",
    "layers = {\n",
    "    'gsrv_osm_polygons' : (\n",
    "        \"SELECT polygonid, ST_Transform(ST_MakeValid(geom), 3763) AS geom FROM (\"\n",
    "            \"SELECT op.polygonid, op.geom, \"\n",
    "            \"array_agg(osmcat.key) AS okey, array_agg(osmcat.value) AS ovalue \"\n",
    "            \"FROM osm_polygons AS op \"\n",
    "            \"INNER JOIN polygons_osmcat AS ocat \"\n",
    "            \"ON op.polygonid = ocat.polygoncatid \"\n",
    "            \"INNER JOIN osmcategory AS osmcat \"\n",
    "            \"ON ocat.osmcategoryid = osmcat.osmcategoryid \"\n",
    "            \"GROUP BY op.polygonid, op.geom\"\n",
    "        \") AS foo \"\n",
    "        \"WHERE NOT('boundary' = ANY(ovalue))\"\n",
    "    ),\n",
    "    'gsrv_osm_points' : (\n",
    "        \"SELECT positionid, name, ST_Transform(geom, 3763) AS geom \"\n",
    "        \"FROM osm_position \"\n",
    "        \"WHERE osm_id IS NOT NULL\"\n",
    "    )\n",
    "}\n",
    "\n",
    "simplification = {'01' : 0.01, '05' : 0.05, '1' : 0.1}\n",
    "\n",
    "simplayers = ['gsrv_osm_polygons']\n",
    "\n",
    "geomcols = {'gsrv_osm_polygons' : 'geom', 'gsrv_osm_points' : 'geom'}\n",
    "\n",
    "# RefGRID name\n",
    "refgrid = 'refgrid'\n",
    "\n",
    "# DB Name\n",
    "db = 'flainar_gh'\n",
    "\n",
    "# GeoServer data\n",
    "ws = 'eowdeploy'\n",
    "store = 'ghost'"
   ]
  },
  {
   "cell_type": "code",
   "execution_count": 2,
   "metadata": {},
   "outputs": [],
   "source": [
    "import os\n",
    "from shapely.wkt import loads\n",
    "from glass.geo.gt.sample import create_fishnet\n",
    "from glass.geo.gt.fmshp import shp_to_obj\n",
    "from glass.sql.to import df_to_db\n",
    "from glass.geo.gql.sply import geom_simplification\n",
    "from glass.sql.i import cols_name\n",
    "from glass.sql.to import q_to_ntbl\n",
    "from glass.sql.fm import q_to_obj\n",
    "from glass.web.geosrv.ws import create_ws\n",
    "from glass.web.geosrv.stores import create_pgstore\n",
    "from glass.web.geosrv.lyrs import pub_pglyr"
   ]
  },
  {
   "cell_type": "code",
   "execution_count": 3,
   "metadata": {},
   "outputs": [],
   "source": [
    "from glass.sql.tbl import del_tables\n",
    "\n",
    "for l in layers:\n",
    "    del_tables(db, l, isBasename=True)"
   ]
  },
  {
   "cell_type": "code",
   "execution_count": 4,
   "metadata": {},
   "outputs": [
    {
     "name": "stderr",
     "output_type": "stream",
     "text": [
      "/home/jasp/.virtualenvs/gaspenv/lib/python3.6/site-packages/pyproj/crs/crs.py:55: FutureWarning: '+init=<authority>:<code>' syntax is deprecated. '<authority>:<code>' is the preferred initialization method. When making the change, be mindful of axis order changes: https://pyproj4.github.io/pyproj/stable/gotchas.html#axis-order-changes-in-proj-6\n",
      "  return _prepare_from_string(\" \".join(pjargs))\n",
      "/home/jasp/.virtualenvs/gaspenv/lib/python3.6/site-packages/pyproj/crs/crs.py:55: FutureWarning: '+init=<authority>:<code>' syntax is deprecated. '<authority>:<code>' is the preferred initialization method. When making the change, be mindful of axis order changes: https://pyproj4.github.io/pyproj/stable/gotchas.html#axis-order-changes-in-proj-6\n",
      "  return _prepare_from_string(\" \".join(pjargs))\n"
     ]
    }
   ],
   "source": [
    "# Create reference GRID\n",
    "refgrid_shp = create_fishnet(ext_shp, os.path.join(\n",
    "    os.path.dirname(ext_shp),\n",
    "    refgrid + '.shp'\n",
    "), width, height)\n",
    "\n",
    "# Remove cells not intersecting with ext_shp\n",
    "df_grid = shp_to_obj(refgrid_shp, srs_to=oepsg)\n",
    "df_ref  = shp_to_obj(ext_shp, srs_to=oepsg)\n",
    "\n",
    "geom = loads(df_ref.loc[0, 'geometry'].wkt)\n",
    "\n",
    "df_grid['is_int'] = df_grid.geometry.intersects(geom)\n",
    "df_grid = df_grid[df_grid.is_int == True]\n",
    "\n",
    "df_grid.reset_index(inplace=True)\n",
    "\n",
    "df_grid.drop(['index', 'FID', 'is_int'], axis=1, inplace=True)\n",
    "\n",
    "df_grid['cell_id'] = df_grid.index + 1\n",
    "\n",
    "# Reference GRID to PostgreSQL\n",
    "refgrid = df_to_db(db, df_grid, refgrid, colGeom='geometry', epsg=oepsg, geomType='Polygon')"
   ]
  },
  {
   "cell_type": "code",
   "execution_count": 5,
   "metadata": {},
   "outputs": [],
   "source": [
    "# Produce layer tables\n",
    "for l in layers:\n",
    "    q_to_ntbl(db, l, layers[l], api='psql')"
   ]
  },
  {
   "cell_type": "code",
   "execution_count": 6,
   "metadata": {},
   "outputs": [
    {
     "name": "stdout",
     "output_type": "stream",
     "text": [
      "{'gsrv_osm_polygons': ['gsrv_osm_polygons_01', 'gsrv_osm_polygons_05', 'gsrv_osm_polygons_1']}\n"
     ]
    }
   ],
   "source": [
    "# Geometries simplification\n",
    "\n",
    "simplyres = {}\n",
    "lyrcols   = {}\n",
    "\n",
    "for l in layers:\n",
    "    lyrcols[l]   = cols_name(db, l)\n",
    "    lyrcols[l].remove(geomcols[l])\n",
    "\n",
    "for l in simplayers:\n",
    "    simplyres[l] = []\n",
    "    \n",
    "    for s in simplification:\n",
    "        otbl = geom_simplification(\n",
    "            db, l, lyrcols[l], geomcols[l],\n",
    "            simplification[s], l + '_' + s\n",
    "        )\n",
    "        \n",
    "        simplyres[l].append(otbl)\n",
    "\n",
    "print(simplyres)"
   ]
  },
  {
   "cell_type": "code",
   "execution_count": 7,
   "metadata": {},
   "outputs": [
    {
     "data": {
      "text/plain": [
       "<Response [201]>"
      ]
     },
     "execution_count": 7,
     "metadata": {},
     "output_type": "execute_result"
    }
   ],
   "source": [
    "# Create workspace and store in GeoServer\n",
    "\n",
    "create_ws(ws, overwrite=True)\n",
    "\n",
    "create_pgstore(store, ws, db)"
   ]
  },
  {
   "cell_type": "code",
   "execution_count": 8,
   "metadata": {},
   "outputs": [],
   "source": [
    "# Clip Geometries\n",
    "\n",
    "refgrid = 'refgrid'\n",
    "\n",
    "df_grid = q_to_obj(db, refgrid, geomCol='geom', epsg=oepsg)\n",
    "\n",
    "Q = (\n",
    "    \"SELECT {c}, ST_Intersection({g}, ST_GeomFromText('{w}', {ep})) AS {g} \"\n",
    "    \"FROM {t} \"\n",
    "    \"WHERE ST_Intersects({g}, ST_GeomFromText('{w}', {ep}))\"\n",
    ")\n",
    "\n",
    "# Publish layers with all data\n",
    "for l in layers:\n",
    "    pub_pglyr(ws, store, l, title='tt_' + l)\n",
    "    \n",
    "    if l in simplyres:\n",
    "        for t in simplyres[l]:\n",
    "            pub_pglyr(ws, store, t, title='tt_' + t)\n",
    "\n",
    "for idx, row in df_grid.iterrows():\n",
    "    # For Layer in layers\n",
    "    for l in layers:\n",
    "        gc = geomcols[l]\n",
    "        \n",
    "        # Clip\n",
    "        nt = q_to_ntbl(db, l + '_id' + str(row.cell_id), Q.format(\n",
    "            c=\", \".join(lyrcols[l]), g=gc, w=row.geom.wkt,\n",
    "            ep=str(oepsg), t=l\n",
    "        ), api='psql')\n",
    "        \n",
    "        # Publish layer in GeoServer\n",
    "        pub_pglyr(ws, store, nt, title='tt_' + nt)\n",
    "        \n",
    "        # If there is some simplified tables\n",
    "        if l in simplyres:\n",
    "            # Clip simplied geometries\n",
    "            for t in simplyres[l]:\n",
    "                _nt = q_to_ntbl(db, t + '_id' + str(row.cell_id), Q.format(\n",
    "                    c=\", \".join(lyrcols[l]), g=gc, w=row.geom.wkt,\n",
    "                    ep=str(oepsg), t=t\n",
    "                ), api='psql')\n",
    "                \n",
    "                pub_pglyr(ws, store, _nt, title='tt_' + _nt)"
   ]
  },
  {
   "cell_type": "code",
   "execution_count": null,
   "metadata": {},
   "outputs": [],
   "source": [
    "for t in simplyres[l]:\n",
    "    print(t)"
   ]
  },
  {
   "cell_type": "code",
   "execution_count": null,
   "metadata": {},
   "outputs": [],
   "source": [
    "base = df_ref.plot(color='white', edgecolor='black')\n",
    "\n",
    "df_grid.plot(ax=base, color=None, edgecolor='red')"
   ]
  },
  {
   "cell_type": "code",
   "execution_count": null,
   "metadata": {},
   "outputs": [],
   "source": [
    "print(df_grid.geometry.wkt)"
   ]
  },
  {
   "cell_type": "code",
   "execution_count": null,
   "metadata": {},
   "outputs": [],
   "source": []
  }
 ],
 "metadata": {
  "kernelspec": {
   "display_name": "Python 3.6.9 64-bit ('gaspenv': venv)",
   "language": "python",
   "name": "python36964bitgaspenvvenve111cbcdfb83435383c7ca85dfccaa72"
  },
  "language_info": {
   "codemirror_mode": {
    "name": "ipython",
    "version": 3
   },
   "file_extension": ".py",
   "mimetype": "text/x-python",
   "name": "python",
   "nbconvert_exporter": "python",
   "pygments_lexer": "ipython3",
   "version": "3.6.9"
  }
 },
 "nbformat": 4,
 "nbformat_minor": 4
}
