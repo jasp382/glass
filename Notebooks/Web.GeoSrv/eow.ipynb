{
 "cells": [
  {
   "cell_type": "code",
   "execution_count": null,
   "metadata": {},
   "outputs": [],
   "source": [
    "\"\"\"\n",
    "Create EOW Services for Web Mapping\n",
    "\"\"\"\n",
    "\n",
    "data_db  = 'eowdbcontents'\n",
    "ghost_db = 'flainardbgeoserver'\n",
    "\n",
    "\n",
    "# GeoServer data\n",
    "ws = 'eowdeploy'\n",
    "store = 'ghost'\n",
    "\n",
    "# Levels table\n",
    "levels_tbl = 'grid_levels'\n",
    "\n",
    "# Layers table\n",
    "layers_tbl = 'layers'\n",
    "\n",
    "# Reference GRIDS\n",
    "grid_tbl = 'grids'\n",
    "\n",
    "gsrvlyr = 'geoserverlayers'\n",
    "\n",
    "setupdb = 'default'"
   ]
  },
  {
   "cell_type": "code",
   "execution_count": null,
   "metadata": {},
   "outputs": [],
   "source": [
    "import os\n",
    "import pandas as pd\n",
    "from shapely.wkt import loads\n",
    "from glass.geo.gt.sample import create_fishnet\n",
    "from glass.geo.gt.fmshp import shp_to_obj\n",
    "from glass.sql.to import df_to_db\n",
    "from glass.geo.gql.sply import geom_simplification\n",
    "from glass.sql.i import cols_name\n",
    "from glass.sql.to import q_to_ntbl\n",
    "from glass.sql.fm import q_to_obj\n",
    "from glass.web.geosrv.ws import create_ws\n",
    "from glass.web.geosrv.stores import create_pgstore\n",
    "from glass.web.geosrv.lyrs import pub_pglyr\n",
    "from glass.sql.fm import dump_tbls\n",
    "from glass.sql.to import restore_tbls\n",
    "from glass.pyt.oss import del_file\n",
    "from glass.sql.tbl import drop_tbldata"
   ]
  },
  {
   "cell_type": "code",
   "execution_count": null,
   "metadata": {},
   "outputs": [],
   "source": [
    "import datetime as dt\n",
    "\n",
    "time_a = dt.datetime.now().replace(microsecond=0)"
   ]
  },
  {
   "cell_type": "code",
   "execution_count": null,
   "metadata": {},
   "outputs": [],
   "source": [
    "# Get Levels\n",
    "levels = q_to_obj(ghost_db, \"SELECT * FROM {}\".format(levels_tbl), dbset=setupdb).to_dict(orient='records')\n",
    "\n",
    "# Get Layers\n",
    "layers = q_to_obj(data_db, \"SELECT * FROM {}\".format(layers_tbl), dbset=setupdb).to_dict(orient='records')"
   ]
  },
  {
   "cell_type": "code",
   "execution_count": null,
   "metadata": {},
   "outputs": [],
   "source": [
    "print(levels[0])\n",
    "print(layers[0])"
   ]
  },
  {
   "cell_type": "code",
   "execution_count": null,
   "metadata": {},
   "outputs": [],
   "source": [
    "from glass.sql.tbl import del_tables\n",
    "\n",
    "for l in layers:\n",
    "    del_tables(ghost_db, l[\"slug\"], isBasename=True, db_set=setupdb)\n",
    "\n",
    "drop_tbldata(data_db, gsrvlyr, dbset=setupdb)"
   ]
  },
  {
   "cell_type": "code",
   "execution_count": null,
   "metadata": {},
   "outputs": [],
   "source": [
    "# Produce layer tables in Ghost DB\n",
    "\n",
    "# Create Layer Tables\n",
    "for l in layers:\n",
    "    q_to_ntbl(ghost_db, l[\"slug\"], l[\"sql_script\"], ntblIsView=False, api='psql', db__set=setupdb)\n",
    "    \n",
    "    l[\"cols\"] = cols_name(ghost_db, l[\"slug\"], dbset=setupdb)\n",
    "    l[\"cols\"].remove(l[\"geom\"])\n",
    "\n",
    "# Dump and Restore layer tables\n",
    "\"\"\"\n",
    "tbls_dump = dump_tbls(data_db, list(layers.keys()), os.path.join(\n",
    "    os.path.dirname(ext_shp), 'viewsdump.sql'\n",
    "))\n",
    "\n",
    "restore_tbls(ghost_db, tbls_dump)\n",
    "\n",
    "# Delete tables from data db\n",
    "del_tables(data_db, list(layers.keys()))\n",
    "del_file(tbls_dump)\n",
    "\"\"\""
   ]
  },
  {
   "cell_type": "code",
   "execution_count": null,
   "metadata": {},
   "outputs": [],
   "source": [
    "Q = (\n",
    "    \"SELECT {c}, ST_SimplifyPreserveTopology(\"\n",
    "        \"ST_Intersection({g}, ST_GeomFromText('{w}', {ep})), \"\n",
    "        \"{sf}\"\n",
    "    \") AS {g} \"\n",
    "    \"FROM {t} \"\n",
    "    \"WHERE ST_Intersects({g}, ST_GeomFromText('{w}', {ep})){ara}{lmt}\"\n",
    ")\n",
    "\n",
    "_Q = (\n",
    "    \"SELECT {c}, ST_Intersection({g}, ST_GeomFromText('{w}', {ep})) AS {g} \"\n",
    "    \"FROM {t} WHERE ST_Intersects({g}, ST_GeomFromText('{w}', {ep})){ara}{lmt}\"\n",
    ")\n",
    "    \n",
    "# For each layer\n",
    "for l in layers:\n",
    "    # Publish layers with all data\n",
    "    pub_pglyr(ws, store, l['slug'], title='tt_' + l['slug'])\n",
    "\n",
    "maptbl = []\n",
    "_e = 1\n",
    "for lvl in levels:\n",
    "    rgrid = q_to_obj(data_db, \"SELECT * FROM {} WHERE level={}\".format(\n",
    "        grid_tbl, str(lvl['id'])\n",
    "    ), geomCol='geom', epsg=3763, dbset=setupdb)\n",
    "    \n",
    "    for idx, row in rgrid.iterrows():\n",
    "        for l in layers:\n",
    "            if int(lvl['id']) not in l['levels']:\n",
    "                continue\n",
    "            \n",
    "            # Clip and simplification\n",
    "            if pd.isna(lvl['simplification']) or l[\"simplification\"] == False:\n",
    "                nt = q_to_ntbl(\n",
    "                        ghost_db, '{}_lvl{}_id{}'.format(\n",
    "                            l[\"slug\"], str(lvl['id']), str(row.id)\n",
    "                        ), _Q.format(\n",
    "                            c=\", \".join(l[\"cols\"]), g=l[\"geom\"],\n",
    "                            w=row.geom.wkt, ep='3763', t=l[\"slug\"],\n",
    "                            lmt=\"\" if pd.isna(lvl['nfeatures']) else \" LIMIT {}\".format(str(int(lvl['nfeatures']))),\n",
    "                            ara=\" AND ST_Area({}) >= {}\".format(\n",
    "                                l[\"geom\"], lvl['minarea']\n",
    "                            ) if l['tgeom'] == 'Polygon' and not pd.isna(lvl['minarea']) else \"\"\n",
    "                        ),\n",
    "                        api='psql', db__set=setupdb\n",
    "                )\n",
    "            else:\n",
    "                nt = q_to_ntbl(\n",
    "                        ghost_db, '{}_lvl{}_id{}'.format(\n",
    "                            l[\"slug\"], str(lvl['id']), str(row.id)\n",
    "                        ), Q.format(\n",
    "                            c=\", \".join(l[\"cols\"]), g=l[\"geom\"], w=row.geom.wkt,\n",
    "                            ep='3763', t=l[\"slug\"], sf=str(lvl['simplification']),\n",
    "                            lmt=\"\" if pd.isna(lvl[\"nfeatures\"]) else \" LIMIT {}\".format(str(int(lvl['nfeatures']))),\n",
    "                            ara=\" AND ST_Area({}) >= {}\".format(\n",
    "                                l[\"geom\"], lvl['minarea']\n",
    "                            ) if l['tgeom'] == 'Polygon' and not pd.isna(lvl['minarea']) else \"\"\n",
    "                        ),\n",
    "                        api='psql', db__set=setupdb\n",
    "                )\n",
    "            \n",
    "            # Publish layer in GeoServer\n",
    "            pub_pglyr(ws, store, nt, title='tt_' + nt)\n",
    "            \n",
    "            maptbl.append(\n",
    "                [_e, nt, l['id'], row.id]\n",
    "            )\n",
    "            \n",
    "            _e += 1"
   ]
  },
  {
   "cell_type": "code",
   "execution_count": null,
   "metadata": {},
   "outputs": [],
   "source": [
    "#maptbl = pd.DataFrame(\n",
    "    #maptbl, columns=['id', 'name', 'layerid', 'cellid']\n",
    "#)\n",
    "df_to_db(data_db, maptbl, gsrvlyr, append=True, dbset=setupdb)\n",
    "\n",
    "time_b = dt.datetime.now().replace(microsecond=0)\n",
    "\n",
    "print(time_b - time_a)"
   ]
  },
  {
   "cell_type": "code",
   "execution_count": null,
   "metadata": {},
   "outputs": [],
   "source": [
    "data_db  = 'eow-db-contents'\n",
    "ghost_db = 'flainar-db-geoserver'\n",
    "\n",
    "\n",
    "# GeoServer data\n",
    "ws = 'eowdeploy'\n",
    "store = 'ghost'\n",
    "\n",
    "gsrvlyr = 'geoserverlayers'\n",
    "\n",
    "setupdb = 'flainar'"
   ]
  },
  {
   "cell_type": "code",
   "execution_count": null,
   "metadata": {},
   "outputs": [],
   "source": [
    "from glass.sql.fm import q_to_obj\n",
    "from glass.web.geosrv.ws import create_ws\n",
    "from glass.web.geosrv.stores import create_pgstore\n",
    "from glass.web.geosrv.lyrs import pub_pglyr"
   ]
  },
  {
   "cell_type": "code",
   "execution_count": null,
   "metadata": {},
   "outputs": [],
   "source": [
    "glyr = q_to_obj(data_db, \"SELECT name FROM {}\".format(gsrvlyr), dbset=setupdb)"
   ]
  },
  {
   "cell_type": "code",
   "execution_count": null,
   "metadata": {},
   "outputs": [],
   "source": [
    "glyr.head()"
   ]
  },
  {
   "cell_type": "code",
   "execution_count": null,
   "metadata": {},
   "outputs": [],
   "source": [
    "# Create workspace and store in GeoServer\n",
    "\n",
    "create_ws(ws, overwrite=True)\n",
    "\n",
    "create_pgstore(store, ws, ghost_db)"
   ]
  },
  {
   "cell_type": "code",
   "execution_count": null,
   "metadata": {},
   "outputs": [],
   "source": [
    "# Create layers in geoserer\n",
    "for idx, row in glyr.iterrows():\n",
    "    pub_pglyr(ws, store, row['name'], title='tt_' + row['name'])"
   ]
  },
  {
   "cell_type": "code",
   "execution_count": null,
   "metadata": {},
   "outputs": [],
   "source": []
  }
 ],
 "metadata": {
  "kernelspec": {
   "display_name": "Python 3.6.9 64-bit ('gaspenv': venv)",
   "language": "python",
   "name": "python36964bitgaspenvvenve111cbcdfb83435383c7ca85dfccaa72"
  },
  "language_info": {
   "codemirror_mode": {
    "name": "ipython",
    "version": 3
   },
   "file_extension": ".py",
   "mimetype": "text/x-python",
   "name": "python",
   "nbconvert_exporter": "python",
   "pygments_lexer": "ipython3",
   "version": "3.6.9"
  }
 },
 "nbformat": 4,
 "nbformat_minor": 4
}
