{
 "cells": [
  {
   "cell_type": "code",
   "execution_count": null,
   "metadata": {},
   "outputs": [],
   "source": [
    "\"\"\"\n",
    "Produce matrix from two columns in table\n",
    "\"\"\"\n",
    "\n",
    "from glass.geo.gt.tbl.tomtx import tbl_to_areamtx\n",
    "\n",
    "shp = '/mnt/c/gwork/osm2lulc_imgcls/rs_paper/results_randomforest/lsb_f1_500k_4x3_05kt_v2_osm.shp'\n",
    "col1 = 'a_lulc_2'\n",
    "col2 = 'b_lulc_0'\n",
    "mtx = '/mnt/c/gwork/osm2lulc_imgcls/rs_paper/results_randomforest/lsb_f1_500k_4x3_05kt_v2_osm.xlsx'\n",
    "\n",
    "tbl_to_areamtx(shp, col1, col2, mtx, with_metrics=True)"
   ]
  },
  {
   "cell_type": "code",
   "execution_count": null,
   "metadata": {},
   "outputs": [],
   "source": [
    "from glass.gt.sample import create_fishnet\n",
    "from glass.gt.prop.ext import get_ext\n",
    "\n",
    "ref_boundary = '/mnt/c/gwork/mtx_confusaoo/rst_lisboa.tif'\n",
    "\n",
    "ext = get_ext(ref_boundary)\n",
    "print(ext)\n",
    "\n",
    "width  = (ext[1] - ext[0]) / 3\n",
    "height = (ext[3] - ext[2]) / 4\n",
    "\n",
    "\n",
    "gridShp = create_fishnet(\n",
    "    ref_boundary, '/mnt/c/gwork/mtx_confusaoo/ref_grid2.shp',\n",
    "    width, height, xy_row_col=None, srs=32629\n",
    ")"
   ]
  },
  {
   "cell_type": "code",
   "execution_count": null,
   "metadata": {},
   "outputs": [],
   "source": []
  }
 ],
 "metadata": {
  "kernelspec": {
   "display_name": "Python 3",
   "language": "python",
   "name": "python3"
  },
  "language_info": {
   "codemirror_mode": {
    "name": "ipython",
    "version": 3
   },
   "file_extension": ".py",
   "mimetype": "text/x-python",
   "name": "python",
   "nbconvert_exporter": "python",
   "pygments_lexer": "ipython3",
   "version": "3.6.9"
  }
 },
 "nbformat": 4,
 "nbformat_minor": 4
}
