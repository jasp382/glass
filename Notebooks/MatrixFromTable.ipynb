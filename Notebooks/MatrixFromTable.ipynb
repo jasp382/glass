{
 "cells": [
  {
   "cell_type": "code",
   "execution_count": null,
   "metadata": {},
   "outputs": [],
   "source": [
    "\"\"\"\n",
    "Produce matrix from two columns in table\n",
    "\"\"\"\n",
    "\n",
    "from gasp.gt.tbl.tomtx import tbl_to_areamtx\n",
    "\n",
    "shp = '/mnt/c/gwork/mtx_confusaoo/un_0_1.shp'\n",
    "col1 = 'lulc_0'\n",
    "col2 = 'lulc_1'\n",
    "mtx = '/mnt/c/gwork/mtx_confusaoo/teste.xlsx'\n",
    "\n",
    "tbl_to_areamtx(shp, col1, col2, mtx)"
   ]
  },
  {
   "cell_type": "code",
   "execution_count": null,
   "metadata": {},
   "outputs": [],
   "source": [
    "from gasp.gt.sample import create_fishnet\n",
    "from gasp.gt.prop.ext import get_ext\n",
    "\n",
    "ref_boundary = '/mnt/c/gwork/mtx_confusaoo/rst_lisboa.tif'\n",
    "\n",
    "ext = get_ext(ref_boundary)\n",
    "print(ext)\n",
    "\n",
    "width  = (ext[1] - ext[0]) / 3\n",
    "height = (ext[3] - ext[2]) / 4\n",
    "\n",
    "\n",
    "gridShp = create_fishnet(\n",
    "    ref_boundary, '/mnt/c/gwork/mtx_confusaoo/ref_grid2.shp',\n",
    "    width, height, xy_row_col=None, srs=32629\n",
    ")"
   ]
  },
  {
   "cell_type": "code",
   "execution_count": null,
   "metadata": {},
   "outputs": [],
   "source": []
  }
 ],
 "metadata": {
  "kernelspec": {
   "display_name": "Python 3",
   "language": "python",
   "name": "python3"
  },
  "language_info": {
   "codemirror_mode": {
    "name": "ipython",
    "version": 3
   },
   "file_extension": ".py",
   "mimetype": "text/x-python",
   "name": "python",
   "nbconvert_exporter": "python",
   "pygments_lexer": "ipython3",
   "version": "3.6.9"
  }
 },
 "nbformat": 4,
 "nbformat_minor": 4
}
