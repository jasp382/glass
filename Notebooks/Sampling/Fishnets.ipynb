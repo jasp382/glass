{
 "cells": [
  {
   "cell_type": "code",
   "execution_count": null,
   "metadata": {},
   "outputs": [],
   "source": [
    "\"\"\"\n",
    "Create fishnet\n",
    "\"\"\"\n",
    "\n",
    "from gasp.gt.sample import create_fishnet\n",
    "\n",
    "inShp = r'D:\\gisbrary\\admin_lmt\\CAOP2017\\pt_lmt.shp'\n",
    "\n",
    "outShp = r'C:\\gwork\\fireloc\\datasets\\ref\\pt_ref_grid.shp'\n",
    "\n",
    "create_fishnet(inShp, outShp, width=20000, height=20000)"
   ]
  },
  {
   "cell_type": "code",
   "execution_count": null,
   "metadata": {},
   "outputs": [],
   "source": []
  }
 ],
 "metadata": {
  "kernelspec": {
   "display_name": "Python 3",
   "language": "python",
   "name": "python3"
  },
  "language_info": {
   "codemirror_mode": {
    "name": "ipython",
    "version": 3
   },
   "file_extension": ".py",
   "mimetype": "text/x-python",
   "name": "python",
   "nbconvert_exporter": "python",
   "pygments_lexer": "ipython3",
   "version": "3.6.9"
  }
 },
 "nbformat": 4,
 "nbformat_minor": 2
}
