{
 "cells": [
  {
   "cell_type": "markdown",
   "metadata": {},
   "source": [
    "### Identifica diferenças geométrias e temáticas entre várias ESRI Shapefiles ##"
   ]
  },
  {
   "cell_type": "code",
   "execution_count": null,
   "metadata": {},
   "outputs": [],
   "source": [
    "from gasp.anls.ovlay import check_shape_diff\n",
    "\n",
    "# Inputs\n",
    "\n",
    "SHAPES_TO_COMPARE = {\n",
    "    '/home/osmtolulc/webvia/coimbra/v11_cmb.shp'       : \"cls_int\",\n",
    "    '/home/osmtolulc/webvia/coimbra/v12_cmb.shp'       : \"cls_int\",\n",
    "    '/home/osmtolulc/webvia/coimbra/v13_cmb_2x2.shp'   : \"cls_int\",\n",
    "    '/home/osmtolulc/webvia/coimbra/v13_cmb_5x5.shp'   : \"cls_int\",\n",
    "    '/home/osmtolulc/webvia/coimbra/v13_cmb_10x10.shp' : \"cls_int\",\n",
    "    '/home/osmtolulc/webvia/coimbra/v14_cmb_2x2.shp'   : \"cls_int\",\n",
    "    '/home/osmtolulc/webvia/coimbra/v14_cmb_5x5.shp'   : \"cls_int\",\n",
    "    '/home/osmtolulc/webvia/coimbra/v14_cmb_10x10.shp' : \"cls_int\"\n",
    "}\n",
    "\n",
    "OUT_FOLDER = '/home/osmtolulc/webvia/cmb_anls'\n",
    "REPORT     = '/home/osmtolulc/webvia/cmb_compare.xlsx'\n",
    "\n",
    "conPARAM = {\n",
    "    \"HOST\" : \"localhost\", \"PORT\" : \"5432\",\n",
    "    \"USER\" : \"postgres\", \"PASSWORD\" : \"admin\", \"TEMPLATE\" : \"template_postgis\"\n",
    "}\n",
    "\n",
    "DB = \"cmb_compare\"\n",
    "\n",
    "srs_code = 3857\n",
    "\n",
    "RASTER_TEMPLATE = '/home/osmtolulc/webvia/boundaries/coimbra_20x20.shp'\n",
    "\n",
    "check_shape_diff(SHAPES_TO_COMPARE, OUT_FOLDER, REPORT, conPARAM, DB, srs_code,\n",
    "                GIS_SOFTWARE=\"GRASS\", GRASS_REGION_TEMPLATE=RASTER_TEMPLATE)"
   ]
  },
  {
   "cell_type": "markdown",
   "metadata": {},
   "source": [
    "### Union Analysis ###"
   ]
  },
  {
   "cell_type": "code",
   "execution_count": null,
   "metadata": {},
   "outputs": [],
   "source": [
    "from gasp.anls.ovlay import union\n",
    "\n",
    "LYR_A  = r'D:\\indev\\OSM2LULC\\WEB_Via\\results_fev19\\coimbra\\v13_coimbra.shp'\n",
    "LYR_B  = r'D:\\indev\\OSM2LULC\\WEB_Via\\results_fev19\\coimbra\\v11_coimbra_clp.shp'\n",
    "outSHP = r'D:\\indev\\OSM2LULC\\WEB_Via\\results_fev19\\teste_v13_v11.shp'\n",
    "API    = 'saga'\n",
    "\n",
    "union(LYR_A, LYR_B, outSHP, api_gis=API)"
   ]
  },
  {
   "cell_type": "markdown",
   "metadata": {},
   "source": [
    "### Union Analysis in GRASS GIS ###"
   ]
  },
  {
   "cell_type": "code",
   "execution_count": null,
   "metadata": {},
   "outputs": [],
   "source": [
    "from gasp.gt.wenv.grs import run_grass\n",
    "from gasp.pyt.oss import fprop\n",
    "\n",
    "GRS_WORKSPACE = r'D:\\indev\\OSM2LULC\\WEB_Via\\results_fev19'\n",
    "LYR_A  = r'D:\\indev\\OSM2LULC\\WEB_Via\\results_fev19\\coimbra\\v13_coimbra.shp'\n",
    "LYR_B  = r'D:\\indev\\OSM2LULC\\WEB_Via\\results_fev19\\coimbra\\v11_coimbra_clp.shp'\n",
    "outSHP = r'D:\\indev\\OSM2LULC\\WEB_Via\\results_fev19\\grass_v13_v11.shp'\n",
    "\n",
    "grsbase = run_grass(GRS_WORKSPACE, location='tst_union', srs=3763)\n",
    "import grass.script.setup as gsetup\n",
    "gsetup.init(grsbase, GRS_WORKSPACE, 'tst_union', 'PERMANENT')\n",
    "\n",
    "# Import data\n",
    "from gasp.gt.toshp.cff import shp_to_grs\n",
    "\n",
    "lyr_a = shp_to_grs(LYR_A, fprop(LYR_A, 'fn'), asCMD=True)\n",
    "lyr_b = shp_to_grs(LYR_B, fprop(LYR_B, 'fn'), asCMD=True)\n",
    "\n",
    "import datetime\n",
    "time_a = datetime.datetime.now().replace(microsecond=0)\n",
    "\n",
    "from gasp.anls.ovlay import union\n",
    "shpUnion = union(lyr_a, lyr_b, fprop(outSHP, 'fn'), api_gis=\"grass\")\n",
    "\n",
    "time_b = datetime.datetime.now().replace(microsecond=0)\n",
    "\n",
    "print time_b - time_a\n",
    "\n",
    "# Export data\n",
    "from gasp.to.shp.grs import grs_to_shp\n",
    "result = grs_to_shp(shpUnion, outSHP, \"area\")"
   ]
  },
  {
   "cell_type": "markdown",
   "metadata": {},
   "source": [
    "## Optimized Union Analysis"
   ]
  },
  {
   "cell_type": "code",
   "execution_count": null,
   "metadata": {},
   "outputs": [],
   "source": [
    "from gasp.anls.ovlay import optimized_union_anls\n",
    "\n",
    "import datetime\n",
    "\n",
    "time_a = datetime.datetime.now().replace(microsecond=0)\n",
    "optimized_union_anls(\n",
    "    \"/home/osmtolulc/webvia/coimbra/v11_cmb.shp\",\n",
    "    \"/home/osmtolulc/webvia/coimbra/v13_cmb_2x2.shp\",\n",
    "    \"/home/osmtolulc/webvia/union_v11_v13_regular.shp\",\n",
    "    \"/home/osmtolulc/webvia/boundaries/coimbra_20x20.shp\", 3857, \n",
    "    multiProcess=None\n",
    ")\n",
    "time_b = datetime.datetime.now().replace(microsecond=0)\n",
    "\n",
    "print time_b - time_a"
   ]
  },
  {
   "cell_type": "code",
   "execution_count": null,
   "metadata": {},
   "outputs": [],
   "source": [
    "\"\"\"\n",
    "Intersection GRASS GIS\n",
    "\"\"\"\n",
    "\n",
    "from gasp.gt.wenv.grs import run_grass\n",
    "from gasp.pyt.oss import fprop\n",
    "\n",
    "shp_a = '/home/jasp/mrgis/landsense_pp/tmp_lisboa/fishnets_shp/fishnet_35.shp'\n",
    "shp_b = '/home/jasp/mrgis/landsense_pp/tstclip/cls1.shp'\n",
    "output = '/home/jasp/mrgis/landsense_pp/tstclip/teste2.shp'\n",
    "work = '/home/jasp/mrgis/landsense_pp/tstclip'\n",
    "epsg = 32629\n",
    "\n",
    "\n",
    "grsbase = run_grass(work, location='loc_int', srs=epsg)\n",
    "import grass.script.setup as gsetup\n",
    "gsetup.init(grsbase, work, 'loc_int', 'PERMANENT')\n",
    "\n",
    "from gasp.gt.toshp.cff import shp_to_grs, grs_to_shp\n",
    "from gasp.gt.gop.ovlay import intersection\n",
    "\n",
    "shpa = shp_to_grs(shp_a, fprop(shp_a, 'fn'))\n",
    "shpb = shp_to_grs(shp_b, fprop(shp_b, 'fn'))\n",
    "\n",
    "# Intersection\n",
    "intshp = intersection(shpa, shpb, fprop(output, 'fn'), api='grass')\n",
    "\n",
    "# Export\n",
    "result = grs_to_shp(intshp, output, 'area')"
   ]
  },
  {
   "cell_type": "code",
   "execution_count": null,
   "metadata": {},
   "outputs": [],
   "source": [
    "\"\"\"\n",
    "Clip GRASS GIS\n",
    "\"\"\"\n",
    "\n",
    "from gasp.gt.wenv.grs import run_grass\n",
    "from gasp.pyt.oss import fprop\n",
    "\n",
    "shp_shp = '/home/jasp/mrgis/landsense_pp/res_lisboa/cls_6.shp'\n",
    "clip_shp = '/home/jasp/mrgis/landsense_pp/tmp_lisboa/boundaries/fishnet_22.shp'\n",
    "output = '/home/jasp/mrgis/landsense_pp/testeclip.shp'\n",
    "work = '/home/jasp/mrgis/landsense_pp'\n",
    "epsg = 32629\n",
    "\n",
    "grsbase = run_grass(work, location='loc_clip', srs=epsg)\n",
    "import grass.script.setup as gsetup\n",
    "gsetup.init(grsbase, work, 'loc_clip', 'PERMANENT')\n",
    "\n",
    "from gasp.gt.toshp.cff import shp_to_grs, grs_to_shp\n",
    "from gasp.gt.gop.ovlay import clip\n",
    "from gasp.gt.prop.feat import feat_count\n",
    "\n",
    "shp   = shp_to_grs(shp_shp, fprop(shp_shp, 'fn'))\n",
    "clipf = shp_to_grs(clip_shp, fprop(clip_shp, 'fn'))\n",
    "\n",
    "# Clip\n",
    "clipshp = clip(shp, clipf, fprop(output, 'fn'), api_gis='grass')\n",
    "print(feat_count(clipshp, gisApi='pygrass'))\n",
    "\n",
    "# Export\n",
    "result = grs_to_shp(clipshp, output, 'area')"
   ]
  },
  {
   "cell_type": "code",
   "execution_count": null,
   "metadata": {},
   "outputs": [],
   "source": []
  }
 ],
 "metadata": {
  "kernelspec": {
   "display_name": "Python 3",
   "language": "python",
   "name": "python3"
  },
  "language_info": {
   "codemirror_mode": {
    "name": "ipython",
    "version": 3
   },
   "file_extension": ".py",
   "mimetype": "text/x-python",
   "name": "python",
   "nbconvert_exporter": "python",
   "pygments_lexer": "ipython3",
   "version": "3.6.9"
  }
 },
 "nbformat": 4,
 "nbformat_minor": 2
}
