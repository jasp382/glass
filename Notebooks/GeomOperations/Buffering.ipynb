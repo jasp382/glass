{
 "cells": [
  {
   "cell_type": "code",
   "execution_count": null,
   "metadata": {},
   "outputs": [],
   "source": [
    "\"\"\"\n",
    "Buffer Analysis with GIS\n",
    "\"\"\"\n",
    "\n",
    "import datetime\n",
    "from gasp.gt.gop.bfing import _buffer\n",
    "\n",
    "IN_SHP = r'D:\\indev\\OSM2LULC\\WEB_Via\\tst_tools\\mil_lroads.shp'\n",
    "OU_SHP = r'D:\\indev\\OSM2LULC\\WEB_Via\\tst_tools\\mil_bf_arcg.shp'\n",
    "RADIUS = 'bf_roads'\n",
    "API    = 'ogr'\n",
    "\n",
    "time_a = datetime.datetime.now().replace(microsecond=0)\n",
    "_buffer(IN_SHP, RADIUS, OU_SHP, api=API, dissolve=\"ALL\")\n",
    "time_b = datetime.datetime.now().replace(microsecond=0)\n",
    "\n",
    "print(time_b - time_a)"
   ]
  },
  {
   "cell_type": "code",
   "execution_count": null,
   "metadata": {},
   "outputs": [],
   "source": [
    "\"\"\"\n",
    "Buffer Extent\n",
    "\"\"\"\n",
    "\n",
    "from gasp.gt.gop.bfing import buffer_ext\n",
    "\n",
    "inShp    = r'C:\\gwork\\fireloc\\datasets\\ref\\pt_ref_lmt.shp'\n",
    "bf_dist  = 10000\n",
    "out_dist = r'C:\\gwork\\fireloc\\datasets\\ref\\pt_ref_lmt_10k.shp'\n",
    "\n",
    "buffer_ext(inShp, bf_dist, out_dist)"
   ]
  }
 ],
 "metadata": {
  "kernelspec": {
   "display_name": "Python 3",
   "language": "python",
   "name": "python3"
  },
  "language_info": {
   "codemirror_mode": {
    "name": "ipython",
    "version": 3
   },
   "file_extension": ".py",
   "mimetype": "text/x-python",
   "name": "python",
   "nbconvert_exporter": "python",
   "pygments_lexer": "ipython3",
   "version": "3.6.9"
  }
 },
 "nbformat": 4,
 "nbformat_minor": 2
}
