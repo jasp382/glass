{
 "cells": [
  {
   "cell_type": "code",
   "execution_count": null,
   "metadata": {},
   "outputs": [],
   "source": [
    "\"\"\"\n",
    "Features Extent to new Feature class\n",
    "\"\"\"\n",
    "\n",
    "inshp = '/mnt/d/gwork/geosrv_flainar/CAOP2019/nuts3_cim.shp'\n",
    "oushp = '/mnt/d/gwork/geosrv_flainar/cim_extent.shp'\n",
    "\n",
    "from glass.geo.gt.fmshp import shp_to_obj\n",
    "from glass.geo.gm.ext import featext_to_dfcols\n",
    "from shapely.geometry import Polygon\n",
    "from glass.geo.gt.toshp import obj_to_shp"
   ]
  },
  {
   "cell_type": "code",
   "execution_count": null,
   "metadata": {},
   "outputs": [],
   "source": [
    "df = shp_to_obj(inshp)\n",
    "\n",
    "df = featext_to_dfcols(df, 'geometry')"
   ]
  },
  {
   "cell_type": "code",
   "execution_count": null,
   "metadata": {},
   "outputs": [],
   "source": [
    "def create_new_geom(row):\n",
    "    ng = Polygon([\n",
    "        (row.minx, row.maxy), (row.maxx, row.maxy), (row.maxx, row.miny),\n",
    "        (row.minx, row.miny), (row.minx, row.maxy)\n",
    "    ])\n",
    "    \n",
    "    row['geometry'] = ng\n",
    "    \n",
    "    return row\n",
    "\n",
    "df = df.apply(lambda x: create_new_geom(x), axis=1)"
   ]
  },
  {
   "cell_type": "code",
   "execution_count": null,
   "metadata": {},
   "outputs": [],
   "source": [
    "obj_to_shp(df, 'geometry', 3763, oushp)"
   ]
  },
  {
   "cell_type": "code",
   "execution_count": null,
   "metadata": {},
   "outputs": [],
   "source": [
    "df.head()"
   ]
  },
  {
   "cell_type": "code",
   "execution_count": null,
   "metadata": {},
   "outputs": [],
   "source": [
    "print(df.shape)\n",
    "print(edf.shape)"
   ]
  },
  {
   "cell_type": "code",
   "execution_count": null,
   "metadata": {},
   "outputs": [],
   "source": [
    "a= zip(df.minx, df.miny, df.maxx, df.maxy)"
   ]
  }
 ],
 "metadata": {
  "kernelspec": {
   "display_name": "Python 3.6.9 64-bit ('glassenv': venv)",
   "language": "python",
   "name": "python36964bitglassenvvenv2d35860cee344f1cb1dc61de99efa23a"
  },
  "language_info": {
   "codemirror_mode": {
    "name": "ipython",
    "version": 3
   },
   "file_extension": ".py",
   "mimetype": "text/x-python",
   "name": "python",
   "nbconvert_exporter": "python",
   "pygments_lexer": "ipython3",
   "version": "3.6.9"
  }
 },
 "nbformat": 4,
 "nbformat_minor": 4
}
