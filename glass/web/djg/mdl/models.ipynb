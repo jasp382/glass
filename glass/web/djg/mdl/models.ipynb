{
 "cells": [
  {
   "cell_type": "code",
   "execution_count": null,
   "metadata": {},
   "outputs": [],
   "source": [
    "from glass.web.djg.mdl.restore import psql_to_djgDb\n",
    "\n",
    "db_sql   = '/home/jasp/xpto/expvgi-webapp/expapi_db.sql'\n",
    "proj_fld = '/home/jasp/xpto/expvgi-webapp/expapi'\n",
    "\n",
    "psql_to_djgDb(db_sql, 'expapi_tmp', path_djgProj=proj_fld)"
   ]
  },
  {
   "cell_type": "code",
   "execution_count": null,
   "metadata": {},
   "outputs": [],
   "source": [
    "from expdjg.mdl.restore import txt_to_db\n",
    "\n",
    "TXT = '/home/jasp/expvgi/auth_user.txt'\n",
    "PROJ_DJG ='/home/jasp/xpto/expvgi-webapp/expvgi'\n",
    "\n",
    "txt_to_db(TXT, proj_path=PROJ_DJG, delimiter='\\t', encoding_='utf-8')"
   ]
  },
  {
   "cell_type": "code",
   "execution_count": null,
   "metadata": {},
   "outputs": [],
   "source": [
    "from glass.to import db_to_tbl\n",
    "\n",
    "CON = {\n",
    "    'HOST' : 'localhost', 'USER' : 'postgres', 'PORT' : '5432',\n",
    "    'PASSWORD' : 'admin', 'DATABASE' : 'matuc_db'\n",
    "}\n",
    "\n",
    "TBL = 'auth_user'\n",
    "\n",
    "OUT_TBL = r'D:\\xpto\\auth_user.txt'\n",
    "\n",
    "DELIMITER = '\\t'\n",
    "\n",
    "db_to_tbl(CON, TBL, OUT_TBL, txtDelimiter=DELIMITER)"
   ]
  },
  {
   "cell_type": "code",
   "execution_count": null,
   "metadata": {},
   "outputs": [],
   "source": []
  }
 ],
 "metadata": {
  "kernelspec": {
   "display_name": "Python 2",
   "language": "python",
   "name": "python2"
  },
  "language_info": {
   "codemirror_mode": {
    "name": "ipython",
    "version": 2
   },
   "file_extension": ".py",
   "mimetype": "text/x-python",
   "name": "python",
   "nbconvert_exporter": "python",
   "pygments_lexer": "ipython2",
   "version": "2.7.15rc1"
  }
 },
 "nbformat": 4,
 "nbformat_minor": 2
}
