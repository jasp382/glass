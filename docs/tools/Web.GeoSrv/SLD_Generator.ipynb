{
 "cells": [
  {
   "cell_type": "markdown",
   "metadata": {},
   "source": [
    "### Generate Style Layer Descriptor for a Raster Dataset ###"
   ]
  },
  {
   "cell_type": "code",
   "execution_count": null,
   "metadata": {},
   "outputs": [],
   "source": [
    "SYMBOLOGY_RULES = {\n",
    "    20 : {\"COLOR\" :(175, 240, 233), \"LABEL\" : \"0 - 20\", \"OPACITY\" : 0.95},\n",
    "    50 : {\"COLOR\" :(210, 232, 137), \"LABEL\" : \"20 - 50\", \"OPACITY\" : 0.95},\n",
    "    100 : {\"COLOR\" :(100, 148, 52), \"LABEL\" : \"50 - 100\", \"OPACITY\" : 0.95},\n",
    "    200 : {\"COLOR\" :(189, 70, 2), \"LABEL\" : \"100 - 200\", \"OPACITY\" : 0.95},\n",
    "    300 : {\"COLOR\" :(110, 37, 9), \"LABEL\" : \"200 - 300\", \"OPACITY\" : 0.95},\n",
    "    400 : {\"COLOR\" :(163, 147, 137), \"LABEL\" : \"300 - 400\", \"OPACITY\" : 0.95},\n",
    "    530 : {\"COLOR\" :(255, 252, 255), \"LABEL\" : \"400 - 530\", \"OPACITY\" : 0.95}\n",
    "}\n",
    "\n",
    "DATA_TYPE = \"FLOATING\"\n",
    "\n",
    "OUT_FILE = '/mnt/d/gwork/prog_webgis/java_ex/dem_sld.xml'\n",
    "\n",
    "from glass.web.geosrv.sld import write_raster_sld\n",
    "\n",
    "write_raster_sld(SYMBOLOGY_RULES, OUT_FILE, dataType=DATA_TYPE)"
   ]
  },
  {
   "cell_type": "markdown",
   "metadata": {},
   "source": [
    "### Table to Style Layer Descriptor for Feature Class ###"
   ]
  },
  {
   "cell_type": "code",
   "execution_count": null,
   "metadata": {},
   "outputs": [],
   "source": [
    "from glass.web.geosrv.sld import write_sld\n",
    "\n",
    "SYMBOLOGY_RULES = [\n",
    "    {'cat' : '1', 'color' : '#BF0000', 'opacity' : 0.95, 'stroke_h' : '#000000'},\n",
    "    {'cat' : '2', 'color' : '#FFFFA8', 'opacity' : 0.95, 'stroke_h' : '#000000'},\n",
    "    {'cat' : '3', 'color' : '#CCF24D', 'opacity' : 0.95, 'stroke_h' : '#000000'},\n",
    "    {'cat' : '4', 'color' : '#008C00', 'opacity' : 0.95, 'stroke_h' : '#000000'},\n",
    "    {'cat' : '5', 'color' : '#4DFF00', 'opacity' : 0.95, 'stroke_h' : '#000000'},\n",
    "    {'cat' : '6', 'color' : '#CCFFCC', 'opacity' : 0.95, 'stroke_h' : '#000000'},\n",
    "    {'cat' : '7', 'color' : '#A6A6FF', 'opacity' : 0.95, 'stroke_h' : '#000000'},\n",
    "    {'cat' : '8', 'color' : '#80F2E6', 'opacity' : 0.95, 'stroke_h' : '#000000'},\n",
    "]\n",
    "\n",
    "ATTR_NAME = 'lulc'\n",
    "Geometry = 'Polygon'\n",
    "DATA = 'CATEGORICAL'\n",
    "ATTR_COLS = {'hex' : 'color', 'category' : 'cat', 'opacity' : 'opacity', 'stroke_hex' : 'stroke_h'}\n",
    "\n",
    "OUT_SLD = '/mnt/c/gwork/cos_l1.sld'\n",
    "\n",
    "write_sld(ATTR_NAME, SYMBOLOGY_RULES, ATTR_COLS, OUT_SLD,\n",
    "          geometry=Geometry, DATA=DATA)"
   ]
  },
  {
   "cell_type": "code",
   "execution_count": null,
   "metadata": {},
   "outputs": [],
   "source": [
    "\"\"\"\n",
    "Generate SLD using random colors\n",
    "\"\"\"\n",
    "\n",
    "shp = '/home/jasp/mrgis/gsrv/cos_18_l1.shp'\n",
    "col = 'clsid'\n",
    "out_sld = '/home/jasp/mrgis/gsrv/cos_18_l1.sld'\n",
    "Geometry = 'Polygon'\n",
    "DATA = 'CATEGORICAL'"
   ]
  },
  {
   "cell_type": "code",
   "execution_count": null,
   "metadata": {},
   "outputs": [],
   "source": [
    "from glass.dct.geo.fmshp import shp_to_obj\n",
    "import numpy as np\n",
    "from glass.pys.clr import rgb_to_hex\n",
    "import random\n",
    "from glass.web.geosrv.sld import write_sld\n",
    "\n",
    "df = shp_to_obj(shp)\n",
    "\n",
    "val = list(np.unique(df[col]))\n",
    "print(val)"
   ]
  },
  {
   "cell_type": "code",
   "execution_count": null,
   "metadata": {},
   "outputs": [],
   "source": [
    "symb = [{\n",
    "    'cat' : v, 'color' : rgb_to_hex(random.randrange(255), random.randrange(255), random.randrange(255)),\n",
    "    'opacity' : 0.95, 'stroke_h' : '#000000'\n",
    "} for v in val]\n",
    "\n",
    "ATTR_COLS = {'hex' : 'color', 'category' : 'cat', 'opacity' : 'opacity', 'stroke_hex' : 'stroke_h'}\n",
    "\n",
    "write_sld(\n",
    "    col, symb, ATTR_COLS, out_sld,\n",
    "    geometry=Geometry, DATA=DATA\n",
    ")"
   ]
  },
  {
   "cell_type": "code",
   "execution_count": null,
   "metadata": {},
   "outputs": [],
   "source": []
  }
 ],
 "metadata": {
  "kernelspec": {
   "display_name": "Python 3",
   "language": "python",
   "name": "python3"
  },
  "language_info": {
   "codemirror_mode": {
    "name": "ipython",
    "version": 3
   },
   "file_extension": ".py",
   "mimetype": "text/x-python",
   "name": "python",
   "nbconvert_exporter": "python",
   "pygments_lexer": "ipython3",
   "version": "3.6.9"
  }
 },
 "nbformat": 4,
 "nbformat_minor": 2
}
