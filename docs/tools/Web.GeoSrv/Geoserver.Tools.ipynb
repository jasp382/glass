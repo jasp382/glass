{
 "cells": [
  {
   "cell_type": "code",
   "execution_count": null,
   "metadata": {},
   "outputs": [],
   "source": [
    "\"\"\"\n",
    "List Workspaces in GeoServer\n",
    "\"\"\"\n",
    "\n",
    "from glass.web.geosrv.ws import lst_ws\n",
    "\n",
    "workspaces = lst_ws()\n",
    "\n",
    "print(workspaces)"
   ]
  },
  {
   "cell_type": "code",
   "execution_count": null,
   "metadata": {},
   "outputs": [],
   "source": [
    "\"\"\"\n",
    "Create new GeoServer Workspace\n",
    "\"\"\"\n",
    "\n",
    "from glass.web.geosrv.ws import create_ws\n",
    "\n",
    "create_ws('teste', overwrite=None)"
   ]
  },
  {
   "cell_type": "code",
   "execution_count": null,
   "metadata": {},
   "outputs": [],
   "source": [
    "\"\"\"\n",
    "Delete existing GeoServer Workspace\n",
    "\"\"\"\n",
    "\n",
    "from glass.web.geosrv.ws import del_ws\n",
    "\n",
    "del_ws('teste')"
   ]
  },
  {
   "cell_type": "code",
   "execution_count": null,
   "metadata": {},
   "outputs": [],
   "source": [
    "\"\"\"\n",
    "List Stores in GeoServer\n",
    "\"\"\"\n",
    "\n",
    "from glass.web.geosrv.stores import lst_stores\n",
    "\n",
    "stores = lst_stores('aulatst')\n",
    "\n",
    "print(stores)"
   ]
  },
  {
   "cell_type": "code",
   "execution_count": null,
   "metadata": {},
   "outputs": [],
   "source": [
    "\"\"\"\n",
    "Delete GeoServer Store\n",
    "\"\"\"\n",
    "\n",
    "from glass.web.geosrv.stores import del_store\n",
    "\n",
    "del_store('aulatst', 'osm_roads')"
   ]
  },
  {
   "cell_type": "code",
   "execution_count": null,
   "metadata": {},
   "outputs": [],
   "source": [
    "\"\"\"\n",
    "ESRI Shapefile to Store\n",
    "\"\"\"\n",
    "\n",
    "from glass.web.geosrv.stores import shp_to_store\n",
    "\n",
    "in_shp = '/mnt/d/gwork/tstgsrv/pnt_flainar.shp'\n",
    "store_name = 'pontos_viseu'\n",
    "workspace  = 'tstflainar'\n",
    "\n",
    "r = shp_to_store(in_shp, store_name, workspace)"
   ]
  },
  {
   "cell_type": "code",
   "execution_count": null,
   "metadata": {},
   "outputs": [],
   "source": [
    "\"\"\"\n",
    "Add Raster Layer to GeoServer\n",
    "\"\"\"\n",
    "\n",
    "from glass.web.geosrv.ws import create_workspace\n",
    "from glass.geosrv.stores import add_rst_store\n",
    "from glass.geosrv.lyrs import pub_rst_lyr\n",
    "\n",
    "WORKSPACE = \"tst_ruru\"\n",
    "STORE_NAME = \"tst_img\"\n",
    "RASTER_FILE = r\"D:\\gis\\cw_data_ruicruz\\multibnd.tif\"\n",
    "\n",
    "create_workspace(WORKSPACE, conf=GEOSRV_CON)\n",
    "add_rst_store(RASTER_FILE, STORE_NAME, WORKSPACE, conf=GEOSRV_CON)\n",
    "pub_rst_lyr(\"multiband\", STORE_NAME, WORKSPACE, 32629, conf=GEOSRV_CON)"
   ]
  },
  {
   "cell_type": "code",
   "execution_count": null,
   "metadata": {},
   "outputs": [],
   "source": [
    "\"\"\"\n",
    "PostGIS Tables to GeoServer Layers\n",
    "\"\"\"\n",
    "\n",
    "from glass.pys.oss import fprop\n",
    "from glass.web.geosrv.ws     import create_ws\n",
    "from glass.web.geosrv.stores import create_pgstore\n",
    "from glass.web.geosrv.lyrs   import pub_pglyr\n",
    "from glass.web.geosrv.sty    import create_style, assign_style_to_layer\n",
    "\n",
    "ws     = 'cos'\n",
    "dbname = 'gsrvcos'\n",
    "tables = [\n",
    "    'cim_cos_18_l1', 'cim_cos_18_l2', 'cim_cos_18_l3', 'cim_cos_18_l4_v2',\n",
    "    'cmb_cos_18_l1', 'cmb_cos_18_l2', 'cmb_cos_18_l3', 'cmb_cos_18_l4_v2',\n",
    "    'cos_18_l1', 'cos_18_l2', 'cos_18_l3', 'cos_18_l4_v2',\n",
    "]\n",
    "\n",
    "styles = {\n",
    "    '/home/jasp/mrgis/gsrv/cos_18_l1.sld' : ['cim_cos_18_l1', 'cmb_cos_18_l1', 'cos_18_l1'],\n",
    "    '/home/jasp/mrgis/gsrv/cos_18_l2.sld' : ['cim_cos_18_l2', 'cmb_cos_18_l2', 'cos_18_l2'],\n",
    "    '/home/jasp/mrgis/gsrv/cos_18_l3.sld' : ['cim_cos_18_l3', 'cmb_cos_18_l3', 'cos_18_l3'],\n",
    "    '/home/jasp/mrgis/gsrv/cos_18_l4.sld' : ['cim_cos_18_l4_v2', 'cmb_cos_18_l4_v2', 'cos_18_l4_v2'],\n",
    "}\n",
    "\n",
    "# Create new Workspace\n",
    "create_ws(ws, overwrite=True)\n",
    "\n",
    "# Add new store\n",
    "store = ws + '_db'\n",
    "create_pgstore(store, ws, dbname)\n",
    "\n",
    "# Add new layers\n",
    "for t in tables:\n",
    "    pub_pglyr(ws, store, t)\n",
    "\n",
    "# Add styles\n",
    "for s in styles:\n",
    "    sn = fprop(s, 'fn')\n",
    "    create_style(sn, s)\n",
    "    for l in styles[s]:\n",
    "        assign_style_to_layer(sn, l)"
   ]
  },
  {
   "cell_type": "code",
   "execution_count": null,
   "metadata": {},
   "outputs": [],
   "source": [
    "\"\"\"\n",
    "Pre-Generalized Layers\n",
    "\"\"\"\n",
    "\n",
    "ws     = 'cos'\n",
    "dbname = 'gsrvcos'\n",
    "table  = 'cos_18_l4_v2'\n",
    "geomc  = 'geom'\n",
    "remove_cols = ['shape_leng', 'shape_area']\n",
    "\n",
    "simplification = {'01' : 0.01, '05' : 0.05, '1' : 0.1}"
   ]
  },
  {
   "cell_type": "code",
   "execution_count": null,
   "metadata": {},
   "outputs": [],
   "source": [
    "from glass.ng.prop.sql import cols_name\n",
    "from glass.ng.sql.q import exec_write_q"
   ]
  },
  {
   "cell_type": "code",
   "execution_count": null,
   "metadata": {},
   "outputs": [],
   "source": [
    "# Get Columns name\n",
    "\n",
    "cols = cols_name(dbname, table)\n",
    "cols.remove(geomc)\n",
    "for i in remove_cols:\n",
    "    cols.remove(i)\n",
    "print(cols)"
   ]
  },
  {
   "cell_type": "code",
   "execution_count": null,
   "metadata": {},
   "outputs": [],
   "source": [
    "qs = []\n",
    "for s in simplification:\n",
    "    qs.append((\n",
    "        \"CREATE TABLE {t}_{sid} AS \"\n",
    "        \"SELECT {c}, ST_SimplifyPreserveTopology({g}, {sf}) AS {g} \"\n",
    "        \"FROM {t}\"\n",
    "    ).format(\n",
    "        t = table, sid=s, c=\", \".join(cols),\n",
    "        g=geomc, sf=str(simplification[s])\n",
    "    ))\n",
    "    \n",
    "    qs.append((\n",
    "        \"CREATE INDEX {t}_{sid}_{g}_dist ON {t}_{sid} USING gist({g})\"\n",
    "    ).format(\n",
    "        t = table, sid=s, g=geomc\n",
    "    ))"
   ]
  },
  {
   "cell_type": "code",
   "execution_count": null,
   "metadata": {},
   "outputs": [],
   "source": [
    "exec_write_q(dbname, qs, api='psql')"
   ]
  },
  {
   "cell_type": "code",
   "execution_count": null,
   "metadata": {},
   "outputs": [],
   "source": [
    "from glass.pys.Xml   import write_xml_tree\n",
    "\n",
    "gendic = {\n",
    "    (\"Generalization\", \"dataSourceNameSpace\", \"NaturalEarth\",\n",
    "     \"dataSourceName\", \"PostGISLocal\", \"distance\", \"1\",\n",
    "    \"featureName\", table + \"_01\", \"geomPropertyName\", geomc) : '',\n",
    "    (\"Generalization\", \"dataSourceNameSpace\", \"NaturalEarth\",\n",
    "     \"dataSourceName\", \"PostGISLocal\", \"distance\", \"5\",\n",
    "    \"featureName\", table + \"_05\", \"geomPropertyName\", geomc) : '',\n",
    "    (\"Generalization\", \"dataSourceNameSpace\", \"NaturalEarth\",\n",
    "     \"dataSourceName\", \"PostGISLocal\", \"distance\", \"10\",\n",
    "    \"featureName\", table + \"_1\", \"geomPropertyName\", geomc) : ''\n",
    "}\n",
    "\n",
    "tree_order = {\n",
    "    (\"GeneralizationInfo\", \"dataSourceNameSpace\", \"NaturalEarth\",\n",
    "    \"dataSourceName\", \"PostGISLocal\", \"featureName\", \"GeneralizedCos\",\n",
    "    \"baseFeatureName\", table, \"geomPropertyName\", geomc) : [\n",
    "        (\"Generalization\", \"dataSourceNameSpace\", \"NaturalEarth\",\n",
    "         \"dataSourceName\", \"PostGISLocal\", \"distance\", \"1\",\n",
    "        \"featureName\", table + \"_01\", \"geomPropertyName\", geomc),\n",
    "        (\"Generalization\", \"dataSourceNameSpace\", \"NaturalEarth\",\n",
    "         \"dataSourceName\", \"PostGISLocal\", \"distance\", \"5\",\n",
    "        \"featureName\", table + \"_05\", \"geomPropertyName\", geomc),\n",
    "        (\"Generalization\", \"dataSourceNameSpace\", \"NaturalEarth\",\n",
    "         \"dataSourceName\", \"PostGISLocal\", \"distance\", \"10\",\n",
    "        \"featureName\", table + \"_1\", \"geomPropertyName\", geomc)\n",
    "    ]\n",
    "}\n",
    "\n",
    "\n",
    "xml_tree = {\n",
    "    (\"GeneralizationInfos\", \"version\", \"1.0\") : {\n",
    "        (\"GeneralizationInfo\", \"dataSourceNameSpace\", \"NaturalEarth\",\n",
    "        \"dataSourceName\", \"PostGISLocal\", \"featureName\", \"GeneralizedCos\",\n",
    "        \"baseFeatureName\", table, \"geomPropertyName\", geomc) : gendic\n",
    "    }\n",
    "}\n",
    "\n",
    "print(xml_tree)\n",
    "\n",
    "write_xml_tree(xml_tree, '/home/jasp/mrgis/simpl_ex.xml', nodes_order=tree_order)"
   ]
  }
 ],
 "metadata": {
  "kernelspec": {
   "display_name": "Python 3",
   "language": "python",
   "name": "python3"
  },
  "language_info": {
   "codemirror_mode": {
    "name": "ipython",
    "version": 3
   },
   "file_extension": ".py",
   "mimetype": "text/x-python",
   "name": "python",
   "nbconvert_exporter": "python",
   "pygments_lexer": "ipython3",
   "version": "3.6.9"
  }
 },
 "nbformat": 4,
 "nbformat_minor": 2
}
