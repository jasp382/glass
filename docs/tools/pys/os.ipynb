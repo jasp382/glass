{
 "cells": [
  {
   "cell_type": "code",
   "execution_count": null,
   "metadata": {},
   "outputs": [],
   "source": [
    "\"\"\"\n",
    "Rename files mantain integer part\n",
    "\n",
    "if new_name = 'dclv'\n",
    "\n",
    "a file with a old name like\n",
    "filename100_tst.tif\n",
    "\n",
    "will have a new name like\n",
    "dclv_100.tif\n",
    "\"\"\""
   ]
  },
  {
   "cell_type": "code",
   "execution_count": null,
   "metadata": {},
   "outputs": [],
   "source": [
    "from glass.pys.oss import lst_ff\n",
    "import re\n",
    "import os"
   ]
  },
  {
   "cell_type": "code",
   "execution_count": null,
   "metadata": {},
   "outputs": [],
   "source": [
    "folder = '/mnt/d/mystuff/fireloc/geodb_api/dem_data/dem888_slope_large_p/'\n",
    "\n",
    "new_name = 'dclv'"
   ]
  },
  {
   "cell_type": "code",
   "execution_count": null,
   "metadata": {},
   "outputs": [],
   "source": [
    "fs = lst_ff(folder, rfilename=True)"
   ]
  },
  {
   "cell_type": "code",
   "execution_count": null,
   "metadata": {},
   "outputs": [],
   "source": [
    "for f in fs:\n",
    "    fn, fe = os.path.splitext(f)\n",
    "    int_v = re.search(r'\\d+', fn).group()\n",
    "    \n",
    "    nname = f\"{new_name}_{int_v}{fe}\"\n",
    "    \n",
    "    os.rename(\n",
    "        os.path.join(folder, f),\n",
    "        os.path.join(folder, nname)\n",
    "    )"
   ]
  },
  {
   "cell_type": "code",
   "execution_count": null,
   "metadata": {},
   "outputs": [],
   "source": []
  }
 ],
 "metadata": {
  "kernelspec": {
   "display_name": "Python 3",
   "language": "python",
   "name": "python3"
  },
  "language_info": {
   "codemirror_mode": {
    "name": "ipython",
    "version": 3
   },
   "file_extension": ".py",
   "mimetype": "text/x-python",
   "name": "python",
   "nbconvert_exporter": "python",
   "pygments_lexer": "ipython3",
   "version": "3.8.5"
  }
 },
 "nbformat": 4,
 "nbformat_minor": 4
}
