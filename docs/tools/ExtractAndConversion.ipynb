{
 "cells": [
  {
   "cell_type": "markdown",
   "metadata": {},
   "source": [
    "# Convert OSM data into Feature Class #"
   ]
  },
  {
   "cell_type": "code",
   "execution_count": null,
   "metadata": {},
   "outputs": [],
   "source": [
    "from glass.g.it.osm import osm_to_featcls\n",
    "\n",
    "osm_to_featcls(\n",
    "    '/mnt/d/gwork/gigs_cmcprj/rdv/portugal-latest.osm.pbf',\n",
    "    '/mnt/d/gwork/gigs_cmcprj/rdv/', useXmlName=True, outepsg=3763)"
   ]
  },
  {
   "cell_type": "markdown",
   "metadata": {},
   "source": [
    "# OSM File to Relation Sctruture: #"
   ]
  },
  {
   "cell_type": "code",
   "execution_count": null,
   "metadata": {},
   "outputs": [],
   "source": [
    "from glass.g.dp.osm import osm_to_relationaldb\n",
    "\n",
    "inOsm = '/home/osmtolulc/xpto/expvgi-inescc/api/osmapi/osmfiles/europe/portugal-latest.osm.pbf'\n",
    "\n",
    "inSchema = {\n",
    "    \"TBL\" : ['points', 'lines', 'multipolygons'],\n",
    "    'FID' : 'ogc_fid',\n",
    "    \"COLS\" : [\n",
    "        'name', 'osm_id',\n",
    "        #\"ST_X(wkb_geometry) AS longitude\",\n",
    "        #\"ST_Y(wkb_geometry) AS latitude\",\n",
    "        \"wkb_geometry AS geom\",\n",
    "        \"NULL AS featurecategoryid\",\n",
    "        \"NULL AS flainarcategoryid\",\n",
    "        \"NULL AS createdby\",\n",
    "        \"NOW() AS createdon\",\n",
    "        \"NULL AS updatedon\",\n",
    "        \"NULL AS deletedon\"\n",
    "    ],\n",
    "    \"NOT_KEYS\" : [\n",
    "        'ogc_fid', 'osm_id', 'name', \"wkb_geometry\",\n",
    "        'healthcare2', 'other_tags', 'osm_way_id',\n",
    "        'ref', 'sidewalk', 'z_order', 'is_in', 'cuisine',\n",
    "        'barrier', 'busway'\n",
    "    ]\n",
    "}\n",
    "\n",
    "osmGeoTbl = {\n",
    "    \"points\" : {\"TBL\" : 'osm_position', \"FID\" : 'positionid'},\n",
    "    \"multipolygons\" : {\"TBL\" : \"osm_polygons\", \"FID\" : 'polygonid'},\n",
    "    \"lines\" : {\"TBL\" : 'osm_lines', \"FID\" : 'lineid'}\n",
    "}\n",
    "\n",
    "osmCatTbl = {\n",
    "    \"TBL\" : 'osmcategory', \"FID\" : \"osmcategoryid\",\n",
    "    \"KEY_COL\" : \"key\", \"VAL_COL\" : \"value\",\n",
    "    \"COLS\" : [\n",
    "        \"NULL AS createdby\", \"NOW() AS createdon\",\n",
    "        \"NULL AS updatedon\", \"NULL AS deletedon\"\n",
    "    ]\n",
    "}\n",
    "\n",
    "osmRelTbl = {\n",
    "    \"points\" : {\"TBL\" : \"position_osmcat\", \"FID\" : 'pososmcatid'},\n",
    "    \"multipolygons\" : {\"TBL\" : \"polygons_osmcat\", \"FID\" : 'polygoncatid'},\n",
    "    \"lines\" : {\"TBL\" : \"lines_osmcat\", \"FID\" : 'linecatid'},\n",
    "}\n",
    "\n",
    "outsql = '/home/osmtolulc/mrgis/flainar_osm_pt.sql'\n",
    "\n",
    "osm_to_relationaldb(inOsm, inSchema, osmGeoTbl, osmCatTbl, osmRelTbl, outSQL=outsql)"
   ]
  },
  {
   "cell_type": "code",
   "execution_count": null,
   "metadata": {},
   "outputs": [],
   "source": []
  }
 ],
 "metadata": {
  "kernelspec": {
   "display_name": "Python 3",
   "language": "python",
   "name": "python3"
  },
  "language_info": {
   "codemirror_mode": {
    "name": "ipython",
    "version": 3
   },
   "file_extension": ".py",
   "mimetype": "text/x-python",
   "name": "python",
   "nbconvert_exporter": "python",
   "pygments_lexer": "ipython3",
   "version": "3.8.5"
  }
 },
 "nbformat": 4,
 "nbformat_minor": 4
}
