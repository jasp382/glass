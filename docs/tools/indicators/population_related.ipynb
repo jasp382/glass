{
 "cells": [
  {
   "cell_type": "code",
   "execution_count": null,
   "id": "bc46ac97-1862-482d-9a46-16ee6755a5d0",
   "metadata": {},
   "outputs": [],
   "source": [
    "from glass.ind.pop import calc_iwpop_agg"
   ]
  },
  {
   "cell_type": "code",
   "execution_count": null,
   "id": "cd423e26-863d-43aa-8fea-f72acee9ed2e",
   "metadata": {},
   "outputs": [],
   "source": [
    "units = '/mnt/d/mystuff/rms/admin_data/conc_rpms_v4.shp'\n",
    "\n",
    "mapunits_id = 'idmun'\n",
    "\n",
    "subunits = '/mnt/d/mystuff/rms/admin_data/bgrirms_v3.shp'\n",
    "\n",
    "mapunits_fk = 'idmun'\n",
    "\n",
    "indicator_col = 'dhsp'\n",
    "\n",
    "pop_col = 'popres'\n",
    "\n",
    "out_col = 'disthsp'\n",
    "\n",
    "output = '/mnt/d/mystuff/rms/admin_data/conc_rpms_v5.shp'"
   ]
  },
  {
   "cell_type": "code",
   "execution_count": null,
   "id": "ebc4e9a2-23aa-44b9-9c89-6da8bd391c94",
   "metadata": {},
   "outputs": [],
   "source": [
    "calc_iwpop_agg(\n",
    "    units, mapunits_id, subunits, mapunits_fk,\n",
    "    indicator_col, pop_col, out_col, output\n",
    ")"
   ]
  },
  {
   "cell_type": "code",
   "execution_count": null,
   "id": "42af1d6c-12f5-4a92-be70-cd86c3a0daa9",
   "metadata": {},
   "outputs": [],
   "source": []
  }
 ],
 "metadata": {
  "kernelspec": {
   "display_name": "Python 3 (ipykernel)",
   "language": "python",
   "name": "python3"
  },
  "language_info": {
   "codemirror_mode": {
    "name": "ipython",
    "version": 3
   },
   "file_extension": ".py",
   "mimetype": "text/x-python",
   "name": "python",
   "nbconvert_exporter": "python",
   "pygments_lexer": "ipython3",
   "version": "3.10.4"
  }
 },
 "nbformat": 4,
 "nbformat_minor": 5
}
