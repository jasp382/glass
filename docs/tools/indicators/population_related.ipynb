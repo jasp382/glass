{
 "cells": [
  {
   "cell_type": "code",
   "execution_count": 1,
   "id": "bc46ac97-1862-482d-9a46-16ee6755a5d0",
   "metadata": {},
   "outputs": [],
   "source": [
    "from glass.ind.pop import calc_iwpop_agg"
   ]
  },
  {
   "cell_type": "code",
   "execution_count": 2,
   "id": "cd423e26-863d-43aa-8fea-f72acee9ed2e",
   "metadata": {},
   "outputs": [],
   "source": [
    "units = '/mnt/c/mystuff/rms/results/rms_freg_v8.shp'\n",
    "\n",
    "mapunits_id = 'idfreg'\n",
    "\n",
    "subunits = '/mnt/c/mystuff/rms/admin_data/rms_bgri.shp'\n",
    "\n",
    "mapunits_fk = 'idfreg'\n",
    "\n",
    "indicator_col = 'didosos'\n",
    "\n",
    "pop_col = 'popres65'\n",
    "\n",
    "out_col = 'dsidosos'\n",
    "\n",
    "output = '/mnt/c/mystuff/rms/results/rms_freg_v9.shp'"
   ]
  },
  {
   "cell_type": "code",
   "execution_count": 3,
   "id": "ebc4e9a2-23aa-44b9-9c89-6da8bd391c94",
   "metadata": {},
   "outputs": [
    {
     "name": "stderr",
     "output_type": "stream",
     "text": [
      "/home/jasp/.virtualenvs/glassenv/lib/python3.8/site-packages/geopandas/_compat.py:112: UserWarning: The Shapely GEOS version (3.10.2-CAPI-1.16.0) is incompatible with the GEOS version PyGEOS was compiled with (3.10.3-CAPI-1.16.1). Conversions between both will be slow.\n",
      "  warnings.warn(\n"
     ]
    },
    {
     "data": {
      "text/plain": [
       "'/mnt/c/mystuff/rms/results/rms_freg_v9.shp'"
      ]
     },
     "execution_count": 3,
     "metadata": {},
     "output_type": "execute_result"
    }
   ],
   "source": [
    "calc_iwpop_agg(\n",
    "    units, mapunits_id, subunits, mapunits_fk,\n",
    "    indicator_col, pop_col, out_col, output\n",
    ")"
   ]
  },
  {
   "cell_type": "code",
   "execution_count": null,
   "id": "42af1d6c-12f5-4a92-be70-cd86c3a0daa9",
   "metadata": {},
   "outputs": [],
   "source": []
  }
 ],
 "metadata": {
  "kernelspec": {
   "display_name": "Python 3 (ipykernel)",
   "language": "python",
   "name": "python3"
  },
  "language_info": {
   "codemirror_mode": {
    "name": "ipython",
    "version": 3
   },
   "file_extension": ".py",
   "mimetype": "text/x-python",
   "name": "python",
   "nbconvert_exporter": "python",
   "pygments_lexer": "ipython3",
   "version": "3.8.10"
  }
 },
 "nbformat": 4,
 "nbformat_minor": 5
}
