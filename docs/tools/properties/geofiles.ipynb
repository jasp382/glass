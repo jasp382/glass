{
 "cells": [
  {
   "cell_type": "code",
   "execution_count": null,
   "id": "d6a9ac8d-6cc6-4696-96ad-108f72185c89",
   "metadata": {},
   "outputs": [],
   "source": [
    "from glass.prop.feat import featcnt_infolder"
   ]
  },
  {
   "cell_type": "code",
   "execution_count": null,
   "id": "3200277f-5ac9-4f8a-aa6a-0e2a539654c1",
   "metadata": {},
   "outputs": [],
   "source": [
    "fld = '/mnt/d/mystuff/rms/dist_csres/'\n",
    "\n",
    "name = 'incidents.shp'"
   ]
  },
  {
   "cell_type": "code",
   "execution_count": null,
   "id": "c5f88232-6e0c-4337-8cc1-109c9142495f",
   "metadata": {},
   "outputs": [],
   "source": [
    "import os\n",
    "from glass.pys.oss import lst_fld\n",
    "from glass.rd.shp import shp_to_obj"
   ]
  },
  {
   "cell_type": "code",
   "execution_count": null,
   "id": "70ff878f-5303-4fcb-828c-4e8f2b9d6d25",
   "metadata": {},
   "outputs": [],
   "source": [
    "flds = lst_fld(fld)"
   ]
  },
  {
   "cell_type": "code",
   "execution_count": null,
   "id": "5a95b3ed-f672-40b4-9818-e9d48d2ad707",
   "metadata": {},
   "outputs": [],
   "source": [
    "nfeat = []\n",
    "\n",
    "for f in flds:\n",
    "    df = shp_to_obj(os.path.join(f, name))\n",
    "    \n",
    "    nfeat.append(df.shape[0])"
   ]
  },
  {
   "cell_type": "code",
   "execution_count": null,
   "id": "005d1369-775f-49eb-8264-4f711afb2e2b",
   "metadata": {},
   "outputs": [],
   "source": [
    "print(sum(nfeat))"
   ]
  },
  {
   "cell_type": "code",
   "execution_count": null,
   "id": "08b16cad-4f35-4f63-9132-8006e2d555de",
   "metadata": {},
   "outputs": [],
   "source": []
  }
 ],
 "metadata": {
  "kernelspec": {
   "display_name": "Python 3 (ipykernel)",
   "language": "python",
   "name": "python3"
  },
  "language_info": {
   "codemirror_mode": {
    "name": "ipython",
    "version": 3
   },
   "file_extension": ".py",
   "mimetype": "text/x-python",
   "name": "python",
   "nbconvert_exporter": "python",
   "pygments_lexer": "ipython3",
   "version": "3.10.4"
  }
 },
 "nbformat": 4,
 "nbformat_minor": 5
}
