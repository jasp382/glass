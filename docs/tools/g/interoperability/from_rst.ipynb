{
 "cells": [
  {
   "cell_type": "code",
   "execution_count": null,
   "id": "5c569c8b-11b6-43b0-a1c0-d8d5bd0bd006",
   "metadata": {},
   "outputs": [],
   "source": [
    "\"\"\"\n",
    "All rasters in geopackage to file\n",
    "\"\"\""
   ]
  },
  {
   "cell_type": "code",
   "execution_count": null,
   "id": "da6ad351-5f45-432f-8d8e-faee98771267",
   "metadata": {},
   "outputs": [],
   "source": [
    "import fiona"
   ]
  },
  {
   "cell_type": "code",
   "execution_count": null,
   "id": "a577fcec-4b1a-4487-9ab0-00b92818466b",
   "metadata": {},
   "outputs": [],
   "source": [
    "gpkg = '/mnt/d/mystuff/fireloc/'"
   ]
  }
 ],
 "metadata": {
  "kernelspec": {
   "display_name": "Python 3",
   "language": "python",
   "name": "python3"
  },
  "language_info": {
   "codemirror_mode": {
    "name": "ipython",
    "version": 3
   },
   "file_extension": ".py",
   "mimetype": "text/x-python",
   "name": "python",
   "nbconvert_exporter": "python",
   "pygments_lexer": "ipython3",
   "version": "3.8.5"
  }
 },
 "nbformat": 4,
 "nbformat_minor": 5
}
