{
 "cells": [
  {
   "cell_type": "code",
   "execution_count": null,
   "metadata": {},
   "outputs": [],
   "source": [
    "shp_data = '/mnt/d/mystuff/gowe_layouts/igeo_pel_tv/freg_data.shp'\n",
    "\n",
    "maps_table = '/mnt/d/mystuff/gowe_layouts/bd_cartografia.xlsx'\n",
    "sheet = 'info_Layout1'\n",
    "\n",
    "slug  = 'nome_coluna'\n",
    "title = 'indicador'\n",
    "\n",
    "# Numero casas decimais que vao aparecer nos valores do layout\n",
    "decplace = 'ndec'\n",
    "\n",
    "# Must be always smaller than the min of min values\n",
    "nodata = -99999\n",
    "\n",
    "prod = [{\n",
    "    \"method\" : \"meanstd\",\n",
    "    \"outshp\" : '/mnt/d/mystuff/gowe_layouts/lytshpmain/tvl1meanstd.shp',\n",
    "    \"outtbl\" : '/mnt/d/mystuff/gowe_layouts/lyttblmain/tvl1meanstd.xlsx',\n",
    "    \"ncls\"   : 2\n",
    "}, {\n",
    "    \"method\" : \"jenks\",\n",
    "    \"outshp\" : '/mnt/d/mystuff/gowe_layouts/lytshpmain/tvl1jenks.shp',\n",
    "    \"outtbl\" : '/mnt/d/mystuff/gowe_layouts/lyttblmain/tvl1jenks.xlsx',\n",
    "    \"ncls\"   : 5\n",
    "}, {\n",
    "    \"method\" : \"quantile\",\n",
    "    \"outshp\" : '/mnt/d/mystuff/gowe_layouts/lytshpmain/tvl1quantile.shp',\n",
    "    \"outtbl\" : '/mnt/d/mystuff/gowe_layouts/lyttblmain/tvl1quantile.xlsx',\n",
    "    \"ncls\"   : 5\n",
    "}]\n",
    "\n",
    "# Do group by\n",
    "grpcol = None"
   ]
  },
  {
   "cell_type": "code",
   "execution_count": null,
   "metadata": {},
   "outputs": [],
   "source": [
    "from glass.g.lyt.di import datatocls_meanstd\n",
    "from glass.g.lyt.di import datatocls\n",
    "\n",
    "for d in prod:\n",
    "    if d['method'] == 'meanstd':\n",
    "        datatocls_meanstd(\n",
    "            shp_data, maps_table, sheet,\n",
    "            slug, title, d['ncls'], decplace,\n",
    "            nodata, d['outshp'], d['outtbl']\n",
    "        )\n",
    "    \n",
    "    else:\n",
    "        datatocls(\n",
    "            shp_data, maps_table, sheet,\n",
    "            slug, title, d[\"ncls\"], decplace,\n",
    "            d['outshp'], d['outtbl'],\n",
    "            method=\"QUANTILE\" if d['method'] == 'quantile' else \"JENKS\"\n",
    "        )"
   ]
  },
  {
   "cell_type": "code",
   "execution_count": 1,
   "metadata": {},
   "outputs": [],
   "source": [
    "shp_data = '/mnt/d/mystuff/gowe_layouts/igeo_pel_tv/freg_data.shp'\n",
    "\n",
    "maps_table = '/mnt/d/mystuff/gowe_layouts/bd_cartografia.xlsx'\n",
    "sheet = 'info_Layout2'\n",
    "\n",
    "slugs  = ['nome_coluna1', 'nome_coluna2']\n",
    "titles = ['indicador1', 'indicador2']\n",
    "\n",
    "# Numero casas decimais que vao aparecer nos valores do layout\n",
    "decplace = 'ndec'\n",
    "\n",
    "# Must be always smaller than the min of min values\n",
    "nodata = -99999\n",
    "\n",
    "ncls = 5\n",
    "outshp = '/mnt/d/mystuff/gowe_layouts/lytshpmain/tvl2jenks.shp'\n",
    "outtbl = '/mnt/d/mystuff/gowe_layouts/lyttblmain/tvl2jenks.xlsx'"
   ]
  },
  {
   "cell_type": "code",
   "execution_count": 2,
   "metadata": {},
   "outputs": [],
   "source": [
    "from glass.g.lyt.di import datatocls_multiref\n",
    "\n",
    "dc, ren = datatocls_multiref(shp_data, maps_table, sheet, slugs, titles, ncls, decplace,\n",
    "    outshp, outtbl, method=\"JENKS\")"
   ]
  },
  {
   "cell_type": "code",
   "execution_count": null,
   "metadata": {},
   "outputs": [],
   "source": [
    "dc"
   ]
  },
  {
   "cell_type": "code",
   "execution_count": null,
   "metadata": {},
   "outputs": [],
   "source": [
    "ren"
   ]
  },
  {
   "cell_type": "code",
   "execution_count": null,
   "metadata": {},
   "outputs": [],
   "source": [
    "shp.columns.values"
   ]
  },
  {
   "cell_type": "code",
   "execution_count": null,
   "metadata": {},
   "outputs": [],
   "source": [
    "shp"
   ]
  },
  {
   "cell_type": "code",
   "execution_count": null,
   "metadata": {},
   "outputs": [],
   "source": []
  }
 ],
 "metadata": {
  "kernelspec": {
   "display_name": "Python 3",
   "language": "python",
   "name": "python3"
  },
  "language_info": {
   "codemirror_mode": {
    "name": "ipython",
    "version": 3
   },
   "file_extension": ".py",
   "mimetype": "text/x-python",
   "name": "python",
   "nbconvert_exporter": "python",
   "pygments_lexer": "ipython3",
   "version": "3.8.5"
  }
 },
 "nbformat": 4,
 "nbformat_minor": 4
}
