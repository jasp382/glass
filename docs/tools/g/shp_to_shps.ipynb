{
 "cells": [
  {
   "cell_type": "code",
   "execution_count": null,
   "metadata": {},
   "outputs": [],
   "source": [
    "in_shp = '/mnt/d/mystuff/gowe_layouts/lytshpmain/tvl2jenks.shp'\n",
    "maps_todo = '/mnt/d/mystuff/gowe_layouts/lyttblmain/tvl2jenks.xlsx'\n",
    "\n",
    "out_folder = '/mnt/d/mystuff/gowe_layouts/lyt2shp_jenks/'\n",
    "\n",
    "refcol     = ['slug1', 'slug2']\n",
    "outcolname = 'joker'\n",
    "\n",
    "from glass.dp.split import shpcols_to_shp\n",
    "\n",
    "shpcols_to_shp(in_shp, maps_todo, refcol, outcolname, out_folder)"
   ]
  },
  {
   "cell_type": "code",
   "execution_count": null,
   "metadata": {},
   "outputs": [],
   "source": [
    "from glass.dp.split import shpcols_to_shp\n",
    "\n",
    "\"\"\"mapdata = [{\n",
    "    'inshp' : '/mnt/d/mystuff/gowe_layouts/igeo_pel_tv/tv_maps_l1.shp',\n",
    "    'table' : '/mnt/d/mystuff/gowe_layouts/tv_maps_l1.xlsx',\n",
    "    'outf'  : '/mnt/d/mystuff/gowe_layouts/lytshp_meanstd/'\n",
    "}, {\n",
    "    'inshp' : '/mnt/d/mystuff/gowe_layouts/igeo_pel_tv/tv_maps_l1_jenks.shp',\n",
    "    'table' : '/mnt/d/mystuff/gowe_layouts/tv_maps_l1_jenks.xlsx',\n",
    "    'outf'  : '/mnt/d/mystuff/gowe_layouts/lytshp_jenks/'\n",
    "}, {\n",
    "    'inshp' : '/mnt/d/mystuff/gowe_layouts/igeo_pel_tv/tv_maps_l1_quantile.shp',\n",
    "    'table' : '/mnt/d/mystuff/gowe_layouts/tv_maps_l1_quantile.xlsx',\n",
    "    'outf'  : '/mnt/d/mystuff/gowe_layouts/lytshp_qtl/'\n",
    "}]\"\"\"\n",
    "\n",
    "refcol = 'slug'\n",
    "outcolname = 'joker'\n",
    "\n",
    "for d in mapdata:\n",
    "    shpcols_to_shp(d['inshp'], d['table'], refcol, outcolname, d['outf'])"
   ]
  },
  {
   "cell_type": "code",
   "execution_count": null,
   "metadata": {},
   "outputs": [],
   "source": [
    "import os\n",
    "from glass.rd.shp import shp_to_obj\n",
    "from glass.rd import tbl_to_obj\n",
    "from glass.wt.shp import df_to_shp"
   ]
  },
  {
   "cell_type": "code",
   "execution_count": null,
   "metadata": {},
   "outputs": [],
   "source": [
    "df_shp = shp_to_obj(in_shp)\n",
    "\n",
    "df_maps = tbl_to_obj(maps_todo)"
   ]
  },
  {
   "cell_type": "code",
   "execution_count": null,
   "metadata": {},
   "outputs": [],
   "source": [
    "for i, r in df_maps.iterrows():\n",
    "    new_df = df_shp.copy()\n",
    "    \n",
    "    drop_cols = [c for c in df_maps.slug.tolist() if c != r.slug]\n",
    "    \n",
    "    new_df.drop(drop_cols, axis=1, inplace=True)\n",
    "    \n",
    "    new_df.rename(columns={r.slug : 'joker'}, inplace=True)\n",
    "    \n",
    "    df_to_shp(new_df, os.path.join(out_folder, r.slug + '.shp'))"
   ]
  },
  {
   "cell_type": "code",
   "execution_count": null,
   "metadata": {},
   "outputs": [],
   "source": []
  }
 ],
 "metadata": {
  "kernelspec": {
   "display_name": "Python 3 (ipykernel)",
   "language": "python",
   "name": "python3"
  },
  "language_info": {
   "codemirror_mode": {
    "name": "ipython",
    "version": 3
   },
   "file_extension": ".py",
   "mimetype": "text/x-python",
   "name": "python",
   "nbconvert_exporter": "python",
   "pygments_lexer": "ipython3",
   "version": "3.8.10"
  }
 },
 "nbformat": 4,
 "nbformat_minor": 4
}
