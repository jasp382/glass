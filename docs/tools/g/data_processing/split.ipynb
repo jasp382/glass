{
 "cells": [
  {
   "cell_type": "markdown",
   "id": "25fcb014-7bc9-4091-b2fb-b53c540f26cc",
   "metadata": {},
   "source": [
    "## Export each feature to a new file"
   ]
  },
  {
   "cell_type": "code",
   "execution_count": null,
   "id": "2cf5a057-02cd-4ce0-b0e0-9558056bf3be",
   "metadata": {},
   "outputs": [],
   "source": [
    "from glass.dp.split import eachfeat_to_newshp\n",
    "\n",
    "shp = '/home/jasp/mystuff/dgt/imdrefgrid.shp'\n",
    "\n",
    "ofolder = '/home/jasp/mystuff/dgt/imdrefgrid'\n",
    "\n",
    "idcol = 'cellid'\n",
    "\n",
    "eachfeat_to_newshp(shp, ofolder, idCol=idcol)"
   ]
  },
  {
   "cell_type": "code",
   "execution_count": null,
   "id": "f871564f-7bac-4d05-a455-2a8e22f740da",
   "metadata": {},
   "outputs": [],
   "source": []
  }
 ],
 "metadata": {
  "kernelspec": {
   "display_name": "Python 3 (ipykernel)",
   "language": "python",
   "name": "python3"
  },
  "language_info": {
   "codemirror_mode": {
    "name": "ipython",
    "version": 3
   },
   "file_extension": ".py",
   "mimetype": "text/x-python",
   "name": "python",
   "nbconvert_exporter": "python",
   "pygments_lexer": "ipython3",
   "version": "3.8.10"
  }
 },
 "nbformat": 4,
 "nbformat_minor": 5
}
