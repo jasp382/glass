{
 "cells": [
  {
   "cell_type": "code",
   "execution_count": null,
   "metadata": {},
   "outputs": [],
   "source": [
    "\"\"\"\n",
    "Extent buffer\n",
    "\"\"\"\n",
    "\n",
    "from glass.gp.prox.bfing import buffer_ext\n",
    "\n",
    "shp = ''\n",
    "\n",
    "outshp = '/mnt/d/MEGA/undersee/iareas/esa_iabuffer.shp'\n",
    "\n",
    "meter = 100 * 1000\n",
    "\n",
    "buffer_ext(shp, meter, outshp, inEpsg=None)"
   ]
  },
  {
   "cell_type": "code",
   "execution_count": null,
   "metadata": {},
   "outputs": [],
   "source": []
  }
 ],
 "metadata": {
  "kernelspec": {
   "display_name": "Python 3 (ipykernel)",
   "language": "python",
   "name": "python3"
  },
  "language_info": {
   "codemirror_mode": {
    "name": "ipython",
    "version": 3
   },
   "file_extension": ".py",
   "mimetype": "text/x-python",
   "name": "python",
   "nbconvert_exporter": "python",
   "pygments_lexer": "ipython3",
   "version": "3.8.10"
  }
 },
 "nbformat": 4,
 "nbformat_minor": 4
}
