{
 "cells": [
  {
   "cell_type": "code",
   "execution_count": 2,
   "metadata": {},
   "outputs": [
    {
     "data": {
      "text/plain": [
       "'/mnt/d/mystuff/pwgis/mod2_ex1/ref/lmt_mdt.shp'"
      ]
     },
     "execution_count": 2,
     "metadata": {},
     "output_type": "execute_result"
    }
   ],
   "source": [
    "\"\"\"\n",
    "Extent buffer\n",
    "\"\"\"\n",
    "\n",
    "from glass.g.gp.prox.bfing import buffer_ext\n",
    "\n",
    "shp = '/mnt/d/mystuff/pwgis/mod2_ex1/ref/lmt_ref.shp'\n",
    "\n",
    "outshp = '/mnt/d/mystuff/pwgis/mod2_ex1/ref/lmt_mdt.shp'\n",
    "\n",
    "meter = 2000\n",
    "\n",
    "buffer_ext(shp, meter, outshp, inEpsg=None)"
   ]
  },
  {
   "cell_type": "code",
   "execution_count": null,
   "metadata": {},
   "outputs": [],
   "source": []
  }
 ],
 "metadata": {
  "kernelspec": {
   "display_name": "Python 3",
   "language": "python",
   "name": "python3"
  },
  "language_info": {
   "codemirror_mode": {
    "name": "ipython",
    "version": 3
   },
   "file_extension": ".py",
   "mimetype": "text/x-python",
   "name": "python",
   "nbconvert_exporter": "python",
   "pygments_lexer": "ipython3",
   "version": "3.8.5"
  }
 },
 "nbformat": 4,
 "nbformat_minor": 4
}
