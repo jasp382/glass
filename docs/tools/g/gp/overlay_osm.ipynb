{
 "cells": [
  {
   "cell_type": "markdown",
   "metadata": {},
   "source": [
    "# Clip OSMFile using OSMOSIS\n",
    "\n",
    "This method uses OSMOSIS to get an OSM extract from a big OSM File\n",
    "\n",
    "### Parameters: ###\n",
    "\n",
    "**INTEREST_AREA** - Extent of your interest area. Could be a path to a file (e.g. ESRI Shapefile or KML), a wkt string, or a list with wkt strings:\n",
    "\n",
    "```Python\n",
    "# If it is WKT\n",
    "INTEREST_AREA = \"POLYGON ((30 10, 40 40, 20 40, 10 20, 30 10))\"\n",
    "\n",
    "# OR if it is a List of WKT\n",
    "# The list order should be: left; right; bottom; top\n",
    "INTEREST_AREA = [\"POLYGON ((30 10, 40 40, 20 40, 10 20, 30 10))\", \"POLYGON ((15 5, 20 20, 10 20, 5 10, 15 5))\"]\n",
    "\n",
    "# OR if it is a File\n",
    "INTEREST_AREA = '/path/to/yourboundary.shp'\n",
    "```\n",
    "\n",
    "**OSMDATA** - Path to the output file that will have OSM Data available in the Interest Area;\n",
    "\n",
    "**EPSG** - EPSG Code of the Spatial Reference System of INTEREST_AREA."
   ]
  },
  {
   "cell_type": "code",
   "execution_count": null,
   "metadata": {},
   "outputs": [],
   "source": [
    "from glass.g.gp.ovl.osm import osm_extraction\n",
    "\n",
    "INTEREST_AREA = '/home/jasp/mystuff/dgt/tstcoimbra/lmt.shp'\n",
    "OSM_FILE      = '/home/jasp/mystuff/dgt/portugal-latest.osm.pbf'\n",
    "OSM_EXTRACT   = '/home/jasp/mystuff/dgt/tstcoimbra/osm_cmb.xml'\n",
    "\n",
    "osm_extraction(INTEREST_AREA, OSM_FILE, OSM_EXTRACT)"
   ]
  },
  {
   "cell_type": "markdown",
   "metadata": {},
   "source": [
    "### Clip OSMFile for each shapefile in one folder"
   ]
  },
  {
   "cell_type": "code",
   "execution_count": null,
   "metadata": {},
   "outputs": [],
   "source": [
    "osmfile  = '/home/jasp/mystuff/dgt/osm_pt/portugal-latest.osm.pbf'\n",
    "clipshps = '/home/jasp/mystuff/dgt/ref_parts'\n",
    "\n",
    "outfolder = '/home/jasp/mystuff/dgt/osm_parts'\n",
    "\n",
    "bname = 'osmpt'"
   ]
  },
  {
   "cell_type": "code",
   "execution_count": null,
   "metadata": {},
   "outputs": [],
   "source": [
    "import pandas as pd\n",
    "import os\n",
    "from glass.g.gp.ovl.osm import osm_extraction\n",
    "from glass.pys.oss import lst_ff"
   ]
  },
  {
   "cell_type": "code",
   "execution_count": null,
   "metadata": {},
   "outputs": [],
   "source": [
    "# List clip shapes and get their id's\n",
    "\n",
    "# assuming file id is the last part of the filename\n",
    "# {filename}_{id}.shp\n",
    "# id must be an integer\n",
    "\n",
    "cshps = pd.DataFrame([{\n",
    "    'fid' : int(f.split('.')[0].split('_')[-1]),\n",
    "    'shp' : f\n",
    "} for f in lst_ff(\n",
    "    clipshps, rfilename=True, file_format='.shp'\n",
    ")])"
   ]
  },
  {
   "cell_type": "code",
   "execution_count": null,
   "metadata": {},
   "outputs": [],
   "source": [
    "cshps"
   ]
  },
  {
   "cell_type": "code",
   "execution_count": null,
   "metadata": {},
   "outputs": [],
   "source": [
    "for i, row in cshps.iterrows():\n",
    "    # Run method\n",
    "    osm_extraction(\n",
    "        os.path.join(clipshps, row.shp),\n",
    "        osmfile,\n",
    "        os.path.join(outfolder, f'{bname}_{str(row.fid)}.xml')\n",
    "    )"
   ]
  },
  {
   "cell_type": "code",
   "execution_count": null,
   "metadata": {},
   "outputs": [],
   "source": []
  }
 ],
 "metadata": {
  "kernelspec": {
   "display_name": "Python 3",
   "language": "python",
   "name": "python3"
  },
  "language_info": {
   "codemirror_mode": {
    "name": "ipython",
    "version": 3
   },
   "file_extension": ".py",
   "mimetype": "text/x-python",
   "name": "python",
   "nbconvert_exporter": "python",
   "pygments_lexer": "ipython3",
   "version": "3.8.10"
  }
 },
 "nbformat": 4,
 "nbformat_minor": 4
}
