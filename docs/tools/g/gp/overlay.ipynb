{
 "cells": [
  {
   "cell_type": "markdown",
   "id": "535322f6-906d-4967-bf99-f4b5637078c6",
   "metadata": {},
   "source": [
    "### Clip Feature Class using as clip features each file of one folder"
   ]
  },
  {
   "cell_type": "code",
   "execution_count": null,
   "id": "357d6b07-a931-43e7-a6cb-c2bb600b1ba3",
   "metadata": {},
   "outputs": [],
   "source": [
    "in_shp = '/home/jasp/mystuff/dgt/AreasEdificadas2018.shp'\n",
    "\n",
    "clipshps = '/home/jasp/mystuff/dgt/ref_miss'\n",
    "\n",
    "outfolder = '/home/jasp/mystuff/dgt/cae_parts'\n",
    "\n",
    "bname = 'cae'"
   ]
  },
  {
   "cell_type": "code",
   "execution_count": null,
   "id": "29a399b0-3207-4077-abda-ce1f80d709d3",
   "metadata": {},
   "outputs": [],
   "source": [
    "import os\n",
    "import pandas as pd\n",
    "\n",
    "from glass.g.wenv.grs import run_grass\n",
    "from glass.pys.oss import lst_ff, fprop\n",
    "from glass.g.prop.prj import get_epsg"
   ]
  },
  {
   "cell_type": "code",
   "execution_count": null,
   "id": "5e36826d-aa8e-44fc-b8aa-d7941fb34314",
   "metadata": {},
   "outputs": [],
   "source": [
    "# List clip shapes and get their id's\n",
    "\n",
    "# assuming file id is the last part of the filename\n",
    "# {filename}_{id}.shp\n",
    "# id must be an integer\n",
    "\n",
    "cshps = pd.DataFrame([{\n",
    "    'fid' : int(f.split('.')[0].split('_')[-1]),\n",
    "    'shp' : f\n",
    "} for f in lst_ff(\n",
    "    clipshps, rfilename=True, file_format='.shp'\n",
    ")])"
   ]
  },
  {
   "cell_type": "code",
   "execution_count": null,
   "id": "336e7229-cd39-478f-9633-39c6a6731580",
   "metadata": {},
   "outputs": [],
   "source": [
    "# Start GRASS GIS Session\n",
    "\n",
    "loc = f'loc_{os.path.basename(outfolder).replace(\"_\", \"\")}'\n",
    "gb = run_grass(outfolder, location=loc, srs=get_epsg(in_shp))\n",
    "\n",
    "import grass.script.setup as gs\n",
    "\n",
    "gs.init(gb, outfolder, loc, 'PERMANENT')"
   ]
  },
  {
   "cell_type": "code",
   "execution_count": null,
   "id": "25be142a-0c7d-4eec-b135-1320388d0043",
   "metadata": {},
   "outputs": [],
   "source": [
    "from glass.g.it.shp import shp_to_grs, grs_to_shp\n",
    "from glass.g.wenv.grs import shp_to_region\n",
    "from glass.g.gp.ovl import grsclip"
   ]
  },
  {
   "cell_type": "code",
   "execution_count": null,
   "id": "ae420662-6935-46a0-8d53-29c25d245a2e",
   "metadata": {},
   "outputs": [],
   "source": [
    "# Import in_shp\n",
    "ingrsv = shp_to_grs(in_shp, fprop(in_shp, 'fn'))\n",
    "\n",
    "# Set region\n",
    "shp_to_region(ingrsv, 10)"
   ]
  },
  {
   "cell_type": "code",
   "execution_count": null,
   "id": "b17964c8-d152-4ce0-a7dc-716a673975b4",
   "metadata": {},
   "outputs": [],
   "source": [
    "# Run clip\n",
    "\n",
    "for i, row in cshps.iterrows():\n",
    "    # Import clip features\n",
    "    cfeat = shp_to_grs(\n",
    "        os.path.join(clipshps, row.shp),\n",
    "        fprop(row.shp, 'fn'))\n",
    "    \n",
    "    # Clip\n",
    "    clipfeat = grsclip(ingrsv, cfeat, f'{bname}_{str(row.fid)}', cmd=True)\n",
    "    \n",
    "    # Export\n",
    "    grs_to_shp(clipfeat, os.path.join(\n",
    "        outfolder, f'{clipfeat}.shp'\n",
    "    ), 'area')"
   ]
  }
 ],
 "metadata": {
  "kernelspec": {
   "display_name": "Python 3",
   "language": "python",
   "name": "python3"
  },
  "language_info": {
   "codemirror_mode": {
    "name": "ipython",
    "version": 3
   },
   "file_extension": ".py",
   "mimetype": "text/x-python",
   "name": "python",
   "nbconvert_exporter": "python",
   "pygments_lexer": "ipython3",
   "version": "3.8.10"
  }
 },
 "nbformat": 4,
 "nbformat_minor": 5
}
