{
 "cells": [
  {
   "cell_type": "markdown",
   "id": "e31f1702-7b08-4514-b6d2-513ed6bcd0a6",
   "metadata": {},
   "source": [
    "### Shape extent to ESRI Shapefile"
   ]
  },
  {
   "cell_type": "code",
   "execution_count": 1,
   "id": "4cb7daa3-6f08-493e-8026-3eed348983b1",
   "metadata": {},
   "outputs": [
    {
     "data": {
      "text/plain": [
       "'/home/jasp/mystuff/dgt/tstcoimbra/lmt.shp'"
      ]
     },
     "execution_count": 1,
     "metadata": {},
     "output_type": "execute_result"
    }
   ],
   "source": [
    "from glass.g.gp.ext import shpext_to_boundshp\n",
    "\n",
    "in_shp = '/home/jasp/mystuff/dgt/tstcoimbra/limite_coimbra_bom.shp'\n",
    "\n",
    "ou_shp = '/home/jasp/mystuff/dgt/tstcoimbra/lmt.shp'\n",
    "\n",
    "shpext_to_boundshp(in_shp, ou_shp)"
   ]
  },
  {
   "cell_type": "code",
   "execution_count": null,
   "id": "dba42e4e-38bc-4738-91ef-d6559a14d932",
   "metadata": {},
   "outputs": [],
   "source": []
  }
 ],
 "metadata": {
  "kernelspec": {
   "display_name": "Python 3",
   "language": "python",
   "name": "python3"
  },
  "language_info": {
   "codemirror_mode": {
    "name": "ipython",
    "version": 3
   },
   "file_extension": ".py",
   "mimetype": "text/x-python",
   "name": "python",
   "nbconvert_exporter": "python",
   "pygments_lexer": "ipython3",
   "version": "3.8.10"
  }
 },
 "nbformat": 4,
 "nbformat_minor": 5
}
