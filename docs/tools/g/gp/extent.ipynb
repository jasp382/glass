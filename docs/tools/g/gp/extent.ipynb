{
 "cells": [
  {
   "cell_type": "markdown",
   "id": "e31f1702-7b08-4514-b6d2-513ed6bcd0a6",
   "metadata": {},
   "source": [
    "### Shape extent to ESRI Shapefile"
   ]
  },
  {
   "cell_type": "code",
   "execution_count": 1,
   "id": "4cb7daa3-6f08-493e-8026-3eed348983b1",
   "metadata": {},
   "outputs": [
    {
     "data": {
      "text/plain": [
       "'/home/jasp/mystuff/undersee/iareas/demoesa_iareas.shp'"
      ]
     },
     "execution_count": 1,
     "metadata": {},
     "output_type": "execute_result"
    }
   ],
   "source": [
    "from glass.gp.ext import shpext_to_boundshp\n",
    "\n",
    "in_shp = '/home/jasp/mystuff/undersee/iareas/demoesa_buffer.shp'\n",
    "\n",
    "ou_shp = '/home/jasp/mystuff/undersee/iareas/demoesa_iareas.shp'\n",
    "\n",
    "shpext_to_boundshp(in_shp, ou_shp)"
   ]
  },
  {
   "cell_type": "markdown",
   "id": "37520885-5cdc-4031-a3fd-c448972bdcab",
   "metadata": {},
   "source": [
    "### Get extent of each feature in Feature class"
   ]
  },
  {
   "cell_type": "code",
   "execution_count": 1,
   "id": "3bb80ea7-8668-46c8-8487-2479ccd3a26c",
   "metadata": {},
   "outputs": [
    {
     "data": {
      "text/plain": [
       "'/home/jasp/mystuff/undersee/iareas/demoesa_iareas.shp'"
      ]
     },
     "execution_count": 1,
     "metadata": {},
     "output_type": "execute_result"
    }
   ],
   "source": [
    "from glass.gp.ext import featext_to_shp\n",
    "\n",
    "in_shp = '/home/jasp/mystuff/undersee/iareas/demoesa_buffer.shp'\n",
    "\n",
    "ou_shp = '/home/jasp/mystuff/undersee/iareas/demoesa_iareas.shp'\n",
    "\n",
    "featext_to_shp(in_shp, ou_shp)"
   ]
  },
  {
   "cell_type": "code",
   "execution_count": null,
   "id": "6192106b-b08f-405c-bcf4-009edb49c5ac",
   "metadata": {},
   "outputs": [],
   "source": []
  }
 ],
 "metadata": {
  "kernelspec": {
   "display_name": "Python 3 (ipykernel)",
   "language": "python",
   "name": "python3"
  },
  "language_info": {
   "codemirror_mode": {
    "name": "ipython",
    "version": 3
   },
   "file_extension": ".py",
   "mimetype": "text/x-python",
   "name": "python",
   "nbconvert_exporter": "python",
   "pygments_lexer": "ipython3",
   "version": "3.8.10"
  }
 },
 "nbformat": 4,
 "nbformat_minor": 5
}
