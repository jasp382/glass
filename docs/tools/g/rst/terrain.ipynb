{
 "cells": [
  {
   "cell_type": "code",
   "execution_count": 1,
   "id": "83a93ea4-49e5-4493-b040-ba20ee1d1cd9",
   "metadata": {},
   "outputs": [
    {
     "data": {
      "text/plain": [
       "'/mnt/d/mystuff/fireloc/dem_data/dem888_large/mdt_igeoe_280.tif'"
      ]
     },
     "execution_count": 1,
     "metadata": {},
     "output_type": "execute_result"
    }
   ],
   "source": [
    "\"\"\"\n",
    "Create DEM\n",
    "\"\"\"\n",
    "\n",
    "from glass.g.rst.terrain import make_dem\n",
    "\n",
    "workspace = '/mnt/d/mystuff/fireloc/xyz'\n",
    "\n",
    "contours = '/mnt/d/mystuff/fireloc/dem_data/igeoe_280.shp'\n",
    "\n",
    "col = 'data'\n",
    "\n",
    "method = \"CONTOUR\"\n",
    "\n",
    "output = \"/mnt/d/mystuff/fireloc/dem_data/dem888_large/mdt_igeoe_280.tif\"\n",
    "\n",
    "ext = '/mnt/d/mystuff/fireloc/dem_data/mdt10_lmt/lmt_dem_280.tif'\n",
    "\n",
    "mask = '/mnt/d/mystuff/fireloc/dem_data/mdt10_masks/masks_280.tif'\n",
    "\n",
    "make_dem(\n",
    "    workspace, contours, col, output, ext,\n",
    "    method=method, cell_size=None, mask=mask)"
   ]
  },
  {
   "cell_type": "code",
   "execution_count": null,
   "id": "6267f9d4-655a-4467-87ca-056870f38918",
   "metadata": {},
   "outputs": [],
   "source": []
  }
 ],
 "metadata": {
  "kernelspec": {
   "display_name": "Python 3",
   "language": "python",
   "name": "python3"
  },
  "language_info": {
   "codemirror_mode": {
    "name": "ipython",
    "version": 3
   },
   "file_extension": ".py",
   "mimetype": "text/x-python",
   "name": "python",
   "nbconvert_exporter": "python",
   "pygments_lexer": "ipython3",
   "version": "3.8.5"
  }
 },
 "nbformat": 4,
 "nbformat_minor": 5
}
