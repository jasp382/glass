{
 "cells": [
  {
   "cell_type": "markdown",
   "metadata": {},
   "source": [
    "### Run slope for each raster in folder"
   ]
  },
  {
   "cell_type": "code",
   "execution_count": 1,
   "metadata": {},
   "outputs": [],
   "source": [
    "rst_folder = '/mnt/d/mystuff/fireloc/geodb_api/dem_data/dem888_large/'\n",
    "expo_folder = '/mnt/d/mystuff/fireloc/geodb_api/dem_data/dem888_aspect_large/'\n",
    "out_name = 'exp'"
   ]
  },
  {
   "cell_type": "code",
   "execution_count": 2,
   "metadata": {},
   "outputs": [],
   "source": [
    "import os\n",
    "import pandas as pd\n",
    "import re\n",
    "import multiprocessing as mp\n",
    "from glass.g.wenv.grs import run_grass\n",
    "from glass.pys.oss import cpu_cores, lst_ff\n",
    "from glass.pys.oss import fprop\n",
    "from glass.ng.pd.split import df_split"
   ]
  },
  {
   "cell_type": "code",
   "execution_count": 3,
   "metadata": {},
   "outputs": [],
   "source": [
    "def run_aspect(tid, inrsts, outfolder, oname):\n",
    "    iirsts = inrsts.mdt.tolist()\n",
    "    \n",
    "    # Create GRASS GIS location\n",
    "    loc_name = f'thread_{str(tid)}'\n",
    "    gbase = run_grass(outfolder, location=loc_name, srs=iirsts[0])\n",
    "    \n",
    "    # Start GRASS GIS Session\n",
    "    import grass.script as grass\n",
    "    import grass.script.setup as gsetup\n",
    "    gsetup.init(gbase, outfolder, loc_name, 'PERMANENT')\n",
    "    \n",
    "    from glass.g.it.rst   import rst_to_grs, grs_to_rst\n",
    "    from glass.g.rst.surf import aspect\n",
    "    from glass.g.wenv.grs import rst_to_region\n",
    "    \n",
    "    for rst in iirsts:\n",
    "        # Import data\n",
    "        mdt = rst_to_grs(rst, fprop(rst, 'fn'))\n",
    "    \n",
    "        # Set region\n",
    "        rst_to_region(mdt)\n",
    "        \n",
    "        # Get ID in name\n",
    "        mdt_id = re.search(r'\\d+', mdt).group()\n",
    "    \n",
    "        # Get aspect\n",
    "        rst_aspect = aspect(mdt, f\"{oname}_{mdt_id}\", from_north=True)\n",
    "    \n",
    "        # Export\n",
    "        grs_to_rst(rst_aspect, os.path.join(outfolder, rst_aspect + '.tif'))"
   ]
  },
  {
   "cell_type": "code",
   "execution_count": 4,
   "metadata": {},
   "outputs": [],
   "source": [
    "# List Rasters\n",
    "\n",
    "rsts = pd.DataFrame(lst_ff(rst_folder, file_format='.tif'), columns=['mdt'])\n",
    "\n",
    "# Split rasters by threads\n",
    "ncpu = cpu_cores()\n",
    "\n",
    "dfs = df_split(rsts, ncpu)\n",
    "\n",
    "# Run slope using multiprocessing\n",
    "thrds = [mp.Process(\n",
    "    target=run_aspect, name=f'th_{str(i)}',\n",
    "    args=(i+1, dfs[i], expo_folder, out_name)\n",
    ") for i in range(len(dfs))]\n",
    "\n",
    "for t in thrds:\n",
    "    t.start()\n",
    "\n",
    "for t in thrds:\n",
    "    t.join()"
   ]
  },
  {
   "cell_type": "code",
   "execution_count": null,
   "metadata": {},
   "outputs": [],
   "source": []
  }
 ],
 "metadata": {
  "kernelspec": {
   "display_name": "Python 3",
   "language": "python",
   "name": "python3"
  },
  "language_info": {
   "codemirror_mode": {
    "name": "ipython",
    "version": 3
   },
   "file_extension": ".py",
   "mimetype": "text/x-python",
   "name": "python",
   "nbconvert_exporter": "python",
   "pygments_lexer": "ipython3",
   "version": "3.8.5"
  }
 },
 "nbformat": 4,
 "nbformat_minor": 4
}
