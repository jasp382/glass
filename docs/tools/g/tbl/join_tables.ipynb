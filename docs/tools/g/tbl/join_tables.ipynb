{
 "cells": [
  {
   "cell_type": "markdown",
   "metadata": {},
   "source": [
    "## Join SHP table with xlsx or csv table"
   ]
  },
  {
   "cell_type": "code",
   "execution_count": 4,
   "metadata": {},
   "outputs": [],
   "source": [
    "shp = '/mnt/d/mystuff/gowe_layouts/igeo_pel_tv/fregtv.shp'\n",
    "\n",
    "shp_pk = 'idfreg'\n",
    "xls = '/mnt/d/mystuff/gowe_layouts/bd_cartografia.xlsx'\n",
    "sheet = 'dados'\n",
    "\n",
    "xls_fk = 'fregid'\n",
    "\n",
    "out_shp = '/mnt/d/mystuff/gowe_layouts/igeo_pel_tv/freg_data.shp'"
   ]
  },
  {
   "cell_type": "code",
   "execution_count": 5,
   "metadata": {},
   "outputs": [
    {
     "data": {
      "text/plain": [
       "'/mnt/d/mystuff/gowe_layouts/igeo_pel_tv/freg_data.shp'"
      ]
     },
     "execution_count": 5,
     "metadata": {},
     "output_type": "execute_result"
    }
   ],
   "source": [
    "from glass.g.tbl.joins import join_shp_with_tbl\n",
    "\n",
    "join_shp_with_tbl(shp, shp_pk, xls, xls_fk, out_shp, sheet=sheet)"
   ]
  },
  {
   "cell_type": "markdown",
   "metadata": {},
   "source": [
    "## Examples applied to BGRI data"
   ]
  },
  {
   "cell_type": "code",
   "execution_count": null,
   "metadata": {},
   "outputs": [],
   "source": [
    "from glass.g.tbl.joins import join_shp_with_csv\n",
    "\n",
    "join_shp_with_csv(\n",
    "    '/mnt/d/gwork/gigs_cmcprj/admin/data_bgri3.shp',\n",
    "    '/mnt/d/gwork/gigs_cmcprj/admin/BGRI11_CENTRO.csv',\n",
    "    '/mnt/d/gwork/gigs_cmcprj/admin/data_bgri4.shp',\n",
    "    shpJoinField=\"BGRI11\",\n",
    "    dataJoinField=\"GEO_COD\",\n",
    "    joinFieldsMantain=[\n",
    "        'N_INDIVIDUOS_RESIDENT_5A9',\n",
    "        'N_INDIVIDUOS_RESIDENT_10A13',\n",
    "        'N_INDIVIDUOS_RESIDENT_14A19'\n",
    "    ],\n",
    "    newNames=['pop59', 'pop1013', 'pop1419']\n",
    ")"
   ]
  },
  {
   "cell_type": "code",
   "execution_count": null,
   "metadata": {},
   "outputs": [],
   "source": [
    "from glass.g.tbl.joins import join_shp_with_csv\n",
    "\n",
    "join_shp_with_csv(\n",
    "    '/mnt/c/gwork/gigs_cmcprj/Censos/grid_cmb.shp',\n",
    "    '/mnt/c/gwork/gigs_cmcprj/Censos/POPGRID_VARIAVEIS_PORTUGAL.csv',\n",
    "    '/mnt/c/gwork/gigs_cmcprj/Censos/data_grid.shp',\n",
    "    shpJoinField=\"GRD1K_INSP\",\n",
    "    dataJoinField=\"GRD1K_INSPIREID\",\n",
    "    joinFieldsMantain=[\n",
    "        'TOT_POP',\n",
    "    ],\n",
    "    newNames=['pop']\n",
    ")"
   ]
  },
  {
   "cell_type": "code",
   "execution_count": null,
   "metadata": {},
   "outputs": [],
   "source": [
    "from glass.g.tbl.joins import join_shp_with_csv\n",
    "import os\n",
    "WORKSPACE = ''\n",
    "\n",
    "FILES = [\"BGRI11_LISBOA\", \"BGRI11_ALENTEJO\", \"BGRI11_ALGARVE\"]\n",
    "shp = r'D:\\indev\\JUSTSIDE\\fridao\\bgri_2011\\BGRI11_NORTE.shp'\n",
    "csv = r'D:\\indev\\JUSTSIDE\\fridao\\bgri_2011\\BGRI11_NORTE.csv'\n",
    "out = [\"DATA_LISBOA.shp\", \"DATA_ALENTEJO.shp\", \"DATA_ALGARVE.shp\"]\n",
    "\n",
    "dataFields = [\n",
    "    \"N_INDIVIDUOS_PRESENT\", \"N_INDIVIDUOS_RESIDENT\",\n",
    "    \"N_INDIVIDUOS_RESIDENT_0A4\", \"N_INDIVIDUOS_RESIDENT_5A9\", \"N_INDIVIDUOS_RESIDENT_10A13\",\n",
    "    \"N_INDIVIDUOS_RESIDENT_14A19\", \"N_INDIVIDUOS_RESIDENT_15A19\",\"N_INDIVIDUOS_RESIDENT_20A24\",\n",
    "    \"N_INDIVIDUOS_RESIDENT_20A64\", \"N_INDIVIDUOS_RESIDENT_25A64\", \"N_INDIVIDUOS_RESIDENT_65\",\n",
    "    \"N_INDIV_RESIDENT_N_LER_ESCRV\",\"N_IND_RESIDENT_FENSINO_1BAS\",\"N_IND_RESIDENT_FENSINO_2BAS\",\n",
    "    \"N_IND_RESIDENT_FENSINO_3BAS\",\"N_IND_RESIDENT_FENSINO_SEC\", \"N_IND_RESIDENT_FENSINO_POSSEC\",\n",
    "    \"N_IND_RESIDENT_FENSINO_SUP\", \"N_IND_RESIDENT_ENSINCOMP_1BAS\", \"N_IND_RESIDENT_ENSINCOMP_2BAS\",\n",
    "    \"N_IND_RESIDENT_ENSINCOMP_3BAS\",\"N_IND_RESIDENT_ENSINCOMP_SEC\", \"N_IND_RESIDENT_ENSINCOMP_POSEC\",\n",
    "    \"N_IND_RESIDENT_ENSINCOMP_SUP\"\n",
    "]\n",
    "\n",
    "newFields = [\n",
    "    \"ni_pre\", \"ni_res\", \"i_res0a4\", \"i_res5a9\", \"i_res10a13\",\n",
    "    \"i_res14a19\", \"i_res15a19\",\"i_res20a24\",\n",
    "    \"i_res20a64\", \"i_res25a64\", \"i_res65\",\n",
    "    \"nler_esc\",\"f1bas\",\"f2bas\", \"f3bas\",\"fsec\", \"fpro\",\"fsup\", \"c1bas\", \"c2bas\",\n",
    "    \"c3bas\",\"csec\", \"cpro\", \"csup\"\n",
    "]\n",
    "\n",
    "for i in range(len(FILES)):\n",
    "    join_shp_with_csv(\n",
    "        os.path.join(WORKSPACE, FILES[i] + '.shp'),\n",
    "        os.path.join(WORKSPACE, FILES[i] + '.csv'),\n",
    "        os.path.join(WORKSPACE, out[i]),\n",
    "        shpJoinField=\"BGRI11\", dataJoinField=\"GEO_COD\",\n",
    "        joinFieldsMantain=dataFields,\n",
    "        newNames=newFields\n",
    "    )"
   ]
  },
  {
   "cell_type": "code",
   "execution_count": null,
   "metadata": {},
   "outputs": [],
   "source": [
    "\"\"\"\n",
    "Copy fields from one shape to another and rename the fields\n",
    "\"\"\"\n",
    "\n",
    "shp = '/mnt/d/gwork/gigs_cmcprj/indicators/freg_cmb_v70.shp'\n",
    "\n",
    "jshp = '/mnt/d/gwork/gigs_cmcprj/indicators/freg_cmb_v69.shp'\n",
    "\n",
    "shp_pk = 'idfreg'\n",
    "jshp_fk = 'idfreg'\n",
    "xls = '/mnt/d/gwork/gigs_cmcprj/Lista_mapas_09102020.xlsx'\n",
    "sheet = 'just_print'\n",
    "old_names = 'slug_1'\n",
    "new_names = 'slug_2'\n",
    "\n",
    "out_shp = '/mnt/d/gwork/gigs_cmcprj/indicators/freg_cmb_v72.shp'"
   ]
  },
  {
   "cell_type": "code",
   "execution_count": null,
   "metadata": {},
   "outputs": [],
   "source": [
    "from glass.dct.geo.fmshp import shp_to_obj\n",
    "from glass.dct import tbl_to_obj\n",
    "from glass.g.wt.shp import df_to_shp\n",
    "import pandas as pd"
   ]
  },
  {
   "cell_type": "code",
   "execution_count": null,
   "metadata": {},
   "outputs": [],
   "source": [
    "shpdf = shp_to_obj(shp)\n",
    "\n",
    "jshpdf = shp_to_obj(jshp)\n",
    "\n",
    "xlsdf = tbl_to_obj(xls, sheet=sheet)"
   ]
  },
  {
   "cell_type": "code",
   "execution_count": null,
   "metadata": {},
   "outputs": [],
   "source": [
    "jshpcols = list(jshpdf.columns.values)\n",
    "\n",
    "rdf = {jshp_fk: 'jtblfid'}\n",
    "jcols = ['jtblfid']\n",
    "\n",
    "for i, r in xlsdf.iterrows():\n",
    "    if r[old_names] in jshpcols:\n",
    "        rdf[r[old_names]] = r[new_names]\n",
    "        \n",
    "        jcols.append(r[new_names])\n",
    "\n",
    "jshpdf.rename(columns=rdf, inplace=True)\n",
    "dcols = [c for c in jshpdf.columns.values if c not in jcols]\n",
    "jshpdf.drop(dcols, axis=1, inplace=True)"
   ]
  },
  {
   "cell_type": "code",
   "execution_count": null,
   "metadata": {},
   "outputs": [],
   "source": [
    "jshpdf.columns.values"
   ]
  },
  {
   "cell_type": "code",
   "execution_count": null,
   "metadata": {},
   "outputs": [],
   "source": [
    "print(dcols)"
   ]
  },
  {
   "cell_type": "code",
   "execution_count": null,
   "metadata": {},
   "outputs": [],
   "source": [
    "shpdf = shpdf.merge(jshpdf, how='left', left_on=shp_pk, right_on='jtblfid')\n",
    "\n",
    "df_to_shp(shpdf, out_shp)"
   ]
  },
  {
   "cell_type": "code",
   "execution_count": null,
   "metadata": {},
   "outputs": [],
   "source": [
    "\"\"\"\n",
    "Assume we have N tables with a numerical column with the same name\n",
    "\n",
    "This script calculate the mean of all these columns\n",
    "\"\"\"\n",
    "\n",
    "import os\n",
    "from glass.g.tbl.joins import calc_mean_samecol_sevshp\n",
    "\n",
    "intbls = '/mnt/d/gwork/gigs_cmcprj/servicos/cf_otp_cs'\n",
    "\n",
    "tformat = '.shp'\n",
    "\n",
    "pk = 'iid'\n",
    "\n",
    "meancol = 'minutes'\n",
    "\n",
    "output = '/mnt/d/gwork/gigs_cmcprj/servicos/cf_otp_cs/cf_smtuc_cs_mean.xlsx'\n",
    "\n",
    "calc_mean_samecol_sevshp(intbls, pk, meancol, output, tformat=tformat)"
   ]
  },
  {
   "cell_type": "code",
   "execution_count": null,
   "metadata": {},
   "outputs": [],
   "source": [
    "\"\"\"\n",
    "N-TO-N relation to table\n",
    "\"\"\"\n",
    "\n",
    "left_t = '/mnt/d/gwork/gigs_cmcprj/indicators/freg_cmb_v83.shp'\n",
    "\n",
    "right_t = '/mnt/d/gwork/gigs_cmcprj/INDICADORES_CSP_joaquim.xlsx'\n",
    "right_sheet = 'cs_indicators'\n",
    "\n",
    "rel_t = '/mnt/d/gwork/gigs_cmcprj/freg_cs.xlsx'\n",
    "rel_sheet = 'freg_cs'\n",
    "\n",
    "out_data = '/mnt/d/gwork/gigs_cmcprj/indicators/freg_cmb_cs.shp'"
   ]
  },
  {
   "cell_type": "code",
   "execution_count": null,
   "metadata": {},
   "outputs": [],
   "source": [
    "from glass.dct.geo.fmshp import shp_to_obj\n",
    "from glass.dct import tbl_to_obj\n",
    "from glass.g.wt.shp import obj_to_shp"
   ]
  },
  {
   "cell_type": "code",
   "execution_count": null,
   "metadata": {},
   "outputs": [],
   "source": [
    "left_df = shp_to_obj(left_t)\n",
    "\n",
    "right_df = tbl_to_obj(right_t, sheet=right_sheet)\n",
    "\n",
    "rel_df = tbl_to_obj(rel_t, rel_sheet)"
   ]
  },
  {
   "cell_type": "code",
   "execution_count": null,
   "metadata": {},
   "outputs": [],
   "source": [
    "# Join rel with right\n",
    "\n",
    "rel_df = rel_df.merge(right_df, how='inner', left_on='CS_FID', right_on='cs_id')"
   ]
  },
  {
   "cell_type": "code",
   "execution_count": null,
   "metadata": {},
   "outputs": [],
   "source": [
    "# Join freg with data\n",
    "\n",
    "left_df = left_df.merge(rel_df, how='left', left_on='idfreg', right_on='codfreg')"
   ]
  },
  {
   "cell_type": "code",
   "execution_count": null,
   "metadata": {},
   "outputs": [],
   "source": [
    "obj_to_shp(left_df, 'geometry', 3763, out_data)"
   ]
  },
  {
   "cell_type": "code",
   "execution_count": null,
   "metadata": {},
   "outputs": [],
   "source": [
    "left_df"
   ]
  },
  {
   "cell_type": "code",
   "execution_count": null,
   "metadata": {},
   "outputs": [],
   "source": []
  }
 ],
 "metadata": {
  "kernelspec": {
   "display_name": "Python 3",
   "language": "python",
   "name": "python3"
  },
  "language_info": {
   "codemirror_mode": {
    "name": "ipython",
    "version": 3
   },
   "file_extension": ".py",
   "mimetype": "text/x-python",
   "name": "python",
   "nbconvert_exporter": "python",
   "pygments_lexer": "ipython3",
   "version": "3.8.5"
  }
 },
 "nbformat": 4,
 "nbformat_minor": 4
}
