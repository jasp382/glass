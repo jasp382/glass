{
 "cells": [
  {
   "cell_type": "code",
   "execution_count": null,
   "metadata": {},
   "outputs": [],
   "source": [
    "from glass.ng.tbl import merge_tbls\n",
    "\n",
    "in_folder = '/mnt/d/gwork/gigs_cmcprj/servicos/mob_cs/cf_result/'\n",
    "\n",
    "out_tbl = '/mnt/d/gwork/gigs_cmcprj/servicos/mob_cs/cs_cf.xlsx'\n",
    "\n",
    "merge_tbls(in_folder, out_tbl)"
   ]
  },
  {
   "cell_type": "code",
   "execution_count": 1,
   "metadata": {},
   "outputs": [
    {
     "data": {
      "text/plain": [
       "'/mnt/d/gwork/gigs_cmcprj/servicos/mob_cs/cf_cs_resultape.shp'"
      ]
     },
     "execution_count": 1,
     "metadata": {},
     "output_type": "execute_result"
    }
   ],
   "source": [
    "\"\"\"\n",
    "Merge\n",
    "\"\"\"\n",
    "\n",
    "from glass.g.dp.mge import shps_to_shp\n",
    "\n",
    "inshps = '/mnt/d/gwork/gigs_cmcprj/servicos/mob_cs/cf_result/'\n",
    "outShp = '/mnt/d/gwork/gigs_cmcprj/servicos/mob_cs/cf_cs_resultape.shp'\n",
    "\n",
    "shps_to_shp(inshps, outShp, api=\"pandas\", fformat='.shp')"
   ]
  },
  {
   "cell_type": "code",
   "execution_count": null,
   "metadata": {},
   "outputs": [],
   "source": []
  }
 ],
 "metadata": {
  "kernelspec": {
   "display_name": "Python 3",
   "language": "python",
   "name": "python3"
  },
  "language_info": {
   "codemirror_mode": {
    "name": "ipython",
    "version": 3
   },
   "file_extension": ".py",
   "mimetype": "text/x-python",
   "name": "python",
   "nbconvert_exporter": "python",
   "pygments_lexer": "ipython3",
   "version": "3.8.5"
  }
 },
 "nbformat": 4,
 "nbformat_minor": 4
}
