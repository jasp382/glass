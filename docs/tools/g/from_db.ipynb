{
 "cells": [
  {
   "cell_type": "code",
   "execution_count": null,
   "id": "6814e5ad-d354-4c0c-889f-3a6f070abf41",
   "metadata": {},
   "outputs": [],
   "source": [
    "from glass.it.shp import dbtbl_to_shp\n",
    "\n",
    "db = 'dgt_osmpt'\n",
    "tbl = 'multipolygons'\n",
    "geom = 'wkb_geometry'\n",
    "\n",
    "shp = '/home/jasp/mystuff/osmpt_polygon.shp'\n",
    "\n",
    "dbtbl_to_shp(db, tbl, geom, shp, dbset='local', api=\"pgsql2shp\")"
   ]
  },
  {
   "cell_type": "code",
   "execution_count": null,
   "id": "f4de210e-f778-485c-a714-d6568f00101b",
   "metadata": {},
   "outputs": [],
   "source": []
  }
 ],
 "metadata": {
  "kernelspec": {
   "display_name": "Python 3 (ipykernel)",
   "language": "python",
   "name": "python3"
  },
  "language_info": {
   "codemirror_mode": {
    "name": "ipython",
    "version": 3
   },
   "file_extension": ".py",
   "mimetype": "text/x-python",
   "name": "python",
   "nbconvert_exporter": "python",
   "pygments_lexer": "ipython3",
   "version": "3.8.10"
  }
 },
 "nbformat": 4,
 "nbformat_minor": 5
}
