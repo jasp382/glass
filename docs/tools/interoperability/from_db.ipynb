{
 "cells": [
  {
   "cell_type": "markdown",
   "id": "48919322-9874-42f7-8a1a-5127382c4502",
   "metadata": {},
   "source": [
    "### Tables in database to excel files"
   ]
  },
  {
   "cell_type": "code",
   "execution_count": 1,
   "id": "b94ad698-f53c-4c7b-b9d5-bb82aca1dc9c",
   "metadata": {},
   "outputs": [],
   "source": [
    "from glass.it import db_to_tbl\n",
    "from glass.prop.sql import lst_tbl\n",
    "\n",
    "db = '/home/jasp/glass/core/glass/ete/osm2lulc/osmtolulc.sqlite'\n",
    "ofolder = '/mnt/\n",
    "\n",
    "tbls = lst_tbl(db, api='sqlite')\n",
    "\n",
    "for t in tbls:\n",
    "    "
   ]
  },
  {
   "cell_type": "code",
   "execution_count": 2,
   "id": "48743bd6-d455-4afb-bc67-8f624072476b",
   "metadata": {},
   "outputs": [
    {
     "data": {
      "text/plain": [
       "['nom_corine_lc',\n",
       " 'nom_globe_lc',\n",
       " 'nom_urban_atlas',\n",
       " 'osm_clc',\n",
       " 'osm_features',\n",
       " 'osm_globe',\n",
       " 'osm_ua',\n",
       " 'rules']"
      ]
     },
     "execution_count": 2,
     "metadata": {},
     "output_type": "execute_result"
    }
   ],
   "source": [
    "tbls"
   ]
  },
  {
   "cell_type": "code",
   "execution_count": null,
   "id": "c78ece16-c996-4189-a222-2ad3cdf15893",
   "metadata": {},
   "outputs": [],
   "source": []
  }
 ],
 "metadata": {
  "kernelspec": {
   "display_name": "Python 3 (ipykernel)",
   "language": "python",
   "name": "python3"
  },
  "language_info": {
   "codemirror_mode": {
    "name": "ipython",
    "version": 3
   },
   "file_extension": ".py",
   "mimetype": "text/x-python",
   "name": "python",
   "nbconvert_exporter": "python",
   "pygments_lexer": "ipython3",
   "version": "3.8.10"
  }
 },
 "nbformat": 4,
 "nbformat_minor": 5
}
