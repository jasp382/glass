{
 "cells": [
  {
   "cell_type": "code",
   "execution_count": null,
   "id": "ade94441-2ae7-4ac9-9c4d-d124b929c483",
   "metadata": {},
   "outputs": [],
   "source": [
    "# From table to table\n",
    "\n",
    "tbl = '/mnt/d/mystuff/pwgisdata/popres21.xlsx'\n",
    "\n",
    "otbl = '/mnt/d/mystuff/pwgisdata/popres.dbf'\n",
    "\n",
    "from glass.it import tbl_to_tbl\n",
    "\n",
    "#tbl_to_tbl(tbl, otbl)"
   ]
  },
  {
   "cell_type": "code",
   "execution_count": null,
   "id": "b54f78ee-fde8-48c9-8ee4-31629b48872b",
   "metadata": {},
   "outputs": [],
   "source": [
    "from glass.prop import drv_name\n",
    "from glass.pys import execmd"
   ]
  },
  {
   "cell_type": "code",
   "execution_count": null,
   "id": "911f1619-0bed-41ba-bfc4-d9fd0fb04167",
   "metadata": {},
   "outputs": [],
   "source": [
    "ocmd = execmd((\n",
    "    f'ogr2ogr --config OGR_XLSX_HEADERS FORCE '\n",
    "    f'-f \"{drv_name(otbl)}\" {otbl} {tbl} '\n",
    "))"
   ]
  },
  {
   "cell_type": "code",
   "execution_count": null,
   "id": "71562384-5aba-49db-b1aa-9001d293b318",
   "metadata": {},
   "outputs": [],
   "source": []
  }
 ],
 "metadata": {
  "kernelspec": {
   "display_name": "Python 3 (ipykernel)",
   "language": "python",
   "name": "python3"
  },
  "language_info": {
   "codemirror_mode": {
    "name": "ipython",
    "version": 3
   },
   "file_extension": ".py",
   "mimetype": "text/x-python",
   "name": "python",
   "nbconvert_exporter": "python",
   "pygments_lexer": "ipython3",
   "version": "3.8.10"
  }
 },
 "nbformat": 4,
 "nbformat_minor": 5
}
