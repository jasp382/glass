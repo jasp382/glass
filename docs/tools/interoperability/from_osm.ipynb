{
 "cells": [
  {
   "cell_type": "markdown",
   "metadata": {},
   "source": [
    "# OSM File to PSQL DB"
   ]
  },
  {
   "cell_type": "code",
   "execution_count": null,
   "metadata": {},
   "outputs": [],
   "source": [
    "from glass.it.db import osm_to_psql\n",
    "\n",
    "inOsm = '/mnt/d/mystuff/flainar/osm_coimbra.xml'\n",
    "out_db = 'testecoimbra'\n",
    "\n",
    "osm_to_psql(inOsm, out_db)"
   ]
  },
  {
   "cell_type": "markdown",
   "metadata": {},
   "source": [
    "# Convert OSM data into Feature Class #"
   ]
  },
  {
   "cell_type": "code",
   "execution_count": null,
   "metadata": {},
   "outputs": [],
   "source": [
    "from glass.it.osm import osm_to_featcls\n",
    "import os\n",
    "\n",
    "osmfiles = [\n",
    "    '/mnt/d/mystuff/cwebsigdata/dados_tpalunos/folha_85/osm_085.xml',\n",
    "    '/mnt/d/mystuff/cwebsigdata/dados_tpalunos/folha_100/osm_100.xml',\n",
    "    '/mnt/d/mystuff/cwebsigdata/dados_tpalunos/folha_185/osm_185.xml',\n",
    "    '/mnt/d/mystuff/cwebsigdata/dados_tpalunos/folha_203/osm_203.xml',\n",
    "    '/mnt/d/mystuff/cwebsigdata/dados_tpalunos/folha_212/osm_212.xml',\n",
    "    '/mnt/d/mystuff/cwebsigdata/dados_tpalunos/folha_218/osm_218.xml',\n",
    "    '/mnt/d/mystuff/cwebsigdata/dados_tpalunos/folha_239/osm_239.xml',\n",
    "    '/mnt/d/mystuff/cwebsigdata/dados_tpalunos/folha_274/osm_274.xml',\n",
    "    '/mnt/d/mystuff/cwebsigdata/dados_tpalunos/folha_297/osm_297.xml',\n",
    "    '/mnt/d/mystuff/cwebsigdata/dados_tpalunos/folha_310/osm_310.xml',\n",
    "    '/mnt/d/mystuff/cwebsigdata/dados_tpalunos/folha_416/osm_416.xml',\n",
    "    '/mnt/d/mystuff/cwebsigdata/dados_tpalunos/folha_431/osm_431.xml',\n",
    "    '/mnt/d/mystuff/cwebsigdata/dados_tpalunos/folha_442/osm_442.xml',\n",
    "    '/mnt/d/mystuff/cwebsigdata/dados_tpalunos/folha_460/osm_460.xml',\n",
    "    '/mnt/d/mystuff/cwebsigdata/dados_tpalunos/folha_249/osm_249.xml'\n",
    "]\n",
    "\n",
    "for osm in osmfiles:\n",
    "    osm_to_featcls(osm, os.path.dirname(osm),\n",
    "        useXmlName=True, outepsg=3763)"
   ]
  },
  {
   "cell_type": "code",
   "execution_count": null,
   "metadata": {},
   "outputs": [],
   "source": []
  }
 ],
 "metadata": {
  "kernelspec": {
   "display_name": "Python 3 (ipykernel)",
   "language": "python",
   "name": "python3"
  },
  "language_info": {
   "codemirror_mode": {
    "name": "ipython",
    "version": 3
   },
   "file_extension": ".py",
   "mimetype": "text/x-python",
   "name": "python",
   "nbconvert_exporter": "python",
   "pygments_lexer": "ipython3",
   "version": "3.8.10"
  }
 },
 "nbformat": 4,
 "nbformat_minor": 4
}
