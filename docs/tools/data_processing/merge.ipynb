{
 "cells": [
  {
   "cell_type": "code",
   "execution_count": null,
   "id": "bcc744e9-6830-4f11-ac05-26178efdadc0",
   "metadata": {},
   "outputs": [],
   "source": [
    "\"\"\"\n",
    "Merge\n",
    "\"\"\"\n",
    "\n",
    "from glass.dp.mge import shps_to_shp\n",
    "\n",
    "inshps = '/mnt/d/mystuff/rms/dist_evu/joinres/'\n",
    "outShp = '/mnt/d/mystuff/rms/dist_evu/bgri_dist_evu.shp'\n",
    "\n",
    "shps_to_shp(inshps, outShp, api=\"pandas\", fformat='.shp')"
   ]
  },
  {
   "cell_type": "markdown",
   "id": "cb098cae-f555-449d-8154-10e9e1b0bb38",
   "metadata": {},
   "source": [
    "## Merge same file in different folders\n",
    "\n",
    "Imagine you have several folders, inside of each one of them there\n",
    "is a file with a certain name. This will program will create a new file\n",
    "with all data in the files with the same name in each folder."
   ]
  },
  {
   "cell_type": "code",
   "execution_count": null,
   "id": "f2b6258e-1f09-49cb-b09d-656eea0dbf2b",
   "metadata": {},
   "outputs": [],
   "source": [
    "folder_with_folders = '/mnt/d/mystuff/rms/dist_csres/'\n",
    "\n",
    "filename = 'bgri_cf.shp'\n",
    "\n",
    "oshp = '/mnt/d/mystuff/rms/dist_csres/dist_bgri_cs.shp'"
   ]
  },
  {
   "cell_type": "code",
   "execution_count": null,
   "id": "255cfb54-acfe-4408-b591-e47d4f4d9147",
   "metadata": {},
   "outputs": [],
   "source": [
    "import os\n",
    "from glass.pys.oss import lst_fld\n",
    "from glass.dp.mge import shps_to_shp"
   ]
  },
  {
   "cell_type": "code",
   "execution_count": null,
   "id": "ec174734-dac4-4ea5-826b-cfddb117600b",
   "metadata": {},
   "outputs": [],
   "source": [
    "# List folders\n",
    "\n",
    "flds = lst_fld(folder_with_folders)"
   ]
  },
  {
   "cell_type": "code",
   "execution_count": null,
   "id": "a87634f1-15e0-4869-8513-bf7be4015fb0",
   "metadata": {},
   "outputs": [],
   "source": [
    "# List files to merge\n",
    "shps = [os.path.join(f, filename) for f in flds]"
   ]
  },
  {
   "cell_type": "code",
   "execution_count": null,
   "id": "08d8a672-8911-4bc6-96b5-8cba269e7024",
   "metadata": {},
   "outputs": [],
   "source": [
    "# Merge shapefiles\n",
    "oshp = shps_to_shp(shps, oshp, api='pandas')"
   ]
  },
  {
   "cell_type": "code",
   "execution_count": null,
   "id": "e6e3d3f6-af1e-4276-af55-52d0668f78e1",
   "metadata": {},
   "outputs": [],
   "source": []
  }
 ],
 "metadata": {
  "kernelspec": {
   "display_name": "Python 3 (ipykernel)",
   "language": "python",
   "name": "python3"
  },
  "language_info": {
   "codemirror_mode": {
    "name": "ipython",
    "version": 3
   },
   "file_extension": ".py",
   "mimetype": "text/x-python",
   "name": "python",
   "nbconvert_exporter": "python",
   "pygments_lexer": "ipython3",
   "version": "3.10.4"
  }
 },
 "nbformat": 4,
 "nbformat_minor": 5
}
