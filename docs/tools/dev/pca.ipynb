{
 "cells": [
  {
   "cell_type": "code",
   "execution_count": null,
   "metadata": {},
   "outputs": [],
   "source": [
    "\"\"\"\n",
    "Principal Component Analysis\n",
    "\n",
    "refs:\n",
    "https://towardsdatascience.com/pca-using-python-scikit-learn-e653f8989e60\n",
    "https://towardsdatascience.com/a-step-by-step-explanation-of-principal-component-analysis-b836fb9c97e2\n",
    "\"\"\"\n",
    "\n",
    "bands = [\n",
    "    r'D:\\indev\\matereo\\water_bands_2804\\T33WWR_20190428T104029_B02_10m.tif',\n",
    "    r'D:\\indev\\matereo\\water_bands_2804\\T33WWR_20190428T104029_B03_10m.tif',\n",
    "    r'D:\\indev\\matereo\\water_bands_2804\\T33WWR_20190428T104029_B04_10m.tif',\n",
    "    r'D:\\indev\\matereo\\water_bands_2804\\T33WWR_20190428T104029_B08_10m.tif',\n",
    "    r'D:\\indev\\matereo\\water_bands_1805\\T33WWR_20190518T104029_B02_10m.tif',\n",
    "    r'D:\\indev\\matereo\\water_bands_1805\\T33WWR_20190518T104029_B03_10m.tif',\n",
    "    r'D:\\indev\\matereo\\water_bands_1805\\T33WWR_20190518T104029_B04_10m.tif',\n",
    "    r'D:\\indev\\matereo\\water_bands_1805\\T33WWR_20190518T104029_B08_10m.tif'\n",
    "]"
   ]
  },
  {
   "cell_type": "code",
   "execution_count": null,
   "metadata": {},
   "outputs": [],
   "source": [
    "from osgeo import gdal, gdal_array\n",
    "import numpy as np"
   ]
  },
  {
   "cell_type": "code",
   "execution_count": null,
   "metadata": {},
   "outputs": [],
   "source": [
    "# Open Images\n",
    "\n",
    "img_src = [gdal.Open(i, gdal.GA_ReadOnly) for i in bands]\n",
    "\n",
    "ndVal = img_src[0].GetRasterBand(1).GetNoDataValue()\n",
    "\n",
    "img_x = np.zeros((\n",
    "    img_src[0].RasterYSize, img_src[0].RasterXSize, len(img_src)),\n",
    "    gdal_array.GDALTypeCodeToNumericTypeCode(\n",
    "        img_src[0].GetRasterBand(1).DataType\n",
    "    )\n",
    ")\n",
    "\n",
    "for b in range(img_x.shape[2]):\n",
    "    img_x[:, :, b] = img_src[b].GetRasterBand(1).ReadAsArray()"
   ]
  },
  {
   "cell_type": "code",
   "execution_count": null,
   "metadata": {},
   "outputs": [],
   "source": [
    "new_shape = (img_x.shape[0] * img_x.shape[1], img_x.shape[2])\n",
    "X = img_x[:, :, :8].reshape(new_shape)"
   ]
  },
  {
   "cell_type": "code",
   "execution_count": null,
   "metadata": {},
   "outputs": [],
   "source": [
    "from sklearn.decomposition import PCA\n",
    "\n",
    "pca = PCA(n_components=X.shape[1])\n",
    "\n",
    "X_pca = pca.fit_transform(X)\n",
    "\n",
    "#PCA(copy=True, iterated_power='auto', n_components=2, random_state=None,\n",
    "    #svd_solver='auto', tol=0.0, whiten=False)"
   ]
  },
  {
   "cell_type": "code",
   "execution_count": null,
   "metadata": {},
   "outputs": [],
   "source": [
    "X_pca = X_pca.reshape(img_x[:, :, :].shape)"
   ]
  },
  {
   "cell_type": "code",
   "execution_count": null,
   "metadata": {},
   "outputs": [],
   "source": [
    "pca_array = [np.zeros((X_pca.shape[0], X_pca.shape[1]), X_pca.dtype) for i in range(X_pca.shape[2])]\n",
    "\n",
    "for i in range(X_pca.shape[2]):\n",
    "    pca_array[i][:, :] = X_pca[:, :, i]"
   ]
  },
  {
   "cell_type": "code",
   "execution_count": null,
   "metadata": {},
   "outputs": [],
   "source": [
    "from glass.g.wt.rst import obj_to_rst\n",
    "import os\n",
    "outFolder = r'D:\\indev\\matereo\\pca_tst'\n",
    "tmp = img_src[0].GetRasterBand(1).ReadAsArray()\n",
    "\n",
    "for i in range(len(pca_array)):\n",
    "    nd_nd = np.amin(pca_array[i]) - 1\n",
    "    \n",
    "    np.place(pca_array[i], tmp==ndVal, nd_nd)\n",
    "    \n",
    "    obj_to_rst(\n",
    "        pca_array[i],\n",
    "        os.path.join(outFolder, 'pca_{}.tif'.format(i+1)),\n",
    "        bands[0], noData=nd_nd\n",
    "    )"
   ]
  },
  {
   "cell_type": "code",
   "execution_count": null,
   "metadata": {},
   "outputs": [],
   "source": [
    "print(np.amin(pca_array[0]))"
   ]
  },
  {
   "cell_type": "code",
   "execution_count": null,
   "metadata": {},
   "outputs": [],
   "source": [
    "print(X_pca.shape)\n",
    "print(X_pca)"
   ]
  },
  {
   "cell_type": "code",
   "execution_count": null,
   "metadata": {},
   "outputs": [],
   "source": [
    "print(img_x.shape)\n",
    "print(img_x)"
   ]
  },
  {
   "cell_type": "code",
   "execution_count": null,
   "metadata": {},
   "outputs": [],
   "source": [
    "# IMG to Array\n",
    "\n",
    "from glass.g.rd.rst import rst_to_array\n",
    "\n",
    "_arr = [rst_to_array(b) for b in bands]"
   ]
  },
  {
   "cell_type": "code",
   "execution_count": null,
   "metadata": {},
   "outputs": [],
   "source": [
    "from rasterio.crs import CRS\n",
    "\n",
    "crs = CRS.from_epsg(3763)\n",
    "#print(crs.to_proj4())"
   ]
  },
  {
   "cell_type": "code",
   "execution_count": null,
   "metadata": {},
   "outputs": [],
   "source": [
    "print(out_meta)"
   ]
  },
  {
   "cell_type": "code",
   "execution_count": null,
   "metadata": {},
   "outputs": [],
   "source": []
  }
 ],
 "metadata": {
  "kernelspec": {
   "display_name": "Python 3",
   "language": "python",
   "name": "python3"
  },
  "language_info": {
   "codemirror_mode": {
    "name": "ipython",
    "version": 3
   },
   "file_extension": ".py",
   "mimetype": "text/x-python",
   "name": "python",
   "nbconvert_exporter": "python",
   "pygments_lexer": "ipython3",
   "version": "3.8.2"
  }
 },
 "nbformat": 4,
 "nbformat_minor": 4
}
