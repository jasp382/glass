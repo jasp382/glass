{
 "cells": [
  {
   "cell_type": "markdown",
   "metadata": {},
   "source": [
    "Este procedimento considera uma grelha vetorial regular e encontra para cada célula os seus oito vizinhos tendo em conta a dimensão da célula"
   ]
  },
  {
   "cell_type": "code",
   "execution_count": null,
   "metadata": {},
   "outputs": [],
   "source": [
    "grid = '/mnt/d/mystuff/fireloc/geodb_api/ref/ref_grid.shp'\n",
    "neighbor = '/mnt/d/mystuff/fireloc/geodb_api/ref/ref_cells_neigh.xlsx'"
   ]
  },
  {
   "cell_type": "code",
   "execution_count": null,
   "metadata": {},
   "outputs": [],
   "source": [
    "import geopandas as gp\n",
    "from glass.gobj import create_polygon\n",
    "from glass.rd.shp import shp_to_obj\n",
    "from glass.gp.ext.pd import featext_to_dfcols\n",
    "from glass.prop.prj import get_epsg\n",
    "from glass.sql.db import create_db\n",
    "from glass.wt.sql import df_to_db\n",
    "from glass.sql.q import q_to_obj\n",
    "from glass.wt import obj_to_tbl"
   ]
  },
  {
   "cell_type": "code",
   "execution_count": null,
   "metadata": {},
   "outputs": [],
   "source": [
    "epsg = get_epsg(grid)"
   ]
  },
  {
   "cell_type": "code",
   "execution_count": null,
   "metadata": {},
   "outputs": [],
   "source": [
    "grid_df = shp_to_obj(grid)\n",
    "grid_df = featext_to_dfcols(grid_df, 'geometry')"
   ]
  },
  {
   "cell_type": "code",
   "execution_count": null,
   "metadata": {},
   "outputs": [],
   "source": [
    "# Get Cellsize\n",
    "\n",
    "# Distance between topleft and bottomleft\n",
    "grid_df['height'] = ((grid_df.minx - grid_df.minx)**2 + (grid_df.maxy - grid_df.miny)**2)**0.5\n",
    "\n",
    "# Distance between topleft and topright\n",
    "grid_df['width'] = ((grid_df.maxx - grid_df.minx)**2 + (grid_df.maxy - grid_df.maxy)**2)**0.5"
   ]
  },
  {
   "cell_type": "code",
   "execution_count": null,
   "metadata": {},
   "outputs": [],
   "source": [
    "# Get boundary including neigbords\n",
    "neighbor_grid = []\n",
    "neighbor_geom = []\n",
    "for idx, row in grid_df.iterrows():\n",
    "    # Get Polygon including 8 neigbors\n",
    "    top    = row.maxy + row.height\n",
    "    left   = row.minx - row.width\n",
    "    bottom = row.miny - row.height\n",
    "    right  = row.maxx + row.width\n",
    "    neig_poly = create_polygon([\n",
    "        (left, top), (left, bottom),\n",
    "        (right, bottom), (right, top)\n",
    "    ], api='shapely')\n",
    "    \n",
    "    neighbor_grid.append([row.cellid, top, left, bottom, right])\n",
    "    neighbor_geom.append(neig_poly)\n",
    "    \n",
    "    # Apply Spatial Filter\n",
    "    #exp_df = gp.GeoDataFrame(\n",
    "        #[[1]], columns=['cid'], crs=f\"EPSG:{str(epsg)}\",\n",
    "        #geometry=[neig_poly]\n",
    "    #)\n",
    "    \n",
    "    #f_cells['tst_geom'] = f_cells.geometry.within(neig_poly)\n",
    "    #f_cells = f_cells[f_cells.geometry.within(neig_poly)]\n",
    "    \n",
    "    #idf = gp.overlay(f_cells, exp_df, how='intersection')\n",
    "neighbor_grid = gp.GeoDataFrame(\n",
    "    neighbor_grid, columns=['cid', 'top', 'left', 'bottom', 'right'], crs=f\"EPSG:{str(epsg)}\",\n",
    "    geometry=neighbor_geom\n",
    ")"
   ]
  },
  {
   "cell_type": "code",
   "execution_count": null,
   "metadata": {},
   "outputs": [],
   "source": [
    "# Create database\n",
    "db = create_db('neighbors')\n",
    "\n",
    "# Send data to database\n",
    "grid_tbl = df_to_db(db, grid_df, 'grid', api='psql', epsg=epsg, geomType='Polygon', colGeom='geometry')\n",
    "neig_tbl = df_to_db(db, neighbor_grid, 'cells_box', api='psql', epsg=epsg, geomType='Polygon', colGeom='geometry')"
   ]
  },
  {
   "cell_type": "code",
   "execution_count": null,
   "metadata": {},
   "outputs": [],
   "source": [
    "neighbor_tbl = q_to_obj(db, (\n",
    "    \"SELECT jtbl.cellid, cells_box.cid AS isneighbor \"\n",
    "    \"FROM cells_box INNER JOIN (\"\n",
    "        \"SELECT cellid, ST_Centroid(geom) AS geom \"\n",
    "        \"FROM grid\"\n",
    "    \") AS jtbl \"\n",
    "    \"ON ST_ContainsProperly(cells_box.geom, jtbl.geom) \"\n",
    "    \"WHERE cells_box.cid <> jtbl.cellid\"\n",
    "))\n",
    "\n",
    "obj_to_tbl(neighbor_tbl, neighbor)"
   ]
  },
  {
   "cell_type": "code",
   "execution_count": null,
   "metadata": {},
   "outputs": [],
   "source": [
    "grid_df.head()"
   ]
  },
  {
   "cell_type": "code",
   "execution_count": null,
   "metadata": {},
   "outputs": [],
   "source": [
    "#neighbor_grid.to_file('/mnt/d/mystuff/fireloc/tstdata/teste.shp')"
   ]
  }
 ],
 "metadata": {
  "kernelspec": {
   "display_name": "Python 3",
   "language": "python",
   "name": "python3"
  },
  "language_info": {
   "codemirror_mode": {
    "name": "ipython",
    "version": 3
   },
   "file_extension": ".py",
   "mimetype": "text/x-python",
   "name": "python",
   "nbconvert_exporter": "python",
   "pygments_lexer": "ipython3",
   "version": "3.8.5"
  }
 },
 "nbformat": 4,
 "nbformat_minor": 4
}
