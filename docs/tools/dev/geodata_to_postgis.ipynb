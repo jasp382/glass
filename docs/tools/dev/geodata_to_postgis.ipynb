{
 "cells": [
  {
   "cell_type": "code",
   "execution_count": null,
   "metadata": {},
   "outputs": [],
   "source": [
    "import os\n",
    "import pandas as pd\n",
    "import geopandas as gp\n",
    "from geoalchemy2 import Geometry, WKTElement\n",
    "from shapely.geometry.multipoint import MultiPoint\n",
    "from shapely.geometry.multilinestring import MultiLineString\n",
    "from shapely.geometry.multipolygon import MultiPolygon\n",
    "\n",
    "from gispy.oss import lst_ff\n",
    "from gispy.sql.con import alchemy_engine\n",
    "from gispy.sql.db import create_db\n",
    "from gispy.geofiles import get_epsg_shp"
   ]
  },
  {
   "cell_type": "code",
   "execution_count": null,
   "metadata": {},
   "outputs": [],
   "source": [
    "folder = '/home/useriam/gdata'\n",
    "\n",
    "db = \"workshop\"\n",
    "\n",
    "work_epsg = 3763"
   ]
  },
  {
   "cell_type": "code",
   "execution_count": null,
   "metadata": {},
   "outputs": [],
   "source": [
    "# List ESRI Shapefiles in folder\n",
    "\n",
    "files = lst_ff(folder, file_format='.shp')"
   ]
  },
  {
   "cell_type": "code",
   "execution_count": null,
   "metadata": {},
   "outputs": [],
   "source": [
    "files"
   ]
  },
  {
   "cell_type": "code",
   "execution_count": null,
   "metadata": {},
   "outputs": [],
   "source": [
    "# Create new database\n",
    "\n",
    "create_db(db, overwrite=True, use_template=True)"
   ]
  },
  {
   "cell_type": "code",
   "execution_count": null,
   "metadata": {},
   "outputs": [],
   "source": [
    "bgri = gp.read_file('/home/useriam/gdata/bgri.shp')\n",
    "\n",
    "cols = bgri.columns.values\n",
    "\n",
    "ccols = {}\n",
    "for c in cols:\n",
    "    if c.isupper():\n",
    "        ccols[c] = c.lower()\n",
    "\n",
    "bgri.rename(columns=ccols, inplace=True)"
   ]
  },
  {
   "cell_type": "code",
   "execution_count": null,
   "metadata": {},
   "outputs": [],
   "source": [
    "bgri"
   ]
  },
  {
   "cell_type": "code",
   "execution_count": null,
   "metadata": {},
   "outputs": [],
   "source": [
    "# Import data into PostgreSQL\n",
    "\n",
    "# Get connector to database\n",
    "conobj = alchemy_engine(db)\n",
    "\n",
    "def sanitize_geom(geom, GeomClass, epsg):\n",
    "    if geom.geom_type.startswith('Multi'):\n",
    "        return WKTElement(geom.wkt, srid=epsg)\n",
    "        \n",
    "    else:\n",
    "        return WKTElement(GeomClass([geom]).wkt, srid=epsg)\n",
    "\n",
    "for f in files:\n",
    "    # Check if we need to project data\n",
    "    srs_code = get_epsg_shp(f)\n",
    "    \n",
    "    # Read data with GeoPandas\n",
    "    gdf = gp.read_file(f)\n",
    "    \n",
    "    # Sanitize column names\n",
    "    cols = gdf.columns.values\n",
    "\n",
    "    ccols = {}\n",
    "    for c in cols:\n",
    "        if c.isupper():\n",
    "            ccols[c] = c.lower()\n",
    "\n",
    "    gdf.rename(columns=ccols, inplace=True)\n",
    "    \n",
    "    # Project if necessary\n",
    "    if srs_code != work_epsg:\n",
    "        print(\"We need to project {}. EPSG={}\".format(f, str(srs_code)))\n",
    "        gdf = gdf.to_crs('EPSG:{}'.format(str(work_epsg)))\n",
    "    \n",
    "    # Get Geometry Type\n",
    "    gdf['geotype'] = gdf.geometry.geom_type\n",
    "    \n",
    "    geo_type = pd.DataFrame({\n",
    "        'cgeom' : gdf.groupby(['geotype'])['geotype'].agg('count')\n",
    "    }).reset_index().geotype.tolist()\n",
    "    \n",
    "    geo_type = geo_type[0] if len(geo_type) == 1 else [g for g in geo_type if g.startswith('Multi')][0]\n",
    "    print(geo_type)\n",
    "    \n",
    "    # Add data to database\n",
    "    if geo_type.startswith('Multi'):\n",
    "        MultiClass = MultiPolygon if geo_type == 'MultiPolygon' else \\\n",
    "            MultiLineString if geo_type == 'MultiLineString' else MultiPoint\n",
    "        \n",
    "        gdf[\"geom\"] = gdf.geometry.apply(lambda x: sanitize_geom(x, MultiClass, work_epsg))\n",
    "    \n",
    "    else:\n",
    "        gdf[\"geom\"] = gdf.geometry.apply(lambda x: WKTElement(x.wkt, srid=work_epsg))\n",
    "    \n",
    "    gdf.drop(\"geometry\", axis=1, inplace=True)\n",
    "    \n",
    "    gdf.to_sql(\n",
    "        os.path.splitext(os.path.basename(f))[0], conobj,\n",
    "        if_exists='replace', index=False,\n",
    "        dtype={\"geom\" : Geometry(geo_type, srid=work_epsg)}\n",
    "    )"
   ]
  },
  {
   "cell_type": "code",
   "execution_count": null,
   "metadata": {},
   "outputs": [],
   "source": []
  }
 ],
 "metadata": {
  "kernelspec": {
   "display_name": "Python 3",
   "language": "python",
   "name": "python3"
  },
  "language_info": {
   "codemirror_mode": {
    "name": "ipython",
    "version": 3
   },
   "file_extension": ".py",
   "mimetype": "text/x-python",
   "name": "python",
   "nbconvert_exporter": "python",
   "pygments_lexer": "ipython3",
   "version": "3.8.5"
  }
 },
 "nbformat": 4,
 "nbformat_minor": 4
}
