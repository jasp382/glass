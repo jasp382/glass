{
 "cells": [
  {
   "cell_type": "code",
   "execution_count": null,
   "id": "3552b997-5317-432e-829f-a24f4d44dec2",
   "metadata": {},
   "outputs": [],
   "source": [
    "from glass.pys.oss      import fprop\n",
    "from glass.sql.db import create_db\n",
    "from glass.prop.sql import lst_db\n",
    "from glass.it.db      import shp_to_psql\n",
    "from glass.prop.prj import get_shp_epsg"
   ]
  },
  {
   "cell_type": "code",
   "execution_count": null,
   "id": "408f23b4-5cd4-44af-8954-0b76609bff1d",
   "metadata": {},
   "outputs": [],
   "source": [
    "shp = '/home/jasp/mystuff/zac/hidrolinhas.shp'"
   ]
  },
  {
   "cell_type": "code",
   "execution_count": null,
   "id": "1c018748-61ac-4fa2-899e-4df89a819e6c",
   "metadata": {},
   "outputs": [],
   "source": [
    "epsg = get_shp_epsg(shp)"
   ]
  },
  {
   "cell_type": "code",
   "execution_count": null,
   "id": "40cd3619-d76f-4876-b8b2-3cb762af3599",
   "metadata": {},
   "outputs": [],
   "source": [
    "epsg"
   ]
  },
  {
   "cell_type": "code",
   "execution_count": null,
   "id": "e43e3cfd-2a4e-41c5-ab7a-f086fdcc3bc3",
   "metadata": {},
   "outputs": [],
   "source": [
    "# Create db\n",
    "db = create_db(fprop(shp, 'fn', forceLower=True), api='psql')"
   ]
  },
  {
   "cell_type": "code",
   "execution_count": null,
   "id": "3f86441f-d93e-4a26-9e6f-7ed3da481619",
   "metadata": {},
   "outputs": [],
   "source": [
    "# Send data to db\n",
    "intbl = shp_to_psql(db, shp, api=\"shp2pgsql\", srsEpsgCode=epsg, encoding=\"LATIN1\")"
   ]
  },
  {
   "cell_type": "code",
   "execution_count": null,
   "id": "6a96d2f5-6712-4540-86b4-33e08b11a13a",
   "metadata": {},
   "outputs": [],
   "source": []
  }
 ],
 "metadata": {
  "kernelspec": {
   "display_name": "Python 3",
   "language": "python",
   "name": "python3"
  },
  "language_info": {
   "codemirror_mode": {
    "name": "ipython",
    "version": 3
   },
   "file_extension": ".py",
   "mimetype": "text/x-python",
   "name": "python",
   "nbconvert_exporter": "python",
   "pygments_lexer": "ipython3",
   "version": "3.8.10"
  }
 },
 "nbformat": 4,
 "nbformat_minor": 5
}
