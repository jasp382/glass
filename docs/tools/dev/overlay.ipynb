{
 "cells": [
  {
   "cell_type": "code",
   "execution_count": null,
   "metadata": {},
   "outputs": [],
   "source": [
    "\"\"\"\n",
    "Relate polygon_b to polygon_a\n",
    "\n",
    "Permite verificar a que municipio ou area de influencia uma subsecao\n",
    "estatistica pertence (territorialmente).\n",
    "    \n",
    "Se uma subseccao se intersectar com mais de um poligono, a primeira fica\n",
    "relacionada ao poligono que ocupa maior parte da sua area (isto pode \n",
    "levantar algumas questoes, mas para ja fica assim).\n",
    "    \n",
    "A relacao entre a subsecao e o poligono que com ela intersecta ficara \n",
    "escrita num novo campo da bgri\n",
    "\"\"\""
   ]
  },
  {
   "cell_type": "code",
   "execution_count": null,
   "metadata": {},
   "outputs": [],
   "source": [
    "polygons_a = '/mnt/d/mystuff/fireloc/geodb_api/pop/BGRI11_CONT.shp'\n",
    "polygons_b = '/mnt/d/mystuff/fireloc/geodb_api/CAOP/freguesias.shp'\n",
    "\n",
    "id_polygons_a = 'BGRI11'\n",
    "id_poltgons_b = 'idfreg'"
   ]
  },
  {
   "cell_type": "code",
   "execution_count": 2,
   "metadata": {},
   "outputs": [],
   "source": [
    "from glass.rd.shp import shp_to_obj"
   ]
  },
  {
   "cell_type": "code",
   "execution_count": 3,
   "metadata": {},
   "outputs": [],
   "source": [
    "# TODO: calculate intersection\n",
    "\n",
    "iresult = '/mnt/d/mystuff/fireloc/geodb_api/pop/bgri11_freg.shp'"
   ]
  },
  {
   "cell_type": "code",
   "execution_count": null,
   "metadata": {},
   "outputs": [],
   "source": [
    "adf = shp_to_obj(polygons_a)"
   ]
  },
  {
   "cell_type": "code",
   "execution_count": 4,
   "metadata": {},
   "outputs": [],
   "source": [
    "idf = shp_to_obj(iresult)"
   ]
  },
  {
   "cell_type": "code",
   "execution_count": null,
   "metadata": {},
   "outputs": [],
   "source": []
  }
 ],
 "metadata": {
  "kernelspec": {
   "display_name": "Python 3 (ipykernel)",
   "language": "python",
   "name": "python3"
  },
  "language_info": {
   "codemirror_mode": {
    "name": "ipython",
    "version": 3
   },
   "file_extension": ".py",
   "mimetype": "text/x-python",
   "name": "python",
   "nbconvert_exporter": "python",
   "pygments_lexer": "ipython3",
   "version": "3.8.10"
  }
 },
 "nbformat": 4,
 "nbformat_minor": 4
}
