{
 "cells": [
  {
   "cell_type": "markdown",
   "id": "b60dbba8-8802-4882-976b-a55598db6a8e",
   "metadata": {},
   "source": [
    "## Compare OSM Data with Carta Áreas Edificadas from DGT"
   ]
  },
  {
   "cell_type": "code",
   "execution_count": 1,
   "id": "9d7b91fb-569c-42b4-b09e-07a768d0e5d0",
   "metadata": {},
   "outputs": [],
   "source": [
    "osm_ref_tags = {\n",
    "    \"TABLE\"     : '/home/jasp/mystuff/dgt/osm_features_2021_v2.xlsx',\n",
    "    \"SHEET\"     : 'osm_features',\n",
    "    \"LULC_COL\"  : 'L4',\n",
    "    \"KEY_COL\"   : \"key\",\n",
    "    \"VALUE_COL\" : \"value\",\n",
    "    \"GEOM_COL\"  : \"geom\"\n",
    "}\n",
    "\n",
    "osmdata = {\n",
    "    \"FILE\"  : '/home/jasp/mystuff/dgt/osm_parts/osmpt_185.xml',\n",
    "    \"DB\"    : 'dgt_cell185',\n",
    "    \"TABLE\" : \"multipolygons\",\n",
    "    \"DBSET\" : \"local\"\n",
    "}\n",
    "\n",
    "ref_edificado = [\n",
    "    '1141', '1151', '1211', '1221',\n",
    "    '1222', '1223', '1231', '1241',\n",
    "    '1251', '1252', '1254', '1255',\n",
    "    '1256', '1257', '1253', '1612',\n",
    "    '1631', '1632', '1633', '1651',\n",
    "    '16', '143', '1431', '1432', '165',\n",
    "    '11', '13', '142', '1421', '161'\n",
    "]\n",
    "\n",
    "\n",
    "lulccls = 'lulc_cls'\n",
    "\n",
    "caeshp = '/home/jasp/mystuff/dgt/cae_parts/cae_185.shp'\n",
    "\n",
    "refshp = '/home/jasp/mystuff/dgt/ref_parts/ref_parts_185.shp'\n",
    "\n",
    "epsg = 3763\n",
    "\n",
    "# OSM LULC result\n",
    "lulcshp = '/home/jasp/mystuff/dgt/res_parts/res_185.shp'\n",
    "\n",
    "# OSM/CAE intersection result\n",
    "osmvscae = '/home/jasp/mystuff/dgt/res_parts/osmvscae_185.shp'"
   ]
  },
  {
   "cell_type": "code",
   "execution_count": 2,
   "id": "0b6f8ca0-3a75-401b-aff9-f3b78d7e3a0f",
   "metadata": {},
   "outputs": [],
   "source": [
    "import os\n",
    "import pandas as pd\n",
    "import numpy as np\n",
    "\n",
    "from glass.g.it.db import osm_to_psql\n",
    "from glass.g.it.shp import dbtbl_to_shp\n",
    "from glass.g.wenv.grs import run_grass\n",
    "from glass.g.dp.torst import shp_to_rst\n",
    "from glass.g.rd.shp import shp_to_obj\n",
    "from glass.g.wt.shp import df_to_shp\n",
    "\n",
    "from glass.ng.prop.sql import cols_name\n",
    "from glass.ng.rd import tbl_to_obj\n",
    "from glass.ng.sql.q import exec_write_q\n",
    "from glass.ng.sql.db import create_db\n",
    "from glass.pys.oss import mkdir, fprop"
   ]
  },
  {
   "cell_type": "code",
   "execution_count": 3,
   "id": "eb8ea1c8-8782-4b32-9097-5da50d839503",
   "metadata": {},
   "outputs": [],
   "source": [
    "# Prepare workspace\n",
    "ws = mkdir(os.path.join(\n",
    "    os.path.dirname(lulcshp), f'grs{fprop(lulcshp, \"fn\")}'\n",
    "), overwrite=True)"
   ]
  },
  {
   "cell_type": "code",
   "execution_count": 4,
   "id": "0d2dba71-951d-4db7-a55e-49b824538c95",
   "metadata": {},
   "outputs": [
    {
     "data": {
      "text/plain": [
       "'dgt_cell185'"
      ]
     },
     "execution_count": 4,
     "metadata": {},
     "output_type": "execute_result"
    }
   ],
   "source": [
    "# Import data into a database\n",
    "create_db(osmdata[\"DB\"], api='psql', overwrite=True, dbset=osmdata[\"DBSET\"])\n",
    "\n",
    "osm_to_psql(osmdata[\"FILE\"], osmdata[\"DB\"], dbsetup='local')"
   ]
  },
  {
   "cell_type": "code",
   "execution_count": 5,
   "id": "31e2cad0-d4b0-433c-969f-600bc45ffc27",
   "metadata": {},
   "outputs": [],
   "source": [
    "osm_tags = tbl_to_obj(osm_ref_tags[\"TABLE\"], sheet=osm_ref_tags[\"SHEET\"])\n",
    "\n",
    "osm_tags = osm_tags[osm_tags[osm_ref_tags[\"GEOM_COL\"]] == 'Polygon']"
   ]
  },
  {
   "cell_type": "code",
   "execution_count": 6,
   "id": "6a208ced-27c4-445e-837f-68a18cf83815",
   "metadata": {},
   "outputs": [],
   "source": [
    "osm_tags['sevtags'] = osm_tags[osm_ref_tags[\"LULC_COL\"]].str.contains(';')\n",
    "\n",
    "osm_tags = osm_tags[osm_tags.sevtags != True]"
   ]
  },
  {
   "cell_type": "code",
   "execution_count": 7,
   "id": "4ea6820b-847c-4511-91e2-6526693a2647",
   "metadata": {},
   "outputs": [],
   "source": [
    "# Create key/value column\n",
    "osm_tags.loc[:, osm_ref_tags[\"VALUE_COL\"]] = osmdata[\"TABLE\"] + \".\" + \\\n",
    "    osm_tags[osm_ref_tags[\"KEY_COL\"]] + \\\n",
    "    \"='\" + osm_tags[osm_ref_tags[\"VALUE_COL\"]] + \"'\""
   ]
  },
  {
   "cell_type": "code",
   "execution_count": 8,
   "id": "479d4fa2-865e-4bf8-ae18-0318720d0350",
   "metadata": {},
   "outputs": [],
   "source": [
    "# Add new column to multipolygons table\n",
    "# Update it adding an LULC class\n",
    "\n",
    "cols = cols_name(osmdata[\"DB\"], osmdata['TABLE'], dbset=osmdata[\"DBSET\"])\n",
    "\n",
    "qs = [] if \"lulc_cls\" in cols else [(\n",
    "    f\"ALTER TABLE {osmdata['TABLE']} ADD COLUMN \"\n",
    "    \"lulc_cls integer\"\n",
    ")]\n",
    "\n",
    "for cls in osm_tags[osm_ref_tags[\"LULC_COL\"]].unique():\n",
    "    # Se uma feature estiver associada a duas TAGS que dizem respeito a classes\n",
    "    # diferentes, a classe da feature será a última classe considerada\n",
    "    # Abordagem multitag vai resolver este problema.\n",
    "    __osmtags = osm_tags[osm_tags[osm_ref_tags[\"LULC_COL\"]] == cls]\n",
    "    \n",
    "    qs.append((\n",
    "        f\"UPDATE {osmdata['TABLE']} SET lulc_cls={str(cls)} \"\n",
    "        f\"WHERE {str(__osmtags[osm_ref_tags['VALUE_COL']].str.cat(sep=' OR '))}\"\n",
    "    ))"
   ]
  },
  {
   "cell_type": "code",
   "execution_count": 9,
   "id": "cfc1a63d-957f-406e-a5e9-4e3d6c804125",
   "metadata": {},
   "outputs": [
    {
     "name": "stdout",
     "output_type": "stream",
     "text": [
      "['ogc_fid', 'osm_id', 'osm_way_id', 'name', 'type', 'aeroway', 'amenity', 'admin_level', 'barrier', 'boundary', 'building', 'craft', 'geological', 'historic', 'land_area', 'landuse', 'leisure', 'man_made', 'military', '\"natural\"', 'office', 'place', 'shop', 'sport', 'tourism', 'waterway', 'power', 'railway', 'healthcare', 'highway', 'water', 'landcover', 'industrial', 'other_tags', 'wkb_geometry']\n"
     ]
    }
   ],
   "source": [
    "cols = cols_name(osmdata[\"DB\"], osmdata['TABLE'], dbset=osmdata[\"DBSET\"])\n",
    "print(cols)"
   ]
  },
  {
   "cell_type": "code",
   "execution_count": 10,
   "id": "12da34b8-9a25-4ffc-8dcc-33fdafb91c3b",
   "metadata": {},
   "outputs": [],
   "source": [
    "# RUN queries\n",
    "exec_write_q(osmdata[\"DB\"], qs, api='psql', dbset=osmdata[\"DBSET\"])"
   ]
  },
  {
   "cell_type": "code",
   "execution_count": 11,
   "id": "16ef4755-6601-4a49-a649-0bbdc482dcfb",
   "metadata": {},
   "outputs": [],
   "source": [
    "# Export shapefile with data\n",
    "whr = \" OR \".join([f\"lulc_cls={c}\" for c in ref_edificado])\n",
    "\n",
    "q = (\n",
    "    f'SELECT ogc_fid, osm_id, name, lulc_cls, '\n",
    "    'building, amenity, landuse, '\n",
    "    f'ST_Transform(wkb_geometry, {str(epsg)}) AS geom '\n",
    "    f'FROM {osmdata[\"TABLE\"]} '\n",
    "    f'WHERE {whr}'\n",
    ")\n",
    "\n",
    "osmlulc = dbtbl_to_shp(\n",
    "    osmdata[\"DB\"], q, 'geom', os.path.join(ws, 'osmlulc.shp'),\n",
    "    tableIsQuery=True, api='pgsql2shp', epsg=epsg,\n",
    "    dbset=osmdata[\"DBSET\"]\n",
    ")"
   ]
  },
  {
   "cell_type": "markdown",
   "id": "4ed7bd4a-2a76-4ba7-9ead-c0fb6ed3e508",
   "metadata": {},
   "source": [
    "**Dissolve all lulc classes polygons and intersect OSM with CAE**"
   ]
  },
  {
   "cell_type": "code",
   "execution_count": 12,
   "id": "b4ea8481-8f42-41e0-89e7-0333ca6d11d0",
   "metadata": {},
   "outputs": [
    {
     "data": {
      "text/plain": [
       "'/tmp/tmp18c2t8tm'"
      ]
     },
     "execution_count": 12,
     "metadata": {},
     "output_type": "execute_result"
    }
   ],
   "source": [
    "# Start GRASS GIS Session\n",
    "\n",
    "bname = fprop(refshp, 'fn')\n",
    "\n",
    "refrst = shp_to_rst(\n",
    "    refshp, None, 10, 0, os.path.join(\n",
    "        ws, f'rst{bname}.tif'\n",
    "    )\n",
    ")\n",
    "\n",
    "loc = 'locwork'\n",
    "gb = run_grass(ws, location=loc, srs=refrst)\n",
    "\n",
    "import grass.script.setup as gsetup\n",
    "\n",
    "gsetup.init(gb, ws, loc, 'PERMANENT')"
   ]
  },
  {
   "cell_type": "code",
   "execution_count": 13,
   "id": "5903afb9-5faa-4379-bc1e-de48be1564d6",
   "metadata": {},
   "outputs": [],
   "source": [
    "# GRASS GIS Modules\n",
    "from glass.g.it.shp import shp_to_grs, grs_to_shp\n",
    "from glass.g.tbl.col import add_fields, cols_calc\n",
    "from glass.g.tbl.grs import add_table\n",
    "from glass.g.gp.gen import dissolve\n",
    "from glass.g.gp.ovl import grsunion"
   ]
  },
  {
   "cell_type": "code",
   "execution_count": 14,
   "id": "5b65f835-084d-4baa-858f-f57a00e25d28",
   "metadata": {},
   "outputs": [],
   "source": [
    "# Import data\n",
    "osmlulcgrs = shp_to_grs(osmlulc, fprop(osmlulc, 'fn'))\n",
    "caegrs = shp_to_grs(caeshp, fprop(caeshp, 'fn'))"
   ]
  },
  {
   "cell_type": "code",
   "execution_count": 15,
   "id": "37b20bba-8b85-4a7f-b57d-fcf4557aed40",
   "metadata": {},
   "outputs": [],
   "source": [
    "# Dissolve\n",
    "lulcdiss = dissolve(osmlulcgrs, 'osmlulcdiss', 'lulc_cls', api='grass')\n",
    "\n",
    "add_table(lulcdiss, None, lyrN=1, asCMD=True, keyp='lulc_cls')\n",
    "\n",
    "disscat = grs_to_shp(lulcdiss, os.path.join(\n",
    "    ws, 'osmlulcdiss.shp'\n",
    "), 'area')\n",
    "\n",
    "lulcdiss = shp_to_grs(disscat, fprop(disscat, 'fn'))"
   ]
  },
  {
   "cell_type": "code",
   "execution_count": 16,
   "id": "29446a80-e71b-414d-bded-f9c037e9644c",
   "metadata": {},
   "outputs": [],
   "source": [
    "# Union OSM CAE\n",
    "osmcae = grsunion(lulcdiss, caegrs, 'lulcunion')"
   ]
  },
  {
   "cell_type": "code",
   "execution_count": 17,
   "id": "70a9b194-5938-4d0a-a609-adf77c58e911",
   "metadata": {},
   "outputs": [],
   "source": [
    "# Export\n",
    "osm_and_cae = grs_to_shp(osmcae, osmvscae, 'area')"
   ]
  },
  {
   "cell_type": "markdown",
   "id": "dba564cb-f6cb-44d4-8372-eb3119c441c6",
   "metadata": {},
   "source": [
    "**Classify OSM polygons:**"
   ]
  },
  {
   "cell_type": "code",
   "execution_count": 18,
   "id": "ab4c3c6c-7dbb-4449-916c-e75d27a2134b",
   "metadata": {},
   "outputs": [],
   "source": [
    "gdf = shp_to_obj(osm_and_cae)\n",
    "\n",
    "osmdf = shp_to_obj(disscat)"
   ]
  },
  {
   "cell_type": "code",
   "execution_count": 19,
   "id": "ef1debe5-2463-4822-a951-88370f127617",
   "metadata": {},
   "outputs": [],
   "source": [
    "gdf = gdf[~gdf.a_cat.isna()]\n",
    "\n",
    "gdf['a_cat'] = gdf.a_cat.astype(int)\n",
    "gdf['b_cat'] = gdf.b_cat.fillna(value=0)\n",
    "gdf['b_cat'] = gdf.b_cat.astype(int)"
   ]
  },
  {
   "cell_type": "code",
   "execution_count": 20,
   "id": "5110bd76-64b4-466c-b56e-0b8d07275ef4",
   "metadata": {},
   "outputs": [],
   "source": [
    "# Count how many times we have the same a_cat\n",
    "\n",
    "catcount = pd.DataFrame({\n",
    "    'countcat' : gdf.groupby(['a_cat'])['a_cat'].agg('count')\n",
    "}).reset_index()\n",
    "\n",
    "catcount.rename(columns={'a_cat': 'acaty'}, inplace=True)"
   ]
  },
  {
   "cell_type": "code",
   "execution_count": 21,
   "id": "502e8f08-686a-4ff1-862f-e830a783ace6",
   "metadata": {},
   "outputs": [],
   "source": [
    "# Join\n",
    "gdf = gdf.merge(catcount, how='inner', left_on='a_cat', right_on='acaty')"
   ]
  },
  {
   "cell_type": "code",
   "execution_count": 22,
   "id": "f8f6cff1-9ace-468b-9d20-ed1bca76ddd4",
   "metadata": {},
   "outputs": [],
   "source": [
    "# Get classes\n",
    "gdf['fcat'] = -1\n",
    "\n",
    "gdf['fcat'] = np.where(\n",
    "    (gdf.countcat == 1) & (gdf.b_cat == 0),\n",
    "    0, gdf.fcat\n",
    ")\n",
    "\n",
    "gdf['fcat'] = np.where(\n",
    "    (gdf.countcat == 1) & (gdf.b_cat > 0),\n",
    "    1, gdf.fcat\n",
    ")\n",
    "\n",
    "gdf['fcat'] = np.where(\n",
    "    gdf.countcat > 1, 2, gdf.fcat\n",
    ")"
   ]
  },
  {
   "cell_type": "code",
   "execution_count": 23,
   "id": "14527f14-6f71-4dac-a586-0041f2e78651",
   "metadata": {},
   "outputs": [],
   "source": [
    "fdf = pd.DataFrame({\n",
    "    'existcae' : gdf.groupby([\"a_cat\"])['fcat'].agg('min')\n",
    "}).reset_index()"
   ]
  },
  {
   "cell_type": "code",
   "execution_count": 24,
   "id": "db3d57d2-2fd9-4583-9009-f70db5f41619",
   "metadata": {},
   "outputs": [],
   "source": [
    "osmdf['cat'] = osmdf.index + 1\n",
    "\n",
    "osmdf = osmdf.merge(fdf, how='left', left_on='cat', right_on='a_cat')"
   ]
  },
  {
   "cell_type": "code",
   "execution_count": 25,
   "id": "f6982535-c19b-4b32-b26f-bb71f60ae8ba",
   "metadata": {},
   "outputs": [],
   "source": [
    "osmdf.rename(columns={\n",
    "    'cat' : 'id_obj', 'lulc_cls' : 'classuos'\n",
    "}, inplace=True)\n",
    "\n",
    "osmdf['fonte']    = 'osm'\n",
    "osmdf['classuos'] = osmdf.classuos.astype(str)\n",
    "osmdf['existcae'] = osmdf.existcae.fillna(value=-1)\n",
    "osmdf['existcae'] = osmdf.existcae.astype(int)\n",
    "osmdf['areaha']   = osmdf.geometry.area / 10000\n",
    "\n",
    "osmdf.drop(['a_cat'], axis=1, inplace=True)"
   ]
  },
  {
   "cell_type": "code",
   "execution_count": 26,
   "id": "516d5ad6-42e5-4648-94a5-0d531f680bd7",
   "metadata": {},
   "outputs": [
    {
     "data": {
      "text/plain": [
       "'/home/jasp/mystuff/dgt/res_parts/res_185.shp'"
      ]
     },
     "execution_count": 26,
     "metadata": {},
     "output_type": "execute_result"
    }
   ],
   "source": [
    "df_to_shp(osmdf, lulcshp)"
   ]
  },
  {
   "cell_type": "code",
   "execution_count": null,
   "id": "781268c1-6719-4c97-9ec2-c816c6b9f39c",
   "metadata": {},
   "outputs": [],
   "source": []
  }
 ],
 "metadata": {
  "kernelspec": {
   "display_name": "Python 3",
   "language": "python",
   "name": "python3"
  },
  "language_info": {
   "codemirror_mode": {
    "name": "ipython",
    "version": 3
   },
   "file_extension": ".py",
   "mimetype": "text/x-python",
   "name": "python",
   "nbconvert_exporter": "python",
   "pygments_lexer": "ipython3",
   "version": "3.8.10"
  }
 },
 "nbformat": 4,
 "nbformat_minor": 5
}
