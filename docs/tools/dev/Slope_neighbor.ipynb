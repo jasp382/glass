{
 "cells": [
  {
   "cell_type": "code",
   "execution_count": null,
   "metadata": {},
   "outputs": [],
   "source": [
    "dem_folder = '/mnt/d/mystuff/fireloc/geodb_api/API_GPKG_FILES/srtm_bspline_v1'\n",
    "neightable = '/mnt/d/mystuff/fireloc/geodb_api/ref/ref_cells_neigh.xlsx'\n",
    "\n",
    "cellid = 'cellid'\n",
    "neighbor = 'isneighbor'\n",
    "\n",
    "outfolder = '/mnt/d/mystuff/fireloc/geodb_api/dem_data/srtm30_extralarge/'"
   ]
  },
  {
   "cell_type": "code",
   "execution_count": null,
   "metadata": {},
   "outputs": [],
   "source": [
    "import os\n",
    "from glass.pys.oss import lst_ff, fprop\n",
    "from glass.rd import tbl_to_obj\n",
    "from glass.rst.mos import rsts_to_mosaic"
   ]
  },
  {
   "cell_type": "code",
   "execution_count": null,
   "metadata": {},
   "outputs": [],
   "source": [
    "dems = lst_ff(dem_folder, file_format='.tif')\n",
    "\n",
    "neigh_df = tbl_to_obj(neightable)"
   ]
  },
  {
   "cell_type": "code",
   "execution_count": null,
   "metadata": {},
   "outputs": [],
   "source": [
    "for dem in dems:\n",
    "    demfullname = fprop(dem, 'fn')\n",
    "    demnamelst = demfullname.split('_')\n",
    "    demname = \"_\".join(demnamelst[:-1])\n",
    "    # Get cell_id from raster file\n",
    "    cid = int(demnamelst[-1])\n",
    "    # Get neighbors rasters\n",
    "    fneigh = neigh_df[neigh_df[cellid] == cid]\n",
    "    vizinhos = fneigh[neighbor].tolist()\n",
    "    \n",
    "    rsts_viz = [os.path.join(\n",
    "        dem_folder, f\"{demname}_{str(v)}.tif\"\n",
    "    ) for v in vizinhos]\n",
    "    \n",
    "    # Get mosaic\n",
    "    mos = rsts_to_mosaic([dem] + rsts_viz, os.path.join(\n",
    "        outfolder, demfullname + '.tif'\n",
    "    ), api='rasterio')"
   ]
  },
  {
   "cell_type": "code",
   "execution_count": null,
   "metadata": {},
   "outputs": [],
   "source": [
    "print(dem)\n",
    "print(rsts_viz)"
   ]
  },
  {
   "cell_type": "code",
   "execution_count": null,
   "metadata": {},
   "outputs": [],
   "source": []
  }
 ],
 "metadata": {
  "kernelspec": {
   "display_name": "Python 3",
   "language": "python",
   "name": "python3"
  },
  "language_info": {
   "codemirror_mode": {
    "name": "ipython",
    "version": 3
   },
   "file_extension": ".py",
   "mimetype": "text/x-python",
   "name": "python",
   "nbconvert_exporter": "python",
   "pygments_lexer": "ipython3",
   "version": "3.8.5"
  }
 },
 "nbformat": 4,
 "nbformat_minor": 4
}
