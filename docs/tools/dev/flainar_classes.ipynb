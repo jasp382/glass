{
 "cells": [
  {
   "cell_type": "code",
   "execution_count": null,
   "id": "2c86eeb0-da2e-4c26-a9b3-dc5556cf481a",
   "metadata": {},
   "outputs": [],
   "source": [
    "flainar_cls_table = '/mnt/d/mystuff/flainar/cat_flainar.xlsx'\n",
    "flainar_cls_sheet = 'clsflainar'\n",
    "\n",
    "flainar_cls_col = 'tipologia'\n",
    "\n",
    "db = 'flainar'"
   ]
  },
  {
   "cell_type": "code",
   "execution_count": null,
   "id": "dc50ffc6-0f8d-44a5-aa5b-483ed6f5369a",
   "metadata": {},
   "outputs": [],
   "source": [
    "from glass.ng.rd import tbl_to_obj\n",
    "from glass.g.wt.sql import df_to_db\n",
    "from glass.ng.sql.q import q_to_ntbl"
   ]
  },
  {
   "cell_type": "code",
   "execution_count": null,
   "id": "dedfa061-3ee1-43af-b683-2ed5ac334ecb",
   "metadata": {},
   "outputs": [],
   "source": [
    "# Read excel table with pandas\n",
    "\n",
    "clsdf = tbl_to_obj(flainar_cls_table, sheet=flainar_cls_sheet)\n",
    "\n",
    "clsdf.rename(columns={'natural_1' : 'natural'}, inplace=True)"
   ]
  },
  {
   "cell_type": "code",
   "execution_count": null,
   "id": "9aee3273-2888-4013-82e3-46f96ca5a61f",
   "metadata": {},
   "outputs": [],
   "source": [
    "# Get interest keys\n",
    "osmkeys = [c for c in clsdf.columns.values if c != flainar_cls_col]"
   ]
  },
  {
   "cell_type": "code",
   "execution_count": null,
   "id": "090e3b3e-6c47-4fdd-af95-033996ad2036",
   "metadata": {},
   "outputs": [],
   "source": [
    "osmkeys"
   ]
  },
  {
   "cell_type": "code",
   "execution_count": null,
   "id": "00c42532-57e3-4807-8b4c-e8d0045700f1",
   "metadata": {},
   "outputs": [],
   "source": [
    "# Send classsification data to the database\n",
    "clstbl = df_to_db(db, clsdf, 'flainar_cls')"
   ]
  },
  {
   "cell_type": "code",
   "execution_count": null,
   "id": "9cdc1c37-69b6-41dd-8d63-0a47ca7737f1",
   "metadata": {},
   "outputs": [],
   "source": [
    "feattbl = (\n",
    "    \"(SELECT polygoncatid FROM polygons_osmcat \"\n",
    "    \"GROUP BY polygoncatid)\"\n",
    ")"
   ]
  },
  {
   "cell_type": "code",
   "execution_count": null,
   "id": "2365c93c-faf9-44f7-9166-3c0ffa21bfbd",
   "metadata": {},
   "outputs": [],
   "source": [
    "# General key value table with polygonid AS fid\n",
    "\n",
    "featkv = (\n",
    "    \"SELECT mtbl.polygoncatid AS fid, jtbl.key, jtbl.value \"\n",
    "    \"FROM polygons_osmcat AS mtbl \"\n",
    "    \"INNER JOIN osmcategory AS jtbl \"\n",
    "    \"ON mtbl.osmcategoryid = jtbl.osmcategoryid\"\n",
    ")"
   ]
  },
  {
   "cell_type": "code",
   "execution_count": null,
   "id": "e79a79b1-31f1-45bc-8472-49f7fed282e8",
   "metadata": {},
   "outputs": [],
   "source": [
    "qkv = [(\n",
    "    f\"(SELECT fid, foo.value AS {k} \"\n",
    "    f\"FROM ({featkv}) AS foo \"\n",
    "    f\"WHERE foo.key='{k}') AS qq{k}\"\n",
    ") for k in osmkeys]"
   ]
  },
  {
   "cell_type": "code",
   "execution_count": null,
   "id": "55f0e51c-5685-4e0c-a540-11273805a628",
   "metadata": {},
   "outputs": [],
   "source": [
    "print(qkv[0])"
   ]
  },
  {
   "cell_type": "code",
   "execution_count": null,
   "id": "6acf8a78-e977-4275-8482-fba0c534fc39",
   "metadata": {},
   "outputs": [],
   "source": [
    "# Get osm features tables with osm keys as columns\n",
    "selcols = [f\"qq{k}.{k}\" for k in osmkeys]\n",
    "\n",
    "leftjoins = [(\n",
    "    f\"LEFT JOIN {qkv[i]} ON \"\n",
    "    f\"feattbl.polygoncatid = qq{osmkeys[i]}.fid\"\n",
    ") for i in range(len(osmkeys))]\n",
    "\n",
    "qkascol = (\n",
    "    f\"SELECT feattbl.*, {', '.join(selcols)} \"\n",
    "    f\"FROM {feattbl} AS feattbl \"\n",
    "    f\"{' '.join(leftjoins)}\"\n",
    ")"
   ]
  },
  {
   "cell_type": "code",
   "execution_count": null,
   "id": "551d9f31-1337-40e5-818e-cd4316eb2a06",
   "metadata": {},
   "outputs": [],
   "source": [
    "osmtable = q_to_ntbl(db, 'osm_tbl', qkascol)"
   ]
  },
  {
   "cell_type": "code",
   "execution_count": null,
   "id": "53e0e888-ed3c-485c-be56-da452b7101c4",
   "metadata": {},
   "outputs": [],
   "source": [
    "# Get final table\n",
    "fq = (\n",
    "    f\"SELECT mtbl.*, jtbl.{flainar_cls_col} \"\n",
    "    f\"FROM {osmtable} AS mtbl \"\n",
    "    \"LEFT JOIN flainar_cls AS jtbl \"\n",
    "    f\"ON {' AND '.join([f'mtbl.{k} = jtbl.{k}' for k in osmkeys])}\"\n",
    ")"
   ]
  },
  {
   "cell_type": "code",
   "execution_count": null,
   "id": "c17ed6c6-c2e1-4303-9c06-b92946e234ef",
   "metadata": {},
   "outputs": [],
   "source": [
    "fq"
   ]
  },
  {
   "cell_type": "code",
   "execution_count": null,
   "id": "8b799681-c285-459c-a4ee-2a50a7477107",
   "metadata": {},
   "outputs": [],
   "source": []
  }
 ],
 "metadata": {
  "kernelspec": {
   "display_name": "Python 3",
   "language": "python",
   "name": "python3"
  },
  "language_info": {
   "codemirror_mode": {
    "name": "ipython",
    "version": 3
   },
   "file_extension": ".py",
   "mimetype": "text/x-python",
   "name": "python",
   "nbconvert_exporter": "python",
   "pygments_lexer": "ipython3",
   "version": "3.8.5"
  }
 },
 "nbformat": 4,
 "nbformat_minor": 5
}
