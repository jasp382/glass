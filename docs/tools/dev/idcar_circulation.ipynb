{
 "cells": [
  {
   "cell_type": "code",
   "execution_count": null,
   "metadata": {},
   "outputs": [],
   "source": [
    "\"\"\"\n",
    "Get all circulations from GTFS and associate this circulations to\n",
    "the information about the nfrota used to do the route. These last elements\n",
    "are in OTHER_DATABASE in a table with BUS entrances.\n",
    "\"\"\""
   ]
  },
  {
   "cell_type": "code",
   "execution_count": null,
   "metadata": {},
   "outputs": [],
   "source": [
    "import os\n",
    "import pandas\n",
    "\n",
    "from senpy                                import goToList\n",
    "from senpy.pgsql.tables                   import copy_fromdb_todb\n",
    "from senpy.pgsql.tables._del              import del_tables\n",
    "from senpy.pgsql.data.w                   import create_table_by_query\n",
    "from senpy.pgsql.data.w                   import update_table\n",
    "from senpy.pgsql.transportation.gtfs.circ import name_circulations\n",
    "from senpy.tblconv.toxls                  import pgsql_to_xls"
   ]
  },
  {
   "cell_type": "code",
   "execution_count": null,
   "metadata": {},
   "outputs": [],
   "source": [
    "conGTFS_DB = {\n",
    "    \"HOST\" : \"localhost\", \"PORT\" : \"5432\", \"PASSWORD\" : \"admin\",\n",
    "    \"USER\" : \"postgres\", \"DATABASE\" : \"gtfs_carris\"\n",
    "}\n",
    "\n",
    "conOTHER_DB = {\n",
    "    \"HOST\" : \"localhost\", \"PORT\" : \"5432\", \"PASSWORD\" : \"admin\",\n",
    "    \"USER\" : \"postgres\", \"DATABASE\" : \"valcarris_v2\"\n",
    "}\n",
    "\n",
    "GTFS_SCHEMA = {\n",
    "    \"STOP_TIMES\" : {\n",
    "        \"TNAME\"     : \"stop_times\",\n",
    "        \"TRIP\"      : \"trip_id\",\n",
    "        \"STOP\"      : \"stop_id\",\n",
    "        \"SEQUENCE\"  : \"stop_sequence\",\n",
    "        \"DEPARTURE\" : \"departure_time\"\n",
    "    },\n",
    "    \"TRIPS\" : {\n",
    "        \"TNAME\"   : \"trips\",\n",
    "        \"TRIP\"    : \"trip_id\",\n",
    "        \"SERVICE\" : \"service_id\"\n",
    "    },\n",
    "    \"CALENDAR\" : {\n",
    "        \"TNAME\"   : \"calendar_dates\",\n",
    "        \"SERVICE\" : \"service_id\",\n",
    "        \"DATE\"    : \"date\"\n",
    "    }\n",
    "}\n",
    "\n",
    "OTHER_SCHEMA = {\n",
    "    \"ENTRANCES\" : {\n",
    "        \"TNAME\" : \"val_18jan_7as31\",\n",
    "        \"ROUTE\" : [\"route_id\"],\n",
    "        \"STOP\"  : \"paragem\",\n",
    "        \"TIME\"  : \"time\",\n",
    "        \"CAR\"   : \"nfrota\",\n",
    "        \"DAY\"   : \"dia\"\n",
    "    },\n",
    "    \"STOPS\" : {\n",
    "        \"TNAME\"    : \"percursos_geom_v2\",\n",
    "        \"ROUTE\"    : [\"fid_percurso\"],\n",
    "        \"SEQUENCE\" : \"ordem\",\n",
    "        \"STOP\"     : \"paragem\"\n",
    "    }\n",
    "}\n",
    "\n",
    "# OTHER_SCHEMA[\"STOPS\"][\"ROUTE\"] must have the same order than OTHER_SCHEMA[\"ENTRANCES\"][\"ROUTE\"]\n",
    "\n",
    "# Entrances table must have entrances for one GTFS Day (eg: from 04:00:00 to 31:00:00)\n",
    "\n",
    "GTFS_DAY = 20180308\n",
    "ENTRANCES_DAY = \"2018-01-18\"\n",
    "\n",
    "ouxls = r'D:\\TRENMO_JASP\\circulacoes_quinta3.xlsx'"
   ]
  },
  {
   "cell_type": "code",
   "execution_count": null,
   "metadata": {},
   "outputs": [],
   "source": [
    "onGoingTbl = []"
   ]
  },
  {
   "cell_type": "code",
   "execution_count": null,
   "metadata": {},
   "outputs": [],
   "source": [
    "# We have to databases: GTFS AND other with database entrances\n",
    "# Send all Relevant data of the GTFS db to the OTHER DATABASE\n",
    "tbls = [GTFS_SCHEMA[k][\"TNAME\"] for k in GTFS_SCHEMA]\n",
    "copy_fromdb_todb(conGTFS_DB, conOTHER_DB, tbls)\n",
    "onGoingTbl += tbls"
   ]
  },
  {
   "cell_type": "code",
   "execution_count": null,
   "metadata": {},
   "outputs": [],
   "source": [
    "# ID circulations and save result in a new table\n",
    "service_schema = {\n",
    "    \"TRIPS\" : GTFS_SCHEMA[\"TRIPS\"], \"CALENDAR\" : GTFS_SCHEMA[\"CALENDAR\"],\n",
    "    \"FILTER_DAY\" : GTFS_DAY\n",
    "}\n",
    "\n",
    "id_circulations = name_circulations(\n",
    "    conOTHER_DB, GTFS_SCHEMA[\"STOP_TIMES\"], OTHER_SCHEMA[\"STOPS\"],\n",
    "    \"circ_id\", serviceSchema=service_schema\n",
    ")"
   ]
  },
  {
   "cell_type": "code",
   "execution_count": null,
   "metadata": {},
   "outputs": [],
   "source": [
    "id_circulations = \"circ_id\"\n",
    "onGoingTbl.append(id_circulations)"
   ]
  },
  {
   "cell_type": "code",
   "execution_count": null,
   "metadata": {},
   "outputs": [],
   "source": [
    "# Sanitize DEPARTURE_TIME FIELD\n",
    "create_table_by_query(conOTHER_DB, \"stop_times_sanitize\", (\n",
    "    \"SELECT {trip}, {stop}, {sequence}, \"\n",
    "    \"to_char(TO_TIMESTAMP('{day}' || ' ' || {depTime}, 'YYYY-MM-DD HH24:MI:SS'), 'YYYY-MM-DD HH24:MI:SS') AS {depTime} \"\n",
    "    \"FROM {tbl}\"\n",
    ").format(\n",
    "    tbl      = GTFS_SCHEMA[\"STOP_TIMES\"][\"TNAME\"],\n",
    "    trip     = GTFS_SCHEMA[\"STOP_TIMES\"][\"TRIP\"],\n",
    "    stop     = GTFS_SCHEMA[\"STOP_TIMES\"][\"STOP\"],\n",
    "    sequence = GTFS_SCHEMA[\"STOP_TIMES\"][\"SEQUENCE\"],\n",
    "    depTime  = GTFS_SCHEMA[\"STOP_TIMES\"][\"DEPARTURE\"],\n",
    "    day      = ENTRANCES_DAY\n",
    "))"
   ]
  },
  {
   "cell_type": "code",
   "execution_count": null,
   "metadata": {},
   "outputs": [],
   "source": [
    "GTFS_SCHEMA[\"STOP_TIMES\"][\"TNAME\"] = \"stop_times_sanitize\"\n",
    "onGoingTbl.append(\"stop_times_sanitize\")"
   ]
  },
  {
   "cell_type": "code",
   "execution_count": null,
   "metadata": {},
   "outputs": [],
   "source": [
    "# In stop_times, add meta about the route (add route id)\n",
    "\n",
    "q = (\n",
    "    \"SELECT {sT}.{tripId}, {sT}.{stopId}, {sT}.{stopSq}, \"\n",
    "    \"{sT}.{depTime}, {idCirc}.{idRoute} FROM {sT} \"\n",
    "    \"LEFT JOIN {idCirc} \"\n",
    "    \"ON {sT}.{tripId} = {idCirc}.fid \"\n",
    "    \"INNER JOIN (\"\n",
    "        \"SELECT {tripsTbl}.{tripsTripId}, {calenTbl}.{calenDate} \"\n",
    "        \"FROM {tripsTbl} INNER JOIN {calenTbl} ON \"\n",
    "        \"{tripsTbl}.{tripsServId} = {calenTbl}.{calenServId}\"\n",
    "    \") AS trip_service \"\n",
    "    \"ON {sT}.{tripId} = trip_service.{tripsTripId} \"\n",
    "    \"WHERE trip_service.{calenDate} = {day}\"\n",
    ").format(\n",
    "    sT          = \"stop_times_sanitize\",\n",
    "    tripId      = GTFS_SCHEMA[\"STOP_TIMES\"][\"TRIP\"],\n",
    "    stopId      = GTFS_SCHEMA[\"STOP_TIMES\"][\"STOP\"],\n",
    "    stopSq      = GTFS_SCHEMA[\"STOP_TIMES\"][\"SEQUENCE\"],\n",
    "    depTime     = GTFS_SCHEMA[\"STOP_TIMES\"][\"DEPARTURE\"],\n",
    "    idCirc      = id_circulations,\n",
    "    idRoute     = \", \".join(OTHER_SCHEMA[\"STOPS\"][\"ROUTE\"]),\n",
    "    tripsTbl    = GTFS_SCHEMA[\"TRIPS\"][\"TNAME\"],\n",
    "    tripsTripId = GTFS_SCHEMA[\"TRIPS\"][\"TRIP\"],\n",
    "    tripsServId = GTFS_SCHEMA[\"TRIPS\"][\"SERVICE\"],\n",
    "    calenTbl    = GTFS_SCHEMA[\"CALENDAR\"][\"TNAME\"],\n",
    "    calenServId = GTFS_SCHEMA[\"CALENDAR\"][\"SERVICE\"],\n",
    "    calenDate   = GTFS_SCHEMA[\"CALENDAR\"][\"DATE\"],\n",
    "    day         = GTFS_DAY\n",
    ")\n",
    "\n",
    "create_table_by_query(conOTHER_DB, \"stop_times_fid\", q)"
   ]
  },
  {
   "cell_type": "code",
   "execution_count": null,
   "metadata": {},
   "outputs": [],
   "source": [
    "update_table(\n",
    "    conOTHER_DB, \"stop_times_fid\",\n",
    "    {x : \"\\'notfound\\'\" for x in OTHER_SCHEMA[\"STOPS\"][\"ROUTE\"]},\n",
    "    {x : \"NULL\"         for x in OTHER_SCHEMA[\"STOPS\"][\"ROUTE\"]},\n",
    "    logic_operator='AND'\n",
    ")"
   ]
  },
  {
   "cell_type": "code",
   "execution_count": null,
   "metadata": {},
   "outputs": [],
   "source": [
    "onGoingTbl.append(\"stop_times_fid\")"
   ]
  },
  {
   "cell_type": "code",
   "execution_count": null,
   "metadata": {},
   "outputs": [],
   "source": [
    "# Sanitize time column in entrances table\n",
    "\n",
    "q = (\n",
    "    \"SELECT {valRou}, {car}, {stop}, \"\n",
    "    \"to_char(TO_TIMESTAMP({dayF} || ' ' || {tempo}, 'YYYY-MM-DD HH24:MI:SS'), 'YYYY-MM-DD HH24:MI:SS') AS {tempo} \"\n",
    "    \"FROM {tbl}\"\n",
    ").format(\n",
    "    tbl    = OTHER_SCHEMA[\"ENTRANCES\"][\"TNAME\"],\n",
    "    valRou = \", \".join(OTHER_SCHEMA[\"ENTRANCES\"][\"ROUTE\"]),\n",
    "    car    = OTHER_SCHEMA[\"ENTRANCES\"][\"CAR\"],\n",
    "    stop   = OTHER_SCHEMA[\"ENTRANCES\"][\"STOP\"],\n",
    "    tempo  = OTHER_SCHEMA[\"ENTRANCES\"][\"TIME\"],\n",
    "    dayF   = OTHER_SCHEMA[\"ENTRANCES\"][\"DAY\"]\n",
    ")\n",
    "\n",
    "new_entrances_table = \"{}_san\".format(OTHER_SCHEMA[\"ENTRANCES\"][\"TNAME\"])\n",
    "create_table_by_query(conOTHER_DB, new_entrances_table, q)"
   ]
  },
  {
   "cell_type": "code",
   "execution_count": null,
   "metadata": {},
   "outputs": [],
   "source": [
    "OTHER_SCHEMA[\"ENTRANCES\"][\"TNAME\"] = new_entrances_table\n",
    "onGoingTbl.append(new_entrances_table)"
   ]
  },
  {
   "cell_type": "code",
   "execution_count": null,
   "metadata": {},
   "outputs": [],
   "source": [
    "# Get a table with the potencial stop_time for one validation\n",
    "# For a entrance with IDROUTE 26B|0|ASC will be created a row\n",
    "# for each stop_time of the IDROUTE 26B|0|ASC\n",
    "\n",
    "Q = (\n",
    "    \"SELECT {valTbl}.{valRou}, {valTbl}.{car}, {valTbl}.{stop}, \"\n",
    "    \"{valTbl}.{tempo}, {stopTimeTbl}.{tripId}, \"\n",
    "    \"{stopTimeTbl}.{stopId}, {stopTimeTbl}.{depTime} \"\n",
    "    \"FROM {valTbl} INNER JOIN {stopTimeTbl} \"\n",
    "    \"ON {relRoute} AND \"\n",
    "    \"{valTbl}.{stop} = {stopTimeTbl}.{stopId}\"\n",
    ").format(\n",
    "    valTbl      = OTHER_SCHEMA[\"ENTRANCES\"][\"TNAME\"],\n",
    "    valRou      = \", \".join(OTHER_SCHEMA[\"ENTRANCES\"][\"ROUTE\"]),\n",
    "    car         = OTHER_SCHEMA[\"ENTRANCES\"][\"CAR\"],\n",
    "    stop        = OTHER_SCHEMA[\"ENTRANCES\"][\"STOP\"],\n",
    "    tempo       = OTHER_SCHEMA[\"ENTRANCES\"][\"TIME\"],\n",
    "    stopTimeTbl = \"stop_times_fid\",\n",
    "    tripId      = GTFS_SCHEMA[\"STOP_TIMES\"][\"TRIP\"],\n",
    "    stopId      = GTFS_SCHEMA[\"STOP_TIMES\"][\"STOP\"],\n",
    "    depTime     = GTFS_SCHEMA[\"STOP_TIMES\"][\"DEPARTURE\"],\n",
    "    stopsRou    = \", \".join(OTHER_SCHEMA[\"STOPS\"][\"ROUTE\"]),\n",
    "    relRoute    = \" AND \".join([\n",
    "        \"{}.{} = {}.{}\".format(\n",
    "            OTHER_SCHEMA[\"ENTRANCES\"][\"TNAME\"],\n",
    "            OTHER_SCHEMA[\"ENTRANCES\"][\"ROUTE\"][i],\n",
    "            \"stop_times_fid\",\n",
    "            OTHER_SCHEMA[\"STOPS\"][\"ROUTE\"][i],\n",
    "        ) for i in range(len(OTHER_SCHEMA[\"ENTRANCES\"][\"ROUTE\"]))\n",
    "    ])\n",
    ")\n",
    "\n",
    "create_table_by_query(conOTHER_DB, \"val_stoptime_all_possibilities\", Q)"
   ]
  },
  {
   "cell_type": "code",
   "execution_count": null,
   "metadata": {},
   "outputs": [],
   "source": [
    "onGoingTbl.append(\"val_stoptime_all_possibilities\")"
   ]
  },
  {
   "cell_type": "code",
   "execution_count": null,
   "metadata": {},
   "outputs": [],
   "source": [
    "# From the table val_stoptime_all_possibilities\n",
    "# Get the correct circulation for each entrance\n",
    "\n",
    "timeDifference = (\n",
    "    \"(SELECT *, \"\n",
    "    \"(\"\n",
    "        \"(EXTRACT(day FROM \"\n",
    "            \"(TO_TIMESTAMP({timeVal}, 'YYYY-MM-DD HH24:MI:SS') - TO_TIMESTAMP({timeDep}, 'YYYY-MM-DD HH24:MI:SS'))\"\n",
    "        \") * 24) + \"\n",
    "        \"EXTRACT(hour FROM \"\n",
    "            \"(TO_TIMESTAMP({timeVal}, 'YYYY-MM-DD HH24:MI:SS') - TO_TIMESTAMP({timeDep}, 'YYYY-MM-DD HH24:MI:SS'))\"\n",
    "        \") + (EXTRACT(minute FROM \"\n",
    "            \"(TO_TIMESTAMP({timeVal}, 'YYYY-MM-DD HH24:MI:SS') - TO_TIMESTAMP({timeDep}, 'YYYY-MM-DD HH24:MI:SS'))\"\n",
    "        \") / 60.0) + (EXTRACT(second FROM \"\n",
    "            \"(TO_TIMESTAMP({timeVal}, 'YYYY-MM-DD HH24:MI:SS') - TO_TIMESTAMP({timeDep}, 'YYYY-MM-DD HH24:MI:SS'))\"\n",
    "        \") / 3600.0)\"\n",
    "    \") AS tinterval \"\n",
    "    \"FROM val_stoptime_all_possibilities) AS tmdf\"\n",
    ").format(\n",
    "    timeVal=OTHER_SCHEMA[\"ENTRANCES\"][\"TIME\"],\n",
    "    timeDep=GTFS_SCHEMA[\"STOP_TIMES\"][\"DEPARTURE\"]\n",
    ")\n",
    "\n",
    "q = (\n",
    "    \"SELECT * FROM (\"\n",
    "        \"SELECT *, \"\n",
    "        \"CASE \"\n",
    "            \"WHEN tinterval_abs = MIN(tinterval_abs) OVER (PARTITION BY \"\n",
    "                \"{rouId}, {carId}, {stopId}, {timeVal}) \"\n",
    "            \"THEN 1 ELSE 0 \"\n",
    "        \"END AS iscirc \"\n",
    "        \"FROM (\"\n",
    "            \"SELECT *, ABS(tinterval) AS tinterval_abs \"\n",
    "            \"FROM {tmDifT} \"\n",
    "            \"WHERE tinterval >= -0.167 AND tinterval < 0.55\"\n",
    "        \") AS valcirctmp\"\n",
    "    \") AS foo WHERE iscirc = 1\"\n",
    ").format(\n",
    "    rouId   = \", \".join(OTHER_SCHEMA[\"ENTRANCES\"][\"ROUTE\"]),\n",
    "    carId   = OTHER_SCHEMA[\"ENTRANCES\"][\"CAR\"],\n",
    "    stopId  = OTHER_SCHEMA[\"ENTRANCES\"][\"STOP\"],\n",
    "    timeVal = OTHER_SCHEMA[\"ENTRANCES\"][\"TIME\"],\n",
    "    tmDifT  = timeDifference\n",
    ")\n",
    "\n",
    "create_table_by_query(conOTHER_DB, \"val_circ\", q)"
   ]
  },
  {
   "cell_type": "code",
   "execution_count": null,
   "metadata": {},
   "outputs": [],
   "source": [
    "onGoingTbl.append(\"val_circ\")"
   ]
  },
  {
   "cell_type": "code",
   "execution_count": null,
   "metadata": {},
   "outputs": [],
   "source": [
    "\"\"\"\n",
    "Delete cases when one entrance has more than\n",
    "one stop_time with a equal Minimum difference between\n",
    "the validation time\n",
    "\"\"\"\n",
    "\n",
    "q = (\n",
    "    \"SELECT val_circ.* \"\n",
    "    \"FROM val_circ INNER JOIN (\"\n",
    "        \"SELECT {rouId}, {stop}, {tempo}, COUNT({stop}) AS conta \"\n",
    "        \"FROM val_circ \"\n",
    "        \"GROUP BY {rouId}, {stop}, {tempo}\"\n",
    "    \") AS foo \"\n",
    "    \"ON {rouIdJ} AND val_circ.{stop} = foo.{stop} \"\n",
    "    \"AND val_circ.{tempo} = foo.{tempo} \"\n",
    "    \"WHERE (conta > 1 AND tinterval < tinterval_abs) \"\n",
    "    \"OR conta = 1\"\n",
    ").format(\n",
    "    rouId  = \", \".join(OTHER_SCHEMA[\"ENTRANCES\"][\"ROUTE\"]),\n",
    "    stop   = OTHER_SCHEMA[\"ENTRANCES\"][\"STOP\"],\n",
    "    tempo  = OTHER_SCHEMA[\"ENTRANCES\"][\"TIME\"],\n",
    "    rouIdJ = \" AND \".join([\"val_circ.{i} = foo.{i}\".format(\n",
    "        i=x) for x in OTHER_SCHEMA[\"ENTRANCES\"][\"ROUTE\"]])\n",
    ")\n",
    "\n",
    "create_table_by_query(conOTHER_DB, \"val_circ_clean\", q)"
   ]
  },
  {
   "cell_type": "code",
   "execution_count": null,
   "metadata": {},
   "outputs": [],
   "source": [
    "\"\"\"\n",
    "Produce final result\n",
    "\n",
    "Exclude cases when one circulation has more than one vehicle\n",
    "When on circulation has more than one vehicle,\n",
    "select vehicle with more entrances\n",
    "\"\"\"\n",
    "\n",
    "q = (\n",
    "    \"SELECT {id_circT}.*, foo3.{carFld}, foo3.n_{carFld}, foo3.n_entrances, \"\n",
    "    \"((foo3.n_{carFld} / foo3.n_entrances) * 100) AS perc \"\n",
    "    \"FROM {id_circT} LEFT JOIN (\"\n",
    "        \"SELECT * FROM (\"\n",
    "            \"SELECT {stopTimeRouId}, {stopTimeTripId}, \"\n",
    "            \"CASE \"\n",
    "                \"WHEN count_val = MAX(count_val) OVER (PARTITION BY {stopTimeRouId}, {stopTimeTripId}) \"\n",
    "                \"THEN {carFld} ELSE NULL \"\n",
    "            \"END AS {carFld}, \"\n",
    "            \"CASE \"\n",
    "                \"WHEN count_val = MAX(count_val) OVER (PARTITION BY {stopTimeRouId}, {stopTimeTripId}) \"\n",
    "                \"THEN MAX(count_val) OVER (PARTITION BY {stopTimeRouId}, {stopTimeTripId}) ELSE NULL \"\n",
    "            \"END AS n_{carFld}, \"\n",
    "            \"CASE \"\n",
    "                \"WHEN count_val = MAX(count_val) OVER (PARTITION BY {stopTimeRouId}, {stopTimeTripId}) \"\n",
    "                \"THEN SUM(count_val) OVER (PARTITION BY {stopTimeRouId}, {stopTimeTripId}) ELSE NULL \"\n",
    "            \"END AS n_entrances \"\n",
    "            \"FROM (\"\n",
    "                \"SELECT {stopTimeRouId}, {stopTimeTripId}, {carFld}, COUNT({carFld}) AS count_val \"\n",
    "                \"FROM val_circ_clean \"\n",
    "                \"GROUP BY {stopTimeRouId}, {stopTimeTripId}, {carFld}\"\n",
    "            \") AS foo\"\n",
    "        \") AS foo2 \"\n",
    "        \"WHERE {carFld} IS NOT NULL\"\n",
    "    \") AS foo3 ON {id_circT}.fid = foo3.{stopTimeTripId}\"\n",
    ").format(\n",
    "    id_circT       = id_circulations,\n",
    "    carFld         = OTHER_SCHEMA[\"ENTRANCES\"][\"CAR\"],\n",
    "    stopTimeRouId  = \", \".join(OTHER_SCHEMA[\"ENTRANCES\"][\"ROUTE\"]),\n",
    "    stopTimeTripId = GTFS_SCHEMA[\"STOP_TIMES\"][\"TRIP\"],\n",
    "    \n",
    ")\n",
    "\n",
    "FINAL_TABLE = os.path.splitext(os.path.basename(ouxls))[0]\n",
    "create_table_by_query(conOTHER_DB, FINAL_TABLE, q)"
   ]
  },
  {
   "cell_type": "code",
   "execution_count": null,
   "metadata": {},
   "outputs": [],
   "source": [
    "pgsql_to_xls(FINAL_TABLE, ouxls, dic_con=conOTHER_DB)"
   ]
  },
  {
   "cell_type": "code",
   "execution_count": null,
   "metadata": {},
   "outputs": [],
   "source": [
    "onGoingTbl.append(FINAL_TABLE)"
   ]
  },
  {
   "cell_type": "code",
   "execution_count": null,
   "metadata": {},
   "outputs": [],
   "source": [
    "print onGoingTbl"
   ]
  },
  {
   "cell_type": "code",
   "execution_count": null,
   "metadata": {},
   "outputs": [],
   "source": []
  }
 ],
 "metadata": {
  "kernelspec": {
   "display_name": "Python 3",
   "language": "python",
   "name": "python3"
  },
  "language_info": {
   "codemirror_mode": {
    "name": "ipython",
    "version": 3
   },
   "file_extension": ".py",
   "mimetype": "text/x-python",
   "name": "python",
   "nbconvert_exporter": "python",
   "pygments_lexer": "ipython3",
   "version": "3.8.5"
  }
 },
 "nbformat": 4,
 "nbformat_minor": 4
}
