{
 "cells": [
  {
   "cell_type": "code",
   "execution_count": 1,
   "metadata": {},
   "outputs": [],
   "source": [
    "import numpy as np\n",
    "from glass.g.fmrst import rst_to_array\n",
    "from glass.fm import tbl_to_obj\n",
    "from osgeo import gdal\n",
    "from glass.g.prop.rst import get_cell_idx, get_cell_coord\n",
    "import math"
   ]
  },
  {
   "cell_type": "code",
   "execution_count": 2,
   "metadata": {},
   "outputs": [],
   "source": [
    "inShp = r'D:\\tst_vis\\pnt_tst.shp'\n",
    "dem = r'D:\\tst_vis\\dem_test_100.tif'\n",
    "lulc = r'D:\\tst_vis\\lulc_test_100.tif'\n",
    "\n",
    "pnt_df = tbl_to_obj(inShp)\n",
    "pnt_df['x'] = pnt_df.geometry.x\n",
    "pnt_df['y'] = pnt_df.geometry.y\n",
    "pnt = pnt_df.iloc[0]"
   ]
  },
  {
   "cell_type": "code",
   "execution_count": 3,
   "metadata": {},
   "outputs": [],
   "source": [
    "# Convert data to Py Object\n",
    "dem_obj  = gdal.Open(dem)\n",
    "lulc_obj = gdal.Open(lulc)\n",
    "\n",
    "np_dem  = dem_obj.ReadAsArray()\n",
    "np_lulc = lulc_obj.ReadAsArray()"
   ]
  },
  {
   "cell_type": "code",
   "execution_count": 4,
   "metadata": {},
   "outputs": [],
   "source": [
    "# NoData As Nan in both Images\n",
    "\n",
    "dem_nd = dem_obj.GetRasterBand(1).GetNoDataValue()\n",
    "lulc_nd = lulc_obj.GetRasterBand(1).GetNoDataValue()\n",
    "\n",
    "np_dem[np_dem == dem_nd] = np.nan\n",
    "np_lulc[np_lulc == dem_nd] = np.nan"
   ]
  },
  {
   "cell_type": "code",
   "execution_count": 5,
   "metadata": {},
   "outputs": [],
   "source": [
    "# Get Rows and Columns Number\n",
    "\n",
    "lnhs = int(dem_obj.RasterYSize)\n",
    "cols = int(dem_obj.RasterXSize)\n",
    "\n",
    "# Get Extent\n",
    "left, cellx, z, top, c, celly = dem_obj.GetGeoTransform()\n",
    "\n",
    "right = left + (cols * cellx)\n",
    "bottom = top - (lnhs - abs(celly))"
   ]
  },
  {
   "cell_type": "code",
   "execution_count": 6,
   "metadata": {},
   "outputs": [
    {
     "name": "stdout",
     "output_type": "stream",
     "text": [
      "274\n",
      "123\n"
     ]
    }
   ],
   "source": [
    "# Obtain row and column idx\n",
    "\n",
    "row_idx, col_idx = get_cell_idx(np_dem, pnt.x, pnt.y, left, top, cellx, abs(celly))\n",
    "print(row_idx)\n",
    "print(col_idx)"
   ]
  },
  {
   "cell_type": "code",
   "execution_count": 7,
   "metadata": {},
   "outputs": [],
   "source": [
    "# Check for data, if not data in lulc and dem, no calculation is required\n",
    "\n",
    "if np.isnan(np_lulc[row_idx, col_idx]) or np.isnan(np_dem[row_idx, col_idx]):\n",
    "    print(\"NoCalculations are necessary\")"
   ]
  },
  {
   "cell_type": "code",
   "execution_count": 8,
   "metadata": {},
   "outputs": [],
   "source": [
    "# Check if observation point is class\n",
    "if np_lulc[row_idx, col_idx] == 1:\n",
    "    print(\"Observation is in class\")"
   ]
  },
  {
   "cell_type": "code",
   "execution_count": 9,
   "metadata": {},
   "outputs": [],
   "source": [
    "def check_visibility(obsrow, obscol, seenrow, seencol, dem, lin, col):\n",
    "    # Get Observation coordinates\n",
    "    yobs=obsrow - 0.5\n",
    "    xobs=obscol - 0.5\n",
    "    \n",
    "    # Get Coordinates of test place\n",
    "    #x_seen, y_seen = get_cell_coord(seenrow, seencol, x_min, y_max, cell_x, cell_y)\n",
    "    x_seen = seencol - 0.5\n",
    "    y_seen = seenrow - 0.5\n",
    "    \n",
    "    # Get DEM Values for both points\n",
    "    z_obs  = dem[obsrow, obscol]\n",
    "    z_seen = dem[seenrow, seencol]\n",
    "    \n",
    "    # Vetor diretor da reta no espaco\n",
    "    vetor_diretor = np.array([[x_seen - xobs, y_seen - yobs, z_seen - z_obs]])\n",
    "    \n",
    "    \"\"\"\n",
    "    Declive ('m') e ordenada na origem ('b') da equao da reta no pano que une \n",
    "    o ponto de observao e o ponto a observar.\n",
    "    \"\"\"\n",
    "    m = np.divide((y_seen - yobs), (x_seen - xobs))\n",
    "    b = yobs - m * xobs\n",
    "    \n",
    "    \"\"\"\n",
    "    Pretende-se obter os valores de x e y de intersecao do segmento que une o \n",
    "    ponto de observao com o ponto a observar (no plano) com os limites das celulas.\n",
    "    Para isso, comeca-se no valor minimo de x, e usa-se o menor numero inteiro maior\n",
    "    que o minimo de x, e vai-se somando 1 ate chegar ao maior inteiro menor que o valor \n",
    "    maximo de x. No final inclui-se tambem o as coordenadas do ponto do ultimo\n",
    "    ponto, que pode ser o ponto de origem ou destino (dependendo de qual dos\n",
    "    pontos tem maior valor de x), portanto sera\n",
    "    Faz-se da mesma forma para y.\n",
    "    \"\"\"\n",
    "    seg_x = np.array([np.append(\n",
    "        np.arange(math.ceil(min(xobs,x_seen)), math.floor(max(xobs,x_seen))+1 , 1),\n",
    "        max(xobs,x_seen)\n",
    "    )])\n",
    "    \n",
    "    seg_y=np.array([np.append(\n",
    "        np.arange(math.ceil(min(yobs,y_seen)), math.floor(max(yobs,y_seen))+1 , 1),\n",
    "        max(yobs,y_seen))])\n",
    "    \n",
    "    \"\"\"\n",
    "    Para cada valor de x encontrado calcula-se o y, usando a equao da\n",
    "    reta no plano. Da mesma forma para cada valor de y encontrado calcula-se o valor de\n",
    "    x\n",
    "    \"\"\"\n",
    "    if x_seen == xobs:\n",
    "        x1=np.tile(seg_x,(seg_y.shape[0],seg_y.shape[1]))\n",
    "        #seg_x=np.array([])\n",
    "        #y1=np.array([])\n",
    "    elif m == 0:\n",
    "        y1=m*seg_x + b\n",
    "        #x1=np.array([])\n",
    "        #seg_y=np.array([])\n",
    "    else:\n",
    "        y1=m*seg_x + b\n",
    "        x1=(seg_y - b) / m\n",
    "    \n",
    "    \"\"\"\n",
    "    Constroi-se um vetor para agregar os valores de y aos valores de x\n",
    "    encontrados acima, e vice versa (os valores de x para os valores de y\n",
    "    encontrados acima). Isto da-nos as coordenadas dos pontos de intersecao\n",
    "    dos segmentos com os limites das celulas.\n",
    "    \"\"\"\n",
    "    \n",
    "    if x_seen != xobs:\n",
    "        vec1=np.append(seg_x.T, y1.T, axis=1)\n",
    "    \n",
    "    if m != 0:\n",
    "        vec2=np.append(x1.T, seg_y.T, axis=1)\n",
    "    \n",
    "    # Juntam-se os dois vetores apenas num, e depois ordenam-se de forma a ter\n",
    "    #os valores de x crescentes.\n",
    "    if x_seen == xobs:\n",
    "        vec = vec2\n",
    "    elif m == 0:\n",
    "        vec = vec1\n",
    "    else:\n",
    "        vec=np.array(np.append(vec1, vec2, axis=0))\n",
    "    vec_ord=np.sort(vec,0)\n",
    "    \n",
    "    \"\"\"\n",
    "    Para cada ponto de intersesao o identifica-se qual a celula de onde a linha\n",
    "    vem (e que portanto interseta a linha) e vai-se guardando a sequncia de\n",
    "    clulas encontradas - vetor \"cells\".\n",
    "    \"\"\"\n",
    "    \n",
    "    cells=np.ceil(np.append(vec_ord[:,1:2],vec_ord[:,0:1],axis=1))\n",
    "    \n",
    "    \"\"\"\n",
    "    Obter a linha encontrada em formato matriz - comea-se com uma matriz de\n",
    "    vazia (NaN) e alteram-se para 1 as clulas que pertencem  linha.\n",
    "    \"\"\"\n",
    "    line=np.full((lin,col),np.nan)\n",
    "    indice = cells[:,0] + (cells[:,1]-1)*lin\n",
    "    indice = [int(x) for x in indice]\n",
    "    \n",
    "    line.ravel()[indice]=1\n",
    "    \n",
    "    \"\"\"\n",
    "    \"\"\"\n",
    "    K=(vec_ord[:,:1] - xobs) / vetor_diretor[0][0]\n",
    "\n",
    "    Z=z_obs + np.dot(K,vetor_diretor[0][2])\n",
    "    \n",
    "    z_line=np.full((lin,col),np.nan)\n",
    "    \n",
    "    z_line.ravel()[indice]=np.ravel(Z)\n",
    "    \n",
    "    \"\"\"\n",
    "    \"\"\"\n",
    "    Dif=dem - z_line\n",
    "    Dif[np.isnan(Dif)] = 0\n",
    "    \n",
    "    if np.sum(np.sum(Dif>0) > 0):\n",
    "        vis=0\n",
    "    else:\n",
    "        vis=1\n",
    "    \n",
    "    return vis"
   ]
  },
  {
   "cell_type": "code",
   "execution_count": 10,
   "metadata": {},
   "outputs": [
    {
     "name": "stdout",
     "output_type": "stream",
     "text": [
      "0:11:07\n"
     ]
    },
    {
     "name": "stderr",
     "output_type": "stream",
     "text": [
      "d:\\xpto\\glass_env\\lib\\site-packages\\ipykernel_launcher.py:22: RuntimeWarning: divide by zero encountered in true_divide\n",
      "d:\\xpto\\glass_env\\lib\\site-packages\\ipykernel_launcher.py:104: RuntimeWarning: invalid value encountered in true_divide\n"
     ]
    }
   ],
   "source": [
    "# Test visibility\n",
    "\n",
    "import datetime\n",
    "vis = 0\n",
    "time_a = datetime.datetime.now().replace(microsecond=0)\n",
    "for row in range(lnhs):\n",
    "    for col in range(cols):\n",
    "        if np.isnan(np_lulc[row, col]) or np.isnan(np_dem[row, col]):\n",
    "            continue\n",
    "        else:\n",
    "            if np_lulc[row, col] == 1:\n",
    "                try:\n",
    "                    __vis = check_visibility(\n",
    "                        row_idx, col_idx, row, col, np_dem, lnhs, cols,\n",
    "                    )\n",
    "                except:\n",
    "                    print(row, col)\n",
    "                    __vis = 1\n",
    "                \n",
    "                if __vis == 1:\n",
    "                    vis = __vis\n",
    "                    break\n",
    "    if vis:\n",
    "        break\n",
    "time_b = datetime.datetime.now().replace(microsecond=0)\n",
    "\n",
    "print(time_b - time_a)"
   ]
  },
  {
   "cell_type": "code",
   "execution_count": null,
   "metadata": {},
   "outputs": [],
   "source": [
    "vis = check_visibility(\n",
    "    row_idx, col_idx, 338, 123, np_dem, lnhs, cols\n",
    ")"
   ]
  },
  {
   "cell_type": "code",
   "execution_count": 11,
   "metadata": {},
   "outputs": [
    {
     "name": "stdout",
     "output_type": "stream",
     "text": [
      "1\n"
     ]
    }
   ],
   "source": [
    "print(vis)"
   ]
  },
  {
   "cell_type": "code",
   "execution_count": null,
   "metadata": {},
   "outputs": [],
   "source": [
    "print(vec1.shape)\n",
    "print(vec2.shape)"
   ]
  },
  {
   "cell_type": "code",
   "execution_count": null,
   "metadata": {},
   "outputs": [],
   "source": [
    "print(np_dem)"
   ]
  },
  {
   "cell_type": "code",
   "execution_count": null,
   "metadata": {},
   "outputs": [],
   "source": [
    "print(np_dem.shape)\n",
    "print(np_lulc.shape)"
   ]
  },
  {
   "cell_type": "code",
   "execution_count": null,
   "metadata": {},
   "outputs": [],
   "source": [
    "print(pnt_df)"
   ]
  },
  {
   "cell_type": "code",
   "execution_count": null,
   "metadata": {},
   "outputs": [],
   "source": [
    "from PIL import Image\n",
    "\n",
    "im = Image.Open(lulc)\n",
    "lulc_class = np.array(im)"
   ]
  },
  {
   "cell_type": "code",
   "execution_count": null,
   "metadata": {},
   "outputs": [],
   "source": []
  }
 ],
 "metadata": {
  "kernelspec": {
   "display_name": "Python 3",
   "language": "python",
   "name": "python3"
  },
  "language_info": {
   "codemirror_mode": {
    "name": "ipython",
    "version": 3
   },
   "file_extension": ".py",
   "mimetype": "text/x-python",
   "name": "python",
   "nbconvert_exporter": "python",
   "pygments_lexer": "ipython3",
   "version": "3.7.3"
  }
 },
 "nbformat": 4,
 "nbformat_minor": 2
}
