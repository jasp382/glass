{
 "cells": [
  {
   "cell_type": "markdown",
   "metadata": {},
   "source": [
    "# OSM2LULC #\n",
    "\n",
    "### Parameters ###\n",
    "\n",
    "**NOMENCLATURE** - LULC classes nomenclature for output LULC map\n",
    "\n",
    "```Python\n",
    "# The options are:\n",
    "# Urban Atlas\n",
    "NOMENCLATURE = \"URBAN_ATLAS\"\n",
    "\n",
    "# Corine Land Cover\n",
    "NOMENCLATURE = \"CORINE_LAND_COVER\"\n",
    "\n",
    "# GLobe Land Cover\n",
    "NOMENCLATURE = \"GLOBE_LAND_30\"\n",
    "```\n",
    "\n",
    "**OSMDATA** - Path to file with raw OpenStreetMap data.\n",
    "\n",
    "**INTEREST_AREA** - Extent of your interest area. It must be a Feature Class (.shp, .gml, .json) or a Raster File (.tif, .img).\n",
    "\n",
    "The result will have the same geographic extent of INTEREST_AREA file.\n",
    "\n",
    "<b>If you only have the coordinates of your bounding box, you can use the last cell in this file (\"Generate bounding box file\") to generate a file with the extent of your bounding box.\n",
    "\n",
    "If you are using your own bounding box file and you are experiencing some kind of problem, please use the \"Generate bounding box file\" cell.\n",
    "</b>\n",
    "\n",
    "When using Versions 1.3 and 1.4, if INTEREST_AREA is a Raster, the cellsize of the output will be the same of this file. If INTEREST_AREA is not a Raster, the cellsize will be of 2 meters.\n",
    "\n",
    "**LULC_RESULT** - Path to result\n",
    "\n",
    "**DATA_FOLDER** - Path to folder where the temporary files will be stored"
   ]
  },
  {
   "cell_type": "code",
   "execution_count": null,
   "metadata": {},
   "outputs": [],
   "source": [
    "import os \n",
    "\n",
    "NOMENCLATURE = \"URBAN_ATLAS\"\n",
    "OSMDATA      = '/home/jasp/mystuff/autotrain/osm_mad.xml'\n",
    "REF_RASTER   = '/home/jasp/mystuff/autotrain/rst_madeira.tif'\n",
    "LULC_RESULT  = '/home/jasp/mystuff/autotrain/lulc_madeira_ua.shp'\n",
    "DATA_STORE   = '/home/jasp/mystuff/autotrain/tmpmadua'"
   ]
  },
  {
   "cell_type": "markdown",
   "metadata": {},
   "source": [
    "### OSM2LULC - Version 1.1 ###\n",
    "\n",
    "**Dependencies**: GRASS GIS; GDAL/OGR; GeoPandas."
   ]
  },
  {
   "cell_type": "code",
   "execution_count": null,
   "metadata": {},
   "outputs": [],
   "source": [
    "from glass.ete.osm2lulc.grs   import vector_based\n",
    "from glass.ete.osm2lulc.utils import record_time_consumed\n",
    "import datetime\n",
    "from glass.pys.oss import fprop\n",
    "\n",
    "time_a = datetime.datetime.now().replace(microsecond=0)\n",
    "\n",
    "# Run OSM2LULC\n",
    "lulcSHP, timeCheck = vector_based(\n",
    "    OSMDATA, NOMENCLATURE, REF_RASTER, LULC_RESULT,\n",
    "    overwrite=True, dataStore=DATA_STORE,\n",
    "    RoadsAPI=\"GRASS\"\n",
    ")\n",
    "\n",
    "time_b = datetime.datetime.now().replace(microsecond=0)\n",
    "\n",
    "# Record time consumed in xlsx table\n",
    "record_time_consumed(timeCheck, os.path.join(\n",
    "    os.path.dirname(LULC_RESULT), fprop(LULC_RESULT, 'fn') + '.xlsx'\n",
    "))\n",
    "\n",
    "print(time_b - time_a)"
   ]
  },
  {
   "cell_type": "markdown",
   "metadata": {},
   "source": [
    "### OSM2LULC - Version 1.2 ###\n",
    "\n",
    "**Dependencies**: GRASS GIS; GDAL/OGR; PostGIS; GeoPandas."
   ]
  },
  {
   "cell_type": "code",
   "execution_count": null,
   "metadata": {},
   "outputs": [],
   "source": [
    "from glass.ete.osm2lulc.grs   import vector_based\n",
    "from glass.ete.osm2lulc.utils import record_time_consumed\n",
    "import datetime\n",
    "import os\n",
    "from glass.pys.oss import fprop\n",
    "\n",
    "time_a = datetime.datetime.now().replace(microsecond=0)\n",
    "\n",
    "# Run OSM2LULC\n",
    "lulcSHP, timeCheck = vector_based(\n",
    "    OSMDATA, NOMENCLATURE, REF_RASTER, LULC_RESULT,\n",
    "    overwrite=True, dataStore=DATA_STORE,\n",
    "    RoadsAPI='POSTGIS'\n",
    ")\n",
    "\n",
    "time_b = datetime.datetime.now().replace(microsecond=0)\n",
    "\n",
    "# Record time consumed in xlsx table\n",
    "record_time_consumed(timeCheck, os.path.join(\n",
    "    os.path.dirname(LULC_RESULT), fprop(LULC_RESULT, 'fn') + '.xlsx'\n",
    "))\n",
    "\n",
    "print(time_b - time_a)"
   ]
  },
  {
   "cell_type": "markdown",
   "metadata": {},
   "source": [
    "### OSM2LULC - Version 1.3 ###\n",
    "\n",
    "**Dependencies**: GRASS GIS; GDAL/OGR; PostGIS."
   ]
  },
  {
   "cell_type": "code",
   "execution_count": null,
   "metadata": {},
   "outputs": [],
   "source": [
    "from glass.ete.osm2lulc.grs   import raster_based\n",
    "from glass.ete.osm2lulc.utils import record_time_consumed\n",
    "import datetime\n",
    "from glass.pys.oss import fprop\n",
    "\n",
    "time_a = datetime.datetime.now().replace(microsecond=0)\n",
    "\n",
    "# Run OSM2LULC\n",
    "result, timeCheck = raster_based(\n",
    "    OSMDATA, NOMENCLATURE, REF_RASTER, LULC_RESULT,\n",
    "    overwrite=True, dataStore=DATA_STORE\n",
    ")\n",
    "\n",
    "time_b = datetime.datetime.now().replace(microsecond=0)\n",
    "\n",
    "# Record time consumed in xlsx table\n",
    "record_time_consumed(timeCheck, os.path.join(\n",
    "    os.path.dirname(LULC_RESULT), fprop(LULC_RESULT, 'fn') + '.xlsx'\n",
    "))\n",
    "\n",
    "print(time_b - time_a)"
   ]
  },
  {
   "cell_type": "markdown",
   "metadata": {},
   "source": [
    "### OSM2LULC - Version 1.4 ###\n",
    "\n",
    "**Dependencies**: GDAL/OGR; PostGIS; Numpy."
   ]
  },
  {
   "cell_type": "code",
   "execution_count": null,
   "metadata": {},
   "outputs": [],
   "source": [
    "import datetime\n",
    "from glass.ete.osm2lulc.num   import osm2lulc\n",
    "from glass.ete.osm2lulc.utils import record_time_consumed\n",
    "from glass.pys.oss           import fprop\n",
    "\n",
    "time_a = datetime.datetime.now().replace(microsecond=0)\n",
    "\n",
    "# Run OSM2LULC\n",
    "result, timeobj = osm2lulc(\n",
    "    OSMDATA, NOMENCLATURE, REF_RASTER, LULC_RESULT,\n",
    "    overwrite=True, dataStore=DATA_STORE\n",
    ")\n",
    "\n",
    "time_b = datetime.datetime.now().replace(microsecond=0)\n",
    "\n",
    "# Record time consumed in xlsx table\n",
    "record_time_consumed(timeobj, os.path.join(\n",
    "    os.path.dirname(LULC_RESULT), fprop(LULC_RESULT, 'fn') + '.xlsx'\n",
    "))\n",
    "\n",
    "print(time_b - time_a)"
   ]
  },
  {
   "cell_type": "markdown",
   "metadata": {},
   "source": [
    "### Generate your Bounding Box file ###"
   ]
  },
  {
   "cell_type": "code",
   "execution_count": null,
   "metadata": {},
   "outputs": [],
   "source": [
    "import os\n",
    "from glass.gp.ext import coords_to_boundshp\n",
    "\n",
    "TOP_LEFT_COORDS    = (3.6200, 51.1957) # (MIN_X, MAX_Y)\n",
    "LOWER_RIGHT_COORDS = (5.4327, 50.4488) # (MAX_X, MIN_Y)\n",
    "EPSG               = 4326\n",
    "RESULT             = '/home/jasp/osm2lulc/lmt_tst.shp'\n",
    "\n",
    "coords_to_boundshp(TOP_LEFT_COORDS, LOWER_RIGHT_COORDS, EPSG, RESULT)"
   ]
  },
  {
   "cell_type": "code",
   "execution_count": null,
   "metadata": {},
   "outputs": [],
   "source": []
  }
 ],
 "metadata": {
  "kernelspec": {
   "display_name": "Python 3 (ipykernel)",
   "language": "python",
   "name": "python3"
  },
  "language_info": {
   "codemirror_mode": {
    "name": "ipython",
    "version": 3
   },
   "file_extension": ".py",
   "mimetype": "text/x-python",
   "name": "python",
   "nbconvert_exporter": "python",
   "pygments_lexer": "ipython3",
   "version": "3.8.10"
  }
 },
 "nbformat": 4,
 "nbformat_minor": 4
}
