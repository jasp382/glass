{
 "cells": [
  {
   "cell_type": "markdown",
   "metadata": {},
   "source": [
    "### Folder with TXT Files to PostgreSQL Database ###\n",
    "\n",
    "Create a new database and add each TXT in Folder as PSQL Table."
   ]
  },
  {
   "cell_type": "code",
   "execution_count": null,
   "metadata": {},
   "outputs": [],
   "source": [
    "from glass.ng.it.sql import txts_to_db\n",
    "\n",
    "TXT_FOLDER = '/mnt/d/gwork/gigs_cmcprj/gtfs/'\n",
    "\n",
    "NEW_DB = \"smtucgtfs\"\n",
    "\n",
    "DELIMITER = \",\"\n",
    "\n",
    "txts_to_db(TXT_FOLDER, NEW_DB, DELIMITER, rewrite=True)"
   ]
  },
  {
   "cell_type": "code",
   "execution_count": null,
   "metadata": {},
   "outputs": [],
   "source": []
  }
 ],
 "metadata": {
  "kernelspec": {
   "display_name": "Python 3",
   "language": "python",
   "name": "python3"
  },
  "language_info": {
   "codemirror_mode": {
    "name": "ipython",
    "version": 3
   },
   "file_extension": ".py",
   "mimetype": "text/x-python",
   "name": "python",
   "nbconvert_exporter": "python",
   "pygments_lexer": "ipython3",
   "version": "3.8.5"
  }
 },
 "nbformat": 4,
 "nbformat_minor": 4
}
