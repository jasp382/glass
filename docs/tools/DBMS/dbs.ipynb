{
 "cells": [
  {
   "cell_type": "code",
   "execution_count": null,
   "metadata": {},
   "outputs": [],
   "source": [
    "\"\"\"\n",
    "Merge DBS\n",
    "\"\"\"\n",
    "\n",
    "from glass.ng.sql.db import merge_dbs\n",
    "\n",
    "db = 'viewtofire_1'\n",
    "\n",
    "dbs = [\n",
    "    'viewtofire_2',\n",
    "    'viewtofire_3',\n",
    "    'viewtofire_4',\n",
    "    'viewtofire_5',\n",
    "    'viewtofire_6',\n",
    "    'viewtofire_7',\n",
    "    'viewtofire_8',\n",
    "]\n",
    "\n",
    "merge_dbs(db, dbs)"
   ]
  },
  {
   "cell_type": "code",
   "execution_count": null,
   "metadata": {},
   "outputs": [],
   "source": []
  }
 ],
 "metadata": {
  "kernelspec": {
   "display_name": "Python 3",
   "language": "python",
   "name": "python3"
  },
  "language_info": {
   "codemirror_mode": {
    "name": "ipython",
    "version": 3
   },
   "file_extension": ".py",
   "mimetype": "text/x-python",
   "name": "python",
   "nbconvert_exporter": "python",
   "pygments_lexer": "ipython3",
   "version": "3.6.9"
  }
 },
 "nbformat": 4,
 "nbformat_minor": 4
}
