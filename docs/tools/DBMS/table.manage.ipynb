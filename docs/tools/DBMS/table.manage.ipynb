{
 "cells": [
  {
   "cell_type": "code",
   "execution_count": null,
   "metadata": {},
   "outputs": [],
   "source": [
    "\"\"\"\n",
    "List Tables\n",
    "\"\"\"\n",
    "\n",
    "from glass.ng.prop.sql import lst_tbl\n",
    "\n",
    "tbls = lst_tbl('ghost_db')\n",
    "\n",
    "print(tbls)"
   ]
  },
  {
   "cell_type": "code",
   "execution_count": null,
   "metadata": {},
   "outputs": [],
   "source": [
    "\"\"\"\n",
    "List columns in table\n",
    "\"\"\"\n",
    "\n",
    "from glass.ng.prop.sql import cols_name\n",
    "\n",
    "tbl = 'points'\n",
    "\n",
    "cn = cols_name(conDB, tbl, sanitizeSpecialWords=None, api='psql')\n",
    "\n",
    "print(cn)"
   ]
  },
  {
   "cell_type": "code",
   "execution_count": null,
   "metadata": {},
   "outputs": [],
   "source": [
    "\"\"\"\n",
    "Delete Tables or Views\n",
    "\"\"\"\n",
    "\n",
    "db ='db'\n",
    "\n",
    "from glass.ng.sql.tbl import del_tables\n",
    "\n",
    "del_tables(db, ['new_points', 'osmcat'], isViews=None, isBasename=None)"
   ]
  },
  {
   "cell_type": "code",
   "execution_count": null,
   "metadata": {},
   "outputs": [],
   "source": [
    "\"\"\"\n",
    "Drop Columns\n",
    "\"\"\"\n",
    "\n",
    "conDB = 'flainar_db'\n",
    "\n",
    "tbl  = \"points\"\n",
    "cols = ['ogc_fid', 'other_tags', 'healthcare2']\n",
    "\n",
    "from glass.ng.sql.col import drop_col\n",
    "\n",
    "drop_col(conDB, tbl, cols)"
   ]
  },
  {
   "cell_type": "code",
   "execution_count": null,
   "metadata": {},
   "outputs": [],
   "source": []
  }
 ],
 "metadata": {
  "kernelspec": {
   "display_name": "Python 3",
   "language": "python",
   "name": "python3"
  },
  "language_info": {
   "codemirror_mode": {
    "name": "ipython",
    "version": 3
   },
   "file_extension": ".py",
   "mimetype": "text/x-python",
   "name": "python",
   "nbconvert_exporter": "python",
   "pygments_lexer": "ipython3",
   "version": "3.8.5"
  }
 },
 "nbformat": 4,
 "nbformat_minor": 4
}
