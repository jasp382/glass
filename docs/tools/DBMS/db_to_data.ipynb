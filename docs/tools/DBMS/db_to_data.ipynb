{
 "cells": [
  {
   "cell_type": "code",
   "execution_count": null,
   "metadata": {},
   "outputs": [],
   "source": [
    "\"\"\"\n",
    "Table with coordinates to ESRI Shapefile\n",
    "\"\"\"\n",
    "\n",
    "db = 'smtucgtfs'\n",
    "tbl = 'stops'\n",
    "xcol = 'stop_lon'\n",
    "ycol = 'stop_lat'\n",
    "in_epsg = 4326\n",
    "out_epsg = 3763\n",
    "\n",
    "outtbl = '/mnt/d/gwork/gigs_cmcprj/gtfs/stops.shp'\n",
    "\n",
    "from glass.g.it.shp import dbtbl_to_shp\n",
    "from glass.ng.prop.sql import cols_name\n",
    "\n",
    "cols = [i for i in cols_name(db, tbl) if i != xcol and i != ycol]\n",
    "\n",
    "GEOM = \"ST_MakePoint({}, {})\".format(xcol, ycol)\n",
    "\n",
    "dbtbl_to_shp(\n",
    "    db, (\n",
    "        \"SELECT {}, {} AS geom \"\n",
    "        \"FROM {}\"\n",
    "    ).format(\n",
    "        \",\".join(cols),\n",
    "        GEOM if not in_epsg else \"ST_SetSRID({}, {})\".format(\n",
    "            GEOM, str(in_epsg)\n",
    "        ) if in_epsg and not out_epsg else \"ST_Transform(ST_SetSRID({}, {}), {})\".format(\n",
    "            GEOM, str(in_epsg), str(out_epsg)\n",
    "        ), tbl\n",
    "    ), \"geom\", outtbl, inDB='psql', api='pgsql2shp', \n",
    "    epsg=in_epsg if in_epsg and not out_epsg else out_epsg if in_epsg and out_epsg else None,\n",
    "    tableIsQuery=True\n",
    ")"
   ]
  },
  {
   "cell_type": "markdown",
   "metadata": {},
   "source": [
    "### One or more tables in DB to Excel ###"
   ]
  },
  {
   "cell_type": "code",
   "execution_count": 2,
   "metadata": {},
   "outputs": [
    {
     "data": {
      "text/plain": [
       "'/home/jasp/mystuff/fireloc/contrib.xlsx'"
      ]
     },
     "execution_count": 2,
     "metadata": {},
     "output_type": "execute_result"
    }
   ],
   "source": [
    "from glass.ng.it import db_to_tbl\n",
    "\n",
    "DB = 'fireloc_tst'\n",
    "TABLES = (\n",
    "    \"SELECT fid, pic, CAST(datehour AS text) AS datehour, \"\n",
    "    \"ST_AsText(geom) AS geom, \"\n",
    "    \"ST_AsText(usergeom) AS usergeom, \"\n",
    "    \"ST_AsText(geombf) AS geombf, \"\n",
    "    \"dist, direction, dsun, directbf, \"\n",
    "    \"orie, beta, gama, txt, pnt_name, fire_name, cuser \"\n",
    "    \"FROM contrib_volunteerscontributions\"\n",
    ")\n",
    "outFld = '/home/jasp/mystuff/fireloc/contrib.xlsx'\n",
    "API = 'psql'\n",
    "outformat = '.xlsx'\n",
    "\n",
    "db_to_tbl(\n",
    "    DB, TABLES, outFld, dbAPI=API, outTblF=outformat\n",
    ")"
   ]
  },
  {
   "cell_type": "markdown",
   "metadata": {},
   "source": [
    "### MySQL or Sqlite database to PostgreSQL database"
   ]
  },
  {
   "cell_type": "code",
   "execution_count": null,
   "metadata": {},
   "outputs": [],
   "source": [
    "from glass.ng.it.sql import db_to_db\n",
    "\n",
    "db_to_db('undersee_db', 'undersee_tmp', 'mysql', 'psql')"
   ]
  },
  {
   "cell_type": "markdown",
   "metadata": {},
   "source": [
    "### PostgreSQL Table to Feature Class with OGR Driver ###"
   ]
  },
  {
   "cell_type": "code",
   "execution_count": null,
   "metadata": {},
   "outputs": [],
   "source": [
    "from glass.g.it.shp import dbtbl_to_shp\n",
    "\n",
    "DB = 'undersee_db'\n",
    "TABLE = (\n",
    "    \"SELECT * FROM stations_virtualstation\"\n",
    ")\n",
    "\n",
    "OUTPUT = '/mnt/d/dwaves/undersee/db_vstations.shp'\n",
    "SRS_CODE = 3857\n",
    "GEOMETRY_COLUMN = \"geometry\"\n",
    "\n",
    "dbtbl_to_shp(\n",
    "    DB, TABLE, GEOMETRY_COLUMN, OUTPUT,\n",
    "    tableIsQuery=True, api='psql',\n",
    "    epsg=SRS_CODE\n",
    ")"
   ]
  },
  {
   "cell_type": "code",
   "execution_count": null,
   "metadata": {},
   "outputs": [],
   "source": []
  }
 ],
 "metadata": {
  "kernelspec": {
   "display_name": "Python 3",
   "language": "python",
   "name": "python3"
  },
  "language_info": {
   "codemirror_mode": {
    "name": "ipython",
    "version": 3
   },
   "file_extension": ".py",
   "mimetype": "text/x-python",
   "name": "python",
   "nbconvert_exporter": "python",
   "pygments_lexer": "ipython3",
   "version": "3.8.5"
  }
 },
 "nbformat": 4,
 "nbformat_minor": 4
}
