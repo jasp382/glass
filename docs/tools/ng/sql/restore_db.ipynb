{
 "cells": [
  {
   "cell_type": "code",
   "execution_count": 1,
   "id": "56e689db-1936-498a-954a-fee4df3ca237",
   "metadata": {},
   "outputs": [],
   "source": [
    "sqlfile = '/home/jasp/mystuff/fireloc/fireloc_db_02082021.sql'\n",
    "outdb = 'fireloc0208'\n",
    "\n",
    "dbset = 'local'"
   ]
  },
  {
   "cell_type": "code",
   "execution_count": 2,
   "id": "8ee33423-6f38-4001-a615-5a3a597d70aa",
   "metadata": {},
   "outputs": [],
   "source": [
    "from glass.ng.prop.sql import lst_db\n",
    "from glass.ng.sql.db import create_db\n",
    "from glass.ng.sql.db import restore_db"
   ]
  },
  {
   "cell_type": "code",
   "execution_count": 3,
   "id": "40c2394e-8567-458f-b956-6bb79c0aaa78",
   "metadata": {},
   "outputs": [],
   "source": [
    "# Check if db exists\n",
    "\n",
    "dbs = lst_db(dbset)\n",
    "\n",
    "if outdb not in dbs:\n",
    "    create_db(outdb, dbset=dbset)"
   ]
  },
  {
   "cell_type": "code",
   "execution_count": 6,
   "id": "a170fdc9-9a7c-4bbd-971e-2ceec45fdb97",
   "metadata": {},
   "outputs": [
    {
     "data": {
      "text/plain": [
       "['postgres',\n",
       " 'template1',\n",
       " 'template0',\n",
       " 'postgis_template',\n",
       " 'fireloc_tst',\n",
       " 'hidrolinhas',\n",
       " 'fireloc0208']"
      ]
     },
     "execution_count": 6,
     "metadata": {},
     "output_type": "execute_result"
    }
   ],
   "source": [
    "dbs"
   ]
  },
  {
   "cell_type": "code",
   "execution_count": 7,
   "id": "c0b7611d-28f4-4a46-9c6d-69ae00ffe0a7",
   "metadata": {},
   "outputs": [
    {
     "data": {
      "text/plain": [
       "'fireloc0208'"
      ]
     },
     "execution_count": 7,
     "metadata": {},
     "output_type": "execute_result"
    }
   ],
   "source": [
    "# Restore\n",
    "\n",
    "restore_db(outdb, sqlfile, dbset=dbset)"
   ]
  },
  {
   "cell_type": "code",
   "execution_count": null,
   "id": "60cd95f7-9b88-48c3-aa42-42adae593f9c",
   "metadata": {},
   "outputs": [],
   "source": []
  }
 ],
 "metadata": {
  "kernelspec": {
   "display_name": "Python 3",
   "language": "python",
   "name": "python3"
  },
  "language_info": {
   "codemirror_mode": {
    "name": "ipython",
    "version": 3
   },
   "file_extension": ".py",
   "mimetype": "text/x-python",
   "name": "python",
   "nbconvert_exporter": "python",
   "pygments_lexer": "ipython3",
   "version": "3.8.10"
  }
 },
 "nbformat": 4,
 "nbformat_minor": 5
}
