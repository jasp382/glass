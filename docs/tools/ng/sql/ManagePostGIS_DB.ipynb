{
 "cells": [
  {
   "cell_type": "code",
   "execution_count": 2,
   "metadata": {},
   "outputs": [
    {
     "data": {
      "text/plain": [
       "'vstations_v2'"
      ]
     },
     "execution_count": 2,
     "metadata": {},
     "output_type": "execute_result"
    }
   ],
   "source": [
    "from glass.g.it.db      import shp_to_psql\n",
    "\n",
    "shp = '/mnt/d/dwaves/undersee/vstations_v2.shp'\n",
    "\n",
    "db = 'undersee_tmp'\n",
    "\n",
    "shp_to_psql(db, shp, srsEpsgCode=4326, api=\"shp2pgsql\")"
   ]
  },
  {
   "cell_type": "code",
   "execution_count": null,
   "metadata": {},
   "outputs": [],
   "source": [
    "\"\"\"\n",
    "All Shapefiles in Folder to PostGIS Database\n",
    "\"\"\"\n",
    "\n",
    "import os\n",
    "from glass.g.it.db      import shp_to_psql\n",
    "from glass.g.prop.prj import get_shp_epsg\n",
    "from glass.ng.prop.sql     import db_exists\n",
    "from glass.pys.oss      import fprop\n",
    "\n",
    "indata = '/mnt/d/gwork/fireloc_geodb/obs_lulcint/pobs_fire_cos18/'\n",
    "dbname = 'obsfirecos18'\n",
    "\n",
    "if os.path.isdir(indata):\n",
    "    from glass.pys.oss import lst_ff\n",
    "    \n",
    "    indata = lst_ff(indata, file_format='.shp')\n",
    "\n",
    "else:\n",
    "    indata = [indata]\n",
    "\n",
    "if not db_exists(dbname):\n",
    "    from glass.ng.sql.db import create_db\n",
    "    \n",
    "    create_db(dbname, api='psql', use_template=True)\n",
    "\n",
    "#COLS_MAP = {'id_lyr' : 'lyrid', 'cat' : 'cat', 'idf' : 'fid'}\n",
    "\n",
    "for s in indata:\n",
    "    cid = fprop(s, 'fn').split('_')[-1]\n",
    "    shp_to_psql(\n",
    "        dbname, s, srsEpsgCode=get_shp_epsg(s),\n",
    "        pgTable='cell_' + cid, api=\"shp2pgsql\",\n",
    "        mapCols=None, dbset='default'\n",
    "    )"
   ]
  }
 ],
 "metadata": {
  "kernelspec": {
   "display_name": "Python 3",
   "language": "python",
   "name": "python3"
  },
  "language_info": {
   "codemirror_mode": {
    "name": "ipython",
    "version": 3
   },
   "file_extension": ".py",
   "mimetype": "text/x-python",
   "name": "python",
   "nbconvert_exporter": "python",
   "pygments_lexer": "ipython3",
   "version": "3.8.10"
  }
 },
 "nbformat": 4,
 "nbformat_minor": 4
}
