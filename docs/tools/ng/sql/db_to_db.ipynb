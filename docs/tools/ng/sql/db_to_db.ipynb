{
 "cells": [
  {
   "cell_type": "code",
   "execution_count": null,
   "metadata": {},
   "outputs": [],
   "source": [
    "from glass.ng.it.sql import apndtbl_in_otherdb\n",
    "\n",
    "\n",
    "con_a = \"eow-db-contents\"\n",
    "\n",
    "con_b = 'genos_dev'\n",
    "\n",
    "\n",
    "apndtbl_in_otherdb(con_a, con_b, 'geoserverlayers', 'geosrv_flainarglyr', {\n",
    "    'id' : 'fid', 'name' : 'name', 'layerid' : 'layerid', 'cellid' : 'cellid'\n",
    "}, srsEpsg=None, geomCol=None, con_a='flainar', con_b='default')"
   ]
  }
 ],
 "metadata": {
  "kernelspec": {
   "display_name": "Python 3",
   "language": "python",
   "name": "python3"
  },
  "language_info": {
   "codemirror_mode": {
    "name": "ipython",
    "version": 3
   },
   "file_extension": ".py",
   "mimetype": "text/x-python",
   "name": "python",
   "nbconvert_exporter": "python",
   "pygments_lexer": "ipython3",
   "version": "3.8.5"
  }
 },
 "nbformat": 4,
 "nbformat_minor": 4
}
