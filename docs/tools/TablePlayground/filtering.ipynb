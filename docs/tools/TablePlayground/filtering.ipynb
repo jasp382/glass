{
 "cells": [
  {
   "cell_type": "code",
   "execution_count": null,
   "metadata": {},
   "outputs": [],
   "source": [
    "\"\"\"\n",
    "Filter by group\n",
    "\n",
    "- Filter applied to two shapefiles\n",
    "\"\"\"\n",
    "\n",
    "from glass.g.tbl.filter.mf import exp_by_group_relfeat\n",
    "\n",
    "in_shp = '/mnt/d/gwork/gigs_cmcprj/admin/bgri_pnt.shp'\n",
    "group_col = 'idfreg'\n",
    "\n",
    "relshp = '/mnt/d/gwork/gigs_cmcprj/servicos/ACESaude.shp'\n",
    "relfeat_id = 'csid'\n",
    "\n",
    "reltbl = '/mnt/d/gwork/gigs_cmcprj/freg_cs.xlsx'\n",
    "rel_sheet = 'freg_cs'\n",
    "group_fk = 'codfreg'\n",
    "relshp_fk = 'CS_FID'\n",
    "\n",
    "out_folder = '/mnt/d/gwork/gigs_cmcprj/servicos/mob_cs/'\n",
    "otbl = '/mnt/d/gwork/gigs_cmcprj/servicos/mob_cs/map_files.xlsx'\n",
    "\n",
    "exp_by_group_relfeat(\n",
    "    in_shp, group_col, relshp, relfeat_id,\n",
    "    reltbl, rel_sheet, group_fk, relshp_fk, out_folder, otbl)"
   ]
  },
  {
   "cell_type": "code",
   "execution_count": null,
   "metadata": {},
   "outputs": [],
   "source": []
  }
 ],
 "metadata": {
  "kernelspec": {
   "display_name": "Python 3",
   "language": "python",
   "name": "python3"
  },
  "language_info": {
   "codemirror_mode": {
    "name": "ipython",
    "version": 3
   },
   "file_extension": ".py",
   "mimetype": "text/x-python",
   "name": "python",
   "nbconvert_exporter": "python",
   "pygments_lexer": "ipython3",
   "version": "3.8.5"
  }
 },
 "nbformat": 4,
 "nbformat_minor": 4
}
