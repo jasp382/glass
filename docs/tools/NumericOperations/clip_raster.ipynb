{
 "cells": [
  {
   "cell_type": "code",
   "execution_count": null,
   "metadata": {},
   "outputs": [],
   "source": [
    "\"\"\"\n",
    "Clip Raster using all shapes in one folder\n",
    "\"\"\"\n",
    "\n",
    "in_rst = '/home/jasp/datasets/mdt_m888/rst_ref50m.tif'\n",
    "clip_fld = '/home/jasp/datasets/mdt_m888/rst_masks'\n",
    "out_fld = '/home/jasp/datasets/mdt_m888/mdt50_masks'\n",
    "\n",
    "import os\n",
    "from glass.pys.oss import lst_ff, fprop\n",
    "from glass.g.rst.ovl import clip_rst\n",
    "\n",
    "shps = lst_ff(clip_fld, file_format='.shp')\n",
    "\n",
    "for shp in shps:\n",
    "    clip_rst(in_rst, shp, os.path.join(out_fld, fprop(shp, 'fn') + '.tif'))"
   ]
  },
  {
   "cell_type": "code",
   "execution_count": null,
   "metadata": {},
   "outputs": [],
   "source": [
    "\"\"\"\n",
    "Clip all rasters in one folder using matching files in\n",
    "other folder as clipping raster\n",
    "\n",
    "Relation between input rasters and clip rasters are stablished\n",
    "using a ID in the end of the files\n",
    "\"\"\"\n",
    "\n",
    "in_rsts   = '/home/jasp/mrgis/dem_work/dem_eu_cubic/'\n",
    "clip_rsts = '/home/jasp/mrgis/dem_work/ref_parts/'\n",
    "out_rsts  = '/home/jasp/mrgis/dem_work/eudem_bspline'\n",
    "basename  = 'asterdem'"
   ]
  },
  {
   "cell_type": "code",
   "execution_count": null,
   "metadata": {},
   "outputs": [],
   "source": [
    "import os\n",
    "import pandas as pd\n",
    "import multiprocessing as mp\n",
    "from glass.pys.oss import lst_ff, fprop, cpu_cores\n",
    "from glass.ng.pd.split import df_split\n",
    "from glass.g.rst.ovl import grscliprst"
   ]
  },
  {
   "cell_type": "code",
   "execution_count": null,
   "metadata": {},
   "outputs": [],
   "source": [
    "# List input rasters\n",
    "rsts = [{\n",
    "    \"fid\" : int(r.split('.')[0].split('_')[-1]),\n",
    "    'rst' : r\n",
    "} for r in lst_ff(in_rsts, rfilename=True, file_format='.tif')]\n",
    "\n",
    "# List Clip Rasters\n",
    "clips = [{\n",
    "    \"jfid\" : int(cr.split('.')[0].split('_')[-1]),\n",
    "    'clipr' : cr\n",
    "} for cr in lst_ff(clip_rsts, rfilename=True, file_format='.tif')]\n",
    "\n",
    "# Get match between input rasters and clip rasters\n",
    "# Use ID at end of the files\n",
    "df = pd.DataFrame(rsts)\n",
    "jdf = pd.DataFrame(clips)\n",
    "\n",
    "df = df.merge(jdf, how='left', left_on='fid', right_on='jfid')"
   ]
  },
  {
   "cell_type": "code",
   "execution_count": null,
   "metadata": {},
   "outputs": [],
   "source": [
    "# Clip Rasters using multiprocessing approach\n",
    "\n",
    "n_cpu = cpu_cores()\n",
    "dfs = df_split(df, n_cpu)\n",
    "\n",
    "def th_clip_rst(_df):\n",
    "    for idx, row in _df.iterrows():\n",
    "        grscliprst(\n",
    "            os.path.join(in_rsts, str(row.rst)),\n",
    "            os.path.join(clip_rsts, str(row.clipr)),\n",
    "            os.path.join(out_rsts, basename + '_' + str(row.fid) + '.tif')\n",
    "        )\n",
    "\n",
    "ths = [mp.Process(\n",
    "    target=th_clip_rst, name='th_' + str(i),\n",
    "    args=(dfs[i],)\n",
    ") for i in range(len(dfs))]"
   ]
  },
  {
   "cell_type": "code",
   "execution_count": null,
   "metadata": {},
   "outputs": [],
   "source": [
    "for t in ths:\n",
    "    t.start()\n",
    "\n",
    "for t in ths:\n",
    "    t.join()"
   ]
  },
  {
   "cell_type": "code",
   "execution_count": null,
   "metadata": {},
   "outputs": [],
   "source": []
  }
 ],
 "metadata": {
  "kernelspec": {
   "display_name": "Python 3",
   "language": "python",
   "name": "python3"
  },
  "language_info": {
   "codemirror_mode": {
    "name": "ipython",
    "version": 3
   },
   "file_extension": ".py",
   "mimetype": "text/x-python",
   "name": "python",
   "nbconvert_exporter": "python",
   "pygments_lexer": "ipython3",
   "version": "3.6.9"
  }
 },
 "nbformat": 4,
 "nbformat_minor": 2
}
