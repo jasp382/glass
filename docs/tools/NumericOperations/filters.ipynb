{
 "cells": [
  {
   "cell_type": "code",
   "execution_count": 1,
   "metadata": {},
   "outputs": [],
   "source": [
    "\"\"\"\n",
    "Apply disk filter\n",
    "\"\"\"\n",
    "\n",
    "imgs = [\n",
    "    '/mnt/d/gwork/osm2lulc_imgcls/rs_paper/results_randomforest/lsb_f0_500k_4x3_05kt_v2.tif',\n",
    "    '/mnt/d/gwork/osm2lulc_imgcls/rs_paper/results_randomforest/lsb_f1_500k_4x3_05kt_v2.tif',\n",
    "    '/mnt/d/gwork/osm2lulc_imgcls/rs_paper/results_randomforest/lsb_f2_500k_4x3_05kt_v2.tif',\n",
    "    #'/mnt/d/gwork/osm2lulc_imgcls/rs_paper/results_randomforest/pnse_f0_500k_4x3_05kt.tif',\n",
    "    #'/mnt/d/gwork/osm2lulc_imgcls/rs_paper/results_randomforest/pnse_f1_500k_4x3_05kt.tif',\n",
    "    #'/mnt/d/gwork/osm2lulc_imgcls/rs_paper/results_randomforest/pnse_f2_500k_4x3_05kt.tif',\n",
    "]\n",
    "\n",
    "radius = [4, 5, 7, 10, 12]\n",
    "\n",
    "outfolder = '/mnt/d/gwork/osm2lulc_imgcls/rs_paper/results_randomforest/disk_genze/'"
   ]
  },
  {
   "cell_type": "code",
   "execution_count": 2,
   "metadata": {},
   "outputs": [],
   "source": [
    "import os\n",
    "from osgeo import gdal\n",
    "from skimage.filters.rank import majority\n",
    "from skimage.morphology import disk\n",
    "from glass.g.it.rst import obj_to_rst\n",
    "from glass.pys.oss import fprop\n",
    "import numpy as np"
   ]
  },
  {
   "cell_type": "code",
   "execution_count": 3,
   "metadata": {},
   "outputs": [],
   "source": [
    "# Create Disks\n",
    "disks = [disk(r) for r in radius]\n",
    "\n",
    "# Get new images and save them in new files\n",
    "for i in imgs:\n",
    "    # Get filename\n",
    "    fn = fprop(i, 'fn')\n",
    "    \n",
    "    # Open image\n",
    "    _i = gdal.Open(i, gdal.GA_ReadOnly)\n",
    "    \n",
    "    # Get nodata value\n",
    "    nd = _i.GetRasterBand(1).GetNoDataValue()\n",
    "    \n",
    "    # Read data as Array\n",
    "    num = _i.ReadAsArray()\n",
    "        \n",
    "    for r in range(len(radius)):\n",
    "        # Get new image - majority class\n",
    "        ni = majority(num, disks[r])\n",
    "        \n",
    "        # Place nodata\n",
    "        np.place(ni, num==nd, nd)\n",
    "        \n",
    "        # Save result\n",
    "        obj_to_rst(ni, os.path.join(\n",
    "            outfolder, fn + '_d' + str(radius[r]) + '.tif'\n",
    "        ), _i, noData=nd)"
   ]
  },
  {
   "cell_type": "code",
   "execution_count": null,
   "metadata": {},
   "outputs": [],
   "source": []
  }
 ],
 "metadata": {
  "kernelspec": {
   "display_name": "Python 3",
   "language": "python",
   "name": "python3"
  },
  "language_info": {
   "codemirror_mode": {
    "name": "ipython",
    "version": 3
   },
   "file_extension": ".py",
   "mimetype": "text/x-python",
   "name": "python",
   "nbconvert_exporter": "python",
   "pygments_lexer": "ipython3",
   "version": "3.6.9"
  }
 },
 "nbformat": 4,
 "nbformat_minor": 4
}
