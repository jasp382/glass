{
 "cells": [
  {
   "cell_type": "code",
   "execution_count": null,
   "metadata": {},
   "outputs": [],
   "source": [
    "from glass.g.rst.confmtx import confmtx_twrst\n",
    "\n",
    "confmtx_twrst(\n",
    "    '/mnt/c/gwork/osm2lulc_imgcls/refdata/lsb_cos18l1.tif',\n",
    "    '/mnt/c/gwork/osm2lulc_imgcls/res_rf_v0206/lsb_f2_500k_4x3_05kt_v206.tif',\n",
    "    '/mnt/c/gwork/osm2lulc_imgcls/res_rf_v0206/lsb_f2_500k_4x3_05kt_v206.xlsx'\n",
    ")"
   ]
  },
  {
   "cell_type": "code",
   "execution_count": null,
   "metadata": {},
   "outputs": [],
   "source": [
    "from glass.g.rst.confmtx import confmtx_twrst\n",
    "import os\n",
    "from glass.pys.oss import fprop\n",
    "\n",
    "rst = {\n",
    "    '/mnt/d/gwork/osm2lulc_imgcls/rs_paper/refdata/pnse_cos18l1.tif' : [\n",
    "        '/mnt/d/gwork/osm2lulc_imgcls/rs_paper/res_hybrid/pnse_osm_clsf0.tif',\n",
    "        '/mnt/d/gwork/osm2lulc_imgcls/rs_paper/res_hybrid/pnse_osm_clsf1.tif',\n",
    "        '/mnt/d/gwork/osm2lulc_imgcls/rs_paper/res_hybrid/pnse_osm_clsf2.tif',\n",
    "        '/mnt/d/gwork/osm2lulc_imgcls/rs_paper/res_hybrid/pnse_td0_clsf0.tif',\n",
    "        '/mnt/d/gwork/osm2lulc_imgcls/rs_paper/res_hybrid/pnse_td0_clsf1.tif',\n",
    "        '/mnt/d/gwork/osm2lulc_imgcls/rs_paper/res_hybrid/pnse_td0_clsf2.tif',\n",
    "        '/mnt/d/gwork/osm2lulc_imgcls/rs_paper/res_hybrid/pnse_td1_clsf0.tif',\n",
    "        '/mnt/d/gwork/osm2lulc_imgcls/rs_paper/res_hybrid/pnse_td1_clsf1.tif',\n",
    "        '/mnt/d/gwork/osm2lulc_imgcls/rs_paper/res_hybrid/pnse_td1_clsf2.tif',\n",
    "        '/mnt/d/gwork/osm2lulc_imgcls/rs_paper/res_hybrid/pnse_td2_clsf0.tif',\n",
    "        '/mnt/d/gwork/osm2lulc_imgcls/rs_paper/res_hybrid/pnse_td2_clsf1.tif',\n",
    "        '/mnt/d/gwork/osm2lulc_imgcls/rs_paper/res_hybrid/pnse_td2_clsf2.tif'\n",
    "    ],\n",
    "    '/mnt/d/gwork/osm2lulc_imgcls/rs_paper/refdata/lsb_cos18l1.tif' : [\n",
    "        '/mnt/d/gwork/osm2lulc_imgcls/rs_paper/res_hybrid/lsb_osm_clsf0.tif',\n",
    "        '/mnt/d/gwork/osm2lulc_imgcls/rs_paper/res_hybrid/lsb_osm_clsf1.tif',\n",
    "        '/mnt/d/gwork/osm2lulc_imgcls/rs_paper/res_hybrid/lsb_osm_clsf2.tif',\n",
    "        '/mnt/d/gwork/osm2lulc_imgcls/rs_paper/res_hybrid/lsb_td0_clsf0.tif',\n",
    "        '/mnt/d/gwork/osm2lulc_imgcls/rs_paper/res_hybrid/lsb_td0_clsf1.tif',\n",
    "        '/mnt/d/gwork/osm2lulc_imgcls/rs_paper/res_hybrid/lsb_td0_clsf2.tif',\n",
    "        '/mnt/d/gwork/osm2lulc_imgcls/rs_paper/res_hybrid/lsb_td1_clsf0.tif',\n",
    "        '/mnt/d/gwork/osm2lulc_imgcls/rs_paper/res_hybrid/lsb_td1_clsf1.tif',\n",
    "        '/mnt/d/gwork/osm2lulc_imgcls/rs_paper/res_hybrid/lsb_td1_clsf2.tif',\n",
    "        '/mnt/d/gwork/osm2lulc_imgcls/rs_paper/res_hybrid/lsb_td2_clsf0.tif',\n",
    "        '/mnt/d/gwork/osm2lulc_imgcls/rs_paper/res_hybrid/lsb_td2_clsf1.tif',\n",
    "        '/mnt/d/gwork/osm2lulc_imgcls/rs_paper/res_hybrid/lsb_td2_clsf2.tif'\n",
    "    ],\n",
    "}\n",
    "\n",
    "for k in rst:\n",
    "    for r in rst[k]:\n",
    "        fn = fprop(r, 'fn')\n",
    "        confmtx_twrst(k, r, os.path.join(os.path.dirname(r), fn + '.xlsx'))"
   ]
  },
  {
   "cell_type": "code",
   "execution_count": null,
   "metadata": {},
   "outputs": [],
   "source": [
    "from glass.g.rst.confmtx import confmtx_fm_pntsample\n",
    "import os\n",
    "\n",
    "pnt = '/mnt/d/gwork/osm2lulc_imgcls/rs_paper/validacao/pnse_cons_diogo.shp'\n",
    "pid = 'pntid'\n",
    "ref = 'consenso'\n",
    "rsts = {\n",
    "    #'/mnt/d/gwork/osm2lulc_imgcls/rs_paper/results_randomforest/pnse_f0_500k_4x3_05kt.tif'           : 'fzero',\n",
    "    #'/mnt/d/gwork/osm2lulc_imgcls/rs_paper/results_randomforest/pnse_f1_500k_4x3_05kt.tif'           : 'fone',\n",
    "    #'/mnt/d/gwork/osm2lulc_imgcls/rs_paper/results_randomforest/pnse_f2_500k_4x3_05kt.tif'           : 'ftwo',\n",
    "    '/mnt/d/gwork/osm2lulc_imgcls/rs_paper/results_randomforest/disk_genze/pnse_f0_500k_4x3_05kt_d4.tif' : 'fzerod4',\n",
    "    '/mnt/d/gwork/osm2lulc_imgcls/rs_paper/results_randomforest/disk_genze/pnse_f1_500k_4x3_05kt_d4.tif' : 'foned4',\n",
    "    '/mnt/d/gwork/osm2lulc_imgcls/rs_paper/results_randomforest/disk_genze/pnse_f2_500k_4x3_05kt_d4.tif' : 'ftwod4'\n",
    "}\n",
    "\n",
    "for rst in rsts:\n",
    "    confmtx_fm_pntsample(pnt, pid, ref, rst, rsts[rst], os.path.join(\n",
    "        os.path.dirname(rst), \"{}_p.xlsx\".format(os.path.splitext(os.path.basename(rst))[0])\n",
    "    ))"
   ]
  },
  {
   "cell_type": "code",
   "execution_count": null,
   "metadata": {},
   "outputs": [],
   "source": []
  }
 ],
 "metadata": {
  "kernelspec": {
   "display_name": "Python 3",
   "language": "python",
   "name": "python3"
  },
  "language_info": {
   "codemirror_mode": {
    "name": "ipython",
    "version": 3
   },
   "file_extension": ".py",
   "mimetype": "text/x-python",
   "name": "python",
   "nbconvert_exporter": "python",
   "pygments_lexer": "ipython3",
   "version": "3.8.2"
  }
 },
 "nbformat": 4,
 "nbformat_minor": 4
}
