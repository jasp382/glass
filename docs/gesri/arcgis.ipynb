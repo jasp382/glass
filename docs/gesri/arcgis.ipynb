{
 "cells": [
  {
   "cell_type": "markdown",
   "metadata": {},
   "source": [
    "# Indivíduos a menos de X Minutos/Metros de um conjunto de pontos #\n",
    "\n",
    "O seguinte programa, a partir de _Feature_ _Class_ com a distribuição da população por unidade estatística e de um _Network_ _Dataset_, conta o número de indivíduos que se encontram a menos de X Minutos/Metros de distância da entidade geométrica do tipo ponto mais próxima, estando estas listadas numa outra _Feature_ _Class_.\n",
    "\n",
    "Este programa é útil se se pretender saber quantas pessoas encontram a menos de 20 minutos de uma estação Ferroviária. O resultado ficará associado aos Pontos (Tabela I):\n",
    "\n",
    "| FID | Estacao_Ferroviaria | outro_atributo | NIndividuos |\n",
    "| --- | ------------------- | -------------- | ----------- |\n",
    "|  0  |  Nome_estacao       |  ....          |    1000     |\n",
    "|  1  |  Nome_estacao       |  ....          |    5000     |\n",
    "|  2  |  Nome_estacao       |  ....          |     871     |\n",
    "|  3  |  Nome_estacao       |  ....          |    1452     |\n",
    "|  4  |  Nome_estacao       |  ....          |    2030     |\n",
    "|  5  |  Nome_estacao       |  ....          |     958     |\n",
    "\n",
    "No resultado a final, o número de indivíduos associados a cada ponto é um valor ponderado, tendo por base as áreas das unidades estatísticas às quais é possível chegar em menos de X Minutos/Metros a partir do ponto mais próximo, ou seja, se apenas 50% da área de uma unidade estatística estiver a menos de X Minutos/Metros de um determinado ponto, apenas se considerará 50% da população dessa unidade.\n",
    "\n",
    "### Parâmetros de entrada: ###\n",
    "\n",
    "* **NETWORK_DATASET** -> Caminho absoluto para o _Network_ _Dataset_;\n",
    "\n",
    "* **RDV_FC_NAME** -> Nome da _Feature Class_ que foi usada para criar o **NETWORK_DATASET** (em princípio será _Feature Class_ com a Rede Viária);\n",
    "\n",
    "* **SHP_PONTOS** -> Caminho para a _Feature Class_ com as entidades do tipo ponto, para as quais se pretende obter o número de indivíduos nas suas imediações (e.g. Estações Ferroviárias);\n",
    "\n",
    "* **SHP_POPULACAO** -> Caminho para a _Feature Class_ com a distribuição da população por unidade estatística;\n",
    "\n",
    "* **COL_POPULACAO** -> Nome da coluna presente em **SHP_POPULACAO** com o número de indivíduos associado a cada unidade estatística;\n",
    "\n",
    "* **LIMIAR_DIST** -> Valor/Limiar de distância a considerar;\n",
    "\n",
    "* **SRS_ENTRADA** -> Código EPSG do Sistema de Referência Espacial dos temas de entrada;\n",
    "\n",
    "* **SAIDA** -> Caminho para a _Feature Class_ de saída;\n",
    "\n",
    "* **WORK_TEMPFILES** -> Caminho para uma pasta onde serão armazenados os ficheiros temporários que serão produzidos;\n",
    "\n",
    "* **LIMIAR_MIN_MET** -> Este parâmetro define a unidade do parâmetro **LIMIAR_DIST**, que pode estar em minutos ou metros. Se **LIMIAR_MIN_MET** for Verdadeiro, **LIMIAR_DIST** será considerado como um valor em minutos; se Falso, **LIMIAR_DIST** será tratado como um valor em metros;\n",
    "\n",
    "* **USAR_ONEWAY** -> Definir como verdadeiro se interessar usar a restrição Oneway (que deve ter o nome _default_ - _Oneway_).\n",
    "\n",
    "### Depedências: ###\n",
    "\n",
    "* **Software:**\n",
    "    * ArcGIS Desktop;\n",
    "\n",
    "* **Python Packages:**\n",
    "    * Arcpy;\n",
    "    * Pandas."
   ]
  },
  {
   "cell_type": "code",
   "execution_count": 1,
   "metadata": {},
   "outputs": [
    {
     "data": {
      "text/plain": [
       "'C:\\\\gis\\\\TRENMO\\\\DIST_POP_FERRO\\\\distmportoleixoes20min.shp'"
      ]
     },
     "execution_count": 1,
     "metadata": {},
     "output_type": "execute_result"
    }
   ],
   "source": [
    "from glass.transmob.popaccess import population_within_point_buffer\n",
    "\n",
    "NETWORK_DATASET = r'C:\\gis\\RDV_V072018\\all_years_rdv.gdb\\rdv2017_ape\\rdv2017_ape_ND'\n",
    "RDV_FC_NAME     = \"rdv_17_ape\"\n",
    "SHP_PONTOS      = r'C:\\gis\\TRENMO\\DIST_POP_FERRO\\est_mporto_leixoes.shp'\n",
    "SHP_POPULACAO   = r'C:\\gis\\BGRI_2011\\bgri11_norte_pop.shp'\n",
    "COL_POPULACAO   = \"N_INDIVIDU\"\n",
    "LIMIAR_DIST     = \"20\"\n",
    "SRS_ENTRADA     = 3763\n",
    "SAIDA           = r'C:\\gis\\TRENMO\\DIST_POP_FERRO\\distmportoleixoes20min.shp'\n",
    "WORK_TEMPFILES  = r'C:\\gis\\TRENMO\\DIST_POP_FERRO\\work_porto_leixoes20'\n",
    "LIMIAR_MIN_MET  = True\n",
    "USAR_ONEWAY     = None\n",
    "\n",
    "population_within_point_buffer(\n",
    "    NETWORK_DATASET, RDV_FC_NAME, SHP_PONTOS, SHP_POPULACAO,\n",
    "    COL_POPULACAO, LIMIAR_DIST, SRS_ENTRADA, SAIDA,\n",
    "    workspace=WORK_TEMPFILES, bufferIsTimeMinutes=LIMIAR_MIN_MET\n",
    ")"
   ]
  },
  {
   "cell_type": "markdown",
   "metadata": {},
   "source": [
    "# Indivíduos a menos de X minutos por unidade estatística #\n",
    "\n",
    "Calcula a percentagem de indivíduos que residem numa unidade estatística (e.g. freguesia) e que se encontram a menos de X minutos de uma determinada infra-estrutura.\n",
    "\n",
    "**Nota:** Os resultados só serão válidos se se usar a BGRI 2011 como **SHP_POPULACAO**. "
   ]
  },
  {
   "cell_type": "code",
   "execution_count": null,
   "metadata": {},
   "outputs": [],
   "source": [
    "from glass.transmob.popaccess import pop_less_dist_x2\n",
    "\n",
    "NETWORK_DATASET = r'D:\\TRENMO_JASP\\tst_script\\network\\all_years_rdv.gdb\\rdv2017\\rdv2017_ND'\n",
    "RDV_FC_NAME     = \"rdv_17\"\n",
    "SHP_PONTOS      = r'D:\\TRENMO_JASP\\tst_script\\network\\estacoes_metro_2018.shp'\n",
    "SHP_POPULACAO   = r'D:\\TRENMO_JASP\\tst_script\\network\\BGRI_Lisboa.shp'\n",
    "COL_POPULACAO   = \"N_INDIVIDU\"\n",
    "COL_CONJUNTO    = \"FREG\"\n",
    "LIMIAR_DIST     = \"3\"\n",
    "SAIDA           = r'D:\\TRENMO_JASP\\tst_script\\network\\result.shp'\n",
    "WORK_TEMPFILES  = r'D:\\TRENMO_JASP\\tst_script\\network\\work_tm'\n",
    "USAR_ONEWAY     = True\n",
    "\n",
    "d = pop_less_dist_x2(\n",
    "    NETWORK_DATASET, RDV_FC_NAME, SHP_PONTOS, LIMIAR_DIST,\n",
    "    SHP_POPULACAO, COL_CONJUNTO, COL_POPULACAO, WORK_TEMPFILES,\n",
    "    SAIDA, useOneway=USAR_ONEWAY\n",
    ")"
   ]
  },
  {
   "cell_type": "code",
   "execution_count": null,
   "metadata": {},
   "outputs": [],
   "source": []
  }
 ],
 "metadata": {
  "kernelspec": {
   "display_name": "Python 3",
   "language": "python",
   "name": "python3"
  },
  "language_info": {
   "codemirror_mode": {
    "name": "ipython",
    "version": 3
   },
   "file_extension": ".py",
   "mimetype": "text/x-python",
   "name": "python",
   "nbconvert_exporter": "python",
   "pygments_lexer": "ipython3",
   "version": "3.9.11"
  }
 },
 "nbformat": 4,
 "nbformat_minor": 4
}
