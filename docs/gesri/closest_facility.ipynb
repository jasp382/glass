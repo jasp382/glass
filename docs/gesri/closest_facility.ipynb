{
 "cells": [
  {
   "cell_type": "code",
   "execution_count": null,
   "id": "d11c039f",
   "metadata": {},
   "outputs": [],
   "source": [
    "nd  = r'D:\\rms\\rdv\\ptrdv.gdb\\rdv2022\\rdvnd22'\n",
    "rdv = \"rdv_2022\"\n",
    "\n",
    "folder = r'D:\\rms\\acc_cs21'\n",
    "\n",
    "incident_name = 'incidents.shp'\n",
    "facility_name = 'facilities.shp'\n",
    "\n",
    "oname = 'cf_results_v2'"
   ]
  },
  {
   "cell_type": "code",
   "execution_count": null,
   "id": "5f3ef63f",
   "metadata": {},
   "outputs": [],
   "source": [
    "import os\n",
    "from glass.pys.oss import lst_fld\n",
    "from gesri.mob.na  import closest_facility"
   ]
  },
  {
   "cell_type": "code",
   "execution_count": null,
   "id": "77d64f56",
   "metadata": {},
   "outputs": [],
   "source": [
    "# Folders\n",
    "folders = lst_fld(folder)"
   ]
  },
  {
   "cell_type": "code",
   "execution_count": null,
   "id": "5586a31d",
   "metadata": {},
   "outputs": [],
   "source": [
    "# Run closest facility\n",
    "for fld in folders:\n",
    "    closest_facility(\n",
    "        nd, rdv,\n",
    "        os.path.join(fld, facility_name),\n",
    "        os.path.join(fld, incident_name),\n",
    "        os.path.join(fld, f'{oname}.dbf'),\n",
    "        oneway_name=\"Oneway\"\n",
    "    )"
   ]
  },
  {
   "cell_type": "code",
   "execution_count": 1,
   "id": "02f41085",
   "metadata": {},
   "outputs": [],
   "source": [
    "nd  = r'D:\\rms\\rdv\\ptrdv.gdb\\rdv23pe\\rdv_ape_nd'\n",
    "rdv = \"rdv23ape\"\n",
    "\n",
    "ifolder = 'D:/rms/acc_idosos21/incidents/'\n",
    "\n",
    "facilities = r'D:\\rms\\equipasocial\\eqidosos.shp'\n",
    "\n",
    "res = r'D:\\rms\\acc_idosos21\\results'"
   ]
  },
  {
   "cell_type": "code",
   "execution_count": 2,
   "id": "8e2d6ca6",
   "metadata": {},
   "outputs": [],
   "source": [
    "import os\n",
    "from glass.pys.oss import lst_ff, fprop\n",
    "from gesri.mob.na import closest_facility"
   ]
  },
  {
   "cell_type": "code",
   "execution_count": 3,
   "id": "5ba8ca04",
   "metadata": {},
   "outputs": [],
   "source": [
    "incidents = lst_ff(ifolder, file_format='.shp')"
   ]
  },
  {
   "cell_type": "code",
   "execution_count": 4,
   "id": "f3a8aed1",
   "metadata": {},
   "outputs": [],
   "source": [
    "for shp in incidents:\n",
    "    closest_facility(\n",
    "        nd, rdv, facilities, shp,\n",
    "        os.path.join(res, f'cf_{fprop(shp, \"fn\")}'),\n",
    "        oneway_name=None,\n",
    "        impedance_attr=\"TimeDistance\"\n",
    "    )"
   ]
  },
  {
   "cell_type": "code",
   "execution_count": null,
   "id": "d12fe488",
   "metadata": {},
   "outputs": [],
   "source": []
  }
 ],
 "metadata": {
  "kernelspec": {
   "display_name": "Python 3 (ipykernel)",
   "language": "python",
   "name": "python3"
  },
  "language_info": {
   "codemirror_mode": {
    "name": "ipython",
    "version": 3
   },
   "file_extension": ".py",
   "mimetype": "text/x-python",
   "name": "python",
   "nbconvert_exporter": "python",
   "pygments_lexer": "ipython3",
   "version": "3.9.16"
  }
 },
 "nbformat": 4,
 "nbformat_minor": 5
}
