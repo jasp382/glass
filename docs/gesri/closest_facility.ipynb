{
 "cells": [
  {
   "cell_type": "code",
   "execution_count": 1,
   "id": "67a9909b",
   "metadata": {},
   "outputs": [],
   "source": [
    "nd  = r'C:\\mystuff\\rms\\rdv\\ptrdv.gdb\\rdv2022\\rdvnd22'\n",
    "rdv = \"rdv_2022\"\n",
    "\n",
    "folder = r'C:\\mystuff\\rms\\dist_cs'\n",
    "\n",
    "incident_name = 'incidents.shp'\n",
    "facility_name = 'facilities.shp'"
   ]
  },
  {
   "cell_type": "code",
   "execution_count": 2,
   "id": "b8115678",
   "metadata": {},
   "outputs": [],
   "source": [
    "import os\n",
    "from glass.pys.oss import lst_fld\n",
    "from gesri.mob.na  import closest_facility"
   ]
  },
  {
   "cell_type": "code",
   "execution_count": 3,
   "id": "2028d298",
   "metadata": {},
   "outputs": [],
   "source": [
    "# Folders\n",
    "folders = lst_fld(folder)"
   ]
  },
  {
   "cell_type": "code",
   "execution_count": null,
   "id": "a275d94c",
   "metadata": {},
   "outputs": [],
   "source": [
    "# Run closest facility\n",
    "for fld in folders:\n",
    "    closest_facility(\n",
    "        nd, rdv,\n",
    "        os.path.join(fld, facility_name),\n",
    "        os.path.join(fld, incident_name),\n",
    "        os.path.join(fld, 'cf_results.dbf'),\n",
    "        oneway_name=\"Oneway\"\n",
    "    )"
   ]
  },
  {
   "cell_type": "code",
   "execution_count": null,
   "id": "98508091",
   "metadata": {},
   "outputs": [],
   "source": [
    "nd  = r'D:\\mystuff\\rms\\rdvpt\\ptrdv.gdb\\rdv22pe\\rdvpend'\n",
    "rdv = \"rdvape\"\n",
    "\n",
    "ifolder = r'D:\\mystuff\\rms\\dist_evu'\n",
    "\n",
    "facilities = r'D:\\mystuff\\rms\\usosolo\\cos_1711_pnt.shp'\n",
    "\n",
    "res = r'D:\\mystuff\\rms\\dist_evu\\results'"
   ]
  },
  {
   "cell_type": "code",
   "execution_count": null,
   "id": "46b02994",
   "metadata": {},
   "outputs": [],
   "source": [
    "import os\n",
    "from glass.pys.oss import lst_ff, fprop\n",
    "from gesri.mob.na import closest_facility"
   ]
  },
  {
   "cell_type": "code",
   "execution_count": null,
   "id": "13babc57",
   "metadata": {},
   "outputs": [],
   "source": [
    "incidents = lst_ff(ifolder, file_format='.shp')"
   ]
  },
  {
   "cell_type": "code",
   "execution_count": null,
   "id": "bdb17717",
   "metadata": {},
   "outputs": [],
   "source": [
    "for shp in incidents:\n",
    "    closest_facility(\n",
    "        nd, rdv, facilities, shp,\n",
    "        os.path.join(res, f'cf_{fprop(shp, \"fn\")}'),\n",
    "        oneway_name=None,\n",
    "        impedance_attr=\"Tminutes\"\n",
    "    )"
   ]
  },
  {
   "cell_type": "code",
   "execution_count": null,
   "id": "8462cd8f",
   "metadata": {},
   "outputs": [],
   "source": []
  }
 ],
 "metadata": {
  "kernelspec": {
   "display_name": "Python 3",
   "language": "python",
   "name": "python3"
  },
  "language_info": {
   "codemirror_mode": {
    "name": "ipython",
    "version": 3
   },
   "file_extension": ".py",
   "mimetype": "text/x-python",
   "name": "python",
   "nbconvert_exporter": "python",
   "pygments_lexer": "ipython3",
   "version": "3.9.11"
  }
 },
 "nbformat": 4,
 "nbformat_minor": 5
}
