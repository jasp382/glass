{
 "cells": [
  {
   "cell_type": "code",
   "execution_count": 1,
   "metadata": {},
   "outputs": [],
   "source": [
    "\"\"\"\n",
    "For each shp in folder, clip a larger dataset\n",
    "\"\"\"\n",
    "\n",
    "from gesri.gp.ovl import clip_by_featcls\n",
    "\n",
    "in_shp     = 'D:/mystuff/fireloc/geodb_api/pt_data.gdb/terrain/alos_pt'\n",
    "clip_shps  = 'D:/mystuff/fireloc/geodb_api/dem_data/lmt_dem_large'\n",
    "out_folder = 'D:/mystuff/fireloc/geodb_api/dem_data/alosdem_parts'\n",
    "\n",
    "clip_by_featcls(in_shp, clip_shps, out_folder, fFormat='.shp')"
   ]
  },
  {
   "cell_type": "code",
   "execution_count": null,
   "metadata": {},
   "outputs": [],
   "source": []
  }
 ],
 "metadata": {
  "kernelspec": {
   "display_name": "Python 3",
   "language": "python",
   "name": "python3"
  },
  "language_info": {
   "codemirror_mode": {
    "name": "ipython",
    "version": 3
   },
   "file_extension": ".py",
   "mimetype": "text/x-python",
   "name": "python",
   "nbconvert_exporter": "python",
   "pygments_lexer": "ipython3",
   "version": "3.8.10"
  }
 },
 "nbformat": 4,
 "nbformat_minor": 4
}
