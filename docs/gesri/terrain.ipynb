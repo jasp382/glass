{
 "cells": [
  {
   "cell_type": "code",
   "execution_count": null,
   "metadata": {},
   "outputs": [],
   "source": [
    "from gesri.alg.terrain import dem_from_tin\n",
    "\n",
    "ELEVATION  = r'F:\\fireloc\\tst_miranda\\elv\\altimetria.shp'\n",
    "ELEV_FIELD = 'ELEVATION'\n",
    "BOUND_TIN  = r'F:\\fireloc\\tst_miranda\\lmt\\lmt_extra.shp'\n",
    "BOUND_MDT  = r'F:\\fireloc\\tst_miranda\\lmt\\lmt.shp'\n",
    "WWW        = r'F:\\fireloc\\tst_miranda\\elv\\mdt_tmp'\n",
    "OUT_MDT    = r'F:\\fireloc\\tst_miranda\\elv\\mdt.tif'\n",
    "EPSG       = 3763\n",
    "\n",
    "dem_from_tin(\n",
    "    ELEVATION, ELEV_FIELD, BOUND_TIN, BOUND_MDT,\n",
    "    10, WWW, OUT_MDT, hidrology=None\n",
    ")"
   ]
  },
  {
   "cell_type": "code",
   "execution_count": null,
   "metadata": {},
   "outputs": [],
   "source": [
    "\"\"\"\n",
    "Produce a MDT for each cell in vec frid file\n",
    "\"\"\"\n",
    "\n",
    "alti = r'C:\\gwork\\fireloc\\datasets\\mdt_m888\\alti_pt25k_3763.shp'\n",
    "ref  = r'C:\\gwork\\fireloc\\datasets\\ref\\pt_ref_grid.shp'\n",
    "outFld = r'C:\\gwork\\fireloc\\datasets\\mdt_m888'\n",
    "cell_id = 'cellid'\n",
    "\n",
    "cell_width = 3000\n",
    "cell_height= 3000\n",
    "\n",
    "import os; import datetime as dt\n",
    "from glass3.fm          import tbl_to_obj\n",
    "from glass3.g.gop.prox  import df_buffer_extent\n",
    "from glass3.gt.prop.prj import get_epsg_shp\n",
    "from glass3.gt.to.shp import coords_to_boundary\n",
    "from glass3.pyt.oss import create_folder\n",
    "from glass3.pyt.oss import fld_exists\n",
    "\n",
    "from gesri.df.gop.ovlay import clip\n",
    "\n",
    "epsg = 3763\n",
    "\n",
    "grid_df = tbl_to_obj(ref)\n",
    "\n",
    "grid_df = df_buffer_extent(grid_df, epsg, cell_width, mantainOriginalGeom=True)"
   ]
  },
  {
   "cell_type": "code",
   "execution_count": null,
   "metadata": {},
   "outputs": [],
   "source": [
    "def clip_r(row):\n",
    "    fld_path = os.path.join(outFld, 'data_' + str(row[cell_id]))\n",
    "    \n",
    "    isFld = fld_exists(fld_path)\n",
    "    if not isFld:\n",
    "        fld = create_folder(fld_path)\n",
    "    else:\n",
    "        continue\n",
    "    \n",
    "    # Get Lmt Shape\n",
    "    left, bottom, right, top = row.old_geom.bounds\n",
    "    lmt = coords_to_boundary((left, top), (right, bottom), epsg, os.path.join(\n",
    "        fld, 'lmt_{}.shp'.format(str(row[cell_id]))\n",
    "    ))\n",
    "    \n",
    "    # Get Extra Lmt\n",
    "    left, bottom, right, top = row.geometry.bounds\n",
    "    extra_lmt = coords_to_boundary((left, top), (right, bottom), epsg, os.path.join(\n",
    "        fld, 'extra_lmt_{}.shp'.format(str(row[cell_id]))\n",
    "    ))\n",
    "    \n",
    "    # Clip Altimetry\n",
    "    alti_clp = clip(alti, extra_lmt, os.path.join(\n",
    "        fld, 'alti_{}.shp'.format(str(row[cell_id]))\n",
    "    ))\n",
    "    \n",
    "    return row\n",
    "\n",
    "time_a = dt.datetime.now().replace(microsecond=0)\n",
    "grid_df.apply(lambda x: clip_r(x), axis=1)\n",
    "time_b = dt.datetime.now().replace(microsecond=0)\n",
    "print(time_b - time_a)"
   ]
  },
  {
   "cell_type": "code",
   "execution_count": null,
   "metadata": {},
   "outputs": [],
   "source": []
  }
 ],
 "metadata": {
  "kernelspec": {
   "display_name": "Python 3",
   "language": "python",
   "name": "python3"
  },
  "language_info": {
   "codemirror_mode": {
    "name": "ipython",
    "version": 3
   },
   "file_extension": ".py",
   "mimetype": "text/x-python",
   "name": "python",
   "nbconvert_exporter": "python",
   "pygments_lexer": "ipython3",
   "version": "3.6.8"
  }
 },
 "nbformat": 4,
 "nbformat_minor": 2
}
