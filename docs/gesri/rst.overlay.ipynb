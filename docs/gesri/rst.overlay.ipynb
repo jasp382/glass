{
 "cells": [
  {
   "cell_type": "code",
   "execution_count": null,
   "metadata": {},
   "outputs": [],
   "source": [
    "\"\"\"\n",
    "Clip a raster for each feature class in a folder\n",
    "\"\"\"\n",
    "\n",
    "from gesri.df.nop.ovly import clip_rst_each_featcls\n",
    "\n",
    "\n",
    "RASTER        = r'E:\\gwork\\fireloc_db\\lulc_data\\forest_cos_2018.tif'\n",
    "CLIP_FOLDER   = r'E:\\gwork\\fireloc_db\\ref_parts'\n",
    "output_FOLDER = r'E:\\gwork\\fireloc_db\\lulc_types\\forest_cos_18'\n",
    "SNAP_RASTER   = r'E:\\gwork\\fireloc_db\\ref\\rst_ref.tif'\n",
    "CLIP_GEOMETRY = True\n",
    "\n",
    "clip_rst_each_featcls(\n",
    "    RASTER, CLIP_FOLDER, output_FOLDER, snap=SNAP_RASTER,\n",
    "    clipGeometry=CLIP_GEOMETRY, useFileID=True\n",
    ")"
   ]
  },
  {
   "cell_type": "code",
   "execution_count": null,
   "metadata": {},
   "outputs": [],
   "source": [
    "\"\"\"\n",
    "Clip a raster for each feature class in a folder\n",
    "\"\"\"\n",
    "\n",
    "from gesri.df.nop.ovly import clip_rst_each_featcls\n",
    "from glass.pys.oss import mkdir\n",
    "\n",
    "rst = {\n",
    "    r'F:\\gwork\\fireloc_db\\dist_lulc_cls\\forest_fty15_i.tif' : r'F:\\gwork\\fireloc_db\\dist_lulc_cls\\rst_forest_fty15',\n",
    "    r'F:\\gwork\\fireloc_db\\dist_lulc_cls\\forest_ua12.tif' : r'F:\\gwork\\fireloc_db\\dist_lulc_cls\\rst_forest_ua12',\n",
    "    r'F:\\gwork\\fireloc_db\\dist_lulc_cls\\transport_clc18.tif' : r'F:\\gwork\\fireloc_db\\dist_lulc_cls\\rst_trans_clc18',\n",
    "    r'F:\\gwork\\fireloc_db\\dist_lulc_cls\\transport_cos18.tif' : r'F:\\gwork\\fireloc_db\\dist_lulc_cls\\rst_trans_cos18',\n",
    "    r'F:\\gwork\\fireloc_db\\dist_lulc_cls\\transport_ua12.tif' : r'F:\\gwork\\fireloc_db\\dist_lulc_cls\\rst_trans_ua12',\n",
    "    r'F:\\gwork\\fireloc_db\\dist_lulc_cls\\urban_clc18.tif' : r'F:\\gwork\\fireloc_db\\dist_lulc_cls\\rst_urban_clc18',\n",
    "    r'F:\\gwork\\fireloc_db\\dist_lulc_cls\\urban_cos18.tif' : r'F:\\gwork\\fireloc_db\\dist_lulc_cls\\rst_urban_cos18',\n",
    "    r'F:\\gwork\\fireloc_db\\dist_lulc_cls\\urban_imd15.tif' : r'F:\\gwork\\fireloc_db\\dist_lulc_cls\\rst_urban_imd15',\n",
    "    r'F:\\gwork\\fireloc_db\\dist_lulc_cls\\urban_ua12.tif' : r'F:\\gwork\\fireloc_db\\dist_lulc_cls\\rst_urban_ua12',\n",
    "    r'F:\\gwork\\fireloc_db\\dist_lulc_cls\\water_clc18.tif' : r'F:\\gwork\\fireloc_db\\dist_lulc_cls\\rst_water_clc18',\n",
    "    r'F:\\gwork\\fireloc_db\\dist_lulc_cls\\water_cos18.tif' : r'F:\\gwork\\fireloc_db\\dist_lulc_cls\\rst_water_cos18',\n",
    "    r'F:\\gwork\\fireloc_db\\dist_lulc_cls\\water_ua12.tif' : r'F:\\gwork\\fireloc_db\\dist_lulc_cls\\rst_water_ua12',\n",
    "    r'F:\\gwork\\fireloc_db\\dist_lulc_cls\\water_waw15.tif' : r'F:\\gwork\\fireloc_db\\dist_lulc_cls\\rst_water_waw15',\n",
    "}\n",
    "CLIP_FOLDER   = r'F:\\gwork\\fireloc_db\\ref_parts'\n",
    "SNAP_RASTER   = r'F:\\gwork\\fireloc_db\\ref\\rst_ref.tif'\n",
    "CLIP_GEOMETRY = True\n",
    "\n",
    "for r in rst:\n",
    "    mkdir(rst[r])\n",
    "    clip_rst_each_featcls(\n",
    "        r, CLIP_FOLDER, rst[r], snap=SNAP_RASTER,\n",
    "        clipGeometry=CLIP_GEOMETRY, useFileID=True\n",
    "    )"
   ]
  },
  {
   "cell_type": "code",
   "execution_count": null,
   "metadata": {},
   "outputs": [],
   "source": [
    "\"\"\"\n",
    "Clip Rasters in Folder using shape in other folder\n",
    "\n",
    "Use ID in filename to get correspondence\n",
    "\"\"\"\n",
    "\n",
    "from gesri.rst.ovl import clip_rst_by_id\n",
    "\n",
    "rst_folder  = 'D:/mystuff/fireloc/geodb_api/dem_data/dem888_aspect_large'\n",
    "lmt_folder  = 'D:/mystuff/fireloc/geodb_api/ref_parts'\n",
    "snap_folder = None\n",
    "snap_rst    = None\n",
    "ext_rst     = 'D:/mystuff/fireloc/geodb_api/ref_parts'\n",
    "out_folder  = 'D:/mystuff/fireloc/geodb_api/dem_data/dem888_aspect'\n",
    "\n",
    "clip_rst_by_id(rst_folder, lmt_folder, out_folder,\n",
    "               snap_folder=snap_folder, snap_rst=snap_rst, ext_folder=ext_rst)"
   ]
  },
  {
   "cell_type": "code",
   "execution_count": null,
   "metadata": {},
   "outputs": [],
   "source": []
  }
 ],
 "metadata": {
  "kernelspec": {
   "display_name": "Python 3",
   "language": "python",
   "name": "python3"
  },
  "language_info": {
   "codemirror_mode": {
    "name": "ipython",
    "version": 3
   },
   "file_extension": ".py",
   "mimetype": "text/x-python",
   "name": "python",
   "nbconvert_exporter": "python",
   "pygments_lexer": "ipython3",
   "version": "3.7.9"
  }
 },
 "nbformat": 4,
 "nbformat_minor": 4
}
