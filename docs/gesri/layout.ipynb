{
 "cells": [
  {
   "cell_type": "markdown",
   "metadata": {},
   "source": [
    "# Layout Script v1 #\n",
    "\n",
    "- muda apenas layer com valores quantitativos apresentados por intervalos"
   ]
  },
  {
   "cell_type": "code",
   "execution_count": null,
   "metadata": {},
   "outputs": [],
   "source": [
    "from gesri.lyt.pmap import layoutv1\n",
    "\n",
    "mxd        = r'D:\\mystuff\\gowe_layouts\\zzgowe\\zzgowe.aprx'\n",
    "\n",
    "mapfiles = [{\n",
    "    \"maps\"    : r'D:\\mystuff\\gowe_layouts\\lyttblmain\\tvl1jenks.xlsx',\n",
    "    \"geodata\" : r\"D:\\mystuff\\gowe_layouts\\lyt1shp_jenks\",\n",
    "    \"outmaps\" : r'D:\\mystuff\\gowe_layouts\\lyt1_jenks'\n",
    "}]\n",
    "\"\"\", {\n",
    "    \"maps\"    : r'D:\\mystuff\\gowe_layouts\\tv_maps_l1_jenks.xlsx',\n",
    "    \"geodata\" : r\"D:\\mystuff\\gowe_layouts\\lytshp_jenks\",\n",
    "    \"outmaps\" : r'D:\\mystuff\\gowe_layouts\\lyt1_jenks'\n",
    "}, {\n",
    "    \"maps\"    : r'D:\\mystuff\\gowe_layouts\\tv_maps_l1_quantile.xlsx',\n",
    "    \"geodata\" : r\"D:\\mystuff\\gowe_layouts\\lytshp_qtl\",\n",
    "    \"outmaps\" : r'D:\\mystuff\\gowe_layouts\\lyt1_qtl'\n",
    "}]\"\"\"\n",
    "\n",
    "lyt_template = 'map_template'\n",
    "map_template = 'map_layout'\n",
    "lyr_int      = 'fregtv'\n",
    "\n",
    "for d in mapfiles:\n",
    "    layoutv1(\n",
    "        mxd, d[\"geodata\"], d[\"maps\"], lyt_template,\n",
    "        map_template, lyr_int, d['outmaps']\n",
    "    )"
   ]
  },
  {
   "cell_type": "markdown",
   "metadata": {},
   "source": [
    "# Layout Script v2 #\n",
    "\n",
    "- muda layer com valores quantitativos apresentados por intervalos e outras layers sem valores associados, apenas com simbologia (mudança source);"
   ]
  },
  {
   "cell_type": "code",
   "execution_count": null,
   "metadata": {},
   "outputs": [],
   "source": [
    "import arcpy, pprint\n",
    "from glass.dct import tbl_to_obj\n",
    "from glass.pys.oss import lst_ff\n",
    "import os\n",
    "\n",
    "mxd        = r'D:\\MEOCloud\\gigscoimbra\\zzproj\\zzproj.aprx'\n",
    "geodata    = r'D:\\gwork\\gigs_cmcprj\\layouts_shp'\n",
    "maps_table = r'D:\\gwork\\gigs_cmcprj\\indicators\\restantes_maps.xlsx'\n",
    "\n",
    "other_layers_change = r'D:\\gwork\\gigs_cmcprj\\Lista_mapas_09102020.xlsx'\n",
    "other_layers_sheet  = 'restantes_other_layers'\n",
    "\n",
    "other_layer_folder = r'D:\\gwork\\gigs_cmcprj\\servicos\\pnt_layout'\n",
    "\n",
    "lyt_template = 'mortalidade'\n",
    "map_template = 'map_layout'\n",
    "lyr_int = 'freg_cmb_data'\n",
    "\n",
    "out_maps = r'D:\\gwork\\gigs_cmcprj\\layouts_v2'"
   ]
  },
  {
   "cell_type": "code",
   "execution_count": null,
   "metadata": {},
   "outputs": [],
   "source": [
    "maps_todo = tbl_to_obj(maps_table)\n",
    "\n",
    "maps_attr = list(maps_todo.columns.values)\n",
    "\n",
    "lyr_change_by_map = tbl_to_obj(other_layers_change, sheet=other_layers_sheet)"
   ]
  },
  {
   "cell_type": "code",
   "execution_count": null,
   "metadata": {},
   "outputs": [],
   "source": [
    "aprx = arcpy.mp.ArcGISProject(mxd)\n",
    "\n",
    "# Get map\n",
    "mapobj = aprx.listMaps(map_template)[0]\n",
    "lyr = mapobj.listLayers(lyr_int)[0]\n",
    "\n",
    "for i, r in maps_todo.iterrows():\n",
    "    current_dict = lyr.connectionProperties\n",
    "\n",
    "    replace_dict = {\n",
    "        'connection_info' : {'database' : geodata},\n",
    "        'dataset' : '{}.shp'.format(r.slug),\n",
    "        'workspace_factory' : 'Shape File'\n",
    "    }\n",
    "\n",
    "    lyr.updateConnectionProperties(current_dict, replace_dict)\n",
    "    \n",
    "    # Update sources of other layers\n",
    "    lchange = lyr_change_by_map[lyr_change_by_map.slug == r.slug]\n",
    "    \n",
    "    for _i, _r in lchange.iterrows():\n",
    "        \n",
    "        __lyr = mapobj.listLayers(_r.other_lyr)[0]\n",
    "        c_d   = __lyr.connectionProperties\n",
    "        \n",
    "        rpdict = {\n",
    "            'connection_info' : {'database' : other_layer_folder},\n",
    "            'dataset' : _r.source_shp,\n",
    "            'workspace_factory' : 'Shape File'\n",
    "        }\n",
    "        \n",
    "        __lyr.updateConnectionProperties(c_d, rpdict)\n",
    "    \n",
    "    # Get Layout\n",
    "    lyt = aprx.listLayouts(lyt_template)[0]\n",
    "    \n",
    "    # List elements\n",
    "    elm = lyt.listElements(\"TEXT_ELEMENT\")\n",
    "    \n",
    "    # Replace elements\n",
    "    for e in elm:\n",
    "        if e.name in maps_attr:\n",
    "            if type(r[e.name]) == float:\n",
    "                e.text = str(r[e.name]).replace('.', ',')\n",
    "            else:\n",
    "                e.text = str(r[e.name])\n",
    "\n",
    "    lyt.exportToJPEG(os.path.join(\n",
    "        out_maps, '{}.jpg'.format(r.slug)), resolution=500)\n",
    "\n",
    "    aprx.saveACopy(os.path.join(out_maps, '{}.aprx'.format(r.slug)))"
   ]
  },
  {
   "cell_type": "code",
   "execution_count": null,
   "metadata": {},
   "outputs": [],
   "source": [
    "lyr_change_by_map"
   ]
  },
  {
   "cell_type": "markdown",
   "metadata": {},
   "source": [
    "# Layout Script v3 #\n",
    "\n",
    "- alteracao de todos os dataframes (com excepção);"
   ]
  },
  {
   "cell_type": "code",
   "execution_count": null,
   "metadata": {},
   "outputs": [],
   "source": [
    "import arcpy, pprint\n",
    "from glass.dct import tbl_to_obj\n",
    "from glass.pys.oss import lst_ff\n",
    "import os\n",
    "\n",
    "mxd        = r'D:\\MEOCloud\\gigscoimbra\\cstemplate\\cstemplate.aprx'\n",
    "geodata    = r'D:\\gwork\\gigs_cmcprj\\layouts_shp'\n",
    "maps_table = r'D:\\gwork\\gigs_cmcprj\\indicators\\cs_maps.xlsx'\n",
    "\n",
    "lyt_template = 'Layout'\n",
    "map_template = 'map_layout'\n",
    "lyr_int = 'freg_cmb_cs'\n",
    "\n",
    "excepcao = ['Map']\n",
    "\n",
    "out_maps = r'D:\\gwork\\gigs_cmcprj\\layouts_v2'"
   ]
  },
  {
   "cell_type": "code",
   "execution_count": null,
   "metadata": {},
   "outputs": [],
   "source": [
    "maps_todo = tbl_to_obj(maps_table)\n",
    "\n",
    "maps_attr = list(maps_todo.columns.values)"
   ]
  },
  {
   "cell_type": "code",
   "execution_count": null,
   "metadata": {},
   "outputs": [],
   "source": [
    "aprx = arcpy.mp.ArcGISProject(mxd)\n",
    "\n",
    "# Get maps\n",
    "mapobjs = aprx.listMaps()\n",
    "\n",
    "mapobj = [m for m in mapobjs if m.name not in excepcao]"
   ]
  },
  {
   "cell_type": "code",
   "execution_count": null,
   "metadata": {},
   "outputs": [],
   "source": [
    "lyrs = [m.listLayers(lyr_int)[0] for m in mapobj]"
   ]
  },
  {
   "cell_type": "code",
   "execution_count": null,
   "metadata": {},
   "outputs": [],
   "source": [
    "print(len(lyrs))"
   ]
  },
  {
   "cell_type": "code",
   "execution_count": null,
   "metadata": {},
   "outputs": [],
   "source": [
    "for i, r in maps_todo.iterrows():\n",
    "    for lyr in lyrs:\n",
    "        current_dict = lyr.connectionProperties\n",
    "\n",
    "        replace_dict = {\n",
    "            'connection_info' : {'database' : geodata},\n",
    "            'dataset' : '{}.shp'.format(r.slug),\n",
    "            'workspace_factory' : 'Shape File'\n",
    "        }\n",
    "\n",
    "        lyr.updateConnectionProperties(current_dict, replace_dict)\n",
    "    \n",
    "    # Get Layout\n",
    "    lyt = aprx.listLayouts(lyt_template)[0]\n",
    "    \n",
    "    # List elements\n",
    "    elm = lyt.listElements(\"TEXT_ELEMENT\")\n",
    "    \n",
    "    # Replace elements\n",
    "    for e in elm:\n",
    "        if e.name in maps_attr:\n",
    "            if type(r[e.name]) == float:\n",
    "                e.text = str(r[e.name]).replace('.', ',')\n",
    "            else:\n",
    "                e.text = str(r[e.name])\n",
    "\n",
    "    lyt.exportToJPEG(os.path.join(\n",
    "        out_maps, '{}.jpg'.format(r.slug)), resolution=500)\n",
    "\n",
    "    aprx.saveACopy(os.path.join(out_maps, '{}.aprx'.format(r.slug)))"
   ]
  },
  {
   "cell_type": "code",
   "execution_count": null,
   "metadata": {},
   "outputs": [],
   "source": [
    "print(mapobj[0].name)"
   ]
  },
  {
   "cell_type": "code",
   "execution_count": null,
   "metadata": {},
   "outputs": [],
   "source": [
    "print(len(mapobj))"
   ]
  },
  {
   "cell_type": "markdown",
   "metadata": {},
   "source": [
    "## Layout v1 More than one map for layout"
   ]
  },
  {
   "cell_type": "code",
   "execution_count": null,
   "metadata": {},
   "outputs": [],
   "source": [
    "mxd  = r'D:\\mystuff\\gowe_layouts\\zzgowe\\zzgowe.aprx'\n",
    "\n",
    "maps = r'D:\\mystuff\\gowe_layouts\\lyttblmain\\tvl2jenks.xlsx'\n",
    "\n",
    "shps = r'D:\\mystuff\\gowe_layouts\\lyt2shp_jenks'\n",
    "\n",
    "outmaps = r'D:\\mystuff\\gowe_layouts\\lyt2_jenks'\n",
    "\n",
    "map_template = {\n",
    "    'map_duplo1' : {'col' : 'slug1', 'lyr' : 'fregtv'},\n",
    "    'map_duplo2' : {'col' : 'slug2', 'lyr' : 'fregtv'}\n",
    "}\n",
    "\n",
    "lyt_template = 'map_duplo'"
   ]
  },
  {
   "cell_type": "code",
   "execution_count": null,
   "metadata": {},
   "outputs": [],
   "source": [
    "import arcpy\n",
    "import os\n",
    "from glass.ng.rd import tbl_to_obj"
   ]
  },
  {
   "cell_type": "code",
   "execution_count": null,
   "metadata": {},
   "outputs": [],
   "source": [
    "mapstodo = tbl_to_obj(maps)"
   ]
  },
  {
   "cell_type": "code",
   "execution_count": null,
   "metadata": {},
   "outputs": [],
   "source": [
    "mapsattr = list(mapstodo.columns.values)\n",
    "\n",
    "aprx = arcpy.mp.ArcGISProject(mxd)"
   ]
  },
  {
   "cell_type": "code",
   "execution_count": null,
   "metadata": {},
   "outputs": [],
   "source": [
    "# Get template maps obj\n",
    "# Get layer objs\n",
    "\n",
    "for m in map_template:\n",
    "    map_template[m]['mapobj'] = aprx.listMaps(m)[0]\n",
    "    \n",
    "    map_template[m]['lyrobj'] = map_template[m]['mapobj'].listLayers(\n",
    "        map_template[m]['lyr'])[0]"
   ]
  },
  {
   "cell_type": "code",
   "execution_count": null,
   "metadata": {},
   "outputs": [],
   "source": [
    "# Produce maps\n",
    "for i, mp in mapstodo.iterrows():\n",
    "    # Change all maps in map_template\n",
    "    for mt in map_template:\n",
    "        cdict = map_template[mt]['lyrobj'].connectionProperties\n",
    "        \n",
    "        rpdict = {\n",
    "            'connection_info' : {'database' : shps},\n",
    "            'dataset' : f'{mp[map_template[mt][\"col\"]]}.shp',\n",
    "            'workspace_factory' : 'Shape File'\n",
    "        }\n",
    "        \n",
    "        map_template[mt]['lyrobj'].updateConnectionProperties(cdict, rpdict)\n",
    "        \n",
    "    # Get layout\n",
    "    lyt = aprx.listLayouts(lyt_template)[0]\n",
    "    \n",
    "    # List text elements\n",
    "    elm = lyt.listElements(\"TEXT_ELEMENT\")\n",
    "    \n",
    "    # Change text elements\n",
    "    for e in elm:\n",
    "        if e.name in mapsattr:\n",
    "            if type(mp[e.name]) == float:\n",
    "                e.text = str(mp[e.name]).replace('.', ',')\n",
    "            \n",
    "            else:\n",
    "                e.text = str(mp[e.name])\n",
    "    \n",
    "    # Save new layout\n",
    "    refname = \"_\".join([\n",
    "        mp[map_template[_mt]['col']] for _mt in map_template\n",
    "    ])\n",
    "    lyt.exportToJPEG(os.path.join(\n",
    "        outmaps, f'{refname}.jpg'\n",
    "    ), resolution=500)\n",
    "    \n",
    "    aprx.saveACopy(os.path.join(outmaps, f'{refname}.aprx'))"
   ]
  },
  {
   "cell_type": "code",
   "execution_count": null,
   "metadata": {},
   "outputs": [],
   "source": [
    "mapstodo"
   ]
  },
  {
   "cell_type": "code",
   "execution_count": null,
   "metadata": {},
   "outputs": [],
   "source": []
  }
 ],
 "metadata": {
  "kernelspec": {
   "display_name": "Python 3",
   "language": "python",
   "name": "python3"
  },
  "language_info": {
   "codemirror_mode": {
    "name": "ipython",
    "version": 3
   },
   "file_extension": ".py",
   "mimetype": "text/x-python",
   "name": "python",
   "nbconvert_exporter": "python",
   "pygments_lexer": "ipython3",
   "version": "3.7.9"
  }
 },
 "nbformat": 4,
 "nbformat_minor": 4
}
