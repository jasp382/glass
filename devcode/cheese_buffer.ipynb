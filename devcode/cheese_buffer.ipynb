{
 "cells": [
  {
   "cell_type": "code",
   "execution_count": null,
   "id": "dd152d66-d70f-4bdb-b392-b570fe078a44",
   "metadata": {},
   "outputs": [],
   "source": [
    "inshp  = '/mnt/d/a3land2023/rule3_4/sample.shp'\n",
    "\n",
    "dist = 500\n",
    "\n",
    "angle_min = 0\n",
    "angle_max = 45\n",
    "\n",
    "angles_int = 45\n",
    "\n",
    "outshp = '/mnt/d/a3land2023/rule3_4/cheese_buffer3.shp'\n",
    "outpnt = '/mnt/d/a3land2023/rule3_4/polyvtx6.shp'"
   ]
  },
  {
   "cell_type": "code",
   "execution_count": null,
   "id": "796612c5-9a67-47e2-b871-b349e123e164",
   "metadata": {},
   "outputs": [],
   "source": [
    "import geopandas as gp\n",
    "from shapely.geometry import Point\n",
    "import numpy as np\n",
    "from shapely import wkt\n",
    "#from geopy.distance import azimuth\n",
    "\n",
    "from glass.rd.shp import shp_to_obj\n",
    "from glass.dtt.cg.obj import multipart_to_single\n",
    "from glass.it.pd import df_to_geodf\n",
    "from glass.prop.prj import get_epsg\n",
    "from glass.wt.shp import df_to_shp\n",
    "from glass.gobj import create_polygon"
   ]
  },
  {
   "cell_type": "code",
   "execution_count": null,
   "id": "01b45b5b-839e-4749-aa23-ffce51b7abd6",
   "metadata": {},
   "outputs": [],
   "source": [
    "epsg = get_epsg(inshp)"
   ]
  },
  {
   "cell_type": "code",
   "execution_count": null,
   "id": "6f678021-007d-4401-976e-ceed16a0c10f",
   "metadata": {},
   "outputs": [],
   "source": [
    "pdf = shp_to_obj(inshp)\n",
    "\n",
    "# Force geometries single part\n",
    "pdf = multipart_to_single(pdf, 'Polygon')\n",
    "\n",
    "# Get centroid\n",
    "pdf[\"ctr\"] = pdf.geometry.centroid\n",
    "\n",
    "pdf['ctr_x'] = pdf.ctr.x\n",
    "pdf['ctr_y'] = pdf.ctr.y\n",
    "\n",
    "pdf.drop(['ctr'], axis=1, inplace=True)"
   ]
  },
  {
   "cell_type": "code",
   "execution_count": null,
   "id": "83dab466-4d3a-4518-ba9a-c145fc832b23",
   "metadata": {},
   "outputs": [],
   "source": [
    "# Polygon vertices to a new Point GeoDataFrame\n",
    "pnts = []\n",
    "\n",
    "for i, row in pdf.iterrows():\n",
    "    # Get vertices\n",
    "    vtx = list(row.geometry.exterior.coords)\n",
    "    \n",
    "    # Get Point Geometries and attributes\n",
    "    o = 1\n",
    "    for v in vtx:\n",
    "        d = {\"geometry\" : Point(v), \"featid\": i, \"order\": o}\n",
    "        \n",
    "        for attr in pdf.columns.values:\n",
    "            if attr == \"geometry\": continue\n",
    "            \n",
    "            d[attr] = row[attr]\n",
    "        \n",
    "        pnts.append(d)\n",
    "        \n",
    "        o += 1\n",
    "\n",
    "vtx_df = df_to_geodf(pnts, 'geometry', epsg)\n",
    "\n",
    "#df_to_shp(vtx_df, outpnt)"
   ]
  },
  {
   "cell_type": "code",
   "execution_count": null,
   "id": "2c0c2140-e7fc-4161-a100-a48df096b753",
   "metadata": {},
   "outputs": [],
   "source": [
    "vtx_df[\"aty\"] = vtx_df.geometry.y - vtx_df.ctr_y\n",
    "vtx_df[\"atx\"] = vtx_df.geometry.x - vtx_df.ctr_x"
   ]
  },
  {
   "cell_type": "code",
   "execution_count": null,
   "id": "2d5af912-67e0-42cb-a7b8-5aae23af0a37",
   "metadata": {},
   "outputs": [],
   "source": [
    "vtx_df['theta'] = np.degrees(np.arctan2(vtx_df.atx, vtx_df.aty))"
   ]
  },
  {
   "cell_type": "code",
   "execution_count": null,
   "id": "c1b17ba5-3538-40e3-bc02-e34b8c1f3fa7",
   "metadata": {},
   "outputs": [],
   "source": [
    "vtx_df[\"azimute\"] = np.where(\n",
    "    vtx_df.theta < 0, vtx_df.theta + 360,\n",
    "    vtx_df.theta\n",
    ")\n",
    "vtx_df[\"azimute\"] = vtx_df.azimute.round(0).astype(int)"
   ]
  },
  {
   "cell_type": "code",
   "execution_count": null,
   "id": "cd7482a0-2be9-4faa-92df-6518809c3e3b",
   "metadata": {},
   "outputs": [],
   "source": [
    "# Get new coordinates for each vertice\n",
    "vtx_df[\"new_x\"] = vtx_df.geometry.x + (dist * np.sin(np.radians(vtx_df.azimute)))\n",
    "vtx_df[\"new_y\"] = vtx_df.geometry.y + (dist * np.cos(np.radians(vtx_df.azimute)))"
   ]
  },
  {
   "cell_type": "code",
   "execution_count": null,
   "id": "04faf9a5-4360-4b84-a1e5-89c59a6a9341",
   "metadata": {},
   "outputs": [],
   "source": [
    "# Get Slices\n",
    "slices = {}\n",
    "\n",
    "minangle = 0\n",
    "maxangle = angles_int\n",
    "\n",
    "s = 1\n",
    "while maxangle <= 360:\n",
    "    slices[s] = (minangle, maxangle)\n",
    "    \n",
    "    minangle += angles_int\n",
    "    maxangle += angles_int\n",
    "    \n",
    "    s+= 1"
   ]
  },
  {
   "cell_type": "code",
   "execution_count": null,
   "id": "9ce527cc-0902-4f77-99f4-0b30a0836153",
   "metadata": {},
   "outputs": [],
   "source": [
    "slices"
   ]
  },
  {
   "cell_type": "code",
   "execution_count": null,
   "id": "ccf7628c-6749-44df-abb2-381c422a7282",
   "metadata": {},
   "outputs": [],
   "source": [
    "# Classify points\n",
    "\n",
    "vtx_df[\"slice_id\"] = 0\n",
    "vtx_df[\"slice_label\"] = ''\n",
    "\n",
    "for k in slices:\n",
    "    vtx_df[\"slice_id\"] = np.where(\n",
    "        (vtx_df.azimute >= slices[k][0]) & (vtx_df.azimute < slices[k][1]),\n",
    "        k, vtx_df.slice_id\n",
    "    )\n",
    "    \n",
    "    vtx_df[\"slice_label\"] = np.where(\n",
    "        (vtx_df.azimute >= slices[k][0]) & (vtx_df.azimute < slices[k][1]),\n",
    "        f\"{str(slices[k][0])} - {str(slices[k][1])}\", vtx_df.slice_label\n",
    "    )"
   ]
  },
  {
   "cell_type": "code",
   "execution_count": null,
   "id": "bd23ba6d-404e-427e-84ee-e1a593c711db",
   "metadata": {},
   "outputs": [],
   "source": [
    "result = []\n",
    "for e, row in pdf.iterrows():\n",
    "    for k in slices:\n",
    "        _vtx = vtx_df[(vtx_df.featid == e) & (vtx_df.slice_id == k)]\n",
    "        \n",
    "        coords = [(row.ctr_x, row.ctr_y)]\n",
    "        \n",
    "        if _vtx.shape[0] < 1:\n",
    "            for c in range(slices[k][0], slices[k][1] + 1):\n",
    "                y = row.ctr_y + (dist * np.cos(np.radians(c)))\n",
    "                x = row.ctr_x + (dist * np.sin(np.radians(c)))\n",
    "                \n",
    "                coords.append((x, y))\n",
    "        \n",
    "        _i = 0\n",
    "        for i, r in _vtx.iterrows():\n",
    "            if not _i:\n",
    "                if r.azimute > slices[k][0]:\n",
    "                    # Second point has azimute equal to minazimute\n",
    "                    y = row.ctr_y + (dist * np.cos(np.radians(slices[k][0])))\n",
    "                    x = row.ctr_x + (dist * np.sin(np.radians(slices[k][0])))\n",
    "                    \n",
    "                    coords.append((x, y))\n",
    "            \n",
    "            coords.append((r.new_x, r.new_y))\n",
    "            \n",
    "            if _i and _i + 1 == _vtx.shape[0]:\n",
    "                if r.azimute < slices[k][1]:\n",
    "                    y = row.ctr_y + (dist * np.cos(np.radians(slices[k][1])))\n",
    "                    x = row.ctr_x + (dist * np.sin(np.radians(slices[k][1])))\n",
    "                    \n",
    "                    coords.append((x, y))\n",
    "            \n",
    "            _i += 1\n",
    "        \n",
    "        coords.append((row.ctr_x, row.ctr_y))\n",
    "        \n",
    "        poly = create_polygon(coords, api='shapely')\n",
    "        \n",
    "        d = {\n",
    "            \"geometry\": poly, \"featid\" : e,\n",
    "            \"slice\" : f\"{str(slices[k][0])} - {str(slices[k][1])}\"\n",
    "        }\n",
    "        \n",
    "        for attr in pdf.columns.values:\n",
    "            if attr == \"geometry\": continue\n",
    "            \n",
    "            d[attr] = row[attr]\n",
    "        \n",
    "        result.append(d)"
   ]
  },
  {
   "cell_type": "code",
   "execution_count": null,
   "id": "eda85132-9b0e-4bc9-8b04-2e6802febafb",
   "metadata": {},
   "outputs": [],
   "source": [
    "res_df = df_to_geodf(result, 'geometry', epsg)"
   ]
  },
  {
   "cell_type": "code",
   "execution_count": null,
   "id": "635f6154-46fe-4a7d-a68d-a59726772a6b",
   "metadata": {},
   "outputs": [],
   "source": [
    "df_to_shp(res_df, outshp)"
   ]
  },
  {
   "cell_type": "code",
   "execution_count": null,
   "id": "dc98d4c1-239f-436f-b0d0-a1165705e2f2",
   "metadata": {},
   "outputs": [],
   "source": []
  }
 ],
 "metadata": {
  "kernelspec": {
   "display_name": "Python 3 (ipykernel)",
   "language": "python",
   "name": "python3"
  },
  "language_info": {
   "codemirror_mode": {
    "name": "ipython",
    "version": 3
   },
   "file_extension": ".py",
   "mimetype": "text/x-python",
   "name": "python",
   "nbconvert_exporter": "python",
   "pygments_lexer": "ipython3",
   "version": "3.8.10"
  }
 },
 "nbformat": 4,
 "nbformat_minor": 5
}
