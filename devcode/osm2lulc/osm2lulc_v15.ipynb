{
 "cells": [
  {
   "cell_type": "code",
   "execution_count": null,
   "id": "74ba06ac-6106-4d36-9e2a-7a9e2de6ad4c",
   "metadata": {},
   "outputs": [],
   "source": [
    "from glass.ete.otol.pg import osm_to_lulc\n",
    "from glass.prop.prj import get_epsg\n",
    "import datetime\n",
    "import os\n",
    "\n",
    "osm = '/mnt/d/osm2lulc02/osmdata/osm_terceira.xml'\n",
    "\n",
    "nomenclature = 'clc'\n",
    "\n",
    "refraster = '/mnt/d/osm2lulc02/lmt/rst_terceira.tif'\n",
    "\n",
    "result = '/mnt/d/osm2lulc02/lulc_fmosm/terceira.gpkg'\n",
    "\n",
    "db = '/mnt/d/osm2lulc02/lulc_fmosm/terceira_26062023.sql'\n",
    "\n",
    "ws = '/mnt/d/osm2lulc02/debug'\n",
    "\n",
    "time_a = datetime.datetime.now().replace(microsecond=0)\n",
    "\n",
    "res, logs = osm_to_lulc(\n",
    "    osm, nomenclature, get_epsg(refraster),\n",
    "    result, savedb=db, tmpfld=ws\n",
    ")\n",
    "\n",
    "time_b = datetime.datetime.now().replace(microsecond=0)\n",
    "\n",
    "print(time_b - time_a)"
   ]
  },
  {
   "cell_type": "code",
   "execution_count": null,
   "id": "7219d6b0-f5f3-42b1-8fcf-5b398c835bb3",
   "metadata": {},
   "outputs": [],
   "source": [
    "shp = '/mnt/d/osm2lulc02/lulc_fmosm/terceira.gpkg'\n",
    "\n",
    "lyr = 'osmtolulc_v2'\n",
    "\n",
    "col = 'lulc'\n",
    "\n",
    "osm_db = 'osm_terceira'"
   ]
  },
  {
   "cell_type": "code",
   "execution_count": null,
   "id": "534deb28-3174-47c3-9cb7-be2ee3250e51",
   "metadata": {},
   "outputs": [],
   "source": [
    "from glass.ete.otol.tools import classes_priority\n",
    "from glass.sql.q import q_to_obj\n",
    "import datetime"
   ]
  },
  {
   "cell_type": "code",
   "execution_count": null,
   "id": "0af227d3-ebeb-40d0-8ddf-6379788770f0",
   "metadata": {},
   "outputs": [],
   "source": [
    "time_a = datetime.datetime.now().replace(microsecond=0)\n",
    "\n",
    "dif = q_to_obj(osm_db, (\n",
    "    \"SELECT tbla.fid AS fid_a, tbla.geom AS geom_a, \"\n",
    "    \"tblb.fid AS fid_b, tblb.geom AS geom_b \"\n",
    "    \"FROM tblcls_28 AS tbla \"\n",
    "    \"LEFT JOIN tblcls_86 AS tblb \"\n",
    "    \"ON ST_Intersects(tbla.geom, tblb.geom)\"\n",
    "))\n",
    "\n",
    "time_b = datetime.datetime.now().replace(microsecond=0)\n",
    "\n",
    "print(time_b - time_a)"
   ]
  },
  {
   "cell_type": "code",
   "execution_count": null,
   "id": "329362a3-1fd1-4a9a-88ba-08535e3442d1",
   "metadata": {},
   "outputs": [],
   "source": [
    "time_a = datetime.datetime.now().replace(microsecond=0)\n",
    "\n",
    "dif = q_to_obj(osm_db, (\n",
    "    \"SELECT tbla.fid AS fid_a, tbla.geom AS geom_a, \"\n",
    "    \"tblb.fid AS fid_b, tblb.geom AS geom_b, \"\n",
    "    \"CASE \"\n",
    "    \t\"WHEN tblb.fid IS NOT NULL THEN \"\n",
    "    \t\"ST_Difference(tbla.geom, tblb.geom) \"\n",
    "    \t\"ELSE NULL \"\n",
    "    \"END AS difgeom \"\n",
    "    \"FROM tblcls_28 AS tbla \"\n",
    "    \"LEFT JOIN tblcls_86 AS tblb \"\n",
    "    \"ON ST_Intersects(tbla.geom, tblb.geom)\"\n",
    "))\n",
    "\n",
    "time_b = datetime.datetime.now().replace(microsecond=0)\n",
    "\n",
    "print(time_b - time_a)"
   ]
  },
  {
   "cell_type": "code",
   "execution_count": null,
   "id": "a1150b71-389f-4bc7-ba3a-655760ecd232",
   "metadata": {},
   "outputs": [],
   "source": [
    "order_cls = classes_priority(2)"
   ]
  },
  {
   "cell_type": "code",
   "execution_count": null,
   "id": "fa12c408-a0eb-41f9-863a-19a6df5aea73",
   "metadata": {},
   "outputs": [],
   "source": [
    "order_cls"
   ]
  },
  {
   "cell_type": "code",
   "execution_count": null,
   "id": "44c02181-50a9-48eb-bcca-f95737e161a8",
   "metadata": {},
   "outputs": [],
   "source": [
    "from glass.it.db import gpkg_lyr_attr_to_psql"
   ]
  },
  {
   "cell_type": "code",
   "execution_count": null,
   "id": "d5fbc9fb-e664-4209-bdff-f4c10f06fab1",
   "metadata": {},
   "outputs": [],
   "source": [
    "gpkg_lyr_attr_to_psql(shp, lyr, col, osm_db, 'tblcls')"
   ]
  },
  {
   "cell_type": "code",
   "execution_count": null,
   "id": "0db6a939-3cd6-4e01-b895-353f0c429196",
   "metadata": {},
   "outputs": [],
   "source": [
    "from glass.ete.otol.tools import module_osmtags\n",
    "\n",
    "tags = module_osmtags(2)"
   ]
  },
  {
   "cell_type": "code",
   "execution_count": null,
   "id": "7c4d759e-17a6-45f4-a3d1-9514523ce30c",
   "metadata": {},
   "outputs": [],
   "source": [
    "tags[tags.name == 'roads'].lulc_id.unique()"
   ]
  },
  {
   "cell_type": "code",
   "execution_count": null,
   "id": "92810b08-4400-4041-bd3d-e99035593cb4",
   "metadata": {},
   "outputs": [],
   "source": [
    "tags.name.unique()"
   ]
  },
  {
   "cell_type": "code",
   "execution_count": null,
   "id": "58014ae4-ebaf-42ee-a390-19bce7d2a59c",
   "metadata": {},
   "outputs": [],
   "source": [
    "tags[\n",
    "    (tags['value'] == 'yes') &\n",
    "    (tags['key'] == 'building')\n",
    "]"
   ]
  },
  {
   "cell_type": "code",
   "execution_count": null,
   "id": "e4d51d9f-4c41-46e2-b539-a6a221bd7efb",
   "metadata": {
    "tags": []
   },
   "outputs": [],
   "source": [
    "from glass.ete.osm2lulc.grs import osm_to_lulc\n",
    "from glass.ete.osm2lulc.utils import record_time_consumed\n",
    "import datetime\n",
    "import os\n",
    "from glass.pys.oss import fprop, mkdir\n",
    "from glass.pys.tm import now_as_str"
   ]
  },
  {
   "cell_type": "code",
   "execution_count": null,
   "id": "3e6c99db-0c93-4379-9810-a8b2c8be1be5",
   "metadata": {
    "tags": []
   },
   "outputs": [],
   "source": [
    "time_a = datetime.datetime.now().replace(microsecond=0)\n",
    "\n",
    "ws = mkdir(os.path.join(\n",
    "    os.path.dirname(osm),\n",
    "    fprop(result, 'fn')\n",
    "), overwrite=True)\n",
    "\n",
    "shp, time_check = osm_to_lulc(\n",
    "    osm, nomenclature, refraster,\n",
    "    result, tmpfld=ws,\n",
    "    overwrite=True, savedb=db\n",
    ")\n",
    "\n",
    "time_b = datetime.datetime.now().replace(microsecond=0)\n",
    "    \n",
    "# Record time consumed in xlsx table\n",
    "record_time_consumed(time_check, os.path.join(\n",
    "    os.path.dirname(result),\n",
    "    fprop(result, 'fn') + '.xlsx'\n",
    "))\n",
    "\n",
    "print(time_b - time_a)"
   ]
  },
  {
   "cell_type": "code",
   "execution_count": null,
   "id": "eff80bbb-b759-497b-94e0-491374a3ed87",
   "metadata": {},
   "outputs": [],
   "source": []
  }
 ],
 "metadata": {
  "kernelspec": {
   "display_name": "Python 3 (ipykernel)",
   "language": "python",
   "name": "python3"
  },
  "language_info": {
   "codemirror_mode": {
    "name": "ipython",
    "version": 3
   },
   "file_extension": ".py",
   "mimetype": "text/x-python",
   "name": "python",
   "nbconvert_exporter": "python",
   "pygments_lexer": "ipython3",
   "version": "3.10.6"
  }
 },
 "nbformat": 4,
 "nbformat_minor": 5
}
