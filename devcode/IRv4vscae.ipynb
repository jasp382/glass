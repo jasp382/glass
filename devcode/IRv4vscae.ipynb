{
 "cells": [
  {
   "cell_type": "code",
   "execution_count": 1,
   "id": "36d56956-302e-4fa7-9084-fbf0aeaf8e64",
   "metadata": {},
   "outputs": [],
   "source": [
    "import os\n",
    "import subprocess\n",
    "import re\n",
    "import math\n",
    "import pandas as pd\n",
    "import numpy as np\n",
    "\n",
    "from glass.rd.shp import shp_to_obj\n",
    "from glass.wt.shp import df_to_shp\n",
    "\n",
    "from glass.wenv.grs import run_grass\n",
    "\n",
    "from glass.prop.prj imporshp_epsg\n",
    "from glass.pys.oss import fprop\n"
   ]
  },
  {
   "cell_type": "code",
   "execution_count": 2,
   "id": "6742ddcd-eaa4-4863-af33-99b12869d4a5",
   "metadata": {},
   "outputs": [],
   "source": [
    "#dados IRv4\n",
    "IRv4_shp='/home/alvaro/DGT/dados/treino/buffer_prodfacility_CBR.shp'\n",
    "#dados dgt\n",
    "cae_shp='/home/alvaro/DGT/dados/treino/AreasEdificadas2018_CBR.shp'\n",
    "\n",
    "# IRv4/CAE intersection result\n",
    "IRv4vscae='/home/alvaro/DGT/dados/treino/Irv4vscae.shp'\n",
    "\n",
    "#IRv4 com distancia aos dados cae\n",
    "IRv4_dist_cae='/home/alvaro/DGT/dados/treino/Irv4_dist_cae.shp'\n",
    "\n",
    "# final results\n",
    "IRv4_existe_cae ='/home/alvaro/DGT/dados/treino/AE_IRD.shp'\n",
    "IRv4_no_cae='/home/alvaro/DGT/dados/treino/AE_IRdnCAE.shp'"
   ]
  },
  {
   "cell_type": "code",
   "execution_count": 3,
   "id": "86a83e6d-e6d0-4615-8dbd-e414172bb146",
   "metadata": {},
   "outputs": [
    {
     "data": {
      "text/plain": [
       "'/tmp/tmpipwkerum'"
      ]
     },
     "execution_count": 3,
     "metadata": {},
     "output_type": "execute_result"
    }
   ],
   "source": [
    "# Start GRASS GIS Session\n",
    "\n",
    "# Define Reference Raster, in this case the ndci\n",
    "refshp= '/home/alvaro/DGT/lim_adminis/PT/Lim_PT.shp'\n",
    "outfolder='/home/alvaro/DGT/'\n",
    "\n",
    "epsg = shp_epsgshp)\n",
    "\n",
    "loc = 'pext'\n",
    "\n",
    "# Start GRASS GIS Session\n",
    "gb = run_grass(\n",
    "    outfolder, grassBIN='grass78', location=loc,\n",
    "    srs=epsg\n",
    ")\n",
    "import grass.script.setup as gsetup\n",
    "from grass.pygrass.modules import Module  # import grass modules\n",
    "\n",
    "# __flag = 'o' if not lmtExt else 'or'\n",
    "\n",
    "gsetup.init(gb, outfolder, loc, 'PERMANENT')"
   ]
  },
  {
   "cell_type": "code",
   "execution_count": 4,
   "id": "cb01f819-a24e-4d1a-8fc4-30e59200f20b",
   "metadata": {},
   "outputs": [],
   "source": [
    "# GRASS GIS Modules\n",
    "\n",
    "from glass.it.shp import shp_to_grs, grs_to_shp\n",
    "from glass.defs_grass import overlay_grs, dissolve_grs, add_column_grs, distance_grs"
   ]
  },
  {
   "cell_type": "code",
   "execution_count": 5,
   "id": "d22d7345-7fe1-424c-a54b-7261b098d5c3",
   "metadata": {},
   "outputs": [
    {
     "name": "stderr",
     "output_type": "stream",
     "text": [
      "WARNING: Vector map <buffer_prodfacility_CBR> already exists and will be\n",
      "         overwritten\n",
      "WARNING: Vector map <AreasEdificadas2018_CBR> already exists and will be\n",
      "         overwritten\n"
     ]
    }
   ],
   "source": [
    "# Import data\n",
    "\n",
    "IRv4_grs=shp_to_grs(IRv4_shp, fprop(IRv4_shp, 'fn'))\n",
    "cae_grs=shp_to_grs(cae_shp, fprop(cae_shp, 'fn'))"
   ]
  },
  {
   "cell_type": "code",
   "execution_count": 6,
   "id": "1d2890db-86b9-4c91-a73f-2a58dcade3cb",
   "metadata": {},
   "outputs": [
    {
     "name": "stderr",
     "output_type": "stream",
     "text": [
      "WARNING: Vector map <union_Irv4cae> already exists and will be overwritten\n"
     ]
    }
   ],
   "source": [
    "# Union Irv4 CAE\n",
    "IRv4cae=overlay_grs(IRv4_grs, cae_grs, 'or', 'union_Irv4cae')"
   ]
  },
  {
   "cell_type": "code",
   "execution_count": 7,
   "id": "32fe4843-d335-45bf-9a9f-665c1494a4e2",
   "metadata": {},
   "outputs": [],
   "source": [
    "#add coluna de atributos\n",
    "\n",
    "dist={'dist_cae':'DOUBLE PRECISION'}\n",
    "newIRv4_grs=add_column_grs(IRv4_grs, dist)"
   ]
  },
  {
   "cell_type": "code",
   "execution_count": 8,
   "id": "bf858752-1258-4acd-a1a4-b4c177ec014d",
   "metadata": {},
   "outputs": [],
   "source": [
    "# distance Irv4 CAE\n",
    "dist_IRv4cae=distance_grs(newIRv4_grs, cae_grs, 'dist', 'dist_cae')"
   ]
  },
  {
   "cell_type": "code",
   "execution_count": 9,
   "id": "27629086-b085-46e5-8ff0-beb5c5f24d3f",
   "metadata": {},
   "outputs": [],
   "source": [
    "# Export Data\n",
    "IRv4distcae=grs_to_shp(dist_IRv4cae, IRv4_dist_cae, 'area')\n",
    "\n",
    "IRv4_and_cae=grs_to_shp(IRv4cae, IRv4vscae, 'area')"
   ]
  },
  {
   "cell_type": "code",
   "execution_count": 10,
   "id": "32e23b8f-0866-4078-9050-93855da839e7",
   "metadata": {},
   "outputs": [],
   "source": [
    "##read a shapefile and convert to geodataframe \n",
    "\n",
    "gdf=shp_to_obj(IRv4_and_cae)\n",
    "\n",
    "IRv4df=shp_to_obj(IRv4distcae)"
   ]
  },
  {
   "cell_type": "code",
   "execution_count": 11,
   "id": "1dc15d1d-554f-4c0f-9ca7-156f278f171e",
   "metadata": {},
   "outputs": [],
   "source": [
    "gdf = gdf[~gdf.a_cat.isna()]\n",
    "\n",
    "gdf['a_cat'] = gdf.a_cat.astype(int)\n",
    "gdf['b_cat'] = gdf.b_cat.fillna(value=0)\n",
    "gdf['b_cat'] = gdf.b_cat.astype(int)"
   ]
  },
  {
   "cell_type": "code",
   "execution_count": 12,
   "id": "791afb51-f4bc-4926-b6dd-fc95942ee454",
   "metadata": {},
   "outputs": [],
   "source": [
    "# Count how many times we have the same a_cat\n",
    "\n",
    "catcount = pd.DataFrame({\n",
    "    'countcat' : gdf.groupby(['a_cat'])['a_cat'].agg('count')\n",
    "}).reset_index()\n",
    "\n",
    "catcount.rename(columns={'a_cat': 'acaty'}, inplace=True)"
   ]
  },
  {
   "cell_type": "code",
   "execution_count": 13,
   "id": "819cca84-02ed-4ebd-980a-27152fbfa2ea",
   "metadata": {},
   "outputs": [],
   "source": [
    "# Join\n",
    "gdf = gdf.merge(catcount, how='inner', left_on='a_cat', right_on='acaty')"
   ]
  },
  {
   "cell_type": "code",
   "execution_count": 14,
   "id": "49600231-b5a9-40f3-9f40-41f84d000cf5",
   "metadata": {},
   "outputs": [],
   "source": [
    "# Get classes\n",
    "gdf['fcat'] = -1\n",
    "\n",
    "gdf['fcat'] = np.where(\n",
    "    (gdf.countcat == 1) & (gdf.b_cat == 0),\n",
    "    0, gdf.fcat\n",
    ")\n",
    "\n",
    "gdf['fcat'] = np.where(\n",
    "    (gdf.countcat == 1) & (gdf.b_cat > 0),\n",
    "    1, gdf.fcat\n",
    ")\n",
    "\n",
    "gdf['fcat'] = np.where(\n",
    "    gdf.countcat > 1, \n",
    "    2, gdf.fcat\n",
    ")\n"
   ]
  },
  {
   "cell_type": "code",
   "execution_count": 15,
   "id": "877ea9eb-a5d7-46a1-83a5-766390bea85d",
   "metadata": {},
   "outputs": [],
   "source": [
    "fdf = pd.DataFrame({\n",
    "    'existcae' : gdf.groupby([\"a_cat\"])['fcat'].agg('min')\n",
    "}).reset_index()"
   ]
  },
  {
   "cell_type": "code",
   "execution_count": 16,
   "id": "fedb9e67-4840-4f30-b6fe-b426ffb2b7ab",
   "metadata": {},
   "outputs": [],
   "source": [
    "IRv4df['cat'] = IRv4df.index + 1\n",
    "\n",
    "#junçao dos dados do IRv4 com os dados do grau de existencia\n",
    "IRv4df = IRv4df.merge(fdf, how='left', left_on='cat', right_on='a_cat')\n"
   ]
  },
  {
   "cell_type": "code",
   "execution_count": 17,
   "id": "5db154d1-98c7-443b-8966-527201a3bc20",
   "metadata": {},
   "outputs": [],
   "source": [
    "\n",
    "IRv4df.rename(columns={\n",
    "    'cat' : 'id_obj', 'cat_' : 'id_IRv4'\n",
    "}, inplace=True)\n",
    "\n",
    "IRv4df['fonte']    = 'IRv4'\n",
    "IRv4df['classuos'] = '1211'\n",
    "IRv4df['dist_cae'] = IRv4df.dist_cae.fillna(value=0)\n",
    "IRv4df['existcae'] = IRv4df.existcae.fillna(value=-1)\n",
    "IRv4df['existcae'] = IRv4df.existcae.astype(int)\n",
    "IRv4df['areaha']   = IRv4df.geometry.area / 10000\n",
    "\n",
    "IRv4df.drop(['a_cat'], axis=1, inplace=True)\n"
   ]
  },
  {
   "cell_type": "code",
   "execution_count": 18,
   "id": "b4d71777-ae67-4f0c-8eaf-d05722054c78",
   "metadata": {},
   "outputs": [],
   "source": [
    "#seleção de atributos do conjunto de dados do IRv4df\n",
    "resultado_1=IRv4df[['id_obj','id_IRv4','geometry', 'fonte', 'classuos', 'existcae', 'areaha']]"
   ]
  },
  {
   "cell_type": "code",
   "execution_count": 20,
   "id": "95670ca2-ac40-4a7a-9465-c487108ef3b5",
   "metadata": {},
   "outputs": [
    {
     "data": {
      "text/plain": [
       "'/home/alvaro/DGT/dados/treino/AE_IRD.shp'"
      ]
     },
     "execution_count": 20,
     "metadata": {},
     "output_type": "execute_result"
    }
   ],
   "source": [
    "#export to shapefille\n",
    "df_to_shp(resultado_1, IRv4_existe_cae)"
   ]
  },
  {
   "cell_type": "code",
   "execution_count": 21,
   "id": "a3f102c0-ad26-4f5d-ae69-4c922ef07d0b",
   "metadata": {},
   "outputs": [],
   "source": [
    "# seleção de das areas nao incluidas na CAE\n",
    "\n",
    "no_cae=IRv4df[(IRv4df[\"existcae\"]==0)]\n",
    "no_cae=no_cae.reset_index()\n",
    "\n",
    "no_cae['id_n_cae'] = no_cae.index + 1\n"
   ]
  },
  {
   "cell_type": "code",
   "execution_count": 22,
   "id": "3ec2594b-8ed5-4d8e-bcb1-63d18d919192",
   "metadata": {},
   "outputs": [],
   "source": [
    "resultado_2=no_cae[['id_n_cae', 'id_obj','id_IRv4','geometry', 'fonte', 'classuos', 'areaha', 'dist_cae']]"
   ]
  },
  {
   "cell_type": "code",
   "execution_count": 24,
   "id": "1bebe993-dc2d-44a3-bda5-29a89bc7b039",
   "metadata": {},
   "outputs": [
    {
     "data": {
      "text/plain": [
       "'/home/alvaro/DGT/dados/treino/AE_IRdnCAE.shp'"
      ]
     },
     "execution_count": 24,
     "metadata": {},
     "output_type": "execute_result"
    }
   ],
   "source": [
    "#export to shapefille\n",
    "df_to_shp(resultado_2, IRv4_no_cae)"
   ]
  },
  {
   "cell_type": "code",
   "execution_count": null,
   "id": "3bde2eab-40d0-42ba-9cd8-2ceb7b1d2bbd",
   "metadata": {},
   "outputs": [],
   "source": []
  }
 ],
 "metadata": {
  "kernelspec": {
   "display_name": "Python 3 (ipykernel)",
   "language": "python",
   "name": "python3"
  },
  "language_info": {
   "codemirror_mode": {
    "name": "ipython",
    "version": 3
   },
   "file_extension": ".py",
   "mimetype": "text/x-python",
   "name": "python",
   "nbconvert_exporter": "python",
   "pygments_lexer": "ipython3",
   "version": "3.8.10"
  }
 },
 "nbformat": 4,
 "nbformat_minor": 5
}
