{
 "cells": [
  {
   "cell_type": "markdown",
   "id": "2c26735d-46d4-4edc-a3bd-5e91a7ff8ce4",
   "metadata": {},
   "source": [
    "## Normalize variables in Feature class"
   ]
  },
  {
   "cell_type": "code",
   "execution_count": null,
   "id": "9e542bfe-5ab9-46f2-80d5-15d242415946",
   "metadata": {},
   "outputs": [],
   "source": [
    "shp = '/mnt/e/bestevus/findevu.gdb/elegiveis/areas_eleg'\n",
    "\n",
    "idcol = 'ffid'\n",
    "\n",
    "rules = {\n",
    "    'file'    : '/mnt/e/bestevus/regras_normalizacao.xlsx',\n",
    "    'sheet'   : 'regras_v4',\n",
    "    'shpcol'  : 'coluna',\n",
    "    'method'  : 'method',\n",
    "    'goaldir' : 'goaldirection'\n",
    "}\n",
    "\n",
    "oscore = 'score'\n",
    "\n",
    "oshp = '/mnt/e/bestevus/elegs_maxscores.gpkg'"
   ]
  },
  {
   "cell_type": "code",
   "execution_count": null,
   "id": "80cfdb49-1c26-4966-ae4a-f84b4c3836a1",
   "metadata": {},
   "outputs": [],
   "source": [
    "from glass.rd import tbl_to_obj\n",
    "from glass.rd.shp import shp_to_obj\n",
    "from glass.wt.shp import df_to_shp"
   ]
  },
  {
   "cell_type": "code",
   "execution_count": null,
   "id": "ee9c76a2-fd86-4482-8a84-a4ce375361a7",
   "metadata": {},
   "outputs": [],
   "source": [
    "df_r = tbl_to_obj(rules['file'], sheet=rules['sheet'])\n",
    "\n",
    "shpdf = shp_to_obj(shp)"
   ]
  },
  {
   "cell_type": "code",
   "execution_count": null,
   "id": "f709af8d-4353-4b86-a966-5dbd7f06b1d6",
   "metadata": {},
   "outputs": [],
   "source": [
    "resdf = shpdf[[idcol, 'geometry']]"
   ]
  },
  {
   "cell_type": "code",
   "execution_count": null,
   "id": "7a7a3146-26b2-4234-b30b-55de669ef217",
   "metadata": {},
   "outputs": [],
   "source": [
    "resdf[oscore] = 0\n",
    "\n",
    "for i, r in df_r.iterrows():\n",
    "    col  = r[rules['shpcol']]\n",
    "    meth = r[rules['method']]\n",
    "    gdir = r[rules['goaldir']]\n",
    "\n",
    "    if meth == 'range' and gdir == 'max':\n",
    "        resdf[col] = (shpdf[col] - shpdf[col].min()) / (shpdf[col].max() - shpdf[col].min())\n",
    "\n",
    "    elif meth == 'range' and gdir == 'min':\n",
    "        resdf[col] = (shpdf[col].max() - shpdf[col]) / (shpdf[col].max() - shpdf[col].min())\n",
    "\n",
    "    elif meth == 'max' and gdir == 'max':\n",
    "        resdf[col] = shpdf[col] / shpdf[col].max()\n",
    "\n",
    "    else:\n",
    "        resdf[col] = 1 - (shpdf[col] / shpdf[col].max())\n",
    "\n",
    "    resdf[oscore] = resdf[oscore] + resdf[col]"
   ]
  },
  {
   "cell_type": "code",
   "execution_count": null,
   "id": "aa168d23-b4a2-4f99-a2e7-cbc4c6febb4d",
   "metadata": {},
   "outputs": [],
   "source": [
    "df_to_shp(resdf, oshp)"
   ]
  },
  {
   "cell_type": "code",
   "execution_count": null,
   "id": "94d48913-1662-4771-9340-f9c8b0b7507e",
   "metadata": {},
   "outputs": [],
   "source": [
    "df_r"
   ]
  },
  {
   "cell_type": "code",
   "execution_count": null,
   "id": "093495e8-e418-4f42-a617-ad5ef5d79c8f",
   "metadata": {},
   "outputs": [],
   "source": []
  }
 ],
 "metadata": {
  "kernelspec": {
   "display_name": "Python 3 (ipykernel)",
   "language": "python",
   "name": "python3"
  },
  "language_info": {
   "codemirror_mode": {
    "name": "ipython",
    "version": 3
   },
   "file_extension": ".py",
   "mimetype": "text/x-python",
   "name": "python",
   "nbconvert_exporter": "python",
   "pygments_lexer": "ipython3",
   "version": "3.8.10"
  }
 },
 "nbformat": 4,
 "nbformat_minor": 5
}
