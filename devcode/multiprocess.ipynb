{
 "cells": [
  {
   "cell_type": "code",
   "execution_count": null,
   "id": "59c2ddd2-3990-4752-851a-d2b57842db2f",
   "metadata": {},
   "outputs": [],
   "source": [
    "import multiprocessing as mp\n",
    "from glass.pys.oss import lst_ff"
   ]
  },
  {
   "cell_type": "code",
   "execution_count": null,
   "id": "a812b795-27a0-4917-987b-2a1e04c3f6a4",
   "metadata": {},
   "outputs": [],
   "source": [
    "rsts = lst_ff('/mnt/d/autocls01/dadosfrancisco/', file_format='.tif')"
   ]
  },
  {
   "cell_type": "code",
   "execution_count": null,
   "id": "e24c8830-87dc-4533-a7f9-069785d05ca1",
   "metadata": {},
   "outputs": [],
   "source": [
    "nproc = 2\n",
    "dimlist = len(rsts) / nproc\n",
    "\n",
    "dimlist = int(dimlist) if dimlist == int(dimlist) else int(dimlist) + 1"
   ]
  },
  {
   "cell_type": "code",
   "execution_count": null,
   "id": "43f3a239-ca22-4d5c-ac7d-b2068822719a",
   "metadata": {},
   "outputs": [],
   "source": [
    "process_data = []\n",
    "for e in range(0, nproc*dimlist, dimlist):\n",
    "    process_data.append(rsts[e:e+dimlist])"
   ]
  },
  {
   "cell_type": "code",
   "execution_count": null,
   "id": "7d9f996e-dcaf-4cf6-8057-18b0c225b3ee",
   "metadata": {},
   "outputs": [],
   "source": [
    "rsts"
   ]
  },
  {
   "cell_type": "code",
   "execution_count": null,
   "id": "ab98ee37-9cca-4460-a3ec-e204cf847905",
   "metadata": {},
   "outputs": [],
   "source": [
    "process_data"
   ]
  },
  {
   "cell_type": "code",
   "execution_count": null,
   "id": "ed05fc5e-e663-4e4a-8def-963b1ed76b95",
   "metadata": {},
   "outputs": [],
   "source": [
    "def create_fishnet(th, raster):\n",
    "    print(f'Process {str(th)} - {raster}')\n",
    "\n",
    "def run_multiproc(th, r):\n",
    "    for _r in r:\n",
    "        create_fishnet(th, _r)\n",
    "\n",
    "thrds = []\n",
    "\n",
    "for i in range(len(process_data)):\n",
    "    processo = mp.Process(\n",
    "        target=run_multiproc, name=f'th-{str(i+1)}',\n",
    "        args=(i+1, process_data[i])\n",
    "    )\n",
    "\n",
    "    thrds.append(processo)\n",
    "\n",
    "for p in thrds:\n",
    "    p.start()\n",
    "\n",
    "for p in thrds:\n",
    "    p.join()\n",
    "\n",
    "print('terminou')"
   ]
  },
  {
   "cell_type": "code",
   "execution_count": null,
   "id": "f5750b4c-454a-43ec-9e2d-7786fdf34075",
   "metadata": {},
   "outputs": [],
   "source": [
    "24/4"
   ]
  },
  {
   "cell_type": "code",
   "execution_count": null,
   "id": "8fcca072-16b3-44f3-aef4-f98c5faebd3d",
   "metadata": {},
   "outputs": [],
   "source": []
  }
 ],
 "metadata": {
  "kernelspec": {
   "display_name": "Python 3 (ipykernel)",
   "language": "python",
   "name": "python3"
  },
  "language_info": {
   "codemirror_mode": {
    "name": "ipython",
    "version": 3
   },
   "file_extension": ".py",
   "mimetype": "text/x-python",
   "name": "python",
   "nbconvert_exporter": "python",
   "pygments_lexer": "ipython3",
   "version": "3.8.10"
  }
 },
 "nbformat": 4,
 "nbformat_minor": 5
}
