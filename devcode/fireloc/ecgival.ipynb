{
 "cells": [
  {
   "cell_type": "markdown",
   "metadata": {},
   "source": [
    "### Cálculo visibilidade a partir de um conjunto de pontos de interesse ###\n",
    "\n",
    "1 - Obter grelha de referência;\n",
    "\n",
    "2 - Iniciar processo iterativo - para cada célula na grelha de referência;\n",
    "\n",
    "    2.1 - Obter pontos de observação da célula em causa;\n",
    "    \n",
    "    2.2 - Expandir célula em causa, aumentando a sua área em 20 Km, em todas as direcções;\n",
    "    \n",
    "    2.3 - Obter DEM para a área obtida em 2.2;\n",
    "    \n",
    "    2.4 - Cálculo da visilidade para cada um dos pontos obtidos;\n",
    "    \n",
    "    2.5 - Agregação de todos os rasters de visibilidade num só;\n",
    "    \n",
    "    2.6 - Eliminação de todos os rasters temporários."
   ]
  },
  {
   "cell_type": "code",
   "execution_count": null,
   "metadata": {},
   "outputs": [],
   "source": [
    "API_MAIN_URL = 'http://172.16.3.31/api/geodb'\n",
    "#API_MAIN_URL = 'http://127.0.0.1:8000/api/geodb'\n",
    "\n",
    "CREDENTIALS = ('kurosaki', 'zangetsu++0012')\n",
    "\n",
    "obs_dataset = 'obs_fire_clc18'\n",
    "dem_dataset = 'dem888_10'\n",
    "\n",
    "CELL_DIM= 20000\n",
    "\n",
    "workfolder = '/home/jasp/mrgis/obs_fire_clc18'"
   ]
  },
  {
   "cell_type": "code",
   "execution_count": null,
   "metadata": {},
   "outputs": [],
   "source": [
    "import pandas as pd\n",
    "import os\n",
    "from osgeo import ogr\n",
    "from glass.pys.web import data_from_get, data_from_post, get_file\n",
    "from glass.pys.zzip import unzip\n",
    "from glass.g.rd.shp import shp_to_obj\n",
    "from glass.g.gobj import create_polygon\n",
    "from glass.pys.oss import lst_ff"
   ]
  },
  {
   "cell_type": "code",
   "execution_count": null,
   "metadata": {},
   "outputs": [],
   "source": [
    "# Get ref grid\n",
    "\n",
    "refgrid = pd.DataFrame(data_from_get(\n",
    "    \"{}/grid/\".format(API_MAIN_URL), auth=CREDENTIALS\n",
    "))"
   ]
  },
  {
   "cell_type": "code",
   "execution_count": null,
   "metadata": {},
   "outputs": [],
   "source": [
    "results = lst_ff(workfolder, file_format='.tif', rfilename=True)"
   ]
  },
  {
   "cell_type": "code",
   "execution_count": null,
   "metadata": {},
   "outputs": [],
   "source": [
    "results = pd.DataFrame(results, columns=['filename'])"
   ]
  },
  {
   "cell_type": "code",
   "execution_count": null,
   "metadata": {},
   "outputs": [],
   "source": [
    "results['name'] = results.filename.str.split('.', expand=True)[0]\n",
    "results['format'] = results.filename.str.split('.', expand=True)[1]\n",
    "results['jcellid'] = results.name.str.split('_', expand=True)[1].astype(int)"
   ]
  },
  {
   "cell_type": "code",
   "execution_count": null,
   "metadata": {},
   "outputs": [],
   "source": [
    "refgrid = refgrid.merge(results, how='left', left_on='cellid', right_on='jcellid')"
   ]
  },
  {
   "cell_type": "code",
   "execution_count": null,
   "metadata": {},
   "outputs": [],
   "source": [
    "refgrid = refgrid[refgrid.cellid != refgrid.jcellid]"
   ]
  },
  {
   "cell_type": "code",
   "execution_count": null,
   "metadata": {},
   "outputs": [],
   "source": [
    "refgrid.reset_index(inplace=True)"
   ]
  },
  {
   "cell_type": "code",
   "execution_count": null,
   "metadata": {},
   "outputs": [],
   "source": [
    "refgrid.drop(['index', 'filename', 'name', 'format', 'jcellid'], axis=1, inplace=True)"
   ]
  },
  {
   "cell_type": "code",
   "execution_count": null,
   "metadata": {},
   "outputs": [],
   "source": [
    "print(refgrid.shape)"
   ]
  },
  {
   "cell_type": "code",
   "execution_count": null,
   "metadata": {},
   "outputs": [],
   "source": [
    "refgrid.head(10)"
   ]
  },
  {
   "cell_type": "code",
   "execution_count": null,
   "metadata": {},
   "outputs": [],
   "source": [
    "refgrid = refgrid[refgrid.cellid == 183]\n",
    "\n",
    "cellid = refgrid.iloc[0].cellid\n",
    "print(cellid)\n",
    "\n",
    "geom   = refgrid.iloc[0].geom\n",
    "print(geom)"
   ]
  },
  {
   "cell_type": "code",
   "execution_count": null,
   "metadata": {},
   "outputs": [],
   "source": [
    "print({\n",
    "        \"dataset\" : obs_dataset,\n",
    "        \"geom\"    : geom,\n",
    "        \"epsg\"    : 3763\n",
    "    })"
   ]
  },
  {
   "cell_type": "code",
   "execution_count": null,
   "metadata": {},
   "outputs": [],
   "source": [
    "# Get Observation Points Dataset\n",
    "\n",
    "dataextract = data_from_post(\n",
    "    \"{}/getdata/\".format(API_MAIN_URL),\n",
    "    postdata={\n",
    "        \"dataset\" : obs_dataset,\n",
    "        \"geom\"    : geom,\n",
    "        \"epsg\"    : 3763\n",
    "    },\n",
    "    credentials=CREDENTIALS\n",
    ")\n",
    "\n",
    "obs_points = get_file(\"{}/download/{}/\".format(\n",
    "    API_MAIN_URL, dataextract['data']['token']\n",
    "), os.path.join(workfolder, 'obs_points.zip'), useWget=True)\n",
    "\n",
    "# Unzip obs points\n",
    "unzip(obs_points, workfolder)\n",
    "obs_shp = lst_ff(workfolder, file_format='.shp')[0]"
   ]
  },
  {
   "cell_type": "code",
   "execution_count": null,
   "metadata": {},
   "outputs": [],
   "source": [
    "# Expand Cell Area\n",
    "geom_env = ogr.CreateGeometryFromWkt(geom).GetEnvelope()\n",
    "\n",
    "geomexp = create_polygon([\n",
    "    (geom_env[0] - CELL_DIM, geom_env[3] + CELL_DIM),\n",
    "    (geom_env[1] + CELL_DIM, geom_env[3] + CELL_DIM),\n",
    "    (geom_env[1] + CELL_DIM, geom_env[2] - CELL_DIM),\n",
    "    (geom_env[0] - CELL_DIM, geom_env[2] - CELL_DIM),\n",
    "    (geom_env[0] - CELL_DIM, geom_env[3] + CELL_DIM)\n",
    "], api='ogr').ExportToWkt()\n",
    "\n",
    "print(geomexp)"
   ]
  },
  {
   "cell_type": "code",
   "execution_count": null,
   "metadata": {},
   "outputs": [],
   "source": [
    "# Get DEM\n",
    "\n",
    "dataextract = data_from_post(\n",
    "    \"{}/getdata/\".format(API_MAIN_URL),\n",
    "    postdata={\n",
    "        \"dataset\" : dem_dataset,\n",
    "        \"geom\"    : geomexp,\n",
    "        \"epsg\"    : 3763\n",
    "    },\n",
    "    credentials=CREDENTIALS\n",
    ")\n",
    "\n",
    "dem = get_file(\"{}/download/{}/\".format(\n",
    "    API_MAIN_URL, dataextract['data']['token']\n",
    "), os.path.join(workfolder, 'dem.tif'), useWget=True)"
   ]
  },
  {
   "cell_type": "code",
   "execution_count": null,
   "metadata": {},
   "outputs": [],
   "source": [
    "from glass.g.wenv.grs import run_grass"
   ]
  },
  {
   "cell_type": "code",
   "execution_count": null,
   "metadata": {},
   "outputs": [],
   "source": [
    "\n",
    "\n",
    "\n",
    "gw = workfolder\n",
    "    \n",
    "\n",
    "    \n",
    "# Start GRASS GIS Session\n",
    "import grass.script.setup as gsetup\n",
    "gsetup.init(gbase, gw, loc, 'PERMANENT')\n",
    "    \n",
    "from glass.dct.geo.torst   import rst_to_grs, grs_to_rst\n",
    "from glass.g.rst.surf import grs_viewshed\n",
    "from glass.g.rst.alg  import rstcalc\n",
    "\n",
    "grs_dem = rst_to_grs(dem, 'grs_dem', as_cmd=True)\n",
    "\n",
    "\n",
    "\n",
    "# Produce Viewshed for each obs point\n",
    "vl = []\n",
    "for idx, row in obs_df.iterrows():\n",
    "    vrst = grs_viewshed(\n",
    "        grs_dem, (row.geometry.x, row.geometry.y),\n",
    "        \"visrst_{}\".format(str(idx)),\n",
    "        max_dist=20000\n",
    "    )\n",
    "    \n",
    "    vl.append(vrst)\n",
    "    \n",
    "    if idx ==10:\n",
    "        break\n",
    "\n",
    "orst = rstcalc(\" + \".join(vl), 'joinvis', api='grass')\n",
    "\n",
    "frst = grs_to_rst(orst, os.path.join(workfolder, 'teste.tif'))"
   ]
  },
  {
   "cell_type": "code",
   "execution_count": null,
   "metadata": {},
   "outputs": [],
   "source": [
    "\n",
    "\n",
    "from glass.pys.web import data_from_get, data_from_post, get_file\n",
    "\n",
    "obs_points = get_file(\"https://fireloc.mat.uc.pt/download/{}/\".format(\n",
    "    API_MAIN_URL, dataextract['data']['token']\n",
    "), os.path.join(workfolder, 'obs_points.zip'), useWget=True)"
   ]
  },
  {
   "cell_type": "code",
   "execution_count": null,
   "metadata": {},
   "outputs": [],
   "source": []
  }
 ],
 "metadata": {
  "kernelspec": {
   "display_name": "Python 3",
   "language": "python",
   "name": "python3"
  },
  "language_info": {
   "codemirror_mode": {
    "name": "ipython",
    "version": 3
   },
   "file_extension": ".py",
   "mimetype": "text/x-python",
   "name": "python",
   "nbconvert_exporter": "python",
   "pygments_lexer": "ipython3",
   "version": "3.8.2"
  }
 },
 "nbformat": 4,
 "nbformat_minor": 4
}
