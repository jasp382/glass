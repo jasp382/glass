{
 "cells": [
  {
   "cell_type": "code",
   "execution_count": null,
   "metadata": {},
   "outputs": [],
   "source": [
    "import numpy               as np\n",
    "from geopandas             import GeoDataFrame\n",
    "from glass.rd          import tbl_to_obj\n",
    "from glass.g.mng.prj      import project\n",
    "from glass.wt              import obj_to_tbl\n",
    "from glass.g.dp.cg.obj import pntDf_to_convex_hull\n",
    "from glass.g.to.geom      import pnt_dfwxy_to_geodf\n",
    "from glass.wt.shp       import df_to_shp\n",
    "from glass.adv.floc.pntint import df_direct_intersection, df_lateral_intersection"
   ]
  },
  {
   "cell_type": "code",
   "execution_count": null,
   "metadata": {},
   "outputs": [],
   "source": [
    "contributions = r'F:\\fireloc\\tst_miranda\\pnt_obs_sample_date.shp'\n",
    "\n",
    "#declinacao = -(7 + (36/60.0))\n",
    "declinacao = 0\n",
    "\n",
    "col_direction = 'direct2'\n",
    "\n",
    "pnt_result  = r'F:\\fireloc\\tst_miranda\\fire_prediction3.shp'\n",
    "poly_result = r'F:\\fireloc\\tst_miranda\\fire_polygon3.shp'"
   ]
  },
  {
   "cell_type": "code",
   "execution_count": null,
   "metadata": {},
   "outputs": [],
   "source": [
    "pnts = tbl_to_obj(contributions)\n",
    "\n",
    "pnts = pnts[[col_direction, 'geometry']]\n",
    "\n",
    "pnts = project(pnts, None, 20790, inEPSG=3763, gisApi='pandas')\n",
    "\n",
    "pnts['x_coord'] = pnts.geometry.x\n",
    "pnts['y_coord'] = pnts.geometry.y\n",
    "pnts['relatio'] = 1\n",
    "pnts['fid']     = pnts.index\n",
    "\n",
    "pnts = pnts.merge(pnts, how='outer', left_on='relatio', right_on='relatio')\n",
    "pnts = pnts[pnts.fid_x < pnts.fid_y]\n",
    "\n",
    "pnts.drop(['geometry_x', 'geometry_y', 'relatio'], axis=1, inplace=True)\n",
    "\n",
    "pnts.rename(columns={\n",
    "    col_direction + '_x' : 'direcao_a_q', col_direction + '_y' : 'direcao_b_q',\n",
    "    'x_coord_x' : 'a_x', 'y_coord_x' : 'a_y', 'x_coord_y' : 'b_x', 'y_coord_y' : 'b_y'\n",
    "}, inplace=True)\n",
    "\n",
    "pnts['direcao_a_q'] = pnts['direcao_a_q'] + declinacao\n",
    "pnts['direcao_b_q'] = pnts['direcao_b_q'] + declinacao"
   ]
  },
  {
   "cell_type": "code",
   "execution_count": null,
   "metadata": {},
   "outputs": [],
   "source": [
    "pnts.head(100)"
   ]
  },
  {
   "cell_type": "code",
   "execution_count": null,
   "metadata": {},
   "outputs": [],
   "source": [
    "pnts = df_direct_intersection(\n",
    "    pnts, 'q', 'a_x', 'a_y', 'b_x', 'b_y',\n",
    "    'direcao_a_q', 'direcao_b_q'\n",
    ")\n",
    "\n",
    "pnts = df_lateral_intersection(\n",
    "    pnts, 'l_q', 'a_x', 'a_y', 'b_x', 'b_y',\n",
    "    'direcao_a_q', 'direcao_b_q'\n",
    ")"
   ]
  },
  {
   "cell_type": "code",
   "execution_count": null,
   "metadata": {},
   "outputs": [],
   "source": [
    "pnts['q_P'] = np.where((pnts.q_P == np.inf) | (pnts.q_P == -np.inf), pnts.l_q_P, pnts.q_P)\n",
    "pnts['q_M'] = np.where((pnts.q_M == np.inf) | (pnts.q_M == -np.inf), pnts.l_q_M, pnts.q_M)\n",
    "pnts.drop(['l_q_P', 'l_q_M'], axis=1, inplace=True)"
   ]
  },
  {
   "cell_type": "code",
   "execution_count": null,
   "metadata": {},
   "outputs": [],
   "source": [
    "print(pnts.shape)\n",
    "pnts = pnts[~pnts.isin([np.nan, np.inf, -np.inf]).any(1)]\n",
    "print(pnts.shape)"
   ]
  },
  {
   "cell_type": "code",
   "execution_count": null,
   "metadata": {},
   "outputs": [],
   "source": [
    "hull = ConvexHull(pnts[['q_M', 'q_P']])\n",
    "\n",
    "poly = geometry.Polygon([[\n",
    "    pnts.q_M.iloc[idx], pnts.q_P.iloc[idx]\n",
    "] for idx in hull.vertices])\n",
    "\n",
    "convex_df = GeoDataFrame(\n",
    "    [1], columns=['cat'],\n",
    "    crs='EPSG:20790',\n",
    "    geometry=[poly]\n",
    ")"
   ]
  },
  {
   "cell_type": "code",
   "execution_count": null,
   "metadata": {},
   "outputs": [],
   "source": [
    "if not poly_result:\n",
    "    import os\n",
    "    from glass.pys.oss import fprop\n",
    "    \n",
    "    poly_result = os.path.join(os.path.dirname(pnt_result), fprop(pnt_result, 'fn') + '_convex.shp')\n",
    "\n",
    "poly_result = pntDf_to_convex_hull(pnts, 'q_M', 'q_P', 20790, 3763)"
   ]
  },
  {
   "cell_type": "code",
   "execution_count": null,
   "metadata": {},
   "outputs": [],
   "source": [
    "convex_df.head(5)"
   ]
  },
  {
   "cell_type": "code",
   "execution_count": null,
   "metadata": {},
   "outputs": [],
   "source": [
    "pnts = pnt_dfwxy_to_geodf(pnts, 'q_M', 'q_P', 20790)\n",
    "pnts = project(pnts, None, 3763, inEPSG=20790, gisApi='pandas')\n",
    "\n",
    "convex_df = project(convex_df, None, 3763, inEPSG=20790, gisApi='pandas')\n",
    "\n",
    "df_to_shp(pnts, pnt_result)\n",
    "if not poly_result:\n",
    "    import os\n",
    "    from glass.pys.oss import fprop\n",
    "    \n",
    "    poly_result = os.path.join(os.path.dirname(pnt_result), fprop(pnt_result, 'fn') + '_convex.shp')\n",
    "\n",
    "df_to_shp(convex_df, poly_result)"
   ]
  },
  {
   "cell_type": "code",
   "execution_count": null,
   "metadata": {},
   "outputs": [],
   "source": []
  }
 ],
 "metadata": {
  "kernelspec": {
   "display_name": "Python 3",
   "language": "python",
   "name": "python3"
  },
  "language_info": {
   "codemirror_mode": {
    "name": "ipython",
    "version": 3
   },
   "file_extension": ".py",
   "mimetype": "text/x-python",
   "name": "python",
   "nbconvert_exporter": "python",
   "pygments_lexer": "ipython3",
   "version": "3.8.10"
  }
 },
 "nbformat": 4,
 "nbformat_minor": 4
}
