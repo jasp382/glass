{
 "cells": [
  {
   "cell_type": "markdown",
   "id": "35284d44-74e4-46a7-8d1a-080fc11594e0",
   "metadata": {},
   "source": [
    "### Test OSM2LULC"
   ]
  },
  {
   "cell_type": "code",
   "execution_count": null,
   "id": "ff9de8f3-0345-4afd-8af8-ebe03e681a36",
   "metadata": {},
   "outputs": [],
   "source": [
    "from glass.ete.osm2lulc.grs import vector_based"
   ]
  },
  {
   "cell_type": "code",
   "execution_count": null,
   "id": "52c229b3-1711-463e-a8e1-ae5dbd2aafec",
   "metadata": {},
   "outputs": [],
   "source": [
    "osm = '/home/jasp/mystuff/osm2lulc_papera/osmpt_801.xml'\n",
    "\n",
    "nom = \"URBAN_ATLAS\"\n",
    "\n",
    "ref = '/home/jasp/mystuff/osm2lulc_papera/ref_gridv2_80.shp'\n",
    "\n",
    "result = '/home/jasp/mystuff/osm2lulc_papera/test_roads.shp'\n",
    "\n",
    "tmp = '/home/jasp/mystuff/osm2lulc_papera/tmproads'"
   ]
  },
  {
   "cell_type": "code",
   "execution_count": null,
   "id": "f98d6502-a457-4ada-a8d5-806652728b58",
   "metadata": {},
   "outputs": [],
   "source": [
    "vector_based(osm, nom, ref, result, overwrite=True, dataStore=tmp)"
   ]
  },
  {
   "cell_type": "code",
   "execution_count": null,
   "id": "07dab4db-8568-4000-b4ae-83e0895cd248",
   "metadata": {},
   "outputs": [],
   "source": []
  }
 ],
 "metadata": {
  "kernelspec": {
   "display_name": "Python 3 (ipykernel)",
   "language": "python",
   "name": "python3"
  },
  "language_info": {
   "codemirror_mode": {
    "name": "ipython",
    "version": 3
   },
   "file_extension": ".py",
   "mimetype": "text/x-python",
   "name": "python",
   "nbconvert_exporter": "python",
   "pygments_lexer": "ipython3",
   "version": "3.8.10"
  }
 },
 "nbformat": 4,
 "nbformat_minor": 5
}
