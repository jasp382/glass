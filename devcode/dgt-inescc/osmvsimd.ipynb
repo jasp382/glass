{
 "cells": [
  {
   "cell_type": "markdown",
   "id": "463e93dd-422b-4595-80d6-5c16edcf3e1d",
   "metadata": {},
   "source": [
    "## Compare OSM with IMD 2018"
   ]
  },
  {
   "cell_type": "markdown",
   "id": "e955a8d7-a0f4-4e70-bdb1-7838c7e0743c",
   "metadata": {},
   "source": [
    "**Inputs:** \n",
    "\n",
    "* Path to OSM File;\n",
    "\n",
    "* Path to IMD Raster;\n",
    "\n",
    "* Table with relation between OSM tags and LULC Classes\n",
    "\n",
    "* Path to output."
   ]
  },
  {
   "cell_type": "code",
   "execution_count": null,
   "id": "df1d1c3c-c5c5-4458-959b-188d184e75d0",
   "metadata": {},
   "outputs": [],
   "source": [
    "osmfile = '/home/jasp/mystuff/dgt/osm_parts/osmpt_74.xml'\n",
    "\n",
    "imdrst  = '/home/jasp/mystuff/dgt/imd2018/imd_74_v2.tif'\n",
    "\n",
    "osm_ref_tags = {\n",
    "    \"TABLE\"     : '/home/jasp/mystuff/dgt/osm_features_2021_v2.xlsx',\n",
    "    \"SHEET\"     : 'osm_features',\n",
    "    \"LULC_COL\"  : 'L4',\n",
    "    \"KEY_COL\"   : \"key\",\n",
    "    \"VALUE_COL\" : \"value\",\n",
    "    \"GEOM_COL\"  : \"geom\"\n",
    "}\n",
    "\n",
    "outgrid = '/home/jasp/mystuff/dgt/osmvsimd/osmimd_74.shp'"
   ]
  },
  {
   "cell_type": "markdown",
   "id": "f05a41b3-20a8-4919-bf65-5d4b83ef3d26",
   "metadata": {},
   "source": [
    "Constants"
   ]
  },
  {
   "cell_type": "code",
   "execution_count": null,
   "id": "0c7a021c-c23f-4edb-b6b1-ffed651c86b0",
   "metadata": {},
   "outputs": [],
   "source": [
    "osmgeomtable = \"multipolygons\"\n",
    "\n",
    "classes_edificado = [\n",
    "    '1141', '1151', '1211', '1221',\n",
    "    '1222', '1223', '1231', '1241',\n",
    "    '1251', '1252', '1254', '1255',\n",
    "    '1256', '1257', '1253', '1612',\n",
    "    '1631', '1632', '1633', '1651',\n",
    "    '16', '143', '1431', '1432'\n",
    "]"
   ]
  },
  {
   "cell_type": "markdown",
   "id": "9ac0e018-1c21-4447-984e-d2c12580ace1",
   "metadata": {},
   "source": [
    "Import modules"
   ]
  },
  {
   "cell_type": "code",
   "execution_count": null,
   "id": "a6ae2e76-d94d-4944-8b9f-0d2e4e0d0c9a",
   "metadata": {},
   "outputs": [],
   "source": [
    "import os\n",
    "import pandas as pd\n",
    "import numpy as np\n",
    "\n",
    "from glass.it.osm import osm_to_psql\n",
    "from glass.it.shp import dbtbl_to_shp\n",
    "from glass.prop.sql import cols_name\n",
    "from glass.rd import tbl_to_obj\n",
    "from glass.sql.q import exec_write_q\n",
    "from glass.sql.db import create_db\n",
    "\n",
    "from glass.pys.oss import mkdir, fprop\n",
    "from glass.smp.fish import nfishnet_fm_rst\n",
    "from glass.prop.prj import get_epsg"
   ]
  },
  {
   "cell_type": "markdown",
   "id": "2edc4426-ce24-47fe-a218-06fd06ab07f6",
   "metadata": {},
   "source": [
    "Create folder to save temporary files"
   ]
  },
  {
   "cell_type": "code",
   "execution_count": null,
   "id": "3ad24d02-68f8-4fab-af6d-d2bb02b5b12d",
   "metadata": {},
   "outputs": [],
   "source": [
    "tmp = mkdir(os.path.join(os.path.dirname(outgrid), 'tmpdata'), overwrite=True)"
   ]
  },
  {
   "cell_type": "markdown",
   "id": "3f723556-56b1-49fd-acc0-b65014065a7a",
   "metadata": {},
   "source": [
    "Get IMD EPSG code"
   ]
  },
  {
   "cell_type": "code",
   "execution_count": null,
   "id": "37b853c5-8ddf-46b4-ad9f-74bb68fc01c2",
   "metadata": {},
   "outputs": [],
   "source": [
    "epsg = get_epsg(imdrst)"
   ]
  },
  {
   "cell_type": "markdown",
   "id": "9db03fb9-f7cf-4124-b70c-4d0d474f621a",
   "metadata": {},
   "source": [
    "Generate Fishnet based on imdrst"
   ]
  },
  {
   "cell_type": "code",
   "execution_count": null,
   "id": "d5b6880e-4b80-48e2-aaca-d60a1d9f8b06",
   "metadata": {},
   "outputs": [],
   "source": [
    "fishfolder = mkdir(os.path.join(tmp, 'fishnet'))\n",
    "\n",
    "fishnets = nfishnet_fm_rst(imdrst, 500, 500, fishfolder)"
   ]
  },
  {
   "cell_type": "markdown",
   "id": "82c24199-cade-401e-8d56-ee864b319746",
   "metadata": {},
   "source": [
    "Get LULC from OSM"
   ]
  },
  {
   "cell_type": "code",
   "execution_count": null,
   "id": "184ae5e2-1837-4588-954d-13a410625237",
   "metadata": {},
   "outputs": [],
   "source": [
    "# Import OSM data into a database\n",
    "osmdb = create_db(f'osm_{fprop(outgrid, \"fn\")}', api='psql', overwrite=True)\n",
    "\n",
    "osm_to_psql(osmfile, osmdb)\n",
    "\n",
    "# Read table with OSM Tags and related LULC Classes\n",
    "osm_tags = tbl_to_obj(osm_ref_tags[\"TABLE\"], sheet=osm_ref_tags[\"SHEET\"])\n",
    "\n",
    "osm_tags = osm_tags[osm_tags[osm_ref_tags[\"GEOM_COL\"]] == 'Polygon']\n",
    "\n",
    "# Remove values with ';' in LULC_COL\n",
    "osm_tags['sevtags'] = osm_tags[osm_ref_tags[\"LULC_COL\"]].str.contains(';')\n",
    "\n",
    "osm_tags = osm_tags[osm_tags.sevtags != True]\n",
    "\n",
    "# Create key/value column\n",
    "osm_tags.loc[:, osm_ref_tags[\"VALUE_COL\"]] = osmgeomtable + \".\" + \\\n",
    "    osm_tags[osm_ref_tags[\"KEY_COL\"]] + \\\n",
    "    \"='\" + osm_tags[osm_ref_tags[\"VALUE_COL\"]] + \"'\"\n",
    "\n",
    "# Add new column to multipolygons table\n",
    "\n",
    "cols = cols_name(osmdb, osmgeomtable)\n",
    "\n",
    "qs = [] if \"lulc_cls\" in cols else [(\n",
    "    f\"ALTER TABLE {osmgeomtable} ADD COLUMN \"\n",
    "    \"lulc_cls integer\"\n",
    ")]\n",
    "\n",
    "# Create Queries to update multipolygons table\n",
    "# Queries to add lulc classe\n",
    "for cls in osm_tags[osm_ref_tags[\"LULC_COL\"]].unique():\n",
    "    # Se uma feature estiver associada a duas TAGS que dizem respeito a classes\n",
    "    # diferentes, a classe da feature será a última classe considerada\n",
    "    # Abordagem multitag vai resolver este problema.\n",
    "    __osmtags = osm_tags[osm_tags[osm_ref_tags[\"LULC_COL\"]] == cls]\n",
    "    \n",
    "    qs.append((\n",
    "        f\"UPDATE {osmgeomtable} SET lulc_cls={str(cls)} \"\n",
    "        f\"WHERE {str(__osmtags[osm_ref_tags['VALUE_COL']].str.cat(sep=' OR '))}\"\n",
    "    ))\n",
    "\n",
    "# Run queries\n",
    "exec_write_q(osmdb, qs, api='psql')\n",
    "\n",
    "# Export shapefile with data\n",
    "whr = \" OR \".join([f\"lulc_cls={c}\" for c in classes_edificado])\n",
    "\n",
    "q = (\n",
    "    f'SELECT ogc_fid, osm_id, name, lulc_cls, '\n",
    "    'building, amenity, landuse, '\n",
    "    f'ST_Transform(wkb_geometry, {str(epsg)}) AS geom '\n",
    "    f'FROM {osmgeomtable} '\n",
    "    f'WHERE {whr}'\n",
    ")\n",
    "\n",
    "osmlulc = dbtbl_to_shp(\n",
    "    osmdb, q, 'geom', os.path.join(tmp, 'osmlulc.shp'),\n",
    "    tableIsQuery=True, api='pgsql2shp', epsg=epsg\n",
    ")"
   ]
  },
  {
   "cell_type": "code",
   "execution_count": null,
   "id": "32c6676d-0550-47d3-b6cd-42c6f9bb2fa2",
   "metadata": {},
   "outputs": [],
   "source": []
  }
 ],
 "metadata": {
  "kernelspec": {
   "display_name": "Python 3 (ipykernel)",
   "language": "python",
   "name": "python3"
  },
  "language_info": {
   "codemirror_mode": {
    "name": "ipython",
    "version": 3
   },
   "file_extension": ".py",
   "mimetype": "text/x-python",
   "name": "python",
   "nbconvert_exporter": "python",
   "pygments_lexer": "ipython3",
   "version": "3.10.6"
  }
 },
 "nbformat": 4,
 "nbformat_minor": 5
}
