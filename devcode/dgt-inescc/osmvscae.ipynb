{
 "cells": [
  {
   "cell_type": "markdown",
   "id": "b60dbba8-8802-4882-976b-a55598db6a8e",
   "metadata": {},
   "source": [
    "## Compare OSM Data with Carta Áreas Edificadas from DGT"
   ]
  },
  {
   "cell_type": "code",
   "execution_count": null,
   "id": "9d7b91fb-569c-42b4-b09e-07a768d0e5d0",
   "metadata": {},
   "outputs": [],
   "source": [
    "osm_ref_tags = {\n",
    "    \"TABLE\"     : '/home/jasp/mystuff/dgt/osm_features_2021_v2.xlsx',\n",
    "    \"SHEET\"     : 'osm_features',\n",
    "    \"LULC_COL\"  : 'L4',\n",
    "    \"KEY_COL\"   : \"key\",\n",
    "    \"VALUE_COL\" : \"value\",\n",
    "    \"GEOM_COL\"  : \"geom\"\n",
    "}\n",
    "\n",
    "osmdata = {\n",
    "    \"FILE\"  : '/home/jasp/mystuff/dgt/tstcoimbra/osm_cmb.xml',\n",
    "    \"DB\"    : 'dgt_cmb',\n",
    "    \"TABLE\" : \"multipolygons\",\n",
    "    \"DBSET\" : \"local\"\n",
    "}\n",
    "\n",
    "ref_edificado = [\n",
    "    '1141', '1151', '1211', '1221',\n",
    "    '1222', '1223', '1231', '1241',\n",
    "    '1251', '1252', '1254', '1255',\n",
    "    '1256', '1257', '1253', '1612',\n",
    "    '1631', '1632', '1633', '1651',\n",
    "    '16', '143', '1431', '1432'\n",
    "]\n",
    "\n",
    "\n",
    "lulccls = 'lulc_cls'\n",
    "\n",
    "caeshp = '/home/jasp/mystuff/dgt/tstcoimbra/cae_coimbra.shp'\n",
    "\n",
    "refshp = '/home/jasp/mystuff/dgt/tstcoimbra/lmt.shp'\n",
    "\n",
    "epsg = 3763\n",
    "\n",
    "# OSM LULC result\n",
    "lulcshp = '/home/jasp/mystuff/dgt/tstcoimbra/osmlulc.shp'\n",
    "\n",
    "# OSM/CAE intersection result\n",
    "osmvscae = '/home/jasp/mystuff/dgt/tstcoimbra/osmvscae.shp'"
   ]
  },
  {
   "cell_type": "code",
   "execution_count": null,
   "id": "a2f16981-0ba5-4340-93e2-0f2944e60984",
   "metadata": {},
   "outputs": [],
   "source": [
    "from dgt.ete.cae import cae_vs_polygon\n",
    "\n",
    "cae  = '/home/jasp/mystuff/dgt/caeparts/cae_80.shp'\n",
    "poly = '/home/jasp/mystuff/dgt/builtup/builtup_80.shp'\n",
    "lulc = \"gridcode\""
   ]
  },
  {
   "cell_type": "code",
   "execution_count": null,
   "id": "01224adf-8b3a-4571-855d-d50f2aa9035a",
   "metadata": {},
   "outputs": [],
   "source": []
  }
 ],
 "metadata": {
  "kernelspec": {
   "display_name": "Python 3 (ipykernel)",
   "language": "python",
   "name": "python3"
  },
  "language_info": {
   "codemirror_mode": {
    "name": "ipython",
    "version": 3
   },
   "file_extension": ".py",
   "mimetype": "text/x-python",
   "name": "python",
   "nbconvert_exporter": "python",
   "pygments_lexer": "ipython3",
   "version": "3.8.10"
  }
 },
 "nbformat": 4,
 "nbformat_minor": 5
}
