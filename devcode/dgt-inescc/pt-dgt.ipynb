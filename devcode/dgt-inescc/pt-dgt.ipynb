{
 "cells": [
  {
   "cell_type": "code",
   "execution_count": 1,
   "id": "59203b98-4768-44c1-9ebb-71a89cf05f44",
   "metadata": {},
   "outputs": [
    {
     "data": {
      "text/plain": [
       "'/home/yuri/dgt/osmpt.xml'"
      ]
     },
     "execution_count": 1,
     "metadata": {},
     "output_type": "execute_result"
    }
   ],
   "source": [
    "#def osm_extraction(boundary, osmdata, output,each_feat=None, epsg=None):\n",
    "\n",
    "ptshp = '/home/yuri/dgt/osmpt/CAOP.shp'\n",
    "output = '/home/yuri/dgt/osmpt.xml'\n",
    "osmdata = '/home/yuri/dgt/osmpt/portugal-latest.osm.pbf'\n",
    "\n",
    "from dgt.gp.ovl.osm import osm_extraction \n",
    "\n",
    "osm_extraction(ptshp, osmdata, output)\n",
    "\n"
   ]
  },
  {
   "cell_type": "code",
   "execution_count": 8,
   "id": "d8f0f6a5-04a8-4890-a840-a5928cc558e6",
   "metadata": {},
   "outputs": [
    {
     "name": "stdout",
     "output_type": "stream",
     "text": [
      "/home/yuri/dgt/quatrogrids/IMD_144.tif\n",
      "/home/yuri/dgt/quatrogrids/IMD_145.tif\n",
      "/home/yuri/dgt/quatrogrids/IMD_172.tif\n",
      "/home/yuri/dgt/quatrogrids/IMD_173.tif\n"
     ]
    }
   ],
   "source": [
    "#def osm_vs_imd(osmxlsx, osmxml, imd, outfishnet, outshp): \n",
    "import glob\n",
    "\n",
    "osmxlsx = '/home/yuri/dgt/sample_osmimd/osm_features_2021_v2.xlsx'\n",
    "osmxml = '/home/yuri/dgt/osmpt.xml'\n",
    "imdpasta= glob.glob('/home/yuri/dgt/quatrogrids/*.tif')\n",
    "outfishnet = '/home/yuri/dgt/temp'\n",
    "outshp = '/home/yuri/dgt/final'\n",
    "\n",
    "\n",
    "for p in sorted(imdpasta):\n",
    "    imd = p\n",
    "    print(imd)\n",
    "    from scripts.osmtst import osm_vs_imd\n",
    "\n",
    "    osm_vs_imd(osmxlsx, osmxml, imd, outfishnet, outshp)"
   ]
  },
  {
   "cell_type": "code",
   "execution_count": 24,
   "id": "a1084c35-f142-4a89-9c97-5a4a51eaa9fd",
   "metadata": {},
   "outputs": [],
   "source": [
    "import glob\n",
    "\n",
    "osmxlsx = '/home/yuri/dgt/sample_osmimd/osm_features_2021_v2.xlsx'\n",
    "osmxml = '/home/yuri/dgt/osmpt.xml'\n",
    "imdpasta= glob.glob('/home/yuri/dgt/quatrogrids/*.tif')\n",
    "outfishnet = '/home/yuri/dgt/temp'\n",
    "outshp = '/home/yuri/dgt/final'\n",
    "\n",
    "z=1\n",
    "t = z+1\n",
    "for p in sorted(imdpasta):\n",
    "    \n",
    "    \n",
    "    import os\n",
    "    import pandas as pd\n",
    "    import numpy as np\n",
    "    import glob\n",
    "\n",
    "    from dgt.it.osm import osm_to_psql\n",
    "\n",
    "    from dgt.pys.oss import mkdir, fprop\n",
    "\n",
    "    # Prepare workspace\n",
    "    \n",
    "\n",
    "    if not os.path.exists(os.path.join(os.path.dirname(outshp), f'grswork{z}')):\n",
    "        ws = mkdir(os.path.join(\n",
    "            os.path.dirname(outshp), f'grswork{z}'\n",
    "            ))\n",
    "    \n",
    "    \n",
    "    elif os.path.exists(os.path.join(os.path.dirname(outshp), f'grswork{z}')):\n",
    "        ws = mkdir(os.path.join(\n",
    "            os.path.dirname(outshp), f'grswork{z+1}'\n",
    "            ))\n",
    "    z= z+1\n",
    "\n"
   ]
  },
  {
   "cell_type": "code",
   "execution_count": null,
   "id": "bb3e0b26-5401-4cce-879b-bef3daa24b4d",
   "metadata": {},
   "outputs": [],
   "source": []
  },
  {
   "cell_type": "code",
   "execution_count": null,
   "id": "e7abfddd-1b65-4589-9a33-4861b9bbd1ba",
   "metadata": {},
   "outputs": [],
   "source": []
  },
  {
   "cell_type": "code",
   "execution_count": null,
   "id": "5fa8a93c-995d-45c8-a6e3-df31190d2247",
   "metadata": {},
   "outputs": [],
   "source": []
  }
 ],
 "metadata": {
  "kernelspec": {
   "display_name": "Python 3 (ipykernel)",
   "language": "python",
   "name": "python3"
  },
  "language_info": {
   "codemirror_mode": {
    "name": "ipython",
    "version": 3
   },
   "file_extension": ".py",
   "mimetype": "text/x-python",
   "name": "python",
   "nbconvert_exporter": "python",
   "pygments_lexer": "ipython3",
   "version": "3.8.10"
  }
 },
 "nbformat": 4,
 "nbformat_minor": 5
}
