{
 "cells": [
  {
   "cell_type": "markdown",
   "id": "7cd82116-51d7-4afa-ae59-6291fc0b6cfd",
   "metadata": {},
   "source": [
    "## Exercise  8  |  data  in  f2ex8  |  Using  slopes  (declives.tif),  slope  exposure  (exposicao.tif),  and distance to watercourses (water.shp), produce a raster with the following characteristics."
   ]
  },
  {
   "cell_type": "code",
   "execution_count": null,
   "id": "08751f40-ec55-43ce-951a-c1ad331d9aa9",
   "metadata": {},
   "outputs": [],
   "source": [
    "slopes = '/mnt/d/cwsig/exercicios_2023_24/f2ex8/declives.tif'\n",
    "\n",
    "aspect = '/mnt/d/cwsig/exercicios_2023_24/f2ex4/exporcls.tif'\n",
    "\n",
    "water = '/mnt/d/cwsig/exercicios_2023_24/f2ex8/water.shp'\n",
    "\n",
    "output = '/mnt/d/cwsig/exercicios_2023_24/f2ex8/resrst3.tif'"
   ]
  },
  {
   "cell_type": "code",
   "execution_count": null,
   "id": "f4714011-059b-433b-934c-2658730e3861",
   "metadata": {},
   "outputs": [],
   "source": [
    "import os\n",
    "\n",
    "from glass.pys.oss import mkdir, fprop\n",
    "from glass.pys.tm import now_as_str\n",
    "from glass.wenv.grs import run_grass\n",
    "from glass.prj import proj\n",
    "from glass.prop.prj import get_epsg"
   ]
  },
  {
   "cell_type": "code",
   "execution_count": null,
   "id": "5577def5-fcbc-4009-887b-7dff9477f5c3",
   "metadata": {},
   "outputs": [],
   "source": [
    "ws, loc = os.path.dirname(output), now_as_str(utc=True)\n",
    "\n",
    "gb = run_grass(ws, location=loc, srs=slopes)\n",
    "\n",
    "# Start grass gis session\n",
    "import grass.script.setup as gsetup\n",
    "gsetup.init(gb, ws, loc, 'PERMANENT')"
   ]
  },
  {
   "cell_type": "code",
   "execution_count": null,
   "id": "9a17df2b-3f58-476a-8555-baad2026af1a",
   "metadata": {},
   "outputs": [],
   "source": [
    "from glass.it.rst import rst_to_grs, grs_to_rst\n",
    "from glass.it.shp import shp_to_grs\n",
    "from glass.rst.dst import grow_distance\n",
    "from glass.dtt.rst.torst import grsshp_to_grsrst\n",
    "from glass.rst.alg import grsrstcalc\n",
    "from glass.rst.local import combine\n",
    "from glass.prop.rst import raster_report\n",
    "from glass.rst.rcls.grs import grs_rcls, rcls_rules"
   ]
  },
  {
   "cell_type": "code",
   "execution_count": null,
   "id": "ba3c9dd0-5b65-4628-ad14-aa1e71fd4cab",
   "metadata": {},
   "outputs": [],
   "source": [
    "shpepsg = get_epsg(water)\n",
    "refepsg = get_epsg(slopes)\n",
    "\n",
    "if refepsg != shpepsg:\n",
    "    water = proj(water, os.path.join(ws, loc, os.path.basename(water)), refepsg, api=\"ogr2ogr\")"
   ]
  },
  {
   "cell_type": "code",
   "execution_count": null,
   "id": "1eb9cb77-bf30-4612-a143-91855818c94e",
   "metadata": {},
   "outputs": [],
   "source": [
    "# import data\n",
    "gslope = rst_to_grs(slopes)\n",
    "gaspec = rst_to_grs(aspect)\n",
    "gwater = shp_to_grs(water)\n",
    "\n",
    "# Water to Raster\n",
    "rst_water = grsshp_to_grsrst(gwater, 1, f\"rst_{gwater}\")\n",
    "\n",
    "# Calculate grow distance\n",
    "dwater = grow_distance(rst_water, 'dwater', api=\"grass\")\n",
    "\n",
    "# Reclassify rasters\n",
    "rcls_slope = grsrstcalc(f\"if({gslope} <= 10, 1, 0)\", f'rcls_{gslope}')\n",
    "rcls_aspec = grsrstcalc((\n",
    "    f\"if({gaspec} == 5 || {gaspec} == 6 \"\n",
    "    f\"|| {gaspec} == 7, 1, 0)\"\n",
    "), f\"rcls_{gaspec}\")\n",
    "\n",
    "rcls_dist = grsrstcalc(f\"if({dwater} < 200, 1, 0)\", f'rcls_{dwater}')\n",
    "\n",
    "# Combine\n",
    "cmb = combine([rcls_slope, gaspec, rcls_dist], 'rst_combine', api=\"grass\")\n",
    "\n",
    "# Reclassify combine\n",
    "cmbtxt = raster_report(cmb, os.path.join(ws, loc, 'combine_report.txt'), ascmd=True)"
   ]
  },
  {
   "cell_type": "code",
   "execution_count": null,
   "id": "84bc4688-7bb3-4ae5-ad8a-7e14b1a13f08",
   "metadata": {},
   "outputs": [],
   "source": [
    "# Combine values\n",
    "otxt = open(cmbtxt, 'r')\n",
    "\n",
    "dcmb = {}\n",
    "c = 0\n",
    "for l in otxt.readlines():\n",
    "    try:\n",
    "        if c >= 4:\n",
    "            pl = l.split('|')\n",
    "\n",
    "            rval = pl[1]\n",
    "\n",
    "            if rval == '*':\n",
    "                continue\n",
    "\n",
    "            cats = pl[2].split('; ')\n",
    "\n",
    "            catsv = []\n",
    "            for cat in cats:\n",
    "                _cat = cat.split(' ')[1]\n",
    "\n",
    "                catsv.append(int(_cat))\n",
    "\n",
    "            dcmb[int(rval)] = catsv\n",
    "\n",
    "        c += 1\n",
    "    except: break"
   ]
  },
  {
   "cell_type": "code",
   "execution_count": null,
   "id": "683a1804-553c-49b1-9680-5e9693e72287",
   "metadata": {},
   "outputs": [],
   "source": [
    "rules = {}\n",
    "\n",
    "for v in dcmb:\n",
    "    # See if it is one\n",
    "    if dcmb[v][0] == 1 and dcmb[v][1] == 6 and dcmb[v][2] == 1:\n",
    "        rules[v] = 1\n",
    "\n",
    "    elif dcmb[v][0] == 1 and dcmb[v][1] == 5 and dcmb[v][2] == 1:\n",
    "        rules[v] = 2\n",
    "\n",
    "    elif dcmb[v][0] == 1 and dcmb[v][1] == 7 and dcmb[v][2] == 1:\n",
    "        rules[v] = 3\n",
    "\n",
    "    else:\n",
    "        rules[v] = 4\n",
    "\n",
    "rcls_file = rcls_rules(rules, os.path.join(ws, loc, 'rclsrules.txt'))\n",
    "\n",
    "out = grs_rcls(cmb, rcls_file, fprop(output, 'fn'), as_cmd=True)\n",
    "\n",
    "grs_to_rst(out, output, as_cmd=True, rtype=int)"
   ]
  },
  {
   "cell_type": "code",
   "execution_count": null,
   "id": "cbee6c40-d037-4fd5-a714-bc4b6f68a662",
   "metadata": {},
   "outputs": [],
   "source": []
  }
 ],
 "metadata": {
  "kernelspec": {
   "display_name": "Python 3 (ipykernel)",
   "language": "python",
   "name": "python3"
  },
  "language_info": {
   "codemirror_mode": {
    "name": "ipython",
    "version": 3
   },
   "file_extension": ".py",
   "mimetype": "text/x-python",
   "name": "python",
   "nbconvert_exporter": "python",
   "pygments_lexer": "ipython3",
   "version": "3.10.12"
  }
 },
 "nbformat": 4,
 "nbformat_minor": 5
}
