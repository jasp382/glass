{
 "cells": [
  {
   "cell_type": "markdown",
   "id": "40e85e04-625b-4f77-9c46-4fdf92867d2a",
   "metadata": {},
   "source": [
    "Exercise 2 | data in f2ex2 | Generate a Digital Elevation Model (DEM) considering the contour lines in the file curvas_nivel.shp. The “ELEVATION” column provides the altitude of each line. In this  procedure,  the  file  lmt.shp  indicates  the  geographic  extent  of  the  final  DEM;  the  file \n",
    "lmt_1000m.shp should be used in the DEM creation."
   ]
  },
  {
   "cell_type": "code",
   "execution_count": null,
   "id": "1c5d6f2c-3e13-489c-a727-c0d13fe8abd3",
   "metadata": {},
   "outputs": [],
   "source": [
    "contours = '/mnt/d/cwsig/exercicios_2023_24/f2ex2/curvas_nivel.shp'\n",
    "\n",
    "attr = 'ELEVATION'\n",
    "\n",
    "output = '/mnt/d/cwsig/exercicios_2023_24/f2ex2/grsdem.tif'\n",
    "\n",
    "clipshp = '/mnt/d/cwsig/exercicios_2023_24/f2ex2/lmt.shp'"
   ]
  },
  {
   "cell_type": "code",
   "execution_count": null,
   "id": "add7c2d7-c9e0-4695-9da7-7a9b53513f74",
   "metadata": {},
   "outputs": [],
   "source": [
    "from glass.rst.terrain import make_dem"
   ]
  },
  {
   "cell_type": "code",
   "execution_count": null,
   "id": "c47f9eed-0ad6-4dc8-be27-1b08bfbfbeeb",
   "metadata": {},
   "outputs": [],
   "source": [
    "make_dem(contours, attr, output, clipshp, method=\"CONTOUR\", cell_size=10)"
   ]
  }
 ],
 "metadata": {
  "kernelspec": {
   "display_name": "Python 3 (ipykernel)",
   "language": "python",
   "name": "python3"
  },
  "language_info": {
   "codemirror_mode": {
    "name": "ipython",
    "version": 3
   },
   "file_extension": ".py",
   "mimetype": "text/x-python",
   "name": "python",
   "nbconvert_exporter": "python",
   "pygments_lexer": "ipython3",
   "version": "3.10.12"
  }
 },
 "nbformat": 4,
 "nbformat_minor": 5
}
