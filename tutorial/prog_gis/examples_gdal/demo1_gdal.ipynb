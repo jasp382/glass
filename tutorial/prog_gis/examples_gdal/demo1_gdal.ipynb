{
 "cells": [
  {
   "cell_type": "markdown",
   "id": "thrown-train",
   "metadata": {},
   "source": [
    "# Read and write Raster Files using GDAL\n",
    "\n",
    "Read two raster images, compute NDVI and export the result to a new raster file."
   ]
  },
  {
   "cell_type": "code",
   "execution_count": null,
   "id": "800030c0-57ad-4835-9610-7be624e097d9",
   "metadata": {},
   "outputs": [],
   "source": [
    "import numpy as np\n",
    "import os\n",
    "from osgeo import gdal, gdal_array\n",
    "from osgeo import osr"
   ]
  },
  {
   "cell_type": "code",
   "execution_count": null,
   "id": "9e582f98-b7af-4869-a932-3dcd0c299b6e",
   "metadata": {},
   "outputs": [],
   "source": [
    "red = '/mnt/x/pwgis/code24data/demo1gdal/T29TNE_20200703T112119_B04_10m.tif'\n",
    "nir = '/mnt/x/pwgis/code24data/demo1gdal/T29TNE_20200703T112119_B08_10m.tif'\n",
    "out = '/mnt/x/pwgis/code24data/results/demo1gdal.tif'"
   ]
  },
  {
   "cell_type": "code",
   "execution_count": null,
   "id": "538a99fa-faa1-410c-9c7b-e17b922f9930",
   "metadata": {},
   "outputs": [],
   "source": [
    "\"\"\"\n",
    "GDAL Drivers Name\n",
    "\"\"\"\n",
    "\n",
    "def drv_name(_file):\n",
    "    \"\"\"\n",
    "    Return the driver for a given file format\n",
    "    \"\"\"\n",
    "    \n",
    "    drv = {\n",
    "        # Vector files\n",
    "        '.gml'    : 'GML',\n",
    "        '.shp'    : 'ESRI Shapefile',\n",
    "        '.json'   : 'GeoJSON',\n",
    "        '.kml'    : 'KML',\n",
    "        '.osm'    : 'OSM',\n",
    "        '.dbf'    : 'ESRI Shapefile',\n",
    "        '.vct'    : 'Idrisi',\n",
    "        '.nc'     : 'netCDF',\n",
    "        '.vrt'    : 'VRT',\n",
    "        '.mem'    : 'MEMORY',\n",
    "        '.sqlite' : 'SQLite',\n",
    "        '.gdb'    : 'FileGDB',\n",
    "        # Raster files\n",
    "        '.tif'    : 'GTiff',\n",
    "        '.ecw'    : 'ECW',\n",
    "        '.mpr'    : 'ILWIS',\n",
    "        '.mpl'    : 'ILWIS',\n",
    "        '.jpg'    : 'JPEG',\n",
    "        '.nc'     : 'netCDF',\n",
    "        '.png'    : 'PNG',\n",
    "        '.vrt'    : 'VRT',\n",
    "        '.asc'    : 'AAIGrid',\n",
    "        '.img'    : 'HFA',\n",
    "        # Vector or Raster\n",
    "        '.gpkg'   : 'GPKG'\n",
    "    }\n",
    "    \n",
    "    return str(drv[os.path.splitext(_file)[1]])"
   ]
  },
  {
   "cell_type": "code",
   "execution_count": null,
   "id": "quick-vienna",
   "metadata": {},
   "outputs": [],
   "source": [
    "\"\"\"\n",
    "Send Array to Raster\n",
    "\"\"\"\n",
    "\n",
    "def obj_to_rst(inArray, outRst, template, noData=None, geotrans=None):\n",
    "    if type(template).__name__ == 'Dataset':\n",
    "        img_template = template\n",
    "    else:\n",
    "        img_template  = gdal.Open(template)\n",
    "        \n",
    "    geo_transform = img_template.GetGeoTransform() if not geotrans else \\\n",
    "        geotrans\n",
    "    rows, cols    = inArray.shape\n",
    "    drv_n         = drv_name(outRst)\n",
    "    driver        = gdal.GetDriverByName(drv_n)\n",
    "    \n",
    "    out       = driver.Create(\n",
    "        outRst, cols, rows, 1,\n",
    "        gdal_array.NumericTypeCodeToGDALTypeCode(inArray.dtype)\n",
    "    )\n",
    "    \n",
    "    out.SetGeoTransform(geo_transform)\n",
    "    outBand       = out.GetRasterBand(1)\n",
    "    \n",
    "    if noData or noData == 0:\n",
    "        outBand.SetNoDataValue(noData)\n",
    "        \n",
    "    outBand.WriteArray(inArray)\n",
    "        \n",
    "    proj = osr.SpatialReference(wkt=img_template.GetProjection())\n",
    "    \n",
    "    if proj:\n",
    "        out.SetProjection(img_template.GetProjection())\n",
    "    \n",
    "    outBand.FlushCache()\n",
    "    \n",
    "    return outRst"
   ]
  },
  {
   "cell_type": "code",
   "execution_count": null,
   "id": "potential-cycle",
   "metadata": {},
   "outputs": [],
   "source": [
    "\"\"\"\n",
    "Apply Normalized Difference NIR/Red Normalized Difference\n",
    "Vegetation Index, Calibrated NDVI - CDVI\n",
    "    \n",
    "https://www.indexdatabase.de/db/i-single.php?id=58\n",
    "    \n",
    "EXPRESSION: (nir - red) / (nir + red)\n",
    "\"\"\"\n",
    "\n",
    "def ndvi(nir, red, outRst):\n",
    "    \n",
    "    # Open Images\n",
    "    src_nir = gdal.Open(nir, gdal.GA_ReadOnly)\n",
    "    src_red = gdal.Open(red, gdal.GA_ReadOnly)\n",
    "    \n",
    "    # To Array\n",
    "    num_nir = src_nir.GetRasterBand(1).ReadAsArray().astype(float)\n",
    "    num_red = src_red.GetRasterBand(1).ReadAsArray().astype(float)\n",
    "    \n",
    "    # Do Calculation\n",
    "    ndvi = (num_nir - num_red) / (num_nir + num_red)\n",
    "    \n",
    "    # Place NoData Value\n",
    "    nirNdVal = src_nir.GetRasterBand(1).GetNoDataValue()\n",
    "    redNdVal = src_red.GetRasterBand(1).GetNoDataValue()\n",
    "    \n",
    "    ndNdvi = np.amin(ndvi) - 1\n",
    "    \n",
    "    np.place(ndvi, num_nir==nirNdVal, ndNdvi)\n",
    "    np.place(ndvi, num_red==redNdVal, ndNdvi)\n",
    "    \n",
    "    # Export Result\n",
    "    return obj_to_rst(ndvi, outRst, nir, noData=ndNdvi)"
   ]
  },
  {
   "cell_type": "code",
   "execution_count": null,
   "id": "efficient-messaging",
   "metadata": {},
   "outputs": [],
   "source": [
    "ndvi(nir, red, out)"
   ]
  }
 ],
 "metadata": {
  "kernelspec": {
   "display_name": "Python 3 (ipykernel)",
   "language": "python",
   "name": "python3"
  },
  "language_info": {
   "codemirror_mode": {
    "name": "ipython",
    "version": 3
   },
   "file_extension": ".py",
   "mimetype": "text/x-python",
   "name": "python",
   "nbconvert_exporter": "python",
   "pygments_lexer": "ipython3",
   "version": "3.10.12"
  }
 },
 "nbformat": 4,
 "nbformat_minor": 5
}
