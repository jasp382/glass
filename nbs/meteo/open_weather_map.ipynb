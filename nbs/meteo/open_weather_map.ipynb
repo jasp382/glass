{
 "cells": [
  {
   "cell_type": "code",
   "execution_count": null,
   "metadata": {},
   "outputs": [],
   "source": [
    "search = '/mnt/d/gwork/prog_webgis/meteo/lmt_openweather.shp'\n",
    "\n",
    "from glass.prop.ext import get_ext\n",
    "\n",
    "ext  = get_ext(search, outEpsg=4326)"
   ]
  },
  {
   "cell_type": "code",
   "execution_count": null,
   "metadata": {},
   "outputs": [],
   "source": [
    "key = '0624804cd5ace00ed4ffaf7a0260d932'"
   ]
  },
  {
   "cell_type": "code",
   "execution_count": null,
   "metadata": {},
   "outputs": [],
   "source": [
    "ext = [-9, -8, 37, 42]"
   ]
  },
  {
   "cell_type": "code",
   "execution_count": null,
   "metadata": {},
   "outputs": [],
   "source": [
    "key = '0624804cd5ace00ed4ffaf7a0260d932'\n",
    "url = 'http://api.openweathermap.org/data/2.5/box/city?'\n",
    "\n",
    "query_params = {\n",
    "    'bbox'  : '{},{},{},{},10'.format(\n",
    "        str(ext[0]), str(ext[2]),\n",
    "        str(ext[1]), str(ext[3])\n",
    "    ),\n",
    "    'appid' : key\n",
    "}\n",
    "print(query_params)"
   ]
  },
  {
   "cell_type": "code",
   "execution_count": null,
   "metadata": {},
   "outputs": [],
   "source": [
    "import requests as rqs\n",
    "\n",
    "data = rqs.get(url, params=query_params)\n",
    "\n",
    "data = data.json().get('list')"
   ]
  },
  {
   "cell_type": "code",
   "execution_count": null,
   "metadata": {},
   "outputs": [],
   "source": [
    "print(len(data))"
   ]
  },
  {
   "cell_type": "code",
   "execution_count": null,
   "metadata": {},
   "outputs": [],
   "source": [
    "print(data)"
   ]
  },
  {
   "cell_type": "code",
   "execution_count": null,
   "metadata": {},
   "outputs": [],
   "source": []
  }
 ],
 "metadata": {
  "kernelspec": {
   "display_name": "Python 3",
   "language": "python",
   "name": "python3"
  },
  "language_info": {
   "codemirror_mode": {
    "name": "ipython",
    "version": 3
   },
   "file_extension": ".py",
   "mimetype": "text/x-python",
   "name": "python",
   "nbconvert_exporter": "python",
   "pygments_lexer": "ipython3",
   "version": "3.8.5"
  }
 },
 "nbformat": 4,
 "nbformat_minor": 4
}
