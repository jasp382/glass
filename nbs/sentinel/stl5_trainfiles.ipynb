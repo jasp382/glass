{
 "cells": [
  {
   "cell_type": "code",
   "execution_count": null,
   "id": "935c364c-c3a0-4773-848a-7c5fac7ea3b1",
   "metadata": {},
   "outputs": [],
   "source": [
    "\"\"\"\n",
    "Random forest - Produce model file\n",
    "\"\"\"\n",
    "\n",
    "import os\n",
    "from glass.rd      import tbl_to_obj\n",
    "from glass.rst.cls import train_to_mdl\n",
    "\n",
    "reffile  = '/mnt/disk1/jasp/a2autocls2023/imgmad/run_mad.xlsx'\n",
    "refsheet = 'mainsheet'\n",
    "\n",
    "\n",
    "mdf = tbl_to_obj(reffile, sheet=refsheet)\n",
    "\n",
    "for i, row in mdf.iterrows():\n",
    "    cvar = tbl_to_obj(reffile, sheet=row.sheet)\n",
    "    \n",
    "    train_to_mdl(\n",
    "        row.traindata,\n",
    "        [os.path.join(row.train_folder, f) for f in cvar.trainvar.tolist()],\n",
    "        row.trainfile,\n",
    "        ntrees=row.ntrees\n",
    "    )"
   ]
  },
  {
   "cell_type": "code",
   "execution_count": null,
   "id": "1d472970-a9a3-4ef5-b669-5fb3c00773cc",
   "metadata": {},
   "outputs": [],
   "source": []
  }
 ],
 "metadata": {
  "kernelspec": {
   "display_name": "Python 3 (ipykernel)",
   "language": "python",
   "name": "python3"
  },
  "language_info": {
   "codemirror_mode": {
    "name": "ipython",
    "version": 3
   },
   "file_extension": ".py",
   "mimetype": "text/x-python",
   "name": "python",
   "nbconvert_exporter": "python",
   "pygments_lexer": "ipython3",
   "version": "3.10.6"
  }
 },
 "nbformat": 4,
 "nbformat_minor": 5
}
