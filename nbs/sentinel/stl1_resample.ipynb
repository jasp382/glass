{
 "cells": [
  {
   "cell_type": "markdown",
   "id": "23d03cd7-b96a-44de-81e1-d029ec104069",
   "metadata": {},
   "source": [
    "### Resampling Sentinel-2 images to a 10 meter spatial resolution"
   ]
  },
  {
   "cell_type": "code",
   "execution_count": null,
   "id": "b71e5207-701b-4314-a12f-328cf84e1c18",
   "metadata": {},
   "outputs": [],
   "source": [
    "img_folder = '/mnt/d/sat_papers/madeira/ano2021_scb'\n",
    "ofolder    = '/mnt/d/sat_papers/madeira/srcisland_2021_scb'\n",
    "\n",
    "cliprst = '/mnt/d/pmsig/ex3/refraster_scb.tif'"
   ]
  },
  {
   "cell_type": "code",
   "execution_count": null,
   "id": "b7400ab0-9b77-4ed8-aca3-3f3c7ae15e14",
   "metadata": {},
   "outputs": [],
   "source": [
    "import os\n",
    "\n",
    "from glass.pys.oss  import lst_ff, mkdir\n",
    "from glass.pys.tm   import now_as_str\n",
    "from glass.dtr.stl  import unzip_img\n",
    "from glass.rst.rmp  import match_cellsize_and_clip"
   ]
  },
  {
   "cell_type": "code",
   "execution_count": null,
   "id": "84c57ac1-3cdf-47ad-820c-89e1f1d50197",
   "metadata": {},
   "outputs": [],
   "source": [
    "imgs = lst_ff(img_folder, file_format='.zip')"
   ]
  },
  {
   "cell_type": "code",
   "execution_count": null,
   "id": "ad96a21d-5fbc-4ce8-9fe0-b64e3d957336",
   "metadata": {},
   "outputs": [],
   "source": [
    "print(imgs)"
   ]
  },
  {
   "cell_type": "code",
   "execution_count": null,
   "id": "d129d7a2-3e08-4fc5-8426-897ca1594bf2",
   "metadata": {},
   "outputs": [],
   "source": [
    "# Image Resampling\n",
    "\n",
    "for img in imgs:\n",
    "    # Create folder for temp files\n",
    "    zfolder = mkdir(os.path.join(ofolder, now_as_str()))\n",
    "    \n",
    "    # Unzip images\n",
    "    bands = unzip_img(img, zfolder)\n",
    "    \n",
    "    # Match cellsize and clip\n",
    "    bands = match_cellsize_and_clip(\n",
    "        [bands[b] for b in bands],\n",
    "        bands[\"B02_10m\"], ofolder,\n",
    "        isint=True, clipgeo=cliprst,\n",
    "        ws=zfolder\n",
    "    )"
   ]
  },
  {
   "cell_type": "code",
   "execution_count": null,
   "id": "11fb8ce3-5b37-4b74-85b6-37db5791da16",
   "metadata": {},
   "outputs": [],
   "source": []
  }
 ],
 "metadata": {
  "kernelspec": {
   "display_name": "Python 3 (ipykernel)",
   "language": "python",
   "name": "python3"
  },
  "language_info": {
   "codemirror_mode": {
    "name": "ipython",
    "version": 3
   },
   "file_extension": ".py",
   "mimetype": "text/x-python",
   "name": "python",
   "nbconvert_exporter": "python",
   "pygments_lexer": "ipython3",
   "version": "3.10.6"
  }
 },
 "nbformat": 4,
 "nbformat_minor": 5
}
