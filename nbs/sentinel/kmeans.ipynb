{
 "cells": [
  {
   "cell_type": "code",
   "execution_count": null,
   "metadata": {},
   "outputs": [],
   "source": [
    "\"\"\"\n",
    "Run k-means\n",
    "\"\"\"\n",
    "\n",
    "from glass.rst.cls import k_means\n",
    "\n",
    "k_means(\n",
    "    '/mnt/d/gpto/caplivro_landscape/carta_clip.tif',\n",
    "    '/mnt/d/gpto/caplivro_landscape/carta_kmeans.tif', 12\n",
    ")"
   ]
  }
 ],
 "metadata": {
  "kernelspec": {
   "display_name": "Python 3 (ipykernel)",
   "language": "python",
   "name": "python3"
  },
  "language_info": {
   "codemirror_mode": {
    "name": "ipython",
    "version": 3
   },
   "file_extension": ".py",
   "mimetype": "text/x-python",
   "name": "python",
   "nbconvert_exporter": "python",
   "pygments_lexer": "ipython3",
   "version": "3.10.6"
  }
 },
 "nbformat": 4,
 "nbformat_minor": 4
}
