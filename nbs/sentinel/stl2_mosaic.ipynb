{
 "cells": [
  {
   "cell_type": "markdown",
   "id": "11bd89fd-d783-4a10-b22a-885b77d16fed",
   "metadata": {},
   "source": [
    "### Create images with images of the same day"
   ]
  },
  {
   "cell_type": "code",
   "execution_count": null,
   "id": "7d203aeb-fc05-499d-9f2d-4115089e3106",
   "metadata": {},
   "outputs": [],
   "source": [
    "ifolder = '/mnt/disk1/jasp/a2autocls2023/imgmad/step1_2021/'\n",
    "ofolder = '/mnt/disk1/jasp/a2autocls2023/imgmad/step2_2021/'"
   ]
  },
  {
   "cell_type": "code",
   "execution_count": null,
   "id": "d2f7660b-0cab-4cdc-9f8b-87b9ee815007",
   "metadata": {},
   "outputs": [],
   "source": [
    "import os\n",
    "from glass.cons.stl import get_ibands, get_lwibands\n",
    "from glass.pys.oss import lst_ff, fprop, copy_file\n",
    "from glass.rst.mos import rsts_to_mosaic"
   ]
  },
  {
   "cell_type": "code",
   "execution_count": null,
   "id": "00a345a4-aff9-4640-880a-e8fb8a7253af",
   "metadata": {},
   "outputs": [],
   "source": [
    "# List Images\n",
    "\n",
    "tifs = lst_ff(ifolder, file_format='.tif')"
   ]
  },
  {
   "cell_type": "code",
   "execution_count": null,
   "id": "d859235a-f0af-4889-9943-470621e6f648",
   "metadata": {},
   "outputs": [],
   "source": [
    "ibands = get_ibands()\n",
    "lwbands = get_lwibands()\n",
    "\n",
    "_ibands = {ibands[i] : lwbands[i] for i in range(len(ibands))}"
   ]
  },
  {
   "cell_type": "code",
   "execution_count": null,
   "id": "353769a6-1d02-44b7-ba38-9617c54b6cb3",
   "metadata": {},
   "outputs": [],
   "source": [
    "_ibands"
   ]
  },
  {
   "cell_type": "code",
   "execution_count": null,
   "id": "4a8351ed-b414-4b50-8406-e757526fc5a8",
   "metadata": {},
   "outputs": [],
   "source": [
    "# ID tiles and days\n",
    "\n",
    "mosaics = {}\n",
    "\n",
    "for img in tifs:\n",
    "    name = fprop(img, 'fn')\n",
    "    \n",
    "    t, d, b, r = name.split('_')\n",
    "    _b = f\"{b}_{r}\"\n",
    "    _d = d.split('T')[0]\n",
    "    \n",
    "    if _d not in mosaics:\n",
    "        mosaics[_d] = {}\n",
    "        \n",
    "    if _ibands[_b] not in mosaics[_d]:\n",
    "        mosaics[_d][_ibands[_b]] = [img]\n",
    "    \n",
    "    else:\n",
    "        mosaics[_d][_ibands[_b]].append(img)"
   ]
  },
  {
   "cell_type": "code",
   "execution_count": null,
   "id": "047e852d-05f4-4dd7-a5ec-13e82813bc9d",
   "metadata": {},
   "outputs": [],
   "source": [
    "mosaics"
   ]
  },
  {
   "cell_type": "code",
   "execution_count": null,
   "id": "a8dca2dc-140c-4374-9c7c-d0dfc89790be",
   "metadata": {},
   "outputs": [],
   "source": [
    "# Create mosaics for each day\n",
    "for day in mosaics:\n",
    "    for band in mosaics[day]:\n",
    "        mos = os.path.join(ofolder, f\"{band}_{day}.tif\")\n",
    "        if len(mosaics[day][band]) < 2:\n",
    "            nb = copy_file(mosaics[day][band][0], mos)\n",
    "        \n",
    "        else:\n",
    "            nb = rsts_to_mosaic(\n",
    "                mosaics[day][band], mos,\n",
    "                api='rasterio', method='max'\n",
    "            )\n",
    "        \n",
    "        mosaics[day][band] = nb"
   ]
  }
 ],
 "metadata": {
  "kernelspec": {
   "display_name": "Python 3 (ipykernel)",
   "language": "python",
   "name": "python3"
  },
  "language_info": {
   "codemirror_mode": {
    "name": "ipython",
    "version": 3
   },
   "file_extension": ".py",
   "mimetype": "text/x-python",
   "name": "python",
   "nbconvert_exporter": "python",
   "pygments_lexer": "ipython3",
   "version": "3.10.6"
  }
 },
 "nbformat": 4,
 "nbformat_minor": 5
}
