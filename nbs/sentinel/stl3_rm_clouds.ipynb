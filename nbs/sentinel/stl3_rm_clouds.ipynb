{
 "cells": [
  {
   "cell_type": "markdown",
   "id": "c6a4c923-78d7-41dd-9131-0c40911edb0c",
   "metadata": {},
   "source": [
    "### Remove clouds from sentinel-2 bands"
   ]
  },
  {
   "cell_type": "code",
   "execution_count": null,
   "id": "f3069519-9340-4b6c-bf26-84f784e9cfd8",
   "metadata": {},
   "outputs": [],
   "source": [
    "folder = '/mnt/disk1/jasp/a2autocls2023/imgmad/step2_2021/'\n",
    "\n",
    "bands = [\n",
    "    'b02', 'b03', 'b04', 'b05', 'b06', 'b07',\n",
    "    'b08', 'b8a', 'b09', 'b11', 'b12'\n",
    "]\n",
    "\n",
    "scl = 'scl'\n",
    "\n",
    "ff = '.tif'\n",
    "\n",
    "ofolder = '/mnt/disk1/jasp/a2autocls2023/imgmad/step3_2021/'\n",
    "\n",
    "clouds_file = '/mnt/disk1/jasp/a2autocls2023/imgmad/clouds_2021.tif'"
   ]
  },
  {
   "cell_type": "code",
   "execution_count": null,
   "id": "df0949b0-fd10-47b3-8b08-75b95ae55c40",
   "metadata": {},
   "outputs": [],
   "source": [
    "from glass.rst.sat.cld import rm_anyclouds"
   ]
  },
  {
   "cell_type": "code",
   "execution_count": null,
   "id": "a12005e6-4009-4702-b0bc-dd4806c3907a",
   "metadata": {},
   "outputs": [],
   "source": [
    "rm_anyclouds(folder, bands, scl, ff, ofolder, clouds_file)"
   ]
  }
 ],
 "metadata": {
  "kernelspec": {
   "display_name": "Python 3 (ipykernel)",
   "language": "python",
   "name": "python3"
  },
  "language_info": {
   "codemirror_mode": {
    "name": "ipython",
    "version": 3
   },
   "file_extension": ".py",
   "mimetype": "text/x-python",
   "name": "python",
   "nbconvert_exporter": "python",
   "pygments_lexer": "ipython3",
   "version": "3.10.6"
  }
 },
 "nbformat": 4,
 "nbformat_minor": 5
}
