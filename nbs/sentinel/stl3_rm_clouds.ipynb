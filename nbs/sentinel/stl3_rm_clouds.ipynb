{
 "cells": [
  {
   "cell_type": "markdown",
   "id": "c6a4c923-78d7-41dd-9131-0c40911edb0c",
   "metadata": {},
   "source": [
    "### Remove clouds from sentinel-2 bands"
   ]
  },
  {
   "cell_type": "code",
   "execution_count": null,
   "id": "f3069519-9340-4b6c-bf26-84f784e9cfd8",
   "metadata": {},
   "outputs": [],
   "source": [
    "folder = '/mnt/disk1/jasp/a2autocls2023/imgmad/step2_2021/'\n",
    "\n",
    "bands = [\n",
    "    'b02', 'b03', 'b04', 'b05', 'b06', 'b07',\n",
    "    'b08', 'b8a', 'b09', 'b11', 'b12'\n",
    "]\n",
    "\n",
    "scl = 'scl'\n",
    "\n",
    "ff = '.tif'\n",
    "\n",
    "ofolder = '/mnt/disk1/jasp/a2autocls2023/imgmad/step3_2021/'\n",
    "\n",
    "clouds_file = '/mnt/disk1/jasp/a2autocls2023/imgmad/clouds_2021.tif'"
   ]
  },
  {
   "cell_type": "code",
   "execution_count": null,
   "id": "57726b01-3ba8-4f7c-aec1-3b9e0b87e9f6",
   "metadata": {},
   "outputs": [],
   "source": [
    "import os\n",
    "from glass.pys.oss  import lst_ff, fprop\n",
    "from glass.pys.tm   import now_as_str\n",
    "from glass.wenv.grs import run_grass\n",
    "from glass.rst.rcls import rcls_rules"
   ]
  },
  {
   "cell_type": "code",
   "execution_count": null,
   "id": "4a480fc5-818d-41fd-85e4-bc5dadc9a931",
   "metadata": {},
   "outputs": [],
   "source": [
    "# list bands\n",
    "imgs = lst_ff(folder, file_format=ff, fnpart=bands)\n",
    "\n",
    "# List scl\n",
    "scls = lst_ff(folder, file_format=ff, fnpart=[scl])"
   ]
  },
  {
   "cell_type": "code",
   "execution_count": null,
   "id": "0ab22a8b-6036-40b8-936b-9d9babc8e296",
   "metadata": {},
   "outputs": [],
   "source": [
    "# Create GRASS GIS Session\n",
    "\n",
    "ws, loc = ofolder, f\"loc_{now_as_str()}\"\n",
    "\n",
    "grsb = run_grass(ws, location=loc, srs=imgs[0])\n",
    "    \n",
    "import grass.script.setup as gsetup\n",
    "    \n",
    "gsetup.init(grsb, ws, loc, 'PERMANENT')"
   ]
  },
  {
   "cell_type": "code",
   "execution_count": null,
   "id": "405bf370-beb3-4c47-a885-117303d5e784",
   "metadata": {},
   "outputs": [],
   "source": [
    "from glass.it.rst   import rst_to_grs, grs_to_rst\n",
    "from glass.rst.rcls import rcls_rst, set_null, null_to_value\n",
    "from glass.rst.alg  import rstcalc"
   ]
  },
  {
   "cell_type": "code",
   "execution_count": null,
   "id": "f0f57b5d-ede4-4f82-97b1-4148806eda72",
   "metadata": {},
   "outputs": [],
   "source": [
    "cldrules = rcls_rules({\n",
    "    0 : 'NULL',\n",
    "    1 : 'NULL',\n",
    "    2 : 1,\n",
    "    3 : 1,\n",
    "    4 : 'NULL',\n",
    "    5 : 'NULL',\n",
    "    6 : 'NULL',\n",
    "    7 : 'NULL',\n",
    "    8 : 1,\n",
    "    9 : 1,\n",
    "    10 : 1,\n",
    "    11 : 'NULL'\n",
    "}, os.path.join(ws, loc, 'clouds_rules.txt'))\n",
    "\n",
    "rscl = []\n",
    "for s in scls:\n",
    "    # Add SCL to GRASS GIS\n",
    "    _s = rst_to_grs(s, fprop(s, 'fn'))\n",
    "\n",
    "    # Reclassify all files to get only things related to clouds\n",
    "    rs = rcls_rst(_s, cldrules, f'rcls_{_s}', api='grass')\n",
    "    _rs = rstcalc(rs, f'cp_{_s}', api='grass')\n",
    "\n",
    "    # Clouds to NoData\n",
    "    null_to_value(_rs, 0, as_cmd=True)\n",
    "    set_null(_rs, 1, ascmd=True)\n",
    "    \n",
    "    rscl.append(_rs)\n",
    "\n",
    "# One file with all clouds as nodata\n",
    "cloud_rst = rstcalc(\" + \".join(rscl), 'clouds', api='grass')\n",
    "\n",
    "# Export clouds\n",
    "rcld = grs_to_rst(cloud_rst, clouds_file, is_int=True)"
   ]
  },
  {
   "cell_type": "code",
   "execution_count": null,
   "id": "ade9fa39-2857-4d88-91f0-bf6060186109",
   "metadata": {},
   "outputs": [],
   "source": [
    "for i in imgs:\n",
    "    # Import all bands to GRASS GIS\n",
    "    _i = rst_to_grs(i, fprop(i, 'fn'))\n",
    "\n",
    "    # Sum to clouds file\n",
    "    i_noclouds = rstcalc(f\"{_i} + {cloud_rst}\", f'nocld_{_i}', api='grass')\n",
    "\n",
    "    # Export file\n",
    "    grs_to_rst(i_noclouds, os.path.join(\n",
    "        ofolder, os.path.basename(i)\n",
    "    ), is_int=True)"
   ]
  }
 ],
 "metadata": {
  "kernelspec": {
   "display_name": "Python 3 (ipykernel)",
   "language": "python",
   "name": "python3"
  },
  "language_info": {
   "codemirror_mode": {
    "name": "ipython",
    "version": 3
   },
   "file_extension": ".py",
   "mimetype": "text/x-python",
   "name": "python",
   "nbconvert_exporter": "python",
   "pygments_lexer": "ipython3",
   "version": "3.10.6"
  }
 },
 "nbformat": 4,
 "nbformat_minor": 5
}
