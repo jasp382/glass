{
 "cells": [
  {
   "cell_type": "code",
   "execution_count": null,
   "metadata": {},
   "outputs": [],
   "source": [
    "\"\"\"\n",
    "Get Products List\n",
    "\"\"\"\n",
    "\n",
    "# Inputs\n",
    "shpExtent = '/mnt/disk1/jasp/a2autocls2023/ref/lmt_coimbra.shp'\n",
    "start_time = \"20180101\" # Use YYYY-MM-DD Format\n",
    "end_time = \"20181231\"\n",
    "out_results = '/mnt/disk1/jasp/a2autocls2023/imgcmb/img_2018p.shp'\n",
    "platform = \"Sentinel-2\"\n",
    "processingL = 'Level-2Ap'\n",
    "\n",
    "from glass.acq.stl import lst_prod\n",
    "\n",
    "r = lst_prod(\n",
    "    shpExtent, start_time, end_time, outshp=out_results,\n",
    "    platname=platform, plevel=processingL\n",
    ")"
   ]
  },
  {
   "cell_type": "code",
   "execution_count": null,
   "metadata": {},
   "outputs": [],
   "source": [
    "\"\"\"\n",
    "Get a list with one image for each month of one year\n",
    "and each cell in grid_shp\n",
    "\"\"\"\n",
    "\n",
    "from glass.geo.dat.sentinel import lst_prod_by_cell_and_year\n",
    "\n",
    "grid_shp = '/mnt/c/gwork/gigs_cmcprj/admin/lmt_cmb.shp'\n",
    "year = 2018\n",
    "id_col = 'Name'\n",
    "platform = \"Sentinel-2\"\n",
    "processingL = 'Level-2A'\n",
    "search_shp = '/mnt/c/gwork/gigs_cmcprj/sentinel.shp'\n",
    "epsg = 3763\n",
    "\n",
    "lst_prod_by_cell_and_year(\n",
    "    grid_shp, id_col, year, search_shp,\n",
    "    platform=platform, processingl=processingL, epsg=epsg\n",
    ")"
   ]
  },
  {
   "cell_type": "code",
   "execution_count": null,
   "metadata": {},
   "outputs": [],
   "source": [
    "\"\"\"\n",
    "DOWNLOAD Images in Shapefile\n",
    "\"\"\"\n",
    "\n",
    "shp = '/mnt/d/a2autocls2023/sentinel/img_cmb22_1.shp'\n",
    "fld = '/mnt/d/a2autocls2023/imgcmb/imgcmb'\n",
    "\n",
    "from glass.acq.stl import down_imgs\n",
    "\n",
    "down_imgs(shp, 'uuid', outFolder=fld)"
   ]
  },
  {
   "cell_type": "code",
   "execution_count": null,
   "metadata": {},
   "outputs": [],
   "source": [
    "imgs = '/mnt/disk1/jasp/a2autocls2023/sentinel/img_cmb21.shp'\n",
    "\n",
    "imgid = 'uuid'\n",
    "\n",
    "ofolder = '/mnt/disk1/jasp/a2autocls2023/imgcmb/src2021'"
   ]
  },
  {
   "cell_type": "code",
   "execution_count": null,
   "metadata": {},
   "outputs": [],
   "source": [
    "import os\n",
    "from sentinelsat    import SentinelAPI\n",
    "from glass.rd.shp   import shp_to_obj\n",
    "from glass.cons.stl import con_datahub"
   ]
  },
  {
   "cell_type": "code",
   "execution_count": null,
   "metadata": {},
   "outputs": [],
   "source": [
    "# Get global vars\n",
    "gvar = con_datahub()\n",
    "user, passw, url = gvar[\"USER\"], gvar[\"PASSWORD\"], gvar[\"URL\"]\n",
    "\n",
    "# Tbl to df\n",
    "df_img = shp_to_obj(imgs)\n",
    "\n",
    "df_img[\"isd\"] = 0\n",
    "df_img[\"ist\"] = 0"
   ]
  },
  {
   "cell_type": "code",
   "execution_count": null,
   "metadata": {},
   "outputs": [],
   "source": [
    "# API Instance\n",
    "api = SentinelAPI(user, passw, url)"
   ]
  },
  {
   "cell_type": "code",
   "execution_count": null,
   "metadata": {},
   "outputs": [],
   "source": [
    "def download(row):\n",
    "    pinfo = api.get_product_odata(row[imgid])\n",
    "    \n",
    "    is_on = pinfo[\"Online\"]\n",
    "    \n",
    "    if is_on:\n",
    "        api.download(row[imgid], directory_path=ofolder)\n",
    "        \n",
    "        row[\"isd\"] = 1\n",
    "    \n",
    "    else:\n",
    "        if not row.ist:\n",
    "            api.trigger_offline_retrieval(row[imgid])\n",
    "            \n",
    "            row[\"ist\"] = 1\n",
    "    \n",
    "    return row"
   ]
  },
  {
   "cell_type": "code",
   "execution_count": null,
   "metadata": {},
   "outputs": [],
   "source": [
    "all_download = 0\n",
    "\n",
    "while not all_download:\n",
    "    df_img = df_img.apply(lambda x: download(x), axis=1)\n",
    "    \n",
    "    dstatus = df_img.isd.tolist()\n",
    "    \n",
    "    if 0 not in dstatus:\n",
    "        all_download = 1"
   ]
  },
  {
   "cell_type": "code",
   "execution_count": null,
   "metadata": {},
   "outputs": [],
   "source": []
  }
 ],
 "metadata": {
  "kernelspec": {
   "display_name": "Python 3 (ipykernel)",
   "language": "python",
   "name": "python3"
  },
  "language_info": {
   "codemirror_mode": {
    "name": "ipython",
    "version": 3
   },
   "file_extension": ".py",
   "mimetype": "text/x-python",
   "name": "python",
   "nbconvert_exporter": "python",
   "pygments_lexer": "ipython3",
   "version": "3.10.6"
  }
 },
 "nbformat": 4,
 "nbformat_minor": 4
}
