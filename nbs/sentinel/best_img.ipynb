{
 "cells": [
  {
   "cell_type": "code",
   "execution_count": 1,
   "id": "85de8db3-f470-4db3-80cd-897d5a1e950c",
   "metadata": {},
   "outputs": [],
   "source": [
    "img_folder = '/mnt/disk1/jasp/a2autocls2023/imgcmb/rmp2018/m_4'\n",
    "\n",
    "refimg = '/mnt/disk1/jasp/a2autocls2023/imgcmb/rmp2018/m_4/T29TNE_20180425T112109_B02_10m.tif'\n",
    "\n",
    "ofolder = '/mnt/disk1/jasp/a2autocls2023/imgcmb/best2018'\n",
    "\n",
    "bands = [\n",
    "    'b02', 'b03', 'b04', 'b05', 'b06', 'b07',\n",
    "    'b08', 'b8a', 'b09', 'b11', 'b12'\n",
    "]\n",
    "bname = 'm4'"
   ]
  },
  {
   "cell_type": "code",
   "execution_count": 2,
   "id": "9842866f-8209-4d65-8f9b-30d2d528c651",
   "metadata": {},
   "outputs": [],
   "source": [
    "import os\n",
    "from glass.cons.sat import get_ibands, get_lwibands\n",
    "from glass.pys.oss import lst_ff, fprop\n",
    "from glass.pys.tm   import now_as_str\n",
    "from glass.wenv.grs import run_grass\n",
    "from glass.rst.rcls import rcls_rules"
   ]
  },
  {
   "cell_type": "code",
   "execution_count": 3,
   "id": "4e221e94-2db7-4349-8420-646a5179979b",
   "metadata": {},
   "outputs": [],
   "source": [
    "ibands = get_ibands()\n",
    "lwbands = get_lwibands()\n",
    "\n",
    "_ibands = {ibands[i] : lwbands[i] for i in range(len(ibands))}"
   ]
  },
  {
   "cell_type": "code",
   "execution_count": 4,
   "id": "a061e22a-26d7-4f75-80de-125cd2112569",
   "metadata": {},
   "outputs": [],
   "source": [
    "# List Images\n",
    "\n",
    "tifs = lst_ff(img_folder, file_format='.tif')"
   ]
  },
  {
   "cell_type": "code",
   "execution_count": 5,
   "id": "19a3e1c8-4206-4397-a192-98405ef1c739",
   "metadata": {},
   "outputs": [],
   "source": [
    "# ID tiles and days\n",
    "\n",
    "imgs = {}\n",
    "\n",
    "for img in tifs:\n",
    "    name = fprop(img, 'fn')\n",
    "    \n",
    "    t, d, b, r = name.split('_')\n",
    "    _b = f\"{b}_{r}\"\n",
    "    _d = d.split('T')[0]\n",
    "    \n",
    "    if _d not in imgs:\n",
    "        imgs[_d] = {}\n",
    "        \n",
    "    imgs[_d][_ibands[_b]] = img"
   ]
  },
  {
   "cell_type": "code",
   "execution_count": 6,
   "id": "dbfcdc90-382b-4959-b952-74cf09af2546",
   "metadata": {},
   "outputs": [
    {
     "data": {
      "text/plain": [
       "'/tmp/tmpozxgf5jc'"
      ]
     },
     "execution_count": 6,
     "metadata": {},
     "output_type": "execute_result"
    }
   ],
   "source": [
    "# Create GRASS GIS Session\n",
    "ws, loc = ofolder, f\"loc_{now_as_str()}\"\n",
    "\n",
    "grsb = run_grass(ws, location=loc, srs=refimg)\n",
    "    \n",
    "import grass.script.setup as gsetup\n",
    "    \n",
    "gsetup.init(grsb, ws, loc, 'PERMANENT')"
   ]
  },
  {
   "cell_type": "code",
   "execution_count": 7,
   "id": "f267e121-6168-4c23-8704-1d31389922b5",
   "metadata": {},
   "outputs": [],
   "source": [
    "from glass.it.rst   import rst_to_grs, grs_to_rst\n",
    "from glass.rst.rcls import rcls_rst\n",
    "from glass.rst.mos import rsts_to_mosaic, rseries\n",
    "from glass.rst.alg import grsrstcalc"
   ]
  },
  {
   "cell_type": "code",
   "execution_count": 8,
   "id": "ac490906-b246-4cba-a6e1-da020efaa1ca",
   "metadata": {},
   "outputs": [],
   "source": [
    "# For each image\n",
    "timeseries = {}\n",
    "\n",
    "scl_rules = rcls_rules({\n",
    "    0  : 'NULL', 1 : 0,\n",
    "    2  : 0, 3 : 0,\n",
    "    4  : 0, 5 : 0, 6 : 0, 7 : 0,\n",
    "    8  : 'NULL', 9 : 'NULL',\n",
    "    10 : 'NULL',\n",
    "    11 : 0\n",
    "}, os.path.join(ws, loc, 'only_data.txt'))\n",
    "\n",
    "for img in imgs:\n",
    "    # Import all bands\n",
    "    for b in imgs[img]:\n",
    "        if b == 'aot':\n",
    "            continue\n",
    "        \n",
    "        imgs[img][b] = rst_to_grs(imgs[img][b], f'{b}_{img}')\n",
    "    \n",
    "    # Reclassify SCL\n",
    "    rcls = rcls_rst(imgs[img]['scl'], scl_rules, f'dmask_{img}', api='grass')\n",
    "    _rs = grsrstcalc(rcls, f'dmaskcp_{img}')\n",
    "    \n",
    "    # Get only cells with data\n",
    "    for b in bands:\n",
    "        nb = grsrstcalc(f'{imgs[img][b]} + {_rs}', f'd_{imgs[img][b]}')\n",
    "        \n",
    "        if b not in timeseries:\n",
    "            timeseries[b] = [nb]\n",
    "        \n",
    "        else:\n",
    "            timeseries[b].append(nb)"
   ]
  },
  {
   "cell_type": "code",
   "execution_count": 9,
   "id": "04c09142-0165-4a2e-9788-3d30961feb49",
   "metadata": {},
   "outputs": [
    {
     "name": "stderr",
     "output_type": "stream",
     "text": [
      "Warning 1: /mnt/disk1/jasp/a2autocls2023/imgcmb/best2018/m4_b02_patch.tif: Metadata exceeding 32000 bytes cannot be written into GeoTIFF. Transferred to PAM instead.\n",
      "Warning 1: /mnt/disk1/jasp/a2autocls2023/imgcmb/best2018/m4_b03_patch.tif: Metadata exceeding 32000 bytes cannot be written into GeoTIFF. Transferred to PAM instead.\n",
      "Warning 1: /mnt/disk1/jasp/a2autocls2023/imgcmb/best2018/m4_b04_patch.tif: Metadata exceeding 32000 bytes cannot be written into GeoTIFF. Transferred to PAM instead.\n",
      "Warning 1: /mnt/disk1/jasp/a2autocls2023/imgcmb/best2018/m4_b05_patch.tif: Metadata exceeding 32000 bytes cannot be written into GeoTIFF. Transferred to PAM instead.\n",
      "Warning 1: /mnt/disk1/jasp/a2autocls2023/imgcmb/best2018/m4_b06_patch.tif: Metadata exceeding 32000 bytes cannot be written into GeoTIFF. Transferred to PAM instead.\n",
      "Warning 1: /mnt/disk1/jasp/a2autocls2023/imgcmb/best2018/m4_b07_patch.tif: Metadata exceeding 32000 bytes cannot be written into GeoTIFF. Transferred to PAM instead.\n",
      "Warning 1: /mnt/disk1/jasp/a2autocls2023/imgcmb/best2018/m4_b08_patch.tif: Metadata exceeding 32000 bytes cannot be written into GeoTIFF. Transferred to PAM instead.\n",
      "Warning 1: /mnt/disk1/jasp/a2autocls2023/imgcmb/best2018/m4_b8a_patch.tif: Metadata exceeding 32000 bytes cannot be written into GeoTIFF. Transferred to PAM instead.\n",
      "Warning 1: /mnt/disk1/jasp/a2autocls2023/imgcmb/best2018/m4_b09_patch.tif: Metadata exceeding 32000 bytes cannot be written into GeoTIFF. Transferred to PAM instead.\n",
      "Warning 1: /mnt/disk1/jasp/a2autocls2023/imgcmb/best2018/m4_b11_patch.tif: Metadata exceeding 32000 bytes cannot be written into GeoTIFF. Transferred to PAM instead.\n",
      "Warning 1: /mnt/disk1/jasp/a2autocls2023/imgcmb/best2018/m4_b12_patch.tif: Metadata exceeding 32000 bytes cannot be written into GeoTIFF. Transferred to PAM instead.\n"
     ]
    }
   ],
   "source": [
    "stats = {\n",
    "    'avg' : 'average', 'mode' : 'mode',\n",
    "    'min' : 'minimum', 'max' : 'maximum',\n",
    "    'ddev' : 'stddev'\n",
    "}\n",
    "for b in timeseries:\n",
    "    patch_i = rsts_to_mosaic(timeseries[b], f'{b}_patch', api=\"grass\")\n",
    "    \n",
    "    grs_to_rst(patch_i, os.path.join(\n",
    "        ofolder, f'{bname}_{patch_i}.tif'\n",
    "    ), is_int=True)\n",
    "    \n",
    "    for s in stats:\n",
    "        orst = rseries(timeseries[b], f'{b}_{s}', stats[s],as_cmd=True)\n",
    "        grs_to_rst(orst, os.path.join(\n",
    "            ofolder, f'{bname}_{orst}.tif'\n",
    "        ), is_int=True if s != 'avg' and s != 'ddev' else False)"
   ]
  },
  {
   "cell_type": "code",
   "execution_count": null,
   "id": "29441764-2686-4ac9-a76b-0b2c40c9f03d",
   "metadata": {},
   "outputs": [],
   "source": []
  }
 ],
 "metadata": {
  "kernelspec": {
   "display_name": "Python 3 (ipykernel)",
   "language": "python",
   "name": "python3"
  },
  "language_info": {
   "codemirror_mode": {
    "name": "ipython",
    "version": 3
   },
   "file_extension": ".py",
   "mimetype": "text/x-python",
   "name": "python",
   "nbconvert_exporter": "python",
   "pygments_lexer": "ipython3",
   "version": "3.10.6"
  }
 },
 "nbformat": 4,
 "nbformat_minor": 5
}
