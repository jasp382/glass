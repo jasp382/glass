{
 "cells": [
  {
   "cell_type": "markdown",
   "id": "3ca34a4d-96bc-494e-a5b9-5d7e1bf6a75b",
   "metadata": {},
   "source": [
    "### Setup Train Raster"
   ]
  },
  {
   "cell_type": "code",
   "execution_count": null,
   "id": "4b960f39-435b-44e9-bcbe-b22c6459f605",
   "metadata": {},
   "outputs": [],
   "source": [
    "train_ref = '/mnt/disk1/jasp/a2autocls2023/urbanatlas/funchal/ua18_gen.shp'\n",
    "\n",
    "class_col = 'code'\n",
    "\n",
    "class_proportion = {\n",
    "    1 : 21.23,\n",
    "    2 : 38.68,\n",
    "    3 : 36.28,\n",
    "    4 : 1.1,\n",
    "    5 : 0.01,\n",
    "    6 : 2.71\n",
    "}\n",
    "\n",
    "ref_raster = '/mnt/disk1/jasp/a2autocls2023/imgmad/step3_2018/b02_20180812.tif'\n",
    "\n",
    "clouds = '/mnt/disk1/jasp/a2autocls2023/imgmad/clouds_2018.tif'\n",
    "\n",
    "sample_dim = 500000\n",
    "cls_sample_min = 400\n",
    "\n",
    "out_rst = '/mnt/disk1/jasp/a2autocls2023/imgmad/train/ua18_500k.tif'"
   ]
  },
  {
   "cell_type": "code",
   "execution_count": null,
   "id": "c6506443-ce06-4f9b-975d-5ce2121116ca",
   "metadata": {},
   "outputs": [],
   "source": [
    "import os\n",
    "from glass.pys.oss import fprop\n",
    "from glass.pys.tm   import now_as_str\n",
    "from glass.smp import proprndcells_to_rst\n",
    "from glass.wenv.grs import run_grass"
   ]
  },
  {
   "cell_type": "code",
   "execution_count": null,
   "id": "dd8beb00-354d-46d1-ab8d-4a9e3ee1be73",
   "metadata": {},
   "outputs": [],
   "source": [
    "# Create GRASS GIS Session\n",
    "\n",
    "ws, loc = os.path.dirname(out_rst), f\"loc_{now_as_str()}\"\n",
    "\n",
    "grsb = run_grass(ws, location=loc, srs=ref_raster)\n",
    "    \n",
    "import grass.script.setup as gsetup\n",
    "    \n",
    "gsetup.init(grsb, ws, loc, 'PERMANENT')"
   ]
  },
  {
   "cell_type": "code",
   "execution_count": null,
   "id": "b90152a9-a66f-4b9a-ac21-e380363f5203",
   "metadata": {},
   "outputs": [],
   "source": [
    "from glass.it.shp import shp_to_grs\n",
    "from glass.it.rst   import rst_to_grs, grs_to_rst\n",
    "from glass.dtt.torst import grsshp_to_grsrst\n",
    "from glass.rst.alg  import grsrstcalc"
   ]
  },
  {
   "cell_type": "code",
   "execution_count": null,
   "id": "3b7e3c32-9b82-4acd-9b2f-245c8c015442",
   "metadata": {},
   "outputs": [],
   "source": [
    "# Add Train ESRI Shapefile to GRASS GIS\n",
    "train_shp = shp_to_grs(train_ref, fprop(train_ref, 'fn'))\n",
    "\n",
    "# Train to Raster\n",
    "train_rst = grsshp_to_grsrst(train_shp, class_col, f\"rst_{train_shp}\")"
   ]
  },
  {
   "cell_type": "code",
   "execution_count": null,
   "id": "8ba216e4-abd2-40dc-94d0-cfc262338b75",
   "metadata": {},
   "outputs": [],
   "source": [
    "# Remove clouds if necessary\n",
    "\n",
    "if clouds:\n",
    "    _clouds = rst_to_grs(clouds, fprop(clouds, 'fn'))\n",
    "    \n",
    "    train_rst = grsrstcalc(\n",
    "        f\"{train_rst} + {_clouds}\", f\"f_{train_rst}\",\n",
    "        api='grass'\n",
    "    )"
   ]
  },
  {
   "cell_type": "code",
   "execution_count": null,
   "id": "e63b224a-eb68-4e82-9c53-1997b70bc6c6",
   "metadata": {},
   "outputs": [],
   "source": [
    "# Export result\n",
    "tres = grs_to_rst(train_rst, os.path.join(\n",
    "    ws, loc,\n",
    "    f\"tmp_{fprop(out_rst, 'fn')}.tif\"\n",
    "), is_int=True)\n",
    "\n",
    "# Select random sample\n",
    "proprndcells_to_rst(\n",
    "    tres, class_proportion, out_rst,\n",
    "    sample_dim, cls_sample_min=cls_sample_min\n",
    ")"
   ]
  }
 ],
 "metadata": {
  "kernelspec": {
   "display_name": "Python 3 (ipykernel)",
   "language": "python",
   "name": "python3"
  },
  "language_info": {
   "codemirror_mode": {
    "name": "ipython",
    "version": 3
   },
   "file_extension": ".py",
   "mimetype": "text/x-python",
   "name": "python",
   "nbconvert_exporter": "python",
   "pygments_lexer": "ipython3",
   "version": "3.10.6"
  }
 },
 "nbformat": 4,
 "nbformat_minor": 5
}
