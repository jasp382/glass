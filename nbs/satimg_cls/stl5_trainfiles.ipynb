{
 "cells": [
  {
   "cell_type": "code",
   "execution_count": null,
   "id": "935c364c-c3a0-4773-848a-7c5fac7ea3b1",
   "metadata": {},
   "outputs": [],
   "source": [
    "\"\"\"\n",
    "Random forest - Produce model file\n",
    "\"\"\"\n",
    "\n",
    "import os\n",
    "from glass.rd      import tbl_to_obj\n",
    "from glass.rst.cls import train_to_mdl\n",
    "from glass.pys.oss import lst_ff\n",
    "\n",
    "reffile  = '/mnt/g/autocls_franc/cls_exp.xlsx'\n",
    "refsheet = 'mainsheet'\n",
    "\n",
    "# Train data and classification data are the same?\n",
    "# True if Yes\n",
    "tdata_is_cdata = None\n",
    "\n",
    "\n",
    "mdf = tbl_to_obj(reffile, sheet=refsheet)\n",
    "\n",
    "for i, row in mdf.iterrows():\n",
    "    if not tdata_is_cdata:\n",
    "        cvar = tbl_to_obj(reffile, sheet=row.sheet)\n",
    "\n",
    "        imgs = [os.path.join(row.train_folder, f) for f in cvar.trainvar.tolist()]\n",
    "\n",
    "    else:\n",
    "        imgs = lst_ff(row.train_folder, file_format='.tif')\n",
    "    \n",
    "    train_to_mdl(\n",
    "        row.ref_data, imgs,\n",
    "        row.model_file, ntrees=row.ntrees\n",
    "    )"
   ]
  },
  {
   "cell_type": "code",
   "execution_count": null,
   "id": "93b0ba4f-3251-429a-8345-554551584b2d",
   "metadata": {},
   "outputs": [],
   "source": []
  }
 ],
 "metadata": {
  "kernelspec": {
   "display_name": "Python 3 (ipykernel)",
   "language": "python",
   "name": "python3"
  },
  "language_info": {
   "codemirror_mode": {
    "name": "ipython",
    "version": 3
   },
   "file_extension": ".py",
   "mimetype": "text/x-python",
   "name": "python",
   "nbconvert_exporter": "python",
   "pygments_lexer": "ipython3",
   "version": "3.10.12"
  }
 },
 "nbformat": 4,
 "nbformat_minor": 5
}
