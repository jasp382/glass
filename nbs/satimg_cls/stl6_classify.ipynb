{
 "cells": [
  {
   "cell_type": "markdown",
   "id": "ebb8a4c6-ba08-43a5-872f-2aeb14092a3d",
   "metadata": {},
   "source": [
    "### Execute classification"
   ]
  },
  {
   "cell_type": "code",
   "execution_count": null,
   "id": "ff755d27-96af-4cce-b88b-b5f291855f5b",
   "metadata": {},
   "outputs": [],
   "source": [
    "import os\n",
    "from glass.rd import tbl_to_obj\n",
    "from glass.rst.cls import imgcls_from_mdl\n",
    "\n",
    "reffile  = '/mnt/disk1/jasp/a2autocls2023/imgmad/run_mad.xlsx'\n",
    "refsheet = 'mainsheet'\n",
    "\n",
    "\n",
    "mdf = tbl_to_obj(reffile, sheet=refsheet)\n",
    "\n",
    "\n",
    "for i, row in mdf.iterrows():\n",
    "    cvar = tbl_to_obj(reffile, sheet=row.sheet)\n",
    "    \n",
    "    imgcls_from_mdl(\n",
    "        row.trainfile,\n",
    "        [os.path.join(row.class_folder, f) for f in cvar.classvar.tolist()],\n",
    "        row.result\n",
    "    )"
   ]
  },
  {
   "cell_type": "code",
   "execution_count": null,
   "id": "ea89d65a-f10b-4624-ae05-c5d75784d09f",
   "metadata": {},
   "outputs": [],
   "source": [
    "feats = '/home/jasp/autocls/feat/feat_20210817.tif'\n",
    "\n",
    "model = '/home/jasp/autocls/models/exp32b12_valeflores.bz2'\n",
    "\n",
    "y = '/home/jasp/autocls/classref/refexp32a_rst.tif'"
   ]
  },
  {
   "cell_type": "code",
   "execution_count": null,
   "id": "c02b12ea-a0d8-4c3f-9807-df5c801b919f",
   "metadata": {},
   "outputs": [],
   "source": [
    "from joblib import load\n",
    "from glass.rd.rst import rsts_to_featarray"
   ]
  },
  {
   "cell_type": "code",
   "execution_count": null,
   "id": "230b2dd9-8dc2-4c12-bc88-680f54ffa7dc",
   "metadata": {},
   "outputs": [],
   "source": [
    "rf = load(model)\n",
    "\n",
    "x, nx = rsts_to_featarray(feats)\n",
    "\n",
    "# Predict\n",
    "y_cls = rf.predict(nx)"
   ]
  },
  {
   "cell_type": "code",
   "execution_count": null,
   "id": "a70f4e96-8632-4d20-9eae-3cb974cbf869",
   "metadata": {},
   "outputs": [],
   "source": [
    "rf.feature_importances_"
   ]
  },
  {
   "cell_type": "code",
   "execution_count": null,
   "id": "1f83e5cf-48e7-4047-982b-e4a0d368afb4",
   "metadata": {},
   "outputs": [],
   "source": []
  }
 ],
 "metadata": {
  "kernelspec": {
   "display_name": "Python 3 (ipykernel)",
   "language": "python",
   "name": "python3"
  },
  "language_info": {
   "codemirror_mode": {
    "name": "ipython",
    "version": 3
   },
   "file_extension": ".py",
   "mimetype": "text/x-python",
   "name": "python",
   "nbconvert_exporter": "python",
   "pygments_lexer": "ipython3",
   "version": "3.10.12"
  }
 },
 "nbformat": 4,
 "nbformat_minor": 5
}
