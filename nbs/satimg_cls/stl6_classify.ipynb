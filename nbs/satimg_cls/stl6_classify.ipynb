{
 "cells": [
  {
   "cell_type": "markdown",
   "id": "ebb8a4c6-ba08-43a5-872f-2aeb14092a3d",
   "metadata": {},
   "source": [
    "### Execute classification"
   ]
  },
  {
   "cell_type": "code",
   "execution_count": null,
   "id": "ff755d27-96af-4cce-b88b-b5f291855f5b",
   "metadata": {},
   "outputs": [],
   "source": [
    "import os\n",
    "from glass.rd import tbl_to_obj\n",
    "from glass.rst.cls import imgcls_from_mdl\n",
    "\n",
    "reffile  = '/mnt/disk1/jasp/a2autocls2023/imgmad/run_mad.xlsx'\n",
    "refsheet = 'mainsheet'\n",
    "\n",
    "\n",
    "mdf = tbl_to_obj(reffile, sheet=refsheet)\n",
    "\n",
    "\n",
    "for i, row in mdf.iterrows():\n",
    "    cvar = tbl_to_obj(reffile, sheet=row.sheet)\n",
    "    \n",
    "    imgcls_from_mdl(\n",
    "        row.trainfile,\n",
    "        [os.path.join(row.class_folder, f) for f in cvar.classvar.tolist()],\n",
    "        row.result\n",
    "    )"
   ]
  },
  {
   "cell_type": "code",
   "execution_count": null,
   "id": "ea89d65a-f10b-4624-ae05-c5d75784d09f",
   "metadata": {},
   "outputs": [],
   "source": []
  }
 ],
 "metadata": {
  "kernelspec": {
   "display_name": "Python 3 (ipykernel)",
   "language": "python",
   "name": "python3"
  },
  "language_info": {
   "codemirror_mode": {
    "name": "ipython",
    "version": 3
   },
   "file_extension": ".py",
   "mimetype": "text/x-python",
   "name": "python",
   "nbconvert_exporter": "python",
   "pygments_lexer": "ipython3",
   "version": "3.10.6"
  }
 },
 "nbformat": 4,
 "nbformat_minor": 5
}
