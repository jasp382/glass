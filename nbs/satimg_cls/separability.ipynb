{
 "cells": [
  {
   "cell_type": "code",
   "execution_count": null,
   "id": "9a0b54d6-22bb-490a-8039-8412f508c21a",
   "metadata": {},
   "outputs": [],
   "source": [
    "classes_leg = {\n",
    "    1 : 'Sealed',\n",
    "    2 : 'Trees',\n",
    "    3 : 'Shrubs',\n",
    "    4 : 'Herbaceous',\n",
    "    5 : 'Wetlands',\n",
    "    6 : 'Non_Vegetated',\n",
    "    7 : 'Water',\n",
    "    99 : 'Water_2'\n",
    "}\n",
    "\n",
    "xlsx = '/home/gisuser/autocls/sepinputs.xlsx'\n",
    "\n",
    "out = '/mnt/g/autocls/exp1_sep'\n",
    "\n",
    "import os\n",
    "from glass.rd import tbl_to_obj\n",
    "from glass.pys.oss import fprop\n",
    "from glass.rst.lulc.sep import separability_matrix\n",
    "\n",
    "df = tbl_to_obj(xlsx)\n",
    "\n",
    "for i, row in df.iterrows():\n",
    "    separability_matrix(\n",
    "        row.filter1, row.imgs, classes_leg,\n",
    "        os.path.join(out, f'{fprop(row.filter1, \"fn\")}.xlsx')\n",
    "    )\n",
    "    separability_matrix(\n",
    "        row.rules1, row.imgs, classes_leg,\n",
    "        os.path.join(out, f'{fprop(row.rules1, \"fn\")}.xlsx')\n",
    "    )\n",
    "    separability_matrix(\n",
    "        row.rules2, row.imgs, classes_leg,\n",
    "        os.path.join(out, f'{fprop(row.rules2, \"fn\")}.xlsx')\n",
    "    )\n",
    "\n"
   ]
  },
  {
   "cell_type": "code",
   "execution_count": null,
   "id": "7a527f84-fa12-49e1-9f99-9cc77f12efab",
   "metadata": {},
   "outputs": [],
   "source": [
    "import numpy as np\n",
    "import pandas as pd\n",
    "\n",
    "from scipy.stats import multivariate_normal\n",
    "\n",
    "import math as m\n",
    "\n",
    "from osgeo import gdal, gdal_array\n",
    "\n",
    "from glass.pys.oss import lst_ff\n",
    "from glass.wt import obj_to_tbl"
   ]
  },
  {
   "cell_type": "code",
   "execution_count": null,
   "id": "9b25e4fa-9fb9-4b3e-8b6a-77fab7e3e8c4",
   "metadata": {},
   "outputs": [],
   "source": [
    "def bhattacharyya_distance(mean1, cov1, mean2, cov2):\n",
    "    dist = 0.125 * (mean2 - mean1).T @ np.linalg.inv(0.5 * (cov1 + cov2)) @ (mean2 - mean1)\n",
    "    return dist"
   ]
  },
  {
   "cell_type": "code",
   "execution_count": null,
   "id": "bb0d6860-8d16-47ab-89b8-cec12135e79e",
   "metadata": {},
   "outputs": [],
   "source": [
    "featfiles = lst_ff(featfolder, file_format='.tif')"
   ]
  },
  {
   "cell_type": "code",
   "execution_count": null,
   "id": "a314648f-3a5c-4d44-bc00-9da219732623",
   "metadata": {},
   "outputs": [],
   "source": [
    "# Open Data\n",
    "refimg = gdal.Open(refrst, gdal.GA_ReadOnly)\n",
    "\n",
    "feats = [gdal.Open(i, gdal.GA_ReadOnly) for i in featfiles]"
   ]
  },
  {
   "cell_type": "code",
   "execution_count": null,
   "id": "82b3de78-1e49-4d9c-a6dc-ad812b7745f6",
   "metadata": {},
   "outputs": [],
   "source": [
    "# Get Ref NoData Value\n",
    "\n",
    "ndval = refimg.GetRasterBand(1).GetNoDataValue()\n",
    "\n",
    "# Get band number for each raster\n",
    "featbands = [i.RasterCount for i in feats]\n",
    "\n",
    "# Get number of features\n",
    "nfeat = sum(featbands)"
   ]
  },
  {
   "cell_type": "code",
   "execution_count": null,
   "id": "46234eb3-d6b1-48a4-ad88-21512161a36e",
   "metadata": {},
   "outputs": [],
   "source": [
    "# Convert imgs to Array, remove nodata values and reshape\n",
    "refnum = refimg.GetRasterBand(1).ReadAsArray()\n",
    "refnum = refnum.reshape((-1, 1))\n",
    "\n",
    "# Get Ref array without nodata value\n",
    "refref = refnum[refnum != ndval]"
   ]
  },
  {
   "cell_type": "code",
   "execution_count": null,
   "id": "f075945b-f384-472c-b96d-1080bfcfe2a1",
   "metadata": {},
   "outputs": [],
   "source": [
    "refref.shape"
   ]
  },
  {
   "cell_type": "code",
   "execution_count": null,
   "id": "ac098608-aeef-4408-ba63-c5cc025ad96c",
   "metadata": {},
   "outputs": [],
   "source": [
    "# Get features array\n",
    "featnum = np.zeros((\n",
    "    refref.shape[0], nfeat),\n",
    "    gdal_array.GDALTypeCodeToNumericTypeCode(\n",
    "        feats[0].GetRasterBand(1).DataType\n",
    "    )\n",
    ")\n",
    "\n",
    "f = 0\n",
    "for r in range(len(feats)):\n",
    "    for b in range(featbands[r]):\n",
    "        a = feats[r].GetRasterBand(b+1).ReadAsArray()\n",
    "        a = a.reshape((-1, 1))\n",
    "        a = a[refnum != ndval]\n",
    "\n",
    "        featnum[:, f] = a\n",
    "\n",
    "        f += 1"
   ]
  },
  {
   "cell_type": "code",
   "execution_count": null,
   "id": "b07ed03c-f8da-4a43-811f-9f6588205ba8",
   "metadata": {},
   "outputs": [],
   "source": [
    "# ID classes\n",
    "classes = np.unique(refref)"
   ]
  },
  {
   "cell_type": "code",
   "execution_count": null,
   "id": "0e7bb60e-f62d-47ef-b2c5-ddcea014da5b",
   "metadata": {},
   "outputs": [],
   "source": [
    "# Create an array with the distribuitions\n",
    "# for each class\n",
    "clsdist = []\n",
    "for cls in classes:\n",
    "    clsdist.append(featnum[refref == cls])"
   ]
  },
  {
   "cell_type": "code",
   "execution_count": null,
   "id": "91e8ea0e-c8b7-4497-b26d-92a062b065d7",
   "metadata": {},
   "outputs": [],
   "source": [
    "# Get Mean and Covariance matrix\n",
    "means = []\n",
    "covs = []\n",
    "\n",
    "for sa in clsdist:\n",
    "    means.append(np.mean(sa, axis=0))\n",
    "    covs.append(np.cov(sa.T))"
   ]
  },
  {
   "cell_type": "code",
   "execution_count": null,
   "id": "ef24886a-b846-495a-baba-e63bccff5501",
   "metadata": {},
   "outputs": [],
   "source": [
    "# Compute Bhattacharyya distance\n",
    "# for each pair of classes\n",
    "ftbl_bd = []\n",
    "ftbl_jf = []\n",
    "for c in range(len(classes)):\n",
    "    _bd = [classes_leg[classes[c]]]\n",
    "    _jf = [classes_leg[classes[c]]]\n",
    "    \n",
    "    for _c in range(len(classes)):\n",
    "        # Compute Bhattacharyya distance between two distributions\n",
    "        bdistance = bhattacharyya_distance(\n",
    "            means[c], covs[c],\n",
    "            means[_c], covs[_c]\n",
    "        )\n",
    "\n",
    "        # Compute Jeffries-Matusita distance\n",
    "        jeffries = 2 * (1 - m.exp(-bdistance))\n",
    "\n",
    "        _bd.append(bdistance)\n",
    "        _jf.append(jeffries)\n",
    "\n",
    "    ftbl_bd.append(_bd)\n",
    "    ftbl_jf.append(_jf)"
   ]
  },
  {
   "cell_type": "code",
   "execution_count": null,
   "id": "1c5db922-7cf0-4a5b-8dbc-8d52b1069456",
   "metadata": {},
   "outputs": [],
   "source": [
    "# Generate final table\n",
    "\n",
    "cols = ['class'] + [classes_leg[c] for c in classes]\n",
    "df_bd = pd.DataFrame(ftbl_bd, columns=cols)\n",
    "df_jf = pd.DataFrame(ftbl_jf, columns=cols)\n",
    "\n",
    "obj_to_tbl([df_bd, df_jf], out_tbl, sheetsName=[\n",
    "    'Bhattacharyya', 'Jeffries'\n",
    "])"
   ]
  }
 ],
 "metadata": {
  "kernelspec": {
   "display_name": "Python 3 (ipykernel)",
   "language": "python",
   "name": "python3"
  },
  "language_info": {
   "codemirror_mode": {
    "name": "ipython",
    "version": 3
   },
   "file_extension": ".py",
   "mimetype": "text/x-python",
   "name": "python",
   "nbconvert_exporter": "python",
   "pygments_lexer": "ipython3",
   "version": "3.10.12"
  }
 },
 "nbformat": 4,
 "nbformat_minor": 5
}
