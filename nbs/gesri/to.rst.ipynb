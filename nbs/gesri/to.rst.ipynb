{
 "cells": [
  {
   "cell_type": "code",
   "execution_count": null,
   "metadata": {},
   "outputs": [],
   "source": [
    "\"\"\"\n",
    "All shapes in on Folder to Raster\n",
    "\"\"\"\n",
    "\n",
    "import os\n",
    "from gesri.dct.torst import shp_to_rst\n",
    "from glass.pys.oss import lst_ff, get_filename\n",
    "\n",
    "inFolder = r'D:\\gpto\\fireloc_db\\lulc_data\\clc_18_l2'\n",
    "ouFolder = r'D:\\gpto\\fireloc_db\\lulc_data\\clc_18_l2_rst'\n",
    "snapRst  = r'D:\\gpto\\fireloc_db\\ref\\rst_ref.tif'\n",
    "\n",
    "# list shps\n",
    "shps = lst_ff(inFolder, file_format='.shp')\n",
    "\n",
    "# To Raster\n",
    "for s in shps:\n",
    "    shp_to_rst(s, \"clsid\", 10, os.path.join(\n",
    "        ouFolder, \"{}.tif\".format(get_filename(s))\n",
    "    ), snap=snapRst)"
   ]
  },
  {
   "cell_type": "code",
   "execution_count": null,
   "metadata": {},
   "outputs": [],
   "source": [
    "from arcgis.features import GeoAccessor\n",
    "import pandas as pd"
   ]
  },
  {
   "cell_type": "code",
   "execution_count": null,
   "metadata": {},
   "outputs": [],
   "source": [
    "shp = r'C:\\gwork\\fireloc\\datasets\\mdt_m888\\masks.shp'\n",
    "\n",
    "sdf = pd.DataFrame.spatial.from_featureclass(shp)"
   ]
  },
  {
   "cell_type": "code",
   "execution_count": null,
   "metadata": {},
   "outputs": [],
   "source": [
    "print(sdf)"
   ]
  },
  {
   "cell_type": "code",
   "execution_count": null,
   "metadata": {},
   "outputs": [],
   "source": []
  }
 ],
 "metadata": {
  "kernelspec": {
   "display_name": "Python 3",
   "language": "python",
   "name": "python3"
  },
  "language_info": {
   "codemirror_mode": {
    "name": "ipython",
    "version": 3
   },
   "file_extension": ".py",
   "mimetype": "text/x-python",
   "name": "python",
   "nbconvert_exporter": "python",
   "pygments_lexer": "ipython3",
   "version": "3.6.8"
  }
 },
 "nbformat": 4,
 "nbformat_minor": 2
}
