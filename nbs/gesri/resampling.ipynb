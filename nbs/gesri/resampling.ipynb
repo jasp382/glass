{
 "cells": [
  {
   "cell_type": "code",
   "execution_count": 1,
   "metadata": {},
   "outputs": [
    {
     "data": {
      "text/plain": [
       "['F:\\\\phd_auto_sat_class\\\\sat_img\\\\T32UMV_20190704T103029_B05_20m.tif',\n",
       " 'F:\\\\phd_auto_sat_class\\\\sat_img\\\\T32UMV_20190704T103029_B06_20m.tif',\n",
       " 'F:\\\\phd_auto_sat_class\\\\sat_img\\\\T32UMV_20190704T103029_B07_20m.tif',\n",
       " 'F:\\\\phd_auto_sat_class\\\\sat_img\\\\T32UMV_20190704T103029_B8A_20m.tif',\n",
       " 'F:\\\\phd_auto_sat_class\\\\sat_img\\\\T32UMV_20190704T103029_B11_20m.tif',\n",
       " 'F:\\\\phd_auto_sat_class\\\\sat_img\\\\T32UMV_20190704T103029_B12_20m.tif']"
      ]
     },
     "execution_count": 1,
     "metadata": {},
     "output_type": "execute_result"
    }
   ],
   "source": [
    "from gesri.df.mng.rst.proc import rst_resampling\n",
    "\n",
    "inrst = [\n",
    "    r'F:\\phd_auto_sat_class\\sat_img\\T32UMV_20190704T103029_B05_20m.jp2',\n",
    "    r'F:\\phd_auto_sat_class\\sat_img\\T32UMV_20190704T103029_B06_20m.jp2',\n",
    "    r'F:\\phd_auto_sat_class\\sat_img\\T32UMV_20190704T103029_B07_20m.jp2',\n",
    "    r'F:\\phd_auto_sat_class\\sat_img\\T32UMV_20190704T103029_B8A_20m.jp2',\n",
    "    r'F:\\phd_auto_sat_class\\sat_img\\T32UMV_20190704T103029_B11_20m.jp2',\n",
    "    r'F:\\phd_auto_sat_class\\sat_img\\T32UMV_20190704T103029_B12_20m.jp2'\n",
    "]\n",
    "\n",
    "outrst = r'F:\\phd_auto_sat_class\\sat_img'\n",
    "\n",
    "TEMPLATE = r'F:\\phd_auto_sat_class\\sat_img\\T32UMV_20190704T103029_B02_10m.jp2'\n",
    "\n",
    "rst_resampling(inrst, outrst, 10, template=TEMPLATE)"
   ]
  },
  {
   "cell_type": "code",
   "execution_count": null,
   "metadata": {},
   "outputs": [],
   "source": []
  }
 ],
 "metadata": {
  "kernelspec": {
   "display_name": "Python 3",
   "language": "python",
   "name": "python3"
  },
  "language_info": {
   "codemirror_mode": {
    "name": "ipython",
    "version": 3
   },
   "file_extension": ".py",
   "mimetype": "text/x-python",
   "name": "python",
   "nbconvert_exporter": "python",
   "pygments_lexer": "ipython3",
   "version": "3.6.8"
  }
 },
 "nbformat": 4,
 "nbformat_minor": 2
}
