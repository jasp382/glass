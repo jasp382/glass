{
 "cells": [
  {
   "cell_type": "code",
   "execution_count": null,
   "id": "24c64631-17e4-44d1-9457-51e7992272f0",
   "metadata": {},
   "outputs": [],
   "source": [
    "import os\n",
    "from glass.pys.oss import lst_ff, fprop\n",
    "from glass.cons.stl import get_ibands, get_lwibands\n",
    "from gesri.rst import composite_bands"
   ]
  },
  {
   "cell_type": "code",
   "execution_count": null,
   "id": "13e2cfab-37ed-4411-b4fb-5e2247f048ac",
   "metadata": {},
   "outputs": [],
   "source": [
    "ifolder = r'D:\\sat_papers\\madeira\\srcisland_2018_scb'\n",
    "ofolder = r'D:\\sat_papers\\madeira\\tcolor_isl_2018'"
   ]
  },
  {
   "cell_type": "code",
   "execution_count": null,
   "id": "fa6fddc0-b0cb-4416-9fd0-cb4a436f53f2",
   "metadata": {},
   "outputs": [],
   "source": [
    "# List Images\n",
    "\n",
    "tifs = lst_ff(ifolder, file_format='.tif')"
   ]
  },
  {
   "cell_type": "code",
   "execution_count": null,
   "id": "61252923-f251-4886-9c28-80a9f23f8ea4",
   "metadata": {},
   "outputs": [],
   "source": [
    "refbands = ['B04_10m', 'B03_10m', 'B02_10m']"
   ]
  },
  {
   "cell_type": "code",
   "execution_count": null,
   "id": "e2c697c5-3f0c-453c-a3a0-f75cc9da6184",
   "metadata": {},
   "outputs": [],
   "source": [
    "# ID tiles and days\n",
    "\n",
    "composite = {}\n",
    "\n",
    "for img in tifs:\n",
    "    name = fprop(img, 'fn')\n",
    "    \n",
    "    t, d, b, r = name.split('_')\n",
    "    _b = f\"{b}_{r}\"\n",
    "    \n",
    "    if _b not in refbands:\n",
    "        continue\n",
    "    \n",
    "    _d = d.split('T')[0]\n",
    "    \n",
    "    tile_day = f\"{t}_{_d}\"\n",
    "    \n",
    "    if tile_day not in composite:\n",
    "        composite[tile_day] = {}\n",
    "        \n",
    "    composite[tile_day][_b] = img"
   ]
  },
  {
   "cell_type": "code",
   "execution_count": null,
   "id": "36cd142c-0be7-47a7-a64d-8864c60415de",
   "metadata": {},
   "outputs": [],
   "source": [
    "for k in composite:\n",
    "    composite_bands(\n",
    "        [composite[k][b] for b in refbands],\n",
    "        os.path.join(ofolder, f\"{k}.tif\")\n",
    "    )"
   ]
  },
  {
   "cell_type": "code",
   "execution_count": null,
   "id": "610c20ee-0fd2-4842-8cc0-0270e044b14b",
   "metadata": {},
   "outputs": [],
   "source": [
    "composite"
   ]
  },
  {
   "cell_type": "code",
   "execution_count": null,
   "id": "b00534aa-a5da-4d3a-82fd-0c8553f500b8",
   "metadata": {},
   "outputs": [],
   "source": []
  }
 ],
 "metadata": {
  "kernelspec": {
   "display_name": "Python 3 (ipykernel)",
   "language": "python",
   "name": "python3"
  },
  "language_info": {
   "codemirror_mode": {
    "name": "ipython",
    "version": 3
   },
   "file_extension": ".py",
   "mimetype": "text/x-python",
   "name": "python",
   "nbconvert_exporter": "python",
   "pygments_lexer": "ipython3",
   "version": "3.9.16"
  }
 },
 "nbformat": 4,
 "nbformat_minor": 5
}
