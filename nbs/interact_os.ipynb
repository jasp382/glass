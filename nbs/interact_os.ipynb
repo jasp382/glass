{
 "cells": [
  {
   "cell_type": "markdown",
   "id": "9a5e71d2-9b83-480f-a333-87646c18db3d",
   "metadata": {},
   "source": [
    "## Rename files in folder, but mantain numerica ID in name"
   ]
  },
  {
   "cell_type": "code",
   "execution_count": null,
   "id": "103761ba-76ec-4657-a8ef-2cf8613d007c",
   "metadata": {},
   "outputs": [],
   "source": [
    "from glass.pys.oss import rename_mantainid"
   ]
  },
  {
   "cell_type": "code",
   "execution_count": null,
   "id": "ccec0434-231a-4bca-85f4-e090cc340932",
   "metadata": {},
   "outputs": [],
   "source": [
    "folder = '/mnt/d/mystuff/rms/dist_evu/results'\n",
    "\n",
    "newname = 'cf_results'"
   ]
  },
  {
   "cell_type": "code",
   "execution_count": null,
   "id": "45fad86b-8c6b-4e58-8a28-62f1cbf94cd9",
   "metadata": {},
   "outputs": [],
   "source": [
    "rename_mantainid(folder, newname)"
   ]
  },
  {
   "cell_type": "code",
   "execution_count": null,
   "id": "22d72071-e05c-48f2-baf6-41ee52b5410c",
   "metadata": {},
   "outputs": [],
   "source": []
  }
 ],
 "metadata": {
  "kernelspec": {
   "display_name": "Python 3 (ipykernel)",
   "language": "python",
   "name": "python3"
  },
  "language_info": {
   "codemirror_mode": {
    "name": "ipython",
    "version": 3
   },
   "file_extension": ".py",
   "mimetype": "text/x-python",
   "name": "python",
   "nbconvert_exporter": "python",
   "pygments_lexer": "ipython3",
   "version": "3.10.4"
  }
 },
 "nbformat": 4,
 "nbformat_minor": 5
}
