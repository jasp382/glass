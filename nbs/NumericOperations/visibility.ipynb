{
 "cells": [
  {
   "cell_type": "code",
   "execution_count": null,
   "metadata": {},
   "outputs": [],
   "source": [
    "demrst = '/home/osmtolulc/mrgis/vistofire/cmb_dem10.tif'\n",
    "pntobs = '/home/osmtolulc/mrgis/vistofire/pnt_incendio.shp'\n",
    "obs_id = 'pnt_fid'"
   ]
  },
  {
   "cell_type": "code",
   "execution_count": null,
   "metadata": {},
   "outputs": [],
   "source": [
    "db = 'viewtofire_1'\n",
    "\n",
    "pnt_id = [1, 2]"
   ]
  },
  {
   "cell_type": "code",
   "execution_count": null,
   "metadata": {},
   "outputs": [],
   "source": [
    "from osgeo                 import gdal\n",
    "from glass.sql.fm import q_to_obj\n",
    "import numpy as np\n",
    "from glass.it.rst import obj_to_rst"
   ]
  },
  {
   "cell_type": "code",
   "execution_count": null,
   "metadata": {},
   "outputs": [],
   "source": [
    "# Get Raster Shape\n",
    "\n",
    "rsrc = gdal.Open(demrst, gdal.GA_ReadOnly)\n",
    "\n",
    "rows = rsrc.RasterYSize\n",
    "cols = rsrc.RasterXSize"
   ]
  },
  {
   "cell_type": "code",
   "execution_count": null,
   "metadata": {},
   "outputs": [],
   "source": [
    "# Get Array with cells with visibility == 1\n",
    "\n",
    "Q = (\n",
    "    \"SELECT idx FROM (\"\n",
    "        \"SELECT generate_series(\"\n",
    "            \"(rowi * {c}) + coli, \"\n",
    "            \"(rowe * {c}) + cole \"\n",
    "        \") AS idx \"\n",
    "        \"FROM vistoburn \"\n",
    "        \"WHERE {whr}\"\n",
    "    \") AS foo \"\n",
    "    \"GROUP BY idx \"\n",
    "    \"ORDER BY idx\"\n",
    ").format(\n",
    "    c=str(cols), whr=\" OR \".join([\n",
    "        \"pntid = {}\".format(str(p)) for p in pnt_id\n",
    "    ])\n",
    ")\n",
    "\n",
    "visidx = q_to_obj(db, Q, db_api='psql')"
   ]
  },
  {
   "cell_type": "code",
   "execution_count": null,
   "metadata": {},
   "outputs": [],
   "source": [
    "allidx = np.arange(rows * cols).astype(np.uint32)\n",
    "visimg = np.zeros(rows * cols)"
   ]
  },
  {
   "cell_type": "code",
   "execution_count": null,
   "metadata": {},
   "outputs": [],
   "source": [
    "np.place(visimg, np.isin(allidx, visidx.idx), 1)"
   ]
  },
  {
   "cell_type": "code",
   "execution_count": null,
   "metadata": {},
   "outputs": [],
   "source": [
    "visimg = visimg.reshape((rows, cols))\n",
    "\n",
    "obj_to_rst(visimg, '/home/osmtolulc/mrgis/vistofire/teste_vis12.tif', rsrc, noData=0)"
   ]
  },
  {
   "cell_type": "code",
   "execution_count": null,
   "metadata": {},
   "outputs": [],
   "source": [
    "print(np.unique(visimg))"
   ]
  },
  {
   "cell_type": "code",
   "execution_count": null,
   "metadata": {},
   "outputs": [],
   "source": [
    "import os\n",
    "import pandas              as pd\n",
    "import numpy               as np\n",
    "\n",
    "import multiprocessing     as mp\n",
    "from glass.dct.geo.fmshp    import shp_to_obj\n",
    "from glass.pys.oss         import cpu_cores, mkdir\n",
    "from glass.pd.split     import df_split\n",
    "from glass.wenv.grs    import run_grass\n",
    "from glass.prop.prj import shp_epsg\n",
    "from glass.sql.to          import df_to_db\n",
    "from glass.pys.oss         import del_file\n",
    "from glass.sql.db          import create_db\n",
    "from glass.pys.num         import get_minmax_fm_seq_values"
   ]
  },
  {
   "cell_type": "code",
   "execution_count": null,
   "metadata": {},
   "outputs": [],
   "source": [
    "rst = '/home/osmtolulc/mrgis/vistofire/work_2/vistoburn_2650.tif'"
   ]
  },
  {
   "cell_type": "code",
   "execution_count": null,
   "metadata": {},
   "outputs": [],
   "source": [
    "img = gdal.Open(rst, gdal.GA_ReadOnly)\n",
    "\n",
    "num = img.ReadAsArray()\n",
    "\n",
    "numone = num.reshape(num.shape[0] * num.shape[1])\n",
    "\n",
    "visnum = np.arange(numone.shape[0]).astype(np.uint32)\n",
    "\n",
    "visnum = visnum[numone == 1]"
   ]
  },
  {
   "cell_type": "code",
   "execution_count": null,
   "metadata": {},
   "outputs": [],
   "source": [
    "print(visnum.shape)"
   ]
  },
  {
   "cell_type": "code",
   "execution_count": null,
   "metadata": {},
   "outputs": [],
   "source": [
    "visint = get_minmax_fm_seq_values(visnum)"
   ]
  },
  {
   "cell_type": "code",
   "execution_count": null,
   "metadata": {},
   "outputs": [],
   "source": [
    "print(visint.shape)"
   ]
  },
  {
   "cell_type": "code",
   "execution_count": null,
   "metadata": {},
   "outputs": [],
   "source": [
    "_visint = visint.reshape(visint.shape[0] * visint.shape[1])\n",
    "print(_visint.shape)"
   ]
  },
  {
   "cell_type": "code",
   "execution_count": null,
   "metadata": {},
   "outputs": [],
   "source": [
    "print(_visint)"
   ]
  },
  {
   "cell_type": "code",
   "execution_count": null,
   "metadata": {},
   "outputs": [],
   "source": [
    "visrow = _visint / num.shape[1]\n",
    "visrow = visrow.astype(np.uint32)\n",
    "print(visrow.shape)"
   ]
  },
  {
   "cell_type": "code",
   "execution_count": null,
   "metadata": {},
   "outputs": [],
   "source": [
    "viscol = _visint - (visrow * num.shape[1])\n",
    "\n",
    "print(viscol.shape)"
   ]
  },
  {
   "cell_type": "code",
   "execution_count": null,
   "metadata": {},
   "outputs": [],
   "source": [
    "visrow = visrow.reshape(visint.shape)\n",
    "viscol = viscol.reshape(visint.shape)\n",
    "\n",
    "print(visrow.shape)"
   ]
  },
  {
   "cell_type": "code",
   "execution_count": null,
   "metadata": {},
   "outputs": [],
   "source": [
    "irow, erow = np.vsplit(visrow.T, 1)[0]\n",
    "icol, ecol = np.vsplit(viscol.T, 1)[0]\n",
    "\n",
    "print(irow.shape)"
   ]
  },
  {
   "cell_type": "code",
   "execution_count": null,
   "metadata": {},
   "outputs": [],
   "source": [
    "print(erow.shape)"
   ]
  },
  {
   "cell_type": "code",
   "execution_count": null,
   "metadata": {},
   "outputs": [],
   "source": [
    "visdf = pd.DataFrame({\n",
    "    'rowi' : irow, 'rowe' : erow,\n",
    "    'coli' : icol, 'cole' : ecol\n",
    "})"
   ]
  },
  {
   "cell_type": "code",
   "execution_count": null,
   "metadata": {},
   "outputs": [],
   "source": [
    "idxnum = np.full(visrow.shape, 1)\n",
    "\n",
    "print(idxnum.shape)"
   ]
  },
  {
   "cell_type": "code",
   "execution_count": null,
   "metadata": {},
   "outputs": [],
   "source": []
  }
 ],
 "metadata": {
  "kernelspec": {
   "display_name": "Python 3",
   "language": "python",
   "name": "python3"
  },
  "language_info": {
   "codemirror_mode": {
    "name": "ipython",
    "version": 3
   },
   "file_extension": ".py",
   "mimetype": "text/x-python",
   "name": "python",
   "nbconvert_exporter": "python",
   "pygments_lexer": "ipython3",
   "version": "3.6.9"
  }
 },
 "nbformat": 4,
 "nbformat_minor": 4
}
