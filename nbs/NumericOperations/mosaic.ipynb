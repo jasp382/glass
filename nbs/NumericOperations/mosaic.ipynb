{
 "cells": [
  {
   "cell_type": "code",
   "execution_count": null,
   "metadata": {},
   "outputs": [],
   "source": [
    "from glass.rst.mos import rsts_to_mosaic\n",
    "\n",
    "in_rst = [\n",
    "    '/mnt/c/gwork/fireloc_db/dem_data/rsurfcountour/mdt_igeoe_100.tif',\n",
    "    '/mnt/c/gwork/fireloc_db/dem_data/rsurfcountour/mdt_igeoe_101.tif',\n",
    "    '/mnt/c/gwork/fireloc_db/dem_data/rsurfcountour/mdt_igeoe_102.tif',\n",
    "    '/mnt/c/gwork/fireloc_db/dem_data/rsurfcountour/mdt_igeoe_129.tif',\n",
    "    '/mnt/c/gwork/fireloc_db/dem_data/rsurfcountour/mdt_igeoe_130.tif',\n",
    "    '/mnt/c/gwork/fireloc_db/dem_data/rsurfcountour/mdt_igeoe_131.tif',\n",
    "    '/mnt/c/gwork/fireloc_db/dem_data/rsurfcountour/mdt_igeoe_157.tif',\n",
    "    '/mnt/c/gwork/fireloc_db/dem_data/rsurfcountour/mdt_igeoe_158.tif',\n",
    "    '/mnt/c/gwork/fireloc_db/dem_data/rsurfcountour/mdt_igeoe_159.tif',\n",
    "    '/mnt/c/gwork/fireloc_db/dem_data/rsurfcountour/mdt_igeoe_185.tif',\n",
    "    '/mnt/c/gwork/fireloc_db/dem_data/rsurfcountour/mdt_igeoe_186.tif',\n",
    "    '/mnt/c/gwork/fireloc_db/dem_data/rsurfcountour/mdt_igeoe_187.tif',\n",
    "]\n",
    "\n",
    "out_rst = '/mnt/d/gwork/prog_webgis/meteo/dem.tif'\n",
    "\n",
    "rsts_to_mosaic(in_rst, out_rst, api='rasterio')"
   ]
  },
  {
   "cell_type": "code",
   "execution_count": null,
   "metadata": {},
   "outputs": [],
   "source": [
    "\"\"\"\n",
    "All raster's in folder to tiles\n",
    "\"\"\"\n",
    "\n",
    "in_folder = '/mnt/d/gwork/osm2lulc_imgcls/lsb_imgcls/'\n",
    "\n",
    "ff = '.tif'\n",
    "\n",
    "out_folder = '/mnt/d/gwork/osm2lulc_imgcls/lsb_imgcls/'\n",
    "\n",
    "from glass.pys.oss import lst_ff\n",
    "from glass.it.rst import rst_to_tiles\n",
    "\n",
    "rsts = lst_ff(in_folder, file_format=ff)\n",
    "\n",
    "for r in rsts:\n",
    "    rst_to_tiles(r, 3, 2, out_folder)"
   ]
  },
  {
   "cell_type": "code",
   "execution_count": null,
   "metadata": {},
   "outputs": [],
   "source": [
    "\"\"\"\n",
    "r.series\n",
    "\"\"\"\n",
    "\n",
    "\"\"\"\n",
    "Input Parameters\n",
    "\"\"\"\n",
    "\n",
    "infolder  = '/mnt/d/gwork/fireloc_geodb/obs_lulcint/obs_fire_clc18'\n",
    "refrst    = '/mnt/d/gwork/fireloc_geodb/ref/rst_ref.tif'\n",
    "method    = 'sum'\n",
    "out_rst   = '/mnt/d/gwork/fireloc_geodb/obs_lulcint/obs_fire_clc18.tif'"
   ]
  },
  {
   "cell_type": "code",
   "execution_count": null,
   "metadata": {},
   "outputs": [],
   "source": [
    "\"\"\"\n",
    "Start GRASS GIS Session\n",
    "\"\"\"\n",
    "\n",
    "from glass.wenv.grs import run_grass\n",
    "from glass.prop.prj import get_shp_epsg\n",
    "\n",
    "loc_name = 'rstseriesloc'\n",
    "\n",
    "gbase = run_grass(\n",
    "    infolder, grassBIN='grass78', location=loc_name,\n",
    "    srs=refrst\n",
    ")\n",
    "\n",
    "import grass.script.setup as gsetup\n",
    "\n",
    "gsetup.init(gbase, infolder, loc_name, \"PERMANENT\")"
   ]
  },
  {
   "cell_type": "code",
   "execution_count": null,
   "metadata": {},
   "outputs": [],
   "source": [
    "from glass.it.rst     import rst_to_grs, grs_to_rst\n",
    "from glass.it.shp import shp_to_grs\n",
    "from glass.wenv.grs  import rst_to_region\n",
    "from glass.rst.mos import rseries\n",
    "from glass.pys.oss import lst_ff, fprop"
   ]
  },
  {
   "cell_type": "code",
   "execution_count": null,
   "metadata": {},
   "outputs": [],
   "source": [
    "rsts = [rst_to_grs(\n",
    "    r, fprop(r, 'fn')\n",
    ") for r in lst_ff(infolder, file_format='.tif')]\n",
    "\n",
    "prst = rseries(rsts, fprop(out_rst, 'fn'), method, as_cmd=True)\n",
    "\n",
    "grs_to_rst(prst, out_rst)"
   ]
  },
  {
   "cell_type": "code",
   "execution_count": null,
   "metadata": {},
   "outputs": [],
   "source": []
  }
 ],
 "metadata": {
  "kernelspec": {
   "display_name": "Python 3",
   "language": "python",
   "name": "python3"
  },
  "language_info": {
   "codemirror_mode": {
    "name": "ipython",
    "version": 3
   },
   "file_extension": ".py",
   "mimetype": "text/x-python",
   "name": "python",
   "nbconvert_exporter": "python",
   "pygments_lexer": "ipython3",
   "version": "3.8.2"
  }
 },
 "nbformat": 4,
 "nbformat_minor": 2
}
