{
 "cells": [
  {
   "cell_type": "code",
   "execution_count": 1,
   "metadata": {},
   "outputs": [],
   "source": [
    "shp_data = '/mnt/disk1/jasp/mapas/mundata.shp'\n",
    "\n",
    "maps_table = '/mnt/disk1/jasp/mapas/bd_indicadoresEdu4mai22.xlsx'\n",
    "\n",
    "slug  = 'nome_coluna'\n",
    "mapattrs = ['title', 'v_cim', 'fonte1', 'fonte2']\n",
    "\n",
    "# Numero casas decimais que vao aparecer nos valores do layout\n",
    "decplace = 'ndec'\n",
    "\n",
    "# Must be always smaller than the min of min values\n",
    "nodata = -9999\n",
    "\n",
    "prod = [{\n",
    "    \"sheet\"  : \"positivo\",\n",
    "    \"method\" : \"meanstd\",\n",
    "    \"outshp\" : '/mnt/disk1/jasp/mapas/munpositivo.shp',\n",
    "    \"outtbl\" : '/mnt/disk1/jasp/mapas/cls_positivo.xlsx',\n",
    "    \"ncls\"   : 2\n",
    "}, {\n",
    "    \"sheet\" : \"misto\",\n",
    "    #\"method\" : \"quantile\",\n",
    "    \"method\" : \"meanstd\",\n",
    "    \"outshp\" : '/mnt/disk1/jasp/mapas/munmisto.shp',\n",
    "    \"outtbl\" : '/mnt/disk1/jasp/mapas/cls_misto.xlsx',\n",
    "    \"ncls\"   : 2\n",
    "}]\n",
    "\n",
    "\n",
    "# Do group by\n",
    "grpcol = None"
   ]
  },
  {
   "cell_type": "code",
   "execution_count": 2,
   "metadata": {},
   "outputs": [],
   "source": [
    "from glass.lyt.di import datatocls_meanstd\n",
    "from glass.lyt.di import datatocls\n",
    "\n",
    "for d in prod:\n",
    "    if d['method'] == 'meanstd':\n",
    "        datatocls_meanstd(\n",
    "            shp_data, maps_table, d[\"sheet\"],\n",
    "            slug, mapattrs, d['ncls'], decplace,\n",
    "            nodata, d['outshp'], d['outtbl']\n",
    "        )\n",
    "    \n",
    "    else:\n",
    "        datatocls(\n",
    "            shp_data, maps_table, d[\"sheet\"],\n",
    "            slug, mapattrs, d[\"ncls\"], decplace,\n",
    "            d['outshp'], d['outtbl'],\n",
    "            method=\"QUANTILE\" if d['method'] == 'quantile' else \"JENKS\"\n",
    "        )"
   ]
  },
  {
   "cell_type": "code",
   "execution_count": null,
   "metadata": {},
   "outputs": [],
   "source": [
    "shp_data = '/mnt/d/mystuff/gowe_layouts/igeo_pel_tv/freg_data.shp'\n",
    "\n",
    "maps_table = '/mnt/d/mystuff/gowe_layouts/bd_cartografia.xlsx'\n",
    "sheet = 'info_Layout2'\n",
    "\n",
    "slugs  = ['nome_coluna1', 'nome_coluna2']\n",
    "titles = ['indicador1', 'indicador2']\n",
    "\n",
    "# Numero casas decimais que vao aparecer nos valores do layout\n",
    "decplace = 'ndec'\n",
    "\n",
    "# Must be always smaller than the min of min values\n",
    "nodata = -99999\n",
    "\n",
    "ncls = 5\n",
    "outshp = '/mnt/d/mystuff/gowe_layouts/lytshpmain/tvl2jenks.shp'\n",
    "outtbl = '/mnt/d/mystuff/gowe_layouts/lyttblmain/tvl2jenks.xlsx'"
   ]
  },
  {
   "cell_type": "code",
   "execution_count": null,
   "metadata": {},
   "outputs": [],
   "source": [
    "from glass.lyt.di import datatocls_multiref\n",
    "\n",
    "dc, ren = datatocls_multiref(shp_data, maps_table, sheet, slugs, titles, ncls, decplace,\n",
    "    outshp, outtbl, method=\"JENKS\")"
   ]
  },
  {
   "cell_type": "code",
   "execution_count": null,
   "metadata": {},
   "outputs": [],
   "source": [
    "dc"
   ]
  },
  {
   "cell_type": "code",
   "execution_count": null,
   "metadata": {},
   "outputs": [],
   "source": [
    "ren"
   ]
  },
  {
   "cell_type": "code",
   "execution_count": null,
   "metadata": {},
   "outputs": [],
   "source": [
    "shp.columns.values"
   ]
  },
  {
   "cell_type": "code",
   "execution_count": null,
   "metadata": {},
   "outputs": [],
   "source": [
    "shp"
   ]
  },
  {
   "cell_type": "markdown",
   "metadata": {},
   "source": [
    "Apply jenks to cols in table"
   ]
  },
  {
   "cell_type": "code",
   "execution_count": null,
   "metadata": {},
   "outputs": [],
   "source": [
    "from glass.rd import tbl_to_obj\n",
    "import jenkspy"
   ]
  },
  {
   "cell_type": "code",
   "execution_count": null,
   "metadata": {},
   "outputs": [],
   "source": [
    "table = '/mnt/d/MCloud/fireloc/risk_assessment/ClassesHazard_01_11.xlsx'"
   ]
  },
  {
   "cell_type": "code",
   "execution_count": null,
   "metadata": {},
   "outputs": [],
   "source": [
    "df = tbl_to_obj(table, sheet='dados')"
   ]
  },
  {
   "cell_type": "code",
   "execution_count": null,
   "metadata": {},
   "outputs": [],
   "source": [
    "df"
   ]
  },
  {
   "cell_type": "code",
   "execution_count": null,
   "metadata": {},
   "outputs": [],
   "source": [
    "breaks_x = jenkspy.jenks_breaks(df['x'], nb_class=5)\n",
    "breaks_y = jenkspy.jenks_breaks(df['y'], nb_class=5)"
   ]
  },
  {
   "cell_type": "code",
   "execution_count": null,
   "metadata": {},
   "outputs": [],
   "source": [
    "breaks_x"
   ]
  },
  {
   "cell_type": "code",
   "execution_count": null,
   "metadata": {},
   "outputs": [],
   "source": [
    "breaks_y"
   ]
  },
  {
   "cell_type": "code",
   "execution_count": null,
   "metadata": {},
   "outputs": [],
   "source": []
  }
 ],
 "metadata": {
  "kernelspec": {
   "display_name": "Python 3 (ipykernel)",
   "language": "python",
   "name": "python3"
  },
  "language_info": {
   "codemirror_mode": {
    "name": "ipython",
    "version": 3
   },
   "file_extension": ".py",
   "mimetype": "text/x-python",
   "name": "python",
   "nbconvert_exporter": "python",
   "pygments_lexer": "ipython3",
   "version": "3.8.10"
  }
 },
 "nbformat": 4,
 "nbformat_minor": 4
}
