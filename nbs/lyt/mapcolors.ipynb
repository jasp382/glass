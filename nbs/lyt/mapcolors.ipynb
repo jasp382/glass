{
 "cells": [
  {
   "cell_type": "code",
   "execution_count": null,
   "metadata": {},
   "outputs": [],
   "source": [
    "\"\"\"\n",
    "Change map colors\n",
    "\"\"\"\n",
    "\n",
    "maps_folder = '/mnt/d/mystuff/gowe_layouts/lyt1_jenks/'\n",
    "\n",
    "maps_colours = '/mnt/d/mystuff/gowe_layouts/lyttblmain/tvl1jenks.xlsx'\n",
    "sheet = 'colours'\n",
    "\n",
    "ref_rgb = {\n",
    "    \"classe1\" : '245,176,169',\n",
    "    \"classe2\" : '238,120,108',\n",
    "    \"classe3\" : '230,60,44',\n",
    "    \"classe4\" : '147,29,17',\n",
    "    \"classe5\" : '90,18,10'\n",
    "}"
   ]
  },
  {
   "cell_type": "code",
   "execution_count": null,
   "metadata": {},
   "outputs": [],
   "source": [
    "import os\n",
    "from glass.pys.oss import lst_ff, fprop\n",
    "from glass.lyt.clr import change_color_on_map\n",
    "from glass.rd import tbl_to_obj"
   ]
  },
  {
   "cell_type": "code",
   "execution_count": null,
   "metadata": {},
   "outputs": [],
   "source": [
    "maps = lst_ff(maps_folder, file_format='.jpg')"
   ]
  },
  {
   "cell_type": "code",
   "execution_count": null,
   "metadata": {},
   "outputs": [],
   "source": [
    "colours = tbl_to_obj(maps_colours, sheet=sheet)\n",
    "\n",
    "colours.set_index('slug', inplace=True)\n",
    "\n",
    "colours = colours.to_dict(orient='index')"
   ]
  },
  {
   "cell_type": "code",
   "execution_count": null,
   "metadata": {},
   "outputs": [],
   "source": [
    "for m in maps:\n",
    "    name = fprop(m, 'fn')\n",
    "    \n",
    "    rgbs = {}\n",
    "    \n",
    "    for cls in ref_rgb:\n",
    "        in_rgb = ref_rgb[cls].split(',')\n",
    "        \n",
    "        out_rgb = colours[name][cls].split(',')\n",
    "        \n",
    "        rgbs[(int(in_rgb[0]), int(in_rgb[1]), int(in_rgb[2]))] = (int(out_rgb[0]), int(out_rgb[1]), int(out_rgb[2]))\n",
    "    print(rgbs)\n",
    "    change_color_on_map(m, rgbs, os.path.join(maps_folder, name + '_recolour.jpg'))"
   ]
  },
  {
   "cell_type": "code",
   "execution_count": null,
   "metadata": {},
   "outputs": [],
   "source": [
    "import numpy\n",
    "from PIL import Image\n",
    "\n",
    "img = Image.open(m)\n",
    "\n",
    "imgArray = numpy.array(img)"
   ]
  },
  {
   "cell_type": "code",
   "execution_count": null,
   "metadata": {},
   "outputs": [],
   "source": [
    "imgArray"
   ]
  },
  {
   "cell_type": "code",
   "execution_count": null,
   "metadata": {},
   "outputs": [],
   "source": [
    "rgbs"
   ]
  },
  {
   "cell_type": "code",
   "execution_count": null,
   "metadata": {},
   "outputs": [],
   "source": [
    "\n",
    "    \n",
    "    \n",
    "    \n",
    "    \n",
    "\n",
    "    for rgb in rgbs:\n",
    "        r1, g1, b1 = rgb\n",
    "    \n",
    "        red, green, blue = imgArray[:, :, 0], imgArray[:, :, 1], imgArray[:, :, 2]\n",
    "        mask = (red == r1) & (green == g1) & (blue == b1)\n",
    "    \n",
    "        imgArray[:, :, :3][mask] = list(rgbs[rgb])\n",
    "    \n",
    "    outImg = Image.fromarray(imgArray)\n",
    "    \n",
    "    outImg.save(outimg)\n",
    "    \n",
    "    return outimg"
   ]
  },
  {
   "cell_type": "code",
   "execution_count": null,
   "metadata": {},
   "outputs": [],
   "source": [
    "colours"
   ]
  },
  {
   "cell_type": "code",
   "execution_count": null,
   "metadata": {},
   "outputs": [],
   "source": []
  }
 ],
 "metadata": {
  "kernelspec": {
   "display_name": "Python 3 (ipykernel)",
   "language": "python",
   "name": "python3"
  },
  "language_info": {
   "codemirror_mode": {
    "name": "ipython",
    "version": 3
   },
   "file_extension": ".py",
   "mimetype": "text/x-python",
   "name": "python",
   "nbconvert_exporter": "python",
   "pygments_lexer": "ipython3",
   "version": "3.8.10"
  }
 },
 "nbformat": 4,
 "nbformat_minor": 4
}
