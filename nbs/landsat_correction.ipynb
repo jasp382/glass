{
 "cells": [
  {
   "cell_type": "code",
   "execution_count": null,
   "id": "49de20cb-c3b9-44f7-a8f7-984f4a497fc7",
   "metadata": {
    "tags": []
   },
   "outputs": [],
   "source": [
    "lfolder = '/mnt/e/sat_papers/terceira/landsat/'\n",
    "ofolder = '/mnt/e/autocls01/landsat_toar/'\n",
    "\n",
    "metafile = '/mnt/e/sat_papers/terceira/landsat/LC08_L1TP_216033_20200103_20201016_02_T1_MTL.txt'\n",
    "metajs   = '/mnt/e/sat_papers/terceira/landsat/LC08_L1TP_216033_20200103_20201016_02_T1_MTL.json'\n",
    "\n",
    "out_prefix = 'ltoar'"
   ]
  },
  {
   "cell_type": "code",
   "execution_count": null,
   "id": "f0578c26-d397-4156-88d0-1d9a95d38d08",
   "metadata": {
    "tags": []
   },
   "outputs": [],
   "source": [
    "import os\n",
    "\n",
    "from glass.pys.oss import lst_ff\n",
    "from glass.cons.sat import get_ibands\n",
    "from glass.wenv.grs import run_grass\n",
    "from glass.pys.tm import now_as_str\n",
    "from glass.rst.sat.corr import landsat_toar"
   ]
  },
  {
   "cell_type": "code",
   "execution_count": null,
   "id": "2731b3fb-6f13-4d51-9ce1-b44df4a8228d",
   "metadata": {
    "tags": []
   },
   "outputs": [],
   "source": [
    "lan_bands = get_ibands('landsat')"
   ]
  },
  {
   "cell_type": "code",
   "execution_count": null,
   "id": "d21ddb99-5fcc-448d-8eb3-df4e13e9d5df",
   "metadata": {
    "tags": []
   },
   "outputs": [],
   "source": [
    "bands = lst_ff(lfolder, file_format='.tif')\n",
    "\n",
    "ffs = [os.path.splitext(f)[1] for f in bands]\n",
    "\n",
    "_bands = {}\n",
    "for f in bands:\n",
    "    ff = os.path.splitext(f)[1]\n",
    "    \n",
    "    for b in lan_bands:\n",
    "        ref = f'{b}{ff}'\n",
    "        \n",
    "        if ref in os.path.basename(f):\n",
    "            _bands[b] = f\n",
    "            break"
   ]
  },
  {
   "cell_type": "code",
   "execution_count": null,
   "id": "6e7e24e9-872a-4116-863d-489b1ce04f88",
   "metadata": {
    "tags": []
   },
   "outputs": [],
   "source": [
    "# Create GRASS GIS Session\n",
    "\n",
    "loc = f'loc_{now_as_str()}'\n",
    "gb = run_grass(\n",
    "    ofolder, grassBIN=\"grass78\", location=loc,\n",
    "    srs=_bands['B1']\n",
    ")\n",
    "\n",
    "import grass.script.setup as gsetup\n",
    "\n",
    "gsetup.init(gb, ofolder, loc, 'PERMANENT')"
   ]
  },
  {
   "cell_type": "code",
   "execution_count": null,
   "id": "1d9fbf61-7df7-482d-930b-076d9fb97102",
   "metadata": {
    "tags": []
   },
   "outputs": [],
   "source": [
    "from glass.it.rst import rst_to_grs, grs_to_rst\n",
    "from glass.rst.alg import grsrstcalc"
   ]
  },
  {
   "cell_type": "code",
   "execution_count": null,
   "id": "d1e4daf9-4adb-4693-b205-9f5b0b1ca186",
   "metadata": {
    "tags": []
   },
   "outputs": [],
   "source": [
    "bname = 'band_'\n",
    "for b in _bands:\n",
    "    _bands[b] = rst_to_grs(_bands[b], f'{bname}{b[1:]}')\n",
    "print(_bands)\n",
    "\n",
    "landsat_toar(bname, f'{out_prefix}_', metafile)\n",
    "\n",
    "for b in _bands:\n",
    "    # Go For Integer\n",
    "    oband = grsrstcalc(\n",
    "        f'int(round({out_prefix}_{b[1:]} * 10000))',\n",
    "        f'intband_{b.lower()}'\n",
    "    )\n",
    "    \n",
    "    ofile = grs_to_rst(oband, os.path.join(\n",
    "        ofolder, f'{out_prefix}_{b.lower()}.tif'\n",
    "    ), is_int=True)"
   ]
  },
  {
   "cell_type": "code",
   "execution_count": null,
   "id": "584a24a1-d467-41d1-bd7a-8a940466aec4",
   "metadata": {
    "tags": []
   },
   "outputs": [],
   "source": [
    "_bands"
   ]
  },
  {
   "cell_type": "code",
   "execution_count": null,
   "id": "951b14df-9628-4f19-bdfc-ebef847dbd7a",
   "metadata": {},
   "outputs": [],
   "source": []
  }
 ],
 "metadata": {
  "kernelspec": {
   "display_name": "Python 3 (ipykernel)",
   "language": "python",
   "name": "python3"
  },
  "language_info": {
   "codemirror_mode": {
    "name": "ipython",
    "version": 3
   },
   "file_extension": ".py",
   "mimetype": "text/x-python",
   "name": "python",
   "nbconvert_exporter": "python",
   "pygments_lexer": "ipython3",
   "version": "3.8.10"
  }
 },
 "nbformat": 4,
 "nbformat_minor": 5
}
