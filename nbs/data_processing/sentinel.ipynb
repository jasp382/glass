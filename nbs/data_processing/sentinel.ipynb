{
 "cells": [
  {
   "cell_type": "markdown",
   "id": "23d03cd7-b96a-44de-81e1-d029ec104069",
   "metadata": {},
   "source": [
    "### Apply pre-processing steps to Sentinel-2 images"
   ]
  },
  {
   "cell_type": "code",
   "execution_count": null,
   "id": "b71e5207-701b-4314-a12f-328cf84e1c18",
   "metadata": {},
   "outputs": [],
   "source": [
    "img_folder = '/mnt/d/a2autocls2023/imgmad/ano2021/'\n",
    "ofolder    = '/mnt/d/a2autocls2023/imgmad/proc2021/'\n",
    "\n",
    "cliprst = '/mnt/d/a2autocls2023/ref/rst_madeira.tif'"
   ]
  },
  {
   "cell_type": "code",
   "execution_count": null,
   "id": "b7400ab0-9b77-4ed8-aca3-3f3c7ae15e14",
   "metadata": {},
   "outputs": [],
   "source": [
    "import os\n",
    "from glass.cons.stl import get_ibands, get_lwibands\n",
    "from glass.pys.oss import lst_ff, mkdir, fprop, copy_file\n",
    "from glass.pys.tm import now_as_str\n",
    "from glass.dtr.stl  import unzip_img\n",
    "from glass.rst.rmp import match_cellsize_and_clip\n",
    "from glass.rst.mos import rsts_to_mosaic"
   ]
  },
  {
   "cell_type": "code",
   "execution_count": null,
   "id": "dbe83629-ec4b-4134-83f4-f395253da0a2",
   "metadata": {},
   "outputs": [],
   "source": [
    "ibands = get_ibands()\n",
    "lwbands = get_lwibands()\n",
    "\n",
    "_ibands = {ibands[i] : lwbands[i] for i in range(len(ibands))}"
   ]
  },
  {
   "cell_type": "code",
   "execution_count": null,
   "id": "12e53143-51dc-44b4-b0de-92307ebf0db3",
   "metadata": {},
   "outputs": [],
   "source": [
    "_ibands"
   ]
  },
  {
   "cell_type": "code",
   "execution_count": null,
   "id": "84c57ac1-3cdf-47ad-820c-89e1f1d50197",
   "metadata": {},
   "outputs": [],
   "source": [
    "imgs = lst_ff(img_folder, file_format='.zip')"
   ]
  },
  {
   "cell_type": "code",
   "execution_count": null,
   "id": "d129d7a2-3e08-4fc5-8426-897ca1594bf2",
   "metadata": {},
   "outputs": [],
   "source": [
    "# Image pre-processing\n",
    "\n",
    "_bands = []\n",
    "tifs_f = mkdir(os.path.join(ofolder, 'tifs'))\n",
    "\n",
    "for img in imgs:\n",
    "    # Create folder for temp files\n",
    "    zfolder = mkdir(os.path.join(ofolder, now_as_str()))\n",
    "    \n",
    "    # Unzip images\n",
    "    bands = unzip_img(img, zfolder)\n",
    "    \n",
    "    # Match cellsize and clip\n",
    "    bands = match_cellsize_and_clip(\n",
    "        [bands[b] for b in bands],\n",
    "        bands[\"B02_10m\"], tifs_f,\n",
    "        isint=True, clipgeo=cliprst,\n",
    "        ws=zfolder\n",
    "    )"
   ]
  },
  {
   "cell_type": "code",
   "execution_count": null,
   "id": "32bc7960-f881-409f-b1e3-2d18665186bf",
   "metadata": {},
   "outputs": [],
   "source": [
    "# Go for mosaic\n",
    "\n",
    "# ID tiles and days\n",
    "\n",
    "tifs = lst_ff(tifs_f, file_format='.tif')\n",
    "\n",
    "mosaics = {}\n",
    "\n",
    "for img in tifs:\n",
    "    name = fprop(img, 'fn')\n",
    "    \n",
    "    t, d, b, r = name.split('_')\n",
    "    _b = f\"{b}_{r}\"\n",
    "    _d = d.split('T')[0]\n",
    "    \n",
    "    if _d not in mosaics:\n",
    "        mosaics[_d] = {}\n",
    "        \n",
    "    if _ibands[_b] not in mosaics[_d]:\n",
    "        mosaics[_d][_ibands[_b]] = [img]\n",
    "    \n",
    "    else:\n",
    "        mosaics[_d][_ibands[_b]].append(img)\n",
    "\n",
    "# Create mosaics for each day\n",
    "\n",
    "for day in mosaics:\n",
    "    for band in mosaics[day]:\n",
    "        mos = os.path.join(ofolder, f\"{band}_{day}.tif\")\n",
    "        if len(mosaics[day][band]) < 2:\n",
    "            nb = copy_file(mosaics[day][band][0], mos)\n",
    "        \n",
    "        else:\n",
    "            nb = rsts_to_mosaic(\n",
    "                mosaics[day][band], mos,\n",
    "                api='rasterio', method='max'\n",
    "            )\n",
    "        \n",
    "        mosaics[day][band] = nb"
   ]
  },
  {
   "cell_type": "code",
   "execution_count": null,
   "id": "11fb8ce3-5b37-4b74-85b6-37db5791da16",
   "metadata": {},
   "outputs": [],
   "source": []
  }
 ],
 "metadata": {
  "kernelspec": {
   "display_name": "Python 3 (ipykernel)",
   "language": "python",
   "name": "python3"
  },
  "language_info": {
   "codemirror_mode": {
    "name": "ipython",
    "version": 3
   },
   "file_extension": ".py",
   "mimetype": "text/x-python",
   "name": "python",
   "nbconvert_exporter": "python",
   "pygments_lexer": "ipython3",
   "version": "3.8.10"
  }
 },
 "nbformat": 4,
 "nbformat_minor": 5
}
