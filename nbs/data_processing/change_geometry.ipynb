{
 "cells": [
  {
   "cell_type": "markdown",
   "id": "f02a1387-ff11-4baf-8d27-cc25a37e866f",
   "metadata": {},
   "source": [
    "### Lines to Polygons"
   ]
  },
  {
   "cell_type": "code",
   "execution_count": null,
   "id": "1fec35fd-57a8-4064-a436-5e3331f383f5",
   "metadata": {
    "tags": []
   },
   "outputs": [],
   "source": [
    "ishp = '/mnt/d/autocls11/vecseg/rdv_lisbon.shp'\n",
    "oshp = '/mnt/d/autocls11/vecseg/rdv_poly2.shp'"
   ]
  },
  {
   "cell_type": "code",
   "execution_count": null,
   "id": "7b6cf708-9fa6-4416-b69a-1c2d05724046",
   "metadata": {
    "tags": []
   },
   "outputs": [],
   "source": [
    "import datetime as dt\n",
    "\n",
    "from glass.dtr.cg import lnh_to_polygons"
   ]
  },
  {
   "cell_type": "code",
   "execution_count": null,
   "id": "88df3d74-d6b8-4fb5-b879-c7aed5476cf6",
   "metadata": {
    "tags": []
   },
   "outputs": [],
   "source": [
    "ta = dt.datetime.now().replace(microsecond=0)\n",
    "lnh_to_polygons(ishp, oshp, api='psql')\n",
    "tb = dt.datetime.now().replace(microsecond=0)\n",
    "\n",
    "print(tb -ta)"
   ]
  },
  {
   "cell_type": "code",
   "execution_count": null,
   "id": "2f4e580a-ed67-4f28-9866-9d2ea98529ca",
   "metadata": {},
   "outputs": [],
   "source": []
  }
 ],
 "metadata": {
  "kernelspec": {
   "display_name": "Python 3 (ipykernel)",
   "language": "python",
   "name": "python3"
  },
  "language_info": {
   "codemirror_mode": {
    "name": "ipython",
    "version": 3
   },
   "file_extension": ".py",
   "mimetype": "text/x-python",
   "name": "python",
   "nbconvert_exporter": "python",
   "pygments_lexer": "ipython3",
   "version": "3.8.10"
  }
 },
 "nbformat": 4,
 "nbformat_minor": 5
}
