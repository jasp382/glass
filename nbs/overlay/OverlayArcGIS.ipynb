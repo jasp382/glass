{
 "cells": [
  {
   "cell_type": "code",
   "execution_count": null,
   "metadata": {},
   "outputs": [],
   "source": [
    "\"\"\"\n",
    "For each shp in folder, clip a larger dataset\n",
    "\"\"\"\n",
    "\n",
    "from gesri.gp.ovl import clip_by_featcls\n",
    "\n",
    "in_shp     = 'D:/mystuff/fireloc/geodb_api/pt_data.gdb/terrain/alos_pt'\n",
    "clip_shps  = 'D:/mystuff/fireloc/geodb_api/dem_data/lmt_dem_large'\n",
    "out_folder = 'D:/mystuff/fireloc/geodb_api/dem_data/alosdem_parts'\n",
    "\n",
    "clip_by_featcls(in_shp, clip_shps, out_folder, fFormat='.shp')"
   ]
  },
  {
   "cell_type": "code",
   "execution_count": null,
   "metadata": {},
   "outputs": [],
   "source": [
    "\"\"\"\n",
    "Clip inShp using each feature class in the clipFolder as\n",
    "clip features.\n",
    "\"\"\"\n",
    "\n",
    "from gesri.gp.ovl import clip_by_feat\n",
    "\n",
    "in_shp = 'D:/mystuff/gigs_rpms/usosolo/floresta_jardins_d.shp'\n",
    "clip_shp = 'D:/mystuff/gigs_rpms/admin/conc_rpms.shp'\n",
    "out_folder = 'D:/mystuff/gigs_rpms/usosolo/green_by_conc_v2'\n",
    "clipfeatid = 'idmun'\n",
    "\n",
    "clip_by_feat(in_shp, clip_shp, out_folder, 'greenareas', clip_feat_id=clipfeatid, saveid=True)"
   ]
  },
  {
   "cell_type": "code",
   "execution_count": null,
   "metadata": {},
   "outputs": [],
   "source": [
    "from glass.esri.ovl import union\n",
    "\n",
    "unions = {\n",
    "    r'G:/autocls/ref_clcplus/clcbb_alentejo_cmp.shp' : [\n",
    "        r'G:/mainphd.gdb/lulc_utm/clcbb_alentejo_diss_erase',\n",
    "        r'G:/mainphd.gdb/lulc_utm/wetlands_lmt_alentejo'\n",
    "    ],\n",
    "    r'G:/autocls/ref_clcplus/clcbb_algarve_cmp.shp' : [\n",
    "        r'G:/mainphd.gdb/lulc_utm/clcbb_algarve_diss_erase',\n",
    "        r'G:/mainphd.gdb/lulc_utm/wetlands_lmt_algarve'\n",
    "    ],\n",
    "    r'G:/autocls/ref_clcplus/clcbb_coimbra_cmp.shp' : [\n",
    "        r'G:/mainphd.gdb/lulc_utm/clcbb_coimbra_diss_erase',\n",
    "        r'G:/mainphd.gdb/lulc_utm/wetlands_lmt_coimbra'\n",
    "    ],\n",
    "    r'G:/autocls/ref_clcplus/clcbb_lisbon_cmp.shp' : [\n",
    "        r'G:/mainphd.gdb/lulc_utm/clcbb_lisbon_diss_erase',\n",
    "        r'G:/mainphd.gdb/lulc_utm/wetlands_lmt_lisbon'\n",
    "    ],\n",
    "    r'G:/autocls/ref_clcplus/clcbb_pnse_cmp.shp' : [\n",
    "        r'G:/mainphd.gdb/lulc_utm/clcbb_pnse_diss_erase',\n",
    "        r'G:/mainphd.gdb/lulc_utm/wetlands_lmt_pnse'\n",
    "    ],\n",
    "    r'G:/autocls/ref_clcplus/clcbb_porto_cmp.shp' : [\n",
    "        r'G:/mainphd.gdb/lulc_utm/clcbb_porto_diss_erase',\n",
    "        r'G:/mainphd.gdb/lulc_utm/wetlands_lmt_porto'\n",
    "    ]\n",
    "}\n",
    "\n",
    "for k in unions:\n",
    "    union(unions[k], k)"
   ]
  },
  {
   "cell_type": "code",
   "execution_count": null,
   "metadata": {},
   "outputs": [],
   "source": []
  }
 ],
 "metadata": {
  "kernelspec": {
   "display_name": "Python 3 (ipykernel)",
   "language": "python",
   "name": "python3"
  },
  "language_info": {
   "codemirror_mode": {
    "name": "ipython",
    "version": 3
   },
   "file_extension": ".py",
   "mimetype": "text/x-python",
   "name": "python",
   "nbconvert_exporter": "python",
   "pygments_lexer": "ipython3",
   "version": "3.9.16"
  }
 },
 "nbformat": 4,
 "nbformat_minor": 4
}
