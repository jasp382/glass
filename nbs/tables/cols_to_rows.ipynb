{
 "cells": [
  {
   "cell_type": "code",
   "execution_count": null,
   "id": "138954d3-a308-42af-8fa3-737a573ba682",
   "metadata": {},
   "outputs": [],
   "source": [
    "from glass.tbl.torows import cols_to_rows\n",
    "\n",
    "intbl = '/mnt/disk1/jasp/gantro/Address_v2.xlsx'\n",
    "otbl = '/mnt/disk1/jasp/gantro/clubes_desp.xlsx'\n",
    "\n",
    "iid = 'clubid'\n",
    "\n",
    "cols = [\"desp1\", \"desp2\", \"desp3\", \"desp4\", \"desp5\"]\n",
    "\n",
    "colsname = \"desptype\"\n",
    "valcol = \"desporto\"\n",
    "\n",
    "sheet = 'clubs'\n",
    "\n",
    "cols_to_rows(intbl, iid, cols, colsname, valcol, otbl, sheet=sheet)"
   ]
  },
  {
   "cell_type": "code",
   "execution_count": null,
   "id": "dace3ac9-5436-4ca1-9c03-b70168d21f7f",
   "metadata": {},
   "outputs": [],
   "source": []
  }
 ],
 "metadata": {
  "kernelspec": {
   "display_name": "Python 3 (ipykernel)",
   "language": "python",
   "name": "python3"
  },
  "language_info": {
   "codemirror_mode": {
    "name": "ipython",
    "version": 3
   },
   "file_extension": ".py",
   "mimetype": "text/x-python",
   "name": "python",
   "nbconvert_exporter": "python",
   "pygments_lexer": "ipython3",
   "version": "3.8.10"
  }
 },
 "nbformat": 4,
 "nbformat_minor": 5
}
