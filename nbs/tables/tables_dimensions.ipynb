{
 "cells": [
  {
   "cell_type": "markdown",
   "id": "dfa3bde3-4e65-4947-838a-102ba878f01f",
   "metadata": {},
   "source": [
    "Read folder with folders, inside each sub-folder there are two tables,\n",
    "check if they have the same dimension.\n",
    "Save result in a new table"
   ]
  },
  {
   "cell_type": "code",
   "execution_count": null,
   "id": "1640d28a-1ec0-474c-9da8-d4a3eca69af5",
   "metadata": {
    "tags": []
   },
   "outputs": [],
   "source": [
    "from glass.tbl.shp import foldertbls_have_samerows\n",
    "\n",
    "mfolder = '/mnt/e/rms/acc_cs21'\n",
    "\n",
    "tbl_a = 'incidents.shp'\n",
    "tbl_b = 'cs_cf_results.dbf'\n",
    "\n",
    "out = '/mnt/e/rms/acc_cs21/miss_incidents.xlsx'\n",
    "\n",
    "foldertbls_have_samerows(mfolder, tbl_a, tbl_b, out)"
   ]
  },
  {
   "cell_type": "code",
   "execution_count": null,
   "id": "26537860-c9d5-454b-8c9b-a6ab16f8eaf4",
   "metadata": {
    "tags": []
   },
   "outputs": [],
   "source": [
    "from glass.tbl.shp import tblsameid_have_samerows\n",
    "\n",
    "fa = '/mnt/d/rms/acc_evu21/incidents'\n",
    "fb = '/mnt/d/rms/acc_evu21/joinres'\n",
    "\n",
    "faff = '.shp'\n",
    "fbff = '.shp'\n",
    "\n",
    "out = '/mnt/d/rms/acc_evu21/compare_tbls.xlsx'\n",
    "\n",
    "tblsameid_have_samerows(fa, fb, faff, fbff, out)"
   ]
  },
  {
   "cell_type": "code",
   "execution_count": null,
   "id": "00a79bc2-f8a3-4c00-b6d8-4a8726f894b8",
   "metadata": {},
   "outputs": [],
   "source": []
  }
 ],
 "metadata": {
  "kernelspec": {
   "display_name": "Python 3 (ipykernel)",
   "language": "python",
   "name": "python3"
  },
  "language_info": {
   "codemirror_mode": {
    "name": "ipython",
    "version": 3
   },
   "file_extension": ".py",
   "mimetype": "text/x-python",
   "name": "python",
   "nbconvert_exporter": "python",
   "pygments_lexer": "ipython3",
   "version": "3.10.6"
  }
 },
 "nbformat": 4,
 "nbformat_minor": 5
}
