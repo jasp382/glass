{
 "cells": [
  {
   "cell_type": "code",
   "execution_count": null,
   "id": "31543e2a-e3a7-4161-9106-2922157971f5",
   "metadata": {},
   "outputs": [],
   "source": [
    "import os\n",
    "from glass.pys.oss import lst_ff, fprop\n",
    "from glass.tbl.osm import osm_to_lucls_mtag"
   ]
  },
  {
   "cell_type": "code",
   "execution_count": null,
   "id": "b3bd5d47-a1dc-432a-a0a3-f4f03f259c2b",
   "metadata": {},
   "outputs": [],
   "source": [
    "osmfolder = '/mnt/disk1/jasp/dgtinescc/osm_parts'\n",
    "osmfiles = lst_ff(osmfolder, file_format='.xml')\n",
    "\n",
    "osmdata = [{\n",
    "    \"FILE\"  : x,\n",
    "    \"DB\"    : fprop(x, 'fn'),\n",
    "    \"TABLE\" : \"multipolygons\",\n",
    "    \"DBSET\" : \"local\"\n",
    "} for x in osmfiles]\n",
    "\n",
    "osm_ref_tags = {\n",
    "    \"TABLE\"     : '/mnt/disk1/jasp/dgtinescc/multitags_to_classes.xlsx',\n",
    "    \"SHEET\"     : 'final_table',\n",
    "    \"LULC_COL\"  : 'l4'\n",
    "}\n",
    "\n",
    "ref_classes = [\n",
    "    '11', '12', '13', '14', '16',\n",
    "    '114', '121', '122', '125', '131',\n",
    "    '141', '143', '161', '163', '1141',\n",
    "    '1211', '1221', '1222', '1223',\n",
    "    '1231', '1241', '1251', '1252',\n",
    "    '1253', '1254', '1256', '1257',\n",
    "    '1411', '1412', '1432', '1612',\n",
    "    '1631', '1632', '1633', '1641',\n",
    "    '1651', '1711'\n",
    "]\n",
    "\n",
    "\n",
    "clscol = 'lulc_cls'\n",
    "\n",
    "epsg = 3763\n",
    "\n",
    "# Output\n",
    "osmbn = 'osmshpmt'\n",
    "outshp = '/mnt/disk1/jasp/dgtinescc/osmshp_v2'"
   ]
  },
  {
   "cell_type": "code",
   "execution_count": null,
   "id": "beefb1e6-59bd-489a-8341-f6722410b8c5",
   "metadata": {},
   "outputs": [],
   "source": [
    "for o in osmdata:\n",
    "    cid = o[\"DB\"].split('_')[-1]\n",
    "    osm_to_lucls_mtag(\n",
    "        osm_ref_tags, o, ref_classes,\n",
    "        os.path.join(outshp, f\"{osmbn}_{cid}.shp\"),\n",
    "        epsg=epsg, lucol=clscol\n",
    "    )"
   ]
  },
  {
   "cell_type": "code",
   "execution_count": null,
   "id": "4f4749ac-8cca-4894-a066-e4568e6ef315",
   "metadata": {},
   "outputs": [],
   "source": [
    "import os\n",
    "from glass.pys.oss import lst_ff, fprop\n",
    "from glass.tbl.osm import get_osm_with_refclasses\n",
    "from glass.rd import tbl_to_obj"
   ]
  },
  {
   "cell_type": "code",
   "execution_count": null,
   "id": "f917ebc9-d075-4852-9834-27e53d32f5a1",
   "metadata": {},
   "outputs": [],
   "source": [
    "osmfolder = '/home/jasp/mystuff/dgt_caeosm/osmdata/osm_parts_2022/'\n",
    "osmfiles = lst_ff(osmfolder, file_format='.xml')\n",
    "\n",
    "osmdata = [{\n",
    "    \"FILE\"  : x,\n",
    "    \"DB\"    : fprop(x, 'fn'),\n",
    "    \"TABLE\" : \"multipolygons\",\n",
    "    \"DBSET\" : \"local\"\n",
    "} for x in osmfiles]\n",
    "\n",
    "osm_ref_tags = {\n",
    "    \"TABLE\"     : '/home/jasp/mystuff/dgt_caeosm/reftbl/osm_features_2022_usadas_DGT.xlsx',\n",
    "    \"SHEET\"     : 'tags_dgt',\n",
    "    \"LULC_COL\"  : 'l4',\n",
    "    \"KEY_COL\"   : \"key\",\n",
    "    \"VALUE_COL\" : \"value\",\n",
    "    \"GEOM_COL\"  : \"geom\"\n",
    "}\n",
    "\n",
    "lulccls = 'lulccls'\n",
    "\n",
    "# OSM\n",
    "osmshp = '/home/jasp/mystuff/dgt_caeosm/osmdata/osmshp_v3/'\n",
    "\n",
    "osmbn = 'osmshp3'\n",
    "\n",
    "epsg = 3763"
   ]
  },
  {
   "cell_type": "code",
   "execution_count": null,
   "id": "3dd02b73-ac8d-4ccb-9d85-134188e7ac4a",
   "metadata": {},
   "outputs": [],
   "source": [
    "t = tbl_to_obj(osm_ref_tags[\"TABLE\"], sheet=osm_ref_tags[\"SHEET\"])\n",
    "\n",
    "ref_edificado = list(t[osm_ref_tags[\"LULC_COL\"]].unique())"
   ]
  },
  {
   "cell_type": "code",
   "execution_count": null,
   "id": "105eb209-60cf-425b-8848-c8cf9eb4c3cb",
   "metadata": {},
   "outputs": [],
   "source": [
    "ref_edificado"
   ]
  },
  {
   "cell_type": "code",
   "execution_count": null,
   "id": "09263965-951e-4d1b-8a55-6289a54d5315",
   "metadata": {},
   "outputs": [],
   "source": [
    "for o in osmdata:\n",
    "    cid = o[\"DB\"].split('_')[-1]\n",
    "    get_osm_with_refclasses(\n",
    "        osm_ref_tags, o, ref_edificado,\n",
    "        os.path.join(osmshp, f\"{osmbn}_{cid}.shp\"),\n",
    "        epsg=epsg, clscol=lulccls\n",
    "    )"
   ]
  },
  {
   "cell_type": "code",
   "execution_count": null,
   "id": "78646ef6-15a3-4f1b-82a9-adf100e53487",
   "metadata": {},
   "outputs": [],
   "source": []
  }
 ],
 "metadata": {
  "kernelspec": {
   "display_name": "Python 3 (ipykernel)",
   "language": "python",
   "name": "python3"
  },
  "language_info": {
   "codemirror_mode": {
    "name": "ipython",
    "version": 3
   },
   "file_extension": ".py",
   "mimetype": "text/x-python",
   "name": "python",
   "nbconvert_exporter": "python",
   "pygments_lexer": "ipython3",
   "version": "3.8.10"
  }
 },
 "nbformat": 4,
 "nbformat_minor": 5
}
