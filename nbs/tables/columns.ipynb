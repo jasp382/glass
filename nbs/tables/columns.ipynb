{
 "cells": [
  {
   "cell_type": "code",
   "execution_count": null,
   "metadata": {},
   "outputs": [],
   "source": [
    "from osgeo import ogr\n",
    "from glass.pys.oss import lst_ff\n",
    "from glass.tbl.col import fields_to_tbls"
   ]
  },
  {
   "cell_type": "code",
   "execution_count": null,
   "metadata": {},
   "outputs": [],
   "source": [
    "shpfld = '/mnt/d/mystuff/fireloc/geodb_api/burn_areas/'\n",
    "\n",
    "shps = lst_ff(shpfld, file_format='.shp', rfilename=True)"
   ]
  },
  {
   "cell_type": "code",
   "execution_count": null,
   "metadata": {},
   "outputs": [],
   "source": [
    "fields_to_tbls(shpfld, {s.split('.')[0] : ogr.OFTInteger for s in shps})"
   ]
  },
  {
   "cell_type": "code",
   "execution_count": null,
   "metadata": {},
   "outputs": [],
   "source": []
  },
  {
   "cell_type": "code",
   "execution_count": 1,
   "metadata": {},
   "outputs": [],
   "source": [
    "from osgeo import ogr\n",
    "from glass.rd.shp import shp_to_obj\n",
    "from glass.wt.shp import obj_to_shp\n",
    "from glass.pys.oss import fprop\n",
    "from glass.pd.fld import del_cols_notin_ref\n",
    "from glass.prop.prj import shp_epsg\n",
    "from glass.pys.oss import lst_ff\n",
    "from glass.prop.df import drv_name"
   ]
  },
  {
   "cell_type": "code",
   "execution_count": 2,
   "metadata": {},
   "outputs": [],
   "source": [
    "shpfld = '/mnt/d/mystuff/fireloc/geodb_api/burn_areas/'\n",
    "\n",
    "shps = lst_ff(shpfld, file_format='.shp')"
   ]
  },
  {
   "cell_type": "code",
   "execution_count": 4,
   "metadata": {},
   "outputs": [],
   "source": [
    "for s in shps:\n",
    "    # Get field to mantain\n",
    "    mantain = fprop(s, 'fn')\n",
    "    \n",
    "    # Get data\n",
    "    df = shp_to_obj(s)\n",
    "    \n",
    "    # Delete fields\n",
    "    df = del_cols_notin_ref(df, [mantain], geomCol='geometry')\n",
    "    \n",
    "    df[mantain] = 1\n",
    "    \n",
    "    # Overwrite file\n",
    "    epsg = shp_epsg(s)\n",
    "    drv = ogr.GetDriverByName(drv_name(s))\n",
    "    drv.DeleteDataSource(s)\n",
    "    obj_to_shp(df, 'geometry', epsg, s)"
   ]
  },
  {
   "cell_type": "code",
   "execution_count": null,
   "metadata": {},
   "outputs": [],
   "source": []
  }
 ],
 "metadata": {
  "kernelspec": {
   "display_name": "Python 3 (ipykernel)",
   "language": "python",
   "name": "python3"
  },
  "language_info": {
   "codemirror_mode": {
    "name": "ipython",
    "version": 3
   },
   "file_extension": ".py",
   "mimetype": "text/x-python",
   "name": "python",
   "nbconvert_exporter": "python",
   "pygments_lexer": "ipython3",
   "version": "3.8.10"
  }
 },
 "nbformat": 4,
 "nbformat_minor": 4
}
