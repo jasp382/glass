{
 "cells": [
  {
   "cell_type": "markdown",
   "metadata": {},
   "source": [
    "## Join SHP table with xlsx or csv table"
   ]
  },
  {
   "cell_type": "code",
   "execution_count": null,
   "metadata": {},
   "outputs": [],
   "source": [
    "shp = '/mnt/d/mystuff/rms/admin_data/bgrirms_v2.shp'\n",
    "\n",
    "shp_pk = 'bgripk'\n",
    "xls = '/mnt/d/mystuff/rms/admin_data/bgridata.xlsx'\n",
    "sheet = 'popetaria'\n",
    "\n",
    "xls_fk = 'geo_cod'\n",
    "\n",
    "out_shp = '/mnt/d/mystuff/rms/admin_data/bgrirms_v3.shp'"
   ]
  },
  {
   "cell_type": "code",
   "execution_count": null,
   "metadata": {},
   "outputs": [],
   "source": [
    "from glass.tbl.joins import join_shp_with_tbl\n",
    "\n",
    "join_shp_with_tbl(shp, shp_pk, xls, xls_fk, out_shp, sheet=sheet)"
   ]
  },
  {
   "cell_type": "markdown",
   "metadata": {},
   "source": [
    "## Examples applied to BGRI data"
   ]
  },
  {
   "cell_type": "code",
   "execution_count": null,
   "metadata": {},
   "outputs": [],
   "source": [
    "from glass.tbl.joins import join_shp_with_csv\n",
    "\n",
    "join_shp_with_csv(\n",
    "    '/mnt/d/gwork/gigs_cmcprj/admin/data_bgri3.shp',\n",
    "    '/mnt/d/gwork/gigs_cmcprj/admin/BGRI11_CENTRO.csv',\n",
    "    '/mnt/d/gwork/gigs_cmcprj/admin/data_bgri4.shp',\n",
    "    shpJoinField=\"BGRI11\",\n",
    "    dataJoinField=\"GEO_COD\",\n",
    "    joinFieldsMantain=[\n",
    "        'N_INDIVIDUOS_RESIDENT_5A9',\n",
    "        'N_INDIVIDUOS_RESIDENT_10A13',\n",
    "        'N_INDIVIDUOS_RESIDENT_14A19'\n",
    "    ],\n",
    "    newNames=['pop59', 'pop1013', 'pop1419']\n",
    ")"
   ]
  },
  {
   "cell_type": "code",
   "execution_count": null,
   "metadata": {},
   "outputs": [],
   "source": [
    "from glass.tbl.joins import join_shp_with_csv\n",
    "\n",
    "join_shp_with_csv(\n",
    "    '/mnt/c/gwork/gigs_cmcprj/Censos/grid_cmb.shp',\n",
    "    '/mnt/c/gwork/gigs_cmcprj/Censos/POPGRID_VARIAVEIS_PORTUGAL.csv',\n",
    "    '/mnt/c/gwork/gigs_cmcprj/Censos/data_grid.shp',\n",
    "    shpJoinField=\"GRD1K_INSP\",\n",
    "    dataJoinField=\"GRD1K_INSPIREID\",\n",
    "    joinFieldsMantain=[\n",
    "        'TOT_POP',\n",
    "    ],\n",
    "    newNames=['pop']\n",
    ")"
   ]
  },
  {
   "cell_type": "code",
   "execution_count": null,
   "metadata": {},
   "outputs": [],
   "source": [
    "from glass.tbl.joins import join_shp_with_csv\n",
    "import os\n",
    "WORKSPACE = ''\n",
    "\n",
    "FILES = [\"BGRI11_LISBOA\", \"BGRI11_ALENTEJO\", \"BGRI11_ALGARVE\"]\n",
    "shp = r'D:\\indev\\JUSTSIDE\\fridao\\bgri_2011\\BGRI11_NORTE.shp'\n",
    "csv = r'D:\\indev\\JUSTSIDE\\fridao\\bgri_2011\\BGRI11_NORTE.csv'\n",
    "out = [\"DATA_LISBOA.shp\", \"DATA_ALENTEJO.shp\", \"DATA_ALGARVE.shp\"]\n",
    "\n",
    "dataFields = [\n",
    "    \"N_INDIVIDUOS_PRESENT\", \"N_INDIVIDUOS_RESIDENT\",\n",
    "    \"N_INDIVIDUOS_RESIDENT_0A4\", \"N_INDIVIDUOS_RESIDENT_5A9\", \"N_INDIVIDUOS_RESIDENT_10A13\",\n",
    "    \"N_INDIVIDUOS_RESIDENT_14A19\", \"N_INDIVIDUOS_RESIDENT_15A19\",\"N_INDIVIDUOS_RESIDENT_20A24\",\n",
    "    \"N_INDIVIDUOS_RESIDENT_20A64\", \"N_INDIVIDUOS_RESIDENT_25A64\", \"N_INDIVIDUOS_RESIDENT_65\",\n",
    "    \"N_INDIV_RESIDENT_N_LER_ESCRV\",\"N_IND_RESIDENT_FENSINO_1BAS\",\"N_IND_RESIDENT_FENSINO_2BAS\",\n",
    "    \"N_IND_RESIDENT_FENSINO_3BAS\",\"N_IND_RESIDENT_FENSINO_SEC\", \"N_IND_RESIDENT_FENSINO_POSSEC\",\n",
    "    \"N_IND_RESIDENT_FENSINO_SUP\", \"N_IND_RESIDENT_ENSINCOMP_1BAS\", \"N_IND_RESIDENT_ENSINCOMP_2BAS\",\n",
    "    \"N_IND_RESIDENT_ENSINCOMP_3BAS\",\"N_IND_RESIDENT_ENSINCOMP_SEC\", \"N_IND_RESIDENT_ENSINCOMP_POSEC\",\n",
    "    \"N_IND_RESIDENT_ENSINCOMP_SUP\"\n",
    "]\n",
    "\n",
    "newFields = [\n",
    "    \"ni_pre\", \"ni_res\", \"i_res0a4\", \"i_res5a9\", \"i_res10a13\",\n",
    "    \"i_res14a19\", \"i_res15a19\",\"i_res20a24\",\n",
    "    \"i_res20a64\", \"i_res25a64\", \"i_res65\",\n",
    "    \"nler_esc\",\"f1bas\",\"f2bas\", \"f3bas\",\"fsec\", \"fpro\",\"fsup\", \"c1bas\", \"c2bas\",\n",
    "    \"c3bas\",\"csec\", \"cpro\", \"csup\"\n",
    "]\n",
    "\n",
    "for i in range(len(FILES)):\n",
    "    join_shp_with_csv(\n",
    "        os.path.join(WORKSPACE, FILES[i] + '.shp'),\n",
    "        os.path.join(WORKSPACE, FILES[i] + '.csv'),\n",
    "        os.path.join(WORKSPACE, out[i]),\n",
    "        shpJoinField=\"BGRI11\", dataJoinField=\"GEO_COD\",\n",
    "        joinFieldsMantain=dataFields,\n",
    "        newNames=newFields\n",
    "    )"
   ]
  },
  {
   "cell_type": "code",
   "execution_count": null,
   "metadata": {},
   "outputs": [],
   "source": [
    "\"\"\"\n",
    "Assume we have N tables with a numerical column with the same name\n",
    "\n",
    "This script calculate the mean of all these columns\n",
    "\"\"\"\n",
    "\n",
    "import os\n",
    "from glass.tbl.joins import calc_mean_samecol_sevshp\n",
    "\n",
    "intbls = '/mnt/d/gwork/gigs_cmcprj/servicos/cf_otp_cs'\n",
    "\n",
    "tformat = '.shp'\n",
    "\n",
    "pk = 'iid'\n",
    "\n",
    "meancol = 'minutes'\n",
    "\n",
    "output = '/mnt/d/gwork/gigs_cmcprj/servicos/cf_otp_cs/cf_smtuc_cs_mean.xlsx'\n",
    "\n",
    "calc_mean_samecol_sevshp(intbls, pk, meancol, output, tformat=tformat)"
   ]
  },
  {
   "cell_type": "markdown",
   "metadata": {},
   "source": [
    "### join_shp_tbl in loop"
   ]
  },
  {
   "cell_type": "code",
   "execution_count": null,
   "metadata": {
    "tags": []
   },
   "outputs": [],
   "source": [
    "from glass.tbl.joins import loop_join_shp_tbl\n",
    "\n",
    "mfolder = '/mnt/e/rms/acc_cs21/'\n",
    "\n",
    "tbl_a = 'incidents.shp'\n",
    "tbl_b = 'cs_cf_results.dbf'\n",
    "\n",
    "loop_join_shp_tbl(mfolder, tbl_a, tbl_b, 'index', 'IncidentID', 'bgri_cfcs.shp')"
   ]
  },
  {
   "cell_type": "code",
   "execution_count": null,
   "metadata": {
    "tags": []
   },
   "outputs": [],
   "source": [
    "from glass.tbl.joins import loop_join_shp_tbl_sameid\n",
    "\n",
    "fa = '/mnt/d/rms/acc_idosos21/incidents/'\n",
    "fb = '/mnt/d/rms/acc_idosos21/results/'\n",
    "fo = '/mnt/d/rms/acc_idosos21/joinres'\n",
    "\n",
    "res = loop_join_shp_tbl_sameid(fa, fb, fo, 'index', 'IncidentID', 'bgri_cf')"
   ]
  },
  {
   "cell_type": "markdown",
   "metadata": {},
   "source": [
    "# Get records of table A not in table b"
   ]
  },
  {
   "cell_type": "code",
   "execution_count": null,
   "metadata": {
    "tags": []
   },
   "outputs": [],
   "source": [
    "from glass.tbl.joins import rows_tbla_notin_tblb\n",
    "\n",
    "ta = '/mnt/d/rms/admin_data/rms_bgri21pnt.shp'\n",
    "\n",
    "tb = '/mnt/d/rms/acc_pop21/dist_bgri_hsp.shp'\n",
    "\n",
    "pka = 'bgri'\n",
    "\n",
    "pkb = 'bgri'\n",
    "\n",
    "out = '/mnt/d/rms/acc_pop21/dist_bgri_hsp_norel.shp'\n",
    "\n",
    "rows_tbla_notin_tblb(ta, tb, pka, pkb, out)"
   ]
  },
  {
   "cell_type": "code",
   "execution_count": null,
   "metadata": {},
   "outputs": [],
   "source": []
  }
 ],
 "metadata": {
  "kernelspec": {
   "display_name": "Python 3 (ipykernel)",
   "language": "python",
   "name": "python3"
  },
  "language_info": {
   "codemirror_mode": {
    "name": "ipython",
    "version": 3
   },
   "file_extension": ".py",
   "mimetype": "text/x-python",
   "name": "python",
   "nbconvert_exporter": "python",
   "pygments_lexer": "ipython3",
   "version": "3.10.6"
  }
 },
 "nbformat": 4,
 "nbformat_minor": 4
}
