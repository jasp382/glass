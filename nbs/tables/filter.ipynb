{
 "cells": [
  {
   "cell_type": "markdown",
   "metadata": {},
   "source": [
    "### Split shape by attributes"
   ]
  },
  {
   "cell_type": "code",
   "execution_count": null,
   "metadata": {},
   "outputs": [],
   "source": [
    "from glass.dtt.filter import split_shp_by_attr\n",
    "\n",
    "in_shp = '/mnt/d/mystuff/fireloc/geodb_api/burn_areas/ardida_2000_2008.shp'\n",
    "attr   = 'Ano'\n",
    "outdir = '/mnt/d/mystuff/fireloc/geodb_api/burn_areas/'\n",
    "\n",
    "split_shp_by_attr(in_shp, attr, outdir, _format='.shp', outname='aa', valinname=True)"
   ]
  }
 ],
 "metadata": {
  "kernelspec": {
   "display_name": "Python 3 (ipykernel)",
   "language": "python",
   "name": "python3"
  },
  "language_info": {
   "codemirror_mode": {
    "name": "ipython",
    "version": 3
   },
   "file_extension": ".py",
   "mimetype": "text/x-python",
   "name": "python",
   "nbconvert_exporter": "python",
   "pygments_lexer": "ipython3",
   "version": "3.8.10"
  }
 },
 "nbformat": 4,
 "nbformat_minor": 4
}
