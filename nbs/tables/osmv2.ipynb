{
 "cells": [
  {
   "cell_type": "code",
   "execution_count": null,
   "id": "39fe9283-904b-4287-a2c1-759b2e926e1c",
   "metadata": {},
   "outputs": [],
   "source": [
    "import os\n",
    "from glass.pys.oss import lst_ff, fprop\n",
    "from glass.tbl.osm import get_osm_with_refclasses\n",
    "from glass.rd import tbl_to_obj"
   ]
  },
  {
   "cell_type": "code",
   "execution_count": null,
   "id": "dff6d96e-90bd-47d7-8183-02d7c5452ccd",
   "metadata": {},
   "outputs": [],
   "source": [
    "osmfolder = '/home/jasp/mystuff/dgt_caeosm/osmdata/osm_parts_2022/'\n",
    "osmfiles = lst_ff(osmfolder, file_format='.xml')\n",
    "\n",
    "osmdata = [{\n",
    "    \"FILE\"  : x,\n",
    "    \"DB\"    : fprop(x, 'fn'),\n",
    "    \"TABLE\" : \"multipolygons\",\n",
    "    \"DBSET\" : \"local\"\n",
    "} for x in osmfiles]\n",
    "\n",
    "osm_ref_tags = {\n",
    "    \"TABLE\"     : '/home/jasp/mystuff/dgt_caeosm/reftbl/osm_features_2022_usadas_glass.xlsx',\n",
    "    \"SHEET\"     : 'tags_dgt',\n",
    "    \"LULC_COL\"  : 'l4',\n",
    "    \"KEY_COL\"   : \"key\",\n",
    "    \"VALUE_COL\" : \"value\",\n",
    "    \"GEOM_COL\"  : \"geom\"\n",
    "}\n",
    "\n",
    "lulccls = 'lulccls'\n",
    "\n",
    "# OSM\n",
    "osmshp = '/home/jasp/mystuff/dgt_caeosm/osmdata/osmshp_v3/'\n",
    "\n",
    "osmbn = 'osmshp3'\n",
    "\n",
    "epsg = 3763"
   ]
  },
  {
   "cell_type": "code",
   "execution_count": null,
   "id": "b9eeffaa-48e6-4c5c-8110-08eece565b67",
   "metadata": {},
   "outputs": [],
   "source": [
    "t = tbl_to_obj(osm_ref_tags[\"TABLE\"], sheet=osm_ref_tags[\"SHEET\"])\n",
    "\n",
    "ref_edificado = list(t[osm_ref_tags[\"LULC_COL\"]].unique())\n",
    "\n",
    "for o in osmdata:\n",
    "    cid = o[\"DB\"].split('_')[-1]\n",
    "    get_osm_with_refclasses(\n",
    "        osm_ref_tags, o, ref_edificado,\n",
    "        os.path.join(osmshp, f\"{osmbn}_{cid}.shp\"),\n",
    "        epsg=epsg, clscol=lulccls\n",
    "    )"
   ]
  }
 ],
 "metadata": {
  "kernelspec": {
   "display_name": "Python 3 (ipykernel)",
   "language": "python",
   "name": "python3"
  },
  "language_info": {
   "codemirror_mode": {
    "name": "ipython",
    "version": 3
   },
   "file_extension": ".py",
   "mimetype": "text/x-python",
   "name": "python",
   "nbconvert_exporter": "python",
   "pygments_lexer": "ipython3",
   "version": "3.8.10"
  }
 },
 "nbformat": 4,
 "nbformat_minor": 5
}
