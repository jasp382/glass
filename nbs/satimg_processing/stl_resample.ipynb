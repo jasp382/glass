{
 "cells": [
  {
   "cell_type": "markdown",
   "id": "23d03cd7-b96a-44de-81e1-d029ec104069",
   "metadata": {},
   "source": [
    "### Resampling Sentinel-2 images to a 10 meter spatial resolution"
   ]
  },
  {
   "cell_type": "code",
   "execution_count": null,
   "id": "b71e5207-701b-4314-a12f-328cf84e1c18",
   "metadata": {},
   "outputs": [],
   "source": [
    "img_folder = '/home/gisuser/autocls2/imgs2018/'\n",
    "ofolder    = '/home/gisuser/autocls2/'\n",
    "\n",
    "clipshp   = '/mnt/g/autocls_fmref/lmts/lmt_mad.shp'\n",
    "\n",
    "band = ['b02', 'b03', 'b04', 'b05', 'b06', 'b07', 'b08', 'b11', 'b12']"
   ]
  },
  {
   "cell_type": "code",
   "execution_count": null,
   "id": "b7400ab0-9b77-4ed8-aca3-3f3c7ae15e14",
   "metadata": {},
   "outputs": [],
   "source": [
    "import os\n",
    "\n",
    "from glass.pys.oss  import lst_ff\n",
    "from glass.rst.sat.rmp import resample_s2img"
   ]
  },
  {
   "cell_type": "code",
   "execution_count": null,
   "id": "84c57ac1-3cdf-47ad-820c-89e1f1d50197",
   "metadata": {},
   "outputs": [],
   "source": [
    "imgs = lst_ff(img_folder, file_format='.zip')\n",
    "\n",
    "for img in imgs:\n",
    "    resample_s2img(img, clipshp, ofolder, bands=band)"
   ]
  }
 ],
 "metadata": {
  "kernelspec": {
   "display_name": "Python 3 (ipykernel)",
   "language": "python",
   "name": "python3"
  },
  "language_info": {
   "codemirror_mode": {
    "name": "ipython",
    "version": 3
   },
   "file_extension": ".py",
   "mimetype": "text/x-python",
   "name": "python",
   "nbconvert_exporter": "python",
   "pygments_lexer": "ipython3",
   "version": "3.10.12"
  }
 },
 "nbformat": 4,
 "nbformat_minor": 5
}
