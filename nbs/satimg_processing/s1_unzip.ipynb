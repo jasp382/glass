{
 "cells": [
  {
   "cell_type": "code",
   "execution_count": null,
   "id": "bf95a49a-4c87-40f7-82f9-9e578669be42",
   "metadata": {},
   "outputs": [],
   "source": [
    "img_folder = '/mnt/d/sat_papers/madeira/ano2022'\n",
    "ofolder    = '/mnt/d/sat_papers/madeira/src2022'"
   ]
  },
  {
   "cell_type": "code",
   "execution_count": null,
   "id": "2dc199be-a774-4e7b-88d7-70677dbe32c8",
   "metadata": {},
   "outputs": [],
   "source": [
    "from glass.pys.oss  import lst_ff\n",
    "from glass.dtt.stl  import unzip_img"
   ]
  },
  {
   "cell_type": "code",
   "execution_count": null,
   "id": "3aee0035-1285-4162-8ae0-d2d54ef339d0",
   "metadata": {},
   "outputs": [],
   "source": [
    "imgs = lst_ff(img_folder, file_format='.zip')"
   ]
  },
  {
   "cell_type": "code",
   "execution_count": null,
   "id": "e0e254e9-3967-402b-9a7d-1717d2980dad",
   "metadata": {
    "tags": []
   },
   "outputs": [],
   "source": [
    "for img in imgs:\n",
    "    # Unzip images\n",
    "    bands = unzip_img(img, ofolder)"
   ]
  }
 ],
 "metadata": {
  "kernelspec": {
   "display_name": "Python 3 (ipykernel)",
   "language": "python",
   "name": "python3"
  },
  "language_info": {
   "codemirror_mode": {
    "name": "ipython",
    "version": 3
   },
   "file_extension": ".py",
   "mimetype": "text/x-python",
   "name": "python",
   "nbconvert_exporter": "python",
   "pygments_lexer": "ipython3",
   "version": "3.10.12"
  }
 },
 "nbformat": 4,
 "nbformat_minor": 5
}
