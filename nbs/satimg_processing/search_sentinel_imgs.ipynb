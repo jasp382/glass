{
 "cells": [
  {
   "cell_type": "code",
   "execution_count": null,
   "metadata": {},
   "outputs": [],
   "source": [
    "\"\"\"\n",
    "Get Products List\n",
    "\"\"\"\n",
    "\n",
    "# Inputs\n",
    "shpExtent = '/mnt/g/mainphd.gdb/lmt_wgs29/tiles_sentinel'\n",
    "start_time = \"20171001\" # Use YYYY-MM-DD Format\n",
    "end_time = \"20180930\"\n",
    "out_results = '/mnt/g/imgs/imgs_2017_2018.shp'\n",
    "platform = \"Sentinel-2\"\n",
    "processingL = 'Level-2Ap'\n",
    "\n",
    "from glass.acq.stl import lst_prod\n",
    "\n",
    "r = lst_prod(\n",
    "    shpExtent, start_time, end_time, outshp=out_results,\n",
    "    platname=platform, plevel=processingL\n",
    ")"
   ]
  },
  {
   "cell_type": "code",
   "execution_count": null,
   "metadata": {},
   "outputs": [],
   "source": [
    "\"\"\"\n",
    "Get a list with one image for each month of one year\n",
    "and each cell in grid_shp\n",
    "\"\"\"\n",
    "\n",
    "from glass.geo.dat.sentinel import lst_prod_by_cell_and_year\n",
    "\n",
    "grid_shp = '/mnt/c/gwork/gigs_cmcprj/admin/lmt_cmb.shp'\n",
    "year = 2018\n",
    "id_col = 'Name'\n",
    "platform = \"Sentinel-2\"\n",
    "processingL = 'Level-2A'\n",
    "search_shp = '/mnt/c/gwork/gigs_cmcprj/sentinel.shp'\n",
    "epsg = 3763\n",
    "\n",
    "lst_prod_by_cell_and_year(\n",
    "    grid_shp, id_col, year, search_shp,\n",
    "    platform=platform, processingl=processingL, epsg=epsg\n",
    ")"
   ]
  },
  {
   "cell_type": "code",
   "execution_count": null,
   "metadata": {},
   "outputs": [],
   "source": [
    "\"\"\"\n",
    "DOWNLOAD Images in Shapefile\n",
    "\"\"\"\n",
    "\n",
    "shp = '/mnt/d/a2autocls2023/sentinel/img_cmb22_1.shp'\n",
    "fld = '/mnt/d/a2autocls2023/imgcmb/imgcmb'\n",
    "\n",
    "from glass.acq.stl import down_imgs\n",
    "\n",
    "down_imgs(shp, 'uuid', outFolder=fld)"
   ]
  },
  {
   "cell_type": "code",
   "execution_count": null,
   "metadata": {},
   "outputs": [],
   "source": [
    "\"\"\"\n",
    "Get Products List\n",
    "\"\"\"\n",
    "\n",
    "# Inputs\n",
    "shpExtent = '/mnt/g/mainphd.gdb/lmt_wgs29/tiles_sentinel'\n",
    "out_results = '/mnt/g/imgs'\n",
    "platform = \"Sentinel-2\"\n",
    "processingL = 'Level-2A'\n",
    "\n",
    "periods = {\n",
    "    \"20171001\" : \"20180930\",\n",
    "    \"20181001\" : \"20190930\",\n",
    "    \"20191001\" : \"20200930\",\n",
    "    \"20201001\" : \"20210930\",\n",
    "    \"20211001\" : \"20220930\",\n",
    "    \"20221001\" : \"20230930\"\n",
    "}\n",
    "\n",
    "from glass.acq.stl import lst_prod\n",
    "import os\n",
    "\n",
    "for k in periods:\n",
    "    r = lst_prod(\n",
    "        shpExtent, k, periods[k],\n",
    "        outshp=os.path.join(out_results, f'imgs_{k}.shp'),\n",
    "        platname=platform, plevel=processingL\n",
    "    )"
   ]
  },
  {
   "cell_type": "code",
   "execution_count": null,
   "metadata": {},
   "outputs": [],
   "source": []
  }
 ],
 "metadata": {
  "kernelspec": {
   "display_name": "Python 3 (ipykernel)",
   "language": "python",
   "name": "python3"
  },
  "language_info": {
   "codemirror_mode": {
    "name": "ipython",
    "version": 3
   },
   "file_extension": ".py",
   "mimetype": "text/x-python",
   "name": "python",
   "nbconvert_exporter": "python",
   "pygments_lexer": "ipython3",
   "version": "3.10.12"
  }
 },
 "nbformat": 4,
 "nbformat_minor": 4
}
