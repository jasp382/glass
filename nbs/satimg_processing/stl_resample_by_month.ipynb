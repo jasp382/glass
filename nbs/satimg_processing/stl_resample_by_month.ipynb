{
 "cells": [
  {
   "cell_type": "markdown",
   "id": "9ac2f19c-91a3-46ef-9da4-1486a8b012e0",
   "metadata": {},
   "source": [
    "### Resample all sentinel-2 images in a shapefile\n",
    "\n",
    "Organize files by month"
   ]
  },
  {
   "cell_type": "code",
   "execution_count": null,
   "id": "782ae8d2-509d-404d-a3d9-a26e0a4889e4",
   "metadata": {},
   "outputs": [],
   "source": [
    "shp = '/mnt/disk1/jasp/a2autocls2023/sentinel/img_cmb21.shp'\n",
    "\n",
    "folder = '/mnt/disk3/jasp/sentinel_coimbra/src2021'\n",
    "\n",
    "ofolder = '/mnt/disk1/jasp/a2autocls2023/imgcmb/rmp2021'"
   ]
  },
  {
   "cell_type": "code",
   "execution_count": null,
   "id": "0b559046-78fd-4103-9592-15b7e8e5afc9",
   "metadata": {},
   "outputs": [],
   "source": [
    "import pandas as pd\n",
    "import os\n",
    "from glass.rd.shp import shp_to_obj\n",
    "from glass.pys.tm import now_as_str\n",
    "from glass.pys.oss import lst_ff, mkdir, del_folder\n",
    "from glass.dtt.stl  import unzip_img\n",
    "from glass.rst.rmp  import match_cellsize_and_clip"
   ]
  },
  {
   "cell_type": "code",
   "execution_count": null,
   "id": "893f45a4-e817-4f8a-b702-76b10a82c9d9",
   "metadata": {},
   "outputs": [],
   "source": [
    "img_df = shp_to_obj(shp)\n",
    "\n",
    "imgs = lst_ff(folder, file_format='.zip')"
   ]
  },
  {
   "cell_type": "code",
   "execution_count": null,
   "id": "7905d0a6-2606-4b0f-9e04-cb88bf010ad0",
   "metadata": {},
   "outputs": [],
   "source": [
    "img_df['date'] = pd.to_datetime(img_df.beginposit)#, format='%Y%m%d%H%M%S')\n",
    "img_df['date'] = img_df.date.dt.floor('s')\n",
    "img_df['month'] = img_df.date.dt.month"
   ]
  },
  {
   "cell_type": "code",
   "execution_count": null,
   "id": "c53228dc-0970-4b0c-aba6-70c886b3a8f4",
   "metadata": {},
   "outputs": [],
   "source": [
    "months = img_df.month.unique()\n",
    "months.sort()"
   ]
  },
  {
   "cell_type": "code",
   "execution_count": null,
   "id": "9662f765-c7ee-44eb-9d3e-d6ffbc4f8903",
   "metadata": {},
   "outputs": [],
   "source": [
    "months"
   ]
  },
  {
   "cell_type": "code",
   "execution_count": null,
   "id": "e52331e4-076f-46a2-b444-d1d1b1c93481",
   "metadata": {},
   "outputs": [],
   "source": [
    "for m in months:\n",
    "    imgs = img_df[img_df.month == m]\n",
    "    \n",
    "    if not imgs.shape[0]: continue\n",
    "    \n",
    "    mf = mkdir(os.path.join(ofolder, f\"m_{str(m)}\"))\n",
    "    \n",
    "    for i, r in imgs.iterrows():\n",
    "        zfolder = mkdir(os.path.join(mf, now_as_str()), overwrite=True)\n",
    "        _zip = os.path.join(folder, f\"{r.title}.zip\")\n",
    "        \n",
    "        if os.path.exists(_zip):\n",
    "            # Unzip images\n",
    "            bands = unzip_img(_zip, zfolder)\n",
    "    \n",
    "            # Match cellsize and clip\n",
    "            bands = match_cellsize_and_clip(\n",
    "                [bands[b] for b in bands],\n",
    "                bands[\"B02_10m\"], mf,\n",
    "                isint=True, clipgeo=None,\n",
    "                ws=zfolder\n",
    "            )\n",
    "            \n",
    "            # Remove temporary data\n",
    "            del_folder(zfolder)\n",
    "        \n",
    "        break"
   ]
  }
 ],
 "metadata": {
  "kernelspec": {
   "display_name": "Python 3 (ipykernel)",
   "language": "python",
   "name": "python3"
  },
  "language_info": {
   "codemirror_mode": {
    "name": "ipython",
    "version": 3
   },
   "file_extension": ".py",
   "mimetype": "text/x-python",
   "name": "python",
   "nbconvert_exporter": "python",
   "pygments_lexer": "ipython3",
   "version": "3.10.12"
  }
 },
 "nbformat": 4,
 "nbformat_minor": 5
}
