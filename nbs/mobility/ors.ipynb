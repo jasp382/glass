{
 "cells": [
  {
   "cell_type": "markdown",
   "id": "ca835163-da3f-4860-b6ca-c819e8e8a050",
   "metadata": {},
   "source": [
    "# Open Route Service Execution"
   ]
  },
  {
   "cell_type": "markdown",
   "id": "b8548ffe-e269-4722-acd3-39d0adcf3c56",
   "metadata": {},
   "source": [
    "### Closest Facility"
   ]
  },
  {
   "cell_type": "code",
   "execution_count": null,
   "id": "827c5f33-a436-44f0-9122-18820f415e27",
   "metadata": {},
   "outputs": [],
   "source": [
    "ishp = '/mnt/e/rms/madeira/rms_bgri11_pnt01.shp'\n",
    "\n",
    "fshp = '/mnt/e/rms/equipasocial/creches_mad.shp'\n",
    "\n",
    "oshp = '/mnt/e/rms/acc_pop21/acc_creches_mad01.shp'"
   ]
  },
  {
   "cell_type": "code",
   "execution_count": null,
   "id": "841883f4-d5a1-4170-b117-100d7cea5ff6",
   "metadata": {},
   "outputs": [],
   "source": [
    "import pandas as pd\n",
    "\n",
    "from glass.rd.shp import shp_to_obj\n",
    "from glass.wt.shp import df_to_shp\n",
    "from glass.prj.obj import df_prj\n",
    "\n",
    "from glass.mob.ors import matrix_od"
   ]
  },
  {
   "cell_type": "code",
   "execution_count": null,
   "id": "772a3e0a-5222-4eae-a83b-06d5e8ed79ee",
   "metadata": {},
   "outputs": [],
   "source": [
    "idf = shp_to_obj(ishp)\n",
    "fdf = shp_to_obj(fshp)\n",
    "\n",
    "_idf = df_prj(idf, 4326)\n",
    "_fdf = df_prj(fdf, 4326)"
   ]
  },
  {
   "cell_type": "code",
   "execution_count": null,
   "id": "1a686e6f-3871-43e4-b62c-b0d45448eaf9",
   "metadata": {},
   "outputs": [],
   "source": [
    "i_coords = [[x,y] for x,y in zip(_idf['geometry'].x , _idf['geometry'].y)]\n",
    "f_coords = [[x,y] for x,y in zip(_fdf['geometry'].x , _fdf['geometry'].y)]"
   ]
  },
  {
   "cell_type": "code",
   "execution_count": null,
   "id": "ec7c05a2-2457-40b5-88a0-5ed0376f2bb0",
   "metadata": {},
   "outputs": [],
   "source": [
    "i_idx = list(range(len(i_coords)))\n",
    "f_idx = [len(i_idx) + i for i in range(len(f_coords))]\n",
    "\n",
    "locations = i_coords + f_coords"
   ]
  },
  {
   "cell_type": "code",
   "execution_count": null,
   "id": "40126150-540e-484a-85b3-84087ec83a07",
   "metadata": {},
   "outputs": [],
   "source": [
    "r = matrix_od(\n",
    "    locations, idx_src=i_idx,\n",
    "    idx_dest=f_idx, impedance='foot-walking'\n",
    ")"
   ]
  },
  {
   "cell_type": "code",
   "execution_count": null,
   "id": "7908e1a8-e8c8-430f-b827-351e43693c21",
   "metadata": {},
   "outputs": [],
   "source": [
    "jd = r[\"json\"]\n",
    "mtx = jd[\"durations\"]\n",
    "\n",
    "cols = [f'loc_{str(i)}' for i in range(len(f_coords))]\n",
    "\n",
    "mtx_df = pd.DataFrame(mtx, columns=cols)"
   ]
  },
  {
   "cell_type": "code",
   "execution_count": null,
   "id": "ccbe72bf-d00e-4029-9076-a298d4ae78c5",
   "metadata": {},
   "outputs": [],
   "source": [
    "# Convert to minutes\n",
    "for c in cols:\n",
    "    mtx_df[c] = mtx_df[c] / 60"
   ]
  },
  {
   "cell_type": "code",
   "execution_count": null,
   "id": "f0da24a6-09fc-408d-abfa-6d27f134ce42",
   "metadata": {},
   "outputs": [],
   "source": [
    "if len(cols) > 1:\n",
    "    mtx_df['fdist'] = mtx_df[cols].min(axis=1)\n",
    "    mtx_df.drop(cols, axis=1, inplace=True)\n",
    "else:\n",
    "    mtx_df.rename(columns={cols[0] : 'fdist'}, inplace=True)"
   ]
  },
  {
   "cell_type": "code",
   "execution_count": null,
   "id": "6e20ae5d-4b7a-4d74-b203-6b7ee3cd1676",
   "metadata": {},
   "outputs": [],
   "source": [
    "mtx_df['fdist'] = mtx_df.fdist.fillna(-1)"
   ]
  },
  {
   "cell_type": "code",
   "execution_count": null,
   "id": "736a9283-c345-41b4-a0ca-e25552291365",
   "metadata": {},
   "outputs": [],
   "source": [
    "idf = idf.merge(mtx_df, how='left', left_index=True, right_index=True)"
   ]
  },
  {
   "cell_type": "code",
   "execution_count": null,
   "id": "cc99e175-c822-46cd-ba77-49232c223900",
   "metadata": {},
   "outputs": [],
   "source": [
    "df_to_shp(idf, oshp)"
   ]
  },
  {
   "cell_type": "code",
   "execution_count": null,
   "id": "98c0944a-1f36-42be-8231-284f5b35f958",
   "metadata": {},
   "outputs": [],
   "source": []
  }
 ],
 "metadata": {
  "kernelspec": {
   "display_name": "Python 3 (ipykernel)",
   "language": "python",
   "name": "python3"
  },
  "language_info": {
   "codemirror_mode": {
    "name": "ipython",
    "version": 3
   },
   "file_extension": ".py",
   "mimetype": "text/x-python",
   "name": "python",
   "nbconvert_exporter": "python",
   "pygments_lexer": "ipython3",
   "version": "3.10.6"
  }
 },
 "nbformat": 4,
 "nbformat_minor": 5
}
