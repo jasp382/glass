{
 "cells": [
  {
   "cell_type": "code",
   "execution_count": null,
   "id": "dd3cd137-932a-4923-a04e-a06cbe48e2f0",
   "metadata": {},
   "outputs": [],
   "source": [
    "from glass.mob.esri import service_areas\n",
    "\n",
    "facilities = '/mnt/disk1/dist_to_club/loc_clubs.shp'\n",
    "\n",
    "breaks = ['5', '10', '15']\n",
    "\n",
    "out = '/mnt/disk1/dist_to_club/sv_clubs_tv.shp'\n",
    "\n",
    "impedance = 'TravelTime'\n",
    "\n",
    "service_areas(facilities, breaks, out, impedance=impedance)"
   ]
  },
  {
   "cell_type": "code",
   "execution_count": null,
   "id": "c9d12048-5f7e-432f-bb73-e1804db08eee",
   "metadata": {},
   "outputs": [],
   "source": [
    "from glass.cons.esri import TV_URL, R_URL, rest_token\n",
    "\n",
    "from glass.rd.shp import shp_to_obj\n",
    "from glass.prj.obj import df_prj\n",
    "from glass.prop.prj import get_epsg\n",
    "import requests as rq\n",
    "from glass.cons.esri import get_tv_by_impedancetype\n",
    "import json as js"
   ]
  },
  {
   "cell_type": "code",
   "execution_count": null,
   "id": "34b55d9d-dd2c-4de0-8d05-baac6566f57e",
   "metadata": {},
   "outputs": [],
   "source": [
    "shp = '/mnt/disk1/jasp/rms/tsthsp.shp'\n"
   ]
  },
  {
   "cell_type": "code",
   "execution_count": null,
   "id": "38550067-0b46-4f73-8dd8-766178155308",
   "metadata": {},
   "outputs": [],
   "source": [
    "tv = get_tv_by_impedancetype(\"WalkTime\")"
   ]
  },
  {
   "cell_type": "code",
   "execution_count": null,
   "id": "e3db629c-6a25-4774-bce7-d28963fe7abf",
   "metadata": {},
   "outputs": [],
   "source": [
    "token = rest_token()"
   ]
  },
  {
   "cell_type": "code",
   "execution_count": null,
   "id": "6abe8dc7-cbea-4c02-aeec-d142cb4989bd",
   "metadata": {},
   "outputs": [],
   "source": [
    "epsg = get_epsg(shp)"
   ]
  },
  {
   "cell_type": "code",
   "execution_count": null,
   "id": "d48e0bb1-85f0-4a93-84d0-d3c995f4ce79",
   "metadata": {},
   "outputs": [],
   "source": [
    "epsg"
   ]
  },
  {
   "cell_type": "code",
   "execution_count": null,
   "id": "f7d5db34-7aad-4522-a8eb-3b25bd4835ca",
   "metadata": {},
   "outputs": [],
   "source": [
    "dfpnt = shp_to_obj(shp, srs_to=4326 if epsg != 4326 else None)\n",
    "dfpnt['lat'] = dfpnt.geometry.y.astype(str)\n",
    "dfpnt['lng'] = dfpnt.geometry.x.astype(str)\n",
    "\n",
    "dfpnt[\"stops\"] = dfpnt.lng + ',' + dfpnt.lat\n",
    "\n",
    "stops = dfpnt.stops.str.cat(sep=\";\")"
   ]
  },
  {
   "cell_type": "code",
   "execution_count": null,
   "id": "954a1b93-ece4-4f10-9125-41aab2e9b620",
   "metadata": {},
   "outputs": [],
   "source": [
    "stops"
   ]
  },
  {
   "cell_type": "code",
   "execution_count": null,
   "id": "9d5e97f1-b25b-45b8-819f-7f4e75bb2a36",
   "metadata": {},
   "outputs": [],
   "source": [
    "r = rq.get(R_URL, params={\n",
    "    'stops' : stops,\n",
    "    'travelMode' : js.dumps(tv),\n",
    "    'returnDirections' : False,\n",
    "    'token' : token,\n",
    "    'startTime' : 'now',\n",
    "    'f' : 'json',\n",
    "    #\"impedanceAttributeName\" : \"TravelTime\"\n",
    "})"
   ]
  },
  {
   "cell_type": "code",
   "execution_count": null,
   "id": "d292e15d-4413-4ea3-bb7d-a69d2c86fda2",
   "metadata": {},
   "outputs": [],
   "source": [
    "r.status_code"
   ]
  },
  {
   "cell_type": "code",
   "execution_count": null,
   "id": "8252e715-5c10-4962-b107-ddd1315dd114",
   "metadata": {},
   "outputs": [],
   "source": [
    "r.json()"
   ]
  },
  {
   "cell_type": "code",
   "execution_count": null,
   "id": "3ded86e2-4f17-42f4-8285-f33fa5886014",
   "metadata": {},
   "outputs": [],
   "source": [
    "tv={\n",
    "    \"attributeParameterValues\": [{\n",
    "        \"parameterName\": \"Restriction Usage\",\n",
    "        \"attributeName\": \"Walking\",\n",
    "        \"value\": \"PROHIBITED\"\n",
    "    },{\n",
    "        \"parameterName\": \"Restriction Usage\",\n",
    "        \"attributeName\": \"Preferred for Pedestrians\",\"value\": \"PREFER_LOW\"},{\"parameterName\": \"Walking Speed (km/h)\",\"attributeName\": \"WalkTime\",\"value\": 5}],\"description\": \"Follows paths and roads that allow pedestrian traffic and finds solutions that optimize travel time. The walking speed is set to 5 kilometers per hour.\",\"impedanceAttributeName\": \"WalkTime\",\"simplificationToleranceUnits\": \"esriMeters\",\"uturnAtJunctions\": \"esriNFSBAllowBacktrack\",\"restrictionAttributeNames\": [\"Preferred for Pedestrians\",\"Walking\"],\"useHierarchy\": false,\"simplificationTolerance\": 2,\"timeAttributeName\": \"WalkTime\",\"distanceAttributeName\": \"Miles\",\"type\": \"WALK\",\"id\": \"caFAgoThrvUpkFBW\",\"name\": \"Walking Time\"}"
   ]
  },
  {
   "cell_type": "code",
   "execution_count": null,
   "id": "20cdf590-7de5-4dbe-8176-12a187fc6cc4",
   "metadata": {},
   "outputs": [],
   "source": [
    "tv"
   ]
  },
  {
   "cell_type": "code",
   "execution_count": null,
   "id": "2f991d38-ac1c-4442-aad7-69006a950342",
   "metadata": {},
   "outputs": [],
   "source": []
  }
 ],
 "metadata": {
  "kernelspec": {
   "display_name": "Python 3 (ipykernel)",
   "language": "python",
   "name": "python3"
  },
  "language_info": {
   "codemirror_mode": {
    "name": "ipython",
    "version": 3
   },
   "file_extension": ".py",
   "mimetype": "text/x-python",
   "name": "python",
   "nbconvert_exporter": "python",
   "pygments_lexer": "ipython3",
   "version": "3.8.10"
  }
 },
 "nbformat": 4,
 "nbformat_minor": 5
}
