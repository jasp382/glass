{
 "cells": [
  {
   "cell_type": "code",
   "execution_count": null,
   "id": "a655f59e",
   "metadata": {},
   "outputs": [],
   "source": [
    "from glass.mob.esri import service_areas\n",
    "\n",
    "facilities = '/mnt/disk1/dist_to_club/loc_clubs.shp'\n",
    "\n",
    "breaks = ['5', '10', '15']\n",
    "\n",
    "out = '/mnt/disk1/dist_to_club/sv_clubs_tv.shp'\n",
    "\n",
    "impedance = 'TravelTime'\n",
    "\n",
    "service_areas(facilities, breaks, out, impedance=impedance)"
   ]
  },
  {
   "cell_type": "code",
   "execution_count": null,
   "id": "2e9b80c0",
   "metadata": {},
   "outputs": [],
   "source": [
    "from glass.cons.esri import TV_URL, R_URL, rest_token\n",
    "\n",
    "from glass.rd.shp import shp_to_obj\n",
    "from glass.prj.obj import df_prj\n",
    "from glass.prop.prj import get_epsg\n",
    "import requests as rq\n",
    "from glass.cons.esri import get_tv_by_impedancetype\n",
    "import json as js"
   ]
  },
  {
   "cell_type": "code",
   "execution_count": null,
   "id": "1d0dfafb",
   "metadata": {},
   "outputs": [],
   "source": [
    "shp = '/mnt/disk1/jasp/rms/tsthsp.shp'\n"
   ]
  },
  {
   "cell_type": "code",
   "execution_count": null,
   "id": "158c71e2",
   "metadata": {},
   "outputs": [],
   "source": [
    "tv = get_tv_by_impedancetype(\"WalkTime\")"
   ]
  },
  {
   "cell_type": "code",
   "execution_count": null,
   "id": "6c3176ce",
   "metadata": {},
   "outputs": [],
   "source": [
    "token = rest_token()"
   ]
  },
  {
   "cell_type": "code",
   "execution_count": null,
   "id": "6a7f8213",
   "metadata": {},
   "outputs": [],
   "source": [
    "epsg = get_epsg(shp)"
   ]
  },
  {
   "cell_type": "code",
   "execution_count": null,
   "id": "96c3bf51",
   "metadata": {},
   "outputs": [],
   "source": [
    "epsg"
   ]
  },
  {
   "cell_type": "code",
   "execution_count": null,
   "id": "1f8971b8",
   "metadata": {},
   "outputs": [],
   "source": [
    "dfpnt = shp_to_obj(shp, srs_to=4326 if epsg != 4326 else None)\n",
    "dfpnt['lat'] = dfpnt.geometry.y.astype(str)\n",
    "dfpnt['lng'] = dfpnt.geometry.x.astype(str)\n",
    "\n",
    "dfpnt[\"stops\"] = dfpnt.lng + ',' + dfpnt.lat\n",
    "\n",
    "stops = dfpnt.stops.str.cat(sep=\";\")"
   ]
  },
  {
   "cell_type": "code",
   "execution_count": null,
   "id": "ec6a8d65",
   "metadata": {},
   "outputs": [],
   "source": [
    "stops"
   ]
  },
  {
   "cell_type": "code",
   "execution_count": null,
   "id": "2b6f0eb5",
   "metadata": {},
   "outputs": [],
   "source": [
    "r = rq.get(R_URL, params={\n",
    "    'stops' : stops,\n",
    "    'travelMode' : js.dumps(tv),\n",
    "    'returnDirections' : False,\n",
    "    'token' : token,\n",
    "    'startTime' : 'now',\n",
    "    'f' : 'json',\n",
    "    #\"impedanceAttributeName\" : \"TravelTime\"\n",
    "})"
   ]
  },
  {
   "cell_type": "code",
   "execution_count": null,
   "id": "df0c57ca",
   "metadata": {},
   "outputs": [],
   "source": [
    "r.status_code"
   ]
  },
  {
   "cell_type": "code",
   "execution_count": null,
   "id": "990adff3",
   "metadata": {},
   "outputs": [],
   "source": [
    "r.json()"
   ]
  },
  {
   "cell_type": "code",
   "execution_count": null,
   "id": "eec8ae4d",
   "metadata": {},
   "outputs": [],
   "source": [
    "tv={\n",
    "    \"attributeParameterValues\": [{\n",
    "        \"parameterName\": \"Restriction Usage\",\n",
    "        \"attributeName\": \"Walking\",\n",
    "        \"value\": \"PROHIBITED\"\n",
    "    },{\n",
    "        \"parameterName\": \"Restriction Usage\",\n",
    "        \"attributeName\": \"Preferred for Pedestrians\",\"value\": \"PREFER_LOW\"},{\"parameterName\": \"Walking Speed (km/h)\",\"attributeName\": \"WalkTime\",\"value\": 5}],\"description\": \"Follows paths and roads that allow pedestrian traffic and finds solutions that optimize travel time. The walking speed is set to 5 kilometers per hour.\",\"impedanceAttributeName\": \"WalkTime\",\"simplificationToleranceUnits\": \"esriMeters\",\"uturnAtJunctions\": \"esriNFSBAllowBacktrack\",\"restrictionAttributeNames\": [\"Preferred for Pedestrians\",\"Walking\"],\"useHierarchy\": false,\"simplificationTolerance\": 2,\"timeAttributeName\": \"WalkTime\",\"distanceAttributeName\": \"Miles\",\"type\": \"WALK\",\"id\": \"caFAgoThrvUpkFBW\",\"name\": \"Walking Time\"}"
   ]
  },
  {
   "cell_type": "code",
   "execution_count": null,
   "id": "91faf118",
   "metadata": {},
   "outputs": [],
   "source": [
    "tv"
   ]
  },
  {
   "cell_type": "code",
   "execution_count": null,
   "id": "6cf52e38",
   "metadata": {},
   "outputs": [],
   "source": []
  }
 ],
 "metadata": {
  "kernelspec": {
   "display_name": "Python 3 (ipykernel)",
   "language": "python",
   "name": "python3"
  },
  "language_info": {
   "codemirror_mode": {
    "name": "ipython",
    "version": 3
   },
   "file_extension": ".py",
   "mimetype": "text/x-python",
   "name": "python",
   "nbconvert_exporter": "python",
   "pygments_lexer": "ipython3",
   "version": "3.9.16"
  },
  "vscode": {
   "interpreter": {
    "hash": "1a9a4461a8f3100e4049599c0069bb78c84401fab31bb94807d3a040b4ffc03f"
   }
  }
 },
 "nbformat": 4,
 "nbformat_minor": 5
}
