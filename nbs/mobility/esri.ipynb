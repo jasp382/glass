{
 "cells": [
  {
   "cell_type": "code",
   "execution_count": null,
   "id": "a655f59e",
   "metadata": {},
   "outputs": [],
   "source": [
    "from glass.mob.esri import service_areas\n",
    "\n",
    "facilities = '/mnt/disk1/dist_to_club/loc_clubs.shp'\n",
    "\n",
    "breaks = ['5', '10', '15']\n",
    "\n",
    "out = '/mnt/disk1/dist_to_club/sv_clubs_tv.shp'\n",
    "\n",
    "impedance = 'TravelTime'\n",
    "\n",
    "service_areas(facilities, breaks, out, impedance=impedance)"
   ]
  },
  {
   "cell_type": "code",
   "execution_count": 1,
   "id": "72d59d70-69c9-4627-9950-aff2075c708f",
   "metadata": {
    "tags": []
   },
   "outputs": [
    {
     "name": "stderr",
     "output_type": "stream",
     "text": [
      "/home/jasp/.virtualenvs/genv/lib/python3.8/site-packages/geopandas/_compat.py:112: UserWarning: The Shapely GEOS version (3.10.2-CAPI-1.16.0) is incompatible with the GEOS version PyGEOS was compiled with (3.10.4-CAPI-1.16.2). Conversions between both will be slow.\n",
      "  warnings.warn(\n"
     ]
    },
    {
     "ename": "TypeError",
     "evalue": "'NoneType' object is not iterable",
     "output_type": "error",
     "traceback": [
      "\u001b[0;31m---------------------------------------------------------------------------\u001b[0m",
      "\u001b[0;31mTypeError\u001b[0m                                 Traceback (most recent call last)",
      "Cell \u001b[0;32mIn[1], line 13\u001b[0m\n\u001b[1;32m      9\u001b[0m imp \u001b[38;5;241m=\u001b[39m \u001b[38;5;124m'\u001b[39m\u001b[38;5;124mWalkTime\u001b[39m\u001b[38;5;124m'\u001b[39m\n\u001b[1;32m     11\u001b[0m epsg \u001b[38;5;241m=\u001b[39m \u001b[38;5;241m5016\u001b[39m\n\u001b[0;32m---> 13\u001b[0m \u001b[43mclosest_facility\u001b[49m\u001b[43m(\u001b[49m\n\u001b[1;32m     14\u001b[0m \u001b[43m    \u001b[49m\u001b[43mi\u001b[49m\u001b[43m,\u001b[49m\u001b[43m \u001b[49m\u001b[43mipk\u001b[49m\u001b[43m,\u001b[49m\u001b[43m \u001b[49m\u001b[43mf\u001b[49m\u001b[43m,\u001b[49m\u001b[43m \u001b[49m\u001b[43mout\u001b[49m\u001b[43m,\u001b[49m\u001b[43m \u001b[49m\u001b[43mimpedance\u001b[49m\u001b[38;5;241;43m=\u001b[39;49m\u001b[43mimp\u001b[49m\u001b[43m,\u001b[49m\n\u001b[1;32m     15\u001b[0m \u001b[43m    \u001b[49m\u001b[43mcrs\u001b[49m\u001b[38;5;241;43m=\u001b[39;49m\u001b[43mepsg\u001b[49m\u001b[43m,\u001b[49m\u001b[43m \u001b[49m\u001b[43msave_temp_json\u001b[49m\u001b[38;5;241;43m=\u001b[39;49m\u001b[38;5;28;43;01mTrue\u001b[39;49;00m\n\u001b[1;32m     16\u001b[0m \u001b[43m)\u001b[49m\n",
      "File \u001b[0;32m~/glass/glass/mob/esri/cf.py:74\u001b[0m, in \u001b[0;36mclosest_facility\u001b[0;34m(incidents, incidents_id, facilities, output, impedance, crs, save_temp_json)\u001b[0m\n\u001b[1;32m     71\u001b[0m     fdfs[i]\u001b[38;5;241m.\u001b[39mreset_index(inplace\u001b[38;5;241m=\u001b[39m\u001b[38;5;28;01mTrue\u001b[39;00m, drop\u001b[38;5;241m=\u001b[39m\u001b[38;5;28;01mTrue\u001b[39;00m)\n\u001b[1;32m     73\u001b[0m \u001b[38;5;66;03m# Get travel mode\u001b[39;00m\n\u001b[0;32m---> 74\u001b[0m tv \u001b[38;5;241m=\u001b[39m \u001b[43mget_tv_by_impedancetype\u001b[49m\u001b[43m(\u001b[49m\u001b[43mimpedance\u001b[49m\u001b[43m)\u001b[49m\n\u001b[1;32m     76\u001b[0m \u001b[38;5;66;03m# Ask for results\u001b[39;00m\n\u001b[1;32m     77\u001b[0m results \u001b[38;5;241m=\u001b[39m []\n",
      "File \u001b[0;32m~/glass/glass/cons/esri.py:109\u001b[0m, in \u001b[0;36mget_tv_by_impedancetype\u001b[0;34m(impedance)\u001b[0m\n\u001b[1;32m    105\u001b[0m tvdata \u001b[38;5;241m=\u001b[39m tvs\u001b[38;5;241m.\u001b[39mjson()\n\u001b[1;32m    107\u001b[0m tmode \u001b[38;5;241m=\u001b[39m \u001b[38;5;28;01mNone\u001b[39;00m\n\u001b[0;32m--> 109\u001b[0m \u001b[38;5;28;01mfor\u001b[39;00m tv \u001b[38;5;129;01min\u001b[39;00m tvdata\u001b[38;5;241m.\u001b[39mget(\u001b[38;5;124m'\u001b[39m\u001b[38;5;124msupportedTravelModes\u001b[39m\u001b[38;5;124m'\u001b[39m):\n\u001b[1;32m    110\u001b[0m     \u001b[38;5;28;01mfor\u001b[39;00m r \u001b[38;5;129;01min\u001b[39;00m tv[\u001b[38;5;124m'\u001b[39m\u001b[38;5;124mattributeParameterValues\u001b[39m\u001b[38;5;124m'\u001b[39m]:\n\u001b[1;32m    111\u001b[0m         \u001b[38;5;28;01mif\u001b[39;00m r[\u001b[38;5;124m'\u001b[39m\u001b[38;5;124mattributeName\u001b[39m\u001b[38;5;124m'\u001b[39m] \u001b[38;5;241m==\u001b[39m impedance:\n",
      "\u001b[0;31mTypeError\u001b[0m: 'NoneType' object is not iterable"
     ]
    }
   ],
   "source": [
    "from glass.mob.esri.cf import closest_facility\n",
    "\n",
    "i   = '/mnt/e/rms/madeira/rms_bgri11_pnt.shp'\n",
    "ipk = 'bgri'\n",
    "\n",
    "f = '/mnt/e/rms/equipasocial/creches_mad.shp'\n",
    "out = '/mnt/e/rms/acc_pop21/acc_creches_psanto.shp'\n",
    "\n",
    "imp = 'WalkTime'\n",
    "\n",
    "epsg = 5016\n",
    "\n",
    "closest_facility(\n",
    "    i, ipk, f, out, impedance=imp,\n",
    "    crs=epsg, save_temp_json=True\n",
    ")"
   ]
  },
  {
   "cell_type": "code",
   "execution_count": null,
   "id": "7c671031-e5d8-48e7-988a-0bd5fff2d28c",
   "metadata": {
    "tags": []
   },
   "outputs": [],
   "source": [
    "import geopandas as gp\n",
    "from glass.rd.shp import shp_to_obj"
   ]
  },
  {
   "cell_type": "code",
   "execution_count": null,
   "id": "fe27472f-f3f5-47ce-bfe8-15577ad29abe",
   "metadata": {
    "tags": []
   },
   "outputs": [],
   "source": [
    "i   = '/mnt/e/rms/azores/rms_bgri21_pnt_smiguel.shp'\n",
    "ipk = 'bgri'\n",
    "\n",
    "f = '/mnt/e/rms/equipasocial/idosos_saomiguel.shp'"
   ]
  },
  {
   "cell_type": "code",
   "execution_count": null,
   "id": "23d7d0e5-51a0-4312-892d-47e68d591625",
   "metadata": {
    "tags": []
   },
   "outputs": [],
   "source": [
    "idf = shp_to_obj(i)\n",
    "fdf = shp_to_obj(f)\n",
    "\n",
    "#idf = idf[idf[ipk] == '42030700103']"
   ]
  },
  {
   "cell_type": "code",
   "execution_count": null,
   "id": "e1b9d496-9daf-4a56-ab4a-1b9884ad9f3f",
   "metadata": {
    "tags": []
   },
   "outputs": [],
   "source": [
    "idf['auxcol'] = 1\n",
    "fdf['auxcol'] = 1\n",
    "\n",
    "idf['fid_a'] = idf.index + 1\n",
    "fdf['fid_b'] = fdf.index + 1\n",
    "\n",
    "adf = idf.merge(fdf, how='inner', on='auxcol').drop('auxcol', axis=1)"
   ]
  },
  {
   "cell_type": "code",
   "execution_count": null,
   "id": "a90036d7-9c0c-4fbb-8eb7-0f3e9a1d81f2",
   "metadata": {},
   "outputs": [],
   "source": [
    "geom_i = gp.GeoSeries(adf.geometry_x)\n",
    "geom_f = gp.GeoSeries(adf.geometry_y)\n",
    "\n",
    "adf[\"dist\"] = geom_i.distance(geom_f, align=True) / 1000"
   ]
  },
  {
   "cell_type": "code",
   "execution_count": null,
   "id": "e4bf0196-a2df-4ca6-aec7-bc7a63c88521",
   "metadata": {},
   "outputs": [],
   "source": [
    "adf = adf[adf.dist < 20]\n",
    "adf = adf[['fid_a', 'fid_b']]\n",
    "# Get groups\n",
    "adf = adf.groupby('fid_a')['fid_b'].apply(list).reset_index(name='fid_b')\n",
    "adf['fid_b'] = adf.fid_b.apply(lambda x: sorted(x))\n",
    "adf = adf.groupby(adf.fid_b.map(tuple))['fid_a'].apply(list).reset_index(name='fid_a')"
   ]
  },
  {
   "cell_type": "code",
   "execution_count": null,
   "id": "2d417493-67ed-4c6b-9463-b5b7d58deb90",
   "metadata": {},
   "outputs": [],
   "source": [
    "for i, group in adf.iterrows():\n",
    "    inc = idf[idf['fid_a'].isin(group.fid_a)]\n",
    "    fac = fdf[fdf['fid_b'].isin(group.fid_b)]\n",
    "\n",
    "    fids = inc.fid_a.tolist()\n",
    "\n",
    "    if 349 in fids:\n",
    "        print(i)\n",
    "        break"
   ]
  },
  {
   "cell_type": "code",
   "execution_count": null,
   "id": "942beb3b-0cd2-4144-905d-aa51168860fe",
   "metadata": {
    "tags": []
   },
   "outputs": [],
   "source": [
    "idfs[2]"
   ]
  },
  {
   "cell_type": "code",
   "execution_count": null,
   "id": "8be3e38b-6269-4b32-b1e5-2aac3bf834c8",
   "metadata": {},
   "outputs": [],
   "source": [
    "from glass.pd.split import df_split\n",
    "\n",
    "idfs = df_split(inc, 100, nrows=True)"
   ]
  },
  {
   "cell_type": "code",
   "execution_count": null,
   "id": "e73cc901-0779-41d2-8206-a310f909e115",
   "metadata": {},
   "outputs": [],
   "source": [
    "import json\n",
    "from glass.it.esri import json_to_gjson\n",
    "from glass.it.pd      import json_obj_to_geodf\n",
    "\n",
    "js = '/mnt/e/rms/acc_pop21/esri_response_4_5.json'\n",
    "\n",
    "esri_geom = json.load(open(js, 'r'))\n",
    "geom = json_to_gjson(esri_geom.get('routes'))\n",
    "\n",
    "gdf = json_obj_to_geodf(geom, 4326)"
   ]
  },
  {
   "cell_type": "code",
   "execution_count": null,
   "id": "7957ca3c-3f56-48eb-a797-2538ebeef963",
   "metadata": {},
   "outputs": [],
   "source": [
    "gdf.shape"
   ]
  },
  {
   "cell_type": "code",
   "execution_count": null,
   "id": "983c3b73-dffe-4015-9a77-26a515c57f3f",
   "metadata": {
    "tags": []
   },
   "outputs": [],
   "source": [
    "from glass.mob.esri.cf import cf_ign_distfac\n",
    "\n",
    "i   = '/mnt/e/rms/azores/rms_bgri11_pnt.shp'\n",
    "ipk = 'bgri'\n",
    "\n",
    "f = '/mnt/e/rms/equipasocial/creches_azores.shp'\n",
    "out = '/mnt/e/rms/acc_pop21/acc_creches_azores.shp'\n",
    "\n",
    "epsg = 5015\n",
    "\n",
    "cf_ign_distfac(\n",
    "    i, ipk, f, out,\n",
    "    crs=epsg, save_temp_json=True\n",
    ")"
   ]
  },
  {
   "cell_type": "markdown",
   "id": "f406a2ed-f3d6-4809-9002-a78afcc35473",
   "metadata": {},
   "source": [
    "-----------------------------------"
   ]
  },
  {
   "cell_type": "markdown",
   "id": "67793c42-d0d8-4fd3-8f05-3684ce0fcf3c",
   "metadata": {},
   "source": [
    "### Loop of cf_ign_distfac"
   ]
  },
  {
   "cell_type": "code",
   "execution_count": null,
   "id": "13e5a1d3-33a8-41b2-814d-b117d3e500e6",
   "metadata": {
    "tags": []
   },
   "outputs": [],
   "source": [
    "import os\n",
    "from glass.pys.oss import lst_fld\n",
    "from glass.mob.esri.cf import cf_ign_distfac"
   ]
  },
  {
   "cell_type": "code",
   "execution_count": null,
   "id": "ebea021b-c44b-4c8d-a641-e0c7cbe7a235",
   "metadata": {
    "tags": []
   },
   "outputs": [],
   "source": [
    "folder = '/mnt/e/rms/acc_csazores/'\n",
    "\n",
    "ipk = 'bgri'\n",
    "\n",
    "epsg = 5015"
   ]
  },
  {
   "cell_type": "code",
   "execution_count": null,
   "id": "939d99c2-cba4-472d-a017-4d9c2849c07b",
   "metadata": {
    "tags": []
   },
   "outputs": [],
   "source": [
    "iaf = lst_fld(folder)\n",
    "\n",
    "for f in iaf:\n",
    "    cf_ign_distfac(\n",
    "        os.path.join(f, 'incidents.shp'), ipk,\n",
    "        os.path.join(f, 'facilities.shp'),\n",
    "        os.path.join(f, 'cf_result_v2.shp'),\n",
    "        crs=epsg, save_temp_json=True\n",
    "    )"
   ]
  },
  {
   "cell_type": "code",
   "execution_count": null,
   "id": "43637732-2ba7-4cc8-b2cb-96befdf94b89",
   "metadata": {
    "tags": []
   },
   "outputs": [],
   "source": [
    "iaf"
   ]
  },
  {
   "cell_type": "markdown",
   "id": "163f1dd4-a631-4e5a-a5e5-a091aba7f63a",
   "metadata": {},
   "source": [
    "-------------------------------------"
   ]
  },
  {
   "cell_type": "code",
   "execution_count": null,
   "id": "153162a1-6ea9-4149-82fd-15a2c1774d6c",
   "metadata": {
    "tags": []
   },
   "outputs": [],
   "source": [
    "from glass.mob.esri.cf import cf_based_on_relations\n",
    "\n",
    "i = '/mnt/e/rms/azores/rms_bgri21_pnt.shp'\n",
    "ipk = 'bgri'\n",
    "igroup = 'idfreg'\n",
    "\n",
    "f = '/mnt/e/rms/equipasaude/cs_azores.shp'\n",
    "fpk = 'csid'\n",
    "\n",
    "reltbl = '/mnt/e/rms/equipasaude/AInf_CSP_Azores.xlsx'\n",
    "sheet = 'A_Inf'\n",
    "groupfk = 'ddccff'\n",
    "ffk = 'idcs'\n",
    "\n",
    "epsg = 5015\n",
    "\n",
    "output = '/mnt/e/rms/acc_pop21/azores_cs.shp'\n",
    "\n",
    "cf_based_on_relations(\n",
    "    i, ipk, igroup,\n",
    "    f, fpk, reltbl, sheet, groupfk, ffk,\n",
    "    output, impedance='TravelTime',\n",
    "    srs=epsg\n",
    ")"
   ]
  },
  {
   "cell_type": "code",
   "execution_count": null,
   "id": "2e9b80c0",
   "metadata": {
    "tags": []
   },
   "outputs": [],
   "source": [
    "from glass.cons.esri import TV_URL, CF_URL, rest_token\n",
    "\n",
    "from glass.rd.shp import shp_to_obj\n",
    "from glass.prj.obj import df_prj\n",
    "from glass.prop.prj import get_epsg\n",
    "import requests as rq\n",
    "from glass.cons.esri import get_tv_by_impedancetype\n",
    "import json as js\n",
    "from glass.it.esri    import json_to_gjson"
   ]
  },
  {
   "cell_type": "code",
   "execution_count": null,
   "id": "1d0dfafb",
   "metadata": {
    "tags": []
   },
   "outputs": [],
   "source": [
    "i   = '/mnt/d/rms/acc_pop21/tst_incidents.shp'\n",
    "ipk = 'bgri'\n",
    "\n",
    "f = '/mnt/d/rms/acc_pop21/tst_facilities.shp'\n",
    "out = '/mnt/d/rms/acc_pop21/azores_idosos.shp'"
   ]
  },
  {
   "cell_type": "code",
   "execution_count": null,
   "id": "158c71e2",
   "metadata": {
    "tags": []
   },
   "outputs": [],
   "source": [
    "tv = get_tv_by_impedancetype(\"WalkTime\")"
   ]
  },
  {
   "cell_type": "code",
   "execution_count": null,
   "id": "6c3176ce",
   "metadata": {
    "tags": []
   },
   "outputs": [],
   "source": [
    "token = rest_token()"
   ]
  },
  {
   "cell_type": "code",
   "execution_count": null,
   "id": "6a7f8213",
   "metadata": {
    "tags": []
   },
   "outputs": [],
   "source": [
    "tvs = rq.get(TV_URL, params={'f' : 'json', 'token' : token})"
   ]
  },
  {
   "cell_type": "code",
   "execution_count": null,
   "id": "d6a2c69e-a211-4c98-9d9c-a62c3525da1a",
   "metadata": {
    "tags": []
   },
   "outputs": [],
   "source": [
    "tvs.json()"
   ]
  },
  {
   "cell_type": "code",
   "execution_count": null,
   "id": "96c3bf51",
   "metadata": {
    "tags": []
   },
   "outputs": [],
   "source": [
    "epsg"
   ]
  },
  {
   "cell_type": "code",
   "execution_count": null,
   "id": "1f8971b8",
   "metadata": {
    "tags": []
   },
   "outputs": [],
   "source": [
    "idf = shp_to_obj(i, srs_to=4326 if epsg != 4326 else None)\n",
    "idf['lat'] = idf.geometry.y.astype(str)\n",
    "idf['lng'] = idf.geometry.x.astype(str)\n",
    "\n",
    "fdf = shp_to_obj(f, srs_to=4326 if epsg != 4326 else None)\n",
    "fdf['lat'] = fdf.geometry.y.astype(str)\n",
    "fdf['lng'] = fdf.geometry.x.astype(str)\n",
    "\n",
    "idf[\"coords\"] = idf.lng + ',' + idf.lat\n",
    "fdf[\"coords\"] = fdf.lng + ',' + fdf.lat\n",
    "\n",
    "istr = idf.coords.str.cat(sep=\";\")\n",
    "fstr = fdf.coords.str.cat(sep=\";\")"
   ]
  },
  {
   "cell_type": "code",
   "execution_count": null,
   "id": "ec6a8d65",
   "metadata": {
    "tags": []
   },
   "outputs": [],
   "source": [
    "fstr"
   ]
  },
  {
   "cell_type": "code",
   "execution_count": null,
   "id": "2b6f0eb5",
   "metadata": {
    "tags": []
   },
   "outputs": [],
   "source": [
    "r = rq.get(CF_URL, params={\n",
    "    #\"impedanceAttributeName\" : \"TravelTime\"\n",
    "    'facilities'             : fstr,\n",
    "    'incidents'              : istr,\n",
    "    'token'                  : token,\n",
    "    'f'                      : 'json',\n",
    "    'travelModel'            : js.dumps(tv),\n",
    "    'defaultTargetFacilityCount' : '1',\n",
    "    'returnCFRoutes'         : True,\n",
    "    'travelDirection'        : 'esriNATravelDirectionToFacility',\n",
    "    'impedanceAttributeName' : 'WalkTime'\n",
    "})"
   ]
  },
  {
   "cell_type": "code",
   "execution_count": null,
   "id": "df0c57ca",
   "metadata": {
    "tags": []
   },
   "outputs": [],
   "source": [
    "r.status_code"
   ]
  },
  {
   "cell_type": "code",
   "execution_count": null,
   "id": "ed49691b-7696-4493-8581-480993e04bb4",
   "metadata": {
    "tags": []
   },
   "outputs": [],
   "source": [
    "esri_geom = r.json()\n",
    "geom = json_to_gjson(esri_geom.get('routes'))"
   ]
  },
  {
   "cell_type": "code",
   "execution_count": null,
   "id": "d2b667bd-a7a2-466e-8763-601a68d438da",
   "metadata": {
    "tags": []
   },
   "outputs": [],
   "source": [
    "geom"
   ]
  },
  {
   "cell_type": "code",
   "execution_count": null,
   "id": "990adff3",
   "metadata": {
    "tags": []
   },
   "outputs": [],
   "source": [
    "r.json()"
   ]
  },
  {
   "cell_type": "code",
   "execution_count": null,
   "id": "eec8ae4d",
   "metadata": {},
   "outputs": [],
   "source": [
    "tv={\n",
    "    \"attributeParameterValues\": [{\n",
    "        \"parameterName\": \"Restriction Usage\",\n",
    "        \"attributeName\": \"Walking\",\n",
    "        \"value\": \"PROHIBITED\"\n",
    "    },{\n",
    "        \"parameterName\": \"Restriction Usage\",\n",
    "        \"attributeName\": \"Preferred for Pedestrians\",\"value\": \"PREFER_LOW\"},{\"parameterName\": \"Walking Speed (km/h)\",\"attributeName\": \"WalkTime\",\"value\": 5}],\"description\": \"Follows paths and roads that allow pedestrian traffic and finds solutions that optimize travel time. The walking speed is set to 5 kilometers per hour.\",\"impedanceAttributeName\": \"WalkTime\",\"simplificationToleranceUnits\": \"esriMeters\",\"uturnAtJunctions\": \"esriNFSBAllowBacktrack\",\"restrictionAttributeNames\": [\"Preferred for Pedestrians\",\"Walking\"],\"useHierarchy\": false,\"simplificationTolerance\": 2,\"timeAttributeName\": \"WalkTime\",\"distanceAttributeName\": \"Miles\",\"type\": \"WALK\",\"id\": \"caFAgoThrvUpkFBW\",\"name\": \"Walking Time\"}"
   ]
  },
  {
   "cell_type": "code",
   "execution_count": null,
   "id": "91faf118",
   "metadata": {},
   "outputs": [],
   "source": [
    "tv"
   ]
  },
  {
   "cell_type": "code",
   "execution_count": null,
   "id": "6cf52e38",
   "metadata": {},
   "outputs": [],
   "source": []
  }
 ],
 "metadata": {
  "kernelspec": {
   "display_name": "Python 3 (ipykernel)",
   "language": "python",
   "name": "python3"
  },
  "language_info": {
   "codemirror_mode": {
    "name": "ipython",
    "version": 3
   },
   "file_extension": ".py",
   "mimetype": "text/x-python",
   "name": "python",
   "nbconvert_exporter": "python",
   "pygments_lexer": "ipython3",
   "version": "3.8.10"
  },
  "vscode": {
   "interpreter": {
    "hash": "1a9a4461a8f3100e4049599c0069bb78c84401fab31bb94807d3a040b4ffc03f"
   }
  }
 },
 "nbformat": 4,
 "nbformat_minor": 5
}
