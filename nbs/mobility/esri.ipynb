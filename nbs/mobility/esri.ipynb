{
 "cells": [
  {
   "cell_type": "code",
   "execution_count": null,
   "id": "a655f59e",
   "metadata": {},
   "outputs": [],
   "source": [
    "from glass.mob.esri import service_areas\n",
    "\n",
    "facilities = '/mnt/disk1/dist_to_club/loc_clubs.shp'\n",
    "\n",
    "breaks = ['5', '10', '15']\n",
    "\n",
    "out = '/mnt/disk1/dist_to_club/sv_clubs_tv.shp'\n",
    "\n",
    "impedance = 'TravelTime'\n",
    "\n",
    "service_areas(facilities, breaks, out, impedance=impedance)"
   ]
  },
  {
   "cell_type": "code",
   "execution_count": null,
   "id": "72d59d70-69c9-4627-9950-aff2075c708f",
   "metadata": {
    "tags": []
   },
   "outputs": [],
   "source": [
    "from glass.mob.esri.cf import closest_facility\n",
    "\n",
    "i   = '/mnt/d/rms/azores/rms_bgri21_pnt_smiguel.shp'\n",
    "ipk = 'bgri'\n",
    "\n",
    "f = '/mnt/d/rms/equipasaude/hsp_azores.shp'\n",
    "out = '/mnt/d/rms/acc_pop21/azores_hsp.shp'\n",
    "\n",
    "imp = 'TravelTime'\n",
    "\n",
    "epsg = 5015\n",
    "\n",
    "closest_facility(\n",
    "    i, ipk, f, out, impedance=imp,\n",
    "    crs=epsg, save_temp_json=True\n",
    ")"
   ]
  },
  {
   "cell_type": "code",
   "execution_count": null,
   "id": "983c3b73-dffe-4015-9a77-26a515c57f3f",
   "metadata": {
    "tags": []
   },
   "outputs": [],
   "source": [
    "from glass.mob.esri.cf import cf_ign_distfac\n",
    "\n",
    "i   = '/mnt/d/rms/azores/rms_bgri21_pnt_smiguel.shp'\n",
    "ipk = 'bgri'\n",
    "\n",
    "f = '/mnt/d/rms/lulc/evu_vtx_azores.shp'\n",
    "out = '/mnt/d/rms/acc_pop21/azores_evu.shp'\n",
    "\n",
    "epsg = 5015\n",
    "\n",
    "cf_ign_distfac(\n",
    "    i, ipk, f, out,\n",
    "    crs=epsg, save_temp_json=True\n",
    ")"
   ]
  },
  {
   "cell_type": "code",
   "execution_count": null,
   "id": "153162a1-6ea9-4149-82fd-15a2c1774d6c",
   "metadata": {
    "tags": []
   },
   "outputs": [],
   "source": [
    "from glass.mob.esri.cf import cf_based_on_relations\n",
    "\n",
    "i = '/mnt/d/rms/azores/rms_bgri21_pnt.shp'\n",
    "ipk = 'bgri'\n",
    "igroup = 'idfreg'\n",
    "\n",
    "f = '/mnt/d/rms/equipasaude/cs_azores.shp'\n",
    "fpk = 'csid'\n",
    "\n",
    "reltbl = '/mnt/d/rms/equipasaude/AInf_CSP_Azores.xlsx'\n",
    "sheet = 'A_Inf'\n",
    "groupfk = 'ddccff'\n",
    "ffk = 'idcs'\n",
    "\n",
    "output = '/mnt/d/rms/acc_pop21/azores_cs.shp'\n",
    "\n",
    "cf_based_on_relations(\n",
    "    i, ipk, igroup,\n",
    "    f, fpk, reltbl, sheet, groupfk, ffk,\n",
    "    output, impedance='TravelTime'\n",
    ")"
   ]
  },
  {
   "cell_type": "code",
   "execution_count": null,
   "id": "2e9b80c0",
   "metadata": {
    "tags": []
   },
   "outputs": [],
   "source": [
    "from glass.cons.esri import TV_URL, CF_URL, rest_token\n",
    "\n",
    "from glass.rd.shp import shp_to_obj\n",
    "from glass.prj.obj import df_prj\n",
    "from glass.prop.prj import get_epsg\n",
    "import requests as rq\n",
    "from glass.cons.esri import get_tv_by_impedancetype\n",
    "import json as js\n",
    "from glass.it.esri    import json_to_gjson"
   ]
  },
  {
   "cell_type": "code",
   "execution_count": null,
   "id": "1d0dfafb",
   "metadata": {
    "tags": []
   },
   "outputs": [],
   "source": [
    "i   = '/mnt/d/rms/acc_pop21/tst_incidents.shp'\n",
    "ipk = 'bgri'\n",
    "\n",
    "f = '/mnt/d/rms/acc_pop21/tst_facilities.shp'\n",
    "out = '/mnt/d/rms/acc_pop21/azores_idosos.shp'"
   ]
  },
  {
   "cell_type": "code",
   "execution_count": null,
   "id": "158c71e2",
   "metadata": {
    "tags": []
   },
   "outputs": [],
   "source": [
    "tv = get_tv_by_impedancetype(\"WalkTime\")"
   ]
  },
  {
   "cell_type": "code",
   "execution_count": null,
   "id": "6c3176ce",
   "metadata": {
    "tags": []
   },
   "outputs": [],
   "source": [
    "token = rest_token()"
   ]
  },
  {
   "cell_type": "code",
   "execution_count": null,
   "id": "6a7f8213",
   "metadata": {
    "tags": []
   },
   "outputs": [],
   "source": [
    "tvs = rq.get(TV_URL, params={'f' : 'json', 'token' : token})"
   ]
  },
  {
   "cell_type": "code",
   "execution_count": null,
   "id": "d6a2c69e-a211-4c98-9d9c-a62c3525da1a",
   "metadata": {
    "tags": []
   },
   "outputs": [],
   "source": [
    "tvs.json()"
   ]
  },
  {
   "cell_type": "code",
   "execution_count": null,
   "id": "96c3bf51",
   "metadata": {
    "tags": []
   },
   "outputs": [],
   "source": [
    "epsg"
   ]
  },
  {
   "cell_type": "code",
   "execution_count": null,
   "id": "1f8971b8",
   "metadata": {
    "tags": []
   },
   "outputs": [],
   "source": [
    "idf = shp_to_obj(i, srs_to=4326 if epsg != 4326 else None)\n",
    "idf['lat'] = idf.geometry.y.astype(str)\n",
    "idf['lng'] = idf.geometry.x.astype(str)\n",
    "\n",
    "fdf = shp_to_obj(f, srs_to=4326 if epsg != 4326 else None)\n",
    "fdf['lat'] = fdf.geometry.y.astype(str)\n",
    "fdf['lng'] = fdf.geometry.x.astype(str)\n",
    "\n",
    "idf[\"coords\"] = idf.lng + ',' + idf.lat\n",
    "fdf[\"coords\"] = fdf.lng + ',' + fdf.lat\n",
    "\n",
    "istr = idf.coords.str.cat(sep=\";\")\n",
    "fstr = fdf.coords.str.cat(sep=\";\")"
   ]
  },
  {
   "cell_type": "code",
   "execution_count": null,
   "id": "ec6a8d65",
   "metadata": {
    "tags": []
   },
   "outputs": [],
   "source": [
    "fstr"
   ]
  },
  {
   "cell_type": "code",
   "execution_count": null,
   "id": "2b6f0eb5",
   "metadata": {
    "tags": []
   },
   "outputs": [],
   "source": [
    "r = rq.get(CF_URL, params={\n",
    "    #\"impedanceAttributeName\" : \"TravelTime\"\n",
    "    'facilities'             : fstr,\n",
    "    'incidents'              : istr,\n",
    "    'token'                  : token,\n",
    "    'f'                      : 'json',\n",
    "    'travelModel'            : js.dumps(tv),\n",
    "    'defaultTargetFacilityCount' : '1',\n",
    "    'returnCFRoutes'         : True,\n",
    "    'travelDirection'        : 'esriNATravelDirectionToFacility',\n",
    "    'impedanceAttributeName' : 'WalkTime'\n",
    "})"
   ]
  },
  {
   "cell_type": "code",
   "execution_count": null,
   "id": "df0c57ca",
   "metadata": {
    "tags": []
   },
   "outputs": [],
   "source": [
    "r.status_code"
   ]
  },
  {
   "cell_type": "code",
   "execution_count": null,
   "id": "ed49691b-7696-4493-8581-480993e04bb4",
   "metadata": {
    "tags": []
   },
   "outputs": [],
   "source": [
    "esri_geom = r.json()\n",
    "geom = json_to_gjson(esri_geom.get('routes'))"
   ]
  },
  {
   "cell_type": "code",
   "execution_count": null,
   "id": "d2b667bd-a7a2-466e-8763-601a68d438da",
   "metadata": {
    "tags": []
   },
   "outputs": [],
   "source": [
    "geom"
   ]
  },
  {
   "cell_type": "code",
   "execution_count": null,
   "id": "990adff3",
   "metadata": {
    "tags": []
   },
   "outputs": [],
   "source": [
    "r.json()"
   ]
  },
  {
   "cell_type": "code",
   "execution_count": null,
   "id": "eec8ae4d",
   "metadata": {},
   "outputs": [],
   "source": [
    "tv={\n",
    "    \"attributeParameterValues\": [{\n",
    "        \"parameterName\": \"Restriction Usage\",\n",
    "        \"attributeName\": \"Walking\",\n",
    "        \"value\": \"PROHIBITED\"\n",
    "    },{\n",
    "        \"parameterName\": \"Restriction Usage\",\n",
    "        \"attributeName\": \"Preferred for Pedestrians\",\"value\": \"PREFER_LOW\"},{\"parameterName\": \"Walking Speed (km/h)\",\"attributeName\": \"WalkTime\",\"value\": 5}],\"description\": \"Follows paths and roads that allow pedestrian traffic and finds solutions that optimize travel time. The walking speed is set to 5 kilometers per hour.\",\"impedanceAttributeName\": \"WalkTime\",\"simplificationToleranceUnits\": \"esriMeters\",\"uturnAtJunctions\": \"esriNFSBAllowBacktrack\",\"restrictionAttributeNames\": [\"Preferred for Pedestrians\",\"Walking\"],\"useHierarchy\": false,\"simplificationTolerance\": 2,\"timeAttributeName\": \"WalkTime\",\"distanceAttributeName\": \"Miles\",\"type\": \"WALK\",\"id\": \"caFAgoThrvUpkFBW\",\"name\": \"Walking Time\"}"
   ]
  },
  {
   "cell_type": "code",
   "execution_count": null,
   "id": "91faf118",
   "metadata": {},
   "outputs": [],
   "source": [
    "tv"
   ]
  },
  {
   "cell_type": "code",
   "execution_count": null,
   "id": "6cf52e38",
   "metadata": {},
   "outputs": [],
   "source": []
  }
 ],
 "metadata": {
  "kernelspec": {
   "display_name": "Python 3 (ipykernel)",
   "language": "python",
   "name": "python3"
  },
  "language_info": {
   "codemirror_mode": {
    "name": "ipython",
    "version": 3
   },
   "file_extension": ".py",
   "mimetype": "text/x-python",
   "name": "python",
   "nbconvert_exporter": "python",
   "pygments_lexer": "ipython3",
   "version": "3.8.10"
  },
  "vscode": {
   "interpreter": {
    "hash": "1a9a4461a8f3100e4049599c0069bb78c84401fab31bb94807d3a040b4ffc03f"
   }
  }
 },
 "nbformat": 4,
 "nbformat_minor": 5
}
