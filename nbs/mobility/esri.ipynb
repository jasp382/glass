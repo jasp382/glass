{
 "cells": [
  {
   "cell_type": "code",
   "execution_count": null,
   "id": "a655f59e",
   "metadata": {},
   "outputs": [],
   "source": [
    "from glass.mob.esri import service_areas\n",
    "\n",
    "facilities = '/mnt/disk1/dist_to_club/loc_clubs.shp'\n",
    "\n",
    "breaks = ['5', '10', '15']\n",
    "\n",
    "out = '/mnt/disk1/dist_to_club/sv_clubs_tv.shp'\n",
    "\n",
    "impedance = 'TravelTime'\n",
    "\n",
    "service_areas(facilities, breaks, out, impedance=impedance)"
   ]
  },
  {
   "cell_type": "code",
   "execution_count": null,
   "id": "72d59d70-69c9-4627-9950-aff2075c708f",
   "metadata": {
    "tags": []
   },
   "outputs": [],
   "source": [
    "from glass.mob.esri.cf import closest_facility\n",
    "\n",
    "i   = '/mnt/d/rms/azores/rms_bgri21_pnt_smiguel.shp'\n",
    "ipk = 'bgri'\n",
    "\n",
    "f = '/mnt/d/rms/equipasaude/hsp_azores.shp'\n",
    "out = '/mnt/d/rms/acc_pop21/azores_hsp.shp'\n",
    "\n",
    "imp = 'TravelTime'\n",
    "\n",
    "epsg = 5015\n",
    "\n",
    "closest_facility(\n",
    "    i, ipk, f, out, impedance=imp,\n",
    "    crs=epsg, save_temp_json=True\n",
    ")"
   ]
  },
  {
   "cell_type": "code",
   "execution_count": null,
   "id": "983c3b73-dffe-4015-9a77-26a515c57f3f",
   "metadata": {
    "tags": []
   },
   "outputs": [],
   "source": [
    "from glass.mob.esri.cf import cf_ign_distfac\n",
    "\n",
    "i   = '/mnt/d/rms/azores/rms_bgri21_pnt_smiguel.shp'\n",
    "ipk = 'bgri'\n",
    "\n",
    "f = '/mnt/d/rms/lulc/evu_vtx_azores.shp'\n",
    "out = '/mnt/d/rms/acc_pop21/azores_evu.shp'\n",
    "\n",
    "epsg = 5015\n",
    "\n",
    "cf_ign_distfac(\n",
    "    i, ipk, f, out,\n",
    "    crs=epsg, save_temp_json=True\n",
    ")"
   ]
  },
  {
   "cell_type": "code",
   "execution_count": 2,
   "id": "153162a1-6ea9-4149-82fd-15a2c1774d6c",
   "metadata": {
    "tags": []
   },
   "outputs": [
    {
     "name": "stderr",
     "output_type": "stream",
     "text": [
      "/home/jasp/glass/glass/wt/shp.py:10: UserWarning: Column names longer than 10 characters will be truncated when saved to ESRI Shapefile.\n",
      "  indf.to_file(outShp)\n",
      "/home/jasp/.virtualenvs/genv/lib/python3.8/site-packages/geopandas/io/file.py:518: UserWarning: You are attempting to write an empty DataFrame to file. For some drivers, this operation may fail.\n",
      "  _to_file_fiona(df, filename, driver, schema, crs, mode, **kwargs)\n"
     ]
    },
    {
     "ename": "TypeError",
     "evalue": "argument of type 'NoneType' is not iterable",
     "output_type": "error",
     "traceback": [
      "\u001b[0;31m---------------------------------------------------------------------------\u001b[0m",
      "\u001b[0;31mTypeError\u001b[0m                                 Traceback (most recent call last)",
      "Cell \u001b[0;32mIn[2], line 17\u001b[0m\n\u001b[1;32m     13\u001b[0m ffk \u001b[38;5;241m=\u001b[39m \u001b[38;5;124m'\u001b[39m\u001b[38;5;124midcs\u001b[39m\u001b[38;5;124m'\u001b[39m\n\u001b[1;32m     15\u001b[0m output \u001b[38;5;241m=\u001b[39m \u001b[38;5;124m'\u001b[39m\u001b[38;5;124m/mnt/e/rms/acc_pop21/azores_cs.shp\u001b[39m\u001b[38;5;124m'\u001b[39m\n\u001b[0;32m---> 17\u001b[0m \u001b[43mcf_based_on_relations\u001b[49m\u001b[43m(\u001b[49m\n\u001b[1;32m     18\u001b[0m \u001b[43m    \u001b[49m\u001b[43mi\u001b[49m\u001b[43m,\u001b[49m\u001b[43m \u001b[49m\u001b[43mipk\u001b[49m\u001b[43m,\u001b[49m\u001b[43m \u001b[49m\u001b[43migroup\u001b[49m\u001b[43m,\u001b[49m\n\u001b[1;32m     19\u001b[0m \u001b[43m    \u001b[49m\u001b[43mf\u001b[49m\u001b[43m,\u001b[49m\u001b[43m \u001b[49m\u001b[43mfpk\u001b[49m\u001b[43m,\u001b[49m\u001b[43m \u001b[49m\u001b[43mreltbl\u001b[49m\u001b[43m,\u001b[49m\u001b[43m \u001b[49m\u001b[43msheet\u001b[49m\u001b[43m,\u001b[49m\u001b[43m \u001b[49m\u001b[43mgroupfk\u001b[49m\u001b[43m,\u001b[49m\u001b[43m \u001b[49m\u001b[43mffk\u001b[49m\u001b[43m,\u001b[49m\n\u001b[1;32m     20\u001b[0m \u001b[43m    \u001b[49m\u001b[43moutput\u001b[49m\u001b[43m,\u001b[49m\u001b[43m \u001b[49m\u001b[43mimpedance\u001b[49m\u001b[38;5;241;43m=\u001b[39;49m\u001b[38;5;124;43m'\u001b[39;49m\u001b[38;5;124;43mTravelTime\u001b[39;49m\u001b[38;5;124;43m'\u001b[39;49m\n\u001b[1;32m     21\u001b[0m \u001b[43m)\u001b[49m\n",
      "File \u001b[0;32m~/glass/glass/mob/esri/cf.py:256\u001b[0m, in \u001b[0;36mcf_based_on_relations\u001b[0;34m(incidents, incidents_id, group_incidents_col, facilities, facilities_id, rel_inc_fac, sheet, group_fk, facilities_fk, output, impedance)\u001b[0m\n\u001b[1;32m    251\u001b[0m     new_f \u001b[38;5;241m=\u001b[39m obj_to_shp(new_f, \u001b[38;5;124m'\u001b[39m\u001b[38;5;124mgeometry\u001b[39m\u001b[38;5;124m'\u001b[39m, epsg, os\u001b[38;5;241m.\u001b[39mpath\u001b[38;5;241m.\u001b[39mjoin(\n\u001b[1;32m    252\u001b[0m         tmpdir, \u001b[38;5;124mf\u001b[39m\u001b[38;5;124m'\u001b[39m\u001b[38;5;124mf_\u001b[39m\u001b[38;5;132;01m{\u001b[39;00mrow[group_incidents_col]\u001b[38;5;132;01m}\u001b[39;00m\u001b[38;5;124m.shp\u001b[39m\u001b[38;5;124m'\u001b[39m\n\u001b[1;32m    253\u001b[0m     ))\n\u001b[1;32m    255\u001b[0m     \u001b[38;5;66;03m# calculate closest facility\u001b[39;00m\n\u001b[0;32m--> 256\u001b[0m     cf \u001b[38;5;241m=\u001b[39m \u001b[43mclosest_facility\u001b[49m\u001b[43m(\u001b[49m\n\u001b[1;32m    257\u001b[0m \u001b[43m        \u001b[49m\u001b[43mnew_i\u001b[49m\u001b[43m,\u001b[49m\u001b[43m \u001b[49m\u001b[43mincidents_id\u001b[49m\u001b[43m,\u001b[49m\u001b[43m \u001b[49m\u001b[43mnew_f\u001b[49m\u001b[43m,\u001b[49m\n\u001b[1;32m    258\u001b[0m \u001b[43m        \u001b[49m\u001b[43mos\u001b[49m\u001b[38;5;241;43m.\u001b[39;49m\u001b[43mpath\u001b[49m\u001b[38;5;241;43m.\u001b[39;49m\u001b[43mjoin\u001b[49m\u001b[43m(\u001b[49m\u001b[43mtmpdir\u001b[49m\u001b[43m,\u001b[49m\u001b[43m \u001b[49m\u001b[38;5;124;43mf\u001b[39;49m\u001b[38;5;124;43m'\u001b[39;49m\u001b[38;5;124;43mcf_\u001b[39;49m\u001b[38;5;132;43;01m{\u001b[39;49;00m\u001b[43mrow\u001b[49m\u001b[43m[\u001b[49m\u001b[43mgroup_incidents_col\u001b[49m\u001b[43m]\u001b[49m\u001b[38;5;132;43;01m}\u001b[39;49;00m\u001b[38;5;124;43m.shp\u001b[39;49m\u001b[38;5;124;43m'\u001b[39;49m\u001b[43m)\u001b[49m\u001b[43m,\u001b[49m\n\u001b[1;32m    259\u001b[0m \u001b[43m        \u001b[49m\u001b[43mimpedance\u001b[49m\u001b[38;5;241;43m=\u001b[39;49m\u001b[43mimpedance\u001b[49m\u001b[43m,\u001b[49m\n\u001b[1;32m    260\u001b[0m \u001b[43m        \u001b[49m\u001b[43msave_temp_json\u001b[49m\u001b[38;5;241;43m=\u001b[39;49m\u001b[38;5;28;43;01mTrue\u001b[39;49;00m\n\u001b[1;32m    261\u001b[0m \u001b[43m    \u001b[49m\u001b[43m)\u001b[49m\n\u001b[1;32m    263\u001b[0m     res\u001b[38;5;241m.\u001b[39mappend(cf)\n\u001b[1;32m    265\u001b[0m \u001b[38;5;66;03m# Produce final result\u001b[39;00m\n",
      "File \u001b[0;32m~/glass/glass/mob/esri/cf.py:132\u001b[0m, in \u001b[0;36mclosest_facility\u001b[0;34m(incidents, incidents_id, facilities, output, impedance, crs, save_temp_json)\u001b[0m\n\u001b[1;32m    126\u001b[0m \u001b[38;5;28;01mif\u001b[39;00m save_temp_json:\n\u001b[1;32m    127\u001b[0m     dict_to_json(esri_geom, os\u001b[38;5;241m.\u001b[39mpath\u001b[38;5;241m.\u001b[39mjoin(\n\u001b[1;32m    128\u001b[0m         os\u001b[38;5;241m.\u001b[39mpath\u001b[38;5;241m.\u001b[39mdirname(output),\n\u001b[1;32m    129\u001b[0m         \u001b[38;5;124mf\u001b[39m\u001b[38;5;124m\"\u001b[39m\u001b[38;5;124mesri_response_\u001b[39m\u001b[38;5;132;01m{\u001b[39;00m\u001b[38;5;28mstr\u001b[39m(_c)\u001b[38;5;132;01m}\u001b[39;00m\u001b[38;5;124m.json\u001b[39m\u001b[38;5;124m\"\u001b[39m\n\u001b[1;32m    130\u001b[0m     ))\n\u001b[0;32m--> 132\u001b[0m geom \u001b[38;5;241m=\u001b[39m \u001b[43mjson_to_gjson\u001b[49m\u001b[43m(\u001b[49m\u001b[43mesri_geom\u001b[49m\u001b[38;5;241;43m.\u001b[39;49m\u001b[43mget\u001b[49m\u001b[43m(\u001b[49m\u001b[38;5;124;43m'\u001b[39;49m\u001b[38;5;124;43mroutes\u001b[39;49m\u001b[38;5;124;43m'\u001b[39;49m\u001b[43m)\u001b[49m\u001b[43m)\u001b[49m\n\u001b[1;32m    134\u001b[0m \u001b[38;5;66;03m# GeoJSON to GeoDataFrame\u001b[39;00m\n\u001b[1;32m    135\u001b[0m gdf \u001b[38;5;241m=\u001b[39m json_obj_to_geodf(geom, \u001b[38;5;241m4326\u001b[39m)\n",
      "File \u001b[0;32m~/glass/glass/it/esri.py:208\u001b[0m, in \u001b[0;36mjson_to_gjson\u001b[0;34m(arcgis, idAttribute)\u001b[0m\n\u001b[1;32m    202\u001b[0m \u001b[38;5;250m\u001b[39m\u001b[38;5;124;03m\"\"\"\u001b[39;00m\n\u001b[1;32m    203\u001b[0m \u001b[38;5;124;03mConvert an ArcGIS JSON object to a GeoJSON object\u001b[39;00m\n\u001b[1;32m    204\u001b[0m \u001b[38;5;124;03m\"\"\"\u001b[39;00m\n\u001b[1;32m    206\u001b[0m geojson \u001b[38;5;241m=\u001b[39m {}\n\u001b[0;32m--> 208\u001b[0m \u001b[38;5;28;01mif\u001b[39;00m \u001b[38;5;124;43m'\u001b[39;49m\u001b[38;5;124;43mfeatures\u001b[39;49m\u001b[38;5;124;43m'\u001b[39;49m\u001b[43m \u001b[49m\u001b[38;5;129;43;01min\u001b[39;49;00m\u001b[43m \u001b[49m\u001b[43marcgis\u001b[49m \u001b[38;5;129;01mand\u001b[39;00m arcgis[\u001b[38;5;124m'\u001b[39m\u001b[38;5;124mfeatures\u001b[39m\u001b[38;5;124m'\u001b[39m]:\n\u001b[1;32m    209\u001b[0m     geojson[\u001b[38;5;124m'\u001b[39m\u001b[38;5;124mtype\u001b[39m\u001b[38;5;124m'\u001b[39m] \u001b[38;5;241m=\u001b[39m \u001b[38;5;124m'\u001b[39m\u001b[38;5;124mFeatureCollection\u001b[39m\u001b[38;5;124m'\u001b[39m\n\u001b[1;32m    210\u001b[0m     geojson[\u001b[38;5;124m'\u001b[39m\u001b[38;5;124mfeatures\u001b[39m\u001b[38;5;124m'\u001b[39m] \u001b[38;5;241m=\u001b[39m []\n",
      "\u001b[0;31mTypeError\u001b[0m: argument of type 'NoneType' is not iterable"
     ]
    }
   ],
   "source": [
    "from glass.mob.esri.cf import cf_based_on_relations\n",
    "\n",
    "i = '/mnt/e/rms/azores/rms_bgri21_pnt.shp'\n",
    "ipk = 'bgri'\n",
    "igroup = 'idfreg'\n",
    "\n",
    "f = '/mnt/e/rms/equipasaude/cs_azores.shp'\n",
    "fpk = 'csid'\n",
    "\n",
    "reltbl = '/mnt/e/rms/equipasaude/AInf_CSP_Azores.xlsx'\n",
    "sheet = 'A_Inf'\n",
    "groupfk = 'ddccff'\n",
    "ffk = 'idcs'\n",
    "\n",
    "output = '/mnt/e/rms/acc_pop21/azores_cs.shp'\n",
    "\n",
    "cf_based_on_relations(\n",
    "    i, ipk, igroup,\n",
    "    f, fpk, reltbl, sheet, groupfk, ffk,\n",
    "    output, impedance='TravelTime'\n",
    ")"
   ]
  },
  {
   "cell_type": "code",
   "execution_count": null,
   "id": "2e9b80c0",
   "metadata": {
    "tags": []
   },
   "outputs": [],
   "source": [
    "from glass.cons.esri import TV_URL, CF_URL, rest_token\n",
    "\n",
    "from glass.rd.shp import shp_to_obj\n",
    "from glass.prj.obj import df_prj\n",
    "from glass.prop.prj import get_epsg\n",
    "import requests as rq\n",
    "from glass.cons.esri import get_tv_by_impedancetype\n",
    "import json as js\n",
    "from glass.it.esri    import json_to_gjson"
   ]
  },
  {
   "cell_type": "code",
   "execution_count": null,
   "id": "1d0dfafb",
   "metadata": {
    "tags": []
   },
   "outputs": [],
   "source": [
    "i   = '/mnt/d/rms/acc_pop21/tst_incidents.shp'\n",
    "ipk = 'bgri'\n",
    "\n",
    "f = '/mnt/d/rms/acc_pop21/tst_facilities.shp'\n",
    "out = '/mnt/d/rms/acc_pop21/azores_idosos.shp'"
   ]
  },
  {
   "cell_type": "code",
   "execution_count": null,
   "id": "158c71e2",
   "metadata": {
    "tags": []
   },
   "outputs": [],
   "source": [
    "tv = get_tv_by_impedancetype(\"WalkTime\")"
   ]
  },
  {
   "cell_type": "code",
   "execution_count": null,
   "id": "6c3176ce",
   "metadata": {
    "tags": []
   },
   "outputs": [],
   "source": [
    "token = rest_token()"
   ]
  },
  {
   "cell_type": "code",
   "execution_count": null,
   "id": "6a7f8213",
   "metadata": {
    "tags": []
   },
   "outputs": [],
   "source": [
    "tvs = rq.get(TV_URL, params={'f' : 'json', 'token' : token})"
   ]
  },
  {
   "cell_type": "code",
   "execution_count": null,
   "id": "d6a2c69e-a211-4c98-9d9c-a62c3525da1a",
   "metadata": {
    "tags": []
   },
   "outputs": [],
   "source": [
    "tvs.json()"
   ]
  },
  {
   "cell_type": "code",
   "execution_count": null,
   "id": "96c3bf51",
   "metadata": {
    "tags": []
   },
   "outputs": [],
   "source": [
    "epsg"
   ]
  },
  {
   "cell_type": "code",
   "execution_count": null,
   "id": "1f8971b8",
   "metadata": {
    "tags": []
   },
   "outputs": [],
   "source": [
    "idf = shp_to_obj(i, srs_to=4326 if epsg != 4326 else None)\n",
    "idf['lat'] = idf.geometry.y.astype(str)\n",
    "idf['lng'] = idf.geometry.x.astype(str)\n",
    "\n",
    "fdf = shp_to_obj(f, srs_to=4326 if epsg != 4326 else None)\n",
    "fdf['lat'] = fdf.geometry.y.astype(str)\n",
    "fdf['lng'] = fdf.geometry.x.astype(str)\n",
    "\n",
    "idf[\"coords\"] = idf.lng + ',' + idf.lat\n",
    "fdf[\"coords\"] = fdf.lng + ',' + fdf.lat\n",
    "\n",
    "istr = idf.coords.str.cat(sep=\";\")\n",
    "fstr = fdf.coords.str.cat(sep=\";\")"
   ]
  },
  {
   "cell_type": "code",
   "execution_count": null,
   "id": "ec6a8d65",
   "metadata": {
    "tags": []
   },
   "outputs": [],
   "source": [
    "fstr"
   ]
  },
  {
   "cell_type": "code",
   "execution_count": null,
   "id": "2b6f0eb5",
   "metadata": {
    "tags": []
   },
   "outputs": [],
   "source": [
    "r = rq.get(CF_URL, params={\n",
    "    #\"impedanceAttributeName\" : \"TravelTime\"\n",
    "    'facilities'             : fstr,\n",
    "    'incidents'              : istr,\n",
    "    'token'                  : token,\n",
    "    'f'                      : 'json',\n",
    "    'travelModel'            : js.dumps(tv),\n",
    "    'defaultTargetFacilityCount' : '1',\n",
    "    'returnCFRoutes'         : True,\n",
    "    'travelDirection'        : 'esriNATravelDirectionToFacility',\n",
    "    'impedanceAttributeName' : 'WalkTime'\n",
    "})"
   ]
  },
  {
   "cell_type": "code",
   "execution_count": null,
   "id": "df0c57ca",
   "metadata": {
    "tags": []
   },
   "outputs": [],
   "source": [
    "r.status_code"
   ]
  },
  {
   "cell_type": "code",
   "execution_count": null,
   "id": "ed49691b-7696-4493-8581-480993e04bb4",
   "metadata": {
    "tags": []
   },
   "outputs": [],
   "source": [
    "esri_geom = r.json()\n",
    "geom = json_to_gjson(esri_geom.get('routes'))"
   ]
  },
  {
   "cell_type": "code",
   "execution_count": null,
   "id": "d2b667bd-a7a2-466e-8763-601a68d438da",
   "metadata": {
    "tags": []
   },
   "outputs": [],
   "source": [
    "geom"
   ]
  },
  {
   "cell_type": "code",
   "execution_count": null,
   "id": "990adff3",
   "metadata": {
    "tags": []
   },
   "outputs": [],
   "source": [
    "r.json()"
   ]
  },
  {
   "cell_type": "code",
   "execution_count": null,
   "id": "eec8ae4d",
   "metadata": {},
   "outputs": [],
   "source": [
    "tv={\n",
    "    \"attributeParameterValues\": [{\n",
    "        \"parameterName\": \"Restriction Usage\",\n",
    "        \"attributeName\": \"Walking\",\n",
    "        \"value\": \"PROHIBITED\"\n",
    "    },{\n",
    "        \"parameterName\": \"Restriction Usage\",\n",
    "        \"attributeName\": \"Preferred for Pedestrians\",\"value\": \"PREFER_LOW\"},{\"parameterName\": \"Walking Speed (km/h)\",\"attributeName\": \"WalkTime\",\"value\": 5}],\"description\": \"Follows paths and roads that allow pedestrian traffic and finds solutions that optimize travel time. The walking speed is set to 5 kilometers per hour.\",\"impedanceAttributeName\": \"WalkTime\",\"simplificationToleranceUnits\": \"esriMeters\",\"uturnAtJunctions\": \"esriNFSBAllowBacktrack\",\"restrictionAttributeNames\": [\"Preferred for Pedestrians\",\"Walking\"],\"useHierarchy\": false,\"simplificationTolerance\": 2,\"timeAttributeName\": \"WalkTime\",\"distanceAttributeName\": \"Miles\",\"type\": \"WALK\",\"id\": \"caFAgoThrvUpkFBW\",\"name\": \"Walking Time\"}"
   ]
  },
  {
   "cell_type": "code",
   "execution_count": null,
   "id": "91faf118",
   "metadata": {},
   "outputs": [],
   "source": [
    "tv"
   ]
  },
  {
   "cell_type": "code",
   "execution_count": null,
   "id": "6cf52e38",
   "metadata": {},
   "outputs": [],
   "source": []
  }
 ],
 "metadata": {
  "kernelspec": {
   "display_name": "Python 3 (ipykernel)",
   "language": "python",
   "name": "python3"
  },
  "language_info": {
   "codemirror_mode": {
    "name": "ipython",
    "version": 3
   },
   "file_extension": ".py",
   "mimetype": "text/x-python",
   "name": "python",
   "nbconvert_exporter": "python",
   "pygments_lexer": "ipython3",
   "version": "3.8.10"
  },
  "vscode": {
   "interpreter": {
    "hash": "1a9a4461a8f3100e4049599c0069bb78c84401fab31bb94807d3a040b4ffc03f"
   }
  }
 },
 "nbformat": 4,
 "nbformat_minor": 5
}
