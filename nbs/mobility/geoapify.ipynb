{
 "cells": [
  {
   "cell_type": "code",
   "execution_count": null,
   "id": "42d7414f-586c-4bcd-93f4-eef61871aa85",
   "metadata": {},
   "outputs": [],
   "source": [
    "ishp = '/mnt/e/rms/madeira/rms_bgri11_pnt.shp'\n",
    "\n",
    "fshp = '/mnt/e/rms/equipasocial/creches_mad.shp'\n",
    "\n",
    "oshp = '/mnt/e/rms/acc_pop21/acc_creches_mad01.shp'"
   ]
  },
  {
   "cell_type": "code",
   "execution_count": null,
   "id": "4e3b3e70-906f-45f3-8c51-8062c699b9cd",
   "metadata": {},
   "outputs": [],
   "source": [
    "import pandas as pd\n",
    "\n",
    "from glass.rd.shp import shp_to_obj\n",
    "from glass.wt.shp import df_to_shp\n",
    "from glass.prj.obj import df_prj\n",
    "\n",
    "from glass.mob.gapify import matrix_od\n",
    "from glass.wt.js import dict_to_json"
   ]
  },
  {
   "cell_type": "code",
   "execution_count": null,
   "id": "da2f56e5-273e-4d24-983b-a82b3937ce6d",
   "metadata": {},
   "outputs": [],
   "source": [
    "idf = shp_to_obj(ishp)\n",
    "fdf = shp_to_obj(fshp)\n",
    "\n",
    "_idf = df_prj(idf, 4326)\n",
    "_fdf = df_prj(fdf, 4326)"
   ]
  },
  {
   "cell_type": "code",
   "execution_count": null,
   "id": "ef6f575a-44e2-4818-9422-4fb4d6f593aa",
   "metadata": {},
   "outputs": [],
   "source": [
    "i_coords = [{\"location\" : [x,y]} for x,y in zip(_idf['geometry'].x , _idf['geometry'].y)]\n",
    "f_coords = [{\"location\" : [x,y]} for x,y in zip(_fdf['geometry'].x , _fdf['geometry'].y)]"
   ]
  },
  {
   "cell_type": "code",
   "execution_count": null,
   "id": "9e0e2ada-8995-4fc6-8f25-5479b1eb459a",
   "metadata": {},
   "outputs": [],
   "source": [
    "r = matrix_od(i_coords, f_coords)"
   ]
  },
  {
   "cell_type": "code",
   "execution_count": null,
   "id": "a88052d5-cf06-4a7e-99f7-9813be47262b",
   "metadata": {},
   "outputs": [],
   "source": [
    "r.status_code"
   ]
  },
  {
   "cell_type": "code",
   "execution_count": null,
   "id": "d6831417-28e4-49df-94a9-9131de5d34cb",
   "metadata": {},
   "outputs": [],
   "source": [
    "dict_to_json(r.json(), '/mnt/e/rms/acc_pop21/acc_creches_mad.json')"
   ]
  },
  {
   "cell_type": "code",
   "execution_count": null,
   "id": "369b1e64-8fa3-443a-aa75-ec289ed93ff2",
   "metadata": {},
   "outputs": [],
   "source": [
    "ijs = '/mnt/e/rms/acc_pop21/acc_creches_mad.json'\n",
    "oshp = '/mnt/e/rms/acc_pop21/acc_creches_madfy.shp'"
   ]
  },
  {
   "cell_type": "code",
   "execution_count": null,
   "id": "12058149-9559-41a8-9181-be995644e8f0",
   "metadata": {},
   "outputs": [],
   "source": [
    "from glass.rd.js import json_to_obj"
   ]
  },
  {
   "cell_type": "code",
   "execution_count": null,
   "id": "fd68c792-64f7-4a61-952f-331b851faa90",
   "metadata": {},
   "outputs": [],
   "source": [
    "data = json_to_obj(ijs)"
   ]
  },
  {
   "cell_type": "code",
   "execution_count": null,
   "id": "ca4bd3f6-388d-4cdb-9c0f-8791b7c4e1b9",
   "metadata": {},
   "outputs": [],
   "source": [
    "data.keys()"
   ]
  },
  {
   "cell_type": "code",
   "execution_count": null,
   "id": "976fe21b-3b1d-4e3a-b3a7-96f0c3692819",
   "metadata": {},
   "outputs": [],
   "source": [
    "df = pd.DataFrame([d[0] for d in data[\"sources_to_targets\"]])"
   ]
  },
  {
   "cell_type": "code",
   "execution_count": null,
   "id": "d28b7e79-ac89-433d-a9bb-e0678377f8af",
   "metadata": {},
   "outputs": [],
   "source": [
    "# Convert to minutes\n",
    "df[\"ftime\"] = df[\"time\"] / 60.0\n",
    "\n",
    "fdf = idf.merge(df, how='left', left_index=True, right_index=True)"
   ]
  },
  {
   "cell_type": "code",
   "execution_count": null,
   "id": "1bbbfb98-4713-4482-a332-b4391d8a1135",
   "metadata": {},
   "outputs": [],
   "source": [
    "df_to_shp(fdf, oshp)"
   ]
  },
  {
   "cell_type": "code",
   "execution_count": null,
   "id": "47372bea-797c-4fd1-ad64-bb2a7ff21265",
   "metadata": {},
   "outputs": [],
   "source": [
    "df"
   ]
  },
  {
   "cell_type": "code",
   "execution_count": null,
   "id": "b2d338b7-2b01-4171-85f1-353f532da398",
   "metadata": {},
   "outputs": [],
   "source": []
  }
 ],
 "metadata": {
  "kernelspec": {
   "display_name": "Python 3 (ipykernel)",
   "language": "python",
   "name": "python3"
  },
  "language_info": {
   "codemirror_mode": {
    "name": "ipython",
    "version": 3
   },
   "file_extension": ".py",
   "mimetype": "text/x-python",
   "name": "python",
   "nbconvert_exporter": "python",
   "pygments_lexer": "ipython3",
   "version": "3.8.10"
  }
 },
 "nbformat": 4,
 "nbformat_minor": 5
}
