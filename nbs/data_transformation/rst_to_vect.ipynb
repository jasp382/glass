{
 "cells": [
  {
   "cell_type": "code",
   "execution_count": null,
   "id": "384d2e7b-b258-4329-bfa3-9592f203859c",
   "metadata": {},
   "outputs": [],
   "source": [
    "from glass.wenv.grs import run_grass\n",
    "import os"
   ]
  },
  {
   "cell_type": "code",
   "execution_count": null,
   "id": "36d13e32-dcfc-4fd9-a17c-390959d9ce5f",
   "metadata": {},
   "outputs": [],
   "source": [
    "rst = '/home/jasp/mystuff/IBU_2018_010m_E27N20_03035_v010.tif'\n",
    "shp = '/home/jasp/mystuff/IBU_2018_010m_E27N20_03035_v010.shp'"
   ]
  },
  {
   "cell_type": "code",
   "execution_count": null,
   "id": "5ede5a95-9cea-4d80-968a-eddcdf5c53a9",
   "metadata": {},
   "outputs": [],
   "source": [
    "loc = 'ibu'\n",
    "ws = os.path.dirname(rst)\n",
    "\n",
    "gbase = run_grass(ws, location=loc, srs=rst)\n",
    "\n",
    "import grass.script.setup as gsetup\n",
    "\n",
    "gsetup.init(gbase, ws, loc, 'PERMANENT')"
   ]
  },
  {
   "cell_type": "code",
   "execution_count": null,
   "id": "098cedcc-b2cf-466f-8b69-d5ca0028e975",
   "metadata": {},
   "outputs": [],
   "source": [
    "from glass.it.rst   import rst_to_grs\n",
    "from glass.dtt.rst.toshp import rst_to_polyg\n",
    "from glass.it.shp import grs_to_shp"
   ]
  },
  {
   "cell_type": "code",
   "execution_count": null,
   "id": "816adbc1-c65a-435a-86b5-a4145b56d8ad",
   "metadata": {},
   "outputs": [],
   "source": [
    "grst = rst_to_grs(rst, 'iburst')\n",
    "\n",
    "vrst = rst_to_polyg(grst, 'ibushp', rstColumn='gridcode', gisApi=\"grass\")"
   ]
  },
  {
   "cell_type": "code",
   "execution_count": null,
   "id": "dec8398d-ed4b-46de-955f-3bb26bfce5d2",
   "metadata": {},
   "outputs": [],
   "source": [
    "grs_to_shp(vrst, shp, 'area')"
   ]
  },
  {
   "cell_type": "code",
   "execution_count": null,
   "id": "746b2521-787a-4c9e-9619-7f41a4578d97",
   "metadata": {},
   "outputs": [],
   "source": []
  }
 ],
 "metadata": {
  "kernelspec": {
   "display_name": "Python 3 (ipykernel)",
   "language": "python",
   "name": "python3"
  },
  "language_info": {
   "codemirror_mode": {
    "name": "ipython",
    "version": 3
   },
   "file_extension": ".py",
   "mimetype": "text/x-python",
   "name": "python",
   "nbconvert_exporter": "python",
   "pygments_lexer": "ipython3",
   "version": "3.8.10"
  }
 },
 "nbformat": 4,
 "nbformat_minor": 5
}
