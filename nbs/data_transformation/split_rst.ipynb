{
 "cells": [
  {
   "cell_type": "code",
   "execution_count": null,
   "id": "af86d969-988a-4ac8-bc0c-4528e776e95f",
   "metadata": {},
   "outputs": [],
   "source": [
    "rst = '/home/gisuser/autocls2/feat/all_lisboa.tif'\n",
    "\n",
    "ofld =  '/home/gisuser/autocls2/feat/parts_lisboa'"
   ]
  },
  {
   "cell_type": "code",
   "execution_count": null,
   "id": "3435f70a-d939-45e7-952b-8db186bd027a",
   "metadata": {},
   "outputs": [],
   "source": [
    "from glass.dtt.rst.split import split_raster_by_window\n",
    "\n",
    "split_raster_by_window(rst, 500, 500, ofld)"
   ]
  }
 ],
 "metadata": {
  "kernelspec": {
   "display_name": "Python 3 (ipykernel)",
   "language": "python",
   "name": "python3"
  },
  "language_info": {
   "codemirror_mode": {
    "name": "ipython",
    "version": 3
   },
   "file_extension": ".py",
   "mimetype": "text/x-python",
   "name": "python",
   "nbconvert_exporter": "python",
   "pygments_lexer": "ipython3",
   "version": "3.10.12"
  }
 },
 "nbformat": 4,
 "nbformat_minor": 5
}
