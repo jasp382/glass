{
 "cells": [
  {
   "cell_type": "code",
   "execution_count": null,
   "id": "bcc744e9-6830-4f11-ac05-26178efdadc0",
   "metadata": {},
   "outputs": [],
   "source": [
    "\"\"\"\n",
    "Merge\n",
    "\"\"\"\n",
    "\n",
    "from glass.dtr.mge import shps_to_shp\n",
    "\n",
    "inshps = '/mnt/d/mystuff/rms/dist_evu/joinres/'\n",
    "outShp = '/mnt/d/mystuff/rms/dist_evu/bgri_dist_evu.shp'\n",
    "\n",
    "shps_to_shp(inshps, outShp, api=\"pandas\", fformat='.shp')"
   ]
  },
  {
   "cell_type": "markdown",
   "id": "cb098cae-f555-449d-8154-10e9e1b0bb38",
   "metadata": {},
   "source": [
    "## Merge same file in different folders\n",
    "\n",
    "Imagine you have several folders, inside of each one of them there\n",
    "is a file with a certain name. This will program will create a new file\n",
    "with all data in the files with the same name in each folder."
   ]
  },
  {
   "cell_type": "code",
   "execution_count": null,
   "id": "f2b6258e-1f09-49cb-b09d-656eea0dbf2b",
   "metadata": {
    "tags": []
   },
   "outputs": [],
   "source": [
    "from glass.dtr.mge import merge_sameshp_in_diffld\n",
    "\n",
    "folder_with_folders = '/mnt/d/rms/acc_hsp21/'\n",
    "\n",
    "filename = 'bgri_cf.shp'\n",
    "\n",
    "oshp = '/mnt/d/rms/acc_pop21/dist_bgri_hsp.shp'\n",
    "\n",
    "merge_sameshp_in_diffld(folder_with_folders, filename, oshp)"
   ]
  },
  {
   "cell_type": "code",
   "execution_count": null,
   "id": "e6e3d3f6-af1e-4276-af55-52d0668f78e1",
   "metadata": {},
   "outputs": [],
   "source": []
  }
 ],
 "metadata": {
  "kernelspec": {
   "display_name": "Python 3 (ipykernel)",
   "language": "python",
   "name": "python3"
  },
  "language_info": {
   "codemirror_mode": {
    "name": "ipython",
    "version": 3
   },
   "file_extension": ".py",
   "mimetype": "text/x-python",
   "name": "python",
   "nbconvert_exporter": "python",
   "pygments_lexer": "ipython3",
   "version": "3.8.10"
  }
 },
 "nbformat": 4,
 "nbformat_minor": 5
}
