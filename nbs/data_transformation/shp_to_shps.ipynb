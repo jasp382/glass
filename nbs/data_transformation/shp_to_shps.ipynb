{
 "cells": [
  {
   "cell_type": "markdown",
   "metadata": {},
   "source": [
    "### Create a new shapefile for each value in a column"
   ]
  },
  {
   "cell_type": "code",
   "execution_count": null,
   "metadata": {},
   "outputs": [],
   "source": [
    "from glass.dtt.split import split_shp_by_attr\n",
    "\n",
    "shp = '/mnt/d/atrisk_fire1/aa2024/ardida_2000_2008.shp'\n",
    "\n",
    "attr = 'Ano'\n",
    "\n",
    "outdir = '/mnt/d/atrisk_fire1/aa2024'\n",
    "\n",
    "outname='ardida'\n",
    "\n",
    "valinname = True\n",
    "\n",
    "_format='.shp'\n",
    "\n",
    "split_shp_by_attr(\n",
    "    shp, attr, outdir,\n",
    "    outname=outname, valinname=valinname,\n",
    "    _format=_format\n",
    ")"
   ]
  },
  {
   "cell_type": "markdown",
   "metadata": {},
   "source": [
    "## Export each feature to a new file"
   ]
  },
  {
   "cell_type": "code",
   "execution_count": null,
   "metadata": {},
   "outputs": [],
   "source": [
    "from glass.dtt.split import eachfeat_to_newshp\n",
    "\n",
    "shp = '/mnt/d/mystuff/pwgisdata/cimcmb/freguesias.shp'\n",
    "\n",
    "ofolder = '/mnt/d/mystuff/pwgisdata/cimcmb'\n",
    "\n",
    "idcol = 'layer'\n",
    "\n",
    "eachfeat_to_newshp(shp, ofolder, idCol=idcol, idIsName=True)"
   ]
  },
  {
   "cell_type": "code",
   "execution_count": null,
   "metadata": {},
   "outputs": [],
   "source": [
    "in_shp = '/mnt/d/mystuff/gowe_layouts/lytshpmain/tvl2jenks.shp'\n",
    "maps_todo = '/mnt/d/mystuff/gowe_layouts/lyttblmain/tvl2jenks.xlsx'\n",
    "\n",
    "out_folder = '/mnt/d/mystuff/gowe_layouts/lyt2shp_jenks/'\n",
    "\n",
    "refcol     = ['slug1', 'slug2']\n",
    "outcolname = 'joker'\n",
    "\n",
    "from glass.dtt.split import shpcols_to_shp\n",
    "\n",
    "shpcols_to_shp(in_shp, maps_todo, refcol, outcolname, out_folder)"
   ]
  },
  {
   "cell_type": "code",
   "execution_count": null,
   "metadata": {},
   "outputs": [],
   "source": [
    "from glass.dtt.split import shpcols_to_shp\n",
    "\n",
    "mapdata = [{\n",
    "    'inshp' : '/mnt/disk1/jasp/mapas/munpositivo.shp',\n",
    "    'table' : '/mnt/disk1/jasp/mapas/cls_positivo.xlsx',\n",
    "    'outf'  : '/mnt/disk1/jasp/mapas/lytshp_posv2/'\n",
    "}, {\n",
    "    'inshp' : '/mnt/disk1/jasp/mapas/munmisto.shp',\n",
    "    'table' : '/mnt/disk1/jasp/mapas/cls_misto.xlsx',\n",
    "    'outf'  : '/mnt/disk1/jasp/mapas/lytshp_misv2/'\n",
    "}]\n",
    "\n",
    "refcol = 'slug'\n",
    "outcolname = 'joker'\n",
    "\n",
    "for d in mapdata:\n",
    "    shpcols_to_shp(d['inshp'], d['table'], refcol, outcolname, d['outf'])"
   ]
  },
  {
   "cell_type": "code",
   "execution_count": null,
   "metadata": {},
   "outputs": [],
   "source": []
  }
 ],
 "metadata": {
  "kernelspec": {
   "display_name": "Python 3 (ipykernel)",
   "language": "python",
   "name": "python3"
  },
  "language_info": {
   "codemirror_mode": {
    "name": "ipython",
    "version": 3
   },
   "file_extension": ".py",
   "mimetype": "text/x-python",
   "name": "python",
   "nbconvert_exporter": "python",
   "pygments_lexer": "ipython3",
   "version": "3.10.12"
  }
 },
 "nbformat": 4,
 "nbformat_minor": 4
}
