{
 "cells": [
  {
   "cell_type": "code",
   "execution_count": null,
   "id": "b2c4f75c-5e0e-4b1d-b563-e153a08e0505",
   "metadata": {},
   "outputs": [],
   "source": [
    "from glass.dtt.rst import comp_bnds"
   ]
  },
  {
   "cell_type": "code",
   "execution_count": null,
   "id": "fc4bc1bc-dd4e-45a7-bee8-c975686084be",
   "metadata": {},
   "outputs": [],
   "source": [
    "bands = [\n",
    "    '/mnt/d/autocls/sat_s2_cmb18/i_20180130/L2A_T29TNE_20180130T112311_B04_10m.tif',\n",
    "    '/mnt/d/autocls/sat_s2_cmb18/i_20180130/L2A_T29TNE_20180130T112311_B03_10m.tif',\n",
    "    '/mnt/d/autocls/sat_s2_cmb18/i_20180130/L2A_T29TNE_20180130T112311_B02_10m.tif',\n",
    "]\n",
    "\n",
    "out = '/mnt/d/autocls/sat_s2_cmb18/true_color_20180130_2.tif'"
   ]
  },
  {
   "cell_type": "code",
   "execution_count": null,
   "id": "35a41012-3c77-4da1-bc87-f5f2ba1e6b97",
   "metadata": {},
   "outputs": [],
   "source": [
    "comp_bnds(bands, out)"
   ]
  },
  {
   "cell_type": "code",
   "execution_count": null,
   "id": "ea732ffa-1f45-4d68-bb6a-1e7fc16186c5",
   "metadata": {},
   "outputs": [],
   "source": []
  }
 ],
 "metadata": {
  "kernelspec": {
   "display_name": "Python 3 (ipykernel)",
   "language": "python",
   "name": "python3"
  },
  "language_info": {
   "codemirror_mode": {
    "name": "ipython",
    "version": 3
   },
   "file_extension": ".py",
   "mimetype": "text/x-python",
   "name": "python",
   "nbconvert_exporter": "python",
   "pygments_lexer": "ipython3",
   "version": "3.10.6"
  }
 },
 "nbformat": 4,
 "nbformat_minor": 5
}
