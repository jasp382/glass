{
 "cells": [
  {
   "cell_type": "markdown",
   "id": "cb75b80d-b06a-4600-9e3a-51fc00696f10",
   "metadata": {},
   "source": [
    "### Get Frequencies of the values of one column in a table file"
   ]
  },
  {
   "cell_type": "code",
   "execution_count": null,
   "id": "61130a09-910b-4e7a-bc76-1991daf9199b",
   "metadata": {},
   "outputs": [],
   "source": [
    "import pandas as pd\n",
    "from glass.rd import tbl_to_obj"
   ]
  },
  {
   "cell_type": "code",
   "execution_count": null,
   "id": "16433888-93c3-40de-8950-9b220a8f6030",
   "metadata": {},
   "outputs": [],
   "source": [
    "itbl = '/mnt/disk1/jasp/rms/CC_AreaInflHosp2021_freguesia_joaquim.xlsx'\n",
    "\n",
    "sheet = 'freguesias'\n",
    "\n",
    "col = 'codigo'"
   ]
  },
  {
   "cell_type": "code",
   "execution_count": null,
   "id": "fb5a5f94-79e8-40c0-92e7-19894ede5192",
   "metadata": {},
   "outputs": [],
   "source": [
    "df = tbl_to_obj(itbl, sheet=sheet)"
   ]
  },
  {
   "cell_type": "code",
   "execution_count": null,
   "id": "5ac7b0d3-75e3-4680-a8d5-5e18c2418669",
   "metadata": {},
   "outputs": [],
   "source": [
    "df"
   ]
  },
  {
   "cell_type": "code",
   "execution_count": null,
   "id": "f53cbbfd-a0cf-4838-964a-a19199b84fed",
   "metadata": {},
   "outputs": [],
   "source": [
    "grpdf = pd.DataFrame({\n",
    "    'freqabs' : df.groupby([col])[col].agg('count')\n",
    "}).reset_index()"
   ]
  },
  {
   "cell_type": "code",
   "execution_count": null,
   "id": "f47419a6-b9fc-4e1e-9d0a-e9535024efa5",
   "metadata": {},
   "outputs": [],
   "source": [
    "grpdf"
   ]
  },
  {
   "cell_type": "code",
   "execution_count": null,
   "id": "cd79a49b-119f-49eb-8c43-7e2b11961b1c",
   "metadata": {},
   "outputs": [],
   "source": [
    "# Get Relative frequencies"
   ]
  },
  {
   "cell_type": "code",
   "execution_count": null,
   "id": "9a88991b-ad34-46b8-b099-7a48aad6ca1f",
   "metadata": {},
   "outputs": [],
   "source": [
    "# Compute histogram"
   ]
  },
  {
   "cell_type": "code",
   "execution_count": null,
   "id": "7ab1d257-6e2a-42e3-876f-bf8e74eaffa1",
   "metadata": {},
   "outputs": [],
   "source": [
    "# Save result to file"
   ]
  },
  {
   "cell_type": "code",
   "execution_count": null,
   "id": "75a04a9e-8b64-4de8-aa83-c78abb0659a6",
   "metadata": {},
   "outputs": [],
   "source": []
  }
 ],
 "metadata": {
  "kernelspec": {
   "display_name": "Python 3 (ipykernel)",
   "language": "python",
   "name": "python3"
  },
  "language_info": {
   "codemirror_mode": {
    "name": "ipython",
    "version": 3
   },
   "file_extension": ".py",
   "mimetype": "text/x-python",
   "name": "python",
   "nbconvert_exporter": "python",
   "pygments_lexer": "ipython3",
   "version": "3.10.12"
  }
 },
 "nbformat": 4,
 "nbformat_minor": 5
}
