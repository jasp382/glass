{
 "cells": [
  {
   "cell_type": "code",
   "execution_count": 1,
   "id": "bec75e89-df58-44ac-a959-4c3353d2b9b8",
   "metadata": {},
   "outputs": [],
   "source": [
    "table = \"multipolygons\"\n",
    "db = 'dgt_osmpt'\n",
    "\n",
    "dbset = \"local\"\n",
    "\n",
    "notkeys = [\n",
    "    \"ogc_fid\", \"osm_id\", \"osm_way_id\", \"name\",\n",
    "    \"type\", \"admin_level\", \"boundary\",\n",
    "    'other_tags', 'wkb_geometry', 'lulc_cls'\n",
    "]\n",
    "\n",
    "otbl = '/home/jasp/mystuff/multitags_cls.xlsx'"
   ]
  },
  {
   "cell_type": "code",
   "execution_count": 3,
   "id": "98754bfe-0e2e-44a5-99f0-9f35342b14cc",
   "metadata": {},
   "outputs": [],
   "source": [
    "import numpy as np\n",
    "import pandas as pd\n",
    "from glass.prop.sql import cols_name\n",
    "from glass.sql.q import q_to_obj\n",
    "from glass.wt import obj_to_tbl\n",
    "from glass.wt.sql import df_to_db"
   ]
  },
  {
   "cell_type": "code",
   "execution_count": 4,
   "id": "604af2e6-a85c-4293-a387-f4928fd9b427",
   "metadata": {},
   "outputs": [],
   "source": [
    "# Get table columns\n",
    "\n",
    "cols = cols_name(db, table, dbset=dbset)\n",
    "cols = [c.replace('\"', '') for c in cols if c not in notkeys]\n",
    "cols.sort()"
   ]
  },
  {
   "cell_type": "code",
   "execution_count": 5,
   "id": "9f5df745-a50d-4b0a-b7b9-ddf415d53e94",
   "metadata": {},
   "outputs": [],
   "source": [
    "colsql = \", \".join([f\"tbl.{c}\" for c in cols])\n",
    "q = f\"SELECT {colsql} FROM {table} AS tbl GROUP BY {colsql}\"\n",
    "\n",
    "df = q_to_obj(db, q, dbset=dbset)"
   ]
  },
  {
   "cell_type": "code",
   "execution_count": 6,
   "id": "89c23bb6-057f-4081-8f3c-3f8436372753",
   "metadata": {},
   "outputs": [],
   "source": [
    "# Replace None for empty string\n",
    "\n",
    "for c in df.columns.values:\n",
    "    df[c] = np.where(df[c].isnull(), '', c + '=>' + df[c])"
   ]
  },
  {
   "cell_type": "code",
   "execution_count": 7,
   "id": "0fb2e4c5-ad78-4c42-a89c-c5051ac7d076",
   "metadata": {},
   "outputs": [],
   "source": [
    "# Get column with all tags\n",
    "\n",
    "df[\"osmtags\"] = ''\n",
    "\n",
    "for c in df.columns.values:\n",
    "    if c == 'osmtags':\n",
    "        continue\n",
    "    \n",
    "    df[\"osmtags\"] = np.where(\n",
    "        df[c] == '' , df.osmtags,\n",
    "        np.where(df.osmtags == '', df[c], df.osmtags + ';' + df[c])\n",
    "    )"
   ]
  },
  {
   "cell_type": "code",
   "execution_count": 8,
   "id": "47eccd1b-f5bf-432d-8e05-5bda22d8084a",
   "metadata": {},
   "outputs": [
    {
     "data": {
      "text/plain": [
       "'/home/jasp/mystuff/multitags_cls.xlsx'"
      ]
     },
     "execution_count": 8,
     "metadata": {},
     "output_type": "execute_result"
    }
   ],
   "source": [
    "edf = df[['osmtags']]\n",
    "\n",
    "obj_to_tbl(edf, otbl)"
   ]
  },
  {
   "cell_type": "code",
   "execution_count": null,
   "id": "6c4f3a5d-b662-463a-9179-2cb294368a0c",
   "metadata": {},
   "outputs": [],
   "source": []
  }
 ],
 "metadata": {
  "kernelspec": {
   "display_name": "Python 3 (ipykernel)",
   "language": "python",
   "name": "python3"
  },
  "language_info": {
   "codemirror_mode": {
    "name": "ipython",
    "version": 3
   },
   "file_extension": ".py",
   "mimetype": "text/x-python",
   "name": "python",
   "nbconvert_exporter": "python",
   "pygments_lexer": "ipython3",
   "version": "3.8.10"
  }
 },
 "nbformat": 4,
 "nbformat_minor": 5
}
