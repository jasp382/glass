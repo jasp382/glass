{
 "cells": [
  {
   "cell_type": "code",
   "execution_count": null,
   "id": "943269a1-74c8-4ea7-8aec-f07873b339ac",
   "metadata": {},
   "outputs": [],
   "source": [
    "import os \n",
    "\n",
    "NOMENCLATURE = \"URBAN_ATLAS\"\n",
    "OSMDATA      = '/mnt/disk1/jasp/osm2lulc/osm_parts/osmbasel_{}.xml'\n",
    "REF_RASTER   = '/mnt/disk1/jasp/osm2lulc/lmt_basel/fishnet_basel_{}.shp'\n",
    "LULC_RESULT  = '/mnt/disk1/jasp/osm2lulc/lulc_basel/lulcbasel_{}.shp'\n",
    "DATA_STORE   = '/mnt/disk1/jasp/osm2lulc/tmp_basel/tmp_{}'"
   ]
  },
  {
   "cell_type": "code",
   "execution_count": null,
   "id": "5cfcc48e-2222-4b43-af59-3a8ae4b9bcf4",
   "metadata": {},
   "outputs": [],
   "source": [
    "from glass.ete.osm2lulc.grs   import vector_based\n",
    "from glass.ete.osm2lulc.utils import record_time_consumed\n",
    "import datetime\n",
    "import os\n",
    "from glass.pys.oss import fprop\n",
    "\n",
    "\n",
    "\n",
    "# Run OSM2LULC\n",
    "for i in range(25):\n",
    "    time_a = datetime.datetime.now().replace(microsecond=0)\n",
    "    \n",
    "    lulcSHP, timeCheck = vector_based(\n",
    "        OSMDATA.format(str(i+1)), NOMENCLATURE,\n",
    "        REF_RASTER.format(str(i+1)), LULC_RESULT.format(str(i+1)),\n",
    "        overwrite=True, dataStore=DATA_STORE.format(str(i+1)),\n",
    "        RoadsAPI='POSTGIS'\n",
    "    )\n",
    "    \n",
    "    time_b = datetime.datetime.now().replace(microsecond=0)\n",
    "    \n",
    "    # Record time consumed in xlsx table\n",
    "    record_time_consumed(timeCheck, os.path.join(\n",
    "        os.path.dirname(lulcSHP), fprop(lulcSHP, 'fn') + '.xlsx'\n",
    "    ))\n",
    "\n",
    "    print(time_b - time_a)"
   ]
  },
  {
   "cell_type": "code",
   "execution_count": null,
   "id": "704cde1e-669e-46cb-99c0-8346f7a68e68",
   "metadata": {},
   "outputs": [],
   "source": [
    "# Record time consumed in xlsx table\n",
    "record_time_consumed(timeCheck, os.path.join(\n",
    "    os.path.dirname(LULC_RESULT), fprop(LULC_RESULT, 'fn') + '.xlsx'\n",
    "))\n",
    "\n",
    "print(time_b - time_a)"
   ]
  },
  {
   "cell_type": "code",
   "execution_count": null,
   "id": "7261c1e9-a0f4-4fe6-8140-a5424f80b5a0",
   "metadata": {},
   "outputs": [],
   "source": []
  }
 ],
 "metadata": {
  "kernelspec": {
   "display_name": "Python 3 (ipykernel)",
   "language": "python",
   "name": "python3"
  },
  "language_info": {
   "codemirror_mode": {
    "name": "ipython",
    "version": 3
   },
   "file_extension": ".py",
   "mimetype": "text/x-python",
   "name": "python",
   "nbconvert_exporter": "python",
   "pygments_lexer": "ipython3",
   "version": "3.10.6"
  }
 },
 "nbformat": 4,
 "nbformat_minor": 5
}
