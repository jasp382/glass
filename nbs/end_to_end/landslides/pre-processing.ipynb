{
 "cells": [
  {
   "cell_type": "code",
   "execution_count": null,
   "metadata": {},
   "outputs": [],
   "source": [
    "\"\"\"\n",
    "Generate surface variables from DEM for informative value procedure\n",
    "\"\"\"\n",
    "\n",
    "mdt        = '/mnt/d/mystuff/pwgis/mod5/mdt.tif'\n",
    "rules      = '/mnt/d/mystuff/pwgis/mod5/rules.json'\n",
    "\n",
    "datafolder = '/mnt/d/mystuff/pwgis/mod5/datavar'\n",
    "varfolder  = '/mnt/d/mystuff/pwgis/mod5/var'"
   ]
  },
  {
   "cell_type": "code",
   "execution_count": null,
   "metadata": {},
   "outputs": [],
   "source": [
    "import os\n",
    "import json as js\n",
    "from glass.pys.oss    import fprop\n",
    "from glass.wenv.grs import run_grass\n",
    "from glass.prop.prj import get_epsg\n",
    "from glass.rst.rcls import interval_rules\n",
    "from glass.prop.rst import rst_stats\n",
    "from glass.rst.surf.wtr import flow_accum\n",
    "from glass.rst.alg import grsrstcalc\n",
    "from glass.rst.surf import curvature"
   ]
  },
  {
   "cell_type": "code",
   "execution_count": null,
   "metadata": {},
   "outputs": [],
   "source": [
    "# Reclassify rules\n",
    "\n",
    "dict_rules = js.load(open(rules, 'r'))\n",
    "\n",
    "# Create reclassify files\n",
    "for k in dict_rules:\n",
    "    dict_rules[k] = interval_rules(\n",
    "        {_k : [\n",
    "            v * 10000 for v in dict_rules[k][_k]\n",
    "        ] for _k in dict_rules[k]},\n",
    "        os.path.join(datafolder, k.lower() + '.txt')\n",
    "    )"
   ]
  },
  {
   "cell_type": "code",
   "execution_count": null,
   "metadata": {},
   "outputs": [],
   "source": [
    "# Get name for GRASS GIS location\n",
    "loc = fprop(mdt, 'fn', forceLower=True)[:5] + '_loc'\n",
    "\n",
    "# Get DEM EPSG\n",
    "\n",
    "epsg = get_epsg(mdt)\n",
    "\n",
    "# Create GRASS GIS location\n",
    "gbase = run_grass(datafolder, location=loc, srs=epsg)\n",
    "\n",
    "# Start GRASS GIS Session\n",
    "import grass.script.setup as gsetup\n",
    "gsetup.init(gbase, datafolder, loc, 'PERMANENT')"
   ]
  },
  {
   "cell_type": "code",
   "execution_count": null,
   "metadata": {},
   "outputs": [],
   "source": [
    "# Import GRASS GIS modules\n",
    "from glass.it.rst   import rst_to_grs, grs_to_rst\n",
    "from glass.wenv.grs import rst_to_region\n",
    "from glass.rst.surf import slope, aspect\n",
    "from glass.rst.rcls import interval_rules, rcls_rst"
   ]
  },
  {
   "cell_type": "code",
   "execution_count": null,
   "metadata": {},
   "outputs": [],
   "source": [
    "# Import MDT\n",
    "grsmdt = rst_to_grs(mdt, 'mdt')\n",
    "\n",
    "# Set Region\n",
    "rst_to_region(grsmdt)\n",
    "\n",
    "# Generate slope\n",
    "grsslope = slope(grsmdt, 'sloperst', data='degrees', api=\"grass\")\n",
    "\n",
    "# Generate Aspect\n",
    "grsexpo = aspect(grsmdt, 'aspectrst', from_north=True, api=\"grass\")"
   ]
  },
  {
   "cell_type": "code",
   "execution_count": null,
   "metadata": {},
   "outputs": [],
   "source": [
    "# Reclassify elevation\n",
    "mdt_int = grsrstcalc(f\"int({grsmdt} * 10000)\", \"mdtint\")\n",
    "var_elevation = rcls_rst(mdt_int, dict_rules[\"ELEVATION\"], 'elevation', api=\"pygrass\")\n",
    "\n",
    "# Reclassify slope\n",
    "slope_int = grsrstcalc(f\"int({grsslope} * 10000)\", \"slopeint\")\n",
    "var_slope = rcls_rst(slope_int, dict_rules[\"SLOPE\"], 'slope', api=\"pygrass\")\n",
    "\n",
    "# Reclassify aspect\n",
    "expo_int = grsrstcalc(f\"int({grsexpo} * 10000)\", \"expoint\")\n",
    "var_aspect = rcls_rst(expo_int, dict_rules[\"ASPECT\"], 'aspect', api=\"pygrass\")"
   ]
  },
  {
   "cell_type": "code",
   "execution_count": null,
   "metadata": {},
   "outputs": [],
   "source": [
    "# Generate Inverse Topographic Index\n",
    "\n",
    "# Get flow direction\n",
    "flowrst, flowdir = flow_accum(grsmdt, 'rst_accum', 'rst_dir', ascmd=True)\n",
    "\n",
    "# Calculate ITI\n",
    "topoidx = grsrstcalc(f\"{grsslope} / {flowrst}\", \"invtopoidx\")\n",
    "topoidxint = grsrstcalc(f\"int({topoidx} * 10000)\", \"topoidxint\")\n",
    "\n",
    "# Reclassify\n",
    "# Menores valores = mais humidade no solo\n",
    "invtoporules = interval_rules({\n",
    "    1 : [-1 * 10000, 0],\n",
    "    2 : [0, int(0.0001 * 10000)],\n",
    "    3 : [int(0.0001 * 10000), int(0.001 * 10000)],\n",
    "    4 : [int(0.001 * 10000), int(0.01 * 10000)],\n",
    "    5 : [int(0.01 * 10000), int(0.1 * 10000)],\n",
    "    6 : [int(0.1 * 10000), int(100 * 10000)]\n",
    "}, os.path.join(datafolder, 'invtoporules.txt'))\n",
    "\n",
    "varinvtopo = rcls_rst(topoidxint, invtoporules, 'varinvtopoidx', api='pygrass')"
   ]
  },
  {
   "cell_type": "code",
   "execution_count": null,
   "metadata": {},
   "outputs": [],
   "source": [
    "# Generate curvature rasters\n",
    "\n",
    "pcurv, tcurv = curvature(grsmdt, 'pcurv', 'tcurv', ascmd=True)\n",
    "\n",
    "pcurvint = grsrstcalc(f\"int({pcurv} * 10000)\", \"pcurvint\")\n",
    "\n",
    "# Reclassify profile curvature\n",
    "\n",
    "curvrules = interval_rules({\n",
    "    1 : [-2 * 10000, int(-0.025 * 10000)],\n",
    "    2 : [int(-0.025 * 10000), int(-0.0025 * 10000)],\n",
    "    3 : [int(-0.0025 * 10000), int(0.0025 * 10000)],\n",
    "    4 : [int(0.0025 * 10000), int(0.025 * 10000)],\n",
    "    5 : [int(0.025 * 10000), int(2 * 10000)]\n",
    "}, os.path.join(datafolder, 'varcurvrules.txt'))\n",
    "varcurv = rcls_rst(pcurvint, curvrules, 'varcurv', api='pygrass')"
   ]
  },
  {
   "cell_type": "code",
   "execution_count": null,
   "metadata": {},
   "outputs": [],
   "source": [
    "# Export data\n",
    "drst = [\n",
    "    grsslope, grsexpo, flowrst, flowdir, topoidx, pcurv,\n",
    "    mdt_int, slope_int, expo_int, topoidxint, pcurvint\n",
    "]\n",
    "vrst = [var_elevation, var_slope, var_aspect, varinvtopo, varcurv]\n",
    "\n",
    "for r in drst:\n",
    "    grs_to_rst(r, os.path.join(datafolder, f'{r}.tif'), as_cmd=True)\n",
    "for r in vrst:\n",
    "    grs_to_rst(r, os.path.join(varfolder, f\"{r}.tif\"), as_cmd=True)"
   ]
  },
  {
   "cell_type": "code",
   "execution_count": null,
   "metadata": {},
   "outputs": [],
   "source": []
  }
 ],
 "metadata": {
  "kernelspec": {
   "display_name": "Python 3",
   "language": "python",
   "name": "python3"
  },
  "language_info": {
   "codemirror_mode": {
    "name": "ipython",
    "version": 3
   },
   "file_extension": ".py",
   "mimetype": "text/x-python",
   "name": "python",
   "nbconvert_exporter": "python",
   "pygments_lexer": "ipython3",
   "version": "3.8.5"
  }
 },
 "nbformat": 4,
 "nbformat_minor": 4
}
