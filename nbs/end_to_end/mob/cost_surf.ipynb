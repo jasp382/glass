{
 "cells": [
  {
   "cell_type": "code",
   "execution_count": null,
   "id": "d2b6e59c-6f7b-4021-9d5f-5c1b5084c63c",
   "metadata": {},
   "outputs": [],
   "source": [
    "from glass.ete.mob.cstsurf import mk_costsuf"
   ]
  },
  {
   "cell_type": "code",
   "execution_count": null,
   "id": "d6c4417d-c840-4e05-879d-cd5f54807773",
   "metadata": {},
   "outputs": [],
   "source": [
    "dem = '/mnt/disk1/jasp/mod_a/mdt2.tif'\n",
    "\n",
    "lulc = '/mnt/disk1/jasp/mod_a/cosv2.shp'\n",
    "\n",
    "lutime = 'clsid'\n",
    "\n",
    "rdv = '/mnt/disk1/jasp/mod_a/rdv_b.shp'\n",
    "rdvcol = 'kph'\n",
    "\n",
    "barr = '/mnt/disk1/jasp/mod_a/barr_f.shp'\n",
    "\n",
    "out = '/mnt/disk1/jasp/mod_a/result.tif'"
   ]
  },
  {
   "cell_type": "code",
   "execution_count": null,
   "id": "ffaba53a-3949-410f-be91-bf54de79a869",
   "metadata": {},
   "outputs": [],
   "source": [
    "mk_costsuf(dem, lulc, lutime, rdv, rdvcol, barr, out)"
   ]
  },
  {
   "cell_type": "code",
   "execution_count": null,
   "id": "656b9307-b7c6-4063-8500-26b4e8debec5",
   "metadata": {},
   "outputs": [],
   "source": [
    "slope_w = {\n",
    "    1 : {'rdv' : 1, 'lu' : 1},\n",
    "    2 : {'rdv' : 1.5, 'lu' : 1},\n",
    "    3 : {'rdv' : 2, 'lu' : 1.5},\n",
    "    4 : {'rdv' : 3, 'lu' : 1.5},\n",
    "    5 : {'rdv' : 4, 'lu' : 2},\n",
    "    6 : {'rdv' : 5, 'lu' : 2}\n",
    "}\n",
    "\n",
    "slope_rules = {\n",
    "    (0, 10)      : 1,\n",
    "    (10, 30)     : 2,\n",
    "    (30, 50)     : 3,\n",
    "    (50, 70)     : 4,\n",
    "    (70, 100)    : 5,\n",
    "    (100, 10000) : 6\n",
    "}\n",
    "\n",
    "lu_w = {\n",
    "    1 : 18, 2 : 15, 3: 23, 4: 9, 5: 12\n",
    "}\n",
    "\n",
    "rsttxt = '/mnt/disk1/jasp/mod_a/cstsuff_result/cmb_report.txt'"
   ]
  },
  {
   "cell_type": "code",
   "execution_count": null,
   "id": "31eb371b-b03b-4fba-8fcd-c113969ed349",
   "metadata": {},
   "outputs": [],
   "source": [
    "otxt = open(rsttxt, 'r')\n",
    "\n",
    "dcmb = {}\n",
    "c = 0\n",
    "for l in otxt.readlines():\n",
    "    if c >= 4:\n",
    "        pl = l.split('|')\n",
    "        print(pl)\n",
    "        cat = pl[2].split('; ')\n",
    "        cat1 = cat[0].split(' ')\n",
    "        cat2 = cat[1].split(' ')\n",
    "\n",
    "        dcmb[int(pl[1])] = [int(cat1[1]), int(cat2[1])]\n",
    "        \n",
    "    c += 1\n",
    "    \n",
    "# Get costs\n",
    "dcost = {}\n",
    "for k in dcmb:\n",
    "    cslp, lurdv = dcmb[k]\n",
    "\n",
    "    if not cslp or not lurdv:\n",
    "        continue\n",
    "\n",
    "    if lurdv >= 10:\n",
    "        sw = slope_w[cslp]['rdv']\n",
    "            \n",
    "        vel = 5 if kph == 'foot' else lurdv\n",
    "        wother = (3600.0 * csize) / (vel * 1000.0)\n",
    "        \n",
    "    else:\n",
    "        sw = slope_w[cslp]['lu']\n",
    "        wother = lu_w[lurdv]\n",
    "        \n",
    "    dcost[k] = (sw * wother) * 10000000.0"
   ]
  },
  {
   "cell_type": "code",
   "execution_count": null,
   "id": "64ee4fd1-b0a9-48ec-a2ea-90458a6f112f",
   "metadata": {},
   "outputs": [],
   "source": [
    "dcmb"
   ]
  },
  {
   "cell_type": "code",
   "execution_count": null,
   "id": "9a6eb06d-606b-4474-9ffe-fad7db495bdd",
   "metadata": {},
   "outputs": [],
   "source": [
    "for l in otxt.readlines():\n",
    "    print(l)\n",
    "    pl = l.split('|')\n",
    "    print(pl)\n",
    "    cat = pl[2].split('; ')\n",
    "    cat1 = int(cat[0].split(' '))\n",
    "    cat2 = int(cat[1].split(' '))\n",
    "\n",
    "    dcmb[int(pl[1])] = [cat1[1], cat2[1]]\n",
    "    break"
   ]
  },
  {
   "cell_type": "code",
   "execution_count": null,
   "id": "93bd03de-8115-45de-a230-e50c27eda63b",
   "metadata": {},
   "outputs": [],
   "source": [
    "l"
   ]
  },
  {
   "cell_type": "code",
   "execution_count": null,
   "id": "35225864-eebf-47b2-8e4e-0de1d7f50789",
   "metadata": {},
   "outputs": [],
   "source": []
  }
 ],
 "metadata": {
  "kernelspec": {
   "display_name": "Python 3 (ipykernel)",
   "language": "python",
   "name": "python3"
  },
  "language_info": {
   "codemirror_mode": {
    "name": "ipython",
    "version": 3
   },
   "file_extension": ".py",
   "mimetype": "text/x-python",
   "name": "python",
   "nbconvert_exporter": "python",
   "pygments_lexer": "ipython3",
   "version": "3.8.10"
  }
 },
 "nbformat": 4,
 "nbformat_minor": 5
}
