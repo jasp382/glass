{
 "cells": [
  {
   "cell_type": "code",
   "execution_count": null,
   "id": "75aef42f-c3bb-431b-9fda-8acc08c7f114",
   "metadata": {
    "tags": []
   },
   "outputs": [],
   "source": [
    "lulc_rst = '/mnt/d/autocls01/fidx/lulc_ref.tif'\n",
    "\n",
    "idx_rst = {\n",
    "    \"20220504\" : {\n",
    "        \"ndvi\" : '/mnt/d/autocls01/fidx/ndvi_20220504.tif',\n",
    "        \"ndbi\" : '/mnt/d/autocls01/fidx/ndbi_20220504.tif',\n",
    "        \"ndwi\" : '/mnt/d/autocls01/fidx/ndwi_20220504.tif'\n",
    "    },\n",
    "    \"20220812\" : {\n",
    "        \"ndvi\" : '/mnt/d/autocls01/fidx/ndvi_20220812.tif',\n",
    "        \"ndbi\" : '/mnt/d/autocls01/fidx/ndbi_20220812.tif',\n",
    "        \"ndwi\" : '/mnt/d/autocls01/fidx/ndwi_20220812.tif'\n",
    "    },\n",
    "    \"20221001\" : {\n",
    "        \"ndvi\" : '/mnt/d/autocls01/fidx/ndvi_20221001.tif',\n",
    "        \"ndbi\" : '/mnt/d/autocls01/fidx/ndbi_20221001.tif',\n",
    "        \"ndwi\" : '/mnt/d/autocls01/fidx/ndwi_20221001.tif'\n",
    "    }\n",
    "}\n",
    "\n",
    "idx_rules = {\n",
    "    1 : {\n",
    "        \"ndbi\" : {'operator' : '>', 'value': 0, },\n",
    "        \"ndvi\" : {'operator' : '<', 'value': 0.3},\n",
    "        \"ndwi\" : {'operator' : '<', 'value': 0}\n",
    "    },\n",
    "    2 : {\n",
    "        \"ndbi\" : None,\n",
    "        \"ndvi\" : {'operator' : '>', 'value': 0.3},\n",
    "        \"ndwi\" : {'operator' : '<', 'value': 0}\n",
    "    },\n",
    "    3 : {\n",
    "        \"ndbi\" : None,\n",
    "        \"ndvi\" : {'operator' : '>', 'value': 0.3},\n",
    "        \"ndwi\" : {'operator' : '<', 'value': 0}\n",
    "    },\n",
    "    4 : {\n",
    "        \"ndbi\" : None,\n",
    "        \"ndvi\" : {'operator' : '>', 'value': 0.3},\n",
    "        \"ndwi\" : {'operator' : '<', 'value': 0}\n",
    "    },\n",
    "    5 : {\n",
    "        \"ndbi\" : None,\n",
    "        \"ndvi\" : {'operator' : '>', 'value': 0.3},\n",
    "        \"ndwi\" : {'operator' : '<', 'value': 0}\n",
    "    },\n",
    "    6 : {\n",
    "        \"ndbi\" : None,\n",
    "        \"ndvi\" : {'operator' : '>', 'value': 0},\n",
    "        \"ndwi\" : {'operator' : '<', 'value': 0}\n",
    "    },\n",
    "    7 : {\n",
    "        \"ndbi\" : None,\n",
    "        \"ndvi\" : {'operator' : '>', 'value': 0},\n",
    "        \"ndwi\" : {'operator' : '<', 'value': 0}\n",
    "    },\n",
    "    8 : {\n",
    "        \"ndbi\" : None,\n",
    "        \"ndvi\" : {'operator' : '<', 'value': 0.3},\n",
    "        \"ndwi\" : {'operator' : '>', 'value': 0}\n",
    "    }\n",
    "}\n",
    "\n",
    "fraster= '/mnt/d/autocls01/fidx/lulc_filter.tif'"
   ]
  },
  {
   "cell_type": "code",
   "execution_count": null,
   "id": "e6664d67-84c5-433c-89bf-8073f8f14007",
   "metadata": {
    "tags": []
   },
   "outputs": [],
   "source": [
    "import os\n",
    "from osgeo import gdal\n",
    "import numpy as np\n",
    "from glass.rd.rst import rst_to_array\n",
    "from glass.prop.rst import get_nodata\n",
    "from glass.pys.oss import lst_ff, fprop\n",
    "from glass.wenv.grs import run_grass\n",
    "from glass.pys.tm import now_as_str"
   ]
  },
  {
   "cell_type": "code",
   "execution_count": null,
   "id": "4771f886-cf65-4508-b797-f430535ebe37",
   "metadata": {
    "tags": []
   },
   "outputs": [],
   "source": [
    "# Check if outfolder exists\n",
    "out_folder = os.path.dirname(fraster)\n",
    "if not os.path.exists(out_folder):\n",
    "    mkdir(out_folder, overwrite=None)\n",
    "    \n",
    "\"\"\"\n",
    "Start GRASS GIS Session\n",
    "\"\"\"\n",
    "\n",
    "loc = f'loc_{now_as_str()}'\n",
    "grsb = run_grass(\n",
    "    out_folder, grassBIN='grass78', location=loc,\n",
    "    srs=lulc_rst\n",
    "    )\n",
    "\n",
    "import grass.script.setup as gsetup\n",
    "    \n",
    "gsetup.init(grsb, out_folder, loc, 'PERMANENT')"
   ]
  },
  {
   "cell_type": "code",
   "execution_count": null,
   "id": "9cadc0a7-8219-47a8-9318-d964541dfcd6",
   "metadata": {
    "tags": []
   },
   "outputs": [],
   "source": [
    "from glass.it.rst import rst_to_grs, grs_to_rst\n",
    "from grass.pygrass.modules import Module"
   ]
  },
  {
   "cell_type": "code",
   "execution_count": null,
   "id": "29554cb7-9697-4fbe-b72d-7a7fa61f7abe",
   "metadata": {
    "tags": []
   },
   "outputs": [],
   "source": [
    "# Identificar classes existentes no raster com as classes de LULC\n",
    "\n",
    "lulc_img = rst_to_array(lulc_rst)\n",
    "\n",
    "ndval = get_nodata(lulc_rst)\n",
    "\n",
    "lulc_class = [v for v in np.unique(lulc_img) if v != ndval]"
   ]
  },
  {
   "cell_type": "code",
   "execution_count": null,
   "id": "e636ef2b-c0d6-407a-8405-fa45c0a5da27",
   "metadata": {
    "tags": []
   },
   "outputs": [],
   "source": [
    "# Send all rasters to GRASS GIS\n",
    "\n",
    "lulc_grs = rst_to_grs(lulc_rst, fprop(lulc_rst, 'fn'))\n",
    "\n",
    "for d in idx_rst:\n",
    "    for k in idx_rst[d]:\n",
    "        idx_rst[d][k] = rst_to_grs(idx_rst[d][k], fprop(idx_rst[d][k], 'fn'))"
   ]
  },
  {
   "cell_type": "markdown",
   "id": "6d121621-b8eb-44e9-9245-02278b7a166c",
   "metadata": {},
   "source": [
    "Para cada classe, índice e data, criar um ficheiro que indica se o pixel deve ser considerado para treino (1) ou não (0)"
   ]
  },
  {
   "cell_type": "code",
   "execution_count": null,
   "id": "88578ac6-5025-4717-9d14-f60e8f70c2da",
   "metadata": {
    "tags": []
   },
   "outputs": [],
   "source": [
    "mask_by_class_day_idx = {}\n",
    "\n",
    "for cls in lulc_class:\n",
    "    mask_by_class_day_idx[cls] = {}\n",
    "    for d in idx_rst:\n",
    "        mask_by_class_day_idx[cls][d] = {}\n",
    "        for k in idx_rst[d]:\n",
    "            if not idx_rules[cls][k]: continue\n",
    "            \n",
    "            form = (\n",
    "                f\"if({lulc_grs} == {str(cls)} && \"\n",
    "                f\"{idx_rst[d][k]} {idx_rules[cls][k]['operator']} \"\n",
    "                f\"{idx_rules[cls][k]['value']}, 1, 0)\"\n",
    "            )\n",
    "            \n",
    "            outmask = f'mask_{cls}_{k}_{d}'\n",
    "            rc = Module ('r.mapcalc', expression=f'{outmask} = {form}')\n",
    "            \n",
    "            mask_by_class_day_idx[cls][d][k] = outmask\n",
    "            \n",
    "            grs_to_rst(outmask, os.path.join(\n",
    "                os.path.dirname(fraster),\n",
    "                f'{outmask}.tif'\n",
    "            ), is_int=True)"
   ]
  },
  {
   "cell_type": "markdown",
   "id": "493a82af-f603-4ffa-9078-2a325a6e191f",
   "metadata": {},
   "source": [
    "Para cada classe e índice, criar um ficheiro que indica se o pixel deve ser incluído no treino (1) ou não (0), tendo em conta as várias máscaras obtidas para essa classe e índice em cada uma das datas consideradas"
   ]
  },
  {
   "cell_type": "markdown",
   "id": "88d6a4cf-cb15-49c2-9981-482eef2555ce",
   "metadata": {},
   "source": [
    "Obter máscara binária final para cada classe"
   ]
  },
  {
   "cell_type": "markdown",
   "id": "f1ca4c81-3456-4a50-b748-6b5f4fc153cc",
   "metadata": {},
   "source": [
    "Obter ficheiro que indica as classes a considerar no treino - neste raster, o valor 0 indica que o pixel não deve ser considerado no treino."
   ]
  },
  {
   "cell_type": "code",
   "execution_count": null,
   "id": "89250596-5272-463f-9287-7923d3d761b5",
   "metadata": {},
   "outputs": [],
   "source": []
  }
 ],
 "metadata": {
  "kernelspec": {
   "display_name": "Python 3 (ipykernel)",
   "language": "python",
   "name": "python3"
  },
  "language_info": {
   "codemirror_mode": {
    "name": "ipython",
    "version": 3
   },
   "file_extension": ".py",
   "mimetype": "text/x-python",
   "name": "python",
   "nbconvert_exporter": "python",
   "pygments_lexer": "ipython3",
   "version": "3.8.10"
  }
 },
 "nbformat": 4,
 "nbformat_minor": 5
}
