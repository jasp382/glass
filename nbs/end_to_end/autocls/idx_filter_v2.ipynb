{
 "cells": [
  {
   "cell_type": "code",
   "execution_count": null,
   "id": "75aef42f-c3bb-431b-9fda-8acc08c7f114",
   "metadata": {
    "tags": []
   },
   "outputs": [],
   "source": [
    "lulc_rst = '/mnt/d/autocls01/fidx/lulc_ref.tif'\n",
    "\n",
    "idx_rst = {\n",
    "    \"20220504\" : {\n",
    "        \"ndvi\" : '/mnt/d/autocls01/fidx/ndvi_20220504.tif',\n",
    "        \"ndbi\" : '/mnt/d/autocls01/fidx/ndbi_20220504.tif',\n",
    "        \"ndwi\" : '/mnt/d/autocls01/fidx/ndwi_20220504.tif'\n",
    "    },\n",
    "    \"20220812\" : {\n",
    "        \"ndvi\" : '/mnt/d/autocls01/fidx/ndvi_20220812.tif',\n",
    "        \"ndbi\" : '/mnt/d/autocls01/fidx/ndbi_20220812.tif',\n",
    "        \"ndwi\" : '/mnt/d/autocls01/fidx/ndwi_20220812.tif'\n",
    "    },\n",
    "    \"20221001\" : {\n",
    "        \"ndvi\" : '/mnt/d/autocls01/fidx/ndvi_20221001.tif',\n",
    "        \"ndbi\" : '/mnt/d/autocls01/fidx/ndbi_20221001.tif',\n",
    "        \"ndwi\" : '/mnt/d/autocls01/fidx/ndwi_20221001.tif'\n",
    "    }\n",
    "}\n",
    "\n",
    "idx_rules = {\n",
    "    1 : {\n",
    "        \"ndbi\" : {'operator' : '>', 'value': 0, },\n",
    "        \"ndvi\" : {'operator' : '<', 'value': 0.3},\n",
    "        \"ndwi\" : {'operator' : '<', 'value': 0}\n",
    "    },\n",
    "    2 : {\n",
    "        \"ndbi\" : None,\n",
    "        \"ndvi\" : {'operator' : '>', 'value': 0.3},\n",
    "        \"ndwi\" : {'operator' : '<', 'value': 0}\n",
    "    },\n",
    "    3 : {\n",
    "        \"ndbi\" : None,\n",
    "        \"ndvi\" : {'operator' : '>', 'value': 0.3},\n",
    "        \"ndwi\" : {'operator' : '<', 'value': 0}\n",
    "    },\n",
    "    4 : {\n",
    "        \"ndbi\" : None,\n",
    "        \"ndvi\" : {'operator' : '>', 'value': 0.3},\n",
    "        \"ndwi\" : {'operator' : '<', 'value': 0}\n",
    "    },\n",
    "    5 : {\n",
    "        \"ndbi\" : None,\n",
    "        \"ndvi\" : {'operator' : '>', 'value': 0.3},\n",
    "        \"ndwi\" : {'operator' : '<', 'value': 0}\n",
    "    },\n",
    "    6 : {\n",
    "        \"ndbi\" : None,\n",
    "        \"ndvi\" : {'operator' : '>', 'value': 0},\n",
    "        \"ndwi\" : {'operator' : '<', 'value': 0}\n",
    "    },\n",
    "    7 : {\n",
    "        \"ndbi\" : None,\n",
    "        \"ndvi\" : {'operator' : '>', 'value': 0},\n",
    "        \"ndwi\" : {'operator' : '<', 'value': 0}\n",
    "    },\n",
    "    8 : {\n",
    "        \"ndbi\" : None,\n",
    "        \"ndvi\" : {'operator' : '<', 'value': 0.3},\n",
    "        \"ndwi\" : {'operator' : '>', 'value': 0}\n",
    "    }\n",
    "}\n",
    "\n",
    "fraster= '/mnt/d/autocls01/fidx/lulc_filter.tif'"
   ]
  },
  {
   "cell_type": "code",
   "execution_count": null,
   "id": "e6664d67-84c5-433c-89bf-8073f8f14007",
   "metadata": {
    "tags": []
   },
   "outputs": [],
   "source": [
    "import os\n",
    "from osgeo import gdal\n",
    "import numpy as np\n",
    "from glass.rd.rst import rst_to_array\n",
    "from glass.prop.rst import get_nodata\n",
    "from glass.pys.oss import lst_ff, fprop\n",
    "from glass.wenv.grs import run_grass\n",
    "from glass.pys.tm import now_as_str"
   ]
  },
  {
   "cell_type": "code",
   "execution_count": null,
   "id": "4771f886-cf65-4508-b797-f430535ebe37",
   "metadata": {
    "tags": []
   },
   "outputs": [],
   "source": [
    "# Check if outfolder exists\n",
    "out_folder = os.path.dirname(fraster)\n",
    "if not os.path.exists(out_folder):\n",
    "    mkdir(out_folder, overwrite=None)\n",
    "    \n",
    "\"\"\"\n",
    "Start GRASS GIS Session\n",
    "\"\"\"\n",
    "\n",
    "loc = f'loc_{now_as_str()}'\n",
    "grsb = run_grass(\n",
    "    out_folder, grassBIN='grass78', location=loc,\n",
    "    srs=lulc_rst\n",
    "    )\n",
    "\n",
    "import grass.script.setup as gsetup\n",
    "    \n",
    "gsetup.init(grsb, out_folder, loc, 'PERMANENT')"
   ]
  },
  {
   "cell_type": "code",
   "execution_count": null,
   "id": "9cadc0a7-8219-47a8-9318-d964541dfcd6",
   "metadata": {
    "tags": []
   },
   "outputs": [],
   "source": [
    "from glass.it.rst import rst_to_grs, grs_to_rst\n",
    "from grass.pygrass.modules import Module"
   ]
  },
  {
   "cell_type": "code",
   "execution_count": null,
   "id": "29554cb7-9697-4fbe-b72d-7a7fa61f7abe",
   "metadata": {
    "tags": []
   },
   "outputs": [],
   "source": [
    "# Identificar classes existentes no raster com as classes de LULC\n",
    "\n",
    "lulc_img = rst_to_array(lulc_rst)\n",
    "\n",
    "ndval = get_nodata(lulc_rst)\n",
    "\n",
    "lulc_class = [v for v in np.unique(lulc_img) if v != ndval]"
   ]
  },
  {
   "cell_type": "code",
   "execution_count": null,
   "id": "fa869364-90db-4d69-9d1b-46711cf543f4",
   "metadata": {
    "tags": []
   },
   "outputs": [],
   "source": [
    "print(lulc_class)"
   ]
  },
  {
   "cell_type": "code",
   "execution_count": null,
   "id": "e636ef2b-c0d6-407a-8405-fa45c0a5da27",
   "metadata": {
    "tags": []
   },
   "outputs": [],
   "source": [
    "# Send all rasters to GRASS GIS\n",
    "\n",
    "lulc_grs = rst_to_grs(lulc_rst, fprop(lulc_rst, 'fn'))\n",
    "\n",
    "for d in idx_rst:\n",
    "    for k in idx_rst[d]:\n",
    "        idx_rst[d][k] = rst_to_grs(idx_rst[d][k], fprop(idx_rst[d][k], 'fn'))"
   ]
  },
  {
   "cell_type": "code",
   "execution_count": null,
   "id": "9cccd9ae-b5ee-42ef-b929-91b07b0729e7",
   "metadata": {
    "tags": []
   },
   "outputs": [],
   "source": [
    "idx_rst"
   ]
  },
  {
   "cell_type": "markdown",
   "id": "6d121621-b8eb-44e9-9245-02278b7a166c",
   "metadata": {},
   "source": [
    "Para cada índice de uma determinada data, criar um ficheiro que indica a classe dos pixeis a incluir no treino (basta ter em conta o valor do índice)"
   ]
  },
  {
   "cell_type": "code",
   "execution_count": null,
   "id": "9f9c0dd7-1798-4503-8a69-6c81dad227da",
   "metadata": {
    "tags": []
   },
   "outputs": [],
   "source": [
    "mask_by_day"
   ]
  },
  {
   "cell_type": "code",
   "execution_count": null,
   "id": "b2b1e4fd-5abe-4560-b956-1ddfdf983586",
   "metadata": {
    "tags": []
   },
   "outputs": [],
   "source": [
    "mask_by_day = {}\n",
    "for d in idx_rst:\n",
    "    idxd = {}\n",
    "    for k in idx_rst[d]:\n",
    "        ifs = []\n",
    "        \n",
    "        for c in range(len(lulc_class)):\n",
    "            _i = len(lulc_class) - 1 - c\n",
    "            \n",
    "            if not idx_rules[lulc_class[_i]][k]: continue\n",
    "            \n",
    "            form = (\n",
    "                f\"if({lulc_grs} == {str(lulc_class[_i])} && \"\n",
    "                f\"{idx_rst[d][k]} {idx_rules[lulc_class[_i]][k]['operator']} \"\n",
    "                f\"{idx_rules[lulc_class[_i]][k]['value']}, {str(lulc_class[_i])}, \"\n",
    "                f\"{'0' if not len(ifs) else ifs[c-1]})\"\n",
    "            )\n",
    "            ifs.append(form)\n",
    "        \n",
    "        outmask = f'mask_{k}_{d}'\n",
    "        rc = Module ('r.mapcalc', expression=f'{outmask} = {ifs[-1]}')\n",
    "        \n",
    "        idxd[k] = outmask\n",
    "    \n",
    "    mask_by_day[d] = idxd"
   ]
  },
  {
   "cell_type": "code",
   "execution_count": null,
   "id": "d2571b3c-f864-4766-b35e-f74c71f13eb4",
   "metadata": {
    "tags": []
   },
   "outputs": [],
   "source": [
    "for d in mask_by_day:\n",
    "    for k in mask_by_day[d]:\n",
    "        grs_to_rst(mask_by_day[d][k], os.path.join(\n",
    "            os.path.dirname(fraster),\n",
    "            f'{mask_by_day[d][k]}.tif'\n",
    "        ), is_int=True)"
   ]
  },
  {
   "cell_type": "code",
   "execution_count": null,
   "id": "e11c0357-3461-47ba-b6c2-a6c6b70f7911",
   "metadata": {},
   "outputs": [],
   "source": []
  },
  {
   "cell_type": "markdown",
   "id": "493a82af-f603-4ffa-9078-2a325a6e191f",
   "metadata": {},
   "source": [
    "Para cada índice, criar um ficheiro que indica a classe dos pixeis a incluir no treino, tendo em conta as máscaras obtidas em cada data considerada"
   ]
  },
  {
   "cell_type": "markdown",
   "id": "88d6a4cf-cb15-49c2-9981-482eef2555ce",
   "metadata": {},
   "source": [
    "Obter máscara final a partir das máscaras produzidas para cada índice"
   ]
  }
 ],
 "metadata": {
  "kernelspec": {
   "display_name": "Python 3 (ipykernel)",
   "language": "python",
   "name": "python3"
  },
  "language_info": {
   "codemirror_mode": {
    "name": "ipython",
    "version": 3
   },
   "file_extension": ".py",
   "mimetype": "text/x-python",
   "name": "python",
   "nbconvert_exporter": "python",
   "pygments_lexer": "ipython3",
   "version": "3.8.10"
  }
 },
 "nbformat": 4,
 "nbformat_minor": 5
}
