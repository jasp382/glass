{
 "cells": [
  {
   "cell_type": "code",
   "execution_count": null,
   "id": "ee20ae63-217b-49ab-996a-90ae50a50985",
   "metadata": {},
   "outputs": [],
   "source": [
    "from glass.prj import proj\n",
    "\n",
    "in_shp = '/mnt/d/a2autocls2023/urbanatlas/ua2018_funchal.shp'\n",
    "\n",
    "ou_shp = '/mnt/d/a2autocls2023/urbanatlas/funchal/ua18.shp'\n",
    "\n",
    "oepsg = 32628\n",
    "\n",
    "proj(in_shp, ou_shp, oepsg, api='ogr2ogr')"
   ]
  },
  {
   "cell_type": "code",
   "execution_count": null,
   "id": "fb99c688-5f81-4f8d-837b-0c2ecbf9fb4a",
   "metadata": {},
   "outputs": [],
   "source": []
  }
 ],
 "metadata": {
  "kernelspec": {
   "display_name": "Python 3 (ipykernel)",
   "language": "python",
   "name": "python3"
  },
  "language_info": {
   "codemirror_mode": {
    "name": "ipython",
    "version": 3
   },
   "file_extension": ".py",
   "mimetype": "text/x-python",
   "name": "python",
   "nbconvert_exporter": "python",
   "pygments_lexer": "ipython3",
   "version": "3.8.10"
  }
 },
 "nbformat": 4,
 "nbformat_minor": 5
}
