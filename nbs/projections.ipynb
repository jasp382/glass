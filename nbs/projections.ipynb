{
 "cells": [
  {
   "cell_type": "code",
   "execution_count": null,
   "id": "ee20ae63-217b-49ab-996a-90ae50a50985",
   "metadata": {
    "tags": []
   },
   "outputs": [],
   "source": [
    "from glass.prj import proj\n",
    "\n",
    "in_shp = '/mnt/e/rms/azores/rms_bgri11_o.shp'\n",
    "\n",
    "ou_shp = '/mnt/e/rms/azores/rms_bgri11_wgs.shp'\n",
    "\n",
    "oepsg = 4326\n",
    "\n",
    "proj(in_shp, ou_shp, oepsg, api='ogr2ogr')"
   ]
  },
  {
   "cell_type": "code",
   "execution_count": null,
   "id": "fb99c688-5f81-4f8d-837b-0c2ecbf9fb4a",
   "metadata": {},
   "outputs": [],
   "source": [
    "from glass.prop.prj import get_epsg\n",
    "\n",
    "ishp = '/mnt/e/rms/azores/rms_bgri11_pnt.shp'\n",
    "#ishp = '/mnt/e/rms/lulc/evu_azores.shp'\n",
    "epsg = get_epsg(ishp)"
   ]
  },
  {
   "cell_type": "code",
   "execution_count": null,
   "id": "4e803d44-5323-4a18-b401-5fec64e7718b",
   "metadata": {
    "tags": []
   },
   "outputs": [],
   "source": [
    "epsg"
   ]
  },
  {
   "cell_type": "code",
   "execution_count": null,
   "id": "ae12022f-2a03-48c0-9b7d-1fa38497ea79",
   "metadata": {},
   "outputs": [],
   "source": []
  }
 ],
 "metadata": {
  "kernelspec": {
   "display_name": "Python 3 (ipykernel)",
   "language": "python",
   "name": "python3"
  },
  "language_info": {
   "codemirror_mode": {
    "name": "ipython",
    "version": 3
   },
   "file_extension": ".py",
   "mimetype": "text/x-python",
   "name": "python",
   "nbconvert_exporter": "python",
   "pygments_lexer": "ipython3",
   "version": "3.10.12"
  }
 },
 "nbformat": 4,
 "nbformat_minor": 5
}
