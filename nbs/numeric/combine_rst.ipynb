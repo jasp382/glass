{
 "cells": [
  {
   "cell_type": "code",
   "execution_count": null,
   "metadata": {},
   "outputs": [],
   "source": [
    "\"\"\"\n",
    "Replace NoData values of one raster with values of a second raster\n",
    "\"\"\"\n",
    "\n",
    "refs = {\n",
    "    'pnse_osm' : '/mnt/d/gwork/osm2lulc_imgcls/rs_paper/res_osm2lulc/rst_pnse_osmlulc.tif',\n",
    "    'pnse_td0' : '/mnt/d/gwork/osm2lulc_imgcls/rs_paper/train_pnse/pnse_trainf0.tif',\n",
    "    'pnse_td1' : '/mnt/d/gwork/osm2lulc_imgcls/rs_paper/train_pnse/pnse_trainf1.tif',\n",
    "    'pnse_td2' : '/mnt/d/gwork/osm2lulc_imgcls/rs_paper/train_pnse/pnse_trainf2.tif'\n",
    "}\n",
    "\n",
    "vals = {\n",
    "    'clsf0' : '/mnt/d/gwork/osm2lulc_imgcls/rs_paper/results_randomforest/pnse_f0_500k_4x3_05kt.tif',\n",
    "    'clsf1' : '/mnt/d/gwork/osm2lulc_imgcls/rs_paper/results_randomforest/pnse_f1_500k_4x3_05kt.tif',\n",
    "    'clsf2' : '/mnt/d/gwork/osm2lulc_imgcls/rs_paper/results_randomforest/pnse_f2_500k_4x3_05kt.tif'\n",
    "}\n",
    "\n",
    "outf = '/mnt/d/gwork/osm2lulc_imgcls/rs_paper/res_hybrid'\n",
    "\n",
    "import os\n",
    "from glass.rst.alg import repnd_by_rstval\n",
    "\n",
    "for k in refs:\n",
    "    for _k in vals:\n",
    "        repnd_by_rstval(\n",
    "            refs[k], vals[_k], os.path.join(outf, '{}_{}.tif'.format(k, _k))\n",
    "        )"
   ]
  },
  {
   "cell_type": "code",
   "execution_count": null,
   "metadata": {},
   "outputs": [],
   "source": []
  }
 ],
 "metadata": {
  "kernelspec": {
   "display_name": "Python 3 (ipykernel)",
   "language": "python",
   "name": "python3"
  },
  "language_info": {
   "codemirror_mode": {
    "name": "ipython",
    "version": 3
   },
   "file_extension": ".py",
   "mimetype": "text/x-python",
   "name": "python",
   "nbconvert_exporter": "python",
   "pygments_lexer": "ipython3",
   "version": "3.10.12"
  }
 },
 "nbformat": 4,
 "nbformat_minor": 4
}
