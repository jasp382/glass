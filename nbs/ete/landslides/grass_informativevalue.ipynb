{
 "cells": [
  {
   "cell_type": "code",
   "execution_count": 1,
   "metadata": {},
   "outputs": [],
   "source": [
    "movs = '/mnt/d/mystuff/pwgis/mod5/mov/movrst.tif'\n",
    "\n",
    "_var = '/mnt/d/mystuff/pwgis/mod5/var/'\n",
    "\n",
    "refrst = '/mnt/d/mystuff/pwgis/mod5/mdt.tif'\n",
    "\n",
    "out = '/mnt/d/mystuff/pwgis/mod5/ivmad.tif'"
   ]
  },
  {
   "cell_type": "code",
   "execution_count": 2,
   "metadata": {},
   "outputs": [],
   "source": [
    "import os\n",
    "import math as m\n",
    "import datetime as dt\n",
    "from glass.gp.ext   import rstext_to_rst\n",
    "from glass.prop     import check_isRaster\n",
    "from glass.prop.rst import rst_shape, frequencies\n",
    "from glass.wenv.grs import run_grass\n",
    "from glass.pys.oss    import lst_ff, fprop"
   ]
  },
  {
   "cell_type": "code",
   "execution_count": 3,
   "metadata": {},
   "outputs": [],
   "source": [
    "time_a = dt.datetime.now().replace(microsecond=0)"
   ]
  },
  {
   "cell_type": "code",
   "execution_count": 4,
   "metadata": {},
   "outputs": [],
   "source": [
    "# Get reference raster\n",
    "ws = os.path.dirname(out)\n",
    "\n",
    "refrst = rstext_to_rst(refrst, os.path.join(ws, 'refrst.tif'))"
   ]
  },
  {
   "cell_type": "code",
   "execution_count": 5,
   "metadata": {},
   "outputs": [],
   "source": [
    "# List raster files\n",
    "\n",
    "rstvar = lst_ff(_var, file_format='tif')\n",
    "\n",
    "# Get Reference shape\n",
    "refshape = rst_shape(refrst)\n",
    "\n",
    "# Get Variables Raster Shape and see if there is any difference\n",
    "varshp = rst_shape(rstvar)\n",
    "\n",
    "for r in varshp:\n",
    "    if varshp[r] != refshape:\n",
    "        raise ValueError((\n",
    "            f'All rasters must have the same dimension! '\n",
    "            f'{r} have different shape when compared with refrst!'\n",
    "        ))"
   ]
  },
  {
   "cell_type": "code",
   "execution_count": 6,
   "metadata": {},
   "outputs": [
    {
     "data": {
      "text/plain": [
       "['/mnt/d/mystuff/pwgis/mod5/var/aspect.tif',\n",
       " '/mnt/d/mystuff/pwgis/mod5/var/elevation.tif',\n",
       " '/mnt/d/mystuff/pwgis/mod5/var/geologia.tif',\n",
       " '/mnt/d/mystuff/pwgis/mod5/var/slope.tif',\n",
       " '/mnt/d/mystuff/pwgis/mod5/var/varcurv.tif',\n",
       " '/mnt/d/mystuff/pwgis/mod5/var/varinvtopoidx.tif',\n",
       " '/mnt/d/mystuff/pwgis/mod5/var/varroads.tif',\n",
       " '/mnt/d/mystuff/pwgis/mod5/var/vartiposolo.tif',\n",
       " '/mnt/d/mystuff/pwgis/mod5/var/varusosolo2.tif',\n",
       " '/mnt/d/mystuff/pwgis/mod5/var/varwater.tif']"
      ]
     },
     "execution_count": 6,
     "metadata": {},
     "output_type": "execute_result"
    }
   ],
   "source": [
    "rstvar"
   ]
  },
  {
   "cell_type": "code",
   "execution_count": 7,
   "metadata": {},
   "outputs": [
    {
     "data": {
      "text/plain": [
       "'/tmp/tmpk6rkzhpn'"
      ]
     },
     "execution_count": 7,
     "metadata": {},
     "output_type": "execute_result"
    }
   ],
   "source": [
    "# Start GRASS GIS Session\n",
    "\n",
    "# Get name for GRASS GIS location\n",
    "loc = fprop(movs, 'fn', forceLower=True)[:5] + '_loc'\n",
    "\n",
    "# Create GRASS GIS location\n",
    "gbase = run_grass(ws, location=loc, srs=refrst)\n",
    "\n",
    "# Start GRASS GIS Session\n",
    "import grass.script.setup as gsetup\n",
    "\n",
    "gsetup.init(gbase, ws, loc, 'PERMANENT')"
   ]
  },
  {
   "cell_type": "code",
   "execution_count": 8,
   "metadata": {},
   "outputs": [],
   "source": [
    "from glass.it.shp  import shp_to_grs\n",
    "from glass.it.rst   import rst_to_grs, grs_to_rst\n",
    "from glass.dp.torst import grsshp_to_grsrst\n",
    "from glass.rst.rcls import category_rules, rcls_rst\n",
    "from glass.rst.alg import rstcalc"
   ]
  },
  {
   "cell_type": "code",
   "execution_count": 9,
   "metadata": {},
   "outputs": [],
   "source": [
    "# Check if movs are raster\n",
    "is_rst = check_isRaster(movs)\n",
    "\n",
    "if is_rst:\n",
    "    movrst = rst_to_grs(movs, fprop(movs, 'fn', forceLower=True))\n",
    "\n",
    "else:\n",
    "    movshp = shp_to_grs(movs, fprop(movs, 'fn', forceLower=True), asCMD=True)\n",
    "    \n",
    "    # To raster\n",
    "    movrst = grsshp_to_grsrst(movshp, 1, f'rst_{movshp}', cmd=True)"
   ]
  },
  {
   "cell_type": "code",
   "execution_count": 10,
   "metadata": {},
   "outputs": [],
   "source": [
    "# Add rasters to GRASS GIS\n",
    "grsvar = [rst_to_grs(r, fprop(r, 'fn', forceLower=True)) for r in rstvar]"
   ]
  },
  {
   "cell_type": "code",
   "execution_count": 11,
   "metadata": {},
   "outputs": [],
   "source": [
    "# Get raster representing areas with values\n",
    "gref = rst_to_grs(refrst, 'refrst')\n",
    "grs_to_rst(gref, os.path.join(ws, loc, f\"{gref}.tif\"), as_cmd=True)\n",
    "\n",
    "i = 1\n",
    "for r in grsvar:\n",
    "    gref = rstcalc(f\"int({r} * {gref})\", f\"refrst_{str(i)}\", api='grass')\n",
    "    grs_to_rst(gref, os.path.join(ws, loc, f\"{gref}.tif\"), as_cmd=True)\n",
    "    i += 1"
   ]
  },
  {
   "cell_type": "code",
   "execution_count": 12,
   "metadata": {},
   "outputs": [],
   "source": [
    "# Ensure that we have only cells with data in all rasters\n",
    "\n",
    "refrules = category_rules({0 : 1}, os.path.join(ws, loc, 'refrules.txt'))\n",
    "\n",
    "gref = rcls_rst(gref, refrules, f'rcls_{gref}', api=\"pygrass\")\n",
    "#grs_to_rst(gref, os.path.join(ws, loc, f\"{gref}.tif\"), as_cmd=True)\n",
    "\n",
    "grsvar = [rstcalc(f\"{r} * {gref}\", f\"{r}_san\", api='grass') for r in grsvar]"
   ]
  },
  {
   "cell_type": "code",
   "execution_count": 13,
   "metadata": {},
   "outputs": [],
   "source": [
    "# Export rasters to get frequencies\n",
    "filevar = {r : grs_to_rst(r, os.path.join(\n",
    "    ws, loc, f\"{r}.tif\"\n",
    "), as_cmd=True) for r in grsvar}"
   ]
  },
  {
   "cell_type": "code",
   "execution_count": 14,
   "metadata": {},
   "outputs": [],
   "source": [
    "# Get raster frequencies\n",
    "\n",
    "# Negative nodata values are not allowed\n",
    "rstfreq = {r : frequencies(filevar[r]) for r in filevar}"
   ]
  },
  {
   "cell_type": "code",
   "execution_count": 15,
   "metadata": {},
   "outputs": [],
   "source": [
    "# Count total cells\n",
    "i = 0\n",
    "for r in rstfreq:\n",
    "    if not i:\n",
    "        totalcells = 0\n",
    "        for v in rstfreq[r]:\n",
    "            totalcells += rstfreq[r][v]\n",
    "        \n",
    "        i += 1\n",
    "    \n",
    "    else:\n",
    "        __totalcells = 0\n",
    "        for v in rstfreq[r]:\n",
    "            __totalcells += rstfreq[r][v]\n",
    "        \n",
    "        if __totalcells != totalcells:\n",
    "            raise ValueError(f'{r} has a different number of cells with data')"
   ]
  },
  {
   "cell_type": "code",
   "execution_count": 16,
   "metadata": {},
   "outputs": [],
   "source": [
    "# Intersect landslides raster with var rasters\n",
    "varwithmov = [rstcalc(f\"{movrst} * {r}\", f\"mov_{r}\", api='grass') for r in grsvar]"
   ]
  },
  {
   "cell_type": "code",
   "execution_count": 17,
   "metadata": {},
   "outputs": [],
   "source": [
    "# Export rasters to get frequencies\n",
    "filemov = {grsvar[i] : grs_to_rst(varwithmov[i], os.path.join(\n",
    "    ws, loc, f\"{varwithmov[i]}.tif\"\n",
    "), as_cmd=True) for i in range(len(varwithmov))}"
   ]
  },
  {
   "cell_type": "code",
   "execution_count": 18,
   "metadata": {},
   "outputs": [],
   "source": [
    "# Get raster frequencies\n",
    "\n",
    "# Negative nodata values are not allowed\n",
    "rstmovfreq = {r : frequencies(filemov[r]) for r in filemov}"
   ]
  },
  {
   "cell_type": "code",
   "execution_count": 19,
   "metadata": {},
   "outputs": [],
   "source": [
    "# Count total cells with landslides\n",
    "i = 0\n",
    "for r in rstmovfreq:\n",
    "    if not i:\n",
    "        totalmov = 0\n",
    "        for v in rstmovfreq[r]:\n",
    "            totalmov += rstmovfreq[r][v]\n",
    "        \n",
    "        i += 1\n",
    "    \n",
    "    else:\n",
    "        __totalmov = 0\n",
    "        for v in rstmovfreq[r]:\n",
    "            __totalmov += rstmovfreq[r][v]\n",
    "        \n",
    "        if __totalmov != totalmov:\n",
    "            raise ValueError(f'{r} has a different number of cells with data')"
   ]
  },
  {
   "cell_type": "code",
   "execution_count": 20,
   "metadata": {},
   "outputs": [],
   "source": [
    "# Estimate VI for each class of every variable\n",
    "\n",
    "vi = {}\n",
    "\n",
    "denom = totalmov / totalcells\n",
    "for r in rstfreq:\n",
    "    vi[r] = {}\n",
    "    for cls in rstfreq[r]:\n",
    "        if cls in rstmovfreq[r]:\n",
    "            vi[r][cls] = m.log10(\n",
    "                (rstmovfreq[r][cls] / rstfreq[r][cls]) / denom\n",
    "            )\n",
    "        \n",
    "        else:\n",
    "            vi[r][cls] = 9999"
   ]
  },
  {
   "cell_type": "code",
   "execution_count": 21,
   "metadata": {},
   "outputs": [],
   "source": [
    "# Replace Classes without VI, from 9999 to minimum VI\n",
    "vis = []\n",
    "for d in vi.values():\n",
    "    vis += d.values()\n",
    "\n",
    "min_vi = int(round(min(vis), 4) * 10000)\n",
    "\n",
    "for r in vi:\n",
    "    for cls in vi[r]:\n",
    "        if vi[r][cls] == 9999:\n",
    "            vi[r][cls] = min_vi\n",
    "        else:\n",
    "            vi[r][cls] = int(round(vi[r][cls], 4) * 10000)"
   ]
  },
  {
   "cell_type": "code",
   "execution_count": 22,
   "metadata": {},
   "outputs": [],
   "source": [
    "# Reclassify\n",
    "\n",
    "vivar = []\n",
    "for r in grsvar:\n",
    "    rules = category_rules(\n",
    "        vi[r], os.path.join(ws, loc, f'vi_{r}.txt')\n",
    "    )\n",
    "\n",
    "    virst = rcls_rst(r, rules, f'vi_{r}', api=\"pygrass\")\n",
    "    \n",
    "    vivar.append(virst)\n",
    "\n",
    "# Integer to float\n",
    "virst = [rstcalc(f\"{r} / 10000.0\", f\"{r}_f\", api='grass') for r in vivar]"
   ]
  },
  {
   "cell_type": "code",
   "execution_count": 23,
   "metadata": {},
   "outputs": [],
   "source": [
    "# Sum results\n",
    "virstfinal = rstcalc(\" + \".join(virst), fprop(out, 'fn'), api='grass')\n",
    "\n",
    "fffinal = grs_to_rst(virstfinal, out)"
   ]
  },
  {
   "cell_type": "code",
   "execution_count": 24,
   "metadata": {},
   "outputs": [],
   "source": [
    "time_b = dt.datetime.now().replace(microsecond=0)"
   ]
  },
  {
   "cell_type": "code",
   "execution_count": 25,
   "metadata": {},
   "outputs": [
    {
     "name": "stdout",
     "output_type": "stream",
     "text": [
      "0:01:56\n"
     ]
    }
   ],
   "source": [
    "print(time_b - time_a)"
   ]
  },
  {
   "cell_type": "code",
   "execution_count": null,
   "metadata": {},
   "outputs": [],
   "source": []
  }
 ],
 "metadata": {
  "kernelspec": {
   "display_name": "Python 3",
   "language": "python",
   "name": "python3"
  },
  "language_info": {
   "codemirror_mode": {
    "name": "ipython",
    "version": 3
   },
   "file_extension": ".py",
   "mimetype": "text/x-python",
   "name": "python",
   "nbconvert_exporter": "python",
   "pygments_lexer": "ipython3",
   "version": "3.8.5"
  }
 },
 "nbformat": 4,
 "nbformat_minor": 4
}
