{
 "cells": [
  {
   "cell_type": "code",
   "execution_count": null,
   "id": "bc46ac97-1862-482d-9a46-16ee6755a5d0",
   "metadata": {
    "tags": []
   },
   "outputs": [],
   "source": [
    "import os\n",
    "from glass.ind.pop import calc_iwpop_agg, calc_weighted_mean\n",
    "from glass.pys.oss import fprop"
   ]
  },
  {
   "cell_type": "code",
   "execution_count": null,
   "id": "cd423e26-863d-43aa-8fea-f72acee9ed2e",
   "metadata": {
    "tags": []
   },
   "outputs": [],
   "source": [
    "units = '/mnt/e/rms/results21/rms_freg_mad_v3.shp'\n",
    "\n",
    "mapunits_id = 'idfreg'\n",
    "\n",
    "subunits = '/mnt/e/rms/madeira/rms_bgri21.shp'\n",
    "\n",
    "mapunits_fk = 'idfreg'\n",
    "\n",
    "cols = {\n",
    "    #'dhsp'  : 'dhsp',\n",
    "    'dcs'  : 'dcs',\n",
    "    #'devu' : 'devu',\n",
    "    'did' : 'did'\n",
    "    #'dcreche' : 'dcreche'\n",
    "}\n",
    "\n",
    "pop = {\n",
    "    #'dhsp'  : 'pop21',\n",
    "    'dcs'   : 'pop',\n",
    "    'did'   : 'pop65'\n",
    "    #'devu'  : 'pop21',\n",
    "    #'didos' : 'pop65m'\n",
    "    #'dcreche' : 'pop0a4'\n",
    "}\n",
    "\n",
    "output = '/mnt/e/rms/results21'\n",
    "\n",
    "calct = 'mean'\n",
    "\n",
    "i = 1\n",
    "\n",
    "bname = fprop(units, 'fn')\n",
    "\n",
    "for c in cols:\n",
    "    oshp = os.path.join(output, f'{bname}_{str(i)}.shp')\n",
    "    if calct == 'mean':\n",
    "        units = calc_weighted_mean(\n",
    "            units, mapunits_id, subunits, mapunits_fk,\n",
    "            cols[c], pop[c], c, oshp\n",
    "        )\n",
    "\n",
    "    else:\n",
    "        units = calc_iwpop_agg(\n",
    "            units, mapunits_id, subunits, mapunits_fk,\n",
    "            cols[c], pop[c], c, oshp\n",
    "        )\n",
    "    i+=1"
   ]
  },
  {
   "cell_type": "code",
   "execution_count": null,
   "id": "42af1d6c-12f5-4a92-be70-cd86c3a0daa9",
   "metadata": {},
   "outputs": [],
   "source": [
    "units = '/mnt/d/rms/results21/rms_mun_v6.shp'\n",
    "\n",
    "mapunits_id = 'idmun'\n",
    "\n",
    "subunits = '/mnt/d/rms/admin_data/rms_bgri21.shp'\n",
    "\n",
    "mapunits_fk = 'idmun'\n",
    "\n",
    "indicator_col = 'didoso'\n",
    "\n",
    "pop_col = 'pop2165m'\n",
    "\n",
    "out_col = 'didoso'\n",
    "\n",
    "output = '/mnt/d/rms/results21/rms_mun_v7.shp'\n",
    "\n",
    "calc_iwpop_agg(\n",
    "    units, mapunits_id, subunits, mapunits_fk,\n",
    "    indicator_col, pop_col, out_col, output\n",
    ")"
   ]
  },
  {
   "cell_type": "code",
   "execution_count": null,
   "id": "f8536865-d517-4154-a1c4-12f7ea61b705",
   "metadata": {},
   "outputs": [],
   "source": []
  }
 ],
 "metadata": {
  "kernelspec": {
   "display_name": "Python 3 (ipykernel)",
   "language": "python",
   "name": "python3"
  },
  "language_info": {
   "codemirror_mode": {
    "name": "ipython",
    "version": 3
   },
   "file_extension": ".py",
   "mimetype": "text/x-python",
   "name": "python",
   "nbconvert_exporter": "python",
   "pygments_lexer": "ipython3",
   "version": "3.8.10"
  }
 },
 "nbformat": 4,
 "nbformat_minor": 5
}
