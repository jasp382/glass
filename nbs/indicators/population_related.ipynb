{
 "cells": [
  {
   "cell_type": "code",
   "execution_count": 1,
   "id": "bc46ac97-1862-482d-9a46-16ee6755a5d0",
   "metadata": {},
   "outputs": [],
   "source": [
    "from glass.ind.pop import calc_iwpop_agg"
   ]
  },
  {
   "cell_type": "code",
   "execution_count": 2,
   "id": "cd423e26-863d-43aa-8fea-f72acee9ed2e",
   "metadata": {},
   "outputs": [],
   "source": [
    "units = '/mnt/d/rms/results/rms_freg_v9.shp'\n",
    "\n",
    "mapunits_id = 'idfreg'\n",
    "\n",
    "subunits = '/mnt/d/rms/admin_data/rms_bgri.shp'\n",
    "\n",
    "mapunits_fk = 'idfreg'\n",
    "\n",
    "indicator_col = 'dcs'\n",
    "\n",
    "pop_col = 'popres'\n",
    "\n",
    "out_col = 'dstcs'\n",
    "\n",
    "output = '/mnt/d/rms/results/rms_freg_v10.shp'\n",
    "\n",
    "calc_iwpop_agg(\n",
    "    units, mapunits_id, subunits, mapunits_fk,\n",
    "    indicator_col, pop_col, out_col, output\n",
    ")"
   ]
  },
  {
   "cell_type": "code",
   "execution_count": 3,
   "id": "ebc4e9a2-23aa-44b9-9c89-6da8bd391c94",
   "metadata": {},
   "outputs": [
    {
     "name": "stderr",
     "output_type": "stream",
     "text": [
      "/home/jasp/.virtualenvs/genv/lib/python3.8/site-packages/geopandas/_compat.py:112: UserWarning: The Shapely GEOS version (3.10.2-CAPI-1.16.0) is incompatible with the GEOS version PyGEOS was compiled with (3.10.4-CAPI-1.16.2). Conversions between both will be slow.\n",
      "  warnings.warn(\n"
     ]
    },
    {
     "data": {
      "text/plain": [
       "'/mnt/d/rms/results/rms_freg_v10.shp'"
      ]
     },
     "execution_count": 3,
     "metadata": {},
     "output_type": "execute_result"
    }
   ],
   "source": [
    "calc_iwpop_agg(\n",
    "    units, mapunits_id, subunits, mapunits_fk,\n",
    "    indicator_col, pop_col, out_col, output\n",
    ")"
   ]
  },
  {
   "cell_type": "code",
   "execution_count": 4,
   "id": "42af1d6c-12f5-4a92-be70-cd86c3a0daa9",
   "metadata": {},
   "outputs": [
    {
     "data": {
      "text/plain": [
       "'/mnt/d/rms/results/rms_mun_v8.shp'"
      ]
     },
     "execution_count": 4,
     "metadata": {},
     "output_type": "execute_result"
    }
   ],
   "source": [
    "units = '/mnt/d/rms/results/rms_mun_v7.shp'\n",
    "\n",
    "mapunits_id = 'idmun'\n",
    "\n",
    "subunits = '/mnt/d/rms/admin_data/rms_bgri.shp'\n",
    "\n",
    "mapunits_fk = 'idmun'\n",
    "\n",
    "indicator_col = 'dcs'\n",
    "\n",
    "pop_col = 'popres'\n",
    "\n",
    "out_col = 'dstcs'\n",
    "\n",
    "output = '/mnt/d/rms/results/rms_mun_v8.shp'\n",
    "\n",
    "calc_iwpop_agg(\n",
    "    units, mapunits_id, subunits, mapunits_fk,\n",
    "    indicator_col, pop_col, out_col, output\n",
    ")"
   ]
  },
  {
   "cell_type": "code",
   "execution_count": null,
   "id": "f8536865-d517-4154-a1c4-12f7ea61b705",
   "metadata": {},
   "outputs": [],
   "source": []
  }
 ],
 "metadata": {
  "kernelspec": {
   "display_name": "Python 3 (ipykernel)",
   "language": "python",
   "name": "python3"
  },
  "language_info": {
   "codemirror_mode": {
    "name": "ipython",
    "version": 3
   },
   "file_extension": ".py",
   "mimetype": "text/x-python",
   "name": "python",
   "nbconvert_exporter": "python",
   "pygments_lexer": "ipython3",
   "version": "3.8.10"
  }
 },
 "nbformat": 4,
 "nbformat_minor": 5
}
