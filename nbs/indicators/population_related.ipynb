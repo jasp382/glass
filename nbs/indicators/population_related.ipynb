{
 "cells": [
  {
   "cell_type": "code",
   "execution_count": null,
   "id": "bc46ac97-1862-482d-9a46-16ee6755a5d0",
   "metadata": {
    "tags": []
   },
   "outputs": [],
   "source": [
    "from glass.ind.pop import calc_iwpop_agg"
   ]
  },
  {
   "cell_type": "code",
   "execution_count": null,
   "id": "cd423e26-863d-43aa-8fea-f72acee9ed2e",
   "metadata": {
    "tags": []
   },
   "outputs": [],
   "source": [
    "units = '/mnt/e/rms/results21/rms_mun_azores_v3.shp'\n",
    "\n",
    "mapunits_id = 'idmun'\n",
    "\n",
    "subunits = '/mnt/e/rms/azores/rms_bgri21.shp'\n",
    "\n",
    "mapunits_fk = 'idmun'\n",
    "\n",
    "indicator_col = 'idosos'\n",
    "\n",
    "pop_col = 'pop65m'\n",
    "\n",
    "out_col = 'idosos'\n",
    "\n",
    "output = '/mnt/e/rms/results21/rms_mun_azores_v5.shp'\n",
    "\n",
    "calc_iwpop_agg(\n",
    "    units, mapunits_id, subunits, mapunits_fk,\n",
    "    indicator_col, pop_col, out_col, output\n",
    ")"
   ]
  },
  {
   "cell_type": "code",
   "execution_count": null,
   "id": "42af1d6c-12f5-4a92-be70-cd86c3a0daa9",
   "metadata": {},
   "outputs": [],
   "source": [
    "units = '/mnt/d/rms/results21/rms_mun_v6.shp'\n",
    "\n",
    "mapunits_id = 'idmun'\n",
    "\n",
    "subunits = '/mnt/d/rms/admin_data/rms_bgri21.shp'\n",
    "\n",
    "mapunits_fk = 'idmun'\n",
    "\n",
    "indicator_col = 'didoso'\n",
    "\n",
    "pop_col = 'pop2165m'\n",
    "\n",
    "out_col = 'didoso'\n",
    "\n",
    "output = '/mnt/d/rms/results21/rms_mun_v7.shp'\n",
    "\n",
    "calc_iwpop_agg(\n",
    "    units, mapunits_id, subunits, mapunits_fk,\n",
    "    indicator_col, pop_col, out_col, output\n",
    ")"
   ]
  },
  {
   "cell_type": "code",
   "execution_count": null,
   "id": "f8536865-d517-4154-a1c4-12f7ea61b705",
   "metadata": {},
   "outputs": [],
   "source": []
  }
 ],
 "metadata": {
  "kernelspec": {
   "display_name": "Python 3 (ipykernel)",
   "language": "python",
   "name": "python3"
  },
  "language_info": {
   "codemirror_mode": {
    "name": "ipython",
    "version": 3
   },
   "file_extension": ".py",
   "mimetype": "text/x-python",
   "name": "python",
   "nbconvert_exporter": "python",
   "pygments_lexer": "ipython3",
   "version": "3.8.10"
  }
 },
 "nbformat": 4,
 "nbformat_minor": 5
}
