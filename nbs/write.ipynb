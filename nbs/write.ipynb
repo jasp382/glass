{
 "cells": [
  {
   "cell_type": "code",
   "execution_count": null,
   "id": "5cb25612-8bb8-41f1-9e42-9ccfcd9e1325",
   "metadata": {},
   "outputs": [],
   "source": [
    "from glass.wt import fext_to_geof\n",
    "\n",
    "infile = '/mnt/g/otol/waterbodies/i_20180818/T29TNE_20180818T112111_B02_10m.tif'\n",
    "outfile = '/mnt/g/otol/waterbodies/lmtwater.shp'\n",
    "\n",
    "fext_to_geof(infile, outfile)"
   ]
  },
  {
   "cell_type": "code",
   "execution_count": null,
   "id": "83f03c8b-ee91-4f5e-b33a-a93d1ba002d3",
   "metadata": {},
   "outputs": [],
   "source": []
  }
 ],
 "metadata": {
  "kernelspec": {
   "display_name": "Python 3 (ipykernel)",
   "language": "python",
   "name": "python3"
  },
  "language_info": {
   "codemirror_mode": {
    "name": "ipython",
    "version": 3
   },
   "file_extension": ".py",
   "mimetype": "text/x-python",
   "name": "python",
   "nbconvert_exporter": "python",
   "pygments_lexer": "ipython3",
   "version": "3.10.12"
  }
 },
 "nbformat": 4,
 "nbformat_minor": 5
}
