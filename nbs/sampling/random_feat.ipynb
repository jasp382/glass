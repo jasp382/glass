{
 "cells": [
  {
   "cell_type": "markdown",
   "id": "ec0e9c67-b882-49aa-bf73-c1d2431c8e89",
   "metadata": {},
   "source": [
    "## Extract Random features"
   ]
  },
  {
   "cell_type": "code",
   "execution_count": null,
   "id": "a5838549-64ac-455b-a864-5ec578078024",
   "metadata": {},
   "outputs": [],
   "source": [
    "import os\n",
    "from glass.smp import extract_random_features"
   ]
  },
  {
   "cell_type": "code",
   "execution_count": null,
   "id": "7681b94a-d1bf-4b08-90b5-ecbd9ea642b5",
   "metadata": {},
   "outputs": [],
   "source": [
    "ishp = '/mnt/d/autocls11/objsbycls/objs18_18x18_artificial.shp'\n",
    "\n",
    "nfeat = 500\n",
    "\n",
    "outfeat = '/mnt/d/autocls11/objsbycls/artificial_sample.shp'"
   ]
  },
  {
   "cell_type": "code",
   "execution_count": null,
   "id": "0168a0e2-2e73-4933-aaa9-8c23356c80f7",
   "metadata": {},
   "outputs": [],
   "source": [
    "extract_random_features(ishp, nfeat, outfeat)"
   ]
  },
  {
   "cell_type": "code",
   "execution_count": null,
   "id": "a82eb8b5-0676-4501-b964-019f2852bde6",
   "metadata": {},
   "outputs": [],
   "source": [
    "ifld = '/mnt/d/autocls11/objsbycls/'\n",
    "ishp = {\n",
    "    'objs18_18x18_artificial.shp' : 'artificial_sample.shp',\n",
    "    'objs18_18x18_forest.shp' : 'forest_sample.shp',\n",
    "    'objs18_18x18_wetlands.shp' : 'wetlands_sample.shp',\n",
    "    'objs18_18x18_shrubs.shp' : 'shrubs_sample.shp',\n",
    "    'objs18_18x18_nonveg.shp' : 'nonveg_sample.shp',\n",
    "    'objs18_18x18_herbaceous.shp' : 'herbaceous_sample.shp'\n",
    "}\n",
    "\n",
    "nfeat = 500\n",
    "\n",
    "outfeat = '/mnt/d/autocls11/objsbycls/'\n",
    "\n",
    "for k in ishp:\n",
    "    extract_random_features(\n",
    "        os.path.join(ifld, k),\n",
    "        nfeat,\n",
    "        os.path.join(outfeat, ishp[k])\n",
    "    )"
   ]
  },
  {
   "cell_type": "code",
   "execution_count": null,
   "id": "8e690181-0894-453b-bde2-d926ba246621",
   "metadata": {},
   "outputs": [],
   "source": []
  }
 ],
 "metadata": {
  "kernelspec": {
   "display_name": "Python 3 (ipykernel)",
   "language": "python",
   "name": "python3"
  },
  "language_info": {
   "codemirror_mode": {
    "name": "ipython",
    "version": 3
   },
   "file_extension": ".py",
   "mimetype": "text/x-python",
   "name": "python",
   "nbconvert_exporter": "python",
   "pygments_lexer": "ipython3",
   "version": "3.10.12"
  }
 },
 "nbformat": 4,
 "nbformat_minor": 5
}
