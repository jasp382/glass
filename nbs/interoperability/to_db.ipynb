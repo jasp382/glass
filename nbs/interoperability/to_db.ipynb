{
 "cells": [
  {
   "cell_type": "markdown",
   "id": "64969b8d-219f-46bd-8a3f-8c030ee14862",
   "metadata": {},
   "source": [
    "### Tables in files to Database"
   ]
  },
  {
   "cell_type": "code",
   "execution_count": null,
   "id": "031bc2e7-c60c-4dd6-8a20-2e959489ca8a",
   "metadata": {},
   "outputs": [],
   "source": [
    "from glass.it.db import tbl_to_db\n",
    "from glass.pys.oss import lst_ff, fprop"
   ]
  },
  {
   "cell_type": "code",
   "execution_count": null,
   "id": "d94671e6-5fe7-4859-ae62-995ea2879317",
   "metadata": {},
   "outputs": [],
   "source": [
    "folder = '/mnt/disk1/jasp/osm2lulc/osmtolulc/'\n",
    "\n",
    "outdb = '/mnt/disk1/jasp/osm2lulc/osmtolulc/osmtolulc.sqlite'\n",
    "\n",
    "tblfiles = lst_ff(folder, file_format='.xlsx')\n",
    "\n",
    "newtables = [fprop(t, 'fn') for t in tblfiles]\n",
    "\n",
    "tbl_to_db(folder, outdb, newtables, api_db=\"sqlite\")"
   ]
  },
  {
   "cell_type": "markdown",
   "id": "dfa5674e-c3f2-4544-8d67-56cb5f625a4b",
   "metadata": {},
   "source": [
    "### Excel sheets to Database"
   ]
  },
  {
   "cell_type": "code",
   "execution_count": null,
   "id": "bceeb2e3-eaf7-4f33-b189-ecb77942cb44",
   "metadata": {
    "tags": []
   },
   "outputs": [],
   "source": [
    "excel = '/mnt/d/osm2lulc2023/osm2lulc_v15/database.xlsx'\n",
    "\n",
    "sheets = ['modules', 'nomenclatures', 'lulc_classes', 'osm_features', 'class_osm']\n",
    "\n",
    "outdb = '/mnt/d/osm2lulc2023/osm2lulc_v15/osm2lulc_v15.sqlite'"
   ]
  },
  {
   "cell_type": "code",
   "execution_count": null,
   "id": "a9a4a496-8e1d-487c-8ca2-a8ce8f392168",
   "metadata": {
    "tags": []
   },
   "outputs": [],
   "source": [
    "from glass.it.db import xlsx_to_db\n",
    "\n",
    "xlsx_to_db(excel, outdb, sheets, apidb='sqlite')"
   ]
  },
  {
   "cell_type": "code",
   "execution_count": null,
   "id": "bc5e0fc9-2d68-4721-8613-d4ae663ee392",
   "metadata": {},
   "outputs": [],
   "source": []
  }
 ],
 "metadata": {
  "kernelspec": {
   "display_name": "Python 3 (ipykernel)",
   "language": "python",
   "name": "python3"
  },
  "language_info": {
   "codemirror_mode": {
    "name": "ipython",
    "version": 3
   },
   "file_extension": ".py",
   "mimetype": "text/x-python",
   "name": "python",
   "nbconvert_exporter": "python",
   "pygments_lexer": "ipython3",
   "version": "3.8.10"
  }
 },
 "nbformat": 4,
 "nbformat_minor": 5
}
