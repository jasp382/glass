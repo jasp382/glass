{
 "cells": [
  {
   "cell_type": "markdown",
   "id": "64969b8d-219f-46bd-8a3f-8c030ee14862",
   "metadata": {},
   "source": [
    "### Tables in files to Database"
   ]
  },
  {
   "cell_type": "code",
   "execution_count": null,
   "id": "031bc2e7-c60c-4dd6-8a20-2e959489ca8a",
   "metadata": {},
   "outputs": [],
   "source": [
    "from glass.it.sql import tbl_to_db\n",
    "from glass.pys.oss import lst_ff, fprop"
   ]
  },
  {
   "cell_type": "code",
   "execution_count": null,
   "id": "d94671e6-5fe7-4859-ae62-995ea2879317",
   "metadata": {},
   "outputs": [],
   "source": [
    "folder = '/mnt/disk1/jasp/osm2lulc/osmtolulc/'\n",
    "\n",
    "outdb = '/mnt/disk1/jasp/osm2lulc/osmtolulc/osmtolulc.sqlite'\n",
    "\n",
    "tblfiles = lst_ff(folder, file_format='.xlsx')\n",
    "\n",
    "newtables = [fprop(t, 'fn') for t in tblfiles]\n",
    "\n",
    "tbl_to_db(folder, outdb, newtables, api_db=\"sqlite\")"
   ]
  },
  {
   "cell_type": "code",
   "execution_count": null,
   "id": "b664d090-1e21-4563-8807-6a9b2f5923ae",
   "metadata": {},
   "outputs": [],
   "source": []
  }
 ],
 "metadata": {
  "kernelspec": {
   "display_name": "Python 3 (ipykernel)",
   "language": "python",
   "name": "python3"
  },
  "language_info": {
   "codemirror_mode": {
    "name": "ipython",
    "version": 3
   },
   "file_extension": ".py",
   "mimetype": "text/x-python",
   "name": "python",
   "nbconvert_exporter": "python",
   "pygments_lexer": "ipython3",
   "version": "3.8.10"
  }
 },
 "nbformat": 4,
 "nbformat_minor": 5
}
