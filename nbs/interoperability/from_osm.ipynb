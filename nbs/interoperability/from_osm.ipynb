{
 "cells": [
  {
   "cell_type": "markdown",
   "metadata": {},
   "source": [
    "# OSM File to PSQL DB"
   ]
  },
  {
   "cell_type": "code",
   "execution_count": null,
   "metadata": {},
   "outputs": [],
   "source": [
    "from glass.it.db import osm_to_psql\n",
    "\n",
    "inOsm = '/mnt/disk1/jasp/osm2lulc/europe-latest.osm.pbf'\n",
    "out_db = 'osm_europe'\n",
    "\n",
    "osm_to_psql(inOsm, out_db)"
   ]
  },
  {
   "cell_type": "markdown",
   "metadata": {},
   "source": [
    "# Convert OSM data into Feature Class #"
   ]
  },
  {
   "cell_type": "code",
   "execution_count": null,
   "metadata": {},
   "outputs": [],
   "source": [
    "from glass.it.osm import osm_to_featcls\n",
    "from glass.pys.oss import lst_ff\n",
    "import os\n",
    "\n",
    "ifolder = '/mnt/d/a2land2023/osmdata'\n",
    "osmfiles = lst_ff(ifolder, file_format='.xml')\n",
    "\n",
    "for osm in osmfiles:\n",
    "    osm_to_featcls(osm, os.path.dirname(osm),\n",
    "        useXmlName=True, outepsg=3763)"
   ]
  },
  {
   "cell_type": "code",
   "execution_count": null,
   "metadata": {},
   "outputs": [],
   "source": [
    "from glass.it.osm import osm_to_featcls\n",
    "import os\n",
    "osm = '/mnt/d/a2land2023/osmdata/portugal-latest.osm.pbf'\n",
    "\n",
    "osm_to_featcls(osm, os.path.dirname(osm),useXmlName=None, outepsg=3763)"
   ]
  },
  {
   "cell_type": "code",
   "execution_count": null,
   "metadata": {},
   "outputs": [],
   "source": []
  }
 ],
 "metadata": {
  "kernelspec": {
   "display_name": "Python 3 (ipykernel)",
   "language": "python",
   "name": "python3"
  },
  "language_info": {
   "codemirror_mode": {
    "name": "ipython",
    "version": 3
   },
   "file_extension": ".py",
   "mimetype": "text/x-python",
   "name": "python",
   "nbconvert_exporter": "python",
   "pygments_lexer": "ipython3",
   "version": "3.8.10"
  }
 },
 "nbformat": 4,
 "nbformat_minor": 4
}
