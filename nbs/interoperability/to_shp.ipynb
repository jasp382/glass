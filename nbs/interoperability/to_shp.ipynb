{
 "cells": [
  {
   "cell_type": "code",
   "execution_count": null,
   "id": "91f4248a-8b37-461a-afd9-e9eabf878902",
   "metadata": {},
   "outputs": [],
   "source": [
    "import os\n",
    "from glass.it.shp import shp_to_shp\n",
    "\n",
    "ishp = '/mnt/d/cwsig_tps/osm_431.gpkg'\n",
    "ilyr = {\n",
    "    'lines' : 'lines_431',\n",
    "    'multilinestrings' : 'mlines_431',\n",
    "    'multipolygons' : 'polygons_431',\n",
    "    'points' : 'points_431'\n",
    "}\n",
    "\n",
    "out = '/mnt/d/cwsig_tps/osm/'\n",
    "\n",
    "\n",
    "for lyr in ilyr:\n",
    "    shp_to_shp(\n",
    "        ishp,\n",
    "        os.path.join(out, f'{ilyr[lyr]}.shp'),\n",
    "        lyrname=lyr\n",
    "    )"
   ]
  },
  {
   "cell_type": "code",
   "execution_count": null,
   "id": "8172a2bc-6ba6-4dec-9606-8458b185aedc",
   "metadata": {},
   "outputs": [],
   "source": []
  }
 ],
 "metadata": {
  "kernelspec": {
   "display_name": "Python 3 (ipykernel)",
   "language": "python",
   "name": "python3"
  },
  "language_info": {
   "codemirror_mode": {
    "name": "ipython",
    "version": 3
   },
   "file_extension": ".py",
   "mimetype": "text/x-python",
   "name": "python",
   "nbconvert_exporter": "python",
   "pygments_lexer": "ipython3",
   "version": "3.10.12"
  }
 },
 "nbformat": 4,
 "nbformat_minor": 5
}
