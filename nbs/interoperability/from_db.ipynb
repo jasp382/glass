{
 "cells": [
  {
   "cell_type": "markdown",
   "id": "48919322-9874-42f7-8a1a-5127382c4502",
   "metadata": {},
   "source": [
    "### Tables in database to excel files"
   ]
  },
  {
   "cell_type": "code",
   "execution_count": null,
   "id": "b94ad698-f53c-4c7b-b9d5-bb82aca1dc9c",
   "metadata": {},
   "outputs": [],
   "source": [
    "from glass.it import db_to_tbl\n",
    "from glass.prop.sql import lst_tbl\n",
    "\n",
    "db = '/home/jasp/glass/core/glass/ete/osm2lulc/osmtolulc.sqlite'\n",
    "ofolder = '/mnt/\n",
    "\n",
    "tbls = lst_tbl(db, api='sqlite')"
   ]
  },
  {
   "cell_type": "code",
   "execution_count": null,
   "id": "48743bd6-d455-4afb-bc67-8f624072476b",
   "metadata": {},
   "outputs": [],
   "source": [
    "tbls"
   ]
  },
  {
   "cell_type": "markdown",
   "id": "5b87aa24-5ed4-4035-a602-5aca0da1876f",
   "metadata": {},
   "source": [
    "### Table to ESRI Shapefile"
   ]
  },
  {
   "cell_type": "code",
   "execution_count": null,
   "id": "c78ece16-c996-4189-a222-2ad3cdf15893",
   "metadata": {},
   "outputs": [],
   "source": [
    "from glass.it.shp import dbtbl_to_shp\n",
    "\n",
    "db = 'dgt_osmpt'\n",
    "tbl = 'multipolygons'\n",
    "geom = 'wkb_geometry'\n",
    "\n",
    "shp = '/home/jasp/mystuff/osmpt_polygon.shp'\n",
    "\n",
    "dbtbl_to_shp(db, tbl, geom, shp, dbset='local', api=\"pgsql2shp\")"
   ]
  },
  {
   "cell_type": "markdown",
   "id": "c291acf2-c5e0-4854-bdb9-677e28266075",
   "metadata": {},
   "source": [
    "### Same table in several dabatases to GeoPackage"
   ]
  },
  {
   "cell_type": "code",
   "execution_count": null,
   "id": "a2914aef-e603-443a-af38-379d3df09512",
   "metadata": {},
   "outputs": [],
   "source": [
    "from glass.pys.oss    import lst_ff, fprop\n",
    "from glass.it.db import db_to_gpkg"
   ]
  },
  {
   "cell_type": "code",
   "execution_count": null,
   "id": "8430def5-cb82-4eff-86f5-d3130885d4a5",
   "metadata": {},
   "outputs": [],
   "source": [
    "in_f = '/mnt/d/osm2lulc01/osm/osmptparts'\n",
    "\n",
    "ff = '.pbf'\n",
    "\n",
    "table = 'corrpolygons'\n",
    "\n",
    "ogpkg = '/mnt/d/osm2lulc01/osm/ptosm.gpkg'\n",
    "\n",
    "osms = lst_ff(in_f, file_format=ff)\n",
    "\n",
    "for osm in osms:\n",
    "    db = fprop(osm, 'fn')\n",
    "\n",
    "    db_to_gpkg(db, table, ogpkg, otbl=db)"
   ]
  },
  {
   "cell_type": "code",
   "execution_count": null,
   "id": "deb20e7b-b572-4725-8d7d-375cca36070b",
   "metadata": {},
   "outputs": [],
   "source": []
  }
 ],
 "metadata": {
  "kernelspec": {
   "display_name": "Python 3 (ipykernel)",
   "language": "python",
   "name": "python3"
  },
  "language_info": {
   "codemirror_mode": {
    "name": "ipython",
    "version": 3
   },
   "file_extension": ".py",
   "mimetype": "text/x-python",
   "name": "python",
   "nbconvert_exporter": "python",
   "pygments_lexer": "ipython3",
   "version": "3.8.10"
  }
 },
 "nbformat": 4,
 "nbformat_minor": 5
}
