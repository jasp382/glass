{
 "cells": [
  {
   "cell_type": "code",
   "execution_count": null,
   "id": "fef6e43c-c3da-4f23-94cb-8d632973b837",
   "metadata": {},
   "outputs": [],
   "source": [
    "ifolder = '/mnt/g/autocls_exp2/lcf_ua'\n",
    "\n",
    "ogpkg = '/mnt/g/autocls_exp2/lcf_ua/ualc_2211.gpkg'\n",
    "\n",
    "from glass.it.shp import shps_to_gpkg\n",
    "\n",
    "shps_to_gpkg(ifolder, ogpkg)"
   ]
  },
  {
   "cell_type": "code",
   "execution_count": null,
   "id": "c2272a1e-e7f4-4341-a687-5c38fcfe8cc3",
   "metadata": {},
   "outputs": [],
   "source": []
  }
 ],
 "metadata": {
  "kernelspec": {
   "display_name": "Python 3 (ipykernel)",
   "language": "python",
   "name": "python3"
  },
  "language_info": {
   "codemirror_mode": {
    "name": "ipython",
    "version": 3
   },
   "file_extension": ".py",
   "mimetype": "text/x-python",
   "name": "python",
   "nbconvert_exporter": "python",
   "pygments_lexer": "ipython3",
   "version": "3.10.12"
  }
 },
 "nbformat": 4,
 "nbformat_minor": 5
}
