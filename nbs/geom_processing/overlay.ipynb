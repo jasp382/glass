{
 "cells": [
  {
   "cell_type": "markdown",
   "id": "535322f6-906d-4967-bf99-f4b5637078c6",
   "metadata": {},
   "source": [
    "### Clip Feature Class using as clip features each file of one folder"
   ]
  },
  {
   "cell_type": "code",
   "execution_count": null,
   "id": "357d6b07-a931-43e7-a6cb-c2bb600b1ba3",
   "metadata": {},
   "outputs": [],
   "source": [
    "in_shp = '/mnt/disk1/jasp/dgtinescc/urbanosm_v1_diss.shp'\n",
    "\n",
    "clipshps = '/mnt/disk1/jasp/dgtinescc/refgrid'\n",
    "\n",
    "outfolder = '/mnt/disk1/jasp/dgtinescc/osmurbanv1'\n",
    "\n",
    "bname = 'uosmv1'\n",
    "\n",
    "from glass.gp.ovl.clipp import clipshp_shpinfolder\n",
    "\n",
    "clipshp_shpinfolder(in_shp, clipshps, outfolder, bname=bname)"
   ]
  },
  {
   "cell_type": "code",
   "execution_count": null,
   "id": "5179d0b5-a21a-40cb-9a01-41b7d027957a",
   "metadata": {},
   "outputs": [],
   "source": []
  }
 ],
 "metadata": {
  "kernelspec": {
   "display_name": "Python 3 (ipykernel)",
   "language": "python",
   "name": "python3"
  },
  "language_info": {
   "codemirror_mode": {
    "name": "ipython",
    "version": 3
   },
   "file_extension": ".py",
   "mimetype": "text/x-python",
   "name": "python",
   "nbconvert_exporter": "python",
   "pygments_lexer": "ipython3",
   "version": "3.8.10"
  }
 },
 "nbformat": 4,
 "nbformat_minor": 5
}
