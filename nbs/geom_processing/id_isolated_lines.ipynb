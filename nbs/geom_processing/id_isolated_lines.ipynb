{
 "cells": [
  {
   "cell_type": "code",
   "execution_count": null,
   "id": "d41ef13f-f884-451f-b505-b9282abce3f6",
   "metadata": {},
   "outputs": [],
   "source": [
    "from glass.gp.feat import id_isolated_lines"
   ]
  },
  {
   "cell_type": "code",
   "execution_count": null,
   "id": "16652159-8bdd-42c1-b2f2-d310c9b65f06",
   "metadata": {},
   "outputs": [],
   "source": [
    "shp = '/mnt/d/exp_acesso/rdvpt.gpkg'\n",
    "\n",
    "layer = 'rdvpt'\n",
    "\n",
    "olyr = 'isolated'"
   ]
  },
  {
   "cell_type": "code",
   "execution_count": null,
   "id": "7d106c56-3231-425c-a5f3-3a42d1fbd398",
   "metadata": {},
   "outputs": [],
   "source": [
    "id_isolated_lines(shp, shp, lyrname=layer, outlyr=olyr)"
   ]
  }
 ],
 "metadata": {
  "kernelspec": {
   "display_name": "Python 3 (ipykernel)",
   "language": "python",
   "name": "python3"
  },
  "language_info": {
   "codemirror_mode": {
    "name": "ipython",
    "version": 3
   },
   "file_extension": ".py",
   "mimetype": "text/x-python",
   "name": "python",
   "nbconvert_exporter": "python",
   "pygments_lexer": "ipython3",
   "version": "3.10.12"
  }
 },
 "nbformat": 4,
 "nbformat_minor": 5
}
