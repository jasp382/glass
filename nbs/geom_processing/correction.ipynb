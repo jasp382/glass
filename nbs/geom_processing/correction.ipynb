{
 "cells": [
  {
   "cell_type": "markdown",
   "id": "68b87b2e-604b-40fb-af05-6c7b59408c47",
   "metadata": {},
   "source": [
    "### Topology correction"
   ]
  },
  {
   "cell_type": "code",
   "execution_count": 1,
   "id": "05c14fb0-995f-4e20-9eab-641a3142283a",
   "metadata": {},
   "outputs": [],
   "source": [
    "from glass.pys.oss    import lst_ff, fprop\n",
    "from glass.gp.cln.sql import fix_geom"
   ]
  },
  {
   "cell_type": "code",
   "execution_count": 2,
   "id": "1e71681f-1ecf-48c8-8c0a-3ed2263e0572",
   "metadata": {},
   "outputs": [],
   "source": [
    "in_f = '/mnt/d/osm2lulc01/osm/osmptparts'\n",
    "\n",
    "ff = '.pbf'\n",
    "\n",
    "table = 'multipolygons'\n",
    "\n",
    "otable = 'corrpolygons'\n",
    "\n",
    "osms = lst_ff(in_f, file_format=ff)"
   ]
  },
  {
   "cell_type": "code",
   "execution_count": 3,
   "id": "3ee5effc-f712-415b-9aa8-578aef398e3c",
   "metadata": {},
   "outputs": [],
   "source": [
    "for osm in osms:\n",
    "    db = fprop(osm, 'fn')\n",
    "\n",
    "    ntbl = fix_geom(db, table, 'wkb_geometry', otable)"
   ]
  },
  {
   "cell_type": "code",
   "execution_count": null,
   "id": "837c2a0c-5472-4c29-a17a-55bcdb73e520",
   "metadata": {},
   "outputs": [],
   "source": []
  }
 ],
 "metadata": {
  "kernelspec": {
   "display_name": "Python 3 (ipykernel)",
   "language": "python",
   "name": "python3"
  },
  "language_info": {
   "codemirror_mode": {
    "name": "ipython",
    "version": 3
   },
   "file_extension": ".py",
   "mimetype": "text/x-python",
   "name": "python",
   "nbconvert_exporter": "python",
   "pygments_lexer": "ipython3",
   "version": "3.8.10"
  }
 },
 "nbformat": 4,
 "nbformat_minor": 5
}
