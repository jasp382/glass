{
 "cells": [
  {
   "cell_type": "markdown",
   "id": "cd66c5f9-9c59-4846-b830-79398c1ded46",
   "metadata": {},
   "source": [
    "### Coordinates to ESRI Shapefile"
   ]
  },
  {
   "cell_type": "code",
   "execution_count": 2,
   "id": "ed42f4d1-92aa-4e5d-91ae-c03e511b82b8",
   "metadata": {},
   "outputs": [
    {
     "data": {
      "text/plain": [
       "'/mnt/disk1/jasp/osm2lulc/lmt_basel.shp'"
      ]
     },
     "execution_count": 2,
     "metadata": {},
     "output_type": "execute_result"
    }
   ],
   "source": [
    "from glass.gp.ext import coords_to_boundshp\n",
    "\n",
    "top    = 47.830005646\n",
    "bottom = 47.239994049\n",
    "left   = 7.250000000\n",
    "right  = 8.089999199\n",
    "\n",
    "epsg = 4326\n",
    "oepsg = 3857\n",
    "\n",
    "shp = '/mnt/disk1/jasp/osm2lulc/lmt_basel.shp'\n",
    "\n",
    "coords_to_boundshp(\n",
    "    (left, top),\n",
    "    (right, bottom),\n",
    "    epsg, shp, outEpsg=oepsg\n",
    ")"
   ]
  },
  {
   "cell_type": "code",
   "execution_count": null,
   "id": "9c4ef98b-cf91-497b-8c14-0f14d9085f27",
   "metadata": {},
   "outputs": [],
   "source": []
  }
 ],
 "metadata": {
  "kernelspec": {
   "display_name": "Python 3 (ipykernel)",
   "language": "python",
   "name": "python3"
  },
  "language_info": {
   "codemirror_mode": {
    "name": "ipython",
    "version": 3
   },
   "file_extension": ".py",
   "mimetype": "text/x-python",
   "name": "python",
   "nbconvert_exporter": "python",
   "pygments_lexer": "ipython3",
   "version": "3.8.10"
  }
 },
 "nbformat": 4,
 "nbformat_minor": 5
}
