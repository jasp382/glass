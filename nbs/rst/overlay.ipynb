{
 "cells": [
  {
   "cell_type": "code",
   "execution_count": null,
   "id": "a726afee-03d4-411b-b247-e6916023c48c",
   "metadata": {},
   "outputs": [],
   "source": [
    "clipfolder = '/home/jasp/mystuff/dgt/imdrefgrid/'\n",
    "rst        = '/home/jasp/mystuff/dgt/imd_pt.tif'\n",
    "\n",
    "outfolder  = '/home/jasp/mystuff/dgt/imdgrid/'"
   ]
  },
  {
   "cell_type": "code",
   "execution_count": null,
   "id": "fba9ed87-1a71-4be4-89e8-32eb8f2310f8",
   "metadata": {},
   "outputs": [],
   "source": [
    "from glass.pys.oss import lst_ff, fprop\n",
    "from glass.wenv.grs import run_grass, rst_to_region\n",
    "from glass.prop.prj import get_epsg\n",
    "from glass.prop.rst import rst_cellsize\n",
    "from glass.dtt.torst import shp_to_rst\n",
    "import os"
   ]
  },
  {
   "cell_type": "code",
   "execution_count": null,
   "id": "2a836772-bbcf-4995-be9e-bff4b7863fbe",
   "metadata": {},
   "outputs": [],
   "source": [
    "shps = lst_ff(clipfolder, file_format='.shp')"
   ]
  },
  {
   "cell_type": "code",
   "execution_count": null,
   "id": "86b482b5-d41b-4a61-bf13-85ee46938dad",
   "metadata": {},
   "outputs": [],
   "source": [
    "rbname = fprop(rst, 'fn')\n",
    "\n",
    "loc = f'loc_{rbname}'\n",
    "\n",
    "gb = run_grass(outfolder, location=loc, srs=rst, grassBIN=\"grass78\")\n",
    "\n",
    "import grass.script.setup as gsetup\n",
    "\n",
    "gsetup.init(gb, outfolder, loc, 'PERMANENT')"
   ]
  },
  {
   "cell_type": "code",
   "execution_count": null,
   "id": "1855c0bc-29d6-412c-936a-4b0adfc68e37",
   "metadata": {},
   "outputs": [],
   "source": [
    "from glass.it.rst import rst_to_grs, grs_to_rst, grs_to_mask"
   ]
  },
  {
   "cell_type": "code",
   "execution_count": null,
   "id": "ed094f85-047b-4763-8431-01e8184900ad",
   "metadata": {},
   "outputs": [],
   "source": [
    "# Add main raster to grass gis\n",
    "\n",
    "mrst = rst_to_grs(rst, rbname, as_cmd=True)"
   ]
  },
  {
   "cell_type": "code",
   "execution_count": null,
   "id": "1f4a1c80-1a8a-4fd1-bebc-8898391aa375",
   "metadata": {},
   "outputs": [],
   "source": [
    "maincs = rst_cellsize(rst, gisApi='gdal')"
   ]
  },
  {
   "cell_type": "code",
   "execution_count": null,
   "id": "636ff0df-32ec-4cc2-a6e3-fadd67a27010",
   "metadata": {},
   "outputs": [],
   "source": [
    "for shp in shps:\n",
    "    rname = fprop(shp, 'fn')\n",
    "    \n",
    "    clprst = shp_to_rst(\n",
    "        shp, None, maincs, 0, os.path.join(\n",
    "            outfolder, loc,\n",
    "            f\"{rname}.tif\"\n",
    "        )\n",
    "    )\n",
    "    \n",
    "    refgrs = rst_to_grs(clprst, rname, as_cmd=True)\n",
    "    \n",
    "    # Set New Region\n",
    "    rst_to_region(refgrs)\n",
    "    \n",
    "    # Set mask\n",
    "    grs_to_mask(refgrs, overwrite=True)\n",
    "    \n",
    "    # Export clipped raster\n",
    "    cellid = rname.split('_')[-1]\n",
    "    grs_to_rst(mrst, os.path.join(outfolder, f\"{rbname}_{cellid}.tif\"))"
   ]
  },
  {
   "cell_type": "code",
   "execution_count": null,
   "id": "9e8ed3c1-76ef-4706-a161-a0d7b581e0fc",
   "metadata": {},
   "outputs": [],
   "source": []
  }
 ],
 "metadata": {
  "kernelspec": {
   "display_name": "Python 3 (ipykernel)",
   "language": "python",
   "name": "python3"
  },
  "language_info": {
   "codemirror_mode": {
    "name": "ipython",
    "version": 3
   },
   "file_extension": ".py",
   "mimetype": "text/x-python",
   "name": "python",
   "nbconvert_exporter": "python",
   "pygments_lexer": "ipython3",
   "version": "3.8.10"
  }
 },
 "nbformat": 4,
 "nbformat_minor": 5
}
