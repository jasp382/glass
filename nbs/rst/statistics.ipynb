{
 "cells": [
  {
   "cell_type": "markdown",
   "metadata": {},
   "source": [
    "## Count how many times a region appears in a set of ESRI Shapefiles"
   ]
  },
  {
   "cell_type": "code",
   "execution_count": null,
   "metadata": {},
   "outputs": [],
   "source": [
    "from glass.rst.stats import count_region_in_shape"
   ]
  },
  {
   "cell_type": "code",
   "execution_count": null,
   "metadata": {},
   "outputs": [],
   "source": [
    "in_folder = '/mnt/d/osm2lulc01/burnareas/'\n",
    "\n",
    "ref = '/mnt/h/ref/rstref2022.tif'\n",
    "\n",
    "out = '/mnt/d/osm2lulc01/burnareas/burnareas_count.tif'"
   ]
  },
  {
   "cell_type": "code",
   "execution_count": null,
   "metadata": {},
   "outputs": [],
   "source": [
    "count_region_in_shape(in_folder, ref, out)"
   ]
  },
  {
   "cell_type": "markdown",
   "metadata": {},
   "source": [
    "## Get Statistics for each feature in vec"
   ]
  },
  {
   "cell_type": "code",
   "execution_count": null,
   "metadata": {},
   "outputs": [],
   "source": [
    "vec = '/mnt/e/rms/madeira/rms_freg_mad.shp'\n",
    "\n",
    "col = 'no2s5p'\n",
    "meth = 'average'\n",
    "rst = '/mnt/e/rms/no2/no2021_madutm.tif'\n",
    "\n",
    "outvec = '/mnt/e/rms/results21/rms_freg_mad_v1.shp'\n",
    "\n",
    "from glass.rst.zon import rst_stats_eachfeat\n",
    "\n",
    "rst_stats_eachfeat(vec, rst, col, meth, outvec)"
   ]
  },
  {
   "cell_type": "code",
   "execution_count": null,
   "metadata": {},
   "outputs": [],
   "source": []
  }
 ],
 "metadata": {
  "kernelspec": {
   "display_name": "Python 3 (ipykernel)",
   "language": "python",
   "name": "python3"
  },
  "language_info": {
   "codemirror_mode": {
    "name": "ipython",
    "version": 3
   },
   "file_extension": ".py",
   "mimetype": "text/x-python",
   "name": "python",
   "nbconvert_exporter": "python",
   "pygments_lexer": "ipython3",
   "version": "3.10.12"
  }
 },
 "nbformat": 4,
 "nbformat_minor": 4
}
