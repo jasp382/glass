{
 "cells": [
  {
   "cell_type": "markdown",
   "metadata": {},
   "source": [
    "## Count how many times a region appears in a set of ESRI Shapefiles"
   ]
  },
  {
   "cell_type": "code",
   "execution_count": null,
   "metadata": {},
   "outputs": [],
   "source": [
    "from glass.rst.stats import count_region_in_shape"
   ]
  },
  {
   "cell_type": "code",
   "execution_count": null,
   "metadata": {},
   "outputs": [],
   "source": [
    "in_folder = '/mnt/d/osm2lulc01/burnareas/'\n",
    "\n",
    "ref = '/mnt/h/ref/rstref2022.tif'\n",
    "\n",
    "out = '/mnt/d/osm2lulc01/burnareas/burnareas_count.tif'"
   ]
  },
  {
   "cell_type": "code",
   "execution_count": null,
   "metadata": {},
   "outputs": [],
   "source": [
    "count_region_in_shape(in_folder, ref, out)"
   ]
  },
  {
   "cell_type": "markdown",
   "metadata": {},
   "source": [
    "## Get Statistics for each feature in vec"
   ]
  },
  {
   "cell_type": "code",
   "execution_count": null,
   "metadata": {},
   "outputs": [],
   "source": [
    "vec = '/mnt/e/rms/madeira/rms_freg_mad.shp'\n",
    "\n",
    "col = 'no2s5p'\n",
    "meth = 'average'\n",
    "rst = '/mnt/e/rms/no2/no2021_madutm.tif'\n",
    "\n",
    "outvec = '/mnt/e/rms/results21/rms_freg_mad_v1.shp'"
   ]
  },
  {
   "cell_type": "code",
   "execution_count": null,
   "metadata": {},
   "outputs": [],
   "source": [
    "import os\n",
    "from glass.pys.oss import fprop\n",
    "from glass.wenv.grs import run_grass\n",
    "from glass.tbl.col import rn_cols"
   ]
  },
  {
   "cell_type": "code",
   "execution_count": null,
   "metadata": {},
   "outputs": [],
   "source": [
    "# Create GRASS GIS Session\n",
    "\n",
    "gw = os.path.dirname(vec)\n",
    "vname = fprop(vec, 'fn')\n",
    "lc = 'l_' + vname\n",
    "\n",
    "gbase = run_grass(gw, location=lc, srs=rst)\n",
    "\n",
    "import grass.script as grass\n",
    "import grass.script.setup as gsetup\n",
    "\n",
    "gsetup.init(gbase, gw, lc, 'PERMANENT')"
   ]
  },
  {
   "cell_type": "code",
   "execution_count": null,
   "metadata": {},
   "outputs": [],
   "source": [
    "from glass.it.shp import shp_to_grs, grs_to_shp\n",
    "from glass.it.rst import rst_to_grs\n",
    "from glass.rst.zon import rst_stats_by_feat"
   ]
  },
  {
   "cell_type": "code",
   "execution_count": null,
   "metadata": {},
   "outputs": [],
   "source": [
    "# Import data\n",
    "gvec = shp_to_grs(vec, vname)\n",
    "grst = rst_to_grs(rst, fprop(rst, 'fn'))\n",
    "\n",
    "nvec = rst_stats_by_feat(gvec, grst, col, meth, as_cmd=True)\n",
    "\n",
    "rn_cols(nvec, {f\"{col}_{meth}\" : col}, api=\"grass\")\n",
    "\n",
    "# Export data\n",
    "res = grs_to_shp(nvec, outvec, 'area')"
   ]
  },
  {
   "cell_type": "code",
   "execution_count": null,
   "metadata": {},
   "outputs": [],
   "source": []
  }
 ],
 "metadata": {
  "kernelspec": {
   "display_name": "Python 3 (ipykernel)",
   "language": "python",
   "name": "python3"
  },
  "language_info": {
   "codemirror_mode": {
    "name": "ipython",
    "version": 3
   },
   "file_extension": ".py",
   "mimetype": "text/x-python",
   "name": "python",
   "nbconvert_exporter": "python",
   "pygments_lexer": "ipython3",
   "version": "3.8.10"
  }
 },
 "nbformat": 4,
 "nbformat_minor": 4
}
