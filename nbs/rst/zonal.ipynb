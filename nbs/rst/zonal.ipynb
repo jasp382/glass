{
 "cells": [
  {
   "cell_type": "code",
   "execution_count": 1,
   "id": "bbcd16ce-5c25-4076-b706-98690266a190",
   "metadata": {},
   "outputs": [],
   "source": [
    "imgs_folder = '/home/jasp/autocls/img'\n",
    "\n",
    "shp = '/home/jasp/autocls/coimbra_original.shp'\n",
    "lulc_col = 'code'\n",
    "\n",
    "refrst = '/home/jasp/autocls/rst_coimbra.tif'\n",
    "\n",
    "out = '/home/jasp/autocls/'"
   ]
  },
  {
   "cell_type": "code",
   "execution_count": 2,
   "id": "cd40bb84-dae7-4060-9e87-2bfd1ed130b4",
   "metadata": {},
   "outputs": [],
   "source": [
    "import os\n",
    "from glass.cons.stl import bandsmap\n",
    "from glass.pys.oss import mkdir, lst_ff, lst_fld\n",
    "from glass.pys.tm import now_as_str\n",
    "from glass.wenv.grs import run_grass"
   ]
  },
  {
   "cell_type": "code",
   "execution_count": 3,
   "id": "77bd91c3-2e51-4802-962c-9ed3de04a645",
   "metadata": {},
   "outputs": [],
   "source": [
    "stats = {\n",
    "    'number' : 'n', 'minimum' : 'min', 'maximum': 'max',\n",
    "    'range' : 'ran', 'average' : 'avg', 'stddev' : 'std'\n",
    "}\n",
    "\n",
    "_bmap = bandsmap()\n",
    "\n",
    "bmap = {b.lower() : _bmap[b] for b in _bmap}"
   ]
  },
  {
   "cell_type": "code",
   "execution_count": 4,
   "id": "fe4870cd-d816-4726-b4b8-bdb862f3a157",
   "metadata": {},
   "outputs": [],
   "source": [
    "imgs = lst_fld(imgs_folder)"
   ]
  },
  {
   "cell_type": "code",
   "execution_count": 5,
   "id": "e22f03a5-0c84-453d-947b-ccb037f85bde",
   "metadata": {},
   "outputs": [],
   "source": [
    "img_bands = {}\n",
    "for img in imgs:\n",
    "    img_bands[img] = lst_ff(img, file_format='.tif')"
   ]
  },
  {
   "cell_type": "code",
   "execution_count": 6,
   "id": "91df86f2-60e6-4719-8e53-f294645739f7",
   "metadata": {},
   "outputs": [
    {
     "data": {
      "text/plain": [
       "'/tmp/tmps7dfb3_h'"
      ]
     },
     "execution_count": 6,
     "metadata": {},
     "output_type": "execute_result"
    }
   ],
   "source": [
    "ws, loc = mkdir(os.path.join(\n",
    "    out, now_as_str(utc=True)\n",
    "), overwrite=True), 'loc_istats'\n",
    "\n",
    "gb = run_grass(ws, location=loc, srs=refrst)\n",
    "\n",
    "import grass.script.setup as gsetup\n",
    "\n",
    "gsetup.init(gb, ws, loc, 'PERMANENT')"
   ]
  },
  {
   "cell_type": "code",
   "execution_count": 7,
   "id": "dcaf277c-97a5-42a6-995f-1a0c87be411a",
   "metadata": {},
   "outputs": [],
   "source": [
    "from glass.it.shp  import shp_to_grs, grs_to_shp\n",
    "from glass.it.rst  import rst_to_grs\n",
    "from glass.rst.zon import rst_stats_by_feat\n",
    "from glass.gp.gen import dissolve\n",
    "from glass.tbl.grs import add_table\n",
    "from glass.tbl.col import rn_cols"
   ]
  },
  {
   "cell_type": "code",
   "execution_count": 8,
   "id": "b8253f4d-7452-4c70-b9cd-61bd8f67acad",
   "metadata": {},
   "outputs": [],
   "source": [
    "for k in img_bands:\n",
    "    grsshp = shp_to_grs(shp, olyr=os.path.basename(k))\n",
    "\n",
    "    dissshp = dissolve(grsshp, f'diss_{grsshp}', lulc_col, api='grass')\n",
    "\n",
    "    #add_table(dissshp, None, lyrN=1, asCMD=True, keyp=lulc_col)\n",
    "    \n",
    "    for r in img_bands[k]:\n",
    "        gband = rst_to_grs(r)\n",
    "    \n",
    "        for b in bmap:\n",
    "            if b in gband:\n",
    "                prefix = bmap[b]\n",
    "                break\n",
    "    \n",
    "        colsrn = {f\"{prefix}_{k}\" : f\"{prefix}_{stats[k]}\" for k in stats}\n",
    "    \n",
    "        rst_stats_by_feat(dissshp, gband, prefix, list(stats.keys()))\n",
    "        rn_cols(dissshp, colsrn, api='grass')\n",
    "    \n",
    "        rst_stats_by_feat(grsshp, gband, prefix, list(stats.keys()))\n",
    "        rn_cols(grsshp, colsrn, api=\"grass\")\n",
    "    \n",
    "    grs_to_shp(grsshp, os.path.join(out, f\"{grsshp}.shp\"), 'area')\n",
    "    grs_to_shp(dissshp, os.path.join(out, f'{grsshp}_class.shp'), 'area')"
   ]
  },
  {
   "cell_type": "code",
   "execution_count": null,
   "id": "51b2b5ed-6c2a-480a-bb1e-580204399ef5",
   "metadata": {},
   "outputs": [],
   "source": []
  }
 ],
 "metadata": {
  "kernelspec": {
   "display_name": "Python 3 (ipykernel)",
   "language": "python",
   "name": "python3"
  },
  "language_info": {
   "codemirror_mode": {
    "name": "ipython",
    "version": 3
   },
   "file_extension": ".py",
   "mimetype": "text/x-python",
   "name": "python",
   "nbconvert_exporter": "python",
   "pygments_lexer": "ipython3",
   "version": "3.8.10"
  }
 },
 "nbformat": 4,
 "nbformat_minor": 5
}
