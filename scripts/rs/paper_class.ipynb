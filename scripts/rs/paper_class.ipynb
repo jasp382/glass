{
 "cells": [
  {
   "cell_type": "markdown",
   "metadata": {},
   "source": [
    "# Code for Remote Sensing Paper #"
   ]
  },
  {
   "cell_type": "markdown",
   "metadata": {},
   "source": [
    "### 1 - Generate Backbone polygons ###"
   ]
  },
  {
   "cell_type": "code",
   "execution_count": null,
   "metadata": {},
   "outputs": [],
   "source": [
    "import os\n",
    "\n",
    "inShp    = r'C:\\gwork\\rs_dez\\bakbone\\osm_streams.shp'\n",
    "breakPnt = r'C:\\gwork\\rs_dez\\bakbone\\pnts_break_osm.shp'\n",
    "lnhsplit = r'C:\\gwork\\rs_dez\\bakbone\\osm_streams_v2.shp'\n",
    "lnhdeadend = r'C:\\gwork\\rs_dez\\bakbone\\osm_streams_v3.shp'\n",
    "outShp = r'C:\\gwork\\rs_dez\\tsts\\lnh_polygons.shp'\n",
    "lnhidpnt = 'line_id'\n",
    "\n",
    "conDB = {\n",
    "    'HOST' : 'localhost', 'PORT' : '5432', 'USER' : 'postgres',\n",
    "    'PASSWORD' : 'admin', 'TEMPLATE' : 'postgis_template'\n",
    "}\n",
    "\n",
    "from glass.g.prop.prj import get_shp_epsg\n",
    "\n",
    "EPSG = get_shp_epsg(inShp)\n",
    "\n",
    "# Create DB\n",
    "from glass.ng.sql.db  import create_db\n",
    "from glass.pys.oss import fprop\n",
    "\n",
    "conDB[\"DATABASE\"] = create_db(conDB, fprop(inShp, 'fn', forceLower=True))\n",
    "\n",
    "# Send data to database\n",
    "from glass.ng.sql.to import shp_to_psql\n",
    "\n",
    "lnh_tbl = shp_to_psql(conDB, inShp, api=\"shp2pgsql\", srsEpsgCode=EPSG)\n",
    "\n",
    "# 1.1 - Get Points to break lines\n",
    "from glass.g.gp.ovl.sql import line_intersection_pnt\n",
    "\n",
    "break_pnt = line_intersection_pnt(conDB, lnh_tbl, \"breakpnt_{}\".format(lnh_tbl))\n",
    "\n",
    "# 1.2 - Break Lines\n",
    "\n",
    "from glass.g.to.shp import dbtbl_to_shp\n",
    "break_pnt_shp = dbtbl_to_shp(conDB, break_pnt, os.path.join(\n",
    "    os.path.dirname(outShp), break_pnt + '.shp'\n",
    "), api=\"pgsql2shp\", geom_col=geom, epsg=EPSG)\n",
    "\n",
    "from glass.g.gop.brk import break_lines_on_points\n",
    "breakLines = break_lines_on_points(inShp, break_pnt_shp, os.path.join(\n",
    "    os.path.dirname(outShp), conDB[\"DATABASE\"] + \"_brked.shp\"\n",
    "), \"OFID\")\n",
    "\n",
    "# 1.3 - Delete Deadends\n",
    "\n",
    "from glass.g.gp.cln.sql import rm_deadend\n",
    "\n",
    "lnh_tbl = shp_to_psql(conDB, breakLines, api=\"shp2pgsql\", srsEpsgCode=EPSG)\n",
    "lnh_tbl = rm_deadend(conDB, lnh_tbl, conDB[\"DATABASE\"] + \"_deadend\")\n",
    "\n",
    "# 1.4 - Produce Polygons\n",
    "\n",
    "from glass.g.dp.cg.sql import lnh_to_polg\n",
    "\n",
    "polygons = lnh_to_polg(conDB, lnh_tbl, fprop(outShp, 'fn', forceLower=True))\n",
    "\n",
    "polygons_shp = dbtbl_to_shp(\n",
    "    conDB, \"polygons\", outShp, api=\"psql\", geom_col=\"geom\",\n",
    "    epsg=EPSG\n",
    ")"
   ]
  },
  {
   "cell_type": "code",
   "execution_count": null,
   "metadata": {},
   "outputs": [],
   "source": []
  }
 ],
 "metadata": {
  "kernelspec": {
   "display_name": "Python 3",
   "language": "python",
   "name": "python3"
  },
  "language_info": {
   "codemirror_mode": {
    "name": "ipython",
    "version": 3
   },
   "file_extension": ".py",
   "mimetype": "text/x-python",
   "name": "python",
   "nbconvert_exporter": "python",
   "pygments_lexer": "ipython3",
   "version": "3.8.5"
  }
 },
 "nbformat": 4,
 "nbformat_minor": 4
}
