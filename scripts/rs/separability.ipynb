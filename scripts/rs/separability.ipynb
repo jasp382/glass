{
 "cells": [
  {
   "cell_type": "code",
   "execution_count": 1,
   "metadata": {},
   "outputs": [
    {
     "data": {
      "text/plain": [
       "'/mnt/d/gwork/osm2lulc_imgcls/lisbon_separability.xlsx'"
      ]
     },
     "execution_count": 1,
     "metadata": {},
     "output_type": "execute_result"
    }
   ],
   "source": [
    "from glass.ng.cls.sep import clsep_matrix\n",
    "\n",
    "ref = '/mnt/d/gwork/osm2lulc_imgcls/rs_paper/train_lsb/lsb_trainf2.tif'\n",
    "\n",
    "var = [\n",
    "    '/mnt/d/gwork/osm2lulc_imgcls/lsb_imgcls/b02_20180321.tif',\n",
    "    '/mnt/d/gwork/osm2lulc_imgcls/lsb_imgcls/b02_20180619.tif',\n",
    "    '/mnt/d/gwork/osm2lulc_imgcls/lsb_imgcls/b02_20181022.tif',\n",
    "    '/mnt/d/gwork/osm2lulc_imgcls/lsb_imgcls/b03_20180321.tif',\n",
    "    '/mnt/d/gwork/osm2lulc_imgcls/lsb_imgcls/b03_20180619.tif',\n",
    "    '/mnt/d/gwork/osm2lulc_imgcls/lsb_imgcls/b03_20181022.tif',\n",
    "    '/mnt/d/gwork/osm2lulc_imgcls/lsb_imgcls/b04_20180321.tif',\n",
    "    '/mnt/d/gwork/osm2lulc_imgcls/lsb_imgcls/b04_20180619.tif',\n",
    "    '/mnt/d/gwork/osm2lulc_imgcls/lsb_imgcls/b04_20181022.tif',\n",
    "    '/mnt/d/gwork/osm2lulc_imgcls/lsb_imgcls/b08_20180321.tif',\n",
    "    '/mnt/d/gwork/osm2lulc_imgcls/lsb_imgcls/b08_20180619.tif',\n",
    "    '/mnt/d/gwork/osm2lulc_imgcls/lsb_imgcls/b08_20181022.tif'\n",
    "]\n",
    "\n",
    "out = '/mnt/d/gwork/osm2lulc_imgcls/lisbon_separability.xlsx'\n",
    "\n",
    "clsep_matrix(ref, var, out)"
   ]
  },
  {
   "cell_type": "code",
   "execution_count": null,
   "metadata": {},
   "outputs": [],
   "source": []
  }
 ],
 "metadata": {
  "kernelspec": {
   "display_name": "Python 3",
   "language": "python",
   "name": "python3"
  },
  "language_info": {
   "codemirror_mode": {
    "name": "ipython",
    "version": 3
   },
   "file_extension": ".py",
   "mimetype": "text/x-python",
   "name": "python",
   "nbconvert_exporter": "python",
   "pygments_lexer": "ipython3",
   "version": "3.8.2"
  }
 },
 "nbformat": 4,
 "nbformat_minor": 4
}
