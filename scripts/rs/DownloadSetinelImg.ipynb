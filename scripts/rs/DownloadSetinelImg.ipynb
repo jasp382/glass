{
 "cells": [
  {
   "cell_type": "code",
   "execution_count": null,
   "metadata": {},
   "outputs": [],
   "source": [
    "\"\"\"\n",
    "Get Products List\n",
    "\"\"\"\n",
    "\n",
    "# Inputs\n",
    "shpExtent = '/mnt/c/gwork/gigs_cmcprj/admin/ext_cmb.shp'\n",
    "start_time = \"20180501\" # Use YYYY-MM-DD Format\n",
    "end_time = \"20180930\"\n",
    "out_results = '/mnt/c/gwork/gigs_cmcprj/sentinel.shp'\n",
    "platform = \"Sentinel-2\"\n",
    "processingL = 'Level-2A'\n",
    "\n",
    "from glass.geo.dat.sentinel import lst_prod\n",
    "\n",
    "from glass.g.gp.ext import fext_to_geof\n",
    "\n",
    "out_geo  = '/mnt/c/gwork/gigs_cmcprj/admin/ext_cmb.shp'\n",
    "\n",
    "fext_to_geof(shpExtent, out_geo)\n",
    "\n",
    "r = lst_prod(\n",
    "    shpExtent, start_time, end_time, out_results,\n",
    "    platform, processingL\n",
    ")"
   ]
  },
  {
   "cell_type": "code",
   "execution_count": null,
   "metadata": {},
   "outputs": [],
   "source": [
    "\"\"\"\n",
    "Get a list with one image for each month of one year\n",
    "and each cell in grid_shp\n",
    "\"\"\"\n",
    "\n",
    "from glass.geo.dat.sentinel import lst_prod_by_cell_and_year\n",
    "\n",
    "grid_shp = '/mnt/c/gwork/gigs_cmcprj/admin/lmt_cmb.shp'\n",
    "year = 2018\n",
    "id_col = 'Name'\n",
    "platform = \"Sentinel-2\"\n",
    "processingL = 'Level-2A'\n",
    "search_shp = '/mnt/c/gwork/gigs_cmcprj/sentinel.shp'\n",
    "epsg = 3763\n",
    "\n",
    "lst_prod_by_cell_and_year(\n",
    "    grid_shp, id_col, year, search_shp,\n",
    "    platform=platform, processingl=processingL, epsg=epsg\n",
    ")"
   ]
  },
  {
   "cell_type": "code",
   "execution_count": null,
   "metadata": {},
   "outputs": [],
   "source": [
    "\"\"\"\n",
    "DOWNLOAD Images in Shapefile\n",
    "\"\"\"\n",
    "\n",
    "IN_SHP = '/mnt/c/gwork/osm2lulc_imgcls/sentinel/img_list2.shp'\n",
    "OUT_FOLDER = '/mnt/c/gwork/osm2lulc_imgcls/sentinel'\n",
    "\n",
    "from glass.geo.df.fmweb.sentinel import down_imgs\n",
    "\n",
    "down_imgs(IN_SHP, 'uuid', outFolder=OUT_FOLDER)"
   ]
  },
  {
   "cell_type": "code",
   "execution_count": null,
   "metadata": {},
   "outputs": [],
   "source": []
  }
 ],
 "metadata": {
  "kernelspec": {
   "display_name": "Python 3",
   "language": "python",
   "name": "python3"
  },
  "language_info": {
   "codemirror_mode": {
    "name": "ipython",
    "version": 3
   },
   "file_extension": ".py",
   "mimetype": "text/x-python",
   "name": "python",
   "nbconvert_exporter": "python",
   "pygments_lexer": "ipython3",
   "version": "3.8.5"
  }
 },
 "nbformat": 4,
 "nbformat_minor": 4
}
