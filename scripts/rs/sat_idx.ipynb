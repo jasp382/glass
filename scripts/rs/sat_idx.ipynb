{
 "cells": [
  {
   "cell_type": "markdown",
   "metadata": {},
   "source": [
    "### NDVI ###"
   ]
  },
  {
   "cell_type": "code",
   "execution_count": null,
   "metadata": {},
   "outputs": [],
   "source": [
    "import os\n",
    "from glass.rst.sat.idx import ndvi\n",
    "from glass.rst.stats import rst_mean\n",
    "\n",
    "# NIR : RED\n",
    "folder = '/mnt/d/gwork/gigs_cmcprj/sentinel_2020'\n",
    "\n",
    "data = {\n",
    "    'ndvi_20200105_v2.tif' : {\n",
    "        \"NIR\" : 'T29TNE_20200105T112349_B08_10m.tif',\n",
    "        \"RED\" : 'T29TNE_20200105T112349_B04_10m.tif'\n",
    "    },\n",
    "    'ndvi_20200219_v2.tif' : {\n",
    "        \"NIR\" : 'T29TNE_20200219T112111_B08_10m.tif',\n",
    "        \"RED\" : 'T29TNE_20200219T112111_B04_10m.tif'\n",
    "    },\n",
    "    'ndvi_20200310_v2.tif' : {\n",
    "        \"NIR\" : 'T29TNE_20200310T112111_B08_10m.tif',\n",
    "        \"RED\" : 'T29TNE_20200310T112111_B04_10m.tif'\n",
    "    },\n",
    "    'ndvi_20200524_v2.tif' : {\n",
    "        \"NIR\" : 'T29TNE_20200524T112119_B08_10m.tif',\n",
    "        \"RED\" : 'T29TNE_20200524T112119_B04_10m.tif'\n",
    "    },\n",
    "    'ndvi_20200718_v2.tif' : {\n",
    "        \"NIR\" : 'T29TNE_20200718T112121_B08_10m.tif',\n",
    "        \"RED\" : 'T29TNE_20200718T112121_B04_10m.tif'\n",
    "    },\n",
    "    'ndvi_20200822_v2.tif' : {\n",
    "        \"NIR\" : 'T29TNE_20200822T112119_B08_10m.tif',\n",
    "        \"RED\" : 'T29TNE_20200822T112119_B04_10m.tif'\n",
    "    },\n",
    "    'ndvi_20200901_v2.tif' : {\n",
    "        \"NIR\" : 'T29TNE_20200901T112119_B08_10m.tif',\n",
    "        \"RED\" : 'T29TNE_20200901T112119_B04_10m.tif'\n",
    "    }\n",
    "}\n",
    "\n",
    "rsts = []\n",
    "for r in data:\n",
    "    nr = ndvi(\n",
    "        os.path.join(folder, data[r][\"NIR\"]),\n",
    "        os.path.join(folder, data[r][\"RED\"]),\n",
    "        os.path.join(folder, r)\n",
    "    )\n",
    "    \n",
    "    rsts.append(nr)\n",
    "\n",
    "rst_mean(rsts, os.path.join(folder, 'mean_ndvi_v2.tif'))"
   ]
  },
  {
   "cell_type": "code",
   "execution_count": null,
   "metadata": {},
   "outputs": [],
   "source": [
    "\"\"\"\n",
    "Calculate Normalized Burn Ratio\n",
    "\"\"\"\n",
    "\n",
    "from glass.rst.sat.idx import nbr\n",
    "\n",
    "nbr(\n",
    "    '/home/jasp/xpto/rmp_20190917/T29TNE_20190917T112119_B08_10m.tif',\n",
    "    '/home/jasp/xpto/rmp_20190917/T29TNE_20190917T112119_B12_20m.tif',\n",
    "    '/home/jasp/xpto/nbr_20190917_v2.tif',\n",
    ")"
   ]
  }
 ],
 "metadata": {
  "kernelspec": {
   "display_name": "Python 3",
   "language": "python",
   "name": "python3"
  },
  "language_info": {
   "codemirror_mode": {
    "name": "ipython",
    "version": 3
   },
   "file_extension": ".py",
   "mimetype": "text/x-python",
   "name": "python",
   "nbconvert_exporter": "python",
   "pygments_lexer": "ipython3",
   "version": "3.8.2"
  }
 },
 "nbformat": 4,
 "nbformat_minor": 2
}
