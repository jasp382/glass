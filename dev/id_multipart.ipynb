{
 "cells": [
  {
   "cell_type": "code",
   "execution_count": null,
   "id": "f08fb3d5-7e27-4a25-80c4-9c89276a3f39",
   "metadata": {},
   "outputs": [],
   "source": [
    "# ID multipart features\n",
    "\n",
    "from glass.rd.shp import shp_to_obj\n",
    "from glass.wt.shp import df_to_shp"
   ]
  },
  {
   "cell_type": "code",
   "execution_count": null,
   "id": "e2152bf9-651f-4476-9dfb-739aee6ac70d",
   "metadata": {},
   "outputs": [],
   "source": [
    "shp = '/mnt/d/mystuff/rms/rdvpt/rdv_03.shp'\n",
    "oshp = '/mnt/d/mystuff/rms/rdvpt/rdv_03_mp.shp'"
   ]
  },
  {
   "cell_type": "code",
   "execution_count": null,
   "id": "7d4cb9d0-c21f-4778-b8fc-6168d920dd59",
   "metadata": {},
   "outputs": [],
   "source": [
    "df = shp_to_obj(shp)"
   ]
  },
  {
   "cell_type": "code",
   "execution_count": null,
   "id": "a81c22e8-e0ca-436a-8ceb-3fbd0961e44d",
   "metadata": {},
   "outputs": [],
   "source": [
    "df[\"geomtype\"] = df.geometry.geom_type"
   ]
  },
  {
   "cell_type": "code",
   "execution_count": null,
   "id": "37b00466-142d-4c3c-8114-ff92cdc7359a",
   "metadata": {},
   "outputs": [],
   "source": [
    "df = df[df.geomtype == 'MultiLineString']"
   ]
  },
  {
   "cell_type": "code",
   "execution_count": null,
   "id": "e1cf582c-9038-4912-99d5-e80e2330cefc",
   "metadata": {},
   "outputs": [],
   "source": [
    "df_to_shp(df, oshp)"
   ]
  },
  {
   "cell_type": "code",
   "execution_count": null,
   "id": "d3022c4e-d68f-4742-b2ce-2172ee9577a7",
   "metadata": {},
   "outputs": [],
   "source": [
    "df.head(5)"
   ]
  },
  {
   "cell_type": "code",
   "execution_count": null,
   "id": "4588126a-861b-4c1d-91aa-f0a89ca11ed8",
   "metadata": {},
   "outputs": [],
   "source": []
  }
 ],
 "metadata": {
  "kernelspec": {
   "display_name": "Python 3 (ipykernel)",
   "language": "python",
   "name": "python3"
  },
  "language_info": {
   "codemirror_mode": {
    "name": "ipython",
    "version": 3
   },
   "file_extension": ".py",
   "mimetype": "text/x-python",
   "name": "python",
   "nbconvert_exporter": "python",
   "pygments_lexer": "ipython3",
   "version": "3.8.10"
  }
 },
 "nbformat": 4,
 "nbformat_minor": 5
}
