{
 "cells": [
  {
   "cell_type": "markdown",
   "id": "ef012ef6-cc7b-4b42-ab75-e5fb6551c91a",
   "metadata": {},
   "source": [
    "### Count how many times an area was burned"
   ]
  },
  {
   "cell_type": "code",
   "execution_count": null,
   "id": "e8e54009-8b2d-4f7e-b2da-d03623b822d3",
   "metadata": {},
   "outputs": [],
   "source": [
    "burn_area_folder = '/home/jasp/mystuff/cwsig/ex2_fire/aardidas/'\n",
    "\n",
    "refrst = '/home/jasp/mystuff/cwsig/ex2_fire/topografia/dem_pnse.tif'\n",
    "\n",
    "burn_rst = '/home/jasp/mystuff/cwsig/ex2_fire/nburn.tif'"
   ]
  },
  {
   "cell_type": "code",
   "execution_count": null,
   "id": "206d8a3e-a1e7-4239-9ca2-1d7719ea915e",
   "metadata": {},
   "outputs": [],
   "source": [
    "import os\n",
    "\n",
    "from glass.pys.oss import lst_ff, fprop\n",
    "from glass.wenv.grs import run_grass"
   ]
  },
  {
   "cell_type": "code",
   "execution_count": null,
   "id": "ce4741ec-8d45-42e8-8bb8-dad159b7a66f",
   "metadata": {},
   "outputs": [],
   "source": [
    "# List burn areas shapes\n",
    "bshps = lst_ff(burn_area_folder, file_format='.shp')"
   ]
  },
  {
   "cell_type": "code",
   "execution_count": null,
   "id": "1c5d4dea-5b10-425c-a6d3-772803d68a81",
   "metadata": {},
   "outputs": [],
   "source": [
    "# Start GRASS GIS Session\n",
    "orst_name = fprop(burn_rst, 'fn')\n",
    "ws = os.path.dirname(burn_rst)\n",
    "loc = f'locprod_{orst_name}'\n",
    "\n",
    "gb = run_grass(ws, location=loc, srs=refrst)\n",
    "\n",
    "import grass.script.setup as gsetup\n",
    "\n",
    "gsetup.init(gb, ws, loc, 'PERMANENT')"
   ]
  },
  {
   "cell_type": "code",
   "execution_count": null,
   "id": "c7887916-0002-42a1-99ff-8f9f41050e5a",
   "metadata": {},
   "outputs": [],
   "source": [
    "from glass.it.shp   import shp_to_grs\n",
    "from glass.it.rst   import rst_to_grs, grs_to_rst\n",
    "from glass.rst.alg  import rstcalc\n",
    "from glass.rst.rcls import null_to_value\n",
    "from glass.dtr.torst import grsshp_to_grsrst"
   ]
  },
  {
   "cell_type": "code",
   "execution_count": null,
   "id": "336dbdc4-8d37-4c16-a11f-6dc795cd7d4c",
   "metadata": {},
   "outputs": [],
   "source": [
    "print(rsts)"
   ]
  },
  {
   "cell_type": "code",
   "execution_count": null,
   "id": "3dd459b3-5bf5-462f-ad7a-7f8300660816",
   "metadata": {},
   "outputs": [],
   "source": [
    "# For each shape\n",
    "# Import it to GRASS GIS\n",
    "# Convert to Raster\n",
    "# Null to zero\n",
    "\n",
    "rsts = []\n",
    "for shp in bshps:\n",
    "    gshp = shp_to_grs(shp, fprop(shp, 'fn'))\n",
    "    \n",
    "    rshp = grsshp_to_grsrst(gshp, 1, f'rst_{gshp}')\n",
    "    \n",
    "    null_to_value(rshp, 0)\n",
    "    \n",
    "    rsts.append(rshp)"
   ]
  },
  {
   "cell_type": "code",
   "execution_count": null,
   "id": "80ce7f8b-400f-453f-90c9-873aa350e2a6",
   "metadata": {},
   "outputs": [],
   "source": [
    "# Sum all rasters\n",
    "frst = rstcalc(\" + \".join(rsts), orst_name, api='grass')\n",
    "\n",
    "# Export final raster\n",
    "grs_to_rst(frst, burn_rst)"
   ]
  },
  {
   "cell_type": "code",
   "execution_count": null,
   "id": "d715f9b2-bc6a-4bd0-b8c9-44f24600a72a",
   "metadata": {},
   "outputs": [],
   "source": []
  }
 ],
 "metadata": {
  "kernelspec": {
   "display_name": "Python 3 (ipykernel)",
   "language": "python",
   "name": "python3"
  },
  "language_info": {
   "codemirror_mode": {
    "name": "ipython",
    "version": 3
   },
   "file_extension": ".py",
   "mimetype": "text/x-python",
   "name": "python",
   "nbconvert_exporter": "python",
   "pygments_lexer": "ipython3",
   "version": "3.8.10"
  }
 },
 "nbformat": 4,
 "nbformat_minor": 5
}
