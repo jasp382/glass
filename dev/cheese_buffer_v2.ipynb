{
 "cells": [
  {
   "cell_type": "code",
   "execution_count": null,
   "id": "c2566531-d006-4d8c-96c6-ef6950c26498",
   "metadata": {},
   "outputs": [],
   "source": [
    "inshp  = '/mnt/d/a3land2023/rule3_4/sample.shp'\n",
    "\n",
    "dist = 500\n",
    "\n",
    "angle_min = 0\n",
    "angle_max = 45\n",
    "\n",
    "angles_int = 45\n",
    "\n",
    "outshp = '/mnt/d/a3land2023/rule3_4/cheese_buffer4.shp'\n",
    "outbf = '/mnt/d/a3land2023/rule3_4/regularbuffer.shp'\n",
    "outcheese = '/mnt/d/a3land2023/rule3_4/extracheese.shp'"
   ]
  },
  {
   "cell_type": "code",
   "execution_count": null,
   "id": "a762d606-1220-46d6-8bec-f201646f58c8",
   "metadata": {},
   "outputs": [],
   "source": [
    "import geopandas as gp\n",
    "import numpy as np\n",
    "from glass.gp.prox.bfing.obj import geodf_buffer\n",
    "from glass.rd.shp import shp_to_obj\n",
    "from glass.prop.prj import get_epsg\n",
    "from glass.gobj import create_polygon\n",
    "from glass.pd.dagg import col_listwlist_to_row\n",
    "from glass.pd import merge_df\n",
    "from glass.wt.shp import df_to_shp\n",
    "from glass.it.pd import df_to_geodf"
   ]
  },
  {
   "cell_type": "code",
   "execution_count": null,
   "id": "5f0f56d9-7a86-4a3c-921c-a427be76935a",
   "metadata": {},
   "outputs": [],
   "source": [
    "epsg = get_epsg(inshp)\n",
    "\n",
    "pdf = shp_to_obj(inshp)"
   ]
  },
  {
   "cell_type": "code",
   "execution_count": null,
   "id": "b2dd9ffb-2169-48e7-b36c-11fc7e8bd514",
   "metadata": {},
   "outputs": [],
   "source": [
    "# Get Regular Buffer\n",
    "rbf = geodf_buffer(pdf, dist)"
   ]
  },
  {
   "cell_type": "code",
   "execution_count": null,
   "id": "5fb9075b-abb4-4892-be99-cae90c00ec35",
   "metadata": {},
   "outputs": [],
   "source": [
    "rbf['ofeatid'] = rbf.index"
   ]
  },
  {
   "cell_type": "code",
   "execution_count": null,
   "id": "32458c45-6f4e-4961-9c58-281c00cafe8a",
   "metadata": {},
   "outputs": [],
   "source": [
    "# Get Cheese Buffer\n",
    "def run_cheese_buffer(r):\n",
    "    multipoly = []\n",
    "    \n",
    "    minangle = 0\n",
    "    maxangle = angles_int\n",
    "    \n",
    "    while maxangle <= 360:\n",
    "        coords = [(r.x, r.y)]\n",
    "        for i in range(minangle, maxangle + 1):\n",
    "            y = r.y + ((r.dist + dist) * np.cos(np.radians(i)))\n",
    "            x = r.x + ((r.dist + dist) * np.sin(np.radians(i)))\n",
    "    \n",
    "            coords.append((x, y))\n",
    "        \n",
    "        coords.append((r.x, r.y))   \n",
    "    \n",
    "        poly = create_polygon(coords, api='shapely')\n",
    "        \n",
    "        multipoly.append([r.featid, poly, f\"{str(minangle)} - {str(maxangle)}\"])\n",
    "        \n",
    "        minangle += angles_int\n",
    "        maxangle += angles_int\n",
    "    \n",
    "    r[\"geoms\"] = multipoly\n",
    "    \n",
    "    return r"
   ]
  },
  {
   "cell_type": "code",
   "execution_count": null,
   "id": "3b854c95-be0f-49f1-99c0-13b26875e21d",
   "metadata": {},
   "outputs": [],
   "source": [
    "odf = pdf.copy()\n",
    "\n",
    "s = pdf.geometry\n",
    "\n",
    "t = gp.GeoSeries(gp.points_from_xy(s.envelope.bounds.maxx, s.envelope.bounds.maxy))\n",
    "pdf[\"dist\"] = s.envelope.centroid.distance(t)\n",
    "\n",
    "pdf['x'] = s.envelope.centroid.x\n",
    "pdf['y'] = s.envelope.centroid.y\n",
    "\n",
    "pdf[\"featid\"] = pdf.index\n",
    "\n",
    "pdf = pdf.apply(lambda x: run_cheese_buffer(x), axis=1)\n",
    "\n",
    "pdf.drop([\"x\", \"y\", \"geometry\"], axis=1, inplace=True)"
   ]
  },
  {
   "cell_type": "code",
   "execution_count": null,
   "id": "72b3ce16-d114-40be-a38a-c2691bb62ba1",
   "metadata": {},
   "outputs": [],
   "source": [
    "pdf = col_listwlist_to_row(\n",
    "    pdf, \"geoms\", [\"ofid\", \"geom\", \"direction\"],\n",
    "    geomcol=\"geom\", epsg=epsg\n",
    ")"
   ]
  },
  {
   "cell_type": "code",
   "execution_count": null,
   "id": "cfa1cd45-b476-41c6-8a1e-7aee8dfa0237",
   "metadata": {},
   "outputs": [],
   "source": [
    "df_to_shp(pdf, outcheese)\n",
    "df_to_shp(rbf, outbf)"
   ]
  },
  {
   "cell_type": "code",
   "execution_count": null,
   "id": "b8e7db90-5cb2-4112-8461-d882870f36d7",
   "metadata": {},
   "outputs": [],
   "source": [
    "dfs = []\n",
    "for i, row in odf.iterrows():\n",
    "    # Get slices\n",
    "    slices = pdf[pdf.ofid == i]\n",
    "    \n",
    "    # Get regular buffer\n",
    "    regbf = rbf[rbf.ofeatid == i]\n",
    "    regbf = regbf.to_dict(orient=\"records\")\n",
    "    \n",
    "    bfgeom = regbf[0][\"geometry\"]\n",
    "    \n",
    "    # Get Intersection\n",
    "    slices[\"geometry\"] = slices.geom.intersection(bfgeom)\n",
    "    \n",
    "    dfs.append(slices)"
   ]
  },
  {
   "cell_type": "code",
   "execution_count": null,
   "id": "83101027-099e-4777-8e3a-ce052e9ce953",
   "metadata": {},
   "outputs": [],
   "source": [
    "fdf = merge_df(dfs)\n",
    "fdf = df_to_geodf(fdf, 'geometry', epsg)"
   ]
  },
  {
   "cell_type": "code",
   "execution_count": null,
   "id": "3394837a-07a6-40fb-a4f4-92dadf72eaeb",
   "metadata": {},
   "outputs": [],
   "source": [
    "fdf"
   ]
  },
  {
   "cell_type": "code",
   "execution_count": null,
   "id": "667dc4ff-ce77-4296-bfa7-5deac389f5b1",
   "metadata": {},
   "outputs": [],
   "source": [
    "fdf.drop('geom', axis=1, inplace=True)\n",
    "df_to_shp(fdf, outshp)"
   ]
  },
  {
   "cell_type": "code",
   "execution_count": null,
   "id": "cc0792b9-fe92-4c03-8951-5082e11b0370",
   "metadata": {},
   "outputs": [],
   "source": []
  }
 ],
 "metadata": {
  "kernelspec": {
   "display_name": "Python 3 (ipykernel)",
   "language": "python",
   "name": "python3"
  },
  "language_info": {
   "codemirror_mode": {
    "name": "ipython",
    "version": 3
   },
   "file_extension": ".py",
   "mimetype": "text/x-python",
   "name": "python",
   "nbconvert_exporter": "python",
   "pygments_lexer": "ipython3",
   "version": "3.8.10"
  }
 },
 "nbformat": 4,
 "nbformat_minor": 5
}
