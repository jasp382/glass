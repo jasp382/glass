{
 "cells": [
  {
   "cell_type": "markdown",
   "id": "30ec0da7-80a6-4839-a75f-375ced04e124",
   "metadata": {},
   "source": [
    "### Create a shapefile with areas that burned at least one time"
   ]
  },
  {
   "cell_type": "code",
   "execution_count": null,
   "id": "dc9add84-c903-4a09-885a-9f34c49b25ea",
   "metadata": {},
   "outputs": [],
   "source": [
    "burn_area_folder = '/home/jasp/mystuff/cwsig/ex2_fire/aardidas/'\n",
    "\n",
    "refrst = '/home/jasp/mystuff/cwsig/ex2_fire/topografia/dem_pnse.tif'"
   ]
  },
  {
   "cell_type": "code",
   "execution_count": null,
   "id": "0db5d418-6e04-4161-bcfa-48e501d761ee",
   "metadata": {},
   "outputs": [],
   "source": [
    "import os\n",
    "\n",
    "from glass.pys.oss import lst_ff, fprop\n",
    "from glass.wenv.grs import run_grass"
   ]
  },
  {
   "cell_type": "code",
   "execution_count": null,
   "id": "c8ba7db3-5ded-48e0-9ec6-7ed367c48915",
   "metadata": {},
   "outputs": [],
   "source": [
    "# List burn areas shapes\n",
    "bshps = lst_ff(burn_area_folder, file_format='.shp')"
   ]
  },
  {
   "cell_type": "code",
   "execution_count": null,
   "id": "374f24ad-31c4-4b74-991d-e9e2a45a4b8e",
   "metadata": {},
   "outputs": [],
   "source": [
    "# Start GRASS GIS Session\n",
    "\n",
    "ws = os.path.dirname(burn_rst)\n",
    "loc = f'locprod_{orst_name}'\n",
    "\n",
    "gb = run_grass(ws, location=loc, srs=refrst)\n",
    "\n",
    "import grass.script.setup as gsetup\n",
    "\n",
    "gsetup.init(gb, ws, loc, 'PERMANENT')"
   ]
  },
  {
   "cell_type": "code",
   "execution_count": null,
   "id": "7206fca5-8041-4c4e-ba34-204ea71650ec",
   "metadata": {},
   "outputs": [],
   "source": [
    "from glass.it.shp import shp_to_grs\n",
    "from glass.gp.ovl.import grsunion\n",
    "from glass.tbl.grs import reset_table\n",
    "from glass.gp.gen  import dissolve"
   ]
  },
  {
   "cell_type": "code",
   "execution_count": null,
   "id": "43770a6b-ac2c-4320-8571-f99bba5a3b7b",
   "metadata": {},
   "outputs": [],
   "source": [
    "res = None\n",
    "for shp in bshps:\n",
    "    # Import shapes into grass\n",
    "    bshp = shp_to_grs(shp, fprop(shp, 'fn'))\n",
    "    \n",
    "    # Union\n",
    "    if not res:\n",
    "        res = bshp\n",
    "    else:\n",
    "        res = grsunion(res, bshp, f'un_{bshp}')\n",
    "    \n",
    "    # Reset table\n",
    "    reset_table(res, {'code' : 'integer'}, {'code' : '1'})\n",
    "    \n",
    "    # Dissolve\n",
    "    res = dissolve(res, f'ds_{bshp}', 'code', api='pygrass')"
   ]
  }
 ],
 "metadata": {
  "kernelspec": {
   "display_name": "Python 3 (ipykernel)",
   "language": "python",
   "name": "python3"
  },
  "language_info": {
   "codemirror_mode": {
    "name": "ipython",
    "version": 3
   },
   "file_extension": ".py",
   "mimetype": "text/x-python",
   "name": "python",
   "nbconvert_exporter": "python",
   "pygments_lexer": "ipython3",
   "version": "3.10.4"
  }
 },
 "nbformat": 4,
 "nbformat_minor": 5
}
