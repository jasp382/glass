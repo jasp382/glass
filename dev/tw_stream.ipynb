{
 "cells": [
  {
   "cell_type": "code",
   "execution_count": null,
   "metadata": {},
   "outputs": [],
   "source": [
    "import csv\n",
    "import time\n",
    "\n",
    "from tweepy import Stream\n",
    "from tweepy import OAuthHandler\n",
    "from tweepy.streaming import StreamListener\n",
    "\n",
    "from glass.cons.dsn import search_words, tw_key"
   ]
  },
  {
   "cell_type": "code",
   "execution_count": null,
   "metadata": {},
   "outputs": [],
   "source": [
    "k = tw_key(allkeys=None)\n",
    "\n",
    "words = search_words(group='fire')"
   ]
  },
  {
   "cell_type": "code",
   "execution_count": null,
   "metadata": {},
   "outputs": [],
   "source": [
    "class TwListener(StreamListener):\n",
    "    \n",
    "    def __init__(self, start_time, time_limit):\n",
    "        self.time  = start_time\n",
    "        self.limit = time_limit\n",
    "        \n",
    "        super(TwListener, self).__init__()\n",
    "\n",
    "    def on_status(self, status):\n",
    "        if (time.time() - start_time) > self.limit:\n",
    "            return False\n",
    "        \n",
    "        if status.lang == \"en\":\n",
    "            # Altering text so that it keeps to one line\n",
    "            out_txt = \"'\" + status.text.replace('\\n', ' ') + \"'\"\n",
    "            \n",
    "            csvw.writerow([\n",
    "                status.id,\n",
    "                status.user.screen_name,\n",
    "                status.created_at.strftime('%m/%d/%y'),\n",
    "                status.user.followers_count,\n",
    "                out_txt\n",
    "            ])\n",
    "            \n",
    "        return True\n",
    "\n",
    "    def on_error(self, status):\n",
    "        if status == 420:\n",
    "            return False"
   ]
  },
  {
   "cell_type": "code",
   "execution_count": null,
   "metadata": {},
   "outputs": [],
   "source": [
    "auth = OAuthHandler(k['CONSUMER_KEY'], k['CONSUMER_SECRET'])\n",
    "\n",
    "auth.set_access_token(k['TOKEN'], k['SECRET'])\n",
    "\n",
    "start_time = time.time()\n",
    "\n",
    "tw_stream = Stream(auth, TwListener(start_time, 20))\n",
    "\n",
    "# Open file to write data\n",
    "with open(\"/home/jasp/mrgis/test_stream.csv\", \"w\", newline='') as csvfile:\n",
    "    csvw = csv.writer(csvfile, delimiter=' ', quotechar='|', quoting=csv.QUOTE_MINIMAL)\n",
    "    \n",
    "    csvw.writerow([\"twitter_id\", \"name\", \"created_at\", \"followers_count\", 'text'])\n",
    "\n",
    "    tw_stream.filter(track=words.word.tolist())"
   ]
  },
  {
   "cell_type": "code",
   "execution_count": null,
   "metadata": {},
   "outputs": [],
   "source": []
  }
 ],
 "metadata": {
  "kernelspec": {
   "display_name": "Python 3",
   "language": "python",
   "name": "python3"
  },
  "language_info": {
   "codemirror_mode": {
    "name": "ipython",
    "version": 3
   },
   "file_extension": ".py",
   "mimetype": "text/x-python",
   "name": "python",
   "nbconvert_exporter": "python",
   "pygments_lexer": "ipython3",
   "version": "3.8.5"
  }
 },
 "nbformat": 4,
 "nbformat_minor": 4
}
