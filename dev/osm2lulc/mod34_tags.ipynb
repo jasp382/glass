{
 "cells": [
  {
   "cell_type": "code",
   "execution_count": 1,
   "id": "c6768b82-2fd5-478a-8e5a-a35ef80efdf0",
   "metadata": {},
   "outputs": [],
   "source": [
    "ref_osm = '/mnt/d/osm2lulc01/osm2lulc01.gdb/osm/osm_evu_forest'\n",
    "\n",
    "cols_keys = [\n",
    "    'aeroway', 'amenity', 'barrier', 'building',\n",
    "    'craft', 'geological', 'historic', 'landuse', 'leisure',\n",
    "    'man_made', 'military', 'natural', 'office', 'place', 'shop',\n",
    "    'sport', 'tourism', 'waterway', 'power', 'railway', 'healthcare',\n",
    "    'highway', 'water', 'landcover', 'industrial', 'leaf_type',\n",
    "    'material', 'surface', 'leaf_cycle',\n",
    "]\n",
    "\n",
    "col_class = 'code_2018'\n",
    "\n",
    "out_tbl = '/mnt/d/osm2lulc01/tags_statistics2.xlsx'"
   ]
  },
  {
   "cell_type": "code",
   "execution_count": 2,
   "id": "a60aa7c1-a28f-4cab-8ce3-9be7b5b2e7dc",
   "metadata": {},
   "outputs": [
    {
     "name": "stderr",
     "output_type": "stream",
     "text": [
      "/home/jasp/.virtualenvs/genv/lib/python3.8/site-packages/geopandas/_compat.py:112: UserWarning: The Shapely GEOS version (3.10.2-CAPI-1.16.0) is incompatible with the GEOS version PyGEOS was compiled with (3.10.4-CAPI-1.16.2). Conversions between both will be slow.\n",
      "  warnings.warn(\n"
     ]
    }
   ],
   "source": [
    "import pandas as pd\n",
    "\n",
    "from glass.rd.shp import shp_to_obj\n",
    "from glass.dtr.mge.pd import merge_df\n",
    "from glass.wt import obj_to_tbl"
   ]
  },
  {
   "cell_type": "code",
   "execution_count": 3,
   "id": "89f05ae4-f0db-48e6-a0df-784f71c56154",
   "metadata": {},
   "outputs": [],
   "source": [
    "gdf = shp_to_obj(ref_osm)"
   ]
  },
  {
   "cell_type": "code",
   "execution_count": 4,
   "id": "4222479f-6ea5-45c5-83b9-e451172e85ac",
   "metadata": {},
   "outputs": [],
   "source": [
    "classes = gdf[col_class].unique()\n",
    "\n",
    "gdf['garea'] = gdf.geometry.area\n",
    "\n",
    "class_df = pd.DataFrame({\n",
    "    'garea' : gdf.groupby([col_class])['garea'].agg('sum')\n",
    "}).reset_index()\n",
    "\n",
    "total_area = class_df.garea.sum()"
   ]
  },
  {
   "cell_type": "code",
   "execution_count": 5,
   "id": "443b6543-25a2-47ae-bc88-fc65a81948a7",
   "metadata": {},
   "outputs": [],
   "source": [
    "cls_area = {}\n",
    "\n",
    "for i, r in class_df.iterrows():\n",
    "    cls_area[r[col_class]] = r.garea"
   ]
  },
  {
   "cell_type": "code",
   "execution_count": 6,
   "id": "845e81f4-4eb1-4c2b-a503-bdcafcfa41a5",
   "metadata": {},
   "outputs": [
    {
     "data": {
      "text/plain": [
       "{'14100': 43798519.011843145, '31000': 1089575925.6986272}"
      ]
     },
     "execution_count": 6,
     "metadata": {},
     "output_type": "execute_result"
    }
   ],
   "source": [
    "cls_area"
   ]
  },
  {
   "cell_type": "code",
   "execution_count": 7,
   "id": "555ce700-025a-4c1b-80a5-afb8e00866c5",
   "metadata": {},
   "outputs": [
    {
     "data": {
      "text/html": [
       "<div>\n",
       "<style scoped>\n",
       "    .dataframe tbody tr th:only-of-type {\n",
       "        vertical-align: middle;\n",
       "    }\n",
       "\n",
       "    .dataframe tbody tr th {\n",
       "        vertical-align: top;\n",
       "    }\n",
       "\n",
       "    .dataframe thead th {\n",
       "        text-align: right;\n",
       "    }\n",
       "</style>\n",
       "<table border=\"1\" class=\"dataframe\">\n",
       "  <thead>\n",
       "    <tr style=\"text-align: right;\">\n",
       "      <th></th>\n",
       "      <th>code_2018</th>\n",
       "      <th>garea</th>\n",
       "    </tr>\n",
       "  </thead>\n",
       "  <tbody>\n",
       "    <tr>\n",
       "      <th>0</th>\n",
       "      <td>14100</td>\n",
       "      <td>4.379852e+07</td>\n",
       "    </tr>\n",
       "    <tr>\n",
       "      <th>1</th>\n",
       "      <td>31000</td>\n",
       "      <td>1.089576e+09</td>\n",
       "    </tr>\n",
       "  </tbody>\n",
       "</table>\n",
       "</div>"
      ],
      "text/plain": [
       "  code_2018         garea\n",
       "0     14100  4.379852e+07\n",
       "1     31000  1.089576e+09"
      ]
     },
     "execution_count": 7,
     "metadata": {},
     "output_type": "execute_result"
    }
   ],
   "source": [
    "class_df"
   ]
  },
  {
   "cell_type": "code",
   "execution_count": 8,
   "id": "066680df-a023-45a5-a4d9-13bdcfd4af2e",
   "metadata": {},
   "outputs": [],
   "source": [
    "# For each key, list values\n",
    "\n",
    "key_df = {}\n",
    "for cls in classes:\n",
    "    cls_df = gdf[gdf[col_class] == cls]\n",
    "\n",
    "    dfs = []\n",
    "    \n",
    "    for _key in cols_keys:\n",
    "        _df = cls_df[~cls_df[_key].isnull()]\n",
    "    \n",
    "        gb = pd.DataFrame({\n",
    "            'garea' : _df.groupby([_key])['garea'].agg('sum')\n",
    "        }).reset_index()\n",
    "\n",
    "        gb['osmtag'] = _key + '=' + gb[_key]\n",
    "\n",
    "        gb.drop(_key, axis=1, inplace=True)\n",
    "\n",
    "        gb[f'p_{cls}'] = gb.garea / cls_area[cls] * 100\n",
    "\n",
    "        gb[f'pt_{cls}'] = gb.garea / total_area * 100\n",
    "\n",
    "        dfs.append(gb)\n",
    "\n",
    "    key_df[cls] = merge_df(dfs)"
   ]
  },
  {
   "cell_type": "code",
   "execution_count": 9,
   "id": "292def5b-aba0-4585-8189-78c3bbff46bf",
   "metadata": {},
   "outputs": [],
   "source": [
    "# Join all dataframes of each class\n",
    "\n",
    "main_df = key_df[classes[0]]\n",
    "\n",
    "for cls in classes[1:]:\n",
    "    key_df[cls].rename(columns={'osmtag' : 'osmtag_y'}, inplace=True)\n",
    "\n",
    "    main_df = main_df.merge(key_df[cls], how='outer', left_on='osmtag', right_on='osmtag_y')\n",
    "\n",
    "    main_df['osmtag'] = main_df.osmtag.fillna(value=main_df.osmtag_y)\n",
    "\n",
    "    main_df.drop('osmtag_y', axis=1, inplace=True)\n",
    "\n",
    "    main_df = main_df.fillna(0)"
   ]
  },
  {
   "cell_type": "code",
   "execution_count": 10,
   "id": "8a5398ae-c6ce-4e4a-b299-2217b07f8c70",
   "metadata": {},
   "outputs": [
    {
     "data": {
      "text/plain": [
       "'/mnt/d/osm2lulc01/tags_statistics2.xlsx'"
      ]
     },
     "execution_count": 10,
     "metadata": {},
     "output_type": "execute_result"
    }
   ],
   "source": [
    "obj_to_tbl(main_df, out_tbl, sheetsName='statistics')"
   ]
  },
  {
   "cell_type": "code",
   "execution_count": null,
   "id": "d22422d9-0991-4824-8684-df0322f9d020",
   "metadata": {},
   "outputs": [],
   "source": []
  }
 ],
 "metadata": {
  "kernelspec": {
   "display_name": "Python 3 (ipykernel)",
   "language": "python",
   "name": "python3"
  },
  "language_info": {
   "codemirror_mode": {
    "name": "ipython",
    "version": 3
   },
   "file_extension": ".py",
   "mimetype": "text/x-python",
   "name": "python",
   "nbconvert_exporter": "python",
   "pygments_lexer": "ipython3",
   "version": "3.8.10"
  }
 },
 "nbformat": 4,
 "nbformat_minor": 5
}
