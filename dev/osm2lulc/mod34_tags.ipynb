{
 "cells": [
  {
   "cell_type": "code",
   "execution_count": null,
   "id": "c6768b82-2fd5-478a-8e5a-a35ef80efdf0",
   "metadata": {},
   "outputs": [],
   "source": [
    "ref_osm = '/mnt/d/osm2lulc01/osm2lulc01.gdb/osm/points_evu_forest'\n",
    "\n",
    "cols_keys = [\n",
    "    #'aeroway', 'amenity', 'barrier', 'building',\n",
    "    #'craft', 'geological', 'historic', 'landuse', 'leisure',\n",
    "    #'man_made', 'military', 'natural', 'office', 'place', 'shop',\n",
    "    #'sport', 'tourism', 'waterway', 'power', 'railway', 'healthcare',\n",
    "    #'highway', 'water', 'landcover', 'industrial', 'leaf_type',\n",
    "    #'material', 'surface', 'leaf_cycle',\n",
    "    #\n",
    "    #'highway', 'waterway', 'aerialway',\n",
    "    #'barrier', 'man_made', 'railway', 'sidewalk', 'busway', 'natural',\n",
    "    #'leisure', 'cycleway'\n",
    "    #\n",
    "    'barrier', 'highway',\n",
    "    'place', 'man_made', 'building', 'natural',\n",
    "    'leisure', 'healthcare', 'railway', 'amenity', 'waterway',\n",
    "    'landuse', 'power', 'shop',\n",
    "    'tourism', 'historic', 'cuisine', 'sport', 'office', 'religion'\n",
    "]\n",
    "\n",
    "col_class = 'code_2018'\n",
    "\n",
    "out_tbl = '/mnt/d/osm2lulc01/tags_statistics3.xlsx'"
   ]
  },
  {
   "cell_type": "code",
   "execution_count": null,
   "id": "a60aa7c1-a28f-4cab-8ce3-9be7b5b2e7dc",
   "metadata": {},
   "outputs": [],
   "source": [
    "import pandas as pd\n",
    "\n",
    "from glass.rd.shp import shp_to_obj\n",
    "from glass.dtr.mge.pd import merge_df\n",
    "from glass.wt import obj_to_tbl\n",
    "from glass.prop.gpd import geom_type"
   ]
  },
  {
   "cell_type": "code",
   "execution_count": null,
   "id": "433955a1-44e5-47b1-b630-3b2ab467ddd0",
   "metadata": {},
   "outputs": [],
   "source": [
    "gattr = 'gattr'"
   ]
  },
  {
   "cell_type": "code",
   "execution_count": null,
   "id": "4c863bdb-8f06-4030-9b60-d65a5abbd9ef",
   "metadata": {},
   "outputs": [],
   "source": [
    "gdf = shp_to_obj(ref_osm)\n",
    "\n",
    "gtype = geom_type(gdf)\n",
    "\n",
    "classes = gdf[col_class].unique()\n",
    "\n",
    "if gtype == 'MultiPolygon' or gtype == 'Polygon':\n",
    "    gdf[gattr] = gdf.geometry.area\n",
    "\n",
    "elif gtype == 'MultiLineString' or gtype == 'LineString':\n",
    "    gdf[gattr] = gdf.geometry.length"
   ]
  },
  {
   "cell_type": "code",
   "execution_count": null,
   "id": "aeeb7e9e-86f9-40ac-a4ed-c63351cfd93b",
   "metadata": {},
   "outputs": [],
   "source": [
    "gtype"
   ]
  },
  {
   "cell_type": "code",
   "execution_count": null,
   "id": "76d0a5fc-85f3-4c89-b912-00b57570fe04",
   "metadata": {},
   "outputs": [],
   "source": [
    "gdf.columns.values"
   ]
  },
  {
   "cell_type": "code",
   "execution_count": null,
   "id": "4222479f-6ea5-45c5-83b9-e451172e85ac",
   "metadata": {},
   "outputs": [],
   "source": [
    "if gtype == 'MultiPoint' or gtype == 'Point':\n",
    "    class_df = pd.DataFrame({\n",
    "        gattr : gdf.groupby([col_class])[col_class].agg('count')\n",
    "    }).reset_index()\n",
    "\n",
    "else:\n",
    "    class_df = pd.DataFrame({\n",
    "        gattr : gdf.groupby([col_class])[gattr].agg('sum')\n",
    "    }).reset_index()\n",
    "\n",
    "total_area = class_df[gattr].sum()"
   ]
  },
  {
   "cell_type": "code",
   "execution_count": null,
   "id": "443b6543-25a2-47ae-bc88-fc65a81948a7",
   "metadata": {},
   "outputs": [],
   "source": [
    "cls_area = {}\n",
    "\n",
    "for i, r in class_df.iterrows():\n",
    "    cls_area[r[col_class]] = r[gattr]"
   ]
  },
  {
   "cell_type": "code",
   "execution_count": null,
   "id": "845e81f4-4eb1-4c2b-a503-bdcafcfa41a5",
   "metadata": {},
   "outputs": [],
   "source": [
    "cls_area"
   ]
  },
  {
   "cell_type": "code",
   "execution_count": null,
   "id": "555ce700-025a-4c1b-80a5-afb8e00866c5",
   "metadata": {},
   "outputs": [],
   "source": [
    "class_df"
   ]
  },
  {
   "cell_type": "code",
   "execution_count": null,
   "id": "066680df-a023-45a5-a4d9-13bdcfd4af2e",
   "metadata": {},
   "outputs": [],
   "source": [
    "# For each key, list values\n",
    "\n",
    "key_df = {}\n",
    "for cls in classes:\n",
    "    cls_df = gdf[gdf[col_class] == cls]\n",
    "\n",
    "    dfs = []\n",
    "    \n",
    "    for _key in cols_keys:\n",
    "        _df = cls_df[~cls_df[_key].isnull()]\n",
    "\n",
    "        if gtype == 'MultiPoint' or gtype == 'Point':\n",
    "            gb = pd.DataFrame({\n",
    "                gattr : _df.groupby([_key])[_key].agg('count')\n",
    "            }).reset_index()\n",
    "\n",
    "        else:\n",
    "            gb = pd.DataFrame({\n",
    "                gattr : _df.groupby([_key])[gattr].agg('sum')\n",
    "            }).reset_index()\n",
    "\n",
    "        gb['osmtag'] = _key + '=' + gb[_key]\n",
    "\n",
    "        gb.drop(_key, axis=1, inplace=True)\n",
    "\n",
    "        gb[f'p_{cls}'] = gb[gattr] / cls_area[cls] * 100\n",
    "\n",
    "        gb[f'pt_{cls}'] = gb[gattr] / total_area * 100\n",
    "\n",
    "        dfs.append(gb)\n",
    "\n",
    "    key_df[cls] = merge_df(dfs)"
   ]
  },
  {
   "cell_type": "code",
   "execution_count": null,
   "id": "292def5b-aba0-4585-8189-78c3bbff46bf",
   "metadata": {},
   "outputs": [],
   "source": [
    "# Join all dataframes of each class\n",
    "\n",
    "main_df = key_df[classes[0]]\n",
    "\n",
    "for cls in classes[1:]:\n",
    "    key_df[cls].rename(columns={'osmtag' : 'osmtag_y'}, inplace=True)\n",
    "\n",
    "    main_df = main_df.merge(key_df[cls], how='outer', left_on='osmtag', right_on='osmtag_y')\n",
    "\n",
    "    main_df['osmtag'] = main_df.osmtag.fillna(value=main_df.osmtag_y)\n",
    "\n",
    "    main_df.drop('osmtag_y', axis=1, inplace=True)\n",
    "\n",
    "    main_df = main_df.fillna(0)"
   ]
  },
  {
   "cell_type": "code",
   "execution_count": null,
   "id": "8a5398ae-c6ce-4e4a-b299-2217b07f8c70",
   "metadata": {},
   "outputs": [],
   "source": [
    "obj_to_tbl(main_df, out_tbl, sheetsName='statistics')"
   ]
  },
  {
   "cell_type": "code",
   "execution_count": null,
   "id": "d22422d9-0991-4824-8684-df0322f9d020",
   "metadata": {},
   "outputs": [],
   "source": []
  }
 ],
 "metadata": {
  "kernelspec": {
   "display_name": "Python 3 (ipykernel)",
   "language": "python",
   "name": "python3"
  },
  "language_info": {
   "codemirror_mode": {
    "name": "ipython",
    "version": 3
   },
   "file_extension": ".py",
   "mimetype": "text/x-python",
   "name": "python",
   "nbconvert_exporter": "python",
   "pygments_lexer": "ipython3",
   "version": "3.8.10"
  }
 },
 "nbformat": 4,
 "nbformat_minor": 5
}
