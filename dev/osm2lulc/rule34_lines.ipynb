{
 "cells": [
  {
   "cell_type": "code",
   "execution_count": 1,
   "id": "d53249d6-2913-4306-8a4b-c7635049ae69",
   "metadata": {},
   "outputs": [],
   "source": [
    "green_areas = r'D:\\osm2lulc2023\\rule3_4\\rule34.gdb\\result_evu_v2'\n",
    "\n",
    "green_fid = 'ffid'\n",
    "\n",
    "osm_lines = r'D:\\osm2lulc2023\\rule3_4\\rule34.gdb\\osm\\osmlines'\n",
    "\n",
    "outfeat = r'D:\\osm2lulc2023\\rule3_4\\rule34.gdb\\result_evu_v3'\n",
    "\n",
    "tmpws = r'D:\\osm2lulc2023\\rule3_4\\rule34.gdb\\corre'"
   ]
  },
  {
   "cell_type": "code",
   "execution_count": 2,
   "id": "7700e6ab-a308-4d8e-8e5e-22229d25db28",
   "metadata": {},
   "outputs": [],
   "source": [
    "import arcpy\n",
    "import os\n",
    "\n",
    "from gesri.dp import copy_feat\n",
    "from gesri.rd.shp import shp_to_lyr\n",
    "from gesri.gp.ovl import intersection\n",
    "from gesri.gp.gen import dissolve\n",
    "from gesri.tbl.joins import join_table\n",
    "from gesri.tbl.attr import geom_attr_to_shp"
   ]
  },
  {
   "cell_type": "code",
   "execution_count": 3,
   "id": "0f84db00-cf9a-4ac2-b53c-12c2982756db",
   "metadata": {},
   "outputs": [],
   "source": [
    "srs = \"PROJCS[\\\"ETRS_1989_Portugal_TM06\\\",GEOGCS[\\\"GCS_ETRS_1989\\\",DATUM[\\\"D_ETRS_1989\\\",SPHEROID[\\\"GRS_1980\\\",6378137.0,298.257222101]],PRIMEM[\\\"Greenwich\\\",0.0],UNIT[\\\"Degree\\\",0.0174532925199433]],PROJECTION[\\\"Transverse_Mercator\\\"],PARAMETER[\\\"False_Easting\\\",0.0],PARAMETER[\\\"False_Northing\\\",0.0],PARAMETER[\\\"Central_Meridian\\\",-8.133108333333334],PARAMETER[\\\"Scale_Factor\\\",1.0],PARAMETER[\\\"Latitude_Of_Origin\\\",39.66825833333333],UNIT[\\\"Meter\\\",1.0]]\""
   ]
  },
  {
   "cell_type": "code",
   "execution_count": 4,
   "id": "ebd8d6c6-e550-42d0-afbd-5c7fa6f65443",
   "metadata": {},
   "outputs": [],
   "source": [
    "arcpy.env.overwriteOutput = True"
   ]
  },
  {
   "cell_type": "code",
   "execution_count": 5,
   "id": "2c7d59c7-03fa-4a68-9de1-a36d38498ae3",
   "metadata": {},
   "outputs": [],
   "source": [
    "cp_green = copy_feat(green_areas, outfeat)\n",
    "\n",
    "glyr = shp_to_lyr(cp_green)\n",
    "\n",
    "llyr = shp_to_lyr(osm_lines)"
   ]
  },
  {
   "cell_type": "code",
   "execution_count": 6,
   "id": "55eb288e-ff01-4237-a0ec-c1d92a0bcac1",
   "metadata": {},
   "outputs": [],
   "source": [
    "# Intersect\n",
    "\n",
    "ointersect = os.path.join(tmpws, 'i_green_osmlines')\n",
    "ilyr = intersection([glyr, llyr], ointersect)"
   ]
  },
  {
   "cell_type": "code",
   "execution_count": 7,
   "id": "a8ca11ae-8342-4b96-87e2-4130294a8ff4",
   "metadata": {},
   "outputs": [],
   "source": [
    "# Dissolve\n",
    "\n",
    "odiss = os.path.join(tmpws, 'green_lines_diss')\n",
    "disslyr = dissolve(ilyr, odiss, green_fid)\n",
    "\n",
    "# Get length\n",
    "disslyr = geom_attr_to_shp(\n",
    "    disslyr, \"cline\",\n",
    "    geom_attr=\"LENGTH\", srs=srs,\n",
    "    lenunit=\"METERS\"\n",
    ")"
   ]
  },
  {
   "cell_type": "code",
   "execution_count": 8,
   "id": "e5624d55-ab3f-4a90-ace5-fbbf262e3cf5",
   "metadata": {},
   "outputs": [],
   "source": [
    "# Join\n",
    "\n",
    "green_lyr = join_table(\n",
    "    cp_green, disslyr,\n",
    "    green_fid, green_fid,\n",
    "    cols=[\"cline\"]\n",
    ")"
   ]
  }
 ],
 "metadata": {
  "kernelspec": {
   "display_name": "Python 3 (ipykernel)",
   "language": "python",
   "name": "python3"
  },
  "language_info": {
   "codemirror_mode": {
    "name": "ipython",
    "version": 3
   },
   "file_extension": ".py",
   "mimetype": "text/x-python",
   "name": "python",
   "nbconvert_exporter": "python",
   "pygments_lexer": "ipython3",
   "version": "3.9.16"
  }
 },
 "nbformat": 4,
 "nbformat_minor": 5
}
