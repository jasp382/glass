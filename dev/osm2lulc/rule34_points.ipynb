{
 "cells": [
  {
   "cell_type": "code",
   "execution_count": 1,
   "id": "aedb5c7e-b61f-46ed-a86e-6120db50537e",
   "metadata": {},
   "outputs": [],
   "source": [
    "green_areas = r'D:\\osm2lulc01\\uatlas\\forest_and_evu.shp'\n",
    "\n",
    "green_fid =  'ffif'\n",
    "\n",
    "points_forest = r'D:\\osm2lulc01\\osm2lulc01.gdb\\osm\\helping_points_forest'\n",
    "\n",
    "points_evu = r'D:\\osm2lulc01\\osm2lulc01.gdb\\osm\\helping_points_evu'\n",
    "\n",
    "outfeat = r'D:\\osm2lulc01\\osm2lulc01.gdb\\result_points'\n",
    "\n",
    "tmpws = r'D:\\osm2lulc01\\osm2lulc01.gdb\\corre'"
   ]
  },
  {
   "cell_type": "code",
   "execution_count": 2,
   "id": "82f3222f-b842-446e-a6e0-a3f75696a7a1",
   "metadata": {},
   "outputs": [],
   "source": [
    "import arcpy\n",
    "import os\n",
    "\n",
    "from gesri.dp import copy_feat\n",
    "from gesri.rd.shp import shp_to_lyr\n",
    "from gesri.gp.ovl import intersection\n",
    "from gesri.gp.gen import dissolve\n",
    "from gesri.tbl.joins import join_table\n",
    "from gesri.tbl.col import rename_col\n",
    "from gesri.tbl.col import cols_calc"
   ]
  },
  {
   "cell_type": "code",
   "execution_count": 3,
   "id": "24360da9-94a3-4e6d-bd84-b011f2b44cc1",
   "metadata": {},
   "outputs": [],
   "source": [
    "arcpy.env.overwriteOutput = True"
   ]
  },
  {
   "cell_type": "code",
   "execution_count": 4,
   "id": "32161a28-45e6-4be8-a107-df074be654ad",
   "metadata": {},
   "outputs": [],
   "source": [
    "srs = \"PROJCS[\\\"ETRS_1989_Portugal_TM06\\\",GEOGCS[\\\"GCS_ETRS_1989\\\",DATUM[\\\"D_ETRS_1989\\\",SPHEROID[\\\"GRS_1980\\\",6378137.0,298.257222101]],PRIMEM[\\\"Greenwich\\\",0.0],UNIT[\\\"Degree\\\",0.0174532925199433]],PROJECTION[\\\"Transverse_Mercator\\\"],PARAMETER[\\\"False_Easting\\\",0.0],PARAMETER[\\\"False_Northing\\\",0.0],PARAMETER[\\\"Central_Meridian\\\",-8.133108333333334],PARAMETER[\\\"Scale_Factor\\\",1.0],PARAMETER[\\\"Latitude_Of_Origin\\\",39.66825833333333],UNIT[\\\"Meter\\\",1.0]]\""
   ]
  },
  {
   "cell_type": "code",
   "execution_count": 5,
   "id": "578d69ab-c16e-4098-b920-bebf94953e3b",
   "metadata": {},
   "outputs": [],
   "source": [
    "cp_green = copy_feat(green_areas, outfeat)\n",
    "\n",
    "glyr = shp_to_lyr(cp_green)\n",
    "\n",
    "d = {\n",
    "    'forest' : shp_to_lyr(points_forest),\n",
    "    'evu'    : shp_to_lyr(points_evu)\n",
    "}"
   ]
  },
  {
   "cell_type": "code",
   "execution_count": 6,
   "id": "91462ab4-6ec8-4aa7-bfed-468779cea00c",
   "metadata": {},
   "outputs": [],
   "source": [
    "for k in d:\n",
    "    # Intersect\n",
    "    oint = os.path.join(tmpws, f'i_{k}')\n",
    "    ilyr = intersection([glyr, d[k]], oint)\n",
    "\n",
    "    # Dissolve\n",
    "    odiss = os.path.join(tmpws, f'diss_{k}')\n",
    "    disslyr = dissolve(\n",
    "        ilyr, odiss, green_fid,\n",
    "        statistics=[[green_fid, 'COUNT']]\n",
    "    )\n",
    "    \n",
    "    # Join\n",
    "    green_lyr = join_table(\n",
    "        cp_green, disslyr,\n",
    "        green_fid, green_fid,\n",
    "        cols=[f\"COUNT_{green_fid}\"]\n",
    "    )\n",
    "    \n",
    "    # Rename column\n",
    "    green_lyr = rename_col(green_lyr, f\"COUNT_{green_fid}\", f\"pnts_{k}\")\n",
    "    \n",
    "    # Fill null values\n",
    "    green_lyr = cols_calc(green_lyr, f\"pnts_{k}\", f\"fillna(!pnts_{k}!)\", code=\"\"\"def fillna(np):\n",
    "        if not np:\n",
    "            return 0\n",
    "        \n",
    "        return np\"\"\"\n",
    "    )"
   ]
  }
 ],
 "metadata": {
  "kernelspec": {
   "display_name": "Python 3 (ipykernel)",
   "language": "python",
   "name": "python3"
  },
  "language_info": {
   "codemirror_mode": {
    "name": "ipython",
    "version": 3
   },
   "file_extension": ".py",
   "mimetype": "text/x-python",
   "name": "python",
   "nbconvert_exporter": "python",
   "pygments_lexer": "ipython3",
   "version": "3.9.16"
  }
 },
 "nbformat": 4,
 "nbformat_minor": 5
}
