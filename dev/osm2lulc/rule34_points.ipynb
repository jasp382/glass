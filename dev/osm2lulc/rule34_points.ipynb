{
 "cells": [
  {
   "cell_type": "code",
   "execution_count": 1,
   "id": "aedb5c7e-b61f-46ed-a86e-6120db50537e",
   "metadata": {},
   "outputs": [],
   "source": [
    "green_areas = r'D:\\osm2lulc2023\\rule3_4\\rule34.gdb\\result_evu_v3'\n",
    "\n",
    "green_fid = 'ffid'\n",
    "\n",
    "osm_points = r'D:\\osm2lulc2023\\rule3_4\\rule34.gdb\\osm\\osmpoints'\n",
    "\n",
    "outfeat = r'D:\\osm2lulc2023\\rule3_4\\rule34.gdb\\result_evu_v4'\n",
    "\n",
    "tmpws = r'D:\\osm2lulc2023\\rule3_4\\rule34.gdb\\corre'"
   ]
  },
  {
   "cell_type": "code",
   "execution_count": 2,
   "id": "82f3222f-b842-446e-a6e0-a3f75696a7a1",
   "metadata": {},
   "outputs": [],
   "source": [
    "import arcpy\n",
    "import os\n",
    "\n",
    "from gesri.dp import copy_feat\n",
    "from gesri.rd.shp import shp_to_lyr\n",
    "from gesri.gp.ovl import intersection\n",
    "from gesri.gp.gen import dissolve\n",
    "from gesri.tbl.joins import join_table"
   ]
  },
  {
   "cell_type": "code",
   "execution_count": 3,
   "id": "24360da9-94a3-4e6d-bd84-b011f2b44cc1",
   "metadata": {},
   "outputs": [],
   "source": [
    "arcpy.env.overwriteOutput = True"
   ]
  },
  {
   "cell_type": "code",
   "execution_count": 4,
   "id": "32161a28-45e6-4be8-a107-df074be654ad",
   "metadata": {},
   "outputs": [],
   "source": [
    "srs = \"PROJCS[\\\"ETRS_1989_Portugal_TM06\\\",GEOGCS[\\\"GCS_ETRS_1989\\\",DATUM[\\\"D_ETRS_1989\\\",SPHEROID[\\\"GRS_1980\\\",6378137.0,298.257222101]],PRIMEM[\\\"Greenwich\\\",0.0],UNIT[\\\"Degree\\\",0.0174532925199433]],PROJECTION[\\\"Transverse_Mercator\\\"],PARAMETER[\\\"False_Easting\\\",0.0],PARAMETER[\\\"False_Northing\\\",0.0],PARAMETER[\\\"Central_Meridian\\\",-8.133108333333334],PARAMETER[\\\"Scale_Factor\\\",1.0],PARAMETER[\\\"Latitude_Of_Origin\\\",39.66825833333333],UNIT[\\\"Meter\\\",1.0]]\""
   ]
  },
  {
   "cell_type": "code",
   "execution_count": 5,
   "id": "578d69ab-c16e-4098-b920-bebf94953e3b",
   "metadata": {},
   "outputs": [],
   "source": [
    "cp_green = copy_feat(green_areas, outfeat)\n",
    "\n",
    "glyr = shp_to_lyr(cp_green)\n",
    "\n",
    "plyr = shp_to_lyr(osm_points)"
   ]
  },
  {
   "cell_type": "code",
   "execution_count": 6,
   "id": "91462ab4-6ec8-4aa7-bfed-468779cea00c",
   "metadata": {},
   "outputs": [],
   "source": [
    "# Intersect\n",
    "\n",
    "ointersect = os.path.join(tmpws, 'i_green_osmpnt')\n",
    "ilyr = intersection([glyr, plyr], ointersect)"
   ]
  },
  {
   "cell_type": "code",
   "execution_count": 7,
   "id": "fc6c8b62-6927-485f-9088-c78fd0035a7a",
   "metadata": {},
   "outputs": [],
   "source": [
    "# Dissolve\n",
    "\n",
    "odiss = os.path.join(tmpws, 'green_pnt_diss')\n",
    "disslyr = dissolve(\n",
    "    ilyr, odiss, green_fid,\n",
    "    statistics=[[green_fid, 'COUNT']]\n",
    ")"
   ]
  },
  {
   "cell_type": "code",
   "execution_count": 8,
   "id": "7e89cc36-a45a-4b11-8d0f-a5c74e581b17",
   "metadata": {},
   "outputs": [],
   "source": [
    "# Join\n",
    "\n",
    "green_lyr = join_table(\n",
    "    cp_green, disslyr,\n",
    "    green_fid, green_fid,\n",
    "    cols=[f\"COUNT_{green_fid}\"]\n",
    ")"
   ]
  },
  {
   "cell_type": "code",
   "execution_count": null,
   "id": "dad2b90f-afa0-4f55-a962-00aaf2f2eea1",
   "metadata": {},
   "outputs": [],
   "source": []
  }
 ],
 "metadata": {
  "kernelspec": {
   "display_name": "Python 3 (ipykernel)",
   "language": "python",
   "name": "python3"
  },
  "language_info": {
   "codemirror_mode": {
    "name": "ipython",
    "version": 3
   },
   "file_extension": ".py",
   "mimetype": "text/x-python",
   "name": "python",
   "nbconvert_exporter": "python",
   "pygments_lexer": "ipython3",
   "version": "3.9.16"
  }
 },
 "nbformat": 4,
 "nbformat_minor": 5
}
