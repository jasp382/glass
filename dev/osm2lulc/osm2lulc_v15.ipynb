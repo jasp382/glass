{
 "cells": [
  {
   "cell_type": "code",
   "execution_count": 1,
   "id": "ac536b37-e326-4727-8858-ec68717dc5f5",
   "metadata": {},
   "outputs": [],
   "source": [
    "ref = '/mnt/d/osm2lulc02/lmt/rst_terceira.tif'\n",
    "\n",
    "osm_db = 'osm_terceira'\n",
    "\n",
    "nomenclature = 'clc'\n",
    "\n",
    "ws = '/mnt/d/osm2lulc02/debug'"
   ]
  },
  {
   "cell_type": "code",
   "execution_count": 2,
   "id": "55f6b7cb-f617-471e-87a2-ff2fbb0790e2",
   "metadata": {},
   "outputs": [],
   "source": [
    "import os\n",
    "import datetime as dt\n",
    "\n",
    "from glass.ete.osm2lulc.utilsv15 import nomenclature_id, osmfeat_by_rule\n",
    "from glass.pys.oss import fprop\n",
    "from glass.cons.osmtolulc import OSM2LULC_DB, DB_SCHEMA, OSM_TABLES\n",
    "from glass.sql.q import q_to_obj\n",
    "from glass.sql.q import q_to_ntbl\n",
    "from glass.prop.prj import get_epsg\n",
    "\n",
    "from glass.wenv.grs import run_grass\n",
    "from glass.ete.osm2lulc.mod1 import grs_vector\n",
    "from glass.ete.osm2lulc.mod2 import vec_roads\n",
    "\n",
    "from glass.gp.gen.sql import st_dissolve"
   ]
  },
  {
   "cell_type": "code",
   "execution_count": 3,
   "id": "4c36eb02-fd9f-47af-beb1-35bc53d54287",
   "metadata": {},
   "outputs": [],
   "source": [
    "epsg = get_epsg(ref)"
   ]
  },
  {
   "cell_type": "code",
   "execution_count": 3,
   "id": "0db6a939-3cd6-4e01-b895-353f0c429196",
   "metadata": {},
   "outputs": [],
   "source": [
    "from glass.ete.otol.tools import module_osmtags\n",
    "\n",
    "tags = module_osmtags(2)"
   ]
  },
  {
   "cell_type": "code",
   "execution_count": 6,
   "id": "7c4d759e-17a6-45f4-a3d1-9514523ce30c",
   "metadata": {},
   "outputs": [
    {
     "data": {
      "text/plain": [
       "array([86])"
      ]
     },
     "execution_count": 6,
     "metadata": {},
     "output_type": "execute_result"
    }
   ],
   "source": [
    "tags[tags.name == 'roads'].lulc_id.unique()"
   ]
  },
  {
   "cell_type": "code",
   "execution_count": 3,
   "id": "92810b08-4400-4041-bd3d-e99035593cb4",
   "metadata": {},
   "outputs": [
    {
     "data": {
      "text/plain": [
       "array(['selection', 'buildings', 'area_upper', 'basic_buffer', 'roads',\n",
       "       'area_lower'], dtype=object)"
      ]
     },
     "execution_count": 3,
     "metadata": {},
     "output_type": "execute_result"
    }
   ],
   "source": [
    "tags.name.unique()"
   ]
  },
  {
   "cell_type": "code",
   "execution_count": 5,
   "id": "58014ae4-ebaf-42ee-a390-19bce7d2a59c",
   "metadata": {},
   "outputs": [
    {
     "data": {
      "text/html": [
       "<div>\n",
       "<style scoped>\n",
       "    .dataframe tbody tr th:only-of-type {\n",
       "        vertical-align: middle;\n",
       "    }\n",
       "\n",
       "    .dataframe tbody tr th {\n",
       "        vertical-align: top;\n",
       "    }\n",
       "\n",
       "    .dataframe thead th {\n",
       "        text-align: right;\n",
       "    }\n",
       "</style>\n",
       "<table border=\"1\" class=\"dataframe\">\n",
       "  <thead>\n",
       "    <tr style=\"text-align: right;\">\n",
       "      <th></th>\n",
       "      <th>key</th>\n",
       "      <th>value</th>\n",
       "      <th>name</th>\n",
       "      <th>lulc_id</th>\n",
       "      <th>buffer_dist</th>\n",
       "      <th>area</th>\n",
       "    </tr>\n",
       "  </thead>\n",
       "  <tbody>\n",
       "    <tr>\n",
       "      <th>12</th>\n",
       "      <td>building</td>\n",
       "      <td>yes</td>\n",
       "      <td>buildings</td>\n",
       "      <td>28</td>\n",
       "      <td>NaN</td>\n",
       "      <td>NaN</td>\n",
       "    </tr>\n",
       "  </tbody>\n",
       "</table>\n",
       "</div>"
      ],
      "text/plain": [
       "         key value       name  lulc_id  buffer_dist  area\n",
       "12  building   yes  buildings       28          NaN   NaN"
      ]
     },
     "execution_count": 5,
     "metadata": {},
     "output_type": "execute_result"
    }
   ],
   "source": [
    "tags[\n",
    "    (tags['value'] == 'yes') &\n",
    "    (tags['key'] == 'building')\n",
    "]"
   ]
  },
  {
   "cell_type": "code",
   "execution_count": 1,
   "id": "74ba06ac-6106-4d36-9e2a-7a9e2de6ad4c",
   "metadata": {},
   "outputs": [
    {
     "name": "stderr",
     "output_type": "stream",
     "text": [
      "/home/jasp/.virtualenvs/genv/lib/python3.8/site-packages/geopandas/_compat.py:112: UserWarning: The Shapely GEOS version (3.10.2-CAPI-1.16.0) is incompatible with the GEOS version PyGEOS was compiled with (3.10.4-CAPI-1.16.2). Conversions between both will be slow.\n",
      "  warnings.warn(\n"
     ]
    },
    {
     "name": "stdout",
     "output_type": "stream",
     "text": [
      "0:00:34\n"
     ]
    }
   ],
   "source": [
    "from glass.ete.otol.pg import osm_to_lulc\n",
    "from glass.prop.prj import get_epsg\n",
    "import datetime\n",
    "import os\n",
    "\n",
    "osm = '/mnt/d/osm2lulc02/osmdata/osm_terceira.xml'\n",
    "\n",
    "nomenclature = 'clc'\n",
    "\n",
    "refraster = '/mnt/d/osm2lulc02/lmt/rst_terceira.tif'\n",
    "\n",
    "result = '/mnt/d/osm2lulc02/debug/terceira.gpkg'\n",
    "\n",
    "db = '/mnt/d/osm2lulc02/debug/db_terceira_jun.sql'\n",
    "\n",
    "time_a = datetime.datetime.now().replace(microsecond=0)\n",
    "res, logs = osm_to_lulc(\n",
    "    osm, nomenclature, get_epsg(refraster),\n",
    "    result, savedb=db, tmpfld=os.path.dirname(result)\n",
    ")\n",
    "time_b = datetime.datetime.now().replace(microsecond=0)\n",
    "\n",
    "print(time_b - time_a)"
   ]
  },
  {
   "cell_type": "code",
   "execution_count": 1,
   "id": "e4789881-08cf-47bc-85de-1af2f6dff613",
   "metadata": {},
   "outputs": [
    {
     "name": "stderr",
     "output_type": "stream",
     "text": [
      "/home/jasp/.virtualenvs/genv/lib/python3.8/site-packages/geopandas/_compat.py:112: UserWarning: The Shapely GEOS version (3.10.2-CAPI-1.16.0) is incompatible with the GEOS version PyGEOS was compiled with (3.10.4-CAPI-1.16.2). Conversions between both will be slow.\n",
      "  warnings.warn(\n"
     ]
    }
   ],
   "source": [
    "gpkg = '/mnt/d/osm2lulc02/debug/modules_res.gpkg'\n",
    "res = '/mnt/d/osm2lulc02/debug/modules_merge.gpkg'\n",
    "olayer = 'lulc_v1'\n",
    "\n",
    "from glass.pys import execmd\n",
    "from glass.prop import drv_name\n",
    "from glass.prop.sql import lst_tbl\n",
    "import geopandas as gpd\n",
    "import fiona\n",
    "\n",
    "layers = fiona.listlayers(gpkg)\n",
    "\n",
    "drv = drv_name(res)\n",
    "\n",
    "cmdo = execmd(f'ogr2ogr -f \"{drv}\" {res} -nln {olayer} {gpkg} {layers[0]}')\n",
    "\n",
    "lcmd = [execmd(\n",
    "    f'ogr2ogr -f \"{drv}\" -update -append {res} -nln {olayer} {gpkg} {layers[i]}'\n",
    ") for i in range(1, len(layers))]"
   ]
  },
  {
   "cell_type": "code",
   "execution_count": 4,
   "id": "3acb47a3-584c-45ab-8314-8c36d2fee80d",
   "metadata": {},
   "outputs": [
    {
     "data": {
      "text/plain": [
       "['module_1', 'module_2', 'module_3', 'module_4', 'module_5', 'module_6']"
      ]
     },
     "execution_count": 4,
     "metadata": {},
     "output_type": "execute_result"
    }
   ],
   "source": [
    "layers"
   ]
  },
  {
   "cell_type": "code",
   "execution_count": null,
   "id": "e4d51d9f-4c41-46e2-b539-a6a221bd7efb",
   "metadata": {
    "tags": []
   },
   "outputs": [],
   "source": [
    "from glass.ete.osm2lulc.grs import osm_to_lulc\n",
    "from glass.ete.osm2lulc.utils import record_time_consumed\n",
    "import datetime\n",
    "import os\n",
    "from glass.pys.oss import fprop, mkdir\n",
    "from glass.pys.tm import now_as_str"
   ]
  },
  {
   "cell_type": "code",
   "execution_count": null,
   "id": "3e6c99db-0c93-4379-9810-a8b2c8be1be5",
   "metadata": {
    "tags": []
   },
   "outputs": [],
   "source": [
    "time_a = datetime.datetime.now().replace(microsecond=0)\n",
    "\n",
    "ws = mkdir(os.path.join(\n",
    "    os.path.dirname(osm),\n",
    "    fprop(result, 'fn')\n",
    "), overwrite=True)\n",
    "\n",
    "shp, time_check = osm_to_lulc(\n",
    "    osm, nomenclature, refraster,\n",
    "    result, tmpfld=ws,\n",
    "    overwrite=True, savedb=db\n",
    ")\n",
    "\n",
    "time_b = datetime.datetime.now().replace(microsecond=0)\n",
    "    \n",
    "# Record time consumed in xlsx table\n",
    "record_time_consumed(time_check, os.path.join(\n",
    "    os.path.dirname(result),\n",
    "    fprop(result, 'fn') + '.xlsx'\n",
    "))\n",
    "\n",
    "print(time_b - time_a)"
   ]
  },
  {
   "cell_type": "code",
   "execution_count": null,
   "id": "eff80bbb-b759-497b-94e0-491374a3ed87",
   "metadata": {},
   "outputs": [],
   "source": []
  }
 ],
 "metadata": {
  "kernelspec": {
   "display_name": "Python 3 (ipykernel)",
   "language": "python",
   "name": "python3"
  },
  "language_info": {
   "codemirror_mode": {
    "name": "ipython",
    "version": 3
   },
   "file_extension": ".py",
   "mimetype": "text/x-python",
   "name": "python",
   "nbconvert_exporter": "python",
   "pygments_lexer": "ipython3",
   "version": "3.8.10"
  }
 },
 "nbformat": 4,
 "nbformat_minor": 5
}
