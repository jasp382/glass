{
 "cells": [
  {
   "cell_type": "code",
   "execution_count": 1,
   "id": "ac536b37-e326-4727-8858-ec68717dc5f5",
   "metadata": {},
   "outputs": [],
   "source": [
    "ref = '/mnt/d/osm2lulc02/lmt/rst_terceira.tif'\n",
    "\n",
    "osm_db = 'osm_terceira'\n",
    "\n",
    "nomenclature = 'clc'"
   ]
  },
  {
   "cell_type": "code",
   "execution_count": 2,
   "id": "55f6b7cb-f617-471e-87a2-ff2fbb0790e2",
   "metadata": {},
   "outputs": [],
   "source": [
    "from glass.ete.osm2lulc.utilsv15 import nomenclature_id, osmfeat_by_rule\n",
    "from glass.pys.oss import fprop\n",
    "from glass.cons.osmtolulc import OSM2LULC_DB, DB_SCHEMA, OSM_TABLES\n",
    "from glass.sql.q import q_to_obj"
   ]
  },
  {
   "cell_type": "code",
   "execution_count": 8,
   "id": "f1526dae-4808-4b41-ab1c-7291fe4122ea",
   "metadata": {},
   "outputs": [],
   "source": [
    "# Check if Nomenclature is valid\n",
    "nom_id = nomenclature_id(nomenclature)\n",
    "\n",
    "keycol = DB_SCHEMA[\"OSM_FEATURES\"][\"KEY\"]\n",
    "valcol = DB_SCHEMA[\"OSM_FEATURES\"][\"VALUE\"]\n",
    "lulcol = DB_SCHEMA['OSM_LULC']['LULCID']\n",
    "modcol = DB_SCHEMA['MODULES']['NAME']\n",
    "\n",
    "df = osmfeat_by_rule(nom_id)\n",
    "\n",
    "df.loc[:, valcol] = df[keycol] + \"='\" + df[valcol] + \"'\"\n",
    "\n",
    "# Get modules\n",
    "mods = df[modcol].unique()"
   ]
  },
  {
   "cell_type": "code",
   "execution_count": null,
   "id": "a1073e6d-188b-487f-9f72-f5eb7e69ad9c",
   "metadata": {},
   "outputs": [],
   "source": [
    "# For each module\n",
    "# Create a query to select features related to each module\n",
    "\n",
    "for mod in mods:\n",
    "    # Get keys and values of each Module\n",
    "    fdf = df[df[modcol] == mod]\n",
    "\n",
    "    # Get Database table to be used\n",
    "    otbl = 'lines' if mod == 'roads' or mod == 'basic_buffer' \\\n",
    "        else 'polygons'\n",
    "\n",
    "    bfcol = DB_SCHEMA['OSM_LULC']['BUFFER'] if mod == 'roads' \\\n",
    "        or mod == 'basic_buffer' else None\n",
    "        \n",
    "    arcol = DB_SCHEMA['OSM_LULC']['AREA'] if mod == 'area_upper' \\\n",
    "        or mod == 'area_lower' else None\n",
    "    \n",
    "    # Get classes inside this module\n",
    "    lulcs = fdf[lulcol].unique()\n",
    "\n",
    "    # For each LULC Class, Get a query to select features to be related with that class\n",
    "    for cls in lulcs:\n",
    "        # Get only the keys and values of this class\n",
    "        clsdf = fdf[fdf[lulcol] == cls]\n",
    "\n",
    "        # Create a query to select these keys and values\n",
    "        q = (\n",
    "            f\"SELECT '{mod}' AS module, {cls} AS lulc, \"\n",
    "        )"
   ]
  },
  {
   "cell_type": "code",
   "execution_count": 10,
   "id": "88e069f6-f271-4890-8ae7-396367b25c21",
   "metadata": {},
   "outputs": [
    {
     "data": {
      "text/html": [
       "<div>\n",
       "<style scoped>\n",
       "    .dataframe tbody tr th:only-of-type {\n",
       "        vertical-align: middle;\n",
       "    }\n",
       "\n",
       "    .dataframe tbody tr th {\n",
       "        vertical-align: top;\n",
       "    }\n",
       "\n",
       "    .dataframe thead th {\n",
       "        text-align: right;\n",
       "    }\n",
       "</style>\n",
       "<table border=\"1\" class=\"dataframe\">\n",
       "  <thead>\n",
       "    <tr style=\"text-align: right;\">\n",
       "      <th></th>\n",
       "      <th>key</th>\n",
       "      <th>value</th>\n",
       "      <th>name</th>\n",
       "      <th>lulc_id</th>\n",
       "      <th>buffer_dist</th>\n",
       "      <th>area</th>\n",
       "    </tr>\n",
       "  </thead>\n",
       "  <tbody>\n",
       "    <tr>\n",
       "      <th>0</th>\n",
       "      <td>landuse</td>\n",
       "      <td>landuse='allotments'</td>\n",
       "      <td>selection</td>\n",
       "      <td>24</td>\n",
       "      <td>NaN</td>\n",
       "      <td>NaN</td>\n",
       "    </tr>\n",
       "    <tr>\n",
       "      <th>1</th>\n",
       "      <td>landuse</td>\n",
       "      <td>landuse='farmland'</td>\n",
       "      <td>selection</td>\n",
       "      <td>24</td>\n",
       "      <td>NaN</td>\n",
       "      <td>NaN</td>\n",
       "    </tr>\n",
       "    <tr>\n",
       "      <th>2</th>\n",
       "      <td>landuse</td>\n",
       "      <td>landuse='farmyard'</td>\n",
       "      <td>selection</td>\n",
       "      <td>24</td>\n",
       "      <td>NaN</td>\n",
       "      <td>NaN</td>\n",
       "    </tr>\n",
       "    <tr>\n",
       "      <th>3</th>\n",
       "      <td>landuse</td>\n",
       "      <td>landuse='farm'</td>\n",
       "      <td>selection</td>\n",
       "      <td>24</td>\n",
       "      <td>NaN</td>\n",
       "      <td>NaN</td>\n",
       "    </tr>\n",
       "    <tr>\n",
       "      <th>4</th>\n",
       "      <td>natural</td>\n",
       "      <td>natural='mud'</td>\n",
       "      <td>selection</td>\n",
       "      <td>26</td>\n",
       "      <td>NaN</td>\n",
       "      <td>NaN</td>\n",
       "    </tr>\n",
       "    <tr>\n",
       "      <th>...</th>\n",
       "      <td>...</td>\n",
       "      <td>...</td>\n",
       "      <td>...</td>\n",
       "      <td>...</td>\n",
       "      <td>...</td>\n",
       "      <td>...</td>\n",
       "    </tr>\n",
       "    <tr>\n",
       "      <th>520</th>\n",
       "      <td>tourism</td>\n",
       "      <td>tourism='gallery'</td>\n",
       "      <td>selection</td>\n",
       "      <td>103</td>\n",
       "      <td>NaN</td>\n",
       "      <td>NaN</td>\n",
       "    </tr>\n",
       "    <tr>\n",
       "      <th>521</th>\n",
       "      <td>tourism</td>\n",
       "      <td>tourism='museum'</td>\n",
       "      <td>selection</td>\n",
       "      <td>103</td>\n",
       "      <td>NaN</td>\n",
       "      <td>NaN</td>\n",
       "    </tr>\n",
       "    <tr>\n",
       "      <th>522</th>\n",
       "      <td>tourism</td>\n",
       "      <td>tourism='picnic_site'</td>\n",
       "      <td>selection</td>\n",
       "      <td>103</td>\n",
       "      <td>NaN</td>\n",
       "      <td>NaN</td>\n",
       "    </tr>\n",
       "    <tr>\n",
       "      <th>523</th>\n",
       "      <td>tourism</td>\n",
       "      <td>tourism='theme_park'</td>\n",
       "      <td>selection</td>\n",
       "      <td>103</td>\n",
       "      <td>NaN</td>\n",
       "      <td>NaN</td>\n",
       "    </tr>\n",
       "    <tr>\n",
       "      <th>524</th>\n",
       "      <td>tourism</td>\n",
       "      <td>tourism='zoo'</td>\n",
       "      <td>selection</td>\n",
       "      <td>103</td>\n",
       "      <td>NaN</td>\n",
       "      <td>NaN</td>\n",
       "    </tr>\n",
       "  </tbody>\n",
       "</table>\n",
       "<p>525 rows × 6 columns</p>\n",
       "</div>"
      ],
      "text/plain": [
       "         key                  value       name  lulc_id  buffer_dist  area\n",
       "0    landuse   landuse='allotments'  selection       24          NaN   NaN\n",
       "1    landuse     landuse='farmland'  selection       24          NaN   NaN\n",
       "2    landuse     landuse='farmyard'  selection       24          NaN   NaN\n",
       "3    landuse         landuse='farm'  selection       24          NaN   NaN\n",
       "4    natural          natural='mud'  selection       26          NaN   NaN\n",
       "..       ...                    ...        ...      ...          ...   ...\n",
       "520  tourism      tourism='gallery'  selection      103          NaN   NaN\n",
       "521  tourism       tourism='museum'  selection      103          NaN   NaN\n",
       "522  tourism  tourism='picnic_site'  selection      103          NaN   NaN\n",
       "523  tourism   tourism='theme_park'  selection      103          NaN   NaN\n",
       "524  tourism          tourism='zoo'  selection      103          NaN   NaN\n",
       "\n",
       "[525 rows x 6 columns]"
      ]
     },
     "execution_count": 10,
     "metadata": {},
     "output_type": "execute_result"
    }
   ],
   "source": [
    "df"
   ]
  },
  {
   "cell_type": "code",
   "execution_count": 9,
   "id": "bde0c006-fc2a-48ca-a9d7-190f3388866e",
   "metadata": {},
   "outputs": [
    {
     "data": {
      "text/plain": [
       "array(['selection', 'buildings', 'area_upper', 'basic_buffer', 'roads',\n",
       "       'area_lower'], dtype=object)"
      ]
     },
     "execution_count": 9,
     "metadata": {},
     "output_type": "execute_result"
    }
   ],
   "source": [
    "mods"
   ]
  },
  {
   "cell_type": "code",
   "execution_count": null,
   "id": "087d7ac4-4612-477a-9dc4-c8e5678bede6",
   "metadata": {
    "tags": []
   },
   "outputs": [],
   "source": [
    "osm = '/mnt/disk1/jasp/autocls01/osmdata/osm_terceira.xml'\n",
    "\n",
    "nomenclature = 'clc'\n",
    "\n",
    "refraster = '/mnt/disk1/jasp/autocls01/ref/rst_terceira_3857.tif'\n",
    "\n",
    "result = '/mnt/disk1/jasp/autocls01/lulc_fmosm/clc_terceira_v3.shp'\n",
    "\n",
    "db = '/mnt/disk1/jasp/autocls01/lulc_fmosm/db_terceira_v3.sql'"
   ]
  },
  {
   "cell_type": "code",
   "execution_count": null,
   "id": "e4d51d9f-4c41-46e2-b539-a6a221bd7efb",
   "metadata": {
    "tags": []
   },
   "outputs": [],
   "source": [
    "from glass.ete.osm2lulc.grs import osm_to_lulc\n",
    "from glass.ete.osm2lulc.utils import record_time_consumed\n",
    "import datetime\n",
    "import os\n",
    "from glass.pys.oss import fprop, mkdir\n",
    "from glass.pys.tm import now_as_str"
   ]
  },
  {
   "cell_type": "code",
   "execution_count": null,
   "id": "3e6c99db-0c93-4379-9810-a8b2c8be1be5",
   "metadata": {
    "tags": []
   },
   "outputs": [],
   "source": [
    "time_a = datetime.datetime.now().replace(microsecond=0)\n",
    "\n",
    "ws = mkdir(os.path.join(\n",
    "    os.path.dirname(osm),\n",
    "    fprop(result, 'fn')\n",
    "), overwrite=True)\n",
    "\n",
    "shp, time_check = osm_to_lulc(\n",
    "    osm, nomenclature, refraster,\n",
    "    result, tmpfld=ws,\n",
    "    overwrite=True, savedb=db\n",
    ")\n",
    "\n",
    "time_b = datetime.datetime.now().replace(microsecond=0)\n",
    "    \n",
    "# Record time consumed in xlsx table\n",
    "record_time_consumed(time_check, os.path.join(\n",
    "    os.path.dirname(result),\n",
    "    fprop(result, 'fn') + '.xlsx'\n",
    "))\n",
    "\n",
    "print(time_b - time_a)"
   ]
  },
  {
   "cell_type": "code",
   "execution_count": null,
   "id": "eff80bbb-b759-497b-94e0-491374a3ed87",
   "metadata": {},
   "outputs": [],
   "source": []
  }
 ],
 "metadata": {
  "kernelspec": {
   "display_name": "Python 3 (ipykernel)",
   "language": "python",
   "name": "python3"
  },
  "language_info": {
   "codemirror_mode": {
    "name": "ipython",
    "version": 3
   },
   "file_extension": ".py",
   "mimetype": "text/x-python",
   "name": "python",
   "nbconvert_exporter": "python",
   "pygments_lexer": "ipython3",
   "version": "3.8.10"
  }
 },
 "nbformat": 4,
 "nbformat_minor": 5
}
