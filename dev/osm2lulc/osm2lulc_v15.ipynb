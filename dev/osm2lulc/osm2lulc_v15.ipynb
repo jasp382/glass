{
 "cells": [
  {
   "cell_type": "code",
   "execution_count": null,
   "id": "087d7ac4-4612-477a-9dc4-c8e5678bede6",
   "metadata": {
    "tags": []
   },
   "outputs": [],
   "source": [
    "osm = '/home/jasp/osm2lulc/osm_lisbon.xml'\n",
    "\n",
    "nomenclature = 'uatlas'\n",
    "\n",
    "refraster = '/home/jasp/osm2lulc/lmt_lisboa2020.shp'\n",
    "\n",
    "result = '/mnt/d/osm2lulc2023/osm2lulc_v15/lisbon15.shp'\n",
    "\n",
    "db = '/home/jasp/osm2lulc/lisbon15_db.sql'"
   ]
  },
  {
   "cell_type": "code",
   "execution_count": null,
   "id": "e4d51d9f-4c41-46e2-b539-a6a221bd7efb",
   "metadata": {
    "tags": []
   },
   "outputs": [],
   "source": [
    "from glass.ete.osm2lulc.grs import osm_to_lulc\n",
    "from glass.ete.osm2lulc.utils import record_time_consumed\n",
    "import datetime\n",
    "import os\n",
    "from glass.pys.oss import fprop, mkdir\n",
    "from glass.pys.tm import now_as_str"
   ]
  },
  {
   "cell_type": "code",
   "execution_count": null,
   "id": "3e6c99db-0c93-4379-9810-a8b2c8be1be5",
   "metadata": {
    "tags": []
   },
   "outputs": [],
   "source": [
    "time_a = datetime.datetime.now().replace(microsecond=0)\n",
    "\n",
    "ws = mkdir(os.path.join(\n",
    "    os.path.dirname(osm),\n",
    "    now_as_str()\n",
    "), overwrite=True)\n",
    "\n",
    "shp, time_check = osm_to_lulc(\n",
    "    osm, nomenclature, refraster,\n",
    "    result, tmpfld=ws,\n",
    "    overwrite=True, savedb=db\n",
    ")\n",
    "\n",
    "time_b = datetime.datetime.now().replace(microsecond=0)\n",
    "    \n",
    "# Record time consumed in xlsx table\n",
    "record_time_consumed(time_heck, os.path.join(\n",
    "    os.path.dirname(result),\n",
    "    fprop(result, 'fn') + '.xlsx'\n",
    "))\n",
    "\n",
    "print(time_b - time_a)"
   ]
  },
  {
   "cell_type": "code",
   "execution_count": null,
   "id": "5475f482-0d38-4fe0-a1b9-12dd8b7d9983",
   "metadata": {
    "tags": []
   },
   "outputs": [],
   "source": []
  },
  {
   "cell_type": "code",
   "execution_count": null,
   "id": "eff80bbb-b759-497b-94e0-491374a3ed87",
   "metadata": {},
   "outputs": [],
   "source": []
  }
 ],
 "metadata": {
  "kernelspec": {
   "display_name": "Python 3 (ipykernel)",
   "language": "python",
   "name": "python3"
  },
  "language_info": {
   "codemirror_mode": {
    "name": "ipython",
    "version": 3
   },
   "file_extension": ".py",
   "mimetype": "text/x-python",
   "name": "python",
   "nbconvert_exporter": "python",
   "pygments_lexer": "ipython3",
   "version": "3.8.10"
  }
 },
 "nbformat": 4,
 "nbformat_minor": 5
}
