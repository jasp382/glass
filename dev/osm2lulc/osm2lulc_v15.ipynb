{
 "cells": [
  {
   "cell_type": "code",
   "execution_count": 3,
   "id": "0db6a939-3cd6-4e01-b895-353f0c429196",
   "metadata": {},
   "outputs": [],
   "source": [
    "from glass.ete.otol.tools import module_osmtags\n",
    "\n",
    "tags = module_osmtags(2)"
   ]
  },
  {
   "cell_type": "code",
   "execution_count": 6,
   "id": "7c4d759e-17a6-45f4-a3d1-9514523ce30c",
   "metadata": {},
   "outputs": [
    {
     "data": {
      "text/plain": [
       "array([86])"
      ]
     },
     "execution_count": 6,
     "metadata": {},
     "output_type": "execute_result"
    }
   ],
   "source": [
    "tags[tags.name == 'roads'].lulc_id.unique()"
   ]
  },
  {
   "cell_type": "code",
   "execution_count": 3,
   "id": "92810b08-4400-4041-bd3d-e99035593cb4",
   "metadata": {},
   "outputs": [
    {
     "data": {
      "text/plain": [
       "array(['selection', 'buildings', 'area_upper', 'basic_buffer', 'roads',\n",
       "       'area_lower'], dtype=object)"
      ]
     },
     "execution_count": 3,
     "metadata": {},
     "output_type": "execute_result"
    }
   ],
   "source": [
    "tags.name.unique()"
   ]
  },
  {
   "cell_type": "code",
   "execution_count": 5,
   "id": "58014ae4-ebaf-42ee-a390-19bce7d2a59c",
   "metadata": {},
   "outputs": [
    {
     "data": {
      "text/html": [
       "<div>\n",
       "<style scoped>\n",
       "    .dataframe tbody tr th:only-of-type {\n",
       "        vertical-align: middle;\n",
       "    }\n",
       "\n",
       "    .dataframe tbody tr th {\n",
       "        vertical-align: top;\n",
       "    }\n",
       "\n",
       "    .dataframe thead th {\n",
       "        text-align: right;\n",
       "    }\n",
       "</style>\n",
       "<table border=\"1\" class=\"dataframe\">\n",
       "  <thead>\n",
       "    <tr style=\"text-align: right;\">\n",
       "      <th></th>\n",
       "      <th>key</th>\n",
       "      <th>value</th>\n",
       "      <th>name</th>\n",
       "      <th>lulc_id</th>\n",
       "      <th>buffer_dist</th>\n",
       "      <th>area</th>\n",
       "    </tr>\n",
       "  </thead>\n",
       "  <tbody>\n",
       "    <tr>\n",
       "      <th>12</th>\n",
       "      <td>building</td>\n",
       "      <td>yes</td>\n",
       "      <td>buildings</td>\n",
       "      <td>28</td>\n",
       "      <td>NaN</td>\n",
       "      <td>NaN</td>\n",
       "    </tr>\n",
       "  </tbody>\n",
       "</table>\n",
       "</div>"
      ],
      "text/plain": [
       "         key value       name  lulc_id  buffer_dist  area\n",
       "12  building   yes  buildings       28          NaN   NaN"
      ]
     },
     "execution_count": 5,
     "metadata": {},
     "output_type": "execute_result"
    }
   ],
   "source": [
    "tags[\n",
    "    (tags['value'] == 'yes') &\n",
    "    (tags['key'] == 'building')\n",
    "]"
   ]
  },
  {
   "cell_type": "code",
   "execution_count": 1,
   "id": "74ba06ac-6106-4d36-9e2a-7a9e2de6ad4c",
   "metadata": {},
   "outputs": [
    {
     "name": "stderr",
     "output_type": "stream",
     "text": [
      "/home/jasp/.virtualenvs/genv/lib/python3.10/site-packages/geopandas/_compat.py:112: UserWarning: The Shapely GEOS version (3.10.2-CAPI-1.16.0) is incompatible with the GEOS version PyGEOS was compiled with (3.10.4-CAPI-1.16.2). Conversions between both will be slow.\n",
      "  warnings.warn(\n"
     ]
    },
    {
     "name": "stdout",
     "output_type": "stream",
     "text": [
      "0:00:32\n"
     ]
    }
   ],
   "source": [
    "from glass.ete.otol.pg import osm_to_lulc\n",
    "from glass.prop.prj import get_epsg\n",
    "import datetime\n",
    "import os\n",
    "\n",
    "osm = '/mnt/disk1/jasp/otol/osm_terceira.xml'\n",
    "\n",
    "nomenclature = 'clc'\n",
    "\n",
    "refraster = '/mnt/disk1/jasp/otol/rst_terceira.tif'\n",
    "\n",
    "result = '/mnt/disk1/jasp/otol/terceira.gpkg'\n",
    "\n",
    "db = '/mnt/disk1/jasp/otol/db_terceira_jun.sql'\n",
    "\n",
    "time_a = datetime.datetime.now().replace(microsecond=0)\n",
    "res, logs = osm_to_lulc(\n",
    "    osm, nomenclature, get_epsg(refraster),\n",
    "    result, savedb=db, tmpfld=os.path.dirname(result)\n",
    ")\n",
    "time_b = datetime.datetime.now().replace(microsecond=0)\n",
    "\n",
    "print(time_b - time_a)"
   ]
  },
  {
   "cell_type": "code",
   "execution_count": 1,
   "id": "3acb47a3-584c-45ab-8314-8c36d2fee80d",
   "metadata": {},
   "outputs": [
    {
     "name": "stderr",
     "output_type": "stream",
     "text": [
      "/home/jasp/.virtualenvs/genv/lib/python3.10/site-packages/geopandas/_compat.py:112: UserWarning: The Shapely GEOS version (3.10.2-CAPI-1.16.0) is incompatible with the GEOS version PyGEOS was compiled with (3.10.4-CAPI-1.16.2). Conversions between both will be slow.\n",
      "  warnings.warn(\n"
     ]
    },
    {
     "data": {
      "text/plain": [
       "'/mnt/disk1/jasp/otol/terceira.gpkg'"
      ]
     },
     "execution_count": 1,
     "metadata": {},
     "output_type": "execute_result"
    }
   ],
   "source": [
    "result = '/mnt/disk1/jasp/otol/terceira.gpkg'\n",
    "layer = 'osmtolulc_v1'\n",
    "\n",
    "from glass.ete.otol.tools import get_legend\n",
    "from glass.rd.shp import shp_to_obj\n",
    "from glass.wt.shp import df_to_shp\n",
    "\n",
    "leg_df = get_legend(2)\n",
    "\n",
    "lulc_df = shp_to_obj(result, lyr=layer)\n",
    "\n",
    "lulc_df = lulc_df.merge(leg_df, how='left', left_on='lulc', right_on='fid')\n",
    "\n",
    "lulc_df.drop('fid', axis=1, inplace=True)\n",
    "\n",
    "df_to_shp(lulc_df, result, layername='osmtolulc_v2')"
   ]
  },
  {
   "cell_type": "code",
   "execution_count": 6,
   "id": "ea2403ac-1172-44d9-b1e3-c2c362e0d911",
   "metadata": {},
   "outputs": [
    {
     "data": {
      "text/html": [
       "<div>\n",
       "<style scoped>\n",
       "    .dataframe tbody tr th:only-of-type {\n",
       "        vertical-align: middle;\n",
       "    }\n",
       "\n",
       "    .dataframe tbody tr th {\n",
       "        vertical-align: top;\n",
       "    }\n",
       "\n",
       "    .dataframe thead th {\n",
       "        text-align: right;\n",
       "    }\n",
       "</style>\n",
       "<table border=\"1\" class=\"dataframe\">\n",
       "  <thead>\n",
       "    <tr style=\"text-align: right;\">\n",
       "      <th></th>\n",
       "      <th>lulc</th>\n",
       "      <th>geometry</th>\n",
       "      <th>fid</th>\n",
       "      <th>leg</th>\n",
       "    </tr>\n",
       "  </thead>\n",
       "  <tbody>\n",
       "    <tr>\n",
       "      <th>0</th>\n",
       "      <td>24</td>\n",
       "      <td>POLYGON ((470386.845 4281888.421, 470394.567 4...</td>\n",
       "      <td>24</td>\n",
       "      <td>Agricultural areas</td>\n",
       "    </tr>\n",
       "    <tr>\n",
       "      <th>1</th>\n",
       "      <td>24</td>\n",
       "      <td>POLYGON ((469964.551 4282142.285, 469975.604 4...</td>\n",
       "      <td>24</td>\n",
       "      <td>Agricultural areas</td>\n",
       "    </tr>\n",
       "    <tr>\n",
       "      <th>2</th>\n",
       "      <td>24</td>\n",
       "      <td>POLYGON ((469474.292 4282630.305, 469499.968 4...</td>\n",
       "      <td>24</td>\n",
       "      <td>Agricultural areas</td>\n",
       "    </tr>\n",
       "    <tr>\n",
       "      <th>3</th>\n",
       "      <td>24</td>\n",
       "      <td>POLYGON ((469244.488 4282612.313, 469247.270 4...</td>\n",
       "      <td>24</td>\n",
       "      <td>Agricultural areas</td>\n",
       "    </tr>\n",
       "    <tr>\n",
       "      <th>4</th>\n",
       "      <td>24</td>\n",
       "      <td>POLYGON ((470187.970 4282582.274, 470203.952 4...</td>\n",
       "      <td>24</td>\n",
       "      <td>Agricultural areas</td>\n",
       "    </tr>\n",
       "    <tr>\n",
       "      <th>...</th>\n",
       "      <td>...</td>\n",
       "      <td>...</td>\n",
       "      <td>...</td>\n",
       "      <td>...</td>\n",
       "    </tr>\n",
       "    <tr>\n",
       "      <th>39654</th>\n",
       "      <td>28</td>\n",
       "      <td>MULTIPOLYGON (((489242.013 4278595.920, 489246...</td>\n",
       "      <td>28</td>\n",
       "      <td>Urban Fabric</td>\n",
       "    </tr>\n",
       "    <tr>\n",
       "      <th>39655</th>\n",
       "      <td>28</td>\n",
       "      <td>MULTIPOLYGON (((489198.145 4278777.784, 489197...</td>\n",
       "      <td>28</td>\n",
       "      <td>Urban Fabric</td>\n",
       "    </tr>\n",
       "    <tr>\n",
       "      <th>39656</th>\n",
       "      <td>28</td>\n",
       "      <td>MULTIPOLYGON (((492896.439 4277342.193, 492901...</td>\n",
       "      <td>28</td>\n",
       "      <td>Urban Fabric</td>\n",
       "    </tr>\n",
       "    <tr>\n",
       "      <th>39657</th>\n",
       "      <td>28</td>\n",
       "      <td>MULTIPOLYGON (((494557.454 4286695.097, 494562...</td>\n",
       "      <td>28</td>\n",
       "      <td>Urban Fabric</td>\n",
       "    </tr>\n",
       "    <tr>\n",
       "      <th>39658</th>\n",
       "      <td>28</td>\n",
       "      <td>MULTIPOLYGON (((494555.060 4286690.149, 494549...</td>\n",
       "      <td>28</td>\n",
       "      <td>Urban Fabric</td>\n",
       "    </tr>\n",
       "  </tbody>\n",
       "</table>\n",
       "<p>39659 rows × 4 columns</p>\n",
       "</div>"
      ],
      "text/plain": [
       "       lulc                                           geometry  fid  \\\n",
       "0        24  POLYGON ((470386.845 4281888.421, 470394.567 4...   24   \n",
       "1        24  POLYGON ((469964.551 4282142.285, 469975.604 4...   24   \n",
       "2        24  POLYGON ((469474.292 4282630.305, 469499.968 4...   24   \n",
       "3        24  POLYGON ((469244.488 4282612.313, 469247.270 4...   24   \n",
       "4        24  POLYGON ((470187.970 4282582.274, 470203.952 4...   24   \n",
       "...     ...                                                ...  ...   \n",
       "39654    28  MULTIPOLYGON (((489242.013 4278595.920, 489246...   28   \n",
       "39655    28  MULTIPOLYGON (((489198.145 4278777.784, 489197...   28   \n",
       "39656    28  MULTIPOLYGON (((492896.439 4277342.193, 492901...   28   \n",
       "39657    28  MULTIPOLYGON (((494557.454 4286695.097, 494562...   28   \n",
       "39658    28  MULTIPOLYGON (((494555.060 4286690.149, 494549...   28   \n",
       "\n",
       "                      leg  \n",
       "0      Agricultural areas  \n",
       "1      Agricultural areas  \n",
       "2      Agricultural areas  \n",
       "3      Agricultural areas  \n",
       "4      Agricultural areas  \n",
       "...                   ...  \n",
       "39654        Urban Fabric  \n",
       "39655        Urban Fabric  \n",
       "39656        Urban Fabric  \n",
       "39657        Urban Fabric  \n",
       "39658        Urban Fabric  \n",
       "\n",
       "[39659 rows x 4 columns]"
      ]
     },
     "execution_count": 6,
     "metadata": {},
     "output_type": "execute_result"
    }
   ],
   "source": [
    "lulc_df"
   ]
  },
  {
   "cell_type": "code",
   "execution_count": 2,
   "id": "b402cddb-259f-404e-b692-938fbf770cc2",
   "metadata": {},
   "outputs": [
    {
     "data": {
      "text/html": [
       "<div>\n",
       "<style scoped>\n",
       "    .dataframe tbody tr th:only-of-type {\n",
       "        vertical-align: middle;\n",
       "    }\n",
       "\n",
       "    .dataframe tbody tr th {\n",
       "        vertical-align: top;\n",
       "    }\n",
       "\n",
       "    .dataframe thead th {\n",
       "        text-align: right;\n",
       "    }\n",
       "</style>\n",
       "<table border=\"1\" class=\"dataframe\">\n",
       "  <thead>\n",
       "    <tr style=\"text-align: right;\">\n",
       "      <th></th>\n",
       "      <th>fid</th>\n",
       "      <th>leg</th>\n",
       "    </tr>\n",
       "  </thead>\n",
       "  <tbody>\n",
       "    <tr>\n",
       "      <th>0</th>\n",
       "      <td>23</td>\n",
       "      <td>Artificial Surfaces</td>\n",
       "    </tr>\n",
       "    <tr>\n",
       "      <th>1</th>\n",
       "      <td>24</td>\n",
       "      <td>Agricultural areas</td>\n",
       "    </tr>\n",
       "    <tr>\n",
       "      <th>2</th>\n",
       "      <td>25</td>\n",
       "      <td>Forest and semi-natural areas</td>\n",
       "    </tr>\n",
       "    <tr>\n",
       "      <th>3</th>\n",
       "      <td>26</td>\n",
       "      <td>Wetlands</td>\n",
       "    </tr>\n",
       "    <tr>\n",
       "      <th>4</th>\n",
       "      <td>27</td>\n",
       "      <td>Water</td>\n",
       "    </tr>\n",
       "    <tr>\n",
       "      <th>...</th>\n",
       "      <td>...</td>\n",
       "      <td>...</td>\n",
       "    </tr>\n",
       "    <tr>\n",
       "      <th>64</th>\n",
       "      <td>87</td>\n",
       "      <td>Rail network</td>\n",
       "    </tr>\n",
       "    <tr>\n",
       "      <th>65</th>\n",
       "      <td>88</td>\n",
       "      <td>Tree Lines or Groups</td>\n",
       "    </tr>\n",
       "    <tr>\n",
       "      <th>66</th>\n",
       "      <td>89</td>\n",
       "      <td>Golf course</td>\n",
       "    </tr>\n",
       "    <tr>\n",
       "      <th>67</th>\n",
       "      <td>102</td>\n",
       "      <td>Green urban areas</td>\n",
       "    </tr>\n",
       "    <tr>\n",
       "      <th>68</th>\n",
       "      <td>103</td>\n",
       "      <td>Sport and leisure facilities</td>\n",
       "    </tr>\n",
       "  </tbody>\n",
       "</table>\n",
       "<p>69 rows × 2 columns</p>\n",
       "</div>"
      ],
      "text/plain": [
       "    fid                            leg\n",
       "0    23            Artificial Surfaces\n",
       "1    24             Agricultural areas\n",
       "2    25  Forest and semi-natural areas\n",
       "3    26                       Wetlands\n",
       "4    27                          Water\n",
       "..  ...                            ...\n",
       "64   87                   Rail network\n",
       "65   88           Tree Lines or Groups\n",
       "66   89                    Golf course\n",
       "67  102              Green urban areas\n",
       "68  103   Sport and leisure facilities\n",
       "\n",
       "[69 rows x 2 columns]"
      ]
     },
     "execution_count": 2,
     "metadata": {},
     "output_type": "execute_result"
    }
   ],
   "source": [
    "leg_df"
   ]
  },
  {
   "cell_type": "code",
   "execution_count": null,
   "id": "e4d51d9f-4c41-46e2-b539-a6a221bd7efb",
   "metadata": {
    "tags": []
   },
   "outputs": [],
   "source": [
    "from glass.ete.osm2lulc.grs import osm_to_lulc\n",
    "from glass.ete.osm2lulc.utils import record_time_consumed\n",
    "import datetime\n",
    "import os\n",
    "from glass.pys.oss import fprop, mkdir\n",
    "from glass.pys.tm import now_as_str"
   ]
  },
  {
   "cell_type": "code",
   "execution_count": null,
   "id": "3e6c99db-0c93-4379-9810-a8b2c8be1be5",
   "metadata": {
    "tags": []
   },
   "outputs": [],
   "source": [
    "time_a = datetime.datetime.now().replace(microsecond=0)\n",
    "\n",
    "ws = mkdir(os.path.join(\n",
    "    os.path.dirname(osm),\n",
    "    fprop(result, 'fn')\n",
    "), overwrite=True)\n",
    "\n",
    "shp, time_check = osm_to_lulc(\n",
    "    osm, nomenclature, refraster,\n",
    "    result, tmpfld=ws,\n",
    "    overwrite=True, savedb=db\n",
    ")\n",
    "\n",
    "time_b = datetime.datetime.now().replace(microsecond=0)\n",
    "    \n",
    "# Record time consumed in xlsx table\n",
    "record_time_consumed(time_check, os.path.join(\n",
    "    os.path.dirname(result),\n",
    "    fprop(result, 'fn') + '.xlsx'\n",
    "))\n",
    "\n",
    "print(time_b - time_a)"
   ]
  },
  {
   "cell_type": "code",
   "execution_count": null,
   "id": "eff80bbb-b759-497b-94e0-491374a3ed87",
   "metadata": {},
   "outputs": [],
   "source": []
  }
 ],
 "metadata": {
  "kernelspec": {
   "display_name": "Python 3 (ipykernel)",
   "language": "python",
   "name": "python3"
  },
  "language_info": {
   "codemirror_mode": {
    "name": "ipython",
    "version": 3
   },
   "file_extension": ".py",
   "mimetype": "text/x-python",
   "name": "python",
   "nbconvert_exporter": "python",
   "pygments_lexer": "ipython3",
   "version": "3.10.6"
  }
 },
 "nbformat": 4,
 "nbformat_minor": 5
}
