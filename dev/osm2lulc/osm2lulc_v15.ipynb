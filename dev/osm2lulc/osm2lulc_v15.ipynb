{
 "cells": [
  {
   "cell_type": "code",
   "execution_count": null,
   "id": "0db6a939-3cd6-4e01-b895-353f0c429196",
   "metadata": {},
   "outputs": [],
   "source": [
    "from glass.ete.otol.tools import module_osmtags\n",
    "\n",
    "tags = module_osmtags(2)"
   ]
  },
  {
   "cell_type": "code",
   "execution_count": null,
   "id": "7c4d759e-17a6-45f4-a3d1-9514523ce30c",
   "metadata": {},
   "outputs": [],
   "source": [
    "tags[tags.name == 'roads'].lulc_id.unique()"
   ]
  },
  {
   "cell_type": "code",
   "execution_count": null,
   "id": "92810b08-4400-4041-bd3d-e99035593cb4",
   "metadata": {},
   "outputs": [],
   "source": [
    "tags.name.unique()"
   ]
  },
  {
   "cell_type": "code",
   "execution_count": null,
   "id": "58014ae4-ebaf-42ee-a390-19bce7d2a59c",
   "metadata": {},
   "outputs": [],
   "source": [
    "tags[\n",
    "    (tags['value'] == 'yes') &\n",
    "    (tags['key'] == 'building')\n",
    "]"
   ]
  },
  {
   "cell_type": "code",
   "execution_count": null,
   "id": "74ba06ac-6106-4d36-9e2a-7a9e2de6ad4c",
   "metadata": {},
   "outputs": [],
   "source": [
    "from glass.ete.otol.pg import osm_to_lulc\n",
    "from glass.prop.prj import get_epsg\n",
    "import datetime\n",
    "import os\n",
    "\n",
    "osm = '/mnt/d/osm2lulc02/osmdata/osm_terceira.xml'\n",
    "\n",
    "nomenclature = 'clc'\n",
    "\n",
    "refraster = '/mnt/d/osm2lulc02/lmt/rst_terceira.tif'\n",
    "\n",
    "result = '/mnt/d/osm2lulc02/lulc_fmosm/terceira.gpkg'\n",
    "\n",
    "db = '/mnt/d/osm2lulc02/lulc_fmosm/terceira_26062023.sql'\n",
    "\n",
    "ws = '/mnt/d/osm2lulc02/debug'\n",
    "\n",
    "time_a = datetime.datetime.now().replace(microsecond=0)\n",
    "res, logs = osm_to_lulc(\n",
    "    osm, nomenclature, get_epsg(refraster),\n",
    "    result, savedb=db, tmpfld=ws\n",
    ")\n",
    "time_b = datetime.datetime.now().replace(microsecond=0)\n",
    "\n",
    "print(time_b - time_a)"
   ]
  },
  {
   "cell_type": "code",
   "execution_count": null,
   "id": "515b1a80-d886-4bc8-b1c8-b21d4c72e072",
   "metadata": {},
   "outputs": [],
   "source": [
    "q = (\n",
    "    \"SELECT lulc, (ST_Dump(ST_UnaryUnion(ST_Collect(geometry)))).geom AS geometry FROM (\"\n",
    "        \"SELECT ogc_fid, 'area_upper' AS osm_module, 36 AS lulc, \"\n",
    "        #\"CASE WHEN ST_IsValid(ST_Transform(wkb_geometry, 5015)) THEN ST_Transform(wkb_geometry, 5015) \"\n",
    "        #\"ELSE ST_MakeValid(ST_Transform(wkb_geometry, 5015)) END AS geometry \"\n",
    "        \"ST_Transform(wkb_geometry, 5015) AS geometry \"\n",
    "        \"FROM multipolygons AS tcls \"\n",
    "        \"WHERE (tcls.landuse='forest') AND ST_Area(ST_Transform(wkb_geometry, 5015)) > 10000 \"\n",
    "        \"UNION ALL \"\n",
    "        \"SELECT ogc_fid, 'area_upper' AS osm_module, 67 AS lulc, \"\n",
    "        #\"CASE WHEN ST_IsValid(ST_Transform(wkb_geometry, 5015)) THEN ST_Transform(wkb_geometry, 5015) ELSE \"\n",
    "        #\"ST_MakeValid(ST_Transform(wkb_geometry, 5015)) END AS geometry \"\n",
    "        \"ST_Transform(wkb_geometry, 5015) AS geometry \"\n",
    "        \"FROM multipolygons AS tcls WHERE (tcls.natural='grassland' OR tcls.landuse='grass' OR tcls.landuse='meadow') \"\n",
    "        \"AND ST_Area(ST_Transform(wkb_geometry, 5015)) > 10000\"\n",
    "    \") AS mtbl GROUP BY lulc\"\n",
    ")\n",
    "\n",
    "print(q)"
   ]
  },
  {
   "cell_type": "code",
   "execution_count": null,
   "id": "50167ac6-149e-42c5-bb86-75a91eb59521",
   "metadata": {},
   "outputs": [],
   "source": [
    "from glass.it.shp import dbtbl_to_shp\n",
    "tst = dbtbl_to_shp('osm_terceira', q, 'geometry', '/mnt/d/osm2lulc02/debug/teste6.gpkg', tableIsQuery=True, olyr='rule3_4', api='ogr2ogr')"
   ]
  },
  {
   "cell_type": "code",
   "execution_count": null,
   "id": "e4d51d9f-4c41-46e2-b539-a6a221bd7efb",
   "metadata": {
    "tags": []
   },
   "outputs": [],
   "source": [
    "from glass.ete.osm2lulc.grs import osm_to_lulc\n",
    "from glass.ete.osm2lulc.utils import record_time_consumed\n",
    "import datetime\n",
    "import os\n",
    "from glass.pys.oss import fprop, mkdir\n",
    "from glass.pys.tm import now_as_str"
   ]
  },
  {
   "cell_type": "code",
   "execution_count": null,
   "id": "3e6c99db-0c93-4379-9810-a8b2c8be1be5",
   "metadata": {
    "tags": []
   },
   "outputs": [],
   "source": [
    "time_a = datetime.datetime.now().replace(microsecond=0)\n",
    "\n",
    "ws = mkdir(os.path.join(\n",
    "    os.path.dirname(osm),\n",
    "    fprop(result, 'fn')\n",
    "), overwrite=True)\n",
    "\n",
    "shp, time_check = osm_to_lulc(\n",
    "    osm, nomenclature, refraster,\n",
    "    result, tmpfld=ws,\n",
    "    overwrite=True, savedb=db\n",
    ")\n",
    "\n",
    "time_b = datetime.datetime.now().replace(microsecond=0)\n",
    "    \n",
    "# Record time consumed in xlsx table\n",
    "record_time_consumed(time_check, os.path.join(\n",
    "    os.path.dirname(result),\n",
    "    fprop(result, 'fn') + '.xlsx'\n",
    "))\n",
    "\n",
    "print(time_b - time_a)"
   ]
  },
  {
   "cell_type": "code",
   "execution_count": null,
   "id": "eff80bbb-b759-497b-94e0-491374a3ed87",
   "metadata": {},
   "outputs": [],
   "source": []
  }
 ],
 "metadata": {
  "kernelspec": {
   "display_name": "Python 3 (ipykernel)",
   "language": "python",
   "name": "python3"
  },
  "language_info": {
   "codemirror_mode": {
    "name": "ipython",
    "version": 3
   },
   "file_extension": ".py",
   "mimetype": "text/x-python",
   "name": "python",
   "nbconvert_exporter": "python",
   "pygments_lexer": "ipython3",
   "version": "3.8.10"
  }
 },
 "nbformat": 4,
 "nbformat_minor": 5
}
