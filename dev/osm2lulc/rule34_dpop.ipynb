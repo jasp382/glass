{
 "cells": [
  {
   "cell_type": "code",
   "execution_count": null,
   "id": "5c7d2e12-8243-4647-a70d-16a106007dad",
   "metadata": {},
   "outputs": [],
   "source": [
    "green_areas =r'D:/osm2lulc01/osm/osmgareas.shp'\n",
    "\n",
    "green_fid = 'ffid'\n",
    "\n",
    "dpop = r'D:\\osm2lulc01\\guavsforest.gdb\\pop\\bgri21'\n",
    "\n",
    "popcol = 'N_INDIVIDUOS'\n",
    "\n",
    "outfeat = r'D:\\osm2lulc01\\guavsforest.gdb\\osm\\result_pop'\n",
    "\n",
    "tmpws = r'D:\\osm2lulc01\\guavsforest.gdb\\corre'"
   ]
  },
  {
   "cell_type": "code",
   "execution_count": null,
   "id": "87cee225-ffd6-44f7-b161-59ef3319e71a",
   "metadata": {},
   "outputs": [],
   "source": [
    "import arcpy\n",
    "import os\n",
    "\n",
    "from gesri.dp import copy_feat\n",
    "from glass.pys.oss import fprop\n",
    "from gesri.rd.shp import shp_to_lyr\n",
    "from gesri.tbl.attr import geom_attr_to_shp\n",
    "from gesri.tbl.col import add_col, cols_calc\n",
    "from gesri.gp.ovl import intersection\n",
    "from gesri.gp.gen import dissolve\n",
    "from gesri.tbl.joins import join_table"
   ]
  },
  {
   "cell_type": "code",
   "execution_count": null,
   "id": "e2edfc83-e648-415a-8c6b-45cbcc6924b1",
   "metadata": {},
   "outputs": [],
   "source": [
    "srs = \"PROJCS[\\\"ETRS_1989_Portugal_TM06\\\",GEOGCS[\\\"GCS_ETRS_1989\\\",DATUM[\\\"D_ETRS_1989\\\",SPHEROID[\\\"GRS_1980\\\",6378137.0,298.257222101]],PRIMEM[\\\"Greenwich\\\",0.0],UNIT[\\\"Degree\\\",0.0174532925199433]],PROJECTION[\\\"Transverse_Mercator\\\"],PARAMETER[\\\"False_Easting\\\",0.0],PARAMETER[\\\"False_Northing\\\",0.0],PARAMETER[\\\"Central_Meridian\\\",-8.133108333333334],PARAMETER[\\\"Scale_Factor\\\",1.0],PARAMETER[\\\"Latitude_Of_Origin\\\",39.66825833333333],UNIT[\\\"Meter\\\",1.0]]\""
   ]
  },
  {
   "cell_type": "code",
   "execution_count": null,
   "id": "b443d29f-9bfd-4375-b7ce-ee3e623a4bec",
   "metadata": {},
   "outputs": [],
   "source": [
    "arcpy.env.overwriteOutput = True"
   ]
  },
  {
   "cell_type": "code",
   "execution_count": null,
   "id": "fcfdb395-5aab-4d7d-9131-7dbe44fe6c98",
   "metadata": {},
   "outputs": [],
   "source": [
    "# Get population density\n",
    "\n",
    "popshp = copy_feat(dpop, os.path.join(\n",
    "    tmpws, 'popdata'\n",
    "))\n",
    "\n",
    "poplyr = shp_to_lyr(popshp)\n",
    "\n",
    "poplyr = geom_attr_to_shp(\n",
    "    poplyr, \"areakm\",\n",
    "    geom_attr=\"AREA\", srs=srs,\n",
    "    area_unit=\"SQUARE_KILOMETERS\"\n",
    ")\n",
    "\n",
    "poplyr = add_col(poplyr, \"dpop\", \"DOUBLE\", None)\n",
    "\n",
    "poplyr = cols_calc(poplyr, \"dpop\", f\"!{popcol}!/!areakm!\")"
   ]
  },
  {
   "cell_type": "code",
   "execution_count": null,
   "id": "cdbf3d30-22ef-4636-a925-1b499eb2588f",
   "metadata": {},
   "outputs": [],
   "source": [
    "# Intersect population and green areas\n",
    "\n",
    "glyr = shp_to_lyr(green_areas)\n",
    "\n",
    "ointersect = os.path.join(tmpws, 'i_pop_green')\n",
    "ilyr = intersection([glyr, poplyr], ointersect)"
   ]
  },
  {
   "cell_type": "code",
   "execution_count": null,
   "id": "3ca0c1b2-2a6b-4d4c-8c1c-e4a28ab5270a",
   "metadata": {},
   "outputs": [],
   "source": [
    "# Dissolve\n",
    "\n",
    "odiss = os.path.join(tmpws, 'pop_green_diss')\n",
    "disslyr = dissolve(\n",
    "    ilyr, odiss, green_fid,\n",
    "    statistics=[[\"dpop\", \"MEAN\"]]\n",
    ")"
   ]
  },
  {
   "cell_type": "code",
   "execution_count": null,
   "id": "290b40ac-c873-4bcf-b4d3-5e88bd6b0a81",
   "metadata": {},
   "outputs": [],
   "source": [
    "# Join \n",
    "cp_green = copy_feat(green_areas, outfeat)\n",
    "\n",
    "green_lyr = join_table(\n",
    "    cp_green, disslyr,\n",
    "    green_fid, green_fid,\n",
    "    cols=[\"MEAN_dpop\"]\n",
    ")"
   ]
  }
 ],
 "metadata": {
  "kernelspec": {
   "display_name": "Python 3 (ipykernel)",
   "language": "python",
   "name": "python3"
  },
  "language_info": {
   "codemirror_mode": {
    "name": "ipython",
    "version": 3
   },
   "file_extension": ".py",
   "mimetype": "text/x-python",
   "name": "python",
   "nbconvert_exporter": "python",
   "pygments_lexer": "ipython3",
   "version": "3.9.16"
  }
 },
 "nbformat": 4,
 "nbformat_minor": 5
}
