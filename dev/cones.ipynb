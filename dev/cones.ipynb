{
 "cells": [
  {
   "cell_type": "code",
   "execution_count": null,
   "id": "7bd9b2df-f000-4e81-9476-8b14ef4fb08c",
   "metadata": {},
   "outputs": [],
   "source": [
    "epsg = 3763\n",
    "\n",
    "origin = (0, 0)\n",
    "\n",
    "dist = 500\n",
    "\n",
    "angle_min = 0\n",
    "angle_max = 45\n",
    "\n",
    "angles_int = 45\n",
    "\n",
    "inshp  = '/mnt/d/a2land2023/rule3_4/sample.shp'\n",
    "outshp = '/mnt/d/a2land2023/rule3_4/buffer_res.shp'"
   ]
  },
  {
   "cell_type": "code",
   "execution_count": null,
   "id": "95a5d581-30a0-47e9-a12d-2cdfad2af53a",
   "metadata": {},
   "outputs": [],
   "source": [
    "import numpy as np\n",
    "import geopandas as gp\n",
    "from glass.gobj import create_polygon\n",
    "from glass.rd.shp import shp_to_obj\n",
    "from glass.wt.shp import df_to_shp\n",
    "from glass.pd.dagg import col_listwlist_to_row\n",
    "\n",
    "import matplotlib.pyplot as plt\n",
    "from shapely.geometry import Polygon"
   ]
  },
  {
   "cell_type": "code",
   "execution_count": null,
   "id": "dfdf00e0-27ad-4d72-a1a5-59b902cb6c4e",
   "metadata": {},
   "outputs": [],
   "source": [
    "def run_buffer(r):\n",
    "    #nvtx = len(r.geometry.exterior.coords)\n",
    "    \n",
    "    #side_len = r.perimeter / nvtx\n",
    "    multipoly = []\n",
    "    \n",
    "    minangle = 0\n",
    "    maxangle = angles_int\n",
    "    \n",
    "    while maxangle <= 360:\n",
    "        coords = [(r.x, r.y)]\n",
    "        for i in range(minangle, maxangle + 1):\n",
    "            y = r.y + ((r.dist + dist) * np.cos(np.radians(i)))\n",
    "            x = r.x + ((r.dist + dist) * np.sin(np.radians(i)))\n",
    "    \n",
    "            coords.append((x, y))\n",
    "        \n",
    "        coords.append((r.x, r.y))   \n",
    "    \n",
    "        poly = create_polygon(coords, api='shapely')\n",
    "        \n",
    "        multipoly.append([r.featid, poly, f\"{str(minangle)} - {str(maxangle)}\"])\n",
    "        \n",
    "        minangle += angles_int\n",
    "        maxangle += angles_int\n",
    "    \n",
    "    r[\"geoms\"] = multipoly\n",
    "    \n",
    "    return r"
   ]
  },
  {
   "cell_type": "code",
   "execution_count": null,
   "id": "e400176e-4f41-4148-b07c-b2fabd4f48e6",
   "metadata": {},
   "outputs": [],
   "source": [
    "idf = shp_to_obj(inshp)"
   ]
  },
  {
   "cell_type": "code",
   "execution_count": null,
   "id": "d39ba16b-5ddc-44ae-a2ac-25953e6e5304",
   "metadata": {},
   "outputs": [],
   "source": [
    "s = idf.geometry\n",
    "\n",
    "t = gp.GeoSeries(gp.points_from_xy(s.envelope.bounds.maxx, s.envelope.bounds.maxy))\n",
    "idf[\"dist\"] = s.envelope.centroid.distance(t)\n",
    "\n",
    "idf['x'] = s.envelope.centroid.x\n",
    "idf['y'] = s.envelope.centroid.y\n",
    "\n",
    "idf[\"featid\"] = idf.index\n",
    "\n",
    "idf = idf.apply(lambda x: run_buffer(x), axis=1)\n",
    "\n",
    "idf.drop([\"x\", \"y\", \"geometry\"], axis=1, inplace=True)"
   ]
  },
  {
   "cell_type": "code",
   "execution_count": null,
   "id": "7e73c744-98a5-428a-a4cf-9bf25c864699",
   "metadata": {},
   "outputs": [],
   "source": [
    "idf = col_listwlist_to_row(\n",
    "    idf, \"geoms\", [\"ofid\", \"geom\", \"direction\"],\n",
    "    geomcol=\"geom\", epsg=epsg\n",
    ")\n",
    "\n",
    "df_to_shp(idf, outshp)"
   ]
  },
  {
   "cell_type": "code",
   "execution_count": null,
   "id": "efb02b14-569e-4a0c-9df2-76843c02f448",
   "metadata": {},
   "outputs": [],
   "source": [
    "idf"
   ]
  },
  {
   "cell_type": "code",
   "execution_count": null,
   "id": "3accc2fc-5601-4ecb-a131-a689f6089e9b",
   "metadata": {},
   "outputs": [],
   "source": [
    "#generate geoseries of maxx and maxy of each polygon's envelope\n",
    "s = idf.geometry\n",
    "\n",
    "t = gp.GeoSeries(gp.points_from_xy(s.envelope.bounds.maxx, s.envelope.bounds.maxy))\n",
    "\n",
    "fig, ax = plt.subplots()\n",
    "#circle with radius of distance from centroid of envelope to it's maxx, maxy \n",
    "s.envelope.centroid.buffer(s.envelope.centroid.distance(t)).plot(ax=ax, color='green', alpha=0.5)\n",
    "#envelope of the polygon\n",
    "s.envelope.plot(ax=ax, color='magenta', alpha=0.4)\n",
    "#polygon\n",
    "s.plot(ax=ax, color='red', alpha=0.4)\n",
    "#points of envelope's maxx, maxy\n",
    "t.plot(ax=ax, color='blue')\n",
    "plt.show()"
   ]
  },
  {
   "cell_type": "code",
   "execution_count": null,
   "id": "846f8e12-f495-479f-891a-2acd23a966b7",
   "metadata": {},
   "outputs": [],
   "source": []
  }
 ],
 "metadata": {
  "kernelspec": {
   "display_name": "Python 3 (ipykernel)",
   "language": "python",
   "name": "python3"
  },
  "language_info": {
   "codemirror_mode": {
    "name": "ipython",
    "version": 3
   },
   "file_extension": ".py",
   "mimetype": "text/x-python",
   "name": "python",
   "nbconvert_exporter": "python",
   "pygments_lexer": "ipython3",
   "version": "3.8.10"
  }
 },
 "nbformat": 4,
 "nbformat_minor": 5
}
