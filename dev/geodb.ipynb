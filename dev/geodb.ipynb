{
 "cells": [
  {
   "cell_type": "code",
   "execution_count": null,
   "metadata": {},
   "outputs": [],
   "source": [
    "import json\n",
    "import uuid\n",
    "from IPython.display import display_javascript, display_html, display\n",
    "\n",
    "class RenderJSON(object):\n",
    "    def __init__(self, json_data):\n",
    "        if isinstance(json_data, dict) or isinstance(json_data, list):\n",
    "            self.json_str = json.dumps(json_data)\n",
    "        else:\n",
    "            self.json_str = json_data\n",
    "        self.uuid = str(uuid.uuid4())\n",
    "\n",
    "    def _ipython_display_(self):\n",
    "        display_html('<div id=\"{}\" style=\"height: 300px; width:100%;font: 12px/18px monospace !important;\"></div>'.format(self.uuid), raw=True)\n",
    "        display_javascript(\"\"\"\n",
    "        require([\"https://rawgit.com/caldwell/renderjson/master/renderjson.js\"], function() {\n",
    "            renderjson.set_show_to_level(2);\n",
    "            document.getElementById('%s').appendChild(renderjson(%s))\n",
    "        });\n",
    "      \"\"\" % (self.uuid, self.json_str), raw=True)"
   ]
  },
  {
   "cell_type": "code",
   "execution_count": null,
   "metadata": {},
   "outputs": [],
   "source": [
    "import requests\n",
    "import json\n",
    "\n",
    "API_MAIN_URL = 'http://127.0.0.1:8000'\n",
    "\n",
    "CREDENTIALS = ('kurosaki', 'kurosaki++zangetsu')"
   ]
  },
  {
   "cell_type": "code",
   "execution_count": null,
   "metadata": {},
   "outputs": [],
   "source": [
    "URL = '{}/api/geodb/grid/'.format(API_MAIN_URL)\n",
    "\n",
    "r = requests.get(URL, auth=CREDENTIALS)\n",
    "\n",
    "RenderJSON(r.json())"
   ]
  },
  {
   "cell_type": "code",
   "execution_count": null,
   "metadata": {},
   "outputs": [],
   "source": [
    "URL = '{}/api/geodb/dtypes/'.format(API_MAIN_URL)\n",
    "\n",
    "r = requests.get(URL, auth=CREDENTIALS)\n",
    "\n",
    "RenderJSON(r.json())"
   ]
  },
  {
   "cell_type": "code",
   "execution_count": null,
   "metadata": {},
   "outputs": [],
   "source": [
    "URL = '{}/api/geodb/datasets/'.format(API_MAIN_URL)\n",
    "\n",
    "r = requests.get(URL, auth=CREDENTIALS)\n",
    "\n",
    "RenderJSON(r.json())"
   ]
  },
  {
   "cell_type": "code",
   "execution_count": null,
   "metadata": {},
   "outputs": [],
   "source": [
    "URL = '{}/api/geodb/events/'.format(API_MAIN_URL)\n",
    "\n",
    "r = requests.get(URL, auth=CREDENTIALS)\n",
    "\n",
    "RenderJSON(r.json())"
   ]
  },
  {
   "cell_type": "code",
   "execution_count": null,
   "metadata": {},
   "outputs": [],
   "source": [
    "from glass.geo.obj.to import shpext_to_boundary\n",
    "\n",
    "DATASET = 'dem888_10'\n",
    "extent = '/mnt/d/gwork/fireloc/pseudo_fire/lmt_coimbra.shp'\n",
    "\n",
    "HEADERS={\n",
    "    'content-type'  : 'application/json',\n",
    "    #'Authorization' : TOKEN\n",
    "}\n",
    "\n",
    "URL = '{}/api/geodb/getdata/'.format(API_MAIN_URL)\n",
    "\n",
    "DATA = {\n",
    "    \"dataset\" : DATASET,\n",
    "    \"geom\"    : shpext_to_boundary(extent).ExportToWkt(),\n",
    "    \"epsg\"    : 3763\n",
    "}\n",
    "\n",
    "r = requests.post(URL, headers=HEADERS, data=json.dumps(DATA), auth=CREDENTIALS)\n",
    "\n",
    "RenderJSON(r.json())"
   ]
  },
  {
   "cell_type": "code",
   "execution_count": null,
   "metadata": {},
   "outputs": [],
   "source": [
    "from glass.pys.web import get_file\n",
    "\n",
    "TOKEN = 'thjoQD'\n",
    "output = '/mnt/d/gwork/fireloc/xyz/teste.tif'\n",
    "\n",
    "URL = '{}/api/geodb/download/{}/'.format(API_MAIN_URL, TOKEN)\n",
    "\n",
    "get_file(URL, output)"
   ]
  },
  {
   "cell_type": "markdown",
   "metadata": {},
   "source": [
    "### Old CODE ###"
   ]
  },
  {
   "cell_type": "code",
   "execution_count": null,
   "metadata": {},
   "outputs": [],
   "source": [
    "\"\"\"\n",
    "Send data in Excel to database\n",
    "\"\"\"\n",
    "\n",
    "import json\n",
    "import pandas as pd\n",
    "import requests as rqsts\n",
    "from glass.fm import tbl_to_obj\n",
    "\n",
    "tbl = r'D:\\GoogleDrive\\Fireloc\\fireloc_db.xlsx'\n",
    "sht = 'realtable'\n",
    "url = \"https://vgi.mat.uc.pt/api/sdi/datasets/\"\n",
    "\n",
    "data = tbl_to_obj(tbl, sheet=sht)\n",
    "data.where(pd.notnull(data), None, inplace=True)\n",
    "data = data.to_dict(orient='records')\n",
    "\n",
    "for r in data:\n",
    "    dd = json.dumps(r)\n",
    "    response = rqsts.post(url, data=dd, headers={'content-type' : 'application/json'},\n",
    "                         auth=('kurosaki', 'zangetsu'))"
   ]
  },
  {
   "cell_type": "code",
   "execution_count": null,
   "metadata": {},
   "outputs": [],
   "source": [
    "\"\"\"\n",
    "Get Cells Related with extent\n",
    "\"\"\"\n",
    "\n",
    "shp = '/home/jasp/xyz/lmt_9.shp'\n",
    "dataset = 'dem888_10'\n",
    "\n",
    "REFGRID_TBL = {\n",
    "    \"TBL\" : \"sdi_refgrid\", \"GEOM\" : \"geom\",\n",
    "    \"CELLID\" : \"cellid\"\n",
    "}\n",
    "\n",
    "con_db = {\n",
    "    'HOST' : 'localhost', 'PORT' : '5433', 'USER' : 'postgres',\n",
    "    'PASSWORD' : 'admin', 'DATABASE' : 'expvgi_api'\n",
    "}\n",
    "\n",
    "gpkg_fld = '/home/jasp/xpto/expvgi-inescc/api/sdi/sdidata/'\n",
    "\n",
    "import os\n",
    "from glass.g.to       import shpext_to_boundary\n",
    "\n",
    "\n",
    "# Get Extent Geometry\n",
    "lmt_geom = shpext_to_boundary(shp, out_srs=3763).ExportToWkt()\n",
    "\n",
    "# Get Intersecting CELLS\n",
    "Q = (\n",
    "    \"SELECT {ci} FROM (\"\n",
    "        \"SELECT {ci}, (ST_Area(ST_Intersection({gc}, ST_GeomFromText('{wkt}', 3763))) \"\n",
    "        \"/ ST_Area({gc}) * 100) AS i_area \"\n",
    "        \"FROM {t} WHERE ST_Intersects({gc}, ST_GeomFromText('{wkt}', 3763))\"\n",
    "    \") AS foo WHERE i_area > 1\"\n",
    ").format(\n",
    "    ci=REFGRID_TBL[\"CELLID\"], gc=REFGRID_TBL[\"GEOM\"], t=REFGRID_TBL[\"TBL\"],\n",
    "    wkt=lmt_geom\n",
    ")\n",
    "\n",
    "cells = q_to_obj(con_db, Q)\n",
    "\n",
    "# Get Geopackage name\n",
    "gpkg = q_to_obj(con_db, \"SELECT rst_gpkg FROM sdi_datasets WHERE slug='{}'\".format(\n",
    "    dataset\n",
    ")).rst_gpkg.tolist()[0]\n",
    "print(gpkg)\n",
    "\n",
    "# Export data from geopackage\n",
    "rsts = [gpkgrst_to_rst(\n",
    "    os.path.join(gpkg_fld, gpkg + '.gpkg'),\n",
    "    \"cell__{}\".format(str(row.cellid)),\n",
    "    os.path.join(gpkg_fld, gpkg + '_{}.tif'.format(str(row.cellid)))\n",
    ") for idx, row in cells.iterrows()]\n",
    "\n",
    "# Create new Mosaic\n",
    "rst_data = rsts_to_mosaic(rsts, os.path.join(gpkg_fld, \"rst_mos.tif\"), api='rasterio')"
   ]
  },
  {
   "cell_type": "code",
   "execution_count": null,
   "metadata": {},
   "outputs": [],
   "source": [
    "from glass.web.ff import get_file_post\n",
    "from glass.g.to   import shpext_to_boundary\n",
    "import json\n",
    "\n",
    "shp = r'C:\\gwork\\ecgi_val\\lmt_9.shp'\n",
    "dataset = 'dem888_30'\n",
    "\n",
    "# Get Extent Geometry\n",
    "lmt_geom = shpext_to_boundary(shp, out_srs=3763).ExportToWkt()\n",
    "\n",
    "data = {\n",
    "    'geom' : lmt_geom, 'dataset' : dataset\n",
    "}\n",
    "\n",
    "status, ff = get_file_post(\n",
    "    'http://127.0.0.1:8000/api/sdi/down-dataset/',\n",
    "    r'C:\\gwork\\ecgi_val\\teste2.tif', data,\n",
    "    ('kurosaki', 'zangetsu')\n",
    ")"
   ]
  },
  {
   "cell_type": "code",
   "execution_count": null,
   "metadata": {},
   "outputs": [],
   "source": [
    "import requests\n",
    "import json\n",
    "\n",
    "r = requests.post(\n",
    "    'http://127.0.0.1:8000/api/sdi/teste/',\n",
    "    data=json.dumps({\n",
    "        \"geometry\": \"POLYGON ((-59191.4075000012 96083.7674000022 0,808.592499998806 96083.7674000022 0,808.592499998806 36083.7674000022 0,-59191.4075000012 36083.7674000022 0,-59191.4075000012 96083.7674000022 0))\", \"dataset\": \"dem888_50\"\n",
    "    }),\n",
    "    headers={'content-type' : 'application/json'}\n",
    ")"
   ]
  }
 ],
 "metadata": {
  "kernelspec": {
   "display_name": "Python 3",
   "language": "python",
   "name": "python3"
  },
  "language_info": {
   "codemirror_mode": {
    "name": "ipython",
    "version": 3
   },
   "file_extension": ".py",
   "mimetype": "text/x-python",
   "name": "python",
   "nbconvert_exporter": "python",
   "pygments_lexer": "ipython3",
   "version": "3.6.9"
  }
 },
 "nbformat": 4,
 "nbformat_minor": 4
}
