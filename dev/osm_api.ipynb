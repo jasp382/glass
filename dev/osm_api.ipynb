{
 "cells": [
  {
   "cell_type": "code",
   "execution_count": null,
   "metadata": {},
   "outputs": [],
   "source": [
    "from glass.g.to   import shpext_to_boundary\n",
    "from glass.pys.web import get_file_post\n",
    "\n",
    "#url      = 'http://127.0.0.1:8000/api/osmapi/download/extract/'\n",
    "url      = 'https://vgi.mat.uc.pt/api/osmapi/download/extract/'\n",
    "boundary = '/mnt/c/gwork/osmtolulc_imp/lmt_shp/lmt_rome_10x10.shp'\n",
    "osmfile  = '/mnt/c/gwork/osmtolulc_imp/osmdata/osm_rome.xml'\n",
    "\n",
    "lmt_geom = shpext_to_boundary(boundary, out_srs=4326).ExportToWkt()\n",
    "\n",
    "status, r = get_file_post(\n",
    "    url, osmfile, {'geom' : lmt_geom},\n",
    "    credentials=('kurosaki', 'zangetsu')\n",
    ")\n",
    "print(status)"
   ]
  },
  {
   "cell_type": "code",
   "execution_count": null,
   "metadata": {},
   "outputs": [],
   "source": [
    "print(r)"
   ]
  },
  {
   "cell_type": "code",
   "execution_count": null,
   "metadata": {},
   "outputs": [],
   "source": []
  }
 ],
 "metadata": {
  "kernelspec": {
   "display_name": "Python 3",
   "language": "python",
   "name": "python3"
  },
  "language_info": {
   "codemirror_mode": {
    "name": "ipython",
    "version": 3
   },
   "file_extension": ".py",
   "mimetype": "text/x-python",
   "name": "python",
   "nbconvert_exporter": "python",
   "pygments_lexer": "ipython3",
   "version": "3.6.9"
  }
 },
 "nbformat": 4,
 "nbformat_minor": 4
}
