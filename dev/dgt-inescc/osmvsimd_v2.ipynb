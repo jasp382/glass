{
 "cells": [
  {
   "cell_type": "code",
   "execution_count": null,
   "id": "4832dd9b-44d2-4649-9f3c-6770bfa9b3e1",
   "metadata": {
    "tags": []
   },
   "outputs": [],
   "source": [
    "# Create a fishnet using a raster file\n",
    "\n",
    "from dgt.smp import nfishnet_fm_rst\n",
    "\n",
    "imd = '/home/yuri/dgt/sample_osmimd/imd_74_v2.tif'\n",
    "out = \"/home/jasp/mystuff/dgt/omsvsimd74/fishnet\"\n",
    "\n",
    "fishnet = nfishnet_fm_rst(imd, 500, 500, out)"
   ]
  },
  {
   "cell_type": "code",
   "execution_count": 1,
   "id": "7bc6b159-4ba8-49e6-a60a-069b563b8ec3",
   "metadata": {},
   "outputs": [],
   "source": [
    "imd = '/home/yuri/dgt/sample_osmimd/imd_74_v2.tif'\n",
    "\n",
    "osm_ref_tags = {\n",
    "    \"TABLE\"     : '/home/yuri/dgt/sample_osmimd/osm_features_2021_v2.xlsx',\n",
    "    \"SHEET\"     : 'osm_features',\n",
    "    \"LULC_COL\"  : 'L4',\n",
    "    \"KEY_COL\"   : \"key\",\n",
    "    \"VALUE_COL\" : \"value\",\n",
    "    \"GEOM_COL\"  : \"geom\"\n",
    "}\n",
    "\n",
    "osmdata = {\n",
    "    \"FILE\"  : '/home/yuri/dgt/sample_osmimd/osmpt_74.xml',\n",
    "    \"DB\"    : 'osmdb74',\n",
    "    \"TABLE\" : \"multipolygons\",\n",
    "    \"DBSET\" : \"local\"\n",
    "}\n",
    "\n",
    "ref_edificado = [\n",
    "    '1141', '1151', '1211', '1221',\n",
    "    '1222', '1223', '1231', '1241',\n",
    "    '1251', '1252', '1254', '1255',\n",
    "    '1256', '1257', '1253', '1612',\n",
    "    '1631', '1632', '1633', '1651',\n",
    "    '16', '143', '1431', '1432'\n",
    "]\n",
    "\n",
    "\n",
    "lulccls = 'lulc_cls'\n",
    "\n",
    "fishnet = '/home/jasp/mystuff/dgt/osmvsimd74/fishnet/fishnet_1.shp'\n",
    "\n",
    "#refshp = '/home/yurimtig/dgt/temp/fishnet_1.shp'\n",
    "\n",
    "# OSM LULC result\n",
    "lulcshp = '/home/yurimtig/dgt/osmlulc.shp'\n",
    "\n",
    "# OSM/CAE intersection result\n",
    "osmdissolve = '/home/yurimtig/dgt/osmdissolve.shp'\n",
    "\n",
    "epsg = 3763\n",
    "\n",
    "# Output\n",
    "outshp = '/home/yuri/dgt/final'"
   ]
  },
  {
   "cell_type": "code",
   "execution_count": 2,
   "id": "808ca707-ef46-4348-922b-7334253e3897",
   "metadata": {},
   "outputs": [],
   "source": [
    "import os\n",
    "import pandas as pd\n",
    "import numpy as np\n",
    "\n",
    "from dgt.it.osm import osm_to_psql\n",
    "from dgt.it.shp import dbtbl_to_shp\n",
    "from dgt.wenv.grs import run_grass\n",
    "from dgt.dp.torst import shp_to_rst\n",
    "from dgt.rd.shp import shp_to_obj\n",
    "from dgt.wt.shp import df_to_shp\n",
    "\n",
    "from dgt.prop.sql import cols_name\n",
    "from dgt.rd import tbl_to_obj\n",
    "from dgt.sql.q import exec_write_q\n",
    "from dgt.sql.db import create_db\n",
    "from dgt.pys.oss import mkdir, fprop"
   ]
  },
  {
   "cell_type": "code",
   "execution_count": 3,
   "id": "f4b03698-4571-41d0-b2c1-643e4eac6e4c",
   "metadata": {},
   "outputs": [],
   "source": [
    "# Prepare workspace\n",
    "ws = mkdir(os.path.join(\n",
    "    os.path.dirname(outshp), 'grswork'\n",
    "), overwrite=True)"
   ]
  },
  {
   "cell_type": "code",
   "execution_count": 4,
   "id": "420a3255-5be6-4ae9-92e4-9d5e1fdcb2e0",
   "metadata": {},
   "outputs": [
    {
     "data": {
      "text/plain": [
       "'osmdb74'"
      ]
     },
     "execution_count": 4,
     "metadata": {},
     "output_type": "execute_result"
    }
   ],
   "source": [
    "# Import data into a database\n",
    "create_db(osmdata[\"DB\"], api='psql', overwrite=True, dbset=osmdata[\"DBSET\"])\n",
    "\n",
    "osm_to_psql(osmdata[\"FILE\"], osmdata[\"DB\"])"
   ]
  },
  {
   "cell_type": "code",
   "execution_count": 5,
   "id": "b919a48d-bcce-4e66-a792-82d294f8d251",
   "metadata": {},
   "outputs": [],
   "source": [
    "osm_tags = tbl_to_obj(osm_ref_tags[\"TABLE\"], sheet=osm_ref_tags[\"SHEET\"])\n",
    "\n",
    "osm_tags = osm_tags[osm_tags[osm_ref_tags[\"GEOM_COL\"]] == 'Polygon']"
   ]
  },
  {
   "cell_type": "code",
   "execution_count": 6,
   "id": "0a4de0d9-8dde-4530-a99f-b11ef1a37411",
   "metadata": {},
   "outputs": [],
   "source": [
    "osm_tags['sevtags'] = osm_tags[osm_ref_tags[\"LULC_COL\"]].str.contains(';')\n",
    "\n",
    "osm_tags = osm_tags[osm_tags.sevtags != True]"
   ]
  },
  {
   "cell_type": "code",
   "execution_count": 7,
   "id": "650c3c9f-2468-45b2-b017-180776be4b9d",
   "metadata": {},
   "outputs": [],
   "source": [
    "# Create key/value column\n",
    "osm_tags.loc[:, osm_ref_tags[\"VALUE_COL\"]] = osmdata[\"TABLE\"] + \".\" + \\\n",
    "    osm_tags[osm_ref_tags[\"KEY_COL\"]] + \\\n",
    "    \"='\" + osm_tags[osm_ref_tags[\"VALUE_COL\"]] + \"'\""
   ]
  },
  {
   "cell_type": "code",
   "execution_count": 8,
   "id": "fe342864-4e04-4780-8efd-23cf47ef5207",
   "metadata": {},
   "outputs": [],
   "source": [
    "# Add new column to multipolygons table\n",
    "# Update it adding an LULC class\n",
    "\n",
    "cols = cols_name(osmdata[\"DB\"], osmdata['TABLE'], dbset=osmdata[\"DBSET\"])\n",
    "\n",
    "qs = [] if \"lulc_cls\" in cols else [(\n",
    "    f\"ALTER TABLE {osmdata['TABLE']} ADD COLUMN \"\n",
    "    \"lulc_cls integer\"\n",
    ")]\n",
    "\n",
    "for cls in osm_tags[osm_ref_tags[\"LULC_COL\"]].unique():\n",
    "    # Se uma feature estiver associada a duas TAGS que dizem respeito a classes\n",
    "    # diferentes, a classe da feature será a última classe considerada\n",
    "    # Abordagem multitag vai resolver este problema.\n",
    "    __osmtags = osm_tags[osm_tags[osm_ref_tags[\"LULC_COL\"]] == cls]\n",
    "    \n",
    "    qs.append((\n",
    "        f\"UPDATE {osmdata['TABLE']} SET lulc_cls={str(cls)} \"\n",
    "        f\"WHERE {str(__osmtags[osm_ref_tags['VALUE_COL']].str.cat(sep=' OR '))}\"\n",
    "    ))"
   ]
  },
  {
   "cell_type": "code",
   "execution_count": 9,
   "id": "b986a991-f572-45ef-bbe4-3b6b2254efa5",
   "metadata": {},
   "outputs": [
    {
     "name": "stdout",
     "output_type": "stream",
     "text": [
      "['ogc_fid', 'osm_id', 'osm_way_id', 'name', 'type', 'aeroway', 'amenity', 'admin_level', 'barrier', 'boundary', 'building', 'craft', 'geological', 'historic', 'land_area', 'landuse', 'leisure', 'man_made', 'military', '\"natural\"', 'office', 'place', 'shop', 'sport', 'tourism', 'waterway', 'power', 'railway', 'healthcare', 'highway', 'water', 'landcover', 'industrial', 'other_tags', 'wkb_geometry']\n"
     ]
    }
   ],
   "source": [
    "cols = cols_name(osmdata[\"DB\"], osmdata['TABLE'], dbset=osmdata[\"DBSET\"])\n",
    "print(cols)"
   ]
  },
  {
   "cell_type": "code",
   "execution_count": 10,
   "id": "94cadbc7-5286-4f55-a102-b683a646f255",
   "metadata": {},
   "outputs": [],
   "source": [
    "# RUN queries\n",
    "exec_write_q(osmdata[\"DB\"], qs, api='psql', dbset=osmdata[\"DBSET\"])"
   ]
  },
  {
   "cell_type": "code",
   "execution_count": null,
   "id": "f95647fe-0dbc-4d96-baa9-af6451ad97ab",
   "metadata": {},
   "outputs": [],
   "source": [
    "# Export shapefile with data\n",
    "whr = \" OR \".join([f\"lulc_cls={c}\" for c in ref_edificado])\n",
    "\n",
    "q = (\n",
    "    f'SELECT ogc_fid, osm_id, name, lulc_cls, '\n",
    "    'building, amenity, landuse, '\n",
    "    f'ST_Transform(wkb_geometry, {str(epsg)}) AS geom '\n",
    "    f'FROM {osmdata[\"TABLE\"]} '\n",
    "    f'WHERE {whr}'\n",
    ")\n",
    "\n",
    "osmlulc = dbtbl_to_shp(\n",
    "    osmdata[\"DB\"], q, 'geom', os.path.join(ws, 'osmlulc.shp'),\n",
    "    tableIsQuery=True, api='pgsql2shp', epsg=epsg,\n",
    "    dbset=osmdata[\"DBSET\"]\n",
    ")"
   ]
  },
  {
   "cell_type": "code",
   "execution_count": null,
   "id": "1e8016a8-1321-4454-aa0e-c1730a40f2d9",
   "metadata": {},
   "outputs": [],
   "source": [
    "# Start GRASS GIS Session\n",
    "loc = 'locwork'\n",
    "gb = run_grass(ws, location=loc, srs=imd)\n",
    "\n",
    "import grass.script.setup as gsetup\n",
    "\n",
    "gsetup.init(gb, ws, loc, 'PERMANENT')"
   ]
  },
  {
   "cell_type": "code",
   "execution_count": null,
   "id": "05ae60ec-0f5e-4ea2-9e3e-fcdd455a80bb",
   "metadata": {},
   "outputs": [],
   "source": [
    "# GRASS GIS Modules\n",
    "from dgt.it.shp import shp_to_grs, grs_to_shp\n",
    "from dgt.it.rst import rst_to_grs\n",
    "from dgt.gp.gen import dissolve\n",
    "from dgt.tbl.cols import add_fields, cols_calc\n",
    "from dgt.gp.ovl import grsintersection\n",
    "from dgt.smp import sample_to_points"
   ]
  },
  {
   "cell_type": "code",
   "execution_count": null,
   "id": "475ec15f-9524-4348-be78-93ad18a98715",
   "metadata": {},
   "outputs": [],
   "source": [
    "# Import data\n",
    "fishnetgrs = shp_to_grs(fishnet, fprop(fishnet, 'fn'))\n",
    "\n",
    "osmlulcgrs = shp_to_grs(osmlulc, fprop(osmlulc, 'fn'), filterByReg=True)"
   ]
  },
  {
   "cell_type": "code",
   "execution_count": null,
   "id": "cb1034f0-5649-4732-9cd3-6b5a3a349f6e",
   "metadata": {},
   "outputs": [],
   "source": [
    "# Dissolve atraves de um atributo com valores iguais\n",
    "\n",
    "add_fields(osmlulcgrs, {'gencol': 'integer'}, api=\"grass\")\n",
    "\n",
    "cols_calc(osmlulcgrs, \"gencol\", 1, \"gencol IS NULL\", ascmd=None)\n",
    "\n",
    "osmdiss = dissolve(osmlulcgrs, 'osmdissolve', \"gencol\", api='grass')"
   ]
  },
  {
   "cell_type": "code",
   "execution_count": null,
   "id": "76fbdb42-77ee-4986-b418-af383d8bd642",
   "metadata": {},
   "outputs": [],
   "source": [
    "# Intersect fishnet feactures with osm polygons\n",
    "\n",
    "iosm_fish = grsintersection(fishnetgrs, osmdiss, 'osm_fishnet')"
   ]
  },
  {
   "cell_type": "code",
   "execution_count": null,
   "id": "7f91b7e9-dae6-4b26-a482-c9c960b593ce",
   "metadata": {},
   "outputs": [],
   "source": [
    "# Extract Raster values to points\n",
    "\n",
    "pshp = grs_to_shp(fishnetgrs, os.path.join(ws, f'pnt_{fishnetgrs}.shp'), 'centroid')\n",
    "pntgrs = shp_to_grs(pshp, fprop(pshp, 'fn'))\n",
    "\n",
    "add_fields(pntgrs, {'imdval' : \"double precision\"}, api=\"grass\")\n",
    "\n",
    "imdgrs = rst_to_grs(imd, fprop(imd, 'fn'))\n",
    "\n",
    "sample_to_points(pntgrs, 'imdval', imdgrs)"
   ]
  },
  {
   "cell_type": "code",
   "execution_count": null,
   "id": "33f59c2c-6084-48a6-8e66-46e81c656b4c",
   "metadata": {},
   "outputs": [],
   "source": [
    "# Export intersection result to file\n",
    "\n",
    "ishp = grs_to_shp(iosm_fish, os.path.join(ws, iosm_fish + '.shp'), 'area')\n",
    "pshp = grs_to_shp(pntgrs, os.path.join(ws, f'val_{pntgrs}.shp'), 'point')"
   ]
  },
  {
   "cell_type": "code",
   "execution_count": null,
   "id": "2b0c54e1-a440-4d28-a700-d6bb84e18641",
   "metadata": {},
   "outputs": [],
   "source": [
    "# Open Fishnet and Intersection results\n",
    "fishdf = shp_to_obj(fishnet)\n",
    "\n",
    "idf = shp_to_obj(ishp)\n",
    "\n",
    "pdf = shp_to_obj(pshp)"
   ]
  },
  {
   "cell_type": "code",
   "execution_count": null,
   "id": "2835c1cd-df79-44f3-a726-e16b8b183f54",
   "metadata": {},
   "outputs": [],
   "source": [
    "# Sanitize col values\n",
    "\n",
    "idf = idf[~idf.a_cat.isna()]\n",
    "\n",
    "idf['a_cat'] = idf.a_cat.astype(int)\n",
    "\n",
    "# Get field with area\n",
    "idf[\"garea\"] = idf.geometry.area"
   ]
  },
  {
   "cell_type": "code",
   "execution_count": null,
   "id": "c23e5e4b-4860-427f-94ec-f2bc10d7e4b8",
   "metadata": {},
   "outputs": [],
   "source": [
    "# Get area with OSM data in each cell\n",
    "areabycell = pd.DataFrame({\n",
    "    'iarea' : idf.groupby(['a_cat'])['garea'].agg('sum')\n",
    "}).reset_index()"
   ]
  },
  {
   "cell_type": "code",
   "execution_count": null,
   "id": "2e922409-c358-4919-a9cb-6398a574de52",
   "metadata": {},
   "outputs": [],
   "source": [
    "# Join with original fishnet\n",
    "fishdf['cellid'] = fishdf.index + 1\n",
    "\n",
    "fishdf = fishdf.merge(areabycell, how='left', left_on='cellid', right_on='a_cat')"
   ]
  },
  {
   "cell_type": "code",
   "execution_count": null,
   "id": "c3425915-ad22-45b2-9cfc-cfc0b6d078f3",
   "metadata": {},
   "outputs": [],
   "source": [
    "fishdf['iarea'] = fishdf.iarea.fillna(value=0)"
   ]
  },
  {
   "cell_type": "code",
   "execution_count": null,
   "id": "edf35226-2ccf-490d-bfe4-f6832f29b701",
   "metadata": {},
   "outputs": [],
   "source": [
    "fishdf[\"urbanp\"] = fishdf.iarea * 100 / fishdf.geometry.area\n",
    "\n"
   ]
  },
  {
   "cell_type": "code",
   "execution_count": null,
   "id": "59b97f15-2b77-4629-b00c-e659b23121bc",
   "metadata": {},
   "outputs": [],
   "source": [
    "# Get IMD Values\n",
    "\n",
    "pdf.drop([c for c in pdf.columns.values if c != 'imdval'], axis=1, inplace=True)\n",
    "\n",
    "pdf['pid'] = pdf.index + 1\n",
    "\n",
    "fishdf = fishdf.merge(pdf, how='left', left_on=\"cellid\", right_on=\"pid\")"
   ]
  },
  {
   "cell_type": "code",
   "execution_count": null,
   "id": "2d928392-233d-4faf-8c55-ab6a785a8d16",
   "metadata": {},
   "outputs": [],
   "source": [
    "fishdf.drop([\"a_cat\", \"pid\"], axis=1, inplace=True)"
   ]
  },
  {
   "cell_type": "code",
   "execution_count": null,
   "id": "0063a38d-a1a9-4afe-ba93-7937d99e3365",
   "metadata": {},
   "outputs": [],
   "source": [
    "# Export result\n",
    "\n",
    "df_to_shp(fishdf, outshp)"
   ]
  },
  {
   "cell_type": "markdown",
   "id": "6f3304ca-a038-407d-b17b-42b0796f9e70",
   "metadata": {},
   "source": [
    "Código versão 1"
   ]
  },
  {
   "cell_type": "code",
   "execution_count": null,
   "id": "f1f355f8-5b2c-4dc8-be45-d3e1293ba951",
   "metadata": {},
   "outputs": [],
   "source": [
    "#Add Columns\n",
    "\n",
    "from grass.pygrass.modules import Module\n",
    "    \n",
    "Module('v.db.addcolumn', intersect, columns = 'areapercent double')"
   ]
  },
  {
   "cell_type": "code",
   "execution_count": null,
   "id": "592fb7ed-a733-469c-983b-0347e57c4d37",
   "metadata": {},
   "outputs": [],
   "source": [
    "#Add data in the Columns\n",
    "\n",
    "from grass.pygrass.modules import Module\n",
    "    \n",
    "Module('v.to.db', intersect, option = 'area', columns = 'areapercent', units = 'meters',overwrite=True)\n"
   ]
  },
  {
   "cell_type": "code",
   "execution_count": null,
   "id": "f0d35bf8-702d-489c-a656-789224d1364c",
   "metadata": {},
   "outputs": [],
   "source": [
    "#Join tablegrs_to_shpgrass.pygrass.modules import Module\n",
    "\n",
    "Module('v.db.join', fishnetgrs, column='cat', other_table=intersect, other_column='a_cat')\n",
    "\n",
    "\n"
   ]
  },
  {
   "cell_type": "code",
   "execution_count": null,
   "id": "e6b42228-107a-479e-854c-4af303f6995e",
   "metadata": {},
   "outputs": [],
   "source": [
    "#Add column in the fishnet table\n",
    "\n",
    "Module('v.db.addcolumn', fishnetgrs, columns = 'areapercent2 double')"
   ]
  },
  {
   "cell_type": "code",
   "execution_count": null,
   "id": "fa83f75f-4e85-4402-bd61-3c2d2f157faa",
   "metadata": {},
   "outputs": [],
   "source": [
    "#Update fishnet table with intersect areas values\n",
    "\n",
    "Module('v.db.update', fishnetgrs, column='areapercent2', query_column='((round(areapercent,-2))/100)')"
   ]
  },
  {
   "cell_type": "code",
   "execution_count": null,
   "id": "72036a4e-46b2-4328-98e7-590bdb7e9d2a",
   "metadata": {},
   "outputs": [],
   "source": [
    "#Drop join column\n",
    "\n",
    "Module('v.db.dropcolumn', fishnetgrs, columns='areapercent')"
   ]
  },
  {
   "cell_type": "code",
   "execution_count": null,
   "id": "ee0716bd-0d23-40ea-b5ac-07ea9fcb1265",
   "metadata": {},
   "outputs": [],
   "source": [
    "#Drop join column\n",
    "\n",
    "Module('v.db.dropcolumn', fishnetgrs, columns='b_area7')"
   ]
  },
  {
   "cell_type": "code",
   "execution_count": null,
   "id": "ceb99b7c-8bfc-4fd0-bb74-723eb7e43ca8",
   "metadata": {},
   "outputs": [],
   "source": [
    "# OSM/GRID intersection result to shp\n",
    "\n",
    "fishosm = '/home/yurimtig/dgt/fishosm2.shp'\n",
    "saidafish= grs_to_shp(fishnetgrs, fishosm, 'auto')"
   ]
  },
  {
   "cell_type": "code",
   "execution_count": null,
   "id": "e8441ca6-ce67-4170-b2b3-96cfb4b165b7",
   "metadata": {
    "tags": []
   },
   "outputs": [],
   "source": [
    "#Vector grid to raster\n",
    "\n",
    "grd_rst = Module('v.to.rast', fishnetgrs, output='gridrst2',\n",
    "                 use='attr', attribute_column='areapercent2',\n",
    "                overwrite=True)\n"
   ]
  },
  {
   "cell_type": "code",
   "execution_count": null,
   "id": "c4fded73-2613-4a6c-80e3-5409806d8ace",
   "metadata": {},
   "outputs": [],
   "source": [
    "#Export grass to raster\n",
    "\n",
    "from dgt.it.rst import grs_to_rst\n",
    "\n",
    "osmvsgridrst = '/home/yurimtig/dgt/gridvsosm2.tif'\n",
    "\n",
    "gridrst = grs_to_rst('gridrst2', osmvsgridrst)"
   ]
  },
  {
   "cell_type": "code",
   "execution_count": null,
   "id": "1f7c65a7-2339-494f-a044-ccd62623863b",
   "metadata": {},
   "outputs": [],
   "source": []
  }
 ],
 "metadata": {
  "kernelspec": {
   "display_name": "Python 3 (ipykernel)",
   "language": "python",
   "name": "python3"
  },
  "language_info": {
   "codemirror_mode": {
    "name": "ipython",
    "version": 3
   },
   "file_extension": ".py",
   "mimetype": "text/x-python",
   "name": "python",
   "nbconvert_exporter": "python",
   "pygments_lexer": "ipython3",
   "version": "3.8.10"
  }
 },
 "nbformat": 4,
 "nbformat_minor": 5
}
