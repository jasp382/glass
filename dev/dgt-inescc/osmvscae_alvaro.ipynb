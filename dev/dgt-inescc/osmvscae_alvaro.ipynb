{
 "cells": [
  {
   "cell_type": "markdown",
   "id": "b60dbba8-8802-4882-976b-a55598db6a8e",
   "metadata": {
    "tags": []
   },
   "source": [
    "## Compare OSM Data with Carta Áreas Edificadas from DGT"
   ]
  },
  {
   "cell_type": "code",
   "execution_count": 1,
   "id": "9d7b91fb-569c-42b4-b09e-07a768d0e5d0",
   "metadata": {},
   "outputs": [],
   "source": [
    "osm_ref_tags = {\n",
    "    \"TABLE\"     : '/home/alvaro/DGT/dados/dados_OSM/osm_features_2021_v2.xlsx',\n",
    "    \"SHEET\"     : 'osm_features',\n",
    "    \"LULC_COL\"  : 'L4',\n",
    "    \"KEY_COL\"   : \"key\",\n",
    "    \"VALUE_COL\" : \"value\",\n",
    "    \"GEOM_COL\"  : \"geom\"\n",
    "}\n",
    "\n",
    "osmdata = {\n",
    "    \"FILE\"  : '/home/alvaro/DGT/dados/dados_OSM/osm_CBR.xml',\n",
    "    \"DB\"    : 'dgt_osmcbr',\n",
    "    \"TABLE\" : \"multipolygons\",\n",
    "    \"DBSET\" : \"local\"\n",
    "}\n",
    "\n",
    "ref_edificado = [\n",
    "    '1141', '1151', '1211', '1221',\n",
    "    '1222', '1223', '1231', '1241',\n",
    "    '1251', '1252', '1254', '1255',\n",
    "    '1256', '1257', '1253', '1612',\n",
    "    '1631', '1632', '1633', '1651',\n",
    "    '16', '143', '1431', '1432'\n",
    "]\n",
    "\n",
    "\n",
    "lulccls = 'lulc_cls'\n",
    "\n",
    "caeshp = '/home/alvaro/DGT/dados/treino/AreasEdificadas2018_CBR.shp'\n",
    "\n",
    "refshp = '/home/alvaro/DGT/lim_adminis/PT/Lim_PT.shp'\n",
    "\n",
    "epsg = 3763\n",
    "\n",
    "\n",
    "\n",
    "# OSM LULC result\n",
    "lulcshp = '/home/alvaro/DGT/dados/dados_OSM/teste/AE_OSM.shp'\n",
    "osm_no_cae='/home/alvaro/DGT/dados/dados_OSM/teste/AE_OSMnCAE.shp'\n",
    "\n",
    "# OSM/CAE intersection result\n",
    "osmvscae = '/home/alvaro/DGT/dados/dados_OSM/teste/osmvscae.shp'"
   ]
  },
  {
   "cell_type": "code",
   "execution_count": 2,
   "id": "0b6f8ca0-3a75-401b-aff9-f3b78d7e3a0f",
   "metadata": {},
   "outputs": [],
   "source": [
    "import os\n",
    "import pandas as pd\n",
    "import numpy as np\n",
    "\n",
    "from dgt.it.osm import osm_to_psql\n",
    "from dgt.it.shp import dbtbl_to_shp\n",
    "from dgt.wenv.grs import run_grass\n",
    "from dgt.dp.torst import shp_to_rst\n",
    "from dgt.rd.shp import shp_to_obj\n",
    "from dgt.wt.shp import df_to_shp\n",
    "\n",
    "from dgt.prop.sql import cols_name\n",
    "from dgt.rd import tbl_to_obj\n",
    "from dgt.sql.q import exec_write_q\n",
    "from dgt.sql.db import create_db\n",
    "from dgt.pys.oss import mkdir, fprop"
   ]
  },
  {
   "cell_type": "code",
   "execution_count": 3,
   "id": "eb8ea1c8-8782-4b32-9097-5da50d839503",
   "metadata": {},
   "outputs": [],
   "source": [
    "# Prepare workspace\n",
    "ws = mkdir(os.path.join(\n",
    "    os.path.dirname(lulcshp), 'grswork'\n",
    "), overwrite=True)"
   ]
  },
  {
   "cell_type": "code",
   "execution_count": 4,
   "id": "13a98a19-846e-47ea-83f5-a5527c0700a1",
   "metadata": {},
   "outputs": [
    {
     "data": {
      "text/plain": [
       "'dgt_osmcbr'"
      ]
     },
     "execution_count": 4,
     "metadata": {},
     "output_type": "execute_result"
    }
   ],
   "source": [
    "create_db(osmdata[\"DB\"], api='psql', overwrite=True)\n",
    "\n",
    "osm_to_psql(osmdata[\"FILE\"], osmdata[\"DB\"])"
   ]
  },
  {
   "cell_type": "code",
   "execution_count": 5,
   "id": "31e2cad0-d4b0-433c-969f-600bc45ffc27",
   "metadata": {},
   "outputs": [],
   "source": [
    "osm_tags = tbl_to_obj(osm_ref_tags[\"TABLE\"], sheet=osm_ref_tags[\"SHEET\"])\n",
    "\n",
    "osm_tags = osm_tags[osm_tags[osm_ref_tags[\"GEOM_COL\"]] == 'Polygon']"
   ]
  },
  {
   "cell_type": "code",
   "execution_count": 6,
   "id": "6a208ced-27c4-445e-837f-68a18cf83815",
   "metadata": {},
   "outputs": [],
   "source": [
    "osm_tags['sevtags'] = osm_tags[osm_ref_tags[\"LULC_COL\"]].str.contains(';')\n",
    "\n",
    "osm_tags = osm_tags[osm_tags.sevtags != True]"
   ]
  },
  {
   "cell_type": "code",
   "execution_count": 7,
   "id": "4ea6820b-847c-4511-91e2-6526693a2647",
   "metadata": {},
   "outputs": [],
   "source": [
    "# Create key/value column\n",
    "osm_tags.loc[:, osm_ref_tags[\"VALUE_COL\"]] = osmdata[\"TABLE\"] + \".\" + \\\n",
    "    osm_tags[osm_ref_tags[\"KEY_COL\"]] + \\\n",
    "    \"='\" + osm_tags[osm_ref_tags[\"VALUE_COL\"]] + \"'\""
   ]
  },
  {
   "cell_type": "code",
   "execution_count": 8,
   "id": "479d4fa2-865e-4bf8-ae18-0318720d0350",
   "metadata": {},
   "outputs": [],
   "source": [
    "# Add new column to multipolygons table\n",
    "# Update it adding an LULC class\n",
    "\n",
    "cols = cols_name(osmdata[\"DB\"], osmdata['TABLE'], dbset=osmdata[\"DBSET\"])\n",
    "\n",
    "qs = [] if \"lulc_cls\" in cols else [(\n",
    "    f\"ALTER TABLE {osmdata['TABLE']} ADD COLUMN \"\n",
    "    \"lulc_cls integer\"\n",
    ")]\n",
    "\n",
    "for cls in osm_tags[osm_ref_tags[\"LULC_COL\"]].unique():\n",
    "    # Se uma feature estiver associada a duas TAGS que dizem respeito a classes\n",
    "    # diferentes, a classe da feature será a última classe considerada\n",
    "    # Abordagem multitag vai resolver este problema.\n",
    "    __osmtags = osm_tags[osm_tags[osm_ref_tags[\"LULC_COL\"]] == cls]\n",
    "    \n",
    "    qs.append((\n",
    "        f\"UPDATE {osmdata['TABLE']} SET lulc_cls={str(cls)} \"\n",
    "        f\"WHERE {str(__osmtags[osm_ref_tags['VALUE_COL']].str.cat(sep=' OR '))}\"\n",
    "    ))"
   ]
  },
  {
   "cell_type": "code",
   "execution_count": 9,
   "id": "12da34b8-9a25-4ffc-8dcc-33fdafb91c3b",
   "metadata": {},
   "outputs": [],
   "source": [
    "# RUN queries\n",
    "exec_write_q(osmdata[\"DB\"], qs, api='psql', dbset=osmdata[\"DBSET\"])"
   ]
  },
  {
   "cell_type": "code",
   "execution_count": 10,
   "id": "16ef4755-6601-4a49-a649-0bbdc482dcfb",
   "metadata": {},
   "outputs": [],
   "source": [
    "# Export shapefile with data\n",
    "whr = \" OR \".join([f\"lulc_cls={c}\" for c in ref_edificado])\n",
    "\n",
    "q = (\n",
    "    f'SELECT ogc_fid, osm_id, name, lulc_cls, '\n",
    "    'building, amenity, landuse, '\n",
    "    f'ST_Transform(wkb_geometry, {str(epsg)}) AS geom '\n",
    "    f'FROM {osmdata[\"TABLE\"]} '\n",
    "    f'WHERE {whr}'\n",
    ")\n",
    "\n",
    "osmlulc = dbtbl_to_shp(\n",
    "    osmdata[\"DB\"], q, 'geom', os.path.join(ws, 'osmlulc.shp'),\n",
    "    tableIsQuery=True, api='pgsql2shp', epsg=epsg,\n",
    "    dbset=osmdata[\"DBSET\"]\n",
    ")"
   ]
  },
  {
   "cell_type": "markdown",
   "id": "4ed7bd4a-2a76-4ba7-9ead-c0fb6ed3e508",
   "metadata": {},
   "source": [
    "**Dissolve all lulc classes polygons and intersect OSM with CAE**"
   ]
  },
  {
   "cell_type": "code",
   "execution_count": 11,
   "id": "b4ea8481-8f42-41e0-89e7-0333ca6d11d0",
   "metadata": {},
   "outputs": [
    {
     "data": {
      "text/plain": [
       "'/tmp/tmppbe63ox8'"
      ]
     },
     "execution_count": 11,
     "metadata": {},
     "output_type": "execute_result"
    }
   ],
   "source": [
    "# Start GRASS GIS Session\n",
    "\n",
    "bname = fprop(refshp, 'fn')\n",
    "\n",
    "refrst = shp_to_rst(\n",
    "    refshp, None, 10, 0, os.path.join(\n",
    "        ws, f'rst{bname}.tif'\n",
    "    )\n",
    ")\n",
    "\n",
    "loc = 'locwork'\n",
    "gb = run_grass(ws, location=loc, srs=refrst)\n",
    "\n",
    "import grass.script.setup as gsetup\n",
    "\n",
    "gsetup.init(gb, ws, loc, 'PERMANENT')"
   ]
  },
  {
   "cell_type": "code",
   "execution_count": 12,
   "id": "5903afb9-5faa-4379-bc1e-de48be1564d6",
   "metadata": {},
   "outputs": [],
   "source": [
    "# GRASS GIS Modules\n",
    "from dgt.it.shp import shp_to_grs, grs_to_shp\n",
    "from dgt.defs_alvaro.col import add_fields #, cols_calc\n",
    "from dgt.defs_alvaro.grs import add_table\n",
    "from dgt.defs_alvaro.gen import dissolve\n",
    "from dgt.defs_alvaro.ovl import grsunion\n",
    "from dgt.defs_grass import overlay_grs, dissolve_grs, add_column_grs, distance_grs"
   ]
  },
  {
   "cell_type": "code",
   "execution_count": 13,
   "id": "5b65f835-084d-4baa-858f-f57a00e25d28",
   "metadata": {},
   "outputs": [
    {
     "name": "stderr",
     "output_type": "stream",
     "text": [
      "WARNING: Feature (cat 57): degenerated polygon (3 vertices)\n",
      "WARNING: Feature (cat 1002): degenerated polygon (1 vertices)\n",
      "WARNING: Feature (cat 1003): degenerated polygon (1 vertices)\n",
      "WARNING: Feature (cat 1065): degenerated polygon (3 vertices)\n",
      "WARNING: Feature (cat 1172): degenerated polygon (3 vertices)\n",
      "WARNING: Feature (cat 1189): degenerated polygon (3 vertices)\n",
      "WARNING: Feature (cat 1190): degenerated polygon (3 vertices)\n",
      "WARNING: Feature (cat 1204): degenerated polygon (3 vertices)\n",
      "WARNING: Feature (cat 2428): degenerated polygon (1 vertices)\n",
      "WARNING: Feature (cat 2438): degenerated polygon (3 vertices)\n",
      "WARNING: Feature (cat 2453): degenerated polygon (1 vertices)\n",
      "WARNING: Feature (cat 2454): degenerated polygon (1 vertices)\n",
      "WARNING: Feature (cat 2531): degenerated polygon (3 vertices)\n",
      "WARNING: Feature (cat 2644): degenerated polygon (1 vertices)\n",
      "WARNING: Feature (cat 2645): degenerated polygon (3 vertices)\n",
      "WARNING: Feature (cat 2646): degenerated polygon (3 vertices)\n",
      "WARNING: Feature (cat 2647): degenerated polygon (1 vertices)\n",
      "WARNING: Feature (cat 2648): degenerated polygon (3 vertices)\n",
      "WARNING: Feature (cat 2649): degenerated polygon (3 vertices)\n",
      "WARNING: Feature (cat 2742): degenerated polygon (3 vertices)\n",
      "WARNING: Feature (cat 2748): degenerated polygon (3 vertices)\n",
      "WARNING: Feature (cat 2749): degenerated polygon (3 vertices)\n",
      "WARNING: Feature (cat 2750): degenerated polygon (1 vertices)\n",
      "WARNING: Feature (cat 3179): degenerated polygon (3 vertices)\n",
      "WARNING: Feature (cat 4193): degenerated polygon (3 vertices)\n",
      "WARNING: Feature (cat 4296): degenerated polygon (3 vertices)\n",
      "WARNING: Feature (cat 4958): degenerated polygon (3 vertices)\n",
      "WARNING: Feature (cat 5258): degenerated polygon (1 vertices)\n",
      "WARNING: Feature (cat 5417): degenerated polygon (1 vertices)\n",
      "WARNING: Feature (cat 5934): degenerated polygon (1 vertices)\n",
      "WARNING: Feature (cat 6392): degenerated polygon (3 vertices)\n",
      "WARNING: Feature (cat 6418): degenerated polygon (3 vertices)\n",
      "WARNING: Feature (cat 6435): degenerated polygon (3 vertices)\n",
      "WARNING: Feature (cat 6440): degenerated polygon (1 vertices)\n"
     ]
    }
   ],
   "source": [
    "# Import data\n",
    "osmlulcgrs = shp_to_grs(osmlulc, fprop(osmlulc, 'fn'))\n",
    "caegrs = shp_to_grs(caeshp, fprop(caeshp, 'fn'))"
   ]
  },
  {
   "cell_type": "code",
   "execution_count": 14,
   "id": "37b20bba-8b85-4a7f-b57d-fcf4557aed40",
   "metadata": {},
   "outputs": [
    {
     "name": "stderr",
     "output_type": "stream",
     "text": [
      "WARNING: Number of centroids exceeds number of areas: 6814 > 3819\n",
      "WARNING: Number of duplicate centroids: 3040\n",
      "WARNING: Values in column <lulc_cls> will be overwritten\n",
      "WARNING: Vector map <osmlulcdiss> already exists and will be overwritten\n"
     ]
    }
   ],
   "source": [
    "# Dissolve\n",
    "lulcdiss = dissolve(osmlulcgrs, 'lulc_cls', 'osmlulcdiss', api='pygrass')\n",
    "\n",
    "add_table(lulcdiss, None, 'lulc_cls', asCMD=False)\n",
    "\n",
    "disscat = grs_to_shp(lulcdiss, os.path.join(\n",
    "    ws, 'osmlulcdiss.shp'\n",
    "), 'area')\n",
    "\n",
    "lulcdiss = shp_to_grs(disscat, fprop(disscat, 'fn'))\n"
   ]
  },
  {
   "cell_type": "code",
   "execution_count": 15,
   "id": "29446a80-e71b-414d-bded-f9c037e9644c",
   "metadata": {},
   "outputs": [],
   "source": [
    "# Union OSM CAE\n",
    "osmcae = grsunion(lulcdiss, caegrs, 'lulcunion')"
   ]
  },
  {
   "cell_type": "code",
   "execution_count": 16,
   "id": "92535de6-dd58-4715-8959-d12945c97a6a",
   "metadata": {},
   "outputs": [],
   "source": [
    "#add coluna de atributos\n",
    "\n",
    "dist={'dist_cae':'DOUBLE PRECISION'}\n",
    "newlulcdiss=add_column_grs(lulcdiss, dist)"
   ]
  },
  {
   "cell_type": "code",
   "execution_count": 17,
   "id": "24b02127-44ed-496c-bce2-c327f801f2d4",
   "metadata": {},
   "outputs": [],
   "source": [
    "# distance Irv4 CAE\n",
    "dist_osmcae=distance_grs(newlulcdiss, caegrs, 'dist', 'dist_cae')"
   ]
  },
  {
   "cell_type": "code",
   "execution_count": 18,
   "id": "70a9b194-5938-4d0a-a609-adf77c58e911",
   "metadata": {},
   "outputs": [
    {
     "ename": "KeyboardInterrupt",
     "evalue": "",
     "output_type": "error",
     "traceback": [
      "\u001b[0;31m---------------------------------------------------------------------------\u001b[0m",
      "\u001b[0;31mKeyboardInterrupt\u001b[0m                         Traceback (most recent call last)",
      "\u001b[0;32m/tmp/ipykernel_5876/1006992639.py\u001b[0m in \u001b[0;36m<module>\u001b[0;34m\u001b[0m\n\u001b[1;32m      2\u001b[0m \u001b[0mosmdistcae\u001b[0m\u001b[0;34m=\u001b[0m\u001b[0mgrs_to_shp\u001b[0m\u001b[0;34m(\u001b[0m\u001b[0mdist_osmcae\u001b[0m\u001b[0;34m,\u001b[0m \u001b[0mos\u001b[0m\u001b[0;34m.\u001b[0m\u001b[0mpath\u001b[0m\u001b[0;34m.\u001b[0m\u001b[0mjoin\u001b[0m\u001b[0;34m(\u001b[0m\u001b[0mws\u001b[0m\u001b[0;34m,\u001b[0m \u001b[0;34m'osm_dist_cae.shp'\u001b[0m\u001b[0;34m)\u001b[0m\u001b[0;34m,\u001b[0m \u001b[0;34m'area'\u001b[0m\u001b[0;34m)\u001b[0m\u001b[0;34m\u001b[0m\u001b[0;34m\u001b[0m\u001b[0m\n\u001b[1;32m      3\u001b[0m \u001b[0;34m\u001b[0m\u001b[0m\n\u001b[0;32m----> 4\u001b[0;31m \u001b[0mosm_and_cae\u001b[0m \u001b[0;34m=\u001b[0m \u001b[0mgrs_to_shp\u001b[0m\u001b[0;34m(\u001b[0m\u001b[0mosmcae\u001b[0m\u001b[0;34m,\u001b[0m \u001b[0mosmvscae\u001b[0m\u001b[0;34m,\u001b[0m \u001b[0;34m'area'\u001b[0m\u001b[0;34m)\u001b[0m\u001b[0;34m\u001b[0m\u001b[0;34m\u001b[0m\u001b[0m\n\u001b[0m",
      "\u001b[0;32m~/inescc-dgt/dgt/it/shp.py\u001b[0m in \u001b[0;36mgrs_to_shp\u001b[0;34m(inLyr, outLyr, geomType, lyrN, asCMD, asMultiPart)\u001b[0m\n\u001b[1;32m    119\u001b[0m         \u001b[0;32mfrom\u001b[0m \u001b[0mdgt\u001b[0m\u001b[0;34m.\u001b[0m\u001b[0mpys\u001b[0m \u001b[0;32mimport\u001b[0m \u001b[0mexecmd\u001b[0m\u001b[0;34m\u001b[0m\u001b[0;34m\u001b[0m\u001b[0m\n\u001b[1;32m    120\u001b[0m \u001b[0;34m\u001b[0m\u001b[0m\n\u001b[0;32m--> 121\u001b[0;31m         rcmd = execmd((\n\u001b[0m\u001b[1;32m    122\u001b[0m             \u001b[0;34m\"v.out.ogr input={} type={} output={} format={} \"\u001b[0m\u001b[0;34m\u001b[0m\u001b[0;34m\u001b[0m\u001b[0m\n\u001b[1;32m    123\u001b[0m             \u001b[0;34m\"layer={}{} --overwrite --quiet\"\u001b[0m\u001b[0;34m\u001b[0m\u001b[0;34m\u001b[0m\u001b[0m\n",
      "\u001b[0;32m~/inescc-dgt/dgt/pys/__init__.py\u001b[0m in \u001b[0;36mexecmd\u001b[0;34m(cmd)\u001b[0m\n\u001b[1;32m     34\u001b[0m                          stdout=subprocess.PIPE, stderr=subprocess.PIPE)\n\u001b[1;32m     35\u001b[0m \u001b[0;34m\u001b[0m\u001b[0m\n\u001b[0;32m---> 36\u001b[0;31m     \u001b[0mout\u001b[0m\u001b[0;34m,\u001b[0m \u001b[0merr\u001b[0m \u001b[0;34m=\u001b[0m \u001b[0mp\u001b[0m\u001b[0;34m.\u001b[0m\u001b[0mcommunicate\u001b[0m\u001b[0;34m(\u001b[0m\u001b[0;34m)\u001b[0m\u001b[0;34m\u001b[0m\u001b[0;34m\u001b[0m\u001b[0m\n\u001b[0m\u001b[1;32m     37\u001b[0m \u001b[0;34m\u001b[0m\u001b[0m\n\u001b[1;32m     38\u001b[0m     \u001b[0;32mif\u001b[0m \u001b[0mp\u001b[0m\u001b[0;34m.\u001b[0m\u001b[0mreturncode\u001b[0m \u001b[0;34m!=\u001b[0m \u001b[0;36m0\u001b[0m\u001b[0;34m:\u001b[0m\u001b[0;34m\u001b[0m\u001b[0;34m\u001b[0m\u001b[0m\n",
      "\u001b[0;32m/usr/lib/python3.8/subprocess.py\u001b[0m in \u001b[0;36mcommunicate\u001b[0;34m(self, input, timeout)\u001b[0m\n\u001b[1;32m   1026\u001b[0m \u001b[0;34m\u001b[0m\u001b[0m\n\u001b[1;32m   1027\u001b[0m             \u001b[0;32mtry\u001b[0m\u001b[0;34m:\u001b[0m\u001b[0;34m\u001b[0m\u001b[0;34m\u001b[0m\u001b[0m\n\u001b[0;32m-> 1028\u001b[0;31m                 \u001b[0mstdout\u001b[0m\u001b[0;34m,\u001b[0m \u001b[0mstderr\u001b[0m \u001b[0;34m=\u001b[0m \u001b[0mself\u001b[0m\u001b[0;34m.\u001b[0m\u001b[0m_communicate\u001b[0m\u001b[0;34m(\u001b[0m\u001b[0minput\u001b[0m\u001b[0;34m,\u001b[0m \u001b[0mendtime\u001b[0m\u001b[0;34m,\u001b[0m \u001b[0mtimeout\u001b[0m\u001b[0;34m)\u001b[0m\u001b[0;34m\u001b[0m\u001b[0;34m\u001b[0m\u001b[0m\n\u001b[0m\u001b[1;32m   1029\u001b[0m             \u001b[0;32mexcept\u001b[0m \u001b[0mKeyboardInterrupt\u001b[0m\u001b[0;34m:\u001b[0m\u001b[0;34m\u001b[0m\u001b[0;34m\u001b[0m\u001b[0m\n\u001b[1;32m   1030\u001b[0m                 \u001b[0;31m# https://bugs.python.org/issue25942\u001b[0m\u001b[0;34m\u001b[0m\u001b[0;34m\u001b[0m\u001b[0;34m\u001b[0m\u001b[0m\n",
      "\u001b[0;32m/usr/lib/python3.8/subprocess.py\u001b[0m in \u001b[0;36m_communicate\u001b[0;34m(self, input, endtime, orig_timeout)\u001b[0m\n\u001b[1;32m   1866\u001b[0m                             'failed to raise TimeoutExpired.')\n\u001b[1;32m   1867\u001b[0m \u001b[0;34m\u001b[0m\u001b[0m\n\u001b[0;32m-> 1868\u001b[0;31m                     \u001b[0mready\u001b[0m \u001b[0;34m=\u001b[0m \u001b[0mselector\u001b[0m\u001b[0;34m.\u001b[0m\u001b[0mselect\u001b[0m\u001b[0;34m(\u001b[0m\u001b[0mtimeout\u001b[0m\u001b[0;34m)\u001b[0m\u001b[0;34m\u001b[0m\u001b[0;34m\u001b[0m\u001b[0m\n\u001b[0m\u001b[1;32m   1869\u001b[0m                     \u001b[0mself\u001b[0m\u001b[0;34m.\u001b[0m\u001b[0m_check_timeout\u001b[0m\u001b[0;34m(\u001b[0m\u001b[0mendtime\u001b[0m\u001b[0;34m,\u001b[0m \u001b[0morig_timeout\u001b[0m\u001b[0;34m,\u001b[0m \u001b[0mstdout\u001b[0m\u001b[0;34m,\u001b[0m \u001b[0mstderr\u001b[0m\u001b[0;34m)\u001b[0m\u001b[0;34m\u001b[0m\u001b[0;34m\u001b[0m\u001b[0m\n\u001b[1;32m   1870\u001b[0m \u001b[0;34m\u001b[0m\u001b[0m\n",
      "\u001b[0;32m/usr/lib/python3.8/selectors.py\u001b[0m in \u001b[0;36mselect\u001b[0;34m(self, timeout)\u001b[0m\n\u001b[1;32m    413\u001b[0m         \u001b[0mready\u001b[0m \u001b[0;34m=\u001b[0m \u001b[0;34m[\u001b[0m\u001b[0;34m]\u001b[0m\u001b[0;34m\u001b[0m\u001b[0;34m\u001b[0m\u001b[0m\n\u001b[1;32m    414\u001b[0m         \u001b[0;32mtry\u001b[0m\u001b[0;34m:\u001b[0m\u001b[0;34m\u001b[0m\u001b[0;34m\u001b[0m\u001b[0m\n\u001b[0;32m--> 415\u001b[0;31m             \u001b[0mfd_event_list\u001b[0m \u001b[0;34m=\u001b[0m \u001b[0mself\u001b[0m\u001b[0;34m.\u001b[0m\u001b[0m_selector\u001b[0m\u001b[0;34m.\u001b[0m\u001b[0mpoll\u001b[0m\u001b[0;34m(\u001b[0m\u001b[0mtimeout\u001b[0m\u001b[0;34m)\u001b[0m\u001b[0;34m\u001b[0m\u001b[0;34m\u001b[0m\u001b[0m\n\u001b[0m\u001b[1;32m    416\u001b[0m         \u001b[0;32mexcept\u001b[0m \u001b[0mInterruptedError\u001b[0m\u001b[0;34m:\u001b[0m\u001b[0;34m\u001b[0m\u001b[0;34m\u001b[0m\u001b[0m\n\u001b[1;32m    417\u001b[0m             \u001b[0;32mreturn\u001b[0m \u001b[0mready\u001b[0m\u001b[0;34m\u001b[0m\u001b[0;34m\u001b[0m\u001b[0m\n",
      "\u001b[0;31mKeyboardInterrupt\u001b[0m: "
     ]
    }
   ],
   "source": [
    "# Export\n",
    "osmdistcae=grs_to_shp(dist_osmcae, os.path.join(ws, 'osm_dist_cae.shp'), 'area')\n",
    "\n",
    "osm_and_cae = grs_to_shp(osmcae, osmvscae, 'area')"
   ]
  },
  {
   "cell_type": "markdown",
   "id": "dba564cb-f6cb-44d4-8372-eb3119c441c6",
   "metadata": {},
   "source": [
    "**Classify OSM polygons:**"
   ]
  },
  {
   "cell_type": "code",
   "execution_count": null,
   "id": "ab4c3c6c-7dbb-4449-916c-e75d27a2134b",
   "metadata": {},
   "outputs": [],
   "source": [
    "gdf = shp_to_obj(osm_and_cae)\n",
    "\n",
    "osmdf = shp_to_obj(osmdistcae)"
   ]
  },
  {
   "cell_type": "code",
   "execution_count": null,
   "id": "ef1debe5-2463-4822-a951-88370f127617",
   "metadata": {},
   "outputs": [],
   "source": [
    "gdf = gdf[~gdf.a_cat.isna()]\n",
    "\n",
    "gdf['a_cat'] = gdf.a_cat.astype(int)\n",
    "gdf['b_cat'] = gdf.b_cat.fillna(value=0)\n",
    "gdf['b_cat'] = gdf.b_cat.astype(int)"
   ]
  },
  {
   "cell_type": "code",
   "execution_count": null,
   "id": "5110bd76-64b4-466c-b56e-0b8d07275ef4",
   "metadata": {},
   "outputs": [],
   "source": [
    "# Count how many times we have the same a_cat\n",
    "\n",
    "catcount = pd.DataFrame({\n",
    "    'countcat' : gdf.groupby(['a_cat'])['a_cat'].agg('count')\n",
    "}).reset_index()\n",
    "\n",
    "catcount.rename(columns={'a_cat': 'acaty'}, inplace=True)"
   ]
  },
  {
   "cell_type": "code",
   "execution_count": null,
   "id": "502e8f08-686a-4ff1-862f-e830a783ace6",
   "metadata": {},
   "outputs": [],
   "source": [
    "# Join\n",
    "gdf = gdf.merge(catcount, how='inner', left_on='a_cat', right_on='acaty')"
   ]
  },
  {
   "cell_type": "code",
   "execution_count": null,
   "id": "f8f6cff1-9ace-468b-9d20-ed1bca76ddd4",
   "metadata": {},
   "outputs": [],
   "source": [
    "# Get classes\n",
    "gdf['fcat'] = -1\n",
    "\n",
    "gdf['fcat'] = np.where(\n",
    "    (gdf.countcat == 1) & (gdf.b_cat == 0),\n",
    "    0, gdf.fcat\n",
    ")\n",
    "\n",
    "gdf['fcat'] = np.where(\n",
    "    (gdf.countcat == 1) & (gdf.b_cat > 0),\n",
    "    1, gdf.fcat\n",
    ")\n",
    "\n",
    "gdf['fcat'] = np.where(\n",
    "    gdf.countcat > 1, 2, gdf.fcat\n",
    ")"
   ]
  },
  {
   "cell_type": "code",
   "execution_count": null,
   "id": "14527f14-6f71-4dac-a586-0041f2e78651",
   "metadata": {},
   "outputs": [],
   "source": [
    "fdf = pd.DataFrame({\n",
    "    'existcae' : gdf.groupby([\"a_cat\"])['fcat'].agg('min')\n",
    "}).reset_index()"
   ]
  },
  {
   "cell_type": "code",
   "execution_count": null,
   "id": "db3d57d2-2fd9-4583-9009-f70db5f41619",
   "metadata": {},
   "outputs": [],
   "source": [
    "osmdf['cat'] = osmdf.index + 1\n",
    "\n",
    "osmdf = osmdf.merge(fdf, how='left', left_on='cat', right_on='a_cat')"
   ]
  },
  {
   "cell_type": "code",
   "execution_count": null,
   "id": "ed198075-0a2e-4083-abd7-ee4f3271bf09",
   "metadata": {},
   "outputs": [],
   "source": [
    "print(osmdf)"
   ]
  },
  {
   "cell_type": "code",
   "execution_count": null,
   "id": "f6982535-c19b-4b32-b26f-bb71f60ae8ba",
   "metadata": {},
   "outputs": [],
   "source": [
    "osmdf.rename(columns={\n",
    "    'cat' : 'id_obj', 'lulc_cls' : 'classuos'\n",
    "}, inplace=True)\n",
    "\n",
    "osmdf['fonte']    = 'osm'\n",
    "osmdf['classuos'] = osmdf.classuos.astype(str)\n",
    "osmdf['dist_cae'] = osmdf.dist_cae.fillna(value=0)\n",
    "osmdf['existcae'] = osmdf.existcae.fillna(value=-1)\n",
    "osmdf['existcae'] = osmdf.existcae.astype(int)\n",
    "osmdf['areaha']   = osmdf.geometry.area / 10000\n",
    "\n",
    "osmdf.drop(['a_cat'], axis=1, inplace=True)"
   ]
  },
  {
   "cell_type": "code",
   "execution_count": null,
   "id": "4317ea1c-766f-45ef-8855-65d706e04a68",
   "metadata": {},
   "outputs": [],
   "source": [
    "print(osmdf)"
   ]
  },
  {
   "cell_type": "code",
   "execution_count": null,
   "id": "0098957f-4491-437e-9178-3656caee2663",
   "metadata": {},
   "outputs": [],
   "source": [
    "#seleção de atributos do conjunto de dados do osmdf\n",
    "resultado_1=osmdf[['id_obj','geometry', 'fonte', 'classuos', 'existcae', 'areaha']]"
   ]
  },
  {
   "cell_type": "code",
   "execution_count": null,
   "id": "516d5ad6-42e5-4648-94a5-0d531f680bd7",
   "metadata": {},
   "outputs": [],
   "source": [
    "df_to_shp(resultado_1, lulcshp)"
   ]
  },
  {
   "cell_type": "code",
   "execution_count": null,
   "id": "781268c1-6719-4c97-9ec2-c816c6b9f39c",
   "metadata": {},
   "outputs": [],
   "source": [
    "no_cae=osmdf[(osmdf[\"existcae\"]==0)]\n",
    "no_cae=no_cae.reset_index()\n",
    "\n",
    "no_cae['id_n_cae'] = no_cae.index + 1"
   ]
  },
  {
   "cell_type": "code",
   "execution_count": null,
   "id": "b6c93307-0a02-45d5-bd94-49a7be64938f",
   "metadata": {},
   "outputs": [],
   "source": [
    "resultado_2=no_cae[['id_n_cae', 'id_obj','geometry', 'fonte', 'classuos', 'areaha', 'dist_cae']]"
   ]
  },
  {
   "cell_type": "code",
   "execution_count": null,
   "id": "cf924831-e9cd-4047-80f5-9b0d3660858a",
   "metadata": {},
   "outputs": [],
   "source": [
    "df_to_shp(resultado_2, osm_no_cae)"
   ]
  },
  {
   "cell_type": "code",
   "execution_count": null,
   "id": "2b566185-be95-4ac9-b36f-75c03f6aacb3",
   "metadata": {},
   "outputs": [],
   "source": []
  }
 ],
 "metadata": {
  "kernelspec": {
   "display_name": "Python 3 (ipykernel)",
   "language": "python",
   "name": "python3"
  },
  "language_info": {
   "codemirror_mode": {
    "name": "ipython",
    "version": 3
   },
   "file_extension": ".py",
   "mimetype": "text/x-python",
   "name": "python",
   "nbconvert_exporter": "python",
   "pygments_lexer": "ipython3",
   "version": "3.8.10"
  }
 },
 "nbformat": 4,
 "nbformat_minor": 5
}
