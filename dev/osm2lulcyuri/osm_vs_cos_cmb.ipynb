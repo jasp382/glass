{
 "cells": [
  {
   "cell_type": "code",
   "execution_count": null,
   "id": "fdd1a12b-acfd-4af8-b84f-a9a43b63890c",
   "metadata": {},
   "outputs": [],
   "source": [
    "import pandas as pd\n",
    "import pandasql as ps\n",
    "from dgt.wt import obj_to_tbl"
   ]
  },
  {
   "cell_type": "code",
   "execution_count": null,
   "id": "a2e304f4-cd76-47ed-8c25-7686a0be2c97",
   "metadata": {},
   "outputs": [],
   "source": [
    "file = '/home/yuri/inescc-dgt/dados_osm/cosvsosm.xls'\n",
    "\n",
    "dropcols = [\n",
    "    \"FID\", \"COS2018_n1\", 'AREA', 'name', 'type',\n",
    "    'admin_leve', 'boundary', 'other_tags',\n",
    "    'Shape_Leng', 'Shape_Area'\n",
    "]\n",
    "\n",
    "refcol = 'COS2018_Lg'\n",
    "\n",
    "ofile = '/home/yuri/inescc-dgt/dados_osm/cos_tags_result2.xls'"
   ]
  },
  {
   "cell_type": "code",
   "execution_count": null,
   "id": "5ae1eb50-05a9-445e-895c-5e9218cfa48b",
   "metadata": {},
   "outputs": [],
   "source": [
    "data = pd.read_excel(file)\n",
    "\n",
    "data.drop(dropcols, axis=1, inplace=True)"
   ]
  },
  {
   "cell_type": "code",
   "execution_count": null,
   "id": "e736f229-6e8c-4a03-9b84-bfe12cc4c12f",
   "metadata": {},
   "outputs": [],
   "source": [
    "classes = data[refcol].unique()"
   ]
  },
  {
   "cell_type": "code",
   "execution_count": null,
   "id": "301e6925-adc7-4cd8-b3ce-629a7c489ebe",
   "metadata": {},
   "outputs": [],
   "source": [
    "tags = list(data.columns.values)\n",
    "tags.remove(refcol)"
   ]
  },
  {
   "cell_type": "code",
   "execution_count": null,
   "id": "92497384-cf5d-4c9f-9f29-f3e6fef8b4bd",
   "metadata": {},
   "outputs": [],
   "source": [
    "dfs = []\n",
    "for cls in classes:\n",
    "    ndf = data[data[refcol] == cls]\n",
    "    \n",
    "    cls_df = []\n",
    "    for tag in tags:\n",
    "        __ndf = ndf[ndf[tag] != ' ']\n",
    "        \n",
    "        _ndf = pd.DataFrame({\n",
    "            'cntval' : __ndf.groupby([tag])[tag].agg('count')\n",
    "        }).reset_index()\n",
    "        \n",
    "        _ndf['key'] = tag\n",
    "        _ndf[refcol] = cls\n",
    "        _ndf.rename(columns={tag:'value'}, inplace=True)\n",
    "        \n",
    "        dc = [c for c in _ndf.columns.values if c != 'key' and c != 'value' and c != refcol and c != 'cntval']\n",
    "        _ndf.drop(dc, axis=1, inplace=True)\n",
    "        \n",
    "        cls_df.append(_ndf)\n",
    "    \n",
    "    cdf = cls_df[0]\n",
    "    \n",
    "    for i in range(1, len(cls_df)):\n",
    "        cdf = cdf.append(cls_df[i], ignore_index=True)\n",
    "    \n",
    "    dfs.append(cdf)"
   ]
  },
  {
   "cell_type": "code",
   "execution_count": null,
   "id": "5fce2c5c-ad10-4263-9655-2e222f87d040",
   "metadata": {},
   "outputs": [],
   "source": [
    "obj_to_tbl(dfs, ofile, sheetsName=[c[:30] for c in classes])"
   ]
  },
  {
   "cell_type": "code",
   "execution_count": null,
   "id": "b16842b2-a6ac-4707-95b1-f11e47d2d3fd",
   "metadata": {},
   "outputs": [],
   "source": [
    "fdf"
   ]
  },
  {
   "cell_type": "code",
   "execution_count": null,
   "id": "95c54910-b50c-4bba-bc2b-629370de859e",
   "metadata": {},
   "outputs": [],
   "source": [
    "data"
   ]
  },
  {
   "cell_type": "code",
   "execution_count": null,
   "id": "ab596d2c-4cc9-49d4-824b-2f7556d9bbc7",
   "metadata": {},
   "outputs": [],
   "source": [
    "df = pd.DataFrame(data)"
   ]
  },
  {
   "cell_type": "code",
   "execution_count": null,
   "id": "c92fecce-fab3-40d9-8333-519c081033eb",
   "metadata": {},
   "outputs": [],
   "source": [
    "q1 = (\n",
    "    \"SELECT COS2018_Lg, COUNT(COS2018_Lg) \"\n",
    "    \"FROM df \"\n",
    "    \"GROUP BY \"\n",
    "    \"COS2018_Lg \"\n",
    ")"
   ]
  },
  {
   "cell_type": "code",
   "execution_count": null,
   "id": "1f3f38fa-6297-46a2-bcd7-3edcf6eda85e",
   "metadata": {},
   "outputs": [],
   "source": [
    "print (ps.sqldf(q1, locals()))"
   ]
  },
  {
   "cell_type": "code",
   "execution_count": null,
   "id": "b5fb9c70-ad3f-447d-b323-7ba37e5dabbb",
   "metadata": {},
   "outputs": [],
   "source": [
    "for i in df:\n",
    "    q = (\n",
    "    f\"SELECT COS2018_Lg, {i}, COUNT({i}) \"\n",
    "    \"FROM df \"\n",
    "    \"GROUP BY \"\n",
    "    f\"COS2018_Lg \"\n",
    "    )\n",
    "    print(ps.sqldf(q, locals()))"
   ]
  },
  {
   "cell_type": "code",
   "execution_count": null,
   "id": "262d3165-498b-475f-83b8-a064d8ddc2a4",
   "metadata": {},
   "outputs": [],
   "source": []
  }
 ],
 "metadata": {
  "kernelspec": {
   "display_name": "Python 3 (ipykernel)",
   "language": "python",
   "name": "python3"
  },
  "language_info": {
   "codemirror_mode": {
    "name": "ipython",
    "version": 3
   },
   "file_extension": ".py",
   "mimetype": "text/x-python",
   "name": "python",
   "nbconvert_exporter": "python",
   "pygments_lexer": "ipython3",
   "version": "3.8.10"
  }
 },
 "nbformat": 4,
 "nbformat_minor": 5
}
