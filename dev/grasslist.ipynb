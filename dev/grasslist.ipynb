{
 "cells": [
  {
   "cell_type": "code",
   "execution_count": null,
   "id": "61075ae6-084c-4b38-94b5-59ec0f6fa44d",
   "metadata": {},
   "outputs": [],
   "source": [
    "import os\n",
    "from glass.wenv.grs import run_grass\n",
    "from glass.pys.oss import lst_fld, mkdir"
   ]
  },
  {
   "cell_type": "code",
   "execution_count": null,
   "id": "c63ac2c3-e7bf-4c53-b035-172fa969c30a",
   "metadata": {},
   "outputs": [],
   "source": [
    "f = '/mnt/d/mystuff/undersee/expipma/s2ab'\n",
    "\n",
    "loc = 'abdetecttmp'\n",
    "\n",
    "exclude = ['MASK', 'b04', 'b05', 'scl', 'watermas']"
   ]
  },
  {
   "cell_type": "code",
   "execution_count": null,
   "id": "8c27eb66-b963-44c3-8419-aa8a8211a5d0",
   "metadata": {},
   "outputs": [],
   "source": [
    "wss = lst_fld(f)"
   ]
  },
  {
   "cell_type": "code",
   "execution_count": null,
   "id": "4b40d659-9055-4547-8560-a29466e7e55b",
   "metadata": {},
   "outputs": [],
   "source": [
    "wss"
   ]
  },
  {
   "cell_type": "code",
   "execution_count": null,
   "id": "2740d2e6-c5cb-4073-b80c-abb63dab52e2",
   "metadata": {},
   "outputs": [],
   "source": [
    "for ws in wss:\n",
    "    outf = mkdir(os.path.join(ws, 'grsdata'), overwrite=True)\n",
    "    gbase = run_grass(ws, location=loc)\n",
    "\n",
    "    import grass.script.setup as gsetup\n",
    "\n",
    "    gsetup.init(gbase, ws, loc, 'PERMANENT')\n",
    "    \n",
    "    from glass.prop.grs import list_raster\n",
    "    from glass.it.rst import grs_to_rst\n",
    "    \n",
    "    rsts = list_raster()\n",
    "    \n",
    "    for rst in rsts:\n",
    "        if rst in exclude:\n",
    "            continue\n",
    "        \n",
    "        grs_to_rst(rst, os.path.join(outf, f\"{rst}.tif\"))"
   ]
  },
  {
   "cell_type": "code",
   "execution_count": null,
   "id": "75c7ba22-9117-4bcc-b978-91513bf5f878",
   "metadata": {},
   "outputs": [],
   "source": []
  },
  {
   "cell_type": "code",
   "execution_count": null,
   "id": "616723bc-f86b-4d4c-8810-71444a9dc0c0",
   "metadata": {},
   "outputs": [],
   "source": []
  }
 ],
 "metadata": {
  "kernelspec": {
   "display_name": "Python 3 (ipykernel)",
   "language": "python",
   "name": "python3"
  },
  "language_info": {
   "codemirror_mode": {
    "name": "ipython",
    "version": 3
   },
   "file_extension": ".py",
   "mimetype": "text/x-python",
   "name": "python",
   "nbconvert_exporter": "python",
   "pygments_lexer": "ipython3",
   "version": "3.8.10"
  }
 },
 "nbformat": 4,
 "nbformat_minor": 5
}
