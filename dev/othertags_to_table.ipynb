{
 "cells": [
  {
   "cell_type": "code",
   "execution_count": null,
   "id": "d4fb3555-e026-4d91-b08b-b4659902b9a3",
   "metadata": {},
   "outputs": [],
   "source": [
    "\"\"\"\n",
    "Other tags column to table\n",
    "\"\"\""
   ]
  },
  {
   "cell_type": "code",
   "execution_count": null,
   "id": "1707f360-04af-4aeb-b521-93b45770e9d6",
   "metadata": {},
   "outputs": [],
   "source": [
    "from dgt.tbl.osm import allosmtags_to_tbl\n",
    "\n",
    "osmdb = 'dgt_osmpt'\n",
    "osmtbl = 'multilinestrings'\n",
    "outtbl = '/home/jasp/mystuff/dgt/othertags_multilines.xlsx'\n",
    "\n",
    "allosmtags_to_tbl(osmdb, osmtbl, outtbl)"
   ]
  },
  {
   "cell_type": "code",
   "execution_count": null,
   "id": "5f0ea5de-e661-4644-9f0d-6bb4c1f91715",
   "metadata": {},
   "outputs": [],
   "source": []
  }
 ],
 "metadata": {
  "kernelspec": {
   "display_name": "Python 3 (ipykernel)",
   "language": "python",
   "name": "python3"
  },
  "language_info": {
   "codemirror_mode": {
    "name": "ipython",
    "version": 3
   },
   "file_extension": ".py",
   "mimetype": "text/x-python",
   "name": "python",
   "nbconvert_exporter": "python",
   "pygments_lexer": "ipython3",
   "version": "3.8.10"
  }
 },
 "nbformat": 4,
 "nbformat_minor": 5
}
