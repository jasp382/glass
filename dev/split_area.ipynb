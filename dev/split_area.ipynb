{
 "cells": [
  {
   "cell_type": "code",
   "execution_count": null,
   "id": "20ec4012-db73-43ec-b229-e86fa6fcc250",
   "metadata": {},
   "outputs": [],
   "source": [
    "img = '/mnt/d/autocls01/dadosfrancisco/img_sample.tif'\n",
    "\n",
    "rowspx, colspx = 1000, 1000\n",
    "\n",
    "out = '/mnt/d/autocls01/dadosfrancisco/'\n",
    "\n",
    "bname = 'terceira'"
   ]
  },
  {
   "cell_type": "code",
   "execution_count": null,
   "id": "7d9d04fd-3689-40d3-bbc7-852618f9474a",
   "metadata": {},
   "outputs": [],
   "source": [
    "import os\n",
    "from osgeo import gdal, ogr, osr\n",
    "import numpy as np\n",
    "from shapely.geometry import Polygon\n",
    "import geopandas as gp"
   ]
  },
  {
   "cell_type": "code",
   "execution_count": null,
   "id": "6c447a33-5bf4-44e1-ac1b-82d7dd2652e8",
   "metadata": {},
   "outputs": [],
   "source": [
    "src = gdal.Open(img)"
   ]
  },
  {
   "cell_type": "code",
   "execution_count": null,
   "id": "9f9f05d0-ec54-409b-843b-98efeea9f8a0",
   "metadata": {},
   "outputs": [],
   "source": [
    "proj = osr.SpatialReference(wkt=src.GetProjection())\n",
    "    \n",
    "epsg = int(str(proj.GetAttrValue('AUTHORITY', 1)))"
   ]
  },
  {
   "cell_type": "code",
   "execution_count": null,
   "id": "a661770f-9cf8-4da3-8157-b88db608fc15",
   "metadata": {},
   "outputs": [],
   "source": [
    "epsg"
   ]
  },
  {
   "cell_type": "code",
   "execution_count": null,
   "id": "5c0a310d-2e3f-4426-9aea-c18e8c91ccb5",
   "metadata": {},
   "outputs": [],
   "source": [
    "left, cellx, _, top, __, celly = src.GetGeoTransform()"
   ]
  },
  {
   "cell_type": "code",
   "execution_count": null,
   "id": "dfc79da1-3e6e-4bc7-a3d1-4e8e5d572016",
   "metadata": {},
   "outputs": [],
   "source": [
    "ncols = src.RasterXSize\n",
    "nrows = src.RasterYSize"
   ]
  },
  {
   "cell_type": "code",
   "execution_count": null,
   "id": "555b19f6-1fd2-4f8b-872c-0eef20fb5eb8",
   "metadata": {},
   "outputs": [],
   "source": [
    "right = left + (ncols * cellx)\n",
    "bottom = top + (nrows * celly)"
   ]
  },
  {
   "cell_type": "code",
   "execution_count": null,
   "id": "c802856e-21a6-422a-b8b5-f58b3f9e0c13",
   "metadata": {},
   "outputs": [],
   "source": [
    "npartescols = ncols / colspx\n",
    "npartescols = int(npartescols) if npartescols == int(npartescols) else int(npartescols) + 1\n",
    "\n",
    "npartesrows = nrows / rowspx\n",
    "npartesrows = int(npartesrows) if npartesrows == int(npartesrows) else int(npartesrows) + 1"
   ]
  },
  {
   "cell_type": "code",
   "execution_count": null,
   "id": "88010500-f0db-48be-94c2-97b426e78ea0",
   "metadata": {},
   "outputs": [],
   "source": [
    "min_x = left\n",
    "max_y = top\n",
    "for r in range(npartesrows):\n",
    "    min_y = max_y + (celly * rowspx)\n",
    "\n",
    "    if min_y < bottom:\n",
    "        min_y = bottom\n",
    "\n",
    "    for c in range(npartescols):\n",
    "        max_x = min_x + (cellx * colspx)\n",
    "\n",
    "        if max_x > right:\n",
    "            max_x = right\n",
    "\n",
    "        # Create bounding box polygon\n",
    "        points = [\n",
    "            # Top left\n",
    "            (min_x, max_y),\n",
    "            # Top Right\n",
    "            (max_x, max_y),\n",
    "            # Bootom Right\n",
    "            (max_x, min_y),\n",
    "            # Bottom left\n",
    "            (min_x, min_y),\n",
    "            # Top Left\n",
    "            (min_x, max_y)\n",
    "        ]\n",
    "\n",
    "        polygon = Polygon(points)\n",
    "\n",
    "        gdf = gp.GeoDataFrame([[1]], columns=['pid'], crs=f\"EPSG:{str(epsg)}\", geometry=[polygon])\n",
    "\n",
    "        gdf.to_file(os.path.join(out, f'{bname}_{str(r)}_{str(c)}.shp'))\n",
    "\n",
    "        # Create Raster\n",
    "        _rows = (max_y - min_y) / abs(celly)\n",
    "        _cols = (max_x - min_x) / cellx\n",
    "\n",
    "        _rows = int(_rows) if _rows == int(_rows) else int(_rows) + 1\n",
    "        _cols = int(_cols) if _cols == int(_cols) else int(_cols) + 1\n",
    "\n",
    "        rstval = np.full((_rows, _cols), 1)\n",
    "\n",
    "        rstpath = os.path.join(out, f'{bname}_{str(r)}_{str(c)}.tif')\n",
    "\n",
    "        nimg = gdal.GetDriverByName('GTiff').Create(\n",
    "            rstpath, _cols, _rows, 1, gdal.GDT_Byte\n",
    "        )\n",
    "\n",
    "        nimg.SetGeoTransform((min_x, cellx, 0, max_y, 0, celly))\n",
    "\n",
    "        band = nimg.GetRasterBand(1)\n",
    "    \n",
    "        band.WriteArray(rstval)\n",
    "        \n",
    "        rstSrs = osr.SpatialReference()\n",
    "        rstSrs.ImportFromEPSG(epsg)\n",
    "        nimg.SetProjection(rstSrs.ExportToWkt())\n",
    "    \n",
    "        band.FlushCache()\n",
    "\n",
    "        min_x = min_x + (cellx * colspx)\n",
    "\n",
    "    max_y = max_y + (celly * rowspx)\n",
    "    min_x = left"
   ]
  },
  {
   "cell_type": "code",
   "execution_count": null,
   "id": "ee314f20-9511-44f6-b19d-175433d3736a",
   "metadata": {},
   "outputs": [],
   "source": []
  }
 ],
 "metadata": {
  "kernelspec": {
   "display_name": "Python 3 (ipykernel)",
   "language": "python",
   "name": "python3"
  },
  "language_info": {
   "codemirror_mode": {
    "name": "ipython",
    "version": 3
   },
   "file_extension": ".py",
   "mimetype": "text/x-python",
   "name": "python",
   "nbconvert_exporter": "python",
   "pygments_lexer": "ipython3",
   "version": "3.8.10"
  }
 },
 "nbformat": 4,
 "nbformat_minor": 5
}
