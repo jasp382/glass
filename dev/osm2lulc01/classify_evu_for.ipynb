{
 "cells": [
  {
   "cell_type": "code",
   "execution_count": null,
   "id": "563cb8da-9a34-4e7c-a986-6c7508e9ea72",
   "metadata": {},
   "outputs": [],
   "source": [
    "from glass.cls.eval import mtx_binary_class\n",
    "\n",
    "mtx_binary_class(\n",
    "    '/mnt/d/osm2lulc01/ua_class_exp1.shp',\n",
    "    'code_2018',\n",
    "    'class',\n",
    "    '14100', '31000',\n",
    "    '/mnt/d/osm2lulc01/ua_class_exp1.xlsx'\n",
    ")"
   ]
  },
  {
   "cell_type": "code",
   "execution_count": null,
   "id": "964c5cd6-6a5c-4631-a2b3-ae3db831b5bb",
   "metadata": {},
   "outputs": [],
   "source": [
    "shp = '/mnt/d/osm2lulc01/guavsforest.gdb/uatlas/forest_and_evu'\n",
    "\n",
    "fid = 'ffif'\n",
    "\n",
    "refcol = 'code_2018'\n",
    "\n",
    "evu_cls = '14100'\n",
    "for_cls = '31000'\n",
    "\n",
    "out = '/mnt/d/osm2lulc01/ua_class_exp1.shp'"
   ]
  },
  {
   "cell_type": "code",
   "execution_count": null,
   "id": "be4c2282-a07b-466b-839c-7f2ed51c8cc0",
   "metadata": {},
   "outputs": [],
   "source": [
    "import numpy as np\n",
    "from glass.rd.shp import shp_to_obj\n",
    "from glass.wt.shp import df_to_shp"
   ]
  },
  {
   "cell_type": "code",
   "execution_count": null,
   "id": "0fb3fc18-5ceb-4720-ac66-ee14883f2b67",
   "metadata": {},
   "outputs": [],
   "source": [
    "gdf = shp_to_obj(shp)"
   ]
  },
  {
   "cell_type": "code",
   "execution_count": null,
   "id": "c880f3b2-b83f-4315-a19b-365ce4820f59",
   "metadata": {},
   "outputs": [],
   "source": [
    "gdf[\"classscore\"] = 0"
   ]
  },
  {
   "cell_type": "code",
   "execution_count": null,
   "id": "0792ca16-da45-4b5d-9a02-8d3abdabcd88",
   "metadata": {},
   "outputs": [],
   "source": [
    "# Positive value = EVU\n",
    "# Negative value = Forest\n",
    "\n",
    "# Area > 1 = Forest\n",
    "gdf[\"classscore\"] = np.where(\n",
    "    gdf['garea'] > 1, gdf.classscore - 1,\n",
    "    gdf.classscore + 1\n",
    ")\n",
    "\n",
    "# Directions >= 5 = GUA\n",
    "gdf[\"classscore\"] = np.where(\n",
    "    gdf['direcoes'] >= 5, gdf.classscore + 1,\n",
    "    gdf.classscore - 1\n",
    ")\n",
    "\n",
    "# Built up area >= 6 = GUA\n",
    "gdf[\"classscore\"] = np.where(\n",
    "    gdf['areaurban'] >= 6, gdf.classscore + 1,\n",
    "    gdf.classscore - 1\n",
    ")\n",
    "\n",
    "# Number of EVU points >= 1 GUA\n",
    "gdf[\"classscore\"] = np.where(\n",
    "    gdf['npnts_evu'] >= 1, gdf.classscore + 2,\n",
    "    gdf.classscore\n",
    ")\n",
    "\n",
    "# Length of EVU Lines >= 1 GUA\n",
    "gdf[\"classscore\"] = np.where(\n",
    "    gdf['lenlines_evu'] >= 1, gdf.classscore + 2,\n",
    "    gdf.classscore\n",
    ")\n",
    "\n",
    "# % Area of EVU Polygons >= 30 GUA\n",
    "gdf[\"classscore\"] = np.where(\n",
    "    gdf['poly_evu'] >= 30, gdf.classscore + 2,\n",
    "    gdf.classscore\n",
    ")\n",
    "\n",
    "# Number of Forest points >= 5 Forest\n",
    "gdf[\"classscore\"] = np.where(\n",
    "    gdf['npnts_for'] >= 5, gdf.classscore - 2,\n",
    "    gdf.classscore\n",
    ")\n",
    "\n",
    "# Length of Forest Lines >= 1 Forest\n",
    "gdf[\"classscore\"] = np.where(\n",
    "    gdf['lenlines_for'] >= 1, gdf.classscore - 2,\n",
    "    gdf.classscore\n",
    ")\n",
    "\n",
    "# Population Density >= 1250 GUA\n",
    "gdf[\"classscore\"] = np.where(\n",
    "    gdf['denspop'] >= 1250, gdf.classscore + 1,\n",
    "    gdf.classscore - 1\n",
    ")\n",
    "\n",
    "# Number of green polygons inside the built up >= 1 = GUA\n",
    "gdf[\"classscore\"] = np.where(\n",
    "    gdf['pedificado_evu'] >= 1, gdf.classscore + 1,\n",
    "    gdf.classscore - 1\n",
    ")"
   ]
  },
  {
   "cell_type": "code",
   "execution_count": null,
   "id": "a5d9a043-5983-4d73-bbcd-362a25fa8a39",
   "metadata": {},
   "outputs": [],
   "source": [
    "gdf[\"class\"] = np.where(\n",
    "    gdf.classscore < 0, '31000', np.where(\n",
    "        gdf.classscore > 0, '14100', '00000'\n",
    "    )\n",
    ")\n",
    "\n",
    "gdf['class'] = np.where(\n",
    "    (gdf.classscore == 0) & (gdf['garea'] > 1),\n",
    "    '31000', np.where(\n",
    "        (gdf.classscore == 0) & (gdf['garea'] <= 1),\n",
    "        '14100', gdf['class']\n",
    "    )\n",
    ")"
   ]
  },
  {
   "cell_type": "code",
   "execution_count": null,
   "id": "749d01e3-b506-494a-8704-bbc7c276535a",
   "metadata": {},
   "outputs": [],
   "source": [
    "df_to_shp(gdf, out)"
   ]
  },
  {
   "cell_type": "code",
   "execution_count": null,
   "id": "a7eb0300-c12e-4aa9-8322-11bbc01eb420",
   "metadata": {},
   "outputs": [],
   "source": []
  }
 ],
 "metadata": {
  "kernelspec": {
   "display_name": "Python 3 (ipykernel)",
   "language": "python",
   "name": "python3"
  },
  "language_info": {
   "codemirror_mode": {
    "name": "ipython",
    "version": 3
   },
   "file_extension": ".py",
   "mimetype": "text/x-python",
   "name": "python",
   "nbconvert_exporter": "python",
   "pygments_lexer": "ipython3",
   "version": "3.8.10"
  }
 },
 "nbformat": 4,
 "nbformat_minor": 5
}
