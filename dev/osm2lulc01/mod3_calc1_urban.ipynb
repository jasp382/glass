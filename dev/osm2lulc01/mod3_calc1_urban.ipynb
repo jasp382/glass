{
 "cells": [
  {
   "cell_type": "code",
   "execution_count": null,
   "id": "08856584-5f5c-4998-8761-0228da7be918",
   "metadata": {},
   "outputs": [],
   "source": [
    "green_areas = ''\n",
    "\n",
    "gid = 'ffif'\n",
    "\n",
    "buffer_dist = 250\n",
    "\n",
    "urban_areas = ''\n",
    "\n",
    "outfeat = ''"
   ]
  },
  {
   "cell_type": "code",
   "execution_count": null,
   "id": "f9cc392e-7b23-4472-bec2-8ab2d91b9244",
   "metadata": {},
   "outputs": [],
   "source": [
    "import os\n",
    "\n",
    "from glass.pys.tm import now_as_str\n",
    "from glass.wenv.grs import run_grass\n",
    "from glass.pys.oss import fprop\n",
    "from glass.gp.prox.bfing import cheese_buffer"
   ]
  },
  {
   "cell_type": "code",
   "execution_count": null,
   "id": "eadafe24-197f-42ab-85a0-3c15ed4e3fd4",
   "metadata": {},
   "outputs": [],
   "source": [
    "ws = os.path.dirname(outfeat)\n",
    "\n",
    "loc = f'loc_{now_as_str()}'\n",
    "\n",
    "# Create GRASS GIS Session\n",
    "gb = run_grass(ws, location=loc, srs=green_areas)\n",
    "\n",
    "import grass.script.setup as gs\n",
    "\n",
    "gs.init(gb, ws, loc, 'PERMANENT')"
   ]
  },
  {
   "cell_type": "code",
   "execution_count": null,
   "id": "9ed0cefd-4261-44ce-8ada-e6d670d1b49c",
   "metadata": {},
   "outputs": [],
   "source": [
    "# Get Cheese buffer\n",
    "\n",
    "cbf = cheese_buffer(\n",
    "    green_areas, buffer_dist, 45,\n",
    "    os.path.join(ws, loc, f'cb_{fprop(green_areas, \"fn\")}.shp'),\n",
    "    uniqueid='jpk', areaf=\"area_slice\",\n",
    "    epsg=epsg, shpid=gid\n",
    ")"
   ]
  },
  {
   "cell_type": "code",
   "execution_count": null,
   "id": "d5312422-3ca4-4d09-b1be-83c1d5cca42f",
   "metadata": {},
   "outputs": [],
   "source": [
    "from glass.it.shp import shp_to_grs, grs_to_shp\n",
    "from glass.gp.ovl import grsintersection\n",
    "from glass.gp.gen import dissolve"
   ]
  },
  {
   "cell_type": "code",
   "execution_count": null,
   "id": "3480e746-d5b3-46e1-bc0b-1d8ce3135f21",
   "metadata": {},
   "outputs": [],
   "source": [
    "# Import data into GRASS GIS\n",
    "cbfgrs = shp_to_grs(cbf, asCMD=True)\n",
    "\n",
    "uareas = shp_to_grs(urban_areas)"
   ]
  },
  {
   "cell_type": "code",
   "execution_count": null,
   "id": "cf987a5e-8937-4736-a679-e7e467c4557e",
   "metadata": {},
   "outputs": [],
   "source": [
    "# Intersect cheese buffer with urban regions\n",
    "\n",
    "igrs = grsintersection(cbfgrs, uareas, 'green_urban', cmd=True)\n",
    "\n",
    "# Export data\n",
    "ishp = grs_to_shp(igrs, os.path.join(ws, loc, f'{igrs}.shp'), 'area')"
   ]
  },
  {
   "cell_type": "code",
   "execution_count": null,
   "id": "59228e03-1884-4465-84c5-ff02a5182c25",
   "metadata": {},
   "outputs": [],
   "source": [
    "# Dissolve by ID and direction\n",
    "idiss = dissolve(ishp, 'green_urban_diss', 'jpk', api='grass')\n",
    "\n",
    "# Obtain area value\n",
    "geomattr_to_db(idiss, \"garea\", \"area\", \"boundary\", unit='meters')"
   ]
  }
 ],
 "metadata": {
  "kernelspec": {
   "display_name": "Python 3 (ipykernel)",
   "language": "python",
   "name": "python3"
  },
  "language_info": {
   "codemirror_mode": {
    "name": "ipython",
    "version": 3
   },
   "file_extension": ".py",
   "mimetype": "text/x-python",
   "name": "python",
   "nbconvert_exporter": "python",
   "pygments_lexer": "ipython3",
   "version": "3.8.10"
  }
 },
 "nbformat": 4,
 "nbformat_minor": 5
}
