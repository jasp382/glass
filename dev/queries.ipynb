{
 "cells": [
  {
   "cell_type": "code",
   "execution_count": null,
   "id": "6711da7c-5040-4497-acf2-1110bd3f49f0",
   "metadata": {},
   "outputs": [],
   "source": [
    "-- farmacia por 10000 hab\n",
    "CREATE TABLE freg_cmb2 AS\n",
    "SELECT mtbl.*, \n",
    "CASE \n",
    "\tWHEN jtbl.nfarmacia IS NULL\n",
    "\tTHEN 0 else jtbl.nfarmacia\n",
    "END AS nfarmacia,\n",
    "CASE\n",
    "\tWHEN jtbl.nfarmacia IS NULL\n",
    "\tTHEN 0 ELSE (jtbl.nfarmacia /mtbl.popres) * 10000\n",
    "END AS farmbypop\n",
    "FROM freg_cmb1 AS mtbl\n",
    "LEFT JOIN (\n",
    "\tSELECT freg_pop.idfreg, COUNT(idfreg) AS nfarmacia\n",
    "\tFROM freg_pop, farmacias\n",
    "\tWHERE ST_Contains(freg_pop.geom, farmacias.geom) = TRUE\n",
    "\tGROUP BY idfreg\n",
    ") AS jtbl\n",
    "ON mtbl.idfreg = jtbl.idfreg"
   ]
  },
  {
   "cell_type": "code",
   "execution_count": null,
   "id": "de1948ae-5cce-48a3-a650-334c37541cda",
   "metadata": {},
   "outputs": [],
   "source": [
    "q = (\n",
    "    \"SELECT mtbl.*, \"\n",
    "    \"CASE \"\n",
    "        \"WHEN jtbl.nfarmacia IS NULL \"\n",
    "        \"THEN 0 else jtbl.nfarmacia \"\n",
    "    \"END AS nfarmacia \"\n",
    "    \"CASE \"\n",
    "        \"WHEN jtbl.nfarmacia IS NULL \"\n",
    "        \"THEN 0 ELSE (jtbl.nfarmacia /mtbl.popres) * 10000 \"\n",
    "    \"END AS farmbypop \"\n",
    "    \"FROM freg_cmb1 AS mtbl \"\n",
    "    \"LEFT JOIN (\"\n",
    "        \"SELECT freg_pop.idfreg, COUNT(idfreg) AS nfarmacia \"\n",
    "        \"FROM freg_pop, farmacias \"\n",
    "        \"WHERE ST_Contains(freg_pop.geom, farmacias.geom) = TRUE \"\n",
    "        \"GROUP BY idfreg\"\n",
    "    \") AS jtbl \"\n",
    "    \"ON mtbl.idfreg = jtbl.idfreg\"\n",
    ")"
   ]
  }
 ],
 "metadata": {
  "kernelspec": {
   "display_name": "Python 3 (ipykernel)",
   "language": "python",
   "name": "python3"
  },
  "language_info": {
   "codemirror_mode": {
    "name": "ipython",
    "version": 3
   },
   "file_extension": ".py",
   "mimetype": "text/x-python",
   "name": "python",
   "nbconvert_exporter": "python",
   "pygments_lexer": "ipython3",
   "version": "3.8.10"
  }
 },
 "nbformat": 4,
 "nbformat_minor": 5
}
