{
 "cells": [
  {
   "cell_type": "code",
   "execution_count": null,
   "id": "8370f7f7-453f-49f8-8064-c78db3bdb81a",
   "metadata": {},
   "outputs": [],
   "source": [
    "shps = {\n",
    "    #'muncol' : {\n",
    "        #\"shp\" : '/mnt/d/rms/results/rms_mun_v10.shp',\n",
    "        #'uid' : 'uid'\n",
    "    #},\n",
    "    'muncol2023' : {\n",
    "        \"shp\" : '/mnt/d/rms/results21/rms_mun_v9.shp',\n",
    "        'uid' : 'uid'\n",
    "    }\n",
    "}\n",
    "\n",
    "refxls = '/mnt/d/rms/lista_indicadores.xlsx'\n",
    "\n",
    "refsheet = 'ihoje'\n",
    "\n",
    "yearcol = 'ano'\n",
    "\n",
    "indicator_id = 'id_indicador'\n",
    "\n",
    "valuecol = 'valor'\n",
    "\n",
    "outfile = '/mnt/d/rms/results21/indicadores_mun_12042023.xlsx'"
   ]
  },
  {
   "cell_type": "code",
   "execution_count": null,
   "id": "119455b3-d40f-4232-bb28-47b32a0bd054",
   "metadata": {},
   "outputs": [],
   "source": [
    "import os\n",
    "import pandas as pd\n",
    "from glass.rd import tbl_to_obj\n",
    "from glass.rd.shp import shp_to_obj\n",
    "from glass.wt import obj_to_tbl\n",
    "from glass.dtr.mge.pd import merge_df"
   ]
  },
  {
   "cell_type": "code",
   "execution_count": null,
   "id": "fcfc9aca-121e-49be-9c54-2e44083fd044",
   "metadata": {},
   "outputs": [],
   "source": [
    "odfs = []\n",
    "\n",
    "# Open Referece XLSX\n",
    "ref_df = tbl_to_obj(refxls, sheet=refsheet)\n",
    "\n",
    "# Open Shapefiles\n",
    "for shp in shps:\n",
    "    shps[shp]['df'] = shp_to_obj(shps[shp][\"shp\"])"
   ]
  },
  {
   "cell_type": "code",
   "execution_count": null,
   "id": "254eb575-e2f4-4d6f-8b7b-508676bb5bac",
   "metadata": {},
   "outputs": [],
   "source": [
    "# Produce out dataframes\n",
    "for k in shps:\n",
    "    # For each indicator\n",
    "    for i, r in ref_df.iterrows():\n",
    "        # Copy DataFrame\n",
    "        ndf = shps[k]['df'].copy(deep=True)\n",
    "        \n",
    "        # Delete unecessary columns\n",
    "        mcols = [r[k], shps[k]['uid']]\n",
    "        dcols = [c for c in ndf.columns.values if c not in mcols]\n",
    "        ndf.drop(dcols, axis=1, inplace=True)\n",
    "        \n",
    "        # Place constants\n",
    "        ndf['id_indicator'] = r[indicator_id]\n",
    "        ndf['ano'] = r[yearcol]\n",
    "        \n",
    "        # Rename value column and id column\n",
    "        ndf.rename(columns={\n",
    "            r[k]           : valuecol,\n",
    "            shps[k]['uid'] : 'id'\n",
    "        }, inplace=True)\n",
    "        \n",
    "        # Append\n",
    "        odfs.append(ndf)"
   ]
  },
  {
   "cell_type": "code",
   "execution_count": null,
   "id": "98630c02-859d-4831-b831-4f8d2466c240",
   "metadata": {
    "tags": []
   },
   "outputs": [],
   "source": [
    "# Merge Dataframes\n",
    "fdf = merge_df(odfs)\n",
    "\n",
    "# Write to file\n",
    "obj_to_tbl(fdf, outfile)"
   ]
  }
 ],
 "metadata": {
  "kernelspec": {
   "display_name": "Python 3 (ipykernel)",
   "language": "python",
   "name": "python3"
  },
  "language_info": {
   "codemirror_mode": {
    "name": "ipython",
    "version": 3
   },
   "file_extension": ".py",
   "mimetype": "text/x-python",
   "name": "python",
   "nbconvert_exporter": "python",
   "pygments_lexer": "ipython3",
   "version": "3.8.10"
  }
 },
 "nbformat": 4,
 "nbformat_minor": 5
}
