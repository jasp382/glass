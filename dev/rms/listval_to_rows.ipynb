{
 "cells": [
  {
   "cell_type": "code",
   "execution_count": null,
   "id": "3039ea5e-432a-4cbb-998b-30409c51e8db",
   "metadata": {},
   "outputs": [],
   "source": [
    "tbl = '/mnt/d/mystuff/rms/equipasaude/areainf_cs_2021.xlsx'\n",
    "\n",
    "sheet = 'Area_influencia'\n",
    "\n",
    "splitchar = ';'\n",
    "\n",
    "coltosplit = 'fregid'\n",
    "\n",
    "otbl = '/mnt/d/mystuff/rms/equipasaude/areainf_cs_2021_v3.xlsx'"
   ]
  },
  {
   "cell_type": "code",
   "execution_count": null,
   "id": "d074f24a-74f4-4b01-baf1-f877b2211a1c",
   "metadata": {},
   "outputs": [],
   "source": [
    "from glass.rd import tbl_to_obj\n",
    "from glass.pd.dagg import col_list_val_to_row\n",
    "from glass.wt import obj_to_tbl"
   ]
  },
  {
   "cell_type": "code",
   "execution_count": null,
   "id": "1189f52d-43f6-4f96-a09e-5790349ee68a",
   "metadata": {},
   "outputs": [],
   "source": [
    "df = tbl_to_obj(tbl, sheet=sheet)"
   ]
  },
  {
   "cell_type": "code",
   "execution_count": null,
   "id": "40395679-e3b0-4b18-bf02-0b9f470b1389",
   "metadata": {},
   "outputs": [],
   "source": [
    "df[coltosplit] = df[coltosplit].astype(str)"
   ]
  },
  {
   "cell_type": "code",
   "execution_count": null,
   "id": "faeedbdc-e4fd-4eaf-b8e4-5b7b8645c0c1",
   "metadata": {},
   "outputs": [],
   "source": [
    "df['lst'] = df[coltosplit].str.split(splitchar)"
   ]
  },
  {
   "cell_type": "code",
   "execution_count": null,
   "id": "bedf905b-14c2-4fd0-a95c-d800082a54ae",
   "metadata": {},
   "outputs": [],
   "source": [
    "ndf = col_list_val_to_row(df, 'lst')"
   ]
  },
  {
   "cell_type": "code",
   "execution_count": null,
   "id": "a5394d92-85ee-4ad5-b59f-378048ade0d6",
   "metadata": {},
   "outputs": [],
   "source": [
    "ndf.drop([coltosplit], axis=1, inplace=True)\n",
    "ndf.rename(columns={'lst' : coltosplit}, inplace=True)"
   ]
  },
  {
   "cell_type": "code",
   "execution_count": null,
   "id": "89f42d9b-d87d-420e-ac46-9091ea87fa65",
   "metadata": {},
   "outputs": [],
   "source": [
    "ndf = ndf[ndf[coltosplit] != '']"
   ]
  },
  {
   "cell_type": "code",
   "execution_count": null,
   "id": "4feec620-7847-46c4-b1a8-5638e8ada41a",
   "metadata": {},
   "outputs": [],
   "source": [
    "obj_to_tbl(ndf, otbl)"
   ]
  },
  {
   "cell_type": "code",
   "execution_count": null,
   "id": "d3d03292-306e-4a8e-97c9-2aa0a086c4fb",
   "metadata": {},
   "outputs": [],
   "source": []
  }
 ],
 "metadata": {
  "kernelspec": {
   "display_name": "Python 3 (ipykernel)",
   "language": "python",
   "name": "python3"
  },
  "language_info": {
   "codemirror_mode": {
    "name": "ipython",
    "version": 3
   },
   "file_extension": ".py",
   "mimetype": "text/x-python",
   "name": "python",
   "nbconvert_exporter": "python",
   "pygments_lexer": "ipython3",
   "version": "3.10.4"
  }
 },
 "nbformat": 4,
 "nbformat_minor": 5
}
