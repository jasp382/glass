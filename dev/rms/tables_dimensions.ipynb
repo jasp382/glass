{
 "cells": [
  {
   "cell_type": "markdown",
   "id": "dfa3bde3-4e65-4947-838a-102ba878f01f",
   "metadata": {},
   "source": [
    "Read folder with folders, inside each sub-folder there are two tables,\n",
    "check if they have the same dimension.\n",
    "Save result in a new table"
   ]
  },
  {
   "cell_type": "code",
   "execution_count": null,
   "id": "1640d28a-1ec0-474c-9da8-d4a3eca69af5",
   "metadata": {},
   "outputs": [],
   "source": [
    "mfolder = '/mnt/d/rms/dist_cs/'\n",
    "\n",
    "tbl_a = 'incidents.shp'\n",
    "tbl_b = 'cf_results.dbf'\n",
    "\n",
    "out = '/mnt/d/rms/dist_cs/miss_incidents.xlsx'"
   ]
  },
  {
   "cell_type": "code",
   "execution_count": null,
   "id": "ac8c083e-a893-4c5a-84cf-dd909c12bfde",
   "metadata": {},
   "outputs": [],
   "source": [
    "import os\n",
    "import pandas as pd\n",
    "from glass.pys.oss import lst_fld\n",
    "from glass.prop import is_shp\n",
    "from glass.rd import tbl_to_obj\n",
    "from glass.rd.shp import shp_to_obj\n",
    "from glass.wt import obj_to_tbl"
   ]
  },
  {
   "cell_type": "code",
   "execution_count": null,
   "id": "48e1aa01-cac8-4711-aa72-4c7f007dbb6e",
   "metadata": {},
   "outputs": [],
   "source": [
    "folders = lst_fld(mfolder)"
   ]
  },
  {
   "cell_type": "code",
   "execution_count": null,
   "id": "be1186d1-806a-421c-a075-4607a3f344f9",
   "metadata": {},
   "outputs": [],
   "source": [
    "res = []\n",
    "for f in folders:\n",
    "    # Check if table is geo or not\n",
    "    a_is_shp = is_shp(os.path.join(f, tbl_a))\n",
    "    b_is_shp = is_shp(os.path.join(f, tbl_b))\n",
    "    \n",
    "    # Open Tables\n",
    "    dfa = shp_to_obj(\n",
    "        os.path.join(f, tbl_a)\n",
    "    ) if a_is_shp else tbl_to_obj(\n",
    "        os.path.join(f, tbl_a)\n",
    "    )\n",
    "    dfb = shp_to_obj(\n",
    "        os.path.join(f, tbl_b)\n",
    "    ) if b_is_shp else tbl_to_obj(\n",
    "        os.path.join(f, tbl_b)\n",
    "    )\n",
    "    \n",
    "    # Get row number\n",
    "    row_a = dfa.shape[0]\n",
    "    row_b = dfb.shape[0]\n",
    "    \n",
    "    # Write result\n",
    "    res.append([os.path.basename(f), row_a, row_b, 1 if row_a == row_b else 0])"
   ]
  },
  {
   "cell_type": "code",
   "execution_count": null,
   "id": "b57e8b84-03bd-4a27-bdd9-117458ab05a2",
   "metadata": {},
   "outputs": [],
   "source": [
    "res_df = pd.DataFrame(res, columns=[\"folder\", \"ta_rows\", \"tb_rows\", \"status\"])\n",
    "\n",
    "obj_to_tbl(res_df, out)"
   ]
  },
  {
   "cell_type": "code",
   "execution_count": null,
   "id": "26537860-c9d5-454b-8c9b-a6ab16f8eaf4",
   "metadata": {},
   "outputs": [],
   "source": [
    "fa = '/mnt/disk2/dist_idosos/'\n",
    "fb = '/mnt/disk2/dist_idosos/jtbl'\n",
    "\n",
    "faff = '.shp'\n",
    "fbff = '.shp'\n",
    "\n",
    "out = '/mnt/disk2/dist_idosos/compare_tbls.xlsx'"
   ]
  },
  {
   "cell_type": "code",
   "execution_count": null,
   "id": "888e64c0-bbeb-4174-95c1-74feb3c5763f",
   "metadata": {},
   "outputs": [],
   "source": [
    "import os\n",
    "import pandas as pd\n",
    "from glass.pys.oss import lst_fld, lst_ff\n",
    "from glass.prop import is_shp\n",
    "from glass.rd import tbl_to_obj\n",
    "from glass.rd.shp import shp_to_obj\n",
    "from glass.wt import obj_to_tbl"
   ]
  },
  {
   "cell_type": "code",
   "execution_count": null,
   "id": "de221faf-dfbd-4f67-93e5-3a15b84b1887",
   "metadata": {},
   "outputs": [],
   "source": [
    "a_tbl = pd.DataFrame([{\n",
    "    'aid'  : int(f.split('.')[0].split('_')[-1]),\n",
    "    'atbl' : f\n",
    "} for f in lst_ff(\n",
    "    fa, rfilename=True, file_format=faff\n",
    ")])\n",
    "\n",
    "# List tables in folder b\n",
    "b_tbl = pd.DataFrame([{\n",
    "    'bid'  : int(f.split('.')[0].split('_')[-1]),\n",
    "    'btbl' : f\n",
    "} for f in lst_ff(\n",
    "    fb, rfilename=True, file_format=fbff\n",
    ")])\n",
    "\n",
    "# Join two dataframes\n",
    "jt = a_tbl.merge(b_tbl, how='inner', left_on='aid', right_on='bid')"
   ]
  },
  {
   "cell_type": "code",
   "execution_count": null,
   "id": "d1a3cdaf-9480-4d2d-972f-d7fcab5cb69c",
   "metadata": {},
   "outputs": [],
   "source": [
    "res = []\n",
    "for i, r in jt.iterrows():\n",
    "    # Check if table is geo or not\n",
    "    shpa = os.path.join(fa, r.atbl)\n",
    "    shpb = os.path.join(fb, r.btbl)\n",
    "    \n",
    "    a_is_shp = is_shp(shpa)\n",
    "    b_is_shp = is_shp(shpb)\n",
    "    \n",
    "    # Open Tables\n",
    "    dfa = shp_to_obj(shpa) if a_is_shp else tbl_to_obj(shpa)\n",
    "    dfb = shp_to_obj(shpb) if b_is_shp else tbl_to_obj(shpb)\n",
    "    \n",
    "    # Get row number\n",
    "    row_a = dfa.shape[0]\n",
    "    row_b = dfb.shape[0]\n",
    "    \n",
    "    # Write result\n",
    "    res.append([os.path.basename(shpa), os.path.basename(shpb), row_a, row_b, 1 if row_a == row_b else 0])"
   ]
  },
  {
   "cell_type": "code",
   "execution_count": null,
   "id": "7a55ea14-c67d-4cb1-80c6-f1506ef5cfd2",
   "metadata": {},
   "outputs": [],
   "source": [
    "res_df = pd.DataFrame(res, columns=[\"shpa\", \"shpb\", \"ta_rows\", \"tb_rows\", \"status\"])\n",
    "\n",
    "obj_to_tbl(res_df, out)"
   ]
  },
  {
   "cell_type": "code",
   "execution_count": null,
   "id": "00a79bc2-f8a3-4c00-b6d8-4a8726f894b8",
   "metadata": {},
   "outputs": [],
   "source": []
  }
 ],
 "metadata": {
  "kernelspec": {
   "display_name": "Python 3 (ipykernel)",
   "language": "python",
   "name": "python3"
  },
  "language_info": {
   "codemirror_mode": {
    "name": "ipython",
    "version": 3
   },
   "file_extension": ".py",
   "mimetype": "text/x-python",
   "name": "python",
   "nbconvert_exporter": "python",
   "pygments_lexer": "ipython3",
   "version": "3.8.10"
  }
 },
 "nbformat": 4,
 "nbformat_minor": 5
}
