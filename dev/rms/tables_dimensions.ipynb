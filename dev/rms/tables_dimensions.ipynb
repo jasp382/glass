{
 "cells": [
  {
   "cell_type": "markdown",
   "id": "dfa3bde3-4e65-4947-838a-102ba878f01f",
   "metadata": {},
   "source": [
    "Read folder with folders, inside each sub-folder there are two tables,\n",
    "check if they have the same dimension.\n",
    "Save result in a new table"
   ]
  },
  {
   "cell_type": "code",
   "execution_count": null,
   "id": "1640d28a-1ec0-474c-9da8-d4a3eca69af5",
   "metadata": {
    "tags": []
   },
   "outputs": [],
   "source": [
    "mfolder = '/mnt/d/rms/acc_hsp21'\n",
    "\n",
    "tbl_a = 'incidents.shp'\n",
    "tbl_b = 'cf_results.dbf'\n",
    "\n",
    "out = '/mnt/d/rms/acc_hsp21/miss_incidents.xlsx'"
   ]
  },
  {
   "cell_type": "code",
   "execution_count": null,
   "id": "ac8c083e-a893-4c5a-84cf-dd909c12bfde",
   "metadata": {
    "tags": []
   },
   "outputs": [],
   "source": [
    "import os\n",
    "import pandas as pd\n",
    "from glass.pys.oss import lst_fld\n",
    "from glass.prop import is_shp\n",
    "from glass.rd import tbl_to_obj\n",
    "from glass.rd.shp import shp_to_obj\n",
    "from glass.wt import obj_to_tbl"
   ]
  },
  {
   "cell_type": "code",
   "execution_count": null,
   "id": "48e1aa01-cac8-4711-aa72-4c7f007dbb6e",
   "metadata": {
    "tags": []
   },
   "outputs": [],
   "source": [
    "folders = lst_fld(mfolder)"
   ]
  },
  {
   "cell_type": "code",
   "execution_count": null,
   "id": "be1186d1-806a-421c-a075-4607a3f344f9",
   "metadata": {
    "tags": []
   },
   "outputs": [],
   "source": [
    "res = []\n",
    "for f in folders:\n",
    "    # Check if table is geo or not\n",
    "    a_is_shp = is_shp(os.path.join(f, tbl_a))\n",
    "    b_is_shp = is_shp(os.path.join(f, tbl_b))\n",
    "    \n",
    "    # Open Tables\n",
    "    dfa = shp_to_obj(\n",
    "        os.path.join(f, tbl_a)\n",
    "    ) if a_is_shp else tbl_to_obj(\n",
    "        os.path.join(f, tbl_a)\n",
    "    )\n",
    "    dfb = shp_to_obj(\n",
    "        os.path.join(f, tbl_b)\n",
    "    ) if b_is_shp else tbl_to_obj(\n",
    "        os.path.join(f, tbl_b)\n",
    "    )\n",
    "    \n",
    "    # Get row number\n",
    "    row_a = dfa.shape[0]\n",
    "    row_b = dfb.shape[0]\n",
    "    \n",
    "    # Write result\n",
    "    res.append([os.path.basename(f), row_a, row_b, 1 if row_a == row_b else 0])"
   ]
  },
  {
   "cell_type": "code",
   "execution_count": null,
   "id": "b57e8b84-03bd-4a27-bdd9-117458ab05a2",
   "metadata": {
    "tags": []
   },
   "outputs": [],
   "source": [
    "res_df = pd.DataFrame(res, columns=[\"folder\", \"ta_rows\", \"tb_rows\", \"status\"])\n",
    "\n",
    "obj_to_tbl(res_df, out)"
   ]
  },
  {
   "cell_type": "code",
   "execution_count": null,
   "id": "26537860-c9d5-454b-8c9b-a6ab16f8eaf4",
   "metadata": {
    "tags": []
   },
   "outputs": [],
   "source": [
    "from glass.tbl.shp import tblsameid_have_samerows\n",
    "\n",
    "fa = '/mnt/d/rms/acc_evu21/incidents'\n",
    "fb = '/mnt/d/rms/acc_evu21/joinres'\n",
    "\n",
    "faff = '.shp'\n",
    "fbff = '.shp'\n",
    "\n",
    "out = '/mnt/d/rms/acc_evu21/compare_tbls.xlsx'\n",
    "\n",
    "tblsameid_have_samerows(fa, fb, faff, fbff, out)"
   ]
  },
  {
   "cell_type": "code",
   "execution_count": null,
   "id": "00a79bc2-f8a3-4c00-b6d8-4a8726f894b8",
   "metadata": {},
   "outputs": [],
   "source": []
  }
 ],
 "metadata": {
  "kernelspec": {
   "display_name": "Python 3 (ipykernel)",
   "language": "python",
   "name": "python3"
  },
  "language_info": {
   "codemirror_mode": {
    "name": "ipython",
    "version": 3
   },
   "file_extension": ".py",
   "mimetype": "text/x-python",
   "name": "python",
   "nbconvert_exporter": "python",
   "pygments_lexer": "ipython3",
   "version": "3.8.10"
  }
 },
 "nbformat": 4,
 "nbformat_minor": 5
}
