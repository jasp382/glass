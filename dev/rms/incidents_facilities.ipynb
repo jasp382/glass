{
 "cells": [
  {
   "cell_type": "markdown",
   "id": "664e2c3e-5352-483c-be47-ae14917f737a",
   "metadata": {},
   "source": [
    "# Get Incidents and Facilities for each interest area\n",
    "\n",
    "Cada área de interesse inclui incidentes e facilities especificos\n",
    "\n",
    "- Relação ia-facilitie está numa shapefile;\n",
    "- Relação ia-incidents está numa tabela xlsx e pretende-se seleccionar os dados da shapefile;\n",
    "- A escala da relação é a freguesia"
   ]
  },
  {
   "cell_type": "code",
   "execution_count": null,
   "id": "5d6529e3-57b4-4838-95ec-f97bb037784b",
   "metadata": {},
   "outputs": [],
   "source": [
    "facilities     = '/mnt/disk1/jasp/rms/hospitais2022.shp'\n",
    "idia = 'idai'\n",
    "\n",
    "incidents      = '/mnt/disk1/jasp/rms/bgrirms_pnt.shp'\n",
    "fregpk = 'idfreg'\n",
    "\n",
    "relia_in       = '/mnt/disk1/jasp/rms/areainf_hsp_2021.xlsx'\n",
    "relia_in_sheet = 'freg_hsp'\n",
    "relidia = 'id_hsparea'\n",
    "relfregfk = 'idfregr'\n",
    "\n",
    "outfolder = '/mnt/disk1/jasp/rms/cf_inputs'"
   ]
  },
  {
   "cell_type": "code",
   "execution_count": null,
   "id": "1a24142b-3ed5-4ec6-a826-ed6cff8593a5",
   "metadata": {},
   "outputs": [],
   "source": [
    "import pandas as pd\n",
    "import os\n",
    "from glass.rd.shp import shp_to_obj\n",
    "from glass.rd import tbl_to_obj\n",
    "from glass.pys.oss import mkdir\n",
    "from glass.wt.shp import df_to_shp"
   ]
  },
  {
   "cell_type": "code",
   "execution_count": null,
   "id": "f9a11be9-c39d-4df2-b28b-ad6146626bc5",
   "metadata": {},
   "outputs": [],
   "source": [
    "# Obter as facilities\n",
    "fdf = shp_to_obj(facilities)\n",
    "\n",
    "# Get incidents\n",
    "idf = shp_to_obj(incidents)"
   ]
  },
  {
   "cell_type": "code",
   "execution_count": null,
   "id": "139c3da8-37cf-42f4-9b28-80c52df60c1c",
   "metadata": {
    "tags": []
   },
   "outputs": [],
   "source": [
    "idf"
   ]
  },
  {
   "cell_type": "code",
   "execution_count": null,
   "id": "d40627cb-1ff4-4f73-97f1-d3c7e9ab75ad",
   "metadata": {},
   "outputs": [],
   "source": [
    "# Obter grupo de facilities\n",
    "\n",
    "ias = fdf[idia].unique()\n",
    "ias.sort()"
   ]
  },
  {
   "cell_type": "code",
   "execution_count": null,
   "id": "6844effb-c516-4ed9-9deb-f900308df925",
   "metadata": {
    "tags": []
   },
   "outputs": [],
   "source": [
    "ias"
   ]
  },
  {
   "cell_type": "code",
   "execution_count": null,
   "id": "50ef9115-d594-44e7-9352-a041971fdbd8",
   "metadata": {},
   "outputs": [],
   "source": [
    "# Obtêm dados relação freguesias - áreas de interesse\n",
    "\n",
    "rdf = tbl_to_obj(relia_in, sheet=relia_in_sheet)"
   ]
  },
  {
   "cell_type": "code",
   "execution_count": null,
   "id": "5da55741-fa2b-40fe-930d-9151f705df40",
   "metadata": {},
   "outputs": [],
   "source": [
    "rdf"
   ]
  },
  {
   "cell_type": "code",
   "execution_count": null,
   "id": "b7b36d03-895a-4151-ab6b-f7453ab24857",
   "metadata": {},
   "outputs": [],
   "source": [
    "for ia in ias:\n",
    "    # Identificar freguesias associadas a cada grupo de facilities\n",
    "    idfreg = rdf[rdf[relidia] == ia]\n",
    "    \n",
    "    fregs = idfreg[relfregfk].unique()\n",
    "    fregs.sort()\n",
    "    \n",
    "    if not len(fregs):\n",
    "        continue\n",
    "    \n",
    "    # Select incidents\n",
    "    s_idf = idf[idf[fregpk].isin(fregs)]\n",
    "    \n",
    "    if not s_idf.shape[0]:\n",
    "        continue\n",
    "    \n",
    "    # Create folder to store results\n",
    "    iafolder = mkdir(os.path.join(outfolder, f'ia_{str(ia)}'))\n",
    "    \n",
    "    # Export incidents\n",
    "    df_to_shp(s_idf, os.path.join(iafolder, 'incidents.shp'))\n",
    "    \n",
    "    # Select facilities\n",
    "    s_fdf = fdf[fdf[idia] == ia]\n",
    "    \n",
    "    # Export facilities\n",
    "    df_to_shp(s_fdf, os.path.join(iafolder, 'facilities.shp'))"
   ]
  },
  {
   "cell_type": "code",
   "execution_count": null,
   "id": "963eced4-3c18-40c9-80e2-cdde9c1bbc4c",
   "metadata": {},
   "outputs": [],
   "source": []
  }
 ],
 "metadata": {
  "kernelspec": {
   "display_name": "Python 3 (ipykernel)",
   "language": "python",
   "name": "python3"
  },
  "language_info": {
   "codemirror_mode": {
    "name": "ipython",
    "version": 3
   },
   "file_extension": ".py",
   "mimetype": "text/x-python",
   "name": "python",
   "nbconvert_exporter": "python",
   "pygments_lexer": "ipython3",
   "version": "3.9.16"
  }
 },
 "nbformat": 4,
 "nbformat_minor": 5
}
