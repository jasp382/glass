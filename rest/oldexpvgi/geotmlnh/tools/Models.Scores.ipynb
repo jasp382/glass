{
 "cells": [
  {
   "cell_type": "markdown",
   "metadata": {},
   "source": [
    "### Models Scores to file: ###"
   ]
  },
  {
   "cell_type": "code",
   "execution_count": 1,
   "metadata": {},
   "outputs": [
    {
     "data": {
      "text/plain": [
       "'D:\\\\GoogleDrive\\\\INESCC-PROJ\\\\GeoTimeLine\\\\modelScores.xlsx'"
      ]
     },
     "execution_count": 1,
     "metadata": {},
     "output_type": "execute_result"
    }
   ],
   "source": [
    "from glass.to import db_to_tbl\n",
    "\n",
    "outFile = r'D:\\GoogleDrive\\INESCC-PROJ\\GeoTimeLine\\modelScores.xlsx'\n",
    "\n",
    "db_to_tbl({\n",
    "    'HOST' : 'localhost', 'USER' : 'postgres', 'PORT' : '5432',\n",
    "    'PASSWORD' : 'admin', 'DATABASE' : 'expvgi_api'\n",
    "}, (\n",
    "    \"SELECT tbl.fid, \"\n",
    "    \"foo.mdl, round(AVG(foo.acc), 3) AS avg_acc, MAX(foo.acc) AS max_acc, \"\n",
    "    \"round(AVG(foo.err), 3) AS avg_err, MIN(foo.err) AS min_err, \"\n",
    "    \"round(AVG(foo.tpr), 3) AS avg_tpr, MAX(foo.tpr) AS max_tpr, \"\n",
    "    \"round(AVG(foo.tnr), 3) AS avg_tnr, MAX(foo.tnr) AS max_tnr, \"\n",
    "    \"round(AVG(foo.ppr), 3) AS avg_ppr, MAX(foo.ppr) AS max_ppr, \"\n",
    "    \"round(AVG(foo.fpr), 3) AS avg_fpr, MIN(foo.fpr) AS min_fpr \"\n",
    "    \"FROM (\"\n",
    "        \"SELECT * FROM geotmlnh_classi ORDER BY daytime DESC \"\n",
    "        \"LIMIT 1\"\n",
    "    \") AS tbl INNER JOIN geotmlnh_class_res AS foo \"\n",
    "    \"ON tbl.fid = foo.cls_id \"\n",
    "    \"GROUP BY tbl.fid, foo.mdl\"\n",
    "), outFile, sheetsNames='models_score', dbAPI='psql')"
   ]
  },
  {
   "cell_type": "code",
   "execution_count": null,
   "metadata": {},
   "outputs": [],
   "source": []
  }
 ],
 "metadata": {
  "kernelspec": {
   "display_name": "Python 3",
   "language": "python",
   "name": "python3"
  },
  "language_info": {
   "codemirror_mode": {
    "name": "ipython",
    "version": 3
   },
   "file_extension": ".py",
   "mimetype": "text/x-python",
   "name": "python",
   "nbconvert_exporter": "python",
   "pygments_lexer": "ipython3",
   "version": "3.7.3"
  }
 },
 "nbformat": 4,
 "nbformat_minor": 2
}
