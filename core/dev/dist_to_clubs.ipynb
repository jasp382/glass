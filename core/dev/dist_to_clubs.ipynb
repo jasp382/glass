{
 "cells": [
  {
   "cell_type": "code",
   "execution_count": null,
   "id": "8b62d366-d231-4d4d-8f71-a23a011fa377",
   "metadata": {},
   "outputs": [],
   "source": [
    "shp_idv = '/mnt/disk1/dist_to_club/loc_individuos.shp'\n",
    "\n",
    "shp_clubs = '/mnt/disk1/dist_to_club/loc_clubs.shp'\n",
    "\n",
    "rel_tbl = {\n",
    "    \"TABLE\"    : '/mnt/disk1/dist_to_club/calcdata.xlsx',\n",
    "    \"REL_INDV\" : 'idv_desp',\n",
    "    \"REL_CLUB\" : 'clubs_desp'\n",
    "}\n",
    "\n",
    "tmpfolder = '/mnt/disk1/dist_to_club/cf_tvtime/'\n",
    "out = '/mnt/disk1/dist_to_club/idvtraveltm.shp'\n",
    "\n",
    "impedance_type = 'TravelTime'"
   ]
  },
  {
   "cell_type": "code",
   "execution_count": null,
   "id": "fd5900f1-17a6-4877-9c26-570d723b55ad",
   "metadata": {},
   "outputs": [],
   "source": [
    "import pandas as pd\n",
    "import geopandas as gp\n",
    "import os\n",
    "from glass.rd.shp import shp_to_obj\n",
    "from glass.rd import tbl_to_obj\n",
    "from glass.mob.esri import closest_facility\n",
    "from glass.gp.prox import pd_near\n",
    "from glass.wt.shp import df_to_shp"
   ]
  },
  {
   "cell_type": "code",
   "execution_count": null,
   "id": "f69818bd-a394-4123-8a05-e268366a00b0",
   "metadata": {},
   "outputs": [],
   "source": [
    "# Open Files\n",
    "idv = shp_to_obj(shp_idv)\n",
    "clb = shp_to_obj(shp_clubs)\n",
    "\n",
    "rel_idv = tbl_to_obj(rel_tbl[\"TABLE\"], sheet=rel_tbl[\"REL_INDV\"])\n",
    "rel_clb = tbl_to_obj(rel_tbl[\"TABLE\"], sheet=rel_tbl[\"REL_CLUB\"])"
   ]
  },
  {
   "cell_type": "code",
   "execution_count": null,
   "id": "21fc55c7-0bae-41a1-9be8-2fab3cedd2ae",
   "metadata": {},
   "outputs": [],
   "source": [
    "impedances = []"
   ]
  },
  {
   "cell_type": "code",
   "execution_count": null,
   "id": "c9d789eb-ad9d-4fe5-bd72-393822e86961",
   "metadata": {},
   "outputs": [],
   "source": [
    "tmcol = 'walktime' if impedance_type == 'WalkTime' else 'traveltime'"
   ]
  },
  {
   "cell_type": "code",
   "execution_count": null,
   "id": "eb044be7-c549-4edd-a262-fb2e6285e212",
   "metadata": {},
   "outputs": [],
   "source": [
    "for i, row in idv.iterrows():\n",
    "    # Get related desports\n",
    "    rdesp = rel_idv[rel_idv['iid'] == row['iid']]\n",
    "    \n",
    "    dsp = rdesp[\"desporto\"].tolist()\n",
    "    \n",
    "    # Get clubs with these desports\n",
    "    rclb = rel_clb[rel_clb[\"desporto\"].isin(dsp)]\n",
    "    \n",
    "    clbl = rclb[\"clubid\"].tolist()\n",
    "    \n",
    "    clbg = clb[clb[\"clubid\"].isin(clbl)]\n",
    "    \n",
    "    if not clbg.shape[0]:\n",
    "        impedances.append(-2)\n",
    "        continue\n",
    "    \n",
    "    idf = gp.GeoDataFrame([row], crs='EPSG:3763', geometry='geometry')\n",
    "    \n",
    "    near_club = pd_near(idf, clbg)\n",
    "    \n",
    "    d_to_clb = near_club.iloc[0].dist\n",
    "    \n",
    "    if d_to_clb / 1000 > 40:\n",
    "        impedances.append(-1)\n",
    "        continue\n",
    "    \n",
    "    # Run closest facility\n",
    "    cfshp = closest_facility(\n",
    "        idf, 'iid',\n",
    "        clbg, os.path.join(tmpfolder, f'cfi_{row[\"iid\"]}.shp'),\n",
    "        impedance=impedance_type, crs=3763\n",
    "    )\n",
    "    \n",
    "    # Open Result\n",
    "    cfdf = shp_to_obj(cfshp)\n",
    "    \n",
    "    ttime = cfdf.iloc[0][tmcol]\n",
    "    \n",
    "    impedances.append(ttime)"
   ]
  },
  {
   "cell_type": "code",
   "execution_count": null,
   "id": "f54d09c9-2b55-409a-9d48-b3a116f2585e",
   "metadata": {},
   "outputs": [],
   "source": [
    "idv[tmcol] = impedances"
   ]
  },
  {
   "cell_type": "code",
   "execution_count": null,
   "id": "ab98c9a9-f54e-41e8-beb7-bf58a035412b",
   "metadata": {},
   "outputs": [],
   "source": [
    "df_to_shp(idv, out)"
   ]
  },
  {
   "cell_type": "code",
   "execution_count": null,
   "id": "302e050f-99b8-4ca8-90e8-2e5924b555e1",
   "metadata": {},
   "outputs": [],
   "source": []
  }
 ],
 "metadata": {
  "kernelspec": {
   "display_name": "Python 3 (ipykernel)",
   "language": "python",
   "name": "python3"
  },
  "language_info": {
   "codemirror_mode": {
    "name": "ipython",
    "version": 3
   },
   "file_extension": ".py",
   "mimetype": "text/x-python",
   "name": "python",
   "nbconvert_exporter": "python",
   "pygments_lexer": "ipython3",
   "version": "3.8.10"
  }
 },
 "nbformat": 4,
 "nbformat_minor": 5
}
