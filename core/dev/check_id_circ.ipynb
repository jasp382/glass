{
 "cells": [
  {
   "cell_type": "code",
   "execution_count": null,
   "metadata": {},
   "outputs": [],
   "source": [
    "valbycirc_table  = r'D:\\TRENMO_JASP\\CARRIS\\validacoes\\val_by_circ\\v14a20jan_withcircgpby_v4.xlsx'\n",
    "valbycirc_diacol = \"dia\"\n",
    "valbycirc_dia    = \"2018-01-20\"\n",
    "valbycirc_trip = \"trip_id\"\n",
    "\n",
    "valbycirc_table_not_sanitized = r'D:\\TRENMO_JASP\\CARRIS\\validacoes\\val_by_circ\\tst_20jan.xlsx'\n",
    "nentrances = \"nvalidacoes\"\n",
    "valbycirc_ns_trip = \"trip_id\"\n",
    "\n",
    "conGTFS = {\n",
    "    \"HOST\" : \"localhost\", \"PORT\" : \"5432\", \"USER\" : \"postgres\",\n",
    "    \"PASSWORD\" : \"admin\", \"DATABASE\" : \"gtfs_carris\"\n",
    "}\n",
    "\n",
    "GTFS_SCHEMA = {\n",
    "    \"TRIPS\" : {\n",
    "        \"TNAME\"   : \"trips\",\n",
    "        \"TRIP\"    : \"trip_id\",\n",
    "        \"SERVICE\" : \"service_id\"\n",
    "    },\n",
    "    \"TRIPS_META\" : {\n",
    "        \"TNAME\"       : \"trips_with_meta\",\n",
    "        \"TRIP\"        : \"trip_id\",\n",
    "        \"FID_ROUTE\"   : \"fid_percurso\",\n",
    "        \"LONG_NAME\"   : \"long_name\",\n",
    "        \"DESCRIPTION\" : \"trip_headsign\"\n",
    "    },\n",
    "    \"STOP_TIMES\" : {\n",
    "        \"TNAME\" : \"stop_times\",\n",
    "        \"TRIP\"  : \"trip_id\",\n",
    "        \"STOP\"  : \"stop_id\",\n",
    "        \"SEQUENCE\" : \"stop_sequence\",\n",
    "        \"DEPARTURE\" : \"departure_time\"\n",
    "    },\n",
    "    \"CALENDAR\" : {\n",
    "        \"TNAME\"   : \"calendar_dates\",\n",
    "        \"SERVICE\" : \"service_id\",\n",
    "        \"DATE\"    : \"date\"\n",
    "    }\n",
    "}\n",
    "\n",
    "#filterRoute = ['736|0|ASC', '736|0|DESC', '736|3|ASC', '736|3|DESC','736|4|ASC', '736|4|DESC']\n",
    "filterRoute = \"\"\n",
    "\n",
    "GTFS_DAY = 20180310\n",
    "\n",
    "report_table = r'D:\\TRENMO_JASP\\CARRIS\\validacoes\\val_by_circ\\tst_20jan_report.xlsx'"
   ]
  },
  {
   "cell_type": "code",
   "execution_count": null,
   "metadata": {},
   "outputs": [],
   "source": [
    "import os\n",
    "from senpy.os.info           import fprop\n",
    "from senpy.topsql.pnd        import xls_to_pgsql\n",
    "from senpy.frompsql          import sql_query\n",
    "from senpy.frompsql.pnd      import sql_to_pandas\n",
    "from senpy.toxls.pnd         import dataframe_to_xls\n",
    "from senpy.pgsql.tables.w    import create_table_by_query\n",
    "from senpy.pgsql.tables._del import del_tables"
   ]
  },
  {
   "cell_type": "code",
   "execution_count": null,
   "metadata": {},
   "outputs": [],
   "source": [
    "onGoing = []"
   ]
  },
  {
   "cell_type": "code",
   "execution_count": null,
   "metadata": {},
   "outputs": [],
   "source": [
    "# Table with BUS entrances by GTFS Trip to PostgreSQL\n",
    "# Table without any errors\n",
    "\n",
    "valbycirc = xls_to_pgsql(\n",
    "    conGTFS, valbycirc_table,\n",
    "    fprop(valbycirc_table, 'fn')\n",
    ")"
   ]
  },
  {
   "cell_type": "code",
   "execution_count": null,
   "metadata": {},
   "outputs": [],
   "source": [
    "# Table with BUS entrances by GTFS Trip to PostgreSQL\n",
    "# Table with errors\n",
    "\n",
    "valbycircErrors = xls_to_pgsql(\n",
    "    conGTFS, valbycirc_table_not_sanitized,\n",
    "    fprop(valbycirc_table_not_sanitized, 'fn')\n",
    ")"
   ]
  },
  {
   "cell_type": "code",
   "execution_count": null,
   "metadata": {},
   "outputs": [],
   "source": [
    "onGoing.append(valbycirc)\n",
    "onGoing.append(valbycircErrors)"
   ]
  },
  {
   "cell_type": "code",
   "execution_count": null,
   "metadata": {},
   "outputs": [],
   "source": [
    "# Get TRIPS ID's for the given GTFS_DAY\n",
    "\n",
    "q = (\n",
    "    \"SELECT {t_tripId}, stops, order_, start_time, end_time, \"\n",
    "    \"CAST(TO_DATE(CAST(start_time AS text), \"\n",
    "        \"'YYYY-MM-DD HH24:MI:SS') AS text) AS circ_day FROM (\"\n",
    "    \"SELECT {t_tripId}, array_agg({stopid} ORDER BY {stopSq}) AS stops, \"\n",
    "    \"array_agg({stopSq} ORDER BY {stopSq}) AS order_, \"\n",
    "    \"MIN({depTime}) AS start_time, MAX({depTime}) AS end_time \"\n",
    "    \"FROM (\"\n",
    "        \"SELECT {tripsT}.{t_tripId}, {stopTimesT}.{stopid}, \"\n",
    "        \"{stopTimesT}.{stopSq}, \"\n",
    "        \"TO_TIMESTAMP('{valday} ' || {stopTimesT}.{depTime}, 'YYYY-MM-DD HH24:MI:SS') \"\n",
    "        \"AS {depTime} FROM {tripsT} \"\n",
    "        \"INNER JOIN {stopTimesT} \"\n",
    "        \"ON {tripsT}.{t_tripId} = {stopTimesT}.{st_tripId} \"\n",
    "        \"INNER JOIN {calenTbl} AS calen \"\n",
    "        \"ON {tripsT}.{servId} = calen.{cal_servId} \"\n",
    "        \"WHERE calen.{_date} = {day}\"\n",
    "    \") AS foo GROUP BY {t_tripId}) AS foo2\"\n",
    ").format(\n",
    "    t_tripId   = GTFS_SCHEMA[\"TRIPS\"][\"TRIP\"],\n",
    "    stopid     = GTFS_SCHEMA[\"STOP_TIMES\"][\"STOP\"],\n",
    "    stopSq     = GTFS_SCHEMA[\"STOP_TIMES\"][\"SEQUENCE\"],\n",
    "    depTime    = GTFS_SCHEMA[\"STOP_TIMES\"][\"DEPARTURE\"],\n",
    "    tripsT     = GTFS_SCHEMA[\"TRIPS\"][\"TNAME\"],\n",
    "    stopTimesT = GTFS_SCHEMA[\"STOP_TIMES\"][\"TNAME\"],\n",
    "    st_tripId  = GTFS_SCHEMA[\"STOP_TIMES\"][\"TRIP\"],\n",
    "    calenTbl   = GTFS_SCHEMA[\"CALENDAR\"][\"TNAME\"],\n",
    "    servId     = GTFS_SCHEMA[\"TRIPS\"][\"SERVICE\"],\n",
    "    cal_servId = GTFS_SCHEMA[\"CALENDAR\"][\"SERVICE\"],\n",
    "    _date      = GTFS_SCHEMA[\"CALENDAR\"][\"DATE\"],\n",
    "    day        = str(GTFS_DAY),\n",
    "    valday     = valbycirc_dia\n",
    ")\n",
    "\n",
    "select_trips = create_table_by_query(conGTFS, \"trips_that_day\", q)"
   ]
  },
  {
   "cell_type": "code",
   "execution_count": null,
   "metadata": {},
   "outputs": [],
   "source": [
    "onGoing.append(select_trips)"
   ]
  },
  {
   "cell_type": "code",
   "execution_count": null,
   "metadata": {},
   "outputs": [],
   "source": [
    "# Get TRIPS not in valbycirc_table in the valbycirc_dia\n",
    "\n",
    "q = (\n",
    "    \"SELECT all_trips.*, {tbl_meta}.{roumeta}, \"\n",
    "    \"{tbl_meta}.{lng_name},  {tbl_meta}.{desc} \"\n",
    "    \"FROM {tbl_all} AS all_trips \"\n",
    "    \"LEFT JOIN {tbl_val} AS cls_trips \"\n",
    "    \"ON all_trips.{all_tripid} = cls_trips.{val_tripid} \"\n",
    "    \"AND all_trips.circ_day = cls_trips.{day} \"\n",
    "    \"INNER JOIN {tbl_meta} ON \"\n",
    "    \"all_trips.{all_tripid} = {tbl_meta}.{meta_tripid} \"\n",
    "    \"WHERE cls_trips.{val_tripid} IS NULL\"\n",
    ").format(\n",
    "    tbl_meta   = GTFS_SCHEMA[\"TRIPS_META\"][\"TNAME\"],\n",
    "    roumeta    = GTFS_SCHEMA[\"TRIPS_META\"][\"FID_ROUTE\"],\n",
    "    lng_name   = GTFS_SCHEMA[\"TRIPS_META\"][\"LONG_NAME\"],\n",
    "    tbl_all    = select_trips,\n",
    "    tbl_val    = valbycirc,\n",
    "    all_tripid = GTFS_SCHEMA[\"TRIPS\"][\"TRIP\"],\n",
    "    val_tripid = valbycirc_trip,\n",
    "    day        = valbycirc_diacol,\n",
    "    meta_tripid= GTFS_SCHEMA[\"TRIPS_META\"][\"TRIP\"],\n",
    "    desc       = GTFS_SCHEMA[\"TRIPS_META\"][\"DESCRIPTION\"]\n",
    ")\n",
    "\n",
    "tripsNotIn = create_table_by_query(conGTFS, \"trips_not_in\", q)"
   ]
  },
  {
   "cell_type": "code",
   "execution_count": null,
   "metadata": {},
   "outputs": [],
   "source": [
    "onGoing.append(tripsNotIn)"
   ]
  },
  {
   "cell_type": "code",
   "execution_count": null,
   "metadata": {},
   "outputs": [],
   "source": [
    "# Export Result\n",
    "\n",
    "trips_not_in = sql_to_pandas(\n",
    "    conGTFS, (\n",
    "        \"SELECT notin.*, cls.{} FROM {} AS notin \"\n",
    "        \"LEFT JOIN {} AS cls \"\n",
    "        \"ON notin.{} = cls.{}\"\n",
    "        \"{}\"\n",
    "    ).format(\n",
    "        nentrances, tripsNotIn, valbycircErrors,\n",
    "        valbycirc_trip,\n",
    "        valbycirc_ns_trip,\n",
    "        \"\" if not filterRoute else \" WHERE {}\".format(\" OR \".join([\n",
    "            \"notin.{}='{}'\".format(\n",
    "                GTFS_SCHEMA[\"TRIPS_META\"][\"FID_ROUTE\"], x\n",
    "            ) for x in filterRoute\n",
    "        ]))\n",
    "    )\n",
    ")"
   ]
  },
  {
   "cell_type": "code",
   "execution_count": null,
   "metadata": {},
   "outputs": [],
   "source": [
    "trips_not_in[\"start_time\"] = trips_not_in[\"start_time\"].astype(str)\n",
    "trips_not_in[\"end_time\"] = trips_not_in[\"end_time\"].astype(str)\n",
    "trips_not_in[\"circ_day\"] = trips_not_in[\"circ_day\"].astype(str)\n",
    "trips_not_in[\"stops\"] = trips_not_in[\"stops\"].astype(str)\n",
    "trips_not_in[\"order_\"] = trips_not_in[\"order_\"].astype(str)"
   ]
  },
  {
   "cell_type": "code",
   "execution_count": null,
   "metadata": {},
   "outputs": [],
   "source": [
    "trips_not_in[\"start_time\"] = trips_not_in[\"start_time\"].str[:-6]\n",
    "trips_not_in[\"end_time\"] = trips_not_in[\"end_time\"].str[:-6]"
   ]
  },
  {
   "cell_type": "code",
   "execution_count": null,
   "metadata": {},
   "outputs": [],
   "source": [
    "dataframe_to_xls(trips_not_in, report_table)"
   ]
  },
  {
   "cell_type": "code",
   "execution_count": null,
   "metadata": {},
   "outputs": [],
   "source": [
    "del_tables(conGTFS, onGoing)"
   ]
  },
  {
   "cell_type": "code",
   "execution_count": null,
   "metadata": {},
   "outputs": [],
   "source": [
    "# TRIPS NOT IN TO Pandas\n",
    "\n",
    "trips_not_in = sql_to_pandas(\n",
    "    conGTFS, \"SELECT * FROM {}{}\".format(\n",
    "        tripsNotIn,\n",
    "        \"\" if not filterRoute else \" WHERE {}\".format(\" OR \".join([\n",
    "            \"{}='{}'\".format(\n",
    "                GTFS_SCHEMA[\"TRIPS_META\"][\"FID_ROUTE\"], x\n",
    "            ) for x in filterRoute\n",
    "        ]))\n",
    "    )\n",
    ")"
   ]
  },
  {
   "cell_type": "code",
   "execution_count": null,
   "metadata": {},
   "outputs": [],
   "source": [
    "print trips_not_in"
   ]
  },
  {
   "cell_type": "code",
   "execution_count": null,
   "metadata": {},
   "outputs": [],
   "source": [
    "def count_bus_entrances(row):\n",
    "    stops__ = list(row.stops)\n",
    "    \n",
    "    q = (\n",
    "        \"SELECT COUNT(*) \"\n",
    "        \"FROM {valtbl} \"\n",
    "        \"WHERE TO_TIMESTAMP({valDay} || ' ' || {valHour}, 'YYYY-MM-DD HH24:MI:SS') \"\n",
    "        \"> TO_TIMESTAMP('{startTime}', 'YYYY-MM-DD HH24:MI:SS') AND \"\n",
    "        \"TO_TIMESTAMP({valDay} || ' ' || {valHour}, 'YYYY-MM-DD HH24:MI:SS') \"\n",
    "        \"< TO_TIMESTAMP('{endTime}', 'YYYY-MM-DD HH24:MI:SS') \"\n",
    "        \"AND {routeCol} = '{routeId}' AND ({stops})\"\n",
    "    ).format(\n",
    "        valtbl    = GTFS_SCHEMA[\"ENTRANCES\"][\"TNAME\"],\n",
    "        valDay    = GTFS_SCHEMA[\"ENTRANCES\"][\"DAY\"],\n",
    "        valHour   = GTFS_SCHEMA[\"ENTRANCES\"][\"TIME\"],\n",
    "        startTime = row.start_time,\n",
    "        endTime   = row.end_time,\n",
    "        routeCol  = GTFS_SCHEMA[\"ENTRANCES\"][\"FID_ROUTE\"],\n",
    "        routeId   = row[GTFS_SCHEMA[\"TRIPS_META\"][\"FID_ROUTE\"]],\n",
    "        stops     = \" OR \".join([\n",
    "            \"{}={}\".format(\n",
    "                GTFS_SCHEMA[\"ENTRANCES\"][\"STOP\"], x\n",
    "            ) for x in stops__\n",
    "        ])\n",
    "    )\n",
    "    \n",
    "    nval = sql_query(conGTFS, q)[0][0]\n",
    "    \n",
    "    row[\"nval\"] = nval\n",
    "    \n",
    "    return row"
   ]
  },
  {
   "cell_type": "code",
   "execution_count": null,
   "metadata": {},
   "outputs": [],
   "source": [
    "trips_not_in = trips_not_in.apply(lambda x: count_bus_entrances(x), axis=1)"
   ]
  },
  {
   "cell_type": "code",
   "execution_count": null,
   "metadata": {},
   "outputs": [],
   "source": [
    "print trips_not_in"
   ]
  }
 ],
 "metadata": {
  "kernelspec": {
   "display_name": "Python 3 (ipykernel)",
   "language": "python",
   "name": "python3"
  },
  "language_info": {
   "codemirror_mode": {
    "name": "ipython",
    "version": 3
   },
   "file_extension": ".py",
   "mimetype": "text/x-python",
   "name": "python",
   "nbconvert_exporter": "python",
   "pygments_lexer": "ipython3",
   "version": "3.8.10"
  }
 },
 "nbformat": 4,
 "nbformat_minor": 4
}
