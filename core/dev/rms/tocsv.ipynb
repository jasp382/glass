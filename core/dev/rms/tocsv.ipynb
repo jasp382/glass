{
 "cells": [
  {
   "cell_type": "code",
   "execution_count": null,
   "id": "00cc91bc-0679-4bed-a1d4-115f8c5d3a9f",
   "metadata": {},
   "outputs": [],
   "source": [
    "shp = '/mnt/d/mystuff/rms/admin_data/freg_rpms_v6.shp'\n",
    "\n",
    "cols = {\n",
    "    'dstidosos' : {\n",
    "        \"shpcols\" : {'uid' : 'id'},\n",
    "        \"constants\" : {\"ano\" : '2021', \"id_indicator\" : 'AG_IDOSOS'},\n",
    "        \"valcol\" : \"valor\",\n",
    "        \"csv\" : \"ag_idosos_freg\"\n",
    "    },\n",
    "    'dstcreche' : {\n",
    "        \"shpcols\" : {'uid' : 'id'},\n",
    "        \"constants\" : {\"ano\" : '2021', \"id_indicator\" : 'AG_CRECHE'},\n",
    "        \"valcol\" : \"valor\",\n",
    "        \"csv\" : \"ag_creche_freg\"\n",
    "    },\n",
    "    'distevu' : {\n",
    "        \"shpcols\" : {'uid' : 'id'},\n",
    "        \"constants\" : {\"ano\" : '2021', \"id_indicator\" : 'AG_VERDE'},\n",
    "        \"valcol\" : \"valor\",\n",
    "        \"csv\" : \"ag_verde_freg\"\n",
    "    },\n",
    "    'disthsp' : {\n",
    "        \"shpcols\" : {'uid' : 'id'},\n",
    "        \"constants\" : {\"ano\" : '2021', \"id_indicator\" : 'AG_H'},\n",
    "        \"valcol\" : \"valor\",\n",
    "        \"csv\" : \"ag_h_freg\"\n",
    "    },\n",
    "}\n",
    "\n",
    "ofolder = '/mnt/d/mystuff/rms/i/'"
   ]
  },
  {
   "cell_type": "code",
   "execution_count": null,
   "id": "5f607831-c30f-4145-8758-9d9cdcaad632",
   "metadata": {},
   "outputs": [],
   "source": [
    "import os\n",
    "import pandas as pd\n",
    "from glass.rd.shp import shp_to_obj\n",
    "from glass.wt import obj_to_tbl"
   ]
  },
  {
   "cell_type": "code",
   "execution_count": null,
   "id": "decdfad7-1fd5-4eb9-8dc9-8e0dcf9a3c43",
   "metadata": {},
   "outputs": [],
   "source": [
    "# Open Shapefile\n",
    "\n",
    "gdf = shp_to_obj(shp)"
   ]
  },
  {
   "cell_type": "code",
   "execution_count": null,
   "id": "cb1f1bbd-0fb8-4f95-b773-495ceca3b97c",
   "metadata": {},
   "outputs": [],
   "source": [
    "for k in cols:\n",
    "    # Copy Dataframe\n",
    "    csv_df = gdf.copy(deep=True)\n",
    "    \n",
    "    # Place constants\n",
    "    for c in cols[k]['constants']:\n",
    "        csv_df[c] = cols[k]['constants'][c] \n",
    "    \n",
    "    # Delete columns\n",
    "    mcols = [k] + list(\n",
    "        cols[k]['constants'].keys()\n",
    "    ) + list(cols[k]['shpcols'].keys())\n",
    "    dcols = [c for c in csv_df.columns.values if c not in mcols]\n",
    "    csv_df.drop(dcols, axis=1, inplace=True)\n",
    "    \n",
    "    # Rename columns\n",
    "    cols[k]['shpcols'][k] = cols[k]['valcol']\n",
    "    csv_df.rename(columns=cols[k]['shpcols'], inplace=True)\n",
    "    \n",
    "    # Round\n",
    "    csv_df[cols[k]['valcol']] = csv_df[cols[k]['valcol']].round(decimals=5)\n",
    "    \n",
    "    # To CSV\n",
    "    csv_df = pd.DataFrame(csv_df)\n",
    "    obj_to_tbl(csv_df, os.path.join(ofolder, f\"{cols[k]['csv']}.csv\"), delimiter=';')"
   ]
  },
  {
   "cell_type": "code",
   "execution_count": null,
   "id": "4a1e7470-a6d5-4cbe-a36b-2a2775127532",
   "metadata": {},
   "outputs": [],
   "source": []
  }
 ],
 "metadata": {
  "kernelspec": {
   "display_name": "Python 3 (ipykernel)",
   "language": "python",
   "name": "python3"
  },
  "language_info": {
   "codemirror_mode": {
    "name": "ipython",
    "version": 3
   },
   "file_extension": ".py",
   "mimetype": "text/x-python",
   "name": "python",
   "nbconvert_exporter": "python",
   "pygments_lexer": "ipython3",
   "version": "3.10.4"
  }
 },
 "nbformat": 4,
 "nbformat_minor": 5
}
