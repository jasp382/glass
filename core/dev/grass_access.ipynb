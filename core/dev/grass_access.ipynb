{
 "cells": [
  {
   "cell_type": "markdown",
   "id": "a5042483-fdf5-4b73-b06f-08c46aef4dc7",
   "metadata": {},
   "source": [
    "### Implement Closest Facility using GRASS GIS"
   ]
  },
  {
   "cell_type": "code",
   "execution_count": null,
   "id": "9b72e3a2-fb05-4f70-a71f-a076b73e6b2b",
   "metadata": {},
   "outputs": [],
   "source": [
    "import os\n",
    "\n",
    "from glass.pys.oss import fprop\n",
    "from glass.wenv.grs import run_grass"
   ]
  },
  {
   "cell_type": "code",
   "execution_count": null,
   "id": "d6258d66-e407-4573-90d5-8a1cb79155c4",
   "metadata": {},
   "outputs": [],
   "source": [
    "rdv = '/home/ubuntu/mystuff/tp_goncalo/rdv.shp'\n",
    "\n",
    "incidents = '/home/ubuntu/tp_goncalo/BGRI2011_0603_FeatureToPoint.shp'\n",
    "facilities = '/home/ubuntu/tp_goncalo/Escolas.shp'\n",
    "\n",
    "output = '/home/ubuntu/mystuff/tp_goncalo/cf_bgri_escolas.shp'"
   ]
  },
  {
   "cell_type": "code",
   "execution_count": null,
   "id": "2707b2bc-c5c3-4912-9184-ffa7a61bab4e",
   "metadata": {},
   "outputs": [],
   "source": [
    "# Start GRASS GIS Session\n",
    "\n",
    "ws = os.path.dirname(output)\n",
    "loc = f\"loc_{fprop(output, 'fn')}\"\n",
    "\n",
    "gb = run_grass(ws, location=loc, srs=rdv)\n",
    "\n",
    "import grass.script.setup as gsetup\n",
    "\n",
    "gsetup.init(gb, ws, loc, 'PERMANENT')"
   ]
  },
  {
   "cell_type": "code",
   "execution_count": null,
   "id": "a22042c3-b8c2-436b-9563-e6921f054b7f",
   "metadata": {},
   "outputs": [],
   "source": [
    "from glass.it.shp import shp_to_grs, grs_to_shp\n",
    "from glass.mob.grstbx.vnet import pnts_to_net"
   ]
  },
  {
   "cell_type": "code",
   "execution_count": null,
   "id": "391f0e02-d0d7-4c4e-b8c9-7ce543237516",
   "metadata": {},
   "outputs": [],
   "source": [
    "rdvgrs = shp_to_grs(rdv, fprop(rdv, 'fn'))\n",
    "\n",
    "igrs = shp_to_grs(incidents, 'incidents')\n",
    "fgrs = shp_to_grs(facilities, 'facilities')"
   ]
  },
  {
   "cell_type": "code",
   "execution_count": null,
   "id": "01ae256b-b4a4-430c-9518-b692e8d8b398",
   "metadata": {},
   "outputs": [],
   "source": [
    "i_rdv = pnts_to_net(rdvgrs, igrs, 'rdv_incidents', ascmd=True)\n",
    "\n",
    "if_rdv = pnts_to_net(i_rdv, fgrs, 'rdv_incfac', ascmd=True)"
   ]
  },
  {
   "cell_type": "code",
   "execution_count": null,
   "id": "f5512f6d-6610-4144-8b08-bf93c937f595",
   "metadata": {},
   "outputs": [],
   "source": [
    "grs_to_shp(if_rdv, os.path.join(ws, loc, f\"{if_rdv}_1.shp\"), \"line\", lyrn=1)\n",
    "grs_to_shp(if_rdv, os.path.join(ws, loc, f\"{if_rdv}_1.shp\"), \"point\", lyrn=2)\n",
    "grs_to_shp(if_rdv, os.path.join(ws, loc, f\"{if_rdv}_1.shp\"), \"point\", lyrn=3)"
   ]
  }
 ],
 "metadata": {
  "kernelspec": {
   "display_name": "Python 3 (ipykernel)",
   "language": "python",
   "name": "python3"
  },
  "language_info": {
   "codemirror_mode": {
    "name": "ipython",
    "version": 3
   },
   "file_extension": ".py",
   "mimetype": "text/x-python",
   "name": "python",
   "nbconvert_exporter": "python",
   "pygments_lexer": "ipython3",
   "version": "3.8.10"
  }
 },
 "nbformat": 4,
 "nbformat_minor": 5
}
