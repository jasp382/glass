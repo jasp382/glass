{
 "cells": [
  {
   "cell_type": "markdown",
   "id": "intermediate-agenda",
   "metadata": {},
   "source": [
    "## Goal - Points to Lines"
   ]
  },
  {
   "cell_type": "code",
   "execution_count": null,
   "id": "continuous-prescription",
   "metadata": {},
   "outputs": [],
   "source": [
    "import geopandas as gp\n",
    "from osgeo import ogr\n",
    "import os\n",
    "from pycode.prj import get_shp_sref\n",
    "from pycode.geofiles import drv_name"
   ]
  },
  {
   "cell_type": "code",
   "execution_count": null,
   "id": "increased-alert",
   "metadata": {},
   "outputs": [],
   "source": [
    "pntshp = '/mnt/d/mystuff/pwgis/mod1_dm2/roads_pnt.shp'\n",
    "lnhshp = '/mnt/d/mystuff/pwgis/mod1_dm2/roads_lnh.shp'\n",
    "\n",
    "fid_field = 'ofid'\n",
    "pnt_order = 'cpnt'"
   ]
  },
  {
   "cell_type": "code",
   "execution_count": null,
   "id": "focal-conducting",
   "metadata": {},
   "outputs": [],
   "source": [
    "# Open Dataset\n",
    "\n",
    "pntdf = gp.read_file(pntshp)"
   ]
  },
  {
   "cell_type": "code",
   "execution_count": null,
   "id": "bizarre-referral",
   "metadata": {},
   "outputs": [],
   "source": [
    "# Open Input\n",
    "pnt_data = ogr.GetDriverByName(drv_name(pntshp)).Open(pntshp)\n",
    "    \n",
    "pnt_lyr = pnt_data.GetLayer()\n",
    "\n",
    "# Get SRS for the output\n",
    "srs = get_shp_sref(pnt_lyr)\n",
    "\n",
    "# Create output\n",
    "lnh_data = ogr.GetDriverByName(\n",
    "    drv_name(lnhshp)).CreateDataSource(lnhshp)\n",
    "    \n",
    "lnh_lyr = lnh_data.CreateLayer(\n",
    "    os.path.splitext(os.path.basename(lnhshp))[0],\n",
    "    srs, geom_type=ogr.wkbLineString\n",
    ")\n",
    "\n",
    "# Copy fields from input to output\n",
    "in_defn = pnt_lyr.GetLayerDefn()\n",
    "\n",
    "field_names = []\n",
    "for i in range(0, in_defn.GetFieldCount()):\n",
    "    fdefn = in_defn.GetFieldDefn(i)\n",
    "    name = fdefn.name\n",
    "    \n",
    "    if name != fid_field and name != pnt_order:\n",
    "        lnh_lyr.CreateField(fdefn)\n",
    "        field_names.append(name)\n",
    "\n",
    "# Write data\n",
    "feats = pntdf[fid_field].unique()"
   ]
  },
  {
   "cell_type": "code",
   "execution_count": null,
   "id": "perceived-device",
   "metadata": {},
   "outputs": [],
   "source": [
    "lnh_lyr_defn = lnh_lyr.GetLayerDefn()\n",
    "for feat in feats:\n",
    "    fdf = pntdf[pntdf[fid_field] == feat]\n",
    "    \n",
    "    fdf.sort_values(by=[pnt_order], inplace=True)\n",
    "    \n",
    "    # Create line geometry\n",
    "    geom = ogr.Geometry(ogr.wkbLineString)\n",
    "    \n",
    "    # Create new feature\n",
    "    n_feat = ogr.Feature(lnh_lyr_defn)\n",
    "    \n",
    "    i = 0\n",
    "    for idx, pnt in fdf.iterrows():\n",
    "        pnt_geom = ogr.CreateGeometryFromWkt(pnt.geometry.wkt)\n",
    "        \n",
    "        geom.AddPoint(pnt_geom.GetX(), pnt_geom.GetY())\n",
    "        \n",
    "        if not i:\n",
    "            for f in field_names:\n",
    "                n_feat.SetField(f, pnt[f])\n",
    "            \n",
    "            i += 1\n",
    "    \n",
    "    n_feat.SetGeometry(geom)\n",
    "            \n",
    "    lnh_lyr.CreateFeature(n_feat)\n",
    "            \n",
    "    n_feat.Destroy()\n",
    "\n",
    "del lnh_lyr\n",
    "del pnt_lyr\n",
    "\n",
    "pnt_data.Destroy()\n",
    "lnh_data.Destroy()"
   ]
  },
  {
   "cell_type": "code",
   "execution_count": null,
   "id": "former-princess",
   "metadata": {},
   "outputs": [],
   "source": [
    "print(feats)"
   ]
  },
  {
   "cell_type": "code",
   "execution_count": null,
   "id": "normal-framework",
   "metadata": {},
   "outputs": [],
   "source": []
  }
 ],
 "metadata": {
  "kernelspec": {
   "display_name": "Python 3 (ipykernel)",
   "language": "python",
   "name": "python3"
  },
  "language_info": {
   "codemirror_mode": {
    "name": "ipython",
    "version": 3
   },
   "file_extension": ".py",
   "mimetype": "text/x-python",
   "name": "python",
   "nbconvert_exporter": "python",
   "pygments_lexer": "ipython3",
   "version": "3.8.10"
  }
 },
 "nbformat": 4,
 "nbformat_minor": 5
}
