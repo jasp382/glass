{
 "cells": [
  {
   "cell_type": "code",
   "execution_count": 1,
   "id": "moved-officer",
   "metadata": {},
   "outputs": [],
   "source": [
    "\"\"\"\n",
    "GRASS GIS example\n",
    "\"\"\"\n",
    "\n",
    "\n",
    "obspoints = '/home/useriam/pwgis/geodata/mod2demo/obspoints.shp'\n",
    "mdtraster = '/home/useriam/pwgis/geodata/mod2demo/mdt.tif'\n",
    "outvis    = '/home/useriam/pwgis/geodata/mod2demo/visibility.tif'"
   ]
  },
  {
   "cell_type": "code",
   "execution_count": 2,
   "id": "literary-favor",
   "metadata": {},
   "outputs": [],
   "source": [
    "import geopandas as gp\n",
    "import os\n",
    "from pycode.wenv import run_grass"
   ]
  },
  {
   "cell_type": "code",
   "execution_count": 6,
   "id": "cordless-sacrifice",
   "metadata": {},
   "outputs": [
    {
     "data": {
      "text/plain": [
       "'/tmp/tmp2ze2efkt'"
      ]
     },
     "execution_count": 6,
     "metadata": {},
     "output_type": "execute_result"
    }
   ],
   "source": [
    "# Create GRASS GIS Location\n",
    "workspace = os.path.dirname(outvis)\n",
    "location  = 'loc_' + os.path.splitext(os.path.basename(outvis))[0]\n",
    "\n",
    "gbase = run_grass(workspace, location=location, srs=mdtraster)\n",
    "\n",
    "# Start GRASS GIS Session\n",
    "\n",
    "import grass.script.setup as gsetup\n",
    "gsetup.init(gbase, workspace, location, 'PERMANENT')"
   ]
  },
  {
   "cell_type": "code",
   "execution_count": 7,
   "id": "macro-bargain",
   "metadata": {},
   "outputs": [],
   "source": [
    "from pycode.grstools import rst_to_grs\n",
    "from pycode.grstools import grs_viewshed\n",
    "from pycode.grstools import rstcalc\n",
    "from pycode.grstools import grs_to_rst"
   ]
  },
  {
   "cell_type": "code",
   "execution_count": 8,
   "id": "statutory-ceremony",
   "metadata": {},
   "outputs": [],
   "source": [
    "# Add DEM to GRASS GIS workspace\n",
    "\n",
    "grsdem = rst_to_grs(mdtraster, 'dem')\n",
    "\n",
    "# Read Observation Points Shape\n",
    "points = gp.read_file(obspoints)"
   ]
  },
  {
   "cell_type": "code",
   "execution_count": 9,
   "id": "corporate-shirt",
   "metadata": {},
   "outputs": [
    {
     "data": {
      "text/html": [
       "<div>\n",
       "<style scoped>\n",
       "    .dataframe tbody tr th:only-of-type {\n",
       "        vertical-align: middle;\n",
       "    }\n",
       "\n",
       "    .dataframe tbody tr th {\n",
       "        vertical-align: top;\n",
       "    }\n",
       "\n",
       "    .dataframe thead th {\n",
       "        text-align: right;\n",
       "    }\n",
       "</style>\n",
       "<table border=\"1\" class=\"dataframe\">\n",
       "  <thead>\n",
       "    <tr style=\"text-align: right;\">\n",
       "      <th></th>\n",
       "      <th>Id</th>\n",
       "      <th>geometry</th>\n",
       "    </tr>\n",
       "  </thead>\n",
       "  <tbody>\n",
       "    <tr>\n",
       "      <th>0</th>\n",
       "      <td>0</td>\n",
       "      <td>POINT (309107.568 3623001.351)</td>\n",
       "    </tr>\n",
       "    <tr>\n",
       "      <th>1</th>\n",
       "      <td>0</td>\n",
       "      <td>POINT (312219.730 3622760.000)</td>\n",
       "    </tr>\n",
       "    <tr>\n",
       "      <th>2</th>\n",
       "      <td>0</td>\n",
       "      <td>POINT (310581.081 3620638.649)</td>\n",
       "    </tr>\n",
       "    <tr>\n",
       "      <th>3</th>\n",
       "      <td>0</td>\n",
       "      <td>POINT (311140.000 3623928.649)</td>\n",
       "    </tr>\n",
       "    <tr>\n",
       "      <th>4</th>\n",
       "      <td>0</td>\n",
       "      <td>POINT (313845.676 3623814.324)</td>\n",
       "    </tr>\n",
       "  </tbody>\n",
       "</table>\n",
       "</div>"
      ],
      "text/plain": [
       "   Id                        geometry\n",
       "0   0  POINT (309107.568 3623001.351)\n",
       "1   0  POINT (312219.730 3622760.000)\n",
       "2   0  POINT (310581.081 3620638.649)\n",
       "3   0  POINT (311140.000 3623928.649)\n",
       "4   0  POINT (313845.676 3623814.324)"
      ]
     },
     "execution_count": 9,
     "metadata": {},
     "output_type": "execute_result"
    }
   ],
   "source": [
    "points"
   ]
  },
  {
   "cell_type": "code",
   "execution_count": 10,
   "id": "activated-inventory",
   "metadata": {},
   "outputs": [],
   "source": [
    "visibilities = []\n",
    "for idx, row in points.iterrows():\n",
    "    # Produce viewshed raster\n",
    "    vrst = grs_viewshed(\n",
    "        grsdem, (row.geometry.x, row.geometry.y),\n",
    "        f\"visrst_{str(idx)}\",\n",
    "        max_dist=10000\n",
    "    )\n",
    "    visibilities.append(vrst)"
   ]
  },
  {
   "cell_type": "code",
   "execution_count": 11,
   "id": "demographic-berlin",
   "metadata": {},
   "outputs": [
    {
     "name": "stdout",
     "output_type": "stream",
     "text": [
      "['visrst_0', 'visrst_1', 'visrst_2', 'visrst_3', 'visrst_4']\n",
      "visrst_0 + visrst_1 + visrst_2 + visrst_3 + visrst_4\n"
     ]
    }
   ],
   "source": [
    "print(visibilities)\n",
    "print(\" + \".join(visibilities))"
   ]
  },
  {
   "cell_type": "code",
   "execution_count": 13,
   "id": "relevant-snapshot",
   "metadata": {},
   "outputs": [
    {
     "name": "stdout",
     "output_type": "stream",
     "text": [
      "visrst_0 + visrst_1 + visrst_2 + visrst_3 + visrst_4\n"
     ]
    }
   ],
   "source": [
    "name = visibilities[0]\n",
    "for i in range(1, len(visibilities)):\n",
    "    name = name + ' + ' + visibilities[i]\n",
    "print(name)"
   ]
  },
  {
   "cell_type": "code",
   "execution_count": 14,
   "id": "better-update",
   "metadata": {},
   "outputs": [],
   "source": [
    "# Sum all visibility rasters\n",
    "fraster = rstcalc(\" + \".join(visibilities), 'joinvis')"
   ]
  },
  {
   "cell_type": "code",
   "execution_count": 15,
   "id": "olympic-columbus",
   "metadata": {},
   "outputs": [
    {
     "data": {
      "text/plain": [
       "'/home/useriam/pwgis/geodata/mod2demo/visibility.tif'"
      ]
     },
     "execution_count": 15,
     "metadata": {},
     "output_type": "execute_result"
    }
   ],
   "source": [
    "# Export result\n",
    "grs_to_rst(fraster, outvis)"
   ]
  },
  {
   "cell_type": "code",
   "execution_count": 16,
   "id": "center-intelligence",
   "metadata": {},
   "outputs": [],
   "source": [
    "# Export all temp files\n",
    "\n",
    "for r in visibilities:\n",
    "    grs_to_rst(r, os.path.join(workspace, r + '.tif'))"
   ]
  },
  {
   "cell_type": "code",
   "execution_count": null,
   "id": "narrow-fellowship",
   "metadata": {},
   "outputs": [],
   "source": []
  }
 ],
 "metadata": {
  "kernelspec": {
   "display_name": "Python 3",
   "language": "python",
   "name": "python3"
  },
  "language_info": {
   "codemirror_mode": {
    "name": "ipython",
    "version": 3
   },
   "file_extension": ".py",
   "mimetype": "text/x-python",
   "name": "python",
   "nbconvert_exporter": "python",
   "pygments_lexer": "ipython3",
   "version": "3.6.9"
  }
 },
 "nbformat": 4,
 "nbformat_minor": 5
}
