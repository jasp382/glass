{
 "cells": [
  {
   "cell_type": "markdown",
   "id": "unable-smith",
   "metadata": {},
   "source": [
    "# GDAL examples"
   ]
  },
  {
   "cell_type": "code",
   "execution_count": null,
   "id": "worth-appeal",
   "metadata": {},
   "outputs": [],
   "source": [
    "\"\"\"\n",
    "Convert a raster file format to another raster format\n",
    "\"\"\"\n",
    "\n",
    "def rst_to_rst(inRst, outRst):\n",
    "    \n",
    "    from pycode.oss import execmd\n",
    "    from pycode.geofiles import drv_name\n",
    "    \n",
    "    outDrv = drv_name(outRst)\n",
    "    cmd = 'gdal_translate -of {drv} {_in} {_out}'.format(\n",
    "        drv=outDrv, _in=inRst, _out=outRst\n",
    "    )\n",
    "    \n",
    "    cmdout = execmd(cmd)\n",
    "    \n",
    "    return outRst\n",
    "\n",
    "in_raster = '/home/useriam/pwgis/geodata/mod1demo2/T29TNE_20200703T112119_B02_10m.tif'\n",
    "ou_raster = '/home/useriam/pwgis/geodata/mod1demo2/erdasimagine.img'\n",
    "\n",
    "rst_to_rst(in_raster, ou_raster)"
   ]
  },
  {
   "cell_type": "code",
   "execution_count": null,
   "id": "cardiac-celebrity",
   "metadata": {},
   "outputs": [],
   "source": [
    "\"\"\"\n",
    "Clip Analysis\n",
    "\"\"\"\n",
    "\n",
    "def clip(inFeat, clipFeat, outFeat):\n",
    "    import os\n",
    "    from pycode.oss import execmd\n",
    "    from pycode.geofiles import drv_name\n",
    "\n",
    "    rcmd = execmd((\n",
    "        \"ogr2ogr -f \\\"{}\\\" {} {} -clipsrc {} -clipsrclayer {}\"\n",
    "    ).format(\n",
    "        drv_name(outFeat), outFeat, inFeat, clipFeat,\n",
    "        os.path.splitext(os.path.basename(clipFeat))[0]\n",
    "    ))\n",
    "    \n",
    "    return outFeat\n",
    "\n",
    "in_shp   = '/home/useriam/pwgis/geodata/mod1demo2/roads.shp'\n",
    "clip_shp = '/home/useriam/pwgis/geodata/mod1demo2/urbano.shp'\n",
    "out_shp  = '/home/useriam/pwgis/geodata/mod1demo2/roads_urbano.shp'\n",
    "\n",
    "clip(in_shp, clip_shp, out_shp)"
   ]
  },
  {
   "cell_type": "code",
   "execution_count": null,
   "id": "random-recommendation",
   "metadata": {},
   "outputs": [],
   "source": []
  }
 ],
 "metadata": {
  "kernelspec": {
   "display_name": "Python 3 (ipykernel)",
   "language": "python",
   "name": "python3"
  },
  "language_info": {
   "codemirror_mode": {
    "name": "ipython",
    "version": 3
   },
   "file_extension": ".py",
   "mimetype": "text/x-python",
   "name": "python",
   "nbconvert_exporter": "python",
   "pygments_lexer": "ipython3",
   "version": "3.8.10"
  }
 },
 "nbformat": 4,
 "nbformat_minor": 5
}
