{
 "cells": [
  {
   "cell_type": "markdown",
   "id": "outstanding-living",
   "metadata": {},
   "source": [
    "## Goal - Extract Lines Vertex and put them in a new shapefile"
   ]
  },
  {
   "cell_type": "code",
   "execution_count": null,
   "id": "fleet-nylon",
   "metadata": {},
   "outputs": [],
   "source": [
    "import os\n",
    "from osgeo import ogr\n",
    "from pycode.geofiles import drv_name\n",
    "from pycode.prj import get_shp_sref"
   ]
  },
  {
   "cell_type": "code",
   "execution_count": null,
   "id": "adapted-weight",
   "metadata": {},
   "outputs": [],
   "source": [
    "inshp = '../geodata/mod1demo3/roads.shp'\n",
    "oushp = '../geodata/mod1demo3/roads_pnt.shp'"
   ]
  },
  {
   "cell_type": "code",
   "execution_count": null,
   "id": "authorized-rally",
   "metadata": {},
   "outputs": [],
   "source": [
    "# Open Input\n",
    "polyData = ogr.GetDriverByName(drv_name(inshp)).Open(inshp)\n",
    "    \n",
    "polyLyr = polyData.GetLayer()\n",
    "    \n",
    "# Get SRS for the output\n",
    "srs = get_shp_sref(polyLyr)\n",
    "    \n",
    "# Create Output\n",
    "pntData = ogr.GetDriverByName(\n",
    "    drv_name(oushp)).CreateDataSource(oushp)\n",
    "    \n",
    "pntLyr = pntData.CreateLayer(\n",
    "    os.path.splitext(os.path.basename(oushp))[0],\n",
    "    srs, geom_type=ogr.wkbPoint\n",
    ")\n",
    "    \n",
    "# Copy fields from input to output\n",
    "inDefn = polyLyr.GetLayerDefn()\n",
    "\n",
    "field_names = []\n",
    "for i in range(0, inDefn.GetFieldCount()):\n",
    "    fDefn = inDefn.GetFieldDefn(i)\n",
    "    pntLyr.CreateField(fDefn)\n",
    "    field_names.append(fDefn.name)\n",
    "\n",
    "# Create ofid and cpnt\n",
    "pntLyr.CreateField(ogr.FieldDefn(\"ofid\", ogr.OFTInteger))\n",
    "pntLyr.CreateField(ogr.FieldDefn(\"cpnt\", ogr.OFTInteger))\n",
    "    \n",
    "# Polyline Vertex to Point Feature Class\n",
    "pntLyrDefn = pntLyr.GetLayerDefn()\n",
    "for feat in polyLyr:\n",
    "    geom = feat.GetGeometryRef()\n",
    "        \n",
    "    # Get point count\n",
    "    nrPnt = geom.GetPointCount()\n",
    "        \n",
    "    # Add point to a new feature\n",
    "    for p in range(nrPnt):\n",
    "        x, y, z = geom.GetPoint(p)\n",
    "            \n",
    "        new_point = ogr.Geometry(ogr.wkbPoint)\n",
    "        new_point.AddPoint(x, y)\n",
    "            \n",
    "        new_feature = ogr.Feature(pntLyrDefn)\n",
    "        new_feature.SetGeometry(new_point)\n",
    "        \n",
    "        new_feature.SetField(\"ofid\", feat.GetFID())\n",
    "        new_feature.SetField(\"cpnt\", p)\n",
    "            \n",
    "        for f in field_names:\n",
    "            new_feature.SetField(f, feat.GetField(f))\n",
    "            \n",
    "        pntLyr.CreateFeature(new_feature)\n",
    "            \n",
    "        new_feature.Destroy()\n",
    "    \n",
    "del pntLyr\n",
    "del polyLyr\n",
    "pntData.Destroy()\n",
    "polyData.Destroy()"
   ]
  },
  {
   "cell_type": "code",
   "execution_count": null,
   "id": "bored-empire",
   "metadata": {},
   "outputs": [],
   "source": []
  }
 ],
 "metadata": {
  "kernelspec": {
   "display_name": "Python 3 (ipykernel)",
   "language": "python",
   "name": "python3"
  },
  "language_info": {
   "codemirror_mode": {
    "name": "ipython",
    "version": 3
   },
   "file_extension": ".py",
   "mimetype": "text/x-python",
   "name": "python",
   "nbconvert_exporter": "python",
   "pygments_lexer": "ipython3",
   "version": "3.8.10"
  }
 },
 "nbformat": 4,
 "nbformat_minor": 5
}
