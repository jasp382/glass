{
 "cells": [
  {
   "cell_type": "markdown",
   "id": "three-tours",
   "metadata": {},
   "source": [
    "## Goal - Merge several shapefiles using OGR2OGR\n",
    "##      - Project the result to PT-TM06/ETRS89"
   ]
  },
  {
   "cell_type": "code",
   "execution_count": null,
   "id": "frozen-retailer",
   "metadata": {},
   "outputs": [],
   "source": [
    "import os\n",
    "from osgeo import ogr\n",
    "from pycode.geofiles import drv_name, list_esri_shp\n",
    "from pycode.oss import execmd"
   ]
  },
  {
   "cell_type": "markdown",
   "id": "medieval-announcement",
   "metadata": {},
   "source": [
    "### Paths to data"
   ]
  },
  {
   "cell_type": "code",
   "execution_count": null,
   "id": "north-swaziland",
   "metadata": {},
   "outputs": [],
   "source": [
    "datafolder = '/mnt/d/mystuff/pwgis/mod1_ex2/'\n",
    "outfile    = '/mnt/d/mystuff/pwgis/mod1_ex2/results/altimerge_ogr.shp'"
   ]
  },
  {
   "cell_type": "markdown",
   "id": "secondary-dollar",
   "metadata": {},
   "source": [
    "## List all files in data folder"
   ]
  },
  {
   "cell_type": "code",
   "execution_count": null,
   "id": "statewide-religious",
   "metadata": {},
   "outputs": [],
   "source": [
    "shps = list_esri_shp(datafolder)"
   ]
  },
  {
   "cell_type": "code",
   "execution_count": null,
   "id": "invisible-packaging",
   "metadata": {},
   "outputs": [],
   "source": [
    "shps"
   ]
  },
  {
   "cell_type": "markdown",
   "id": "vulnerable-affairs",
   "metadata": {},
   "source": [
    "### Merge all shapefiles into one"
   ]
  },
  {
   "cell_type": "code",
   "execution_count": null,
   "id": "disabled-greensboro",
   "metadata": {},
   "outputs": [],
   "source": [
    "tmpshp = os.path.join(\n",
    "    os.path.dirname(outfile),\n",
    "    f'tmp_{os.path.basename(outfile)}'\n",
    ")\n",
    "\n",
    "out_drv = drv_name(tmpshp)\n",
    "\n",
    "for i in range(len(shps)):\n",
    "    if not i:\n",
    "        # Create output and copy some features of one layer (first in shps)\n",
    "        cmd = 'ogr2ogr -f \"{}\" {} {}'.format(\n",
    "            out_drv, tmpshp, os.path.join(datafolder, shps[i])\n",
    "        )\n",
    "    \n",
    "    else:\n",
    "        cmd = 'ogr2ogr -f \"{}\" -update -append {} {}'.format(\n",
    "            out_drv, tmpshp, os.path.join(datafolder, shps[i])\n",
    "        )\n",
    "        \n",
    "    cmdout = execmd(cmd)"
   ]
  },
  {
   "cell_type": "markdown",
   "id": "nutritional-precipitation",
   "metadata": {},
   "source": [
    "### Project to ETRS89"
   ]
  },
  {
   "cell_type": "code",
   "execution_count": null,
   "id": "engaged-leadership",
   "metadata": {},
   "outputs": [],
   "source": [
    "data = ogr.GetDriverByName(drv_name(tmpshp)).Open(tmpshp)\n",
    "\n",
    "lyr   = data.GetLayer() \n",
    "spref = lyr.GetSpatialRef()\n",
    "\n",
    "epsg = int(str(spref.GetAttrValue('AUTHORITY', 1)))\n",
    "print(epsg)\n",
    "\n",
    "cmd = 'ogr2ogr -f \"{}\" {} {} -s_srs EPSG:{} -t_srs EPSG:{}'.format(\n",
    "    drv_name(outfile), outfile, tmpshp,\n",
    "    str(epsg), str(3763)\n",
    ")\n",
    "\n",
    "outcmd = execmd(cmd)"
   ]
  }
 ],
 "metadata": {
  "kernelspec": {
   "display_name": "Python 3 (ipykernel)",
   "language": "python",
   "name": "python3"
  },
  "language_info": {
   "codemirror_mode": {
    "name": "ipython",
    "version": 3
   },
   "file_extension": ".py",
   "mimetype": "text/x-python",
   "name": "python",
   "nbconvert_exporter": "python",
   "pygments_lexer": "ipython3",
   "version": "3.8.10"
  }
 },
 "nbformat": 4,
 "nbformat_minor": 5
}
