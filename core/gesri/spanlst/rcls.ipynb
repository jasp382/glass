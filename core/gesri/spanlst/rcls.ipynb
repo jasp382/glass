{
 "cells": [
  {
   "cell_type": "code",
   "execution_count": 1,
   "metadata": {},
   "outputs": [
    {
     "data": {
      "text/plain": [
       "'C:\\\\gis\\\\EXT_CGI\\\\validation\\\\view\\\\evetn_0_lulc_0'"
      ]
     },
     "execution_count": 1,
     "metadata": {},
     "output_type": "execute_result"
    }
   ],
   "source": [
    "from glass.arcg.spanlst.rcls import rcls_folderRaster\n",
    "\n",
    "inFOLDER  = r'C:\\gis\\EXT_CGI\\validation\\view\\event_0_lulc_0_t'\n",
    "RULES     = {0 : 'NoData', 1 : 1}\n",
    "outFOLDER = r'C:\\gis\\EXT_CGI\\validation\\view\\evetn_0_lulc_0'\n",
    "\n",
    "rcls_folderRaster(inFOLDER, RULES, outFOLDER)"
   ]
  },
  {
   "cell_type": "code",
   "execution_count": null,
   "metadata": {},
   "outputs": [],
   "source": []
  }
 ],
 "metadata": {
  "kernelspec": {
   "display_name": "Python 2",
   "language": "python",
   "name": "python2"
  },
  "language_info": {
   "codemirror_mode": {
    "name": "ipython",
    "version": 2
   },
   "file_extension": ".py",
   "mimetype": "text/x-python",
   "name": "python",
   "nbconvert_exporter": "python",
   "pygments_lexer": "ipython2",
   "version": "2.7.13"
  }
 },
 "nbformat": 4,
 "nbformat_minor": 2
}
