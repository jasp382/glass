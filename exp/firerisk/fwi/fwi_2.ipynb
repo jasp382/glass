{
 "cells": [
  {
   "cell_type": "code",
   "execution_count": 1,
   "id": "6f64398a-26c1-4ad4-9d4d-0c80963bbee4",
   "metadata": {},
   "outputs": [
    {
     "name": "stderr",
     "output_type": "stream",
     "text": [
      "/home/yuri/.virtualenvs/firelocenv/lib/python3.10/site-packages/geopandas/_compat.py:112: UserWarning: The Shapely GEOS version (3.10.3-CAPI-1.16.1) is incompatible with the GEOS version PyGEOS was compiled with (3.10.4-CAPI-1.16.2). Conversions between both will be slow.\n",
      "  warnings.warn(\n"
     ]
    }
   ],
   "source": [
    "# import all packages to use in this project\n",
    "\n",
    "import os\n",
    "import pandas as pd\n",
    "import numpy as np\n",
    "import geopandas as gpd\n",
    "import json\n",
    "import glob\n",
    "import natsort\n",
    "import shutil\n",
    "from glom import glom"
   ]
  },
  {
   "cell_type": "code",
   "execution_count": 2,
   "id": "014deddc-9ff9-49c4-bdfd-ada2b5170450",
   "metadata": {},
   "outputs": [],
   "source": [
    "from glass.sql.db import create_pgdb\n",
    "from glass.sql.tbl import create_tbl\n",
    "from glass.dtt.mge.pd import merge_df\n",
    "from glass.rd.shp import shp_to_obj\n",
    "from glass.prop.sql import lst_tbl\n",
    "from glass.wt.sql import df_to_db"
   ]
  },
  {
   "cell_type": "code",
   "execution_count": 3,
   "id": "94c2a42a-06b0-42af-95dd-ff3f05946193",
   "metadata": {},
   "outputs": [],
   "source": [
    "###### Variáveis a serem alteradas ######\n",
    "\n",
    "stations = '/home/yuri/fireloc-system/firerisk/data/stations.geojson'\n",
    "observations = '/home/yuri/fireloc-system/firerisk/data/'\n",
    "portugal = '/home/yuri/fireloc-system/firerisk/data/caop_pt.shp'\n",
    "db = 'ipma2'\n",
    "\n",
    "#########################################"
   ]
  },
  {
   "cell_type": "code",
   "execution_count": 4,
   "id": "4bd3dfa9-bbfb-45c0-9f0d-39019ee8d954",
   "metadata": {
    "tags": []
   },
   "outputs": [],
   "source": [
    "datab = create_pgdb(db)"
   ]
  },
  {
   "cell_type": "code",
   "execution_count": 5,
   "id": "55b37a4c-8ebd-46d8-93a0-5f4f9298bab2",
   "metadata": {
    "tags": []
   },
   "outputs": [],
   "source": [
    "tbl_varia = {\n",
    "    'variavel' : {'id' : 'int', 'nome' : 'varchar(30)'}\n",
    "}"
   ]
  },
  {
   "cell_type": "code",
   "execution_count": 6,
   "id": "58500d43-3b16-4af7-9ed6-baa9699b610f",
   "metadata": {
    "tags": []
   },
   "outputs": [],
   "source": [
    "tbl_sta = {\n",
    "    'estacao': {'id' : 'int', 'idEstacao' : 'int', 'localEstacao' : 'varchar(80)', 'geom' : 'geometry'}\n",
    "}"
   ]
  },
  {
   "cell_type": "code",
   "execution_count": 7,
   "id": "e32899da-618f-4874-babf-eab384129a44",
   "metadata": {
    "tags": []
   },
   "outputs": [],
   "source": [
    "tbl_values = {\n",
    "    'valor' : {'id' : 'int', 'id_est' : 'int', 'id_var' : 'int', 'daytime' : 'varchar(20)', 'valor' : 'float'}\n",
    "}"
   ]
  },
  {
   "cell_type": "code",
   "execution_count": 8,
   "id": "0f7852da-b1b7-45e6-b958-cd5bd5065e0c",
   "metadata": {
    "tags": []
   },
   "outputs": [],
   "source": [
    "tbl_v = create_tbl(db, tbl_varia)"
   ]
  },
  {
   "cell_type": "code",
   "execution_count": 9,
   "id": "68911e3b-109d-4579-bea9-92781ed1d6db",
   "metadata": {
    "tags": []
   },
   "outputs": [],
   "source": [
    "tbl_e = create_tbl(db, tbl_sta)"
   ]
  },
  {
   "cell_type": "code",
   "execution_count": 10,
   "id": "d1060e58-dad2-4ff6-96d7-f13f73508b88",
   "metadata": {},
   "outputs": [],
   "source": [
    "tbl_vl = create_tbl(db, tbl_values)"
   ]
  },
  {
   "cell_type": "code",
   "execution_count": 11,
   "id": "67d2d7ec-b943-479b-8773-9b2476245d55",
   "metadata": {},
   "outputs": [],
   "source": [
    "pt = shp_to_obj(portugal)"
   ]
  },
  {
   "cell_type": "code",
   "execution_count": 12,
   "id": "3fcaebb3-2cc7-493d-8c3c-c66ca1612e73",
   "metadata": {},
   "outputs": [],
   "source": [
    "pt_dis = pt.unary_union"
   ]
  },
  {
   "cell_type": "code",
   "execution_count": 13,
   "id": "6dd02165-f2e1-4156-91a5-60ff7ebf0580",
   "metadata": {},
   "outputs": [],
   "source": [
    "pt_diss = gpd.GeoDataFrame(geometry=[pt_dis], crs = 'EPSG:3763')"
   ]
  },
  {
   "cell_type": "code",
   "execution_count": 14,
   "id": "a979cfc6-de13-41d6-8925-6fc3deac9158",
   "metadata": {},
   "outputs": [],
   "source": [
    "sdata = json.load(open(stations, 'r'))"
   ]
  },
  {
   "cell_type": "code",
   "execution_count": 15,
   "id": "6a2ac2db-5c99-4999-a9d8-69b2184a5ed5",
   "metadata": {},
   "outputs": [],
   "source": [
    "gjson = {\"type\": \"FeatureCollection\", \"features\" : sdata}"
   ]
  },
  {
   "cell_type": "code",
   "execution_count": 16,
   "id": "919de848-4f9a-4803-9034-aa329d3f0585",
   "metadata": {},
   "outputs": [],
   "source": [
    "sdf= gpd.GeoDataFrame.from_features(gjson, crs=\"EPSG:4326\").to_crs(3763)\n",
    "#sdf_crs = sdf.to_crs(3763)"
   ]
  },
  {
   "cell_type": "code",
   "execution_count": 17,
   "id": "e9c4c24d-ba4d-4870-a918-6e2ef8d27fdb",
   "metadata": {},
   "outputs": [],
   "source": [
    "sdf_pt = sdf.clip(pt_diss)"
   ]
  },
  {
   "cell_type": "code",
   "execution_count": 18,
   "id": "62c6e8c0-488e-4133-bd7d-3056a43f0faf",
   "metadata": {
    "tags": []
   },
   "outputs": [],
   "source": [
    "sdf_pt.index = np.arange(1, len(sdf_pt) + 1)"
   ]
  },
  {
   "cell_type": "code",
   "execution_count": 19,
   "id": "62ebe538-aba2-4c3a-a3bd-389947126cb9",
   "metadata": {},
   "outputs": [
    {
     "name": "stderr",
     "output_type": "stream",
     "text": [
      "/home/yuri/.virtualenvs/firelocenv/lib/python3.10/site-packages/geopandas/geodataframe.py:1472: SettingWithCopyWarning: \n",
      "A value is trying to be set on a copy of a slice from a DataFrame.\n",
      "Try using .loc[row_indexer,col_indexer] = value instead\n",
      "\n",
      "See the caveats in the documentation: https://pandas.pydata.org/pandas-docs/stable/user_guide/indexing.html#returning-a-view-versus-a-copy\n",
      "  super().__setitem__(key, value)\n"
     ]
    }
   ],
   "source": [
    "sdf_pt['id'] = sdf_pt.index"
   ]
  },
  {
   "cell_type": "code",
   "execution_count": 20,
   "id": "6170d0e7-3905-4715-9245-b0caaae03f77",
   "metadata": {
    "tags": []
   },
   "outputs": [],
   "source": [
    "variaveis = [\n",
    "    'intensidadeVentoKM', 'temperatura', 'radiacao', 'idDireccVento',\n",
    "    'precAcumulada', 'intensidadeVento', 'humidade', 'pressao'\n",
    "]"
   ]
  },
  {
   "cell_type": "code",
   "execution_count": 21,
   "id": "b74ee2ff-9aec-4768-b11d-3691c603fe42",
   "metadata": {},
   "outputs": [],
   "source": [
    "varlst = [[i + 1, variaveis[i]] for i in range(len(variaveis))]\n",
    "\n",
    "variaveis = pd.DataFrame(varlst, columns=['id', 'nome'])"
   ]
  },
  {
   "cell_type": "code",
   "execution_count": 22,
   "id": "d8a94303-fbae-4f16-b49f-c6d7e50078b3",
   "metadata": {
    "tags": []
   },
   "outputs": [],
   "source": [
    "obser = glob.glob(observations + '**.json')"
   ]
  },
  {
   "cell_type": "code",
   "execution_count": 26,
   "id": "bb1dd71f-af99-4750-91c0-26ff33275623",
   "metadata": {
    "tags": []
   },
   "outputs": [
    {
     "name": "stderr",
     "output_type": "stream",
     "text": [
      "/tmp/ipykernel_3179332/1127790736.py:59: SettingWithCopyWarning: \n",
      "A value is trying to be set on a copy of a slice from a DataFrame\n",
      "\n",
      "See the caveats in the documentation: https://pandas.pydata.org/pandas-docs/stable/user_guide/indexing.html#returning-a-view-versus-a-copy\n",
      "  fdf.drop('varid', axis=1, inplace=True)\n",
      "/tmp/ipykernel_3179332/1127790736.py:60: SettingWithCopyWarning: \n",
      "A value is trying to be set on a copy of a slice from a DataFrame\n",
      "\n",
      "See the caveats in the documentation: https://pandas.pydata.org/pandas-docs/stable/user_guide/indexing.html#returning-a-view-versus-a-copy\n",
      "  fdf.drop('idEstacao', axis=1, inplace=True)\n",
      "/tmp/ipykernel_3179332/1127790736.py:63: SettingWithCopyWarning: \n",
      "A value is trying to be set on a copy of a slice from a DataFrame.\n",
      "Try using .loc[row_indexer,col_indexer] = value instead\n",
      "\n",
      "See the caveats in the documentation: https://pandas.pydata.org/pandas-docs/stable/user_guide/indexing.html#returning-a-view-versus-a-copy\n",
      "  fdf['id'] = fdf.index\n"
     ]
    },
    {
     "name": "stdout",
     "output_type": "stream",
     "text": [
      "          id  id_var  id_est           daytime   valor\n",
      "1          1       1      54  2023-03-06T00:00     2.2\n",
      "2          2       1      63  2023-03-06T00:00     6.5\n",
      "3          3       1       1  2023-03-06T00:00     2.2\n",
      "4          4       1      49  2023-03-06T00:00     6.1\n",
      "5          5       1      48  2023-03-06T00:00     7.6\n",
      "...      ...     ...     ...               ...     ...\n",
      "25756  25756       8     105  2023-03-06T02:00   -99.0\n",
      "25757  25757       8      57  2023-03-06T02:00   -99.0\n",
      "25758  25758       8     138  2023-03-06T02:00   -99.0\n",
      "25759  25759       8      14  2023-03-06T02:00   -99.0\n",
      "25760  25760       8      16  2023-03-06T02:00  1015.9\n",
      "\n",
      "[25760 rows x 5 columns]\n"
     ]
    },
    {
     "name": "stderr",
     "output_type": "stream",
     "text": [
      "/tmp/ipykernel_3179332/1127790736.py:59: SettingWithCopyWarning: \n",
      "A value is trying to be set on a copy of a slice from a DataFrame\n",
      "\n",
      "See the caveats in the documentation: https://pandas.pydata.org/pandas-docs/stable/user_guide/indexing.html#returning-a-view-versus-a-copy\n",
      "  fdf.drop('varid', axis=1, inplace=True)\n",
      "/tmp/ipykernel_3179332/1127790736.py:60: SettingWithCopyWarning: \n",
      "A value is trying to be set on a copy of a slice from a DataFrame\n",
      "\n",
      "See the caveats in the documentation: https://pandas.pydata.org/pandas-docs/stable/user_guide/indexing.html#returning-a-view-versus-a-copy\n",
      "  fdf.drop('idEstacao', axis=1, inplace=True)\n",
      "/tmp/ipykernel_3179332/1127790736.py:63: SettingWithCopyWarning: \n",
      "A value is trying to be set on a copy of a slice from a DataFrame.\n",
      "Try using .loc[row_indexer,col_indexer] = value instead\n",
      "\n",
      "See the caveats in the documentation: https://pandas.pydata.org/pandas-docs/stable/user_guide/indexing.html#returning-a-view-versus-a-copy\n",
      "  fdf['id'] = fdf.index\n"
     ]
    },
    {
     "name": "stdout",
     "output_type": "stream",
     "text": [
      "          id  id_var  id_est           daytime   valor\n",
      "1          1       1      54  2023-03-06T00:00     2.2\n",
      "2          2       1      63  2023-03-06T00:00     6.5\n",
      "3          3       1       1  2023-03-06T00:00     2.2\n",
      "4          4       1      49  2023-03-06T00:00     6.1\n",
      "5          5       1      48  2023-03-06T00:00     7.6\n",
      "...      ...     ...     ...               ...     ...\n",
      "25756  25756       8     105  2023-03-06T02:00   -99.0\n",
      "25757  25757       8      57  2023-03-06T02:00   -99.0\n",
      "25758  25758       8     138  2023-03-06T02:00   -99.0\n",
      "25759  25759       8      14  2023-03-06T02:00   -99.0\n",
      "25760  25760       8      16  2023-03-06T02:00  1015.9\n",
      "\n",
      "[25760 rows x 5 columns]\n"
     ]
    }
   ],
   "source": [
    "for o in obser:\n",
    "    odata = json.load(open(o, 'r'))\n",
    "    \n",
    "    obs = []\n",
    "    \n",
    "    for d in odata:\n",
    "        for station in odata[d]:\n",
    "            if not odata[d][station]: continue\n",
    "\n",
    "            odata[d][station]['daytime']= d\n",
    "            odata[d][station]['idEstacao']= station\n",
    "\n",
    "            obs.append(odata[d][station])\n",
    "\n",
    "    df=pd.DataFrame(obs)\n",
    "    \n",
    "    cols = variaveis.nome.tolist()\n",
    "\n",
    "    dfs = []\n",
    "\n",
    "    df_cols = df.columns.values\n",
    "    icols = ['idEstacao', 'daytime']\n",
    "    for col in cols:\n",
    "        _df = df.copy(deep=True)\n",
    "\n",
    "        _df.drop([c for c in df_cols if c != col and c not in icols], axis=1, inplace=True)\n",
    "\n",
    "        _df.rename(columns={col: 'valor'}, inplace=True)\n",
    "\n",
    "        _df['varid'] =col\n",
    "\n",
    "        dfs.append(_df)\n",
    "        \n",
    "    _all = merge_df(dfs)\n",
    "        \n",
    "    _all['id_var'] = 0\n",
    "    \n",
    "    for i, r in variaveis.iterrows():\n",
    "        _all['id_var'] = np.where(\n",
    "            _all.varid == r['nome'],\n",
    "            r['id'], _all['id_var']\n",
    "        )\n",
    "    \n",
    "    _all['idEstacao'] = pd.to_numeric(_all['idEstacao'])\n",
    "    \n",
    "    sdf_pt['idEstacao'] = pd.to_numeric(sdf_pt['idEstacao'])\n",
    "    \n",
    "    _all['id_est'] = 0\n",
    "\n",
    "    for i, r in sdf_pt.iterrows():\n",
    "\n",
    "        _all['id_est'] = np.where(\n",
    "            _all.idEstacao == r['idEstacao'],\n",
    "            r['id'], _all['id_est']\n",
    "        )\n",
    "    \n",
    "    fdf = _all.loc[(_all[\"id_est\"] > 0)]\n",
    "    \n",
    "    fdf.drop('varid', axis=1, inplace=True)\n",
    "    fdf.drop('idEstacao', axis=1, inplace=True)\n",
    "    \n",
    "    fdf.index = np.arange(1, len(fdf) + 1)\n",
    "    fdf['id'] = fdf.index\n",
    "    \n",
    "    variaveis = variaveis[['id', 'nome']]\n",
    "    sdf_pt = sdf_pt[['id', 'idEstacao', 'localEstacao', 'geometry']]\n",
    "    fdf = fdf[['id', 'id_var', 'id_est', 'daytime', 'valor']]\n",
    "    \n",
    "    df_db_v = df_to_db(db, variaveis, \"variavel\")\n",
    "    df_db_st = df_to_db(db, sdf_pt, \"estacao\", epsg=3763, geomType = \"Point\")\n",
    "    df_db_vl = df_to_db(db, fdf, \"valor\")\n",
    "    print(fdf)"
   ]
  },
  {
   "cell_type": "code",
   "execution_count": 24,
   "id": "37c5713a-ea6d-42ff-abba-07b275f08754",
   "metadata": {},
   "outputs": [
    {
     "data": {
      "text/html": [
       "<div>\n",
       "<style scoped>\n",
       "    .dataframe tbody tr th:only-of-type {\n",
       "        vertical-align: middle;\n",
       "    }\n",
       "\n",
       "    .dataframe tbody tr th {\n",
       "        vertical-align: top;\n",
       "    }\n",
       "\n",
       "    .dataframe thead th {\n",
       "        text-align: right;\n",
       "    }\n",
       "</style>\n",
       "<table border=\"1\" class=\"dataframe\">\n",
       "  <thead>\n",
       "    <tr style=\"text-align: right;\">\n",
       "      <th></th>\n",
       "      <th>id</th>\n",
       "      <th>id_var</th>\n",
       "      <th>id_est</th>\n",
       "      <th>daytime</th>\n",
       "      <th>valor</th>\n",
       "    </tr>\n",
       "  </thead>\n",
       "  <tbody>\n",
       "    <tr>\n",
       "      <th>1</th>\n",
       "      <td>1</td>\n",
       "      <td>1</td>\n",
       "      <td>54</td>\n",
       "      <td>2023-03-06T00:00</td>\n",
       "      <td>2.2</td>\n",
       "    </tr>\n",
       "    <tr>\n",
       "      <th>2</th>\n",
       "      <td>2</td>\n",
       "      <td>1</td>\n",
       "      <td>63</td>\n",
       "      <td>2023-03-06T00:00</td>\n",
       "      <td>6.5</td>\n",
       "    </tr>\n",
       "    <tr>\n",
       "      <th>3</th>\n",
       "      <td>3</td>\n",
       "      <td>1</td>\n",
       "      <td>1</td>\n",
       "      <td>2023-03-06T00:00</td>\n",
       "      <td>2.2</td>\n",
       "    </tr>\n",
       "    <tr>\n",
       "      <th>4</th>\n",
       "      <td>4</td>\n",
       "      <td>1</td>\n",
       "      <td>49</td>\n",
       "      <td>2023-03-06T00:00</td>\n",
       "      <td>6.1</td>\n",
       "    </tr>\n",
       "    <tr>\n",
       "      <th>5</th>\n",
       "      <td>5</td>\n",
       "      <td>1</td>\n",
       "      <td>48</td>\n",
       "      <td>2023-03-06T00:00</td>\n",
       "      <td>7.6</td>\n",
       "    </tr>\n",
       "    <tr>\n",
       "      <th>...</th>\n",
       "      <td>...</td>\n",
       "      <td>...</td>\n",
       "      <td>...</td>\n",
       "      <td>...</td>\n",
       "      <td>...</td>\n",
       "    </tr>\n",
       "    <tr>\n",
       "      <th>25756</th>\n",
       "      <td>25756</td>\n",
       "      <td>8</td>\n",
       "      <td>105</td>\n",
       "      <td>2023-03-06T02:00</td>\n",
       "      <td>-99.0</td>\n",
       "    </tr>\n",
       "    <tr>\n",
       "      <th>25757</th>\n",
       "      <td>25757</td>\n",
       "      <td>8</td>\n",
       "      <td>57</td>\n",
       "      <td>2023-03-06T02:00</td>\n",
       "      <td>-99.0</td>\n",
       "    </tr>\n",
       "    <tr>\n",
       "      <th>25758</th>\n",
       "      <td>25758</td>\n",
       "      <td>8</td>\n",
       "      <td>138</td>\n",
       "      <td>2023-03-06T02:00</td>\n",
       "      <td>-99.0</td>\n",
       "    </tr>\n",
       "    <tr>\n",
       "      <th>25759</th>\n",
       "      <td>25759</td>\n",
       "      <td>8</td>\n",
       "      <td>14</td>\n",
       "      <td>2023-03-06T02:00</td>\n",
       "      <td>-99.0</td>\n",
       "    </tr>\n",
       "    <tr>\n",
       "      <th>25760</th>\n",
       "      <td>25760</td>\n",
       "      <td>8</td>\n",
       "      <td>16</td>\n",
       "      <td>2023-03-06T02:00</td>\n",
       "      <td>1015.9</td>\n",
       "    </tr>\n",
       "  </tbody>\n",
       "</table>\n",
       "<p>25760 rows × 5 columns</p>\n",
       "</div>"
      ],
      "text/plain": [
       "          id  id_var  id_est           daytime   valor\n",
       "1          1       1      54  2023-03-06T00:00     2.2\n",
       "2          2       1      63  2023-03-06T00:00     6.5\n",
       "3          3       1       1  2023-03-06T00:00     2.2\n",
       "4          4       1      49  2023-03-06T00:00     6.1\n",
       "5          5       1      48  2023-03-06T00:00     7.6\n",
       "...      ...     ...     ...               ...     ...\n",
       "25756  25756       8     105  2023-03-06T02:00   -99.0\n",
       "25757  25757       8      57  2023-03-06T02:00   -99.0\n",
       "25758  25758       8     138  2023-03-06T02:00   -99.0\n",
       "25759  25759       8      14  2023-03-06T02:00   -99.0\n",
       "25760  25760       8      16  2023-03-06T02:00  1015.9\n",
       "\n",
       "[25760 rows x 5 columns]"
      ]
     },
     "execution_count": 24,
     "metadata": {},
     "output_type": "execute_result"
    }
   ],
   "source": [
    "fdf"
   ]
  },
  {
   "cell_type": "code",
   "execution_count": null,
   "id": "b966afa3-5ab2-4133-bebd-5bcca18f35c8",
   "metadata": {},
   "outputs": [],
   "source": []
  },
  {
   "cell_type": "code",
   "execution_count": null,
   "id": "a25f214f-4900-477a-9dc5-13890f150cf9",
   "metadata": {},
   "outputs": [],
   "source": []
  },
  {
   "cell_type": "code",
   "execution_count": null,
   "id": "2412510b-c545-43a7-ae42-531fbca27f8b",
   "metadata": {
    "tags": []
   },
   "outputs": [],
   "source": []
  },
  {
   "cell_type": "code",
   "execution_count": null,
   "id": "87582ae3-a3a8-4d9f-9da8-4265dbb3f0f3",
   "metadata": {
    "tags": []
   },
   "outputs": [],
   "source": []
  },
  {
   "cell_type": "code",
   "execution_count": null,
   "id": "e23771e5-7aec-4693-ab14-fd965e7a62c3",
   "metadata": {
    "tags": []
   },
   "outputs": [],
   "source": []
  },
  {
   "cell_type": "code",
   "execution_count": null,
   "id": "fcc9be91-6a8b-42cd-9342-f13d848f96a3",
   "metadata": {
    "tags": []
   },
   "outputs": [],
   "source": []
  },
  {
   "cell_type": "code",
   "execution_count": null,
   "id": "07fb119f-b5cf-4fad-9470-267517c234b9",
   "metadata": {},
   "outputs": [],
   "source": []
  },
  {
   "cell_type": "code",
   "execution_count": null,
   "id": "3013c572-4b85-4669-afbb-59731887aaba",
   "metadata": {
    "tags": []
   },
   "outputs": [],
   "source": []
  },
  {
   "cell_type": "code",
   "execution_count": null,
   "id": "53aa3dc0-1afe-4ab6-9264-a696954b1192",
   "metadata": {},
   "outputs": [],
   "source": []
  },
  {
   "cell_type": "code",
   "execution_count": null,
   "id": "adb2cdee-0d05-42b2-af90-3e773ec014f7",
   "metadata": {
    "tags": []
   },
   "outputs": [],
   "source": []
  },
  {
   "cell_type": "code",
   "execution_count": null,
   "id": "d2c11f4f-6d96-4f8c-ac6a-f4b2aa742ddf",
   "metadata": {
    "tags": []
   },
   "outputs": [],
   "source": []
  },
  {
   "cell_type": "code",
   "execution_count": null,
   "id": "33b823d0-87bb-4180-9b32-4384048b09e4",
   "metadata": {
    "tags": []
   },
   "outputs": [],
   "source": []
  },
  {
   "cell_type": "code",
   "execution_count": null,
   "id": "c7e3fd37-87ce-4161-9194-da3834125a88",
   "metadata": {
    "tags": []
   },
   "outputs": [],
   "source": []
  },
  {
   "cell_type": "code",
   "execution_count": null,
   "id": "58ce8956-f16d-4fbe-8782-ae8416b012f7",
   "metadata": {},
   "outputs": [],
   "source": []
  },
  {
   "cell_type": "code",
   "execution_count": null,
   "id": "d7e4062c-dba6-4a21-b4b2-9eaec5d2b72f",
   "metadata": {
    "tags": []
   },
   "outputs": [],
   "source": []
  },
  {
   "cell_type": "code",
   "execution_count": null,
   "id": "17f28849-67ff-4b34-88fa-b2cdc9d94468",
   "metadata": {},
   "outputs": [],
   "source": []
  }
 ],
 "metadata": {
  "kernelspec": {
   "display_name": "Python 3 (ipykernel)",
   "language": "python",
   "name": "python3"
  },
  "language_info": {
   "codemirror_mode": {
    "name": "ipython",
    "version": 3
   },
   "file_extension": ".py",
   "mimetype": "text/x-python",
   "name": "python",
   "nbconvert_exporter": "python",
   "pygments_lexer": "ipython3",
   "version": "3.10.6"
  }
 },
 "nbformat": 4,
 "nbformat_minor": 5
}
