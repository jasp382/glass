{
 "cells": [
  {
   "cell_type": "code",
   "execution_count": null,
   "id": "6f64398a-26c1-4ad4-9d4d-0c80963bbee4",
   "metadata": {},
   "outputs": [],
   "source": [
    "# import all packages to use in this project\n",
    "\n",
    "import os\n",
    "import pandas as pd\n",
    "import numpy as np\n",
    "import geopandas as gpd\n",
    "import json\n",
    "import glob\n",
    "import natsort\n",
    "import shutil\n",
    "from glom import glom"
   ]
  },
  {
   "cell_type": "code",
   "execution_count": null,
   "id": "014deddc-9ff9-49c4-bdfd-ada2b5170450",
   "metadata": {},
   "outputs": [],
   "source": [
    "from glass.sql.db import create_pgdb\n",
    "from glass.sql.tbl import create_tbl\n",
    "from glass.dtt.mge.pd import merge_df\n",
    "from glass.rd.shp import shp_to_obj\n",
    "from glass.prop.sql import lst_tbl\n",
    "from glass.wt.sql import df_to_db"
   ]
  },
  {
   "cell_type": "code",
   "execution_count": null,
   "id": "366e2eb8-3e26-46ab-87f7-e3e9d0a70212",
   "metadata": {
    "tags": []
   },
   "outputs": [],
   "source": [
    "#create_sqlitedb('ipma.sqlite')"
   ]
  },
  {
   "cell_type": "code",
   "execution_count": null,
   "id": "94c2a42a-06b0-42af-95dd-ff3f05946193",
   "metadata": {},
   "outputs": [],
   "source": [
    "stations = '/home/yuri/fireloc-system/firerisk/data/stations.geojson'\n",
    "observations = '/home/yuri/fireloc-system/firerisk/data/observations.json'\n",
    "portugal = '/home/yuri/fireloc-system/firerisk/data/caop_pt.shp'\n",
    "out = '/home/yuri/fireloc-system/firerisk/data'"
   ]
  },
  {
   "cell_type": "code",
   "execution_count": null,
   "id": "4bd3dfa9-bbfb-45c0-9f0d-39019ee8d954",
   "metadata": {
    "tags": []
   },
   "outputs": [],
   "source": [
    "db = create_pgdb('ipma')"
   ]
  },
  {
   "cell_type": "code",
   "execution_count": null,
   "id": "55b37a4c-8ebd-46d8-93a0-5f4f9298bab2",
   "metadata": {
    "tags": []
   },
   "outputs": [],
   "source": [
    "tbl_varia = {\n",
    "    'variavel' : {'id' : 'int', 'nome' : 'varchar(30)'}\n",
    "}"
   ]
  },
  {
   "cell_type": "code",
   "execution_count": null,
   "id": "58500d43-3b16-4af7-9ed6-baa9699b610f",
   "metadata": {
    "tags": []
   },
   "outputs": [],
   "source": [
    "tbl_sta = {\n",
    "    'estacao': {'id' : 'int', 'idEstacao' : 'int', 'localEstacao' : 'varchar(80)', 'geom' : 'geometry'}\n",
    "}"
   ]
  },
  {
   "cell_type": "code",
   "execution_count": null,
   "id": "e32899da-618f-4874-babf-eab384129a44",
   "metadata": {
    "tags": []
   },
   "outputs": [],
   "source": [
    "tbl_values = {\n",
    "    'valor' : {'id' : 'int', 'id_est' : 'int', 'id_var' : 'int', 'daytime' : 'varchar(20)', 'valor' : 'float'}\n",
    "}"
   ]
  },
  {
   "cell_type": "code",
   "execution_count": null,
   "id": "0f7852da-b1b7-45e6-b958-cd5bd5065e0c",
   "metadata": {
    "tags": []
   },
   "outputs": [],
   "source": [
    "tbl_v = create_tbl('ipma', tbl_varia)"
   ]
  },
  {
   "cell_type": "code",
   "execution_count": null,
   "id": "68911e3b-109d-4579-bea9-92781ed1d6db",
   "metadata": {
    "tags": []
   },
   "outputs": [],
   "source": [
    "tbl_e = create_tbl('ipma', tbl_sta)"
   ]
  },
  {
   "cell_type": "code",
   "execution_count": null,
   "id": "d1060e58-dad2-4ff6-96d7-f13f73508b88",
   "metadata": {},
   "outputs": [],
   "source": [
    "tbl_vl = create_tbl('ipma', tbl_values)"
   ]
  },
  {
   "cell_type": "code",
   "execution_count": null,
   "id": "67d2d7ec-b943-479b-8773-9b2476245d55",
   "metadata": {},
   "outputs": [],
   "source": [
    "pt = shp_to_obj(portugal)"
   ]
  },
  {
   "cell_type": "code",
   "execution_count": null,
   "id": "3fcaebb3-2cc7-493d-8c3c-c66ca1612e73",
   "metadata": {},
   "outputs": [],
   "source": [
    "pt_dis = pt.unary_union"
   ]
  },
  {
   "cell_type": "code",
   "execution_count": null,
   "id": "6dd02165-f2e1-4156-91a5-60ff7ebf0580",
   "metadata": {},
   "outputs": [],
   "source": [
    "pt_diss = gpd.GeoDataFrame(geometry=[pt_dis], crs = 'EPSG:3763')"
   ]
  },
  {
   "cell_type": "code",
   "execution_count": null,
   "id": "a979cfc6-de13-41d6-8925-6fc3deac9158",
   "metadata": {},
   "outputs": [],
   "source": [
    "sdata = json.load(open(stations, 'r'))"
   ]
  },
  {
   "cell_type": "code",
   "execution_count": null,
   "id": "6a2ac2db-5c99-4999-a9d8-69b2184a5ed5",
   "metadata": {},
   "outputs": [],
   "source": [
    "gjson = {\"type\": \"FeatureCollection\", \"features\" : sdata}"
   ]
  },
  {
   "cell_type": "code",
   "execution_count": null,
   "id": "919de848-4f9a-4803-9034-aa329d3f0585",
   "metadata": {},
   "outputs": [],
   "source": [
    "sdf= gpd.GeoDataFrame.from_features(gjson, crs=\"EPSG:4326\").to_crs(3763)\n",
    "#sdf_crs = sdf.to_crs(3763)"
   ]
  },
  {
   "cell_type": "code",
   "execution_count": null,
   "id": "e9c4c24d-ba4d-4870-a918-6e2ef8d27fdb",
   "metadata": {},
   "outputs": [],
   "source": [
    "sdf_pt = sdf.clip(pt_diss)"
   ]
  },
  {
   "cell_type": "code",
   "execution_count": null,
   "id": "62c6e8c0-488e-4133-bd7d-3056a43f0faf",
   "metadata": {
    "tags": []
   },
   "outputs": [],
   "source": [
    "sdf_pt.index = np.arange(1, len(sdf_pt) + 1)"
   ]
  },
  {
   "cell_type": "code",
   "execution_count": null,
   "id": "62ebe538-aba2-4c3a-a3bd-389947126cb9",
   "metadata": {},
   "outputs": [],
   "source": [
    "sdf_pt['id'] = sdf_pt.index"
   ]
  },
  {
   "cell_type": "code",
   "execution_count": null,
   "id": "6170d0e7-3905-4715-9245-b0caaae03f77",
   "metadata": {
    "tags": []
   },
   "outputs": [],
   "source": [
    "variaveis = [\n",
    "    'intensidadeVentoKM', 'temperatura', 'radiacao', 'idDireccVento',\n",
    "    'precAcumulada', 'intensidadeVento', 'humidade', 'pressao'\n",
    "]"
   ]
  },
  {
   "cell_type": "code",
   "execution_count": null,
   "id": "b74ee2ff-9aec-4768-b11d-3691c603fe42",
   "metadata": {},
   "outputs": [],
   "source": [
    "varlst = [[i + 1, variaveis[i]] for i in range(len(variaveis))]\n",
    "\n",
    "variaveis = pd.DataFrame(varlst, columns=['id', 'nome'])"
   ]
  },
  {
   "cell_type": "code",
   "execution_count": null,
   "id": "37c5713a-ea6d-42ff-abba-07b275f08754",
   "metadata": {},
   "outputs": [],
   "source": [
    "odata = json.load(open(observations, 'r'))"
   ]
  },
  {
   "cell_type": "code",
   "execution_count": null,
   "id": "b966afa3-5ab2-4133-bebd-5bcca18f35c8",
   "metadata": {},
   "outputs": [],
   "source": [
    "obs = []\n",
    "for d in odata:\n",
    "    for station in odata[d]:\n",
    "        if not odata[d][station]: continue\n",
    "        \n",
    "        odata[d][station]['daytime']= d\n",
    "        odata[d][station]['idEstacao']= station\n",
    "        \n",
    "        obs.append(odata[d][station])\n",
    "\n",
    "df=pd.DataFrame(obs)"
   ]
  },
  {
   "cell_type": "code",
   "execution_count": null,
   "id": "a25f214f-4900-477a-9dc5-13890f150cf9",
   "metadata": {},
   "outputs": [],
   "source": [
    "cols = variaveis.nome.tolist()\n",
    "\n",
    "dfs = []\n",
    "\n",
    "df_cols = df.columns.values\n",
    "icols = ['idEstacao', 'daytime']\n",
    "for col in cols:\n",
    "    _df = df.copy(deep=True)\n",
    "    \n",
    "    _df.drop([c for c in df_cols if c != col and c not in icols], axis=1, inplace=True)\n",
    "    \n",
    "    _df.rename(columns={col: 'valor'}, inplace=True)\n",
    "    \n",
    "    _df['varid'] =col\n",
    "    \n",
    "    dfs.append(_df)"
   ]
  },
  {
   "cell_type": "code",
   "execution_count": null,
   "id": "2412510b-c545-43a7-ae42-531fbca27f8b",
   "metadata": {
    "tags": []
   },
   "outputs": [],
   "source": [
    "_all = merge_df(dfs)"
   ]
  },
  {
   "cell_type": "code",
   "execution_count": null,
   "id": "87582ae3-a3a8-4d9f-9da8-4265dbb3f0f3",
   "metadata": {
    "tags": []
   },
   "outputs": [],
   "source": [
    "_all['id_var'] = 0\n",
    "for i, r in variaveis.iterrows():\n",
    "    _all['id_var'] = np.where(\n",
    "        _all.varid == r['nome'],\n",
    "        r['id'], _all['id_var']\n",
    "    )"
   ]
  },
  {
   "cell_type": "code",
   "execution_count": null,
   "id": "e23771e5-7aec-4693-ab14-fd965e7a62c3",
   "metadata": {
    "tags": []
   },
   "outputs": [],
   "source": [
    "_all['idEstacao'] = pd.to_numeric(_all['idEstacao'])"
   ]
  },
  {
   "cell_type": "code",
   "execution_count": null,
   "id": "fcc9be91-6a8b-42cd-9342-f13d848f96a3",
   "metadata": {
    "tags": []
   },
   "outputs": [],
   "source": [
    "sdf_pt['idEstacao'] = pd.to_numeric(sdf_pt['idEstacao'])"
   ]
  },
  {
   "cell_type": "code",
   "execution_count": null,
   "id": "07fb119f-b5cf-4fad-9470-267517c234b9",
   "metadata": {},
   "outputs": [],
   "source": [
    "_all['id_est'] = 0\n",
    "\n",
    "for i, r in sdf_pt.iterrows():\n",
    "\n",
    "    _all['id_est'] = np.where(\n",
    "        _all.idEstacao == r['idEstacao'],\n",
    "        r['id'], _all['id_est']\n",
    "    )"
   ]
  },
  {
   "cell_type": "code",
   "execution_count": null,
   "id": "3013c572-4b85-4669-afbb-59731887aaba",
   "metadata": {
    "tags": []
   },
   "outputs": [],
   "source": [
    "fdf = _all.loc[(_all[\"id_est\"] > 0)]"
   ]
  },
  {
   "cell_type": "code",
   "execution_count": null,
   "id": "53aa3dc0-1afe-4ab6-9264-a696954b1192",
   "metadata": {},
   "outputs": [],
   "source": [
    "fdf.drop('varid', axis=1, inplace=True)\n",
    "fdf.drop('idEstacao', axis=1, inplace=True)"
   ]
  },
  {
   "cell_type": "code",
   "execution_count": null,
   "id": "adb2cdee-0d05-42b2-af90-3e773ec014f7",
   "metadata": {
    "tags": []
   },
   "outputs": [],
   "source": [
    "fdf.index = np.arange(1, len(fdf) + 1)"
   ]
  },
  {
   "cell_type": "code",
   "execution_count": null,
   "id": "d2c11f4f-6d96-4f8c-ac6a-f4b2aa742ddf",
   "metadata": {
    "tags": []
   },
   "outputs": [],
   "source": [
    "fdf['id'] = fdf.index"
   ]
  },
  {
   "cell_type": "code",
   "execution_count": null,
   "id": "33b823d0-87bb-4180-9b32-4384048b09e4",
   "metadata": {
    "tags": []
   },
   "outputs": [],
   "source": [
    "variaveis = variaveis[['id', 'nome']]\n",
    "sdf_pt = sdf_pt[['id', 'idEstacao', 'localEstacao', 'geometry']]\n",
    "fdf = fdf[['id', 'id_var', 'id_est', 'daytime', 'valor']]"
   ]
  },
  {
   "cell_type": "code",
   "execution_count": null,
   "id": "c7e3fd37-87ce-4161-9194-da3834125a88",
   "metadata": {
    "tags": []
   },
   "outputs": [],
   "source": [
    "df_db_v = df_to_db(\"ipma\", variaveis, \"variavel\")"
   ]
  },
  {
   "cell_type": "code",
   "execution_count": null,
   "id": "58ce8956-f16d-4fbe-8782-ae8416b012f7",
   "metadata": {},
   "outputs": [],
   "source": [
    "df_db_st = df_to_db(\"ipma\", sdf_pt, \"estacao\", epsg=3763, geomType = \"Point\")"
   ]
  },
  {
   "cell_type": "code",
   "execution_count": null,
   "id": "d7e4062c-dba6-4a21-b4b2-9eaec5d2b72f",
   "metadata": {
    "tags": []
   },
   "outputs": [],
   "source": [
    "df_db_vl = df_to_db(\"ipma\", fdf, \"valor\")"
   ]
  },
  {
   "cell_type": "code",
   "execution_count": null,
   "id": "17f28849-67ff-4b34-88fa-b2cdc9d94468",
   "metadata": {},
   "outputs": [],
   "source": []
  }
 ],
 "metadata": {
  "kernelspec": {
   "display_name": "Python 3 (ipykernel)",
   "language": "python",
   "name": "python3"
  },
  "language_info": {
   "codemirror_mode": {
    "name": "ipython",
    "version": 3
   },
   "file_extension": ".py",
   "mimetype": "text/x-python",
   "name": "python",
   "nbconvert_exporter": "python",
   "pygments_lexer": "ipython3",
   "version": "3.10.6"
  }
 },
 "nbformat": 4,
 "nbformat_minor": 5
}
