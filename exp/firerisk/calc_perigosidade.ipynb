{
 "cells": [
  {
   "cell_type": "markdown",
   "id": "b91b8005-7c84-4627-87c4-0d57614a636d",
   "metadata": {},
   "source": [
    "### Cálculo perigosidae Incêndio Florestal"
   ]
  },
  {
   "cell_type": "code",
   "execution_count": null,
   "id": "f536a5a7-436a-40d4-aff5-04c011ac964e",
   "metadata": {},
   "outputs": [],
   "source": [
    "burn_areas = '/home/jasp/mystuff/fireloc/firerisk_analysis/pnse_sample/aardidas/aa_1975_2021.shp'\n",
    "\n",
    "burn_count = '/home/jasp/mystuff/fireloc/firerisk_analysis/pnse_sample/aardidas/nburn.tif'\n",
    "\n",
    "refrst = '/home/jasp/mystuff/fireloc/firerisk_analysis/pnse_sample/reflmt/ref_raster.tif'\n",
    "\n",
    "dem = '/home/jasp/mystuff/fireloc/firerisk_analysis/pnse_sample/topografia/dem_pnse.tif'\n",
    "\n",
    "lulc_maps = {\n",
    "    '/home/jasp/mystuff/fireloc/firerisk_analysis/pnse_sample/lulc/r_cos1995.tif' : 12,\n",
    "    '/home/jasp/mystuff/fireloc/firerisk_analysis/pnse_sample/lulc/r_cos2007.tif' : 3,\n",
    "    '/home/jasp/mystuff/fireloc/firerisk_analysis/pnse_sample/lulc/r_cos2010.tif' : 5,\n",
    "    '/home/jasp/mystuff/fireloc/firerisk_analysis/pnse_sample/lulc/r_cos2015.tif' : 3,\n",
    "    '/home/jasp/mystuff/fireloc/firerisk_analysis/pnse_sample/lulc/r_cos2018.tif' : 4,\n",
    "}\n",
    "\n",
    "\n",
    "perigosidade = '/home/jasp/mystuff/fireloc/firerisk_analysis/pnse_sample/risk_result.tif'\n",
    "\n",
    "rules_file = '/home/jasp/fireloc-system/firerisk/perigosity_rules.json'"
   ]
  },
  {
   "cell_type": "code",
   "execution_count": null,
   "id": "08b13605-e9ae-4aef-a1cf-cbc1b9f874e7",
   "metadata": {},
   "outputs": [],
   "source": [
    "import os\n",
    "\n",
    "from glass.wenv.grs import run_grass\n",
    "from glass.pys.oss  import fprop\n",
    "from glass.rst.rcls.grs import rcls_rules\n",
    "from glass.prop.rst      import count_cells\n",
    "from firegis.cons.firerisk import ELEVATION_RULES, SLOPE_RULES, ASPECT_RULES"
   ]
  },
  {
   "cell_type": "code",
   "execution_count": null,
   "id": "a1dacdbf-987b-46c9-9ec9-453065a4ce14",
   "metadata": {},
   "outputs": [],
   "source": [
    "# Create GRASS GIS Session\n",
    "\n",
    "ws, loc = os.path.dirname(perigosidade), f\"loc_{fprop(perigosidade, 'fn')}\"\n",
    "\n",
    "gb = run_grass(ws, grassBIN='grass78', location=loc, srs=refrst)\n",
    "\n",
    "import grass.script.setup as gsetup\n",
    "\n",
    "gsetup.init(gb, ws, loc, 'PERMANENT')"
   ]
  },
  {
   "cell_type": "code",
   "execution_count": null,
   "id": "04799575-bcd6-4428-8437-9bca0491705f",
   "metadata": {},
   "outputs": [],
   "source": [
    "from glass.it.rst import rst_to_grs, grs_to_rst\n",
    "from glass.it.shp import shp_to_grs\n",
    "from glass.rst.surf.grs import slope, aspect\n",
    "from glass.rst.rcls.grs import grs_rcls\n",
    "from glass.dtt.torst import grsshp_to_grsrst\n",
    "from glass.rst.alg import grsrstcalc\n",
    "from glass.rst.zon.grs import rstatszonal"
   ]
  },
  {
   "cell_type": "code",
   "execution_count": null,
   "id": "747e8ad3-894b-4a57-8f04-c3c03fc165c0",
   "metadata": {},
   "outputs": [],
   "source": [
    "# Import data into GRASS GIS\n",
    "\n",
    "gdem = rst_to_grs(dem, fprop(dem, 'fn'), as_cmd=True)\n",
    "\n",
    "lulcgrs = {rst_to_grs(\n",
    "    lulc, fprop(lulc, 'fn'), as_cmd=True\n",
    ") : lulc_maps[lulc] for lulc in lulc_maps}\n",
    "\n",
    "gburn = shp_to_grs(burn_areas, fprop(burn_areas, 'fn'), asCMD=True)\n",
    "rburn = grsshp_to_grsrst(gburn, 0, f\"rst_{gburn}\", cmd=True)\n",
    "\n",
    "cburn = rst_to_grs(burn_count, fprop(burn_count, 'fn'), as_cmd=True)"
   ]
  },
  {
   "cell_type": "code",
   "execution_count": null,
   "id": "2d048c3d-4fda-4e12-894b-1b9d58d14650",
   "metadata": {},
   "outputs": [],
   "source": [
    "# Generate slope and aspect\n",
    "\n",
    "rslope = slope(gdem, 'sloperst', data='degrees', api=\"grass\")\n",
    "raspec = aspect(gdem, 'aspectrst', from_north=True, api=\"grass\")"
   ]
  },
  {
   "cell_type": "code",
   "execution_count": null,
   "id": "4519084a-645a-4be2-ad34-12ce06ff767f",
   "metadata": {},
   "outputs": [],
   "source": [
    "# Reclassify aspect, slope and elevation\n",
    "\n",
    "rsts = {rslope : SLOPE_RULES, gdem : ELEVATION_RULES, raspec : ASPECT_RULES}\n",
    "\n",
    "for r in rsts:\n",
    "    # Create file with rules\n",
    "    rf = rcls_rules(rsts[r], os.path.join(ws, loc, f\"rules_{r}.txt\"))\n",
    "    \n",
    "    # Reclassify\n",
    "    rsts[r] = grs_rcls(r, rf, f\"rcls_{r}\", as_cmd=True)"
   ]
  },
  {
   "cell_type": "code",
   "execution_count": null,
   "id": "79a16621-a3e1-4c3c-baef-fbd154d9ca94",
   "metadata": {},
   "outputs": [],
   "source": [
    "# Get number of cells\n",
    "ncells = count_cells(refrst)\n",
    "\n",
    "# Get number of burned cells\n",
    "burn_rst = grs_to_rst(\n",
    "    rburn, os.path.join(ws, loc, f\"{rburn}.tif\"),\n",
    "    as_cmd=True, rtype=int\n",
    ")\n",
    "bcells = count_cells(burn_rst)"
   ]
  },
  {
   "cell_type": "code",
   "execution_count": null,
   "id": "4dfb02d0-33c4-4482-9746-51d170c4815e",
   "metadata": {},
   "outputs": [],
   "source": [
    "print(ncells)\n",
    "print(bcells)"
   ]
  },
  {
   "cell_type": "code",
   "execution_count": null,
   "id": "69ce6daf-44fa-405a-ae90-eb440b3c9da4",
   "metadata": {},
   "outputs": [],
   "source": [
    "def get_lri(factor, lri):\n",
    "    # Count number of burned cells by class\n",
    "    burn_cells_cls = rstatszonal(factor, rburn, 'count', f\"burn_{factor}\")\n",
    "    \n",
    "    # Count number of cells by class\n",
    "    cells_cls = rstatszonal(factor, factor, 'count', f\"class_{factor}\")\n",
    "    \n",
    "    # Create LRI raster for the given factor\n",
    "    _lri = grsrstcalc((\n",
    "        f\"(double({burn_cells_cls}) / double({cells_cls}))\"\n",
    "        f\" / \"\n",
    "        f\"({str(int(bcells))}.0 / {str(int(ncells))}.0)\"\n",
    "    ), lri)\n",
    "    \n",
    "    return lri"
   ]
  },
  {
   "cell_type": "code",
   "execution_count": null,
   "id": "bad3e0a8-8487-4b58-84c8-f224c938d200",
   "metadata": {},
   "outputs": [],
   "source": [
    "# Create RI Rasters\n",
    "\n",
    "for r in rsts:\n",
    "    rsts[r] = get_lri(rsts[r], f\"lri_{rsts[r]}\")\n",
    "\n",
    "lulcri = {get_lri(k, f\"lri_{k}\") : lulcgrs[k] for k in lulcgrs}"
   ]
  },
  {
   "cell_type": "code",
   "execution_count": null,
   "id": "92de0044-4c8c-453b-b0a5-7d133d7142ec",
   "metadata": {},
   "outputs": [],
   "source": [
    "# Get final lri for lulc\n",
    "\n",
    "_exp = []\n",
    "years = 0\n",
    "for k in lulcri:\n",
    "    _exp.append(f\"({k} * {str(lulcri[k])})\")\n",
    "    \n",
    "    years += lulcri[k]\n",
    "    \n",
    "lulc_lri = grsrstcalc(f\"({' + '.join(_exp)}) / {str(years)}\", 'lri_lulc')"
   ]
  },
  {
   "cell_type": "code",
   "execution_count": null,
   "id": "452ea9a5-a6c1-4e9d-bcd3-d40f6808ac6d",
   "metadata": {},
   "outputs": [],
   "source": [
    "# Sum all ri\n",
    "rsts[lulc_lri] = lulc_lri\n",
    "\n",
    "frst = grsrstcalc(' + '.join(list(rsts.values())), fprop(perigosidade, 'fn'))"
   ]
  },
  {
   "cell_type": "code",
   "execution_count": null,
   "id": "8b72835c-2c00-489c-abf9-c8d557ae4b5e",
   "metadata": {},
   "outputs": [],
   "source": [
    "# Export result\n",
    "grs_to_rst(frst, perigosidade, rtype=int)"
   ]
  },
  {
   "cell_type": "code",
   "execution_count": null,
   "id": "d3bed2fd-0a01-4534-a6a1-bf225156eb84",
   "metadata": {},
   "outputs": [],
   "source": []
  }
 ],
 "metadata": {
  "kernelspec": {
   "display_name": "Python 3 (ipykernel)",
   "language": "python",
   "name": "python3"
  },
  "language_info": {
   "codemirror_mode": {
    "name": "ipython",
    "version": 3
   },
   "file_extension": ".py",
   "mimetype": "text/x-python",
   "name": "python",
   "nbconvert_exporter": "python",
   "pygments_lexer": "ipython3",
   "version": "3.10.12"
  }
 },
 "nbformat": 4,
 "nbformat_minor": 5
}
