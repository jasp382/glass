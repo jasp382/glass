{
 "cells": [
  {
   "cell_type": "code",
   "execution_count": null,
   "id": "ceb6ed08-5910-4440-a42b-50fac617d33e",
   "metadata": {},
   "outputs": [],
   "source": [
    "green = '/home/jasp/osmwater/T29TNE_20180818T112111_B03_10m.tif'\n",
    "\n",
    "nir = '/home/jasp/osmwater/T29TNE_20180818T112111_B08_10m.tif'\n",
    "\n",
    "water = '/home/jasp/osmwater/osmwater.shp'\n",
    "\n",
    "waterpoly = '/home/jasp/osmwater/waterfmosm.shp'"
   ]
  },
  {
   "cell_type": "code",
   "execution_count": null,
   "id": "0616cd94-8f5d-41c8-a03a-f5aec841541a",
   "metadata": {},
   "outputs": [],
   "source": [
    "from glass.ete.otol.water import water_fm_s2_osm\n",
    "\n",
    "water_fm_s2_osm(\n",
    "    water, green, nir,\n",
    "    waterpoly\n",
    ")"
   ]
  }
 ],
 "metadata": {
  "kernelspec": {
   "display_name": "Python 3 (ipykernel)",
   "language": "python",
   "name": "python3"
  },
  "language_info": {
   "codemirror_mode": {
    "name": "ipython",
    "version": 3
   },
   "file_extension": ".py",
   "mimetype": "text/x-python",
   "name": "python",
   "nbconvert_exporter": "python",
   "pygments_lexer": "ipython3",
   "version": "3.10.12"
  }
 },
 "nbformat": 4,
 "nbformat_minor": 5
}
