{
 "cells": [
  {
   "cell_type": "code",
   "execution_count": null,
   "id": "4049bcff-fb09-4abc-8601-41dd8d2b623f",
   "metadata": {},
   "outputs": [],
   "source": [
    "from glass.it.osm import  osm_to_psql"
   ]
  },
  {
   "cell_type": "code",
   "execution_count": null,
   "id": "8a474884-d50c-46a9-842f-ae4f9f40e743",
   "metadata": {},
   "outputs": [],
   "source": [
    "#def osm_to_psql(osmXml, osmdb)\n",
    "\n",
    "osmXml = '/home/yuri/inescc-dgt/osmdata/osmpt.xml'\n",
    "osmdb = 'osmpt'"
   ]
  },
  {
   "cell_type": "code",
   "execution_count": null,
   "id": "02d6ced7-77c8-4c4b-8b4c-fd079966597f",
   "metadata": {},
   "outputs": [],
   "source": [
    "osm_to_psql(osmXml, osmdb)"
   ]
  },
  {
   "cell_type": "code",
   "execution_count": null,
   "id": "d4fa87e7-9021-4399-b229-be0b09744139",
   "metadata": {},
   "outputs": [],
   "source": [
    "from glass.sql.q import q_to_obj \n",
    "\n",
    "qlanes = (\n",
    "    \"SELECT highway, COUNT(highway), MIN(lanes), MAX(lanes), \"\n",
    "    \"ROUND( AVG(CAST(lanes AS numeric))) AS mean, \"\n",
    "    \"ROUND (STDDEV_POP(CAST(lanes AS numeric)),2) AS Standard_Deviation \"\n",
    "    \"FROM lines WHERE highway IS NOT NULL AND lanes ~ '^[0-9]+$' \"\n",
    "    \"GROUP BY highway;\"\n",
    ")\n",
    "qwidth = (\n",
    "    \"SELECT highway, COUNT(highway), MIN(width), MAX(width), \"\n",
    "    \"ROUND( AVG(CAST(width AS numeric))) AS mean, \"\n",
    "    \"ROUND (STDDEV_POP(CAST(width AS numeric)),2) AS Standard_Deviation \"\n",
    "    \"FROM lines \"\n",
    "    \"WHERE highway IS NOT NULL AND width ~ '^[0-9]+$' \"\n",
    "    \"GROUP BY highway;\"\n",
    ")\n",
    "\n",
    "lanes = q_to_obj(osmdb, qlanes, db_api = 'psql')\n",
    "width = q_to_obj(osmdb, qwidth, db_api = 'psql')"
   ]
  },
  {
   "cell_type": "code",
   "execution_count": null,
   "id": "0303d1ad-df84-41a8-8c1a-65cb73aaedcd",
   "metadata": {},
   "outputs": [],
   "source": [
    "lanes"
   ]
  },
  {
   "cell_type": "code",
   "execution_count": null,
   "id": "039cfb82-9356-4597-8302-e02bd0092f50",
   "metadata": {},
   "outputs": [],
   "source": [
    "width"
   ]
  },
  {
   "cell_type": "code",
   "execution_count": null,
   "id": "94aff80c-cb19-4c9f-9d8e-c6d54298c3f3",
   "metadata": {},
   "outputs": [],
   "source": [
    "from glass.sql.q import q_to_obj \n",
    "\n",
    "qlanes = \"SELECT highway, COUNT(highway), MIN(lanes), MAX(lanes) FROM lines WHERE lanes ~ '^[0-9]+$' GROUP BY highway HAVING MAX(lanes) = '40';\"\n",
    "qwidth = \"SELECT highway, COUNT(highway) FROM lines WHERE highway IS NOT NULL GROUP BY highway;\"\n",
    "\n",
    "lanes = q_to_obj(osmdb, qlanes, db_api = 'psql')\n",
    "width = q_to_obj(osmdb, qwidth, db_api = 'psql')"
   ]
  },
  {
   "cell_type": "code",
   "execution_count": null,
   "id": "98c2baf4-4e3f-4a6a-9a96-2d27e145659d",
   "metadata": {},
   "outputs": [],
   "source": [
    "import pandas as pd"
   ]
  },
  {
   "cell_type": "code",
   "execution_count": null,
   "id": "e1f3dd5e-81d4-44a0-932d-f189d7964079",
   "metadata": {},
   "outputs": [],
   "source": [
    "dflanes = pd.DataFrame(lanes)"
   ]
  },
  {
   "cell_type": "code",
   "execution_count": null,
   "id": "616b002b-f75d-4345-9f3c-ca66d1cb964d",
   "metadata": {},
   "outputs": [],
   "source": [
    "dfwidth = pd.DataFrame(width)"
   ]
  },
  {
   "cell_type": "code",
   "execution_count": null,
   "id": "b693a285-65fd-4199-979f-b9738000df64",
   "metadata": {},
   "outputs": [],
   "source": []
  },
  {
   "cell_type": "code",
   "execution_count": null,
   "id": "8990170d-250f-4274-8185-2687befd6a5e",
   "metadata": {},
   "outputs": [],
   "source": [
    "from glass.sql.q import q_to_obj \n",
    "\n",
    "qlanes = \"SELECT highway, COUNT(highway), MIN(lanes), MAX(lanes), ROUND( AVG(CAST(lanes AS numeric))) AS mean, ROUND (STDDEV_POP(CAST(lanes AS numeric)),2) AS Standard_Deviation FROM lines WHERE highway IS NOT NULL AND lanes ~ '^[0-9]+$' GROUP BY highway;\"\n",
    "qwidth = \"SELECT highway, COUNT(highway), MIN(width), MAX(width), ROUND( AVG(CAST(width AS numeric))) AS mean, ROUND (STDDEV_POP(CAST(width AS numeric)),2) AS Standard_Deviation FROM lines WHERE highway IS NOT NULL AND width ~ '^[0-9]+$' GROUP BY highway;\"\n",
    "\n",
    "lanes = q_to_obj(osmdb, qlanes, db_api = 'psql')\n",
    "width = q_to_obj(osmdb, qwidth, db_api = 'psql')"
   ]
  }
 ],
 "metadata": {
  "kernelspec": {
   "display_name": "Python 3 (ipykernel)",
   "language": "python",
   "name": "python3"
  },
  "language_info": {
   "codemirror_mode": {
    "name": "ipython",
    "version": 3
   },
   "file_extension": ".py",
   "mimetype": "text/x-python",
   "name": "python",
   "nbconvert_exporter": "python",
   "pygments_lexer": "ipython3",
   "version": "3.10.6"
  }
 },
 "nbformat": 4,
 "nbformat_minor": 5
}
