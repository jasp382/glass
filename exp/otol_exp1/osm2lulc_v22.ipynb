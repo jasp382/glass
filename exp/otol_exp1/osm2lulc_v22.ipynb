{
 "cells": [
  {
   "cell_type": "code",
   "execution_count": null,
   "id": "939b5eca-25a5-47a7-8705-9f635836cc62",
   "metadata": {},
   "outputs": [],
   "source": [
    "osm = '/home/jasp/osm2lulc/osm_terceira.xml'\n",
    "\n",
    "refraster = '/home/jasp/osm2lulc/lmt_terceira.shp'\n",
    "\n",
    "result = '/mnt/d/osm2lulc2023/osm2lulc_v2/madeira_lulc.shp'\n",
    "\n",
    "epsg = 5015"
   ]
  },
  {
   "cell_type": "code",
   "execution_count": null,
   "id": "5b1e1cb1-b1b0-40c3-ac9a-de52f6350bff",
   "metadata": {},
   "outputs": [],
   "source": [
    "import os\n",
    "import datetime as dt\n",
    "\n",
    "from glass.sql.db           import create_pgdb\n",
    "from glass.it.db import osm_to_psql\n",
    "from glass.pys.oss import mkdir, fprop\n",
    "from glass.pys.tm import now_as_str\n",
    "from glass.cons.osmtolulc import osm_features\n",
    "from glass.gp.gen.sql import st_dissolve\n",
    "from glass.prop.sql import row_num"
   ]
  },
  {
   "cell_type": "code",
   "execution_count": null,
   "id": "aa013e3f-b8bc-41bc-95ed-6e33284f9270",
   "metadata": {},
   "outputs": [],
   "source": [
    "ws = mkdir(os.path.join(\n",
    "    os.path.dirname(osm),\n",
    "    'az_' + now_as_str()\n",
    "), overwrite=True)"
   ]
  },
  {
   "cell_type": "code",
   "execution_count": null,
   "id": "272ee122-9961-4138-9fcc-2d3f5ba295ae",
   "metadata": {
    "tags": []
   },
   "outputs": [],
   "source": [
    "polygons = 'multipolygons'\n",
    "lines = 'lines'"
   ]
  },
  {
   "cell_type": "markdown",
   "id": "66437fab-f8ef-460c-b730-27d7cfc987cb",
   "metadata": {
    "tags": []
   },
   "source": [
    "### Pre-processamento"
   ]
  },
  {
   "cell_type": "code",
   "execution_count": null,
   "id": "67d97a12-feda-43a3-822a-ddbbbe4d65fc",
   "metadata": {
    "tags": []
   },
   "outputs": [],
   "source": [
    "osm_db = create_pgdb(fprop(osm, 'fn', forceLower=True), overwrite=True)\n",
    "osm_db = osm_to_psql(osm, osm_db)"
   ]
  },
  {
   "cell_type": "markdown",
   "id": "e660f335-8bc5-43e7-847f-edb58b589c73",
   "metadata": {
    "tags": []
   },
   "source": [
    "### Get OSM Features and classes"
   ]
  },
  {
   "cell_type": "code",
   "execution_count": null,
   "id": "5c4e54e6-d9cd-45aa-803d-b0a69c56ed78",
   "metadata": {
    "tags": []
   },
   "outputs": [],
   "source": [
    "osmfeat = osm_features()\n",
    "\n",
    "osmfeat['whr'] = osmfeat['table'] + '.' + \\\n",
    "    osmfeat['key'] + \"='\" + osmfeat['value'] + \"'\""
   ]
  },
  {
   "cell_type": "markdown",
   "id": "e7db4309-3460-49b1-b088-12bc8b930655",
   "metadata": {
    "tags": []
   },
   "source": [
    "### Module 1"
   ]
  },
  {
   "cell_type": "code",
   "execution_count": null,
   "id": "fb1a8eee-1d44-4463-aebf-1a5a91a0ad22",
   "metadata": {
    "tags": []
   },
   "outputs": [],
   "source": [
    "m1feat = osmfeat[(osmfeat.table == 'multipolygons') & (osmfeat.module == 1)]\n",
    "\n",
    "time_a = dt.datetime.now().replace(microsecond=0)\n",
    "\n",
    "polygons = 'multipolygons'\n",
    "for cls in m1feat.cos2022.unique():\n",
    "    df_cls = m1feat[m1feat.cos2022 == cls]\n",
    "    \n",
    "    whr_str = df_cls.whr.str.cat(sep=' OR ')\n",
    "    \n",
    "    nrow = row_num(\n",
    "        osm_db, polygons,\n",
    "        where=whr_str, api='psql'\n",
    "    )\n",
    "    \n",
    "    if not nrow: continue\n",
    "    \n",
    "    shp = st_dissolve(\n",
    "        osm_db, polygons,\n",
    "        f'ST_Transform(wkb_geometry, {epsg})',\n",
    "        os.path.join(ws, f'mod1_{str(cls)}.shp'),\n",
    "        whrClause=whr_str,\n",
    "        outTblIsFile=True,\n",
    "        valascol={'lulc' : cls},\n",
    "        geomout='geom', api='psql',\n",
    "        multipart=None\n",
    "    )\n",
    "\n",
    "time_b = dt.datetime.now().replace(microsecond=0)\n",
    "\n",
    "print(time_b - time_a)"
   ]
  },
  {
   "cell_type": "markdown",
   "id": "3cb8259d-9d11-45ab-9010-7055edcffadf",
   "metadata": {},
   "source": [
    "### Module 2"
   ]
  },
  {
   "cell_type": "code",
   "execution_count": null,
   "id": "125ee57f-99da-4aa8-8a51-b16364977e3e",
   "metadata": {
    "tags": []
   },
   "outputs": [],
   "source": [
    "m2feat = osmfeat[\n",
    "    (osmfeat.table == 'lines') &\n",
    "    (osmfeat.module == 2) &\n",
    "    (osmfeat.distbf > 0)\n",
    "]\n",
    "\n",
    "m2feat['caseaux'] = 'WHEN ' + m2feat['key'] + '=\\'' + \\\n",
    "    m2feat['value'] + '\\' THEN ' + m2feat['distbf']\n",
    "\n",
    "time_a = dt.datetime.now().replace(microsecond=0)\n",
    "\n",
    "nbuild = cnt_rows(\n",
    "    osm_db, polygons,\n",
    "    where=\"building IS NOT NULL\",\n",
    "    api='psql'\n",
    ")\n",
    "\n",
    "caselulc = \n",
    "\n",
    "time_b = dt.datetime.now().replace(microsecond=0)\n",
    "\n",
    "print(time_b - time_a)"
   ]
  },
  {
   "cell_type": "code",
   "execution_count": null,
   "id": "e9965747-d8a8-4188-b858-1ca8a228cb4b",
   "metadata": {
    "tags": []
   },
   "outputs": [],
   "source": [
    "m2feat"
   ]
  },
  {
   "cell_type": "code",
   "execution_count": null,
   "id": "0ff43424-54a9-495a-956e-53cd39c63f81",
   "metadata": {},
   "outputs": [],
   "source": []
  }
 ],
 "metadata": {
  "kernelspec": {
   "display_name": "Python 3 (ipykernel)",
   "language": "python",
   "name": "python3"
  },
  "language_info": {
   "codemirror_mode": {
    "name": "ipython",
    "version": 3
   },
   "file_extension": ".py",
   "mimetype": "text/x-python",
   "name": "python",
   "nbconvert_exporter": "python",
   "pygments_lexer": "ipython3",
   "version": "3.10.12"
  }
 },
 "nbformat": 4,
 "nbformat_minor": 5
}
