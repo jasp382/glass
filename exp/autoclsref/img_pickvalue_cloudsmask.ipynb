{
 "cells": [
  {
   "cell_type": "code",
   "execution_count": null,
   "id": "b73368ac-5ab3-4357-b3c4-957aec3a3b94",
   "metadata": {},
   "outputs": [],
   "source": [
    "data = {\n",
    "    '/home/gisuser/autocls2/fmask2018/fmask_outono_source.tif' : [\n",
    "        '/home/gisuser/autocls2/i_20170921',\n",
    "        '/home/gisuser/autocls2/i_20170926',\n",
    "        '/home/gisuser/autocls2/i_20171001'\n",
    "    ],\n",
    "    '/home/gisuser/autocls2/fmask2018/fmask_winter_source.tif' : [\n",
    "        '/home/gisuser/autocls2/i_20180104',\n",
    "        '/home/gisuser/autocls2/i_20180119'\n",
    "    ],\n",
    "    '/home/gisuser/autocls2/fmask2018/fmask_spring_source.tif' : [\n",
    "        '/home/gisuser/autocls2/i_20180315',\n",
    "        '/home/gisuser/autocls2/i_20180320'\n",
    "    ],\n",
    "    '/home/gisuser/autocls2/fmask2018/fmask_summer_source.tif' : [\n",
    "        '/home/gisuser/autocls2/i_20180812',\n",
    "        '/home/gisuser/autocls2/i_20180822'\n",
    "    ]\n",
    "}\n",
    "\n",
    "outfolder = '/home/gisuser/autocls2/resimg'"
   ]
  },
  {
   "cell_type": "code",
   "execution_count": null,
   "id": "d599424d-ed6e-4618-b76b-f7ef04062ddc",
   "metadata": {},
   "outputs": [],
   "source": [
    "import os\n",
    "from osgeo import gdal, gdal_array\n",
    "import numpy as np\n",
    "\n",
    "from glass.prop.img import rst_epsg\n",
    "from glass.pys.oss import lst_ff, mkdir, fprop\n",
    "from glass.cons.sat import get_lwibands\n",
    "from glass.wt.rst import obj_to_rst"
   ]
  },
  {
   "cell_type": "code",
   "execution_count": null,
   "id": "d31b9828-b583-4297-bea3-a8d8de855b6c",
   "metadata": {},
   "outputs": [],
   "source": [
    "rbands = get_lwibands()"
   ]
  },
  {
   "cell_type": "code",
   "execution_count": null,
   "id": "56062c36-ec6d-4773-86e9-d4cd45de597b",
   "metadata": {},
   "outputs": [],
   "source": [
    "_data = {}\n",
    "\n",
    "for k in data:\n",
    "    _data[k] = []\n",
    "\n",
    "    for i in data[k]:\n",
    "        bands = lst_ff(i, file_format='.tif')\n",
    "\n",
    "        _bands = {}\n",
    "\n",
    "        for b in rbands:\n",
    "            for _b in bands:\n",
    "                if b in _b:\n",
    "                    _bands[b] = _b\n",
    "                    break\n",
    "\n",
    "        _data[k].append(_bands)"
   ]
  },
  {
   "cell_type": "code",
   "execution_count": null,
   "id": "7266a163-5506-4a24-ac51-09935579de09",
   "metadata": {},
   "outputs": [],
   "source": [
    "# Produce results\n",
    "for mask in _data:\n",
    "    # Make dir to store results\n",
    "    iout_fld = mkdir(os.path.join(outfolder, fprop(mask, 'fn')), overwrite=True)\n",
    "    \n",
    "    # Open Mask\n",
    "    mask_src = gdal.Open(mask, gdal.GA_ReadOnly)\n",
    "\n",
    "    mask_nd  = mask_src.GetRasterBand(1).GetNoDataValue()\n",
    "    mask_num = mask_src.GetRasterBand(1).ReadAsArray()\n",
    "    _mask_val = list(np.unique(mask_num))\n",
    "\n",
    "    mask_val = [v for v in _mask_val if v != mask_nd]\n",
    "\n",
    "    # Create new bands:\n",
    "    for b in _data[mask][0]:\n",
    "        # Open Bands\n",
    "        band_src = [gdal.Open(i[b], gdal.GA_ReadOnly) for i in _data[mask]]\n",
    "\n",
    "        # Get NoDataValues\n",
    "        ndvals = [s.GetRasterBand(1).GetNoDataValue() for s in band_src]\n",
    "\n",
    "        # Get Arrays\n",
    "        arrays = [s.GetRasterBand(1).ReadAsArray() for s in band_src]\n",
    "\n",
    "        new_band = np.zeros(\n",
    "            mask_num.shape,\n",
    "            gdal_array.GDALTypeCodeToNumericTypeCode(\n",
    "                band_src[0].GetRasterBand(1).DataType\n",
    "            )\n",
    "        )\n",
    "\n",
    "        # Place values\n",
    "        for v in mask_val:\n",
    "            if v == 0:\n",
    "                np.place(new_band, mask_num == 0, ndvals[0])\n",
    "                continue\n",
    "            \n",
    "            np.copyto(new_band, arrays[v-1], 'no', mask_num == v)\n",
    "\n",
    "        np.place(new_band, mask_num == mask_nd, ndvals[0])\n",
    "\n",
    "        # Write file\n",
    "        new_file = obj_to_rst(\n",
    "            new_band, os.path.join(iout_fld, f'{b}.tif'),\n",
    "            band_src[0].GetGeoTransform(),\n",
    "            rst_epsg(band_src[0]), noData=ndvals[0]\n",
    "        )"
   ]
  },
  {
   "cell_type": "code",
   "execution_count": null,
   "id": "96e8d904-7c67-4b61-ad75-7dce7cdebedd",
   "metadata": {},
   "outputs": [],
   "source": [
    "_data"
   ]
  },
  {
   "cell_type": "code",
   "execution_count": null,
   "id": "00da3acc-ebae-476d-9c74-070d0438d46a",
   "metadata": {},
   "outputs": [],
   "source": []
  }
 ],
 "metadata": {
  "kernelspec": {
   "display_name": "Python 3 (ipykernel)",
   "language": "python",
   "name": "python3"
  },
  "language_info": {
   "codemirror_mode": {
    "name": "ipython",
    "version": 3
   },
   "file_extension": ".py",
   "mimetype": "text/x-python",
   "name": "python",
   "nbconvert_exporter": "python",
   "pygments_lexer": "ipython3",
   "version": "3.10.12"
  }
 },
 "nbformat": 4,
 "nbformat_minor": 5
}
