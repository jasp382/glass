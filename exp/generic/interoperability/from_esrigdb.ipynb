{
 "cells": [
  {
   "cell_type": "code",
   "execution_count": null,
   "id": "60d5eaf2-f01f-4b3b-8a75-21a1766bebdf",
   "metadata": {},
   "outputs": [],
   "source": [
    "from glass.it.shp import gdb_to_gpkg\n",
    "\n",
    "gdb = '/mnt/g/mainphd.gdb'\n",
    "\n",
    "lyrs = [\n",
    "    'backbone_alentejo_v5',\n",
    "    'backbone_algarve_v5',\n",
    "    'backbone_coimbra_v5',\n",
    "    'backbone_lisbon_v5',\n",
    "    'backbone_pnse_v5',\n",
    "    'backbone_porto_v5'\n",
    "]\n",
    "\n",
    "gpkg = '/mnt/g/autocls/osmtolc_1710.gpkg'\n",
    "\n",
    "gdb_to_gpkg(gdb, lyrs, gpkg)"
   ]
  },
  {
   "cell_type": "code",
   "execution_count": null,
   "id": "fbdf872d-c649-4eb5-abf6-48f968265848",
   "metadata": {},
   "outputs": [],
   "source": []
  }
 ],
 "metadata": {
  "kernelspec": {
   "display_name": "Python 3 (ipykernel)",
   "language": "python",
   "name": "python3"
  },
  "language_info": {
   "codemirror_mode": {
    "name": "ipython",
    "version": 3
   },
   "file_extension": ".py",
   "mimetype": "text/x-python",
   "name": "python",
   "nbconvert_exporter": "python",
   "pygments_lexer": "ipython3",
   "version": "3.10.12"
  }
 },
 "nbformat": 4,
 "nbformat_minor": 5
}
