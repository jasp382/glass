{
 "cells": [
  {
   "cell_type": "markdown",
   "id": "3ca34a4d-96bc-494e-a5b9-5d7e1bf6a75b",
   "metadata": {},
   "source": [
    "### Setup Train Raster"
   ]
  },
  {
   "cell_type": "code",
   "execution_count": null,
   "id": "4b960f39-435b-44e9-bcbe-b22c6459f605",
   "metadata": {},
   "outputs": [],
   "source": [
    "train_ref = '/mnt/disk1/jasp/expfrancisco/clsmask.tif'\n",
    "\n",
    "class_col = None\n",
    "\n",
    "class_proportion = {\n",
    "    1 : 0.15,\n",
    "    3 : 64.67,\n",
    "    4 : 29.54,\n",
    "    5 : 5.28,\n",
    "    6 : 0.36\n",
    "}\n",
    "\n",
    "ref_raster = '/mnt/disk1/jasp/expfrancisco/vars/b02_20200220.tif'\n",
    "\n",
    "clouds = '/mnt/disk1/jasp/expfrancisco/clouds_2020.tif'\n",
    "\n",
    "sample_dim = 1000000\n",
    "cls_sample_min = 400\n",
    "\n",
    "out_rst = '/mnt/disk1/jasp/expfrancisco/reftrain_100k.tif'\n",
    "\n",
    "from glass.ete.autocls.trainref import random_select_from_ref\n",
    "\n",
    "random_select_from_ref(\n",
    "    train_ref, class_col, class_proportion,\n",
    "    ref_raster, sample_dim, cls_sample_min, out_rst,\n",
    "    clouds=clouds\n",
    ")"
   ]
  },
  {
   "cell_type": "markdown",
   "id": "275cfceb-1f5e-47be-b803-836140245cd0",
   "metadata": {},
   "source": [
    "# Setup train - Version 2"
   ]
  },
  {
   "cell_type": "code",
   "execution_count": null,
   "id": "bea8bf9d-06dc-4b12-99ab-e1d24dbe8416",
   "metadata": {},
   "outputs": [],
   "source": [
    "mapdata = {\n",
    "    'file' : '/mnt/g/autocls/exp1/extract_train.xlsx',\n",
    "    'map'  : 'map_files',\n",
    "    'count' : 'get_train'\n",
    "}\n",
    "\n",
    "from glass.smp import random_cells_extract\n",
    "from glass.rd import tbl_to_obj\n",
    "\n",
    "\n",
    "mapdf = tbl_to_obj(mapdata['file'], sheet=mapdata['map'])\n",
    "cdf = tbl_to_obj(mapdata['file'], sheet=mapdata['count'])\n",
    "\n",
    "for i, row in mapdf.iterrows():\n",
    "    classes = cdf['class'].tolist()\n",
    "    counting = cdf[row.slug].tolist()\n",
    "\n",
    "    ncells = {classes[i] : counting[i] for i in range(len(classes))}\n",
    "\n",
    "    random_cells_extract(\n",
    "        row.path, ncells, row.out\n",
    "    )"
   ]
  },
  {
   "cell_type": "code",
   "execution_count": null,
   "id": "9f94803b-b019-47b7-8284-d5f313fe960a",
   "metadata": {},
   "outputs": [],
   "source": [
    "mapdf"
   ]
  },
  {
   "cell_type": "code",
   "execution_count": null,
   "id": "eb0f2ac4-27d6-4874-bc96-23221ec6a40b",
   "metadata": {},
   "outputs": [],
   "source": [
    "cdf"
   ]
  },
  {
   "cell_type": "code",
   "execution_count": null,
   "id": "ff4de962-8217-494b-93fc-fd325f44ac1e",
   "metadata": {},
   "outputs": [],
   "source": []
  }
 ],
 "metadata": {
  "kernelspec": {
   "display_name": "Python 3 (ipykernel)",
   "language": "python",
   "name": "python3"
  },
  "language_info": {
   "codemirror_mode": {
    "name": "ipython",
    "version": 3
   },
   "file_extension": ".py",
   "mimetype": "text/x-python",
   "name": "python",
   "nbconvert_exporter": "python",
   "pygments_lexer": "ipython3",
   "version": "3.10.12"
  }
 },
 "nbformat": 4,
 "nbformat_minor": 5
}
