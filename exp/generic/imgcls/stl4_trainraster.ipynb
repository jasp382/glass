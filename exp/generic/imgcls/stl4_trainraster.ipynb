{
 "cells": [
  {
   "cell_type": "markdown",
   "id": "3ca34a4d-96bc-494e-a5b9-5d7e1bf6a75b",
   "metadata": {},
   "source": [
    "### Setup Train Raster"
   ]
  },
  {
   "cell_type": "code",
   "execution_count": null,
   "id": "4b960f39-435b-44e9-bcbe-b22c6459f605",
   "metadata": {},
   "outputs": [],
   "source": [
    "train_ref = '/mnt/disk1/jasp/expfrancisco/clsmask.tif'\n",
    "\n",
    "class_col = None\n",
    "\n",
    "class_proportion = {\n",
    "    1 : 0.15,\n",
    "    3 : 64.67,\n",
    "    4 : 29.54,\n",
    "    5 : 5.28,\n",
    "    6 : 0.36\n",
    "}\n",
    "\n",
    "ref_raster = '/mnt/disk1/jasp/expfrancisco/vars/b02_20200220.tif'\n",
    "\n",
    "clouds = '/mnt/disk1/jasp/expfrancisco/clouds_2020.tif'\n",
    "\n",
    "sample_dim = 1000000\n",
    "cls_sample_min = 400\n",
    "\n",
    "out_rst = '/mnt/disk1/jasp/expfrancisco/reftrain_100k.tif'\n",
    "\n",
    "from glass.ete.autocls.trainref import random_select_from_ref\n",
    "\n",
    "random_select_from_ref(\n",
    "    train_ref, class_col, class_proportion,\n",
    "    ref_raster, sample_dim, cls_sample_min, out_rst,\n",
    "    clouds=clouds\n",
    ")"
   ]
  }
 ],
 "metadata": {
  "kernelspec": {
   "display_name": "Python 3 (ipykernel)",
   "language": "python",
   "name": "python3"
  },
  "language_info": {
   "codemirror_mode": {
    "name": "ipython",
    "version": 3
   },
   "file_extension": ".py",
   "mimetype": "text/x-python",
   "name": "python",
   "nbconvert_exporter": "python",
   "pygments_lexer": "ipython3",
   "version": "3.10.12"
  }
 },
 "nbformat": 4,
 "nbformat_minor": 5
}
