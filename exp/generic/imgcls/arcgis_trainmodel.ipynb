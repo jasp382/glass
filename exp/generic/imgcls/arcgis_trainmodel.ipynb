{
 "cells": [
  {
   "cell_type": "code",
   "execution_count": null,
   "id": "87ea71b7-8080-4b10-9bbb-c7db53dc6808",
   "metadata": {},
   "outputs": [],
   "source": [
    "models = r'G:\\autocls\\exp1_models\\models.xlsx'\n",
    "\n",
    "sheet = 'models_2'"
   ]
  },
  {
   "cell_type": "code",
   "execution_count": null,
   "id": "f935eb0e-dcfb-4d9f-9ae7-a37db1c6bf65",
   "metadata": {},
   "outputs": [],
   "source": [
    "import arcpy\n",
    "from arcpy.ia import *\n",
    "\n",
    "from glass.rd import tbl_to_obj"
   ]
  },
  {
   "cell_type": "code",
   "execution_count": null,
   "id": "ad2c25ff-1d2b-44cd-9214-32a1d6fd3b24",
   "metadata": {},
   "outputs": [],
   "source": [
    "df = tbl_to_obj(models, sheet=sheet)"
   ]
  },
  {
   "cell_type": "code",
   "execution_count": null,
   "id": "55ff6d48-dbb3-416f-aa81-1f92666e0bae",
   "metadata": {},
   "outputs": [],
   "source": [
    "# Check out the ArcGIS Image Analyst extension license\n",
    "arcpy.CheckOutExtension(\"ImageAnalyst\")\n",
    "\n",
    "for i, row in df.iterrows():\n",
    "    TrainRandomTreesClassifier(\n",
    "        row['features'],\n",
    "        row.reference,\n",
    "        row.outfile,\n",
    "        \"\",\n",
    "        int(row.trees),\n",
    "        int(row.depth),\n",
    "        int(row.samples),\n",
    "        \"COLOR;MEAN;STD;COUNT;COMPACTNESS;RECTANGULARITY\"\n",
    "    )"
   ]
  },
  {
   "cell_type": "code",
   "execution_count": null,
   "id": "3854195e-2baf-49fe-bbc2-976827a311d1",
   "metadata": {},
   "outputs": [],
   "source": [
    "df"
   ]
  },
  {
   "cell_type": "code",
   "execution_count": null,
   "id": "d832ae05-2b62-4c47-8946-93615d1c2e0d",
   "metadata": {},
   "outputs": [],
   "source": []
  }
 ],
 "metadata": {
  "kernelspec": {
   "display_name": "Python 3 (ipykernel)",
   "language": "python",
   "name": "python3"
  },
  "language_info": {
   "codemirror_mode": {
    "name": "ipython",
    "version": 3
   },
   "file_extension": ".py",
   "mimetype": "text/x-python",
   "name": "python",
   "nbconvert_exporter": "python",
   "pygments_lexer": "ipython3",
   "version": "3.9.16"
  }
 },
 "nbformat": 4,
 "nbformat_minor": 5
}
