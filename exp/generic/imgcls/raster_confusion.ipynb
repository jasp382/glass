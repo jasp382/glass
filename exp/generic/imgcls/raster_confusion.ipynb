{
 "cells": [
  {
   "cell_type": "code",
   "execution_count": 1,
   "id": "a9a43d58-276f-48d0-afd9-be40760a0e6c",
   "metadata": {},
   "outputs": [],
   "source": [
    "table = '/home/gisuser/autocls/valida_list.xlsx'\n",
    "\n",
    "sheet = 'trainvalida'\n",
    "\n",
    "classes_leg = {\n",
    "    1 : 'Sealed',\n",
    "    2 : 'Trees',\n",
    "    3 : 'Shrubs',\n",
    "    4 : 'Herbaceous',\n",
    "    5 : 'Wetlands',\n",
    "    6 : 'Non_Vegetated',\n",
    "    7 : 'Water'\n",
    "}"
   ]
  },
  {
   "cell_type": "code",
   "execution_count": 2,
   "id": "308653bd-d2af-4038-8c85-3c07d9ef35fc",
   "metadata": {},
   "outputs": [],
   "source": [
    "from glass.rd import tbl_to_obj\n",
    "\n",
    "from glass.rst.confmtx.totbl import confmtx_twrst\n",
    "from glass.prop.rst import rst_shape"
   ]
  },
  {
   "cell_type": "code",
   "execution_count": 3,
   "id": "638aede1-5593-4d5e-b661-d08250da2acb",
   "metadata": {},
   "outputs": [],
   "source": [
    "df = tbl_to_obj(table, sheet=sheet)"
   ]
  },
  {
   "cell_type": "code",
   "execution_count": 4,
   "id": "eb599fd2-1c50-4c97-8f40-ed8a63764103",
   "metadata": {},
   "outputs": [
    {
     "name": "stderr",
     "output_type": "stream",
     "text": [
      "/home/gisuser/glass/glass/cls/eval.py:264: RuntimeWarning: invalid value encountered in scalar divide\n",
      "  recall = [df.loc[clsid[i], clsid[i]] / cols_sum[i] * 100 for i in range(len(clsid))]\n",
      "/home/gisuser/glass/glass/cls/eval.py:264: RuntimeWarning: invalid value encountered in scalar divide\n",
      "  recall = [df.loc[clsid[i], clsid[i]] / cols_sum[i] * 100 for i in range(len(clsid))]\n",
      "/home/gisuser/glass/glass/cls/eval.py:264: RuntimeWarning: invalid value encountered in scalar divide\n",
      "  recall = [df.loc[clsid[i], clsid[i]] / cols_sum[i] * 100 for i in range(len(clsid))]\n",
      "/home/gisuser/glass/glass/cls/eval.py:264: RuntimeWarning: invalid value encountered in scalar divide\n",
      "  recall = [df.loc[clsid[i], clsid[i]] / cols_sum[i] * 100 for i in range(len(clsid))]\n",
      "/home/gisuser/glass/glass/cls/eval.py:264: RuntimeWarning: invalid value encountered in scalar divide\n",
      "  recall = [df.loc[clsid[i], clsid[i]] / cols_sum[i] * 100 for i in range(len(clsid))]\n",
      "/home/gisuser/glass/glass/cls/eval.py:264: RuntimeWarning: invalid value encountered in scalar divide\n",
      "  recall = [df.loc[clsid[i], clsid[i]] / cols_sum[i] * 100 for i in range(len(clsid))]\n",
      "/home/gisuser/glass/glass/cls/eval.py:264: RuntimeWarning: invalid value encountered in scalar divide\n",
      "  recall = [df.loc[clsid[i], clsid[i]] / cols_sum[i] * 100 for i in range(len(clsid))]\n",
      "/home/gisuser/glass/glass/cls/eval.py:264: RuntimeWarning: invalid value encountered in scalar divide\n",
      "  recall = [df.loc[clsid[i], clsid[i]] / cols_sum[i] * 100 for i in range(len(clsid))]\n",
      "/home/gisuser/glass/glass/cls/eval.py:257: RuntimeWarning: invalid value encountered in scalar divide\n",
      "  precision = [df.loc[r, r] / df.loc[r, 'row_area'] * 100 for r in clsid]\n",
      "/home/gisuser/glass/glass/cls/eval.py:264: RuntimeWarning: invalid value encountered in scalar divide\n",
      "  recall = [df.loc[clsid[i], clsid[i]] / cols_sum[i] * 100 for i in range(len(clsid))]\n",
      "/home/gisuser/glass/glass/cls/eval.py:257: RuntimeWarning: invalid value encountered in scalar divide\n",
      "  precision = [df.loc[r, r] / df.loc[r, 'row_area'] * 100 for r in clsid]\n",
      "/home/gisuser/glass/glass/cls/eval.py:264: RuntimeWarning: invalid value encountered in scalar divide\n",
      "  recall = [df.loc[clsid[i], clsid[i]] / cols_sum[i] * 100 for i in range(len(clsid))]\n",
      "/home/gisuser/glass/glass/cls/eval.py:264: RuntimeWarning: invalid value encountered in scalar divide\n",
      "  recall = [df.loc[clsid[i], clsid[i]] / cols_sum[i] * 100 for i in range(len(clsid))]\n",
      "/home/gisuser/glass/glass/cls/eval.py:264: RuntimeWarning: invalid value encountered in scalar divide\n",
      "  recall = [df.loc[clsid[i], clsid[i]] / cols_sum[i] * 100 for i in range(len(clsid))]\n",
      "/home/gisuser/glass/glass/cls/eval.py:264: RuntimeWarning: invalid value encountered in scalar divide\n",
      "  recall = [df.loc[clsid[i], clsid[i]] / cols_sum[i] * 100 for i in range(len(clsid))]\n",
      "/home/gisuser/glass/glass/cls/eval.py:264: RuntimeWarning: invalid value encountered in scalar divide\n",
      "  recall = [df.loc[clsid[i], clsid[i]] / cols_sum[i] * 100 for i in range(len(clsid))]\n",
      "/home/gisuser/glass/glass/cls/eval.py:264: RuntimeWarning: invalid value encountered in scalar divide\n",
      "  recall = [df.loc[clsid[i], clsid[i]] / cols_sum[i] * 100 for i in range(len(clsid))]\n",
      "/home/gisuser/glass/glass/cls/eval.py:264: RuntimeWarning: invalid value encountered in scalar divide\n",
      "  recall = [df.loc[clsid[i], clsid[i]] / cols_sum[i] * 100 for i in range(len(clsid))]\n"
     ]
    }
   ],
   "source": [
    "for i, row in df.iterrows():\n",
    "    confmtx_twrst(\n",
    "        row.reference, row.classification, row.out,\n",
    "        classes=classes_leg\n",
    "    )"
   ]
  },
  {
   "cell_type": "code",
   "execution_count": null,
   "id": "bdafd721-c13f-4e8a-9e27-42b5da8adcdb",
   "metadata": {},
   "outputs": [],
   "source": []
  }
 ],
 "metadata": {
  "kernelspec": {
   "display_name": "Python 3 (ipykernel)",
   "language": "python",
   "name": "python3"
  },
  "language_info": {
   "codemirror_mode": {
    "name": "ipython",
    "version": 3
   },
   "file_extension": ".py",
   "mimetype": "text/x-python",
   "name": "python",
   "nbconvert_exporter": "python",
   "pygments_lexer": "ipython3",
   "version": "3.10.12"
  }
 },
 "nbformat": 4,
 "nbformat_minor": 5
}
