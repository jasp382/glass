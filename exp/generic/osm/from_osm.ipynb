{
 "cells": [
  {
   "cell_type": "markdown",
   "metadata": {},
   "source": [
    "# OSM File to PSQL DB"
   ]
  },
  {
   "cell_type": "code",
   "execution_count": null,
   "metadata": {},
   "outputs": [],
   "source": [
    "from glass.it.db import osm_to_psql\n",
    "\n",
    "inOsm = '/mnt/disk1/jasp/osm2lulc/europe-latest.osm.pbf'\n",
    "out_db = 'osm_europe'\n",
    "\n",
    "osm_to_psql(inOsm, out_db)"
   ]
  },
  {
   "cell_type": "markdown",
   "metadata": {},
   "source": [
    "# OSM File to PSQL DB"
   ]
  },
  {
   "cell_type": "code",
   "execution_count": null,
   "metadata": {},
   "outputs": [],
   "source": [
    "from glass.it.db import osm_to_psql\n",
    "from glass.pys.oss import lst_ff, fprop\n",
    "\n",
    "in_f = '/mnt/d/osm2lulc01/osm/osmptparts'\n",
    "\n",
    "osm_db = 'osm_pt'\n",
    "\n",
    "ff = '.pbf'\n",
    "\n",
    "osms = lst_ff(in_f, file_format=ff)\n",
    "\n",
    "for osm in osms:\n",
    "    osm_to_psql(osm, fprop(osm, 'fn'))"
   ]
  },
  {
   "cell_type": "markdown",
   "metadata": {},
   "source": [
    "# Convert OSM data into Feature Class #"
   ]
  },
  {
   "cell_type": "code",
   "execution_count": null,
   "metadata": {},
   "outputs": [],
   "source": [
    "from glass.it.osm import osm_to_featcls\n",
    "from glass.pys.oss import lst_ff\n",
    "import os\n",
    "\n",
    "ifolder = '/mnt/d/a2land2023/osmdata'\n",
    "osmfiles = lst_ff(ifolder, file_format='.xml')\n",
    "\n",
    "for osm in osmfiles:\n",
    "    osm_to_featcls(osm, os.path.dirname(osm), useXmlName=True, outepsg=3763)"
   ]
  },
  {
   "cell_type": "code",
   "execution_count": null,
   "metadata": {
    "tags": []
   },
   "outputs": [],
   "source": [
    "from glass.it.osm import osm_to_featcls\n",
    "import os\n",
    "osm = '/mnt/d/osm2lulc01/osm/ile-de-france-latest.osm.pbf'\n",
    "\n",
    "osm_to_featcls(osm, os.path.dirname(osm),useXmlName=None, outepsg=3035)"
   ]
  },
  {
   "cell_type": "code",
   "execution_count": null,
   "metadata": {},
   "outputs": [],
   "source": [
    "from glass.it.osm import osm_to_gpkg\n",
    "\n",
    "osm = '/home/gisuser/osmpr/osm/osm_porto.pbf'\n",
    "gpkg = '/home/gisuser/osmpr/osm/osm_porto.gpkg'\n",
    "\n",
    "osm_to_gpkg(osm, gpkg)"
   ]
  },
  {
   "cell_type": "code",
   "execution_count": null,
   "metadata": {},
   "outputs": [],
   "source": []
  }
 ],
 "metadata": {
  "kernelspec": {
   "display_name": "Python 3 (ipykernel)",
   "language": "python",
   "name": "python3"
  },
  "language_info": {
   "codemirror_mode": {
    "name": "ipython",
    "version": 3
   },
   "file_extension": ".py",
   "mimetype": "text/x-python",
   "name": "python",
   "nbconvert_exporter": "python",
   "pygments_lexer": "ipython3",
   "version": "3.10.12"
  }
 },
 "nbformat": 4,
 "nbformat_minor": 4
}
