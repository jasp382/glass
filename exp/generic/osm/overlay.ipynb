{
 "cells": [
  {
   "cell_type": "markdown",
   "metadata": {},
   "source": [
    "# Clip OSMFile using OSMOSIS\n",
    "\n",
    "This method uses OSMOSIS to get an OSM extract from a big OSM File\n",
    "\n",
    "### Parameters: ###\n",
    "\n",
    "**INTEREST_AREA** - Extent of your interest area. Could be a path to a file (e.g. ESRI Shapefile or KML), a wkt string, or a list with wkt strings:\n",
    "\n",
    "```Python\n",
    "# If it is WKT\n",
    "INTEREST_AREA = \"POLYGON ((30 10, 40 40, 20 40, 10 20, 30 10))\"\n",
    "\n",
    "# OR if it is a List of WKT\n",
    "# The list order should be: left; right; bottom; top\n",
    "INTEREST_AREA = [\"POLYGON ((30 10, 40 40, 20 40, 10 20, 30 10))\", \"POLYGON ((15 5, 20 20, 10 20, 5 10, 15 5))\"]\n",
    "\n",
    "# OR if it is a File\n",
    "INTEREST_AREA = '/path/to/yourboundary.shp'\n",
    "```\n",
    "\n",
    "**OSMDATA** - Path to the output file that will have OSM Data available in the Interest Area;\n",
    "\n",
    "**EPSG** - EPSG Code of the Spatial Reference System of INTEREST_AREA."
   ]
  },
  {
   "cell_type": "code",
   "execution_count": null,
   "metadata": {
    "tags": []
   },
   "outputs": [],
   "source": [
    "from glass.gp.ovl.osm import osm_extraction\n",
    "\n",
    "INTEREST_AREA = '/mnt/g/autocls/gdb_autocls.gdb/lmt_wgs29/lmt_pnse'\n",
    "OSM_FILE      = '/home/jasp/s2img/portugal-latest.osm.pbf'\n",
    "OSM_EXTRACT   = '/home/jasp/s2img/osm_pnse.pbf'\n",
    "\n",
    "eachfeat= None\n",
    "epsg = None\n",
    "\n",
    "osm_extraction(\n",
    "    INTEREST_AREA, OSM_FILE, OSM_EXTRACT,\n",
    "    each_feat=eachfeat, epsg=epsg,\n",
    "    outbasename=None, api='osmconvert'\n",
    ")"
   ]
  },
  {
   "cell_type": "markdown",
   "metadata": {},
   "source": [
    "### Clip OSMFile for each shapefile in one folder"
   ]
  },
  {
   "cell_type": "code",
   "execution_count": null,
   "metadata": {},
   "outputs": [],
   "source": [
    "osmfile  = '/mnt/disk1/jasp/osm2lulc/europe-latest.osm.pbf'\n",
    "clipshps = '/mnt/disk1/jasp/osm2lulc/lmt_basel'\n",
    "\n",
    "outfolder = '/mnt/disk1/jasp/osm2lulc/osm_parts'\n",
    "\n",
    "bname = 'osmbasel'"
   ]
  },
  {
   "cell_type": "code",
   "execution_count": null,
   "metadata": {},
   "outputs": [],
   "source": [
    "from glass.gp.ovl.osm import osmextract_foreachshp\n",
    "\n",
    "osmextract_foreachshp(osmfile, clipshps, outfolder, bname=bname)"
   ]
  },
  {
   "cell_type": "markdown",
   "metadata": {},
   "source": [
    "### Clip OSM File for each feature in one shapefile"
   ]
  },
  {
   "cell_type": "code",
   "execution_count": null,
   "metadata": {},
   "outputs": [],
   "source": [
    "osmfile = '/mnt/d/osm2lulc01/osm/portugal-latest.osm.pbf'\n",
    "clipshp = '/mnt/d/osm2lulc01/lmt/pt_refgrid.shp'\n",
    "\n",
    "featid = 'tileid'\n",
    "\n",
    "ofolder = '/mnt/d/osm2lulc01/osm'\n",
    "\n",
    "bname = 'osmpt'"
   ]
  },
  {
   "cell_type": "code",
   "execution_count": null,
   "metadata": {},
   "outputs": [],
   "source": [
    "from glass.gp.ovl.osm import osmextract_foreachfeat\n",
    "\n",
    "osmextract_foreachfeat(osmfile, clipshp, featid, ofolder, bname=bname, api='osmconvert', outff='pbf')"
   ]
  },
  {
   "cell_type": "code",
   "execution_count": null,
   "metadata": {},
   "outputs": [],
   "source": []
  }
 ],
 "metadata": {
  "kernelspec": {
   "display_name": "Python 3 (ipykernel)",
   "language": "python",
   "name": "python3"
  },
  "language_info": {
   "codemirror_mode": {
    "name": "ipython",
    "version": 3
   },
   "file_extension": ".py",
   "mimetype": "text/x-python",
   "name": "python",
   "nbconvert_exporter": "python",
   "pygments_lexer": "ipython3",
   "version": "3.10.12"
  }
 },
 "nbformat": 4,
 "nbformat_minor": 4
}
