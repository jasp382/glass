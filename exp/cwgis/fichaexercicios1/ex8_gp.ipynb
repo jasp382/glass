{
 "cells": [
  {
   "cell_type": "markdown",
   "id": "d360650b-72ae-480d-90d3-2d1827ee30f3",
   "metadata": {},
   "source": [
    "## Exercise 8 | data in f1ex8 | determine the percentage of inhabited area within each Freguesia of Coimbra."
   ]
  },
  {
   "cell_type": "code",
   "execution_count": null,
   "id": "4303ce61-d819-4111-ac6b-aa8fc7fc8f43",
   "metadata": {},
   "outputs": [],
   "source": [
    "units_shp = '/mnt/d/cwsig/exercicios_2023_24/f1ex8/freg_coimbra.shp'\n",
    "\n",
    "unitsid = 'DICOFRE'\n",
    "\n",
    "inhab_shp = '/mnt/d/cwsig/exercicios_2023_24/f1ex8/areas_habitadas.shp'\n",
    "\n",
    "outcol = 'inhabpp'"
   ]
  },
  {
   "cell_type": "code",
   "execution_count": null,
   "id": "f31a87ea-550e-4847-a710-0be9a27f2a35",
   "metadata": {},
   "outputs": [],
   "source": [
    "import geopandas as gp\n",
    "import pandas as pd\n",
    "from glass.rd.shp import shp_to_obj"
   ]
  },
  {
   "cell_type": "code",
   "execution_count": null,
   "id": "7f116441-182c-471d-b5fe-c00e09c17a8e",
   "metadata": {},
   "outputs": [],
   "source": [
    "units_df = shp_to_obj(units_shp)\n",
    "\n",
    "inhab_df = shp_to_obj(inhab_shp)"
   ]
  },
  {
   "cell_type": "code",
   "execution_count": null,
   "id": "ea2e8126-25e6-4bf4-b8c3-0538dac18726",
   "metadata": {},
   "outputs": [],
   "source": [
    "units_df['total_area'] = units_df.geometry.area\n",
    "\n",
    "# Intersect\n",
    "res_df  = gp.overlay(units_df, inhab_df, how='intersection', keep_geom_type=True)\n",
    "\n",
    "res_df['inhabarea'] = res_df.geometry.area\n",
    "\n",
    "# Group By \n",
    "res_gp = pd.DataFrame({\n",
    "    'inhabarea' : res_df.groupby([unitsid])['inhabarea'].agg('sum')\n",
    "}).reset_index()\n",
    "\n",
    "res_gp.rename(columns={unitsid: 'fk'}, inplace=True)\n",
    "\n",
    "# Join\n",
    "units_df = units_df.merge(res_gp, how='left', left_on=unitsid, right_on='fk')\n",
    "\n",
    "# Get percentage\n",
    "units_df[outcol] = units_df.inhabarea / units_df.total_area * 100"
   ]
  },
  {
   "cell_type": "code",
   "execution_count": null,
   "id": "43ff8ae3-52f4-4f5f-b846-c6b5a69f4241",
   "metadata": {},
   "outputs": [],
   "source": [
    "units_df"
   ]
  },
  {
   "cell_type": "code",
   "execution_count": null,
   "id": "10d0e2f0-b050-46f9-8d0d-cc00d3583d5d",
   "metadata": {},
   "outputs": [],
   "source": [
    "units_df.inhabarea > units_df.total_area"
   ]
  },
  {
   "cell_type": "code",
   "execution_count": null,
   "id": "a214056e-8993-41c7-a441-adb119779c61",
   "metadata": {},
   "outputs": [],
   "source": []
  }
 ],
 "metadata": {
  "kernelspec": {
   "display_name": "Python 3 (ipykernel)",
   "language": "python",
   "name": "python3"
  },
  "language_info": {
   "codemirror_mode": {
    "name": "ipython",
    "version": 3
   },
   "file_extension": ".py",
   "mimetype": "text/x-python",
   "name": "python",
   "nbconvert_exporter": "python",
   "pygments_lexer": "ipython3",
   "version": "3.10.12"
  }
 },
 "nbformat": 4,
 "nbformat_minor": 5
}
