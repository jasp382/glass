{
 "cells": [
  {
   "cell_type": "markdown",
   "id": "bb19a87a-a502-48bf-b1d9-27583e3b9505",
   "metadata": {},
   "source": [
    "## Exercise 3 | data in f1ex3 | determine the municipal boundaries in the Coimbra Region based on the “Freguesias” boundaries (“Freguesias” are sub-units of the municipalities in Portugal).\n"
   ]
  },
  {
   "cell_type": "code",
   "execution_count": null,
   "id": "692ac423-3aba-4c24-be0a-ade6d2a4f3fc",
   "metadata": {},
   "outputs": [],
   "source": [
    "shp = '/home/ubuntu/fichaexercicios1/f1ex3/freg_regiao_coimbra.shp'\n",
    "\n",
    "col = 'Concelho'"
   ]
  },
  {
   "cell_type": "code",
   "execution_count": null,
   "id": "f7951cde-80dd-4eae-8523-22583c902caa",
   "metadata": {},
   "outputs": [],
   "source": [
    "import geopandas as gpd\n",
    "\n",
    "import matplotlib.pyplot as plt\n",
    "\n",
    "from glass.rd.shp import shp_to_obj\n",
    "from glass.gp.gen import df_dissolveimport matplotlib.pyplot as plt\n",
    "\n",
    "from glass.rd.shp import shp_to_obj\n",
    "from glass.gp.gen import df_dissolve"
   ]
  },
  {
   "cell_type": "code",
   "execution_count": null,
   "id": "e44c94f0-3dcc-422f-b98e-4eac9f99c974",
   "metadata": {},
   "outputs": [],
   "source": [
    "df = shp_to_obj(shp)\n",
    "\n",
    "res = df_dissolve(df, col)"
   ]
  },
  {
   "cell_type": "code",
   "execution_count": null,
   "id": "93d28aba-0586-49a1-9971-bc25a3faa561",
   "metadata": {},
   "outputs": [],
   "source": [
    "res.plot()\n",
    "plt.title('Coimbra Region')\n",
    "plt.axis('off')\n",
    "plt.show()"
   ]
  }
 ],
 "metadata": {
  "kernelspec": {
   "display_name": "Python 3 (ipykernel)",
   "language": "python",
   "name": "python3"
  },
  "language_info": {
   "codemirror_mode": {
    "name": "ipython",
    "version": 3
   },
   "file_extension": ".py",
   "mimetype": "text/x-python",
   "name": "python",
   "nbconvert_exporter": "python",
   "pygments_lexer": "ipython3",
   "version": "3.10.12"
  }
 },
 "nbformat": 4,
 "nbformat_minor": 5
}
