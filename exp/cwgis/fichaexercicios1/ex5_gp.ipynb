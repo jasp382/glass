{
 "cells": [
  {
   "cell_type": "markdown",
   "id": "9dc325bd-ec0c-4fea-b059-c68bb40e1543",
   "metadata": {},
   "source": [
    "## Exercise 5 | data in f1ex5 | calculate the urban green space area per inhabitant (m2/inhabitant). "
   ]
  },
  {
   "cell_type": "code",
   "execution_count": null,
   "id": "85246549-286f-4cd8-8251-d627ad8fab7f",
   "metadata": {},
   "outputs": [],
   "source": [
    "green_shp = '/mnt/d/cwsig/exercicios_2023_24/f1ex5/espacos_verdes.shp'\n",
    "pop_shp  = '/mnt/d/cwsig/exercicios_2023_24/f1ex5/freg_cmb.shp'\n",
    "\n",
    "popcol = 'popres11'\n",
    "popid = 'idfreg'\n",
    "\n",
    "outcol = 'green_by_person'"
   ]
  },
  {
   "cell_type": "code",
   "execution_count": null,
   "id": "a1278486-5998-4011-b333-dc9ce658bdc5",
   "metadata": {},
   "outputs": [],
   "source": [
    "import geopandas as gp\n",
    "import pandas as pd\n",
    "from glass.rd.shp import shp_to_obj\n",
    "from glass.prop.prj import get_epsg"
   ]
  },
  {
   "cell_type": "code",
   "execution_count": null,
   "id": "9e4b087f-0f9e-4272-bd80-a279c6362fa5",
   "metadata": {},
   "outputs": [],
   "source": [
    "green_df = shp_to_obj(green_shp)\n",
    "\n",
    "pop_df = shp_to_obj(pop_shp)\n",
    "\n",
    "epsg = get_epsg(green_shp)"
   ]
  },
  {
   "cell_type": "code",
   "execution_count": null,
   "id": "ff38492a-ca6b-4353-b2e1-db317ce36da1",
   "metadata": {},
   "outputs": [],
   "source": [
    "green_df['fk'] = 1\n",
    "pop_df['pk'] = 1\n",
    "\n",
    "join_df = pop_df.merge(green_df, how='inner', left_on='pk', right_on='fk')\n",
    "\n",
    "join_df['geomi'] = gp.GeoSeries(join_df.geometry_x).intersection(gp.GeoSeries(join_df.geometry_y))\n",
    "\n",
    "join_df = gp.GeoDataFrame(join_df, geometry=\"geomi\", crs=f\"EPSG:{str(epsg)}\")"
   ]
  },
  {
   "cell_type": "code",
   "execution_count": null,
   "id": "a6c3304f-e723-44eb-9120-8cac4f941da6",
   "metadata": {},
   "outputs": [],
   "source": [
    "join_df = join_df[~join_df.is_empty]\n",
    "\n",
    "join_df.reset_index(inplace=True)\n",
    "\n",
    "join_df[\"area_m2\"] = join_df.geomi.area\n",
    "\n",
    "pop_units = pd.DataFrame({\n",
    "    'area_green' : join_df.groupby([popid])['area_m2'].agg('sum')\n",
    "}).reset_index()\n",
    "\n",
    "pop_units.rename(columns={popid : f'fk_{popid}'}, inplace=True)\n",
    "\n",
    "pop_df = pop_df.merge(pop_units, how='left', left_on=popid, right_on=f'fk_{popid}')\n",
    "\n",
    "pop_df[outcol] = pop_df[\"area_green\"] / pop_df[popcol]"
   ]
  },
  {
   "cell_type": "code",
   "execution_count": null,
   "id": "fa0300fa-4a46-4ae4-8802-604026d83bf0",
   "metadata": {},
   "outputs": [],
   "source": [
    "pop_df"
   ]
  },
  {
   "cell_type": "code",
   "execution_count": null,
   "id": "0da000dc-770e-4b5e-a6e8-a367b536d47f",
   "metadata": {},
   "outputs": [],
   "source": []
  }
 ],
 "metadata": {
  "kernelspec": {
   "display_name": "Python 3 (ipykernel)",
   "language": "python",
   "name": "python3"
  },
  "language_info": {
   "codemirror_mode": {
    "name": "ipython",
    "version": 3
   },
   "file_extension": ".py",
   "mimetype": "text/x-python",
   "name": "python",
   "nbconvert_exporter": "python",
   "pygments_lexer": "ipython3",
   "version": "3.10.12"
  }
 },
 "nbformat": 4,
 "nbformat_minor": 5
}
