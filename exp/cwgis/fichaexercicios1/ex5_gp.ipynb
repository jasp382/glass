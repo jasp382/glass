{
 "cells": [
  {
   "cell_type": "markdown",
   "id": "9dc325bd-ec0c-4fea-b059-c68bb40e1543",
   "metadata": {},
   "source": [
    "## Exercise 5 | data in f1ex5 | calculate the urban green space area per inhabitant (m2/inhabitant). "
   ]
  },
  {
   "cell_type": "code",
   "execution_count": 1,
   "id": "85246549-286f-4cd8-8251-d627ad8fab7f",
   "metadata": {},
   "outputs": [],
   "source": [
    "green_shp = '/mnt/d/cwsig/exercicios_2023_24/f1ex5/espacos_verdes.shp'\n",
    "pop_shp  = '/mnt/d/cwsig/exercicios_2023_24/f1ex5/freg_cmb.shp'\n",
    "\n",
    "popcol = 'popres11'"
   ]
  },
  {
   "cell_type": "code",
   "execution_count": 11,
   "id": "a1278486-5998-4011-b333-dc9ce658bdc5",
   "metadata": {},
   "outputs": [],
   "source": [
    "import geopandas as gp\n",
    "from glass.rd.shp import shp_to_obj"
   ]
  },
  {
   "cell_type": "code",
   "execution_count": 3,
   "id": "9e4b087f-0f9e-4272-bd80-a279c6362fa5",
   "metadata": {},
   "outputs": [],
   "source": [
    "green_df = shp_to_obj(green_shp)\n",
    "\n",
    "pop_df = shp_to_obj(pop_shp)"
   ]
  },
  {
   "cell_type": "code",
   "execution_count": 4,
   "id": "ff38492a-ca6b-4353-b2e1-db317ce36da1",
   "metadata": {},
   "outputs": [],
   "source": [
    "green_df['fk'] = 1\n",
    "pop_df['pk'] = 1\n",
    "\n",
    "join_df = pop_df.merge(green_df, how='inner', left_on='pk', right_on='fk')"
   ]
  },
  {
   "cell_type": "code",
   "execution_count": 5,
   "id": "8288cc33-a399-4566-8ba1-4bc882f3cf9d",
   "metadata": {},
   "outputs": [
    {
     "data": {
      "text/plain": [
       "(19, 7)"
      ]
     },
     "execution_count": 5,
     "metadata": {},
     "output_type": "execute_result"
    }
   ],
   "source": [
    "pop_df.shape"
   ]
  },
  {
   "cell_type": "code",
   "execution_count": 6,
   "id": "fcf1d993-44cd-47ff-bfa3-2cc549920005",
   "metadata": {},
   "outputs": [
    {
     "data": {
      "text/plain": [
       "(35, 3)"
      ]
     },
     "execution_count": 6,
     "metadata": {},
     "output_type": "execute_result"
    }
   ],
   "source": [
    "green_df.shape"
   ]
  },
  {
   "cell_type": "code",
   "execution_count": 8,
   "id": "c9d60180-8e3c-4b92-92aa-277c49d618ca",
   "metadata": {},
   "outputs": [
    {
     "data": {
      "text/plain": [
       "array(['Freguesia', 'Des_Simpli', 'idconc', 'idfreg', 'popres11',\n",
       "       'geometry_x', 'pk', 'Id', 'geometry_y', 'fk'], dtype=object)"
      ]
     },
     "execution_count": 8,
     "metadata": {},
     "output_type": "execute_result"
    }
   ],
   "source": [
    "join_df.columns.values"
   ]
  },
  {
   "cell_type": "code",
   "execution_count": 19,
   "id": "4133758a-0a3c-4a74-9732-4478e8ccbe59",
   "metadata": {},
   "outputs": [],
   "source": [
    "join_df[\"geometry_xx\"] = gp.GeoSeries(join_df['geometry_x'])\n",
    "join_df[\"geometry_yy\"] = gp.GeoSeries(join_df['geometry_y'])\n",
    "\n",
    "s1 = join_df[\"geometry_xx\"]\n",
    "s2 = join_df[\"geometry_yy\"]"
   ]
  },
  {
   "cell_type": "code",
   "execution_count": 25,
   "id": "b583343e-b865-4ee8-af83-fa8a7488171c",
   "metadata": {},
   "outputs": [
    {
     "name": "stderr",
     "output_type": "stream",
     "text": [
      "/home/gisuser/.virtualenvs/genv/lib/python3.10/site-packages/shapely/set_operations.py:133: RuntimeWarning: invalid value encountered in intersection\n",
      "  return lib.intersection(a, b, **kwargs)\n"
     ]
    },
    {
     "data": {
      "text/plain": [
       "0      POLYGON EMPTY\n",
       "1      POLYGON EMPTY\n",
       "2      POLYGON EMPTY\n",
       "3      POLYGON EMPTY\n",
       "4      POLYGON EMPTY\n",
       "           ...      \n",
       "660    POLYGON EMPTY\n",
       "661    POLYGON EMPTY\n",
       "662    POLYGON EMPTY\n",
       "663    POLYGON EMPTY\n",
       "664    POLYGON EMPTY\n",
       "Length: 665, dtype: geometry"
      ]
     },
     "execution_count": 25,
     "metadata": {},
     "output_type": "execute_result"
    }
   ],
   "source": [
    "gp.GeoSeries(s1).intersection(gp.GeoSeries(s2))"
   ]
  },
  {
   "cell_type": "code",
   "execution_count": 16,
   "id": "671c886e-2b23-451c-88dd-744b5d2a1abd",
   "metadata": {},
   "outputs": [
    {
     "ename": "AttributeError",
     "evalue": "'Series' object has no attribute 'intersection'",
     "output_type": "error",
     "traceback": [
      "\u001b[0;31m---------------------------------------------------------------------------\u001b[0m",
      "\u001b[0;31mAttributeError\u001b[0m                            Traceback (most recent call last)",
      "\u001b[0;32m/tmp/ipykernel_187143/364877139.py\u001b[0m in \u001b[0;36m?\u001b[0;34m()\u001b[0m\n\u001b[0;32m----> 1\u001b[0;31m \u001b[0midf\u001b[0m \u001b[0;34m=\u001b[0m \u001b[0mjoin_df\u001b[0m\u001b[0;34m.\u001b[0m\u001b[0mgeometry_xx\u001b[0m\u001b[0;34m.\u001b[0m\u001b[0mintersection\u001b[0m\u001b[0;34m(\u001b[0m\u001b[0mjoin_df\u001b[0m\u001b[0;34m.\u001b[0m\u001b[0mgeometry_yy\u001b[0m\u001b[0;34m,\u001b[0m \u001b[0malign\u001b[0m\u001b[0;34m=\u001b[0m\u001b[0;32mTrue\u001b[0m\u001b[0;34m)\u001b[0m\u001b[0;34m\u001b[0m\u001b[0;34m\u001b[0m\u001b[0m\n\u001b[0m",
      "\u001b[0;32m~/.virtualenvs/genv/lib/python3.10/site-packages/pandas/core/generic.py\u001b[0m in \u001b[0;36m?\u001b[0;34m(self, name)\u001b[0m\n\u001b[1;32m   5985\u001b[0m             \u001b[0;32mand\u001b[0m \u001b[0mname\u001b[0m \u001b[0;32mnot\u001b[0m \u001b[0;32min\u001b[0m \u001b[0mself\u001b[0m\u001b[0;34m.\u001b[0m\u001b[0m_accessors\u001b[0m\u001b[0;34m\u001b[0m\u001b[0;34m\u001b[0m\u001b[0m\n\u001b[1;32m   5986\u001b[0m             \u001b[0;32mand\u001b[0m \u001b[0mself\u001b[0m\u001b[0;34m.\u001b[0m\u001b[0m_info_axis\u001b[0m\u001b[0;34m.\u001b[0m\u001b[0m_can_hold_identifiers_and_holds_name\u001b[0m\u001b[0;34m(\u001b[0m\u001b[0mname\u001b[0m\u001b[0;34m)\u001b[0m\u001b[0;34m\u001b[0m\u001b[0;34m\u001b[0m\u001b[0m\n\u001b[1;32m   5987\u001b[0m         ):\n\u001b[1;32m   5988\u001b[0m             \u001b[0;32mreturn\u001b[0m \u001b[0mself\u001b[0m\u001b[0;34m[\u001b[0m\u001b[0mname\u001b[0m\u001b[0;34m]\u001b[0m\u001b[0;34m\u001b[0m\u001b[0;34m\u001b[0m\u001b[0m\n\u001b[0;32m-> 5989\u001b[0;31m         \u001b[0;32mreturn\u001b[0m \u001b[0mobject\u001b[0m\u001b[0;34m.\u001b[0m\u001b[0m__getattribute__\u001b[0m\u001b[0;34m(\u001b[0m\u001b[0mself\u001b[0m\u001b[0;34m,\u001b[0m \u001b[0mname\u001b[0m\u001b[0;34m)\u001b[0m\u001b[0;34m\u001b[0m\u001b[0;34m\u001b[0m\u001b[0m\n\u001b[0m",
      "\u001b[0;31mAttributeError\u001b[0m: 'Series' object has no attribute 'intersection'"
     ]
    }
   ],
   "source": [
    "idf = join_df.geometry_xx.intersection(join_df.geometry_yy, align=True)"
   ]
  },
  {
   "cell_type": "code",
   "execution_count": 22,
   "id": "24f850f9-f34b-48e8-bca6-86fd2a2e38d2",
   "metadata": {},
   "outputs": [
    {
     "data": {
      "text/plain": [
       "0      POLYGON ((-36300.929 57807.993, -36298.409 577...\n",
       "1      POLYGON ((-23679.862 58607.914, -23661.887 585...\n",
       "2      POLYGON ((-22961.245 58706.742, -22961.155 587...\n",
       "3      POLYGON ((-27245.231 58717.636, -27247.518 586...\n",
       "4      POLYGON ((-25497.676 59036.658, -25454.631 589...\n",
       "                             ...                        \n",
       "660    POLYGON ((-25688.978 61304.550, -25709.338 612...\n",
       "661    POLYGON ((-25682.573 61214.551, -25687.489 612...\n",
       "662    POLYGON ((-23635.989 61256.447, -23638.210 612...\n",
       "663    POLYGON ((-26808.307 61596.778, -26775.361 615...\n",
       "664    POLYGON ((-20856.116 60298.261, -20856.111 602...\n",
       "Name: geometry_yy, Length: 665, dtype: geometry"
      ]
     },
     "execution_count": 22,
     "metadata": {},
     "output_type": "execute_result"
    }
   ],
   "source": [
    "s2"
   ]
  },
  {
   "cell_type": "code",
   "execution_count": null,
   "id": "fa0300fa-4a46-4ae4-8802-604026d83bf0",
   "metadata": {},
   "outputs": [],
   "source": []
  }
 ],
 "metadata": {
  "kernelspec": {
   "display_name": "Python 3 (ipykernel)",
   "language": "python",
   "name": "python3"
  },
  "language_info": {
   "codemirror_mode": {
    "name": "ipython",
    "version": 3
   },
   "file_extension": ".py",
   "mimetype": "text/x-python",
   "name": "python",
   "nbconvert_exporter": "python",
   "pygments_lexer": "ipython3",
   "version": "3.10.12"
  }
 },
 "nbformat": 4,
 "nbformat_minor": 5
}
