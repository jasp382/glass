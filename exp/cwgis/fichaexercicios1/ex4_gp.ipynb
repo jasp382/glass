{
 "cells": [
  {
   "cell_type": "markdown",
   "id": "b3154c53-a601-4400-a002-8e45e90eb9d5",
   "metadata": {},
   "source": [
    "## Exercise 4 | data in f1ex4 | compute the number of pharmacies per 10 000 inhabitants in each “Freguesia” of Coimbra.\n"
   ]
  },
  {
   "cell_type": "code",
   "execution_count": null,
   "id": "4cb5f29f-4c33-41cc-b987-58a840139e2a",
   "metadata": {},
   "outputs": [],
   "source": [
    "points = '/home/ubuntu/fichaexercicios1/f1ex4/farmacias_e_para.shp'\n",
    "polyg  = '/home/ubuntu/fichaexercicios1/f1ex4/freg_cmb.shp'\n",
    "\n",
    "pop = 'popres11'\n",
    "outcol = 'pointsbypop'"
   ]
  },
  {
   "cell_type": "code",
   "execution_count": null,
   "id": "4d4f079d-0016-41d5-943d-60410cc7ad3d",
   "metadata": {},
   "outputs": [],
   "source": [
    "import matplotlib.pyplot as plt\n",
    "\n",
    "from glass.rd.shp import shp_to_obj\n",
    "from glass.gp.ovl.obj import count_pnt_inside_poly"
   ]
  },
  {
   "cell_type": "code",
   "execution_count": null,
   "id": "44d5f678-4720-4172-be4d-ac28e028fff4",
   "metadata": {},
   "outputs": [],
   "source": [
    "pntdf = shp_to_obj(points)\n",
    "plgdf = shp_to_obj(polyg)\n",
    "\n",
    "res = count_pnt_inside_poly(pntdf, 'countpoints', plgdf)\n",
    "\n",
    "res[outcol] = res['countpoints'] / res[pop] * 10000"
   ]
  },
  {
   "cell_type": "code",
   "execution_count": null,
   "id": "7ce7d31e-8cc8-4c8c-ba0c-30718536fd9b",
   "metadata": {},
   "outputs": [],
   "source": [
    "res"
   ]
  }
 ],
 "metadata": {
  "kernelspec": {
   "display_name": "Python 3 (ipykernel)",
   "language": "python",
   "name": "python3"
  },
  "language_info": {
   "codemirror_mode": {
    "name": "ipython",
    "version": 3
   },
   "file_extension": ".py",
   "mimetype": "text/x-python",
   "name": "python",
   "nbconvert_exporter": "python",
   "pygments_lexer": "ipython3",
   "version": "3.10.12"
  }
 },
 "nbformat": 4,
 "nbformat_minor": 5
}
