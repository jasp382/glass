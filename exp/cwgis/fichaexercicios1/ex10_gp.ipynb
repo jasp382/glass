{
 "cells": [
  {
   "cell_type": "markdown",
   "id": "041909a5-34cf-4ca9-bc40-68cbb89d820f",
   "metadata": {},
   "source": [
    "## Exercise 10 | data in f1ex10 | calculate, for each Freguesia of Coimbra, the weighted average travel time to the nearest hospital, considering the resident population. Use the following formula with attributes from the Feature Class”"
   ]
  },
  {
   "cell_type": "code",
   "execution_count": null,
   "id": "e2c3e32a-3402-449b-ba17-56623dd98e5f",
   "metadata": {},
   "outputs": [],
   "source": [
    "units = '/mnt/d/cwsig/exercicios_2023_24/f1ex10/freg_cmb.shp'\n",
    "\n",
    "units_pk = 'idfreg'\n",
    "\n",
    "dist = '/mnt/d/cwsig/exercicios_2023_24/f1ex10/dist_hospitais.shp'\n",
    "\n",
    "units_fk = 'idfreg'\n",
    "\n",
    "distcol = 'wthsp'\n",
    "popcol = 'popres'\n",
    "\n",
    "outcol = 'wdist'"
   ]
  },
  {
   "cell_type": "code",
   "execution_count": null,
   "id": "9f76c79c-6615-459e-82a0-9687bee57916",
   "metadata": {},
   "outputs": [],
   "source": [
    "import pandas as pd\n",
    "\n",
    "from glass.rd.shp import shp_to_obj"
   ]
  },
  {
   "cell_type": "code",
   "execution_count": null,
   "id": "e41ac039-51b7-4b90-ab01-b133e0f35113",
   "metadata": {},
   "outputs": [],
   "source": [
    "units_df = shp_to_obj(units)\n",
    "dist_df  = shp_to_obj(dist)"
   ]
  },
  {
   "cell_type": "code",
   "execution_count": null,
   "id": "716677dc-8bde-4406-b7c2-cf93b542df89",
   "metadata": {},
   "outputs": [],
   "source": [
    "dist_df['prod'] = dist_df[distcol] * dist_df[popcol]\n",
    "\n",
    "prodsum = pd.DataFrame({\n",
    "    'prodsum' : dist_df.groupby([units_fk])['prod'].agg('sum')\n",
    "}).reset_index()\n",
    "\n",
    "prodsum.rename(columns={units_fk : f'{units_fk}_tmp'}, inplace=True)\n",
    "\n",
    "dist_df = dist_df.merge(\n",
    "    prodsum, how='left',\n",
    "    left_on=units_fk, right_on=f'{units_fk}_tmp'\n",
    ")\n",
    "\n",
    "dist_df['wcalc'] = dist_df['prod'] / dist_df['prodsum'] * dist_df[distcol]\n",
    "\n",
    "res = pd.DataFrame({\n",
    "    outcol : dist_df.groupby([units_fk])['wcalc'].agg('sum')\n",
    "}).reset_index()\n",
    "\n",
    "if units_pk == units_fk:\n",
    "    _units_fk = f'{units_fk}_fk'\n",
    "    res.rename(columns={units_fk : _units_fk}, inplace=True)\n",
    "\n",
    "else:\n",
    "    _units_fk = units_fk\n",
    "\n",
    "units_df = units_df.merge(res, how='left', left_on=units_pk, right_on=_units_fk)"
   ]
  },
  {
   "cell_type": "code",
   "execution_count": null,
   "id": "6f0a01bb-edc5-449e-85cf-1bf7630e2ef1",
   "metadata": {},
   "outputs": [],
   "source": [
    "units_df"
   ]
  },
  {
   "cell_type": "code",
   "execution_count": null,
   "id": "b499b9b1-447c-47f3-821b-eec06e81aefc",
   "metadata": {},
   "outputs": [],
   "source": []
  }
 ],
 "metadata": {
  "kernelspec": {
   "display_name": "Python 3 (ipykernel)",
   "language": "python",
   "name": "python3"
  },
  "language_info": {
   "codemirror_mode": {
    "name": "ipython",
    "version": 3
   },
   "file_extension": ".py",
   "mimetype": "text/x-python",
   "name": "python",
   "nbconvert_exporter": "python",
   "pygments_lexer": "ipython3",
   "version": "3.10.12"
  }
 },
 "nbformat": 4,
 "nbformat_minor": 5
}
