{
 "cells": [
  {
   "cell_type": "markdown",
   "id": "a145df04-fa45-4813-b22c-2df49866f25c",
   "metadata": {},
   "source": [
    "## Exercise 6 | data in f1ex6 | determine the population density of each “Freguesia” of the municipality of Coimbra (inhab/Km2)."
   ]
  },
  {
   "cell_type": "code",
   "execution_count": null,
   "id": "2e6f199c-efdb-4b10-bbc1-3dea9f3d6f24",
   "metadata": {},
   "outputs": [],
   "source": [
    "units_shp = '/mnt/d/cwsig/exercicios_2023_24/f1ex6/freg_coimbra.shp'\n",
    "units_pk  = 'DICOFRE'\n",
    "\n",
    "pop_shp = '/mnt/d/cwsig/exercicios_2023_24/f1ex6/bgri_coimbra.shp'\n",
    "units_fk = 'idfreg'\n",
    "popcol = 'popres21'\n",
    "\n",
    "outcol = 'dpop'"
   ]
  },
  {
   "cell_type": "code",
   "execution_count": null,
   "id": "ca840fe5-0257-4df0-9e81-92073ec5773b",
   "metadata": {},
   "outputs": [],
   "source": [
    "import pandas as pd\n",
    "from glass.rd.shp import shp_to_obj"
   ]
  },
  {
   "cell_type": "code",
   "execution_count": null,
   "id": "f291d7e9-ab32-491c-a9e0-8e37896652ca",
   "metadata": {},
   "outputs": [],
   "source": [
    "units_df = shp_to_obj(units_shp)\n",
    "\n",
    "pop_df = shp_to_obj(pop_shp)"
   ]
  },
  {
   "cell_type": "code",
   "execution_count": null,
   "id": "b02dc954-8b51-44fc-a591-b661ef2c5291",
   "metadata": {},
   "outputs": [],
   "source": [
    "# Sum population\n",
    "pop_units = pd.DataFrame({\n",
    "    popcol : pop_df.groupby([units_fk])[popcol].agg('sum')\n",
    "}).reset_index()"
   ]
  },
  {
   "cell_type": "code",
   "execution_count": null,
   "id": "944cd165-4b2d-4e2a-8465-3bfe2aa29279",
   "metadata": {},
   "outputs": [],
   "source": [
    "# Join with Units DF\n",
    "units_df = units_df.merge(pop_units, how='left', left_on=units_pk, right_on=units_fk)\n",
    "\n",
    "units_df[outcol] = units_df[popcol] / (units_df.geometry.area / 1000000)"
   ]
  },
  {
   "cell_type": "code",
   "execution_count": null,
   "id": "9fdda432-712c-4266-8260-af835965d134",
   "metadata": {},
   "outputs": [],
   "source": [
    "units_df"
   ]
  },
  {
   "cell_type": "code",
   "execution_count": null,
   "id": "30155e0b-e1ce-4c39-8bab-f86e507a7aea",
   "metadata": {},
   "outputs": [],
   "source": []
  }
 ],
 "metadata": {
  "kernelspec": {
   "display_name": "Python 3 (ipykernel)",
   "language": "python",
   "name": "python3"
  },
  "language_info": {
   "codemirror_mode": {
    "name": "ipython",
    "version": 3
   },
   "file_extension": ".py",
   "mimetype": "text/x-python",
   "name": "python",
   "nbconvert_exporter": "python",
   "pygments_lexer": "ipython3",
   "version": "3.10.12"
  }
 },
 "nbformat": 4,
 "nbformat_minor": 5
}
