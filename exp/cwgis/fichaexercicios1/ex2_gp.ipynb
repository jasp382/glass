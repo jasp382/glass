{
 "cells": [
  {
   "cell_type": "markdown",
   "id": "5f8f247d-240f-4128-bef4-bcd24a1fbea8",
   "metadata": {},
   "source": [
    "## Exercise 2 | data in f1ex2 | calculate the number of hectares that transitioned from agriculture in 2007 to become Artificialized Territory in 2018."
   ]
  },
  {
   "cell_type": "code",
   "execution_count": null,
   "id": "85bbb5bc-aec2-45ac-a7df-b88ee96d8110",
   "metadata": {},
   "outputs": [],
   "source": [
    "left_table = {\n",
    "    'file'  : '/home/ubuntu/fichaexercicios1/f1ex2/cmb_cos07.shp',\n",
    "    'col'   : 'COS07n1_L',\n",
    "    'class' : 'Agricultura'\n",
    "}\n",
    "\n",
    "right_table = {\n",
    "    'file'  : '/home/ubuntu/fichaexercicios1/f1ex2/cmb_cos18.shp',\n",
    "    'col'   : 'COS18n1_L',\n",
    "    'class' : 'Territórios artificializados'\n",
    "}"
   ]
  },
  {
   "cell_type": "code",
   "execution_count": null,
   "id": "37b362f1-97b6-4b2b-8835-848abb2c2122",
   "metadata": {},
   "outputs": [],
   "source": [
    "import geopandas as gpd\n",
    "\n",
    "import matplotlib.pyplot as plt\n",
    "\n",
    "from glass.rd.shp import shp_to_obj"
   ]
  },
  {
   "cell_type": "code",
   "execution_count": null,
   "id": "defb259f-8d51-4a19-a21e-1f520c93b0a8",
   "metadata": {},
   "outputs": [],
   "source": [
    "# Open files and filter by class\n",
    "\n",
    "for f in [left_table, right_table]:\n",
    "    df = shp_to_obj(f['file'])\n",
    "    df = df[df[f['col']] == f['class']]\n",
    "\n",
    "    f['df'] = df"
   ]
  },
  {
   "cell_type": "code",
   "execution_count": null,
   "id": "273067dc-36e3-43d8-ab54-77a73fb313dd",
   "metadata": {},
   "outputs": [],
   "source": [
    "# Union\n",
    "\n",
    "common_polygons = gpd.overlay(\n",
    "    left_table['df'], right_table['df'],\n",
    "    how='intersection', keep_geom_type=True\n",
    ")\n",
    "\n",
    "total_area_hectares = sum(common_polygons['geometry'].area / 10000)\n",
    "\n",
    "common_polygons.plot()\n",
    "\n",
    "print(f\"Result: {round(total_area_hectares, 2)} ha\")"
   ]
  },
  {
   "cell_type": "code",
   "execution_count": null,
   "id": "83410e1a-8927-4c73-9979-5765c96c45d6",
   "metadata": {},
   "outputs": [],
   "source": []
  }
 ],
 "metadata": {
  "kernelspec": {
   "display_name": "Python 3 (ipykernel)",
   "language": "python",
   "name": "python3"
  },
  "language_info": {
   "codemirror_mode": {
    "name": "ipython",
    "version": 3
   },
   "file_extension": ".py",
   "mimetype": "text/x-python",
   "name": "python",
   "nbconvert_exporter": "python",
   "pygments_lexer": "ipython3",
   "version": "3.10.12"
  }
 },
 "nbformat": 4,
 "nbformat_minor": 5
}
