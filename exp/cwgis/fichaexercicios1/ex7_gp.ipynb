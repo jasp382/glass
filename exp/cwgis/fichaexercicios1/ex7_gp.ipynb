{
 "cells": [
  {
   "cell_type": "markdown",
   "id": "61448b6d-ec30-42f3-8c18-ada1dd47589e",
   "metadata": {},
   "source": [
    "## Exercise 7 | data in f1ex7 | Calculate the percentage of individuals living within 500 meters of a recycling bin in each “Freguesia” of Coimbra."
   ]
  },
  {
   "cell_type": "code",
   "execution_count": null,
   "id": "35e91d2b-2f9d-4f52-b166-ffc5329b1bfb",
   "metadata": {},
   "outputs": [],
   "source": [
    "units_shp = '/mnt/d/cwsig/exercicios_2023_24/f1ex7/freg_coimbra.shp'\n",
    "units_pk  = 'DICOFRE'\n",
    "\n",
    "pop_shp = '/mnt/d/cwsig/exercicios_2023_24/f1ex7/bgri_coimbra.shp'\n",
    "units_fk = 'idfreg'\n",
    "popcol = 'popres21'\n",
    "\n",
    "pnt_shp = '/mnt/d/cwsig/exercicios_2023_24/f1ex7/ecopontos19.shp'\n",
    "\n",
    "outcol = 'popp'\n",
    "\n",
    "bfdist = 500"
   ]
  },
  {
   "cell_type": "code",
   "execution_count": null,
   "id": "e56a3d94-4009-4b81-90f8-a91e0bb2ef57",
   "metadata": {},
   "outputs": [],
   "source": [
    "import pandas as pd\n",
    "import geopandas as gp\n",
    "from glass.rd.shp import shp_to_obj\n",
    "from glass.prop.prj import get_epsg\n",
    "\n",
    "from glass.prj.obj import df_prj\n",
    "from glass.gp.prox.bfing.obj import gs_buffer\n",
    "from glass.dtt.cg.obj import centroid_dfgeoms\n",
    "from glass.gp.ovl.obj import count_pnt_inside_poly"
   ]
  },
  {
   "cell_type": "code",
   "execution_count": null,
   "id": "001d5e40-44b7-48ae-9dc3-6115e2735dc9",
   "metadata": {},
   "outputs": [],
   "source": [
    "d = {\n",
    "    'units' : units_shp,\n",
    "    'pop'   : pop_shp,\n",
    "    'pnt'   : pnt_shp\n",
    "}"
   ]
  },
  {
   "cell_type": "code",
   "execution_count": null,
   "id": "6c83ef13-b0ab-4469-b230-9f3cbaba455e",
   "metadata": {},
   "outputs": [],
   "source": [
    "epsgs = {}\n",
    "for k in d:\n",
    "    epsgs[k] = get_epsg(d[k])\n",
    "    d[k] = shp_to_obj(d[k])"
   ]
  },
  {
   "cell_type": "code",
   "execution_count": null,
   "id": "8af52d22-a6fe-4a37-a1cf-d8435b3686a7",
   "metadata": {},
   "outputs": [],
   "source": [
    "if epsgs['units'] != epsgs['pop']:\n",
    "    d['pop'] = df_prj(d['pop'], epsgs['units'])\n",
    "\n",
    "if epsgs['units'] != epsgs['pnt']:\n",
    "    d['pnt'] = df_prj(d['pnt'], epsgs['units'])"
   ]
  },
  {
   "cell_type": "code",
   "execution_count": null,
   "id": "c52d4bbc-bb38-480e-b457-5c1f567c723d",
   "metadata": {},
   "outputs": [],
   "source": [
    "# Get Population Centroids\n",
    "d['pop'] = centroid_dfgeoms(d['pop'], 'geometry', epsg=epsgs['units'])\n",
    "\n",
    "# Go for buffer\n",
    "d['pop']['geometry'] = gs_buffer(d['pop']['geometry'], bfdist)"
   ]
  },
  {
   "cell_type": "code",
   "execution_count": null,
   "id": "66c3852a-40aa-447b-a23e-a971721f2435",
   "metadata": {},
   "outputs": [],
   "source": [
    "d['pop'] = count_pnt_inside_poly(d['pnt'], 'countpnt', d['pop'])\n",
    "\n",
    "pop_w5 = d['pop'][d['pop']['countpnt'] > 0]"
   ]
  },
  {
   "cell_type": "code",
   "execution_count": null,
   "id": "728ca75c-95f3-440f-b518-c2d506d81a40",
   "metadata": {},
   "outputs": [],
   "source": [
    "# Group By to get population within 500 metros\n",
    "popw5gp = pd.DataFrame(pop_w5.groupby([units_fk]).agg({\n",
    "    popcol: 'sum'\n",
    "})).reset_index()\n",
    "\n",
    "# Get Total population\n",
    "popunits = pd.DataFrame(d['pop'].groupby([units_fk]).agg({\n",
    "    popcol: 'sum'\n",
    "})).reset_index()"
   ]
  },
  {
   "cell_type": "code",
   "execution_count": null,
   "id": "617e21b2-e610-4497-8733-5ebef5a17859",
   "metadata": {},
   "outputs": [],
   "source": [
    "# Join data with main dataframe and calculate percentage\n",
    "d['units'] = d['units'].merge(\n",
    "    popunits, how='left', \n",
    "    left_on=units_pk, right_on=units_fk\n",
    ")\n",
    "\n",
    "d['units'].drop(units_fk, axis=1, inplace=True)\n",
    "d['units'].rename(columns={popcol: 'total_pop'}, inplace=True)\n",
    "\n",
    "d['units'] = d['units'].merge(\n",
    "    popw5gp, how='left', \n",
    "    left_on=units_pk, right_on=units_fk\n",
    ")\n",
    "\n",
    "d['units'].rename(columns={popcol: 'popwithin'}, inplace=True)\n",
    "\n",
    "d['units'][outcol] = d['units'].popwithin / d['units'].total_pop * 100 "
   ]
  },
  {
   "cell_type": "code",
   "execution_count": null,
   "id": "f0f56d0b-dd29-4fd4-bc05-d38b7d3edc94",
   "metadata": {},
   "outputs": [],
   "source": [
    "d['units']"
   ]
  },
  {
   "cell_type": "code",
   "execution_count": null,
   "id": "00d8aa14-0924-437f-a6a6-1900ed75c6d4",
   "metadata": {},
   "outputs": [],
   "source": []
  }
 ],
 "metadata": {
  "kernelspec": {
   "display_name": "Python 3 (ipykernel)",
   "language": "python",
   "name": "python3"
  },
  "language_info": {
   "codemirror_mode": {
    "name": "ipython",
    "version": 3
   },
   "file_extension": ".py",
   "mimetype": "text/x-python",
   "name": "python",
   "nbconvert_exporter": "python",
   "pygments_lexer": "ipython3",
   "version": "3.10.12"
  }
 },
 "nbformat": 4,
 "nbformat_minor": 5
}
