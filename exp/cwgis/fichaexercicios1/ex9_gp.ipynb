{
 "cells": [
  {
   "cell_type": "markdown",
   "id": "911c1109-25c0-4af8-bc5e-68ece228645b",
   "metadata": {},
   "source": [
    "## Exercise 9 | data in f1ex9 | update the Land Use and Land Cover Map of 2018 (COS 2018) by adding information on areas affected by fires from 2019 to the present. Replace the class in the COS 2018 with the “Burned Areas” class in regions affected by fires since 2019."
   ]
  },
  {
   "cell_type": "code",
   "execution_count": null,
   "id": "61656ec1-05cf-486b-88c6-66b57a5cb74a",
   "metadata": {},
   "outputs": [],
   "source": [
    "lulc = '/mnt/d/cwsig/exercicios_2023_24/f1ex9/cos2018.shp'\n",
    "\n",
    "burns = [\n",
    "    '/mnt/d/cwsig/exercicios_2023_24/f1ex9/aa_2019.shp',\n",
    "    '/mnt/d/cwsig/exercicios_2023_24/f1ex9/aa_2020.shp',\n",
    "    '/mnt/d/cwsig/exercicios_2023_24/f1ex9/aa_2021.shp',\n",
    "    '/mnt/d/cwsig/exercicios_2023_24/f1ex9/ardida_2022.shp'\n",
    "]\n",
    "\n",
    "cols_values = {\n",
    "    'ID' : 0,\n",
    "    'COS18n1_C' : '10.9.9', 'COS18n1_L' : 'Burn Areas',\n",
    "    'COS18n2_C' : '10.9.9', 'COS18n2_L' : 'Burn Areas',\n",
    "    'COS18n3_C' : '10.9.9', 'COS18n3_L' : 'Burn Areas',\n",
    "    'COS18n4_C' : '10.9.9', 'COS18n4_L' : 'Burn Areas',\n",
    "    'Area_ha' : 0\n",
    "}\n",
    "\n",
    "olulc = '/mnt/d/cwsig/exercicios_2023_24/f1ex9/cos2018_up.shp'"
   ]
  },
  {
   "cell_type": "code",
   "execution_count": null,
   "id": "3c4f5afb-be2b-4192-9d27-8b805e97f555",
   "metadata": {},
   "outputs": [],
   "source": [
    "import geopandas as gp\n",
    "\n",
    "from glass.rd.shp import shp_to_obj\n",
    "from glass.dtt.mge.pd import merge_df\n",
    "from glass.wt.shp import df_to_shp"
   ]
  },
  {
   "cell_type": "code",
   "execution_count": null,
   "id": "30f5ae8f-263a-4457-baf8-352e4579d4cf",
   "metadata": {},
   "outputs": [],
   "source": [
    "lulc_df = shp_to_obj(lulc)\n",
    "\n",
    "burns_dfs = [shp_to_obj(s) for s in burns]\n",
    "\n",
    "burn_df = merge_df(burns_dfs)"
   ]
  },
  {
   "cell_type": "code",
   "execution_count": null,
   "id": "dd1ea1be-d59a-49ee-9142-ff0e696d291c",
   "metadata": {},
   "outputs": [],
   "source": [
    "# Intersect\n",
    "ires = gp.overlay(lulc_df, burn_df, how='intersection')\n",
    "\n",
    "# Dissolve\n",
    "dres = ires.dissolve()\n",
    "\n",
    "dc = []\n",
    "for c in dres.columns.values:\n",
    "    if c == 'geometry': continue\n",
    "\n",
    "    if c in cols_values:\n",
    "        dres[c] = cols_values[c]\n",
    "    else:\n",
    "        dc.append(c)\n",
    "\n",
    "# Erase\n",
    "nlulc = lulc_df.overlay(dres, how='difference')\n",
    "\n",
    "if len(dc):\n",
    "    nlulc.drop([c for c in nlulc.columns.values if c in dc], axis=1, inplace=True)\n",
    "    dres.drop([c for c in dres.columns.values if c in dc], axis=1, inplace=True)\n",
    "\n",
    "# Concat/Merge\n",
    "flulc = merge_df([nlulc, dres])"
   ]
  },
  {
   "cell_type": "code",
   "execution_count": null,
   "id": "954a8e6a-3546-4f2d-9edf-6a46ee8f1059",
   "metadata": {},
   "outputs": [],
   "source": [
    "df_to_shp(flulc, olulc)"
   ]
  },
  {
   "cell_type": "code",
   "execution_count": null,
   "id": "79524899-b79f-4bae-8027-c983034352f2",
   "metadata": {},
   "outputs": [],
   "source": []
  }
 ],
 "metadata": {
  "kernelspec": {
   "display_name": "Python 3 (ipykernel)",
   "language": "python",
   "name": "python3"
  },
  "language_info": {
   "codemirror_mode": {
    "name": "ipython",
    "version": 3
   },
   "file_extension": ".py",
   "mimetype": "text/x-python",
   "name": "python",
   "nbconvert_exporter": "python",
   "pygments_lexer": "ipython3",
   "version": "3.10.12"
  }
 },
 "nbformat": 4,
 "nbformat_minor": 5
}
