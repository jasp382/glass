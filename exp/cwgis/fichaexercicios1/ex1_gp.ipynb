{
 "cells": [
  {
   "cell_type": "markdown",
   "id": "2c3ff480-948b-4907-8809-b0a9e4c4f990",
   "metadata": {},
   "source": [
    "## Exercise 1 | data in f1ex1 | create a feature class with the contour lines of the municipality of Coimbra."
   ]
  },
  {
   "cell_type": "code",
   "execution_count": null,
   "id": "20781e6f-f4d9-4e35-b78d-3828a47017e1",
   "metadata": {},
   "outputs": [],
   "source": [
    "boundary = '/home/ubuntu/fichaexercicios1/f1ex1/limites_coimbra.shp'\n",
    "\n",
    "contours = '/home/ubuntu/fichaexercicios1/f1ex1'\n",
    "\n",
    "contours_epsg = 20790"
   ]
  },
  {
   "cell_type": "code",
   "execution_count": null,
   "id": "df3f6206-ea16-4021-890e-92b0dea557b9",
   "metadata": {},
   "outputs": [],
   "source": [
    "from pyproj import CRS\n",
    "\n",
    "import matplotlib.pyplot as plt\n",
    "\n",
    "from glass.pys.oss import lst_ff\n",
    "from glass.rd.shp import shp_to_obj\n",
    "from glass.dtt.mge.pd import merge_df\n",
    "from glass.prop.prj import get_epsg\n",
    "from glass.prj.obj import df_prj"
   ]
  },
  {
   "cell_type": "code",
   "execution_count": null,
   "id": "71dd310e-2d37-4be9-8463-4ab2e057dd3a",
   "metadata": {},
   "outputs": [],
   "source": [
    "# List contours\n",
    "cshp = [f for f in lst_ff(contours, file_format='.shp') if f != boundary]\n",
    "\n",
    "# Open all contour files using geopandas\n",
    "cdfs = [shp_to_obj(f) for f in cshp]\n",
    "\n",
    "# Merge all contours into a single DataFrame\n",
    "cdf = merge_df(cdfs)\n",
    "\n",
    "# Define projection\n",
    "cepsg = CRS(f'EPSG:{str(contours_epsg)}')\n",
    "cdf.crs = cepsg\n",
    "\n",
    "# Re-project contours SRS\n",
    "ref_epsg = get_epsg(boundary)\n",
    "cdf = df_prj(cdf, ref_epsg)"
   ]
  },
  {
   "cell_type": "code",
   "execution_count": null,
   "id": "ec5dc333-42bf-4d2d-a1d1-c913c833eece",
   "metadata": {},
   "outputs": [],
   "source": [
    "# Clip\n",
    "df_clip = shp_to_obj(boundary)\n",
    "\n",
    "clip_contours = cdf.clip(df_clip)"
   ]
  },
  {
   "cell_type": "code",
   "execution_count": null,
   "id": "137971a9-2a5e-4897-aa6c-16915f82328f",
   "metadata": {},
   "outputs": [],
   "source": [
    "ax = df_clip.plot(color='green', alpha=0.3)\n",
    "clip_contours.plot(ax=ax, color='black', alpha=0.2)\n",
    "#plt.axis('off')\n",
    "plt.title('Contour lines Coimbra')\n",
    "plt.show()"
   ]
  },
  {
   "cell_type": "code",
   "execution_count": null,
   "id": "58660bc5-39e1-4fe5-8e1d-e485c97a9468",
   "metadata": {},
   "outputs": [],
   "source": []
  }
 ],
 "metadata": {
  "kernelspec": {
   "display_name": "Python 3 (ipykernel)",
   "language": "python",
   "name": "python3"
  },
  "language_info": {
   "codemirror_mode": {
    "name": "ipython",
    "version": 3
   },
   "file_extension": ".py",
   "mimetype": "text/x-python",
   "name": "python",
   "nbconvert_exporter": "python",
   "pygments_lexer": "ipython3",
   "version": "3.10.12"
  }
 },
 "nbformat": 4,
 "nbformat_minor": 5
}
