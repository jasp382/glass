{
 "cells": [
  {
   "cell_type": "markdown",
   "id": "2bef63e7-96e4-4963-a262-7c722eb456bb",
   "metadata": {},
   "source": [
    "### Viewshed analysis with GRASS GIS\n",
    "\n",
    "Identitfy areas visible from any point in obspoints"
   ]
  },
  {
   "cell_type": "code",
   "execution_count": null,
   "id": "moved-officer",
   "metadata": {},
   "outputs": [],
   "source": [
    "\"\"\"\n",
    "GRASS GIS example\n",
    "\"\"\"\n",
    "\n",
    "\n",
    "obspoints = '/home/gisuser/cwgis/demo2grass/obspoints.shp'\n",
    "mdtraster = '/home/gisuser/cwgis/demo2grass/mdt.tif'\n",
    "outvis    = '/home/gisuser/cwgis/results/demo2grass.tif'"
   ]
  },
  {
   "cell_type": "code",
   "execution_count": null,
   "id": "literary-favor",
   "metadata": {},
   "outputs": [],
   "source": [
    "import geopandas as gp\n",
    "import os\n",
    "\n",
    "from glass.wenv.grs import run_grass"
   ]
  },
  {
   "cell_type": "code",
   "execution_count": null,
   "id": "cordless-sacrifice",
   "metadata": {},
   "outputs": [],
   "source": [
    "# Create GRASS GIS Location\n",
    "workspace = os.path.dirname(outvis)\n",
    "location  = 'loc_' + os.path.splitext(os.path.basename(outvis))[0]\n",
    "\n",
    "gbase = run_grass(workspace, location=location, srs=mdtraster)\n",
    "\n",
    "# Start GRASS GIS Session\n",
    "\n",
    "import grass.script.setup as gsetup\n",
    "gsetup.init(gbase, workspace, location, 'PERMANENT')"
   ]
  },
  {
   "cell_type": "code",
   "execution_count": null,
   "id": "aa7bf12d-4c79-4089-9073-08adcc9438c2",
   "metadata": {},
   "outputs": [],
   "source": [
    "def rst_to_grs(rst, grsRst):\n",
    "    \"\"\"\n",
    "    Raster to GRASS GIS Raster\n",
    "    \"\"\"\n",
    "    \n",
    "    from grass.pygrass.modules import Module\n",
    "        \n",
    "    m = Module(\n",
    "        \"r.in.gdal\", input=rst, output=grsRst, flags='o',\n",
    "        overwrite=True, run_=False, quiet=True,\n",
    "    )\n",
    "        \n",
    "    m()\n",
    "    \n",
    "    return grsRst"
   ]
  },
  {
   "cell_type": "code",
   "execution_count": null,
   "id": "6c07cf8f-6bd9-4955-b3b7-109f776894c3",
   "metadata": {},
   "outputs": [],
   "source": [
    "def grs_viewshed(dem, obs_pnt, out_rst, max_dist=None, obs_elv=None):\n",
    "    \"\"\"\n",
    "    Compute viewshed\n",
    "    \"\"\"\n",
    "    \n",
    "    from grass.pygrass.modules import Module\n",
    "    \n",
    "    vshd = Module(\n",
    "        \"r.viewshed\", input=dem, output=out_rst,\n",
    "        coordinates=obs_pnt,\n",
    "        flags=\"b\", overwrite=True, run_=False, quiet=True,\n",
    "        max_distance=-1 if not max_dist else max_dist,\n",
    "        observer_elevation=1.75 if not obs_elv else obs_elv\n",
    "    )\n",
    "    \n",
    "    vshd()\n",
    "    \n",
    "    return out_rst"
   ]
  },
  {
   "cell_type": "code",
   "execution_count": null,
   "id": "acdcc5d8-c8cd-4339-a38d-4c7bfe662fc5",
   "metadata": {},
   "outputs": [],
   "source": [
    "def rstcalc(expression, output):\n",
    "    \"\"\"\n",
    "    Basic Raster Calculator\n",
    "    \"\"\"\n",
    "    \n",
    "    from grass.pygrass.modules import Module\n",
    "        \n",
    "    rc = Module(\n",
    "        'r.mapcalc',\n",
    "        f'{output} = {expression}',\n",
    "        overwrite=True, run_=False, quiet=True\n",
    "    )\n",
    "        \n",
    "    rc()\n",
    "    \n",
    "    return output"
   ]
  },
  {
   "cell_type": "code",
   "execution_count": null,
   "id": "14ca8801-ff6e-435b-bf3a-7ef25dfbb081",
   "metadata": {},
   "outputs": [],
   "source": [
    "def grs_to_rst(grsRst, rst):\n",
    "    \"\"\"\n",
    "    GRASS Raster to Raster\n",
    "    \"\"\"\n",
    "    \n",
    "    grass_formats = {\n",
    "        '.tif': 'GTiff',\n",
    "        '.img': 'HFA'\n",
    "    }\n",
    "    \n",
    "    fn, ff = os.path.splitext(rst)\n",
    "    \n",
    "    from grass.pygrass.modules import Module\n",
    "        \n",
    "    m = Module(\n",
    "        \"r.out.gdal\", input=grsRst, output=rst,\n",
    "        format=grass_formats[ff], flags='c',\n",
    "        createopt='TFW=YES',\n",
    "        overwrite=True, run_=False, quiet=True\n",
    "    )\n",
    "        \n",
    "    m()\n",
    "    \n",
    "    return rst"
   ]
  },
  {
   "cell_type": "code",
   "execution_count": null,
   "id": "statutory-ceremony",
   "metadata": {},
   "outputs": [],
   "source": [
    "# Add DEM to GRASS GIS workspace\n",
    "\n",
    "grsdem = rst_to_grs(mdtraster, 'dem')\n",
    "\n",
    "# Read Observation Points Shape\n",
    "points = gp.read_file(obspoints)"
   ]
  },
  {
   "cell_type": "code",
   "execution_count": null,
   "id": "corporate-shirt",
   "metadata": {},
   "outputs": [],
   "source": [
    "points"
   ]
  },
  {
   "cell_type": "code",
   "execution_count": null,
   "id": "activated-inventory",
   "metadata": {},
   "outputs": [],
   "source": [
    "visibilities = []\n",
    "for idx, row in points.iterrows():\n",
    "    # Produce viewshed raster\n",
    "    vrst = grs_viewshed(\n",
    "        grsdem, (row.geometry.x, row.geometry.y),\n",
    "        f\"visrst_{str(idx)}\",\n",
    "        max_dist=10000\n",
    "    )\n",
    "    visibilities.append(vrst)"
   ]
  },
  {
   "cell_type": "code",
   "execution_count": null,
   "id": "demographic-berlin",
   "metadata": {},
   "outputs": [],
   "source": [
    "print(visibilities)\n",
    "print(\" + \".join(visibilities))"
   ]
  },
  {
   "cell_type": "code",
   "execution_count": null,
   "id": "relevant-snapshot",
   "metadata": {},
   "outputs": [],
   "source": [
    "name = visibilities[0]\n",
    "for i in range(1, len(visibilities)):\n",
    "    name = name + ' + ' + visibilities[i]\n",
    "print(name)"
   ]
  },
  {
   "cell_type": "code",
   "execution_count": null,
   "id": "better-update",
   "metadata": {},
   "outputs": [],
   "source": [
    "# Sum all visibility rasters\n",
    "fraster = rstcalc(\" + \".join(visibilities), 'joinvis')"
   ]
  },
  {
   "cell_type": "code",
   "execution_count": null,
   "id": "olympic-columbus",
   "metadata": {},
   "outputs": [],
   "source": [
    "# Export result\n",
    "grs_to_rst(fraster, outvis)"
   ]
  },
  {
   "cell_type": "code",
   "execution_count": null,
   "id": "center-intelligence",
   "metadata": {},
   "outputs": [],
   "source": [
    "# Export all temp files\n",
    "\n",
    "for r in visibilities:\n",
    "    grs_to_rst(r, os.path.join(workspace, r + '.tif'))"
   ]
  },
  {
   "cell_type": "code",
   "execution_count": null,
   "id": "narrow-fellowship",
   "metadata": {},
   "outputs": [],
   "source": []
  }
 ],
 "metadata": {
  "kernelspec": {
   "display_name": "Python 3 (ipykernel)",
   "language": "python",
   "name": "python3"
  },
  "language_info": {
   "codemirror_mode": {
    "name": "ipython",
    "version": 3
   },
   "file_extension": ".py",
   "mimetype": "text/x-python",
   "name": "python",
   "nbconvert_exporter": "python",
   "pygments_lexer": "ipython3",
   "version": "3.10.12"
  }
 },
 "nbformat": 4,
 "nbformat_minor": 5
}
