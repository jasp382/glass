{
 "cells": [
  {
   "cell_type": "markdown",
   "id": "three-tours",
   "metadata": {},
   "source": [
    "## Goal - Merge several shapefiles using OGR2OGR\n",
    "##      - Project the result to PT-TM06/ETRS89"
   ]
  },
  {
   "cell_type": "code",
   "execution_count": null,
   "id": "frozen-retailer",
   "metadata": {},
   "outputs": [],
   "source": [
    "import os\n",
    "from osgeo import ogr"
   ]
  },
  {
   "cell_type": "markdown",
   "id": "medieval-announcement",
   "metadata": {},
   "source": [
    "### Paths to data"
   ]
  },
  {
   "cell_type": "code",
   "execution_count": null,
   "id": "north-swaziland",
   "metadata": {},
   "outputs": [],
   "source": [
    "datafolder = '/home/gisuser/cwgis/demo5gdal/'\n",
    "outfile    = '/home/gisuser/cwgis/results/demo5gdal.shp'"
   ]
  },
  {
   "cell_type": "code",
   "execution_count": null,
   "id": "2bae6777-1569-48d9-ab4c-7ff81a0df40e",
   "metadata": {},
   "outputs": [],
   "source": [
    "import os"
   ]
  },
  {
   "cell_type": "code",
   "execution_count": null,
   "id": "5779651a-9412-48e4-87d4-b87c17820562",
   "metadata": {},
   "outputs": [],
   "source": [
    "def list_esri_shp(datafolder):\n",
    "    \"\"\"\n",
    "    List ESRI Shapefiles in Folder\n",
    "    \"\"\"\n",
    "\n",
    "    files = []\n",
    "    for (d, _d, f) in os.walk(datafolder):\n",
    "        files.extend(f)\n",
    "        break\n",
    "\n",
    "    return [f for f in files if f.split('.')[-1] == 'shp']"
   ]
  },
  {
   "cell_type": "code",
   "execution_count": null,
   "id": "92569374-f8d8-4911-a2ba-c10c5bce41b0",
   "metadata": {},
   "outputs": [],
   "source": [
    "\"\"\"\n",
    "GDAL Drivers Name\n",
    "\"\"\"\n",
    "\n",
    "def drv_name(_file):\n",
    "    \"\"\"\n",
    "    Return the driver for a given file format\n",
    "    \"\"\"\n",
    "    \n",
    "    drv = {\n",
    "        # Vector files\n",
    "        '.gml'    : 'GML',\n",
    "        '.shp'    : 'ESRI Shapefile',\n",
    "        '.json'   : 'GeoJSON',\n",
    "        '.kml'    : 'KML',\n",
    "        '.osm'    : 'OSM',\n",
    "        '.dbf'    : 'ESRI Shapefile',\n",
    "        '.vct'    : 'Idrisi',\n",
    "        '.nc'     : 'netCDF',\n",
    "        '.vrt'    : 'VRT',\n",
    "        '.mem'    : 'MEMORY',\n",
    "        '.sqlite' : 'SQLite',\n",
    "        '.gdb'    : 'FileGDB',\n",
    "        # Raster files\n",
    "        '.tif'    : 'GTiff',\n",
    "        '.ecw'    : 'ECW',\n",
    "        '.mpr'    : 'ILWIS',\n",
    "        '.mpl'    : 'ILWIS',\n",
    "        '.jpg'    : 'JPEG',\n",
    "        '.nc'     : 'netCDF',\n",
    "        '.png'    : 'PNG',\n",
    "        '.vrt'    : 'VRT',\n",
    "        '.asc'    : 'AAIGrid',\n",
    "        '.img'    : 'HFA',\n",
    "        # Vector or Raster\n",
    "        '.gpkg'   : 'GPKG'\n",
    "    }\n",
    "    \n",
    "    return str(drv[os.path.splitext(_file)[1]])"
   ]
  },
  {
   "cell_type": "code",
   "execution_count": null,
   "id": "036a3fa6-446c-454e-ad39-bd7bd2d8595f",
   "metadata": {},
   "outputs": [],
   "source": [
    "def execmd(cmd):\n",
    "    \"\"\"\n",
    "    Execute a command and provide information about the results\n",
    "    \"\"\"\n",
    "    import subprocess\n",
    "    \n",
    "    p = subprocess.Popen(cmd, shell=True,\n",
    "                         stdout=subprocess.PIPE, stderr=subprocess.PIPE)\n",
    "    \n",
    "    out, err = p.communicate()\n",
    "    \n",
    "    if p.returncode != 0:\n",
    "        print(cmd)\n",
    "        raise ValueError((\n",
    "            'Message: Command execution ended with error\\n'\n",
    "            'Command was: {cmd}\\n'\n",
    "            'Output: {o}\\n'\n",
    "            'Error: {e}'\n",
    "        ).format(\n",
    "            cmd=cmd, o=out.decode('utf-8'), e=err.decode('utf-8')\n",
    "        ))\n",
    "    \n",
    "    else:\n",
    "        return out.decode('utf-8')"
   ]
  },
  {
   "cell_type": "markdown",
   "id": "secondary-dollar",
   "metadata": {},
   "source": [
    "## List all files in data folder"
   ]
  },
  {
   "cell_type": "code",
   "execution_count": null,
   "id": "statewide-religious",
   "metadata": {},
   "outputs": [],
   "source": [
    "shps = list_esri_shp(datafolder)"
   ]
  },
  {
   "cell_type": "code",
   "execution_count": null,
   "id": "invisible-packaging",
   "metadata": {},
   "outputs": [],
   "source": [
    "shps"
   ]
  },
  {
   "cell_type": "markdown",
   "id": "vulnerable-affairs",
   "metadata": {},
   "source": [
    "### Merge all shapefiles into one"
   ]
  },
  {
   "cell_type": "code",
   "execution_count": null,
   "id": "disabled-greensboro",
   "metadata": {},
   "outputs": [],
   "source": [
    "tmpshp = os.path.join(\n",
    "    os.path.dirname(outfile),\n",
    "    f'tmp_{os.path.basename(outfile)}'\n",
    ")\n",
    "\n",
    "out_drv = drv_name(tmpshp)\n",
    "\n",
    "for i in range(len(shps)):\n",
    "    if not i:\n",
    "        # Create output and copy some features of one layer (first in shps)\n",
    "        cmd = 'ogr2ogr -f \"{}\" {} {}'.format(\n",
    "            out_drv, tmpshp, os.path.join(datafolder, shps[i])\n",
    "        )\n",
    "    \n",
    "    else:\n",
    "        cmd = 'ogr2ogr -f \"{}\" -update -append {} {}'.format(\n",
    "            out_drv, tmpshp, os.path.join(datafolder, shps[i])\n",
    "        )\n",
    "        \n",
    "    cmdout = execmd(cmd)"
   ]
  },
  {
   "cell_type": "markdown",
   "id": "nutritional-precipitation",
   "metadata": {},
   "source": [
    "### Project to ETRS89"
   ]
  },
  {
   "cell_type": "code",
   "execution_count": null,
   "id": "engaged-leadership",
   "metadata": {},
   "outputs": [],
   "source": [
    "data = ogr.GetDriverByName(drv_name(tmpshp)).Open(tmpshp)\n",
    "\n",
    "lyr   = data.GetLayer() \n",
    "spref = lyr.GetSpatialRef()\n",
    "\n",
    "epsg = int(str(spref.GetAttrValue('AUTHORITY', 1)))\n",
    "print(epsg)\n",
    "\n",
    "cmd = 'ogr2ogr -f \"{}\" {} {} -s_srs EPSG:{} -t_srs EPSG:{}'.format(\n",
    "    drv_name(outfile), outfile, tmpshp,\n",
    "    str(epsg), str(3763)\n",
    ")\n",
    "\n",
    "outcmd = execmd(cmd)"
   ]
  }
 ],
 "metadata": {
  "kernelspec": {
   "display_name": "Python 3 (ipykernel)",
   "language": "python",
   "name": "python3"
  },
  "language_info": {
   "codemirror_mode": {
    "name": "ipython",
    "version": 3
   },
   "file_extension": ".py",
   "mimetype": "text/x-python",
   "name": "python",
   "nbconvert_exporter": "python",
   "pygments_lexer": "ipython3",
   "version": "3.10.12"
  }
 },
 "nbformat": 4,
 "nbformat_minor": 5
}
