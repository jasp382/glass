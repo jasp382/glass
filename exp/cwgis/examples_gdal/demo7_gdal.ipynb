{
 "cells": [
  {
   "cell_type": "markdown",
   "id": "442889b2-2f99-43e5-acd0-b8da8fee6166",
   "metadata": {},
   "source": [
    "# GDAL examples\n",
    "\n",
    "### - Dissolve operation"
   ]
  },
  {
   "cell_type": "code",
   "execution_count": null,
   "id": "5ba63dc9-a623-46d0-a434-a35b4e83e25b",
   "metadata": {},
   "outputs": [],
   "source": [
    "import os"
   ]
  },
  {
   "cell_type": "code",
   "execution_count": null,
   "id": "8343be98-ac5a-46bb-8308-561802a6e757",
   "metadata": {},
   "outputs": [],
   "source": [
    "in_shp  = '/home/gisuser/cwgis/demo7gdal/freg_cmb.shp'\n",
    "column  = 'idconc'\n",
    "out_shp = '/home/gisuser/cwgis/results/demo7gdal.shp'"
   ]
  },
  {
   "cell_type": "code",
   "execution_count": null,
   "id": "4a654922-e354-4289-b51d-982042707730",
   "metadata": {},
   "outputs": [],
   "source": [
    "\"\"\"\n",
    "GDAL Drivers Name\n",
    "\"\"\"\n",
    "\n",
    "def drv_name(_file):\n",
    "    \"\"\"\n",
    "    Return the driver for a given file format\n",
    "    \"\"\"\n",
    "    \n",
    "    drv = {\n",
    "        # Vector files\n",
    "        '.gml'    : 'GML',\n",
    "        '.shp'    : 'ESRI Shapefile',\n",
    "        '.json'   : 'GeoJSON',\n",
    "        '.kml'    : 'KML',\n",
    "        '.osm'    : 'OSM',\n",
    "        '.dbf'    : 'ESRI Shapefile',\n",
    "        '.vct'    : 'Idrisi',\n",
    "        '.nc'     : 'netCDF',\n",
    "        '.vrt'    : 'VRT',\n",
    "        '.mem'    : 'MEMORY',\n",
    "        '.sqlite' : 'SQLite',\n",
    "        '.gdb'    : 'FileGDB',\n",
    "        # Raster files\n",
    "        '.tif'    : 'GTiff',\n",
    "        '.ecw'    : 'ECW',\n",
    "        '.mpr'    : 'ILWIS',\n",
    "        '.mpl'    : 'ILWIS',\n",
    "        '.jpg'    : 'JPEG',\n",
    "        '.nc'     : 'netCDF',\n",
    "        '.png'    : 'PNG',\n",
    "        '.vrt'    : 'VRT',\n",
    "        '.asc'    : 'AAIGrid',\n",
    "        '.img'    : 'HFA',\n",
    "        # Vector or Raster\n",
    "        '.gpkg'   : 'GPKG'\n",
    "    }\n",
    "    \n",
    "    return str(drv[os.path.splitext(_file)[1]])"
   ]
  },
  {
   "cell_type": "code",
   "execution_count": null,
   "id": "28819bfa-4679-4a5d-9fe7-7c671fdce9d4",
   "metadata": {},
   "outputs": [],
   "source": [
    "def execmd(cmd):\n",
    "    \"\"\"\n",
    "    Execute a command and provide information about the results\n",
    "    \"\"\"\n",
    "    import subprocess\n",
    "    \n",
    "    p = subprocess.Popen(cmd, shell=True,\n",
    "                         stdout=subprocess.PIPE, stderr=subprocess.PIPE)\n",
    "    \n",
    "    out, err = p.communicate()\n",
    "    \n",
    "    if p.returncode != 0:\n",
    "        print(cmd)\n",
    "        raise ValueError((\n",
    "            'Message: Command execution ended with error\\n'\n",
    "            'Command was: {cmd}\\n'\n",
    "            'Output: {o}\\n'\n",
    "            'Error: {e}'\n",
    "        ).format(\n",
    "            cmd=cmd, o=out.decode('utf-8'), e=err.decode('utf-8')\n",
    "        ))\n",
    "    \n",
    "    else:\n",
    "        return out.decode('utf-8')"
   ]
  },
  {
   "cell_type": "code",
   "execution_count": null,
   "id": "9aaf2d24-cd52-42d9-9eba-aa1dbf35f2fd",
   "metadata": {},
   "outputs": [],
   "source": [
    "def dissolve(inshp, col, outshp):\n",
    "    \"\"\"\n",
    "    Dissolve with OGR and sqlite sql\n",
    "    \"\"\"\n",
    "        \n",
    "    tbl, ff = os.path.splitext(os.path.basename(inshp))\n",
    "    \n",
    "    cmd = (\n",
    "        f'ogr2ogr {outshp} {inshp} -dialect sqlite -sql '\n",
    "        f'\"SELECT ST_Union(geometry), {col} '\n",
    "        f'FROM {tbl} GROUP BY {col};\"'\n",
    "    )\n",
    "        \n",
    "    # Execute command\n",
    "    outcmd = execmd(cmd)\n",
    "    \n",
    "    return outshp"
   ]
  },
  {
   "cell_type": "code",
   "execution_count": null,
   "id": "4535ed6a-6052-4c9d-8072-257a4d56685a",
   "metadata": {},
   "outputs": [],
   "source": [
    "dissolve(in_shp, column, out_shp)"
   ]
  }
 ],
 "metadata": {
  "kernelspec": {
   "display_name": "Python 3 (ipykernel)",
   "language": "python",
   "name": "python3"
  },
  "language_info": {
   "codemirror_mode": {
    "name": "ipython",
    "version": 3
   },
   "file_extension": ".py",
   "mimetype": "text/x-python",
   "name": "python",
   "nbconvert_exporter": "python",
   "pygments_lexer": "ipython3",
   "version": "3.10.12"
  }
 },
 "nbformat": 4,
 "nbformat_minor": 5
}
