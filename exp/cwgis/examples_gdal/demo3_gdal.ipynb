{
 "cells": [
  {
   "cell_type": "markdown",
   "id": "1509eba6-4019-401c-a7f1-c76838ca384a",
   "metadata": {},
   "source": [
    "### GDAL examples - Convert a raster file format to another raster format"
   ]
  },
  {
   "cell_type": "code",
   "execution_count": null,
   "id": "f42195a9-a7b0-44d8-9cf1-39c22ec23689",
   "metadata": {},
   "outputs": [],
   "source": [
    "in_raster = '/home/gisuser/cwgis/demo3gdal/T29TNE_20200703T112119_B02_10m.tif'\n",
    "ou_raster = '/home/gisuser/cwgis/results/demo3gdal.img'"
   ]
  },
  {
   "cell_type": "code",
   "execution_count": null,
   "id": "d677ae18-8697-49bc-a040-27fc49c38b70",
   "metadata": {},
   "outputs": [],
   "source": [
    "import os"
   ]
  },
  {
   "cell_type": "code",
   "execution_count": null,
   "id": "79538537-92f9-4445-81e8-7115c98b80f0",
   "metadata": {},
   "outputs": [],
   "source": [
    "\"\"\"\n",
    "GDAL Drivers Name\n",
    "\"\"\"\n",
    "\n",
    "def drv_name(_file):\n",
    "    \"\"\"\n",
    "    Return the driver for a given file format\n",
    "    \"\"\"\n",
    "    \n",
    "    drv = {\n",
    "        # Vector files\n",
    "        '.gml'    : 'GML',\n",
    "        '.shp'    : 'ESRI Shapefile',\n",
    "        '.json'   : 'GeoJSON',\n",
    "        '.kml'    : 'KML',\n",
    "        '.osm'    : 'OSM',\n",
    "        '.dbf'    : 'ESRI Shapefile',\n",
    "        '.vct'    : 'Idrisi',\n",
    "        '.nc'     : 'netCDF',\n",
    "        '.vrt'    : 'VRT',\n",
    "        '.mem'    : 'MEMORY',\n",
    "        '.sqlite' : 'SQLite',\n",
    "        '.gdb'    : 'FileGDB',\n",
    "        # Raster files\n",
    "        '.tif'    : 'GTiff',\n",
    "        '.ecw'    : 'ECW',\n",
    "        '.mpr'    : 'ILWIS',\n",
    "        '.mpl'    : 'ILWIS',\n",
    "        '.jpg'    : 'JPEG',\n",
    "        '.nc'     : 'netCDF',\n",
    "        '.png'    : 'PNG',\n",
    "        '.vrt'    : 'VRT',\n",
    "        '.asc'    : 'AAIGrid',\n",
    "        '.img'    : 'HFA',\n",
    "        # Vector or Raster\n",
    "        '.gpkg'   : 'GPKG'\n",
    "    }\n",
    "    \n",
    "    return str(drv[os.path.splitext(_file)[1]])"
   ]
  },
  {
   "cell_type": "code",
   "execution_count": null,
   "id": "fc10ba3f-7800-4225-9310-e26024360116",
   "metadata": {},
   "outputs": [],
   "source": [
    "def execmd(cmd):\n",
    "    \"\"\"\n",
    "    Execute a command and provide information about the results\n",
    "    \"\"\"\n",
    "    import subprocess\n",
    "    \n",
    "    p = subprocess.Popen(cmd, shell=True,\n",
    "                         stdout=subprocess.PIPE, stderr=subprocess.PIPE)\n",
    "    \n",
    "    out, err = p.communicate()\n",
    "    \n",
    "    if p.returncode != 0:\n",
    "        print(cmd)\n",
    "        raise ValueError((\n",
    "            'Message: Command execution ended with error\\n'\n",
    "            'Command was: {cmd}\\n'\n",
    "            'Output: {o}\\n'\n",
    "            'Error: {e}'\n",
    "        ).format(\n",
    "            cmd=cmd, o=out.decode('utf-8'), e=err.decode('utf-8')\n",
    "        ))\n",
    "    \n",
    "    else:\n",
    "        return out.decode('utf-8')"
   ]
  },
  {
   "cell_type": "code",
   "execution_count": null,
   "id": "c7ac5709-c1e9-4eee-8cf0-73982c63e42d",
   "metadata": {},
   "outputs": [],
   "source": [
    "def rst_to_rst(inRst, outRst):\n",
    "    \n",
    "    outDrv = drv_name(outRst)\n",
    "    cmd = f'gdal_translate -of {outDrv} {inRst} {outRst}'\n",
    "    print(cmd)\n",
    "    \n",
    "    cmdout = execmd(cmd)\n",
    "    \n",
    "    return outRst"
   ]
  },
  {
   "cell_type": "code",
   "execution_count": null,
   "id": "10088bb2-1b29-4a4f-a267-fbcb99345f46",
   "metadata": {},
   "outputs": [],
   "source": [
    "rst_to_rst(in_raster, ou_raster)"
   ]
  },
  {
   "cell_type": "code",
   "execution_count": null,
   "id": "a000de8f-8993-4467-bbbf-921e09384a86",
   "metadata": {},
   "outputs": [],
   "source": []
  }
 ],
 "metadata": {
  "kernelspec": {
   "display_name": "Python 3 (ipykernel)",
   "language": "python",
   "name": "python3"
  },
  "language_info": {
   "codemirror_mode": {
    "name": "ipython",
    "version": 3
   },
   "file_extension": ".py",
   "mimetype": "text/x-python",
   "name": "python",
   "nbconvert_exporter": "python",
   "pygments_lexer": "ipython3",
   "version": "3.10.12"
  }
 },
 "nbformat": 4,
 "nbformat_minor": 5
}
