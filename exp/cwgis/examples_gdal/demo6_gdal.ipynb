{
 "cells": [
  {
   "cell_type": "markdown",
   "id": "unable-smith",
   "metadata": {},
   "source": [
    "# GDAL examples\n",
    "\n",
    "### - Clip analysis"
   ]
  },
  {
   "cell_type": "code",
   "execution_count": null,
   "id": "f5d49f1c-3431-4f67-887d-767d6520f323",
   "metadata": {},
   "outputs": [],
   "source": [
    "import os"
   ]
  },
  {
   "cell_type": "code",
   "execution_count": null,
   "id": "worth-appeal",
   "metadata": {},
   "outputs": [],
   "source": [
    "in_shp   = '/home/gisuser/cwgis/demo6gdal/roads.shp'\n",
    "clip_shp = '/home/gisuser/cwgis/demo6gdal/urbano.shp'\n",
    "out_shp  = '/home/gisuser/cwgis/results/demo6gdal.shp'"
   ]
  },
  {
   "cell_type": "code",
   "execution_count": null,
   "id": "c764407c-cab8-4ba1-b47e-53755ec13dac",
   "metadata": {},
   "outputs": [],
   "source": [
    "\"\"\"\n",
    "GDAL Drivers Name\n",
    "\"\"\"\n",
    "\n",
    "def drv_name(_file):\n",
    "    \"\"\"\n",
    "    Return the driver for a given file format\n",
    "    \"\"\"\n",
    "    \n",
    "    drv = {\n",
    "        # Vector files\n",
    "        '.gml'    : 'GML',\n",
    "        '.shp'    : 'ESRI Shapefile',\n",
    "        '.json'   : 'GeoJSON',\n",
    "        '.kml'    : 'KML',\n",
    "        '.osm'    : 'OSM',\n",
    "        '.dbf'    : 'ESRI Shapefile',\n",
    "        '.vct'    : 'Idrisi',\n",
    "        '.nc'     : 'netCDF',\n",
    "        '.vrt'    : 'VRT',\n",
    "        '.mem'    : 'MEMORY',\n",
    "        '.sqlite' : 'SQLite',\n",
    "        '.gdb'    : 'FileGDB',\n",
    "        # Raster files\n",
    "        '.tif'    : 'GTiff',\n",
    "        '.ecw'    : 'ECW',\n",
    "        '.mpr'    : 'ILWIS',\n",
    "        '.mpl'    : 'ILWIS',\n",
    "        '.jpg'    : 'JPEG',\n",
    "        '.nc'     : 'netCDF',\n",
    "        '.png'    : 'PNG',\n",
    "        '.vrt'    : 'VRT',\n",
    "        '.asc'    : 'AAIGrid',\n",
    "        '.img'    : 'HFA',\n",
    "        # Vector or Raster\n",
    "        '.gpkg'   : 'GPKG'\n",
    "    }\n",
    "    \n",
    "    return str(drv[os.path.splitext(_file)[1]])"
   ]
  },
  {
   "cell_type": "code",
   "execution_count": null,
   "id": "14dcf3ff-1678-4678-b2c9-9eb7163b6916",
   "metadata": {},
   "outputs": [],
   "source": [
    "def execmd(cmd):\n",
    "    \"\"\"\n",
    "    Execute a command and provide information about the results\n",
    "    \"\"\"\n",
    "    import subprocess\n",
    "    \n",
    "    p = subprocess.Popen(cmd, shell=True,\n",
    "                         stdout=subprocess.PIPE, stderr=subprocess.PIPE)\n",
    "    \n",
    "    out, err = p.communicate()\n",
    "    \n",
    "    if p.returncode != 0:\n",
    "        print(cmd)\n",
    "        raise ValueError((\n",
    "            'Message: Command execution ended with error\\n'\n",
    "            'Command was: {cmd}\\n'\n",
    "            'Output: {o}\\n'\n",
    "            'Error: {e}'\n",
    "        ).format(\n",
    "            cmd=cmd, o=out.decode('utf-8'), e=err.decode('utf-8')\n",
    "        ))\n",
    "    \n",
    "    else:\n",
    "        return out.decode('utf-8')"
   ]
  },
  {
   "cell_type": "code",
   "execution_count": null,
   "id": "cardiac-celebrity",
   "metadata": {},
   "outputs": [],
   "source": [
    "\"\"\"\n",
    "Clip Analysis\n",
    "\"\"\"\n",
    "\n",
    "def clip(inFeat, clipFeat, outFeat):\n",
    "\n",
    "    rcmd = execmd((\n",
    "        \"ogr2ogr -f \\\"{}\\\" {} {} -clipsrc {} -clipsrclayer {}\"\n",
    "    ).format(\n",
    "        drv_name(outFeat), outFeat, inFeat, clipFeat,\n",
    "        os.path.splitext(os.path.basename(clipFeat))[0]\n",
    "    ))\n",
    "    \n",
    "    return outFeat"
   ]
  },
  {
   "cell_type": "code",
   "execution_count": null,
   "id": "random-recommendation",
   "metadata": {},
   "outputs": [],
   "source": [
    "clip(in_shp, clip_shp, out_shp)"
   ]
  }
 ],
 "metadata": {
  "kernelspec": {
   "display_name": "Python 3 (ipykernel)",
   "language": "python",
   "name": "python3"
  },
  "language_info": {
   "codemirror_mode": {
    "name": "ipython",
    "version": 3
   },
   "file_extension": ".py",
   "mimetype": "text/x-python",
   "name": "python",
   "nbconvert_exporter": "python",
   "pygments_lexer": "ipython3",
   "version": "3.10.12"
  }
 },
 "nbformat": 4,
 "nbformat_minor": 5
}
