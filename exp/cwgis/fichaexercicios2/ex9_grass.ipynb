{
 "cells": [
  {
   "cell_type": "markdown",
   "id": "e57d0150-130e-4b36-8410-8f538dbaee8e",
   "metadata": {},
   "source": [
    "## Exercise  9  |  data  in  f2ex9  |  Generate  a  raster  in which  each  pixel  represents  the  travel  time between that cell and the nearest hospital (hospitais.shp), considering a cost surface (supcusto.tif). In the supcusto.tif file, the value of each cell indicates the time a person needs to travel or cross that pixel area"
   ]
  },
  {
   "cell_type": "code",
   "execution_count": null,
   "id": "e24ec579-5265-4d5a-bdcc-045a32e8917f",
   "metadata": {},
   "outputs": [],
   "source": [
    "supcst = '/mnt/d/cwsig/exercicios_2023_24/f2ex9/supcusto.tif'\n",
    "\n",
    "pois = '/mnt/d/cwsig/exercicios_2023_24/f2ex9/hospitais.shp'\n",
    "\n",
    "costdist = '/mnt/d/cwsig/exercicios_2023_24/f2ex9/costdist.tif'"
   ]
  },
  {
   "cell_type": "code",
   "execution_count": null,
   "id": "32c324e0-80f5-4738-a5d9-3d5e56eb4bab",
   "metadata": {},
   "outputs": [],
   "source": [
    "import os\n",
    "\n",
    "\n",
    "from glass.pys.oss import mkdir, fprop\n",
    "from glass.pys.tm import now_as_str\n",
    "from glass.wenv.grs import run_grass"
   ]
  },
  {
   "cell_type": "code",
   "execution_count": null,
   "id": "da38e25d-f932-41a9-a744-b1c8a382fd1d",
   "metadata": {},
   "outputs": [],
   "source": [
    "ws, loc = os.path.dirname(costdist), now_as_str(utc=True)\n",
    "\n",
    "gb = run_grass(ws, location=loc, srs=supcst)\n",
    "\n",
    "# Start grass gis session\n",
    "import grass.script.setup as gsetup\n",
    "gsetup.init(gb, ws, loc, 'PERMANENT')"
   ]
  },
  {
   "cell_type": "code",
   "execution_count": null,
   "id": "2e8855c7-ab28-4fe4-b45b-3fb1bc1d86ca",
   "metadata": {},
   "outputs": [],
   "source": [
    "from glass.it.rst import rst_to_grs, grs_to_rst\n",
    "from glass.it.shp import shp_to_grs\n",
    "from glass.rst.dst import rcost"
   ]
  },
  {
   "cell_type": "code",
   "execution_count": null,
   "id": "9c881cee-4529-408b-b990-684c99be1723",
   "metadata": {},
   "outputs": [],
   "source": [
    "grs_cst = rst_to_grs(supcst)\n",
    "\n",
    "grs_pois = shp_to_grs(pois)"
   ]
  },
  {
   "cell_type": "code",
   "execution_count": null,
   "id": "64a49067-5ba8-46aa-a3a1-eaa74267ae66",
   "metadata": {},
   "outputs": [],
   "source": [
    "cstdist = rcost(grs_cst, grs_pois, fprop(costdist, 'fn'))\n",
    "\n",
    "grs_to_rst(cstdist, costdist)"
   ]
  }
 ],
 "metadata": {
  "kernelspec": {
   "display_name": "Python 3 (ipykernel)",
   "language": "python",
   "name": "python3"
  },
  "language_info": {
   "codemirror_mode": {
    "name": "ipython",
    "version": 3
   },
   "file_extension": ".py",
   "mimetype": "text/x-python",
   "name": "python",
   "nbconvert_exporter": "python",
   "pygments_lexer": "ipython3",
   "version": "3.10.12"
  }
 },
 "nbformat": 4,
 "nbformat_minor": 5
}
