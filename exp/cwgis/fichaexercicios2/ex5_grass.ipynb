{
 "cells": [
  {
   "cell_type": "markdown",
   "id": "a1c4e9e0-00d2-4155-b4b6-c52f8ae49b81",
   "metadata": {},
   "source": [
    "## Exercise 5 | data in f2ex5 | Generate a raster file with the geographic distribution of areas with \n",
    "an altitude greater than 800 meters and a southern exposure. For this purpose, consider the \n",
    "DEM mdt.tif and the exposicao.tif raster."
   ]
  },
  {
   "cell_type": "code",
   "execution_count": null,
   "id": "ce4827e1-d81d-49d4-8f3a-716b8c8a2472",
   "metadata": {},
   "outputs": [],
   "source": []
  }
 ],
 "metadata": {
  "kernelspec": {
   "display_name": "Python 3 (ipykernel)",
   "language": "python",
   "name": "python3"
  },
  "language_info": {
   "codemirror_mode": {
    "name": "ipython",
    "version": 3
   },
   "file_extension": ".py",
   "mimetype": "text/x-python",
   "name": "python",
   "nbconvert_exporter": "python",
   "pygments_lexer": "ipython3",
   "version": "3.10.12"
  }
 },
 "nbformat": 4,
 "nbformat_minor": 5
}
