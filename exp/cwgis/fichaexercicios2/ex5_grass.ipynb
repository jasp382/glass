{
 "cells": [
  {
   "cell_type": "markdown",
   "id": "a1c4e9e0-00d2-4155-b4b6-c52f8ae49b81",
   "metadata": {},
   "source": [
    "## Exercise 5 | data in f2ex5 | Generate a raster file with the geographic distribution of areas with \n",
    "an altitude greater than 800 meters and a southern exposure. For this purpose, consider the \n",
    "DEM mdt.tif and the exposicao.tif raster."
   ]
  },
  {
   "cell_type": "code",
   "execution_count": null,
   "id": "ce4827e1-d81d-49d4-8f3a-716b8c8a2472",
   "metadata": {},
   "outputs": [],
   "source": [
    "dem = '/mnt/d/cwsig/exercicios_2023_24/f2ex5/mdt.tif'\n",
    "\n",
    "aspect = '/mnt/d/cwsig/exercicios_2023_24/f2ex4/exporcls.tif'\n",
    "\n",
    "output = '/mnt/d/cwsig/exercicios_2023_24/f2ex5/rstfilter.tif'"
   ]
  },
  {
   "cell_type": "code",
   "execution_count": null,
   "id": "99110f6b-ca4b-4806-9dec-f0db2d73dba1",
   "metadata": {},
   "outputs": [],
   "source": [
    "import os\n",
    "\n",
    "from glass.pys.oss import mkdir, fprop\n",
    "from glass.pys.tm import now_as_str\n",
    "from glass.wenv.grs import run_grass"
   ]
  },
  {
   "cell_type": "code",
   "execution_count": null,
   "id": "ff6c4d12-2fec-4807-925b-f091850b53ae",
   "metadata": {},
   "outputs": [],
   "source": [
    "ws, loc = os.path.dirname(output), now_as_str(utc=True)\n",
    "\n",
    "gb = run_grass(ws, location=loc, srs=dem)\n",
    "\n",
    "# Start grass gis session\n",
    "import grass.script.setup as gsetup\n",
    "gsetup.init(gb, ws, loc, 'PERMANENT')"
   ]
  },
  {
   "cell_type": "code",
   "execution_count": null,
   "id": "ceba613c-f9ee-40b2-b1a1-902dbef9b272",
   "metadata": {},
   "outputs": [],
   "source": [
    "from glass.it.rst import rst_to_grs, grs_to_rst\n",
    "from glass.rst.alg import grsrstcalc"
   ]
  },
  {
   "cell_type": "code",
   "execution_count": null,
   "id": "e038e3cc-f26b-4474-befe-fdb96ccdce31",
   "metadata": {},
   "outputs": [],
   "source": [
    "grsdem = rst_to_grs(dem)\n",
    "grsasp = rst_to_grs(aspect)\n",
    "\n",
    "grsout = grsrstcalc(\n",
    "    f\"if({grsdem} > 800 && {grsasp} == 6, 1, null())\",\n",
    "    fprop(output, 'fn'), ascmd=True\n",
    ")\n",
    "\n",
    "grs_to_rst(grsout, output, as_cmd=True, rtype=int)"
   ]
  }
 ],
 "metadata": {
  "kernelspec": {
   "display_name": "Python 3 (ipykernel)",
   "language": "python",
   "name": "python3"
  },
  "language_info": {
   "codemirror_mode": {
    "name": "ipython",
    "version": 3
   },
   "file_extension": ".py",
   "mimetype": "text/x-python",
   "name": "python",
   "nbconvert_exporter": "python",
   "pygments_lexer": "ipython3",
   "version": "3.10.12"
  }
 },
 "nbformat": 4,
 "nbformat_minor": 5
}
