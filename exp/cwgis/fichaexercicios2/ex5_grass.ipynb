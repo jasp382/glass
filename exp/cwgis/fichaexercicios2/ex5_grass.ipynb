{
 "cells": [
  {
   "cell_type": "markdown",
   "id": "a1c4e9e0-00d2-4155-b4b6-c52f8ae49b81",
   "metadata": {},
   "source": [
    "## Exercise 5 | data in f2ex5 | Generate a raster file with the geographic distribution of areas with \n",
    "an altitude greater than 800 meters and a southern exposure. For this purpose, consider the \n",
    "DEM mdt.tif and the exposicao.tif raster."
   ]
  },
  {
   "cell_type": "code",
   "execution_count": null,
   "id": "ce4827e1-d81d-49d4-8f3a-716b8c8a2472",
   "metadata": {},
   "outputs": [],
   "source": [
    "dem = '/home/ubuntu/fichaexercicios2/f2ex5/mdt.tif'\n",
    "\n",
    "aspect = '/home/ubuntu/fichaexercicios2/f2ex5/exposicao.tif'\n",
    "\n",
    "output = '/home/ubuntu/fichaexercicios2/f2ex5/output.tif'"
   ]
  },
  {
   "cell_type": "code",
   "execution_count": null,
   "id": "99110f6b-ca4b-4806-9dec-f0db2d73dba1",
   "metadata": {},
   "outputs": [],
   "source": [
    "import os\n",
    "\n",
    "from glass.pys.oss import mkdir\n",
    "from glass.pys.tm import now_as_str\n",
    "from glass.wenv.grs import run_grass"
   ]
  },
  {
   "cell_type": "code",
   "execution_count": null,
   "id": "ff6c4d12-2fec-4807-925b-f091850b53ae",
   "metadata": {},
   "outputs": [],
   "source": [
    "ws, loc = os.path.dirname(output), now_as_str(utc=True)\n",
    "\n",
    "gb = run_grass(ws, location=loc, srs=dem)\n",
    "\n",
    "# Start grass gis session\n",
    "import grass.script.setup as gsetup\n",
    "gsetup.init(gb, ws, loc, 'PERMANENT')"
   ]
  }
 ],
 "metadata": {
  "kernelspec": {
   "display_name": "Python 3 (ipykernel)",
   "language": "python",
   "name": "python3"
  },
  "language_info": {
   "codemirror_mode": {
    "name": "ipython",
    "version": 3
   },
   "file_extension": ".py",
   "mimetype": "text/x-python",
   "name": "python",
   "nbconvert_exporter": "python",
   "pygments_lexer": "ipython3",
   "version": "3.10.12"
  }
 },
 "nbformat": 4,
 "nbformat_minor": 5
}
