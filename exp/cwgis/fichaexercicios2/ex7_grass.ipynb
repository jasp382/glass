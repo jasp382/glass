{
 "cells": [
  {
   "cell_type": "markdown",
   "id": "cff23080-2cc0-4d08-93cf-b7d9a31a6cd6",
   "metadata": {},
   "source": [
    "## Exercise  7  |  data  in  f2ex7  |  For  each  “Freguesia”  in  Coimbra  (freg_cmb.shp),  provide  the average distance (in kilometers) to the nearest school (cmb_escolas.shp). "
   ]
  },
  {
   "cell_type": "code",
   "execution_count": null,
   "id": "118a9830-f1fd-4ece-a913-f2bbc9d8d735",
   "metadata": {},
   "outputs": [],
   "source": [
    "units = '/mnt/d/cwsig/exercicios_2023_24/f2ex7/freg_cmb.shp'\n",
    "\n",
    "pois = '/mnt/d/cwsig/exercicios_2023_24/f2ex7/cmb_escolas.shp'\n",
    "\n",
    "outunits = '/mnt/d/cwsig/exercicios_2023_24/f2ex7/freg_cmb_res.shp'"
   ]
  },
  {
   "cell_type": "code",
   "execution_count": null,
   "id": "bc5db915-b510-43f7-99aa-d6f2d40d7e25",
   "metadata": {},
   "outputs": [],
   "source": [
    "import os\n",
    "\n",
    "from glass.wt.rst import shpext_to_rst\n",
    "from glass.pys.oss import mkdir, fprop\n",
    "from glass.pys.tm import now_as_str\n",
    "from glass.wenv.grs import run_grass"
   ]
  },
  {
   "cell_type": "code",
   "execution_count": null,
   "id": "740fef22-067e-4735-96e4-aa7876bc2256",
   "metadata": {},
   "outputs": [],
   "source": [
    "ws, loc = mkdir(os.path.join(\n",
    "    os.path.dirname(outunits),\n",
    "    now_as_str(utc=True)\n",
    "), overwrite=True), 'loc_unitmean'\n",
    "\n",
    "refrst = shpext_to_rst(units, os.path.join(ws, 'refrst.tif'), cellsize=10)\n",
    "\n",
    "gb = run_grass(ws, location=loc, srs=refrst)\n",
    "\n",
    "# Start grass gis session\n",
    "import grass.script.setup as gsetup\n",
    "gsetup.init(gb, ws, loc, 'PERMANENT')"
   ]
  },
  {
   "cell_type": "code",
   "execution_count": null,
   "id": "6c96f6ce-41d6-4bda-9934-4f7232938c35",
   "metadata": {},
   "outputs": [],
   "source": [
    "from glass.it.shp import shp_to_grs, grs_to_shp\n",
    "from glass.it.rst import grs_to_rst\n",
    "from glass.rst.dst import grow_distance\n",
    "from glass.dtt.torst import grsshp_to_grsrst\n",
    "from glass.rst.zon.grs import grs_rst_stats_by_feat\n",
    "from glass.tbl.col import rn_cols"
   ]
  },
  {
   "cell_type": "code",
   "execution_count": null,
   "id": "0b615928-6ece-477e-b3bc-d60fae082ccb",
   "metadata": {},
   "outputs": [],
   "source": [
    "# Import data into GRASS GIS\n",
    "grs_units = shp_to_grs(units)\n",
    "grs_pois = shp_to_grs(pois)\n",
    "\n",
    "# POIS to Raster\n",
    "rst_pois = grsshp_to_grsrst(grs_pois, 1, f\"rst_{grs_pois}\")\n",
    "\n",
    "# Calculate Euclidean distance to POIS\n",
    "gist = grow_distance(rst_pois, 'dpois', api=\"grass\")\n",
    "\n",
    "# Get average for each Unit\n",
    "grs_rst_stats_by_feat(grs_units, gist, 'dpois', 'average')\n",
    "rn_cols(grs_units, {'dpois_average': 'dpois'}, api='grass')\n",
    "\n",
    "# Export results\n",
    "grs_to_rst(gist, os.path.join(ws, f'{gist}.tif'), rtype=float)\n",
    "\n",
    "grs_to_shp(grs_units, outunits, 'area')"
   ]
  }
 ],
 "metadata": {
  "kernelspec": {
   "display_name": "Python 3 (ipykernel)",
   "language": "python",
   "name": "python3"
  },
  "language_info": {
   "codemirror_mode": {
    "name": "ipython",
    "version": 3
   },
   "file_extension": ".py",
   "mimetype": "text/x-python",
   "name": "python",
   "nbconvert_exporter": "python",
   "pygments_lexer": "ipython3",
   "version": "3.10.12"
  }
 },
 "nbformat": 4,
 "nbformat_minor": 5
}
