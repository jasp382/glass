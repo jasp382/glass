{
 "cells": [
  {
   "cell_type": "markdown",
   "id": "8c8d3948-6f29-48e6-88ac-943ea6588414",
   "metadata": {},
   "source": [
    "## Exercise 3 | data in f2ex3 | Using the file mdt.tif as DEM, produce slope and aspect maps."
   ]
  },
  {
   "cell_type": "code",
   "execution_count": null,
   "id": "1ba6a3e1-b29a-45de-adb0-08d34e8180a5",
   "metadata": {},
   "outputs": [],
   "source": [
    "dem = '/mnt/d/cwsig/exercicios_2023_24/f2ex3/mdt.tif'\n",
    "\n",
    "oslope = '/mnt/d/cwsig/exercicios_2023_24/f2ex3/sloperst.tif'\n",
    "oaspect = '/mnt/d/cwsig/exercicios_2023_24/f2ex3/aspectrst.tif'"
   ]
  },
  {
   "cell_type": "code",
   "execution_count": null,
   "id": "5abc8780-655e-489e-80c8-7d1b90f7f032",
   "metadata": {},
   "outputs": [],
   "source": [
    "from glass.rst.surf import slope_aspect\n",
    "\n",
    "slope_aspect(dem, slope_rst=oslope, aspect_rst=oaspect)"
   ]
  }
 ],
 "metadata": {
  "kernelspec": {
   "display_name": "Python 3 (ipykernel)",
   "language": "python",
   "name": "python3"
  },
  "language_info": {
   "codemirror_mode": {
    "name": "ipython",
    "version": 3
   },
   "file_extension": ".py",
   "mimetype": "text/x-python",
   "name": "python",
   "nbconvert_exporter": "python",
   "pygments_lexer": "ipython3",
   "version": "3.10.12"
  }
 },
 "nbformat": 4,
 "nbformat_minor": 5
}
