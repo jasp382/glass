{
 "cells": [
  {
   "cell_type": "markdown",
   "id": "a204c719-2246-47ca-af7c-3b108b59f5e3",
   "metadata": {},
   "source": [
    "## Exercise  6  |  data  in  f2ex6  |  Create  a  raster  file  with  the  average  slope  of  each  zone  in  the  zones.tif file. Here, a zone is any set of contiguous pixels. Consider the file with slopes, named declives.tif."
   ]
  },
  {
   "cell_type": "code",
   "execution_count": null,
   "id": "5acf8780-55e1-4730-9622-a1ecf380888d",
   "metadata": {},
   "outputs": [],
   "source": [
    "slope = '/mnt/d/cwsig/exercicios_2023_24/f2ex6/declives.tif'\n",
    "\n",
    "zones = '/mnt/d/cwsig/exercicios_2023_24/f2ex6/zones.tif'\n",
    "\n",
    "output = '/mnt/d/cwsig/exercicios_2023_24/f2ex6/slope_mean.tif'"
   ]
  },
  {
   "cell_type": "code",
   "execution_count": null,
   "id": "32ffba8d-7e09-44dc-934c-d6bae8f8a0e9",
   "metadata": {},
   "outputs": [],
   "source": [
    "import os\n",
    "\n",
    "from glass.pys.oss import mkdir, fprop\n",
    "from glass.pys.tm import now_as_str\n",
    "from glass.wenv.grs import run_grass"
   ]
  },
  {
   "cell_type": "code",
   "execution_count": null,
   "id": "b953bb10-d920-48cf-8ff5-e2b0aa4cc648",
   "metadata": {},
   "outputs": [],
   "source": [
    "ws, loc = os.path.dirname(output), now_as_str(utc=True)\n",
    "\n",
    "gb = run_grass(ws, location=loc, srs=slope)\n",
    "\n",
    "# Start grass gis session\n",
    "import grass.script.setup as gsetup\n",
    "gsetup.init(gb, ws, loc, 'PERMANENT')"
   ]
  },
  {
   "cell_type": "code",
   "execution_count": null,
   "id": "321034a4-45e8-47aa-96c3-b1de55d88a3d",
   "metadata": {},
   "outputs": [],
   "source": [
    "from glass.it.rst import rst_to_grs, grs_to_rst\n",
    "from glass.rst.zon.grs import rstatszonal, region_group"
   ]
  },
  {
   "cell_type": "code",
   "execution_count": null,
   "id": "dfedc643-b159-4663-a779-2455668b84b1",
   "metadata": {},
   "outputs": [],
   "source": [
    "grsslope = rst_to_grs(slope)\n",
    "grszones = rst_to_grs(zones)\n",
    "\n",
    "regions = region_group(grszones, 'regions')\n",
    "\n",
    "szonal = rstatszonal(regions, grsslope, \"average\", fprop(output, 'fn'))\n",
    "\n",
    "grs_to_rst(szonal, output, as_cmd=True, rtype=int)"
   ]
  }
 ],
 "metadata": {
  "kernelspec": {
   "display_name": "Python 3 (ipykernel)",
   "language": "python",
   "name": "python3"
  },
  "language_info": {
   "codemirror_mode": {
    "name": "ipython",
    "version": 3
   },
   "file_extension": ".py",
   "mimetype": "text/x-python",
   "name": "python",
   "nbconvert_exporter": "python",
   "pygments_lexer": "ipython3",
   "version": "3.10.12"
  }
 },
 "nbformat": 4,
 "nbformat_minor": 5
}
