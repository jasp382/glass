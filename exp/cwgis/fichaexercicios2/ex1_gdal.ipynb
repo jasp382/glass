{
 "cells": [
  {
   "cell_type": "markdown",
   "id": "4f251b51-869d-456d-95e2-7d27ff9c208e",
   "metadata": {},
   "source": [
    "Exercise  1  |  data  in  f2ex1  |  Calculate  the  Normalized  Difference  Vegetation  Index  using  the \n",
    "formula \n",
    "$𝑁𝐷𝑉𝐼 = \\frac{NIR− RED}{NIR + RED}$"
   ]
  },
  {
   "cell_type": "code",
   "execution_count": null,
   "id": "f5f9f180-c7c1-468a-a44f-db48bf0adafa",
   "metadata": {},
   "outputs": [],
   "source": [
    "red = '/mnt/d/cwsig/exercicios_2023_24/f2ex1/red_band.tif'\n",
    "\n",
    "nir = '/mnt/d/cwsig/exercicios_2023_24/f2ex1/nir_band.tif'\n",
    "out = '/mnt/d/cwsig/exercicios_2023_24/f2ex1/ndvi100.tif'"
   ]
  },
  {
   "cell_type": "code",
   "execution_count": null,
   "id": "b2879b72-a7a6-4771-bdf9-d50aee2425d3",
   "metadata": {},
   "outputs": [],
   "source": [
    "from glass.rst.alg import gdalrstcalc"
   ]
  },
  {
   "cell_type": "code",
   "execution_count": null,
   "id": "479714c5-e33b-4335-9805-9ef9fd5e92fb",
   "metadata": {},
   "outputs": [],
   "source": [
    "expression = (\n",
    "    \"(B.astype(numpy.float32)-A)\"\n",
    "    \"/(B.astype(numpy.float32)+A)\"\n",
    ")\n",
    "\n",
    "gdalrstcalc({'A': red, 'B': nir}, expression, out, odtype=\"Float32\")"
   ]
  }
 ],
 "metadata": {
  "kernelspec": {
   "display_name": "Python 3 (ipykernel)",
   "language": "python",
   "name": "python3"
  },
  "language_info": {
   "codemirror_mode": {
    "name": "ipython",
    "version": 3
   },
   "file_extension": ".py",
   "mimetype": "text/x-python",
   "name": "python",
   "nbconvert_exporter": "python",
   "pygments_lexer": "ipython3",
   "version": "3.10.12"
  }
 },
 "nbformat": 4,
 "nbformat_minor": 5
}
