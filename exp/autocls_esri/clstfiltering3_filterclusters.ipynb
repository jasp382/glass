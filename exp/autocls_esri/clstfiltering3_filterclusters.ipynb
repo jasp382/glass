{
 "cells": [
  {
   "cell_type": "markdown",
   "id": "79baa8a1-6b59-4725-abd9-860cd9211832",
   "metadata": {},
   "source": [
    "## Get clusters with only one class"
   ]
  },
  {
   "cell_type": "code",
   "execution_count": null,
   "id": "ee3fb574-5148-44e7-b6d8-150c145de082",
   "metadata": {},
   "outputs": [],
   "source": [
    "train_f1 = r'G:\\autocls_exp2\\lcfilter\\f1_lisboa.tif'\n",
    "\n",
    "clusters = r'G:\\autocls_exp2\\cluster_filter\\cmb_km_f1_lisboa.tif'\n",
    "\n",
    "result = r'G:\\autocls_exp2\\lcfilter\\f5_lisboa.tif'"
   ]
  },
  {
   "cell_type": "code",
   "execution_count": null,
   "id": "8a02ebf2-7348-4444-b23b-271c53bba7e9",
   "metadata": {},
   "outputs": [],
   "source": [
    "import os\n",
    "import pandas as pd\n",
    "import numpy as np\n",
    "from glass.rst.local import combine\n",
    "from glass.pys.oss import mkdir\n",
    "from glass.pys.tm import now_as_str\n",
    "from glass.rd import tbl_to_obj\n",
    "from glass.esri.rst.local import combine_rst, lookup\n",
    "from glass.wt import obj_to_tbl\n",
    "from glass.esri.tbl.joins import join_table\n",
    "from glass.esri.tbl.col import cols_calc\n",
    "from glass.esri.rd.rst import rst_to_lyr\n",
    "from glass.esri.rst.rcls import rcls_rst\n",
    "from glass.esri.rd import dbf_to_view"
   ]
  },
  {
   "cell_type": "code",
   "execution_count": null,
   "id": "a8cec35a-873d-4ea6-8e7e-89f681d78d30",
   "metadata": {},
   "outputs": [],
   "source": [
    "# Create Layers\n",
    "tf1lyr = rst_to_lyr(train_f1, 'f1')\n",
    "cltlyr = rst_to_lyr(clusters, 'clusters')"
   ]
  },
  {
   "cell_type": "code",
   "execution_count": null,
   "id": "0a369957-5d68-451d-9156-8d3d807918eb",
   "metadata": {},
   "outputs": [],
   "source": [
    "cltlyr"
   ]
  },
  {
   "cell_type": "code",
   "execution_count": null,
   "id": "2fea8cad-bbe0-4a94-a8ac-fae0de458878",
   "metadata": {},
   "outputs": [],
   "source": [
    "tmpws = mkdir(\n",
    "    os.path.join(os.path.dirname(result), now_as_str(utc=True)),\n",
    "    overwrite=True\n",
    ")"
   ]
  },
  {
   "cell_type": "code",
   "execution_count": null,
   "id": "8780fc43-9e9c-4c83-be40-5652866937d7",
   "metadata": {},
   "outputs": [],
   "source": [
    "# Combine\n",
    "clstbycls, clyr = combine_rst(\n",
    "    [train_f1, clusters],\n",
    "    os.path.join(tmpws, 'c_cls_cluster.tif'),\n",
    "    train_f1\n",
    ")\n",
    "\n",
    "vatdbf = os.path.join(tmpws, f\"{os.path.basename(clstbycls)}.vat.dbf\")\n",
    "df_clstbycls = tbl_to_obj(vatdbf)"
   ]
  },
  {
   "cell_type": "code",
   "execution_count": null,
   "id": "980eddf9-389d-4ce9-8ea3-6898b485172d",
   "metadata": {},
   "outputs": [],
   "source": [
    "df_clstbycls"
   ]
  },
  {
   "cell_type": "code",
   "execution_count": null,
   "id": "c7421f35-0c23-40bf-b4cc-25b7b11531f1",
   "metadata": {},
   "outputs": [],
   "source": [
    "class_col = df_clstbycls.columns.values[2]\n",
    "cluster_col = df_clstbycls.columns.values[3]\n",
    "\n",
    "# Count number of classes for each cluster\n",
    "clstsum = pd.DataFrame({\n",
    "    'nclasses' : df_clstbycls.groupby([cluster_col])[class_col].agg('count')\n",
    "}).reset_index()"
   ]
  },
  {
   "cell_type": "code",
   "execution_count": null,
   "id": "47e951fe-0b52-4030-8906-e8d9c74c2cc4",
   "metadata": {},
   "outputs": [],
   "source": [
    "clstsum['classv'] = np.where(\n",
    "    clstsum.nclasses > 1,\n",
    "    0, 1\n",
    ")"
   ]
  },
  {
   "cell_type": "code",
   "execution_count": null,
   "id": "996ab474-01b5-4603-a097-50f47b1f65e0",
   "metadata": {},
   "outputs": [],
   "source": [
    "# Save table as DBF\n",
    "clstnum_dbf = obj_to_tbl(clstsum, os.path.join(tmpws, 'ncls_by_cluster.dbf'))"
   ]
  },
  {
   "cell_type": "code",
   "execution_count": null,
   "id": "346f000a-fb6c-4095-ade7-43acb7409d4c",
   "metadata": {},
   "outputs": [],
   "source": [
    "# Join Table\n",
    "#_vatv = dbf_to_view(vatdbf, 'combinevatdbf')\n",
    "_vatdbf = join_table(clyr, clstnum_dbf, cluster_col, cluster_col.upper(), cols=['CLASSV'])\n",
    "\n",
    "# Calculate\n",
    "_vatdbf = cols_calc(\n",
    "    _vatdbf, \"classid\", f\"getcls(!CLASSV!, !{class_col}!)\",\n",
    "    newcols={\"TYPE\": \"SHORT\", \"LENGTH\": None, \"PRECISION\" : None},\n",
    "    code=\"\"\"def getcls(mask, cls):\n",
    "        if not mask:\n",
    "            return 0\n",
    "        return cls\n",
    "    \"\"\"\n",
    ")"
   ]
  },
  {
   "cell_type": "code",
   "execution_count": null,
   "id": "16277b24-c6e9-46c5-accc-e13f393f6094",
   "metadata": {},
   "outputs": [],
   "source": [
    "# Lookup\n",
    "#cmblyr = rst_to_lyr(clstbycls)\n",
    "lookrst, looklyr = lookup(\n",
    "    clyr, \"classid\",\n",
    "    os.path.join(tmpws, 'lookuprst.tif'),\n",
    "    train_f1\n",
    ")\n",
    "\n",
    "# Reclassify\n",
    "lulc_classes = list(df_clstbycls[class_col].unique())\n",
    "rcls_rules = [[cls, cls] for cls in lulc_classes]\n",
    "rcls_rules.append([0, 'NODATA'])\n",
    "\n",
    "rcls_rst(looklyr, 'Value', rcls_rules, result, train_f1)"
   ]
  }
 ],
 "metadata": {
  "kernelspec": {
   "display_name": "Python 3 (ipykernel)",
   "language": "python",
   "name": "python3"
  },
  "language_info": {
   "codemirror_mode": {
    "name": "ipython",
    "version": 3
   },
   "file_extension": ".py",
   "mimetype": "text/x-python",
   "name": "python",
   "nbconvert_exporter": "python",
   "pygments_lexer": "ipython3",
   "version": "3.9.18"
  }
 },
 "nbformat": 4,
 "nbformat_minor": 5
}
