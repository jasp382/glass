{
 "cells": [
  {
   "cell_type": "markdown",
   "id": "42ed50d9-8c16-4072-977e-c00917ec9bb5",
   "metadata": {},
   "source": [
    "## Get most clusters with only one class \n",
    "\n",
    "- ordernar clusters por numero de pixeis (ordem decrescente);\n",
    "- selecao de 30% dos pixeis, dando prioridade aos clusters que aparecem primeiro na lista"
   ]
  },
  {
   "cell_type": "code",
   "execution_count": null,
   "id": "bde6f91d-6c32-4719-a0fa-067b52d8c382",
   "metadata": {},
   "outputs": [],
   "source": [
    "train_f1 = r'G:\\autocls_exp2\\lcfilter\\f1_lisboa.tif'\n",
    "\n",
    "clusters = r'G:\\autocls_exp2\\cluster_filter\\cmb_km_f1_lisboa.tif'\n",
    "\n",
    "result = r'G:\\autocls_exp2\\lcfilter\\f6_lisboa.tif'"
   ]
  },
  {
   "cell_type": "code",
   "execution_count": null,
   "id": "2f04b732-6af1-4e4b-bc4c-aeb95d03ba31",
   "metadata": {},
   "outputs": [],
   "source": [
    "import os\n",
    "import pandas as pd\n",
    "import numpy as np\n",
    "from glass.rst.local import combine\n",
    "from glass.pys.oss import mkdir\n",
    "from glass.pys.tm import now_as_str\n",
    "from glass.rd import tbl_to_obj\n",
    "from glass.esri.rst.local import combine_rst, lookup\n",
    "from glass.wt import obj_to_tbl\n",
    "from glass.esri.tbl.joins import join_table\n",
    "from glass.esri.tbl.col import cols_calc\n",
    "from glass.esri.rd.rst import rst_to_lyr\n",
    "from glass.esri.rst.rcls import rcls_rst\n",
    "from glass.esri.rd import dbf_to_view\n",
    "from glass.dtt.mge.pd import merge_df"
   ]
  },
  {
   "cell_type": "code",
   "execution_count": null,
   "id": "c1be2cc7-7bde-47a2-b8d0-7f9876309f16",
   "metadata": {},
   "outputs": [],
   "source": [
    "tmpws = mkdir(\n",
    "    os.path.join(os.path.dirname(result), now_as_str(utc=True)),\n",
    "    overwrite=True\n",
    ")\n",
    "\n",
    "# Combine\n",
    "clstbycls, clyr = combine_rst(\n",
    "    [train_f1, clusters],\n",
    "    os.path.join(tmpws, 'c6_cls_cluster.tif'),\n",
    "    train_f1\n",
    ")\n",
    "\n",
    "vatdbf = os.path.join(tmpws, f\"{os.path.basename(clstbycls)}.vat.dbf\")\n",
    "df_clstbycls = tbl_to_obj(vatdbf)\n",
    "\n",
    "class_col = df_clstbycls.columns.values[2]\n",
    "cluster_col = df_clstbycls.columns.values[3]"
   ]
  },
  {
   "cell_type": "code",
   "execution_count": null,
   "id": "b523bb8e-1d17-4b2e-ad48-4f6a029a8d40",
   "metadata": {},
   "outputs": [],
   "source": [
    "df_clstbycls"
   ]
  },
  {
   "cell_type": "code",
   "execution_count": null,
   "id": "3796e7b4-66aa-4719-ad8e-bea96088998d",
   "metadata": {},
   "outputs": [],
   "source": [
    "# Count number of classes for each cluster\n",
    "clstsum = pd.DataFrame({\n",
    "    'nclasses' : df_clstbycls.groupby([cluster_col])[class_col].agg('count')\n",
    "}).reset_index()\n",
    "\n",
    "clstsum['classv'] = np.where(\n",
    "    clstsum.nclasses > 1,\n",
    "    0, 1\n",
    ")\n",
    "\n",
    "# Save table as DBF\n",
    "clstnum_dbf = obj_to_tbl(clstsum, os.path.join(tmpws, 'ncls_by_cluster.dbf'))"
   ]
  },
  {
   "cell_type": "code",
   "execution_count": null,
   "id": "87aaa3a3-98d1-41c3-9e2c-457400941934",
   "metadata": {},
   "outputs": [],
   "source": [
    "clstsum.rename(columns={cluster_col: 'fk'}, inplace=True)\n",
    "\n",
    "df_clstbycls = df_clstbycls.merge(clstsum, how='left', left_on=cluster_col, right_on='fk')\n",
    "\n",
    "df_clstbycls = df_clstbycls[df_clstbycls.classv == 1]\n",
    "df_clstbycls.reset_index(inplace=True)"
   ]
  },
  {
   "cell_type": "code",
   "execution_count": null,
   "id": "41faf062-14c9-4129-8dd9-d79847ef514c",
   "metadata": {},
   "outputs": [],
   "source": [
    "# Get px count of each class\n",
    "class_df = pd.DataFrame({\n",
    "    'npx' : df_clstbycls.groupby([class_col])['Count'].agg('sum')\n",
    "}).reset_index()"
   ]
  },
  {
   "cell_type": "code",
   "execution_count": null,
   "id": "d6f9ed05-85d6-4d8e-93ab-c4ba6d7a0f8e",
   "metadata": {},
   "outputs": [],
   "source": [
    "# Get relative freg\n",
    "class_df.rename(columns={class_col: 'class_fk'}, inplace=True)\n",
    "\n",
    "df_clstbycls  = df_clstbycls.merge(class_df, how='left', left_on=class_col, right_on='class_fk')\n",
    "\n",
    "df_clstbycls['relfreq'] = df_clstbycls['Count'] / df_clstbycls['npx'] * 100"
   ]
  },
  {
   "cell_type": "code",
   "execution_count": null,
   "id": "8d1c0ae0-24d5-458c-9516-281b534d1c05",
   "metadata": {},
   "outputs": [],
   "source": [
    "# Get clusters with more pixels for each class\n",
    "lclasses = class_df['class_fk'].tolist()\n",
    "\n",
    "cdfs = []\n",
    "for cls in lclasses:\n",
    "    cdf = df_clstbycls[df_clstbycls[class_col] == cls]\n",
    "\n",
    "    # Order By frequency | descending ordering\n",
    "    cdf = cdf.sort_values(by='relfreq', ascending=False)\n",
    "\n",
    "    # Get cumulative freq\n",
    "    cdf['cumfreq'] = cdf['relfreq'].cumsum()\n",
    "\n",
    "    # Get wanted clusters\n",
    "    cdf = cdf[cdf.cumfreq <= 30]\n",
    "\n",
    "    cdfs.append(cdf)\n",
    "\n",
    "wclst = merge_df(cdfs)"
   ]
  },
  {
   "cell_type": "code",
   "execution_count": null,
   "id": "8ae0491e-3dab-49f4-97c5-73e6e23d4b42",
   "metadata": {},
   "outputs": [],
   "source": [
    "# Reclassify Combine raster\n",
    "wclst['rcls'] = wclst[['Value', class_col]].values.tolist()"
   ]
  },
  {
   "cell_type": "code",
   "execution_count": null,
   "id": "ba092ffd-72ac-4683-b5ca-c0fbf34ac0c8",
   "metadata": {},
   "outputs": [],
   "source": [
    "rclsrules = wclst.rcls.tolist()\n",
    "\n",
    "rcls_rst(clyr, 'Value', rclsrules, result, train_f1)"
   ]
  },
  {
   "cell_type": "code",
   "execution_count": null,
   "id": "608f5d62-35d6-437c-93c5-b998fb588337",
   "metadata": {},
   "outputs": [],
   "source": []
  }
 ],
 "metadata": {
  "kernelspec": {
   "display_name": "Python 3 (ipykernel)",
   "language": "python",
   "name": "python3"
  },
  "language_info": {
   "codemirror_mode": {
    "name": "ipython",
    "version": 3
   },
   "file_extension": ".py",
   "mimetype": "text/x-python",
   "name": "python",
   "nbconvert_exporter": "python",
   "pygments_lexer": "ipython3",
   "version": "3.9.18"
  }
 },
 "nbformat": 4,
 "nbformat_minor": 5
}
