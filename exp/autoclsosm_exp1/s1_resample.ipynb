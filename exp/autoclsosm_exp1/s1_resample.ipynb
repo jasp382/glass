{
 "cells": [
  {
   "cell_type": "markdown",
   "id": "9ac2f19c-91a3-46ef-9da4-1486a8b012e0",
   "metadata": {},
   "source": [
    "### Resample all sentinel-2 images in a shapefile\n",
    "\n",
    "Organize files by month"
   ]
  },
  {
   "cell_type": "code",
   "execution_count": null,
   "id": "782ae8d2-509d-404d-a3d9-a26e0a4889e4",
   "metadata": {},
   "outputs": [],
   "source": [
    "shp = '/mnt/d/autocls/sentinel/img_cmb21.shp'\n",
    "\n",
    "folder = '/mnt/d/autocls/sat_s2_terceira/src2020'\n",
    "\n",
    "ofolder = '/mnt/d/autocls/sat_s2_terceira'"
   ]
  },
  {
   "cell_type": "code",
   "execution_count": null,
   "id": "0b559046-78fd-4103-9592-15b7e8e5afc9",
   "metadata": {},
   "outputs": [],
   "source": [
    "import pandas as pd\n",
    "import os\n",
    "from glass.rd.shp import shp_to_obj\n",
    "from glass.pys.tm import now_as_str\n",
    "from glass.pys.oss import lst_ff, mkdir, del_folder, fprop\n",
    "from glass.dtt.stl  import unzip_img\n",
    "from glass.rst.rmp  import match_cellsize_and_clip"
   ]
  },
  {
   "cell_type": "code",
   "execution_count": null,
   "id": "893f45a4-e817-4f8a-b702-76b10a82c9d9",
   "metadata": {},
   "outputs": [],
   "source": [
    "imgs = lst_ff(folder, file_format='.zip')"
   ]
  },
  {
   "cell_type": "code",
   "execution_count": null,
   "id": "94743e07-5148-4fd9-8f6b-eef3e9ec0c16",
   "metadata": {},
   "outputs": [],
   "source": [
    "for img in imgs:\n",
    "    zname = fprop(img, 'fn')\n",
    "    zlst = zname.split('_')\n",
    "\n",
    "    dlst = zlst[2].split('T')\n",
    "    _data = dlst[0]\n",
    "    \n",
    "    zfolder = mkdir(os.path.join(ofolder, now_as_str()), overwrite=True)\n",
    "    ifolder = mkdir(os.path.join(ofolder, f\"i_{_data}\"), overwrite=True)\n",
    "    \n",
    "    # Unzip image\n",
    "    bands = unzip_img(img, zfolder)\n",
    "    \n",
    "    # Match cellsize and clip\n",
    "    bands = match_cellsize_and_clip(\n",
    "        [bands[b] for b in bands],\n",
    "        bands[\"B02_10m\"], ifolder,\n",
    "        isint=True, clipgeo=None,\n",
    "        ws=zfolder\n",
    "    )\n",
    "            \n",
    "    # Remove temporary data\n",
    "    del_folder(zfolder)"
   ]
  }
 ],
 "metadata": {
  "kernelspec": {
   "display_name": "Python 3 (ipykernel)",
   "language": "python",
   "name": "python3"
  },
  "language_info": {
   "codemirror_mode": {
    "name": "ipython",
    "version": 3
   },
   "file_extension": ".py",
   "mimetype": "text/x-python",
   "name": "python",
   "nbconvert_exporter": "python",
   "pygments_lexer": "ipython3",
   "version": "3.10.6"
  }
 },
 "nbformat": 4,
 "nbformat_minor": 5
}
