{
 "cells": [
  {
   "cell_type": "markdown",
   "id": "cdda80ef-9c01-41cc-b6a4-4b560c1d4923",
   "metadata": {},
   "source": [
    "### Produce classification matrix and report table"
   ]
  },
  {
   "cell_type": "code",
   "execution_count": null,
   "id": "cd3c7c4d-8666-4f4a-b5fa-7bff621694d4",
   "metadata": {},
   "outputs": [],
   "source": [
    "ishp = '/home/jakim/autocls/pureobj.shp'\n",
    "\n",
    "lulc_col = 'idclcplus'\n",
    "\n",
    "refs = '/home/jakim/autocls/thresholdsref'\n",
    "\n",
    "clsrst = '/home/jakim/autocls/thresholdstst'\n",
    "\n",
    "outtbl = '/home/jakim/autocls/thresholdsref'"
   ]
  },
  {
   "cell_type": "code",
   "execution_count": null,
   "id": "8382d6f8-0829-4020-9f3e-f428a7c0ab35",
   "metadata": {},
   "outputs": [],
   "source": [
    "fcol = [\n",
    "    \"threshold\",\n",
    "    'pos_TP', 'pos_FP', 'pos_FN', 'pos_TN', \n",
    "    'pos_error', 'pos_acc', 'pos_tpr', 'pos_tnr', 'pos_prec',\n",
    "    'pos_fpr', 'pos_mcc', 'pos_f05', 'pos_f1', 'pos_f2',\n",
    "    'neg_TP', 'neg_FP', 'neg_FN', 'neg_TN',\n",
    "    'neg_error', 'neg_acc', 'neg_tpr', 'neg_tnr', 'neg_prec',\n",
    "    'neg_fpr', 'neg_mcc', 'neg_f05', 'neg_f1', 'neg_f2'\n",
    "]"
   ]
  },
  {
   "cell_type": "code",
   "execution_count": null,
   "id": "ed7968d4-cc3b-463e-85e5-2d9eedeaf0e5",
   "metadata": {},
   "outputs": [],
   "source": [
    "import pandas as pd\n",
    "import os\n",
    "\n",
    "from glass.rd.shp import shp_to_obj\n",
    "from glass.pys.oss import lst_folders_subfiles, lst_ff, fprop\n",
    "from glass.rst.confmtx import bin_confmxt_fmrst\n",
    "from glass.wt import obj_to_tbl"
   ]
  },
  {
   "cell_type": "code",
   "execution_count": null,
   "id": "f740ce0d-88a1-4e55-bf6d-775775b386dc",
   "metadata": {},
   "outputs": [],
   "source": [
    "shpdf = shp_to_obj(ishp)\n",
    "\n",
    "# Get classes\n",
    "lulcs = list(shpdf[lulc_col].unique())"
   ]
  },
  {
   "cell_type": "code",
   "execution_count": null,
   "id": "95d2a2c5-dfa2-491d-9987-e7c01ef6443d",
   "metadata": {},
   "outputs": [],
   "source": [
    "refs_files = lst_ff(refs, file_format='.tif')\n",
    "\n",
    "ref_rst = {cls : {} for cls in lulcs}\n",
    "\n",
    "for f in refs_files:\n",
    "    _, _cls, ispos = fprop(f, 'fn').split('_')\n",
    "    \n",
    "    ref_rst[int(_cls)][ispos] = f"
   ]
  },
  {
   "cell_type": "code",
   "execution_count": null,
   "id": "f6606d01-40b2-4080-8b7f-949a0ec28c54",
   "metadata": {},
   "outputs": [],
   "source": [
    "clsfiles = lst_folders_subfiles(clsrst, files_format='.tif')\n",
    "\n",
    "clspos, clsneg = {}, {}\n",
    "for k in clsfiles:\n",
    "    clspos[k], clsneg[k] = {}, {}\n",
    "\n",
    "    for f in clsfiles[k]:\n",
    "        fparts = fprop(f, 'fn').split('_')\n",
    "        ispos, _th = fparts[-2], fparts[-1]\n",
    "        \n",
    "        th = float(f\"{_th[0]}.{_th[1]}\") if len(_th) == 2 else \\\n",
    "            float(f\"-{_th[1]}.{_th[2]}\")\n",
    "\n",
    "        if ispos == 'pos':\n",
    "            clspos[k][th] = f\n",
    "        else:\n",
    "            clsneg[k][th] = f"
   ]
  },
  {
   "cell_type": "code",
   "execution_count": null,
   "id": "adbf4b7a-8bd1-47b2-ac31-1eda93e773b2",
   "metadata": {},
   "outputs": [],
   "source": [
    "ref_rst"
   ]
  },
  {
   "cell_type": "code",
   "execution_count": null,
   "id": "bcbee6e1-d9af-4c82-ae91-03a3cc91a1e4",
   "metadata": {},
   "outputs": [],
   "source": [
    "# Create confusion matrices\n",
    "\n",
    "# For each class, create table with all\n",
    "# thresholds values\n",
    "for cls in ref_rst:\n",
    "    cls_sheets = []\n",
    "    sheets_names = []\n",
    "    for f in clsfiles:\n",
    "        ftbl = []\n",
    "        for th in clspos[f]:\n",
    "            mtx_pos, eval_pos = bin_confmxt_fmrst(ref_rst[cls]['pos'], clspos[f][th])\n",
    "            mtx_neg, eval_neg = bin_confmxt_fmrst(ref_rst[cls]['neg'], clsneg[f][th])\n",
    "\n",
    "            row = [th]\n",
    "\n",
    "            for i, r in mtx_pos.iterrows():\n",
    "                row.append(r.positives)\n",
    "                row.append(r.negatives)\n",
    "\n",
    "            for i, r in eval_pos.iterrows():\n",
    "                row.append(r['value'])\n",
    "\n",
    "            for i, r in mtx_neg.iterrows():\n",
    "                row.append(r.positives)\n",
    "                row.append(r.negatives)\n",
    "\n",
    "            for i, r in eval_neg.iterrows():\n",
    "                row.append(r['value'])\n",
    "\n",
    "            ftbl.append(row)\n",
    "\n",
    "        cls_sheets.append(pd.DataFrame(ftbl, columns=fcol))\n",
    "        sheets_names.append(f)\n",
    "\n",
    "    # Write XLSX file\n",
    "    obj_to_tbl(\n",
    "        cls_sheets,\n",
    "        os.path.join(outtbl, f'cls_{str(cls)}.xlsx'),\n",
    "        sheetsName=sheets_names\n",
    "    )"
   ]
  },
  {
   "cell_type": "code",
   "execution_count": null,
   "id": "f4d5eed3-4c68-4c6f-983a-aef69f277890",
   "metadata": {},
   "outputs": [],
   "source": []
  }
 ],
 "metadata": {
  "kernelspec": {
   "display_name": "Python 3 (ipykernel)",
   "language": "python",
   "name": "python3"
  },
  "language_info": {
   "codemirror_mode": {
    "name": "ipython",
    "version": 3
   },
   "file_extension": ".py",
   "mimetype": "text/x-python",
   "name": "python",
   "nbconvert_exporter": "python",
   "pygments_lexer": "ipython3",
   "version": "3.10.6"
  }
 },
 "nbformat": 4,
 "nbformat_minor": 5
}
