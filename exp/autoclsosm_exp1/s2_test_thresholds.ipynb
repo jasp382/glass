{
 "cells": [
  {
   "cell_type": "code",
   "execution_count": 1,
   "id": "28c8fa5f-56bc-43bd-8001-d0f0f506951a",
   "metadata": {},
   "outputs": [],
   "source": [
    "ishp = '/mnt/d/autocls/pureobj.shp'\n",
    "\n",
    "lulc_col = 'idclcplus'\n",
    "\n",
    "folder = '/mnt/d/autocls/sat_s2_cmb18'\n",
    "\n",
    "out_ref = '/mnt/d/autocls/thresholdstst/ref'\n",
    "\n",
    "out_cls = '/mnt/d/autocls/thresholdstst'\n",
    "\n",
    "iname = 'idx_i_'\n",
    "\n",
    "thresholds = [(i + 1) / 10 for i in range(-10, 9)]"
   ]
  },
  {
   "cell_type": "code",
   "execution_count": 2,
   "id": "68bfeabf-5e4f-4b18-a157-de801d6b5d53",
   "metadata": {},
   "outputs": [],
   "source": [
    "import os\n",
    "\n",
    "from glass.pys.oss import lst_folders_subfiles, mkdir, fprop\n",
    "from glass.rd.shp import shp_to_obj\n",
    "from glass.wenv.grs import run_grass\n",
    "from glass.pys.tm import now_as_str"
   ]
  },
  {
   "cell_type": "code",
   "execution_count": 3,
   "id": "0d18d671-f2de-48ac-aab6-5ee5865bddc5",
   "metadata": {},
   "outputs": [],
   "source": [
    "# List images folder\n",
    "imgs = lst_folders_subfiles(folder, filter_folder=iname, files_format='.tif')\n",
    "\n",
    "ikeys = list(imgs.keys())\n",
    "refrst = imgs[ikeys[0]][0]"
   ]
  },
  {
   "cell_type": "code",
   "execution_count": 4,
   "id": "8e6fc200-3c6c-4e8b-8e0e-0b6ed1e906a6",
   "metadata": {},
   "outputs": [
    {
     "data": {
      "text/plain": [
       "'/mnt/d/autocls/sat_s2_cmb18/idx_i_20180130/evi_i_20180130.tif'"
      ]
     },
     "execution_count": 4,
     "metadata": {},
     "output_type": "execute_result"
    }
   ],
   "source": [
    "refrst"
   ]
  },
  {
   "cell_type": "code",
   "execution_count": 5,
   "id": "bb4e7f82-35dd-4724-85e7-2e6a3ee45e71",
   "metadata": {},
   "outputs": [],
   "source": [
    "shpdf = shp_to_obj(ishp)\n",
    "\n",
    "# Get classes\n",
    "lulcs = list(shpdf[lulc_col].unique())"
   ]
  },
  {
   "cell_type": "code",
   "execution_count": 6,
   "id": "2b80075f-76f5-4851-b520-10134e14dd6a",
   "metadata": {},
   "outputs": [
    {
     "data": {
      "text/plain": [
       "'/tmp/tmp06i76801'"
      ]
     },
     "execution_count": 6,
     "metadata": {},
     "output_type": "execute_result"
    }
   ],
   "source": [
    "# Create GRASS GIS\n",
    "loc = now_as_str()\n",
    "\n",
    "gs = run_grass(folder, location=loc, srs=refrst)\n",
    "\n",
    "import grass.script.setup as gsetup\n",
    "gsetup.init(gs, folder, loc, 'PERMANENT')"
   ]
  },
  {
   "cell_type": "code",
   "execution_count": 7,
   "id": "2458680f-3d96-4050-8978-fa611bd8f35c",
   "metadata": {},
   "outputs": [],
   "source": [
    "from glass.it.shp import shp_to_grs\n",
    "from glass.it.rst import rst_to_grs, grs_to_mask, grs_to_rst\n",
    "from glass.dtr.torst import grsshp_to_grsrst\n",
    "from glass.rst.alg import grsrstcalc"
   ]
  },
  {
   "cell_type": "code",
   "execution_count": 8,
   "id": "6bd2bcc8-86c7-44ae-8f1b-6e0e77af208e",
   "metadata": {},
   "outputs": [],
   "source": [
    "# Send LULC Shapefiled to GRASS GIS\n",
    "gshp = shp_to_grs(ishp, asCMD=True)\n",
    "\n",
    "# LULC Shapefile to Raster\n",
    "lulc_rst = grsshp_to_grsrst(\n",
    "    gshp, lulc_col,\n",
    "    f\"rst_{gshp}\"\n",
    ")\n",
    "\n",
    "# Get Mask\n",
    "maskrst = grsrstcalc(f\"({lulc_rst} * 0) + 1\", 'lulcmask', ascmd=True)\n",
    "\n",
    "# Create Mask\n",
    "grs_to_mask(maskrst, overwrite=True)"
   ]
  },
  {
   "cell_type": "markdown",
   "id": "d783f8a4-dc2f-4835-a53f-a23679dbf002",
   "metadata": {},
   "source": [
    "```Python\n",
    "trst = {\n",
    "    'idx_i_20180130' : [\n",
    "        {\n",
    "            -0.9 : {'pos' : 'rastername', 'neg': 'rastername'},\n",
    "            -0.8 : {'pos' : 'rastername', 'neg': 'rastername'},\n",
    "            ...\n",
    "        }\n",
    "    ],\n",
    "    'idx_i_201805005' : [\n",
    "        {\n",
    "            -0.9 : {'pos' : 'rastername', 'neg': 'rastername'},\n",
    "            -0.8 : {'pos' : 'rastername', 'neg': 'rastername'},\n",
    "            ...\n",
    "        }\n",
    "    ],\n",
    "    ...\n",
    "}\n",
    "```"
   ]
  },
  {
   "cell_type": "code",
   "execution_count": 9,
   "id": "adae128f-71e0-4a8d-bdcd-37207b2f1459",
   "metadata": {},
   "outputs": [
    {
     "name": "stderr",
     "output_type": "stream",
     "text": [
      "syntax error\n",
      "Parse error\n",
      "ERROR: parse error\n"
     ]
    },
    {
     "ename": "CalledModuleError",
     "evalue": "Module run r.mapcalc r.mapcalc expression=evi_i_20180130_pos_n09 = evi_i_20180130 >= -0.9, 1, 0 region=current --o --q ended with error\nProcess ended with non-zero return code 1. See errors in the (error) output.",
     "output_type": "error",
     "traceback": [
      "\u001b[0;31m---------------------------------------------------------------------------\u001b[0m",
      "\u001b[0;31mCalledModuleError\u001b[0m                         Traceback (most recent call last)",
      "Cell \u001b[0;32mIn[9], line 18\u001b[0m\n\u001b[1;32m     14\u001b[0m td[thl] \u001b[38;5;241m=\u001b[39m {}\n\u001b[1;32m     16\u001b[0m _thl \u001b[38;5;241m=\u001b[39m \u001b[38;5;28mstr\u001b[39m(thl)\u001b[38;5;241m.\u001b[39mreplace(\u001b[38;5;124m'\u001b[39m\u001b[38;5;124m-\u001b[39m\u001b[38;5;124m'\u001b[39m, \u001b[38;5;124m'\u001b[39m\u001b[38;5;124mn\u001b[39m\u001b[38;5;124m'\u001b[39m)\u001b[38;5;241m.\u001b[39mreplace(\u001b[38;5;124m'\u001b[39m\u001b[38;5;124m.\u001b[39m\u001b[38;5;124m'\u001b[39m, \u001b[38;5;124m'\u001b[39m\u001b[38;5;124m'\u001b[39m)\n\u001b[0;32m---> 18\u001b[0m td[thl][\u001b[38;5;124m'\u001b[39m\u001b[38;5;124mpos\u001b[39m\u001b[38;5;124m'\u001b[39m] \u001b[38;5;241m=\u001b[39m \u001b[43mgrsrstcalc\u001b[49m\u001b[43m(\u001b[49m\n\u001b[1;32m     19\u001b[0m \u001b[43m    \u001b[49m\u001b[38;5;124;43mf\u001b[39;49m\u001b[38;5;124;43m\"\u001b[39;49m\u001b[38;5;132;43;01m{\u001b[39;49;00m\u001b[43mimgs\u001b[49m\u001b[43m[\u001b[49m\u001b[43mk\u001b[49m\u001b[43m]\u001b[49m\u001b[43m[\u001b[49m\u001b[43mi\u001b[49m\u001b[43m]\u001b[49m\u001b[38;5;132;43;01m}\u001b[39;49;00m\u001b[38;5;124;43m >= \u001b[39;49m\u001b[38;5;132;43;01m{\u001b[39;49;00m\u001b[38;5;28;43mstr\u001b[39;49m\u001b[43m(\u001b[49m\u001b[43mthl\u001b[49m\u001b[43m)\u001b[49m\u001b[38;5;132;43;01m}\u001b[39;49;00m\u001b[38;5;124;43m, 1, 0\u001b[39;49m\u001b[38;5;124;43m\"\u001b[39;49m\u001b[43m,\u001b[49m\n\u001b[1;32m     20\u001b[0m \u001b[43m    \u001b[49m\u001b[38;5;124;43mf\u001b[39;49m\u001b[38;5;124;43m\"\u001b[39;49m\u001b[38;5;132;43;01m{\u001b[39;49;00m\u001b[43mimgs\u001b[49m\u001b[43m[\u001b[49m\u001b[43mk\u001b[49m\u001b[43m]\u001b[49m\u001b[43m[\u001b[49m\u001b[43mi\u001b[49m\u001b[43m]\u001b[49m\u001b[38;5;132;43;01m}\u001b[39;49;00m\u001b[38;5;124;43m_pos_\u001b[39;49m\u001b[38;5;132;43;01m{\u001b[39;49;00m\u001b[38;5;28;43mstr\u001b[39;49m\u001b[43m(\u001b[49m\u001b[43m_thl\u001b[49m\u001b[43m)\u001b[49m\u001b[38;5;132;43;01m}\u001b[39;49;00m\u001b[38;5;124;43m\"\u001b[39;49m\n\u001b[1;32m     21\u001b[0m \u001b[43m\u001b[49m\u001b[43m)\u001b[49m\n\u001b[1;32m     22\u001b[0m td[thl][\u001b[38;5;124m'\u001b[39m\u001b[38;5;124mneg\u001b[39m\u001b[38;5;124m'\u001b[39m] \u001b[38;5;241m=\u001b[39m grsrstcalc(\n\u001b[1;32m     23\u001b[0m     \u001b[38;5;124mf\u001b[39m\u001b[38;5;124m\"\u001b[39m\u001b[38;5;132;01m{\u001b[39;00mimgs[k][i]\u001b[38;5;132;01m}\u001b[39;00m\u001b[38;5;124m < \u001b[39m\u001b[38;5;132;01m{\u001b[39;00m\u001b[38;5;28mstr\u001b[39m(thl)\u001b[38;5;132;01m}\u001b[39;00m\u001b[38;5;124m, 1, 0\u001b[39m\u001b[38;5;124m\"\u001b[39m,\n\u001b[1;32m     24\u001b[0m     \u001b[38;5;124mf\u001b[39m\u001b[38;5;124m\"\u001b[39m\u001b[38;5;132;01m{\u001b[39;00mimgs[k][i]\u001b[38;5;132;01m}\u001b[39;00m\u001b[38;5;124m_neg_\u001b[39m\u001b[38;5;132;01m{\u001b[39;00m\u001b[38;5;28mstr\u001b[39m(_thl)\u001b[38;5;132;01m}\u001b[39;00m\u001b[38;5;124m\"\u001b[39m\n\u001b[1;32m     25\u001b[0m )\n\u001b[1;32m     27\u001b[0m td[thl][\u001b[38;5;124m'\u001b[39m\u001b[38;5;124mpos\u001b[39m\u001b[38;5;124m'\u001b[39m] \u001b[38;5;241m=\u001b[39m grs_to_rst(\n\u001b[1;32m     28\u001b[0m     td[thl][\u001b[38;5;124m'\u001b[39m\u001b[38;5;124mpos\u001b[39m\u001b[38;5;124m'\u001b[39m],\n\u001b[1;32m     29\u001b[0m     os\u001b[38;5;241m.\u001b[39mpath\u001b[38;5;241m.\u001b[39mjoin(_out, \u001b[38;5;124mf\u001b[39m\u001b[38;5;124m\"\u001b[39m\u001b[38;5;132;01m{\u001b[39;00mtd[thl][\u001b[38;5;124m'\u001b[39m\u001b[38;5;124mpos\u001b[39m\u001b[38;5;124m'\u001b[39m]\u001b[38;5;132;01m}\u001b[39;00m\u001b[38;5;124m.tif\u001b[39m\u001b[38;5;124m\"\u001b[39m),\n\u001b[1;32m     30\u001b[0m     is_int\u001b[38;5;241m=\u001b[39m\u001b[38;5;28;01mTrue\u001b[39;00m\n\u001b[1;32m     31\u001b[0m )\n",
      "File \u001b[0;32m~/glass/glass/rst/alg.py:57\u001b[0m, in \u001b[0;36mgrsrstcalc\u001b[0;34m(expression, result, ascmd)\u001b[0m\n\u001b[1;32m     49\u001b[0m     \u001b[38;5;28;01mfrom\u001b[39;00m \u001b[38;5;21;01mgrass\u001b[39;00m\u001b[38;5;21;01m.\u001b[39;00m\u001b[38;5;21;01mpygrass\u001b[39;00m\u001b[38;5;21;01m.\u001b[39;00m\u001b[38;5;21;01mmodules\u001b[39;00m \u001b[38;5;28;01mimport\u001b[39;00m Module\n\u001b[1;32m     51\u001b[0m     rc \u001b[38;5;241m=\u001b[39m Module(\n\u001b[1;32m     52\u001b[0m         \u001b[38;5;124m'\u001b[39m\u001b[38;5;124mr.mapcalc\u001b[39m\u001b[38;5;124m'\u001b[39m,\n\u001b[1;32m     53\u001b[0m         \u001b[38;5;124mf\u001b[39m\u001b[38;5;124m'\u001b[39m\u001b[38;5;132;01m{\u001b[39;00mresult\u001b[38;5;132;01m}\u001b[39;00m\u001b[38;5;124m = \u001b[39m\u001b[38;5;132;01m{\u001b[39;00mexpression\u001b[38;5;132;01m}\u001b[39;00m\u001b[38;5;124m'\u001b[39m,\n\u001b[1;32m     54\u001b[0m         overwrite\u001b[38;5;241m=\u001b[39m\u001b[38;5;28;01mTrue\u001b[39;00m, run_\u001b[38;5;241m=\u001b[39m\u001b[38;5;28;01mFalse\u001b[39;00m, quiet\u001b[38;5;241m=\u001b[39m\u001b[38;5;28;01mTrue\u001b[39;00m\n\u001b[1;32m     55\u001b[0m     )\n\u001b[0;32m---> 57\u001b[0m     \u001b[43mrc\u001b[49m\u001b[43m(\u001b[49m\u001b[43m)\u001b[49m\n\u001b[1;32m     59\u001b[0m \u001b[38;5;28;01melse\u001b[39;00m:\n\u001b[1;32m     60\u001b[0m     \u001b[38;5;28;01mfrom\u001b[39;00m \u001b[38;5;21;01mglass\u001b[39;00m\u001b[38;5;21;01m.\u001b[39;00m\u001b[38;5;21;01mpys\u001b[39;00m \u001b[38;5;28;01mimport\u001b[39;00m execmd\n",
      "File \u001b[0;32m/usr/local/grass78/etc/python/grass/pygrass/modules/interface/module.py:612\u001b[0m, in \u001b[0;36mModule.__call__\u001b[0;34m(self, *args, **kargs)\u001b[0m\n\u001b[1;32m    606\u001b[0m \u001b[38;5;250m\u001b[39m\u001b[38;5;124;03m\"\"\"Set module parameters to the class and, if run_ is True execute the\u001b[39;00m\n\u001b[1;32m    607\u001b[0m \u001b[38;5;124;03mmodule, therefore valid parameters are all the module parameters\u001b[39;00m\n\u001b[1;32m    608\u001b[0m \u001b[38;5;124;03mplus some extra parameters that are: run_, stdin_, stdout_, stderr_,\u001b[39;00m\n\u001b[1;32m    609\u001b[0m \u001b[38;5;124;03menv_ and finish_.\u001b[39;00m\n\u001b[1;32m    610\u001b[0m \u001b[38;5;124;03m\"\"\"\u001b[39;00m\n\u001b[1;32m    611\u001b[0m \u001b[38;5;28;01mif\u001b[39;00m \u001b[38;5;129;01mnot\u001b[39;00m args \u001b[38;5;129;01mand\u001b[39;00m \u001b[38;5;129;01mnot\u001b[39;00m kargs:\n\u001b[0;32m--> 612\u001b[0m     \u001b[38;5;28;43mself\u001b[39;49m\u001b[38;5;241;43m.\u001b[39;49m\u001b[43mrun\u001b[49m\u001b[43m(\u001b[49m\u001b[43m)\u001b[49m\n\u001b[1;32m    613\u001b[0m     \u001b[38;5;28;01mreturn\u001b[39;00m \u001b[38;5;28mself\u001b[39m\n\u001b[1;32m    615\u001b[0m \u001b[38;5;66;03m#\u001b[39;00m\n\u001b[1;32m    616\u001b[0m \u001b[38;5;66;03m# check for extra kargs, set attribute and remove from dictionary\u001b[39;00m\n\u001b[1;32m    617\u001b[0m \u001b[38;5;66;03m#\u001b[39;00m\n",
      "File \u001b[0;32m/usr/local/grass78/etc/python/grass/pygrass/modules/interface/module.py:783\u001b[0m, in \u001b[0;36mModule.run\u001b[0;34m(self)\u001b[0m\n\u001b[1;32m    774\u001b[0m \u001b[38;5;28mself\u001b[39m\u001b[38;5;241m.\u001b[39m_popen \u001b[38;5;241m=\u001b[39m Popen(\n\u001b[1;32m    775\u001b[0m     cmd,\n\u001b[1;32m    776\u001b[0m     stdin\u001b[38;5;241m=\u001b[39m\u001b[38;5;28mself\u001b[39m\u001b[38;5;241m.\u001b[39mstdin_,\n\u001b[0;32m   (...)\u001b[0m\n\u001b[1;32m    779\u001b[0m     env\u001b[38;5;241m=\u001b[39m\u001b[38;5;28mself\u001b[39m\u001b[38;5;241m.\u001b[39menv_,\n\u001b[1;32m    780\u001b[0m )\n\u001b[1;32m    782\u001b[0m \u001b[38;5;28;01mif\u001b[39;00m \u001b[38;5;28mself\u001b[39m\u001b[38;5;241m.\u001b[39mfinish_ \u001b[38;5;129;01mis\u001b[39;00m \u001b[38;5;28;01mTrue\u001b[39;00m:\n\u001b[0;32m--> 783\u001b[0m     \u001b[38;5;28;43mself\u001b[39;49m\u001b[38;5;241;43m.\u001b[39;49m\u001b[43mwait\u001b[49m\u001b[43m(\u001b[49m\u001b[43m)\u001b[49m\n\u001b[1;32m    785\u001b[0m \u001b[38;5;28;01mreturn\u001b[39;00m \u001b[38;5;28mself\u001b[39m\n",
      "File \u001b[0;32m/usr/local/grass78/etc/python/grass/pygrass/modules/interface/module.py:804\u001b[0m, in \u001b[0;36mModule.wait\u001b[0;34m(self)\u001b[0m\n\u001b[1;32m    801\u001b[0m     \u001b[38;5;28mself\u001b[39m\u001b[38;5;241m.\u001b[39m_finished \u001b[38;5;241m=\u001b[39m \u001b[38;5;28;01mTrue\u001b[39;00m\n\u001b[1;32m    803\u001b[0m     \u001b[38;5;28;01mif\u001b[39;00m \u001b[38;5;28mself\u001b[39m\u001b[38;5;241m.\u001b[39m_popen\u001b[38;5;241m.\u001b[39mpoll():\n\u001b[0;32m--> 804\u001b[0m         \u001b[38;5;28;01mraise\u001b[39;00m CalledModuleError(\n\u001b[1;32m    805\u001b[0m             returncode\u001b[38;5;241m=\u001b[39m\u001b[38;5;28mself\u001b[39m\u001b[38;5;241m.\u001b[39m_popen\u001b[38;5;241m.\u001b[39mreturncode,\n\u001b[1;32m    806\u001b[0m             code\u001b[38;5;241m=\u001b[39m\u001b[38;5;28mself\u001b[39m\u001b[38;5;241m.\u001b[39mget_bash(),\n\u001b[1;32m    807\u001b[0m             module\u001b[38;5;241m=\u001b[39m\u001b[38;5;28mself\u001b[39m\u001b[38;5;241m.\u001b[39mname,\n\u001b[1;32m    808\u001b[0m             errors\u001b[38;5;241m=\u001b[39mstderr,\n\u001b[1;32m    809\u001b[0m         )\n\u001b[1;32m    810\u001b[0m \u001b[38;5;28mself\u001b[39m\u001b[38;5;241m.\u001b[39m_popen \u001b[38;5;241m=\u001b[39m \u001b[38;5;28;01mNone\u001b[39;00m\n\u001b[1;32m    812\u001b[0m \u001b[38;5;28;01mreturn\u001b[39;00m \u001b[38;5;28mself\u001b[39m\n",
      "\u001b[0;31mCalledModuleError\u001b[0m: Module run r.mapcalc r.mapcalc expression=evi_i_20180130_pos_n09 = evi_i_20180130 >= -0.9, 1, 0 region=current --o --q ended with error\nProcess ended with non-zero return code 1. See errors in the (error) output."
     ]
    }
   ],
   "source": [
    "# Add Indexes rasters To GRASS\n",
    "# And Create thresholds rasters\n",
    "\n",
    "trst = {}\n",
    "for k in imgs:\n",
    "    trst[k] = []\n",
    "    for i in range(len(imgs[k])):\n",
    "        _out = mkdir(os.path.join(out_cls, k), overwrite=True)\n",
    "        imgs[k][i] = rst_to_grs(imgs[k][i])\n",
    "\n",
    "        td = {}\n",
    "\n",
    "        for thl in thresholds:\n",
    "            td[thl] = {}\n",
    "\n",
    "            _thl = str(thl).replace('-', 'n').replace('.', '')\n",
    "            \n",
    "            td[thl]['pos'] = grsrstcalc(\n",
    "                f\"{imgs[k][i]} >= {str(thl)}, 1, 0\",\n",
    "                f\"{imgs[k][i]}_pos_{str(_thl)}\"\n",
    "            )\n",
    "            td[thl]['neg'] = grsrstcalc(\n",
    "                f\"{imgs[k][i]} < {str(thl)}, 1, 0\",\n",
    "                f\"{imgs[k][i]}_neg_{str(_thl)}\"\n",
    "            )\n",
    "\n",
    "            td[thl]['pos'] = grs_to_rst(\n",
    "                td[thl]['pos'],\n",
    "                os.path.join(_out, f\"{td[thl]['pos']}.tif\"),\n",
    "                is_int=True\n",
    "            )\n",
    "\n",
    "            td[thl]['neg'] = grs_to_rst(\n",
    "                td[thl]['neg'],\n",
    "                os.path.join(_out, f\"{td[thl]['neg']}.tif\"),\n",
    "                is_int=True\n",
    "            )\n",
    "\n",
    "        trst[k].append(td)"
   ]
  },
  {
   "cell_type": "code",
   "execution_count": null,
   "id": "fb2123dd-9752-44bf-ae95-43c556477829",
   "metadata": {},
   "outputs": [],
   "source": [
    "# For each class, threshold and index\n",
    "# Create two classification results\n",
    "clsres = {}\n",
    "for cls in lulcs:\n",
    "    clsres[cls] = {}\n",
    "    # Reclassify LULC Raster\n",
    "    # Class = 1\n",
    "    # No class = 0\n",
    "    clsres[cls]['pos'] = grsrstcalc(f\"{lulc_rst} == {str(cls)}, 1, 0\", f'cls_{str(cls)}_pos')\n",
    "    clsres[cls]['neg'] = grsrstcalc(f\"{lulc_rst} == {str(cls)}, 0, 1\", f'cls_{str(cls)}_neg')\n",
    "\n",
    "    clsres[cls]['pos'] = grs_to_rst(\n",
    "        clsres[cls]['pos'],\n",
    "        os.path.join(out_ref, f\"{td[thl]['pos']}.tif\"),\n",
    "        is_int=True\n",
    "    )\n",
    "\n",
    "    clsres[cls]['neg'] = grs_to_rst(\n",
    "        clsres[cls]['neg'],\n",
    "        os.path.join(out_ref, f\"{td[thl]['neg']}.tif\"),\n",
    "        is_int=True\n",
    "    )"
   ]
  },
  {
   "cell_type": "code",
   "execution_count": null,
   "id": "b5c6e40e-bec0-4bf2-94e6-215e24ee7e47",
   "metadata": {},
   "outputs": [],
   "source": []
  }
 ],
 "metadata": {
  "kernelspec": {
   "display_name": "Python 3 (ipykernel)",
   "language": "python",
   "name": "python3"
  },
  "language_info": {
   "codemirror_mode": {
    "name": "ipython",
    "version": 3
   },
   "file_extension": ".py",
   "mimetype": "text/x-python",
   "name": "python",
   "nbconvert_exporter": "python",
   "pygments_lexer": "ipython3",
   "version": "3.10.6"
  }
 },
 "nbformat": 4,
 "nbformat_minor": 5
}
