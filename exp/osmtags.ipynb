{
 "cells": [
  {
   "cell_type": "markdown",
   "id": "08b209be-7caf-47fd-93af-2add48b03bc2",
   "metadata": {},
   "source": [
    "## ID OSM tags not being used by OSM2LULC"
   ]
  },
  {
   "cell_type": "code",
   "execution_count": null,
   "id": "575e8a97-8ff0-43b3-9a2e-4c84ed4c9674",
   "metadata": {},
   "outputs": [],
   "source": [
    "from glass.ete.osm2lulc.tags import get_nusedtags_psqldb\n",
    "\n",
    "db = 'dgt_osmpt'\n",
    "out = '/home/jasp/mystuff/dgt/osm_notused2.xlsx'\n",
    "\n",
    "get_nusedtags_psqldb(db, out, dbsetup='local')"
   ]
  },
  {
   "cell_type": "code",
   "execution_count": null,
   "id": "cf699362-1803-40c5-b4b1-02e0a1b29ee8",
   "metadata": {},
   "outputs": [],
   "source": []
  }
 ],
 "metadata": {
  "kernelspec": {
   "display_name": "Python 3 (ipykernel)",
   "language": "python",
   "name": "python3"
  },
  "language_info": {
   "codemirror_mode": {
    "name": "ipython",
    "version": 3
   },
   "file_extension": ".py",
   "mimetype": "text/x-python",
   "name": "python",
   "nbconvert_exporter": "python",
   "pygments_lexer": "ipython3",
   "version": "3.10.12"
  }
 },
 "nbformat": 4,
 "nbformat_minor": 5
}
