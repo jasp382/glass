{
 "cells": [
  {
   "cell_type": "code",
   "execution_count": null,
   "id": "6f64398a-26c1-4ad4-9d4d-0c80963bbee4",
   "metadata": {},
   "outputs": [],
   "source": [
    "# import all packages to use in this project\n",
    "\n",
    "import os\n",
    "import pandas as pd\n",
    "import numpy as np\n",
    "import geopandas as gpd\n",
    "import json\n",
    "import glob\n",
    "import natsort\n",
    "import shutil\n",
    "from glom import glom"
   ]
  },
  {
   "cell_type": "code",
   "execution_count": null,
   "id": "014deddc-9ff9-49c4-bdfd-ada2b5170450",
   "metadata": {},
   "outputs": [],
   "source": [
    "from glass.sql.db import create_pgdb\n",
    "from glass.sql.tbl import create_tbl\n",
    "from glass.dtt.mge.pd import merge_df\n",
    "from glass.rd.shp import shp_to_obj\n",
    "from glass.prop.sql import lst_tbl\n",
    "from glass.wt.sql import df_to_db"
   ]
  },
  {
   "cell_type": "code",
   "execution_count": null,
   "id": "94c2a42a-06b0-42af-95dd-ff3f05946193",
   "metadata": {},
   "outputs": [],
   "source": [
    "###### Variaveis a serem alteradas ######\n",
    "\n",
    "stations = '/home/yuri/fireloc-system/firerisk/data/stations.geojson'\n",
    "observations = '/home/yuri/fireloc-system/firerisk/data/'\n",
    "portugal = '/home/yuri/fireloc-system/firerisk/data/caop_pt.shp'\n",
    "db = 'ipma2'\n",
    "\n",
    "#########################################"
   ]
  },
  {
   "cell_type": "code",
   "execution_count": null,
   "id": "4bd3dfa9-bbfb-45c0-9f0d-39019ee8d954",
   "metadata": {
    "tags": []
   },
   "outputs": [],
   "source": [
    "datab = create_pgdb(db)"
   ]
  },
  {
   "cell_type": "code",
   "execution_count": null,
   "id": "55b37a4c-8ebd-46d8-93a0-5f4f9298bab2",
   "metadata": {
    "tags": []
   },
   "outputs": [],
   "source": [
    "tbl_varia = {\n",
    "    'variavel' : {'id' : 'int', 'nome' : 'varchar(30)'}\n",
    "}"
   ]
  },
  {
   "cell_type": "code",
   "execution_count": null,
   "id": "58500d43-3b16-4af7-9ed6-baa9699b610f",
   "metadata": {
    "tags": []
   },
   "outputs": [],
   "source": [
    "tbl_sta = {'estacao': {\n",
    "    'id' : 'int', 'idEstacao' : 'int', 'localEstacao' : 'varchar(80)',\n",
    "    'geom' : 'geometry'\n",
    "}}"
   ]
  },
  {
   "cell_type": "code",
   "execution_count": null,
   "id": "e32899da-618f-4874-babf-eab384129a44",
   "metadata": {
    "tags": []
   },
   "outputs": [],
   "source": [
    "tbl_values = {\n",
    "    'valor' : {'id' : 'int', 'id_est' : 'int', 'id_var' : 'int', 'daytime' : 'varchar(20)', 'valor' : 'float'}\n",
    "}"
   ]
  },
  {
   "cell_type": "code",
   "execution_count": null,
   "id": "0f7852da-b1b7-45e6-b958-cd5bd5065e0c",
   "metadata": {
    "tags": []
   },
   "outputs": [],
   "source": [
    "tbl_v = create_tbl(db, tbl_varia)"
   ]
  },
  {
   "cell_type": "code",
   "execution_count": null,
   "id": "68911e3b-109d-4579-bea9-92781ed1d6db",
   "metadata": {
    "tags": []
   },
   "outputs": [],
   "source": [
    "tbl_e = create_tbl(db, tbl_sta)"
   ]
  },
  {
   "cell_type": "code",
   "execution_count": null,
   "id": "d1060e58-dad2-4ff6-96d7-f13f73508b88",
   "metadata": {},
   "outputs": [],
   "source": [
    "tbl_vl = create_tbl(db, tbl_values)"
   ]
  },
  {
   "cell_type": "code",
   "execution_count": null,
   "id": "67d2d7ec-b943-479b-8773-9b2476245d55",
   "metadata": {},
   "outputs": [],
   "source": [
    "pt = shp_to_obj(portugal)"
   ]
  },
  {
   "cell_type": "code",
   "execution_count": null,
   "id": "3fcaebb3-2cc7-493d-8c3c-c66ca1612e73",
   "metadata": {},
   "outputs": [],
   "source": [
    "pt_dis = pt.unary_union"
   ]
  },
  {
   "cell_type": "code",
   "execution_count": null,
   "id": "6dd02165-f2e1-4156-91a5-60ff7ebf0580",
   "metadata": {},
   "outputs": [],
   "source": [
    "pt_diss = gpd.GeoDataFrame(geometry=[pt_dis], crs = 'EPSG:3763')"
   ]
  },
  {
   "cell_type": "code",
   "execution_count": null,
   "id": "a979cfc6-de13-41d6-8925-6fc3deac9158",
   "metadata": {},
   "outputs": [],
   "source": [
    "sdata = json.load(open(stations, 'r'))"
   ]
  },
  {
   "cell_type": "code",
   "execution_count": null,
   "id": "6a2ac2db-5c99-4999-a9d8-69b2184a5ed5",
   "metadata": {},
   "outputs": [],
   "source": [
    "gjson = {\"type\": \"FeatureCollection\", \"features\" : sdata}"
   ]
  },
  {
   "cell_type": "code",
   "execution_count": null,
   "id": "919de848-4f9a-4803-9034-aa329d3f0585",
   "metadata": {},
   "outputs": [],
   "source": [
    "sdf= gpd.GeoDataFrame.from_features(gjson, crs=\"EPSG:4326\").to_crs(3763)\n",
    "#sdf_crs = sdf.to_crs(3763)"
   ]
  },
  {
   "cell_type": "code",
   "execution_count": null,
   "id": "e9c4c24d-ba4d-4870-a918-6e2ef8d27fdb",
   "metadata": {},
   "outputs": [],
   "source": [
    "sdf_pt = sdf.clip(pt_diss)"
   ]
  },
  {
   "cell_type": "code",
   "execution_count": null,
   "id": "62c6e8c0-488e-4133-bd7d-3056a43f0faf",
   "metadata": {
    "tags": []
   },
   "outputs": [],
   "source": [
    "sdf_pt.index = np.arange(1, len(sdf_pt) + 1)"
   ]
  },
  {
   "cell_type": "code",
   "execution_count": null,
   "id": "62ebe538-aba2-4c3a-a3bd-389947126cb9",
   "metadata": {},
   "outputs": [],
   "source": [
    "sdf_pt['id'] = sdf_pt.index"
   ]
  },
  {
   "cell_type": "code",
   "execution_count": null,
   "id": "6170d0e7-3905-4715-9245-b0caaae03f77",
   "metadata": {
    "tags": []
   },
   "outputs": [],
   "source": [
    "variaveis = [\n",
    "    'intensidadeVentoKM', 'temperatura', 'radiacao', 'idDireccVento',\n",
    "    'precAcumulada', 'intensidadeVento', 'humidade', 'pressao'\n",
    "]"
   ]
  },
  {
   "cell_type": "code",
   "execution_count": null,
   "id": "b74ee2ff-9aec-4768-b11d-3691c603fe42",
   "metadata": {},
   "outputs": [],
   "source": [
    "varlst = [[i + 1, variaveis[i]] for i in range(len(variaveis))]\n",
    "\n",
    "variaveis = pd.DataFrame(varlst, columns=['id', 'nome'])"
   ]
  },
  {
   "cell_type": "code",
   "execution_count": null,
   "id": "d8a94303-fbae-4f16-b49f-c6d7e50078b3",
   "metadata": {
    "tags": []
   },
   "outputs": [],
   "source": [
    "obser = glob.glob(observations + '**.json')"
   ]
  },
  {
   "cell_type": "code",
   "execution_count": null,
   "id": "bb1dd71f-af99-4750-91c0-26ff33275623",
   "metadata": {
    "tags": []
   },
   "outputs": [],
   "source": [
    "for o in obser:\n",
    "    odata = json.load(open(o, 'r'))\n",
    "    \n",
    "    obs = []\n",
    "    \n",
    "    for d in odata:\n",
    "        for station in odata[d]:\n",
    "            if not odata[d][station]: continue\n",
    "\n",
    "            odata[d][station]['daytime']= d\n",
    "            odata[d][station]['idEstacao']= station\n",
    "\n",
    "            obs.append(odata[d][station])\n",
    "\n",
    "    df=pd.DataFrame(obs)\n",
    "    \n",
    "    cols = variaveis.nome.tolist()\n",
    "\n",
    "    dfs = []\n",
    "\n",
    "    df_cols = df.columns.values\n",
    "    icols = ['idEstacao', 'daytime']\n",
    "    for col in cols:\n",
    "        _df = df.copy(deep=True)\n",
    "\n",
    "        _df.drop([c for c in df_cols if c != col and c not in icols], axis=1, inplace=True)\n",
    "\n",
    "        _df.rename(columns={col: 'valor'}, inplace=True)\n",
    "\n",
    "        _df['varid'] =col\n",
    "\n",
    "        dfs.append(_df)\n",
    "        \n",
    "    _all = merge_df(dfs)\n",
    "        \n",
    "    _all['id_var'] = 0\n",
    "    \n",
    "    for i, r in variaveis.iterrows():\n",
    "        _all['id_var'] = np.where(\n",
    "            _all.varid == r['nome'],\n",
    "            r['id'], _all['id_var']\n",
    "        )\n",
    "    \n",
    "    _all['idEstacao'] = pd.to_numeric(_all['idEstacao'])\n",
    "    \n",
    "    sdf_pt['idEstacao'] = pd.to_numeric(sdf_pt['idEstacao'])\n",
    "    \n",
    "    _all['id_est'] = 0\n",
    "\n",
    "    for i, r in sdf_pt.iterrows():\n",
    "\n",
    "        _all['id_est'] = np.where(\n",
    "            _all.idEstacao == r['idEstacao'],\n",
    "            r['id'], _all['id_est']\n",
    "        )\n",
    "    \n",
    "    fdf = _all.loc[(_all[\"id_est\"] > 0)]\n",
    "    \n",
    "    fdf.drop('varid', axis=1, inplace=True)\n",
    "    fdf.drop('idEstacao', axis=1, inplace=True)\n",
    "    \n",
    "    fdf.index = np.arange(1, len(fdf) + 1)\n",
    "    fdf['id'] = fdf.index\n",
    "    \n",
    "    variaveis = variaveis[['id', 'nome']]\n",
    "    sdf_pt = sdf_pt[['id', 'idEstacao', 'localEstacao', 'geometry']]\n",
    "    fdf = fdf[['id', 'id_var', 'id_est', 'daytime', 'valor']]\n",
    "    \n",
    "    df_db_v  = df_to_db(db, variaveis, \"variavel\")\n",
    "    df_db_st = df_to_db(\n",
    "        db, sdf_pt, \"estacao\",\n",
    "        epsg=3763, geom_type=\"POINT\",\n",
    "        col_geom=\"geometry\"\n",
    "    )\n",
    "    df_db_vl = df_to_db(db, fdf, \"valor\")\n",
    "    print(fdf)"
   ]
  },
  {
   "cell_type": "code",
   "execution_count": null,
   "id": "37c5713a-ea6d-42ff-abba-07b275f08754",
   "metadata": {},
   "outputs": [],
   "source": [
    "fdf"
   ]
  },
  {
   "cell_type": "code",
   "execution_count": null,
   "id": "17f28849-67ff-4b34-88fa-b2cdc9d94468",
   "metadata": {},
   "outputs": [],
   "source": []
  }
 ],
 "metadata": {
  "kernelspec": {
   "display_name": "Python 3 (ipykernel)",
   "language": "python",
   "name": "python3"
  },
  "language_info": {
   "codemirror_mode": {
    "name": "ipython",
    "version": 3
   },
   "file_extension": ".py",
   "mimetype": "text/x-python",
   "name": "python",
   "nbconvert_exporter": "python",
   "pygments_lexer": "ipython3",
   "version": "3.10.12"
  }
 },
 "nbformat": 4,
 "nbformat_minor": 5
}
