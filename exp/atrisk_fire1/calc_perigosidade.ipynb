{
 "cells": [
  {
   "cell_type": "markdown",
   "id": "b91b8005-7c84-4627-87c4-0d57614a636d",
   "metadata": {},
   "source": [
    "### Cálculo perigosidade Incêndio Florestal\n",
    "\n",
    "**Variáveis:**\n",
    "\n",
    "- Elevation\n",
    "- Slope\n",
    "- Aspect\n",
    "- LULC"
   ]
  },
  {
   "cell_type": "code",
   "execution_count": null,
   "id": "c528d437-1900-4cdf-b345-c5029abc51aa",
   "metadata": {},
   "outputs": [],
   "source": [
    "burn_areas = '/mnt/x/atrisk_fire1/aa24/aa_1975_2021_v2.shp'\n",
    "\n",
    "burn_year = '/mnt/x/atrisk_fire1/aa2024_prob'\n",
    "\n",
    "nyears = 2021 - 1979\n",
    "\n",
    "dem = '/mnt/x/atrisk_fire1/topografia/dem_pnse.tif'\n",
    "\n",
    "lulc_maps = {\n",
    "    '/mnt/x/atrisk_fire1/lulc/r_cos1995.tif' : 12,\n",
    "    '/mnt/x/atrisk_fire1/lulc/r_cos2007.tif' : 3,\n",
    "    '/mnt/x/atrisk_fire1/lulc/r_cos2010.tif' : 5,\n",
    "    '/mnt/x/atrisk_fire1/lulc/r_cos2015.tif' : 3,\n",
    "    '/mnt/x/atrisk_fire1/lulc/r_cos2018.tif' : 4,\n",
    "}\n",
    "\n",
    "outrst = '/home/jasp/firerisk1/fire_pnse_perigo.tif'"
   ]
  },
  {
   "cell_type": "markdown",
   "id": "7e4ee3ac-8322-4e9f-89d0-b1d736fd9f0d",
   "metadata": {},
   "source": [
    "### Python packages"
   ]
  },
  {
   "cell_type": "code",
   "execution_count": null,
   "id": "e7afec5a-b663-43ef-8419-c3cb7db88d19",
   "metadata": {},
   "outputs": [],
   "source": [
    "import os\n",
    "\n",
    "from glass.cons.firerisk import ELEVATION_RULES, SLOPE_RULES, ASPECT_RULES\n",
    "from glass.pys.oss import mkdir\n",
    "from glass.rst.surf import slope_aspect\n",
    "from glass.rst.rcls import rcls_rasters\n",
    "from glass.ete.lri import grass_lri\n",
    "from glass.rst.stats import count_region_in_shape\n",
    "from glass.rst.alg import rstcalc"
   ]
  },
  {
   "cell_type": "markdown",
   "id": "b1079f09-5608-4aaa-bb0c-7a16e0352c6e",
   "metadata": {},
   "source": [
    "### Workspace"
   ]
  },
  {
   "cell_type": "code",
   "execution_count": null,
   "id": "e09c598f-1bb9-4038-aecb-7eaabf36e68c",
   "metadata": {},
   "outputs": [],
   "source": [
    "ws = os.path.dirname(outrst)\n",
    "\n",
    "surf_folder = mkdir(os.path.join(ws, 'surface'), overwrite=True)\n",
    "vars_folder = mkdir(os.path.join(ws, 'vars'), overwrite=True)\n",
    "\n",
    "vars = {'elevation' : dem}\n",
    "vrules = {\n",
    "    'elevation' : ELEVATION_RULES,\n",
    "    'slope'     : SLOPE_RULES,\n",
    "    'aspect'    : ASPECT_RULES\n",
    "}"
   ]
  },
  {
   "cell_type": "markdown",
   "id": "16aab27f-f801-4083-8d5d-ed28fe00a427",
   "metadata": {},
   "source": [
    "### Generate Slope and Aspect"
   ]
  },
  {
   "cell_type": "code",
   "execution_count": null,
   "id": "bd1dfebb-0f83-4d1f-a96f-aa024f639c9d",
   "metadata": {},
   "outputs": [],
   "source": [
    "vars['slope'], vars['aspect'] = slope_aspect(\n",
    "    dem, slope_rst=os.path.join(surf_folder, 'rst_slope.tif'),\n",
    "    aspect_rst=os.path.join(surf_folder, 'rst_aspect.tif'),\n",
    "    api=\"grass\", slope_units=\"degrees\",\n",
    "    aspe_fromnorth=True, ws=ws\n",
    ")"
   ]
  },
  {
   "cell_type": "markdown",
   "id": "aa22e742-5de7-4f86-931d-92dce7e5fc4d",
   "metadata": {},
   "source": [
    "### Reclassify DEM, Slope and Aspect"
   ]
  },
  {
   "cell_type": "code",
   "execution_count": null,
   "id": "8bf2bd7a-2f0b-4358-a916-692aea994ceb",
   "metadata": {},
   "outputs": [],
   "source": [
    "d_vars = [{\n",
    "    'KEY'    : k,\n",
    "    \"RASTER\" : vars[k],\n",
    "    \"RULES\"  : vrules[k],\n",
    "    \"OUT\"    : os.path.join(vars_folder, f'rcls_{os.path.basename(vars[k])}')\n",
    "} for k in vars]\n",
    "\n",
    "rcls_rasters(d_vars)\n",
    "\n",
    "for k in vars:\n",
    "    for v in d_vars:\n",
    "        if k != v['KEY']:\n",
    "            continue\n",
    "        \n",
    "        vars[k] = v['OUT']\n",
    "        break"
   ]
  },
  {
   "cell_type": "markdown",
   "id": "29451db6-8f9f-4c11-9315-2ddab1375416",
   "metadata": {},
   "source": [
    "### Run Likelihood ratio"
   ]
  },
  {
   "cell_type": "code",
   "execution_count": null,
   "id": "08b13605-e9ae-4aef-a1cf-cbc1b9f874e7",
   "metadata": {},
   "outputs": [],
   "source": [
    "vars['lulc'] = lulc_maps\n",
    "\n",
    "firesusc = grass_lri(burn_areas, vars, dem, os.path.join(ws, 'fire_susceptibility.tif'))"
   ]
  },
  {
   "cell_type": "markdown",
   "id": "dd67763d-bda7-438a-b974-fca19b33432b",
   "metadata": {},
   "source": [
    "## Generate Wildfire Probability"
   ]
  },
  {
   "cell_type": "code",
   "execution_count": null,
   "id": "14174943-83d3-4749-96c8-5bcb661a6291",
   "metadata": {},
   "outputs": [],
   "source": [
    "fireprob = count_region_in_shape(\n",
    "    burn_year, dem,\n",
    "    os.path.join(ws, 'fire_probability.tif'),\n",
    "    returnprob=True, nprob=nyears\n",
    ")"
   ]
  },
  {
   "cell_type": "markdown",
   "id": "997d22ba-9e4c-4534-948f-47be015dc3be",
   "metadata": {},
   "source": [
    "## Produce final perigosity raster"
   ]
  },
  {
   "cell_type": "code",
   "execution_count": null,
   "id": "b4be07b6-eb0f-4a71-ba8d-da2a4236de9f",
   "metadata": {},
   "outputs": [],
   "source": [
    "rstcalc(\n",
    "    \"if(fire_probability == 0, fire_probability * fire_susceptibility, 0.001 * fire_susceptibility)\",\n",
    "    outrst, api=\"grass\", grids=[firesusc, fireprob]\n",
    ")"
   ]
  },
  {
   "cell_type": "code",
   "execution_count": null,
   "id": "d3bed2fd-0a01-4534-a6a1-bf225156eb84",
   "metadata": {},
   "outputs": [],
   "source": []
  }
 ],
 "metadata": {
  "kernelspec": {
   "display_name": "Python 3 (ipykernel)",
   "language": "python",
   "name": "python3"
  },
  "language_info": {
   "codemirror_mode": {
    "name": "ipython",
    "version": 3
   },
   "file_extension": ".py",
   "mimetype": "text/x-python",
   "name": "python",
   "nbconvert_exporter": "python",
   "pygments_lexer": "ipython3",
   "version": "3.10.12"
  }
 },
 "nbformat": 4,
 "nbformat_minor": 5
}
