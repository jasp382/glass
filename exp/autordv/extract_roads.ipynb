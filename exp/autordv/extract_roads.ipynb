{
 "cells": [
  {
   "cell_type": "code",
   "execution_count": null,
   "id": "a01a85b8-ab1f-4121-8b27-cc2b5e1834cd",
   "metadata": {},
   "outputs": [],
   "source": [
    "osmfile = '/home/gisuser/autoclsrdv/osm/osm_lisbon.pbf'\n",
    "\n",
    "reflmt = '/mnt/g/autoclsrdv/autoclsrdv.gdb/reflmt/stdlmt_lisboa'\n",
    "\n",
    "outroads = '/home/gisuser/autoclsrdv/roads_lisbon.shp'"
   ]
  },
  {
   "cell_type": "code",
   "execution_count": null,
   "id": "acc530e2-afe2-4f35-b03f-9a7cab385170",
   "metadata": {},
   "outputs": [],
   "source": [
    "import os\n",
    "from glass.cons.otol    import OTOL_LULC, nomenclature_id, module_osmtags\n",
    "from glass.ete.otol.vec import module_2\n",
    "from glass.pys.oss      import mkdir, fprop\n",
    "from glass.prop.prj import get_epsg\n",
    "from glass.sql.db       import create_pgdb\n",
    "from glass.it.db        import osm_to_psql\n",
    "from glass.it.shp import shp_to_shp"
   ]
  },
  {
   "cell_type": "code",
   "execution_count": null,
   "id": "7fbba1ba-b2eb-4f83-abca-1ffd5c0b1b88",
   "metadata": {},
   "outputs": [],
   "source": [
    "epsg = get_epsg(reflmt)"
   ]
  },
  {
   "cell_type": "code",
   "execution_count": null,
   "id": "60f5130d-98d6-4df5-b6f2-0fa67da91864",
   "metadata": {},
   "outputs": [],
   "source": [
    "epsg"
   ]
  },
  {
   "cell_type": "code",
   "execution_count": null,
   "id": "e28dddc4-3a57-4abe-a742-0a118cd0645e",
   "metadata": {},
   "outputs": [],
   "source": [
    "# Get nomenclature ID\n",
    "nom_id = nomenclature_id('clc')"
   ]
  },
  {
   "cell_type": "code",
   "execution_count": null,
   "id": "32a6bfa5-73cb-4ea9-a70b-ddc3626eb538",
   "metadata": {},
   "outputs": [],
   "source": [
    "# Workspace\n",
    "tmpfld = mkdir(os.path.dirname(outroads), timerand=True, overwrite=True)\n",
    "tmpgpkg = os.path.join(tmpfld, 'modules_res.gpkg')"
   ]
  },
  {
   "cell_type": "code",
   "execution_count": null,
   "id": "60169ba5-19f6-4c92-b079-83f6b7e57fb9",
   "metadata": {},
   "outputs": [],
   "source": [
    "mod_tags = module_osmtags(nom_id)"
   ]
  },
  {
   "cell_type": "code",
   "execution_count": null,
   "id": "7d37d074-3a2b-4467-bb3a-ad04337d1c2d",
   "metadata": {},
   "outputs": [],
   "source": [
    "# ******************************************************************** #\n",
    "# Convert OSM file to PSQL DB #\n",
    "# ******************************************************************** #\n",
    "osm_db = create_pgdb(fprop(osmfile, 'fn', forceLower=True), overwrite=True)\n",
    "osm_db = osm_to_psql(osmfile, osm_db)"
   ]
  },
  {
   "cell_type": "code",
   "execution_count": null,
   "id": "b278e46c-0b8a-4745-acc6-8a530a492569",
   "metadata": {},
   "outputs": [],
   "source": [
    "# Get Module 2 Result\n",
    "mod2, _ = module_2(mod_tags, osm_db, epsg, tmpgpkg, 'roads_res')"
   ]
  },
  {
   "cell_type": "code",
   "execution_count": null,
   "id": "9ec45cb4-f54b-46ce-8389-28d7f94b584d",
   "metadata": {},
   "outputs": [],
   "source": [
    "# Export to ESRI Shapefile\n",
    "shp_to_shp(tmpgpkg, outroads, lyrname='roads_res')"
   ]
  }
 ],
 "metadata": {
  "kernelspec": {
   "display_name": "Python 3 (ipykernel)",
   "language": "python",
   "name": "python3"
  },
  "language_info": {
   "codemirror_mode": {
    "name": "ipython",
    "version": 3
   },
   "file_extension": ".py",
   "mimetype": "text/x-python",
   "name": "python",
   "nbconvert_exporter": "python",
   "pygments_lexer": "ipython3",
   "version": "3.10.12"
  }
 },
 "nbformat": 4,
 "nbformat_minor": 5
}
