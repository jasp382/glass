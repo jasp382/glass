{
 "cells": [
  {
   "cell_type": "code",
   "execution_count": 1,
   "id": "74a5f37e-5533-4f5d-b647-00de2e545bf2",
   "metadata": {},
   "outputs": [],
   "source": [
    "import os\n",
    "from glass.ete.otol.pg import osm_to_lulc\n",
    "from glass.prop.prj import get_epsg\n",
    "from glass.it.shp import shp_to_shp\n",
    "from glass.pys.oss import fprop"
   ]
  },
  {
   "cell_type": "code",
   "execution_count": 2,
   "id": "32a1fb6a-a7f0-4802-ac7b-07256b63e034",
   "metadata": {},
   "outputs": [],
   "source": [
    "osmfile = '/home/gisuser/autoclsrdv/osm/osm_lisbon.pbf'\n",
    "\n",
    "reflmt = '/mnt/g/autoclsrdv/autoclsrdv.gdb/reflmt/stdlmt_lisboa'\n",
    "\n",
    "noroads = '/home/gisuser/autoclsrdv/noroads_lisbon.shp'"
   ]
  },
  {
   "cell_type": "code",
   "execution_count": 3,
   "id": "791e9f78-164e-4940-aedf-71d701219835",
   "metadata": {},
   "outputs": [],
   "source": [
    "res, logs = osm_to_lulc(\n",
    "    osmfile, 'clc', get_epsg(reflmt),\n",
    "    os.path.join(os.path.dirname(noroads), fprop(noroads, 'fn') + '.gpkg'),\n",
    "    savedb=None, tmpfld=None,\n",
    "    overwrite_temp=True\n",
    ")"
   ]
  },
  {
   "cell_type": "code",
   "execution_count": 5,
   "id": "b4f8493a-f19f-4335-8898-444b91023f8a",
   "metadata": {},
   "outputs": [
    {
     "data": {
      "text/plain": [
       "'.shp'"
      ]
     },
     "execution_count": 5,
     "metadata": {},
     "output_type": "execute_result"
    }
   ],
   "source": [
    "shp_to_shp(res, noroads, lyrname='osmtolulc_v2')"
   ]
  },
  {
   "cell_type": "code",
   "execution_count": null,
   "id": "f552667a-a090-48dc-b03a-9cc901e5b523",
   "metadata": {},
   "outputs": [],
   "source": []
  }
 ],
 "metadata": {
  "kernelspec": {
   "display_name": "Python 3 (ipykernel)",
   "language": "python",
   "name": "python3"
  },
  "language_info": {
   "codemirror_mode": {
    "name": "ipython",
    "version": 3
   },
   "file_extension": ".py",
   "mimetype": "text/x-python",
   "name": "python",
   "nbconvert_exporter": "python",
   "pygments_lexer": "ipython3",
   "version": "3.10.12"
  }
 },
 "nbformat": 4,
 "nbformat_minor": 5
}
