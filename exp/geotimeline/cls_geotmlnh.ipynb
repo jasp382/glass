{
 "cells": [
  {
   "cell_type": "code",
   "execution_count": null,
   "metadata": {},
   "outputs": [],
   "source": [
    "from glass.adv.txtcls.freq import correlated_words\n",
    "from glass.pyt.df.stats import df_to_freqdf"
   ]
  },
  {
   "cell_type": "code",
   "execution_count": null,
   "metadata": {},
   "outputs": [],
   "source": [
    "DB = {'HOST' : 'localhost', 'PORT' : '5432', 'PASSWORD' : 'admin', 'USER' : 'postgres', 'DATABASE' : 'expvgi_api'}\n",
    "\n",
    "Q = (\n",
    "    \"SELECT rd.*, reftxt.full_pp, reftxt.txt_pp \"\n",
    "    \"FROM geotmlnh_refdata AS rd INNER JOIN geotmlnh_refdatatxt AS reftxt \"\n",
    "    \"ON rd.fid = reftxt.rid\"\n",
    ")\n",
    "\n",
    "REF_COL = 'is_fire'\n",
    "DATA_COL = 'txt_pp'\n",
    "OUT_FLD = r'D:\\xpto\\expvgi-inescc\\api\\geotmlnh\\mdllog'"
   ]
  },
  {
   "cell_type": "code",
   "execution_count": null,
   "metadata": {},
   "outputs": [],
   "source": [
    "dt_ref = q_to_obj(DB, Q)\n",
    "dt_ref.head()"
   ]
  },
  {
   "cell_type": "code",
   "execution_count": null,
   "metadata": {},
   "outputs": [],
   "source": [
    "ref_Count = df_to_freqdf(dt_ref, REF_COL)\n",
    "\n",
    "ref_Count['n_train'] = (ref_Count['count'] * TRAIN_DIM) / 100\n",
    "ref_Count = ref_Count.round({'n_train' : 0})\n",
    "ref_Count['n_train'] = ref_Count.n_train.astype(int)\n",
    "ref_Count['count'] = ref_Count['count'].astype(int)\n",
    "\n",
    "ref_Count.head()"
   ]
  },
  {
   "cell_type": "code",
   "execution_count": null,
   "metadata": {},
   "outputs": [],
   "source": [
    "dt_ref['RN'] = dt_ref.sort_values(\n",
    "    [REF_COL], ascending=[True]\n",
    ").groupby([REF_COL]).cumcount() + 1\n",
    "\n",
    "dt_ref.head()"
   ]
  },
  {
   "cell_type": "code",
   "execution_count": null,
   "metadata": {},
   "outputs": [],
   "source": [
    "bestMdl = {}\n",
    "for m in sintese:\n",
    "    for i in sintese[m]:\n",
    "        if not i:\n",
    "            bestMdl[m] = i\n",
    "        else:\n",
    "            if sintese[m][i][\"ACC\"] > sintese[m][bestMdl[m]][\"ACC\"]:\n",
    "                bestMdl[m] = i\n",
    "            else:\n",
    "                continue\n",
    "\n",
    "print(bestMdl)"
   ]
  },
  {
   "cell_type": "code",
   "execution_count": null,
   "metadata": {},
   "outputs": [],
   "source": [
    "print(sintese['NB'][1][\"ACC\"])\n",
    "print(sintese['SVM'][1][\"ACC\"])\n",
    "print(sintese['RF'][0][\"ACC\"])\n",
    "print(sintese['LOGREG'][1][\"ACC\"])"
   ]
  },
  {
   "cell_type": "code",
   "execution_count": null,
   "metadata": {},
   "outputs": [],
   "source": [
    "if TRAIN_DIM == 100:\n",
    "    dt_train = dt_ref\n",
    "    dt_cls   = dt_ref.copy()\n",
    "\n",
    "else:\n",
    "    ref_Count['n_train'] = (ref_Count['count'] * TRAIN_DIM) / 100\n",
    "    ref_Count = ref_Count.round({'n_train' : 0})\n",
    "    \n",
    "    dt_ref['RN'] = dt_ref.sort_values(\n",
    "        [TBL_SCHEMA['REF_COL']], ascending=[True]\n",
    "    ).groupby([TBL_SCHEMA['REF_COL']]).cumcount() + 1\n",
    "    \n",
    "    for idx, row in ref_Count.iterrows():\n",
    "        if idx == 0:\n",
    "            dt_ref['is_train'] = numpy.where(\n",
    "                (dt_ref['is_fire'] == row.is_fire) & (dt_ref.RN <= row.n_train),\n",
    "                1, 0\n",
    "            )\n",
    "        else:\n",
    "            dt_ref['is_train'] = numpy.where(\n",
    "                (dt_ref['is_fire'] == row.is_fire) & (dt_ref.RN <= row.n_train),\n",
    "                1, dt_ref.is_train\n",
    "            )\n",
    "    \n",
    "    dt_cls   = dt_ref[dt_ref.is_train==0]\n",
    "    dt_train = dt_ref[dt_ref.is_train==1]"
   ]
  },
  {
   "cell_type": "code",
   "execution_count": null,
   "metadata": {},
   "outputs": [],
   "source": [
    "mdls = {\n",
    "    'NB' : 'NaiveBayes', 'SVM' :'LinearSupportVectorMachine',\n",
    "    'RF' : 'RandomForest', 'LOGREG':'LogisticRegression'}\n",
    "\"\"\"\n",
    "corr_words = correlated_words(\n",
    "    dt_train, TBL_SCHEMA['REF_COL'], 'txtsan',\n",
    "    os.path.join(OUT_FLD, 'corr_words_{}.xlsx'.format(str(TRAIN_DIM))),\n",
    "    lang='english'\n",
    ")\"\"\"\n",
    "\n",
    "for m in mdls:\n",
    "    tbl_cls = text_prediction(\n",
    "        dt_train, dt_cls, TBL_SCHEMA['REF_COL'], 'txtsan', 'txtsan',\n",
    "        os.path.join(OUT_FLD, 'res_{}_{}.xlsx'.format(m, str(TRAIN_DIM))),\n",
    "        lang='english', method=mdls[m]\n",
    "    )\n",
    "    \n",
    "    mtx = binary_eval(\n",
    "        tbl_cls, TBL_SCHEMA['SAMPLE_FK'], TBL_SCHEMA['REF_COL'],\n",
    "        tbl_cls, TBL_SCHEMA['SAMPLE_FK'],\n",
    "        os.path.join(OUT_FLD, 'mtx_{}_{}.xlsx'.format(m, str(TRAIN_DIM))),\n",
    "        tstCol = 'classification'\n",
    "    )"
   ]
  },
  {
   "cell_type": "code",
   "execution_count": null,
   "metadata": {},
   "outputs": [],
   "source": [
    "from glass.adv.txtcls.cls import get_rows_related_with_event\n",
    "from glass.it import db_to_tbl\n",
    "\n",
    "QT = (\n",
    "    \"(SELECT {t}.fid, {t}.{t_id}, {txtcol} AS txtcls, \"\n",
    "    \"{dt}.{timecol} AS datahora, {t}.{refcol} \"   \n",
    "    \"FROM {t} INNER JOIN {dt} ON \"\n",
    "    \"{t}.{t_id} = {dt}.{dt_id}) AS foo\"\n",
    ").format(\n",
    "    txtcol=TBL_SCHEMA['TXT_COL'], t=TBL_SCHEMA['SAMPLE_T'],\n",
    "    dt=TBL_SCHEMA['DATA_T'], t_id=TBL_SCHEMA['SAMPLE_FK'],\n",
    "    dt_id=TBL_SCHEMA['DATA_ID'], timecol=TBL_SCHEMA['TIME_COL'],\n",
    "    refcol=TBL_SCHEMA['REF_COL']\n",
    ")\n",
    "\n",
    "tbl_ref = db_to_tbl(\n",
    "    conDB, \"SELECT * FROM {}\".format(QT),\n",
    "    os.path.join(OUT_FLD, 'tbl_ref.xlsx')\n",
    ")\n",
    "\n",
    "tbl_res = get_rows_related_with_event(conDB, {\n",
    "    \"TNAME\" : QT,\n",
    "    \"TEXTCOL\" : \"txtcls\",\n",
    "    \"TIMECOL\" : \"datahora\",\n",
    "    \"SELCOL\"  : ['fid', TBL_SCHEMA['SAMPLE_FK'], \"datahora\", TBL_SCHEMA['REF_COL']]\n",
    "}, ['fog', 'incendi'], os.path.join(OUT_FLD, 'res_q.xlsx'))\n",
    "\n",
    "mtx_q = binary_eval(\n",
    "    tbl_ref, TBL_SCHEMA['SAMPLE_FK'], TBL_SCHEMA['REF_COL'],\n",
    "    tbl_res, TBL_SCHEMA['SAMPLE_FK'],\n",
    "    os.path.join(OUT_FLD, 'mtx_q.xlsx'),\n",
    "    tstCol = None\n",
    ")"
   ]
  },
  {
   "cell_type": "code",
   "execution_count": null,
   "metadata": {},
   "outputs": [],
   "source": []
  }
 ],
 "metadata": {
  "kernelspec": {
   "display_name": "Python 3 (ipykernel)",
   "language": "python",
   "name": "python3"
  },
  "language_info": {
   "codemirror_mode": {
    "name": "ipython",
    "version": 3
   },
   "file_extension": ".py",
   "mimetype": "text/x-python",
   "name": "python",
   "nbconvert_exporter": "python",
   "pygments_lexer": "ipython3",
   "version": "3.10.6"
  }
 },
 "nbformat": 4,
 "nbformat_minor": 4
}
