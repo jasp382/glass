{
 "cells": [
  {
   "cell_type": "code",
   "execution_count": 1,
   "id": "59b5a130-5b79-4b98-9843-97d723941333",
   "metadata": {},
   "outputs": [],
   "source": [
    "noroads = 'G:/autoclsrdv/autoclsrdv.gdb/noroads_lisbon'\n",
    "\n",
    "roads = 'G:/autoclsrdv/roads_lisbon.shp'\n",
    "\n",
    "ws = 'G:/autoclsrdv/tmpws/'"
   ]
  },
  {
   "cell_type": "code",
   "execution_count": 2,
   "id": "30b80439-3aa2-44c0-bebe-9edb8632f6a9",
   "metadata": {},
   "outputs": [],
   "source": [
    "import os\n",
    "from glass.esri.prox.bfing import bbuffer"
   ]
  },
  {
   "cell_type": "code",
   "execution_count": null,
   "id": "6ac072e4-94f1-4801-9066-5451fbcd902a",
   "metadata": {},
   "outputs": [],
   "source": [
    "# Go for a buffer of the roads\n",
    "\n",
    "bflyr = bbuffer(roads, 500, os.path.join(ws, 'bfroads500.shp'), dissolve=\"ALL\")"
   ]
  },
  {
   "cell_type": "code",
   "execution_count": null,
   "id": "d00a86c4-56e2-4183-8223-0f7b367485c1",
   "metadata": {},
   "outputs": [],
   "source": [
    "# Erase all other classes in a radius of 500 meters from the roads"
   ]
  }
 ],
 "metadata": {
  "kernelspec": {
   "display_name": "Python 3 (ipykernel)",
   "language": "python",
   "name": "python3"
  },
  "language_info": {
   "codemirror_mode": {
    "name": "ipython",
    "version": 3
   },
   "file_extension": ".py",
   "mimetype": "text/x-python",
   "name": "python",
   "nbconvert_exporter": "python",
   "pygments_lexer": "ipython3",
   "version": "3.9.18"
  }
 },
 "nbformat": 4,
 "nbformat_minor": 5
}
