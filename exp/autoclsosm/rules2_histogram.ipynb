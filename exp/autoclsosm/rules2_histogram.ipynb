{
 "cells": [
  {
   "cell_type": "code",
   "execution_count": null,
   "id": "c3ad43e3-64dc-4f0f-aadc-a25624d8ff20",
   "metadata": {},
   "outputs": [],
   "source": [
    "import os\n",
    "from glass.geoviz.rst import rst_histogram\n",
    "from glass.pys.oss import lst_ff, fprop"
   ]
  },
  {
   "cell_type": "code",
   "execution_count": null,
   "id": "2ac6c02c-d322-47ee-b4df-e4251f1bfec2",
   "metadata": {},
   "outputs": [],
   "source": [
    "d = [{\n",
    "    'folder' : '/home/gisuser/autocls/historst_lisbon',\n",
    "    'out'    : '/home/gisuser/autocls/histocharts_lisbon'\n",
    "}, {\n",
    "    'folder' : '/home/gisuser/autocls/historst_coimbra',\n",
    "    'out'    : '/home/gisuser/autocls/histocharts_coimbra'\n",
    "}, {\n",
    "    'folder' : '/home/gisuser/autocls/historst_pnse',\n",
    "    'out'    : '/home/gisuser/autocls/histocharts_pnse'\n",
    "}]"
   ]
  },
  {
   "cell_type": "code",
   "execution_count": null,
   "id": "18d63024-650a-4e68-b7ee-fb040c03f672",
   "metadata": {},
   "outputs": [],
   "source": [
    "for i in d:\n",
    "    imgs = lst_ff(i['folder'], file_format='.tif')\n",
    "\n",
    "    for _i in imgs:\n",
    "        rst_histogram(\n",
    "            _i, [e / 10 for e in range(-9, 10)],\n",
    "            os.path.join(i['out'], f\"{fprop(_i, 'fn')}.png\"),\n",
    "            xaxis=[u / 10 for u in range(-10, 11, 1)],\n",
    "            figdim=(20, 15)\n",
    "        )"
   ]
  },
  {
   "cell_type": "code",
   "execution_count": null,
   "id": "68fde522-7768-4c64-bb0d-5a26bb2535b3",
   "metadata": {},
   "outputs": [],
   "source": [
    "# Get data and set wd\n",
    "et.data.get_data(\"colorado-flood\")\n",
    "\n",
    "os.chdir(os.path.join(et.io.HOME,\n",
    "                      'earth-analytics',\n",
    "                      'data'))\n",
    "\n",
    "# Prettier plotting with seaborn\n",
    "sns.set(font_scale=1.5, style=\"whitegrid\")"
   ]
  },
  {
   "cell_type": "code",
   "execution_count": null,
   "id": "f33708ce-6375-4b47-a2ee-ee92017f63f1",
   "metadata": {},
   "outputs": [],
   "source": [
    "# Define relative path to file\n",
    "lidar_dem_path = os.path.join(\"colorado-flood\", \n",
    "                              \"spatial\",\n",
    "                              \"boulder-leehill-rd\", \n",
    "                              \"pre-flood\", \n",
    "                              \"lidar\",\n",
    "                              \"pre_DTM.tif\")"
   ]
  },
  {
   "cell_type": "code",
   "execution_count": null,
   "id": "6c81c707-8153-4c3b-aae9-0343d8471065",
   "metadata": {},
   "outputs": [],
   "source": [
    "import os\n",
    "import matplotlib.pyplot as plt\n",
    "import seaborn as sns\n",
    "import numpy as np\n",
    "import rioxarray as rxr\n",
    "#import earthpy as et\n",
    "\n",
    "from glass.pys.oss import fprop"
   ]
  },
  {
   "cell_type": "code",
   "execution_count": null,
   "id": "f6f473f1-67c5-437f-850a-8937c4f3d1d6",
   "metadata": {},
   "outputs": [],
   "source": [
    "idx = '/home/gisuser/autocls/historst_lisbon/c1_ndbi_i_20180818.tif'\n",
    "\n",
    "bins = [i / 10 for i in range(-9, 10)]"
   ]
  },
  {
   "cell_type": "code",
   "execution_count": null,
   "id": "00659e85-597f-40c9-ac82-e15a986d3df2",
   "metadata": {},
   "outputs": [],
   "source": [
    "# Open data \n",
    "idx_src = rxr.open_rasterio(idx, masked=True)\n",
    "\n",
    "fn = fprop(idx, 'fn')\n",
    "\n",
    "# Plot a histogram\n",
    "f, ax = plt.subplots(figsize=(20, 15))\n",
    "\n",
    "idx_src.plot.hist(ax=ax, color=\"purple\", bins=bins)\n",
    "\n",
    "ax.set(\n",
    "    title=f\"Distribution of {fn} Raster\",\n",
    "    xlabel=fn, ylabel='Frequency',\n",
    "    xticks=[i / 10 for i in range(-10, 11, 1)]\n",
    ")\n",
    "#plt.savefig('/mnt/g/autocls/books_read.png')\n",
    "plt.show()"
   ]
  },
  {
   "cell_type": "code",
   "execution_count": null,
   "id": "9455def5-7997-42ca-8f5b-aafefb551bcf",
   "metadata": {},
   "outputs": [],
   "source": [
    "x = [i / 10 for i in range(-10, 11, 1)]"
   ]
  },
  {
   "cell_type": "code",
   "execution_count": null,
   "id": "c5f11f2a-aa7c-46ac-9b0d-49a52119fd51",
   "metadata": {},
   "outputs": [],
   "source": [
    "bins"
   ]
  },
  {
   "cell_type": "code",
   "execution_count": null,
   "id": "069dee35-7ba7-4d1b-bd9b-ff18f6d9b1c0",
   "metadata": {},
   "outputs": [],
   "source": []
  }
 ],
 "metadata": {
  "kernelspec": {
   "display_name": "Python 3 (ipykernel)",
   "language": "python",
   "name": "python3"
  },
  "language_info": {
   "codemirror_mode": {
    "name": "ipython",
    "version": 3
   },
   "file_extension": ".py",
   "mimetype": "text/x-python",
   "name": "python",
   "nbconvert_exporter": "python",
   "pygments_lexer": "ipython3",
   "version": "3.10.12"
  }
 },
 "nbformat": 4,
 "nbformat_minor": 5
}
