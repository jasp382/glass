{
 "cells": [
  {
   "cell_type": "code",
   "execution_count": null,
   "id": "certified-filling",
   "metadata": {},
   "outputs": [],
   "source": [
    "from glass.ete.autocls.osmclstogrid import osmlulc_to_s2grid\n",
    "\n",
    "ref_rst = '/mnt/d/dwaves/spacelayer/rstref.tif'\n",
    "osmlulc = '/mnt/d/dwaves/spacelayer/five_osmlulc'\n",
    "lulc_col = 'newcls'\n",
    "tmpfld  = '/mnt/d/dwaves/spacelayer/tmpgridfive'\n",
    "results = '/mnt/d/dwaves/spacelayer/gridfive'\n",
    "\n",
    "osmlulc_to_s2grid(ref_rst, osmlulc, lulc_col, tmpfld, results)"
   ]
  },
  {
   "cell_type": "code",
   "execution_count": null,
   "id": "immune-opposition",
   "metadata": {},
   "outputs": [],
   "source": []
  }
 ],
 "metadata": {
  "kernelspec": {
   "display_name": "Python 3 (ipykernel)",
   "language": "python",
   "name": "python3"
  },
  "language_info": {
   "codemirror_mode": {
    "name": "ipython",
    "version": 3
   },
   "file_extension": ".py",
   "mimetype": "text/x-python",
   "name": "python",
   "nbconvert_exporter": "python",
   "pygments_lexer": "ipython3",
   "version": "3.10.6"
  }
 },
 "nbformat": 4,
 "nbformat_minor": 5
}
