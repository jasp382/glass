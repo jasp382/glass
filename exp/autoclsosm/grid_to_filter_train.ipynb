{
 "cells": [
  {
   "cell_type": "code",
   "execution_count": null,
   "id": "59c2ddd2-3990-4752-851a-d2b57842db2f",
   "metadata": {},
   "outputs": [],
   "source": [
    "import multiprocessing as mp\n",
    "from glass.pys.oss import lst_ff\n",
    "\n",
    "\n",
    "import os\n",
    "from glass.pys.oss import mkdir, fprop\n",
    "from glass.wenv.grs import run_grass\n",
    "from glass.pys.tm import now_as_str\n",
    "\n",
    "from glass.it.shp import grs_to_shp\n",
    "from glass.it.rst import rst_to_grs"
   ]
  },
  {
   "cell_type": "code",
   "execution_count": null,
   "id": "d841712f-b1cf-472c-8e0c-04459b768a67",
   "metadata": {},
   "outputs": [],
   "source": [
    "#refs = '/home/francisco/create_grid/multiprocess/rasters_test'\n",
    "refs = '/mnt/d/autocls01/dadosfrancisco/multiprocess/rasters_test/'\n",
    "\n",
    "#out_grid = '/home/francisco/create_grid/multiprocess/grids'\n",
    "out_grid = '/mnt/d/autocls01/dadosfrancisco/multiprocess/grids'\n",
    "\n",
    "bname = 'terceira_fish'\n",
    "nproc = 2"
   ]
  },
  {
   "cell_type": "code",
   "execution_count": null,
   "id": "a812b795-27a0-4917-987b-2a1e04c3f6a4",
   "metadata": {},
   "outputs": [],
   "source": [
    "rsts = lst_ff(refs, file_format='.tif')"
   ]
  },
  {
   "cell_type": "code",
   "execution_count": null,
   "id": "7d9f996e-dcaf-4cf6-8057-18b0c225b3ee",
   "metadata": {},
   "outputs": [],
   "source": [
    "rsts"
   ]
  },
  {
   "cell_type": "code",
   "execution_count": null,
   "id": "e24c8830-87dc-4533-a7f9-069785d05ca1",
   "metadata": {},
   "outputs": [],
   "source": [
    "dimlist = len(rsts) / nproc\n",
    "\n",
    "dimlist = int(dimlist) if dimlist == int(dimlist) else int(dimlist) + 1"
   ]
  },
  {
   "cell_type": "code",
   "execution_count": null,
   "id": "43f3a239-ca22-4d5c-ac7d-b2068822719a",
   "metadata": {},
   "outputs": [],
   "source": [
    "process_data = []\n",
    "for e in range(0, nproc*dimlist, dimlist):\n",
    "    process_data.append(rsts[e:e+dimlist])"
   ]
  },
  {
   "cell_type": "code",
   "execution_count": null,
   "id": "ab98ee37-9cca-4460-a3ec-e204cf847905",
   "metadata": {},
   "outputs": [],
   "source": [
    "process_data"
   ]
  },
  {
   "cell_type": "code",
   "execution_count": null,
   "id": "ed05fc5e-e663-4e4a-8def-963b1ed76b95",
   "metadata": {},
   "outputs": [],
   "source": [
    "def create_fishnet(th, idx, raster, out_shp):\n",
    "    #print(f'Process {str(th)} - {raster}')\n",
    "    \n",
    "    # Check if outfolder exists\n",
    "    out_folder = os.path.dirname(out_shp)\n",
    "    if not os.path.exists(out_folder):\n",
    "        mkdir(out_folder, overwrite=None)\n",
    "\n",
    "    \"\"\"\n",
    "    Start GRASS GIS Session\n",
    "    \"\"\"\n",
    "    \n",
    "    loc = f'loc_{now_as_str()}_{str(th)}_{str(idx)}' \n",
    "    #loc = f'loc_{now_as_str()}'\n",
    "    grsb = run_grass(\n",
    "        out_folder, grassBIN='grass78', location=loc,\n",
    "        srs=raster\n",
    "    )\n",
    "    \n",
    "    import grass.script.setup as gsetup\n",
    "    \n",
    "    gsetup.init(grsb, out_folder, loc, 'PERMANENT')\n",
    "    \n",
    "    from grass.pygrass.modules import Module\n",
    "    \n",
    "    bloc = rst_to_grs(raster, fprop(raster, 'fn'))\n",
    "    \n",
    "    grsgrid = fprop(out_shp, 'fn')\n",
    "    \n",
    "    m = Module('v.mkgrid', map=grsgrid, overwrite=True, run_=True, quiet=True)\n",
    "    \n",
    "    out_grid = grs_to_shp(grsgrid, out_shp, 'area')\n",
    "    \n",
    "def run_multiproc(th, rasters, out_grid, name):\n",
    "    for _r in range(len(rasters)):\n",
    "        create_fishnet(\n",
    "            th, _r, rasters[_r],\n",
    "            os.path.join(out_grid, f'{name}_{str(th)}_{str(_r)}.shp'))\n",
    "\n",
    "thrds = []\n",
    "\n",
    "for i in range(len(process_data)):\n",
    "    processo = mp.Process(\n",
    "        target=run_multiproc, name=f'th-{str(i+1)}',\n",
    "        args=(i+1, process_data[i], out_grid, bname)\n",
    "    )\n",
    "\n",
    "    thrds.append(processo)\n",
    "\n",
    "for p in thrds:\n",
    "    p.start()\n",
    "\n",
    "for p in thrds:\n",
    "    p.join()\n",
    "\n",
    "print('terminou')"
   ]
  },
  {
   "cell_type": "code",
   "execution_count": null,
   "id": "8fcca072-16b3-44f3-aef4-f98c5faebd3d",
   "metadata": {},
   "outputs": [],
   "source": []
  }
 ],
 "metadata": {
  "kernelspec": {
   "display_name": "Python 3 (ipykernel)",
   "language": "python",
   "name": "python3"
  },
  "language_info": {
   "codemirror_mode": {
    "name": "ipython",
    "version": 3
   },
   "file_extension": ".py",
   "mimetype": "text/x-python",
   "name": "python",
   "nbconvert_exporter": "python",
   "pygments_lexer": "ipython3",
   "version": "3.10.6"
  }
 },
 "nbformat": 4,
 "nbformat_minor": 5
}
