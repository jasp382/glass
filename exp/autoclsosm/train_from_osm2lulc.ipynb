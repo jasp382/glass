{
 "cells": [
  {
   "cell_type": "code",
   "execution_count": null,
   "id": "265758fa-d7c8-4567-ad63-0a9ca2069f28",
   "metadata": {},
   "outputs": [],
   "source": [
    "refrst = '/mnt/disk1/jasp/a2autocls2023/imglsb_clip/L2A_T29SMC_20180115T112419_B02_10m.tif'\n",
    "\n",
    "lulcshp = '/mnt/disk1/jasp/a2autocls2023/lulc_fmosm/lulc_lisboa_clc.shp'\n",
    "lulccol = 'cls'\n",
    "\n",
    "out_folder = '/mnt/disk1/jasp/a2autocls2023/trainres'"
   ]
  },
  {
   "cell_type": "code",
   "execution_count": null,
   "id": "6f0e9c17-f08d-4cae-89dd-44d6b8da3657",
   "metadata": {},
   "outputs": [],
   "source": [
    "import os\n",
    "import pandas as pd\n",
    "\n",
    "from glass.pys.oss       import mkdir, cpu_cores, fprop\n",
    "from glass.dtt.rst.split import nrsts_fm_rst\n",
    "from glass.dtt.split     import split_shp_by_attr\n",
    "from glass.pd.split import df_split\n",
    "from glass.wenv.grs import run_grass\n",
    "from glass.gp.gen import dissolve"
   ]
  },
  {
   "cell_type": "markdown",
   "id": "fbd0ff4d-cd33-4805-9c05-f48d571d5b36",
   "metadata": {},
   "source": [
    "### Split study area in several parts"
   ]
  },
  {
   "cell_type": "code",
   "execution_count": null,
   "id": "2460b505-9cc6-43a3-a8df-332ca9e0f35b",
   "metadata": {},
   "outputs": [],
   "source": [
    "reffolder = mkdir(os.path.join(out_folder, 'ref_rasters'), overwrite=True)\n",
    "\n",
    "refparts = nrsts_fm_rst(refrst, 500, 500, reffolder, 'refrst')\n",
    "\n",
    "dfareas = pd.DataFrame(refparts, columns=['study_areas'])"
   ]
  },
  {
   "cell_type": "markdown",
   "id": "b102052c-5551-4d73-8c5c-220cb55329cd",
   "metadata": {},
   "source": [
    "### Create one shapefile for each lulc class"
   ]
  },
  {
   "cell_type": "code",
   "execution_count": null,
   "id": "3095670c-21ed-416c-a30b-3fc4da5f6f58",
   "metadata": {},
   "outputs": [],
   "source": [
    "lulc_folder = mkdir(os.path.join(out_folder, 'lulc'), overwrite=True)\n",
    "\n",
    "lulcs = split_shp_by_attr(\n",
    "    lulcshp, lulccol, lulc_folder,\n",
    "    outname='l', valinname=True\n",
    ")"
   ]
  },
  {
   "cell_type": "code",
   "execution_count": null,
   "id": "b9d1a144-9fb6-4ae2-987e-817e8f355715",
   "metadata": {},
   "outputs": [],
   "source": [
    "# CPU Cores\n",
    "n_cpu = cpu_cores()\n",
    "\n",
    "# Split data by CPU\n",
    "dfs = df_split(dfareas, n_cpu)"
   ]
  },
  {
   "cell_type": "code",
   "execution_count": null,
   "id": "fa3af928-6831-4604-b8fb-c7668785340a",
   "metadata": {},
   "outputs": [],
   "source": [
    "def fishnet_to_train(tid, ref, _lulcs, output, ws):\n",
    "    ifld = mkdir(os.path.join(ws, f'ires_{tid}'), overwrite=True)\n",
    "    \n",
    "    # Start GRASS GIS Session\n",
    "    loc = f'loc_{str(tid)}'\n",
    "    gb = run_grass(ws, location=loc, srs=ref)\n",
    "    \n",
    "    import grass.script.setup as gsetup\n",
    "    \n",
    "    gsetup.init(gb, ws, loc, 'PERMANENT')\n",
    "    \n",
    "    from glass.smp.fish import grass_fishnet\n",
    "    from glass.it.shp import shp_to_grs, grs_to_shp\n",
    "    from glass.gp.ovl.grs import grsintersection\n",
    "    from glass.prop.feat import feat_count\n",
    "    from glass.tbl.attr import geomattr_to_db\n",
    "    from glass.tbl.joins import join_table\n",
    "    \n",
    "    # Create Fishnet\n",
    "    fishnet = grass_fishnet(f'fishnet_{str(tid)}', ascmd=True)\n",
    "    \n",
    "    # Intersect with classes\n",
    "    for k in _lulcs:\n",
    "        # Import classes into GRASS GIS\n",
    "        grslulc = shp_to_grs(_lulcs[k], f'l_{k}', filterByReg=True)\n",
    "        \n",
    "        if not feat_count(grslulc, gisApi='grass', work=ws, loc=loc):\n",
    "            continue\n",
    "        \n",
    "        # Intersection\n",
    "        igrs = grsintersection(\n",
    "            fishnet, grslulc, f\"i_{grslulc}\",\n",
    "            cmd=True\n",
    "        )\n",
    "        geomattr_to_db(igrs, f'c{k}', \"area\", \"boundary\", unit=\"meters\")\n",
    "        \n",
    "        # Export Intersection result\n",
    "        ishp = grs_to_shp(igrs, os.path.join(ifld, f\"{igrs}.shp\"), 'area')\n",
    "        \n",
    "        # Dissolve\n",
    "        idiss = dissolve(\n",
    "            ishp, os.path.join(ifld, f\"{igrs}_diss.shp\"),\n",
    "            'a_cat',\n",
    "            statistics={f'c{k}' : 'SUM'}\n",
    "        )\n",
    "        \n",
    "        # Dissolve result to GRASS\n",
    "        grsdiss = shp_to_grs(idiss, fprop(idiss, 'fn'))\n",
    "        \n",
    "        # Join with original Fishnet\n",
    "        join_table(fishnet, grsdiss, 'cat', 'a_cat')\n",
    "    \n",
    "    # Export fishnet\n",
    "    grs_to_shp(fishnet, output, 'area')"
   ]
  },
  {
   "cell_type": "code",
   "execution_count": null,
   "id": "e6abe380-ddac-477b-a487-b70ccc28a067",
   "metadata": {},
   "outputs": [],
   "source": [
    "ref_raster = dfs[0].study_areas.tolist()[0]"
   ]
  },
  {
   "cell_type": "code",
   "execution_count": null,
   "id": "fd7ff4ee-c51c-4518-98fe-405edba5766f",
   "metadata": {},
   "outputs": [],
   "source": [
    "fishnet_to_train(\n",
    "    1, ref_raster, lulcs,\n",
    "    os.path.join(out_folder, 'fishnet_00.shp'),\n",
    "    out_folder\n",
    ")"
   ]
  },
  {
   "cell_type": "code",
   "execution_count": null,
   "id": "8f11aef4-b2e0-44c1-8c8b-192634492037",
   "metadata": {},
   "outputs": [],
   "source": [
    "ref_raster"
   ]
  },
  {
   "cell_type": "code",
   "execution_count": null,
   "id": "5356dcdd-f2fc-46b1-844b-1397556f67a8",
   "metadata": {},
   "outputs": [],
   "source": []
  }
 ],
 "metadata": {
  "kernelspec": {
   "display_name": "Python 3 (ipykernel)",
   "language": "python",
   "name": "python3"
  },
  "language_info": {
   "codemirror_mode": {
    "name": "ipython",
    "version": 3
   },
   "file_extension": ".py",
   "mimetype": "text/x-python",
   "name": "python",
   "nbconvert_exporter": "python",
   "pygments_lexer": "ipython3",
   "version": "3.10.6"
  }
 },
 "nbformat": 4,
 "nbformat_minor": 5
}
