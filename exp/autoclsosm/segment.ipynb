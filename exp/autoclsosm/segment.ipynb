{
 "cells": [
  {
   "cell_type": "code",
   "execution_count": null,
   "id": "90cd8fe9-9931-44e0-8bf5-b74eb2648456",
   "metadata": {},
   "outputs": [],
   "source": [
    "imgfolder = '/mnt/d/autocls11/imgs/cmb18/i_20180818/'\n",
    "thold = [0.02, 0.05, 0.1, 0.2, 0.3]\n",
    "output   = '/mnt/d/autocls11/satseg/seg_20180818.tif'"
   ]
  },
  {
   "cell_type": "code",
   "execution_count": null,
   "id": "fd7f8233-e8f3-49c5-a8d4-1cc982691910",
   "metadata": {},
   "outputs": [],
   "source": [
    "import os\n",
    "import datetime as dt\n",
    "\n",
    "from glass.wenv.grs import run_grass\n",
    "from glass.pys.oss import lst_ff, fprop\n",
    "from glass.pys.tm import now_as_str"
   ]
  },
  {
   "cell_type": "code",
   "execution_count": null,
   "id": "2de8a7a2-4d9e-46d4-bec3-cffab20951b4",
   "metadata": {},
   "outputs": [],
   "source": [
    "imgs = lst_ff(imgfolder, file_format='tif')\n",
    "imgs = [imgs[0]]"
   ]
  },
  {
   "cell_type": "code",
   "execution_count": null,
   "id": "01ea6f9f-4b6e-4ba8-add7-8ec96319397a",
   "metadata": {
    "tags": []
   },
   "outputs": [],
   "source": [
    "imgs"
   ]
  },
  {
   "cell_type": "code",
   "execution_count": null,
   "id": "fb3b8bec-a25f-45b9-8231-05eca12cff04",
   "metadata": {},
   "outputs": [],
   "source": [
    "ws = os.path.dirname(output)\n",
    "if not os.path.exists(ws):\n",
    "    mkdir(ws, overwrite=None)\n",
    "    \n",
    "\"\"\"\n",
    "Start GRASS GIS Session\n",
    "\"\"\"\n",
    "\n",
    "loc = f'loc_{now_as_str()}'\n",
    "grsb = run_grass(\n",
    "    ws, grassBIN='grass78', location=loc,\n",
    "    srs=imgs[0]\n",
    ")\n",
    "\n",
    "import grass.script.setup as gsetup\n",
    "    \n",
    "gsetup.init(grsb, ws, loc, 'PERMANENT')"
   ]
  },
  {
   "cell_type": "code",
   "execution_count": null,
   "id": "864f9d9d-ed19-4577-956c-45d2b9f79e1b",
   "metadata": {},
   "outputs": [],
   "source": [
    "from glass.it.rst import rst_to_grs, grs_to_rst\n",
    "from glass.rst.seg import img_segment"
   ]
  },
  {
   "cell_type": "code",
   "execution_count": null,
   "id": "bee39a1e-3ea0-415e-a6aa-2caf67480d54",
   "metadata": {},
   "outputs": [],
   "source": [
    "rsts = [rst_to_grs(i) for i in imgs]"
   ]
  },
  {
   "cell_type": "code",
   "execution_count": null,
   "id": "1ac8db1e-2833-4b4c-8c36-9f046373d91b",
   "metadata": {},
   "outputs": [],
   "source": [
    "bname = fprop(output, 'fn')\n",
    "segs = []\n",
    "for t in range(len(thold)):\n",
    "    a = dt.datetime.now().replace(microsecond=0)\n",
    "    seg = img_segment(\n",
    "        rsts, thold[t], 1.5,\n",
    "        f'{bname}_{str(t).replace(\".\", \"\")}',\n",
    "        method=None,\n",
    "        seeds=None if not t else segs[t-1],\n",
    "        ascmd=True\n",
    "    )\n",
    "    \n",
    "    grs_to_rst(\n",
    "        seg, os.path.join(ws, f\"{seg}.tif\"),\n",
    "        as_cmd=True, is_int=True\n",
    "    )\n",
    "    \n",
    "    segs.append(seg)\n",
    "    b = dt.datetime.now().replace(microsecond=0)\n",
    "    \n",
    "    print(b-a)"
   ]
  },
  {
   "cell_type": "code",
   "execution_count": null,
   "id": "6aecd0f3-05bc-425e-b1a9-526ac10712ea",
   "metadata": {
    "tags": []
   },
   "outputs": [],
   "source": []
  }
 ],
 "metadata": {
  "kernelspec": {
   "display_name": "Python 3 (ipykernel)",
   "language": "python",
   "name": "python3"
  },
  "language_info": {
   "codemirror_mode": {
    "name": "ipython",
    "version": 3
   },
   "file_extension": ".py",
   "mimetype": "text/x-python",
   "name": "python",
   "nbconvert_exporter": "python",
   "pygments_lexer": "ipython3",
   "version": "3.8.10"
  }
 },
 "nbformat": 4,
 "nbformat_minor": 5
}
