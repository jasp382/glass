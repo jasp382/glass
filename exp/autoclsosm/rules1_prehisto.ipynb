{
 "cells": [
  {
   "cell_type": "markdown",
   "id": "6f49765c-1041-49af-bf1a-6efbab69a5aa",
   "metadata": {},
   "source": [
    "### Pre-processing data for histogram"
   ]
  },
  {
   "cell_type": "code",
   "execution_count": null,
   "id": "bb2f3a50-946e-4d81-a9fb-5fd3a8095c85",
   "metadata": {},
   "outputs": [],
   "source": [
    "ipt = [{\n",
    "    'shp'  : '/mnt/g/mainphd.gdb/pureobj_lisbon/pure_lsb_allcls',\n",
    "    'col'  : 'idclcplus',\n",
    "    'idxs' : '/home/gisuser/autocls/idxs_lisbon',\n",
    "    'out'  : '/home/gisuser/autocls/historst_lisbon'\n",
    "}, {\n",
    "    'shp'  : '/mnt/g/mainphd.gdb/pureobj_lisbon/pure_cmb_all',\n",
    "    'col'  : 'idclcplus',\n",
    "    'idxs' : '/home/gisuser/autocls/idxs_coimbra',\n",
    "    'out'  : '/home/gisuser/autocls/historst_coimbra'\n",
    "}]"
   ]
  },
  {
   "cell_type": "code",
   "execution_count": null,
   "id": "bc0b57c5-c4aa-4df0-960e-ca7fe84977f4",
   "metadata": {},
   "outputs": [],
   "source": [
    "from glass.ete.autocls.newrules import idxdist_by_class\n",
    "\n",
    "for i in ipt:\n",
    "    idxdist_by_class(\n",
    "        i['shp'], i['col'],\n",
    "        i['idxs'], i['out']\n",
    "    )"
   ]
  },
  {
   "cell_type": "code",
   "execution_count": null,
   "id": "ae0848e4-e370-439a-9851-9fae49ddce29",
   "metadata": {},
   "outputs": [],
   "source": []
  }
 ],
 "metadata": {
  "kernelspec": {
   "display_name": "Python 3 (ipykernel)",
   "language": "python",
   "name": "python3"
  },
  "language_info": {
   "codemirror_mode": {
    "name": "ipython",
    "version": 3
   },
   "file_extension": ".py",
   "mimetype": "text/x-python",
   "name": "python",
   "nbconvert_exporter": "python",
   "pygments_lexer": "ipython3",
   "version": "3.10.12"
  }
 },
 "nbformat": 4,
 "nbformat_minor": 5
}
