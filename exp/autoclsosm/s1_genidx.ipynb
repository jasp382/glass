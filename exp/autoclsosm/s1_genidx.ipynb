{
 "cells": [
  {
   "cell_type": "markdown",
   "id": "a7e2b152-2d44-44c3-bac1-084d49e7dbd3",
   "metadata": {},
   "source": [
    "### Generate Several Indexes for any image in folder"
   ]
  },
  {
   "cell_type": "code",
   "execution_count": 1,
   "id": "c4c20a14-d701-4505-bf31-71e10028e8a2",
   "metadata": {},
   "outputs": [],
   "source": [
    "folder = '/mnt/d/autocls/sat_s2_cmb18'\n",
    "out_folder = '/mnt/d/autocls/sat_s2_cmb18'\n",
    "\n",
    "iname = 'i_'\n",
    "oname = 'idx'"
   ]
  },
  {
   "cell_type": "code",
   "execution_count": 2,
   "id": "0a2de418-15be-46c6-88b3-0dcecfca7aa7",
   "metadata": {},
   "outputs": [],
   "source": [
    "import os\n",
    "\n",
    "from glass.cons.sat import bandsmap\n",
    "from glass.pys.oss import lst_folders_subfiles, mkdir\n",
    "from glass.rst.sat.idx import calc_ndvi\n",
    "from glass.rst.sat.idx import calc_ndwi\n",
    "from glass.rst.sat.idx import calc_evi\n",
    "from glass.rst.sat.idx import calc_ndbi\n",
    "from glass.rst.sat.idx import calc_ndre\n",
    "from glass.rst.sat.idx import calc_ndsi\n",
    "from glass.rst.sat.idx import calc_ngrdi\n",
    "from glass.rst.sat.idx import calc_savi"
   ]
  },
  {
   "cell_type": "code",
   "execution_count": 3,
   "id": "f84155c7-02e0-4566-99e1-96892ae99c20",
   "metadata": {},
   "outputs": [],
   "source": [
    "bandmap = bandsmap()"
   ]
  },
  {
   "cell_type": "code",
   "execution_count": 4,
   "id": "a4dfdf94-a6ff-4fb0-b283-bc7d9e4444bc",
   "metadata": {},
   "outputs": [],
   "source": [
    "# List images folder\n",
    "imgs = lst_folders_subfiles(folder, filter_folder=iname, files_format='.tif')\n",
    "\n",
    "for f in imgs:\n",
    "    d = {}\n",
    "\n",
    "    for b in imgs[f]:\n",
    "        for k in bandmap:\n",
    "            if k in b:\n",
    "                d[bandmap[k]] = b\n",
    "                break\n",
    "\n",
    "    imgs[f] = d"
   ]
  },
  {
   "cell_type": "code",
   "execution_count": 5,
   "id": "c80fe2aa-eade-482a-9a30-cf8faafc7b5d",
   "metadata": {},
   "outputs": [
    {
     "data": {
      "text/plain": [
       "{'i_20180130': {'b02': '/mnt/d/autocls/sat_s2_cmb18/i_20180130/L2A_T29TNE_20180130T112311_B02_10m.tif',\n",
       "  'b03': '/mnt/d/autocls/sat_s2_cmb18/i_20180130/L2A_T29TNE_20180130T112311_B03_10m.tif',\n",
       "  'b04': '/mnt/d/autocls/sat_s2_cmb18/i_20180130/L2A_T29TNE_20180130T112311_B04_10m.tif',\n",
       "  'b05': '/mnt/d/autocls/sat_s2_cmb18/i_20180130/L2A_T29TNE_20180130T112311_B05_20m.tif',\n",
       "  'b06': '/mnt/d/autocls/sat_s2_cmb18/i_20180130/L2A_T29TNE_20180130T112311_B06_20m.tif',\n",
       "  'b07': '/mnt/d/autocls/sat_s2_cmb18/i_20180130/L2A_T29TNE_20180130T112311_B07_20m.tif',\n",
       "  'b08': '/mnt/d/autocls/sat_s2_cmb18/i_20180130/L2A_T29TNE_20180130T112311_B08_10m.tif',\n",
       "  'b09': '/mnt/d/autocls/sat_s2_cmb18/i_20180130/L2A_T29TNE_20180130T112311_B09_60m.tif',\n",
       "  'b11': '/mnt/d/autocls/sat_s2_cmb18/i_20180130/L2A_T29TNE_20180130T112311_B11_20m.tif',\n",
       "  'b12': '/mnt/d/autocls/sat_s2_cmb18/i_20180130/L2A_T29TNE_20180130T112311_B12_20m.tif',\n",
       "  'b8a': '/mnt/d/autocls/sat_s2_cmb18/i_20180130/L2A_T29TNE_20180130T112311_B8A_20m.tif'},\n",
       " 'i_20180505': {'b02': '/mnt/d/autocls/sat_s2_cmb18/i_20180505/T29TNE_20180505T112109_B02_10m.tif',\n",
       "  'b03': '/mnt/d/autocls/sat_s2_cmb18/i_20180505/T29TNE_20180505T112109_B03_10m.tif',\n",
       "  'b04': '/mnt/d/autocls/sat_s2_cmb18/i_20180505/T29TNE_20180505T112109_B04_10m.tif',\n",
       "  'b05': '/mnt/d/autocls/sat_s2_cmb18/i_20180505/T29TNE_20180505T112109_B05_20m.tif',\n",
       "  'b06': '/mnt/d/autocls/sat_s2_cmb18/i_20180505/T29TNE_20180505T112109_B06_20m.tif',\n",
       "  'b07': '/mnt/d/autocls/sat_s2_cmb18/i_20180505/T29TNE_20180505T112109_B07_20m.tif',\n",
       "  'b08': '/mnt/d/autocls/sat_s2_cmb18/i_20180505/T29TNE_20180505T112109_B08_10m.tif',\n",
       "  'b09': '/mnt/d/autocls/sat_s2_cmb18/i_20180505/T29TNE_20180505T112109_B09_60m.tif',\n",
       "  'b11': '/mnt/d/autocls/sat_s2_cmb18/i_20180505/T29TNE_20180505T112109_B11_20m.tif',\n",
       "  'b12': '/mnt/d/autocls/sat_s2_cmb18/i_20180505/T29TNE_20180505T112109_B12_20m.tif',\n",
       "  'b8a': '/mnt/d/autocls/sat_s2_cmb18/i_20180505/T29TNE_20180505T112109_B8A_20m.tif'},\n",
       " 'i_20180818': {'b02': '/mnt/d/autocls/sat_s2_cmb18/i_20180818/T29TNE_20180818T112111_B02_10m.tif',\n",
       "  'b03': '/mnt/d/autocls/sat_s2_cmb18/i_20180818/T29TNE_20180818T112111_B03_10m.tif',\n",
       "  'b04': '/mnt/d/autocls/sat_s2_cmb18/i_20180818/T29TNE_20180818T112111_B04_10m.tif',\n",
       "  'b05': '/mnt/d/autocls/sat_s2_cmb18/i_20180818/T29TNE_20180818T112111_B05_20m.tif',\n",
       "  'b06': '/mnt/d/autocls/sat_s2_cmb18/i_20180818/T29TNE_20180818T112111_B06_20m.tif',\n",
       "  'b07': '/mnt/d/autocls/sat_s2_cmb18/i_20180818/T29TNE_20180818T112111_B07_20m.tif',\n",
       "  'b08': '/mnt/d/autocls/sat_s2_cmb18/i_20180818/T29TNE_20180818T112111_B08_10m.tif',\n",
       "  'b09': '/mnt/d/autocls/sat_s2_cmb18/i_20180818/T29TNE_20180818T112111_B09_60m.tif',\n",
       "  'b11': '/mnt/d/autocls/sat_s2_cmb18/i_20180818/T29TNE_20180818T112111_B11_20m.tif',\n",
       "  'b12': '/mnt/d/autocls/sat_s2_cmb18/i_20180818/T29TNE_20180818T112111_B12_20m.tif',\n",
       "  'b8a': '/mnt/d/autocls/sat_s2_cmb18/i_20180818/T29TNE_20180818T112111_B8A_20m.tif'},\n",
       " 'i_20181002': {'b02': '/mnt/d/autocls/sat_s2_cmb18/i_20181002/T29TNE_20181002T112109_B02_10m.tif',\n",
       "  'b03': '/mnt/d/autocls/sat_s2_cmb18/i_20181002/T29TNE_20181002T112109_B03_10m.tif',\n",
       "  'b04': '/mnt/d/autocls/sat_s2_cmb18/i_20181002/T29TNE_20181002T112109_B04_10m.tif',\n",
       "  'b05': '/mnt/d/autocls/sat_s2_cmb18/i_20181002/T29TNE_20181002T112109_B05_20m.tif',\n",
       "  'b06': '/mnt/d/autocls/sat_s2_cmb18/i_20181002/T29TNE_20181002T112109_B06_20m.tif',\n",
       "  'b07': '/mnt/d/autocls/sat_s2_cmb18/i_20181002/T29TNE_20181002T112109_B07_20m.tif',\n",
       "  'b08': '/mnt/d/autocls/sat_s2_cmb18/i_20181002/T29TNE_20181002T112109_B08_10m.tif',\n",
       "  'b09': '/mnt/d/autocls/sat_s2_cmb18/i_20181002/T29TNE_20181002T112109_B09_60m.tif',\n",
       "  'b11': '/mnt/d/autocls/sat_s2_cmb18/i_20181002/T29TNE_20181002T112109_B11_20m.tif',\n",
       "  'b12': '/mnt/d/autocls/sat_s2_cmb18/i_20181002/T29TNE_20181002T112109_B12_20m.tif',\n",
       "  'b8a': '/mnt/d/autocls/sat_s2_cmb18/i_20181002/T29TNE_20181002T112109_B8A_20m.tif'}}"
      ]
     },
     "execution_count": 5,
     "metadata": {},
     "output_type": "execute_result"
    }
   ],
   "source": [
    "imgs"
   ]
  },
  {
   "cell_type": "code",
   "execution_count": 6,
   "id": "f9602d20-d9a8-4b38-ac09-3eacc37e2d92",
   "metadata": {},
   "outputs": [
    {
     "name": "stderr",
     "output_type": "stream",
     "text": [
      "/home/jakim/glass/glass/rst/sat/idx.py:168: RuntimeWarning: divide by zero encountered in divide\n",
      "  2.5 * ((num['n'] - num['r']) / deno)\n",
      "/home/jakim/glass/glass/rst/sat/idx.py:201: RuntimeWarning: invalid value encountered in divide\n",
      "  ndre = (nnir - nre) / (nnir + nre)\n",
      "/home/jakim/glass/glass/rst/sat/idx.py:168: RuntimeWarning: invalid value encountered in divide\n",
      "  2.5 * ((num['n'] - num['r']) / deno)\n"
     ]
    }
   ],
   "source": [
    "# Calculate Indexes\n",
    "for img in imgs:\n",
    "    idxfld = mkdir(os.path.join(out_folder, f'{oname}_{img}'), overwrite=True)\n",
    "    # Calculate EVI\n",
    "    calc_evi(\n",
    "        imgs[img]['b08'], # nir,\n",
    "        imgs[img]['b04'], # red\n",
    "        imgs[img]['b02'], # blue\n",
    "        os.path.join(idxfld, f'evi_{img}.tif')\n",
    "    )\n",
    "\n",
    "    # Calculate NDWI's\n",
    "    calc_ndwi(\n",
    "        imgs[img]['b02'], # green\n",
    "        imgs[img]['b08'], # nir\n",
    "        os.path.join(idxfld, f'ndwi_nir_{img}.tif')\n",
    "    )\n",
    "\n",
    "    calc_ndwi(\n",
    "        imgs[img]['b02'], # green\n",
    "        imgs[img]['b11'], # swir\n",
    "        os.path.join(idxfld, f'ndwi_swir_{img}.tif')\n",
    "    )\n",
    "\n",
    "    # Calculate NDVI\n",
    "    calc_ndvi(\n",
    "        imgs[img]['b08'], # nir,\n",
    "        imgs[img]['b04'], # red\n",
    "        os.path.join(idxfld, f'ndvi_{img}.tif')\n",
    "    )\n",
    "\n",
    "    # Calculate SAVI\n",
    "    calc_savi(\n",
    "        imgs[img]['b08'], # nir,\n",
    "        imgs[img]['b04'], # red\n",
    "        os.path.join(idxfld, f'savi_{img}.tif')\n",
    "    )\n",
    "\n",
    "    # Calculate NDRE\n",
    "    calc_ndre(\n",
    "        imgs[img]['b08'], # nir,\n",
    "        imgs[img]['b05'], # red-edge\n",
    "        os.path.join(idxfld, f'ndre_{img}.tif')\n",
    "    )\n",
    "\n",
    "    # Calculate NGRDI\n",
    "    calc_ndre(\n",
    "        imgs[img]['b02'], # green\n",
    "        imgs[img]['b04'], # red\n",
    "        os.path.join(idxfld, f'ngrdi_{img}.tif')\n",
    "    )\n",
    "\n",
    "    # Calculate NDBI\n",
    "    calc_ndbi(\n",
    "        imgs[img]['b11'], # swir\n",
    "        imgs[img]['b08'], # nir,\n",
    "        os.path.join(idxfld, f'ndbi_{img}.tif')\n",
    "    )\n",
    "\n",
    "    # Calculate NDSI\n",
    "    calc_ndre(\n",
    "        imgs[img]['b12'], # swir2\n",
    "        imgs[img]['b02'], # blue\n",
    "        os.path.join(idxfld, f'ndsi_{img}.tif')\n",
    "    )"
   ]
  },
  {
   "cell_type": "code",
   "execution_count": null,
   "id": "d0e08bd3-0166-441f-be34-a29c632d1ca1",
   "metadata": {},
   "outputs": [],
   "source": []
  }
 ],
 "metadata": {
  "kernelspec": {
   "display_name": "Python 3 (ipykernel)",
   "language": "python",
   "name": "python3"
  },
  "language_info": {
   "codemirror_mode": {
    "name": "ipython",
    "version": 3
   },
   "file_extension": ".py",
   "mimetype": "text/x-python",
   "name": "python",
   "nbconvert_exporter": "python",
   "pygments_lexer": "ipython3",
   "version": "3.10.6"
  }
 },
 "nbformat": 4,
 "nbformat_minor": 5
}
