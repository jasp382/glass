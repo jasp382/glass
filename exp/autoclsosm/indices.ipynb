{
 "cells": [
  {
   "cell_type": "code",
   "execution_count": 1,
   "id": "9d1cc182-df7d-43b2-b3d3-61bc614279ae",
   "metadata": {},
   "outputs": [],
   "source": [
    "folder = '/mnt/d/autocls/sat_s2_cmb18/i_20180130'\n",
    "\n",
    "blue      = 'L2A_T29TNE_20180130T112311_B02_10m.tif'\n",
    "green     = 'L2A_T29TNE_20180130T112311_B03_10m.tif'\n",
    "red       = 'L2A_T29TNE_20180130T112311_B04_10m.tif'\n",
    "vrededge5 = 'L2A_T29TNE_20180130T112311_B05_20m.tif'\n",
    "vrededge6 = 'L2A_T29TNE_20180130T112311_B06_20m.tif'\n",
    "vrededge7 = 'L2A_T29TNE_20180130T112311_B07_20m.tif'\n",
    "nir       = 'L2A_T29TNE_20180130T112311_B08_10m.tif'\n",
    "nnir      = 'L2A_T29TNE_20180130T112311_B8A_20m.tif'\n",
    "waterv    = 'L2A_T29TNE_20180130T112311_B09_60m.tif'\n",
    "swir11    = 'L2A_T29TNE_20180130T112311_B11_20m.tif'\n",
    "swir12    = 'L2A_T29TNE_20180130T112311_B12_20m.tif'\n",
    "\n",
    "out_folder = '/mnt/d/autocls/sat_s2_cmb18/idx_20180130'\n",
    "\n",
    "day = '20180130'"
   ]
  },
  {
   "cell_type": "code",
   "execution_count": 2,
   "id": "db820b72-dee0-4956-be92-7cf5e5e53806",
   "metadata": {},
   "outputs": [],
   "source": [
    "import os\n",
    "\n",
    "from glass.rst.sat.idx import calc_ndvi\n",
    "from glass.rst.sat.idx import calc_ndwi\n",
    "from glass.rst.sat.idx import calc_evi\n",
    "from glass.rst.sat.idx import calc_ndbi\n",
    "from glass.rst.sat.idx import calc_ndre\n",
    "from glass.rst.sat.idx import calc_ndsi\n",
    "from glass.rst.sat.idx import calc_ngrdi\n",
    "from glass.rst.sat.idx import calc_savi"
   ]
  },
  {
   "cell_type": "code",
   "execution_count": 3,
   "id": "d074c07c-2b40-4b61-9430-8a65377391fd",
   "metadata": {},
   "outputs": [
    {
     "name": "stderr",
     "output_type": "stream",
     "text": [
      "/home/jakim/glass/glass/rst/sat/idx.py:168: RuntimeWarning: divide by zero encountered in divide\n",
      "  2.5 * ((num['n'] - num['r']) / deno)\n"
     ]
    },
    {
     "data": {
      "text/plain": [
       "'/mnt/d/autocls/sat_s2_cmb18/idx_20180130/evi_20180130.tif'"
      ]
     },
     "execution_count": 3,
     "metadata": {},
     "output_type": "execute_result"
    }
   ],
   "source": [
    "\n"
   ]
  },
  {
   "cell_type": "code",
   "execution_count": 3,
   "id": "03a6d6bb-c698-4d40-b0f2-7525c3bcab41",
   "metadata": {},
   "outputs": [
    {
     "name": "stderr",
     "output_type": "stream",
     "text": [
      "/home/jakim/glass/glass/rst/sat/idx.py:165: RuntimeWarning: divide by zero encountered in divide\n",
      "  evi = 2.5 * ((num['n'] - num['r']) / (\n",
      "/home/jakim/glass/glass/rst/sat/idx.py:165: RuntimeWarning: invalid value encountered in divide\n",
      "  evi = 2.5 * ((num['n'] - num['r']) / (\n"
     ]
    },
    {
     "data": {
      "text/plain": [
       "'/mnt/d/autocls/sat_s2_cmb18/i_20180130/ndsi_20180130.tif'"
      ]
     },
     "execution_count": 3,
     "metadata": {},
     "output_type": "execute_result"
    }
   ],
   "source": [
    "# Calculate NDWI's\n",
    "calc_ndwi(\n",
    "    os.path.join(folder, green),\n",
    "    os.path.join(folder, nir),\n",
    "    os.path.join(out_folder, f'ndwi_nir_{day}.tif')\n",
    ")\n",
    "\n",
    "calc_ndwi(\n",
    "    os.path.join(folder, green),\n",
    "    os.path.join(folder, swir11),\n",
    "    os.path.join(out_folder, f'ndwi_swir_{day}.tif')\n",
    ")\n",
    "\n",
    "# Calculate NDVI\n",
    "calc_ndvi(\n",
    "    os.path.join(folder, nir),\n",
    "    os.path.join(folder, red),\n",
    "    os.path.join(out_folder, f'ndvi_{day}.tif')\n",
    ")\n",
    "\n",
    "# Calculate SAVI\n",
    "calc_savi(\n",
    "    os.path.join(folder, nir),\n",
    "    os.path.join(folder, red),\n",
    "    os.path.join(out_folder, f'savi_{day}.tif')\n",
    ")\n",
    "\n",
    "\n",
    "# Calculate NDRE\n",
    "calc_ndre(\n",
    "    os.path.join(folder, nir),\n",
    "    os.path.join(folder, vrededge5),\n",
    "    os.path.join(out_folder, f'ndre_{day}.tif')\n",
    ")\n",
    "\n",
    "# Calculate NGRDI\n",
    "calc_ndre(\n",
    "    os.path.join(folder, green),\n",
    "    os.path.join(folder, red),\n",
    "    os.path.join(out_folder, f'ngrdi_{day}.tif')\n",
    ")\n",
    "\n",
    "# Calculate NDBI\n",
    "calc_ndre(\n",
    "    os.path.join(folder, swir11),\n",
    "    os.path.join(folder, nir),\n",
    "    os.path.join(out_folder, f'ndbi_{day}.tif')\n",
    ")\n",
    "\n",
    "# Calculate NDSI\n",
    "calc_ndre(\n",
    "    os.path.join(folder, swir12),\n",
    "    os.path.join(folder, blue),\n",
    "    os.path.join(out_folder, f'ndsi_{day}.tif')\n",
    ")"
   ]
  }
 ],
 "metadata": {
  "kernelspec": {
   "display_name": "Python 3 (ipykernel)",
   "language": "python",
   "name": "python3"
  },
  "language_info": {
   "codemirror_mode": {
    "name": "ipython",
    "version": 3
   },
   "file_extension": ".py",
   "mimetype": "text/x-python",
   "name": "python",
   "nbconvert_exporter": "python",
   "pygments_lexer": "ipython3",
   "version": "3.10.6"
  }
 },
 "nbformat": 4,
 "nbformat_minor": 5
}
