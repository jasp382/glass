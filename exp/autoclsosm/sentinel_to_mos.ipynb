{
 "cells": [
  {
   "cell_type": "markdown",
   "id": "74726ab9-f7c1-46b7-a73b-955832318356",
   "metadata": {},
   "source": [
    "### Create a mosaic from several Sentinel-2 images"
   ]
  },
  {
   "cell_type": "code",
   "execution_count": null,
   "id": "159bb1e1-55a3-4ee9-be0e-e75ffdae10fe",
   "metadata": {},
   "outputs": [],
   "source": [
    "\n",
    "folders_to_merge = {\n",
    "    'outono' : [\n",
    "        '/home/gisuser/autocls/img_alentejo/i_20171111',\n",
    "        '/home/gisuser/autocls/img_algarve/i_20171111',\n",
    "        '/home/gisuser/autocls/img_coimbra/i_20171012',\n",
    "        '/home/gisuser/autocls/img_lisbon/i_20171111',\n",
    "        '/home/gisuser/autocls/img_pnse/i_20171111',\n",
    "        '/home/gisuser/autocls/img_porto/i_20171111'\n",
    "    ],\n",
    "    'inverno' : [\n",
    "        '/home/gisuser/autocls/img_alentejo/i_20180115',\n",
    "        '/home/gisuser/autocls/img_algarve/i_20171201',\n",
    "        '/home/gisuser/autocls/img_coimbra/i_20180130',\n",
    "        '/home/gisuser/autocls/img_lisbon/i_20180115',\n",
    "        '/home/gisuser/autocls/img_pnse/i_20171221',\n",
    "        '/home/gisuser/autocls/img_porto/i_20171221'\n",
    "    ],\n",
    "    'primavera' : [\n",
    "        '/home/gisuser/autocls/img_alentejo/i_20180515',\n",
    "        '/home/gisuser/autocls/img_algarve/i_20180515',\n",
    "        '/home/gisuser/autocls/img_coimbra/i_20180505',\n",
    "        '/home/gisuser/autocls/img_lisbon/i_20180515',\n",
    "        '/home/gisuser/autocls/img_pnse/i_20180515',\n",
    "        '/home/gisuser/autocls/img_porto/i_20180515'\n",
    "    ],\n",
    "    'verao' : [\n",
    "        '/home/gisuser/autocls/img_alentejo/i_20180818',\n",
    "        '/home/gisuser/autocls/img_algarve/i_20180818',\n",
    "        '/home/gisuser/autocls/img_coimbra/i_20180818',\n",
    "        '/home/gisuser/autocls/img_lisbon/i_20180818',\n",
    "        '/home/gisuser/autocls/img_pnse/i_20180818',\n",
    "        '/home/gisuser/autocls/img_porto/i_20180818'\n",
    "    ]\n",
    "}"
   ]
  },
  {
   "cell_type": "code",
   "execution_count": null,
   "id": "7f2a9c91-9d71-48ed-aeda-2d50f655851c",
   "metadata": {},
   "outputs": [],
   "source": [
    "import pandas as pd\n",
    "\n",
    "from glass.pys.oss import lst_folders_subfiles, lst_ff\n",
    "from glass.cons.sat import bandsmap\n",
    "from glass.prop.rst import rst_fullprop"
   ]
  },
  {
   "cell_type": "code",
   "execution_count": null,
   "id": "35aa5ca7-cfd1-4828-9702-2153294f8f48",
   "metadata": {},
   "outputs": [],
   "source": [
    "bandmap = bandsmap()"
   ]
  },
  {
   "cell_type": "code",
   "execution_count": null,
   "id": "6ddf0eca-7f1d-4c12-99d2-30eb3a92cb4d",
   "metadata": {},
   "outputs": [],
   "source": [
    "# List images\n",
    "\n",
    "allimgs = []\n",
    "for k in folders_to_merge:\n",
    "    k_imgs = []\n",
    "    for f in folders_to_merge[k]:\n",
    "        imgs = lst_ff(f, file_format='.tif')\n",
    "        k_imgs.extend(imgs)\n",
    "        allimgs.extend(imgs)\n",
    "\n",
    "    bimgs = {}\n",
    "    for img in k_imgs:\n",
    "        for b in bandmap:\n",
    "            if b in img and bandmap[b] not in bimgs:\n",
    "                bimgs[bandmap[b]] = [img]\n",
    "            elif b in img and bandmap[b] in bimgs:\n",
    "                bimgs[bandmap[b]].append(img)\n",
    "\n",
    "    folders_to_merge[k] = bimgs"
   ]
  },
  {
   "cell_type": "code",
   "execution_count": null,
   "id": "31821cff-8794-4857-8781-8a5a049fc0d3",
   "metadata": {},
   "outputs": [],
   "source": [
    "# Get Raster extent's\n",
    "dfd = []\n",
    "\n",
    "for rst in allimgs:\n",
    "    extent, cellsize, shape = rst_fullprop(rst)\n",
    "\n",
    "    left, right, bottom, top = extent\n",
    "    cx, cy = cellsize\n",
    "    lnhs, cols = shape\n",
    "\n",
    "    dfd.append([left, right, bottom, top, cx, cy, lnhs, cols])\n",
    "\n",
    "ext_df = pd.DataFrame(dfd, columns=[\n",
    "    'left', 'right', 'bottom', 'top',\n",
    "    'cellsize_x', 'cellsize_y'\n",
    "])\n",
    "\n",
    "minleft = ext_df['left'].min()\n",
    "maxtop  = ext_df['top'].max()\n",
    "maxcx   = ext_df['cellsize_x'].min()\n",
    "maxcy   = ext_df['cellsize_y'].min()"
   ]
  },
  {
   "cell_type": "code",
   "execution_count": null,
   "id": "93cc0dee-2816-4b6c-bb29-da17fa2f0f9f",
   "metadata": {},
   "outputs": [],
   "source": [
    "folders_to_merge"
   ]
  },
  {
   "cell_type": "code",
   "execution_count": null,
   "id": "b7593e59-835a-42fe-8818-da65aa2d5c35",
   "metadata": {},
   "outputs": [],
   "source": []
  }
 ],
 "metadata": {
  "kernelspec": {
   "display_name": "Python 3 (ipykernel)",
   "language": "python",
   "name": "python3"
  },
  "language_info": {
   "codemirror_mode": {
    "name": "ipython",
    "version": 3
   },
   "file_extension": ".py",
   "mimetype": "text/x-python",
   "name": "python",
   "nbconvert_exporter": "python",
   "pygments_lexer": "ipython3",
   "version": "3.10.12"
  }
 },
 "nbformat": 4,
 "nbformat_minor": 5
}
