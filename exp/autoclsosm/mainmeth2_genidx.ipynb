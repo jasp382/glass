{
 "cells": [
  {
   "cell_type": "markdown",
   "id": "a7e2b152-2d44-44c3-bac1-084d49e7dbd3",
   "metadata": {},
   "source": [
    "### Generate Several Indexes for any image in folder"
   ]
  },
  {
   "cell_type": "code",
   "execution_count": null,
   "id": "c4c20a14-d701-4505-bf31-71e10028e8a2",
   "metadata": {},
   "outputs": [],
   "source": [
    "folder = '/home/gisuser/autocls/imgs'\n",
    "out_folder = '/home/gisuser/autocls/idxs'\n",
    "\n",
    "iname = 'i_'\n",
    "oname = 'idx'"
   ]
  },
  {
   "cell_type": "code",
   "execution_count": null,
   "id": "0a2de418-15be-46c6-88b3-0dcecfca7aa7",
   "metadata": {},
   "outputs": [],
   "source": [
    "import os\n",
    "\n",
    "from glass.cons.sat import bandsmap\n",
    "from glass.pys.oss import lst_folders_subfiles, mkdir\n",
    "from glass.rst.sat.idx import calc_ndvi\n",
    "from glass.rst.sat.idx import calc_ndwi\n",
    "from glass.rst.sat.idx import calc_evi\n",
    "from glass.rst.sat.idx import calc_ndbi\n",
    "from glass.rst.sat.idx import calc_ndre\n",
    "from glass.rst.sat.idx import calc_ndsi\n",
    "from glass.rst.sat.idx import calc_ngrdi\n",
    "from glass.rst.sat.idx import calc_savi"
   ]
  },
  {
   "cell_type": "code",
   "execution_count": null,
   "id": "f84155c7-02e0-4566-99e1-96892ae99c20",
   "metadata": {},
   "outputs": [],
   "source": [
    "bandmap = bandsmap()"
   ]
  },
  {
   "cell_type": "code",
   "execution_count": null,
   "id": "a4dfdf94-a6ff-4fb0-b283-bc7d9e4444bc",
   "metadata": {},
   "outputs": [],
   "source": [
    "# List images folder\n",
    "imgs = lst_folders_subfiles(folder, filter_folder=iname, files_format='.tif')\n",
    "\n",
    "for f in imgs:\n",
    "    d = {}\n",
    "\n",
    "    for b in imgs[f]:\n",
    "        for k in bandmap:\n",
    "            if k in b:\n",
    "                d[bandmap[k]] = b\n",
    "                break\n",
    "\n",
    "    imgs[f] = d"
   ]
  },
  {
   "cell_type": "code",
   "execution_count": null,
   "id": "c80fe2aa-eade-482a-9a30-cf8faafc7b5d",
   "metadata": {},
   "outputs": [],
   "source": [
    "imgs"
   ]
  },
  {
   "cell_type": "code",
   "execution_count": null,
   "id": "f9602d20-d9a8-4b38-ac09-3eacc37e2d92",
   "metadata": {},
   "outputs": [],
   "source": [
    "# Calculate Indexes\n",
    "for img in imgs:\n",
    "    idxfld = mkdir(os.path.join(out_folder, f'{oname}_{img}'), overwrite=True)\n",
    "\n",
    "    # Calculate NDWI's\n",
    "    calc_ndwi(\n",
    "        imgs[img]['b02'], # green\n",
    "        imgs[img]['b08'], # nir\n",
    "        os.path.join(idxfld, f'ndwi_nir_{img}.tif')\n",
    "    )\n",
    "\n",
    "    calc_ndwi(\n",
    "        imgs[img]['b02'], # green\n",
    "        imgs[img]['b11'], # swir\n",
    "        os.path.join(idxfld, f'ndwi_swir_{img}.tif')\n",
    "    )\n",
    "\n",
    "    # Calculate NDVI\n",
    "    calc_ndvi(\n",
    "        imgs[img]['b08'], # nir,\n",
    "        imgs[img]['b04'], # red\n",
    "        os.path.join(idxfld, f'ndvi_{img}.tif')\n",
    "    )\n",
    "\n",
    "    # Calculate NDBI\n",
    "    calc_ndbi(\n",
    "        imgs[img]['b11'], # swir\n",
    "        imgs[img]['b08'], # nir,\n",
    "        os.path.join(idxfld, f'ndbi_{img}.tif')\n",
    "    )"
   ]
  },
  {
   "cell_type": "code",
   "execution_count": null,
   "id": "d0e08bd3-0166-441f-be34-a29c632d1ca1",
   "metadata": {},
   "outputs": [],
   "source": []
  }
 ],
 "metadata": {
  "kernelspec": {
   "display_name": "Python 3 (ipykernel)",
   "language": "python",
   "name": "python3"
  },
  "language_info": {
   "codemirror_mode": {
    "name": "ipython",
    "version": 3
   },
   "file_extension": ".py",
   "mimetype": "text/x-python",
   "name": "python",
   "nbconvert_exporter": "python",
   "pygments_lexer": "ipython3",
   "version": "3.10.12"
  }
 },
 "nbformat": 4,
 "nbformat_minor": 5
}
