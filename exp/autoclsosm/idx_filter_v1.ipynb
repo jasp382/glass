{
 "cells": [
  {
   "cell_type": "code",
   "execution_count": null,
   "id": "75aef42f-c3bb-431b-9fda-8acc08c7f114",
   "metadata": {
    "tags": []
   },
   "outputs": [],
   "source": [
    "lulc_rst = '/mnt/e/autocls01/dadosfrancisco/fidx/lulc_ref.tif'\n",
    "\n",
    "idx_rst = {\n",
    "    \"20220504\" : {\n",
    "        \"ndvi\" : '/mnt/e/autocls01/dadosfrancisco/fidx/ndvi_20220504.tif',\n",
    "        \"ndbi\" : '/mnt/e/autocls01/dadosfrancisco/fidx/ndbi_20220504.tif',\n",
    "        \"ndwi\" : '/mnt/e/autocls01/dadosfrancisco/fidx/ndwi_20220504.tif'\n",
    "    },\n",
    "    \"20220812\" : {\n",
    "        \"ndvi\" : '/mnt/e/autocls01/dadosfrancisco/fidx/ndvi_20220812.tif',\n",
    "        \"ndbi\" : '/mnt/e/autocls01/dadosfrancisco/fidx/ndbi_20220812.tif',\n",
    "        \"ndwi\" : '/mnt/e/autocls01/dadosfrancisco/fidx/ndwi_20220812.tif'\n",
    "    },\n",
    "    \"20221001\" : {\n",
    "        \"ndvi\" : '/mnt/e/autocls01/dadosfrancisco/fidx/ndvi_20221001.tif',\n",
    "        \"ndbi\" : '/mnt/e/autocls01/dadosfrancisco/fidx/ndbi_20221001.tif',\n",
    "        \"ndwi\" : '/mnt/e/autocls01/dadosfrancisco/fidx/ndwi_20221001.tif'\n",
    "    }\n",
    "}\n",
    "\n",
    "idx_rules = {\n",
    "    1 : {\n",
    "        \"ndbi\" : {'operator' : '>', 'value': 0, 'all' : None},\n",
    "        \"ndvi\" : {'operator' : '<', 'value': 0.3, 'all': True},\n",
    "        \"ndwi\" : {'operator' : '<', 'value': 0, 'all' : True}\n",
    "    },\n",
    "    2 : {\n",
    "        \"ndbi\" : None,\n",
    "        \"ndvi\" : {'operator' : '>', 'value': 0.3, 'all': True},\n",
    "        \"ndwi\" : {'operator' : '<', 'value': 0, 'all': True}\n",
    "    },\n",
    "    3 : {\n",
    "        \"ndbi\" : None,\n",
    "        \"ndvi\" : {'operator' : '>', 'value': 0.3, 'all': True},\n",
    "        \"ndwi\" : {'operator' : '<', 'value': 0, 'all': True}\n",
    "    },\n",
    "    4 : {\n",
    "        \"ndbi\" : None,\n",
    "        \"ndvi\" : {'operator' : '>', 'value': 0.3, 'all': True},\n",
    "        \"ndwi\" : {'operator' : '<', 'value': 0, 'all': True}\n",
    "    },\n",
    "    5 : {\n",
    "        \"ndbi\" : None,\n",
    "        \"ndvi\" : {'operator' : '>', 'value': 0.3, 'all': True},\n",
    "        \"ndwi\" : {'operator' : '<', 'value': 0, 'all': True}\n",
    "    },\n",
    "    6 : {\n",
    "        \"ndbi\" : None,\n",
    "        \"ndvi\" : {'operator' : '>', 'value': 0, 'all': None},\n",
    "        \"ndwi\" : {'operator' : '<', 'value': 0, 'all': None}\n",
    "    },\n",
    "    7 : {\n",
    "        \"ndbi\" : None,\n",
    "        \"ndvi\" : {'operator' : '>', 'value': 0, 'all': None},\n",
    "        \"ndwi\" : {'operator' : '<', 'value': 0, 'all': None}\n",
    "    },\n",
    "    8 : {\n",
    "        \"ndbi\" : None,\n",
    "        \"ndvi\" : {'operator' : '<', 'value': 0.3, 'all': None},\n",
    "        \"ndwi\" : {'operator' : '>', 'value': 0, 'all': True}\n",
    "    }\n",
    "}\n",
    "\n",
    "fraster= '/mnt/e/autocls01/dadosfrancisco/fidx_res/lulc_filter.tif'"
   ]
  },
  {
   "cell_type": "code",
   "execution_count": null,
   "id": "e6664d67-84c5-433c-89bf-8073f8f14007",
   "metadata": {
    "tags": []
   },
   "outputs": [],
   "source": [
    "import os\n",
    "from osgeo import gdal\n",
    "import numpy as np\n",
    "from glass.rd.rst import rst_to_array\n",
    "from glass.prop.rst import get_nodata\n",
    "from glass.pys.oss import lst_ff, fprop\n",
    "from glass.wenv.grs import run_grass\n",
    "from glass.pys.tm import now_as_str"
   ]
  },
  {
   "cell_type": "code",
   "execution_count": null,
   "id": "4771f886-cf65-4508-b797-f430535ebe37",
   "metadata": {
    "tags": []
   },
   "outputs": [],
   "source": [
    "# Check if outfolder exists\n",
    "out_folder = os.path.dirname(fraster)\n",
    "if not os.path.exists(out_folder):\n",
    "    mkdir(out_folder, overwrite=None)\n",
    "    \n",
    "\"\"\"\n",
    "Start GRASS GIS Session\n",
    "\"\"\"\n",
    "\n",
    "loc = f'loc_{now_as_str()}'\n",
    "grsb = run_grass(\n",
    "    out_folder, grassBIN='grass78', location=loc,\n",
    "    srs=lulc_rst\n",
    "    )\n",
    "\n",
    "import grass.script.setup as gsetup\n",
    "    \n",
    "gsetup.init(grsb, out_folder, loc, 'PERMANENT')"
   ]
  },
  {
   "cell_type": "code",
   "execution_count": null,
   "id": "9cadc0a7-8219-47a8-9318-d964541dfcd6",
   "metadata": {
    "tags": []
   },
   "outputs": [],
   "source": [
    "from glass.it.rst import rst_to_grs, grs_to_rst\n",
    "from grass.pygrass.modules import Module"
   ]
  },
  {
   "cell_type": "code",
   "execution_count": null,
   "id": "29554cb7-9697-4fbe-b72d-7a7fa61f7abe",
   "metadata": {
    "tags": []
   },
   "outputs": [],
   "source": [
    "# Identificar classes existentes no raster com as classes de LULC\n",
    "\n",
    "lulc_img = rst_to_array(lulc_rst)\n",
    "\n",
    "ndval = get_nodata(lulc_rst)\n",
    "\n",
    "lulc_class = [v for v in np.unique(lulc_img) if v != ndval]"
   ]
  },
  {
   "cell_type": "code",
   "execution_count": null,
   "id": "e636ef2b-c0d6-407a-8405-fa45c0a5da27",
   "metadata": {
    "tags": []
   },
   "outputs": [],
   "source": [
    "# Send all rasters to GRASS GIS\n",
    "\n",
    "lulc_grs = rst_to_grs(lulc_rst, fprop(lulc_rst, 'fn'))\n",
    "\n",
    "for d in idx_rst:\n",
    "    for k in idx_rst[d]:\n",
    "        idx_rst[d][k] = rst_to_grs(idx_rst[d][k], fprop(idx_rst[d][k], 'fn'))"
   ]
  },
  {
   "cell_type": "markdown",
   "id": "6d121621-b8eb-44e9-9245-02278b7a166c",
   "metadata": {},
   "source": [
    "Para cada classe, índice e data, criar um ficheiro que indica se o pixel deve ser considerado para treino (1) ou não (0)"
   ]
  },
  {
   "cell_type": "code",
   "execution_count": null,
   "id": "88578ac6-5025-4717-9d14-f60e8f70c2da",
   "metadata": {
    "tags": []
   },
   "outputs": [],
   "source": [
    "mask_by_class_day_idx = {}\n",
    "\n",
    "for cls in lulc_class:\n",
    "    mask_by_class_day_idx[cls] = {}\n",
    "    for d in idx_rst:\n",
    "        mask_by_class_day_idx[cls][d] = {}\n",
    "        for k in idx_rst[d]:\n",
    "            if not idx_rules[cls][k]: continue\n",
    "            \n",
    "            form = (\n",
    "                f\"if({lulc_grs} == {str(cls)} && \"\n",
    "                f\"{idx_rst[d][k]} {idx_rules[cls][k]['operator']} \"\n",
    "                f\"{idx_rules[cls][k]['value']}, 1, 0)\"\n",
    "            )\n",
    "            \n",
    "            outmask = f'mask_{cls}_{k}_{d}'\n",
    "            rc = Module ('r.mapcalc', expression=f'{outmask} = {form}')\n",
    "            \n",
    "            mask_by_class_day_idx[cls][d][k] = outmask\n",
    "            \n",
    "            grs_to_rst(outmask, os.path.join(\n",
    "                os.path.dirname(fraster),\n",
    "                f'{outmask}.tif'\n",
    "            ), rtype=int)"
   ]
  },
  {
   "cell_type": "markdown",
   "id": "493a82af-f603-4ffa-9078-2a325a6e191f",
   "metadata": {},
   "source": [
    "Para cada classe e índice, criar um ficheiro que indica se o pixel deve ser incluído no treino (1) ou não (0), tendo em conta as várias máscaras obtidas para essa classe e índice em cada uma das datas consideradas"
   ]
  },
  {
   "cell_type": "code",
   "execution_count": null,
   "id": "e8d99772-5706-40ae-813b-1cf0ef86f6c0",
   "metadata": {},
   "outputs": [],
   "source": [
    "cls_masks = {}\n",
    "\n",
    "for cls in mask_by_class_day_idx:\n",
    "    cls_masks[cls] = {}\n",
    "    \n",
    "    for d in mask_by_class_day_idx[cls]:\n",
    "        for idx in mask_by_class_day_idx[cls][d]:\n",
    "            if idx not in cls_masks[cls]:\n",
    "                cls_masks[cls][idx] = []\n",
    "            \n",
    "            cls_masks[cls][idx].append(mask_by_class_day_idx[cls][d][idx])"
   ]
  },
  {
   "cell_type": "code",
   "execution_count": null,
   "id": "ec960803-c38e-4d76-9d98-924d51fc81f7",
   "metadata": {},
   "outputs": [],
   "source": [
    "cls_masks"
   ]
  },
  {
   "cell_type": "code",
   "execution_count": null,
   "id": "aadfb561-8acc-4a0d-b75b-4204d43511ea",
   "metadata": {},
   "outputs": [],
   "source": [
    "for cls in cls_masks:\n",
    "    for idx in cls_masks[cls]:\n",
    "        ifr = [f\"{r} == 1\" for r in cls_masks[cls][idx]]\n",
    "        if idx_rules[cls][idx]['all']:\n",
    "            \n",
    "            _if = \" && \".join(ifr)\n",
    "        \n",
    "        else:\n",
    "            _if = \" || \".join(ifr)\n",
    "        \n",
    "        exp = f\"if({_if}, 1, 0)\"\n",
    "        \n",
    "        omask = f'clsidxmask_{cls}_{idx}'\n",
    "        rc = Module('r.mapcalc', expression=f'{omask} = {exp}')\n",
    "        \n",
    "        cls_masks[cls][idx] = omask"
   ]
  },
  {
   "cell_type": "code",
   "execution_count": null,
   "id": "006e6042-ae43-4497-a34b-e9e1084a4e88",
   "metadata": {},
   "outputs": [],
   "source": [
    "cls_masks"
   ]
  },
  {
   "cell_type": "markdown",
   "id": "88d6a4cf-cb15-49c2-9981-482eef2555ce",
   "metadata": {},
   "source": [
    "Obter máscara binária final para cada classe"
   ]
  },
  {
   "cell_type": "code",
   "execution_count": null,
   "id": "a463b8ec-aeef-4b1f-8b21-25ec3d5ddc19",
   "metadata": {
    "tags": []
   },
   "outputs": [],
   "source": [
    "for cls in cls_masks:\n",
    "    ifr = [f\"{cls_masks[cls][idx]} == 1\" for idx in cls_masks[cls]]\n",
    "    \n",
    "    exp = f\"if({' && '.join(ifr)}, 1, 0)\"\n",
    "    \n",
    "    om = f\"clsmask_{cls}\"\n",
    "    rc = Module('r.mapcalc', expression=f'{om} = {exp}')\n",
    "    \n",
    "    cls_masks[cls] = om"
   ]
  },
  {
   "cell_type": "code",
   "execution_count": null,
   "id": "14c40e98-fa88-4bc3-9655-09002ee087cd",
   "metadata": {
    "tags": []
   },
   "outputs": [],
   "source": [
    "cls_masks"
   ]
  },
  {
   "cell_type": "markdown",
   "id": "f1ca4c81-3456-4a50-b748-6b5f4fc153cc",
   "metadata": {},
   "source": [
    "Obter ficheiro que indica as classes a considerar no treino - neste raster, o valor 0 indica que o pixel não deve ser considerado no treino."
   ]
  },
  {
   "cell_type": "code",
   "execution_count": null,
   "id": "626db2a1-835d-407c-8369-8c274955db09",
   "metadata": {
    "tags": []
   },
   "outputs": [],
   "source": [
    "ifs = []\n",
    "\n",
    "for c in cls_masks:\n",
    "    exp = (\n",
    "        f\"if({cls_masks[c]} == 1, \"\n",
    "        f\"{str(c)}, \"\n",
    "        f\"{'0' if not len(ifs) else ifs[len(ifs)-1]})\"\n",
    "    )\n",
    "    \n",
    "    ifs.append(exp)"
   ]
  },
  {
   "cell_type": "code",
   "execution_count": null,
   "id": "89250596-5272-463f-9287-7923d3d761b5",
   "metadata": {},
   "outputs": [],
   "source": [
    "ifs[-1]"
   ]
  },
  {
   "cell_type": "code",
   "execution_count": null,
   "id": "3688b1df-3743-4d71-9f6d-7262d792a444",
   "metadata": {},
   "outputs": [],
   "source": []
  }
 ],
 "metadata": {
  "kernelspec": {
   "display_name": "Python 3 (ipykernel)",
   "language": "python",
   "name": "python3"
  },
  "language_info": {
   "codemirror_mode": {
    "name": "ipython",
    "version": 3
   },
   "file_extension": ".py",
   "mimetype": "text/x-python",
   "name": "python",
   "nbconvert_exporter": "python",
   "pygments_lexer": "ipython3",
   "version": "3.10.12"
  }
 },
 "nbformat": 4,
 "nbformat_minor": 5
}
