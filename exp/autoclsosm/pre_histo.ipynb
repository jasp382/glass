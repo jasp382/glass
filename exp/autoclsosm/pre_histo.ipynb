{
 "cells": [
  {
   "cell_type": "markdown",
   "id": "6f49765c-1041-49af-bf1a-6efbab69a5aa",
   "metadata": {},
   "source": [
    "### Pre-processing data for histogram"
   ]
  },
  {
   "cell_type": "code",
   "execution_count": 1,
   "id": "faf7d6c6-f3bf-4fb9-a2ad-2ee423dd9bb5",
   "metadata": {},
   "outputs": [],
   "source": [
    "shp = '/home/jakim/autocls/pureobj.shp'\n",
    "\n",
    "lulc_col = 'idclcplus'\n",
    "\n",
    "idxs_folder = '/mnt/d/autocls/sat_s2_cmb18'\n",
    "\n",
    "ofolder = '/home/jakim/autocls/rsthisto'"
   ]
  },
  {
   "cell_type": "code",
   "execution_count": 2,
   "id": "dcb361d4-5e3a-4697-95fb-cf481ee345ed",
   "metadata": {},
   "outputs": [],
   "source": [
    "import pandas as pd\n",
    "import os\n",
    "\n",
    "from glass.rd.shp import shp_to_obj\n",
    "from glass.pys.oss import lst_folders_subfiles, lst_ff, fprop, mkdir\n",
    "from glass.pys.tm import now_as_str\n",
    "from glass.rst.confmtx import bin_confmxt_fmrst\n",
    "from glass.wt import obj_to_tbl\n",
    "from glass.dtt.split import split_shp_by_attr\n",
    "from glass.wenv.grs import run_grass"
   ]
  },
  {
   "cell_type": "code",
   "execution_count": 3,
   "id": "5f144360-79f7-429e-8a43-3c5353688783",
   "metadata": {},
   "outputs": [],
   "source": [
    "# List images folder\n",
    "imgs = lst_folders_subfiles(idxs_folder, files_format='.tif')\n",
    "\n",
    "ikeys = list(imgs.keys())\n",
    "refrst = imgs[ikeys[0]][0]"
   ]
  },
  {
   "cell_type": "code",
   "execution_count": 4,
   "id": "b9b83fd1-d91b-48e4-8640-5a8760f18bb2",
   "metadata": {},
   "outputs": [],
   "source": [
    "# Create Workspace\n",
    "ws = mkdir(os.path.join(os.path.dirname(shp), now_as_str()), overwrite=True)"
   ]
  },
  {
   "cell_type": "code",
   "execution_count": 5,
   "id": "adda0af9-45ab-466d-af53-e9c21ecd99ff",
   "metadata": {},
   "outputs": [],
   "source": [
    "# Split Shapefile\n",
    "gpkg = os.path.join(ws, 'pureobj.gpkg')\n",
    "shps = split_shp_by_attr(\n",
    "    shp, lulc_col, ws, _format='.gpkg',\n",
    "    outname='pureobj', valinname=True\n",
    ")"
   ]
  },
  {
   "cell_type": "code",
   "execution_count": 6,
   "id": "71f0cd0b-8fb7-475a-8247-6c702be451bf",
   "metadata": {},
   "outputs": [
    {
     "data": {
      "text/plain": [
       "'/tmp/tmp4640p5kk'"
      ]
     },
     "execution_count": 6,
     "metadata": {},
     "output_type": "execute_result"
    }
   ],
   "source": [
    "# Create GRASS GIS Session\n",
    "loc = 'loc_histo'\n",
    "\n",
    "gs = run_grass(ws, location=loc, srs=refrst)\n",
    "\n",
    "import grass.script.setup as gsetup\n",
    "gsetup.init(gs, ws, loc, 'PERMANENT')"
   ]
  },
  {
   "cell_type": "code",
   "execution_count": 7,
   "id": "49126cb7-12d4-4dca-b82d-691c2793e15f",
   "metadata": {},
   "outputs": [],
   "source": [
    "from glass.it.shp import shp_to_grs\n",
    "from glass.it.rst import rst_to_grs, grs_to_rst\n",
    "from glass.dtt.torst import grsshp_to_grsrst\n",
    "from glass.rst.alg import grsrstcalc"
   ]
  },
  {
   "cell_type": "code",
   "execution_count": 8,
   "id": "7fbd0f22-691d-4058-a665-be8267dd6089",
   "metadata": {},
   "outputs": [],
   "source": [
    "for c in shps:\n",
    "    shp_to_grs(gpkg, lyrname=shps[c], asCMD=True)\n",
    "\n",
    "    shps[c] = grsshp_to_grsrst(shps[c], 1, f\"rst_{shps[c]}\")"
   ]
  },
  {
   "cell_type": "code",
   "execution_count": 9,
   "id": "973c3086-24dc-4539-9be6-ab99afd5ce0e",
   "metadata": {},
   "outputs": [],
   "source": [
    "# Import all rasters\n",
    "for day in imgs:\n",
    "    for i in range(len(imgs[day])):\n",
    "        imgs[day][i] = rst_to_grs(imgs[day][i])"
   ]
  },
  {
   "cell_type": "code",
   "execution_count": 10,
   "id": "9fa04f0d-a25a-4b5e-a943-c5ff1850ca3e",
   "metadata": {},
   "outputs": [],
   "source": [
    "# Filter IDX by class and export\n",
    "for cls in shps:\n",
    "    for day in imgs:\n",
    "        for r in imgs[day]:\n",
    "            frst = grsrstcalc(f\"{shps[cls]} * {r}\", f\"c{str(cls)}_{r}\")\n",
    "            grs_to_rst(frst, os.path.join(\n",
    "                ofolder, f'{frst}.tif'\n",
    "            ), as_cmd=True, is_int=None)"
   ]
  },
  {
   "cell_type": "code",
   "execution_count": null,
   "id": "ae0848e4-e370-439a-9851-9fae49ddce29",
   "metadata": {},
   "outputs": [],
   "source": []
  }
 ],
 "metadata": {
  "kernelspec": {
   "display_name": "Python 3 (ipykernel)",
   "language": "python",
   "name": "python3"
  },
  "language_info": {
   "codemirror_mode": {
    "name": "ipython",
    "version": 3
   },
   "file_extension": ".py",
   "mimetype": "text/x-python",
   "name": "python",
   "nbconvert_exporter": "python",
   "pygments_lexer": "ipython3",
   "version": "3.10.6"
  }
 },
 "nbformat": 4,
 "nbformat_minor": 5
}
