{
 "cells": [
  {
   "cell_type": "code",
   "execution_count": 2,
   "id": "d9387c4c-9991-4425-94b4-e97d7a190148",
   "metadata": {},
   "outputs": [],
   "source": [
    "import numpy as np\n",
    "\n",
    "from sklearn.cluster import MeanShift, estimate_bandwidth\n",
    "from sklearn.datasets import make_blobs"
   ]
  },
  {
   "cell_type": "code",
   "execution_count": 3,
   "id": "769b901e-e258-4a89-97bc-b2113a94168e",
   "metadata": {},
   "outputs": [],
   "source": [
    "centers = [[1, 1], [-1, -1], [1, -1]]\n",
    "X, _ = make_blobs(n_samples=10000, centers=centers, cluster_std=0.6)"
   ]
  },
  {
   "cell_type": "code",
   "execution_count": 4,
   "id": "db41cff2-c69b-40cc-9238-15678a9941c7",
   "metadata": {},
   "outputs": [
    {
     "data": {
      "text/plain": [
       "array([[-2.09464611, -1.90728187],\n",
       "       [-0.90305654, -1.39493784],\n",
       "       [ 1.75772133,  0.9421019 ],\n",
       "       ...,\n",
       "       [ 1.25964749, -1.49247706],\n",
       "       [-0.84508794, -1.03243938],\n",
       "       [-1.93231263, -0.81648717]])"
      ]
     },
     "execution_count": 4,
     "metadata": {},
     "output_type": "execute_result"
    }
   ],
   "source": [
    "X"
   ]
  },
  {
   "cell_type": "code",
   "execution_count": null,
   "id": "e37d211c-89d4-43c1-9880-509fc8d95f16",
   "metadata": {},
   "outputs": [],
   "source": []
  }
 ],
 "metadata": {
  "kernelspec": {
   "display_name": "Python 3 (ipykernel)",
   "language": "python",
   "name": "python3"
  },
  "language_info": {
   "codemirror_mode": {
    "name": "ipython",
    "version": 3
   },
   "file_extension": ".py",
   "mimetype": "text/x-python",
   "name": "python",
   "nbconvert_exporter": "python",
   "pygments_lexer": "ipython3",
   "version": "3.10.12"
  }
 },
 "nbformat": 4,
 "nbformat_minor": 5
}
