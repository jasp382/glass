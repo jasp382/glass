{
 "cells": [
  {
   "cell_type": "markdown",
   "id": "0955496d-944f-45db-9072-a834477cac73",
   "metadata": {},
   "source": [
    "### Remove mixed pixels"
   ]
  },
  {
   "cell_type": "code",
   "execution_count": null,
   "id": "79a9d381-091b-40ec-9b5c-925f0066a626",
   "metadata": {},
   "outputs": [],
   "source": [
    "osmlulc = '/home/gisuser/autocls/osmtolc_res.gpkg'\n",
    "\n",
    "osmlyr = 'osmlc_lisbon_harm'\n",
    "\n",
    "lulc_col = 'idclcp'\n",
    "\n",
    "refimg = '/home/gisuser/autocls/T29SMC_20180818T112111_B02_10m.tif'\n",
    "\n",
    "out = '/home/gisuser/autocls/osmlc_lisbon_nomixpx.tif'"
   ]
  },
  {
   "cell_type": "code",
   "execution_count": null,
   "id": "f6e47e2a-2da8-4bd8-8d97-1ed180a4bc87",
   "metadata": {},
   "outputs": [],
   "source": [
    "import os\n",
    "import datetime as dt\n",
    "from glass.dtt.rst.toshp import rst_to_polyg\n",
    "from glass.gp.ovl.grs    import grsunion\n",
    "from glass.pys.oss import fprop\n",
    "from glass.wenv.grs import run_grass\n",
    "from glass.pys.tm import now_as_str\n",
    "from glass.it.shp import shp_to_grs, grs_to_shp\n",
    "from glass.it.rst import rst_to_grs, grs_to_rst\n",
    "from glass.rst.rcls import onlydata_rules\n",
    "from glass.rst.rcls import rcls_rst\n",
    "from glass.dtt.split import split_shp_by_attr\n",
    "from glass.dtt.cg.grs import v_to_lines\n",
    "from glass.sql.db import create_pgdb\n",
    "from glass.it.db import shp_to_psql\n",
    "from glass.sql.q import q_to_ntbl\n",
    "from glass.it.shp import dbtbl_to_shp\n",
    "from glass.dtt.cg.sql import polyg_to_lines\n",
    "from glass.prop.prj import get_epsg, shp_epsg\n",
    "from glass.dtt.torst import grsshp_to_grsrst\n",
    "from glass.rst.rcls import null_to_value, set_null\n",
    "from glass.dtt.torst import shp_to_rst\n",
    "from glass.prj import proj\n",
    "from glass.rst.alg import grsrstcalc\n",
    "from glass.rst.mos import rsts_to_mosaic"
   ]
  },
  {
   "cell_type": "code",
   "execution_count": null,
   "id": "83a82f3a-9fb7-4e08-9e0c-b8eed52f96e2",
   "metadata": {},
   "outputs": [],
   "source": [
    "# Setup workspace and GRASS GIS Session\n",
    "# Check if outfolder exists\n",
    "ws = os.path.dirname(out)\n",
    "if not os.path.exists(ws):\n",
    "    mkdir(ws, overwrite=None)\n",
    "\n",
    "\"\"\"\n",
    "Start GRASS GIS Session\n",
    "\"\"\"\n",
    "\n",
    "loc = f'loc_{now_as_str()}'\n",
    "grsb = run_grass(\n",
    "    ws, grassBIN='grass78', location=loc,\n",
    "    srs=refimg\n",
    ")\n",
    "\n",
    "import grass.script.setup as gsetup\n",
    "    \n",
    "gsetup.init(grsb, ws, loc, 'PERMANENT')"
   ]
  },
  {
   "cell_type": "code",
   "execution_count": null,
   "id": "7f59b36d-f802-4998-9ed3-23a531b0a331",
   "metadata": {},
   "outputs": [],
   "source": [
    "# Temp Geopackage\n",
    "tmpgpkg = os.path.join(ws, loc, 'tmpdata.gpkg')"
   ]
  },
  {
   "cell_type": "code",
   "execution_count": null,
   "id": "5591710c-bfb6-4841-9bf5-6f2d5e9ebc82",
   "metadata": {},
   "outputs": [],
   "source": [
    "iepsg = shp_epsg(osmlulc, lyrname=osmlyr)\n",
    "oepsg = get_epsg(refimg)\n",
    "\n",
    "# Re-project data if necessary\n",
    "if iepsg != oepsg:\n",
    "    osmlulc = proj(\n",
    "        osmlulc, tmpgpkg, oepsg, inEPSG=iepsg,\n",
    "        api=\"ogr2ogr\", ilyr=osmlyr, olyr=osmlyr\n",
    "    )"
   ]
  },
  {
   "cell_type": "code",
   "execution_count": null,
   "id": "ef080895-d9c4-41c0-99bb-092ea7cbf5a1",
   "metadata": {},
   "outputs": [],
   "source": [
    "# Create DB\n",
    "time_a = dt.datetime.now().replace(microsecond=0)\n",
    "db = create_pgdb(fprop(out, 'fn'), overwrite=True)"
   ]
  },
  {
   "cell_type": "code",
   "execution_count": null,
   "id": "5d514df0-c6ef-41ce-a7c7-17fe2927a31d",
   "metadata": {},
   "outputs": [],
   "source": [
    "# Send data to the database\n",
    "geotbl = shp_to_psql(db, osmlulc, api='ogr2ogr', lyrname={osmlulc: osmlyr})\n",
    "\n",
    "# Transform polygons into lines\n",
    "linelyr = 'lulc_lines'\n",
    "linetbl = polyg_to_lines(\n",
    "    db, geotbl, 'geom', tmpgpkg,\n",
    "    out_is_file=True, olyr='lulc_lines'\n",
    ")"
   ]
  },
  {
   "cell_type": "code",
   "execution_count": null,
   "id": "7a9cfc0d-82cb-4437-8fcd-bf77edd11fa2",
   "metadata": {},
   "outputs": [],
   "source": [
    "# Add data to GRASS GIS\n",
    "grslnh = shp_to_grs(linetbl, lyrname=linelyr, asCMD=True)\n",
    "grsimg = rst_to_grs(refimg, as_cmd=True)\n",
    "\n",
    "time_b = dt.datetime.now().replace(microsecond=0)\n",
    "\n",
    "print(time_b - time_a)"
   ]
  },
  {
   "cell_type": "code",
   "execution_count": null,
   "id": "3bae6c75-c3af-40c5-a3ea-a632740d0378",
   "metadata": {},
   "outputs": [],
   "source": [
    "# LULC Classes to Raster\n",
    "\n",
    "# First, each class to a new layer\n",
    "lclyrs = split_shp_by_attr(\n",
    "    osmlulc, lulc_col,\n",
    "    tmpgpkg, ilyr=osmlyr, outname='lulc',\n",
    "    valinname=True\n",
    ")\n",
    "\n",
    "# Second convert each layer to raster\n",
    "for shp in lclyrs:\n",
    "    lclyrs[shp] = shp_to_rst(\n",
    "        tmpgpkg, 1, 10, 0,\n",
    "        os.path.join(ws, loc, f'rst_lulc_{shp}.tif'),\n",
    "        rst_template=refimg, lyrname=lclyrs[shp],\n",
    "        api='gdal', rtype=int, dtype='Byte'\n",
    "    )"
   ]
  },
  {
   "cell_type": "code",
   "execution_count": null,
   "id": "87b8c238-ff8f-4ffb-9bb3-1dda476e3cab",
   "metadata": {},
   "outputs": [],
   "source": [
    "lclyrs"
   ]
  },
  {
   "cell_type": "code",
   "execution_count": null,
   "id": "96c6444e-fab9-4f12-a993-2c27b06540f2",
   "metadata": {},
   "outputs": [],
   "source": [
    "# Lines to Raster\n",
    "lnhrst = grsshp_to_grsrst(grslnh, 1, 'rstlines', cmd=True)\n",
    "\n",
    "null_to_value(lnhrst, 0, as_cmd=True)\n",
    "set_null(lnhrst, 1, ascmd=True)"
   ]
  },
  {
   "cell_type": "code",
   "execution_count": null,
   "id": "dda3f576-0c88-4c3c-af9d-583a99cc08e4",
   "metadata": {},
   "outputs": [],
   "source": [
    "# For each class\n",
    "# Add it to GRASS GIS\n",
    "# Remove Mixed cells\n",
    "\n",
    "# Reclassify: class present = 1; ausence=0\n",
    "for cls in lclyrs:\n",
    "    lclyrs[cls] = rst_to_grs(lclyrs[cls], as_cmd=True)\n",
    "\n",
    "    lclyrs[cls] = grsrstcalc(f\"{lclyrs[cls]} + {lnhrst}\", f\"{lclyrs[cls]}_v1\")\n",
    "\n",
    "    null_to_value(lclyrs[cls], 0, as_cmd=True)\n",
    "\n",
    "# Sum all class rasters to know were we have\n",
    "# cells with more than one class\n",
    "sumrst = grsrstcalc(\" + \".join(list(lclyrs.values())), 'overlaycells')\n",
    "fcells = grsrstcalc(f\"if({sumrst} > 1, null(), 0)\", 'cellsmantain')\n",
    "\n",
    "# For each class, remove cells with more than one class\n",
    "for cls in lclyrs:\n",
    "    set_null(lclyrs[cls], 0, ascmd=True)\n",
    "    lclyrs[cls] = grsrstcalc(\n",
    "        f\"{lclyrs[cls]} + {fcells} + {cls} - 1\",\n",
    "        f\"{lclyrs[cls]}_v2\"\n",
    "    )\n",
    "\n",
    "# Create final raster\n",
    "frst = rsts_to_mosaic(list(lclyrs.values()), fprop(out, 'fn'))"
   ]
  },
  {
   "cell_type": "code",
   "execution_count": null,
   "id": "7e40ecbb-1db0-42e2-a2df-1668d37c1a80",
   "metadata": {},
   "outputs": [],
   "source": [
    "# Export final result\n",
    "grs_to_rst(frst, out, as_cmd=False, rtype=int, dtype='UInt16', nodata=0)"
   ]
  },
  {
   "cell_type": "code",
   "execution_count": null,
   "id": "63d723ae-dc17-419e-8b74-5495e18dc4aa",
   "metadata": {},
   "outputs": [],
   "source": []
  }
 ],
 "metadata": {
  "kernelspec": {
   "display_name": "Python 3 (ipykernel)",
   "language": "python",
   "name": "python3"
  },
  "language_info": {
   "codemirror_mode": {
    "name": "ipython",
    "version": 3
   },
   "file_extension": ".py",
   "mimetype": "text/x-python",
   "name": "python",
   "nbconvert_exporter": "python",
   "pygments_lexer": "ipython3",
   "version": "3.10.12"
  }
 },
 "nbformat": 4,
 "nbformat_minor": 5
}
