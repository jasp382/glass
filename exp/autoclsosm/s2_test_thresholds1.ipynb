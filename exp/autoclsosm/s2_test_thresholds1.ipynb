{
 "cells": [
  {
   "cell_type": "code",
   "execution_count": null,
   "id": "28c8fa5f-56bc-43bd-8001-d0f0f506951a",
   "metadata": {},
   "outputs": [],
   "source": [
    "ishp = '/mnt/d/autocls/pureobj.shp'\n",
    "\n",
    "lulc_col = 'idclcplus'\n",
    "\n",
    "folder = '/mnt/d/autocls/sat_s2_cmb18'\n",
    "\n",
    "out_ref = '/mnt/d/autocls/thresholdstst/ref'\n",
    "\n",
    "out_cls = '/mnt/d/autocls/thresholdstst'\n",
    "\n",
    "iname = 'idx_i_'\n",
    "\n",
    "thresholds = [(i + 1) / 10 for i in range(-10, 9)]"
   ]
  },
  {
   "cell_type": "code",
   "execution_count": null,
   "id": "68bfeabf-5e4f-4b18-a157-de801d6b5d53",
   "metadata": {},
   "outputs": [],
   "source": [
    "import os\n",
    "\n",
    "from glass.pys.oss import lst_folders_subfiles, mkdir, fprop\n",
    "from glass.rd.shp import shp_to_obj\n",
    "from glass.wenv.grs import run_grass\n",
    "from glass.pys.tm import now_as_str"
   ]
  },
  {
   "cell_type": "code",
   "execution_count": null,
   "id": "0d18d671-f2de-48ac-aab6-5ee5865bddc5",
   "metadata": {},
   "outputs": [],
   "source": [
    "# List images folder\n",
    "imgs = lst_folders_subfiles(folder, filter_folder=iname, files_format='.tif')\n",
    "\n",
    "ikeys = list(imgs.keys())\n",
    "refrst = imgs[ikeys[0]][0]"
   ]
  },
  {
   "cell_type": "code",
   "execution_count": null,
   "id": "8e6fc200-3c6c-4e8b-8e0e-0b6ed1e906a6",
   "metadata": {},
   "outputs": [],
   "source": [
    "refrst"
   ]
  },
  {
   "cell_type": "code",
   "execution_count": null,
   "id": "bb4e7f82-35dd-4724-85e7-2e6a3ee45e71",
   "metadata": {},
   "outputs": [],
   "source": [
    "shpdf = shp_to_obj(ishp)\n",
    "\n",
    "# Get classes\n",
    "lulcs = list(shpdf[lulc_col].unique())"
   ]
  },
  {
   "cell_type": "code",
   "execution_count": null,
   "id": "2b80075f-76f5-4851-b520-10134e14dd6a",
   "metadata": {},
   "outputs": [],
   "source": [
    "# Create GRASS GIS\n",
    "loc = now_as_str()\n",
    "\n",
    "gs = run_grass(folder, location=loc, srs=refrst)\n",
    "\n",
    "import grass.script.setup as gsetup\n",
    "gsetup.init(gs, folder, loc, 'PERMANENT')"
   ]
  },
  {
   "cell_type": "code",
   "execution_count": null,
   "id": "2458680f-3d96-4050-8978-fa611bd8f35c",
   "metadata": {},
   "outputs": [],
   "source": [
    "from glass.it.shp import shp_to_grs\n",
    "from glass.it.rst import rst_to_grs, grs_to_mask, grs_to_rst\n",
    "from glass.dtt.torst import grsshp_to_grsrst\n",
    "from glass.rst.alg import grsrstcalc"
   ]
  },
  {
   "cell_type": "code",
   "execution_count": null,
   "id": "6bd2bcc8-86c7-44ae-8f1b-6e0e77af208e",
   "metadata": {},
   "outputs": [],
   "source": [
    "# Send LULC Shapefiled to GRASS GIS\n",
    "gshp = shp_to_grs(ishp, asCMD=True)\n",
    "\n",
    "# LULC Shapefile to Raster\n",
    "lulc_rst = grsshp_to_grsrst(\n",
    "    gshp, lulc_col,\n",
    "    f\"rst_{gshp}\"\n",
    ")\n",
    "\n",
    "# Get Mask\n",
    "maskrst = grsrstcalc(f\"({lulc_rst} * 0) + 1\", 'lulcmask', ascmd=True)\n",
    "\n",
    "# Create Mask\n",
    "grs_to_mask(maskrst, overwrite=True)"
   ]
  },
  {
   "cell_type": "markdown",
   "id": "d783f8a4-dc2f-4835-a53f-a23679dbf002",
   "metadata": {},
   "source": [
    "```Python\n",
    "trst = {\n",
    "    'idx_i_20180130' : [\n",
    "        {\n",
    "            -0.9 : {'pos' : 'rastername', 'neg': 'rastername'},\n",
    "            -0.8 : {'pos' : 'rastername', 'neg': 'rastername'},\n",
    "            ...\n",
    "        }\n",
    "    ],\n",
    "    'idx_i_201805005' : [\n",
    "        {\n",
    "            -0.9 : {'pos' : 'rastername', 'neg': 'rastername'},\n",
    "            -0.8 : {'pos' : 'rastername', 'neg': 'rastername'},\n",
    "            ...\n",
    "        }\n",
    "    ],\n",
    "    ...\n",
    "}\n",
    "```"
   ]
  },
  {
   "cell_type": "code",
   "execution_count": null,
   "id": "adae128f-71e0-4a8d-bdcd-37207b2f1459",
   "metadata": {},
   "outputs": [],
   "source": [
    "# Add Indexes rasters To GRASS\n",
    "# And Create thresholds rasters\n",
    "\n",
    "trst = {}\n",
    "for k in imgs:\n",
    "    trst[k] = []\n",
    "    for i in range(len(imgs[k])):\n",
    "        imgs[k][i] = rst_to_grs(imgs[k][i])\n",
    "\n",
    "        td = {}\n",
    "\n",
    "        _out = mkdir(os.path.join(out_cls, f\"{fprop(imgs[k][i], 'fn')}\"), overwrite=True)\n",
    "\n",
    "        for thl in thresholds:          \n",
    "            td[thl] = {}\n",
    "\n",
    "            _thl = str(thl).replace('-', 'n').replace('.', '')\n",
    "            \n",
    "            td[thl]['pos'] = grsrstcalc(\n",
    "                f\"if({imgs[k][i]} >= {str(thl)}, 1, 0)\",\n",
    "                f\"{imgs[k][i]}_pos_{str(_thl)}\"\n",
    "            )\n",
    "            td[thl]['neg'] = grsrstcalc(\n",
    "                f\"if({imgs[k][i]} < {str(thl)}, 1, 0)\",\n",
    "                f\"{imgs[k][i]}_neg_{str(_thl)}\"\n",
    "            )\n",
    "\n",
    "            td[thl]['pos'] = grs_to_rst(\n",
    "                td[thl]['pos'],\n",
    "                os.path.join(_out, f\"{td[thl]['pos']}.tif\"),\n",
    "                rtype=int\n",
    "            )\n",
    "\n",
    "            td[thl]['neg'] = grs_to_rst(\n",
    "                td[thl]['neg'],\n",
    "                os.path.join(_out, f\"{td[thl]['neg']}.tif\"),\n",
    "                rtype=int\n",
    "            )\n",
    "\n",
    "        trst[k].append(td)"
   ]
  },
  {
   "cell_type": "code",
   "execution_count": null,
   "id": "fb2123dd-9752-44bf-ae95-43c556477829",
   "metadata": {},
   "outputs": [],
   "source": [
    "# For each class, threshold and index\n",
    "# Create two classification results\n",
    "clsres = {}\n",
    "for cls in lulcs:\n",
    "    clsres[cls] = {}\n",
    "    # Reclassify LULC Raster\n",
    "    # Class = 1\n",
    "    # No class = 0\n",
    "    clsres[cls]['pos'] = grsrstcalc(\n",
    "        f\"if({lulc_rst} == {str(cls)}, 1, 0)\",\n",
    "        f'cls_{str(cls)}_pos'\n",
    "    )\n",
    "    clsres[cls]['neg'] = grsrstcalc(\n",
    "        f\"if({lulc_rst} == {str(cls)}, 0, 1)\",\n",
    "        f'cls_{str(cls)}_neg'\n",
    "    )\n",
    "\n",
    "    clsres[cls]['pos'] = grs_to_rst(\n",
    "        clsres[cls]['pos'],\n",
    "        os.path.join(out_ref, f\"{clsres[cls]['pos']}.tif\"),\n",
    "        rtype=int\n",
    "    )\n",
    "\n",
    "    clsres[cls]['neg'] = grs_to_rst(\n",
    "        clsres[cls]['neg'],\n",
    "        os.path.join(out_ref, f\"{clsres[cls]['neg']}.tif\"),\n",
    "        rtype=int\n",
    "    )"
   ]
  },
  {
   "cell_type": "code",
   "execution_count": null,
   "id": "b5c6e40e-bec0-4bf2-94e6-215e24ee7e47",
   "metadata": {},
   "outputs": [],
   "source": []
  }
 ],
 "metadata": {
  "kernelspec": {
   "display_name": "Python 3 (ipykernel)",
   "language": "python",
   "name": "python3"
  },
  "language_info": {
   "codemirror_mode": {
    "name": "ipython",
    "version": 3
   },
   "file_extension": ".py",
   "mimetype": "text/x-python",
   "name": "python",
   "nbconvert_exporter": "python",
   "pygments_lexer": "ipython3",
   "version": "3.10.12"
  }
 },
 "nbformat": 4,
 "nbformat_minor": 5
}
