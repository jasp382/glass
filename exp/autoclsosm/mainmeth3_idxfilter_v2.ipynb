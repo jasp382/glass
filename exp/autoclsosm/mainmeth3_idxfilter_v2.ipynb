{
 "cells": [
  {
   "cell_type": "code",
   "execution_count": null,
   "id": "75aef42f-c3bb-431b-9fda-8acc08c7f114",
   "metadata": {
    "tags": []
   },
   "outputs": [],
   "source": [
    "lulc_rst = '/home/gisuser/autocls/osmlc_lisbon_nomixpx.tif'\n",
    "\n",
    "idxrst = {\n",
    "    'xlsx'    : '/home/gisuser/autocls/inputs_sheet.xlsx',\n",
    "    'sheet'   : 'lisbon',\n",
    "    'dayscol' : 'days'\n",
    "}\n",
    "\n",
    "idx_rules = '/home/gisuser/glass/exp/autoclsosm/idxrules_v2.json'\n",
    "\n",
    "fraster = '/home/gisuser/autocls/osmlc_lisbon_idxfilter_v2.tif'"
   ]
  },
  {
   "cell_type": "code",
   "execution_count": null,
   "id": "e6664d67-84c5-433c-89bf-8073f8f14007",
   "metadata": {
    "tags": []
   },
   "outputs": [],
   "source": [
    "import os\n",
    "from osgeo import gdal\n",
    "import numpy as np\n",
    "from glass.rd.rst import rst_to_array\n",
    "from glass.prop.rst import get_nodata\n",
    "from glass.pys.oss import lst_ff, fprop\n",
    "from glass.wenv.grs import run_grass\n",
    "from glass.pys.tm import now_as_str\n",
    "from glass.rd import tbl_to_obj\n",
    "from glass.rd.js import json_to_obj"
   ]
  },
  {
   "cell_type": "code",
   "execution_count": null,
   "id": "5b8d9507-7817-44d7-aa49-d49bb86b2d43",
   "metadata": {},
   "outputs": [],
   "source": [
    "idxs = tbl_to_obj(idxrst['xlsx'], sheet=idxrst['sheet'])\n",
    "\n",
    "idxs.set_index(idxrst['dayscol'], inplace=True)\n",
    "\n",
    "idxs = idxs.to_dict(orient='index')\n",
    "\n",
    "rules = json_to_obj(idx_rules)\n",
    "\n",
    "_rules = {int(k) : rules[k] for k in rules}\n",
    "\n",
    "ndays = len(list(idxs.keys()))\n",
    "\n",
    "for c in _rules:\n",
    "    for idx in _rules[c]:\n",
    "        if not _rules[c][idx]: continue\n",
    "\n",
    "        _rules[c][idx]['nimgs'] = ndays if _rules[c][idx]['nimgs'] == 'all' \\\n",
    "            else int(_rules[c][idx]['nimgs'])"
   ]
  },
  {
   "cell_type": "code",
   "execution_count": null,
   "id": "7733eefe-282a-4cb7-9edc-0989dd4908e3",
   "metadata": {},
   "outputs": [],
   "source": [
    "_rules"
   ]
  },
  {
   "cell_type": "code",
   "execution_count": null,
   "id": "4771f886-cf65-4508-b797-f430535ebe37",
   "metadata": {
    "tags": []
   },
   "outputs": [],
   "source": [
    "# Check if outfolder exists\n",
    "ws = os.path.dirname(fraster)\n",
    "if not os.path.exists(ws):\n",
    "    mkdir(ws, overwrite=None)\n",
    "    \n",
    "\"\"\"\n",
    "Start GRASS GIS Session\n",
    "\"\"\"\n",
    "\n",
    "loc = f'loc_{now_as_str()}'\n",
    "grsb = run_grass(\n",
    "    ws, grassBIN='grass78', location=loc,\n",
    "    srs=lulc_rst\n",
    "    )\n",
    "\n",
    "import grass.script.setup as gsetup\n",
    "    \n",
    "gsetup.init(grsb, ws, loc, 'PERMANENT')"
   ]
  },
  {
   "cell_type": "code",
   "execution_count": null,
   "id": "9cadc0a7-8219-47a8-9318-d964541dfcd6",
   "metadata": {
    "tags": []
   },
   "outputs": [],
   "source": [
    "from glass.it.rst import rst_to_grs, grs_to_rst\n",
    "from glass.rst.alg import grsrstcalc"
   ]
  },
  {
   "cell_type": "code",
   "execution_count": null,
   "id": "29554cb7-9697-4fbe-b72d-7a7fa61f7abe",
   "metadata": {
    "tags": []
   },
   "outputs": [],
   "source": [
    "# Identificar classes existentes no raster com as classes de LULC\n",
    "\n",
    "lulc_img = rst_to_array(lulc_rst)\n",
    "\n",
    "ndval = get_nodata(lulc_rst)\n",
    "\n",
    "lulc_class = [v for v in np.unique(lulc_img) if v != ndval]"
   ]
  },
  {
   "cell_type": "code",
   "execution_count": null,
   "id": "fa869364-90db-4d69-9d1b-46711cf543f4",
   "metadata": {
    "tags": []
   },
   "outputs": [],
   "source": [
    "print(lulc_class)"
   ]
  },
  {
   "cell_type": "code",
   "execution_count": null,
   "id": "e636ef2b-c0d6-407a-8405-fa45c0a5da27",
   "metadata": {
    "tags": []
   },
   "outputs": [],
   "source": [
    "# Send all rasters to GRASS GIS\n",
    "\n",
    "lulc_grs = rst_to_grs(lulc_rst, fprop(lulc_rst, 'fn'))\n",
    "\n",
    "for d in idxs:\n",
    "    for k in idxs[d]:\n",
    "        idxs[d][k] = rst_to_grs(idxs[d][k], fprop(idxs[d][k], 'fn'))"
   ]
  },
  {
   "cell_type": "code",
   "execution_count": null,
   "id": "9cccd9ae-b5ee-42ef-b929-91b07b0729e7",
   "metadata": {
    "tags": []
   },
   "outputs": [],
   "source": [
    "idxs"
   ]
  },
  {
   "cell_type": "markdown",
   "id": "6d121621-b8eb-44e9-9245-02278b7a166c",
   "metadata": {},
   "source": [
    "Para cada classe, índice e data, criar um ficheiro que indica se o pixel deve ser considerado para treino (1) ou não (0)"
   ]
  },
  {
   "cell_type": "code",
   "execution_count": null,
   "id": "8e49c09e-9fc8-4ec8-9739-e4e2a7f9dcb5",
   "metadata": {},
   "outputs": [],
   "source": [
    "mask_by_class_day_idx = {}\n",
    "\n",
    "for cls in lulc_class:\n",
    "    mask_by_class_day_idx[cls] = {}\n",
    "    for d in idxs:\n",
    "        mask_by_class_day_idx[cls][d] = {}\n",
    "        for k in idxs[d]:\n",
    "            if not _rules[cls][k]: continue\n",
    "            \n",
    "            form = (\n",
    "                f\"if({lulc_grs} == {str(cls)} && \"\n",
    "                f\"{idxs[d][k]} >= {_rules[cls][k]['min']} && \"\n",
    "                f\"{idxs[d][k]} <= {_rules[cls][k]['max']}, \"\n",
    "                \"1, 0)\"\n",
    "            )\n",
    "            \n",
    "            outmask = grsrstcalc(form, f'mask_{cls}_{k}_{d}')\n",
    "            \n",
    "            mask_by_class_day_idx[cls][d][k] = outmask\n",
    "            \n",
    "            grs_to_rst(outmask, os.path.join(\n",
    "                ws, loc,\n",
    "                f'{outmask}.tif'\n",
    "            ), rtype=int)"
   ]
  },
  {
   "cell_type": "markdown",
   "id": "90d33cec-7ac0-4b03-b01b-0d73ad91e503",
   "metadata": {},
   "source": [
    "Para cada classe e índice, criar um ficheiro que indica se o pixel deve ser incluído no treino (1) ou não (0), tendo em conta as várias máscaras obtidas para essa classe e índice em cada uma das datas consideradas"
   ]
  },
  {
   "cell_type": "code",
   "execution_count": null,
   "id": "dfc690c1-5780-414d-a648-daa95e5f86c8",
   "metadata": {},
   "outputs": [],
   "source": [
    "cls_masks = {}\n",
    "\n",
    "for cls in mask_by_class_day_idx:\n",
    "    cls_masks[cls] = {}\n",
    "    \n",
    "    for d in mask_by_class_day_idx[cls]:\n",
    "        for idx in mask_by_class_day_idx[cls][d]:\n",
    "            if idx not in cls_masks[cls]:\n",
    "                cls_masks[cls][idx] = []\n",
    "            \n",
    "            cls_masks[cls][idx].append(mask_by_class_day_idx[cls][d][idx])"
   ]
  },
  {
   "cell_type": "code",
   "execution_count": null,
   "id": "e37b63df-49bd-443b-91ae-dd8519c01d8c",
   "metadata": {},
   "outputs": [],
   "source": [
    "for cls in cls_masks:\n",
    "    for idx in cls_masks[cls]:\n",
    "        cntrst = grsrst_to_calc(\n",
    "            \" + \".join(cls_masks[cls][idx]),\n",
    "            f'clsidxcount_{cls}_{idx}', ascmd=True\n",
    "        )\n",
    "        \n",
    "        cls_masks[cls][idx] = grsrst_to_calc(\n",
    "            f\"if({cntrst} == {_rules[cls][idx]['nimgs']}, 1, 0)\",\n",
    "            f'clsidxmask_{cls}_{idx}', ascmd=True\n",
    "        )"
   ]
  },
  {
   "cell_type": "markdown",
   "id": "88d6a4cf-cb15-49c2-9981-482eef2555ce",
   "metadata": {},
   "source": [
    "Obter máscara binária final para cada classe"
   ]
  },
  {
   "cell_type": "code",
   "execution_count": null,
   "id": "eeda2298-172b-43fc-a912-d07c2706e1be",
   "metadata": {},
   "outputs": [],
   "source": [
    "for cls in cls_masks:\n",
    "    ifr = [f\"{cls_masks[cls][idx]} == 1\" for idx in cls_masks[cls]]\n",
    "    \n",
    "    exp = f\"if({' && '.join(ifr)}, 1, 0)\"\n",
    "    \n",
    "    cls_masks[cls] = grstscalc(exp, f\"clsmask_{cls}\", ascmd=True)"
   ]
  },
  {
   "cell_type": "markdown",
   "id": "01512195-a3b3-4263-a84a-03f1d59f7ef2",
   "metadata": {},
   "source": [
    "Obter ficheiro que indica as classes a considerar no treino - neste raster, o valor 0 indica que o pixel não deve ser considerado no treino."
   ]
  },
  {
   "cell_type": "code",
   "execution_count": null,
   "id": "a25025d0-75db-4ffb-88d5-02e0bb0a53bb",
   "metadata": {},
   "outputs": [],
   "source": [
    "ifs = []\n",
    "\n",
    "for c in cls_masks:\n",
    "    exp = (\n",
    "        f\"if({cls_masks[c]} == 1, \"\n",
    "        f\"{str(c)}, \"\n",
    "        f\"{'0' if not len(ifs) else ifs[len(ifs)-1]})\"\n",
    "    )\n",
    "    \n",
    "    ifs.append(exp)\n",
    "\n",
    "rfnl = grsrstcalc(\n",
    "    ifs[-1],\n",
    "    fprop(fraster, 'fn'), ascmd=True\n",
    ")\n",
    "\n",
    "grs_to_rst(\n",
    "    rfnl, fraster, as_cmd=True,\n",
    "    rtype=int, nodata=0\n",
    ")"
   ]
  }
 ],
 "metadata": {
  "kernelspec": {
   "display_name": "Python 3 (ipykernel)",
   "language": "python",
   "name": "python3"
  },
  "language_info": {
   "codemirror_mode": {
    "name": "ipython",
    "version": 3
   },
   "file_extension": ".py",
   "mimetype": "text/x-python",
   "name": "python",
   "nbconvert_exporter": "python",
   "pygments_lexer": "ipython3",
   "version": "3.10.12"
  }
 },
 "nbformat": 4,
 "nbformat_minor": 5
}
