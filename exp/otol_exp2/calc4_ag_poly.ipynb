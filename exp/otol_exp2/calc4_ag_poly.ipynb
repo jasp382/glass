{
 "cells": [
  {
   "cell_type": "code",
   "execution_count": null,
   "id": "d53249d6-2913-4306-8a4b-c7635049ae69",
   "metadata": {},
   "outputs": [],
   "source": [
    "green_areas = r'G:/otol/exp2_evu/ref/cos18_forevu.shp'\n",
    "\n",
    "green_fid = 'ffif'\n",
    "\n",
    "poly_evu = r'G:\\otol\\guavsforest.gdb\\osm\\helping_poly_evu'\n",
    "\n",
    "outfeat = r'G:\\otol\\guavsforest.gdb\\cosres\\cos_poly'\n",
    "\n",
    "tmpws = r'G:\\otol\\guavsforest.gdb\\corre_cos_s4'\n",
    "\n",
    "bname = 'coss4'"
   ]
  },
  {
   "cell_type": "code",
   "execution_count": null,
   "id": "7700e6ab-a308-4d8e-8e5e-22229d25db28",
   "metadata": {},
   "outputs": [],
   "source": [
    "import arcpy\n",
    "import os\n",
    "\n",
    "from gesri.dp import copy_feat\n",
    "from gesri.rd.shp import shp_to_lyr\n",
    "from gesri.gp.ovl import intersection\n",
    "from gesri.gp.gen import dissolve\n",
    "from glass.esri.tbl.joins import join_table\n",
    "from gesri.tbl.attr import geom_attr_to_shp\n",
    "from glass.esri.tbl.col import cols_calc"
   ]
  },
  {
   "cell_type": "code",
   "execution_count": null,
   "id": "0f84db00-cf9a-4ac2-b53c-12c2982756db",
   "metadata": {},
   "outputs": [],
   "source": [
    "srs = \"PROJCS[\\\"ETRS_1989_Portugal_TM06\\\",GEOGCS[\\\"GCS_ETRS_1989\\\",DATUM[\\\"D_ETRS_1989\\\",SPHEROID[\\\"GRS_1980\\\",6378137.0,298.257222101]],PRIMEM[\\\"Greenwich\\\",0.0],UNIT[\\\"Degree\\\",0.0174532925199433]],PROJECTION[\\\"Transverse_Mercator\\\"],PARAMETER[\\\"False_Easting\\\",0.0],PARAMETER[\\\"False_Northing\\\",0.0],PARAMETER[\\\"Central_Meridian\\\",-8.133108333333334],PARAMETER[\\\"Scale_Factor\\\",1.0],PARAMETER[\\\"Latitude_Of_Origin\\\",39.66825833333333],UNIT[\\\"Meter\\\",1.0]]\""
   ]
  },
  {
   "cell_type": "code",
   "execution_count": null,
   "id": "ebd8d6c6-e550-42d0-afbd-5c7fa6f65443",
   "metadata": {},
   "outputs": [],
   "source": [
    "arcpy.env.overwriteOutput = True"
   ]
  },
  {
   "cell_type": "code",
   "execution_count": null,
   "id": "2c7d59c7-03fa-4a68-9de1-a36d38498ae3",
   "metadata": {},
   "outputs": [],
   "source": [
    "cp_green = copy_feat(green_areas, outfeat)\n",
    "\n",
    "glyr = shp_to_lyr(cp_green)\n",
    "\n",
    "glyr = geom_attr_to_shp(\n",
    "    glyr, \"or_area\",\n",
    "    geom_attr=\"AREA\", srs=srs,\n",
    "    area_unit=\"SQUARE_METERS\"\n",
    ")\n",
    "\n",
    "d = {'evu' : shp_to_lyr(poly_evu)}"
   ]
  },
  {
   "cell_type": "code",
   "execution_count": null,
   "id": "55eb288e-ff01-4237-a0ec-c1d92a0bcac1",
   "metadata": {},
   "outputs": [],
   "source": [
    "for k in d:\n",
    "    # Intersect\n",
    "    ointersect = os.path.join(tmpws, f'{bname}_pi_{k}')\n",
    "    ilyr = intersection([glyr, d[k]], ointersect)\n",
    "    \n",
    "    # Dissolve\n",
    "    odiss = os.path.join(tmpws, f'{bname}_pidss_{k}')\n",
    "    disslyr = dissolve(ilyr, odiss, green_fid)\n",
    "    \n",
    "    # Get Area\n",
    "    disslyr = geom_attr_to_shp(\n",
    "        disslyr, f\"poly_{k}\",\n",
    "        geom_attr=\"AREA\", srs=srs,\n",
    "        area_unit=\"SQUARE_METERS\"\n",
    "    )\n",
    "    \n",
    "    # Join\n",
    "    green_lyr = join_table(\n",
    "        cp_green, disslyr,\n",
    "        green_fid, green_fid,\n",
    "        cols=[f\"poly_{k}\"]\n",
    "    )\n",
    "    \n",
    "    # Fill null values\n",
    "    green_lyr = cols_calc(green_lyr, f\"poly_{k}\", f\"fillna(!poly_{k}!, !or_area!)\", code=\"\"\"def fillna(np, g):\n",
    "        if not np:\n",
    "            return 0\n",
    "        \n",
    "        return np / g * 100\"\"\"\n",
    "    )"
   ]
  }
 ],
 "metadata": {
  "kernelspec": {
   "display_name": "Python 3 (ipykernel)",
   "language": "python",
   "name": "python3"
  },
  "language_info": {
   "codemirror_mode": {
    "name": "ipython",
    "version": 3
   },
   "file_extension": ".py",
   "mimetype": "text/x-python",
   "name": "python",
   "nbconvert_exporter": "python",
   "pygments_lexer": "ipython3",
   "version": "3.9.18"
  }
 },
 "nbformat": 4,
 "nbformat_minor": 5
}
