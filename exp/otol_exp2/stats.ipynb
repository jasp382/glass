{
 "cells": [
  {
   "cell_type": "code",
   "execution_count": null,
   "id": "d210e0a5-8d24-4a58-a463-d6247ccb295a",
   "metadata": {
    "tags": []
   },
   "outputs": [],
   "source": [
    "shp = '/mnt/d/osm2lulc2023/rule3_4/ua_refdata.shp'\n",
    "\n",
    "valcol = ['cdir', 'pubf', 'parea', 'purb', 'dpop', 'lenline', 'cpnt']\n",
    "\n",
    "colcol = 'class_2018'\n",
    "\n",
    "outxls = '/mnt/d/osm2lulc2023/rule3_4/ua_parea.xlsx'"
   ]
  },
  {
   "cell_type": "code",
   "execution_count": null,
   "id": "027a1738-5c2f-4bd4-ad59-7a743075d2cd",
   "metadata": {
    "tags": []
   },
   "outputs": [],
   "source": [
    "import pandas as pd\n",
    "from glass.rd.shp import shp_to_obj\n",
    "from glass.wt import obj_to_tbl"
   ]
  },
  {
   "cell_type": "code",
   "execution_count": null,
   "id": "64fbeb1c-d95f-4f82-b27b-72d07f7208e7",
   "metadata": {
    "tags": []
   },
   "outputs": [],
   "source": [
    "gdf = shp_to_obj(shp)"
   ]
  },
  {
   "cell_type": "code",
   "execution_count": null,
   "id": "a94873cc-f38e-4644-87af-d81dfd033b22",
   "metadata": {
    "tags": []
   },
   "outputs": [],
   "source": [
    "dfs = []\n",
    "\n",
    "chartcols = list(gdf[colcol].unique())\n",
    "for vc in valcol:\n",
    "    # Get column values\n",
    "    ourvals = gdf[vc].unique()\n",
    "\n",
    "    ourvals.sort()\n",
    "    \n",
    "    # Produce final dataframe\n",
    "    fdf = pd.DataFrame(pd.Series(ourvals), columns=['valores'])\n",
    "\n",
    "    # Split dataframes and get chart cols\n",
    "    for c in chartcols:\n",
    "        ndf = gdf[gdf[colcol] == c]\n",
    "        _c = c.replace(' ', '').lower()\n",
    "    \n",
    "        freqdf = pd.DataFrame({\n",
    "            _c : ndf.groupby([vc])[vc].agg('count') \n",
    "        }).reset_index()\n",
    "    \n",
    "        fdf = fdf.merge(freqdf, how='left', left_on='valores', right_on=vc)\n",
    "    \n",
    "        fdf.drop(vc, axis=1, inplace=True)\n",
    "    \n",
    "        fdf[_c] = fdf[_c].fillna(0)\n",
    "        fdf[_c] = fdf[_c].astype(int)\n",
    "    \n",
    "    dfs.append(fdf)"
   ]
  },
  {
   "cell_type": "code",
   "execution_count": null,
   "id": "8a5c27a8-c07b-4d8f-a09d-f50d338984b0",
   "metadata": {
    "tags": []
   },
   "outputs": [],
   "source": [
    "obj_to_tbl(dfs, outxls, sheetsName=valcol)"
   ]
  },
  {
   "cell_type": "code",
   "execution_count": null,
   "id": "86dc7155-4b40-4fa5-b585-7fe19ab47f39",
   "metadata": {},
   "outputs": [],
   "source": []
  },
  {
   "cell_type": "code",
   "execution_count": null,
   "id": "9d8cdaed-68c7-456b-b226-d79e414593e5",
   "metadata": {},
   "outputs": [],
   "source": []
  }
 ],
 "metadata": {
  "kernelspec": {
   "display_name": "Python 3 (ipykernel)",
   "language": "python",
   "name": "python3"
  },
  "language_info": {
   "codemirror_mode": {
    "name": "ipython",
    "version": 3
   },
   "file_extension": ".py",
   "mimetype": "text/x-python",
   "name": "python",
   "nbconvert_exporter": "python",
   "pygments_lexer": "ipython3",
   "version": "3.9.16"
  }
 },
 "nbformat": 4,
 "nbformat_minor": 5
}
