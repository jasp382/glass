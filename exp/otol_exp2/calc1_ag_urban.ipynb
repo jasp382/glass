{
 "cells": [
  {
   "cell_type": "code",
   "execution_count": null,
   "id": "48538c6a-fd3b-4c4f-8d27-91afbd202d83",
   "metadata": {},
   "outputs": [],
   "source": [
    "green_areas = r'G:/otol/exp2_evu/ref/cos18_forevu.shp'\n",
    "\n",
    "gid = 'ffif'\n",
    "\n",
    "buffer_dist = 250\n",
    "\n",
    "urban_areas = r'G:\\otol\\guavsforest.gdb\\osm\\urban50m'\n",
    "\n",
    "tmpws = r'G:\\otol\\guavsforest.gdb\\corre_cos_s1o'\n",
    "\n",
    "epsg = 3763\n",
    "\n",
    "outfeat = r'G:\\otol\\guavsforest.gdb\\cosres\\cosres_urbanosm'\n",
    "\n",
    "bname = 'coss1o'"
   ]
  },
  {
   "cell_type": "code",
   "execution_count": null,
   "id": "ef0862b1-9aaa-4b7e-8fad-eb9df58d79ee",
   "metadata": {},
   "outputs": [],
   "source": [
    "import pandas as pd\n",
    "pd.options.mode.chained_assignment = None"
   ]
  },
  {
   "cell_type": "code",
   "execution_count": null,
   "id": "acbdeb14-6af7-48a2-8fe0-14e0f583de7a",
   "metadata": {},
   "outputs": [],
   "source": [
    "srs = \"PROJCS[\\\"ETRS_1989_Portugal_TM06\\\",GEOGCS[\\\"GCS_ETRS_1989\\\",DATUM[\\\"D_ETRS_1989\\\",SPHEROID[\\\"GRS_1980\\\",6378137.0,298.257222101]],PRIMEM[\\\"Greenwich\\\",0.0],UNIT[\\\"Degree\\\",0.0174532925199433]],PROJECTION[\\\"Transverse_Mercator\\\"],PARAMETER[\\\"False_Easting\\\",0.0],PARAMETER[\\\"False_Northing\\\",0.0],PARAMETER[\\\"Central_Meridian\\\",-8.133108333333334],PARAMETER[\\\"Scale_Factor\\\",1.0],PARAMETER[\\\"Latitude_Of_Origin\\\",39.66825833333333],UNIT[\\\"Meter\\\",1.0]]\""
   ]
  },
  {
   "cell_type": "code",
   "execution_count": null,
   "id": "3f4da50e-ebfb-4aee-a570-e0079e9c2e3f",
   "metadata": {},
   "outputs": [],
   "source": [
    "import arcpy\n",
    "import os\n",
    "\n",
    "from gesri.rd.shp import shp_to_lyr\n",
    "from glass.pys.oss import fprop\n",
    "from glass.gp.prox.bfing import cheese_buffer\n",
    "from gesri.dp       import copy_feat\n",
    "from gesri.tbl.attr import geom_attr_to_shp\n",
    "from gesri.tbl.col import add_col, cols_calc\n",
    "from gesri.tbl.joins import join_table\n",
    "from gesri.gp.ovl import intersection\n",
    "from gesri.gp.gen import dissolve"
   ]
  },
  {
   "cell_type": "code",
   "execution_count": null,
   "id": "60bf1347-62d1-4c8f-8e76-4e383a3d146b",
   "metadata": {},
   "outputs": [],
   "source": [
    "arcpy.env.overwriteOutput = True"
   ]
  },
  {
   "cell_type": "code",
   "execution_count": null,
   "id": "3d4d087e-7d71-481b-a2e2-8b3bffacf4d5",
   "metadata": {},
   "outputs": [],
   "source": [
    "# Get Cheese buffer\n",
    "\n",
    "cheese_bf = cheese_buffer(\n",
    "    green_areas, buffer_dist, 45,\n",
    "    os.path.join(os.path.dirname(green_areas), f\"cheese_{fprop(green_areas, 'fn')}.shp\"),\n",
    "    uniqueid='jpk', areaf=\"area_o\",\n",
    "    epsg=epsg, shpid=gid\n",
    ")\n",
    "\n",
    "cheese_lyr = shp_to_lyr(cheese_bf)"
   ]
  },
  {
   "cell_type": "code",
   "execution_count": null,
   "id": "f3447a5e-f667-466c-97f5-b590623435c8",
   "metadata": {},
   "outputs": [],
   "source": [
    "# Intersect cheese buffer with urban regions\n",
    "\n",
    "urban_lyr = shp_to_lyr(urban_areas)\n",
    "\n",
    "ifeat = os.path.join(tmpws, f'{bname}_uc')\n",
    "\n",
    "ilyr = intersection([urban_lyr, cheese_lyr], ifeat)\n",
    "\n",
    "idiss = os.path.join(tmpws, f'{bname}_ucdiss')\n",
    "\n",
    "idiss_lyr = dissolve(ilyr, idiss, [gid, \"direction\"])"
   ]
  },
  {
   "cell_type": "code",
   "execution_count": null,
   "id": "4caadf11-4f72-487a-bfd4-5ed32abca4d4",
   "metadata": {},
   "outputs": [],
   "source": [
    "# Get intersection area\n",
    "idiss_lyr = geom_attr_to_shp(\n",
    "    idiss_lyr, \"areaint\",\n",
    "    geom_attr=\"AREA\", srs=srs,\n",
    "    area_unit=\"SQUARE_METERS\"\n",
    ")\n",
    "\n",
    "# Get Feature unique identifier\n",
    "idiss_lyr = add_col(idiss_lyr, \"jfk\", \"TEXT\", 30)\n",
    "\n",
    "idiss_lyr = cols_calc(idiss_lyr, \"jfk\", f\"str(int(!{gid}!)) + '__' + !direction!\")"
   ]
  },
  {
   "cell_type": "code",
   "execution_count": null,
   "id": "3e689904-9d81-48da-9824-1e03934615c2",
   "metadata": {},
   "outputs": [],
   "source": [
    "# Join to obtain intersected area in the original feature class\n",
    "cheese_lyr = join_table(\n",
    "    cheese_lyr, idiss_lyr,\n",
    "    \"jpk\", \"jfk\",\n",
    "    cols=[\"areaint\"]\n",
    ")"
   ]
  },
  {
   "cell_type": "code",
   "execution_count": null,
   "id": "8b7f146f-19d0-493a-aae6-61c24f0bcbb9",
   "metadata": {},
   "outputs": [],
   "source": [
    "# Get Urban intersection by each buffer slice\n",
    "#cheese_lyr = shp_to_lyr(cheese_bf, f\"{fprop(heese_bf, 'fn')}_l2\")\n",
    "\n",
    "cheese_lyr = add_col(cheese_lyr, \"urbanp\", \"DOUBLE\", None)\n",
    "\n",
    "cheese_lyr = cols_calc(cheese_lyr, \"urbanp\", \"!areaint! / !area_o! * 100\")"
   ]
  },
  {
   "cell_type": "code",
   "execution_count": null,
   "id": "6f901d8d-518a-4958-ae65-73ca2c73fa20",
   "metadata": {},
   "outputs": [],
   "source": [
    "# Get buffer statistics\n",
    "cheese_lyr = add_col(cheese_lyr, \"cdir\", \"LONG\", None)\n",
    "\n",
    "cheese_lyr = cols_calc(cheese_lyr, \"cdir\", \"is_dir(!urbanp!)\", code=\"\"\"def is_dir(f):\n",
    "    if f > 0:\n",
    "        return 1\n",
    "    else:\n",
    "        return 0\"\"\")\n",
    "\n",
    "green_buffer = os.path.join(tmpws, f'{bname}_greenbf')\n",
    "lyr_greenbf = dissolve(\n",
    "    cheese_lyr, green_buffer, gid,\n",
    "    statistics=[[\"cdir\", \"SUM\"], [\"areaint\", \"SUM\"], [\"area_o\", \"SUM\"]]\n",
    ")"
   ]
  },
  {
   "cell_type": "code",
   "execution_count": null,
   "id": "e79181b7-a472-49ee-ad2a-ad3163534c71",
   "metadata": {},
   "outputs": [],
   "source": [
    "# Get Urban percentage in the buffer\n",
    "\n",
    "lyr_greenbf = add_col(lyr_greenbf, \"p_edi_buf\", \"DOUBLE\", None)\n",
    "\n",
    "lyr_greenbf = cols_calc(lyr_greenbf, \"p_edi_buf\", \"calc_area(!SUM_area_o!,!SUM_areaint!)\", code=\"\"\"def calc_area(total, areai):\n",
    "    if areai == None:\n",
    "        return 0\n",
    "    else:\n",
    "        return areai / total * 100\"\"\"\n",
    ")"
   ]
  },
  {
   "cell_type": "code",
   "execution_count": null,
   "id": "4574d2da-a4cf-4502-8d41-f2913023d8a9",
   "metadata": {},
   "outputs": [],
   "source": [
    "# Copy initial shape\n",
    "cp_green = copy_feat(green_areas, outfeat)\n",
    "\n",
    "# Join with initial shape\n",
    "green_lyr = join_table(\n",
    "    cp_green, lyr_greenbf,\n",
    "    gid, gid,\n",
    "    cols=[\"SUM_cdir\", \"p_edi_buf\", \"SUM_areaint\"]\n",
    ")"
   ]
  },
  {
   "cell_type": "code",
   "execution_count": null,
   "id": "3b2cc2b7-329f-4717-a130-c8ca7227cb6e",
   "metadata": {},
   "outputs": [],
   "source": [
    "# Get intersected area propotion in relation\n",
    "# to orignal polygon area\n",
    "green_lyr = geom_attr_to_shp(\n",
    "    green_lyr, \"garea\",\n",
    "    geom_attr=\"AREA\", srs=srs,\n",
    "    area_unit=\"SQUARE_METERS\"\n",
    ")\n",
    "\n",
    "green_lyr = add_col(green_lyr, \"p_edi\", \"DOUBLE\", None)\n",
    "\n",
    "green_lyr = cols_calc(green_lyr, \"p_edi\", \"calc_area(!garea!,!SUM_areaint!)\", code=\"\"\"def calc_area(total, areai):\n",
    "    if areai == None:\n",
    "        return 0\n",
    "    else:\n",
    "        return areai / total\"\"\"\n",
    ")"
   ]
  },
  {
   "cell_type": "code",
   "execution_count": null,
   "id": "4629cf62-9940-454a-82ea-1652664b6fe6",
   "metadata": {},
   "outputs": [],
   "source": [
    "green_lyr = add_col(green_lyr, \"uareahec\", \"DOUBLE\", None)\n",
    "\n",
    "green_lyr = cols_calc(green_lyr, \"uareahec\", \"calc_area(!SUM_areaint!)\", code=\"\"\"def calc_area(areai):\n",
    "    if areai == None:\n",
    "        return 0\n",
    "    else:\n",
    "        return areai / 10000\"\"\"\n",
    ")"
   ]
  },
  {
   "cell_type": "code",
   "execution_count": null,
   "id": "9889e015-cef8-4d32-a01d-ac1b6d72e2f2",
   "metadata": {},
   "outputs": [],
   "source": []
  }
 ],
 "metadata": {
  "kernelspec": {
   "display_name": "Python 3 (ipykernel)",
   "language": "python",
   "name": "python3"
  },
  "language_info": {
   "codemirror_mode": {
    "name": "ipython",
    "version": 3
   },
   "file_extension": ".py",
   "mimetype": "text/x-python",
   "name": "python",
   "nbconvert_exporter": "python",
   "pygments_lexer": "ipython3",
   "version": "3.9.18"
  }
 },
 "nbformat": 4,
 "nbformat_minor": 5
}
