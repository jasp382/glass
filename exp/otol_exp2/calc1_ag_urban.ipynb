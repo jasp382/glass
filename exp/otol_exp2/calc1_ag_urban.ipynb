{
 "cells": [
  {
   "cell_type": "code",
   "execution_count": 1,
   "id": "48538c6a-fd3b-4c4f-8d27-91afbd202d83",
   "metadata": {},
   "outputs": [],
   "source": [
    "green_areas = r'G:/otol/exp2_evu/ref/cos18_forevu.shp'\n",
    "\n",
    "gid = 'ffif'\n",
    "\n",
    "buffer_dist = 250\n",
    "\n",
    "urban_areas = r'G:\\otol\\guavsforest.gdb\\osm\\urban50m'\n",
    "\n",
    "tmpws = r'G:\\otol\\guavsforest.gdb\\corre_cos_s1o'\n",
    "\n",
    "epsg = 3763\n",
    "\n",
    "outfeat = r'G:\\otol\\guavsforest.gdb\\cosres\\cosres_urbanosm'\n",
    "\n",
    "bname = 'coss1o'"
   ]
  },
  {
   "cell_type": "code",
   "execution_count": 2,
   "id": "ef0862b1-9aaa-4b7e-8fad-eb9df58d79ee",
   "metadata": {},
   "outputs": [],
   "source": [
    "import pandas as pd\n",
    "pd.options.mode.chained_assignment = None"
   ]
  },
  {
   "cell_type": "code",
   "execution_count": 3,
   "id": "acbdeb14-6af7-48a2-8fe0-14e0f583de7a",
   "metadata": {},
   "outputs": [],
   "source": [
    "srs = \"PROJCS[\\\"ETRS_1989_Portugal_TM06\\\",GEOGCS[\\\"GCS_ETRS_1989\\\",DATUM[\\\"D_ETRS_1989\\\",SPHEROID[\\\"GRS_1980\\\",6378137.0,298.257222101]],PRIMEM[\\\"Greenwich\\\",0.0],UNIT[\\\"Degree\\\",0.0174532925199433]],PROJECTION[\\\"Transverse_Mercator\\\"],PARAMETER[\\\"False_Easting\\\",0.0],PARAMETER[\\\"False_Northing\\\",0.0],PARAMETER[\\\"Central_Meridian\\\",-8.133108333333334],PARAMETER[\\\"Scale_Factor\\\",1.0],PARAMETER[\\\"Latitude_Of_Origin\\\",39.66825833333333],UNIT[\\\"Meter\\\",1.0]]\""
   ]
  },
  {
   "cell_type": "code",
   "execution_count": 4,
   "id": "3f4da50e-ebfb-4aee-a570-e0079e9c2e3f",
   "metadata": {},
   "outputs": [],
   "source": [
    "import arcpy\n",
    "import os\n",
    "\n",
    "from gesri.rd.shp import shp_to_lyr\n",
    "from glass.pys.oss import fprop\n",
    "from glass.gp.prox.bfing import cheese_buffer\n",
    "from gesri.dp       import copy_feat\n",
    "from gesri.tbl.attr import geom_attr_to_shp\n",
    "from gesri.tbl.col import add_col, cols_calc\n",
    "from gesri.tbl.joins import join_table\n",
    "from gesri.gp.ovl import intersection\n",
    "from gesri.gp.gen import dissolve"
   ]
  },
  {
   "cell_type": "code",
   "execution_count": 5,
   "id": "60bf1347-62d1-4c8f-8e76-4e383a3d146b",
   "metadata": {},
   "outputs": [],
   "source": [
    "arcpy.env.overwriteOutput = True"
   ]
  },
  {
   "cell_type": "code",
   "execution_count": 6,
   "id": "3d4d087e-7d71-481b-a2e2-8b3bffacf4d5",
   "metadata": {},
   "outputs": [],
   "source": [
    "# Get Cheese buffer\n",
    "\n",
    "cheese_bf = cheese_buffer(\n",
    "    green_areas, buffer_dist, 45,\n",
    "    os.path.join(os.path.dirname(green_areas), f\"cheese_{fprop(green_areas, 'fn')}.shp\"),\n",
    "    uniqueid='jpk', areaf=\"area_o\",\n",
    "    epsg=epsg, shpid=gid\n",
    ")\n",
    "\n",
    "cheese_lyr = shp_to_lyr(cheese_bf)"
   ]
  },
  {
   "cell_type": "code",
   "execution_count": 7,
   "id": "f3447a5e-f667-466c-97f5-b590623435c8",
   "metadata": {},
   "outputs": [],
   "source": [
    "# Intersect cheese buffer with urban regions\n",
    "\n",
    "urban_lyr = shp_to_lyr(urban_areas)\n",
    "\n",
    "ifeat = os.path.join(tmpws, f'{bname}_uc')\n",
    "\n",
    "ilyr = intersection([urban_lyr, cheese_lyr], ifeat)\n",
    "\n",
    "idiss = os.path.join(tmpws, f'{bname}_ucdiss')\n",
    "\n",
    "idiss_lyr = dissolve(ilyr, idiss, [gid, \"direction\"])"
   ]
  },
  {
   "cell_type": "code",
   "execution_count": 8,
   "id": "4caadf11-4f72-487a-bfd4-5ed32abca4d4",
   "metadata": {},
   "outputs": [],
   "source": [
    "# Get intersection area\n",
    "idiss_lyr = geom_attr_to_shp(\n",
    "    idiss_lyr, \"areaint\",\n",
    "    geom_attr=\"AREA\", srs=srs,\n",
    "    area_unit=\"SQUARE_METERS\"\n",
    ")\n",
    "\n",
    "# Get Feature unique identifier\n",
    "idiss_lyr = add_col(idiss_lyr, \"jfk\", \"TEXT\", 30)\n",
    "\n",
    "idiss_lyr = cols_calc(idiss_lyr, \"jfk\", f\"str(int(!{gid}!)) + '__' + !direction!\")"
   ]
  },
  {
   "cell_type": "code",
   "execution_count": 9,
   "id": "3e689904-9d81-48da-9824-1e03934615c2",
   "metadata": {},
   "outputs": [],
   "source": [
    "# Join to obtain intersected area in the original feature class\n",
    "cheese_lyr = join_table(\n",
    "    cheese_lyr, idiss_lyr,\n",
    "    \"jpk\", \"jfk\",\n",
    "    cols=[\"areaint\"]\n",
    ")"
   ]
  },
  {
   "cell_type": "code",
   "execution_count": 10,
   "id": "8b7f146f-19d0-493a-aae6-61c24f0bcbb9",
   "metadata": {},
   "outputs": [],
   "source": [
    "# Get Urban intersection by each buffer slice\n",
    "#cheese_lyr = shp_to_lyr(cheese_bf, f\"{fprop(heese_bf, 'fn')}_l2\")\n",
    "\n",
    "cheese_lyr = add_col(cheese_lyr, \"urbanp\", \"DOUBLE\", None)\n",
    "\n",
    "cheese_lyr = cols_calc(cheese_lyr, \"urbanp\", \"!areaint! / !area_o! * 100\")"
   ]
  },
  {
   "cell_type": "code",
   "execution_count": 11,
   "id": "6f901d8d-518a-4958-ae65-73ca2c73fa20",
   "metadata": {},
   "outputs": [],
   "source": [
    "# Get buffer statistics\n",
    "cheese_lyr = add_col(cheese_lyr, \"cdir\", \"LONG\", None)\n",
    "\n",
    "cheese_lyr = cols_calc(cheese_lyr, \"cdir\", \"is_dir(!urbanp!)\", code=\"\"\"def is_dir(f):\n",
    "    if f > 0:\n",
    "        return 1\n",
    "    else:\n",
    "        return 0\"\"\")\n",
    "\n",
    "green_buffer = os.path.join(tmpws, f'{bname}_greenbf')\n",
    "lyr_greenbf = dissolve(\n",
    "    cheese_lyr, green_buffer, gid,\n",
    "    statistics=[[\"cdir\", \"SUM\"], [\"areaint\", \"SUM\"], [\"area_o\", \"SUM\"]]\n",
    ")"
   ]
  },
  {
   "cell_type": "code",
   "execution_count": 12,
   "id": "e79181b7-a472-49ee-ad2a-ad3163534c71",
   "metadata": {},
   "outputs": [],
   "source": [
    "# Get Urban percentage in the buffer\n",
    "\n",
    "lyr_greenbf = add_col(lyr_greenbf, \"p_edi_buf\", \"DOUBLE\", None)\n",
    "\n",
    "lyr_greenbf = cols_calc(lyr_greenbf, \"p_edi_buf\", \"calc_area(!SUM_area_o!,!SUM_areaint!)\", code=\"\"\"def calc_area(total, areai):\n",
    "    if areai == None:\n",
    "        return 0\n",
    "    else:\n",
    "        return areai / total * 100\"\"\"\n",
    ")"
   ]
  },
  {
   "cell_type": "code",
   "execution_count": 13,
   "id": "4574d2da-a4cf-4502-8d41-f2913023d8a9",
   "metadata": {},
   "outputs": [
    {
     "ename": "ExecuteError",
     "evalue": "ERROR 000464: Cannot get exclusive schema lock.  Either being edited or in use by another application or service.\nFailed to execute (CopyFeatures).\n",
     "output_type": "error",
     "traceback": [
      "\u001b[1;31m---------------------------------------------------------------------------\u001b[0m",
      "\u001b[1;31mExecuteError\u001b[0m                              Traceback (most recent call last)",
      "\u001b[1;32m~\\AppData\\Local\\Temp\\ipykernel_5152\\557042685.py\u001b[0m in \u001b[0;36m<cell line: 2>\u001b[1;34m()\u001b[0m\n\u001b[0;32m      1\u001b[0m \u001b[1;31m# Copy initial shape\u001b[0m\u001b[1;33m\u001b[0m\u001b[1;33m\u001b[0m\u001b[0m\n\u001b[1;32m----> 2\u001b[1;33m \u001b[0mcp_green\u001b[0m \u001b[1;33m=\u001b[0m \u001b[0mcopy_feat\u001b[0m\u001b[1;33m(\u001b[0m\u001b[0mgreen_areas\u001b[0m\u001b[1;33m,\u001b[0m \u001b[0moutfeat\u001b[0m\u001b[1;33m)\u001b[0m\u001b[1;33m\u001b[0m\u001b[1;33m\u001b[0m\u001b[0m\n\u001b[0m\u001b[0;32m      3\u001b[0m \u001b[1;33m\u001b[0m\u001b[0m\n\u001b[0;32m      4\u001b[0m \u001b[1;31m# Join with initial shape\u001b[0m\u001b[1;33m\u001b[0m\u001b[1;33m\u001b[0m\u001b[0m\n\u001b[0;32m      5\u001b[0m green_lyr = join_table(\n",
      "\u001b[1;32mC:\\glass\\gesri\\dp\\__init__.py\u001b[0m in \u001b[0;36mcopy_feat\u001b[1;34m(inshp, outshp)\u001b[0m\n\u001b[0;32m     10\u001b[0m     \"\"\"\n\u001b[0;32m     11\u001b[0m \u001b[1;33m\u001b[0m\u001b[0m\n\u001b[1;32m---> 12\u001b[1;33m     \u001b[0marcpy\u001b[0m\u001b[1;33m.\u001b[0m\u001b[0mmanagement\u001b[0m\u001b[1;33m.\u001b[0m\u001b[0mCopyFeatures\u001b[0m\u001b[1;33m(\u001b[0m\u001b[0minshp\u001b[0m\u001b[1;33m,\u001b[0m \u001b[0moutshp\u001b[0m\u001b[1;33m)\u001b[0m\u001b[1;33m\u001b[0m\u001b[1;33m\u001b[0m\u001b[0m\n\u001b[0m\u001b[0;32m     13\u001b[0m \u001b[1;33m\u001b[0m\u001b[0m\n\u001b[0;32m     14\u001b[0m     \u001b[1;32mreturn\u001b[0m \u001b[0moutshp\u001b[0m\u001b[1;33m\u001b[0m\u001b[1;33m\u001b[0m\u001b[0m\n",
      "\u001b[1;32mC:\\Program Files\\ArcGIS\\Pro\\Resources\\ArcPy\\arcpy\\management.py\u001b[0m in \u001b[0;36mCopyFeatures\u001b[1;34m(in_features, out_feature_class, config_keyword, spatial_grid_1, spatial_grid_2, spatial_grid_3)\u001b[0m\n\u001b[0;32m   4691\u001b[0m         \u001b[1;32mreturn\u001b[0m \u001b[0mretval\u001b[0m\u001b[1;33m\u001b[0m\u001b[1;33m\u001b[0m\u001b[0m\n\u001b[0;32m   4692\u001b[0m     \u001b[1;32mexcept\u001b[0m \u001b[0mException\u001b[0m \u001b[1;32mas\u001b[0m \u001b[0me\u001b[0m\u001b[1;33m:\u001b[0m\u001b[1;33m\u001b[0m\u001b[1;33m\u001b[0m\u001b[0m\n\u001b[1;32m-> 4693\u001b[1;33m         \u001b[1;32mraise\u001b[0m \u001b[0me\u001b[0m\u001b[1;33m\u001b[0m\u001b[1;33m\u001b[0m\u001b[0m\n\u001b[0m\u001b[0;32m   4694\u001b[0m \u001b[1;33m\u001b[0m\u001b[0m\n\u001b[0;32m   4695\u001b[0m \u001b[1;33m@\u001b[0m\u001b[0mgptooldoc\u001b[0m\u001b[1;33m(\u001b[0m\u001b[1;34m'DeleteFeatures_management'\u001b[0m\u001b[1;33m,\u001b[0m \u001b[1;32mNone\u001b[0m\u001b[1;33m)\u001b[0m\u001b[1;33m\u001b[0m\u001b[1;33m\u001b[0m\u001b[0m\n",
      "\u001b[1;32mC:\\Program Files\\ArcGIS\\Pro\\Resources\\ArcPy\\arcpy\\management.py\u001b[0m in \u001b[0;36mCopyFeatures\u001b[1;34m(in_features, out_feature_class, config_keyword, spatial_grid_1, spatial_grid_2, spatial_grid_3)\u001b[0m\n\u001b[0;32m   4688\u001b[0m     \u001b[1;32mfrom\u001b[0m \u001b[0marcpy\u001b[0m\u001b[1;33m.\u001b[0m\u001b[0marcobjects\u001b[0m\u001b[1;33m.\u001b[0m\u001b[0marcobjectconversion\u001b[0m \u001b[1;32mimport\u001b[0m \u001b[0mconvertArcObjectToPythonObject\u001b[0m\u001b[1;33m\u001b[0m\u001b[1;33m\u001b[0m\u001b[0m\n\u001b[0;32m   4689\u001b[0m     \u001b[1;32mtry\u001b[0m\u001b[1;33m:\u001b[0m\u001b[1;33m\u001b[0m\u001b[1;33m\u001b[0m\u001b[0m\n\u001b[1;32m-> 4690\u001b[1;33m         \u001b[0mretval\u001b[0m \u001b[1;33m=\u001b[0m \u001b[0mconvertArcObjectToPythonObject\u001b[0m\u001b[1;33m(\u001b[0m\u001b[0mgp\u001b[0m\u001b[1;33m.\u001b[0m\u001b[0mCopyFeatures_management\u001b[0m\u001b[1;33m(\u001b[0m\u001b[1;33m*\u001b[0m\u001b[0mgp_fixargs\u001b[0m\u001b[1;33m(\u001b[0m\u001b[1;33m(\u001b[0m\u001b[0min_features\u001b[0m\u001b[1;33m,\u001b[0m \u001b[0mout_feature_class\u001b[0m\u001b[1;33m,\u001b[0m \u001b[0mconfig_keyword\u001b[0m\u001b[1;33m,\u001b[0m \u001b[0mspatial_grid_1\u001b[0m\u001b[1;33m,\u001b[0m \u001b[0mspatial_grid_2\u001b[0m\u001b[1;33m,\u001b[0m \u001b[0mspatial_grid_3\u001b[0m\u001b[1;33m)\u001b[0m\u001b[1;33m,\u001b[0m \u001b[1;32mTrue\u001b[0m\u001b[1;33m)\u001b[0m\u001b[1;33m)\u001b[0m\u001b[1;33m)\u001b[0m\u001b[1;33m\u001b[0m\u001b[1;33m\u001b[0m\u001b[0m\n\u001b[0m\u001b[0;32m   4691\u001b[0m         \u001b[1;32mreturn\u001b[0m \u001b[0mretval\u001b[0m\u001b[1;33m\u001b[0m\u001b[1;33m\u001b[0m\u001b[0m\n\u001b[0;32m   4692\u001b[0m     \u001b[1;32mexcept\u001b[0m \u001b[0mException\u001b[0m \u001b[1;32mas\u001b[0m \u001b[0me\u001b[0m\u001b[1;33m:\u001b[0m\u001b[1;33m\u001b[0m\u001b[1;33m\u001b[0m\u001b[0m\n",
      "\u001b[1;32mC:\\Program Files\\ArcGIS\\Pro\\Resources\\ArcPy\\arcpy\\geoprocessing\\_base.py\u001b[0m in \u001b[0;36m<lambda>\u001b[1;34m(*args)\u001b[0m\n\u001b[0;32m    510\u001b[0m         \u001b[0mval\u001b[0m \u001b[1;33m=\u001b[0m \u001b[0mgetattr\u001b[0m\u001b[1;33m(\u001b[0m\u001b[0mself\u001b[0m\u001b[1;33m.\u001b[0m\u001b[0m_gp\u001b[0m\u001b[1;33m,\u001b[0m \u001b[0mattr\u001b[0m\u001b[1;33m)\u001b[0m\u001b[1;33m\u001b[0m\u001b[1;33m\u001b[0m\u001b[0m\n\u001b[0;32m    511\u001b[0m         \u001b[1;32mif\u001b[0m \u001b[0mcallable\u001b[0m\u001b[1;33m(\u001b[0m\u001b[0mval\u001b[0m\u001b[1;33m)\u001b[0m\u001b[1;33m:\u001b[0m\u001b[1;33m\u001b[0m\u001b[1;33m\u001b[0m\u001b[0m\n\u001b[1;32m--> 512\u001b[1;33m             \u001b[1;32mreturn\u001b[0m \u001b[1;32mlambda\u001b[0m \u001b[1;33m*\u001b[0m\u001b[0margs\u001b[0m\u001b[1;33m:\u001b[0m \u001b[0mval\u001b[0m\u001b[1;33m(\u001b[0m\u001b[1;33m*\u001b[0m\u001b[0mgp_fixargs\u001b[0m\u001b[1;33m(\u001b[0m\u001b[0margs\u001b[0m\u001b[1;33m,\u001b[0m \u001b[1;32mTrue\u001b[0m\u001b[1;33m)\u001b[0m\u001b[1;33m)\u001b[0m\u001b[1;33m\u001b[0m\u001b[1;33m\u001b[0m\u001b[0m\n\u001b[0m\u001b[0;32m    513\u001b[0m         \u001b[1;32melse\u001b[0m\u001b[1;33m:\u001b[0m\u001b[1;33m\u001b[0m\u001b[1;33m\u001b[0m\u001b[0m\n\u001b[0;32m    514\u001b[0m             \u001b[1;32mreturn\u001b[0m \u001b[0mconvertArcObjectToPythonObject\u001b[0m\u001b[1;33m(\u001b[0m\u001b[0mval\u001b[0m\u001b[1;33m)\u001b[0m\u001b[1;33m\u001b[0m\u001b[1;33m\u001b[0m\u001b[0m\n",
      "\u001b[1;31mExecuteError\u001b[0m: ERROR 000464: Cannot get exclusive schema lock.  Either being edited or in use by another application or service.\nFailed to execute (CopyFeatures).\n"
     ]
    }
   ],
   "source": [
    "# Copy initial shape\n",
    "cp_green = copy_feat(green_areas, outfeat)\n",
    "\n",
    "# Join with initial shape\n",
    "green_lyr = join_table(\n",
    "    cp_green, lyr_greenbf,\n",
    "    gid, gid,\n",
    "    cols=[\"SUM_cdir\", \"p_edi_buf\", \"SUM_areaint\"]\n",
    ")"
   ]
  },
  {
   "cell_type": "code",
   "execution_count": null,
   "id": "3b2cc2b7-329f-4717-a130-c8ca7227cb6e",
   "metadata": {},
   "outputs": [],
   "source": [
    "# Get intersected area propotion in relation\n",
    "# to orignal polygon area\n",
    "green_lyr = geom_attr_to_shp(\n",
    "    green_lyr, \"garea\",\n",
    "    geom_attr=\"AREA\", srs=srs,\n",
    "    area_unit=\"SQUARE_METERS\"\n",
    ")\n",
    "\n",
    "green_lyr = add_col(green_lyr, \"p_edi\", \"DOUBLE\", None)\n",
    "\n",
    "green_lyr = cols_calc(green_lyr, \"p_edi\", \"calc_area(!garea!,!SUM_areaint!)\", code=\"\"\"def calc_area(total, areai):\n",
    "    if areai == None:\n",
    "        return 0\n",
    "    else:\n",
    "        return areai / total\"\"\"\n",
    ")"
   ]
  },
  {
   "cell_type": "code",
   "execution_count": null,
   "id": "4629cf62-9940-454a-82ea-1652664b6fe6",
   "metadata": {},
   "outputs": [],
   "source": [
    "green_lyr = add_col(green_lyr, \"uareahec\", \"DOUBLE\", None)\n",
    "\n",
    "green_lyr = cols_calc(green_lyr, \"uareahec\", \"calc_area(!SUM_areaint!)\", code=\"\"\"def calc_area(areai):\n",
    "    if areai == None:\n",
    "        return 0\n",
    "    else:\n",
    "        return areai / 10000\"\"\"\n",
    ")"
   ]
  },
  {
   "cell_type": "code",
   "execution_count": null,
   "id": "9889e015-cef8-4d32-a01d-ac1b6d72e2f2",
   "metadata": {},
   "outputs": [],
   "source": []
  }
 ],
 "metadata": {
  "kernelspec": {
   "display_name": "Python 3 (ipykernel)",
   "language": "python",
   "name": "python3"
  },
  "language_info": {
   "codemirror_mode": {
    "name": "ipython",
    "version": 3
   },
   "file_extension": ".py",
   "mimetype": "text/x-python",
   "name": "python",
   "nbconvert_exporter": "python",
   "pygments_lexer": "ipython3",
   "version": "3.9.16"
  }
 },
 "nbformat": 4,
 "nbformat_minor": 5
}
