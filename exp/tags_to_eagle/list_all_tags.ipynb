{
 "cells": [
  {
   "cell_type": "code",
   "execution_count": 1,
   "id": "2b46e83b-939b-4ff7-857e-4d32e60a30aa",
   "metadata": {},
   "outputs": [],
   "source": [
    "osm_file = '/mnt/d/osmtags_to_classes/osm_lisbon.pbf'\n",
    "\n",
    "not_keys = [\n",
    "    'ogc_fid', 'osm_id', 'osm_way_id',\n",
    "    'name', 'type', 'admin_level', 'boundary',\n",
    "    'other_tags', 'wkb_geometry'\n",
    "]\n",
    "\n",
    "table = \"multipolygons\"\n",
    "\n",
    "out = '/mnt/d/osmtags_to_classes/osm_lisbon_tags.xlsx'"
   ]
  },
  {
   "cell_type": "code",
   "execution_count": 2,
   "id": "e9950112-330b-469a-ba10-43b7cfc7bd48",
   "metadata": {},
   "outputs": [],
   "source": [
    "from glass.pys.oss import fprop\n",
    "from glass.sql.db   import create_pgdb\n",
    "from glass.it.db    import osm_to_psql\n",
    "from glass.prop.sql import cols_name\n",
    "from glass.sql.q import q_to_obj\n",
    "from glass.dtt.mge.pd import merge_df\n",
    "from glass.wt  import obj_to_tbl"
   ]
  },
  {
   "cell_type": "code",
   "execution_count": 3,
   "id": "2813e6d3-d659-48ec-bf38-bfef8d1e8e3b",
   "metadata": {},
   "outputs": [
    {
     "data": {
      "text/plain": [
       "'osm_lisbon'"
      ]
     },
     "execution_count": 3,
     "metadata": {},
     "output_type": "execute_result"
    }
   ],
   "source": [
    "osm_db = create_pgdb(fprop(osm_file, 'fn'), overwrite=True)\n",
    "\n",
    "osm_to_psql(osm_file, osm_db)"
   ]
  },
  {
   "cell_type": "code",
   "execution_count": 4,
   "id": "719e9009-e1e9-41e4-bccf-9b3d700d875e",
   "metadata": {},
   "outputs": [],
   "source": [
    "# Get table columns\n",
    "\n",
    "_cols = cols_name(osm_db, table, sanitizeSpecialWords=False)\n",
    "cols = [c for c in _cols if c not in not_keys]"
   ]
  },
  {
   "cell_type": "code",
   "execution_count": 5,
   "id": "bcb14bfc-2e3f-46eb-9ccc-32df08a25750",
   "metadata": {},
   "outputs": [
    {
     "data": {
      "text/plain": [
       "'/mnt/d/osmtags_to_classes/osm_lisbon_tags.xlsx'"
      ]
     },
     "execution_count": 5,
     "metadata": {},
     "output_type": "execute_result"
    }
   ],
   "source": [
    "# Get Values of each key\n",
    "\n",
    "dfs_vals = []\n",
    "\n",
    "for col in cols:\n",
    "    q = (\n",
    "        f\"SELECT '{col}' AS osm_key, \"\n",
    "        f\"osm.{col} AS osm_value FROM {table} AS osm \"\n",
    "        f\"WHERE osm.{col} IS NOT NULL \"\n",
    "        f\"GROUP BY osm.{col}\"\n",
    "    )\n",
    "\n",
    "    df = q_to_obj(osm_db, q, db_api='psql')\n",
    "\n",
    "    dfs_vals.append(df)\n",
    "\n",
    "tags_df = merge_df(dfs_vals)\n",
    "\n",
    "obj_to_tbl(tags_df, out)"
   ]
  },
  {
   "cell_type": "code",
   "execution_count": 6,
   "id": "f14e7298-42ac-4457-ba8c-9c59d1a4d1f3",
   "metadata": {},
   "outputs": [
    {
     "data": {
      "text/plain": [
       "['aeroway',\n",
       " 'amenity',\n",
       " 'barrier',\n",
       " 'building',\n",
       " 'craft',\n",
       " 'geological',\n",
       " 'historic',\n",
       " 'land_area',\n",
       " 'landuse',\n",
       " 'leisure',\n",
       " 'man_made',\n",
       " 'military',\n",
       " 'natural',\n",
       " 'office',\n",
       " 'place',\n",
       " 'shop',\n",
       " 'sport',\n",
       " 'tourism',\n",
       " 'waterway',\n",
       " 'power',\n",
       " 'railway',\n",
       " 'healthcare',\n",
       " 'highway',\n",
       " 'water',\n",
       " 'landcover',\n",
       " 'industrial',\n",
       " 'leaf_type',\n",
       " 'material',\n",
       " 'surface',\n",
       " 'leaf_cycle']"
      ]
     },
     "execution_count": 6,
     "metadata": {},
     "output_type": "execute_result"
    }
   ],
   "source": [
    "cols"
   ]
  },
  {
   "cell_type": "code",
   "execution_count": null,
   "id": "0a71b380-9493-4243-a9fa-998660dbea30",
   "metadata": {},
   "outputs": [],
   "source": []
  }
 ],
 "metadata": {
  "kernelspec": {
   "display_name": "Python 3 (ipykernel)",
   "language": "python",
   "name": "python3"
  },
  "language_info": {
   "codemirror_mode": {
    "name": "ipython",
    "version": 3
   },
   "file_extension": ".py",
   "mimetype": "text/x-python",
   "name": "python",
   "nbconvert_exporter": "python",
   "pygments_lexer": "ipython3",
   "version": "3.10.12"
  }
 },
 "nbformat": 4,
 "nbformat_minor": 5
}
