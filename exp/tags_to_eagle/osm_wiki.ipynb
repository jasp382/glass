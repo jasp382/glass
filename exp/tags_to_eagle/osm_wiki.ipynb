{
 "cells": [
  {
   "cell_type": "code",
   "execution_count": null,
   "id": "ad7c4110-0d17-4dfd-bdd1-6f911c854043",
   "metadata": {},
   "outputs": [],
   "source": [
    "#url = 'https://wiki.openstreetmap.org/wiki/Tag:sport%3Dsoccer;tennis;basketball;multi;athletics;volleyball;running;netball'\n",
    "\n",
    "url = 'https://wiki.openstreetmap.org/wiki/Tag:{}%3D{}'\n",
    "\n",
    "tags = '/mnt/d/osmtags_to_classes/osm_lisbon_tags.xlsx'\n",
    "\n",
    "out = '/mnt/d/osmtags_to_classes/osm_lisbon_tagsinfo.xlsx'"
   ]
  },
  {
   "cell_type": "code",
   "execution_count": null,
   "id": "fe80bf21-972a-48de-84c6-8bb38f5b4b7e",
   "metadata": {},
   "outputs": [],
   "source": [
    "import requests as rq\n",
    "from bs4 import BeautifulSoup\n",
    "import pandas as pd\n",
    "\n",
    "from glass.rd import tbl_to_obj\n",
    "from glass.wt import obj_to_tbl"
   ]
  },
  {
   "cell_type": "code",
   "execution_count": null,
   "id": "7fb061ed-450c-49b4-b845-c0471b234644",
   "metadata": {},
   "outputs": [],
   "source": [
    "tdf = tbl_to_obj(tags)"
   ]
  },
  {
   "cell_type": "code",
   "execution_count": null,
   "id": "2f2073ea-8d3a-47e4-829c-2e7430c872d7",
   "metadata": {},
   "outputs": [],
   "source": [
    "def get_taginfo(row):\n",
    "    rsp = rq.get(url.format(row[\"osm_key\"], row[\"osm_value\"]))\n",
    "\n",
    "    soup = BeautifulSoup(rsp.content)#, 'html5lib')\n",
    "    body_content = soup.find('div', attrs={'id': 'mw-content-text'})\n",
    "\n",
    "    ps = body_content.findAll('p')\n",
    "\n",
    "    try:\n",
    "        row['info'] = ps[0].text[:-2]\n",
    "    except:\n",
    "        row['info'] = f'erro -> {row[\"osm_key\"]} | {row[\"osm_value\"]}'\n",
    "\n",
    "    return row\n",
    "\n",
    "tdf = tdf.apply(lambda x: get_taginfo(x), axis=1)"
   ]
  },
  {
   "cell_type": "code",
   "execution_count": null,
   "id": "b1ddd4de-f2f1-4e73-9240-b59527eb18c4",
   "metadata": {},
   "outputs": [],
   "source": [
    "obj_to_tbl(tdf, out)"
   ]
  },
  {
   "cell_type": "code",
   "execution_count": null,
   "id": "8e03e908-158d-4958-a7ca-654dc6b1554e",
   "metadata": {},
   "outputs": [],
   "source": []
  }
 ],
 "metadata": {
  "kernelspec": {
   "display_name": "Python 3 (ipykernel)",
   "language": "python",
   "name": "python3"
  },
  "language_info": {
   "codemirror_mode": {
    "name": "ipython",
    "version": 3
   },
   "file_extension": ".py",
   "mimetype": "text/x-python",
   "name": "python",
   "nbconvert_exporter": "python",
   "pygments_lexer": "ipython3",
   "version": "3.10.12"
  }
 },
 "nbformat": 4,
 "nbformat_minor": 5
}
