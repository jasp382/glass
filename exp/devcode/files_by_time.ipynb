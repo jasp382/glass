{
 "cells": [
  {
   "cell_type": "code",
   "execution_count": null,
   "id": "df2b60d9-f349-4978-8725-b15801ae78ee",
   "metadata": {},
   "outputs": [],
   "source": [
    "folder = '/mnt/c/multimedias/artur/'"
   ]
  },
  {
   "cell_type": "code",
   "execution_count": null,
   "id": "0404b866-4a73-4bd3-bfa1-18125f923c6d",
   "metadata": {},
   "outputs": [],
   "source": [
    "import os\n",
    "import datetime as dt\n",
    "from glass.pys.oss import lst_folders_subfiles, fprop"
   ]
  },
  {
   "cell_type": "code",
   "execution_count": null,
   "id": "81e767a1-5111-4f92-a212-6d10d67113f5",
   "metadata": {},
   "outputs": [],
   "source": [
    "reftm = dt.datetime(1970, 1, 1)"
   ]
  },
  {
   "cell_type": "code",
   "execution_count": null,
   "id": "d48e0c84-8c61-4651-b731-d680f99fbad5",
   "metadata": {},
   "outputs": [],
   "source": [
    "photos = lst_folders_subfiles(folder)"
   ]
  },
  {
   "cell_type": "code",
   "execution_count": null,
   "id": "3460e526-92be-472c-a3ba-b0276636d740",
   "metadata": {},
   "outputs": [],
   "source": [
    "files = {}\n",
    "\n",
    "for fld in photos:\n",
    "    for f in photos[fld]:\n",
    "        #unix = os.path.getctime(f)\n",
    "\n",
    "        #_dt = reftm + dt.timedelta(seconds=unix)\n",
    "\n",
    "        #files[f] = _dt.strftime('%Y-%m-%d %H:%M:%S')\n",
    "\n",
    "        name = fprop(f, 'fn')\n",
    "\n",
    "        if name.startswith('P_') or name.startswith('IMG_'):\n",
    "            _datetime = name.split('_')\n",
    "            if len(_datetime) < 3:\n",
    "                _dt = None\n",
    "\n",
    "            else:\n",
    "                _, date, time = _datetime[:3]\n",
    "                _dt = dt.datetime.strptime(f'{date} {time}', '%Y%m%d %H%M%S')\n",
    "\n",
    "        elif name.startswith('IMG') and not name.startswith('IMG_'):\n",
    "            _name = name.replace('IMG', '')\n",
    "\n",
    "            if '_' in _name:\n",
    "                _name = _name.split('_')[0]\n",
    "\n",
    "            _dt = dt.datetime.strptime(_name, '%Y%m%d%H%M%S')\n",
    "\n",
    "        else:\n",
    "            if len(name) == 15 and name[8] == '_':\n",
    "                _dt = dt.datetime.strptime(name, '%Y%m%d_%H%M%S')\n",
    "\n",
    "            else:\n",
    "                _dt = None\n",
    "\n",
    "        if not _dt:\n",
    "            files[f] = None\n",
    "        else:\n",
    "            files[f] = _dt.strftime('%Y-%m-%d %H:%M:%S')"
   ]
  },
  {
   "cell_type": "code",
   "execution_count": null,
   "id": "0c44d8b8-34a7-46a0-8376-cd7aecaf3893",
   "metadata": {},
   "outputs": [],
   "source": [
    "files"
   ]
  },
  {
   "cell_type": "code",
   "execution_count": null,
   "id": "217f3405-4285-4a4d-8102-8c5b0f00740f",
   "metadata": {},
   "outputs": [],
   "source": []
  }
 ],
 "metadata": {
  "kernelspec": {
   "display_name": "Python 3 (ipykernel)",
   "language": "python",
   "name": "python3"
  },
  "language_info": {
   "codemirror_mode": {
    "name": "ipython",
    "version": 3
   },
   "file_extension": ".py",
   "mimetype": "text/x-python",
   "name": "python",
   "nbconvert_exporter": "python",
   "pygments_lexer": "ipython3",
   "version": "3.10.6"
  }
 },
 "nbformat": 4,
 "nbformat_minor": 5
}
