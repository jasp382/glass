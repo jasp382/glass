{
 "cells": [
  {
   "cell_type": "code",
   "execution_count": null,
   "id": "83219ef4-e474-402c-9be5-d5d560cf3af6",
   "metadata": {},
   "outputs": [],
   "source": [
    "import requests\n",
    "\n",
    "import pandas as pd\n",
    "\n",
    "from glass.cons.sat import con_datahub\n",
    "from glass.acq.stl.apis import APISentinel"
   ]
  },
  {
   "cell_type": "code",
   "execution_count": null,
   "id": "53e18858-ebb4-48c2-b2d8-ba74fb085d52",
   "metadata": {},
   "outputs": [],
   "source": [
    "geo = '/home/ubuntu/autocls_e4/stdrst_valeflores.tif'\n",
    "\n",
    "start_date = \"2023-09-01\"\n",
    "end_date = \"2023-09-30\"\n",
    "data_collection = \"SENTINEL-2\""
   ]
  },
  {
   "cell_type": "code",
   "execution_count": null,
   "id": "6de40f44-9c25-42d8-8714-05f167072e97",
   "metadata": {},
   "outputs": [],
   "source": [
    "api = APISentinel()\n",
    "\n",
    "products = api.products_query(geo, start_date, end_date, data_collection)"
   ]
  },
  {
   "cell_type": "code",
   "execution_count": null,
   "id": "8d74e0eb-0e75-43ea-8362-b9a40b5a629e",
   "metadata": {},
   "outputs": [],
   "source": [
    "products"
   ]
  },
  {
   "cell_type": "code",
   "execution_count": null,
   "id": "ab0257a0-44f2-47c3-9fb8-b792c7d64309",
   "metadata": {},
   "outputs": [],
   "source": [
    "aoi = \"POLYGON((4.220581 50.958859,4.521264 50.953236,4.545977 50.906064,4.541858 50.802029,4.489685 50.763825,4.23843 50.767734,4.192435 50.806369,4.189689 50.907363,4.220581 50.958859))'\"\n",
    "aoi = \"POLYGON((-8.43237589108553 40.2009900376991,-8.40206339519716 40.2008374320163,-8.402252450115 40.179305886615,-8.4325553631199 40.1794583767672,-8.43237589108553 40.2009900376991))\""
   ]
  },
  {
   "cell_type": "code",
   "execution_count": null,
   "id": "0c360c05-dd23-4220-990a-23636e9b08ef",
   "metadata": {},
   "outputs": [],
   "source": [
    "json = requests.get((\n",
    "    \"https://catalogue.dataspace.copernicus.eu/odata/v1/Products?\"\n",
    "    f\"$filter=Collection/Name eq '{data_collection}' and OData.CSC.\"\n",
    "    f\"Intersects(area=geography'SRID=4326;{aoi}) and ContentDate/\"\n",
    "    f\"Start gt {start_date}T00:00:00.000Z and ContentDate/Start lt {end_date}\"\n",
    "    \"T00:00:00.000Z\"\n",
    ")).json()\n",
    "\n",
    "\n",
    "idf = pd.DataFrame.from_dict(json['value'])"
   ]
  },
  {
   "cell_type": "code",
   "execution_count": null,
   "id": "cc1a2526-c644-4016-945e-a66f303a1c2f",
   "metadata": {},
   "outputs": [],
   "source": [
    "json"
   ]
  },
  {
   "cell_type": "code",
   "execution_count": null,
   "id": "12107370-7e97-4ee2-85a9-8b270d22901c",
   "metadata": {},
   "outputs": [],
   "source": []
  }
 ],
 "metadata": {
  "kernelspec": {
   "display_name": "Python 3 (ipykernel)",
   "language": "python",
   "name": "python3"
  },
  "language_info": {
   "codemirror_mode": {
    "name": "ipython",
    "version": 3
   },
   "file_extension": ".py",
   "mimetype": "text/x-python",
   "name": "python",
   "nbconvert_exporter": "python",
   "pygments_lexer": "ipython3",
   "version": "3.10.12"
  }
 },
 "nbformat": 4,
 "nbformat_minor": 5
}
