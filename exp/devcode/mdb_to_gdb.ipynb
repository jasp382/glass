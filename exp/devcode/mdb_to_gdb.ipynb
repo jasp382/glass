{
 "cells": [
  {
   "cell_type": "code",
   "execution_count": null,
   "id": "bba0171c-0461-4ff0-b23c-ec67a3838e46",
   "metadata": {},
   "outputs": [],
   "source": [
    "mdbfile = '/mnt/d/mdb/dados_suicidio.mdb'"
   ]
  },
  {
   "cell_type": "code",
   "execution_count": null,
   "id": "be7ff904-c4ed-4348-979d-8ddd0a1b7ea7",
   "metadata": {},
   "outputs": [],
   "source": [
    "import geopandas as gp"
   ]
  },
  {
   "cell_type": "code",
   "execution_count": null,
   "id": "f0b4edb4-0e65-468f-88d1-b890b42f2933",
   "metadata": {},
   "outputs": [],
   "source": [
    "df = gp.read_file(mdbfile, layer='municipios_espanha')"
   ]
  },
  {
   "cell_type": "code",
   "execution_count": null,
   "id": "15d33bba-ffb6-4a43-ad0e-de191b46a5dd",
   "metadata": {},
   "outputs": [],
   "source": [
    "import fiona"
   ]
  },
  {
   "cell_type": "code",
   "execution_count": null,
   "id": "ce4a72ee-c663-498d-a260-ff552e9733b0",
   "metadata": {},
   "outputs": [],
   "source": [
    "layers = fiona.listlayers(mdbfile)"
   ]
  },
  {
   "cell_type": "code",
   "execution_count": null,
   "id": "9fb50275-2016-402e-a1ae-455cbd2eced8",
   "metadata": {},
   "outputs": [],
   "source": []
  }
 ],
 "metadata": {
  "kernelspec": {
   "display_name": "Python 3 (ipykernel)",
   "language": "python",
   "name": "python3"
  },
  "language_info": {
   "codemirror_mode": {
    "name": "ipython",
    "version": 3
   },
   "file_extension": ".py",
   "mimetype": "text/x-python",
   "name": "python",
   "nbconvert_exporter": "python",
   "pygments_lexer": "ipython3",
   "version": "3.10.12"
  }
 },
 "nbformat": 4,
 "nbformat_minor": 5
}
