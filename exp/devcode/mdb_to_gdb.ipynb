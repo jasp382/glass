{
 "cells": [
  {
   "cell_type": "code",
   "execution_count": null,
   "id": "d49dcef5-f2a7-4428-99ac-92f6f507aaf7",
   "metadata": {},
   "outputs": [],
   "source": [
    "mdbfile = 'D:/mdb/dados_suicidio.mdb'\n",
    "db_driver = '{Microsoft Access Driver (*.mdb, *.accdb)}'"
   ]
  },
  {
   "cell_type": "code",
   "execution_count": null,
   "id": "7e1736e4-c0a0-4741-8d2d-2a8400ac07f1",
   "metadata": {},
   "outputs": [],
   "source": [
    "from osgeo import ogr\n",
    "from base64 import b64encode\n",
    "import pyodbc\n",
    "import pandas as pd\n",
    "\n",
    "from shapely import wkt"
   ]
  },
  {
   "cell_type": "code",
   "execution_count": null,
   "id": "ffe7f596-0713-4d22-90a6-e88e1224c7f2",
   "metadata": {},
   "outputs": [],
   "source": [
    "constr = (\n",
    "    rf'DRIVER={db_driver};'\n",
    "    rf'DBQ={mdbfile};'\n",
    ")\n",
    "\n",
    "con = pyodbc.connect(constr)\n",
    "\n",
    "cursor = con.cursor()\n",
    "\n",
    "cursor.execute(\"SELECT SHAPE AS geometry FROM municipios_espanha\")"
   ]
  },
  {
   "cell_type": "code",
   "execution_count": null,
   "id": "ff4214e7-c3ff-4fbd-a6de-9e183f6f98e2",
   "metadata": {},
   "outputs": [],
   "source": [
    "geoms = [row.geometry for row in cursor.fetchall()]"
   ]
  },
  {
   "cell_type": "code",
   "execution_count": null,
   "id": "d5e2cbf3-0133-4a97-b040-83f0de3b936d",
   "metadata": {},
   "outputs": [],
   "source": [
    "tst = b64encode(geoms[0])\n",
    "\n",
    "tststr = tst.decode('utf-8')"
   ]
  },
  {
   "cell_type": "code",
   "execution_count": null,
   "id": "cdc770f7-6720-497d-b704-37e5946db6aa",
   "metadata": {},
   "outputs": [],
   "source": [
    "tststr"
   ]
  },
  {
   "cell_type": "code",
   "execution_count": null,
   "id": "d64c7b64-7fa9-4976-8c4e-7217d891abd0",
   "metadata": {},
   "outputs": [],
   "source": [
    "lyr = src.ExecuteSQL('SELECT SHAPE AS geometry FROM municipios_espanha')"
   ]
  },
  {
   "cell_type": "code",
   "execution_count": null,
   "id": "ca652b74-af93-498d-8af9-dcb2179b4832",
   "metadata": {},
   "outputs": [],
   "source": [
    "geoms = []\n",
    "\n",
    "for idx in range(lyr.GetFeatureCount()):\n",
    "    feat = lyr.GetFeature(idx)\n",
    "\n",
    "    geom = feat.GetGeometryRef()\n",
    "\n",
    "    gwkt = geom.ExportToWkb()\n",
    "\n",
    "    geoms.append(gwkt)"
   ]
  },
  {
   "cell_type": "code",
   "execution_count": null,
   "id": "77fbf326-3ed4-4ed0-a60b-9ba6411ad145",
   "metadata": {},
   "outputs": [],
   "source": [
    "lyr.GetFeatureCount()"
   ]
  },
  {
   "cell_type": "code",
   "execution_count": null,
   "id": "db0c0a84-4c0f-417f-b563-852abad7a700",
   "metadata": {},
   "outputs": [],
   "source": []
  },
  {
   "cell_type": "code",
   "execution_count": null,
   "id": "eca6c57c-8f8f-4aac-8093-cfa38a8b5c96",
   "metadata": {},
   "outputs": [],
   "source": [
    "constr = (\n",
    "    rf'DRIVER={db_driver};'\n",
    "    rf'DBQ={mdbfile};'\n",
    ")\n",
    "\n",
    "con = pyodbc.connect(constr)\n",
    "\n",
    "#df = pd.read_sql(sql=\"SELECT * FROM municipios_espanha\", con=con)"
   ]
  },
  {
   "cell_type": "code",
   "execution_count": null,
   "id": "d9f39231-22a4-48d6-b533-25280064a161",
   "metadata": {},
   "outputs": [],
   "source": [
    "cursor = con.cursor()\n",
    "\n",
    "cursor.execute(\"SELECT SHAPE AS geometry FROM municipios_espanha\")"
   ]
  },
  {
   "cell_type": "code",
   "execution_count": null,
   "id": "57bb00e9-deae-437e-898d-d1a9660f55d5",
   "metadata": {},
   "outputs": [],
   "source": []
  },
  {
   "cell_type": "code",
   "execution_count": null,
   "id": "bb9d8072-4556-4ae1-b06c-f3ee75e37a46",
   "metadata": {},
   "outputs": [],
   "source": [
    "from shapely import wkb"
   ]
  },
  {
   "cell_type": "code",
   "execution_count": null,
   "id": "c9da58b7-561b-4832-8935-571966e6ce11",
   "metadata": {},
   "outputs": [],
   "source": [
    "geom = wkb.loads(geoms[0])"
   ]
  },
  {
   "cell_type": "code",
   "execution_count": null,
   "id": "76dc7e0e-ee9b-4902-90d5-482e885bfea0",
   "metadata": {},
   "outputs": [],
   "source": [
    "geoms[0]"
   ]
  },
  {
   "cell_type": "code",
   "execution_count": null,
   "id": "07e1ec84-718b-4f23-a254-7d810529fc32",
   "metadata": {},
   "outputs": [],
   "source": [
    "df"
   ]
  },
  {
   "cell_type": "code",
   "execution_count": null,
   "id": "88c9a8d3-9ad9-4047-aaee-5c6a1e77eaa4",
   "metadata": {},
   "outputs": [],
   "source": []
  }
 ],
 "metadata": {
  "kernelspec": {
   "display_name": "Python 3 (ipykernel)",
   "language": "python",
   "name": "python3"
  },
  "language_info": {
   "codemirror_mode": {
    "name": "ipython",
    "version": 3
   },
   "file_extension": ".py",
   "mimetype": "text/x-python",
   "name": "python",
   "nbconvert_exporter": "python",
   "pygments_lexer": "ipython3",
   "version": "3.9.18"
  }
 },
 "nbformat": 4,
 "nbformat_minor": 5
}
