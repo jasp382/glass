{
 "cells": [
  {
   "cell_type": "code",
   "execution_count": 1,
   "id": "fe11708f-96f7-4643-bb78-f961f4747000",
   "metadata": {},
   "outputs": [],
   "source": [
    "#tbl = '/mnt/e/rms/equipasaude/areainf_cs_2021_v3.xlsx'\n",
    "tbl = '/mnt/e/rms/equipasaude/AInf_CSP_Azores_v3.xlsx'\n",
    "\n",
    "tbl_sheet = 'ainf'\n",
    "\n",
    "cscol = 'idcs'\n",
    "\n",
    "fregcol = 'ddccff'\n",
    "\n",
    "facilities     = '/mnt/e/rms/equipasaude/cs_azores.shp'\n",
    "idfac = 'csid'\n",
    "\n",
    "incidents      = '/mnt/e/rms/azores/rms_bgri21_pnt.shp'\n",
    "fregpk = 'idfreg'\n",
    "\n",
    "outfolder = '/mnt/e/rms/acc_csazores'"
   ]
  },
  {
   "cell_type": "code",
   "execution_count": 2,
   "id": "bf3e627e-0994-484c-b659-7119dd024186",
   "metadata": {},
   "outputs": [
    {
     "name": "stderr",
     "output_type": "stream",
     "text": [
      "/home/jasp/.virtualenvs/genv/lib/python3.8/site-packages/geopandas/_compat.py:112: UserWarning: The Shapely GEOS version (3.10.2-CAPI-1.16.0) is incompatible with the GEOS version PyGEOS was compiled with (3.10.4-CAPI-1.16.2). Conversions between both will be slow.\n",
      "  warnings.warn(\n"
     ]
    }
   ],
   "source": [
    "import os\n",
    "import numpy as np\n",
    "from glass.rd      import tbl_to_obj\n",
    "from glass.rd.shp  import shp_to_obj\n",
    "from glass.pys.oss import mkdir\n",
    "from glass.wt.shp  import df_to_shp"
   ]
  },
  {
   "cell_type": "code",
   "execution_count": 3,
   "id": "2c3c19ca-a1dc-4630-8aeb-3d2c0c454168",
   "metadata": {},
   "outputs": [],
   "source": [
    "df = tbl_to_obj(tbl, sheet=tbl_sheet)"
   ]
  },
  {
   "cell_type": "code",
   "execution_count": 4,
   "id": "53d83fe9-1f43-455a-a64b-60a10c557bc2",
   "metadata": {},
   "outputs": [],
   "source": [
    "df[fregcol] = df[fregcol].astype(str)\n",
    "df[f\"_{fregcol}\"] = df[fregcol].str.replace('\\t', '')\n",
    "\n",
    "df[fregcol] = np.where(\n",
    "    df[f\"_{fregcol}\"].isna(),\n",
    "    df[fregcol], df[f\"_{fregcol}\"]\n",
    ")"
   ]
  },
  {
   "cell_type": "code",
   "execution_count": 5,
   "id": "55f74cda-86fc-476f-849b-69ddc9fabb87",
   "metadata": {},
   "outputs": [],
   "source": [
    "fregs = df[fregcol].unique()"
   ]
  },
  {
   "cell_type": "code",
   "execution_count": 6,
   "id": "3d6e8183-e3da-4112-ae03-83376f115660",
   "metadata": {},
   "outputs": [],
   "source": [
    "fregs_cs = {}\n",
    "fregs_ia = {}\n",
    "\n",
    "for freg in fregs:\n",
    "    fcs = df[df[fregcol] == freg]\n",
    "    \n",
    "    fregs_cs[freg] = list(fcs[cscol].unique())\n",
    "    \n",
    "    fregs_cs[freg].sort()\n",
    "    \n",
    "    fregs_ia[freg] = 0"
   ]
  },
  {
   "cell_type": "code",
   "execution_count": 7,
   "id": "ab6dbdc1-114d-44b9-8bb9-ba891033bbb4",
   "metadata": {},
   "outputs": [],
   "source": [
    "# Get Influence Areas\n",
    "\n",
    "iareas = {}\n",
    "\n",
    "iaid = 1\n",
    "for i in range(len(fregs)):\n",
    "    if fregs_ia[fregs[i]]:\n",
    "        continue\n",
    "    \n",
    "    iareas[iaid] = [fregs[i]]\n",
    "    \n",
    "    fregs_ia[fregs[i]] = 1\n",
    "    \n",
    "    for e in range(i+1, len(fregs)):\n",
    "        if fregs_ia[fregs[e]]:\n",
    "            continue\n",
    "        \n",
    "        if fregs_cs[fregs[i]] == fregs_cs[fregs[e]]:\n",
    "            iareas[iaid].append(fregs[e])\n",
    "            \n",
    "            fregs_ia[fregs[e]] = 1\n",
    "            \n",
    "            continue\n",
    "    \n",
    "    iaid += 1"
   ]
  },
  {
   "cell_type": "code",
   "execution_count": 8,
   "id": "1e70600d-d648-4236-bbb8-bdc7e4a1e89d",
   "metadata": {},
   "outputs": [],
   "source": [
    "# For each iarea, get incidents and facilities\n",
    "\n",
    "# Obter as facilities\n",
    "fdf = shp_to_obj(facilities)\n",
    "\n",
    "# Get incidents\n",
    "idf = shp_to_obj(incidents)"
   ]
  },
  {
   "cell_type": "code",
   "execution_count": 9,
   "id": "9fba57c7-531d-496b-9232-5c328165dd45",
   "metadata": {},
   "outputs": [],
   "source": [
    "for ia in iareas:\n",
    "    # Select incidents\n",
    "    s_idf = idf[idf[fregpk].isin(iareas[ia])]\n",
    "    \n",
    "    # Select facilities\n",
    "    s_fdf = fdf[fdf[idfac].isin(fregs_cs[iareas[ia][0]])]\n",
    "    \n",
    "    if not s_idf.shape[0] or not s_fdf.shape[0]:\n",
    "        print('Start Warning')\n",
    "        print(ia)\n",
    "        print(iareas[ia])\n",
    "        print(fregs_cs[iareas[ia][0]])\n",
    "        print('===============\\n===========\\n')\n",
    "    \n",
    "    # Make dir\n",
    "    iafolder = mkdir(os.path.join(outfolder, f'ia_{str(ia)}'))\n",
    "    \n",
    "    # Save shapefiles\n",
    "    df_to_shp(s_idf, os.path.join(iafolder, 'incidents.shp'))\n",
    "    df_to_shp(s_fdf, os.path.join(iafolder, 'facilities.shp'))"
   ]
  },
  {
   "cell_type": "code",
   "execution_count": null,
   "id": "29f4b482-d31e-4d30-9af5-453b11e3146f",
   "metadata": {},
   "outputs": [],
   "source": []
  }
 ],
 "metadata": {
  "kernelspec": {
   "display_name": "Python 3 (ipykernel)",
   "language": "python",
   "name": "python3"
  },
  "language_info": {
   "codemirror_mode": {
    "name": "ipython",
    "version": 3
   },
   "file_extension": ".py",
   "mimetype": "text/x-python",
   "name": "python",
   "nbconvert_exporter": "python",
   "pygments_lexer": "ipython3",
   "version": "3.8.10"
  }
 },
 "nbformat": 4,
 "nbformat_minor": 5
}
