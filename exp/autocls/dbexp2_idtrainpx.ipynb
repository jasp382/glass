{
 "cells": [
  {
   "cell_type": "code",
   "execution_count": null,
   "id": "3287cf0d-9e2d-483a-8801-ea121983a5f8",
   "metadata": {},
   "outputs": [],
   "source": [
    "data = {\n",
    "    'xlsx'  : '/mnt/d/autocls_e3/classref/refexp32_vec.shp',\n",
    "    'sheet' : None,\n",
    "    'pxid'  : 'pxid',\n",
    "    'classcol' : 'rdv_class'\n",
    "}\n",
    "\n",
    "yescls = 'roads'\n",
    "nocls = 'no_roads'\n",
    "mixcls = []\n",
    "\n",
    "outshp = '/mnt/d/autocls_e3/trainref/exp33_vec.shp'\n",
    "outrst = '/mnt/d/autocls_e3/trainref/exp33_rst.tif'\n",
    "\n",
    "refrst = '/mnt/d/autocls_e3/stdlmt/stdrst_valeflores.tif'\n",
    "\n",
    "expname = 'exp33'\n",
    "\n",
    "db = 'gthruth_valeflores_v3'"
   ]
  },
  {
   "cell_type": "code",
   "execution_count": null,
   "id": "51c1a20e-4d4f-4018-bb75-a43eb5fddd03",
   "metadata": {},
   "outputs": [],
   "source": [
    "import json as js\n",
    "import random as rnd\n",
    "import numpy as np\n",
    "import pandas as pd\n",
    "from glass.rd import tbl_to_obj\n",
    "from glass.pd.stats import df_to_freqdf\n",
    "from glass.it.shp import dbtbl_to_shp\n",
    "from glass.prop.prj import get_epsg\n",
    "from glass.dtt.rst.torst import shp_to_rst"
   ]
  },
  {
   "cell_type": "code",
   "execution_count": null,
   "id": "95b86b16-0b72-49cf-89c0-e99c5b472e43",
   "metadata": {},
   "outputs": [],
   "source": [
    "epsg = get_epsg(refrst)"
   ]
  },
  {
   "cell_type": "code",
   "execution_count": null,
   "id": "74901f1a-47f1-482d-b9f0-db96aed3bf50",
   "metadata": {},
   "outputs": [],
   "source": [
    "if is_shp(data['xlsx']):\n",
    "    ddf = shp_to_obj(data['xlsx'])\n",
    "else:\n",
    "    ddf = tbl_to_obj(data['xlsx'], sheet=data['sheet'])"
   ]
  },
  {
   "cell_type": "code",
   "execution_count": null,
   "id": "e834a8ff-7db9-4869-939a-114b6db9850b",
   "metadata": {},
   "outputs": [],
   "source": [
    "# Count number of classes\n",
    "ddf['classes'] = ddf['classes'].str.replace(\"'\", '\"')\n",
    "ddf['classes'] = ddf['classes'].apply(js.loads)\n",
    "ddf['nclasses'] = ddf['classes'].map(len)"
   ]
  },
  {
   "cell_type": "code",
   "execution_count": null,
   "id": "ba0d2092-c09c-41df-96b0-2d0ab9931e12",
   "metadata": {},
   "outputs": [],
   "source": [
    "ddf['subcls'] = np.where(\n",
    "    ddf[data['classcol']].isin(mixcls),\n",
    "    '-+1', ''\n",
    ")"
   ]
  },
  {
   "cell_type": "code",
   "execution_count": null,
   "id": "eff67d04-845c-4535-bbaf-cfee3ed43dc2",
   "metadata": {},
   "outputs": [],
   "source": [
    "ddf['subcls'] = np.where(\n",
    "    (ddf[data['classcol']] == yescls) & (ddf.nclasses > 1),\n",
    "    '1+', ddf.subcls\n",
    ")\n",
    "\n",
    "ddf['subcls'] = np.where(\n",
    "    (ddf[data['classcol']] == nocls) & (ddf.nclasses > 1),\n",
    "    '1-', ddf.subcls\n",
    ")\n",
    "\n",
    "ddf['subcls'] = np.where(\n",
    "    (ddf[data['classcol']] == yescls) & (ddf.nclasses == 1),\n",
    "    '+' + ddf['classmax'], ddf.subcls\n",
    ")\n",
    "\n",
    "ddf['subcls'] = np.where(\n",
    "    (ddf[data['classcol']] == nocls) & (ddf.nclasses == 1),\n",
    "    '-' + ddf['classmax'], ddf.subcls\n",
    ")"
   ]
  },
  {
   "cell_type": "code",
   "execution_count": null,
   "id": "9d17a3a3-1a27-474a-8cec-3e8889aa63ed",
   "metadata": {},
   "outputs": [],
   "source": [
    "# Give random numbers to each row\n",
    "ddf['rnd'] = ddf.apply(lambda _: rnd.randint(1, 1000), axis=1)\n",
    "\n",
    "# Scramble\n",
    "ddf= ddf.sort_values(by=['subcls', 'rnd'])\n",
    "ddf.reset_index(inplace=True)"
   ]
  },
  {
   "cell_type": "code",
   "execution_count": null,
   "id": "47d014bd-63f8-483a-a912-bb4465d23aeb",
   "metadata": {},
   "outputs": [],
   "source": [
    "ddf"
   ]
  },
  {
   "cell_type": "code",
   "execution_count": null,
   "id": "7554c748-12ba-46a5-9635-ceacbc86598f",
   "metadata": {},
   "outputs": [],
   "source": [
    "ddf['cumaux'] = 1\n",
    "\n",
    "ddf['cum'] = ddf.groupby('subcls')['cumaux'].transform(pd.Series.cumsum)\n",
    "ddf['grpmax'] = ddf.groupby('subcls')['cum'].transform(pd.Series.max)\n",
    "\n",
    "ddf['relcum'] = ddf.cum / ddf.grpmax * 100"
   ]
  },
  {
   "cell_type": "code",
   "execution_count": null,
   "id": "73199ff5-6455-41dc-941d-af60e5dce6b0",
   "metadata": {},
   "outputs": [],
   "source": [
    "train_df = ddf[ddf.relcum <= 30]"
   ]
  },
  {
   "cell_type": "code",
   "execution_count": null,
   "id": "fe40fb94-6f8e-453c-8778-9f0e3ad3646d",
   "metadata": {},
   "outputs": [],
   "source": [
    "# Train to SHAPE\n",
    "\n",
    "whr = \", \".join(train_df.rootid.astype(str).tolist())\n",
    "\n",
    "q = (\n",
    "    \"SELECT jtbl.*, mtbl.geom \"\n",
    "    \"FROM gthruth_fishnet AS mtbl \"\n",
    "    \"LEFT JOIN (\"\n",
    "    \t\"SELECT mm.pxid, jj.* \"\n",
    "    \t\"FROM pxexpclasses AS mm \"\n",
    "    \t\"INNER JOIN (\"\n",
    "    \t\t\"SELECT mj.expclsid, mj.codeval, mj.nameval, \"\n",
    "    \t\t\"jt.slug AS expslug \"\n",
    "    \t\t\"FROM expclasses AS mj \"\n",
    "    \t\t\"INNER JOIN experiments AS jt \"\n",
    "    \t\t\"ON mj.expfk = jt.eid \"\n",
    "            f\"WHERE jt.slug = '{expname}'\"\n",
    "    \t\") AS jj \"\n",
    "    \t\"ON mm.eclsid = jj.expclsid\"\n",
    "    \") AS jtbl \"\n",
    "    \"ON mtbl.cid = jtbl.pxid \"\n",
    "    f\"WHERE mtbl.cid = ANY(ARRAY[{whr}])\"\n",
    ")\n",
    "\n",
    "dbtbl_to_shp(\n",
    "    db, q, \"geom\", outshp,\n",
    "    tableIsQuery=True, epsg=epsg\n",
    ")"
   ]
  },
  {
   "cell_type": "code",
   "execution_count": null,
   "id": "4acfc18c-a0a4-493d-93b3-2125834d08ba",
   "metadata": {},
   "outputs": [],
   "source": [
    "# Train to raster\n",
    "\n",
    "shp_to_rst(\n",
    "    outshp, 'codeval', None, 0,\n",
    "    outrst, rst_template=refrst,\n",
    "    api='gdal', rtype=int, dtype='UInt16'\n",
    ")"
   ]
  }
 ],
 "metadata": {
  "kernelspec": {
   "display_name": "Python 3 (ipykernel)",
   "language": "python",
   "name": "python3"
  },
  "language_info": {
   "codemirror_mode": {
    "name": "ipython",
    "version": 3
   },
   "file_extension": ".py",
   "mimetype": "text/x-python",
   "name": "python",
   "nbconvert_exporter": "python",
   "pygments_lexer": "ipython3",
   "version": "3.10.12"
  }
 },
 "nbformat": 4,
 "nbformat_minor": 5
}
