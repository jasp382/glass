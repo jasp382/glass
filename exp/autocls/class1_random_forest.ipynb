{
 "cells": [
  {
   "cell_type": "code",
   "execution_count": null,
   "id": "331cab04-1bc6-4223-a62b-6e3ab6ef2d57",
   "metadata": {},
   "outputs": [],
   "source": [
    "import os\n",
    "from glass.rst.cls import train_to_mdl, imgcls_from_mdl\n",
    "from glass.pys.oss import fprop\n",
    "\n",
    "imgs = '/mnt/g/autocls_exp2/feat/all_lisboa.tif'\n",
    "\n",
    "traindata = [\n",
    "    '/mnt/g/autocls_exp2/lcfilter/f2_lisboa.tif',\n",
    "    #'/mnt/g/autocls_exp2/lcfilter/f3_lisboa.tif',\n",
    "    #'/mnt/g/autocls_exp2/lcfilter/f4_lisboa.tif',\n",
    "    '/mnt/g/autocls_exp2/lcfilter/f5_lisboa.tif',\n",
    "]\n",
    "\n",
    "bname = 'exp22'\n",
    "\n",
    "outfolder = '/mnt/g/autocls_exp2/models'\n",
    "outres = '/mnt/g/autocls_exp2/results'"
   ]
  },
  {
   "cell_type": "code",
   "execution_count": null,
   "id": "1cf10289-f87c-42a1-85ac-5692f2d478d0",
   "metadata": {},
   "outputs": [],
   "source": [
    "for t in traindata:\n",
    "    train_to_mdl(\n",
    "        t, imgs,\n",
    "        os.path.join(outfolder, f'{fprop(t, \"fn\")}_{bname}.bz2'),\n",
    "        method='RandomForest', ntrees=1000, mxsamples=None\n",
    "    )"
   ]
  },
  {
   "cell_type": "code",
   "execution_count": null,
   "id": "6e295ce9-a046-4129-9b27-918817a1a3db",
   "metadata": {},
   "outputs": [],
   "source": [
    "for t in traindata:\n",
    "    imgcls_from_mdl(\n",
    "        os.path.join(outfolder, f'{fprop(t, \"fn\")}_{bname}.bz2'),\n",
    "        imgs,\n",
    "        os.path.join(outres, f'{fprop(t, \"fn\")}_{bname}.tif'),\n",
    "    )"
   ]
  },
  {
   "cell_type": "code",
   "execution_count": null,
   "id": "d6029f64-e9f0-4949-b9ce-0d816c24728c",
   "metadata": {},
   "outputs": [],
   "source": [
    "fimgs = '/mnt/g/autocls_exp2/feat/parts_lisboa/'\n",
    "\n",
    "train = '/mnt/g/autocls_exp2/models/f2_lisboa_exp22.bz2'\n",
    "\n",
    "outfolder = '/mnt/g/autocls_exp2/results/f2_lisboa_parts'\n",
    "\n",
    "import os\n",
    "from glass.pys.oss import lst_ff, fprop\n",
    "from glass.rst.cls import imgcls_from_mdl\n",
    "\n",
    "\n",
    "imgs = lst_ff(fimgs, file_format='.tif')\n",
    "\n",
    "_i = 0\n",
    "\n",
    "bname = fprop(train, 'fn')\n",
    "for i in imgs:\n",
    "    imgcls_from_mdl(train, i, os.path.join(\n",
    "        outfolder, f'{bname}_{str(_i)}.tif'\n",
    "    ))\n",
    "\n",
    "    _i += 1"
   ]
  },
  {
   "cell_type": "code",
   "execution_count": null,
   "id": "aa97e235-56c1-4940-8bbe-2c0e25540e75",
   "metadata": {},
   "outputs": [],
   "source": []
  }
 ],
 "metadata": {
  "kernelspec": {
   "display_name": "Python 3 (ipykernel)",
   "language": "python",
   "name": "python3"
  },
  "language_info": {
   "codemirror_mode": {
    "name": "ipython",
    "version": 3
   },
   "file_extension": ".py",
   "mimetype": "text/x-python",
   "name": "python",
   "nbconvert_exporter": "python",
   "pygments_lexer": "ipython3",
   "version": "3.10.12"
  }
 },
 "nbformat": 4,
 "nbformat_minor": 5
}
