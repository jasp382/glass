{
 "cells": [
  {
   "cell_type": "code",
   "execution_count": null,
   "id": "75aef42f-c3bb-431b-9fda-8acc08c7f114",
   "metadata": {
    "tags": []
   },
   "outputs": [],
   "source": [
    "idx_rules = '/home/gisuser/glass/exp/autoclsosm/idxrules_v1.json'\n",
    "\n",
    "xlsx = '/home/gisuser/autocls2/filter_train.xlsx'\n",
    "\n",
    "inputs_ = [{\n",
    "    'lulc' : '/home/gisuser/autocls2/lcfilter/f1_coimbra.tif',\n",
    "    'idxr' : {\n",
    "        'sheet'   : 'coimbra',\n",
    "        'dayscol' : 'days'\n",
    "    },\n",
    "    'out' : '/home/gisuser/autocls2/lcfilter/f2_coimbra.tif'\n",
    "}, {\n",
    "    'lulc' : '/home/gisuser/autocls2/lcfilter/f1_evora.tif',\n",
    "    'idxr' : {\n",
    "        'sheet'   : 'evora',\n",
    "        'dayscol' : 'days'\n",
    "    },\n",
    "    'out' : '/home/gisuser/autocls2/lcfilter/f2_evora.tif'\n",
    "}, {\n",
    "    'lulc' : '/home/gisuser/autocls2/lcfilter/f1_faro.tif',\n",
    "    'idxr' : {\n",
    "        'sheet'   : 'faro',\n",
    "        'dayscol' : 'days'\n",
    "    },\n",
    "    'out' : '/home/gisuser/autocls2/lcfilter/f2_faro.tif'\n",
    "}, {\n",
    "    'lulc' : '/home/gisuser/autocls2/lcfilter/f1_lisboa.tif',\n",
    "    'idxr' : {\n",
    "        'sheet'   : 'lisboa',\n",
    "        'dayscol' : 'days'\n",
    "    },\n",
    "    'out' : '/home/gisuser/autocls2/lcfilter/f2_lisboa.tif'\n",
    "}, {\n",
    "    'lulc' : '/home/gisuser/autocls2/lcfilter/f1_pnse.tif',\n",
    "    'idxr' : {\n",
    "        'sheet'   : 'pnse',\n",
    "        'dayscol' : 'days'\n",
    "    },\n",
    "    'out' : '/home/gisuser/autocls2/lcfilter/f2_pnse.tif'\n",
    "}, {\n",
    "    'lulc' : '/home/gisuser/autocls2/lcfilter/f1_porto.tif',\n",
    "    'idxr' : {\n",
    "        'sheet'   : 'porto',\n",
    "        'dayscol' : 'days'\n",
    "    },\n",
    "    'out' : '/home/gisuser/autocls2/lcfilter/f2_porto.tif'\n",
    "}]\n",
    "\n",
    "class_water = None\n",
    "\n",
    "import os\n",
    "from glass.ete.autocls.osmfilter import apply_idxfilter\n",
    "\n",
    "for d in inputs_:\n",
    "    idxr = d['idxr']\n",
    "    idxr[\"xlsx\"] = xlsx\n",
    "    \n",
    "    apply_idxfilter(\n",
    "        d['lulc'], idxr, idx_rules,\n",
    "        d['out'], watercls=class_water\n",
    "    )"
   ]
  }
 ],
 "metadata": {
  "kernelspec": {
   "display_name": "Python 3 (ipykernel)",
   "language": "python",
   "name": "python3"
  },
  "language_info": {
   "codemirror_mode": {
    "name": "ipython",
    "version": 3
   },
   "file_extension": ".py",
   "mimetype": "text/x-python",
   "name": "python",
   "nbconvert_exporter": "python",
   "pygments_lexer": "ipython3",
   "version": "3.10.12"
  }
 },
 "nbformat": 4,
 "nbformat_minor": 5
}
