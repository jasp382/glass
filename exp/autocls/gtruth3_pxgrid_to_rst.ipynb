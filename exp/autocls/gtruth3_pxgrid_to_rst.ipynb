{
 "cells": [
  {
   "cell_type": "code",
   "execution_count": null,
   "id": "072ce5c1-61f2-46ee-a794-326d31d2582e",
   "metadata": {},
   "outputs": [],
   "source": [
    "refpx_shp = '/home/jasp/autocls_exp3/pxs'\n",
    "\n",
    "pk = 'cid'\n",
    "\n",
    "ref_rst = '/home/jasp/autocls_exp3/pxs_rst/refpxgroups_06x06.tif'\n",
    "\n",
    "refpx_rst = '/home/jasp/autocls_exp3/pxs_rst/'\n",
    "\n",
    "bname = 'refpxgroups_06x06'"
   ]
  },
  {
   "cell_type": "code",
   "execution_count": null,
   "id": "15b9f5f1-9daa-4952-b278-ce58928de5f7",
   "metadata": {},
   "outputs": [],
   "source": [
    "import datetime as dt\n",
    "import os\n",
    "\n",
    "from glass.pys.oss import lst_ff, fprop\n",
    "from glass.dtt.rst.torst import shp_to_rst"
   ]
  },
  {
   "cell_type": "code",
   "execution_count": null,
   "id": "29c4a909-bc68-4a38-a4ef-635b5d870937",
   "metadata": {},
   "outputs": [],
   "source": [
    "time_a = dt.datetime.now().replace(microsecond=0)\n",
    "\n",
    "shps = lst_ff(refpx_shp, file_format='.shp')\n",
    "\n",
    "\n",
    "for shp in shps:\n",
    "    shpn = fprop(shp, 'fn')\n",
    "    _id = shpn.split('_')[-1]\n",
    "    shp_to_rst(\n",
    "        shp, pk, None, 0,\n",
    "        os.path.join(refpx_rst, f\"{bname}_{_id}.tif\"),\n",
    "        rst_template=ref_rst, api='gdal',\n",
    "        rtype=int, dtype='UInt32'\n",
    "    )\n",
    "\n",
    "time_b = dt.datetime.now().replace(microsecond=0)"
   ]
  },
  {
   "cell_type": "code",
   "execution_count": null,
   "id": "7e4b55c7-ccb5-4174-96c9-b7f98b98aff5",
   "metadata": {},
   "outputs": [],
   "source": [
    "print(time_b - time_a)"
   ]
  }
 ],
 "metadata": {
  "kernelspec": {
   "display_name": "Python 3 (ipykernel)",
   "language": "python",
   "name": "python3"
  },
  "language_info": {
   "codemirror_mode": {
    "name": "ipython",
    "version": 3
   },
   "file_extension": ".py",
   "mimetype": "text/x-python",
   "name": "python",
   "nbconvert_exporter": "python",
   "pygments_lexer": "ipython3",
   "version": "3.10.12"
  }
 },
 "nbformat": 4,
 "nbformat_minor": 5
}
