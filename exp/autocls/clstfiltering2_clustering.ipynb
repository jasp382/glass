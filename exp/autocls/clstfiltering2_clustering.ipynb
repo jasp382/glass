{
 "cells": [
  {
   "cell_type": "code",
   "execution_count": null,
   "id": "2fa81a46-547e-413d-acb7-17a5a3c3f84b",
   "metadata": {},
   "outputs": [],
   "source": [
    "imgs = '/mnt/g/autocls_exp2/feat/f1_lisboa/'\n",
    "\n",
    "ocluster = '/mnt/g/autocls_exp2/cluster_filter/km_f1_lisboa.tif'"
   ]
  },
  {
   "cell_type": "code",
   "execution_count": null,
   "id": "e37d211c-89d4-43c1-9880-509fc8d95f16",
   "metadata": {},
   "outputs": [],
   "source": [
    "import datetime as dt\n",
    "import os\n",
    "\n",
    "from glass.rst.cls import img_clustering\n",
    "from glass.rst.local import combine\n",
    "from glass.pys.oss import lst_folders_subfiles, mkdir, fprop, lst_ff\n",
    "from glass.wenv.grs import run_grass"
   ]
  },
  {
   "cell_type": "code",
   "execution_count": null,
   "id": "9537f5b8-b8b7-42bc-bcbc-ebf5a902a3f1",
   "metadata": {},
   "outputs": [],
   "source": [
    "imgs_files = lst_folders_subfiles(imgs, files_format='.tif')"
   ]
  },
  {
   "cell_type": "code",
   "execution_count": null,
   "id": "9a80d439-c9c2-4901-8641-b5bfcf4c5f8d",
   "metadata": {},
   "outputs": [],
   "source": [
    "imgs_files"
   ]
  },
  {
   "cell_type": "code",
   "execution_count": null,
   "id": "aa583d48-51d7-4d52-a5e5-778279672bc7",
   "metadata": {},
   "outputs": [],
   "source": [
    "clusters_by_img = []\n",
    "outname = fprop(ocluster, 'fn')\n",
    "\n",
    "ws = mkdir(os.path.join(\n",
    "    os.path.dirname(ocluster),\n",
    "    f\"ws_{outname}\"\n",
    "), overwrite=True)\n",
    "loc = f\"loc_{outname}\"\n",
    "\n",
    "for img in imgs_files:\n",
    "    if not imgs_files[img]:\n",
    "        continue\n",
    "    \n",
    "    time_a = dt.datetime.now().replace(microsecond=0)\n",
    "    crst = img_clustering(\n",
    "        imgs_files[img],\n",
    "        os.path.join(ws, f'c_{img}.tif'),\n",
    "        method=\"k-means\", n_cls=100\n",
    "    )\n",
    "    time_b = dt.datetime.now().replace(microsecond=0)\n",
    "\n",
    "    print(time_b - time_a)\n",
    "\n",
    "    clusters_by_img.append(crst)"
   ]
  },
  {
   "cell_type": "code",
   "execution_count": null,
   "id": "9b9af0ec-cafa-4eb1-8efa-964a11bc4c7b",
   "metadata": {},
   "outputs": [],
   "source": [
    "combine(rsts, ocluster)"
   ]
  }
 ],
 "metadata": {
  "kernelspec": {
   "display_name": "Python 3 (ipykernel)",
   "language": "python",
   "name": "python3"
  },
  "language_info": {
   "codemirror_mode": {
    "name": "ipython",
    "version": 3
   },
   "file_extension": ".py",
   "mimetype": "text/x-python",
   "name": "python",
   "nbconvert_exporter": "python",
   "pygments_lexer": "ipython3",
   "version": "3.10.12"
  }
 },
 "nbformat": 4,
 "nbformat_minor": 5
}
