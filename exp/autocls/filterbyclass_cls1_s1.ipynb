{
 "cells": [
  {
   "cell_type": "code",
   "execution_count": null,
   "id": "997abb13-af87-4cac-8b35-52a8fa26c1ac",
   "metadata": {},
   "outputs": [],
   "source": [
    "lulc_map = '/home/gisuser/autocls/lcfilter/osm_f3_valeflores.tif'\n",
    "\n",
    "imgs = '/home/gisuser/autocls/imgs/'"
   ]
  },
  {
   "cell_type": "code",
   "execution_count": null,
   "id": "d1cc112e-e681-4d5b-8016-24f22aa8fced",
   "metadata": {},
   "outputs": [],
   "source": [
    "from glass.rst.sat import lst_s2img_by_band"
   ]
  },
  {
   "cell_type": "code",
   "execution_count": null,
   "id": "25d3201f-a04d-4d42-aed1-51f57e72bb62",
   "metadata": {},
   "outputs": [],
   "source": [
    "img_files = lst_s2"
   ]
  }
 ],
 "metadata": {
  "kernelspec": {
   "display_name": "Python 3 (ipykernel)",
   "language": "python",
   "name": "python3"
  },
  "language_info": {
   "codemirror_mode": {
    "name": "ipython",
    "version": 3
   },
   "file_extension": ".py",
   "mimetype": "text/x-python",
   "name": "python",
   "nbconvert_exporter": "python",
   "pygments_lexer": "ipython3",
   "version": "3.10.12"
  }
 },
 "nbformat": 4,
 "nbformat_minor": 5
}
