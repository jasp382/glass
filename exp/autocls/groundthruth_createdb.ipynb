{
 "cells": [
  {
   "cell_type": "code",
   "execution_count": null,
   "id": "b96e1792-b4dc-44f8-9c0f-ad72d8848389",
   "metadata": {},
   "outputs": [],
   "source": [
    "db = 'gthruth_valeflores'\n",
    "\n",
    "tschema = [{\n",
    "    'TABLE' : 'gthruth_fishnet',\n",
    "    'COLUMNS' : [\n",
    "        'cid INT PRIMARY KEY',\n",
    "        'geom geometry(POLYGON, 3763) NOT NULL'\n",
    "    ],\n",
    "    'TABLE' : 'refmaps',\n",
    "    'COLUMNS' : [\n",
    "        'mapid INT PRIMARY KEY',\n",
    "        'name TEXT NOT NULL',\n",
    "        'year INTEGER NOT NULL'\n",
    "    ],\n",
    "    'TABLE' : 'mapclasses',\n",
    "    'COLUMNS' : [\n",
    "        'classid INT PRIMARY KEY', \n",
    "        'classname TEXT NOT NULL',\n",
    "        'level INT'\n",
    "    ],\n",
    "    'TABLE' : 'pxclasses',\n",
    "    'COLUMNS' : [\n",
    "        'pxid INT',\n",
    "        'clsid INT',\n",
    "        'garea numeric'\n",
    "    ],\n",
    "    \"CONSTRAINTS\" : [\n",
    "        'PRIMARY KEY (pxid, clsid)',\n",
    "        'FOREIGN KEY (pxid) REFERENCES gthruth_fishnet (cid),\n",
    "        'FOREIGN KEY (clsid) REFERENCES mapclasses (classid)\n",
    "    ]\n",
    "}"
   ]
  }
 ],
 "metadata": {
  "kernelspec": {
   "display_name": "Python 3 (ipykernel)",
   "language": "python",
   "name": "python3"
  },
  "language_info": {
   "codemirror_mode": {
    "name": "ipython",
    "version": 3
   },
   "file_extension": ".py",
   "mimetype": "text/x-python",
   "name": "python",
   "nbconvert_exporter": "python",
   "pygments_lexer": "ipython3",
   "version": "3.10.12"
  }
 },
 "nbformat": 4,
 "nbformat_minor": 5
}
