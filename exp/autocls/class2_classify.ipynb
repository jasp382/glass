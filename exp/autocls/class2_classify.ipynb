{
 "cells": [
  {
   "cell_type": "code",
   "execution_count": 1,
   "id": "331cab04-1bc6-4223-a62b-6e3ab6ef2d57",
   "metadata": {},
   "outputs": [],
   "source": [
    "import os\n",
    "from glass.rst.cls import imgcls_from_mdl\n",
    "from glass.pys.oss import fprop, lst_ff, mkdir\n",
    "from glass.rd import tbl_to_obj\n",
    "\n",
    "table = '/mnt/g/autocls_exp2/classification.xlsx'\n",
    "sheet = 'experiments_ref'\n",
    "\n",
    "mdl_folder = '/home/gisuser/autocls/models/'\n",
    "feat_folder = '/home/gisuser/autocls/feat/'\n",
    "res_folder = '/home/gisuser/autocls/results/'\n"
   ]
  },
  {
   "cell_type": "code",
   "execution_count": 2,
   "id": "bc069066-f203-49d7-9dbe-e0cdddc18008",
   "metadata": {},
   "outputs": [],
   "source": [
    "exp = tbl_to_obj(table, sheet=sheet)\n",
    "\n",
    "exp = exp[exp.status == 'run']\n",
    "\n",
    "for i, row in exp.iterrows():\n",
    "    if row.feat_isparts == 1:\n",
    "        parts = lst_ff(row.imgs, file_format='.tif')\n",
    "\n",
    "        odir = mkdir(os.path.join(os.path.dirname(row.classified), row['name']), overwrite=True)\n",
    "\n",
    "        for i in parts:\n",
    "            imgcls_from_mdl(row.model, i, os.path.join(odir, os.path.basename(i)))\n",
    "\n",
    "        continue\n",
    "        \n",
    "    imgcls_from_mdl(\n",
    "        os.path.join(mdl_folder, row.model),\n",
    "        os.path.join(feat_folder, row.imgs),\n",
    "        os.path.join(res_folder, row.classified)\n",
    "    )"
   ]
  },
  {
   "cell_type": "code",
   "execution_count": null,
   "id": "aa97e235-56c1-4940-8bbe-2c0e25540e75",
   "metadata": {},
   "outputs": [],
   "source": []
  }
 ],
 "metadata": {
  "kernelspec": {
   "display_name": "Python 3 (ipykernel)",
   "language": "python",
   "name": "python3"
  },
  "language_info": {
   "codemirror_mode": {
    "name": "ipython",
    "version": 3
   },
   "file_extension": ".py",
   "mimetype": "text/x-python",
   "name": "python",
   "nbconvert_exporter": "python",
   "pygments_lexer": "ipython3",
   "version": "3.10.12"
  }
 },
 "nbformat": 4,
 "nbformat_minor": 5
}
