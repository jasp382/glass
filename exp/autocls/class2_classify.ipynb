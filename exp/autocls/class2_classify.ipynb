{
 "cells": [
  {
   "cell_type": "code",
   "execution_count": null,
   "id": "331cab04-1bc6-4223-a62b-6e3ab6ef2d57",
   "metadata": {},
   "outputs": [],
   "source": [
    "import os\n",
    "from glass.rst.cls import imgcls_from_mdl, bincls_basedonprob\n",
    "from glass.pys.oss import fprop, lst_ff, mkdir\n",
    "from glass.rd import tbl_to_obj\n",
    "\n",
    "table = '/mnt/d/autocls_e3/classification_exp31.xlsx'\n",
    "sheet = 'experiments_list'\n",
    "\n",
    "mdl_folder = '/home/jasp/autocls/models/'\n",
    "feat_folder = '/home/jasp/autocls/feat/'\n",
    "res_folder = '/home/jasp/autocls/results/'"
   ]
  },
  {
   "cell_type": "code",
   "execution_count": null,
   "id": "bc069066-f203-49d7-9dbe-e0cdddc18008",
   "metadata": {},
   "outputs": [],
   "source": [
    "exp = tbl_to_obj(table, sheet=sheet)\n",
    "\n",
    "exp = exp[exp.status == 'run']\n",
    "\n",
    "for i, row in exp.iterrows():\n",
    "    if row.feat_isparts == 1:\n",
    "        parts = lst_ff(row.imgs, file_format='.tif')\n",
    "\n",
    "        odir = mkdir(os.path.join(os.path.dirname(row.classified), row['name']), overwrite=True)\n",
    "\n",
    "        for i in parts:\n",
    "            imgcls_from_mdl(row.model, i, os.path.join(odir, os.path.basename(i)))\n",
    "\n",
    "        continue\n",
    "\n",
    "    if row.class_type == 'binprob':\n",
    "        bincls_basedonprob(\n",
    "            os.path.join(mdl_folder, row.model),\n",
    "            os.path.join(feat_folder, row.imgs),\n",
    "            (row.minprob, row.maxprob),\n",
    "            row.mixclass,\n",
    "            os.path.join(res_folder, row.classified),\n",
    "        )\n",
    "\n",
    "    else:\n",
    "        imgcls_from_mdl(\n",
    "            os.path.join(mdl_folder, row.model),\n",
    "            os.path.join(feat_folder, row.imgs),\n",
    "            os.path.join(res_folder, row.classified),\n",
    "            newmodel=None\n",
    "        )"
   ]
  },
  {
   "cell_type": "code",
   "execution_count": null,
   "id": "957b24b7-eb73-4948-b9c3-21ef886e68cd",
   "metadata": {},
   "outputs": [],
   "source": []
  }
 ],
 "metadata": {
  "kernelspec": {
   "display_name": "Python 3 (ipykernel)",
   "language": "python",
   "name": "python3"
  },
  "language_info": {
   "codemirror_mode": {
    "name": "ipython",
    "version": 3
   },
   "file_extension": ".py",
   "mimetype": "text/x-python",
   "name": "python",
   "nbconvert_exporter": "python",
   "pygments_lexer": "ipython3",
   "version": "3.10.12"
  }
 },
 "nbformat": 4,
 "nbformat_minor": 5
}
