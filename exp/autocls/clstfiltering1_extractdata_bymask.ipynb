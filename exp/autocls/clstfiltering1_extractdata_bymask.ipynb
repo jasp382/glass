{
 "cells": [
  {
   "cell_type": "markdown",
   "id": "773a3841-d6ed-4704-8137-5656bfe1fd4b",
   "metadata": {},
   "source": [
    "## Extract data from Sentinel-2 bands by mask"
   ]
  },
  {
   "cell_type": "code",
   "execution_count": null,
   "id": "59ebc844-cbdc-4cdb-a21c-76b52ad9a35b",
   "metadata": {},
   "outputs": [],
   "source": [
    "mask = '/mnt/g/autocls_exp2/lcfilter/f1_lisboa.tif'\n",
    "\n",
    "imgs = '/mnt/g/autocls_exp2/imgs/imgs_lisboa/'\n",
    "\n",
    "ofolder = '/mnt/g/autocls_exp2/feat/f1_lisboa/'"
   ]
  },
  {
   "cell_type": "code",
   "execution_count": null,
   "id": "9b5566ed-b364-4015-9676-dc8150451df2",
   "metadata": {},
   "outputs": [],
   "source": [
    "import os\n",
    "\n",
    "from glass.pys.oss import lst_folders_subfiles, fprop, mkdir\n",
    "from glass.wenv.grs import run_grass\n",
    "from glass.pys.tm import now_as_str"
   ]
  },
  {
   "cell_type": "code",
   "execution_count": null,
   "id": "e4b50102-f138-462b-861b-70a1a15e6847",
   "metadata": {},
   "outputs": [],
   "source": [
    "imgs_files = lst_folders_subfiles(imgs, files_format='.tif')"
   ]
  },
  {
   "cell_type": "code",
   "execution_count": null,
   "id": "724a794b-b4cd-4c63-9f49-8b6f6bc3b9fe",
   "metadata": {},
   "outputs": [],
   "source": [
    "# Create GRASS GIS Session\n",
    "loc = f\"loc_{now_as_str(utc=True)}\"\n",
    "\n",
    "gb = run_grass(ofolder, location=loc, srs=mask)\n",
    "\n",
    "import grass.script.setup as gsetup\n",
    "\n",
    "gsetup.init(gb, ofolder, loc, 'PERMANENT')"
   ]
  },
  {
   "cell_type": "code",
   "execution_count": null,
   "id": "0cfe4f34-6ba1-4b5b-9307-c0afdece093e",
   "metadata": {},
   "outputs": [],
   "source": [
    "from glass.it.rst import grs_to_rst, rst_to_grs\n",
    "from glass.it.rst import grs_to_mask"
   ]
  },
  {
   "cell_type": "code",
   "execution_count": null,
   "id": "da3fd318-4291-4fdf-94d6-40f3fa8852a5",
   "metadata": {},
   "outputs": [],
   "source": [
    "# Import data\n",
    "_mask = rst_to_grs(mask)\n",
    "\n",
    "for img in imgs_files:\n",
    "    for i in range(len(imgs_files[img])):\n",
    "        imgs_files[img][i] = rst_to_grs(imgs_files[img][i])\n",
    "\n",
    "# Create Mask\n",
    "grs_to_mask(_mask, overwrite=True)\n",
    "\n",
    "# Export\n",
    "for img in imgs_files:\n",
    "    ifld = mkdir(os.path.join(ofolder, img))\n",
    "    for i in range(len(imgs_files[img])):\n",
    "        grs_to_rst(\n",
    "            imgs_files[img][i],\n",
    "            os.path.join(ifld, f'{imgs_files[img][i]}.tif'),\n",
    "            rtype=int\n",
    "        )"
   ]
  },
  {
   "cell_type": "code",
   "execution_count": null,
   "id": "9cb609fe-6d82-4601-93ca-8d7ef496bdc1",
   "metadata": {},
   "outputs": [],
   "source": [
    "imgs_files"
   ]
  },
  {
   "cell_type": "code",
   "execution_count": null,
   "id": "e750b9b5-1b45-45fe-a644-bd3c4744cdc3",
   "metadata": {},
   "outputs": [],
   "source": []
  }
 ],
 "metadata": {
  "kernelspec": {
   "display_name": "Python 3 (ipykernel)",
   "language": "python",
   "name": "python3"
  },
  "language_info": {
   "codemirror_mode": {
    "name": "ipython",
    "version": 3
   },
   "file_extension": ".py",
   "mimetype": "text/x-python",
   "name": "python",
   "nbconvert_exporter": "python",
   "pygments_lexer": "ipython3",
   "version": "3.10.12"
  }
 },
 "nbformat": 4,
 "nbformat_minor": 5
}
