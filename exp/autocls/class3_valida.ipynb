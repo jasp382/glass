{
 "cells": [
  {
   "cell_type": "code",
   "execution_count": 1,
   "id": "67d3d6f7-d19f-42c5-a62a-4caca0cedc99",
   "metadata": {},
   "outputs": [],
   "source": [
    "import os\n",
    "from glass.rst.confmtx.totbl import confmtx_twrst\n",
    "from glass.pys.oss import fprop\n",
    "\n",
    "from glass.rd import tbl_to_obj\n",
    "\n",
    "table = '/mnt/g/autocls_exp2/classification.xlsx'\n",
    "sheet = 'experiments_ref'\n",
    "\n",
    "ref_folder = '/home/gisuser/autocls/ref_nw/'\n",
    "res_folder = '/home/gisuser/autocls/results/'\n",
    "val_folder = '/mnt/g/autocls_exp2/valida/'\n",
    "\n",
    "classes_leg = {\n",
    "    1 : 'Sealed',\n",
    "    2 : 'Trees',\n",
    "    3 : 'Shrubs',\n",
    "    4 : 'Herbaceous',\n",
    "    5 : 'Wetlands',\n",
    "    6 : 'Non_Vegetated',\n",
    "    7 : 'Water'\n",
    "}\n",
    "\n",
    "exp = tbl_to_obj(table, sheet=sheet)\n",
    "\n",
    "exp = exp[exp.status == 'run']\n",
    "\n",
    "for i, row in exp.iterrows():\n",
    "    confmtx_twrst(\n",
    "        os.path.join(ref_folder, row.ref),\n",
    "        os.path.join(res_folder, row.classified),\n",
    "        os.path.join(val_folder, row.valida),\n",
    "        classes=classes_leg\n",
    "    )"
   ]
  },
  {
   "cell_type": "code",
   "execution_count": null,
   "id": "a9a43d58-276f-48d0-afd9-be40760a0e6c",
   "metadata": {},
   "outputs": [],
   "source": [
    "table = '/home/gisuser/autocls/valida_list.xlsx'\n",
    "\n",
    "sheet = 'classvali'\n",
    "\n",
    "classes_leg = {\n",
    "    1 : 'Sealed',\n",
    "    2 : 'Trees',\n",
    "    3 : 'Shrubs',\n",
    "    4 : 'Herbaceous',\n",
    "    5 : 'Wetlands',\n",
    "    6 : 'Non_Vegetated',\n",
    "    7 : 'Water'\n",
    "}"
   ]
  },
  {
   "cell_type": "code",
   "execution_count": null,
   "id": "308653bd-d2af-4038-8c85-3c07d9ef35fc",
   "metadata": {},
   "outputs": [],
   "source": [
    "from glass.rd import tbl_to_obj\n",
    "\n",
    "from glass.rst.confmtx.totbl import confmtx_twrst\n",
    "from glass.rst.confmtx import confmtx_fmrst\n",
    "from glass.prop.rst import rst_shape"
   ]
  },
  {
   "cell_type": "code",
   "execution_count": null,
   "id": "638aede1-5593-4d5e-b661-d08250da2acb",
   "metadata": {},
   "outputs": [],
   "source": [
    "df = tbl_to_obj(table, sheet=sheet)"
   ]
  },
  {
   "cell_type": "code",
   "execution_count": null,
   "id": "eb599fd2-1c50-4c97-8f40-ed8a63764103",
   "metadata": {},
   "outputs": [],
   "source": [
    "for i, row in df.iterrows():\n",
    "    confmtx_twrst(\n",
    "        row.reference, row.classification, row.out,\n",
    "        classes=classes_leg\n",
    "    )"
   ]
  },
  {
   "cell_type": "code",
   "execution_count": null,
   "id": "85cb45f5-2718-486d-8b41-088ca00e8576",
   "metadata": {},
   "outputs": [],
   "source": []
  }
 ],
 "metadata": {
  "kernelspec": {
   "display_name": "Python 3 (ipykernel)",
   "language": "python",
   "name": "python3"
  },
  "language_info": {
   "codemirror_mode": {
    "name": "ipython",
    "version": 3
   },
   "file_extension": ".py",
   "mimetype": "text/x-python",
   "name": "python",
   "nbconvert_exporter": "python",
   "pygments_lexer": "ipython3",
   "version": "3.10.12"
  }
 },
 "nbformat": 4,
 "nbformat_minor": 5
}
