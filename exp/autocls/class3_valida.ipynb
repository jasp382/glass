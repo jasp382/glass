{
 "cells": [
  {
   "cell_type": "code",
   "execution_count": 1,
   "id": "67d3d6f7-d19f-42c5-a62a-4caca0cedc99",
   "metadata": {},
   "outputs": [],
   "source": [
    "db = 'gthruth_valeflores_v3'\n",
    "\n",
    "table = '/mnt/d/autocls_e3/classification_exp31.xlsx'\n",
    "sheet = 'experiments_list'\n",
    "\n",
    "ref_folder = '/home/jasp/autocls/classref/'\n",
    "res_folder = '/home/jasp/autocls/results/'\n",
    "val_table = '/mnt/d/autocls_e3/valida/experiments_roads_ref.xlsx'"
   ]
  },
  {
   "cell_type": "code",
   "execution_count": 2,
   "id": "c21fa426-7138-4203-b120-7a0b579c5c25",
   "metadata": {},
   "outputs": [],
   "source": [
    "import os\n",
    "import pandas as pd\n",
    "from glass.sql.q import q_to_obj\n",
    "from glass.rst.confmtx.totbl import confmtx_twrst, confmtx_fmrst\n",
    "from glass.pys.oss import fprop\n",
    "from glass.rd import tbl_to_obj\n",
    "from glass.wt import obj_to_tbl"
   ]
  },
  {
   "cell_type": "code",
   "execution_count": 3,
   "id": "b6b5b26c-85ec-4417-96be-960f6bf891d7",
   "metadata": {},
   "outputs": [],
   "source": [
    "exp = tbl_to_obj(table, sheet=sheet)\n",
    "\n",
    "exp = exp[exp.status == 'run']\n",
    "\n",
    "exp.reset_index(inplace=True)"
   ]
  },
  {
   "cell_type": "code",
   "execution_count": 4,
   "id": "177f0042-e898-4e06-83bf-351c663a3741",
   "metadata": {},
   "outputs": [],
   "source": [
    "mtxs, sintese = [], []\n",
    "mtxscols = []\n",
    "all_classes = []\n",
    "maincols = ['exp', 'total_area', 'overall_accuracy', 'kappa', 'macro-f1', 'weighted-f1']\n",
    "for i, row in exp.iterrows():\n",
    "    classes_df = q_to_obj(db, (\n",
    "        \"SELECT mj.codeval, mj.nameval \"\n",
    "        \"FROM expclasses AS mj \"\n",
    "        \"INNER JOIN experiments AS jt \"\n",
    "        \"ON mj.expfk = jt.eid \"\n",
    "        f\"WHERE jt.slug = '{row.expdbname}'\"\n",
    "    ))\n",
    "\n",
    "    classes_leg = {}\n",
    "\n",
    "    for _i, r in classes_df.iterrows():\n",
    "        classes_leg[r.codeval] = r.nameval\n",
    "    \n",
    "    mtx = confmtx_fmrst(\n",
    "        os.path.join(ref_folder, row.ref),\n",
    "        os.path.join(res_folder, row.classified),\n",
    "        class_labels=classes_leg\n",
    "    )\n",
    "\n",
    "    mtx = mtx.set_index('class')\n",
    "    \n",
    "    # Get classes of this matrix\n",
    "    mtxcols = [c for c in mtx.columns.values if c != 'row_area' and c != 'precision']\n",
    "\n",
    "    # Get classes considering all matrices\n",
    "    for _c in mtxcols:\n",
    "        if _c in all_classes:\n",
    "            continue\n",
    "\n",
    "        all_classes.append(_c)\n",
    "\n",
    "    mtxs.append(mtx)\n",
    "    mtxscols.append(mtxcols)\n",
    "\n",
    "# Get sintese table\n",
    "for i, row in exp.iterrows():\n",
    "    # Change index - class to index\n",
    "    cols = mtxscols[i]\n",
    "\n",
    "    # Get global measures\n",
    "    over  = mtxs[i].loc['overall_accuracy', cols[0]]\n",
    "    kappa = mtxs[i].loc['kappa', cols[0]]\n",
    "    tarea = mtxs[i].loc['total_area', 'row_area']\n",
    "    mf1   = mtxs[i].loc['macro-f1', cols[0]]\n",
    "    wf1   = mtxs[i].loc['weighted-f1', cols[0]]\n",
    "\n",
    "    # Get f1-scores\n",
    "    f1_scores = mtxs[i].loc['f1-score', cols].to_dict()\n",
    "\n",
    "    # Get values for all columns\n",
    "    allcols = []\n",
    "    for c in all_classes:\n",
    "        if c in f1_scores:\n",
    "            allcols.append(f1_scores[c])\n",
    "        else:\n",
    "            allcols.append(0)\n",
    "    \n",
    "    sintese.append([row['name'], tarea, over, kappa, mf1, wf1] + allcols)\n",
    "\n",
    "    mtxs[i].insert(0, 'class', mtxs[i].index)"
   ]
  },
  {
   "cell_type": "code",
   "execution_count": 5,
   "id": "2f33170c-e9df-49c4-8277-c06ce20d6feb",
   "metadata": {},
   "outputs": [],
   "source": [
    "sdf = pd.DataFrame(sintese, columns=maincols + all_classes)"
   ]
  },
  {
   "cell_type": "code",
   "execution_count": 6,
   "id": "ef05b73b-f637-4734-9e04-9e35148c5e7e",
   "metadata": {},
   "outputs": [
    {
     "data": {
      "text/html": [
       "<div>\n",
       "<style scoped>\n",
       "    .dataframe tbody tr th:only-of-type {\n",
       "        vertical-align: middle;\n",
       "    }\n",
       "\n",
       "    .dataframe tbody tr th {\n",
       "        vertical-align: top;\n",
       "    }\n",
       "\n",
       "    .dataframe thead th {\n",
       "        text-align: right;\n",
       "    }\n",
       "</style>\n",
       "<table border=\"1\" class=\"dataframe\">\n",
       "  <thead>\n",
       "    <tr style=\"text-align: right;\">\n",
       "      <th></th>\n",
       "      <th>exp</th>\n",
       "      <th>total_area</th>\n",
       "      <th>overall_accuracy</th>\n",
       "      <th>kappa</th>\n",
       "      <th>macro-f1</th>\n",
       "      <th>weighted-f1</th>\n",
       "      <th>no_roads</th>\n",
       "      <th>roads</th>\n",
       "    </tr>\n",
       "  </thead>\n",
       "  <tbody>\n",
       "    <tr>\n",
       "      <th>0</th>\n",
       "      <td>exp331</td>\n",
       "      <td>61166.0</td>\n",
       "      <td>91.583559</td>\n",
       "      <td>0.594522</td>\n",
       "      <td>79.607473</td>\n",
       "      <td>90.815541</td>\n",
       "      <td>95.235098</td>\n",
       "      <td>63.979849</td>\n",
       "    </tr>\n",
       "    <tr>\n",
       "      <th>1</th>\n",
       "      <td>exp332</td>\n",
       "      <td>61166.0</td>\n",
       "      <td>92.636432</td>\n",
       "      <td>0.646206</td>\n",
       "      <td>82.210337</td>\n",
       "      <td>91.977815</td>\n",
       "      <td>95.829321</td>\n",
       "      <td>68.591353</td>\n",
       "    </tr>\n",
       "  </tbody>\n",
       "</table>\n",
       "</div>"
      ],
      "text/plain": [
       "      exp  total_area  overall_accuracy     kappa   macro-f1  weighted-f1  \\\n",
       "0  exp331     61166.0         91.583559  0.594522  79.607473    90.815541   \n",
       "1  exp332     61166.0         92.636432  0.646206  82.210337    91.977815   \n",
       "\n",
       "    no_roads      roads  \n",
       "0  95.235098  63.979849  \n",
       "1  95.829321  68.591353  "
      ]
     },
     "execution_count": 6,
     "metadata": {},
     "output_type": "execute_result"
    }
   ],
   "source": [
    "sdf"
   ]
  },
  {
   "cell_type": "code",
   "execution_count": 7,
   "id": "19857d68-44bc-4b63-95b0-d796ea802592",
   "metadata": {},
   "outputs": [],
   "source": [
    "alldfs = [sdf]\n",
    "alldfs.extend(mtxs)\n",
    "sheets = ['sintese'] + exp.name.tolist()"
   ]
  },
  {
   "cell_type": "code",
   "execution_count": 8,
   "id": "264067c4-2bf5-445e-9e6e-6e51bfb4954a",
   "metadata": {},
   "outputs": [
    {
     "data": {
      "text/plain": [
       "'/mnt/d/autocls_e3/valida/experiments_roads_ref.xlsx'"
      ]
     },
     "execution_count": 8,
     "metadata": {},
     "output_type": "execute_result"
    }
   ],
   "source": [
    "obj_to_tbl(alldfs, val_table, sheetsName=sheets)"
   ]
  },
  {
   "cell_type": "code",
   "execution_count": null,
   "id": "236bd4ba-2057-46f7-9f9f-7886750797c6",
   "metadata": {},
   "outputs": [],
   "source": []
  }
 ],
 "metadata": {
  "kernelspec": {
   "display_name": "Python 3 (ipykernel)",
   "language": "python",
   "name": "python3"
  },
  "language_info": {
   "codemirror_mode": {
    "name": "ipython",
    "version": 3
   },
   "file_extension": ".py",
   "mimetype": "text/x-python",
   "name": "python",
   "nbconvert_exporter": "python",
   "pygments_lexer": "ipython3",
   "version": "3.10.12"
  }
 },
 "nbformat": 4,
 "nbformat_minor": 5
}
