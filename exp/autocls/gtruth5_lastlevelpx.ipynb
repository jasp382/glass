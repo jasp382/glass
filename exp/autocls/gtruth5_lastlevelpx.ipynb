{
 "cells": [
  {
   "cell_type": "code",
   "execution_count": null,
   "id": "8e3b04ac-f763-41cf-b24c-314c4e9e70fd",
   "metadata": {},
   "outputs": [],
   "source": [
    "refgrid = '/home/jasp/autocls_exp3/pxs_rst/refpxgroups_06x06_4.tif'\n",
    "\n",
    "mixed_rst = [\n",
    "    '/home/jasp/autocls_exp3/px_mixed/mixed4_clcp2018.tif',\n",
    "    '/home/jasp/autocls_exp3/px_mixed/mixed4_cos2018.tif',\n",
    "    '/home/jasp/autocls_exp3/px_mixed/mixed4_cosc2021.tif',\n",
    "    '/home/jasp/autocls_exp3/px_mixed/mixed4_ua2018.tif',\n",
    "]\n",
    "\n",
    "lastlevel_shp = '/home/jasp/autocls_exp3/pxs/px_sample_5.shp'\n",
    "\n",
    "lastlevel_rst = '/home/jasp/autocls_exp3/pxs_rst/refpxgroups_06x06_5.tif'\n",
    "\n",
    "db = 'gthruth_valeflores_v3'\n",
    "pxtbl = 'gthruth_fishnet'\n",
    "pxtbl_pk = 'cid'"
   ]
  },
  {
   "cell_type": "code",
   "execution_count": null,
   "id": "d27e5a30-50bb-41fa-954c-172fba758a98",
   "metadata": {},
   "outputs": [],
   "source": [
    "import os\n",
    "import numpy as np\n",
    "\n",
    "from glass.wenv.grs import run_grass\n",
    "from glass.pys.oss import fprop\n",
    "from glass.pys.tm import now_as_str\n",
    "from glass.it.rst import rst_to_grs, grs_to_rst\n",
    "from glass.rst.rcls.grs import null_to_value\n",
    "from glass.rst.alg import grsrstcalc\n",
    "from glass.rd.rst import rst_to_array\n",
    "from glass.smp.fish.sql import split_fishnetcells_in_four\n",
    "from glass.prop.prj import get_epsg\n",
    "from glass.prop.sql import check_last_id\n",
    "from glass.wt.shp import df_to_shp\n",
    "from glass.wt.sql import df_to_db"
   ]
  },
  {
   "cell_type": "code",
   "execution_count": null,
   "id": "a26db368-a140-4387-a86a-09cdd84ba78a",
   "metadata": {},
   "outputs": [],
   "source": [
    "# Create GRASS GIS Session\n",
    "loc = now_as_str(utc=True)\n",
    "ws = os.path.dirname(lastlevel_shp)\n",
    "\n",
    "gb = run_grass(ws, location=loc, srs=refgrid)\n",
    "\n",
    "import grass.script.setup as gsetup\n",
    "\n",
    "gsetup.init(gb, ws, loc, 'PERMANENT')"
   ]
  },
  {
   "cell_type": "code",
   "execution_count": null,
   "id": "a9a0c0e2-8708-4b96-8fac-96dc9a5f3a74",
   "metadata": {},
   "outputs": [],
   "source": [
    "# Import Raster's\n",
    "\n",
    "refgrs = rst_to_grs(refgrid)\n",
    "\n",
    "mixgrs = [rst_to_grs(r) for r in mixed_rst]\n",
    "\n",
    "# Null to Zero\n",
    "for mg in mixgrs:\n",
    "    null_to_value(mg, 0, as_cmd=True)\n",
    "\n",
    "# Sum mixed rasters\n",
    "sum_mix = grsrstcalc(\" + \".join(mixgrs), \"sum_mixed\")\n",
    "\n",
    "# Get ID's of level 4\n",
    "mix_ids = grsrstcalc(\n",
    "    f\"if(sum_mixed > 0, {refgrs}, null())\",\n",
    "    fprop(lastlevel_rst, 'fn')\n",
    ")\n",
    "\n",
    "# Export raster\n",
    "grs_to_rst(mix_ids, lastlevel_rst, as_cmd=True, rtype=int)"
   ]
  },
  {
   "cell_type": "markdown",
   "id": "e516074b-f4f0-4368-a310-da7cfda8b673",
   "metadata": {},
   "source": [
    "## Get Fishnet"
   ]
  },
  {
   "cell_type": "code",
   "execution_count": null,
   "id": "fa5d206f-a18a-4a3c-b40c-4090ac542166",
   "metadata": {},
   "outputs": [],
   "source": [
    "mixnum = rst_to_array(lastlevel_rst, with_nodata=False)\n",
    "\n",
    "epsg = get_epsg(lastlevel_rst)\n",
    "\n",
    "mix_ids = list(np.unique(mixnum))\n",
    "\n",
    "whra = \", \".join(map(str, mix_ids))\n",
    "\n",
    "last_id = check_last_id(db, pxtbl_pk, pxtbl)\n",
    "\n",
    "subfish = split_fishnetcells_in_four(\n",
    "    db, pxtbl, {'cid' : 'rootid'},\n",
    "    'geom', epsg, last_id, 'cid', 'cid',\n",
    "    whr=f\"{pxtbl}.cid = ANY(ARRAY[{whra}])\",\n",
    "    valascol={\"level\" : \"5\"}\n",
    ")\n",
    "\n",
    "df_to_shp(subfish, lastlevel_shp)\n",
    "df_to_db(\n",
    "    db, subfish, pxtbl, append=True,\n",
    "    col_geom=\"geom\", epsg=epsg\n",
    ")"
   ]
  }
 ],
 "metadata": {
  "kernelspec": {
   "display_name": "Python 3 (ipykernel)",
   "language": "python",
   "name": "python3"
  },
  "language_info": {
   "codemirror_mode": {
    "name": "ipython",
    "version": 3
   },
   "file_extension": ".py",
   "mimetype": "text/x-python",
   "name": "python",
   "nbconvert_exporter": "python",
   "pygments_lexer": "ipython3",
   "version": "3.10.12"
  }
 },
 "nbformat": 4,
 "nbformat_minor": 5
}
