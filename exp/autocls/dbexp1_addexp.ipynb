{
 "cells": [
  {
   "cell_type": "code",
   "execution_count": null,
   "id": "949c15e1-bfb0-43f3-a273-ada3c7be5eb8",
   "metadata": {},
   "outputs": [],
   "source": [
    "data = {\n",
    "    'xlsx'     : '/mnt/d/autocls_e3/classref/refexp32_vec.shp',\n",
    "    'sheet'    : None,\n",
    "    'pxid'     : 'pxid',\n",
    "    'classcol' : 'rdv_class'\n",
    "}\n",
    "\n",
    "expname = 'exp33'\n",
    "\n",
    "expdesc = 'Roads classes classification'\n",
    "\n",
    "db = 'gthruth_valeflores_v3'"
   ]
  },
  {
   "cell_type": "code",
   "execution_count": null,
   "id": "ccb18d7d-d3d3-4a5c-bea1-726909328a8b",
   "metadata": {},
   "outputs": [],
   "source": [
    "import pandas as pd\n",
    "\n",
    "from glass.rd import tbl_to_obj\n",
    "from glass.prop.sql import check_last_id\n",
    "from glass.wt.sql import df_to_db\n",
    "from glass.prop.df import is_shp\n",
    "from glass.rd.shp import shp_to_obj"
   ]
  },
  {
   "cell_type": "code",
   "execution_count": null,
   "id": "a0e89b25-e512-4354-b306-0f15b6201de0",
   "metadata": {},
   "outputs": [],
   "source": [
    "# Read data with association between pixels and classes\n",
    "if is_shp(data['xlsx']):\n",
    "    ddf = shp_to_obj(data['xlsx'])\n",
    "else:\n",
    "    ddf = tbl_to_obj(data['xlsx'], sheet=data['sheet'])"
   ]
  },
  {
   "cell_type": "code",
   "execution_count": null,
   "id": "264fc685-639c-4615-8d83-ef6e19f8cb15",
   "metadata": {},
   "outputs": [],
   "source": [
    "mcols = [data['pxid'], data['classcol']]\n",
    "ddf.drop([c for c in ddf.columns.values if c not in mcols], axis=1, inplace=True)"
   ]
  },
  {
   "cell_type": "code",
   "execution_count": null,
   "id": "f61e7a93-a419-448a-9dc9-5d0c55bbb303",
   "metadata": {},
   "outputs": [],
   "source": [
    "ddf"
   ]
  },
  {
   "cell_type": "code",
   "execution_count": null,
   "id": "41129a09-c508-4315-a2b3-a02ba2c230ad",
   "metadata": {},
   "outputs": [],
   "source": [
    "# Check last ID's\n",
    "lid_exp = check_last_id(db, 'eid', 'experiments')\n",
    "lid_cls = check_last_id(db, 'expclsid', 'expclasses')"
   ]
  },
  {
   "cell_type": "code",
   "execution_count": null,
   "id": "4ff4dfa0-1826-4c9e-8b8d-77a399bb2111",
   "metadata": {},
   "outputs": [],
   "source": [
    "# Get experiment DF\n",
    "edf = pd.DataFrame([[lid_exp+1, expname, expdesc]], columns=['eid', 'slug', 'description'])\n",
    "\n",
    "# Get classes DF\n",
    "expclasses = ddf[data['classcol']].unique()\n",
    "\n",
    "df_classes = pd.DataFrame(expclasses, columns=['nameval'])\n",
    "\n",
    "df_classes['codeval'] = df_classes.index + 1\n",
    "\n",
    "df_classes['expclsid'] = lid_cls + 1 + df_classes.index\n",
    "df_classes['expfk'] = lid_exp+1"
   ]
  },
  {
   "cell_type": "code",
   "execution_count": null,
   "id": "f7098a58-1c01-461d-b77e-dbbb175cb96e",
   "metadata": {},
   "outputs": [],
   "source": [
    "edf"
   ]
  },
  {
   "cell_type": "code",
   "execution_count": null,
   "id": "e8fe3147-4b56-4832-b594-5eea0bdd70a4",
   "metadata": {},
   "outputs": [],
   "source": [
    "df_classes"
   ]
  },
  {
   "cell_type": "code",
   "execution_count": null,
   "id": "70405a08-199f-421b-869c-1fbce9b863fd",
   "metadata": {},
   "outputs": [],
   "source": [
    "# Get association between pixels and experiment classes\n",
    "ddf = ddf.merge(df_classes, how='left', left_on=data['classcol'], right_on='nameval')"
   ]
  },
  {
   "cell_type": "code",
   "execution_count": null,
   "id": "d5134ef5-bad8-4bd9-9dac-c09babd50c29",
   "metadata": {},
   "outputs": [],
   "source": [
    "ddf"
   ]
  },
  {
   "cell_type": "code",
   "execution_count": null,
   "id": "8d1fc78e-fa49-43ce-bee1-a93219eec32d",
   "metadata": {},
   "outputs": [],
   "source": [
    "ddf = ddf[[data['pxid'], 'expclsid']]"
   ]
  },
  {
   "cell_type": "code",
   "execution_count": null,
   "id": "c8a43a09-f406-442f-a3c2-6b2d62386e5d",
   "metadata": {},
   "outputs": [],
   "source": [
    "ddf.rename(columns={\n",
    "    data['pxid'] : 'pxid',\n",
    "    'expclsid' : 'eclsid'\n",
    "}, inplace=True)"
   ]
  },
  {
   "cell_type": "code",
   "execution_count": null,
   "id": "7aad4275-24e7-4f4b-b3a3-d8897b7a7b8f",
   "metadata": {},
   "outputs": [],
   "source": [
    "# Go for it\n",
    "# Send everything to the database\n",
    "\n",
    "df_to_db(db, edf, 'experiments', append=True)\n",
    "df_to_db(db, df_classes, 'expclasses', append=True)\n",
    "df_to_db(db, ddf, 'pxexpclasses', append=True)"
   ]
  },
  {
   "cell_type": "code",
   "execution_count": null,
   "id": "7cdce593-f6dc-4ced-a76c-4656277be7df",
   "metadata": {},
   "outputs": [],
   "source": []
  }
 ],
 "metadata": {
  "kernelspec": {
   "display_name": "Python 3 (ipykernel)",
   "language": "python",
   "name": "python3"
  },
  "language_info": {
   "codemirror_mode": {
    "name": "ipython",
    "version": 3
   },
   "file_extension": ".py",
   "mimetype": "text/x-python",
   "name": "python",
   "nbconvert_exporter": "python",
   "pygments_lexer": "ipython3",
   "version": "3.10.12"
  }
 },
 "nbformat": 4,
 "nbformat_minor": 5
}
