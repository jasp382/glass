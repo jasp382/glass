{
 "cells": [
  {
   "cell_type": "code",
   "execution_count": null,
   "id": "15a718dd-1ad6-4d9d-8c39-254472b3d565",
   "metadata": {},
   "outputs": [],
   "source": [
    "pxcls_tbl = '/home/jasp/autocls_exp3/px_classes'\n",
    "\n",
    "db = 'gthruth_valeflores_v3'\n",
    "\n",
    "db_tbl = 'pxclasses'"
   ]
  },
  {
   "cell_type": "code",
   "execution_count": null,
   "id": "d85e3d06-cdb4-4e64-80d8-bdb788917c1e",
   "metadata": {},
   "outputs": [],
   "source": [
    "from glass.prop.sql import row_num\n",
    "from glass.it.db import tbl_to_db\n",
    "from glass.pys.oss import lst_ff"
   ]
  },
  {
   "cell_type": "code",
   "execution_count": null,
   "id": "2b874f4e-6cf6-4f13-8a3e-b8b65d011e66",
   "metadata": {},
   "outputs": [],
   "source": [
    "tbls = lst_ff(pxcls_tbl, file_format='.xlsx')"
   ]
  },
  {
   "cell_type": "code",
   "execution_count": null,
   "id": "4104522f-67d4-4a9a-99de-97702c9b3efe",
   "metadata": {},
   "outputs": [],
   "source": [
    "crows = row_num(db, db_tbl)"
   ]
  },
  {
   "cell_type": "code",
   "execution_count": null,
   "id": "f2d3d6ea-2ba0-4bb9-ad9b-67078436741a",
   "metadata": {},
   "outputs": [],
   "source": [
    "crows"
   ]
  },
  {
   "cell_type": "code",
   "execution_count": null,
   "id": "1b199c7c-9fac-4635-ba8f-a05364474c68",
   "metadata": {},
   "outputs": [],
   "source": [
    "for tbl in tbls:\n",
    "    pxcls_df = tbl_to_db(\n",
    "        tbl, db, db_tbl,\n",
    "        isAppend=True\n",
    "    )"
   ]
  },
  {
   "cell_type": "code",
   "execution_count": null,
   "id": "062e7f83-1809-4368-ae04-ec5e5cc85a72",
   "metadata": {},
   "outputs": [],
   "source": [
    "_crows = row_num(db, db_tbl)"
   ]
  },
  {
   "cell_type": "code",
   "execution_count": null,
   "id": "48ba9f6f-c6df-4824-b1fa-58eafedcb3f5",
   "metadata": {},
   "outputs": [],
   "source": [
    "print(f\"{str(_crows - crows)} new rows where added\")"
   ]
  },
  {
   "cell_type": "code",
   "execution_count": null,
   "id": "937504d3-ea3b-4a92-8b9f-463cc6b1685e",
   "metadata": {},
   "outputs": [],
   "source": []
  }
 ],
 "metadata": {
  "kernelspec": {
   "display_name": "Python 3 (ipykernel)",
   "language": "python",
   "name": "python3"
  },
  "language_info": {
   "codemirror_mode": {
    "name": "ipython",
    "version": 3
   },
   "file_extension": ".py",
   "mimetype": "text/x-python",
   "name": "python",
   "nbconvert_exporter": "python",
   "pygments_lexer": "ipython3",
   "version": "3.10.12"
  }
 },
 "nbformat": 4,
 "nbformat_minor": 5
}
