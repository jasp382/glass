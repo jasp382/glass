{
 "cells": [
  {
   "cell_type": "code",
   "execution_count": null,
   "id": "e9429e39-6f84-4e5c-a29b-c65dcf75e6dd",
   "metadata": {},
   "outputs": [],
   "source": [
    "refgrid = '/home/jasp/autocls_exp3/pxs_rst/refpxgroups_06x06_4.tif'\n",
    "\n",
    "lulcmaps = {\n",
    "    'clcp2018' : '/mnt/d/autocls_exp3/lulc_06x06/clcpp_bb2018_06x06.tif',\n",
    "    'cos2018'  : '/mnt/d/autocls_exp3/lulc_06x06/cos_2018_06x06.tif',\n",
    "    'cosc2021' : '/mnt/d/autocls_exp3/lulc_06x06/cosc_2021_06x06.tif',\n",
    "    'ua2018'   : '/mnt/d/autocls_exp3/lulc_06x06/ua_2018_06x06.tif'\n",
    "}\n",
    "\n",
    "lulc_col = {\n",
    "    'clcp2018' : 'Value',\n",
    "    'cos2018'  : 'COS18n4_C',\n",
    "    'cosc2021' : 'Value',\n",
    "    'ua2018'   : 'code_2018'\n",
    "}\n",
    "\n",
    "lulc_mixed = {\n",
    "    'clcp2018' : '/home/jasp/autocls_exp3/px_mixed/mixed3_clcp2018.tif',\n",
    "    'cos2018'  : '/home/jasp/autocls_exp3/px_mixed/mixed3_cos2018.tif',\n",
    "    'cosc2021' : '/home/jasp/autocls_exp3/px_mixed/mixed3_cosc2021.tif',\n",
    "    'ua2018'   : '/home/jasp/autocls_exp3/px_mixed/mixed3_ua2018.tif'\n",
    "}\n",
    "\n",
    "pure_px_tbl = '/home/jasp/autocls_exp3/px_classes'\n",
    "pure_bname = 'pxclass4'\n",
    "\n",
    "mixed_px_rst = '/home/jasp/autocls_exp3/px_mixed'\n",
    "mixed_bname = 'mixed4'\n",
    "\n",
    "db = 'gthruth_valeflores_v3'"
   ]
  },
  {
   "cell_type": "code",
   "execution_count": null,
   "id": "1b9812ef-4029-424e-8e74-6fe6811e23f5",
   "metadata": {},
   "outputs": [],
   "source": [
    "import os\n",
    "import numpy as np\n",
    "import datetime as dt\n",
    "\n",
    "from glass.pys.tm import now_as_str\n",
    "from glass.wenv.grs import run_grass\n",
    "from glass.it.rst import rst_to_grs, grs_to_rst\n",
    "from glass.rst.zon.grs import rstatszonal\n",
    "from glass.rst.local.grs import combine_report_to_df, grs_combine\n",
    "from glass.rst.alg import grsrstcalc\n",
    "from glass.rd import tbl_to_obj\n",
    "from glass.wt import obj_to_tbl\n",
    "from glass.sql.q import q_to_obj\n",
    "from glass.dtt.mge.pd import merge_df\n",
    "from glass.prop.prj import get_epsg"
   ]
  },
  {
   "cell_type": "code",
   "execution_count": null,
   "id": "21af475f-8ee5-4cd8-975c-f9eef5960c5c",
   "metadata": {},
   "outputs": [],
   "source": [
    "time_a = dt.datetime.now().replace(microsecond=0)"
   ]
  },
  {
   "cell_type": "code",
   "execution_count": null,
   "id": "84a0b35e-1620-434a-b838-35fa4f94d8b3",
   "metadata": {},
   "outputs": [],
   "source": [
    "epsg = get_epsg(refgrid)"
   ]
  },
  {
   "cell_type": "code",
   "execution_count": null,
   "id": "bc679824-003f-4740-9bf6-e62aa69d6652",
   "metadata": {},
   "outputs": [],
   "source": [
    "# Get Lulc Raster Tables\n",
    "\n",
    "lulc_rst_tbls = {}\n",
    "\n",
    "for m in lulc_col:\n",
    "    lulc_rst_tbls[m] = q_to_obj(db, (\n",
    "        \"SELECT mtbl.classid, mtbl.code, mtbl.classname, jtbl.slug \"\n",
    "        \"FROM mapclasses AS mtbl \"\n",
    "        \"LEFT JOIN refmaps AS jtbl \"\n",
    "        \"ON mtbl.mapfk = jtbl.mapid \"\n",
    "        f\"WHERE jtbl.slug = '{m}'\"\n",
    "    ))\n",
    "    \n",
    "    if lulc_col[m] != 'Value':\n",
    "        _df = tbl_to_obj(f'{lulcmaps[m]}.vat.dbf')\n",
    "\n",
    "        lulc_rst_tbls[m] = lulc_rst_tbls[m].merge(\n",
    "            _df, how='right', left_on='code',\n",
    "            right_on=lulc_col[m]\n",
    "        )\n",
    "\n",
    "        lulc_rst_tbls[m].drop(['Count', lulc_col[m]], axis=1,  inplace=True)\n",
    "        lulc_rst_tbls[m].rename(columns={'Value' : 'rvalue'}, inplace=True)\n",
    "\n",
    "    else:\n",
    "        lulc_rst_tbls[m]['rvalue'] = lulc_rst_tbls[m]['code'].astype(int)"
   ]
  },
  {
   "cell_type": "code",
   "execution_count": null,
   "id": "5431a2c4-457f-47b6-9d8e-6a215595c548",
   "metadata": {},
   "outputs": [],
   "source": [
    "lulc_rst_tbls"
   ]
  },
  {
   "cell_type": "code",
   "execution_count": null,
   "id": "ad0a1f3f-fb36-49b9-8083-0512f85fb2a7",
   "metadata": {},
   "outputs": [],
   "source": [
    "# Create GRASS GIS Session\n",
    "loc = now_as_str(utc=True)\n",
    "ws = pure_px_tbl\n",
    "\n",
    "gb = run_grass(ws, location=loc, srs=refgrid)\n",
    "\n",
    "import grass.script.setup as gsetup\n",
    "\n",
    "gsetup.init(gb, ws, loc, 'PERMANENT')"
   ]
  },
  {
   "cell_type": "code",
   "execution_count": null,
   "id": "9625aa85-f258-46d9-9b69-025488ee004e",
   "metadata": {},
   "outputs": [],
   "source": [
    "# Import Raster's\n",
    "\n",
    "grsref = rst_to_grs(refgrid, as_cmd=True)\n",
    "\n",
    "grslulc = [rst_to_grs(\n",
    "    lulcmaps[r], grst=r, as_cmd=True\n",
    ") for r in lulcmaps]\n",
    "\n",
    "for m in lulc_mixed:\n",
    "    if not lulc_mixed[m]:\n",
    "        continue\n",
    "\n",
    "    lulc_mixed[m] = rst_to_grs(lulc_mixed[m], as_cmd=True)"
   ]
  },
  {
   "cell_type": "code",
   "execution_count": null,
   "id": "372cab3b-1dfc-4ab9-ae90-34f21caf452e",
   "metadata": {},
   "outputs": [],
   "source": [
    "pure_cells_dfs = []\n",
    "cells_more_one_cls = []\n",
    "\n",
    "for _r in grslulc:\n",
    "    if _r in lulc_mixed and lulc_mixed[_r]:\n",
    "        # Ignore pure cells\n",
    "        r = grsrstcalc(\n",
    "            f\"{_r} * {lulc_mixed[_r]}\",\n",
    "            f\"{_r}_mixed\", ascmd=True\n",
    "        )\n",
    "\n",
    "    else:\n",
    "        r = _r\n",
    "    \n",
    "    cls_count = rstatszonal(grsref, r, 'range', f'count_{r}')\n",
    "\n",
    "    # Select cells with one class only\n",
    "    one_cls = grsrstcalc(\n",
    "        f\"if({cls_count} > 0, null(), {r})\",\n",
    "        f\"onecls_{_r}\", ascmd=True\n",
    "    )\n",
    "\n",
    "    # Combine\n",
    "    cmb_onecls = grs_combine([grsref, one_cls], f'cmb_{_r}')\n",
    "\n",
    "    cmb_table = combine_report_to_df(\n",
    "        cmb_onecls, ['pxid', 'lulc_class_value'],\n",
    "        otxt=os.path.join(ws, loc, f'{cmb_onecls}.txt')\n",
    "    )\n",
    "\n",
    "    cmb_table = cmb_table.merge(\n",
    "        lulc_rst_tbls[_r], how='left',\n",
    "        left_on='lulc_class_value',\n",
    "        right_on='rvalue'\n",
    "    )\n",
    "\n",
    "    _cmb_tbl = cmb_table[['pxid', 'classid']]\n",
    "\n",
    "    _cmb_tbl.rename(columns={'classid' : 'clsid'}, inplace=True)\n",
    "    \n",
    "    #pure_cells_dfs.append(_cmb_tbl)\n",
    "\n",
    "    # Select cells with more than one class\n",
    "    more_cls = grsrstcalc(\n",
    "        f\"if({cls_count} > 0, 1, null())\",\n",
    "        f\"mtpcls_{_r}\", ascmd=True\n",
    "    )\n",
    "    #cells_more_one_cls.append(more_cls)\n",
    "\n",
    "    # Export table\n",
    "    obj_to_tbl(_cmb_tbl, os.path.join(pure_px_tbl, f\"{pure_bname}_{_r}.xlsx\"))\n",
    "\n",
    "    # Export raster\n",
    "    grs_to_rst(\n",
    "        more_cls, os.path.join(mixed_px_rst, f'{mixed_bname}_{_r}.tif'),\n",
    "        as_cmd=True, rtype=int\n",
    "    )"
   ]
  },
  {
   "cell_type": "code",
   "execution_count": null,
   "id": "63256734-fc01-44a2-8aa3-9d33355800ff",
   "metadata": {},
   "outputs": [],
   "source": [
    "time_b = dt.datetime.now().replace(microsecond=0)"
   ]
  },
  {
   "cell_type": "code",
   "execution_count": null,
   "id": "2053068d-32a4-46c5-83b9-709a095bf1fb",
   "metadata": {},
   "outputs": [],
   "source": [
    "print(time_b - time_a)"
   ]
  }
 ],
 "metadata": {
  "kernelspec": {
   "display_name": "Python 3 (ipykernel)",
   "language": "python",
   "name": "python3"
  },
  "language_info": {
   "codemirror_mode": {
    "name": "ipython",
    "version": 3
   },
   "file_extension": ".py",
   "mimetype": "text/x-python",
   "name": "python",
   "nbconvert_exporter": "python",
   "pygments_lexer": "ipython3",
   "version": "3.10.12"
  }
 },
 "nbformat": 4,
 "nbformat_minor": 5
}
