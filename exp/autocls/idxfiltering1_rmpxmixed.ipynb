{
 "cells": [
  {
   "cell_type": "markdown",
   "id": "0955496d-944f-45db-9072-a834477cac73",
   "metadata": {},
   "source": [
    "### Remove mixed pixels"
   ]
  },
  {
   "cell_type": "code",
   "execution_count": null,
   "id": "79a9d381-091b-40ec-9b5c-925f0066a626",
   "metadata": {},
   "outputs": [],
   "source": [
    "inputs = [{\n",
    "    'osmlulc'  : '/home/gisuser/autocls2/lcfilter/osmlc_1112.gpkg',\n",
    "    'osmlyr'   : 'f0_olc_coimbra_harm',\n",
    "    'lulc_col' : 'idclsv2',\n",
    "    'refimg'   : '/home/gisuser/autocls2/refimgs/ref_coimbra.tif',\n",
    "    'out'      : '/home/gisuser/autocls2/lcfilter/f1_coimbra.tif'\n",
    "}, {\n",
    "    'osmlulc'  : '/home/gisuser/autocls2/lcfilter/osmlc_1112.gpkg',\n",
    "    'osmlyr'   : 'f0_olc_faro_harm',\n",
    "    'lulc_col' : 'idclsv2',\n",
    "    'refimg'   : '/home/gisuser/autocls2/refimgs/ref_faro.tif',\n",
    "    'out'      : '/home/gisuser/autocls2/lcfilter/f1_faro.tif'\n",
    "}, {\n",
    "    'osmlulc'  : '/home/gisuser/autocls2/lcfilter/osmlc_1112.gpkg',\n",
    "    'osmlyr'   : 'f0_olc_porto_harm',\n",
    "    'lulc_col' : 'idclsv2',\n",
    "    'refimg'   : '/home/gisuser/autocls2/refimgs/ref_porto.tif',\n",
    "    'out'      : '/home/gisuser/autocls2/lcfilter/f1_porto.tif'\n",
    "}, {\n",
    "    'osmlulc'  : '/home/gisuser/autocls2/lcfilter/osmlc_1112.gpkg',\n",
    "    'osmlyr'   : 'f0_olc_lisboa_harm',\n",
    "    'lulc_col' : 'idclsv2',\n",
    "    'refimg'   : '/home/gisuser/autocls2/refimgs/ref_lisboa.tif',\n",
    "    'out'      : '/home/gisuser/autocls2/lcfilter/f1_lisboa.tif'\n",
    "}, {\n",
    "    'osmlulc'  : '/home/gisuser/autocls2/lcfilter/osmlc_1112.gpkg',\n",
    "    'osmlyr'   : 'f0_olc_pnse_harm',\n",
    "    'lulc_col' : 'idclsv2',\n",
    "    'refimg'   : '/home/gisuser/autocls2/refimgs/ref_pnse.tif',\n",
    "    'out'      : '/home/gisuser/autocls2/lcfilter/f1_pnse.tif'\n",
    "}, {\n",
    "    'osmlulc'  : '/home/gisuser/autocls2/lcfilter/osmlc_1112.gpkg',\n",
    "    'osmlyr'   : 'f0_olc_evora_harm',\n",
    "    'lulc_col' : 'idclsv2',\n",
    "    'refimg'   : '/home/gisuser/autocls2/refimgs/ref_evora.tif',\n",
    "    'out'      : '/home/gisuser/autocls2/lcfilter/f1_evora.tif'\n",
    "}]\n",
    "\n",
    "from glass.ete.autocls.osmfilter import rm_mixed_pixels\n",
    "\n",
    "for d in inputs:\n",
    "    rm_mixed_pixels(\n",
    "        d['osmlulc'], d['osmlyr'], d['lulc_col'],\n",
    "        d['refimg'], d['out']\n",
    "    )"
   ]
  },
  {
   "cell_type": "code",
   "execution_count": null,
   "id": "63d723ae-dc17-419e-8b74-5495e18dc4aa",
   "metadata": {},
   "outputs": [],
   "source": []
  }
 ],
 "metadata": {
  "kernelspec": {
   "display_name": "Python 3 (ipykernel)",
   "language": "python",
   "name": "python3"
  },
  "language_info": {
   "codemirror_mode": {
    "name": "ipython",
    "version": 3
   },
   "file_extension": ".py",
   "mimetype": "text/x-python",
   "name": "python",
   "nbconvert_exporter": "python",
   "pygments_lexer": "ipython3",
   "version": "3.10.12"
  }
 },
 "nbformat": 4,
 "nbformat_minor": 5
}
