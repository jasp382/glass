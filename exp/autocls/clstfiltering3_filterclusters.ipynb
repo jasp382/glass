{
 "cells": [
  {
   "cell_type": "markdown",
   "id": "79baa8a1-6b59-4725-abd9-860cd9211832",
   "metadata": {},
   "source": [
    "## Get clusters with only one class"
   ]
  },
  {
   "cell_type": "code",
   "execution_count": null,
   "id": "ee3fb574-5148-44e7-b6d8-150c145de082",
   "metadata": {},
   "outputs": [],
   "source": [
    "train_f1 = '/mnt/g/autocls_exp2/lcfilter/f1_lisboa.tif'\n",
    "\n",
    "clusters = '/mnt/g/autocls_exp2/cluster_filter/cmb_km_f1_lisboa.tif'\n",
    "\n",
    "result = '/mnt/g/autocls_exp2/lcfilter/f5_lisboa.tif'"
   ]
  },
  {
   "cell_type": "code",
   "execution_count": null,
   "id": "8a02ebf2-7348-4444-b23b-271c53bba7e9",
   "metadata": {},
   "outputs": [],
   "source": [
    "import os\n",
    "\n",
    "from glass.rst.local import combine\n",
    "from glass.pys.oss import mkdir\n",
    "from glass.pys.tm import now_as_str\n",
    "from glass.rd import tbl_to_obj"
   ]
  },
  {
   "cell_type": "code",
   "execution_count": null,
   "id": "2fea8cad-bbe0-4a94-a8ac-fae0de458878",
   "metadata": {},
   "outputs": [],
   "source": [
    "tmpws = mkdir(\n",
    "    os.path.join(os.path.dirname(result), now_as_str(utc=True)),\n",
    "    overwrite=True\n",
    ")"
   ]
  },
  {
   "cell_type": "code",
   "execution_count": null,
   "id": "8780fc43-9e9c-4c83-be40-5652866937d7",
   "metadata": {},
   "outputs": [],
   "source": [
    "# Combine\n",
    "clstbycls = combine(\n",
    "    [train_f1, clusters],\n",
    "    os.path.join(tmpws, 'c_cls_cluster.tif')\n",
    ")\n",
    "\n",
    "tbl_clstbycls = os.path.join(tmpws, f\"{fprop(clstbycls, 'fn')}.xlsx\")"
   ]
  },
  {
   "cell_type": "code",
   "execution_count": null,
   "id": "2f94dedb-fc77-4bfa-ab84-ffbf76a8e87c",
   "metadata": {},
   "outputs": [],
   "source": [
    "df_clstbycls = tbl_to_obj(tbl_clstbycls)"
   ]
  }
 ],
 "metadata": {
  "kernelspec": {
   "display_name": "Python 3 (ipykernel)",
   "language": "python",
   "name": "python3"
  },
  "language_info": {
   "codemirror_mode": {
    "name": "ipython",
    "version": 3
   },
   "file_extension": ".py",
   "mimetype": "text/x-python",
   "name": "python",
   "nbconvert_exporter": "python",
   "pygments_lexer": "ipython3",
   "version": "3.10.12"
  }
 },
 "nbformat": 4,
 "nbformat_minor": 5
}
