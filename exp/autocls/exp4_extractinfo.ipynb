{
 "cells": [
  {
   "cell_type": "code",
   "execution_count": null,
   "id": "b03cea27-eac5-41c8-ba42-126c752e5488",
   "metadata": {},
   "outputs": [],
   "source": [
    "crsts = '/home/jasp/autocls/exp4/class'\n",
    "\n",
    "train = '/mnt/d/autocls_e4/trainref/cosc21_train_lvl_1.tif'\n",
    "\n",
    "outfolder = '/home/jasp/autocls/exp4/study_l1'"
   ]
  },
  {
   "cell_type": "code",
   "execution_count": null,
   "id": "812d3004-db39-4d67-8b95-2ae8c90990d3",
   "metadata": {},
   "outputs": [],
   "source": [
    "from osgeo import gdal, gdal_array\n",
    "import numpy as np\n",
    "import pandas as pd\n",
    "import os\n",
    "from glass.pys.oss import lst_ff, mkdir\n",
    "from glass.pys.tm import now_as_str\n",
    "from glass.wt.rst import obj_to_rst\n",
    "from glass.wt import obj_to_tbl\n",
    "from glass.prop.img import rst_epsg"
   ]
  },
  {
   "cell_type": "code",
   "execution_count": null,
   "id": "8791cefc-125d-4e8d-8fb2-9ea8f5acb505",
   "metadata": {},
   "outputs": [],
   "source": [
    "rsts = lst_ff(crsts, file_format='.tif')\n",
    "\n",
    "ref = gdal.Open(train, gdal.GA_ReadOnly)\n",
    "\n",
    "src = [gdal.Open(r, gdal.GA_ReadOnly) for r in rsts]"
   ]
  },
  {
   "cell_type": "code",
   "execution_count": null,
   "id": "7a3032ef-7d6e-4151-9890-15e9175aa483",
   "metadata": {},
   "outputs": [],
   "source": [
    "tmp = src[0].GetRasterBand(1).ReadAsArray()\n",
    "\n",
    "epsg = rst_epsg(ref)\n",
    "\n",
    "gtrans = ref.GetGeoTransform()"
   ]
  },
  {
   "cell_type": "code",
   "execution_count": null,
   "id": "c03fc186-540c-4c97-b522-1ee373eb27e5",
   "metadata": {},
   "outputs": [],
   "source": [
    "# Get NoData Values\n",
    "nd_ref = ref.GetRasterBand(1).GetNoDataValue()\n",
    "nd_cls = src[0].GetRasterBand(1).GetNoDataValue()"
   ]
  },
  {
   "cell_type": "code",
   "execution_count": null,
   "id": "aec87791-8857-48c2-9bc9-86241a653836",
   "metadata": {},
   "outputs": [],
   "source": [
    "all_rsts = np.zeros(\n",
    "    (ref.RasterYSize, ref.RasterXSize, len(rsts)),\n",
    "    gdal_array.GDALTypeCodeToNumericTypeCode(src[0].GetRasterBand(1).DataType)\n",
    ")\n",
    "\n",
    "for i in range(len(src)):\n",
    "    all_rsts[:, :, i] = src[i].GetRasterBand(1).ReadAsArray()\n",
    "\n",
    "rshp_rsts = all_rsts[:, :, :len(src)].reshape(\n",
    "    all_rsts.shape[0] * all_rsts.shape[1],\n",
    "    all_rsts.shape[2]\n",
    ")"
   ]
  },
  {
   "cell_type": "code",
   "execution_count": null,
   "id": "705275f9-4eb6-4e14-bcf2-afec9e69aa85",
   "metadata": {},
   "outputs": [],
   "source": [
    "tnum = ref.GetRasterBand(1).ReadAsArray()\n",
    "\n",
    "tnum_rshp = tnum.reshape(tnum.shape[0] * tnum.shape[1])"
   ]
  },
  {
   "cell_type": "code",
   "execution_count": null,
   "id": "c047b534-e06c-417d-8eeb-d3e2dbb8bbe0",
   "metadata": {},
   "outputs": [],
   "source": [
    "df = pd.DataFrame({'data' : list(rshp_rsts), 'refclass' : list(tnum_rshp)})"
   ]
  },
  {
   "cell_type": "code",
   "execution_count": null,
   "id": "7bca93b2-1444-4d91-84b3-a075bd90dafd",
   "metadata": {},
   "outputs": [],
   "source": [
    "def get_info(_x):\n",
    "    v, counts = np.unique(_x['data'], return_counts=True)\n",
    "\n",
    "    total = sum(list(counts))\n",
    "\n",
    "    _x['nclasses'] = len(v)\n",
    "    _x['classes'] = \", \".join(map(str, list(v)))\n",
    "\n",
    "    majority = max(list(counts))\n",
    "\n",
    "    otherp = 0\n",
    "    ref_p = 0\n",
    "    for i in range(len(v)):\n",
    "        if v[i] == _x['refclass']:\n",
    "            ref_p += counts[i]\n",
    "        else:\n",
    "            otherp += counts[i]\n",
    "\n",
    "        if counts[i] == majority:\n",
    "            majclss = v[i]\n",
    "\n",
    "    _x['ref_p'] = ref_p / total * 100.0\n",
    "    _x['other_p'] = otherp / total * 100.0\n",
    "    _x['maj_class'] = majclss\n",
    "    _x['maj_p'] = majority / total * 100.0\n",
    "    \n",
    "    return _x"
   ]
  },
  {
   "cell_type": "code",
   "execution_count": null,
   "id": "8b91e581-534f-484a-8ef6-6cd7a3788be5",
   "metadata": {},
   "outputs": [],
   "source": [
    "df = df.apply(lambda x: get_info(x), axis=1)"
   ]
  },
  {
   "cell_type": "code",
   "execution_count": null,
   "id": "da24ca40-95b8-4bcb-8887-de1a9f1780fa",
   "metadata": {},
   "outputs": [],
   "source": [
    "d = {\n",
    "    'nclasses'  : np.array(df['nclasses'], dtype=np.uint8).reshape(tmp.shape),\n",
    "    'ref_p'     : np.array(df['ref_p'], dtype=np.uint8).reshape(tmp.shape),\n",
    "    'other_p'   : np.array(df['other_p'], dtype=np.uint8).reshape(tmp.shape),\n",
    "    'maj_class' : np.array(df['maj_class'], dtype=np.uint8).reshape(tmp.shape),\n",
    "    'maj_p'     : np.array(df['maj_p'], dtype=np.uint8).reshape(tmp.shape)\n",
    "}"
   ]
  },
  {
   "cell_type": "code",
   "execution_count": null,
   "id": "91ec1c9a-8b12-469b-bf1a-64b1d185b488",
   "metadata": {},
   "outputs": [],
   "source": [
    "df.drop(['data'], axis=1, inplace=True)"
   ]
  },
  {
   "cell_type": "code",
   "execution_count": null,
   "id": "585c62d4-7521-4667-a001-e5aad54bbb74",
   "metadata": {},
   "outputs": [],
   "source": [
    "# Place NoData\n",
    "for k in d:\n",
    "    np.place(d[k], tnum == nd_ref, 255)\n",
    "    np.place(d[k], tmp == nd_cls, 255)"
   ]
  },
  {
   "cell_type": "code",
   "execution_count": null,
   "id": "0f5441cc-f019-477e-b70f-fc65322f5dcb",
   "metadata": {},
   "outputs": [],
   "source": [
    "# Save results\n",
    "mkdir(outfolder, overwrite=True)\n",
    "\n",
    "obj_to_tbl(df, os.path.join(outfolder, 'exp4_ftable.xlsx'))\n",
    "\n",
    "\n",
    "for k in d:\n",
    "    obj_to_rst(\n",
    "        d[k],\n",
    "        os.path.join(outfolder, f'exp4_{k}.tif'),\n",
    "        gtrans, epsg, noData=255\n",
    "    )"
   ]
  },
  {
   "cell_type": "code",
   "execution_count": null,
   "id": "0f5c023e-246d-4b74-9816-850e22f87f2d",
   "metadata": {},
   "outputs": [],
   "source": [
    "df"
   ]
  },
  {
   "cell_type": "code",
   "execution_count": null,
   "id": "f92f540f-eab1-4ceb-ad9e-007bbd75eb27",
   "metadata": {},
   "outputs": [],
   "source": [
    "d['nclasses'].dtype"
   ]
  },
  {
   "cell_type": "code",
   "execution_count": null,
   "id": "25ccb7ee-8477-435b-9d99-9ede5db1abda",
   "metadata": {},
   "outputs": [],
   "source": []
  }
 ],
 "metadata": {
  "kernelspec": {
   "display_name": "Python 3 (ipykernel)",
   "language": "python",
   "name": "python3"
  },
  "language_info": {
   "codemirror_mode": {
    "name": "ipython",
    "version": 3
   },
   "file_extension": ".py",
   "mimetype": "text/x-python",
   "name": "python",
   "nbconvert_exporter": "python",
   "pygments_lexer": "ipython3",
   "version": "3.10.12"
  }
 },
 "nbformat": 4,
 "nbformat_minor": 5
}
