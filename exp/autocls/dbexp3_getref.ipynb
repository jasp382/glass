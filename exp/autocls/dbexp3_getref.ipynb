{
 "cells": [
  {
   "cell_type": "code",
   "execution_count": 1,
   "id": "90b1b56e-eab9-4ecc-bc72-09f2b6c8bfc9",
   "metadata": {},
   "outputs": [],
   "source": [
    "outshp = '/mnt/d/autocls_e3/classref/refexp33_vec.shp'\n",
    "outrst = '/mnt/d/autocls_e3/classref/refexp33_rst.tif'\n",
    "\n",
    "refrst = '/mnt/d/autocls_e3/stdlmt/stdrst_valeflores.tif'\n",
    "\n",
    "expname = 'exp33'\n",
    "\n",
    "db = 'gthruth_valeflores_v3'"
   ]
  },
  {
   "cell_type": "code",
   "execution_count": 2,
   "id": "55765800-73c1-4779-bcd7-3969aa6fccf8",
   "metadata": {},
   "outputs": [],
   "source": [
    "from glass.it.shp import dbtbl_to_shp\n",
    "from glass.prop.prj import get_epsg\n",
    "from glass.dtt.rst.torst import shp_to_rst"
   ]
  },
  {
   "cell_type": "code",
   "execution_count": 3,
   "id": "0945dfdf-8af9-4234-828e-31b4987af1bb",
   "metadata": {},
   "outputs": [],
   "source": [
    "epsg = get_epsg(refrst)"
   ]
  },
  {
   "cell_type": "code",
   "execution_count": 4,
   "id": "6efb872b-45ff-49ee-ba4c-11255e36aebd",
   "metadata": {},
   "outputs": [
    {
     "data": {
      "text/plain": [
       "'/mnt/d/autocls_e3/classref/refexp33_vec.shp'"
      ]
     },
     "execution_count": 4,
     "metadata": {},
     "output_type": "execute_result"
    }
   ],
   "source": [
    "# Reference to SHAPE\n",
    "\n",
    "q = (\n",
    "    \"SELECT jtbl.*, mtbl.geom \"\n",
    "    \"FROM gthruth_fishnet AS mtbl \"\n",
    "    \"LEFT JOIN (\"\n",
    "    \t\"SELECT mm.pxid, jj.* \"\n",
    "    \t\"FROM pxexpclasses AS mm \"\n",
    "    \t\"INNER JOIN (\"\n",
    "    \t\t\"SELECT mj.expclsid, mj.codeval, mj.nameval, \"\n",
    "    \t\t\"jt.slug AS expslug \"\n",
    "    \t\t\"FROM expclasses AS mj \"\n",
    "    \t\t\"INNER JOIN experiments AS jt \"\n",
    "    \t\t\"ON mj.expfk = jt.eid \"\n",
    "            f\"WHERE jt.slug = '{expname}'\"\n",
    "    \t\") AS jj \"\n",
    "    \t\"ON mm.eclsid = jj.expclsid\"\n",
    "    \") AS jtbl \"\n",
    "    \"ON mtbl.cid = jtbl.pxid \"\n",
    "    \"WHERE mtbl.level = 1\"\n",
    ")\n",
    "\n",
    "dbtbl_to_shp(\n",
    "    db, q, \"geom\", outshp,\n",
    "    tableIsQuery=True, epsg=epsg\n",
    ")"
   ]
  },
  {
   "cell_type": "code",
   "execution_count": 5,
   "id": "11c568d8-e767-45d1-b694-002939c2f118",
   "metadata": {},
   "outputs": [
    {
     "data": {
      "text/plain": [
       "'/mnt/d/autocls_e3/classref/refexp33_rst.tif'"
      ]
     },
     "execution_count": 5,
     "metadata": {},
     "output_type": "execute_result"
    }
   ],
   "source": [
    "# Train to raster\n",
    "shp_to_rst(\n",
    "    outshp, 'codeval', None, 0,\n",
    "    outrst, rst_template=refrst,\n",
    "    api='gdal', rtype=int, dtype='UInt16'\n",
    ")"
   ]
  }
 ],
 "metadata": {
  "kernelspec": {
   "display_name": "Python 3 (ipykernel)",
   "language": "python",
   "name": "python3"
  },
  "language_info": {
   "codemirror_mode": {
    "name": "ipython",
    "version": 3
   },
   "file_extension": ".py",
   "mimetype": "text/x-python",
   "name": "python",
   "nbconvert_exporter": "python",
   "pygments_lexer": "ipython3",
   "version": "3.10.12"
  }
 },
 "nbformat": 4,
 "nbformat_minor": 5
}
