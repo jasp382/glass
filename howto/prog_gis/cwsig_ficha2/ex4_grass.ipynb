{
 "cells": [
  {
   "cell_type": "markdown",
   "id": "93b90493-e5e4-4189-a924-69b27baea411",
   "metadata": {},
   "source": [
    "## Exercise  4  |  data  in  f2ex4  |  Reclassify  the  exposicao.tif  raster  so  that  the  values  have  the \n",
    "following meanings: \n",
    "1 – Flat; 2 – North; 3 – Northeast; 4 – East; 5 – Southeast; 6 – South; 7 – Southwest; 8 – \n",
    "West; 9 – Northwest"
   ]
  },
  {
   "cell_type": "code",
   "execution_count": null,
   "id": "f33ec637-3fa0-47f8-a2ff-a87f2944672f",
   "metadata": {},
   "outputs": [],
   "source": [
    "rules = {\n",
    "    (-1, 0) : 1,\n",
    "    (0, 23) : 2,\n",
    "    (23, 68) : 3,\n",
    "    (68, 113) : 4,\n",
    "    (113, 158) : 5,\n",
    "    (158, 203) : 6,\n",
    "    (203, 248) : 7,\n",
    "    (248, 293) : 8,\n",
    "    (293, 338) : 9,\n",
    "    (338, 360) : 2\n",
    "}\n",
    "\n",
    "aspect = '/mnt/d/cwsig/exercicios_2023_24/f2ex4/exposicao.tif'\n",
    "\n",
    "orst = '/mnt/d/cwsig/exercicios_2023_24/f2ex4/exporcls.tif'"
   ]
  },
  {
   "cell_type": "code",
   "execution_count": null,
   "id": "a7f4220d-1ab4-4557-b725-6b5e9d6442da",
   "metadata": {},
   "outputs": [],
   "source": [
    "from glass.rst.rcls import rcls_rst\n",
    "\n",
    "rcls_rst(aspect, rules, orst, api='grass')"
   ]
  }
 ],
 "metadata": {
  "kernelspec": {
   "display_name": "Python 3 (ipykernel)",
   "language": "python",
   "name": "python3"
  },
  "language_info": {
   "codemirror_mode": {
    "name": "ipython",
    "version": 3
   },
   "file_extension": ".py",
   "mimetype": "text/x-python",
   "name": "python",
   "nbconvert_exporter": "python",
   "pygments_lexer": "ipython3",
   "version": "3.10.12"
  }
 },
 "nbformat": 4,
 "nbformat_minor": 5
}
