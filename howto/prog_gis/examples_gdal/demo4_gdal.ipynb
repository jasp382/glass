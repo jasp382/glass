{
 "cells": [
  {
   "cell_type": "markdown",
   "id": "4cfbcfec-e52f-452d-87a7-8d6317667616",
   "metadata": {},
   "source": [
    "### Select by attributes - Filter data ESRI Shapefile by attributes"
   ]
  },
  {
   "cell_type": "code",
   "execution_count": null,
   "id": "0f98bf1b-94ef-4d7c-951f-64b39344e29f",
   "metadata": {},
   "outputs": [],
   "source": [
    "inshp = '/mnt/x/pwgis/code24data/demo4gdal/freguesias.shp'\n",
    "\n",
    "col = \"Concelho\"\n",
    "\n",
    "values = [\"Coimbra\", \"Lisboa\", \"Porto\"]\n",
    "\n",
    "oushp = '/mnt/x/pwgis/code24data/results/demo4gdal.shp'"
   ]
  },
  {
   "cell_type": "code",
   "execution_count": null,
   "id": "f0e6b74b-6a8b-4289-8533-593ea1c9c50e",
   "metadata": {},
   "outputs": [],
   "source": [
    "import os"
   ]
  },
  {
   "cell_type": "code",
   "execution_count": null,
   "id": "a449d763-1b03-4260-93f0-affb25f2367e",
   "metadata": {},
   "outputs": [],
   "source": [
    "def execmd(cmd):\n",
    "    \"\"\"\n",
    "    Execute a command and provide information about the results\n",
    "    \"\"\"\n",
    "    import subprocess\n",
    "    \n",
    "    p = subprocess.Popen(cmd, shell=True,\n",
    "                         stdout=subprocess.PIPE, stderr=subprocess.PIPE)\n",
    "    \n",
    "    out, err = p.communicate()\n",
    "    \n",
    "    if p.returncode != 0:\n",
    "        print(cmd)\n",
    "        raise ValueError((\n",
    "            'Message: Command execution ended with error\\n'\n",
    "            'Command was: {cmd}\\n'\n",
    "            'Output: {o}\\n'\n",
    "            'Error: {e}'\n",
    "        ).format(\n",
    "            cmd=cmd, o=out.decode('utf-8'), e=err.decode('utf-8')\n",
    "        ))\n",
    "    \n",
    "    else:\n",
    "        return out.decode('utf-8')"
   ]
  },
  {
   "cell_type": "code",
   "execution_count": null,
   "id": "f8ec6a47-957a-4ef0-9b32-725fb0b45ea6",
   "metadata": {},
   "outputs": [],
   "source": [
    "\"\"\"\n",
    "GDAL Drivers Name\n",
    "\"\"\"\n",
    "\n",
    "def drv_name(_file):\n",
    "    \"\"\"\n",
    "    Return the driver for a given file format\n",
    "    \"\"\"\n",
    "    \n",
    "    drv = {\n",
    "        # Vector files\n",
    "        '.gml'    : 'GML',\n",
    "        '.shp'    : 'ESRI Shapefile',\n",
    "        '.json'   : 'GeoJSON',\n",
    "        '.kml'    : 'KML',\n",
    "        '.osm'    : 'OSM',\n",
    "        '.dbf'    : 'ESRI Shapefile',\n",
    "        '.vct'    : 'Idrisi',\n",
    "        '.nc'     : 'netCDF',\n",
    "        '.vrt'    : 'VRT',\n",
    "        '.mem'    : 'MEMORY',\n",
    "        '.sqlite' : 'SQLite',\n",
    "        '.gdb'    : 'FileGDB',\n",
    "        # Raster files\n",
    "        '.tif'    : 'GTiff',\n",
    "        '.ecw'    : 'ECW',\n",
    "        '.mpr'    : 'ILWIS',\n",
    "        '.mpl'    : 'ILWIS',\n",
    "        '.jpg'    : 'JPEG',\n",
    "        '.nc'     : 'netCDF',\n",
    "        '.png'    : 'PNG',\n",
    "        '.vrt'    : 'VRT',\n",
    "        '.asc'    : 'AAIGrid',\n",
    "        '.img'    : 'HFA',\n",
    "        # Vector or Raster\n",
    "        '.gpkg'   : 'GPKG'\n",
    "    }\n",
    "    \n",
    "    return str(drv[os.path.splitext(_file)[1]])"
   ]
  },
  {
   "cell_type": "code",
   "execution_count": null,
   "id": "02b07ff2-ac89-4759-8c8a-1262ca6c4120",
   "metadata": {},
   "outputs": [],
   "source": [
    "def geofilter(inshp, col, whr, out):\n",
    "    \n",
    "    tbl, ff = os.path.splitext(os.path.basename(inshp))\n",
    "    \n",
    "    where = \" OR \".join([f\"\\\"{col}\\\"='{v}'\" for v in values])\n",
    "    print(where)\n",
    "    \n",
    "    outDrv = drv_name(out)\n",
    "    cmd = f'ogr2ogr -of \"{outDrv}\" -where \"{where}\" {out} {inshp} {tbl}'\n",
    "    print(cmd)\n",
    "    \n",
    "    cmdout = execmd(cmd)\n",
    "    \n",
    "    return out"
   ]
  },
  {
   "cell_type": "code",
   "execution_count": null,
   "id": "71f2f47e-8d2b-4d0c-9bee-6647453a5e3a",
   "metadata": {},
   "outputs": [],
   "source": [
    "values = [\"Coimbra\", \"Lisboa\", \"Porto\"]\n",
    "nv = []\n",
    "\n",
    "for v in values:\n",
    "    ns = f\"\\\"{col}\\\"='{v}'\"\n",
    "    \n",
    "    nv.append(ns)\n",
    "\n",
    "print(nv)"
   ]
  },
  {
   "cell_type": "code",
   "execution_count": null,
   "id": "a9758118-5aa7-4c45-a51b-6afc5216c7b5",
   "metadata": {},
   "outputs": [],
   "source": [
    "geofilter(inshp, col, values, oushp)"
   ]
  },
  {
   "cell_type": "code",
   "execution_count": null,
   "id": "b640a4c4-4730-4b50-860c-1d1914a9029a",
   "metadata": {},
   "outputs": [],
   "source": [
    "print(\"\\\"teste\\\"\")"
   ]
  },
  {
   "cell_type": "code",
   "execution_count": null,
   "id": "5bb45bab-40a3-4110-8e44-7f30cb78439a",
   "metadata": {},
   "outputs": [],
   "source": []
  }
 ],
 "metadata": {
  "kernelspec": {
   "display_name": "Python 3 (ipykernel)",
   "language": "python",
   "name": "python3"
  },
  "language_info": {
   "codemirror_mode": {
    "name": "ipython",
    "version": 3
   },
   "file_extension": ".py",
   "mimetype": "text/x-python",
   "name": "python",
   "nbconvert_exporter": "python",
   "pygments_lexer": "ipython3",
   "version": "3.10.12"
  }
 },
 "nbformat": 4,
 "nbformat_minor": 5
}
